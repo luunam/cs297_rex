{
 "cells": [
  {
   "cell_type": "code",
   "metadata": {
    "tags": [],
    "cell_id": "00000-ae22767d-7e15-42c8-9f97-058aca89e45b",
    "deepnote_to_be_reexecuted": false,
    "source_hash": "eacc2422",
    "execution_start": 1619562346301,
    "execution_millis": 2005,
    "deepnote_cell_type": "code"
   },
   "source": "import pickle\nimport numpy as np\nimport xgboost as xgb\nfrom xgboost import XGBClassifier",
   "execution_count": null,
   "outputs": []
  },
  {
   "cell_type": "code",
   "metadata": {
    "tags": [],
    "cell_id": "00001-66bf0989-4289-4327-bf28-d5aef0ce082b",
    "deepnote_to_be_reexecuted": false,
    "source_hash": "2d52aac3",
    "execution_start": 1619561829457,
    "execution_millis": 20,
    "deepnote_cell_type": "code"
   },
   "source": "with open('../data/submarket_xgb.pickle', 'rb') as handle:\n    data = pickle.load(handle)",
   "execution_count": null,
   "outputs": []
  },
  {
   "cell_type": "code",
   "metadata": {
    "tags": [],
    "cell_id": "00002-65dfaa7d-f5fa-463d-959a-54deb38d4986",
    "deepnote_to_be_reexecuted": false,
    "source_hash": "d38b4310",
    "execution_start": 1619563566202,
    "execution_millis": 0,
    "deepnote_cell_type": "code"
   },
   "source": "X, y, submarket = data['X'], data['y'], data['submarket']\nfeatures = ['18-59',\n            'built 1995 or later',\n            'mobile_home_pct',\n            'annual_births_per_resident',\n            'luxury_communities_score',\n            'property_crime_rate',\n            'small_apt_buildings_pct',\n            'standardized_test_score_percentile\t',\n            'OTHER',\n            'CONDO',\n            'MULTI_FAMILY',\n            'mean_household_income',\n            'farm_score',\n            'bathfull',\n            'bedrooms']",
   "execution_count": null,
   "outputs": []
  },
  {
   "cell_type": "code",
   "metadata": {
    "tags": [],
    "cell_id": "00003-31526ba4-d6ad-4196-b018-0c96af1f332e",
    "deepnote_to_be_reexecuted": false,
    "source_hash": "5b63c74b",
    "execution_start": 1619563588535,
    "execution_millis": 2,
    "deepnote_cell_type": "code"
   },
   "source": "def submarket_em(sub,K):\n\n    for k in range(K):\n        \n        X_k = X[sub == k][:,[i for i in range(X.shape[1]) if i not in [8,9]]]\n        y_k = y[sub == k]\n        \n        model_k = XGBClassifier(eval_metric='logloss').fit(X_k, y_k)\n\n        feat_k = [(i,imp) for i,imp in enumerate(model_k.feature_importances_)]\n        feat_k.sort(key=lambda x: -x[1]) \n\n        print(\"Sub-Market #{}\".format(k+1))\n        for feat in feat_k:\n            print(\"{} Importance: {:.6f}\".format(features[feat[0]],feat[1]))\n        print('')",
   "execution_count": null,
   "outputs": []
  },
  {
   "cell_type": "code",
   "metadata": {
    "tags": [],
    "cell_id": "00004-524bb297-6153-4ffb-9be2-3a877a02e52a",
    "deepnote_to_be_reexecuted": false,
    "source_hash": "76c401bc",
    "execution_start": 1619563590090,
    "execution_millis": 6176,
    "deepnote_cell_type": "code"
   },
   "source": "submarket_em(submarket,7)",
   "execution_count": null,
   "outputs": [
    {
     "name": "stderr",
     "text": "/root/venv/lib/python3.7/site-packages/xgboost/sklearn.py:1146: UserWarning: The use of label encoder in XGBClassifier is deprecated and will be removed in a future release. To remove this warning, do the following: 1) Pass option use_label_encoder=False when constructing XGBClassifier object; and 2) Encode your labels (y) as integers starting with 0, i.e. 0, 1, 2, ..., [num_class - 1].\n  warnings.warn(label_encoder_deprecation_msg, UserWarning)\nSub-Market #1\nMULTI_FAMILY Importance: 0.333291\nluxury_communities_score Importance: 0.067961\nbathfull Importance: 0.065705\nmean_household_income Importance: 0.060339\nbuilt 1995 or later Importance: 0.058149\nproperty_crime_rate Importance: 0.052296\nbedrooms Importance: 0.047427\nOTHER Importance: 0.046229\nCONDO Importance: 0.045073\nstandardized_test_score_percentile\t Importance: 0.044535\nfarm_score Importance: 0.040569\nannual_births_per_resident Importance: 0.038551\nmobile_home_pct Importance: 0.036325\nsmall_apt_buildings_pct Importance: 0.034646\n18-59 Importance: 0.028902\n\nSub-Market #2\nMULTI_FAMILY Importance: 0.368264\nOTHER Importance: 0.336835\n18-59 Importance: 0.190475\nbathfull Importance: 0.053781\nbedrooms Importance: 0.037723\nCONDO Importance: 0.012923\nbuilt 1995 or later Importance: 0.000000\nmobile_home_pct Importance: 0.000000\nannual_births_per_resident Importance: 0.000000\nluxury_communities_score Importance: 0.000000\nproperty_crime_rate Importance: 0.000000\nsmall_apt_buildings_pct Importance: 0.000000\nstandardized_test_score_percentile\t Importance: 0.000000\nmean_household_income Importance: 0.000000\nfarm_score Importance: 0.000000\n\nSub-Market #3\nbuilt 1995 or later Importance: 0.839021\nbathfull Importance: 0.060314\nbedrooms Importance: 0.039193\n18-59 Importance: 0.034962\nCONDO Importance: 0.026510\nmobile_home_pct Importance: 0.000000\nannual_births_per_resident Importance: 0.000000\nluxury_communities_score Importance: 0.000000\nproperty_crime_rate Importance: 0.000000\nsmall_apt_buildings_pct Importance: 0.000000\nstandardized_test_score_percentile\t Importance: 0.000000\nOTHER Importance: 0.000000\nMULTI_FAMILY Importance: 0.000000\nmean_household_income Importance: 0.000000\nfarm_score Importance: 0.000000\n\nSub-Market #4\nproperty_crime_rate Importance: 0.255936\nbathfull Importance: 0.135391\nmobile_home_pct Importance: 0.131605\nannual_births_per_resident Importance: 0.130972\nbuilt 1995 or later Importance: 0.083145\nbedrooms Importance: 0.077605\n18-59 Importance: 0.062357\nluxury_communities_score Importance: 0.053854\nCONDO Importance: 0.040280\nsmall_apt_buildings_pct Importance: 0.025201\nstandardized_test_score_percentile\t Importance: 0.003656\nOTHER Importance: 0.000000\nMULTI_FAMILY Importance: 0.000000\nmean_household_income Importance: 0.000000\nfarm_score Importance: 0.000000\n\nSub-Market #5\nMULTI_FAMILY Importance: 0.162706\nbathfull Importance: 0.084912\nsmall_apt_buildings_pct Importance: 0.077891\nfarm_score Importance: 0.077831\nbuilt 1995 or later Importance: 0.074044\nstandardized_test_score_percentile\t Importance: 0.072167\nmobile_home_pct Importance: 0.063493\nCONDO Importance: 0.061815\nluxury_communities_score Importance: 0.058210\nannual_births_per_resident Importance: 0.056520\nproperty_crime_rate Importance: 0.054892\n18-59 Importance: 0.047941\nbedrooms Importance: 0.046370\nmean_household_income Importance: 0.044316\nOTHER Importance: 0.016892\n\nSub-Market #6\nMULTI_FAMILY Importance: 0.159637\nbathfull Importance: 0.102229\nCONDO Importance: 0.088773\nstandardized_test_score_percentile\t Importance: 0.083126\nbuilt 1995 or later Importance: 0.068490\nproperty_crime_rate Importance: 0.059143\nsmall_apt_buildings_pct Importance: 0.058022\nluxury_communities_score Importance: 0.057582\nbedrooms Importance: 0.056187\nmean_household_income Importance: 0.053802\nannual_births_per_resident Importance: 0.053138\nmobile_home_pct Importance: 0.052306\nOTHER Importance: 0.047297\n18-59 Importance: 0.041447\nfarm_score Importance: 0.018820\n\nSub-Market #7\nluxury_communities_score Importance: 0.155016\nbathfull Importance: 0.140867\nsmall_apt_buildings_pct Importance: 0.096844\nproperty_crime_rate Importance: 0.093928\nbuilt 1995 or later Importance: 0.082379\n18-59 Importance: 0.066517\nbedrooms Importance: 0.064123\nCONDO Importance: 0.063136\nannual_births_per_resident Importance: 0.050084\nMULTI_FAMILY Importance: 0.047260\nstandardized_test_score_percentile\t Importance: 0.046676\nmobile_home_pct Importance: 0.045006\nmean_household_income Importance: 0.042427\nfarm_score Importance: 0.005737\nOTHER Importance: 0.000000\n\n",
     "output_type": "stream"
    }
   ]
  },
  {
   "cell_type": "markdown",
   "source": "<a style='text-decoration:none;line-height:16px;display:flex;color:#5B5B62;padding:10px;justify-content:end;' href='https://deepnote.com?utm_source=created-in-deepnote-cell&projectId=1c850c61-d934-4c85-b16d-3cb283df0c84' target=\"_blank\">\n<img alt='Created in deepnote.com' style='display:inline;max-height:16px;margin:0px;margin-right:7.5px;' src='data:image/svg+xml;base64,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' > </img>\nCreated in <span style='font-weight:600;margin-left:4px;'>Deepnote</span></a>",
   "metadata": {
    "tags": [],
    "created_in_deepnote_cell": true,
    "deepnote_cell_type": "markdown"
   }
  }
 ],
 "nbformat": 4,
 "nbformat_minor": 2,
 "metadata": {
  "orig_nbformat": 2,
  "deepnote": {
   "is_reactive": false
  },
  "deepnote_notebook_id": "4e527ddd-4a6f-418e-9388-77ef6b2785d8",
  "deepnote_execution_queue": []
 }
}