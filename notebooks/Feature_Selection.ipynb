{
  "cells": [
    {
      "cell_type": "code",
      "metadata": {
        "tags": [],
        "cell_id": "00000-16c1fe63-58fd-46d3-8438-5cb0273bb9f3",
        "deepnote_to_be_reexecuted": false,
        "source_hash": "66dad6e9",
        "execution_millis": 3850,
        "execution_start": 1618841741308,
        "deepnote_cell_type": "code"
      },
      "source": "#required packages\nimport numpy as np\nimport pandas as pd\nimport matplotlib.pyplot as plt\nimport pymc3 as pm\nimport chardet\nimport datetime\n\nimport seaborn as sns\n\nfrom sklearn.feature_selection import VarianceThreshold\n\ncolor = sns.color_palette()\n\n%matplotlib inline",
      "execution_count": null,
      "outputs": [
        {
          "name": "stderr",
          "text": "WARNING (theano.tensor.blas): Using NumPy C-API based implementation for BLAS functions.\n",
          "output_type": "stream"
        }
      ]
    },
    {
      "cell_type": "code",
      "metadata": {
        "tags": [],
        "cell_id": "00001-ad489f2f-a47f-430a-9b80-398ec6ed4676",
        "deepnote_to_be_reexecuted": false,
        "source_hash": "57cccc1e",
        "execution_millis": 53,
        "execution_start": 1618841745159,
        "deepnote_cell_type": "code"
      },
      "source": "census_tract_df = pd.read_csv('../data/denver_census_tract_data.csv')\n# Remove null columns\nnum_census = census_tract_df.shape[0]\ncensus_tract_df = census_tract_df.dropna(axis=1, thresh=int(num_census*0.9))",
      "execution_count": null,
      "outputs": []
    },
    {
      "cell_type": "code",
      "metadata": {
        "tags": [],
        "cell_id": "00002-332ca2ce-cc5b-4af0-ad95-ac6deb5c0425",
        "deepnote_to_be_reexecuted": false,
        "source_hash": "fd0bab54",
        "execution_millis": 194,
        "execution_start": 1618841745212,
        "deepnote_cell_type": "code"
      },
      "source": "# Remove low variance columns\nselector = VarianceThreshold(threshold=0.1)\nselector.fit_transform(census_tract_df)",
      "execution_count": null,
      "outputs": [
        {
          "output_type": "execute_result",
          "execution_count": 3,
          "data": {
            "text/plain": "array([[8.0010078e+09, 1.3160000e+03, 6.0248840e+00, ..., 2.2800000e+01,\n        4.3500000e+01, 1.7300000e+05],\n       [8.0010078e+09, 1.2390000e+03, 9.1875870e+00, ..., 1.6100000e+01,\n        4.9800000e+01, 2.5660000e+05],\n       [8.0010079e+09, 1.4820000e+03, 1.0041348e+01, ..., 1.4900000e+01,\n        4.6500000e+01, 1.7400000e+05],\n       ...,\n       [8.1230023e+09, 1.3490000e+03, 4.5391860e+00, ..., 1.4400000e+01,\n        2.4300000e+01, 2.6860000e+05],\n       [8.1230025e+09, 1.1840000e+03, 4.3252440e+00, ..., 1.4200000e+01,\n        2.1300000e+01, 2.8960000e+05],\n       [8.1230025e+09, 1.5380000e+03, 5.2797940e+00, ..., 1.5800000e+01,\n        2.4500000e+01, 2.9260000e+05]])"
          },
          "metadata": {}
        }
      ]
    },
    {
      "cell_type": "code",
      "metadata": {
        "tags": [],
        "cell_id": "00003-6d4a8e4b-9730-4ec3-9a7e-c2f6224b5c33",
        "deepnote_to_be_reexecuted": false,
        "source_hash": "36d80882",
        "execution_millis": 179,
        "execution_start": 1618841745227,
        "deepnote_cell_type": "code"
      },
      "source": "print(len(census_tract_df.columns))",
      "execution_count": null,
      "outputs": [
        {
          "name": "stdout",
          "text": "112\n",
          "output_type": "stream"
        }
      ]
    },
    {
      "cell_type": "code",
      "metadata": {
        "tags": [],
        "cell_id": "00004-a3f163c3-ed23-4be3-b709-dc2e601e9eca",
        "deepnote_to_be_reexecuted": false,
        "source_hash": "dcf8161",
        "execution_millis": 167,
        "execution_start": 1618841745251,
        "deepnote_cell_type": "code"
      },
      "source": "census_tract_df['built 1995 or later']",
      "execution_count": null,
      "outputs": [
        {
          "output_type": "execute_result",
          "execution_count": 5,
          "data": {
            "text/plain": "0      13.033873\n1       1.555412\n2       2.570440\n3       0.767123\n4      86.148238\n         ...    \n750    40.666667\n751    55.253283\n752    22.450889\n753    29.472735\n754    31.200665\nName: built 1995 or later, Length: 755, dtype: float64"
          },
          "metadata": {}
        }
      ]
    },
    {
      "cell_type": "code",
      "metadata": {
        "tags": [],
        "cell_id": "00005-99bb7a11-491f-4d42-b76a-079fbec30d00",
        "deepnote_to_be_reexecuted": false,
        "source_hash": "f2f4230a",
        "execution_millis": 139,
        "execution_start": 1618841745279,
        "deepnote_cell_type": "code"
      },
      "source": "census_tract_df['national_percentile_total_achievement_sd'].describe()",
      "execution_count": null,
      "outputs": [
        {
          "output_type": "execute_result",
          "execution_count": 6,
          "data": {
            "text/plain": "count    755.000000\nmean      67.356695\nstd       22.703895\nmin       10.835699\n25%       53.547777\n50%       81.103753\n75%       83.524124\nmax       93.396405\nName: national_percentile_total_achievement_sd, dtype: float64"
          },
          "metadata": {}
        }
      ]
    },
    {
      "cell_type": "code",
      "metadata": {
        "tags": [],
        "cell_id": "00006-198cd780-280a-475e-9aca-a6e8b3a4ea16",
        "deepnote_to_be_reexecuted": false,
        "source_hash": "a52b1a55",
        "execution_millis": 219,
        "execution_start": 1618841745281,
        "deepnote_cell_type": "code"
      },
      "source": "sns.histplot(census_tract_df['national_percentile_total_achievement_sd'])",
      "execution_count": null,
      "outputs": [
        {
          "output_type": "execute_result",
          "execution_count": 7,
          "data": {
            "text/plain": "<AxesSubplot:xlabel='national_percentile_total_achievement_sd', ylabel='Count'>"
          },
          "metadata": {}
        },
        {
          "data": {
            "text/plain": "<Figure size 432x288 with 1 Axes>",
            "image/png": "[encoded data removed]"
          },
          "metadata": {
            "needs_background": "light"
          },
          "output_type": "display_data"
        }
      ]
    },
    {
      "cell_type": "code",
      "metadata": {
        "tags": [],
        "cell_id": "00007-0bf65d98-8497-4b40-a3cf-f64bab14abf8",
        "deepnote_to_be_reexecuted": false,
        "source_hash": "6e4e0521",
        "execution_millis": 216,
        "execution_start": 1618841745490,
        "deepnote_cell_type": "code"
      },
      "source": "sns.histplot(census_tract_df['national_percentile_total_achievement_sc'])",
      "execution_count": null,
      "outputs": [
        {
          "output_type": "execute_result",
          "execution_count": 8,
          "data": {
            "text/plain": "<AxesSubplot:xlabel='national_percentile_total_achievement_sc', ylabel='Count'>"
          },
          "metadata": {}
        },
        {
          "data": {
            "text/plain": "<Figure size 432x288 with 1 Axes>",
            "image/png": "[encoded data removed]"
          },
          "metadata": {
            "needs_background": "light"
          },
          "output_type": "display_data"
        }
      ]
    },
    {
      "cell_type": "code",
      "metadata": {
        "tags": [],
        "cell_id": "00006-a057091a-c535-48ba-b66b-fac65a16a01e",
        "deepnote_to_be_reexecuted": false,
        "source_hash": "6ed1c1a1",
        "execution_millis": 46,
        "execution_start": 1618841745708,
        "deepnote_cell_type": "code"
      },
      "source": "census_tract_df['census_population'].describe()",
      "execution_count": null,
      "outputs": [
        {
          "output_type": "execute_result",
          "execution_count": 9,
          "data": {
            "text/plain": "count      755.000000\nmean      4695.504636\nstd       1939.577669\nmin        779.000000\n25%       3381.000000\n50%       4469.000000\n75%       5694.500000\nmax      16569.000000\nName: census_population, dtype: float64"
          },
          "metadata": {}
        }
      ]
    },
    {
      "cell_type": "code",
      "metadata": {
        "tags": [],
        "cell_id": "00002-4e299708-f267-44d2-8935-2cdc3d3abc9f",
        "deepnote_to_be_reexecuted": false,
        "source_hash": "739cc74b",
        "execution_millis": 45,
        "execution_start": 1618841745709,
        "deepnote_cell_type": "code"
      },
      "source": "for feature in census_tract_df:\n    print(feature)",
      "execution_count": null,
      "outputs": [
        {
          "name": "stdout",
          "text": "ct_key\nmedian_rental_price\naverage_annual_rent_as_percentage_of_property_value\nfarm_score\npop_density\ndensely_urban_score\nurban_score\nsuburban_score\nrural_score\nremote_score\nbuilt 1995 or later\nbuilt 1970-1994\nbuilt 1940-1969\nbuilt before 1940\nsingle_family_detached_pct\nrowhouses_and_attached_homes_pct\nsmall_apt_buildings_pct\ncomplexes/high_rise_apt_pct\nmobile_home_pct\n0_bedroom_pct\n1_bedroom_pct\n2_bedroom_pct\n3_bedroom_pct\n4_bedroom_pct\n5_bedroom_pct\nhomeownership_rate\nrental_rate\nseasonal_housing_pct\nvacant_homes_pct\nfamily_friendly_score\nfirst_time_homebuyer_score\nluxury_communities_score\nretirement_friendly_score\nyoung_single_professional_score\ncollege_student_friendly_score\ncommute_under_15_min_pct\ncommute_15-30_min_pct\ncommute_30-45_min_pct\ncommute_45-60_min_pct\ncommute_over_60_min_pct\nviolent_crime_rate\nproperty_crime_rate\nstandardized_test_score_percentile\npct_pop_at_least_college_degree\nchildren_poverty_pct\nstudent_to_teacher_ratio_sd\nstate_index_total_achievement_sd\nnational_index_total_achievement_sd\nnational_percentile_total_achievement_sd\nstate_percentile_total_achievement_sd\naverage_number_of_students_per_school_sd\nnumber_of_students_sc\nstudent_to_teacher_ratio_sc\nstate_index_total_achievement_sc\nnational_index_total_achievement_sc\nnational_percentile_total_achievement_sc\nstate_percentile_total_achievement_sc\ncensus_population\n<18\n18-24\n25-34\n35-49\n50-59\n60-64\n65-74\n75+\nHispanic\nWhite\nBlack\nAsian\nlinear_pop_trend_since_2010\navg_annual_pop_change_since_2010\nlinear_pop_trend_since_2014\navg_annual_pop_change_since_2014\nannual_births_per_resident\nworkforce_fraction\ncar\ncarpool\npublic_transportation\nwalk\nWFH\nother_mode_of_transit\nmedian_household_income\nmedian_family_income\nmedian_nonfamily_income\nmean_household_income\nmean_family_income\nmean_nonfamily_income\nfamily_households_fraction\nnonfamily_households_fraction\nSTEM_jobs\neducation&health_care\ntotal_households\navg_family_size\navg_nonfamily_size\navg_household_size\n<200k\n200-300k\n300-400k\n400-500k\n500-750k\n750-1000k\n>1M\nmarried\ndivorced/separated/widowed\nnever_married\npercent_mortgage\nmedian_mortgage_value\nvacancy_rate\nbuilt 2014 or later\nbuilt 2010-2013\nbuilt 2000-2009\n",
          "output_type": "stream"
        }
      ]
    },
    {
      "cell_type": "code",
      "metadata": {
        "tags": [],
        "cell_id": "00003-910b45df-7fdb-4bd0-960c-9bafb3a534f5",
        "deepnote_to_be_reexecuted": false,
        "source_hash": "fbca26bf",
        "execution_millis": 2,
        "execution_start": 1618841745710,
        "deepnote_cell_type": "code"
      },
      "source": "features_chosen = ['ct_key', 'median_rental_price',\n'average_annual_rent_as_percentage_of_property_value',\n'farm_score','pop_density','urban_score','rural_score','built 1995 or later',\n'built 1970-1994','built 1940-1969','built before 1940',\n'single_family_detached_pct',\n'rowhouses_and_attached_homes_pct','small_apt_buildings_pct',\n'complexes/high_rise_apt_pct','mobile_home_pct', 'rental_rate',\n'seasonal_housing_pct','vacant_homes_pct',\n'family_friendly_score','first_time_homebuyer_score','luxury_communities_score',\n'retirement_friendly_score','young_single_professional_score',\n'college_student_friendly_score','property_crime_rate',\n'standardized_test_score_percentile','pct_pop_at_least_college_degree',\n'children_poverty_pct', \n'Hispanic', 'White', 'Black', 'Asian', 'annual_births_per_resident',\n'workforce_fraction','public_transportation', 'mean_household_income',\n'avg_household_size',\n'percent_mortgage',\n'built 2014 or later',\n'built 2010-2013',\n'built 2000-2009', '<18']\n\n#commute scores compile together in some way\n#ask on slack difference between sc & sd\n#combine age ranges\n#for racial groups\n#we dropped changing population size per ct which may be useful for future",
      "execution_count": null,
      "outputs": []
    },
    {
      "cell_type": "code",
      "metadata": {
        "tags": [],
        "cell_id": "00011-849b8b56-85b2-4c33-8365-d37a7771d439",
        "deepnote_to_be_reexecuted": false,
        "source_hash": "26ec3c00",
        "execution_millis": 0,
        "execution_start": 1618841745713,
        "deepnote_cell_type": "code"
      },
      "source": "X = census_tract_df[features_chosen].copy()",
      "execution_count": null,
      "outputs": []
    },
    {
      "cell_type": "code",
      "metadata": {
        "tags": [],
        "cell_id": "00012-ef1a7b01-d039-4267-adca-5c2c3b85d6a3",
        "deepnote_to_be_reexecuted": false,
        "source_hash": "2d290ccb",
        "execution_millis": 0,
        "execution_start": 1618841745716,
        "deepnote_cell_type": "code"
      },
      "source": "X['commute_under_30'] = census_tract_df['commute_under_15_min_pct'] + census_tract_df['commute_15-30_min_pct']\nX['18-59'] = census_tract_df['18-24'] + census_tract_df['25-34'] + census_tract_df['35-49'] + census_tract_df['50-59']",
      "execution_count": null,
      "outputs": []
    },
    {
      "cell_type": "code",
      "metadata": {
        "tags": [],
        "cell_id": "00013-061dfc04-8ae8-4fd7-a3a3-21aeabd51179",
        "deepnote_to_be_reexecuted": false,
        "source_hash": "41583ae9",
        "execution_millis": 31,
        "execution_start": 1618841745724,
        "deepnote_cell_type": "code"
      },
      "source": "X.columns",
      "execution_count": null,
      "outputs": [
        {
          "output_type": "execute_result",
          "execution_count": 14,
          "data": {
            "text/plain": "Index(['ct_key', 'median_rental_price',\n       'average_annual_rent_as_percentage_of_property_value', 'farm_score',\n       'pop_density', 'urban_score', 'rural_score', 'built 1995 or later',\n       'built 1970-1994', 'built 1940-1969', 'built before 1940',\n       'single_family_detached_pct', 'rowhouses_and_attached_homes_pct',\n       'small_apt_buildings_pct', 'complexes/high_rise_apt_pct',\n       'mobile_home_pct', 'rental_rate', 'seasonal_housing_pct',\n       'vacant_homes_pct', 'family_friendly_score',\n       'first_time_homebuyer_score', 'luxury_communities_score',\n       'retirement_friendly_score', 'young_single_professional_score',\n       'college_student_friendly_score', 'property_crime_rate',\n       'standardized_test_score_percentile', 'pct_pop_at_least_college_degree',\n       'children_poverty_pct', 'Hispanic', 'White', 'Black', 'Asian',\n       'annual_births_per_resident', 'workforce_fraction',\n       'public_transportation', 'mean_household_income', 'avg_household_size',\n       'percent_mortgage', 'built 2014 or later', 'built 2010-2013',\n       'built 2000-2009', '<18', 'commute_under_30', '18-59'],\n      dtype='object')"
          },
          "metadata": {}
        }
      ]
    },
    {
      "cell_type": "code",
      "metadata": {
        "tags": [],
        "cell_id": "00006-a4caea86-40d3-4134-8724-eb00fc5d4378",
        "deepnote_to_be_reexecuted": false,
        "source_hash": "d56e4163",
        "execution_millis": 29,
        "execution_start": 1618841745730,
        "deepnote_cell_type": "code"
      },
      "source": "census_tract_df['<200k'] + census_tract_df['200-300k']",
      "execution_count": null,
      "outputs": [
        {
          "output_type": "execute_result",
          "execution_count": 15,
          "data": {
            "text/plain": "0      0.859813\n1      1.000000\n2      0.808411\n3      0.890000\n4      1.000000\n         ...   \n750    0.205722\n751    0.342180\n752    0.543210\n753    0.516798\n754    0.497006\nLength: 755, dtype: float64"
          },
          "metadata": {}
        }
      ]
    },
    {
      "cell_type": "code",
      "metadata": {
        "tags": [],
        "cell_id": "00007-906c99cb-e0e6-4023-a660-7b763f929e07",
        "deepnote_to_be_reexecuted": false,
        "source_hash": "51a37c3c",
        "execution_millis": 2318,
        "execution_start": 1618841745733,
        "deepnote_cell_type": "code"
      },
      "source": "corr = X.corr()\nf, ax = plt.subplots(figsize=(12, 10))\nax = sns.heatmap(corr, \n            xticklabels=corr.columns.values,\n            yticklabels=corr.columns.values)",
      "execution_count": null,
      "outputs": [
        {
          "data": {
            "text/plain": "<Figure size 864x720 with 2 Axes>",
            "image/png": "[encoded data removed]"
          },
          "metadata": {
            "needs_background": "light"
          },
          "output_type": "display_data"
        }
      ]
    },
    {
      "cell_type": "code",
      "metadata": {
        "tags": [],
        "cell_id": "00016-7a592cdc-35d8-4f6e-bea5-86d2ae060919",
        "deepnote_to_be_reexecuted": false,
        "source_hash": "91c01c58",
        "execution_millis": 139,
        "execution_start": 1618841748003,
        "deepnote_cell_type": "code"
      },
      "source": "X.head()",
      "execution_count": null,
      "outputs": [
        {
          "output_type": "execute_result",
          "execution_count": 17,
          "data": {
            "application/vnd.deepnote.dataframe.v2+json": {
              "row_count": 5,
              "column_count": 45,
              "columns": [
                {
                  "name": "ct_key",
                  "dtype": "int64",
                  "stats": {
                    "unique_count": 5,
                    "nan_count": 0,
                    "min": "8001007801",
                    "max": "8001008100",
                    "histogram": [
                      {
                        "bin_start": 8001007801,
                        "bin_end": 8001007830.9,
                        "count": 2
                      },
                      {
                        "bin_start": 8001007830.9,
                        "bin_end": 8001007860.8,
                        "count": 0
                      },
                      {
                        "bin_start": 8001007860.8,
                        "bin_end": 8001007890.7,
                        "count": 0
                      },
                      {
                        "bin_start": 8001007890.7,
                        "bin_end": 8001007920.6,
                        "count": 1
                      },
                      {
                        "bin_start": 8001007920.6,
                        "bin_end": 8001007950.5,
                        "count": 0
                      },
                      {
                        "bin_start": 8001007950.5,
                        "bin_end": 8001007980.4,
                        "count": 0
                      },
                      {
                        "bin_start": 8001007980.4,
                        "bin_end": 8001008010.3,
                        "count": 1
                      },
                      {
                        "bin_start": 8001008010.3,
                        "bin_end": 8001008040.2,
                        "count": 0
                      },
                      {
                        "bin_start": 8001008040.2,
                        "bin_end": 8001008070.1,
                        "count": 0
                      },
                      {
                        "bin_start": 8001008070.1,
                        "bin_end": 8001008100,
                        "count": 1
                      }
                    ]
                  }
                },
                {
                  "name": "median_rental_price",
                  "dtype": "float64",
                  "stats": {
                    "unique_count": 5,
                    "nan_count": 0,
                    "min": "1239.0",
                    "max": "2203.0",
                    "histogram": [
                      {
                        "bin_start": 1239,
                        "bin_end": 1335.4,
                        "count": 2
                      },
                      {
                        "bin_start": 1335.4,
                        "bin_end": 1431.8,
                        "count": 0
                      },
                      {
                        "bin_start": 1431.8,
                        "bin_end": 1528.2,
                        "count": 2
                      },
                      {
                        "bin_start": 1528.2,
                        "bin_end": 1624.6,
                        "count": 0
                      },
                      {
                        "bin_start": 1624.6,
                        "bin_end": 1721,
                        "count": 0
                      },
                      {
                        "bin_start": 1721,
                        "bin_end": 1817.4,
                        "count": 0
                      },
                      {
                        "bin_start": 1817.4,
                        "bin_end": 1913.8000000000002,
                        "count": 0
                      },
                      {
                        "bin_start": 1913.8000000000002,
                        "bin_end": 2010.2,
                        "count": 0
                      },
                      {
                        "bin_start": 2010.2,
                        "bin_end": 2106.6,
                        "count": 0
                      },
                      {
                        "bin_start": 2106.6,
                        "bin_end": 2203,
                        "count": 1
                      }
                    ]
                  }
                },
                {
                  "name": "average_annual_rent_as_percentage_of_property_value",
                  "dtype": "float64",
                  "stats": {
                    "unique_count": 5,
                    "nan_count": 0,
                    "min": "6.024884",
                    "max": "10.072085",
                    "histogram": [
                      {
                        "bin_start": 6.024884,
                        "bin_end": 6.4296041,
                        "count": 1
                      },
                      {
                        "bin_start": 6.4296041,
                        "bin_end": 6.8343242,
                        "count": 0
                      },
                      {
                        "bin_start": 6.8343242,
                        "bin_end": 7.2390443,
                        "count": 0
                      },
                      {
                        "bin_start": 7.2390443,
                        "bin_end": 7.6437644,
                        "count": 1
                      },
                      {
                        "bin_start": 7.6437644,
                        "bin_end": 8.0484845,
                        "count": 0
                      },
                      {
                        "bin_start": 8.0484845,
                        "bin_end": 8.4532046,
                        "count": 0
                      },
                      {
                        "bin_start": 8.4532046,
                        "bin_end": 8.8579247,
                        "count": 0
                      },
                      {
                        "bin_start": 8.8579247,
                        "bin_end": 9.2626448,
                        "count": 1
                      },
                      {
                        "bin_start": 9.2626448,
                        "bin_end": 9.667364899999999,
                        "count": 0
                      },
                      {
                        "bin_start": 9.667364899999999,
                        "bin_end": 10.072085,
                        "count": 2
                      }
                    ]
                  }
                },
                {
                  "name": "farm_score",
                  "dtype": "float64",
                  "stats": {
                    "unique_count": 1,
                    "nan_count": 0,
                    "min": "100.0",
                    "max": "100.0",
                    "histogram": [
                      {
                        "bin_start": 99.5,
                        "bin_end": 99.6,
                        "count": 0
                      },
                      {
                        "bin_start": 99.6,
                        "bin_end": 99.7,
                        "count": 0
                      },
                      {
                        "bin_start": 99.7,
                        "bin_end": 99.8,
                        "count": 0
                      },
                      {
                        "bin_start": 99.8,
                        "bin_end": 99.9,
                        "count": 0
                      },
                      {
                        "bin_start": 99.9,
                        "bin_end": 100,
                        "count": 0
                      },
                      {
                        "bin_start": 100,
                        "bin_end": 100.1,
                        "count": 5
                      },
                      {
                        "bin_start": 100.1,
                        "bin_end": 100.2,
                        "count": 0
                      },
                      {
                        "bin_start": 100.2,
                        "bin_end": 100.3,
                        "count": 0
                      },
                      {
                        "bin_start": 100.3,
                        "bin_end": 100.4,
                        "count": 0
                      },
                      {
                        "bin_start": 100.4,
                        "bin_end": 100.5,
                        "count": 0
                      }
                    ]
                  }
                },
                {
                  "name": "pop_density",
                  "dtype": "float64",
                  "stats": {
                    "unique_count": 5,
                    "nan_count": 0,
                    "min": "820.952275",
                    "max": "15270.696288",
                    "histogram": [
                      {
                        "bin_start": 820.952275,
                        "bin_end": 2265.9266763,
                        "count": 1
                      },
                      {
                        "bin_start": 2265.9266763,
                        "bin_end": 3710.9010776,
                        "count": 0
                      },
                      {
                        "bin_start": 3710.9010776,
                        "bin_end": 5155.8754788999995,
                        "count": 0
                      },
                      {
                        "bin_start": 5155.8754788999995,
                        "bin_end": 6600.8498801999995,
                        "count": 0
                      },
                      {
                        "bin_start": 6600.8498801999995,
                        "bin_end": 8045.824281499999,
                        "count": 1
                      },
                      {
                        "bin_start": 8045.824281499999,
                        "bin_end": 9490.7986828,
                        "count": 1
                      },
                      {
                        "bin_start": 9490.7986828,
                        "bin_end": 10935.7730841,
                        "count": 0
                      },
                      {
                        "bin_start": 10935.7730841,
                        "bin_end": 12380.7474854,
                        "count": 0
                      },
                      {
                        "bin_start": 12380.7474854,
                        "bin_end": 13825.7218867,
                        "count": 0
                      },
                      {
                        "bin_start": 13825.7218867,
                        "bin_end": 15270.696288,
                        "count": 2
                      }
                    ]
                  }
                },
                {
                  "name": "urban_score",
                  "dtype": "float64",
                  "stats": {
                    "unique_count": 4,
                    "nan_count": 0,
                    "min": "3.0",
                    "max": "51.0",
                    "histogram": [
                      {
                        "bin_start": 3,
                        "bin_end": 7.8,
                        "count": 2
                      },
                      {
                        "bin_start": 7.8,
                        "bin_end": 12.6,
                        "count": 2
                      },
                      {
                        "bin_start": 12.6,
                        "bin_end": 17.4,
                        "count": 0
                      },
                      {
                        "bin_start": 17.4,
                        "bin_end": 22.2,
                        "count": 0
                      },
                      {
                        "bin_start": 22.2,
                        "bin_end": 27,
                        "count": 0
                      },
                      {
                        "bin_start": 27,
                        "bin_end": 31.799999999999997,
                        "count": 0
                      },
                      {
                        "bin_start": 31.799999999999997,
                        "bin_end": 36.6,
                        "count": 0
                      },
                      {
                        "bin_start": 36.6,
                        "bin_end": 41.4,
                        "count": 0
                      },
                      {
                        "bin_start": 41.4,
                        "bin_end": 46.199999999999996,
                        "count": 0
                      },
                      {
                        "bin_start": 46.199999999999996,
                        "bin_end": 51,
                        "count": 1
                      }
                    ]
                  }
                },
                {
                  "name": "rural_score",
                  "dtype": "float64",
                  "stats": {
                    "unique_count": 4,
                    "nan_count": 0,
                    "min": "19.0",
                    "max": "83.0",
                    "histogram": [
                      {
                        "bin_start": 19,
                        "bin_end": 25.4,
                        "count": 1
                      },
                      {
                        "bin_start": 25.4,
                        "bin_end": 31.8,
                        "count": 0
                      },
                      {
                        "bin_start": 31.8,
                        "bin_end": 38.2,
                        "count": 0
                      },
                      {
                        "bin_start": 38.2,
                        "bin_end": 44.6,
                        "count": 0
                      },
                      {
                        "bin_start": 44.6,
                        "bin_end": 51,
                        "count": 0
                      },
                      {
                        "bin_start": 51,
                        "bin_end": 57.400000000000006,
                        "count": 0
                      },
                      {
                        "bin_start": 57.400000000000006,
                        "bin_end": 63.800000000000004,
                        "count": 0
                      },
                      {
                        "bin_start": 63.800000000000004,
                        "bin_end": 70.2,
                        "count": 0
                      },
                      {
                        "bin_start": 70.2,
                        "bin_end": 76.6,
                        "count": 2
                      },
                      {
                        "bin_start": 76.6,
                        "bin_end": 83,
                        "count": 2
                      }
                    ]
                  }
                },
                {
                  "name": "built 1995 or later",
                  "dtype": "float64",
                  "stats": {
                    "unique_count": 5,
                    "nan_count": 0,
                    "min": "0.767123",
                    "max": "86.148238",
                    "histogram": [
                      {
                        "bin_start": 0.767123,
                        "bin_end": 9.305234500000001,
                        "count": 3
                      },
                      {
                        "bin_start": 9.305234500000001,
                        "bin_end": 17.843346000000004,
                        "count": 1
                      },
                      {
                        "bin_start": 17.843346000000004,
                        "bin_end": 26.381457500000007,
                        "count": 0
                      },
                      {
                        "bin_start": 26.381457500000007,
                        "bin_end": 34.919569,
                        "count": 0
                      },
                      {
                        "bin_start": 34.919569,
                        "bin_end": 43.4576805,
                        "count": 0
                      },
                      {
                        "bin_start": 43.4576805,
                        "bin_end": 51.99579200000001,
                        "count": 0
                      },
                      {
                        "bin_start": 51.99579200000001,
                        "bin_end": 60.53390350000001,
                        "count": 0
                      },
                      {
                        "bin_start": 60.53390350000001,
                        "bin_end": 69.07201500000001,
                        "count": 0
                      },
                      {
                        "bin_start": 69.07201500000001,
                        "bin_end": 77.6101265,
                        "count": 0
                      },
                      {
                        "bin_start": 77.6101265,
                        "bin_end": 86.148238,
                        "count": 1
                      }
                    ]
                  }
                },
                {
                  "name": "built 1970-1994",
                  "dtype": "float64",
                  "stats": {
                    "unique_count": 5,
                    "nan_count": 0,
                    "min": "12.758202",
                    "max": "53.856124",
                    "histogram": [
                      {
                        "bin_start": 12.758202,
                        "bin_end": 16.8679942,
                        "count": 1
                      },
                      {
                        "bin_start": 16.8679942,
                        "bin_end": 20.9777864,
                        "count": 0
                      },
                      {
                        "bin_start": 20.9777864,
                        "bin_end": 25.0875786,
                        "count": 1
                      },
                      {
                        "bin_start": 25.0875786,
                        "bin_end": 29.197370799999998,
                        "count": 0
                      },
                      {
                        "bin_start": 29.197370799999998,
                        "bin_end": 33.307163,
                        "count": 0
                      },
                      {
                        "bin_start": 33.307163,
                        "bin_end": 37.4169552,
                        "count": 0
                      },
                      {
                        "bin_start": 37.4169552,
                        "bin_end": 41.52674739999999,
                        "count": 1
                      },
                      {
                        "bin_start": 41.52674739999999,
                        "bin_end": 45.63653959999999,
                        "count": 0
                      },
                      {
                        "bin_start": 45.63653959999999,
                        "bin_end": 49.74633179999999,
                        "count": 1
                      },
                      {
                        "bin_start": 49.74633179999999,
                        "bin_end": 53.856124,
                        "count": 1
                      }
                    ]
                  }
                },
                {
                  "name": "built 1940-1969",
                  "dtype": "float64",
                  "stats": {
                    "unique_count": 5,
                    "nan_count": 0,
                    "min": "1.09356",
                    "max": "73.643836",
                    "histogram": [
                      {
                        "bin_start": 1.09356,
                        "bin_end": 8.3485876,
                        "count": 1
                      },
                      {
                        "bin_start": 8.3485876,
                        "bin_end": 15.6036152,
                        "count": 0
                      },
                      {
                        "bin_start": 15.6036152,
                        "bin_end": 22.858642800000002,
                        "count": 0
                      },
                      {
                        "bin_start": 22.858642800000002,
                        "bin_end": 30.1136704,
                        "count": 0
                      },
                      {
                        "bin_start": 30.1136704,
                        "bin_end": 37.368697999999995,
                        "count": 1
                      },
                      {
                        "bin_start": 37.368697999999995,
                        "bin_end": 44.6237256,
                        "count": 1
                      },
                      {
                        "bin_start": 44.6237256,
                        "bin_end": 51.878753200000006,
                        "count": 1
                      },
                      {
                        "bin_start": 51.878753200000006,
                        "bin_end": 59.1337808,
                        "count": 0
                      },
                      {
                        "bin_start": 59.1337808,
                        "bin_end": 66.3888084,
                        "count": 0
                      },
                      {
                        "bin_start": 66.3888084,
                        "bin_end": 73.643836,
                        "count": 1
                      }
                    ]
                  }
                },
                {
                  "name": "built before 1940",
                  "dtype": "float64",
                  "stats": {
                    "unique_count": 5,
                    "nan_count": 0,
                    "min": "0.0",
                    "max": "9.342561",
                    "histogram": [
                      {
                        "bin_start": 0,
                        "bin_end": 0.9342561,
                        "count": 1
                      },
                      {
                        "bin_start": 0.9342561,
                        "bin_end": 1.8685122,
                        "count": 1
                      },
                      {
                        "bin_start": 1.8685122,
                        "bin_end": 2.8027683000000003,
                        "count": 1
                      },
                      {
                        "bin_start": 2.8027683000000003,
                        "bin_end": 3.7370244,
                        "count": 0
                      },
                      {
                        "bin_start": 3.7370244,
                        "bin_end": 4.6712805,
                        "count": 1
                      },
                      {
                        "bin_start": 4.6712805,
                        "bin_end": 5.605536600000001,
                        "count": 0
                      },
                      {
                        "bin_start": 5.605536600000001,
                        "bin_end": 6.5397927000000005,
                        "count": 0
                      },
                      {
                        "bin_start": 6.5397927000000005,
                        "bin_end": 7.4740488,
                        "count": 0
                      },
                      {
                        "bin_start": 7.4740488,
                        "bin_end": 8.408304900000001,
                        "count": 0
                      },
                      {
                        "bin_start": 8.408304900000001,
                        "bin_end": 9.342561,
                        "count": 1
                      }
                    ]
                  }
                },
                {
                  "name": "single_family_detached_pct",
                  "dtype": "float64",
                  "stats": {
                    "unique_count": 5,
                    "nan_count": 0,
                    "min": "3.159174",
                    "max": "73.534247",
                    "histogram": [
                      {
                        "bin_start": 3.159174,
                        "bin_end": 10.196681299999998,
                        "count": 1
                      },
                      {
                        "bin_start": 10.196681299999998,
                        "bin_end": 17.234188599999996,
                        "count": 1
                      },
                      {
                        "bin_start": 17.234188599999996,
                        "bin_end": 24.271695899999997,
                        "count": 1
                      },
                      {
                        "bin_start": 24.271695899999997,
                        "bin_end": 31.309203199999995,
                        "count": 0
                      },
                      {
                        "bin_start": 31.309203199999995,
                        "bin_end": 38.34671049999999,
                        "count": 0
                      },
                      {
                        "bin_start": 38.34671049999999,
                        "bin_end": 45.384217799999995,
                        "count": 0
                      },
                      {
                        "bin_start": 45.384217799999995,
                        "bin_end": 52.42172509999999,
                        "count": 1
                      },
                      {
                        "bin_start": 52.42172509999999,
                        "bin_end": 59.45923239999999,
                        "count": 0
                      },
                      {
                        "bin_start": 59.45923239999999,
                        "bin_end": 66.49673969999999,
                        "count": 0
                      },
                      {
                        "bin_start": 66.49673969999999,
                        "bin_end": 73.534247,
                        "count": 1
                      }
                    ]
                  }
                },
                {
                  "name": "rowhouses_and_attached_homes_pct",
                  "dtype": "float64",
                  "stats": {
                    "unique_count": 5,
                    "nan_count": 0,
                    "min": "0.0",
                    "max": "5.424658",
                    "histogram": [
                      {
                        "bin_start": 0,
                        "bin_end": 0.5424658,
                        "count": 1
                      },
                      {
                        "bin_start": 0.5424658,
                        "bin_end": 1.0849316,
                        "count": 0
                      },
                      {
                        "bin_start": 1.0849316,
                        "bin_end": 1.6273974,
                        "count": 0
                      },
                      {
                        "bin_start": 1.6273974,
                        "bin_end": 2.1698632,
                        "count": 0
                      },
                      {
                        "bin_start": 2.1698632,
                        "bin_end": 2.712329,
                        "count": 0
                      },
                      {
                        "bin_start": 2.712329,
                        "bin_end": 3.2547948,
                        "count": 0
                      },
                      {
                        "bin_start": 3.2547948,
                        "bin_end": 3.7972606,
                        "count": 2
                      },
                      {
                        "bin_start": 3.7972606,
                        "bin_end": 4.3397264,
                        "count": 0
                      },
                      {
                        "bin_start": 4.3397264,
                        "bin_end": 4.8821922,
                        "count": 1
                      },
                      {
                        "bin_start": 4.8821922,
                        "bin_end": 5.424658,
                        "count": 1
                      }
                    ]
                  }
                },
                {
                  "name": "small_apt_buildings_pct",
                  "dtype": "float64",
                  "stats": {
                    "unique_count": 5,
                    "nan_count": 0,
                    "min": "0.0",
                    "max": "12.81296",
                    "histogram": [
                      {
                        "bin_start": 0,
                        "bin_end": 1.281296,
                        "count": 1
                      },
                      {
                        "bin_start": 1.281296,
                        "bin_end": 2.562592,
                        "count": 0
                      },
                      {
                        "bin_start": 2.562592,
                        "bin_end": 3.8438879999999997,
                        "count": 1
                      },
                      {
                        "bin_start": 3.8438879999999997,
                        "bin_end": 5.125184,
                        "count": 0
                      },
                      {
                        "bin_start": 5.125184,
                        "bin_end": 6.40648,
                        "count": 1
                      },
                      {
                        "bin_start": 6.40648,
                        "bin_end": 7.6877759999999995,
                        "count": 0
                      },
                      {
                        "bin_start": 7.6877759999999995,
                        "bin_end": 8.969072,
                        "count": 0
                      },
                      {
                        "bin_start": 8.969072,
                        "bin_end": 10.250368,
                        "count": 1
                      },
                      {
                        "bin_start": 10.250368,
                        "bin_end": 11.531664,
                        "count": 0
                      },
                      {
                        "bin_start": 11.531664,
                        "bin_end": 12.81296,
                        "count": 1
                      }
                    ]
                  }
                },
                {
                  "name": "complexes/high_rise_apt_pct",
                  "dtype": "float64",
                  "stats": {
                    "unique_count": 5,
                    "nan_count": 0,
                    "min": "11.013699",
                    "max": "90.400972",
                    "histogram": [
                      {
                        "bin_start": 11.013699,
                        "bin_end": 18.9524263,
                        "count": 1
                      },
                      {
                        "bin_start": 18.9524263,
                        "bin_end": 26.8911536,
                        "count": 0
                      },
                      {
                        "bin_start": 26.8911536,
                        "bin_end": 34.8298809,
                        "count": 0
                      },
                      {
                        "bin_start": 34.8298809,
                        "bin_end": 42.768608199999996,
                        "count": 1
                      },
                      {
                        "bin_start": 42.768608199999996,
                        "bin_end": 50.7073355,
                        "count": 0
                      },
                      {
                        "bin_start": 50.7073355,
                        "bin_end": 58.646062799999996,
                        "count": 0
                      },
                      {
                        "bin_start": 58.646062799999996,
                        "bin_end": 66.58479009999999,
                        "count": 1
                      },
                      {
                        "bin_start": 66.58479009999999,
                        "bin_end": 74.52351739999999,
                        "count": 0
                      },
                      {
                        "bin_start": 74.52351739999999,
                        "bin_end": 82.4622447,
                        "count": 1
                      },
                      {
                        "bin_start": 82.4622447,
                        "bin_end": 90.400972,
                        "count": 1
                      }
                    ]
                  }
                },
                {
                  "name": "mobile_home_pct",
                  "dtype": "float64",
                  "stats": {
                    "unique_count": 4,
                    "nan_count": 0,
                    "min": "0.0",
                    "max": "6.439854",
                    "histogram": [
                      {
                        "bin_start": 0,
                        "bin_end": 0.6439854,
                        "count": 3
                      },
                      {
                        "bin_start": 0.6439854,
                        "bin_end": 1.2879708,
                        "count": 1
                      },
                      {
                        "bin_start": 1.2879708,
                        "bin_end": 1.9319562000000001,
                        "count": 0
                      },
                      {
                        "bin_start": 1.9319562000000001,
                        "bin_end": 2.5759416,
                        "count": 0
                      },
                      {
                        "bin_start": 2.5759416,
                        "bin_end": 3.219927,
                        "count": 0
                      },
                      {
                        "bin_start": 3.219927,
                        "bin_end": 3.8639124000000002,
                        "count": 0
                      },
                      {
                        "bin_start": 3.8639124000000002,
                        "bin_end": 4.5078978,
                        "count": 0
                      },
                      {
                        "bin_start": 4.5078978,
                        "bin_end": 5.1518832,
                        "count": 0
                      },
                      {
                        "bin_start": 5.1518832,
                        "bin_end": 5.7958686,
                        "count": 0
                      },
                      {
                        "bin_start": 5.7958686,
                        "bin_end": 6.439854,
                        "count": 1
                      }
                    ]
                  }
                },
                {
                  "name": "rental_rate",
                  "dtype": "float64",
                  "stats": {
                    "unique_count": 5,
                    "nan_count": 0,
                    "min": "48.471233000000005",
                    "max": "96.990616",
                    "histogram": [
                      {
                        "bin_start": 48.471233000000005,
                        "bin_end": 53.323171300000006,
                        "count": 1
                      },
                      {
                        "bin_start": 53.323171300000006,
                        "bin_end": 58.175109600000006,
                        "count": 0
                      },
                      {
                        "bin_start": 58.175109600000006,
                        "bin_end": 63.0270479,
                        "count": 0
                      },
                      {
                        "bin_start": 63.0270479,
                        "bin_end": 67.8789862,
                        "count": 1
                      },
                      {
                        "bin_start": 67.8789862,
                        "bin_end": 72.7309245,
                        "count": 0
                      },
                      {
                        "bin_start": 72.7309245,
                        "bin_end": 77.5828628,
                        "count": 0
                      },
                      {
                        "bin_start": 77.5828628,
                        "bin_end": 82.4348011,
                        "count": 0
                      },
                      {
                        "bin_start": 82.4348011,
                        "bin_end": 87.2867394,
                        "count": 0
                      },
                      {
                        "bin_start": 87.2867394,
                        "bin_end": 92.1386777,
                        "count": 2
                      },
                      {
                        "bin_start": 92.1386777,
                        "bin_end": 96.990616,
                        "count": 1
                      }
                    ]
                  }
                },
                {
                  "name": "seasonal_housing_pct",
                  "dtype": "float64",
                  "stats": {
                    "unique_count": 2,
                    "nan_count": 0,
                    "min": "0.0",
                    "max": "0.8505469999999999",
                    "histogram": [
                      {
                        "bin_start": 0,
                        "bin_end": 0.0850547,
                        "count": 4
                      },
                      {
                        "bin_start": 0.0850547,
                        "bin_end": 0.1701094,
                        "count": 0
                      },
                      {
                        "bin_start": 0.1701094,
                        "bin_end": 0.2551641,
                        "count": 0
                      },
                      {
                        "bin_start": 0.2551641,
                        "bin_end": 0.3402188,
                        "count": 0
                      },
                      {
                        "bin_start": 0.3402188,
                        "bin_end": 0.42527349999999997,
                        "count": 0
                      },
                      {
                        "bin_start": 0.42527349999999997,
                        "bin_end": 0.5103282,
                        "count": 0
                      },
                      {
                        "bin_start": 0.5103282,
                        "bin_end": 0.5953828999999999,
                        "count": 0
                      },
                      {
                        "bin_start": 0.5953828999999999,
                        "bin_end": 0.6804376,
                        "count": 0
                      },
                      {
                        "bin_start": 0.6804376,
                        "bin_end": 0.7654923,
                        "count": 0
                      },
                      {
                        "bin_start": 0.7654923,
                        "bin_end": 0.8505469999999999,
                        "count": 1
                      }
                    ]
                  }
                },
                {
                  "name": "vacant_homes_pct",
                  "dtype": "float64",
                  "stats": {
                    "unique_count": 5,
                    "nan_count": 0,
                    "min": "2.794521",
                    "max": "13.608748",
                    "histogram": [
                      {
                        "bin_start": 2.794521,
                        "bin_end": 3.8759437,
                        "count": 1
                      },
                      {
                        "bin_start": 3.8759437,
                        "bin_end": 4.9573664,
                        "count": 0
                      },
                      {
                        "bin_start": 4.9573664,
                        "bin_end": 6.038789100000001,
                        "count": 2
                      },
                      {
                        "bin_start": 6.038789100000001,
                        "bin_end": 7.1202118,
                        "count": 1
                      },
                      {
                        "bin_start": 7.1202118,
                        "bin_end": 8.2016345,
                        "count": 0
                      },
                      {
                        "bin_start": 8.2016345,
                        "bin_end": 9.2830572,
                        "count": 0
                      },
                      {
                        "bin_start": 9.2830572,
                        "bin_end": 10.364479900000001,
                        "count": 0
                      },
                      {
                        "bin_start": 10.364479900000001,
                        "bin_end": 11.4459026,
                        "count": 0
                      },
                      {
                        "bin_start": 11.4459026,
                        "bin_end": 12.527325300000001,
                        "count": 0
                      },
                      {
                        "bin_start": 12.527325300000001,
                        "bin_end": 13.608748,
                        "count": 1
                      }
                    ]
                  }
                },
                {
                  "name": "family_friendly_score",
                  "dtype": "float64",
                  "stats": {
                    "unique_count": 5,
                    "nan_count": 0,
                    "min": "66.152493",
                    "max": "99.648052",
                    "histogram": [
                      {
                        "bin_start": 66.152493,
                        "bin_end": 69.5020489,
                        "count": 1
                      },
                      {
                        "bin_start": 69.5020489,
                        "bin_end": 72.8516048,
                        "count": 0
                      },
                      {
                        "bin_start": 72.8516048,
                        "bin_end": 76.2011607,
                        "count": 0
                      },
                      {
                        "bin_start": 76.2011607,
                        "bin_end": 79.5507166,
                        "count": 0
                      },
                      {
                        "bin_start": 79.5507166,
                        "bin_end": 82.9002725,
                        "count": 1
                      },
                      {
                        "bin_start": 82.9002725,
                        "bin_end": 86.24982840000001,
                        "count": 0
                      },
                      {
                        "bin_start": 86.24982840000001,
                        "bin_end": 89.59938430000001,
                        "count": 1
                      },
                      {
                        "bin_start": 89.59938430000001,
                        "bin_end": 92.94894020000001,
                        "count": 0
                      },
                      {
                        "bin_start": 92.94894020000001,
                        "bin_end": 96.29849610000001,
                        "count": 1
                      },
                      {
                        "bin_start": 96.29849610000001,
                        "bin_end": 99.648052,
                        "count": 1
                      }
                    ]
                  }
                },
                {
                  "name": "first_time_homebuyer_score",
                  "dtype": "float64",
                  "stats": {
                    "unique_count": 5,
                    "nan_count": 0,
                    "min": "27.052337",
                    "max": "88.95150100000001",
                    "histogram": [
                      {
                        "bin_start": 27.052337,
                        "bin_end": 33.2422534,
                        "count": 1
                      },
                      {
                        "bin_start": 33.2422534,
                        "bin_end": 39.432169800000004,
                        "count": 0
                      },
                      {
                        "bin_start": 39.432169800000004,
                        "bin_end": 45.6220862,
                        "count": 1
                      },
                      {
                        "bin_start": 45.6220862,
                        "bin_end": 51.8120026,
                        "count": 1
                      },
                      {
                        "bin_start": 51.8120026,
                        "bin_end": 58.001919,
                        "count": 0
                      },
                      {
                        "bin_start": 58.001919,
                        "bin_end": 64.1918354,
                        "count": 0
                      },
                      {
                        "bin_start": 64.1918354,
                        "bin_end": 70.3817518,
                        "count": 0
                      },
                      {
                        "bin_start": 70.3817518,
                        "bin_end": 76.5716682,
                        "count": 0
                      },
                      {
                        "bin_start": 76.5716682,
                        "bin_end": 82.7615846,
                        "count": 0
                      },
                      {
                        "bin_start": 82.7615846,
                        "bin_end": 88.95150100000001,
                        "count": 2
                      }
                    ]
                  }
                },
                {
                  "name": "luxury_communities_score",
                  "dtype": "float64",
                  "stats": {
                    "unique_count": 5,
                    "nan_count": 0,
                    "min": "28.282155",
                    "max": "96.101273",
                    "histogram": [
                      {
                        "bin_start": 28.282155,
                        "bin_end": 35.0640668,
                        "count": 1
                      },
                      {
                        "bin_start": 35.0640668,
                        "bin_end": 41.8459786,
                        "count": 0
                      },
                      {
                        "bin_start": 41.8459786,
                        "bin_end": 48.6278904,
                        "count": 0
                      },
                      {
                        "bin_start": 48.6278904,
                        "bin_end": 55.4098022,
                        "count": 0
                      },
                      {
                        "bin_start": 55.4098022,
                        "bin_end": 62.191714000000005,
                        "count": 0
                      },
                      {
                        "bin_start": 62.191714000000005,
                        "bin_end": 68.97362580000001,
                        "count": 0
                      },
                      {
                        "bin_start": 68.97362580000001,
                        "bin_end": 75.7555376,
                        "count": 0
                      },
                      {
                        "bin_start": 75.7555376,
                        "bin_end": 82.5374494,
                        "count": 2
                      },
                      {
                        "bin_start": 82.5374494,
                        "bin_end": 89.3193612,
                        "count": 0
                      },
                      {
                        "bin_start": 89.3193612,
                        "bin_end": 96.101273,
                        "count": 2
                      }
                    ]
                  }
                },
                {
                  "name": "retirement_friendly_score",
                  "dtype": "float64",
                  "stats": {
                    "unique_count": 5,
                    "nan_count": 0,
                    "min": "78.085732",
                    "max": "99.907889",
                    "histogram": [
                      {
                        "bin_start": 78.085732,
                        "bin_end": 80.2679477,
                        "count": 1
                      },
                      {
                        "bin_start": 80.2679477,
                        "bin_end": 82.4501634,
                        "count": 0
                      },
                      {
                        "bin_start": 82.4501634,
                        "bin_end": 84.6323791,
                        "count": 0
                      },
                      {
                        "bin_start": 84.6323791,
                        "bin_end": 86.8145948,
                        "count": 0
                      },
                      {
                        "bin_start": 86.8145948,
                        "bin_end": 88.9968105,
                        "count": 0
                      },
                      {
                        "bin_start": 88.9968105,
                        "bin_end": 91.1790262,
                        "count": 1
                      },
                      {
                        "bin_start": 91.1790262,
                        "bin_end": 93.3612419,
                        "count": 0
                      },
                      {
                        "bin_start": 93.3612419,
                        "bin_end": 95.5434576,
                        "count": 0
                      },
                      {
                        "bin_start": 95.5434576,
                        "bin_end": 97.7256733,
                        "count": 1
                      },
                      {
                        "bin_start": 97.7256733,
                        "bin_end": 99.907889,
                        "count": 2
                      }
                    ]
                  }
                },
                {
                  "name": "young_single_professional_score",
                  "dtype": "float64",
                  "stats": {
                    "unique_count": 5,
                    "nan_count": 0,
                    "min": "16.726039",
                    "max": "58.412211",
                    "histogram": [
                      {
                        "bin_start": 16.726039,
                        "bin_end": 20.8946562,
                        "count": 1
                      },
                      {
                        "bin_start": 20.8946562,
                        "bin_end": 25.0632734,
                        "count": 0
                      },
                      {
                        "bin_start": 25.0632734,
                        "bin_end": 29.2318906,
                        "count": 0
                      },
                      {
                        "bin_start": 29.2318906,
                        "bin_end": 33.4005078,
                        "count": 0
                      },
                      {
                        "bin_start": 33.4005078,
                        "bin_end": 37.569125,
                        "count": 0
                      },
                      {
                        "bin_start": 37.569125,
                        "bin_end": 41.7377422,
                        "count": 0
                      },
                      {
                        "bin_start": 41.7377422,
                        "bin_end": 45.9063594,
                        "count": 0
                      },
                      {
                        "bin_start": 45.9063594,
                        "bin_end": 50.0749766,
                        "count": 0
                      },
                      {
                        "bin_start": 50.0749766,
                        "bin_end": 54.2435938,
                        "count": 3
                      },
                      {
                        "bin_start": 54.2435938,
                        "bin_end": 58.412211,
                        "count": 1
                      }
                    ]
                  }
                },
                {
                  "name": "college_student_friendly_score",
                  "dtype": "float64",
                  "stats": {
                    "unique_count": 5,
                    "nan_count": 0,
                    "min": "61.079491",
                    "max": "99.000522",
                    "histogram": [
                      {
                        "bin_start": 61.079491,
                        "bin_end": 64.8715941,
                        "count": 1
                      },
                      {
                        "bin_start": 64.8715941,
                        "bin_end": 68.6636972,
                        "count": 0
                      },
                      {
                        "bin_start": 68.6636972,
                        "bin_end": 72.45580029999999,
                        "count": 0
                      },
                      {
                        "bin_start": 72.45580029999999,
                        "bin_end": 76.2479034,
                        "count": 1
                      },
                      {
                        "bin_start": 76.2479034,
                        "bin_end": 80.0400065,
                        "count": 0
                      },
                      {
                        "bin_start": 80.0400065,
                        "bin_end": 83.8321096,
                        "count": 0
                      },
                      {
                        "bin_start": 83.8321096,
                        "bin_end": 87.6242127,
                        "count": 0
                      },
                      {
                        "bin_start": 87.6242127,
                        "bin_end": 91.4163158,
                        "count": 2
                      },
                      {
                        "bin_start": 91.4163158,
                        "bin_end": 95.2084189,
                        "count": 0
                      },
                      {
                        "bin_start": 95.2084189,
                        "bin_end": 99.000522,
                        "count": 1
                      }
                    ]
                  }
                },
                {
                  "name": "property_crime_rate",
                  "dtype": "float64",
                  "stats": {
                    "unique_count": 5,
                    "nan_count": 0,
                    "min": "46.151167",
                    "max": "59.872272",
                    "histogram": [
                      {
                        "bin_start": 46.151167,
                        "bin_end": 47.5232775,
                        "count": 2
                      },
                      {
                        "bin_start": 47.5232775,
                        "bin_end": 48.895388000000004,
                        "count": 0
                      },
                      {
                        "bin_start": 48.895388000000004,
                        "bin_end": 50.2674985,
                        "count": 1
                      },
                      {
                        "bin_start": 50.2674985,
                        "bin_end": 51.639609,
                        "count": 0
                      },
                      {
                        "bin_start": 51.639609,
                        "bin_end": 53.0117195,
                        "count": 0
                      },
                      {
                        "bin_start": 53.0117195,
                        "bin_end": 54.38383,
                        "count": 0
                      },
                      {
                        "bin_start": 54.38383,
                        "bin_end": 55.7559405,
                        "count": 0
                      },
                      {
                        "bin_start": 55.7559405,
                        "bin_end": 57.128051,
                        "count": 1
                      },
                      {
                        "bin_start": 57.128051,
                        "bin_end": 58.500161500000004,
                        "count": 0
                      },
                      {
                        "bin_start": 58.500161500000004,
                        "bin_end": 59.872272,
                        "count": 1
                      }
                    ]
                  }
                },
                {
                  "name": "standardized_test_score_percentile",
                  "dtype": "float64",
                  "stats": {
                    "unique_count": 5,
                    "nan_count": 0,
                    "min": "8.345964",
                    "max": "12.581497",
                    "histogram": [
                      {
                        "bin_start": 8.345964,
                        "bin_end": 8.7695173,
                        "count": 1
                      },
                      {
                        "bin_start": 8.7695173,
                        "bin_end": 9.1930706,
                        "count": 0
                      },
                      {
                        "bin_start": 9.1930706,
                        "bin_end": 9.6166239,
                        "count": 1
                      },
                      {
                        "bin_start": 9.6166239,
                        "bin_end": 10.0401772,
                        "count": 0
                      },
                      {
                        "bin_start": 10.0401772,
                        "bin_end": 10.4637305,
                        "count": 1
                      },
                      {
                        "bin_start": 10.4637305,
                        "bin_end": 10.8872838,
                        "count": 0
                      },
                      {
                        "bin_start": 10.8872838,
                        "bin_end": 11.3108371,
                        "count": 0
                      },
                      {
                        "bin_start": 11.3108371,
                        "bin_end": 11.7343904,
                        "count": 1
                      },
                      {
                        "bin_start": 11.7343904,
                        "bin_end": 12.1579437,
                        "count": 0
                      },
                      {
                        "bin_start": 12.1579437,
                        "bin_end": 12.581497,
                        "count": 1
                      }
                    ]
                  }
                },
                {
                  "name": "pct_pop_at_least_college_degree",
                  "dtype": "float64",
                  "stats": {
                    "unique_count": 5,
                    "nan_count": 0,
                    "min": "0.0297769999999999",
                    "max": "0.610526",
                    "histogram": [
                      {
                        "bin_start": 0.0297769999999999,
                        "bin_end": 0.0878518999999999,
                        "count": 2
                      },
                      {
                        "bin_start": 0.0878518999999999,
                        "bin_end": 0.1459267999999999,
                        "count": 1
                      },
                      {
                        "bin_start": 0.1459267999999999,
                        "bin_end": 0.2040016999999999,
                        "count": 1
                      },
                      {
                        "bin_start": 0.2040016999999999,
                        "bin_end": 0.26207659999999994,
                        "count": 0
                      },
                      {
                        "bin_start": 0.26207659999999994,
                        "bin_end": 0.3201514999999999,
                        "count": 0
                      },
                      {
                        "bin_start": 0.3201514999999999,
                        "bin_end": 0.3782263999999999,
                        "count": 0
                      },
                      {
                        "bin_start": 0.3782263999999999,
                        "bin_end": 0.43630129999999995,
                        "count": 0
                      },
                      {
                        "bin_start": 0.43630129999999995,
                        "bin_end": 0.49437619999999993,
                        "count": 0
                      },
                      {
                        "bin_start": 0.49437619999999993,
                        "bin_end": 0.5524511,
                        "count": 0
                      },
                      {
                        "bin_start": 0.5524511,
                        "bin_end": 0.610526,
                        "count": 1
                      }
                    ]
                  }
                },
                {
                  "name": "children_poverty_pct",
                  "dtype": "float64",
                  "stats": {
                    "unique_count": 5,
                    "nan_count": 0,
                    "min": "0.169643",
                    "max": "0.460476",
                    "histogram": [
                      {
                        "bin_start": 0.169643,
                        "bin_end": 0.1987263,
                        "count": 1
                      },
                      {
                        "bin_start": 0.1987263,
                        "bin_end": 0.2278096,
                        "count": 0
                      },
                      {
                        "bin_start": 0.2278096,
                        "bin_end": 0.2568929,
                        "count": 0
                      },
                      {
                        "bin_start": 0.2568929,
                        "bin_end": 0.2859762,
                        "count": 2
                      },
                      {
                        "bin_start": 0.2859762,
                        "bin_end": 0.3150595,
                        "count": 0
                      },
                      {
                        "bin_start": 0.3150595,
                        "bin_end": 0.34414279999999997,
                        "count": 0
                      },
                      {
                        "bin_start": 0.34414279999999997,
                        "bin_end": 0.3732261,
                        "count": 0
                      },
                      {
                        "bin_start": 0.3732261,
                        "bin_end": 0.4023094,
                        "count": 0
                      },
                      {
                        "bin_start": 0.4023094,
                        "bin_end": 0.43139269999999996,
                        "count": 1
                      },
                      {
                        "bin_start": 0.43139269999999996,
                        "bin_end": 0.460476,
                        "count": 1
                      }
                    ]
                  }
                },
                {
                  "name": "Hispanic",
                  "dtype": "float64",
                  "stats": {
                    "unique_count": 5,
                    "nan_count": 0,
                    "min": "0.2281967213114754",
                    "max": "0.5698970840480274",
                    "histogram": [
                      {
                        "bin_start": 0.2281967213114754,
                        "bin_end": 0.2623667575851306,
                        "count": 1
                      },
                      {
                        "bin_start": 0.2623667575851306,
                        "bin_end": 0.2965367938587858,
                        "count": 0
                      },
                      {
                        "bin_start": 0.2965367938587858,
                        "bin_end": 0.330706830132441,
                        "count": 0
                      },
                      {
                        "bin_start": 0.330706830132441,
                        "bin_end": 0.3648768664060962,
                        "count": 0
                      },
                      {
                        "bin_start": 0.3648768664060962,
                        "bin_end": 0.3990469026797514,
                        "count": 0
                      },
                      {
                        "bin_start": 0.3990469026797514,
                        "bin_end": 0.4332169389534066,
                        "count": 0
                      },
                      {
                        "bin_start": 0.4332169389534066,
                        "bin_end": 0.46738697522706185,
                        "count": 1
                      },
                      {
                        "bin_start": 0.46738697522706185,
                        "bin_end": 0.5015570115007171,
                        "count": 0
                      },
                      {
                        "bin_start": 0.5015570115007171,
                        "bin_end": 0.5357270477743723,
                        "count": 1
                      },
                      {
                        "bin_start": 0.5357270477743723,
                        "bin_end": 0.5698970840480274,
                        "count": 2
                      }
                    ]
                  }
                },
                {
                  "name": "White",
                  "dtype": "float64",
                  "stats": {
                    "unique_count": 5,
                    "nan_count": 0,
                    "min": "0.1350771869639794",
                    "max": "0.5783606557377049",
                    "histogram": [
                      {
                        "bin_start": 0.1350771869639794,
                        "bin_end": 0.17940553384135197,
                        "count": 2
                      },
                      {
                        "bin_start": 0.17940553384135197,
                        "bin_end": 0.22373388071872452,
                        "count": 1
                      },
                      {
                        "bin_start": 0.22373388071872452,
                        "bin_end": 0.26806222759609705,
                        "count": 1
                      },
                      {
                        "bin_start": 0.26806222759609705,
                        "bin_end": 0.31239057447346963,
                        "count": 0
                      },
                      {
                        "bin_start": 0.31239057447346963,
                        "bin_end": 0.35671892135084216,
                        "count": 0
                      },
                      {
                        "bin_start": 0.35671892135084216,
                        "bin_end": 0.4010472682282147,
                        "count": 0
                      },
                      {
                        "bin_start": 0.4010472682282147,
                        "bin_end": 0.44537561510558726,
                        "count": 0
                      },
                      {
                        "bin_start": 0.44537561510558726,
                        "bin_end": 0.4897039619829598,
                        "count": 0
                      },
                      {
                        "bin_start": 0.4897039619829598,
                        "bin_end": 0.5340323088603323,
                        "count": 0
                      },
                      {
                        "bin_start": 0.5340323088603323,
                        "bin_end": 0.5783606557377049,
                        "count": 1
                      }
                    ]
                  }
                },
                {
                  "name": "Black",
                  "dtype": "float64",
                  "stats": {
                    "unique_count": 5,
                    "nan_count": 0,
                    "min": "0.0308196721311475",
                    "max": "0.1826758147512864",
                    "histogram": [
                      {
                        "bin_start": 0.0308196721311475,
                        "bin_end": 0.046005286393161385,
                        "count": 1
                      },
                      {
                        "bin_start": 0.046005286393161385,
                        "bin_end": 0.061190900655175275,
                        "count": 0
                      },
                      {
                        "bin_start": 0.061190900655175275,
                        "bin_end": 0.07637651491718916,
                        "count": 0
                      },
                      {
                        "bin_start": 0.07637651491718916,
                        "bin_end": 0.09156212917920305,
                        "count": 0
                      },
                      {
                        "bin_start": 0.09156212917920305,
                        "bin_end": 0.10674774344121694,
                        "count": 0
                      },
                      {
                        "bin_start": 0.10674774344121694,
                        "bin_end": 0.12193335770323083,
                        "count": 1
                      },
                      {
                        "bin_start": 0.12193335770323083,
                        "bin_end": 0.13711897196524472,
                        "count": 0
                      },
                      {
                        "bin_start": 0.13711897196524472,
                        "bin_end": 0.1523045862272586,
                        "count": 2
                      },
                      {
                        "bin_start": 0.1523045862272586,
                        "bin_end": 0.1674902004892725,
                        "count": 0
                      },
                      {
                        "bin_start": 0.1674902004892725,
                        "bin_end": 0.1826758147512864,
                        "count": 1
                      }
                    ]
                  }
                },
                {
                  "name": "Asian",
                  "dtype": "float64",
                  "stats": {
                    "unique_count": 5,
                    "nan_count": 0,
                    "min": "0.020935960591133",
                    "max": "0.239303843364757",
                    "histogram": [
                      {
                        "bin_start": 0.020935960591133,
                        "bin_end": 0.0427727488684954,
                        "count": 1
                      },
                      {
                        "bin_start": 0.0427727488684954,
                        "bin_end": 0.06460953714585779,
                        "count": 1
                      },
                      {
                        "bin_start": 0.06460953714585779,
                        "bin_end": 0.0864463254232202,
                        "count": 1
                      },
                      {
                        "bin_start": 0.0864463254232202,
                        "bin_end": 0.1082831137005826,
                        "count": 1
                      },
                      {
                        "bin_start": 0.1082831137005826,
                        "bin_end": 0.130119901977945,
                        "count": 0
                      },
                      {
                        "bin_start": 0.130119901977945,
                        "bin_end": 0.1519566902553074,
                        "count": 0
                      },
                      {
                        "bin_start": 0.1519566902553074,
                        "bin_end": 0.1737934785326698,
                        "count": 0
                      },
                      {
                        "bin_start": 0.1737934785326698,
                        "bin_end": 0.1956302668100322,
                        "count": 0
                      },
                      {
                        "bin_start": 0.1956302668100322,
                        "bin_end": 0.2174670550873946,
                        "count": 0
                      },
                      {
                        "bin_start": 0.2174670550873946,
                        "bin_end": 0.239303843364757,
                        "count": 1
                      }
                    ]
                  }
                },
                {
                  "name": "annual_births_per_resident",
                  "dtype": "float64",
                  "stats": {
                    "unique_count": 5,
                    "nan_count": 0,
                    "min": "0.0065095003518648",
                    "max": "0.0166639961544624",
                    "histogram": [
                      {
                        "bin_start": 0.0065095003518648,
                        "bin_end": 0.00752494993212456,
                        "count": 1
                      },
                      {
                        "bin_start": 0.00752494993212456,
                        "bin_end": 0.00854039951238432,
                        "count": 0
                      },
                      {
                        "bin_start": 0.00854039951238432,
                        "bin_end": 0.009555849092644082,
                        "count": 0
                      },
                      {
                        "bin_start": 0.009555849092644082,
                        "bin_end": 0.01057129867290384,
                        "count": 1
                      },
                      {
                        "bin_start": 0.01057129867290384,
                        "bin_end": 0.011586748253163602,
                        "count": 0
                      },
                      {
                        "bin_start": 0.011586748253163602,
                        "bin_end": 0.01260219783342336,
                        "count": 0
                      },
                      {
                        "bin_start": 0.01260219783342336,
                        "bin_end": 0.013617647413683123,
                        "count": 1
                      },
                      {
                        "bin_start": 0.013617647413683123,
                        "bin_end": 0.014633096993942881,
                        "count": 1
                      },
                      {
                        "bin_start": 0.014633096993942881,
                        "bin_end": 0.015648546574202643,
                        "count": 0
                      },
                      {
                        "bin_start": 0.015648546574202643,
                        "bin_end": 0.0166639961544624,
                        "count": 1
                      }
                    ]
                  }
                },
                {
                  "name": "workforce_fraction",
                  "dtype": "float64",
                  "stats": {
                    "unique_count": 5,
                    "nan_count": 0,
                    "min": "0.4230118443316413",
                    "max": "0.5014074595355383",
                    "histogram": [
                      {
                        "bin_start": 0.4230118443316413,
                        "bin_end": 0.430851405852031,
                        "count": 1
                      },
                      {
                        "bin_start": 0.430851405852031,
                        "bin_end": 0.4386909673724207,
                        "count": 0
                      },
                      {
                        "bin_start": 0.4386909673724207,
                        "bin_end": 0.4465305288928104,
                        "count": 1
                      },
                      {
                        "bin_start": 0.4465305288928104,
                        "bin_end": 0.4543700904132001,
                        "count": 1
                      },
                      {
                        "bin_start": 0.4543700904132001,
                        "bin_end": 0.4622096519335898,
                        "count": 0
                      },
                      {
                        "bin_start": 0.4622096519335898,
                        "bin_end": 0.47004921345397954,
                        "count": 0
                      },
                      {
                        "bin_start": 0.47004921345397954,
                        "bin_end": 0.4778887749743692,
                        "count": 0
                      },
                      {
                        "bin_start": 0.4778887749743692,
                        "bin_end": 0.48572833649475894,
                        "count": 0
                      },
                      {
                        "bin_start": 0.48572833649475894,
                        "bin_end": 0.4935678980151486,
                        "count": 0
                      },
                      {
                        "bin_start": 0.4935678980151486,
                        "bin_end": 0.5014074595355383,
                        "count": 2
                      }
                    ]
                  }
                },
                {
                  "name": "public_transportation",
                  "dtype": "float64",
                  "stats": {
                    "unique_count": 5,
                    "nan_count": 0,
                    "min": "0.0105540897097625",
                    "max": "0.2045714285714285",
                    "histogram": [
                      {
                        "bin_start": 0.0105540897097625,
                        "bin_end": 0.029955823595929097,
                        "count": 1
                      },
                      {
                        "bin_start": 0.029955823595929097,
                        "bin_end": 0.0493575574820957,
                        "count": 0
                      },
                      {
                        "bin_start": 0.0493575574820957,
                        "bin_end": 0.0687592913682623,
                        "count": 0
                      },
                      {
                        "bin_start": 0.0687592913682623,
                        "bin_end": 0.0881610252544289,
                        "count": 1
                      },
                      {
                        "bin_start": 0.0881610252544289,
                        "bin_end": 0.1075627591405955,
                        "count": 1
                      },
                      {
                        "bin_start": 0.1075627591405955,
                        "bin_end": 0.12696449302676208,
                        "count": 0
                      },
                      {
                        "bin_start": 0.12696449302676208,
                        "bin_end": 0.1463662269129287,
                        "count": 0
                      },
                      {
                        "bin_start": 0.1463662269129287,
                        "bin_end": 0.16576796079909528,
                        "count": 1
                      },
                      {
                        "bin_start": 0.16576796079909528,
                        "bin_end": 0.18516969468526187,
                        "count": 0
                      },
                      {
                        "bin_start": 0.18516969468526187,
                        "bin_end": 0.2045714285714285,
                        "count": 1
                      }
                    ]
                  }
                },
                {
                  "name": "mean_household_income",
                  "dtype": "int64",
                  "stats": {
                    "unique_count": 5,
                    "nan_count": 0,
                    "min": "41771",
                    "max": "61814",
                    "histogram": [
                      {
                        "bin_start": 41771,
                        "bin_end": 43775.3,
                        "count": 2
                      },
                      {
                        "bin_start": 43775.3,
                        "bin_end": 45779.6,
                        "count": 0
                      },
                      {
                        "bin_start": 45779.6,
                        "bin_end": 47783.9,
                        "count": 0
                      },
                      {
                        "bin_start": 47783.9,
                        "bin_end": 49788.2,
                        "count": 1
                      },
                      {
                        "bin_start": 49788.2,
                        "bin_end": 51792.5,
                        "count": 0
                      },
                      {
                        "bin_start": 51792.5,
                        "bin_end": 53796.8,
                        "count": 0
                      },
                      {
                        "bin_start": 53796.8,
                        "bin_end": 55801.1,
                        "count": 0
                      },
                      {
                        "bin_start": 55801.1,
                        "bin_end": 57805.4,
                        "count": 0
                      },
                      {
                        "bin_start": 57805.4,
                        "bin_end": 59809.7,
                        "count": 0
                      },
                      {
                        "bin_start": 59809.7,
                        "bin_end": 61814,
                        "count": 2
                      }
                    ]
                  }
                },
                {
                  "name": "avg_household_size",
                  "dtype": "float64",
                  "stats": {
                    "unique_count": 5,
                    "nan_count": 0,
                    "min": "1.77",
                    "max": "3.51",
                    "histogram": [
                      {
                        "bin_start": 1.77,
                        "bin_end": 1.944,
                        "count": 1
                      },
                      {
                        "bin_start": 1.944,
                        "bin_end": 2.118,
                        "count": 0
                      },
                      {
                        "bin_start": 2.118,
                        "bin_end": 2.292,
                        "count": 0
                      },
                      {
                        "bin_start": 2.292,
                        "bin_end": 2.466,
                        "count": 0
                      },
                      {
                        "bin_start": 2.466,
                        "bin_end": 2.6399999999999997,
                        "count": 0
                      },
                      {
                        "bin_start": 2.6399999999999997,
                        "bin_end": 2.814,
                        "count": 0
                      },
                      {
                        "bin_start": 2.814,
                        "bin_end": 2.988,
                        "count": 1
                      },
                      {
                        "bin_start": 2.988,
                        "bin_end": 3.162,
                        "count": 0
                      },
                      {
                        "bin_start": 3.162,
                        "bin_end": 3.336,
                        "count": 2
                      },
                      {
                        "bin_start": 3.336,
                        "bin_end": 3.51,
                        "count": 1
                      }
                    ]
                  }
                },
                {
                  "name": "percent_mortgage",
                  "dtype": "float64",
                  "stats": {
                    "unique_count": 5,
                    "nan_count": 0,
                    "min": "0.2692307692307692",
                    "max": "0.8603945371775418",
                    "histogram": [
                      {
                        "bin_start": 0.2692307692307692,
                        "bin_end": 0.32834714602544646,
                        "count": 1
                      },
                      {
                        "bin_start": 0.32834714602544646,
                        "bin_end": 0.38746352282012375,
                        "count": 0
                      },
                      {
                        "bin_start": 0.38746352282012375,
                        "bin_end": 0.446579899614801,
                        "count": 0
                      },
                      {
                        "bin_start": 0.446579899614801,
                        "bin_end": 0.5056962764094782,
                        "count": 0
                      },
                      {
                        "bin_start": 0.5056962764094782,
                        "bin_end": 0.5648126532041555,
                        "count": 0
                      },
                      {
                        "bin_start": 0.5648126532041555,
                        "bin_end": 0.6239290299988327,
                        "count": 0
                      },
                      {
                        "bin_start": 0.6239290299988327,
                        "bin_end": 0.68304540679351,
                        "count": 0
                      },
                      {
                        "bin_start": 0.68304540679351,
                        "bin_end": 0.7421617835881873,
                        "count": 1
                      },
                      {
                        "bin_start": 0.7421617835881873,
                        "bin_end": 0.8012781603828645,
                        "count": 1
                      },
                      {
                        "bin_start": 0.8012781603828645,
                        "bin_end": 0.8603945371775418,
                        "count": 2
                      }
                    ]
                  }
                },
                {
                  "name": "built 2014 or later",
                  "dtype": "float64",
                  "stats": {
                    "unique_count": 4,
                    "nan_count": 0,
                    "min": "0.0",
                    "max": "0.06318347509113",
                    "histogram": [
                      {
                        "bin_start": 0,
                        "bin_end": 0.006318347509112999,
                        "count": 4
                      },
                      {
                        "bin_start": 0.006318347509112999,
                        "bin_end": 0.012636695018225999,
                        "count": 0
                      },
                      {
                        "bin_start": 0.012636695018225999,
                        "bin_end": 0.018955042527338997,
                        "count": 0
                      },
                      {
                        "bin_start": 0.018955042527338997,
                        "bin_end": 0.025273390036451997,
                        "count": 0
                      },
                      {
                        "bin_start": 0.025273390036451997,
                        "bin_end": 0.031591737545565,
                        "count": 0
                      },
                      {
                        "bin_start": 0.031591737545565,
                        "bin_end": 0.037910085054677994,
                        "count": 0
                      },
                      {
                        "bin_start": 0.037910085054677994,
                        "bin_end": 0.044228432563791,
                        "count": 0
                      },
                      {
                        "bin_start": 0.044228432563791,
                        "bin_end": 0.050546780072903995,
                        "count": 0
                      },
                      {
                        "bin_start": 0.050546780072903995,
                        "bin_end": 0.05686512758201699,
                        "count": 0
                      },
                      {
                        "bin_start": 0.05686512758201699,
                        "bin_end": 0.06318347509113,
                        "count": 1
                      }
                    ]
                  }
                },
                {
                  "name": "built 2010-2013",
                  "dtype": "float64",
                  "stats": {
                    "unique_count": 3,
                    "nan_count": 0,
                    "min": "0.0",
                    "max": "0.2904009720534629",
                    "histogram": [
                      {
                        "bin_start": 0,
                        "bin_end": 0.02904009720534629,
                        "count": 4
                      },
                      {
                        "bin_start": 0.02904009720534629,
                        "bin_end": 0.05808019441069258,
                        "count": 0
                      },
                      {
                        "bin_start": 0.05808019441069258,
                        "bin_end": 0.08712029161603888,
                        "count": 0
                      },
                      {
                        "bin_start": 0.08712029161603888,
                        "bin_end": 0.11616038882138516,
                        "count": 0
                      },
                      {
                        "bin_start": 0.11616038882138516,
                        "bin_end": 0.14520048602673144,
                        "count": 0
                      },
                      {
                        "bin_start": 0.14520048602673144,
                        "bin_end": 0.17424058323207775,
                        "count": 0
                      },
                      {
                        "bin_start": 0.17424058323207775,
                        "bin_end": 0.20328068043742403,
                        "count": 0
                      },
                      {
                        "bin_start": 0.20328068043742403,
                        "bin_end": 0.23232077764277032,
                        "count": 0
                      },
                      {
                        "bin_start": 0.23232077764277032,
                        "bin_end": 0.2613608748481166,
                        "count": 0
                      },
                      {
                        "bin_start": 0.2613608748481166,
                        "bin_end": 0.2904009720534629,
                        "count": 1
                      }
                    ]
                  }
                },
                {
                  "name": "built 2000-2009",
                  "dtype": "float64",
                  "stats": {
                    "unique_count": 5,
                    "nan_count": 0,
                    "min": "0.0038356164383561",
                    "max": "0.5078979343863913",
                    "histogram": [
                      {
                        "bin_start": 0.0038356164383561,
                        "bin_end": 0.054241848233159626,
                        "count": 3
                      },
                      {
                        "bin_start": 0.054241848233159626,
                        "bin_end": 0.10464808002796315,
                        "count": 0
                      },
                      {
                        "bin_start": 0.10464808002796315,
                        "bin_end": 0.15505431182276666,
                        "count": 1
                      },
                      {
                        "bin_start": 0.15505431182276666,
                        "bin_end": 0.20546054361757018,
                        "count": 0
                      },
                      {
                        "bin_start": 0.20546054361757018,
                        "bin_end": 0.25586677541237374,
                        "count": 0
                      },
                      {
                        "bin_start": 0.25586677541237374,
                        "bin_end": 0.30627300720717726,
                        "count": 0
                      },
                      {
                        "bin_start": 0.30627300720717726,
                        "bin_end": 0.3566792390019808,
                        "count": 0
                      },
                      {
                        "bin_start": 0.3566792390019808,
                        "bin_end": 0.4070854707967843,
                        "count": 0
                      },
                      {
                        "bin_start": 0.4070854707967843,
                        "bin_end": 0.45749170259158783,
                        "count": 0
                      },
                      {
                        "bin_start": 0.45749170259158783,
                        "bin_end": 0.5078979343863913,
                        "count": 1
                      }
                    ]
                  }
                },
                {
                  "name": "<18",
                  "dtype": "float64",
                  "stats": {
                    "unique_count": 5,
                    "nan_count": 0,
                    "min": "0.0754098360655737",
                    "max": "0.3359922649262751",
                    "histogram": [
                      {
                        "bin_start": 0.0754098360655737,
                        "bin_end": 0.10146807895164384,
                        "count": 1
                      },
                      {
                        "bin_start": 0.10146807895164384,
                        "bin_end": 0.12752632183771395,
                        "count": 0
                      },
                      {
                        "bin_start": 0.12752632183771395,
                        "bin_end": 0.1535845647237841,
                        "count": 0
                      },
                      {
                        "bin_start": 0.1535845647237841,
                        "bin_end": 0.17964280760985424,
                        "count": 0
                      },
                      {
                        "bin_start": 0.17964280760985424,
                        "bin_end": 0.20570105049592438,
                        "count": 0
                      },
                      {
                        "bin_start": 0.20570105049592438,
                        "bin_end": 0.2317592933819945,
                        "count": 0
                      },
                      {
                        "bin_start": 0.2317592933819945,
                        "bin_end": 0.25781753626806464,
                        "count": 0
                      },
                      {
                        "bin_start": 0.25781753626806464,
                        "bin_end": 0.28387577915413476,
                        "count": 0
                      },
                      {
                        "bin_start": 0.28387577915413476,
                        "bin_end": 0.3099340220402049,
                        "count": 2
                      },
                      {
                        "bin_start": 0.3099340220402049,
                        "bin_end": 0.3359922649262751,
                        "count": 2
                      }
                    ]
                  }
                },
                {
                  "name": "commute_under_30",
                  "dtype": "float64",
                  "stats": {
                    "unique_count": 5,
                    "nan_count": 0,
                    "min": "47.678703000000006",
                    "max": "73.74517399999999",
                    "histogram": [
                      {
                        "bin_start": 47.678703000000006,
                        "bin_end": 50.2853501,
                        "count": 1
                      },
                      {
                        "bin_start": 50.2853501,
                        "bin_end": 52.891997200000006,
                        "count": 0
                      },
                      {
                        "bin_start": 52.891997200000006,
                        "bin_end": 55.4986443,
                        "count": 0
                      },
                      {
                        "bin_start": 55.4986443,
                        "bin_end": 58.1052914,
                        "count": 1
                      },
                      {
                        "bin_start": 58.1052914,
                        "bin_end": 60.7119385,
                        "count": 1
                      },
                      {
                        "bin_start": 60.7119385,
                        "bin_end": 63.3185856,
                        "count": 1
                      },
                      {
                        "bin_start": 63.3185856,
                        "bin_end": 65.9252327,
                        "count": 0
                      },
                      {
                        "bin_start": 65.9252327,
                        "bin_end": 68.5318798,
                        "count": 0
                      },
                      {
                        "bin_start": 68.5318798,
                        "bin_end": 71.13852689999999,
                        "count": 0
                      },
                      {
                        "bin_start": 71.13852689999999,
                        "bin_end": 73.74517399999999,
                        "count": 1
                      }
                    ]
                  }
                },
                {
                  "name": "18-59",
                  "dtype": "float64",
                  "stats": {
                    "unique_count": 5,
                    "nan_count": 0,
                    "min": "0.5483095657747156",
                    "max": "0.7855737704918031",
                    "histogram": [
                      {
                        "bin_start": 0.5483095657747156,
                        "bin_end": 0.5720359862464244,
                        "count": 2
                      },
                      {
                        "bin_start": 0.5720359862464244,
                        "bin_end": 0.5957624067181331,
                        "count": 0
                      },
                      {
                        "bin_start": 0.5957624067181331,
                        "bin_end": 0.6194888271898418,
                        "count": 0
                      },
                      {
                        "bin_start": 0.6194888271898418,
                        "bin_end": 0.6432152476615506,
                        "count": 2
                      },
                      {
                        "bin_start": 0.6432152476615506,
                        "bin_end": 0.6669416681332594,
                        "count": 0
                      },
                      {
                        "bin_start": 0.6669416681332594,
                        "bin_end": 0.6906680886049681,
                        "count": 0
                      },
                      {
                        "bin_start": 0.6906680886049681,
                        "bin_end": 0.7143945090766768,
                        "count": 0
                      },
                      {
                        "bin_start": 0.7143945090766768,
                        "bin_end": 0.7381209295483856,
                        "count": 0
                      },
                      {
                        "bin_start": 0.7381209295483856,
                        "bin_end": 0.7618473500200944,
                        "count": 0
                      },
                      {
                        "bin_start": 0.7618473500200944,
                        "bin_end": 0.7855737704918031,
                        "count": 1
                      }
                    ]
                  }
                },
                {
                  "name": "_deepnote_index_column",
                  "dtype": "int64"
                }
              ],
              "rows_top": [
                {
                  "ct_key": 8001007801,
                  "median_rental_price": 1316,
                  "average_annual_rent_as_percentage_of_property_value": 6.024884,
                  "farm_score": 100,
                  "pop_density": 15066.473217,
                  "urban_score": 10,
                  "rural_score": 83,
                  "built 1995 or later": 13.033873,
                  "built 1970-1994": 45.729013,
                  "built 1940-1969": 36.745214,
                  "built before 1940": 4.4919,
                  "single_family_detached_pct": 19.072165,
                  "rowhouses_and_attached_homes_pct": 4.639175,
                  "small_apt_buildings_pct": 12.81296,
                  "complexes/high_rise_apt_pct": 63.4757,
                  "mobile_home_pct": 0,
                  "rental_rate": 91.765904,
                  "seasonal_housing_pct": 0,
                  "vacant_homes_pct": 5.743741,
                  "family_friendly_score": 88.003519,
                  "first_time_homebuyer_score": 88.70961199999999,
                  "luxury_communities_score": 93.683181,
                  "retirement_friendly_score": 99.866645,
                  "young_single_professional_score": 53.691517000000005,
                  "college_student_friendly_score": 88.873766,
                  "property_crime_rate": 49.839228000000006,
                  "standardized_test_score_percentile": 11.341791,
                  "pct_pop_at_least_college_degree": 0.074121,
                  "children_poverty_pct": 0.420058,
                  "Hispanic": 0.4597534445250181,
                  "White": 0.1474498428813149,
                  "Black": 0.1177181532511481,
                  "Asian": 0.239303843364757,
                  "annual_births_per_resident": 0.0145032632342277,
                  "workforce_fraction": 0.4230118443316413,
                  "public_transportation": 0.2045714285714285,
                  "mean_household_income": 42004,
                  "avg_household_size": 3.18,
                  "percent_mortgage": 0.8037383177570093,
                  "built 2014 or later": 0,
                  "built 2010-2013": 0,
                  "built 2000-2009": 0.1303387334315169,
                  "<18": 0.3359922649262751,
                  "commute_under_30": 60.944700000000005,
                  "18-59": 0.5578921924099587,
                  "_deepnote_index_column": 0
                },
                {
                  "ct_key": 8001007802,
                  "median_rental_price": 1239,
                  "average_annual_rent_as_percentage_of_property_value": 9.187587,
                  "farm_score": 100,
                  "pop_density": 15270.696288,
                  "urban_score": 10,
                  "rural_score": 83,
                  "built 1995 or later": 1.555412,
                  "built 1970-1994": 53.856124,
                  "built 1940-1969": 43.097861,
                  "built before 1940": 1.490603,
                  "single_family_detached_pct": 15.942968,
                  "rowhouses_and_attached_homes_pct": 3.370058,
                  "small_apt_buildings_pct": 3.434867,
                  "complexes/high_rise_apt_pct": 76.085548,
                  "mobile_home_pct": 1.166559,
                  "rental_rate": 91.258183,
                  "seasonal_housing_pct": 0,
                  "vacant_homes_pct": 6.351264,
                  "family_friendly_score": 94.606671,
                  "first_time_homebuyer_score": 88.95150100000001,
                  "luxury_communities_score": 96.101273,
                  "retirement_friendly_score": 99.907889,
                  "young_single_professional_score": 52.73985,
                  "college_student_friendly_score": 91.316781,
                  "property_crime_rate": 59.872272,
                  "standardized_test_score_percentile": 8.345964,
                  "pct_pop_at_least_college_degree": 0.0297769999999999,
                  "children_poverty_pct": 0.460476,
                  "Hispanic": 0.5698970840480274,
                  "White": 0.1350771869639794,
                  "Black": 0.1826758147512864,
                  "Asian": 0.0677530017152658,
                  "annual_births_per_resident": 0.0126500857632933,
                  "workforce_fraction": 0.4472555746140652,
                  "public_transportation": 0.160594439117929,
                  "mean_household_income": 41771,
                  "avg_household_size": 3.21,
                  "percent_mortgage": 0.7244094488188977,
                  "built 2014 or later": 0,
                  "built 2010-2013": 0,
                  "built 2000-2009": 0.0155541153596889,
                  "<18": 0.2868782161234991,
                  "commute_under_30": 55.582406999999996,
                  "18-59": 0.6303602058319038,
                  "_deepnote_index_column": 1
                },
                {
                  "ct_key": 8001007900,
                  "median_rental_price": 1482,
                  "average_annual_rent_as_percentage_of_property_value": 10.041348,
                  "farm_score": 100,
                  "pop_density": 8644.378631,
                  "urban_score": 6,
                  "rural_score": 76,
                  "built 1995 or later": 2.57044,
                  "built 1970-1994": 39.001483,
                  "built 1940-1969": 49.085517,
                  "built before 1940": 9.342561,
                  "single_family_detached_pct": 51.75482,
                  "rowhouses_and_attached_homes_pct": 3.311913,
                  "small_apt_buildings_pct": 5.635195,
                  "complexes/high_rise_apt_pct": 39.298072,
                  "mobile_home_pct": 0,
                  "rental_rate": 65.473905,
                  "seasonal_housing_pct": 0,
                  "vacant_homes_pct": 5.882353,
                  "family_friendly_score": 82.33523100000001,
                  "first_time_homebuyer_score": 46.875042,
                  "luxury_communities_score": 81.712204,
                  "retirement_friendly_score": 96.969947,
                  "young_single_professional_score": 50.823170000000005,
                  "college_student_friendly_score": 61.079491,
                  "property_crime_rate": 47.164716,
                  "standardized_test_score_percentile": 9.550928,
                  "pct_pop_at_least_college_degree": 0.151132,
                  "children_poverty_pct": 0.279825,
                  "Hispanic": 0.5520760028149191,
                  "White": 0.2262491203377903,
                  "Black": 0.1437368050668543,
                  "Asian": 0.020935960591133,
                  "annual_births_per_resident": 0.0065095003518648,
                  "workforce_fraction": 0.5014074595355383,
                  "public_transportation": 0.0901754385964912,
                  "mean_household_income": 48359,
                  "avg_household_size": 2.98,
                  "percent_mortgage": 0.8603945371775418,
                  "built 2014 or later": 0.0029658922392486,
                  "built 2010-2013": 0.0148294611962432,
                  "built 2000-2009": 0.0079090459713297,
                  "<18": 0.2941590429275158,
                  "commute_under_30": 58.484525000000005,
                  "18-59": 0.6335327234342012,
                  "_deepnote_index_column": 2
                },
                {
                  "ct_key": 8001008000,
                  "median_rental_price": 1499,
                  "average_annual_rent_as_percentage_of_property_value": 7.532211,
                  "farm_score": 100,
                  "pop_density": 7448.779495999999,
                  "urban_score": 3,
                  "rural_score": 73,
                  "built 1995 or later": 0.767123,
                  "built 1970-1994": 23.342466,
                  "built 1940-1969": 73.643836,
                  "built before 1940": 2.246575,
                  "single_family_detached_pct": 73.534247,
                  "rowhouses_and_attached_homes_pct": 5.424658,
                  "small_apt_buildings_pct": 9.972603,
                  "complexes/high_rise_apt_pct": 11.013699,
                  "mobile_home_pct": 0.054795,
                  "rental_rate": 48.471233000000005,
                  "seasonal_housing_pct": 0,
                  "vacant_homes_pct": 2.794521,
                  "family_friendly_score": 66.152493,
                  "first_time_homebuyer_score": 27.052337,
                  "luxury_communities_score": 79.21253,
                  "retirement_friendly_score": 90.990954,
                  "young_single_professional_score": 58.412211,
                  "college_student_friendly_score": 74.119442,
                  "property_crime_rate": 46.151167,
                  "standardized_test_score_percentile": 10.130373,
                  "pct_pop_at_least_college_degree": 0.119054,
                  "children_poverty_pct": 0.280513,
                  "Hispanic": 0.5212305720237141,
                  "White": 0.2153501041499759,
                  "Black": 0.1430860439032206,
                  "Asian": 0.0551193718955295,
                  "annual_births_per_resident": 0.0166639961544624,
                  "workforce_fraction": 0.4441595898093254,
                  "public_transportation": 0.0782828282828282,
                  "mean_household_income": 60798,
                  "avg_household_size": 3.51,
                  "percent_mortgage": 0.7573770491803279,
                  "built 2014 or later": 0.0038356164383561,
                  "built 2010-2013": 0,
                  "built 2000-2009": 0.0038356164383561,
                  "<18": 0.3310366928376863,
                  "commute_under_30": 47.678703000000006,
                  "18-59": 0.5483095657747156,
                  "_deepnote_index_column": 3
                },
                {
                  "ct_key": 8001008100,
                  "median_rental_price": 2203,
                  "average_annual_rent_as_percentage_of_property_value": 10.072085,
                  "farm_score": 100,
                  "pop_density": 820.952275,
                  "urban_score": 51,
                  "rural_score": 19,
                  "built 1995 or later": 86.148238,
                  "built 1970-1994": 12.758202,
                  "built 1940-1969": 1.09356,
                  "built before 1940": 0,
                  "single_family_detached_pct": 3.159174,
                  "rowhouses_and_attached_homes_pct": 0,
                  "small_apt_buildings_pct": 0,
                  "complexes/high_rise_apt_pct": 90.400972,
                  "mobile_home_pct": 6.439854,
                  "rental_rate": 96.990616,
                  "seasonal_housing_pct": 0.8505469999999999,
                  "vacant_homes_pct": 13.608748,
                  "family_friendly_score": 99.648052,
                  "first_time_homebuyer_score": 40.117025,
                  "luxury_communities_score": 28.282155,
                  "retirement_friendly_score": 78.085732,
                  "young_single_professional_score": 16.726039,
                  "college_student_friendly_score": 99.000522,
                  "property_crime_rate": 56.206089,
                  "standardized_test_score_percentile": 12.581497,
                  "pct_pop_at_least_college_degree": 0.610526,
                  "children_poverty_pct": 0.169643,
                  "Hispanic": 0.2281967213114754,
                  "White": 0.5783606557377049,
                  "Black": 0.0308196721311475,
                  "Asian": 0.0977049180327868,
                  "annual_births_per_resident": 0.0098360655737704,
                  "workforce_fraction": 0.4970491803278689,
                  "public_transportation": 0.0105540897097625,
                  "mean_household_income": 61814,
                  "avg_household_size": 1.77,
                  "percent_mortgage": 0.2692307692307692,
                  "built 2014 or later": 0.06318347509113,
                  "built 2010-2013": 0.2904009720534629,
                  "built 2000-2009": 0.5078979343863913,
                  "<18": 0.0754098360655737,
                  "commute_under_30": 73.74517399999999,
                  "18-59": 0.7855737704918031,
                  "_deepnote_index_column": 4
                }
              ],
              "rows_bottom": null
            },
            "text/plain": "       ct_key  median_rental_price  \\\n0  8001007801               1316.0   \n1  8001007802               1239.0   \n2  8001007900               1482.0   \n3  8001008000               1499.0   \n4  8001008100               2203.0   \n\n   average_annual_rent_as_percentage_of_property_value  farm_score  \\\n0                                           6.024884         100.0   \n1                                           9.187587         100.0   \n2                                          10.041348         100.0   \n3                                           7.532211         100.0   \n4                                          10.072085         100.0   \n\n    pop_density  urban_score  rural_score  built 1995 or later  \\\n0  15066.473217         10.0         83.0            13.033873   \n1  15270.696288         10.0         83.0             1.555412   \n2   8644.378631          6.0         76.0             2.570440   \n3   7448.779496          3.0         73.0             0.767123   \n4    820.952275         51.0         19.0            86.148238   \n\n   built 1970-1994  built 1940-1969  ...  public_transportation  \\\n0        45.729013        36.745214  ...               0.204571   \n1        53.856124        43.097861  ...               0.160594   \n2        39.001483        49.085517  ...               0.090175   \n3        23.342466        73.643836  ...               0.078283   \n4        12.758202         1.093560  ...               0.010554   \n\n   mean_household_income  avg_household_size  percent_mortgage  \\\n0                  42004                3.18          0.803738   \n1                  41771                3.21          0.724409   \n2                  48359                2.98          0.860395   \n3                  60798                3.51          0.757377   \n4                  61814                1.77          0.269231   \n\n   built 2014 or later  built 2010-2013  built 2000-2009       <18  \\\n0             0.000000         0.000000         0.130339  0.335992   \n1             0.000000         0.000000         0.015554  0.286878   \n2             0.002966         0.014829         0.007909  0.294159   \n3             0.003836         0.000000         0.003836  0.331037   \n4             0.063183         0.290401         0.507898  0.075410   \n\n   commute_under_30     18-59  \n0         60.944700  0.557892  \n1         55.582407  0.630360  \n2         58.484525  0.633533  \n3         47.678703  0.548310  \n4         73.745174  0.785574  \n\n[5 rows x 45 columns]",
            "text/html": "<div>\n<style scoped>\n    .dataframe tbody tr th:only-of-type {\n        vertical-align: middle;\n    }\n\n    .dataframe tbody tr th {\n        vertical-align: top;\n    }\n\n    .dataframe thead th {\n        text-align: right;\n    }\n</style>\n<table border=\"1\" class=\"dataframe\">\n  <thead>\n    <tr style=\"text-align: right;\">\n      <th></th>\n      <th>ct_key</th>\n      <th>median_rental_price</th>\n      <th>average_annual_rent_as_percentage_of_property_value</th>\n      <th>farm_score</th>\n      <th>pop_density</th>\n      <th>urban_score</th>\n      <th>rural_score</th>\n      <th>built 1995 or later</th>\n      <th>built 1970-1994</th>\n      <th>built 1940-1969</th>\n      <th>...</th>\n      <th>public_transportation</th>\n      <th>mean_household_income</th>\n      <th>avg_household_size</th>\n      <th>percent_mortgage</th>\n      <th>built 2014 or later</th>\n      <th>built 2010-2013</th>\n      <th>built 2000-2009</th>\n      <th>&lt;18</th>\n      <th>commute_under_30</th>\n      <th>18-59</th>\n    </tr>\n  </thead>\n  <tbody>\n    <tr>\n      <th>0</th>\n      <td>8001007801</td>\n      <td>1316.0</td>\n      <td>6.024884</td>\n      <td>100.0</td>\n      <td>15066.473217</td>\n      <td>10.0</td>\n      <td>83.0</td>\n      <td>13.033873</td>\n      <td>45.729013</td>\n      <td>36.745214</td>\n      <td>...</td>\n      <td>0.204571</td>\n      <td>42004</td>\n      <td>3.18</td>\n      <td>0.803738</td>\n      <td>0.000000</td>\n      <td>0.000000</td>\n      <td>0.130339</td>\n      <td>0.335992</td>\n      <td>60.944700</td>\n      <td>0.557892</td>\n    </tr>\n    <tr>\n      <th>1</th>\n      <td>8001007802</td>\n      <td>1239.0</td>\n      <td>9.187587</td>\n      <td>100.0</td>\n      <td>15270.696288</td>\n      <td>10.0</td>\n      <td>83.0</td>\n      <td>1.555412</td>\n      <td>53.856124</td>\n      <td>43.097861</td>\n      <td>...</td>\n      <td>0.160594</td>\n      <td>41771</td>\n      <td>3.21</td>\n      <td>0.724409</td>\n      <td>0.000000</td>\n      <td>0.000000</td>\n      <td>0.015554</td>\n      <td>0.286878</td>\n      <td>55.582407</td>\n      <td>0.630360</td>\n    </tr>\n    <tr>\n      <th>2</th>\n      <td>8001007900</td>\n      <td>1482.0</td>\n      <td>10.041348</td>\n      <td>100.0</td>\n      <td>8644.378631</td>\n      <td>6.0</td>\n      <td>76.0</td>\n      <td>2.570440</td>\n      <td>39.001483</td>\n      <td>49.085517</td>\n      <td>...</td>\n      <td>0.090175</td>\n      <td>48359</td>\n      <td>2.98</td>\n      <td>0.860395</td>\n      <td>0.002966</td>\n      <td>0.014829</td>\n      <td>0.007909</td>\n      <td>0.294159</td>\n      <td>58.484525</td>\n      <td>0.633533</td>\n    </tr>\n    <tr>\n      <th>3</th>\n      <td>8001008000</td>\n      <td>1499.0</td>\n      <td>7.532211</td>\n      <td>100.0</td>\n      <td>7448.779496</td>\n      <td>3.0</td>\n      <td>73.0</td>\n      <td>0.767123</td>\n      <td>23.342466</td>\n      <td>73.643836</td>\n      <td>...</td>\n      <td>0.078283</td>\n      <td>60798</td>\n      <td>3.51</td>\n      <td>0.757377</td>\n      <td>0.003836</td>\n      <td>0.000000</td>\n      <td>0.003836</td>\n      <td>0.331037</td>\n      <td>47.678703</td>\n      <td>0.548310</td>\n    </tr>\n    <tr>\n      <th>4</th>\n      <td>8001008100</td>\n      <td>2203.0</td>\n      <td>10.072085</td>\n      <td>100.0</td>\n      <td>820.952275</td>\n      <td>51.0</td>\n      <td>19.0</td>\n      <td>86.148238</td>\n      <td>12.758202</td>\n      <td>1.093560</td>\n      <td>...</td>\n      <td>0.010554</td>\n      <td>61814</td>\n      <td>1.77</td>\n      <td>0.269231</td>\n      <td>0.063183</td>\n      <td>0.290401</td>\n      <td>0.507898</td>\n      <td>0.075410</td>\n      <td>73.745174</td>\n      <td>0.785574</td>\n    </tr>\n  </tbody>\n</table>\n<p>5 rows × 45 columns</p>\n</div>"
          },
          "metadata": {}
        }
      ]
    },
    {
      "cell_type": "code",
      "metadata": {
        "tags": [],
        "cell_id": "00017-245c528c-b212-451f-817c-3ddf93143b61",
        "deepnote_to_be_reexecuted": false,
        "source_hash": "bbaed40c",
        "execution_millis": 60,
        "execution_start": 1618841784631,
        "deepnote_cell_type": "code"
      },
      "source": "X.to_csv('../data/census_tract_reduced.csv')",
      "execution_count": null,
      "outputs": []
    },
    {
      "cell_type": "code",
      "metadata": {
        "tags": [],
        "cell_id": "00018-03226608-759f-4807-b442-b05dd2fc2209",
        "deepnote_cell_type": "code"
      },
      "source": "",
      "execution_count": null,
      "outputs": []
    },
    {
      "cell_type": "markdown",
      "source": "<a style='text-decoration:none;line-height:16px;display:flex;color:#5B5B62;padding:10px;justify-content:end;' href='https://deepnote.com?utm_source=created-in-deepnote-cell&projectId=1c850c61-d934-4c85-b16d-3cb283df0c84' target=\"_blank\">\n<img alt='Created in deepnote.com' style='display:inline;max-height:16px;margin:0px;margin-right:7.5px;' src='data:image/svg+xml;base64,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' > </img>\nCreated in <span style='font-weight:600;margin-left:4px;'>Deepnote</span></a>",
      "metadata": {
        "tags": [],
        "created_in_deepnote_cell": true,
        "deepnote_cell_type": "markdown"
      }
    }
  ],
  "nbformat": 4,
  "nbformat_minor": 2,
  "metadata": {
    "orig_nbformat": 2,
    "deepnote": {
      "is_reactive": false
    },
    "deepnote_notebook_id": "01f1b8fd-7525-49f8-a9f7-afb18be96de5",
    "deepnote_execution_queue": []
  }
}