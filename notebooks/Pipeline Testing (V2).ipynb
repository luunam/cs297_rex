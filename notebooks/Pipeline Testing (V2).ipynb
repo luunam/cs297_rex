{
  "cells": [
    {
      "cell_type": "code",
      "metadata": {
        "tags": [],
        "cell_id": "00000-714101db-0962-44f1-834e-1f2d710deb27",
        "deepnote_to_be_reexecuted": false,
        "source_hash": "42000ed4",
        "execution_start": 1617793057778,
        "execution_millis": 11724,
        "deepnote_cell_type": "code"
      },
      "source": "!pip install category_encoders==2.2.2",
      "execution_count": null,
      "outputs": [
        {
          "name": "stdout",
          "text": "Collecting category_encoders==2.2.2\n  Downloading category_encoders-2.2.2-py2.py3-none-any.whl (80 kB)\n\u001b[K     |████████████████████████████████| 80 kB 13.3 MB/s \n\u001b[?25hRequirement already satisfied: scipy>=1.0.0 in /shared-libs/python3.7/py/lib/python3.7/site-packages (from category_encoders==2.2.2) (1.6.1)\nRequirement already satisfied: patsy>=0.5.1 in /root/venv/lib/python3.7/site-packages (from category_encoders==2.2.2) (0.5.1)\nCollecting statsmodels>=0.9.0\n  Downloading statsmodels-0.12.2-cp37-cp37m-manylinux1_x86_64.whl (9.5 MB)\n\u001b[K     |████████████████████████████████| 9.5 MB 45.3 MB/s \n\u001b[?25hRequirement already satisfied: numpy>=1.14.0 in /shared-libs/python3.7/py/lib/python3.7/site-packages (from category_encoders==2.2.2) (1.19.5)\nRequirement already satisfied: pandas>=0.21.1 in /shared-libs/python3.7/py/lib/python3.7/site-packages (from category_encoders==2.2.2) (1.2.3)\nRequirement already satisfied: scikit-learn>=0.20.0 in /shared-libs/python3.7/py/lib/python3.7/site-packages (from category_encoders==2.2.2) (0.24.1)\nRequirement already satisfied: six in /shared-libs/python3.7/py-core/lib/python3.7/site-packages (from patsy>=0.5.1->category_encoders==2.2.2) (1.15.0)\nRequirement already satisfied: python-dateutil>=2.7.3 in /shared-libs/python3.7/py-core/lib/python3.7/site-packages (from pandas>=0.21.1->category_encoders==2.2.2) (2.8.1)\nRequirement already satisfied: pytz>=2017.3 in /shared-libs/python3.7/py/lib/python3.7/site-packages (from pandas>=0.21.1->category_encoders==2.2.2) (2021.1)\nRequirement already satisfied: threadpoolctl>=2.0.0 in /shared-libs/python3.7/py/lib/python3.7/site-packages (from scikit-learn>=0.20.0->category_encoders==2.2.2) (2.1.0)\nRequirement already satisfied: joblib>=0.11 in /shared-libs/python3.7/py/lib/python3.7/site-packages (from scikit-learn>=0.20.0->category_encoders==2.2.2) (1.0.1)\nInstalling collected packages: statsmodels, category-encoders\nSuccessfully installed category-encoders-2.2.2 statsmodels-0.12.2\n\u001b[33mWARNING: You are using pip version 20.1.1; however, version 21.0.1 is available.\nYou should consider upgrading via the '/root/venv/bin/python -m pip install --upgrade pip' command.\u001b[0m\n",
          "output_type": "stream"
        }
      ]
    },
    {
      "cell_type": "code",
      "metadata": {
        "tags": [],
        "cell_id": "00000-c67e944b-6f13-4886-8528-9772ec50ebfc",
        "deepnote_to_be_reexecuted": false,
        "source_hash": "94e8f427",
        "execution_millis": 170,
        "execution_start": 1617793130631,
        "deepnote_cell_type": "code"
      },
      "source": "import sys\nsys.path.insert(0, '../scripts/')\n\nimport numpy as np\nimport pandas as pd\n\nfrom data_pipeline import clean_dataset\nfrom data_listed_pipeline import join_listing_dates\n%matplotlib inline",
      "execution_count": null,
      "outputs": []
    },
    {
      "cell_type": "code",
      "metadata": {
        "tags": [],
        "cell_id": "00001-d6161ed5-eb55-472c-b71a-1d9edd424ec8",
        "deepnote_to_be_reexecuted": false,
        "source_hash": "afd256c0",
        "execution_millis": 1267,
        "execution_start": 1617793143250,
        "deepnote_cell_type": "code"
      },
      "source": "df = pd.read_csv('../data/denver_listing_dates_revised_with_ct.csv')\ndf.info()",
      "execution_count": null,
      "outputs": [
        {
          "name": "stdout",
          "text": "<class 'pandas.core.frame.DataFrame'>\nRangeIndex: 336875 entries, 0 to 336874\nData columns (total 14 columns):\n #   Column           Non-Null Count   Dtype  \n---  ------           --------------   -----  \n 0   property_id      336875 non-null  int64  \n 1   address          336875 non-null  object \n 2   zipcode          336875 non-null  int64  \n 3   latitude         336875 non-null  float64\n 4   longitude        336875 non-null  float64\n 5   list_date        336875 non-null  object \n 6   pending_date     239352 non-null  object \n 7   sale_date        297817 non-null  object \n 8   off_market_date  29712 non-null   object \n 9   current_status   336875 non-null  object \n 10  list_price       327775 non-null  float64\n 11  sale_price       297817 non-null  float64\n 12  sale_month       336875 non-null  object \n 13  ct_key           336875 non-null  float64\ndtypes: float64(5), int64(2), object(7)\nmemory usage: 36.0+ MB\n",
          "output_type": "stream"
        }
      ]
    },
    {
      "cell_type": "code",
      "metadata": {
        "tags": [],
        "cell_id": "00002-49996899-6c73-45a2-a2cc-9f1cdf493a9e",
        "deepnote_cell_type": "code"
      },
      "source": "",
      "execution_count": null,
      "outputs": []
    },
    {
      "cell_type": "markdown",
      "source": "# Combine with census tract features\n",
      "metadata": {
        "tags": [],
        "cell_id": "00004-a10557d1-1a2d-4174-ab4b-d7596af7d682",
        "deepnote_cell_type": "markdown"
      }
    },
    {
      "cell_type": "markdown",
      "source": "",
      "metadata": {
        "tags": [],
        "cell_id": "00005-c59ba95e-77b1-49db-8c26-144516a00496",
        "deepnote_cell_type": "markdown"
      }
    },
    {
      "cell_type": "code",
      "metadata": {
        "tags": [],
        "cell_id": "00006-e62503df-8d32-44b7-8daf-e89b5b32b427",
        "deepnote_to_be_reexecuted": false,
        "source_hash": "fd60ff67",
        "execution_millis": 42,
        "execution_start": 1617794057587,
        "deepnote_cell_type": "code"
      },
      "source": "df_ct = pd.read_csv('../data/archives/denver_census_tract_data.csv')",
      "execution_count": null,
      "outputs": []
    },
    {
      "cell_type": "code",
      "metadata": {
        "tags": [],
        "cell_id": "00006-918c2643-9c97-426c-a6b9-a9611a5e0053",
        "deepnote_to_be_reexecuted": false,
        "source_hash": "4549f42",
        "execution_start": 1617794087455,
        "execution_millis": 922,
        "deepnote_cell_type": "code"
      },
      "source": "#only run this cell the first time\n#all other times there is a csv produced called enver_joined_dataset with output\ndf_joined_with_key = df.merge(df_ct, on='ct_key')",
      "execution_count": null,
      "outputs": []
    },
    {
      "cell_type": "code",
      "metadata": {
        "tags": [],
        "cell_id": "00008-0782c27e-0bd0-4bd7-91b2-f965e020243d",
        "deepnote_to_be_reexecuted": false,
        "source_hash": "ff7a0d3f",
        "execution_millis": 166,
        "execution_start": 1617794158282,
        "deepnote_cell_type": "code"
      },
      "source": "df_joined_with_key.info()",
      "execution_count": null,
      "outputs": [
        {
          "name": "stdout",
          "text": "<class 'pandas.core.frame.DataFrame'>\nInt64Index: 321866 entries, 0 to 321865\nColumns: 125 entries, property_id to built 2000-2009\ndtypes: float64(108), int64(10), object(7)\nmemory usage: 317.5+ MB\n",
          "output_type": "stream"
        }
      ]
    },
    {
      "cell_type": "markdown",
      "source": "# Clean dataset with processing script",
      "metadata": {
        "tags": [],
        "cell_id": "00006-2c775d75-751e-410c-840b-a3a0f147319e",
        "deepnote_cell_type": "markdown"
      }
    },
    {
      "cell_type": "markdown",
      "source": "",
      "metadata": {
        "tags": [],
        "cell_id": "00007-709780fd-7d22-4b13-831d-8aa88ea73257",
        "deepnote_cell_type": "markdown"
      }
    },
    {
      "cell_type": "code",
      "metadata": {
        "tags": [],
        "cell_id": "00011-efa876e5-b3ce-46fb-a3f7-b902688d13e0",
        "deepnote_to_be_reexecuted": false,
        "source_hash": "49d48547",
        "execution_millis": 68915,
        "execution_start": 1617794277301,
        "deepnote_cell_type": "code"
      },
      "source": "df_clean = clean_dataset(df_joined_with_key, 'denver_joined_ct_clean', variance_threshold=0.1)",
      "execution_count": null,
      "outputs": [
        {
          "name": "stdout",
          "text": "========= Finish step 1 ===========\n========= Finish step 2 ===========\n========= Finish step 3 ===========\n<class 'pandas.core.frame.DataFrame'>\nRangeIndex: 321866 entries, 0 to 321865\nData columns (total 80 columns):\n #   Column                                               Non-Null Count   Dtype  \n---  ------                                               --------------   -----  \n 0   property_id                                          321866 non-null  float64\n 1   zipcode                                              321866 non-null  float64\n 2   list_price                                           321866 non-null  float64\n 3   sale_price                                           321866 non-null  float64\n 4   ct_key                                               321866 non-null  float64\n 5   median_rental_price                                  321866 non-null  float64\n 6   average_annual_rent_as_percentage_of_property_value  321866 non-null  float64\n 7   farm_score                                           321866 non-null  float64\n 8   pop_density                                          321866 non-null  float64\n 9   densely_urban_score                                  321866 non-null  float64\n 10  urban_score                                          321866 non-null  float64\n 11  suburban_score                                       321866 non-null  float64\n 12  rural_score                                          321866 non-null  float64\n 13  remote_score                                         321866 non-null  float64\n 14  built 1995 or later                                  321866 non-null  float64\n 15  built 1970-1994                                      321866 non-null  float64\n 16  built 1940-1969                                      321866 non-null  float64\n 17  built before 1940                                    321866 non-null  float64\n 18  single_family_detached_pct                           321866 non-null  float64\n 19  rowhouses_and_attached_homes_pct                     321866 non-null  float64\n 20  small_apt_buildings_pct                              321866 non-null  float64\n 21  complexes/high_rise_apt_pct                          321866 non-null  float64\n 22  mobile_home_pct                                      321866 non-null  float64\n 23  0_bedroom_pct                                        321866 non-null  float64\n 24  1_bedroom_pct                                        321866 non-null  float64\n 25  2_bedroom_pct                                        321866 non-null  float64\n 26  3_bedroom_pct                                        321866 non-null  float64\n 27  4_bedroom_pct                                        321866 non-null  float64\n 28  5_bedroom_pct                                        321866 non-null  float64\n 29  homeownership_rate                                   321866 non-null  float64\n 30  rental_rate                                          321866 non-null  float64\n 31  seasonal_housing_pct                                 321866 non-null  float64\n 32  vacant_homes_pct                                     321866 non-null  float64\n 33  family_friendly_score                                321866 non-null  float64\n 34  first_time_homebuyer_score                           321866 non-null  float64\n 35  luxury_communities_score                             321866 non-null  float64\n 36  retirement_friendly_score                            321866 non-null  float64\n 37  young_single_professional_score                      321866 non-null  float64\n 38  college_student_friendly_score                       321866 non-null  float64\n 39  commute_under_15_min_pct                             321866 non-null  float64\n 40  commute_15-30_min_pct                                321866 non-null  float64\n 41  commute_30-45_min_pct                                321866 non-null  float64\n 42  commute_45-60_min_pct                                321866 non-null  float64\n 43  commute_over_60_min_pct                              321866 non-null  float64\n 44  violent_crime_rate                                   321866 non-null  float64\n 45  property_crime_rate                                  321866 non-null  float64\n 46  standardized_test_score_percentile                   321866 non-null  float64\n 47  student_to_teacher_ratio_sd                          321866 non-null  float64\n 48  state_index_total_achievement_sd                     321866 non-null  float64\n 49  national_index_total_achievement_sd                  321866 non-null  float64\n 50  national_percentile_total_achievement_sd             321866 non-null  float64\n 51  state_percentile_total_achievement_sd                321866 non-null  float64\n 52  average_number_of_students_per_school_sd             321866 non-null  float64\n 53  number_of_students_sc                                321866 non-null  float64\n 54  student_to_teacher_ratio_sc                          321866 non-null  float64\n 55  state_index_total_achievement_sc                     321866 non-null  float64\n 56  national_index_total_achievement_sc                  321866 non-null  float64\n 57  national_percentile_total_achievement_sc             321866 non-null  float64\n 58  state_percentile_total_achievement_sc                321866 non-null  float64\n 59  census_population                                    321866 non-null  float64\n 60  median_household_income                              321866 non-null  float64\n 61  median_family_income                                 321866 non-null  float64\n 62  median_nonfamily_income                              321866 non-null  float64\n 63  mean_household_income                                321866 non-null  float64\n 64  mean_family_income                                   321866 non-null  float64\n 65  mean_nonfamily_income                                321866 non-null  float64\n 66  STEM_jobs                                            321866 non-null  float64\n 67  education&health_care                                321866 non-null  float64\n 68  total_households                                     321866 non-null  float64\n 69  avg_family_size                                      321866 non-null  float64\n 70  avg_household_size                                   321866 non-null  float64\n 71  married                                              321866 non-null  float64\n 72  divorced/separated/widowed                           321866 non-null  float64\n 73  never_married                                        321866 non-null  float64\n 74  median_mortgage_value                                321866 non-null  float64\n 75  address                                              321866 non-null  float64\n 76  list_date                                            321866 non-null  object \n 77  sale_date                                            321866 non-null  object \n 78  current_status                                       321866 non-null  float64\n 79  sale_month                                           321866 non-null  float64\ndtypes: float64(78), object(2)\nmemory usage: 196.5+ MB\nNone\n",
          "output_type": "stream"
        }
      ]
    },
    {
      "cell_type": "markdown",
      "source": "<a style='text-decoration:none;line-height:16px;display:flex;color:#5B5B62;padding:10px;justify-content:end;' href='https://deepnote.com?utm_source=created-in-deepnote-cell&projectId=1c850c61-d934-4c85-b16d-3cb283df0c84' target=\"_blank\">\n<img alt='Created in deepnote.com' style='display:inline;max-height:16px;margin:0px;margin-right:7.5px;' src='data:image/svg+xml;base64,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' > </img>\nCreated in <span style='font-weight:600;margin-left:4px;'>Deepnote</span></a>",
      "metadata": {
        "tags": [],
        "created_in_deepnote_cell": true,
        "deepnote_cell_type": "markdown"
      }
    }
  ],
  "nbformat": 4,
  "nbformat_minor": 2,
  "metadata": {
    "orig_nbformat": 2,
    "deepnote_notebook_id": "ad9f439a-8441-4d6f-b2bf-aa930cafd694",
    "deepnote": {},
    "deepnote_execution_queue": []
  }
}