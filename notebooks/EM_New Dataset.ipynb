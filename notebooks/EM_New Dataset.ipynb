{
  "cells": [
    {
      "cell_type": "code",
      "metadata": {
        "cell_id": "00000-52530d9a-d7f1-4cf1-90c0-12ae72c161f2",
        "deepnote_to_be_reexecuted": false,
        "source_hash": "4eeee264",
        "execution_millis": 7130,
        "execution_start": 1618961613245,
        "deepnote_cell_type": "code"
      },
      "source": "import sys\nsys.path.insert(0, '../scripts/')\n\nimport torch\nimport torch.nn as nn\nimport torch.optim as optim\nimport torch.nn.functional as F\nimport torchvision.transforms as T\n\nfrom itertools import count\nimport random\nimport math\n\nimport numpy as np\nimport pandas as pd\nimport matplotlib.pyplot as plt\nimport datetime\n\nfrom sklearn.preprocessing import StandardScaler\nfrom sklearn.model_selection import train_test_split\nfrom sklearn.linear_model import LogisticRegression\nfrom sklearn.cluster import KMeans\nfrom sklearn.metrics import roc_auc_score\nfrom sklearn.model_selection import train_test_split\nfrom sklearn.metrics import accuracy_score, f1_score, roc_auc_score\n\nfrom models import AE, BaselineNet\nfrom utils import *\n\nimport seaborn as sns\nfrom tqdm import tqdm\n\nimport scipy as sp\n\ncolor = sns.color_palette()",
      "execution_count": null,
      "outputs": []
    },
    {
      "cell_type": "code",
      "metadata": {
        "cell_id": "00001-7393d45a-1ada-48c6-9ed4-20f2cc86601f",
        "deepnote_to_be_reexecuted": false,
        "source_hash": "2907e73",
        "execution_millis": 7351,
        "execution_start": 1618961620391,
        "deepnote_cell_type": "code"
      },
      "source": "df = pd.read_csv('../data/denver_prop_with_ct_clean.csv')",
      "execution_count": null,
      "outputs": []
    },
    {
      "cell_type": "code",
      "metadata": {
        "cell_id": "00002-34bad107-f9cb-4f3a-9b5c-883a9c97f5a6",
        "deepnote_to_be_reexecuted": false,
        "source_hash": "1f9f5dbc",
        "execution_millis": 710,
        "execution_start": 1618961627745,
        "deepnote_cell_type": "code"
      },
      "source": "df = df.astype({\n  'list_date': 'datetime64[ns]',\n  'sale_date': 'datetime64[ns]'\n})\ndf = df.drop(columns=['rex_property_id'])",
      "execution_count": null,
      "outputs": []
    },
    {
      "cell_type": "code",
      "metadata": {
        "cell_id": "00003-40e1252a-897a-44a3-a62a-dbfec7a10b08",
        "deepnote_to_be_reexecuted": false,
        "source_hash": "870c3183",
        "execution_millis": 139,
        "execution_start": 1618961628464,
        "deepnote_cell_type": "code"
      },
      "source": "res = gen_dataset(df, '2017-04-02', 90)",
      "execution_count": null,
      "outputs": []
    },
    {
      "cell_type": "code",
      "metadata": {
        "cell_id": "00004-2c939436-3993-481b-8cd2-0b53fe871e61",
        "deepnote_to_be_reexecuted": false,
        "source_hash": "91f5ac8e",
        "execution_millis": 20,
        "execution_start": 1618961628616,
        "deepnote_cell_type": "code"
      },
      "source": "X = res['X']\ny = res['y']",
      "execution_count": null,
      "outputs": []
    },
    {
      "cell_type": "code",
      "metadata": {
        "tags": [],
        "cell_id": "00005-6be94957-2834-49dc-962f-81c4f2bb3305",
        "deepnote_to_be_reexecuted": false,
        "source_hash": "49709ca1",
        "execution_millis": 36,
        "execution_start": 1618961628638,
        "deepnote_cell_type": "code"
      },
      "source": "X[res['bool']] = X[res['bool']] * 1",
      "execution_count": null,
      "outputs": []
    },
    {
      "cell_type": "code",
      "metadata": {
        "cell_id": "00005-c4593e79-8ae4-44eb-96b5-27fb6f3096d2",
        "deepnote_to_be_reexecuted": false,
        "source_hash": "1721bbc",
        "execution_millis": 28,
        "execution_start": 1618961628699,
        "deepnote_cell_type": "code"
      },
      "source": "X = X.to_numpy()",
      "execution_count": null,
      "outputs": []
    },
    {
      "cell_type": "code",
      "metadata": {
        "cell_id": "00006-4d4d5f62-1edc-4754-829f-e08510fa7049",
        "deepnote_to_be_reexecuted": false,
        "source_hash": "a3e6257e",
        "execution_millis": 0,
        "execution_start": 1618961628770,
        "deepnote_cell_type": "code"
      },
      "source": "K = 5 # Number of submarkets\n\nn_cont = len(res['float']) # Number of continuous attributes\nn_bool = len(res['bool']) # Number of boolean attributes\nn_int = len(res['int']) # Number of integer attributes\n\nn_homes, n_features = X.shape\nassert(n_cont + n_bool + n_int == n_features)\n\nX_cont = X[:,:n_cont]\nX_bool = X[:,n_cont:(n_cont+n_bool)]\nX_int = X[:,(n_cont+n_bool):]",
      "execution_count": null,
      "outputs": []
    },
    {
      "cell_type": "code",
      "metadata": {
        "cell_id": "00007-7bd835c1-8529-46d8-9250-c37c7e2e8243",
        "deepnote_to_be_reexecuted": false,
        "source_hash": "ef5210d5",
        "execution_millis": 35337,
        "execution_start": 1618961628814,
        "deepnote_cell_type": "code"
      },
      "source": "underflow_scaling = 1e10\n\n# Initialization\n\ninit_clustering = KMeans(n_clusters=K, random_state=0).fit(X)\nprior_var = 30\nreg = 1 # Regularization strength (inverse)\n\nmu_init = init_clustering.cluster_centers_[:,:n_cont]\nsigma_init = np.array([prior_var*np.eye(n_cont) for _ in range(K)])\np_init = init_clustering.cluster_centers_[:,n_cont:(n_cont+n_bool)]\nlam_init = init_clustering.cluster_centers_[:,(n_cont+n_bool):]\npi_init = np.ones(K)/K\nf_init = [LogisticRegression(C=reg).fit(X,y) for _ in range(K)]\n\n# EM Implementation\n\nmu = mu_init\nsigma = sigma_init\np = p_init\nlam = lam_init\npi = pi_init\nf = f_init\n\nmax_iter = 5000\nstore_freq = 100\n\nparams = {int(i*store_freq): {} for i in range(int(max_iter/store_freq)+1)}\n\nfor i in tqdm(range(max_iter),desc='Fitting...'):\n\n    # E-step\n\n    r_unnormalized = np.array([(underflow_scaling * pi[k] * \n                                sp.stats.multivariate_normal(mean=mu[k],cov=sigma[k]).pdf(X_cont) *\n                                sp.stats.bernoulli(p[k]).pmf(X_bool).prod(axis=1) *\n                                sp.stats.poisson(lam[k]).pmf(X_int).prod(axis=1) *\n                                sp.stats.bernoulli(f[k].predict_proba(X)[:,1]).pmf(y))\n                               for k in range(K)]).T\n    r_unnormalized[np.where(~r_unnormalized.any(axis=1))[0]] = 1/K\n    r = r_unnormalized / r_unnormalized.sum(axis=1).reshape((-1,1))\n\n    if i % store_freq == 0:\n        params[i] = {'mu': mu,\n                     'sigma': sigma,\n                     'p': p,\n                     'lambda': lam,\n                     'pi': pi,\n                     'f': f}\n\n    # M-step\n\n    f = [LogisticRegression(C=reg).fit(X,y,sample_weight=r[:,k]) for k in range(K)]\n    pi = r.sum(axis=0)/n_homes\n    means = np.array([np.array([r[n,k]*X[n] for n in range(n_homes)]).sum(axis=0) for k in range(K)]) / r.sum(axis=0).reshape((-1,1))\n    mu, p, lam = means[:,:n_cont], means[:,n_cont:(n_cont+n_bool)], means[:,(n_cont+n_bool):]\n    sigma = np.array([np.array([r[n,k]*np.matmul((X_cont[n]-mu[k]).reshape((-1,1)),(X_cont[n]-mu[k]).reshape((1,-1))) for n in range(n_homes)]).sum(axis=0) for k in range(K)])  / r.sum(axis=0).reshape((-1,1,1))\n    \nparams[max_iter] = {'mu': mu,\n                    'sigma': sigma,\n                    'p': p,\n                    'lambda': lam,\n                    'pi': pi,\n                    'f': f}\n\nr_unnormalized = np.array([(underflow_scaling * pi[k] * \n                            sp.stats.multivariate_normal(mean=mu[k],cov=sigma[k]).pdf(X_cont) *\n                            sp.stats.bernoulli(p[k]).pmf(X_bool).prod(axis=1) *\n                            sp.stats.poisson(lam[k]).pmf(X_int).prod(axis=1) *\n                            sp.stats.bernoulli(f[k].predict_proba(X)[:,1]).pmf(y))\n                            for k in range(K)]).T\nr_unnormalized[np.where(~r_unnormalized.any(axis=1))[0]] = 1/K\nr = r_unnormalized / r_unnormalized.sum(axis=1).reshape((-1,1))\n\nsubmarket = np.argmax(r,axis=1)",
      "execution_count": null,
      "outputs": [
        {
          "name": "stderr",
          "text": "/shared-libs/python3.7/py/lib/python3.7/site-packages/sklearn/utils/validation.py:63: DataConversionWarning: A column-vector y was passed when a 1d array was expected. Please change the shape of y to (n_samples, ), for example using ravel().\n  return f(*args, **kwargs)\n/shared-libs/python3.7/py/lib/python3.7/site-packages/sklearn/linear_model/_logistic.py:765: ConvergenceWarning: lbfgs failed to converge (status=1):\nSTOP: TOTAL NO. of ITERATIONS REACHED LIMIT.\n\nIncrease the number of iterations (max_iter) or scale the data as shown in:\n    https://scikit-learn.org/stable/modules/preprocessing.html\nPlease also refer to the documentation for alternative solver options:\n    https://scikit-learn.org/stable/modules/linear_model.html#logistic-regression\n  extra_warning_msg=_LOGISTIC_SOLVER_CONVERGENCE_MSG)\n/shared-libs/python3.7/py/lib/python3.7/site-packages/sklearn/utils/validation.py:63: DataConversionWarning: A column-vector y was passed when a 1d array was expected. Please change the shape of y to (n_samples, ), for example using ravel().\n  return f(*args, **kwargs)\n/shared-libs/python3.7/py/lib/python3.7/site-packages/sklearn/linear_model/_logistic.py:765: ConvergenceWarning: lbfgs failed to converge (status=1):\nSTOP: TOTAL NO. of ITERATIONS REACHED LIMIT.\n\nIncrease the number of iterations (max_iter) or scale the data as shown in:\n    https://scikit-learn.org/stable/modules/preprocessing.html\nPlease also refer to the documentation for alternative solver options:\n    https://scikit-learn.org/stable/modules/linear_model.html#logistic-regression\n  extra_warning_msg=_LOGISTIC_SOLVER_CONVERGENCE_MSG)\n/shared-libs/python3.7/py/lib/python3.7/site-packages/sklearn/utils/validation.py:63: DataConversionWarning: A column-vector y was passed when a 1d array was expected. Please change the shape of y to (n_samples, ), for example using ravel().\n  return f(*args, **kwargs)\n/shared-libs/python3.7/py/lib/python3.7/site-packages/sklearn/linear_model/_logistic.py:765: ConvergenceWarning: lbfgs failed to converge (status=1):\nSTOP: TOTAL NO. of ITERATIONS REACHED LIMIT.\n\nIncrease the number of iterations (max_iter) or scale the data as shown in:\n    https://scikit-learn.org/stable/modules/preprocessing.html\nPlease also refer to the documentation for alternative solver options:\n    https://scikit-learn.org/stable/modules/linear_model.html#logistic-regression\n  extra_warning_msg=_LOGISTIC_SOLVER_CONVERGENCE_MSG)\n/shared-libs/python3.7/py/lib/python3.7/site-packages/sklearn/utils/validation.py:63: DataConversionWarning: A column-vector y was passed when a 1d array was expected. Please change the shape of y to (n_samples, ), for example using ravel().\n  return f(*args, **kwargs)\n/shared-libs/python3.7/py/lib/python3.7/site-packages/sklearn/linear_model/_logistic.py:765: ConvergenceWarning: lbfgs failed to converge (status=1):\nSTOP: TOTAL NO. of ITERATIONS REACHED LIMIT.\n\nIncrease the number of iterations (max_iter) or scale the data as shown in:\n    https://scikit-learn.org/stable/modules/preprocessing.html\nPlease also refer to the documentation for alternative solver options:\n    https://scikit-learn.org/stable/modules/linear_model.html#logistic-regression\n  extra_warning_msg=_LOGISTIC_SOLVER_CONVERGENCE_MSG)\n/shared-libs/python3.7/py/lib/python3.7/site-packages/sklearn/utils/validation.py:63: DataConversionWarning: A column-vector y was passed when a 1d array was expected. Please change the shape of y to (n_samples, ), for example using ravel().\n  return f(*args, **kwargs)\n/shared-libs/python3.7/py/lib/python3.7/site-packages/sklearn/linear_model/_logistic.py:765: ConvergenceWarning: lbfgs failed to converge (status=1):\nSTOP: TOTAL NO. of ITERATIONS REACHED LIMIT.\n\nIncrease the number of iterations (max_iter) or scale the data as shown in:\n    https://scikit-learn.org/stable/modules/preprocessing.html\nPlease also refer to the documentation for alternative solver options:\n    https://scikit-learn.org/stable/modules/linear_model.html#logistic-regression\n  extra_warning_msg=_LOGISTIC_SOLVER_CONVERGENCE_MSG)\nFitting...:   0%|          | 0/5000 [00:00<?, ?it/s]",
          "output_type": "stream"
        },
        {
          "output_type": "error",
          "ename": "KernelInterrupted",
          "evalue": "Execution interrupted by the Jupyter kernel.",
          "traceback": [
            "\u001b[0;31m---------------------------------------------------------------------------\u001b[0m",
            "\u001b[0;31mKernelInterrupted\u001b[0m: Execution interrupted by the Jupyter kernel."
          ]
        }
      ]
    },
    {
      "cell_type": "code",
      "metadata": {
        "cell_id": "00008-0cec525d-84e4-4926-a9e4-bb49579f4fdf",
        "deepnote_to_be_reexecuted": true,
        "source_hash": "b623e53d",
        "deepnote_cell_type": "code"
      },
      "source": "",
      "execution_count": null,
      "outputs": []
    },
    {
      "cell_type": "markdown",
      "source": "<a style='text-decoration:none;line-height:16px;display:flex;color:#5B5B62;padding:10px;justify-content:end;' href='https://deepnote.com?utm_source=created-in-deepnote-cell&projectId=1c850c61-d934-4c85-b16d-3cb283df0c84' target=\"_blank\">\n<img alt='Created in deepnote.com' style='display:inline;max-height:16px;margin:0px;margin-right:7.5px;' src='data:image/svg+xml;base64,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' > </img>\nCreated in <span style='font-weight:600;margin-left:4px;'>Deepnote</span></a>",
      "metadata": {
        "tags": [],
        "created_in_deepnote_cell": true,
        "deepnote_cell_type": "markdown"
      }
    }
  ],
  "nbformat": 4,
  "nbformat_minor": 2,
  "metadata": {
    "kernelspec": {
      "display_name": "Python 3",
      "language": "python",
      "name": "python3"
    },
    "language_info": {
      "codemirror_mode": {
        "name": "ipython",
        "version": 3
      },
      "file_extension": ".py",
      "mimetype": "text/x-python",
      "name": "python",
      "nbconvert_exporter": "python",
      "pygments_lexer": "ipython3",
      "version": "3.7.3"
    },
    "deepnote_notebook_id": "c5eefe98-775b-4586-bb2c-f5e59b39f440",
    "deepnote": {},
    "deepnote_execution_queue": []
  }
}