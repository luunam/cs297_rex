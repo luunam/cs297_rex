{
  "cells": [
    {
      "cell_type": "code",
      "metadata": {
        "cell_id": "00000-52530d9a-d7f1-4cf1-90c0-12ae72c161f2",
        "deepnote_to_be_reexecuted": false,
        "source_hash": "4eeee264",
        "execution_millis": 1,
        "execution_start": 1619478216389,
        "deepnote_cell_type": "code"
      },
      "source": "import sys\nsys.path.insert(0, '../scripts/')\n\nimport torch\nimport torch.nn as nn\nimport torch.optim as optim\nimport torch.nn.functional as F\nimport torchvision.transforms as T\n\nfrom itertools import count\nimport random\nimport math\n\nimport numpy as np\nimport pandas as pd\nimport matplotlib.pyplot as plt\nimport datetime\n\nfrom sklearn.preprocessing import StandardScaler\nfrom sklearn.model_selection import train_test_split\nfrom sklearn.linear_model import LogisticRegression\nfrom sklearn.cluster import KMeans\nfrom sklearn.metrics import roc_auc_score\nfrom sklearn.model_selection import train_test_split\nfrom sklearn.metrics import accuracy_score, f1_score, roc_auc_score\n\nfrom models import AE, BaselineNet\nfrom utils import *\n\nimport seaborn as sns\nfrom tqdm import tqdm\n\nimport scipy as sp\n\ncolor = sns.color_palette()",
      "execution_count": 49,
      "outputs": []
    },
    {
      "cell_type": "code",
      "source": "df = pd.read_csv('../data/namluu_dataset.csv', index_col=0)",
      "metadata": {
        "tags": [],
        "cell_id": "00002-63760231-60c9-40ed-bb99-200a816d8aa2",
        "deepnote_to_be_reexecuted": false,
        "source_hash": "ea4d6f3e",
        "execution_millis": 697,
        "execution_start": 1619478218700,
        "deepnote_cell_type": "code"
      },
      "outputs": [],
      "execution_count": 50
    },
    {
      "cell_type": "code",
      "source": "df",
      "metadata": {
        "tags": [],
        "cell_id": "00002-59c72460-a491-4970-b96b-f9bdc666b06c",
        "deepnote_to_be_reexecuted": false,
        "source_hash": "f804c160",
        "execution_millis": 89,
        "execution_start": 1619478223290,
        "deepnote_cell_type": "code"
      },
      "outputs": [
        {
          "output_type": "execute_result",
          "execution_count": 51,
          "data": {
            "application/vnd.deepnote.dataframe.v2+json": {
              "row_count": 218369,
              "column_count": 20,
              "columns": [
                {
                  "name": "18-59",
                  "dtype": "float64"
                },
                {
                  "name": "mean_household_income",
                  "dtype": "int64"
                },
                {
                  "name": "built 1995 or later",
                  "dtype": "float64"
                },
                {
                  "name": "OTHER",
                  "dtype": "bool"
                },
                {
                  "name": "mobile_home_pct",
                  "dtype": "float64"
                },
                {
                  "name": "annual_births_per_resident",
                  "dtype": "float64"
                },
                {
                  "name": "farm_score",
                  "dtype": "int64"
                },
                {
                  "name": "luxury_communities_score",
                  "dtype": "float64"
                },
                {
                  "name": "CONDO",
                  "dtype": "bool"
                },
                {
                  "name": "property_crime_rate",
                  "dtype": "float64"
                },
                {
                  "name": "bathfull",
                  "dtype": "int64"
                },
                {
                  "name": "small_apt_buildings_pct",
                  "dtype": "float64"
                },
                {
                  "name": "standardized_test_score_percentile",
                  "dtype": "float64"
                },
                {
                  "name": "MULTI_FAMILY",
                  "dtype": "bool"
                },
                {
                  "name": "bedrooms",
                  "dtype": "int64"
                },
                {
                  "name": "list_date",
                  "dtype": "object"
                },
                {
                  "name": "sale_date",
                  "dtype": "object"
                },
                {
                  "name": "rex_property_id",
                  "dtype": "int64"
                },
                {
                  "name": "latitude",
                  "dtype": "float64"
                },
                {
                  "name": "longitude",
                  "dtype": "float64"
                },
                {
                  "name": "_deepnote_index_column",
                  "dtype": "int64"
                }
              ],
              "rows_top": [
                {
                  "18-59": 0.6162874251496999,
                  "mean_household_income": 107073,
                  "built 1995 or later": 80.577849,
                  "OTHER": false,
                  "mobile_home_pct": 0,
                  "annual_births_per_resident": 0.0165269461077839,
                  "farm_score": 100,
                  "luxury_communities_score": 21.852379,
                  "CONDO": false,
                  "property_crime_rate": 11.972931,
                  "bathfull": 3,
                  "small_apt_buildings_pct": 0.8025680000000001,
                  "standardized_test_score_percentile": 81.59698,
                  "MULTI_FAMILY": false,
                  "bedrooms": 4,
                  "list_date": "2016-06-30",
                  "sale_date": "2016-08-12",
                  "rex_property_id": 207973152,
                  "latitude": 39.614540000000005,
                  "longitude": -104.72075,
                  "_deepnote_index_column": 0
                },
                {
                  "18-59": 0.6162874251496999,
                  "mean_household_income": 107073,
                  "built 1995 or later": 80.577849,
                  "OTHER": false,
                  "mobile_home_pct": 0,
                  "annual_births_per_resident": 0.0165269461077839,
                  "farm_score": 100,
                  "luxury_communities_score": 21.852379,
                  "CONDO": false,
                  "property_crime_rate": 11.972931,
                  "bathfull": 3,
                  "small_apt_buildings_pct": 0.8025680000000001,
                  "standardized_test_score_percentile": 81.59698,
                  "MULTI_FAMILY": false,
                  "bedrooms": 4,
                  "list_date": "2019-04-26",
                  "sale_date": "2019-05-29",
                  "rex_property_id": 207973152,
                  "latitude": 39.614540000000005,
                  "longitude": -104.72075,
                  "_deepnote_index_column": 1
                },
                {
                  "18-59": 0.6162874251496999,
                  "mean_household_income": 107073,
                  "built 1995 or later": 80.577849,
                  "OTHER": false,
                  "mobile_home_pct": 0,
                  "annual_births_per_resident": 0.0165269461077839,
                  "farm_score": 100,
                  "luxury_communities_score": 21.852379,
                  "CONDO": false,
                  "property_crime_rate": 11.972931,
                  "bathfull": 2,
                  "small_apt_buildings_pct": 0.8025680000000001,
                  "standardized_test_score_percentile": 81.59698,
                  "MULTI_FAMILY": false,
                  "bedrooms": 5,
                  "list_date": "2020-06-26",
                  "sale_date": "2020-08-10",
                  "rex_property_id": 208397574,
                  "latitude": 39.61368,
                  "longitude": -104.72888,
                  "_deepnote_index_column": 4
                },
                {
                  "18-59": 0.6162874251496999,
                  "mean_household_income": 107073,
                  "built 1995 or later": 80.577849,
                  "OTHER": false,
                  "mobile_home_pct": 0,
                  "annual_births_per_resident": 0.0165269461077839,
                  "farm_score": 100,
                  "luxury_communities_score": 21.852379,
                  "CONDO": false,
                  "property_crime_rate": 11.972931,
                  "bathfull": 3,
                  "small_apt_buildings_pct": 0.8025680000000001,
                  "standardized_test_score_percentile": 81.59698,
                  "MULTI_FAMILY": false,
                  "bedrooms": 3,
                  "list_date": "2017-04-21",
                  "sale_date": "2017-05-15",
                  "rex_property_id": 207998741,
                  "latitude": 39.62276,
                  "longitude": -104.72723,
                  "_deepnote_index_column": 5
                },
                {
                  "18-59": 0.6162874251496999,
                  "mean_household_income": 107073,
                  "built 1995 or later": 80.577849,
                  "OTHER": false,
                  "mobile_home_pct": 0,
                  "annual_births_per_resident": 0.0165269461077839,
                  "farm_score": 100,
                  "luxury_communities_score": 21.852379,
                  "CONDO": false,
                  "property_crime_rate": 11.972931,
                  "bathfull": 4,
                  "small_apt_buildings_pct": 0.8025680000000001,
                  "standardized_test_score_percentile": 81.59698,
                  "MULTI_FAMILY": false,
                  "bedrooms": 4,
                  "list_date": "2017-06-16",
                  "sale_date": "2017-07-14",
                  "rex_property_id": 207964420,
                  "latitude": 39.62257,
                  "longitude": -104.72502,
                  "_deepnote_index_column": 6
                },
                {
                  "18-59": 0.6162874251496999,
                  "mean_household_income": 107073,
                  "built 1995 or later": 80.577849,
                  "OTHER": false,
                  "mobile_home_pct": 0,
                  "annual_births_per_resident": 0.0165269461077839,
                  "farm_score": 100,
                  "luxury_communities_score": 21.852379,
                  "CONDO": false,
                  "property_crime_rate": 11.972931,
                  "bathfull": 3,
                  "small_apt_buildings_pct": 0.8025680000000001,
                  "standardized_test_score_percentile": 81.59698,
                  "MULTI_FAMILY": false,
                  "bedrooms": 4,
                  "list_date": "2017-07-13",
                  "sale_date": "2017-08-14",
                  "rex_property_id": 208391348,
                  "latitude": 39.62104,
                  "longitude": -104.72222,
                  "_deepnote_index_column": 7
                },
                {
                  "18-59": 0.6162874251496999,
                  "mean_household_income": 107073,
                  "built 1995 or later": 80.577849,
                  "OTHER": false,
                  "mobile_home_pct": 0,
                  "annual_births_per_resident": 0.0165269461077839,
                  "farm_score": 100,
                  "luxury_communities_score": 21.852379,
                  "CONDO": false,
                  "property_crime_rate": 11.972931,
                  "bathfull": 3,
                  "small_apt_buildings_pct": 0.8025680000000001,
                  "standardized_test_score_percentile": 81.59698,
                  "MULTI_FAMILY": false,
                  "bedrooms": 3,
                  "list_date": "2016-04-08",
                  "sale_date": "2016-05-10",
                  "rex_property_id": 208967799,
                  "latitude": 39.62375,
                  "longitude": -104.72956,
                  "_deepnote_index_column": 8
                },
                {
                  "18-59": 0.6162874251496999,
                  "mean_household_income": 107073,
                  "built 1995 or later": 80.577849,
                  "OTHER": false,
                  "mobile_home_pct": 0,
                  "annual_births_per_resident": 0.0165269461077839,
                  "farm_score": 100,
                  "luxury_communities_score": 21.852379,
                  "CONDO": false,
                  "property_crime_rate": 11.972931,
                  "bathfull": 4,
                  "small_apt_buildings_pct": 0.8025680000000001,
                  "standardized_test_score_percentile": 81.59698,
                  "MULTI_FAMILY": false,
                  "bedrooms": 6,
                  "list_date": "2016-08-03",
                  "sale_date": "2016-10-18",
                  "rex_property_id": 209129091,
                  "latitude": 39.61956,
                  "longitude": -104.73103,
                  "_deepnote_index_column": 9
                },
                {
                  "18-59": 0.6162874251496999,
                  "mean_household_income": 107073,
                  "built 1995 or later": 80.577849,
                  "OTHER": false,
                  "mobile_home_pct": 0,
                  "annual_births_per_resident": 0.0165269461077839,
                  "farm_score": 100,
                  "luxury_communities_score": 21.852379,
                  "CONDO": true,
                  "property_crime_rate": 11.972931,
                  "bathfull": 2,
                  "small_apt_buildings_pct": 0.8025680000000001,
                  "standardized_test_score_percentile": 81.59698,
                  "MULTI_FAMILY": false,
                  "bedrooms": 3,
                  "list_date": "2017-06-14",
                  "sale_date": "2017-07-14",
                  "rex_property_id": 208988684,
                  "latitude": 39.61801,
                  "longitude": -104.73271,
                  "_deepnote_index_column": 10
                },
                {
                  "18-59": 0.6162874251496999,
                  "mean_household_income": 107073,
                  "built 1995 or later": 80.577849,
                  "OTHER": false,
                  "mobile_home_pct": 0,
                  "annual_births_per_resident": 0.0165269461077839,
                  "farm_score": 100,
                  "luxury_communities_score": 21.852379,
                  "CONDO": false,
                  "property_crime_rate": 11.972931,
                  "bathfull": 2,
                  "small_apt_buildings_pct": 0.8025680000000001,
                  "standardized_test_score_percentile": 81.59698,
                  "MULTI_FAMILY": false,
                  "bedrooms": 3,
                  "list_date": "2020-02-07",
                  "sale_date": "2020-03-31",
                  "rex_property_id": 208952962,
                  "latitude": 39.61193,
                  "longitude": -104.71839,
                  "_deepnote_index_column": 11
                },
                {
                  "18-59": 0.6162874251496999,
                  "mean_household_income": 107073,
                  "built 1995 or later": 80.577849,
                  "OTHER": false,
                  "mobile_home_pct": 0,
                  "annual_births_per_resident": 0.0165269461077839,
                  "farm_score": 100,
                  "luxury_communities_score": 21.852379,
                  "CONDO": false,
                  "property_crime_rate": 11.972931,
                  "bathfull": 3,
                  "small_apt_buildings_pct": 0.8025680000000001,
                  "standardized_test_score_percentile": 81.59698,
                  "MULTI_FAMILY": false,
                  "bedrooms": 3,
                  "list_date": "2016-03-18",
                  "sale_date": "2016-03-18",
                  "rex_property_id": 209186674,
                  "latitude": 39.60667,
                  "longitude": -104.71821,
                  "_deepnote_index_column": 12
                },
                {
                  "18-59": 0.6162874251496999,
                  "mean_household_income": 107073,
                  "built 1995 or later": 80.577849,
                  "OTHER": false,
                  "mobile_home_pct": 0,
                  "annual_births_per_resident": 0.0165269461077839,
                  "farm_score": 100,
                  "luxury_communities_score": 21.852379,
                  "CONDO": true,
                  "property_crime_rate": 11.972931,
                  "bathfull": 2,
                  "small_apt_buildings_pct": 0.8025680000000001,
                  "standardized_test_score_percentile": 81.59698,
                  "MULTI_FAMILY": false,
                  "bedrooms": 3,
                  "list_date": "2019-05-10",
                  "sale_date": "2019-07-02",
                  "rex_property_id": 209208893,
                  "latitude": 39.6156,
                  "longitude": -104.73142,
                  "_deepnote_index_column": 13
                },
                {
                  "18-59": 0.6162874251496999,
                  "mean_household_income": 107073,
                  "built 1995 or later": 80.577849,
                  "OTHER": false,
                  "mobile_home_pct": 0,
                  "annual_births_per_resident": 0.0165269461077839,
                  "farm_score": 100,
                  "luxury_communities_score": 21.852379,
                  "CONDO": false,
                  "property_crime_rate": 11.972931,
                  "bathfull": 3,
                  "small_apt_buildings_pct": 0.8025680000000001,
                  "standardized_test_score_percentile": 81.59698,
                  "MULTI_FAMILY": false,
                  "bedrooms": 4,
                  "list_date": "2016-09-22",
                  "sale_date": "2016-11-28",
                  "rex_property_id": 209125757,
                  "latitude": 39.61796,
                  "longitude": -104.7272,
                  "_deepnote_index_column": 14
                },
                {
                  "18-59": 0.6162874251496999,
                  "mean_household_income": 107073,
                  "built 1995 or later": 80.577849,
                  "OTHER": false,
                  "mobile_home_pct": 0,
                  "annual_births_per_resident": 0.0165269461077839,
                  "farm_score": 100,
                  "luxury_communities_score": 21.852379,
                  "CONDO": false,
                  "property_crime_rate": 11.972931,
                  "bathfull": 2,
                  "small_apt_buildings_pct": 0.8025680000000001,
                  "standardized_test_score_percentile": 81.59698,
                  "MULTI_FAMILY": false,
                  "bedrooms": 3,
                  "list_date": "2017-08-26",
                  "sale_date": "2018-01-31",
                  "rex_property_id": 208237743,
                  "latitude": 39.62508,
                  "longitude": -104.71884,
                  "_deepnote_index_column": 15
                },
                {
                  "18-59": 0.6162874251496999,
                  "mean_household_income": 107073,
                  "built 1995 or later": 80.577849,
                  "OTHER": false,
                  "mobile_home_pct": 0,
                  "annual_births_per_resident": 0.0165269461077839,
                  "farm_score": 100,
                  "luxury_communities_score": 21.852379,
                  "CONDO": false,
                  "property_crime_rate": 11.972931,
                  "bathfull": 3,
                  "small_apt_buildings_pct": 0.8025680000000001,
                  "standardized_test_score_percentile": 81.59698,
                  "MULTI_FAMILY": false,
                  "bedrooms": 6,
                  "list_date": "2020-03-25",
                  "sale_date": "2020-04-22",
                  "rex_property_id": 209207365,
                  "latitude": 39.61973,
                  "longitude": -104.73091,
                  "_deepnote_index_column": 16
                },
                {
                  "18-59": 0.6162874251496999,
                  "mean_household_income": 107073,
                  "built 1995 or later": 80.577849,
                  "OTHER": false,
                  "mobile_home_pct": 0,
                  "annual_births_per_resident": 0.0165269461077839,
                  "farm_score": 100,
                  "luxury_communities_score": 21.852379,
                  "CONDO": false,
                  "property_crime_rate": 11.972931,
                  "bathfull": 2,
                  "small_apt_buildings_pct": 0.8025680000000001,
                  "standardized_test_score_percentile": 81.59698,
                  "MULTI_FAMILY": true,
                  "bedrooms": 3,
                  "list_date": "2019-08-30",
                  "sale_date": "2019-12-02",
                  "rex_property_id": 209217910,
                  "latitude": 39.61608,
                  "longitude": -104.73187,
                  "_deepnote_index_column": 17
                },
                {
                  "18-59": 0.6162874251496999,
                  "mean_household_income": 107073,
                  "built 1995 or later": 80.577849,
                  "OTHER": false,
                  "mobile_home_pct": 0,
                  "annual_births_per_resident": 0.0165269461077839,
                  "farm_score": 100,
                  "luxury_communities_score": 21.852379,
                  "CONDO": false,
                  "property_crime_rate": 11.972931,
                  "bathfull": 4,
                  "small_apt_buildings_pct": 0.8025680000000001,
                  "standardized_test_score_percentile": 81.59698,
                  "MULTI_FAMILY": false,
                  "bedrooms": 5,
                  "list_date": "2016-03-11",
                  "sale_date": "2016-03-11",
                  "rex_property_id": 208998634,
                  "latitude": 39.61418,
                  "longitude": -104.72385,
                  "_deepnote_index_column": 19
                },
                {
                  "18-59": 0.6162874251496999,
                  "mean_household_income": 107073,
                  "built 1995 or later": 80.577849,
                  "OTHER": false,
                  "mobile_home_pct": 0,
                  "annual_births_per_resident": 0.0165269461077839,
                  "farm_score": 100,
                  "luxury_communities_score": 21.852379,
                  "CONDO": false,
                  "property_crime_rate": 11.972931,
                  "bathfull": 3,
                  "small_apt_buildings_pct": 0.8025680000000001,
                  "standardized_test_score_percentile": 81.59698,
                  "MULTI_FAMILY": false,
                  "bedrooms": 3,
                  "list_date": "2019-02-21",
                  "sale_date": "2019-03-26",
                  "rex_property_id": 208950476,
                  "latitude": 39.61576,
                  "longitude": -104.71935,
                  "_deepnote_index_column": 20
                },
                {
                  "18-59": 0.6162874251496999,
                  "mean_household_income": 107073,
                  "built 1995 or later": 80.577849,
                  "OTHER": false,
                  "mobile_home_pct": 0,
                  "annual_births_per_resident": 0.0165269461077839,
                  "farm_score": 100,
                  "luxury_communities_score": 21.852379,
                  "CONDO": false,
                  "property_crime_rate": 11.972931,
                  "bathfull": 2,
                  "small_apt_buildings_pct": 0.8025680000000001,
                  "standardized_test_score_percentile": 81.59698,
                  "MULTI_FAMILY": true,
                  "bedrooms": 3,
                  "list_date": "2016-05-17",
                  "sale_date": "2016-06-29",
                  "rex_property_id": 207985813,
                  "latitude": 39.618120000000005,
                  "longitude": -104.73433,
                  "_deepnote_index_column": 21
                },
                {
                  "18-59": 0.6162874251496999,
                  "mean_household_income": 107073,
                  "built 1995 or later": 80.577849,
                  "OTHER": false,
                  "mobile_home_pct": 0,
                  "annual_births_per_resident": 0.0165269461077839,
                  "farm_score": 100,
                  "luxury_communities_score": 21.852379,
                  "CONDO": false,
                  "property_crime_rate": 11.972931,
                  "bathfull": 3,
                  "small_apt_buildings_pct": 0.8025680000000001,
                  "standardized_test_score_percentile": 81.59698,
                  "MULTI_FAMILY": false,
                  "bedrooms": 3,
                  "list_date": "2017-07-24",
                  "sale_date": "2018-02-09",
                  "rex_property_id": 209215977,
                  "latitude": 39.61976,
                  "longitude": -104.72658,
                  "_deepnote_index_column": 22
                },
                {
                  "18-59": 0.6162874251496999,
                  "mean_household_income": 107073,
                  "built 1995 or later": 80.577849,
                  "OTHER": false,
                  "mobile_home_pct": 0,
                  "annual_births_per_resident": 0.0165269461077839,
                  "farm_score": 100,
                  "luxury_communities_score": 21.852379,
                  "CONDO": false,
                  "property_crime_rate": 11.972931,
                  "bathfull": 4,
                  "small_apt_buildings_pct": 0.8025680000000001,
                  "standardized_test_score_percentile": 81.59698,
                  "MULTI_FAMILY": false,
                  "bedrooms": 4,
                  "list_date": "2019-05-03",
                  "sale_date": "2019-06-17",
                  "rex_property_id": 208385771,
                  "latitude": 39.62176,
                  "longitude": -104.7257,
                  "_deepnote_index_column": 23
                },
                {
                  "18-59": 0.6162874251496999,
                  "mean_household_income": 107073,
                  "built 1995 or later": 80.577849,
                  "OTHER": false,
                  "mobile_home_pct": 0,
                  "annual_births_per_resident": 0.0165269461077839,
                  "farm_score": 100,
                  "luxury_communities_score": 21.852379,
                  "CONDO": false,
                  "property_crime_rate": 11.972931,
                  "bathfull": 3,
                  "small_apt_buildings_pct": 0.8025680000000001,
                  "standardized_test_score_percentile": 81.59698,
                  "MULTI_FAMILY": false,
                  "bedrooms": 3,
                  "list_date": "2017-03-18",
                  "sale_date": "2017-05-12",
                  "rex_property_id": 207945896,
                  "latitude": 39.6221,
                  "longitude": -104.7288,
                  "_deepnote_index_column": 24
                },
                {
                  "18-59": 0.6162874251496999,
                  "mean_household_income": 107073,
                  "built 1995 or later": 80.577849,
                  "OTHER": false,
                  "mobile_home_pct": 0,
                  "annual_births_per_resident": 0.0165269461077839,
                  "farm_score": 100,
                  "luxury_communities_score": 21.852379,
                  "CONDO": false,
                  "property_crime_rate": 11.972931,
                  "bathfull": 2,
                  "small_apt_buildings_pct": 0.8025680000000001,
                  "standardized_test_score_percentile": 81.59698,
                  "MULTI_FAMILY": true,
                  "bedrooms": 3,
                  "list_date": "2020-05-29",
                  "sale_date": "2020-07-07",
                  "rex_property_id": 208959938,
                  "latitude": 39.61751,
                  "longitude": -104.73388,
                  "_deepnote_index_column": 25
                },
                {
                  "18-59": 0.6162874251496999,
                  "mean_household_income": 107073,
                  "built 1995 or later": 80.577849,
                  "OTHER": false,
                  "mobile_home_pct": 0,
                  "annual_births_per_resident": 0.0165269461077839,
                  "farm_score": 100,
                  "luxury_communities_score": 21.852379,
                  "CONDO": false,
                  "property_crime_rate": 11.972931,
                  "bathfull": 3,
                  "small_apt_buildings_pct": 0.8025680000000001,
                  "standardized_test_score_percentile": 81.59698,
                  "MULTI_FAMILY": false,
                  "bedrooms": 5,
                  "list_date": "2018-05-29",
                  "sale_date": "2018-07-26",
                  "rex_property_id": 208562862,
                  "latitude": 39.61103,
                  "longitude": -104.7236,
                  "_deepnote_index_column": 26
                },
                {
                  "18-59": 0.6162874251496999,
                  "mean_household_income": 107073,
                  "built 1995 or later": 80.577849,
                  "OTHER": false,
                  "mobile_home_pct": 0,
                  "annual_births_per_resident": 0.0165269461077839,
                  "farm_score": 100,
                  "luxury_communities_score": 21.852379,
                  "CONDO": false,
                  "property_crime_rate": 11.972931,
                  "bathfull": 3,
                  "small_apt_buildings_pct": 0.8025680000000001,
                  "standardized_test_score_percentile": 81.59698,
                  "MULTI_FAMILY": false,
                  "bedrooms": 4,
                  "list_date": "2017-07-20",
                  "sale_date": "2017-08-21",
                  "rex_property_id": 207980334,
                  "latitude": 39.61658,
                  "longitude": -104.73034,
                  "_deepnote_index_column": 27
                }
              ],
              "rows_bottom": [
                {
                  "18-59": 0.548398328690808,
                  "mean_household_income": 81008,
                  "built 1995 or later": 4.327808,
                  "OTHER": false,
                  "mobile_home_pct": 0.5524859999999999,
                  "annual_births_per_resident": 0.008008356545961,
                  "farm_score": 0,
                  "luxury_communities_score": 64.866049,
                  "CONDO": false,
                  "property_crime_rate": 9.333333,
                  "bathfull": 2,
                  "small_apt_buildings_pct": 5.432780999999999,
                  "standardized_test_score_percentile": 30.320076,
                  "MULTI_FAMILY": false,
                  "bedrooms": 4,
                  "list_date": "2016-08-12",
                  "sale_date": "2016-09-28",
                  "rex_property_id": 304357539,
                  "latitude": 40.07651,
                  "longitude": -104.86238,
                  "_deepnote_index_column": 277524
                },
                {
                  "18-59": 0.5121700377099759,
                  "mean_household_income": 172403,
                  "built 1995 or later": 30.855633,
                  "OTHER": false,
                  "mobile_home_pct": 0,
                  "annual_births_per_resident": 0,
                  "farm_score": 100,
                  "luxury_communities_score": 4.924034,
                  "CONDO": false,
                  "property_crime_rate": 5.435454,
                  "bathfull": 4,
                  "small_apt_buildings_pct": 0,
                  "standardized_test_score_percentile": 89.65673699999999,
                  "MULTI_FAMILY": false,
                  "bedrooms": 5,
                  "list_date": "2018-04-12",
                  "sale_date": "2018-05-15",
                  "rex_property_id": 207954323,
                  "latitude": 39.60841,
                  "longitude": -104.764,
                  "_deepnote_index_column": 277525
                },
                {
                  "18-59": 0.5677157844539821,
                  "mean_household_income": 135024,
                  "built 1995 or later": 40.048617,
                  "OTHER": false,
                  "mobile_home_pct": 1.428137,
                  "annual_births_per_resident": 0.003099666189795,
                  "farm_score": 100,
                  "luxury_communities_score": 9.114746,
                  "CONDO": false,
                  "property_crime_rate": 13.288135999999998,
                  "bathfull": 0,
                  "small_apt_buildings_pct": 5.074445,
                  "standardized_test_score_percentile": 84.19353100000001,
                  "MULTI_FAMILY": false,
                  "bedrooms": 8,
                  "list_date": "2019-01-04",
                  "sale_date": "2100-01-01",
                  "rex_property_id": 335072893,
                  "latitude": 39.75854,
                  "longitude": -105.22074,
                  "_deepnote_index_column": 277526
                },
                {
                  "18-59": 0.5677157844539821,
                  "mean_household_income": 135024,
                  "built 1995 or later": 40.048617,
                  "OTHER": false,
                  "mobile_home_pct": 1.428137,
                  "annual_births_per_resident": 0.003099666189795,
                  "farm_score": 100,
                  "luxury_communities_score": 9.114746,
                  "CONDO": false,
                  "property_crime_rate": 13.288135999999998,
                  "bathfull": 2,
                  "small_apt_buildings_pct": 5.074445,
                  "standardized_test_score_percentile": 84.19353100000001,
                  "MULTI_FAMILY": false,
                  "bedrooms": 6,
                  "list_date": "2020-09-23",
                  "sale_date": "2100-01-01",
                  "rex_property_id": 296881554,
                  "latitude": 39.76064,
                  "longitude": -105.22039,
                  "_deepnote_index_column": 277527
                },
                {
                  "18-59": 0.5677157844539821,
                  "mean_household_income": 135024,
                  "built 1995 or later": 40.048617,
                  "OTHER": false,
                  "mobile_home_pct": 1.428137,
                  "annual_births_per_resident": 0.003099666189795,
                  "farm_score": 100,
                  "luxury_communities_score": 9.114746,
                  "CONDO": false,
                  "property_crime_rate": 13.288135999999998,
                  "bathfull": 1,
                  "small_apt_buildings_pct": 5.074445,
                  "standardized_test_score_percentile": 84.19353100000001,
                  "MULTI_FAMILY": false,
                  "bedrooms": 1,
                  "list_date": "2017-12-08",
                  "sale_date": "2018-02-14",
                  "rex_property_id": 303129643,
                  "latitude": 39.7599,
                  "longitude": -105.22092,
                  "_deepnote_index_column": 277528
                },
                {
                  "18-59": 0.5677157844539821,
                  "mean_household_income": 135024,
                  "built 1995 or later": 40.048617,
                  "OTHER": false,
                  "mobile_home_pct": 1.428137,
                  "annual_births_per_resident": 0.003099666189795,
                  "farm_score": 100,
                  "luxury_communities_score": 9.114746,
                  "CONDO": false,
                  "property_crime_rate": 13.288135999999998,
                  "bathfull": 5,
                  "small_apt_buildings_pct": 5.074445,
                  "standardized_test_score_percentile": 84.19353100000001,
                  "MULTI_FAMILY": true,
                  "bedrooms": 12,
                  "list_date": "2020-09-02",
                  "sale_date": "2020-10-13",
                  "rex_property_id": 246292698,
                  "latitude": 39.759240000000005,
                  "longitude": -105.21957,
                  "_deepnote_index_column": 277529
                },
                {
                  "18-59": 0.5677157844539821,
                  "mean_household_income": 135024,
                  "built 1995 or later": 40.048617,
                  "OTHER": false,
                  "mobile_home_pct": 1.428137,
                  "annual_births_per_resident": 0.003099666189795,
                  "farm_score": 100,
                  "luxury_communities_score": 9.114746,
                  "CONDO": false,
                  "property_crime_rate": 13.288135999999998,
                  "bathfull": 1,
                  "small_apt_buildings_pct": 5.074445,
                  "standardized_test_score_percentile": 84.19353100000001,
                  "MULTI_FAMILY": false,
                  "bedrooms": 2,
                  "list_date": "2017-07-28",
                  "sale_date": "2100-01-01",
                  "rex_property_id": 245573854,
                  "latitude": 39.76141,
                  "longitude": -105.21768,
                  "_deepnote_index_column": 277530
                },
                {
                  "18-59": 0.5677157844539821,
                  "mean_household_income": 135024,
                  "built 1995 or later": 40.048617,
                  "OTHER": false,
                  "mobile_home_pct": 1.428137,
                  "annual_births_per_resident": 0.003099666189795,
                  "farm_score": 100,
                  "luxury_communities_score": 9.114746,
                  "CONDO": true,
                  "property_crime_rate": 13.288135999999998,
                  "bathfull": 2,
                  "small_apt_buildings_pct": 5.074445,
                  "standardized_test_score_percentile": 84.19353100000001,
                  "MULTI_FAMILY": false,
                  "bedrooms": 1,
                  "list_date": "2016-05-26",
                  "sale_date": "2016-07-29",
                  "rex_property_id": 355072337,
                  "latitude": 39.75495,
                  "longitude": -105.22056,
                  "_deepnote_index_column": 277531
                },
                {
                  "18-59": 0.5677157844539821,
                  "mean_household_income": 135024,
                  "built 1995 or later": 40.048617,
                  "OTHER": false,
                  "mobile_home_pct": 1.428137,
                  "annual_births_per_resident": 0.003099666189795,
                  "farm_score": 100,
                  "luxury_communities_score": 9.114746,
                  "CONDO": false,
                  "property_crime_rate": 13.288135999999998,
                  "bathfull": 2,
                  "small_apt_buildings_pct": 5.074445,
                  "standardized_test_score_percentile": 84.19353100000001,
                  "MULTI_FAMILY": false,
                  "bedrooms": 4,
                  "list_date": "2017-08-04",
                  "sale_date": "2017-08-22",
                  "rex_property_id": 306301980,
                  "latitude": 39.79536,
                  "longitude": -105.18795,
                  "_deepnote_index_column": 277533
                },
                {
                  "18-59": 0.502336448598131,
                  "mean_household_income": 49108,
                  "built 1995 or later": 22.932651,
                  "OTHER": false,
                  "mobile_home_pct": 70.247229,
                  "annual_births_per_resident": 0.0116822429906539,
                  "farm_score": 100,
                  "luxury_communities_score": 89.76438399999999,
                  "CONDO": false,
                  "property_crime_rate": 55.711423,
                  "bathfull": 1,
                  "small_apt_buildings_pct": 0,
                  "standardized_test_score_percentile": 21.295493,
                  "MULTI_FAMILY": false,
                  "bedrooms": 2,
                  "list_date": "2019-11-05",
                  "sale_date": "2019-11-18",
                  "rex_property_id": 233341880,
                  "latitude": 39.81152,
                  "longitude": -104.97266,
                  "_deepnote_index_column": 277534
                },
                {
                  "18-59": 0.502336448598131,
                  "mean_household_income": 49108,
                  "built 1995 or later": 22.932651,
                  "OTHER": false,
                  "mobile_home_pct": 70.247229,
                  "annual_births_per_resident": 0.0116822429906539,
                  "farm_score": 100,
                  "luxury_communities_score": 89.76438399999999,
                  "CONDO": false,
                  "property_crime_rate": 55.711423,
                  "bathfull": 1,
                  "small_apt_buildings_pct": 0,
                  "standardized_test_score_percentile": 21.295493,
                  "MULTI_FAMILY": false,
                  "bedrooms": 2,
                  "list_date": "2018-04-12",
                  "sale_date": "2018-07-10",
                  "rex_property_id": 359384573,
                  "latitude": 39.81196,
                  "longitude": -104.97307,
                  "_deepnote_index_column": 277535
                },
                {
                  "18-59": 0.502336448598131,
                  "mean_household_income": 49108,
                  "built 1995 or later": 22.932651,
                  "OTHER": false,
                  "mobile_home_pct": 70.247229,
                  "annual_births_per_resident": 0.0116822429906539,
                  "farm_score": 100,
                  "luxury_communities_score": 89.76438399999999,
                  "CONDO": false,
                  "property_crime_rate": 55.711423,
                  "bathfull": 1,
                  "small_apt_buildings_pct": 0,
                  "standardized_test_score_percentile": 21.295493,
                  "MULTI_FAMILY": false,
                  "bedrooms": 2,
                  "list_date": "2017-06-29",
                  "sale_date": "2017-07-28",
                  "rex_property_id": 314370709,
                  "latitude": 39.79353,
                  "longitude": -104.98597,
                  "_deepnote_index_column": 277536
                },
                {
                  "18-59": 0.502336448598131,
                  "mean_household_income": 49108,
                  "built 1995 or later": 22.932651,
                  "OTHER": false,
                  "mobile_home_pct": 70.247229,
                  "annual_births_per_resident": 0.0116822429906539,
                  "farm_score": 100,
                  "luxury_communities_score": 89.76438399999999,
                  "CONDO": false,
                  "property_crime_rate": 55.711423,
                  "bathfull": 1,
                  "small_apt_buildings_pct": 0,
                  "standardized_test_score_percentile": 21.295493,
                  "MULTI_FAMILY": false,
                  "bedrooms": 2,
                  "list_date": "2016-09-01",
                  "sale_date": "2016-11-02",
                  "rex_property_id": 357159514,
                  "latitude": 39.79741,
                  "longitude": -104.98075,
                  "_deepnote_index_column": 277537
                },
                {
                  "18-59": 0.502336448598131,
                  "mean_household_income": 49108,
                  "built 1995 or later": 22.932651,
                  "OTHER": false,
                  "mobile_home_pct": 70.247229,
                  "annual_births_per_resident": 0.0116822429906539,
                  "farm_score": 100,
                  "luxury_communities_score": 89.76438399999999,
                  "CONDO": false,
                  "property_crime_rate": 55.711423,
                  "bathfull": 1,
                  "small_apt_buildings_pct": 0,
                  "standardized_test_score_percentile": 21.295493,
                  "MULTI_FAMILY": true,
                  "bedrooms": 2,
                  "list_date": "2017-01-31",
                  "sale_date": "2017-08-28",
                  "rex_property_id": 343766293,
                  "latitude": 39.7981,
                  "longitude": -104.97968,
                  "_deepnote_index_column": 277538
                },
                {
                  "18-59": 0.5306812691254629,
                  "mean_household_income": 160223,
                  "built 1995 or later": 16.032064000000002,
                  "OTHER": false,
                  "mobile_home_pct": 0,
                  "annual_births_per_resident": 0.008052826542116,
                  "farm_score": 50,
                  "luxury_communities_score": 3.777015,
                  "CONDO": false,
                  "property_crime_rate": 12.848752,
                  "bathfull": 3,
                  "small_apt_buildings_pct": 2.60521,
                  "standardized_test_score_percentile": 85.551908,
                  "MULTI_FAMILY": false,
                  "bedrooms": 4,
                  "list_date": "2016-12-07",
                  "sale_date": "2017-04-19",
                  "rex_property_id": 120815412,
                  "latitude": 40.11232,
                  "longitude": -105.22475,
                  "_deepnote_index_column": 277539
                },
                {
                  "18-59": 0.598834128245893,
                  "mean_household_income": 127096,
                  "built 1995 or later": 12.979351,
                  "OTHER": false,
                  "mobile_home_pct": 0.589971,
                  "annual_births_per_resident": 0.006094329623741,
                  "farm_score": 100,
                  "luxury_communities_score": 26.076625,
                  "CONDO": false,
                  "property_crime_rate": 10.990621,
                  "bathfull": 14,
                  "small_apt_buildings_pct": 0,
                  "standardized_test_score_percentile": 62.619725,
                  "MULTI_FAMILY": false,
                  "bedrooms": 11,
                  "list_date": "2018-08-03",
                  "sale_date": "2100-01-01",
                  "rex_property_id": 93829409,
                  "latitude": 39.44076,
                  "longitude": -104.61577,
                  "_deepnote_index_column": 277540
                },
                {
                  "18-59": 0.603770321687997,
                  "mean_household_income": 101871,
                  "built 1995 or later": 6.896552000000001,
                  "OTHER": false,
                  "mobile_home_pct": 17.961915,
                  "annual_births_per_resident": 0.015219647180906,
                  "farm_score": 100,
                  "luxury_communities_score": 21.818164000000003,
                  "CONDO": false,
                  "property_crime_rate": 27.675277,
                  "bathfull": 1,
                  "small_apt_buildings_pct": 0,
                  "standardized_test_score_percentile": 85.900806,
                  "MULTI_FAMILY": false,
                  "bedrooms": 3,
                  "list_date": "2020-09-09",
                  "sale_date": "2020-10-21",
                  "rex_property_id": 93370932,
                  "latitude": 39.91932,
                  "longitude": -105.04609,
                  "_deepnote_index_column": 277541
                },
                {
                  "18-59": 0.785573770491803,
                  "mean_household_income": 61814,
                  "built 1995 or later": 86.148238,
                  "OTHER": true,
                  "mobile_home_pct": 6.439854,
                  "annual_births_per_resident": 0.00983606557377,
                  "farm_score": 100,
                  "luxury_communities_score": 28.282155,
                  "CONDO": false,
                  "property_crime_rate": 56.206089,
                  "bathfull": 2,
                  "small_apt_buildings_pct": 0,
                  "standardized_test_score_percentile": 12.581497,
                  "MULTI_FAMILY": false,
                  "bedrooms": 3,
                  "list_date": "2018-04-24",
                  "sale_date": "2100-01-01",
                  "rex_property_id": 361336564,
                  "latitude": 39.74417,
                  "longitude": -104.82657,
                  "_deepnote_index_column": 277542
                },
                {
                  "18-59": 0.576850984067479,
                  "mean_household_income": 55974,
                  "built 1995 or later": 33.745875,
                  "OTHER": false,
                  "mobile_home_pct": 72.689769,
                  "annual_births_per_resident": 0.0084348641049669,
                  "farm_score": 50,
                  "luxury_communities_score": 83.66010899999999,
                  "CONDO": false,
                  "property_crime_rate": 30.618140000000004,
                  "bathfull": 3,
                  "small_apt_buildings_pct": 0,
                  "standardized_test_score_percentile": 16.884992999999998,
                  "MULTI_FAMILY": false,
                  "bedrooms": 3,
                  "list_date": "2017-06-29",
                  "sale_date": "2017-08-30",
                  "rex_property_id": 351207667,
                  "latitude": 39.86006,
                  "longitude": -104.92934,
                  "_deepnote_index_column": 277543
                },
                {
                  "18-59": 0.623831267666884,
                  "mean_household_income": 108207,
                  "built 1995 or later": 3.015682,
                  "OTHER": false,
                  "mobile_home_pct": 0.422195,
                  "annual_births_per_resident": 0.016525331593825,
                  "farm_score": 100,
                  "luxury_communities_score": 16.93072,
                  "CONDO": true,
                  "property_crime_rate": 19.415404,
                  "bathfull": 2,
                  "small_apt_buildings_pct": 0,
                  "standardized_test_score_percentile": 81.854093,
                  "MULTI_FAMILY": false,
                  "bedrooms": 2,
                  "list_date": "2017-04-13",
                  "sale_date": "2017-06-07",
                  "rex_property_id": 352759060,
                  "latitude": 39.90318,
                  "longitude": -105.05226,
                  "_deepnote_index_column": 277544
                },
                {
                  "18-59": 0.623831267666884,
                  "mean_household_income": 108207,
                  "built 1995 or later": 3.015682,
                  "OTHER": false,
                  "mobile_home_pct": 0.422195,
                  "annual_births_per_resident": 0.016525331593825,
                  "farm_score": 100,
                  "luxury_communities_score": 16.93072,
                  "CONDO": true,
                  "property_crime_rate": 19.415404,
                  "bathfull": 2,
                  "small_apt_buildings_pct": 0,
                  "standardized_test_score_percentile": 81.854093,
                  "MULTI_FAMILY": false,
                  "bedrooms": 2,
                  "list_date": "2018-05-18",
                  "sale_date": "2018-06-28",
                  "rex_property_id": 352759060,
                  "latitude": 39.90318,
                  "longitude": -105.05226,
                  "_deepnote_index_column": 277545
                },
                {
                  "18-59": 0.541231544832553,
                  "mean_household_income": 78117,
                  "built 1995 or later": 22.450889,
                  "OTHER": false,
                  "mobile_home_pct": 8.840036999999999,
                  "annual_births_per_resident": 0.0189052934821749,
                  "farm_score": 0,
                  "luxury_communities_score": 50.545896,
                  "CONDO": false,
                  "property_crime_rate": 0,
                  "bathfull": 1,
                  "small_apt_buildings_pct": 5.05145,
                  "standardized_test_score_percentile": 42.274687,
                  "MULTI_FAMILY": false,
                  "bedrooms": 3,
                  "list_date": "2020-09-08",
                  "sale_date": "2100-01-01",
                  "rex_property_id": 121948410,
                  "latitude": 40.586940000000006,
                  "longitude": -104.74366,
                  "_deepnote_index_column": 277548
                },
                {
                  "18-59": 0.519822921790457,
                  "mean_household_income": 118127,
                  "built 1995 or later": 40.666667,
                  "OTHER": false,
                  "mobile_home_pct": 9.638889,
                  "annual_births_per_resident": 0.008755533694048,
                  "farm_score": 0,
                  "luxury_communities_score": 26.12922,
                  "CONDO": false,
                  "property_crime_rate": 8.233058999999999,
                  "bathfull": 4,
                  "small_apt_buildings_pct": 0.527778,
                  "standardized_test_score_percentile": 74.07271,
                  "MULTI_FAMILY": false,
                  "bedrooms": 4,
                  "list_date": "2017-05-31",
                  "sale_date": "2100-01-01",
                  "rex_property_id": 122775824,
                  "latitude": 40.19702,
                  "longitude": -105.02302,
                  "_deepnote_index_column": 277549
                },
                {
                  "18-59": 0.51136699143785,
                  "mean_household_income": 112043,
                  "built 1995 or later": 27.410359000000003,
                  "OTHER": false,
                  "mobile_home_pct": 2.788845,
                  "annual_births_per_resident": 0.009152642456451,
                  "farm_score": 100,
                  "luxury_communities_score": 25.255845,
                  "CONDO": false,
                  "property_crime_rate": 11.689526,
                  "bathfull": 1,
                  "small_apt_buildings_pct": 0.8764940000000001,
                  "standardized_test_score_percentile": 60.597145,
                  "MULTI_FAMILY": false,
                  "bedrooms": 4,
                  "list_date": "2017-06-02",
                  "sale_date": "2100-01-01",
                  "rex_property_id": 93936156,
                  "latitude": 39.332,
                  "longitude": -104.66001,
                  "_deepnote_index_column": 277550
                },
                {
                  "18-59": 0.51136699143785,
                  "mean_household_income": 112043,
                  "built 1995 or later": 27.410359000000003,
                  "OTHER": false,
                  "mobile_home_pct": 2.788845,
                  "annual_births_per_resident": 0.009152642456451,
                  "farm_score": 100,
                  "luxury_communities_score": 25.255845,
                  "CONDO": false,
                  "property_crime_rate": 11.689526,
                  "bathfull": 1,
                  "small_apt_buildings_pct": 0.8764940000000001,
                  "standardized_test_score_percentile": 60.597145,
                  "MULTI_FAMILY": false,
                  "bedrooms": 4,
                  "list_date": "2019-05-30",
                  "sale_date": "2020-08-31",
                  "rex_property_id": 93936156,
                  "latitude": 39.332,
                  "longitude": -104.66001,
                  "_deepnote_index_column": 277551
                }
              ]
            },
            "text/plain": "           18-59  mean_household_income  built 1995 or later  OTHER  \\\n0       0.616287                 107073            80.577849  False   \n1       0.616287                 107073            80.577849  False   \n4       0.616287                 107073            80.577849  False   \n5       0.616287                 107073            80.577849  False   \n6       0.616287                 107073            80.577849  False   \n...          ...                    ...                  ...    ...   \n277545  0.623831                 108207             3.015682  False   \n277548  0.541232                  78117            22.450889  False   \n277549  0.519823                 118127            40.666667  False   \n277550  0.511367                 112043            27.410359  False   \n277551  0.511367                 112043            27.410359  False   \n\n        mobile_home_pct  annual_births_per_resident  farm_score  \\\n0              0.000000                    0.016527         100   \n1              0.000000                    0.016527         100   \n4              0.000000                    0.016527         100   \n5              0.000000                    0.016527         100   \n6              0.000000                    0.016527         100   \n...                 ...                         ...         ...   \n277545         0.422195                    0.016525         100   \n277548         8.840037                    0.018905           0   \n277549         9.638889                    0.008756           0   \n277550         2.788845                    0.009153         100   \n277551         2.788845                    0.009153         100   \n\n        luxury_communities_score  CONDO  property_crime_rate  bathfull  \\\n0                      21.852379  False            11.972931         3   \n1                      21.852379  False            11.972931         3   \n4                      21.852379  False            11.972931         2   \n5                      21.852379  False            11.972931         3   \n6                      21.852379  False            11.972931         4   \n...                          ...    ...                  ...       ...   \n277545                 16.930720   True            19.415404         2   \n277548                 50.545896  False             0.000000         1   \n277549                 26.129220  False             8.233059         4   \n277550                 25.255845  False            11.689526         1   \n277551                 25.255845  False            11.689526         1   \n\n        small_apt_buildings_pct  standardized_test_score_percentile  \\\n0                      0.802568                           81.596980   \n1                      0.802568                           81.596980   \n4                      0.802568                           81.596980   \n5                      0.802568                           81.596980   \n6                      0.802568                           81.596980   \n...                         ...                                 ...   \n277545                 0.000000                           81.854093   \n277548                 5.051450                           42.274687   \n277549                 0.527778                           74.072710   \n277550                 0.876494                           60.597145   \n277551                 0.876494                           60.597145   \n\n        MULTI_FAMILY  bedrooms   list_date   sale_date  rex_property_id  \\\n0              False         4  2016-06-30  2016-08-12        207973152   \n1              False         4  2019-04-26  2019-05-29        207973152   \n4              False         5  2020-06-26  2020-08-10        208397574   \n5              False         3  2017-04-21  2017-05-15        207998741   \n6              False         4  2017-06-16  2017-07-14        207964420   \n...              ...       ...         ...         ...              ...   \n277545         False         2  2018-05-18  2018-06-28        352759060   \n277548         False         3  2020-09-08  2100-01-01        121948410   \n277549         False         4  2017-05-31  2100-01-01        122775824   \n277550         False         4  2017-06-02  2100-01-01         93936156   \n277551         False         4  2019-05-30  2020-08-31         93936156   \n\n        latitude  longitude  \n0       39.61454 -104.72075  \n1       39.61454 -104.72075  \n4       39.61368 -104.72888  \n5       39.62276 -104.72723  \n6       39.62257 -104.72502  \n...          ...        ...  \n277545  39.90318 -105.05226  \n277548  40.58694 -104.74366  \n277549  40.19702 -105.02302  \n277550  39.33200 -104.66001  \n277551  39.33200 -104.66001  \n\n[218369 rows x 20 columns]",
            "text/html": "<div>\n<style scoped>\n    .dataframe tbody tr th:only-of-type {\n        vertical-align: middle;\n    }\n\n    .dataframe tbody tr th {\n        vertical-align: top;\n    }\n\n    .dataframe thead th {\n        text-align: right;\n    }\n</style>\n<table border=\"1\" class=\"dataframe\">\n  <thead>\n    <tr style=\"text-align: right;\">\n      <th></th>\n      <th>18-59</th>\n      <th>mean_household_income</th>\n      <th>built 1995 or later</th>\n      <th>OTHER</th>\n      <th>mobile_home_pct</th>\n      <th>annual_births_per_resident</th>\n      <th>farm_score</th>\n      <th>luxury_communities_score</th>\n      <th>CONDO</th>\n      <th>property_crime_rate</th>\n      <th>bathfull</th>\n      <th>small_apt_buildings_pct</th>\n      <th>standardized_test_score_percentile</th>\n      <th>MULTI_FAMILY</th>\n      <th>bedrooms</th>\n      <th>list_date</th>\n      <th>sale_date</th>\n      <th>rex_property_id</th>\n      <th>latitude</th>\n      <th>longitude</th>\n    </tr>\n  </thead>\n  <tbody>\n    <tr>\n      <th>0</th>\n      <td>0.616287</td>\n      <td>107073</td>\n      <td>80.577849</td>\n      <td>False</td>\n      <td>0.000000</td>\n      <td>0.016527</td>\n      <td>100</td>\n      <td>21.852379</td>\n      <td>False</td>\n      <td>11.972931</td>\n      <td>3</td>\n      <td>0.802568</td>\n      <td>81.596980</td>\n      <td>False</td>\n      <td>4</td>\n      <td>2016-06-30</td>\n      <td>2016-08-12</td>\n      <td>207973152</td>\n      <td>39.61454</td>\n      <td>-104.72075</td>\n    </tr>\n    <tr>\n      <th>1</th>\n      <td>0.616287</td>\n      <td>107073</td>\n      <td>80.577849</td>\n      <td>False</td>\n      <td>0.000000</td>\n      <td>0.016527</td>\n      <td>100</td>\n      <td>21.852379</td>\n      <td>False</td>\n      <td>11.972931</td>\n      <td>3</td>\n      <td>0.802568</td>\n      <td>81.596980</td>\n      <td>False</td>\n      <td>4</td>\n      <td>2019-04-26</td>\n      <td>2019-05-29</td>\n      <td>207973152</td>\n      <td>39.61454</td>\n      <td>-104.72075</td>\n    </tr>\n    <tr>\n      <th>4</th>\n      <td>0.616287</td>\n      <td>107073</td>\n      <td>80.577849</td>\n      <td>False</td>\n      <td>0.000000</td>\n      <td>0.016527</td>\n      <td>100</td>\n      <td>21.852379</td>\n      <td>False</td>\n      <td>11.972931</td>\n      <td>2</td>\n      <td>0.802568</td>\n      <td>81.596980</td>\n      <td>False</td>\n      <td>5</td>\n      <td>2020-06-26</td>\n      <td>2020-08-10</td>\n      <td>208397574</td>\n      <td>39.61368</td>\n      <td>-104.72888</td>\n    </tr>\n    <tr>\n      <th>5</th>\n      <td>0.616287</td>\n      <td>107073</td>\n      <td>80.577849</td>\n      <td>False</td>\n      <td>0.000000</td>\n      <td>0.016527</td>\n      <td>100</td>\n      <td>21.852379</td>\n      <td>False</td>\n      <td>11.972931</td>\n      <td>3</td>\n      <td>0.802568</td>\n      <td>81.596980</td>\n      <td>False</td>\n      <td>3</td>\n      <td>2017-04-21</td>\n      <td>2017-05-15</td>\n      <td>207998741</td>\n      <td>39.62276</td>\n      <td>-104.72723</td>\n    </tr>\n    <tr>\n      <th>6</th>\n      <td>0.616287</td>\n      <td>107073</td>\n      <td>80.577849</td>\n      <td>False</td>\n      <td>0.000000</td>\n      <td>0.016527</td>\n      <td>100</td>\n      <td>21.852379</td>\n      <td>False</td>\n      <td>11.972931</td>\n      <td>4</td>\n      <td>0.802568</td>\n      <td>81.596980</td>\n      <td>False</td>\n      <td>4</td>\n      <td>2017-06-16</td>\n      <td>2017-07-14</td>\n      <td>207964420</td>\n      <td>39.62257</td>\n      <td>-104.72502</td>\n    </tr>\n    <tr>\n      <th>...</th>\n      <td>...</td>\n      <td>...</td>\n      <td>...</td>\n      <td>...</td>\n      <td>...</td>\n      <td>...</td>\n      <td>...</td>\n      <td>...</td>\n      <td>...</td>\n      <td>...</td>\n      <td>...</td>\n      <td>...</td>\n      <td>...</td>\n      <td>...</td>\n      <td>...</td>\n      <td>...</td>\n      <td>...</td>\n      <td>...</td>\n      <td>...</td>\n      <td>...</td>\n    </tr>\n    <tr>\n      <th>277545</th>\n      <td>0.623831</td>\n      <td>108207</td>\n      <td>3.015682</td>\n      <td>False</td>\n      <td>0.422195</td>\n      <td>0.016525</td>\n      <td>100</td>\n      <td>16.930720</td>\n      <td>True</td>\n      <td>19.415404</td>\n      <td>2</td>\n      <td>0.000000</td>\n      <td>81.854093</td>\n      <td>False</td>\n      <td>2</td>\n      <td>2018-05-18</td>\n      <td>2018-06-28</td>\n      <td>352759060</td>\n      <td>39.90318</td>\n      <td>-105.05226</td>\n    </tr>\n    <tr>\n      <th>277548</th>\n      <td>0.541232</td>\n      <td>78117</td>\n      <td>22.450889</td>\n      <td>False</td>\n      <td>8.840037</td>\n      <td>0.018905</td>\n      <td>0</td>\n      <td>50.545896</td>\n      <td>False</td>\n      <td>0.000000</td>\n      <td>1</td>\n      <td>5.051450</td>\n      <td>42.274687</td>\n      <td>False</td>\n      <td>3</td>\n      <td>2020-09-08</td>\n      <td>2100-01-01</td>\n      <td>121948410</td>\n      <td>40.58694</td>\n      <td>-104.74366</td>\n    </tr>\n    <tr>\n      <th>277549</th>\n      <td>0.519823</td>\n      <td>118127</td>\n      <td>40.666667</td>\n      <td>False</td>\n      <td>9.638889</td>\n      <td>0.008756</td>\n      <td>0</td>\n      <td>26.129220</td>\n      <td>False</td>\n      <td>8.233059</td>\n      <td>4</td>\n      <td>0.527778</td>\n      <td>74.072710</td>\n      <td>False</td>\n      <td>4</td>\n      <td>2017-05-31</td>\n      <td>2100-01-01</td>\n      <td>122775824</td>\n      <td>40.19702</td>\n      <td>-105.02302</td>\n    </tr>\n    <tr>\n      <th>277550</th>\n      <td>0.511367</td>\n      <td>112043</td>\n      <td>27.410359</td>\n      <td>False</td>\n      <td>2.788845</td>\n      <td>0.009153</td>\n      <td>100</td>\n      <td>25.255845</td>\n      <td>False</td>\n      <td>11.689526</td>\n      <td>1</td>\n      <td>0.876494</td>\n      <td>60.597145</td>\n      <td>False</td>\n      <td>4</td>\n      <td>2017-06-02</td>\n      <td>2100-01-01</td>\n      <td>93936156</td>\n      <td>39.33200</td>\n      <td>-104.66001</td>\n    </tr>\n    <tr>\n      <th>277551</th>\n      <td>0.511367</td>\n      <td>112043</td>\n      <td>27.410359</td>\n      <td>False</td>\n      <td>2.788845</td>\n      <td>0.009153</td>\n      <td>100</td>\n      <td>25.255845</td>\n      <td>False</td>\n      <td>11.689526</td>\n      <td>1</td>\n      <td>0.876494</td>\n      <td>60.597145</td>\n      <td>False</td>\n      <td>4</td>\n      <td>2019-05-30</td>\n      <td>2020-08-31</td>\n      <td>93936156</td>\n      <td>39.33200</td>\n      <td>-104.66001</td>\n    </tr>\n  </tbody>\n</table>\n<p>218369 rows × 20 columns</p>\n</div>"
          },
          "metadata": {}
        }
      ],
      "execution_count": 51
    },
    {
      "cell_type": "code",
      "source": "df[df.isna().any(axis=1)]",
      "metadata": {
        "tags": [],
        "cell_id": "00003-09a22f6c-13d5-44b3-a44f-673519cabd45",
        "deepnote_to_be_reexecuted": false,
        "source_hash": "27fc094",
        "execution_millis": 113,
        "execution_start": 1619478228520,
        "deepnote_cell_type": "code"
      },
      "outputs": [
        {
          "output_type": "execute_result",
          "execution_count": 52,
          "data": {
            "application/vnd.deepnote.dataframe.v2+json": {
              "row_count": 127,
              "column_count": 20,
              "columns": [
                {
                  "name": "18-59",
                  "dtype": "float64",
                  "stats": {
                    "unique_count": 86,
                    "nan_count": 0,
                    "min": "0.308070866141732",
                    "max": "0.8339977675011959",
                    "histogram": [
                      {
                        "bin_start": 0.308070866141732,
                        "bin_end": 0.3606635562776784,
                        "count": 1
                      },
                      {
                        "bin_start": 0.3606635562776784,
                        "bin_end": 0.4132562464136248,
                        "count": 1
                      },
                      {
                        "bin_start": 0.4132562464136248,
                        "bin_end": 0.46584893654957116,
                        "count": 4
                      },
                      {
                        "bin_start": 0.46584893654957116,
                        "bin_end": 0.5184416266855175,
                        "count": 19
                      },
                      {
                        "bin_start": 0.5184416266855175,
                        "bin_end": 0.571034316821464,
                        "count": 52
                      },
                      {
                        "bin_start": 0.571034316821464,
                        "bin_end": 0.6236270069574104,
                        "count": 30
                      },
                      {
                        "bin_start": 0.6236270069574104,
                        "bin_end": 0.6762196970933567,
                        "count": 13
                      },
                      {
                        "bin_start": 0.6762196970933567,
                        "bin_end": 0.7288123872293031,
                        "count": 2
                      },
                      {
                        "bin_start": 0.7288123872293031,
                        "bin_end": 0.7814050773652494,
                        "count": 4
                      },
                      {
                        "bin_start": 0.7814050773652494,
                        "bin_end": 0.8339977675011959,
                        "count": 1
                      }
                    ]
                  }
                },
                {
                  "name": "mean_household_income",
                  "dtype": "int64",
                  "stats": {
                    "unique_count": 86,
                    "nan_count": 0,
                    "min": "43942",
                    "max": "363176",
                    "histogram": [
                      {
                        "bin_start": 43942,
                        "bin_end": 75865.4,
                        "count": 15
                      },
                      {
                        "bin_start": 75865.4,
                        "bin_end": 107788.8,
                        "count": 45
                      },
                      {
                        "bin_start": 107788.8,
                        "bin_end": 139712.2,
                        "count": 31
                      },
                      {
                        "bin_start": 139712.2,
                        "bin_end": 171635.6,
                        "count": 26
                      },
                      {
                        "bin_start": 171635.6,
                        "bin_end": 203559,
                        "count": 5
                      },
                      {
                        "bin_start": 203559,
                        "bin_end": 235482.40000000002,
                        "count": 1
                      },
                      {
                        "bin_start": 235482.40000000002,
                        "bin_end": 267405.80000000005,
                        "count": 1
                      },
                      {
                        "bin_start": 267405.80000000005,
                        "bin_end": 299329.2,
                        "count": 1
                      },
                      {
                        "bin_start": 299329.2,
                        "bin_end": 331252.60000000003,
                        "count": 1
                      },
                      {
                        "bin_start": 331252.60000000003,
                        "bin_end": 363176,
                        "count": 1
                      }
                    ]
                  }
                },
                {
                  "name": "built 1995 or later",
                  "dtype": "float64",
                  "stats": {
                    "unique_count": 86,
                    "nan_count": 0,
                    "min": "0.0",
                    "max": "96.844902",
                    "histogram": [
                      {
                        "bin_start": 0,
                        "bin_end": 9.6844902,
                        "count": 32
                      },
                      {
                        "bin_start": 9.6844902,
                        "bin_end": 19.3689804,
                        "count": 24
                      },
                      {
                        "bin_start": 19.3689804,
                        "bin_end": 29.053470600000004,
                        "count": 22
                      },
                      {
                        "bin_start": 29.053470600000004,
                        "bin_end": 38.7379608,
                        "count": 11
                      },
                      {
                        "bin_start": 38.7379608,
                        "bin_end": 48.422451,
                        "count": 9
                      },
                      {
                        "bin_start": 48.422451,
                        "bin_end": 58.10694120000001,
                        "count": 1
                      },
                      {
                        "bin_start": 58.10694120000001,
                        "bin_end": 67.79143140000001,
                        "count": 2
                      },
                      {
                        "bin_start": 67.79143140000001,
                        "bin_end": 77.4759216,
                        "count": 12
                      },
                      {
                        "bin_start": 77.4759216,
                        "bin_end": 87.1604118,
                        "count": 2
                      },
                      {
                        "bin_start": 87.1604118,
                        "bin_end": 96.844902,
                        "count": 12
                      }
                    ]
                  }
                },
                {
                  "name": "OTHER",
                  "dtype": "bool",
                  "stats": {
                    "unique_count": 2,
                    "nan_count": 0,
                    "categories": [
                      {
                        "name": "False",
                        "count": 124
                      },
                      {
                        "name": "True",
                        "count": 3
                      }
                    ]
                  }
                },
                {
                  "name": "mobile_home_pct",
                  "dtype": "float64",
                  "stats": {
                    "unique_count": 27,
                    "nan_count": 0,
                    "min": "0.0",
                    "max": "17.894315",
                    "histogram": [
                      {
                        "bin_start": 0,
                        "bin_end": 1.7894314999999998,
                        "count": 88
                      },
                      {
                        "bin_start": 1.7894314999999998,
                        "bin_end": 3.5788629999999997,
                        "count": 22
                      },
                      {
                        "bin_start": 3.5788629999999997,
                        "bin_end": 5.368294499999999,
                        "count": 6
                      },
                      {
                        "bin_start": 5.368294499999999,
                        "bin_end": 7.157725999999999,
                        "count": 0
                      },
                      {
                        "bin_start": 7.157725999999999,
                        "bin_end": 8.9471575,
                        "count": 0
                      },
                      {
                        "bin_start": 8.9471575,
                        "bin_end": 10.736588999999999,
                        "count": 0
                      },
                      {
                        "bin_start": 10.736588999999999,
                        "bin_end": 12.5260205,
                        "count": 0
                      },
                      {
                        "bin_start": 12.5260205,
                        "bin_end": 14.315451999999999,
                        "count": 0
                      },
                      {
                        "bin_start": 14.315451999999999,
                        "bin_end": 16.1048835,
                        "count": 10
                      },
                      {
                        "bin_start": 16.1048835,
                        "bin_end": 17.894315,
                        "count": 1
                      }
                    ]
                  }
                },
                {
                  "name": "annual_births_per_resident",
                  "dtype": "float64",
                  "stats": {
                    "unique_count": 81,
                    "nan_count": 0,
                    "min": "0.0",
                    "max": "0.040950811955754",
                    "histogram": [
                      {
                        "bin_start": 0,
                        "bin_end": 0.0040950811955754,
                        "count": 18
                      },
                      {
                        "bin_start": 0.0040950811955754,
                        "bin_end": 0.0081901623911508,
                        "count": 36
                      },
                      {
                        "bin_start": 0.0081901623911508,
                        "bin_end": 0.0122852435867262,
                        "count": 34
                      },
                      {
                        "bin_start": 0.0122852435867262,
                        "bin_end": 0.0163803247823016,
                        "count": 13
                      },
                      {
                        "bin_start": 0.0163803247823016,
                        "bin_end": 0.020475405977877,
                        "count": 8
                      },
                      {
                        "bin_start": 0.020475405977877,
                        "bin_end": 0.0245704871734524,
                        "count": 11
                      },
                      {
                        "bin_start": 0.0245704871734524,
                        "bin_end": 0.0286655683690278,
                        "count": 2
                      },
                      {
                        "bin_start": 0.0286655683690278,
                        "bin_end": 0.0327606495646032,
                        "count": 4
                      },
                      {
                        "bin_start": 0.0327606495646032,
                        "bin_end": 0.036855730760178604,
                        "count": 0
                      },
                      {
                        "bin_start": 0.036855730760178604,
                        "bin_end": 0.040950811955754,
                        "count": 1
                      }
                    ]
                  }
                },
                {
                  "name": "farm_score",
                  "dtype": "int64",
                  "stats": {
                    "unique_count": 3,
                    "nan_count": 0,
                    "min": "0",
                    "max": "100",
                    "histogram": [
                      {
                        "bin_start": 0,
                        "bin_end": 10,
                        "count": 3
                      },
                      {
                        "bin_start": 10,
                        "bin_end": 20,
                        "count": 0
                      },
                      {
                        "bin_start": 20,
                        "bin_end": 30,
                        "count": 0
                      },
                      {
                        "bin_start": 30,
                        "bin_end": 40,
                        "count": 0
                      },
                      {
                        "bin_start": 40,
                        "bin_end": 50,
                        "count": 0
                      },
                      {
                        "bin_start": 50,
                        "bin_end": 60,
                        "count": 5
                      },
                      {
                        "bin_start": 60,
                        "bin_end": 70,
                        "count": 0
                      },
                      {
                        "bin_start": 70,
                        "bin_end": 80,
                        "count": 0
                      },
                      {
                        "bin_start": 80,
                        "bin_end": 90,
                        "count": 0
                      },
                      {
                        "bin_start": 90,
                        "bin_end": 100,
                        "count": 119
                      }
                    ]
                  }
                },
                {
                  "name": "luxury_communities_score",
                  "dtype": "float64",
                  "stats": {
                    "unique_count": 86,
                    "nan_count": 0,
                    "min": "0.6054149999999999",
                    "max": "87.27119499999999",
                    "histogram": [
                      {
                        "bin_start": 0.6054149999999999,
                        "bin_end": 9.271993,
                        "count": 29
                      },
                      {
                        "bin_start": 9.271993,
                        "bin_end": 17.938571,
                        "count": 30
                      },
                      {
                        "bin_start": 17.938571,
                        "bin_end": 26.605148999999997,
                        "count": 18
                      },
                      {
                        "bin_start": 26.605148999999997,
                        "bin_end": 35.271727,
                        "count": 6
                      },
                      {
                        "bin_start": 35.271727,
                        "bin_end": 43.938305,
                        "count": 30
                      },
                      {
                        "bin_start": 43.938305,
                        "bin_end": 52.604882999999994,
                        "count": 8
                      },
                      {
                        "bin_start": 52.604882999999994,
                        "bin_end": 61.271460999999995,
                        "count": 2
                      },
                      {
                        "bin_start": 61.271460999999995,
                        "bin_end": 69.93803899999999,
                        "count": 1
                      },
                      {
                        "bin_start": 69.93803899999999,
                        "bin_end": 78.60461699999999,
                        "count": 1
                      },
                      {
                        "bin_start": 78.60461699999999,
                        "bin_end": 87.27119499999999,
                        "count": 2
                      }
                    ]
                  }
                },
                {
                  "name": "CONDO",
                  "dtype": "bool",
                  "stats": {
                    "unique_count": 2,
                    "nan_count": 0,
                    "categories": [
                      {
                        "name": "False",
                        "count": 121
                      },
                      {
                        "name": "True",
                        "count": 6
                      }
                    ]
                  }
                },
                {
                  "name": "property_crime_rate",
                  "dtype": "float64",
                  "stats": {
                    "unique_count": 86,
                    "nan_count": 0,
                    "min": "0.0",
                    "max": "77.565632",
                    "histogram": [
                      {
                        "bin_start": 0,
                        "bin_end": 7.7565631999999995,
                        "count": 16
                      },
                      {
                        "bin_start": 7.7565631999999995,
                        "bin_end": 15.513126399999999,
                        "count": 40
                      },
                      {
                        "bin_start": 15.513126399999999,
                        "bin_end": 23.2696896,
                        "count": 29
                      },
                      {
                        "bin_start": 23.2696896,
                        "bin_end": 31.026252799999998,
                        "count": 13
                      },
                      {
                        "bin_start": 31.026252799999998,
                        "bin_end": 38.782816,
                        "count": 8
                      },
                      {
                        "bin_start": 38.782816,
                        "bin_end": 46.5393792,
                        "count": 7
                      },
                      {
                        "bin_start": 46.5393792,
                        "bin_end": 54.295942399999994,
                        "count": 6
                      },
                      {
                        "bin_start": 54.295942399999994,
                        "bin_end": 62.052505599999996,
                        "count": 3
                      },
                      {
                        "bin_start": 62.052505599999996,
                        "bin_end": 69.80906879999999,
                        "count": 2
                      },
                      {
                        "bin_start": 69.80906879999999,
                        "bin_end": 77.565632,
                        "count": 3
                      }
                    ]
                  }
                },
                {
                  "name": "bathfull",
                  "dtype": "int64",
                  "stats": {
                    "unique_count": 5,
                    "nan_count": 0,
                    "min": "1",
                    "max": "5",
                    "histogram": [
                      {
                        "bin_start": 1,
                        "bin_end": 1.4,
                        "count": 28
                      },
                      {
                        "bin_start": 1.4,
                        "bin_end": 1.8,
                        "count": 0
                      },
                      {
                        "bin_start": 1.8,
                        "bin_end": 2.2,
                        "count": 53
                      },
                      {
                        "bin_start": 2.2,
                        "bin_end": 2.6,
                        "count": 0
                      },
                      {
                        "bin_start": 2.6,
                        "bin_end": 3,
                        "count": 0
                      },
                      {
                        "bin_start": 3,
                        "bin_end": 3.4000000000000004,
                        "count": 31
                      },
                      {
                        "bin_start": 3.4000000000000004,
                        "bin_end": 3.8000000000000003,
                        "count": 0
                      },
                      {
                        "bin_start": 3.8000000000000003,
                        "bin_end": 4.2,
                        "count": 12
                      },
                      {
                        "bin_start": 4.2,
                        "bin_end": 4.6,
                        "count": 0
                      },
                      {
                        "bin_start": 4.6,
                        "bin_end": 5,
                        "count": 3
                      }
                    ]
                  }
                },
                {
                  "name": "small_apt_buildings_pct",
                  "dtype": "float64",
                  "stats": {
                    "unique_count": 65,
                    "nan_count": 0,
                    "min": "0.0",
                    "max": "18.901454",
                    "histogram": [
                      {
                        "bin_start": 0,
                        "bin_end": 1.8901454000000002,
                        "count": 84
                      },
                      {
                        "bin_start": 1.8901454000000002,
                        "bin_end": 3.7802908000000004,
                        "count": 10
                      },
                      {
                        "bin_start": 3.7802908000000004,
                        "bin_end": 5.670436200000001,
                        "count": 12
                      },
                      {
                        "bin_start": 5.670436200000001,
                        "bin_end": 7.560581600000001,
                        "count": 8
                      },
                      {
                        "bin_start": 7.560581600000001,
                        "bin_end": 9.450727,
                        "count": 6
                      },
                      {
                        "bin_start": 9.450727,
                        "bin_end": 11.340872400000002,
                        "count": 2
                      },
                      {
                        "bin_start": 11.340872400000002,
                        "bin_end": 13.231017800000002,
                        "count": 1
                      },
                      {
                        "bin_start": 13.231017800000002,
                        "bin_end": 15.121163200000002,
                        "count": 2
                      },
                      {
                        "bin_start": 15.121163200000002,
                        "bin_end": 17.011308600000003,
                        "count": 1
                      },
                      {
                        "bin_start": 17.011308600000003,
                        "bin_end": 18.901454,
                        "count": 1
                      }
                    ]
                  }
                },
                {
                  "name": "standardized_test_score_percentile",
                  "dtype": "float64",
                  "stats": {
                    "unique_count": 86,
                    "nan_count": 0,
                    "min": "15.929442000000002",
                    "max": "93.86627",
                    "histogram": [
                      {
                        "bin_start": 15.929442000000002,
                        "bin_end": 23.7231248,
                        "count": 6
                      },
                      {
                        "bin_start": 23.7231248,
                        "bin_end": 31.5168076,
                        "count": 3
                      },
                      {
                        "bin_start": 31.5168076,
                        "bin_end": 39.3104904,
                        "count": 5
                      },
                      {
                        "bin_start": 39.3104904,
                        "bin_end": 47.1041732,
                        "count": 2
                      },
                      {
                        "bin_start": 47.1041732,
                        "bin_end": 54.897856,
                        "count": 2
                      },
                      {
                        "bin_start": 54.897856,
                        "bin_end": 62.6915388,
                        "count": 2
                      },
                      {
                        "bin_start": 62.6915388,
                        "bin_end": 70.48522159999999,
                        "count": 49
                      },
                      {
                        "bin_start": 70.48522159999999,
                        "bin_end": 78.27890439999999,
                        "count": 21
                      },
                      {
                        "bin_start": 78.27890439999999,
                        "bin_end": 86.07258719999999,
                        "count": 26
                      },
                      {
                        "bin_start": 86.07258719999999,
                        "bin_end": 93.86627,
                        "count": 11
                      }
                    ]
                  }
                },
                {
                  "name": "MULTI_FAMILY",
                  "dtype": "bool",
                  "stats": {
                    "unique_count": 2,
                    "nan_count": 0,
                    "categories": [
                      {
                        "name": "False",
                        "count": 123
                      },
                      {
                        "name": "True",
                        "count": 4
                      }
                    ]
                  }
                },
                {
                  "name": "bedrooms",
                  "dtype": "int64",
                  "stats": {
                    "unique_count": 7,
                    "nan_count": 0,
                    "min": "1",
                    "max": "7",
                    "histogram": [
                      {
                        "bin_start": 1,
                        "bin_end": 1.6,
                        "count": 3
                      },
                      {
                        "bin_start": 1.6,
                        "bin_end": 2.2,
                        "count": 11
                      },
                      {
                        "bin_start": 2.2,
                        "bin_end": 2.8,
                        "count": 0
                      },
                      {
                        "bin_start": 2.8,
                        "bin_end": 3.4,
                        "count": 57
                      },
                      {
                        "bin_start": 3.4,
                        "bin_end": 4,
                        "count": 0
                      },
                      {
                        "bin_start": 4,
                        "bin_end": 4.6,
                        "count": 42
                      },
                      {
                        "bin_start": 4.6,
                        "bin_end": 5.2,
                        "count": 11
                      },
                      {
                        "bin_start": 5.2,
                        "bin_end": 5.8,
                        "count": 0
                      },
                      {
                        "bin_start": 5.8,
                        "bin_end": 6.3999999999999995,
                        "count": 2
                      },
                      {
                        "bin_start": 6.3999999999999995,
                        "bin_end": 7,
                        "count": 1
                      }
                    ]
                  }
                },
                {
                  "name": "list_date",
                  "dtype": "object",
                  "stats": {
                    "unique_count": 110,
                    "nan_count": 0,
                    "categories": [
                      {
                        "name": "2019-07-29",
                        "count": 3
                      },
                      {
                        "name": "2020-09-24",
                        "count": 2
                      },
                      {
                        "name": "108 others",
                        "count": 122
                      }
                    ]
                  }
                },
                {
                  "name": "sale_date",
                  "dtype": "object",
                  "stats": {
                    "unique_count": 85,
                    "nan_count": 0,
                    "categories": [
                      {
                        "name": "2100-01-01",
                        "count": 33
                      },
                      {
                        "name": "2020-09-23",
                        "count": 3
                      },
                      {
                        "name": "83 others",
                        "count": 91
                      }
                    ]
                  }
                },
                {
                  "name": "rex_property_id",
                  "dtype": "int64",
                  "stats": {
                    "unique_count": 123,
                    "nan_count": 0,
                    "min": "67670928",
                    "max": "362964274",
                    "histogram": [
                      {
                        "bin_start": 67670928,
                        "bin_end": 97200262.6,
                        "count": 78
                      },
                      {
                        "bin_start": 97200262.6,
                        "bin_end": 126729597.2,
                        "count": 0
                      },
                      {
                        "bin_start": 126729597.2,
                        "bin_end": 156258931.8,
                        "count": 1
                      },
                      {
                        "bin_start": 156258931.8,
                        "bin_end": 185788266.4,
                        "count": 0
                      },
                      {
                        "bin_start": 185788266.4,
                        "bin_end": 215317601,
                        "count": 17
                      },
                      {
                        "bin_start": 215317601,
                        "bin_end": 244846935.60000002,
                        "count": 7
                      },
                      {
                        "bin_start": 244846935.60000002,
                        "bin_end": 274376270.20000005,
                        "count": 1
                      },
                      {
                        "bin_start": 274376270.20000005,
                        "bin_end": 303905604.8,
                        "count": 6
                      },
                      {
                        "bin_start": 303905604.8,
                        "bin_end": 333434939.4,
                        "count": 8
                      },
                      {
                        "bin_start": 333434939.4,
                        "bin_end": 362964274,
                        "count": 9
                      }
                    ]
                  }
                },
                {
                  "name": "latitude",
                  "dtype": "float64",
                  "stats": {
                    "unique_count": 0,
                    "nan_count": 127,
                    "min": null,
                    "max": null,
                    "histogram": [
                      {
                        "bin_start": 0,
                        "bin_end": 0.1,
                        "count": 0
                      },
                      {
                        "bin_start": 0.1,
                        "bin_end": 0.2,
                        "count": 0
                      },
                      {
                        "bin_start": 0.2,
                        "bin_end": 0.30000000000000004,
                        "count": 0
                      },
                      {
                        "bin_start": 0.30000000000000004,
                        "bin_end": 0.4,
                        "count": 0
                      },
                      {
                        "bin_start": 0.4,
                        "bin_end": 0.5,
                        "count": 0
                      },
                      {
                        "bin_start": 0.5,
                        "bin_end": 0.6000000000000001,
                        "count": 0
                      },
                      {
                        "bin_start": 0.6000000000000001,
                        "bin_end": 0.7000000000000001,
                        "count": 0
                      },
                      {
                        "bin_start": 0.7000000000000001,
                        "bin_end": 0.8,
                        "count": 0
                      },
                      {
                        "bin_start": 0.8,
                        "bin_end": 0.9,
                        "count": 0
                      },
                      {
                        "bin_start": 0.9,
                        "bin_end": 1,
                        "count": 0
                      }
                    ]
                  }
                },
                {
                  "name": "longitude",
                  "dtype": "float64",
                  "stats": {
                    "unique_count": 0,
                    "nan_count": 127,
                    "min": null,
                    "max": null,
                    "histogram": [
                      {
                        "bin_start": 0,
                        "bin_end": 0.1,
                        "count": 0
                      },
                      {
                        "bin_start": 0.1,
                        "bin_end": 0.2,
                        "count": 0
                      },
                      {
                        "bin_start": 0.2,
                        "bin_end": 0.30000000000000004,
                        "count": 0
                      },
                      {
                        "bin_start": 0.30000000000000004,
                        "bin_end": 0.4,
                        "count": 0
                      },
                      {
                        "bin_start": 0.4,
                        "bin_end": 0.5,
                        "count": 0
                      },
                      {
                        "bin_start": 0.5,
                        "bin_end": 0.6000000000000001,
                        "count": 0
                      },
                      {
                        "bin_start": 0.6000000000000001,
                        "bin_end": 0.7000000000000001,
                        "count": 0
                      },
                      {
                        "bin_start": 0.7000000000000001,
                        "bin_end": 0.8,
                        "count": 0
                      },
                      {
                        "bin_start": 0.8,
                        "bin_end": 0.9,
                        "count": 0
                      },
                      {
                        "bin_start": 0.9,
                        "bin_end": 1,
                        "count": 0
                      }
                    ]
                  }
                },
                {
                  "name": "_deepnote_index_column",
                  "dtype": "int64"
                }
              ],
              "rows_top": [
                {
                  "18-59": 0.554729865434826,
                  "mean_household_income": 169961,
                  "built 1995 or later": 69.007545,
                  "OTHER": false,
                  "mobile_home_pct": 0,
                  "annual_births_per_resident": 0.0220927897168109,
                  "farm_score": 100,
                  "luxury_communities_score": 9.118959,
                  "CONDO": false,
                  "property_crime_rate": 9.024745,
                  "bathfull": 5,
                  "small_apt_buildings_pct": 0.580383,
                  "standardized_test_score_percentile": 64.68938399999999,
                  "MULTI_FAMILY": false,
                  "bedrooms": 5,
                  "list_date": "2019-10-18",
                  "sale_date": "2019-12-09",
                  "rex_property_id": 93957040,
                  "latitude": "nan",
                  "longitude": "nan",
                  "_deepnote_index_column": 928
                },
                {
                  "18-59": 0.554729865434826,
                  "mean_household_income": 169961,
                  "built 1995 or later": 69.007545,
                  "OTHER": false,
                  "mobile_home_pct": 0,
                  "annual_births_per_resident": 0.0220927897168109,
                  "farm_score": 100,
                  "luxury_communities_score": 9.118959,
                  "CONDO": false,
                  "property_crime_rate": 9.024745,
                  "bathfull": 4,
                  "small_apt_buildings_pct": 0.580383,
                  "standardized_test_score_percentile": 64.68938399999999,
                  "MULTI_FAMILY": false,
                  "bedrooms": 5,
                  "list_date": "2016-10-11",
                  "sale_date": "2017-07-07",
                  "rex_property_id": 93957050,
                  "latitude": "nan",
                  "longitude": "nan",
                  "_deepnote_index_column": 930
                },
                {
                  "18-59": 0.554729865434826,
                  "mean_household_income": 169961,
                  "built 1995 or later": 69.007545,
                  "OTHER": false,
                  "mobile_home_pct": 0,
                  "annual_births_per_resident": 0.0220927897168109,
                  "farm_score": 100,
                  "luxury_communities_score": 9.118959,
                  "CONDO": false,
                  "property_crime_rate": 9.024745,
                  "bathfull": 3,
                  "small_apt_buildings_pct": 0.580383,
                  "standardized_test_score_percentile": 64.68938399999999,
                  "MULTI_FAMILY": false,
                  "bedrooms": 3,
                  "list_date": "2020-07-23",
                  "sale_date": "2020-08-17",
                  "rex_property_id": 93956654,
                  "latitude": "nan",
                  "longitude": "nan",
                  "_deepnote_index_column": 1090
                },
                {
                  "18-59": 0.554729865434826,
                  "mean_household_income": 169961,
                  "built 1995 or later": 69.007545,
                  "OTHER": false,
                  "mobile_home_pct": 0,
                  "annual_births_per_resident": 0.0220927897168109,
                  "farm_score": 100,
                  "luxury_communities_score": 9.118959,
                  "CONDO": false,
                  "property_crime_rate": 9.024745,
                  "bathfull": 2,
                  "small_apt_buildings_pct": 0.580383,
                  "standardized_test_score_percentile": 64.68938399999999,
                  "MULTI_FAMILY": false,
                  "bedrooms": 3,
                  "list_date": "2019-11-05",
                  "sale_date": "2019-12-10",
                  "rex_property_id": 93956646,
                  "latitude": "nan",
                  "longitude": "nan",
                  "_deepnote_index_column": 1096
                },
                {
                  "18-59": 0.554729865434826,
                  "mean_household_income": 169961,
                  "built 1995 or later": 69.007545,
                  "OTHER": false,
                  "mobile_home_pct": 0,
                  "annual_births_per_resident": 0.0220927897168109,
                  "farm_score": 100,
                  "luxury_communities_score": 9.118959,
                  "CONDO": false,
                  "property_crime_rate": 9.024745,
                  "bathfull": 2,
                  "small_apt_buildings_pct": 0.580383,
                  "standardized_test_score_percentile": 64.68938399999999,
                  "MULTI_FAMILY": false,
                  "bedrooms": 3,
                  "list_date": "2017-03-29",
                  "sale_date": "2017-03-29",
                  "rex_property_id": 251588311,
                  "latitude": "nan",
                  "longitude": "nan",
                  "_deepnote_index_column": 1134
                },
                {
                  "18-59": 0.554729865434826,
                  "mean_household_income": 169961,
                  "built 1995 or later": 69.007545,
                  "OTHER": false,
                  "mobile_home_pct": 0,
                  "annual_births_per_resident": 0.0220927897168109,
                  "farm_score": 100,
                  "luxury_communities_score": 9.118959,
                  "CONDO": false,
                  "property_crime_rate": 9.024745,
                  "bathfull": 4,
                  "small_apt_buildings_pct": 0.580383,
                  "standardized_test_score_percentile": 64.68938399999999,
                  "MULTI_FAMILY": false,
                  "bedrooms": 4,
                  "list_date": "2019-05-14",
                  "sale_date": "2019-05-14",
                  "rex_property_id": 294340909,
                  "latitude": "nan",
                  "longitude": "nan",
                  "_deepnote_index_column": 1754
                },
                {
                  "18-59": 0.5528012898024991,
                  "mean_household_income": 176933,
                  "built 1995 or later": 70.016694,
                  "OTHER": false,
                  "mobile_home_pct": 0,
                  "annual_births_per_resident": 0.008766626360339,
                  "farm_score": 100,
                  "luxury_communities_score": 2.602097,
                  "CONDO": false,
                  "property_crime_rate": 4.888417,
                  "bathfull": 2,
                  "small_apt_buildings_pct": 0,
                  "standardized_test_score_percentile": 90.708338,
                  "MULTI_FAMILY": false,
                  "bedrooms": 3,
                  "list_date": "2020-09-24",
                  "sale_date": "2100-01-01",
                  "rex_property_id": 93790430,
                  "latitude": "nan",
                  "longitude": "nan",
                  "_deepnote_index_column": 4495
                },
                {
                  "18-59": 0.5528012898024991,
                  "mean_household_income": 176933,
                  "built 1995 or later": 70.016694,
                  "OTHER": false,
                  "mobile_home_pct": 0,
                  "annual_births_per_resident": 0.008766626360339,
                  "farm_score": 100,
                  "luxury_communities_score": 2.602097,
                  "CONDO": false,
                  "property_crime_rate": 4.888417,
                  "bathfull": 2,
                  "small_apt_buildings_pct": 0,
                  "standardized_test_score_percentile": 90.708338,
                  "MULTI_FAMILY": false,
                  "bedrooms": 3,
                  "list_date": "2020-03-09",
                  "sale_date": "2020-04-03",
                  "rex_property_id": 93799459,
                  "latitude": "nan",
                  "longitude": "nan",
                  "_deepnote_index_column": 5210
                },
                {
                  "18-59": 0.5528012898024991,
                  "mean_household_income": 176933,
                  "built 1995 or later": 70.016694,
                  "OTHER": false,
                  "mobile_home_pct": 0,
                  "annual_births_per_resident": 0.008766626360339,
                  "farm_score": 100,
                  "luxury_communities_score": 2.602097,
                  "CONDO": false,
                  "property_crime_rate": 4.888417,
                  "bathfull": 4,
                  "small_apt_buildings_pct": 0,
                  "standardized_test_score_percentile": 90.708338,
                  "MULTI_FAMILY": false,
                  "bedrooms": 4,
                  "list_date": "2020-05-02",
                  "sale_date": "2020-05-29",
                  "rex_property_id": 93784365,
                  "latitude": "nan",
                  "longitude": "nan",
                  "_deepnote_index_column": 5419
                },
                {
                  "18-59": 0.502369668246445,
                  "mean_household_income": 270647,
                  "built 1995 or later": 2.512563,
                  "OTHER": false,
                  "mobile_home_pct": 1.938263,
                  "annual_births_per_resident": 0.0240352064996609,
                  "farm_score": 100,
                  "luxury_communities_score": 0.6054149999999999,
                  "CONDO": false,
                  "property_crime_rate": 22.992336,
                  "bathfull": 3,
                  "small_apt_buildings_pct": 5.168701,
                  "standardized_test_score_percentile": 79.843903,
                  "MULTI_FAMILY": false,
                  "bedrooms": 3,
                  "list_date": "2016-04-29",
                  "sale_date": "2016-07-29",
                  "rex_property_id": 93555070,
                  "latitude": "nan",
                  "longitude": "nan",
                  "_deepnote_index_column": 17087
                },
                {
                  "18-59": 0.55272571183288,
                  "mean_household_income": 164442,
                  "built 1995 or later": 27.185908,
                  "OTHER": false,
                  "mobile_home_pct": 0,
                  "annual_births_per_resident": 0.015166690513664,
                  "farm_score": 100,
                  "luxury_communities_score": 5.830303,
                  "CONDO": false,
                  "property_crime_rate": 27.733047,
                  "bathfull": 2,
                  "small_apt_buildings_pct": 7.342954,
                  "standardized_test_score_percentile": 84.09503000000001,
                  "MULTI_FAMILY": false,
                  "bedrooms": 4,
                  "list_date": "2020-07-29",
                  "sale_date": "2020-10-30",
                  "rex_property_id": 93577026,
                  "latitude": "nan",
                  "longitude": "nan",
                  "_deepnote_index_column": 18576
                },
                {
                  "18-59": 0.550584646670056,
                  "mean_household_income": 113545,
                  "built 1995 or later": 0.665927,
                  "OTHER": false,
                  "mobile_home_pct": 0.8879020000000001,
                  "annual_births_per_resident": 0,
                  "farm_score": 100,
                  "luxury_communities_score": 15.488274,
                  "CONDO": false,
                  "property_crime_rate": 22.123894,
                  "bathfull": 1,
                  "small_apt_buildings_pct": 7.103219,
                  "standardized_test_score_percentile": 74.087614,
                  "MULTI_FAMILY": false,
                  "bedrooms": 4,
                  "list_date": "2020-08-26",
                  "sale_date": "2020-09-30",
                  "rex_property_id": 93638058,
                  "latitude": "nan",
                  "longitude": "nan",
                  "_deepnote_index_column": 19172
                },
                {
                  "18-59": 0.608976704476155,
                  "mean_household_income": 68572,
                  "built 1995 or later": 2.212628,
                  "OTHER": false,
                  "mobile_home_pct": 0,
                  "annual_births_per_resident": 0.023295523844371,
                  "farm_score": 100,
                  "luxury_communities_score": 46.063456,
                  "CONDO": false,
                  "property_crime_rate": 52.329099,
                  "bathfull": 2,
                  "small_apt_buildings_pct": 8.229897,
                  "standardized_test_score_percentile": 66.02062099999999,
                  "MULTI_FAMILY": false,
                  "bedrooms": 3,
                  "list_date": "2019-06-26",
                  "sale_date": "2100-01-01",
                  "rex_property_id": 93750104,
                  "latitude": "nan",
                  "longitude": "nan",
                  "_deepnote_index_column": 20072
                },
                {
                  "18-59": 0.5515423147904029,
                  "mean_household_income": 116190,
                  "built 1995 or later": 96.293103,
                  "OTHER": false,
                  "mobile_home_pct": 0,
                  "annual_births_per_resident": 0.007250197732665,
                  "farm_score": 0,
                  "luxury_communities_score": 17.954522,
                  "CONDO": false,
                  "property_crime_rate": 19.604147,
                  "bathfull": 2,
                  "small_apt_buildings_pct": 0,
                  "standardized_test_score_percentile": 48.538971,
                  "MULTI_FAMILY": false,
                  "bedrooms": 5,
                  "list_date": "2020-05-15",
                  "sale_date": "2020-07-13",
                  "rex_property_id": 317949980,
                  "latitude": "nan",
                  "longitude": "nan",
                  "_deepnote_index_column": 22763
                },
                {
                  "18-59": 0.5515423147904029,
                  "mean_household_income": 116190,
                  "built 1995 or later": 96.293103,
                  "OTHER": false,
                  "mobile_home_pct": 0,
                  "annual_births_per_resident": 0.007250197732665,
                  "farm_score": 0,
                  "luxury_communities_score": 17.954522,
                  "CONDO": false,
                  "property_crime_rate": 19.604147,
                  "bathfull": 2,
                  "small_apt_buildings_pct": 0,
                  "standardized_test_score_percentile": 48.538971,
                  "MULTI_FAMILY": false,
                  "bedrooms": 3,
                  "list_date": "2016-07-20",
                  "sale_date": "2016-08-25",
                  "rex_property_id": 324115640,
                  "latitude": "nan",
                  "longitude": "nan",
                  "_deepnote_index_column": 22797
                },
                {
                  "18-59": 0.528437233134073,
                  "mean_household_income": 114807,
                  "built 1995 or later": 21.360485,
                  "OTHER": false,
                  "mobile_home_pct": 0,
                  "annual_births_per_resident": 0.010930828351836,
                  "farm_score": 100,
                  "luxury_communities_score": 17.712607000000002,
                  "CONDO": false,
                  "property_crime_rate": 14.498007,
                  "bathfull": 2,
                  "small_apt_buildings_pct": 1.213172,
                  "standardized_test_score_percentile": 79.428762,
                  "MULTI_FAMILY": false,
                  "bedrooms": 2,
                  "list_date": "2020-04-06",
                  "sale_date": "2020-10-02",
                  "rex_property_id": 293808164,
                  "latitude": "nan",
                  "longitude": "nan",
                  "_deepnote_index_column": 27694
                },
                {
                  "18-59": 0.528437233134073,
                  "mean_household_income": 114807,
                  "built 1995 or later": 21.360485,
                  "OTHER": false,
                  "mobile_home_pct": 0,
                  "annual_births_per_resident": 0.010930828351836,
                  "farm_score": 100,
                  "luxury_communities_score": 17.712607000000002,
                  "CONDO": false,
                  "property_crime_rate": 14.498007,
                  "bathfull": 4,
                  "small_apt_buildings_pct": 1.213172,
                  "standardized_test_score_percentile": 79.428762,
                  "MULTI_FAMILY": false,
                  "bedrooms": 4,
                  "list_date": "2020-07-24",
                  "sale_date": "2100-01-01",
                  "rex_property_id": 362915412,
                  "latitude": "nan",
                  "longitude": "nan",
                  "_deepnote_index_column": 27759
                },
                {
                  "18-59": 0.615016452288364,
                  "mean_household_income": 158648,
                  "built 1995 or later": 41.825902,
                  "OTHER": false,
                  "mobile_home_pct": 0,
                  "annual_births_per_resident": 0.003589590188453,
                  "farm_score": 100,
                  "luxury_communities_score": 15.686782999999998,
                  "CONDO": false,
                  "property_crime_rate": 40.168448,
                  "bathfull": 2,
                  "small_apt_buildings_pct": 0.4954,
                  "standardized_test_score_percentile": 71.140146,
                  "MULTI_FAMILY": false,
                  "bedrooms": 3,
                  "list_date": "2020-03-05",
                  "sale_date": "2020-04-17",
                  "rex_property_id": 93820171,
                  "latitude": "nan",
                  "longitude": "nan",
                  "_deepnote_index_column": 30225
                },
                {
                  "18-59": 0.642225497420781,
                  "mean_household_income": 53420,
                  "built 1995 or later": 47.176913,
                  "OTHER": false,
                  "mobile_home_pct": 0,
                  "annual_births_per_resident": 0.003316138540899,
                  "farm_score": 100,
                  "luxury_communities_score": 40.202022,
                  "CONDO": true,
                  "property_crime_rate": 77.565632,
                  "bathfull": 3,
                  "small_apt_buildings_pct": 7.089084,
                  "standardized_test_score_percentile": 74.052817,
                  "MULTI_FAMILY": false,
                  "bedrooms": 2,
                  "list_date": "2016-09-25",
                  "sale_date": "2016-09-25",
                  "rex_property_id": 330952960,
                  "latitude": "nan",
                  "longitude": "nan",
                  "_deepnote_index_column": 31771
                },
                {
                  "18-59": 0.5494155154091389,
                  "mean_household_income": 144816,
                  "built 1995 or later": 29.560811,
                  "OTHER": false,
                  "mobile_home_pct": 1.824324,
                  "annual_births_per_resident": 0.009564293304995,
                  "farm_score": 100,
                  "luxury_communities_score": 14.018904,
                  "CONDO": false,
                  "property_crime_rate": 16.360856,
                  "bathfull": 4,
                  "small_apt_buildings_pct": 0,
                  "standardized_test_score_percentile": 70.394977,
                  "MULTI_FAMILY": false,
                  "bedrooms": 6,
                  "list_date": "2019-09-30",
                  "sale_date": "2100-01-01",
                  "rex_property_id": 93941467,
                  "latitude": "nan",
                  "longitude": "nan",
                  "_deepnote_index_column": 40390
                },
                {
                  "18-59": 0.5935280189423829,
                  "mean_household_income": 116705,
                  "built 1995 or later": 6.278714,
                  "OTHER": false,
                  "mobile_home_pct": 2.986217,
                  "annual_births_per_resident": 0.018547750591949,
                  "farm_score": 100,
                  "luxury_communities_score": 7.854449000000001,
                  "CONDO": false,
                  "property_crime_rate": 27.969193,
                  "bathfull": 1,
                  "small_apt_buildings_pct": 9.647779,
                  "standardized_test_score_percentile": 72.963021,
                  "MULTI_FAMILY": false,
                  "bedrooms": 3,
                  "list_date": "2020-06-09",
                  "sale_date": "2020-08-12",
                  "rex_property_id": 93587890,
                  "latitude": "nan",
                  "longitude": "nan",
                  "_deepnote_index_column": 48799
                },
                {
                  "18-59": 0.5801923986752879,
                  "mean_household_income": 158736,
                  "built 1995 or later": 5.809698,
                  "OTHER": false,
                  "mobile_home_pct": 0,
                  "annual_births_per_resident": 0.006308153288125,
                  "farm_score": 100,
                  "luxury_communities_score": 8.511471,
                  "CONDO": false,
                  "property_crime_rate": 13.867003,
                  "bathfull": 5,
                  "small_apt_buildings_pct": 2.378774,
                  "standardized_test_score_percentile": 89.377064,
                  "MULTI_FAMILY": false,
                  "bedrooms": 5,
                  "list_date": "2019-05-23",
                  "sale_date": "2100-01-01",
                  "rex_property_id": 93791742,
                  "latitude": "nan",
                  "longitude": "nan",
                  "_deepnote_index_column": 57138
                },
                {
                  "18-59": 0.531417670203887,
                  "mean_household_income": 142785,
                  "built 1995 or later": 79.017217,
                  "OTHER": false,
                  "mobile_home_pct": 0,
                  "annual_births_per_resident": 0.0113270537736969,
                  "farm_score": 100,
                  "luxury_communities_score": 11.824506,
                  "CONDO": false,
                  "property_crime_rate": 13.978495,
                  "bathfull": 3,
                  "small_apt_buildings_pct": 1.61406,
                  "standardized_test_score_percentile": 69.954164,
                  "MULTI_FAMILY": false,
                  "bedrooms": 3,
                  "list_date": "2019-06-25",
                  "sale_date": "2019-06-25",
                  "rex_property_id": 315996401,
                  "latitude": "nan",
                  "longitude": "nan",
                  "_deepnote_index_column": 57505
                },
                {
                  "18-59": 0.531417670203887,
                  "mean_household_income": 142785,
                  "built 1995 or later": 79.017217,
                  "OTHER": false,
                  "mobile_home_pct": 0,
                  "annual_births_per_resident": 0.0113270537736969,
                  "farm_score": 100,
                  "luxury_communities_score": 11.824506,
                  "CONDO": false,
                  "property_crime_rate": 13.978495,
                  "bathfull": 4,
                  "small_apt_buildings_pct": 1.61406,
                  "standardized_test_score_percentile": 69.954164,
                  "MULTI_FAMILY": false,
                  "bedrooms": 5,
                  "list_date": "2020-07-07",
                  "sale_date": "2020-07-07",
                  "rex_property_id": 93807164,
                  "latitude": "nan",
                  "longitude": "nan",
                  "_deepnote_index_column": 57782
                },
                {
                  "18-59": 0.52892670157068,
                  "mean_household_income": 155420,
                  "built 1995 or later": 61.145648,
                  "OTHER": false,
                  "mobile_home_pct": 0,
                  "annual_births_per_resident": 0.013219895287958,
                  "farm_score": 100,
                  "luxury_communities_score": 13.205303,
                  "CONDO": false,
                  "property_crime_rate": 11.084118,
                  "bathfull": 3,
                  "small_apt_buildings_pct": 0,
                  "standardized_test_score_percentile": 71.804516,
                  "MULTI_FAMILY": false,
                  "bedrooms": 4,
                  "list_date": "2019-06-20",
                  "sale_date": "2100-01-01",
                  "rex_property_id": 93830957,
                  "latitude": "nan",
                  "longitude": "nan",
                  "_deepnote_index_column": 61715
                }
              ],
              "rows_bottom": [
                {
                  "18-59": 0.4942528735632179,
                  "mean_household_income": 89495,
                  "built 1995 or later": 23.920863,
                  "OTHER": true,
                  "mobile_home_pct": 2.158273,
                  "annual_births_per_resident": 0.006385696040868,
                  "farm_score": 100,
                  "luxury_communities_score": 35.682968,
                  "CONDO": false,
                  "property_crime_rate": 9.589041,
                  "bathfull": 3,
                  "small_apt_buildings_pct": 0,
                  "standardized_test_score_percentile": 63.662995,
                  "MULTI_FAMILY": false,
                  "bedrooms": 4,
                  "list_date": "2016-03-16",
                  "sale_date": "2016-05-27",
                  "rex_property_id": 93934316,
                  "latitude": "nan",
                  "longitude": "nan",
                  "_deepnote_index_column": 264298
                },
                {
                  "18-59": 0.4942528735632179,
                  "mean_household_income": 89495,
                  "built 1995 or later": 23.920863,
                  "OTHER": false,
                  "mobile_home_pct": 2.158273,
                  "annual_births_per_resident": 0.006385696040868,
                  "farm_score": 100,
                  "luxury_communities_score": 35.682968,
                  "CONDO": false,
                  "property_crime_rate": 9.589041,
                  "bathfull": 4,
                  "small_apt_buildings_pct": 0,
                  "standardized_test_score_percentile": 63.662995,
                  "MULTI_FAMILY": false,
                  "bedrooms": 4,
                  "list_date": "2016-03-04",
                  "sale_date": "2016-03-04",
                  "rex_property_id": 93941721,
                  "latitude": "nan",
                  "longitude": "nan",
                  "_deepnote_index_column": 264317
                },
                {
                  "18-59": 0.4942528735632179,
                  "mean_household_income": 89495,
                  "built 1995 or later": 23.920863,
                  "OTHER": false,
                  "mobile_home_pct": 2.158273,
                  "annual_births_per_resident": 0.006385696040868,
                  "farm_score": 100,
                  "luxury_communities_score": 35.682968,
                  "CONDO": false,
                  "property_crime_rate": 9.589041,
                  "bathfull": 3,
                  "small_apt_buildings_pct": 0,
                  "standardized_test_score_percentile": 63.662995,
                  "MULTI_FAMILY": false,
                  "bedrooms": 4,
                  "list_date": "2016-04-15",
                  "sale_date": "2016-08-01",
                  "rex_property_id": 93941679,
                  "latitude": "nan",
                  "longitude": "nan",
                  "_deepnote_index_column": 264319
                },
                {
                  "18-59": 0.4942528735632179,
                  "mean_household_income": 89495,
                  "built 1995 or later": 23.920863,
                  "OTHER": true,
                  "mobile_home_pct": 2.158273,
                  "annual_births_per_resident": 0.006385696040868,
                  "farm_score": 100,
                  "luxury_communities_score": 35.682968,
                  "CONDO": false,
                  "property_crime_rate": 9.589041,
                  "bathfull": 2,
                  "small_apt_buildings_pct": 0,
                  "standardized_test_score_percentile": 63.662995,
                  "MULTI_FAMILY": false,
                  "bedrooms": 3,
                  "list_date": "2017-01-30",
                  "sale_date": "2017-03-17",
                  "rex_property_id": 93941706,
                  "latitude": "nan",
                  "longitude": "nan",
                  "_deepnote_index_column": 264332
                },
                {
                  "18-59": 0.4942528735632179,
                  "mean_household_income": 89495,
                  "built 1995 or later": 23.920863,
                  "OTHER": false,
                  "mobile_home_pct": 2.158273,
                  "annual_births_per_resident": 0.006385696040868,
                  "farm_score": 100,
                  "luxury_communities_score": 35.682968,
                  "CONDO": false,
                  "property_crime_rate": 9.589041,
                  "bathfull": 1,
                  "small_apt_buildings_pct": 0,
                  "standardized_test_score_percentile": 63.662995,
                  "MULTI_FAMILY": false,
                  "bedrooms": 2,
                  "list_date": "2016-12-08",
                  "sale_date": "2016-12-08",
                  "rex_property_id": 93934232,
                  "latitude": "nan",
                  "longitude": "nan",
                  "_deepnote_index_column": 264338
                },
                {
                  "18-59": 0.4942528735632179,
                  "mean_household_income": 89495,
                  "built 1995 or later": 23.920863,
                  "OTHER": false,
                  "mobile_home_pct": 2.158273,
                  "annual_births_per_resident": 0.006385696040868,
                  "farm_score": 100,
                  "luxury_communities_score": 35.682968,
                  "CONDO": false,
                  "property_crime_rate": 9.589041,
                  "bathfull": 3,
                  "small_apt_buildings_pct": 0,
                  "standardized_test_score_percentile": 63.662995,
                  "MULTI_FAMILY": false,
                  "bedrooms": 3,
                  "list_date": "2016-12-09",
                  "sale_date": "2016-12-09",
                  "rex_property_id": 93942070,
                  "latitude": "nan",
                  "longitude": "nan",
                  "_deepnote_index_column": 264343
                },
                {
                  "18-59": 0.4942528735632179,
                  "mean_household_income": 89495,
                  "built 1995 or later": 23.920863,
                  "OTHER": false,
                  "mobile_home_pct": 2.158273,
                  "annual_births_per_resident": 0.006385696040868,
                  "farm_score": 100,
                  "luxury_communities_score": 35.682968,
                  "CONDO": false,
                  "property_crime_rate": 9.589041,
                  "bathfull": 1,
                  "small_apt_buildings_pct": 0,
                  "standardized_test_score_percentile": 63.662995,
                  "MULTI_FAMILY": false,
                  "bedrooms": 1,
                  "list_date": "2016-05-24",
                  "sale_date": "2016-07-07",
                  "rex_property_id": 93933902,
                  "latitude": "nan",
                  "longitude": "nan",
                  "_deepnote_index_column": 264358
                },
                {
                  "18-59": 0.4942528735632179,
                  "mean_household_income": 89495,
                  "built 1995 or later": 23.920863,
                  "OTHER": false,
                  "mobile_home_pct": 2.158273,
                  "annual_births_per_resident": 0.006385696040868,
                  "farm_score": 100,
                  "luxury_communities_score": 35.682968,
                  "CONDO": false,
                  "property_crime_rate": 9.589041,
                  "bathfull": 3,
                  "small_apt_buildings_pct": 0,
                  "standardized_test_score_percentile": 63.662995,
                  "MULTI_FAMILY": false,
                  "bedrooms": 3,
                  "list_date": "2016-06-12",
                  "sale_date": "2016-08-12",
                  "rex_property_id": 93941931,
                  "latitude": "nan",
                  "longitude": "nan",
                  "_deepnote_index_column": 264388
                },
                {
                  "18-59": 0.4942528735632179,
                  "mean_household_income": 89495,
                  "built 1995 or later": 23.920863,
                  "OTHER": true,
                  "mobile_home_pct": 2.158273,
                  "annual_births_per_resident": 0.006385696040868,
                  "farm_score": 100,
                  "luxury_communities_score": 35.682968,
                  "CONDO": false,
                  "property_crime_rate": 9.589041,
                  "bathfull": 3,
                  "small_apt_buildings_pct": 0,
                  "standardized_test_score_percentile": 63.662995,
                  "MULTI_FAMILY": false,
                  "bedrooms": 4,
                  "list_date": "2017-02-10",
                  "sale_date": "2017-03-30",
                  "rex_property_id": 93942104,
                  "latitude": "nan",
                  "longitude": "nan",
                  "_deepnote_index_column": 264393
                },
                {
                  "18-59": 0.4942528735632179,
                  "mean_household_income": 89495,
                  "built 1995 or later": 23.920863,
                  "OTHER": false,
                  "mobile_home_pct": 2.158273,
                  "annual_births_per_resident": 0.006385696040868,
                  "farm_score": 100,
                  "luxury_communities_score": 35.682968,
                  "CONDO": false,
                  "property_crime_rate": 9.589041,
                  "bathfull": 3,
                  "small_apt_buildings_pct": 0,
                  "standardized_test_score_percentile": 63.662995,
                  "MULTI_FAMILY": false,
                  "bedrooms": 3,
                  "list_date": "2016-11-30",
                  "sale_date": "2016-11-30",
                  "rex_property_id": 93941900,
                  "latitude": "nan",
                  "longitude": "nan",
                  "_deepnote_index_column": 264418
                },
                {
                  "18-59": 0.4942528735632179,
                  "mean_household_income": 89495,
                  "built 1995 or later": 23.920863,
                  "OTHER": false,
                  "mobile_home_pct": 2.158273,
                  "annual_births_per_resident": 0.006385696040868,
                  "farm_score": 100,
                  "luxury_communities_score": 35.682968,
                  "CONDO": false,
                  "property_crime_rate": 9.589041,
                  "bathfull": 2,
                  "small_apt_buildings_pct": 0,
                  "standardized_test_score_percentile": 63.662995,
                  "MULTI_FAMILY": false,
                  "bedrooms": 3,
                  "list_date": "2018-03-08",
                  "sale_date": "2018-04-23",
                  "rex_property_id": 93932715,
                  "latitude": "nan",
                  "longitude": "nan",
                  "_deepnote_index_column": 264425
                },
                {
                  "18-59": 0.4942528735632179,
                  "mean_household_income": 89495,
                  "built 1995 or later": 23.920863,
                  "OTHER": false,
                  "mobile_home_pct": 2.158273,
                  "annual_births_per_resident": 0.006385696040868,
                  "farm_score": 100,
                  "luxury_communities_score": 35.682968,
                  "CONDO": false,
                  "property_crime_rate": 9.589041,
                  "bathfull": 2,
                  "small_apt_buildings_pct": 0,
                  "standardized_test_score_percentile": 63.662995,
                  "MULTI_FAMILY": false,
                  "bedrooms": 4,
                  "list_date": "2020-07-09",
                  "sale_date": "2020-08-06",
                  "rex_property_id": 93933970,
                  "latitude": "nan",
                  "longitude": "nan",
                  "_deepnote_index_column": 264426
                },
                {
                  "18-59": 0.606286186931348,
                  "mean_household_income": 68528,
                  "built 1995 or later": 0.647821,
                  "OTHER": false,
                  "mobile_home_pct": 0,
                  "annual_births_per_resident": 0.0071684587813619,
                  "farm_score": 100,
                  "luxury_communities_score": 38.48174,
                  "CONDO": true,
                  "property_crime_rate": 43.086817,
                  "bathfull": 4,
                  "small_apt_buildings_pct": 4.18139,
                  "standardized_test_score_percentile": 80.46926500000001,
                  "MULTI_FAMILY": false,
                  "bedrooms": 3,
                  "list_date": "2016-08-19",
                  "sale_date": "2016-09-12",
                  "rex_property_id": 362964274,
                  "latitude": "nan",
                  "longitude": "nan",
                  "_deepnote_index_column": 267983
                },
                {
                  "18-59": 0.46452360266435,
                  "mean_household_income": 162251,
                  "built 1995 or later": 4.45993,
                  "OTHER": false,
                  "mobile_home_pct": 0,
                  "annual_births_per_resident": 0.004923255140458,
                  "farm_score": 100,
                  "luxury_communities_score": 6.956957000000001,
                  "CONDO": false,
                  "property_crime_rate": 15.639962,
                  "bathfull": 2,
                  "small_apt_buildings_pct": 0,
                  "standardized_test_score_percentile": 85.151063,
                  "MULTI_FAMILY": false,
                  "bedrooms": 4,
                  "list_date": "2020-08-06",
                  "sale_date": "2020-09-10",
                  "rex_property_id": 93642550,
                  "latitude": "nan",
                  "longitude": "nan",
                  "_deepnote_index_column": 270704
                },
                {
                  "18-59": 0.632044951472842,
                  "mean_household_income": 116024,
                  "built 1995 or later": 13.175797,
                  "OTHER": false,
                  "mobile_home_pct": 5.263158,
                  "annual_births_per_resident": 0.003064873148306,
                  "farm_score": 100,
                  "luxury_communities_score": 10.040776,
                  "CONDO": true,
                  "property_crime_rate": 18.725936,
                  "bathfull": 2,
                  "small_apt_buildings_pct": 8.557107,
                  "standardized_test_score_percentile": 83.924149,
                  "MULTI_FAMILY": false,
                  "bedrooms": 3,
                  "list_date": "2019-05-17",
                  "sale_date": "2019-05-17",
                  "rex_property_id": 314700192,
                  "latitude": "nan",
                  "longitude": "nan",
                  "_deepnote_index_column": 274234
                },
                {
                  "18-59": 0.522957069451351,
                  "mean_household_income": 89748,
                  "built 1995 or later": 15.323246,
                  "OTHER": false,
                  "mobile_home_pct": 14.580468,
                  "annual_births_per_resident": 0.0106083209017069,
                  "farm_score": 100,
                  "luxury_communities_score": 35.596212,
                  "CONDO": false,
                  "property_crime_rate": 0,
                  "bathfull": 2,
                  "small_apt_buildings_pct": 0,
                  "standardized_test_score_percentile": 67.328799,
                  "MULTI_FAMILY": false,
                  "bedrooms": 3,
                  "list_date": "2016-03-14",
                  "sale_date": "2016-04-28",
                  "rex_property_id": 95480205,
                  "latitude": "nan",
                  "longitude": "nan",
                  "_deepnote_index_column": 277472
                },
                {
                  "18-59": 0.522957069451351,
                  "mean_household_income": 89748,
                  "built 1995 or later": 15.323246,
                  "OTHER": false,
                  "mobile_home_pct": 14.580468,
                  "annual_births_per_resident": 0.0106083209017069,
                  "farm_score": 100,
                  "luxury_communities_score": 35.596212,
                  "CONDO": false,
                  "property_crime_rate": 0,
                  "bathfull": 2,
                  "small_apt_buildings_pct": 0,
                  "standardized_test_score_percentile": 67.328799,
                  "MULTI_FAMILY": false,
                  "bedrooms": 3,
                  "list_date": "2017-05-09",
                  "sale_date": "2017-06-29",
                  "rex_property_id": 95480205,
                  "latitude": "nan",
                  "longitude": "nan",
                  "_deepnote_index_column": 277473
                },
                {
                  "18-59": 0.522957069451351,
                  "mean_household_income": 89748,
                  "built 1995 or later": 15.323246,
                  "OTHER": false,
                  "mobile_home_pct": 14.580468,
                  "annual_births_per_resident": 0.0106083209017069,
                  "farm_score": 100,
                  "luxury_communities_score": 35.596212,
                  "CONDO": false,
                  "property_crime_rate": 0,
                  "bathfull": 2,
                  "small_apt_buildings_pct": 0,
                  "standardized_test_score_percentile": 67.328799,
                  "MULTI_FAMILY": false,
                  "bedrooms": 3,
                  "list_date": "2016-03-08",
                  "sale_date": "2016-04-22",
                  "rex_property_id": 142053942,
                  "latitude": "nan",
                  "longitude": "nan",
                  "_deepnote_index_column": 277486
                },
                {
                  "18-59": 0.522957069451351,
                  "mean_household_income": 89748,
                  "built 1995 or later": 15.323246,
                  "OTHER": false,
                  "mobile_home_pct": 14.580468,
                  "annual_births_per_resident": 0.0106083209017069,
                  "farm_score": 100,
                  "luxury_communities_score": 35.596212,
                  "CONDO": false,
                  "property_crime_rate": 0,
                  "bathfull": 2,
                  "small_apt_buildings_pct": 0,
                  "standardized_test_score_percentile": 67.328799,
                  "MULTI_FAMILY": false,
                  "bedrooms": 3,
                  "list_date": "2018-06-04",
                  "sale_date": "2100-01-01",
                  "rex_property_id": 95493698,
                  "latitude": "nan",
                  "longitude": "nan",
                  "_deepnote_index_column": 277487
                },
                {
                  "18-59": 0.522957069451351,
                  "mean_household_income": 89748,
                  "built 1995 or later": 15.323246,
                  "OTHER": false,
                  "mobile_home_pct": 14.580468,
                  "annual_births_per_resident": 0.0106083209017069,
                  "farm_score": 100,
                  "luxury_communities_score": 35.596212,
                  "CONDO": false,
                  "property_crime_rate": 0,
                  "bathfull": 2,
                  "small_apt_buildings_pct": 0,
                  "standardized_test_score_percentile": 67.328799,
                  "MULTI_FAMILY": false,
                  "bedrooms": 3,
                  "list_date": "2019-10-02",
                  "sale_date": "2019-11-25",
                  "rex_property_id": 95493698,
                  "latitude": "nan",
                  "longitude": "nan",
                  "_deepnote_index_column": 277488
                },
                {
                  "18-59": 0.522957069451351,
                  "mean_household_income": 89748,
                  "built 1995 or later": 15.323246,
                  "OTHER": false,
                  "mobile_home_pct": 14.580468,
                  "annual_births_per_resident": 0.0106083209017069,
                  "farm_score": 100,
                  "luxury_communities_score": 35.596212,
                  "CONDO": false,
                  "property_crime_rate": 0,
                  "bathfull": 2,
                  "small_apt_buildings_pct": 0,
                  "standardized_test_score_percentile": 67.328799,
                  "MULTI_FAMILY": false,
                  "bedrooms": 3,
                  "list_date": "2018-08-01",
                  "sale_date": "2019-03-15",
                  "rex_property_id": 95480350,
                  "latitude": "nan",
                  "longitude": "nan",
                  "_deepnote_index_column": 277491
                },
                {
                  "18-59": 0.522957069451351,
                  "mean_household_income": 89748,
                  "built 1995 or later": 15.323246,
                  "OTHER": false,
                  "mobile_home_pct": 14.580468,
                  "annual_births_per_resident": 0.0106083209017069,
                  "farm_score": 100,
                  "luxury_communities_score": 35.596212,
                  "CONDO": false,
                  "property_crime_rate": 0,
                  "bathfull": 2,
                  "small_apt_buildings_pct": 0,
                  "standardized_test_score_percentile": 67.328799,
                  "MULTI_FAMILY": false,
                  "bedrooms": 2,
                  "list_date": "2017-10-10",
                  "sale_date": "2018-01-29",
                  "rex_property_id": 95480264,
                  "latitude": "nan",
                  "longitude": "nan",
                  "_deepnote_index_column": 277495
                },
                {
                  "18-59": 0.522957069451351,
                  "mean_household_income": 89748,
                  "built 1995 or later": 15.323246,
                  "OTHER": false,
                  "mobile_home_pct": 14.580468,
                  "annual_births_per_resident": 0.0106083209017069,
                  "farm_score": 100,
                  "luxury_communities_score": 35.596212,
                  "CONDO": false,
                  "property_crime_rate": 0,
                  "bathfull": 2,
                  "small_apt_buildings_pct": 0,
                  "standardized_test_score_percentile": 67.328799,
                  "MULTI_FAMILY": false,
                  "bedrooms": 2,
                  "list_date": "2020-09-30",
                  "sale_date": "2100-01-01",
                  "rex_property_id": 95480264,
                  "latitude": "nan",
                  "longitude": "nan",
                  "_deepnote_index_column": 277496
                },
                {
                  "18-59": 0.522957069451351,
                  "mean_household_income": 89748,
                  "built 1995 or later": 15.323246,
                  "OTHER": false,
                  "mobile_home_pct": 14.580468,
                  "annual_births_per_resident": 0.0106083209017069,
                  "farm_score": 100,
                  "luxury_communities_score": 35.596212,
                  "CONDO": false,
                  "property_crime_rate": 0,
                  "bathfull": 1,
                  "small_apt_buildings_pct": 0,
                  "standardized_test_score_percentile": 67.328799,
                  "MULTI_FAMILY": false,
                  "bedrooms": 2,
                  "list_date": "2016-07-28",
                  "sale_date": "2016-08-17",
                  "rex_property_id": 95480173,
                  "latitude": "nan",
                  "longitude": "nan",
                  "_deepnote_index_column": 277500
                },
                {
                  "18-59": 0.522957069451351,
                  "mean_household_income": 89748,
                  "built 1995 or later": 15.323246,
                  "OTHER": false,
                  "mobile_home_pct": 14.580468,
                  "annual_births_per_resident": 0.0106083209017069,
                  "farm_score": 100,
                  "luxury_communities_score": 35.596212,
                  "CONDO": false,
                  "property_crime_rate": 0,
                  "bathfull": 1,
                  "small_apt_buildings_pct": 0,
                  "standardized_test_score_percentile": 67.328799,
                  "MULTI_FAMILY": false,
                  "bedrooms": 3,
                  "list_date": "2016-03-10",
                  "sale_date": "2016-05-02",
                  "rex_property_id": 95480316,
                  "latitude": "nan",
                  "longitude": "nan",
                  "_deepnote_index_column": 277503
                }
              ]
            },
            "text/plain": "           18-59  mean_household_income  built 1995 or later  OTHER  \\\n928     0.554730                 169961            69.007545  False   \n930     0.554730                 169961            69.007545  False   \n1090    0.554730                 169961            69.007545  False   \n1096    0.554730                 169961            69.007545  False   \n1134    0.554730                 169961            69.007545  False   \n...          ...                    ...                  ...    ...   \n277491  0.522957                  89748            15.323246  False   \n277495  0.522957                  89748            15.323246  False   \n277496  0.522957                  89748            15.323246  False   \n277500  0.522957                  89748            15.323246  False   \n277503  0.522957                  89748            15.323246  False   \n\n        mobile_home_pct  annual_births_per_resident  farm_score  \\\n928            0.000000                    0.022093         100   \n930            0.000000                    0.022093         100   \n1090           0.000000                    0.022093         100   \n1096           0.000000                    0.022093         100   \n1134           0.000000                    0.022093         100   \n...                 ...                         ...         ...   \n277491        14.580468                    0.010608         100   \n277495        14.580468                    0.010608         100   \n277496        14.580468                    0.010608         100   \n277500        14.580468                    0.010608         100   \n277503        14.580468                    0.010608         100   \n\n        luxury_communities_score  CONDO  property_crime_rate  bathfull  \\\n928                     9.118959  False             9.024745         5   \n930                     9.118959  False             9.024745         4   \n1090                    9.118959  False             9.024745         3   \n1096                    9.118959  False             9.024745         2   \n1134                    9.118959  False             9.024745         2   \n...                          ...    ...                  ...       ...   \n277491                 35.596212  False             0.000000         2   \n277495                 35.596212  False             0.000000         2   \n277496                 35.596212  False             0.000000         2   \n277500                 35.596212  False             0.000000         1   \n277503                 35.596212  False             0.000000         1   \n\n        small_apt_buildings_pct  standardized_test_score_percentile  \\\n928                    0.580383                           64.689384   \n930                    0.580383                           64.689384   \n1090                   0.580383                           64.689384   \n1096                   0.580383                           64.689384   \n1134                   0.580383                           64.689384   \n...                         ...                                 ...   \n277491                 0.000000                           67.328799   \n277495                 0.000000                           67.328799   \n277496                 0.000000                           67.328799   \n277500                 0.000000                           67.328799   \n277503                 0.000000                           67.328799   \n\n        MULTI_FAMILY  bedrooms   list_date   sale_date  rex_property_id  \\\n928            False         5  2019-10-18  2019-12-09         93957040   \n930            False         5  2016-10-11  2017-07-07         93957050   \n1090           False         3  2020-07-23  2020-08-17         93956654   \n1096           False         3  2019-11-05  2019-12-10         93956646   \n1134           False         3  2017-03-29  2017-03-29        251588311   \n...              ...       ...         ...         ...              ...   \n277491         False         3  2018-08-01  2019-03-15         95480350   \n277495         False         2  2017-10-10  2018-01-29         95480264   \n277496         False         2  2020-09-30  2100-01-01         95480264   \n277500         False         2  2016-07-28  2016-08-17         95480173   \n277503         False         3  2016-03-10  2016-05-02         95480316   \n\n        latitude  longitude  \n928          NaN        NaN  \n930          NaN        NaN  \n1090         NaN        NaN  \n1096         NaN        NaN  \n1134         NaN        NaN  \n...          ...        ...  \n277491       NaN        NaN  \n277495       NaN        NaN  \n277496       NaN        NaN  \n277500       NaN        NaN  \n277503       NaN        NaN  \n\n[127 rows x 20 columns]",
            "text/html": "<div>\n<style scoped>\n    .dataframe tbody tr th:only-of-type {\n        vertical-align: middle;\n    }\n\n    .dataframe tbody tr th {\n        vertical-align: top;\n    }\n\n    .dataframe thead th {\n        text-align: right;\n    }\n</style>\n<table border=\"1\" class=\"dataframe\">\n  <thead>\n    <tr style=\"text-align: right;\">\n      <th></th>\n      <th>18-59</th>\n      <th>mean_household_income</th>\n      <th>built 1995 or later</th>\n      <th>OTHER</th>\n      <th>mobile_home_pct</th>\n      <th>annual_births_per_resident</th>\n      <th>farm_score</th>\n      <th>luxury_communities_score</th>\n      <th>CONDO</th>\n      <th>property_crime_rate</th>\n      <th>bathfull</th>\n      <th>small_apt_buildings_pct</th>\n      <th>standardized_test_score_percentile</th>\n      <th>MULTI_FAMILY</th>\n      <th>bedrooms</th>\n      <th>list_date</th>\n      <th>sale_date</th>\n      <th>rex_property_id</th>\n      <th>latitude</th>\n      <th>longitude</th>\n    </tr>\n  </thead>\n  <tbody>\n    <tr>\n      <th>928</th>\n      <td>0.554730</td>\n      <td>169961</td>\n      <td>69.007545</td>\n      <td>False</td>\n      <td>0.000000</td>\n      <td>0.022093</td>\n      <td>100</td>\n      <td>9.118959</td>\n      <td>False</td>\n      <td>9.024745</td>\n      <td>5</td>\n      <td>0.580383</td>\n      <td>64.689384</td>\n      <td>False</td>\n      <td>5</td>\n      <td>2019-10-18</td>\n      <td>2019-12-09</td>\n      <td>93957040</td>\n      <td>NaN</td>\n      <td>NaN</td>\n    </tr>\n    <tr>\n      <th>930</th>\n      <td>0.554730</td>\n      <td>169961</td>\n      <td>69.007545</td>\n      <td>False</td>\n      <td>0.000000</td>\n      <td>0.022093</td>\n      <td>100</td>\n      <td>9.118959</td>\n      <td>False</td>\n      <td>9.024745</td>\n      <td>4</td>\n      <td>0.580383</td>\n      <td>64.689384</td>\n      <td>False</td>\n      <td>5</td>\n      <td>2016-10-11</td>\n      <td>2017-07-07</td>\n      <td>93957050</td>\n      <td>NaN</td>\n      <td>NaN</td>\n    </tr>\n    <tr>\n      <th>1090</th>\n      <td>0.554730</td>\n      <td>169961</td>\n      <td>69.007545</td>\n      <td>False</td>\n      <td>0.000000</td>\n      <td>0.022093</td>\n      <td>100</td>\n      <td>9.118959</td>\n      <td>False</td>\n      <td>9.024745</td>\n      <td>3</td>\n      <td>0.580383</td>\n      <td>64.689384</td>\n      <td>False</td>\n      <td>3</td>\n      <td>2020-07-23</td>\n      <td>2020-08-17</td>\n      <td>93956654</td>\n      <td>NaN</td>\n      <td>NaN</td>\n    </tr>\n    <tr>\n      <th>1096</th>\n      <td>0.554730</td>\n      <td>169961</td>\n      <td>69.007545</td>\n      <td>False</td>\n      <td>0.000000</td>\n      <td>0.022093</td>\n      <td>100</td>\n      <td>9.118959</td>\n      <td>False</td>\n      <td>9.024745</td>\n      <td>2</td>\n      <td>0.580383</td>\n      <td>64.689384</td>\n      <td>False</td>\n      <td>3</td>\n      <td>2019-11-05</td>\n      <td>2019-12-10</td>\n      <td>93956646</td>\n      <td>NaN</td>\n      <td>NaN</td>\n    </tr>\n    <tr>\n      <th>1134</th>\n      <td>0.554730</td>\n      <td>169961</td>\n      <td>69.007545</td>\n      <td>False</td>\n      <td>0.000000</td>\n      <td>0.022093</td>\n      <td>100</td>\n      <td>9.118959</td>\n      <td>False</td>\n      <td>9.024745</td>\n      <td>2</td>\n      <td>0.580383</td>\n      <td>64.689384</td>\n      <td>False</td>\n      <td>3</td>\n      <td>2017-03-29</td>\n      <td>2017-03-29</td>\n      <td>251588311</td>\n      <td>NaN</td>\n      <td>NaN</td>\n    </tr>\n    <tr>\n      <th>...</th>\n      <td>...</td>\n      <td>...</td>\n      <td>...</td>\n      <td>...</td>\n      <td>...</td>\n      <td>...</td>\n      <td>...</td>\n      <td>...</td>\n      <td>...</td>\n      <td>...</td>\n      <td>...</td>\n      <td>...</td>\n      <td>...</td>\n      <td>...</td>\n      <td>...</td>\n      <td>...</td>\n      <td>...</td>\n      <td>...</td>\n      <td>...</td>\n      <td>...</td>\n    </tr>\n    <tr>\n      <th>277491</th>\n      <td>0.522957</td>\n      <td>89748</td>\n      <td>15.323246</td>\n      <td>False</td>\n      <td>14.580468</td>\n      <td>0.010608</td>\n      <td>100</td>\n      <td>35.596212</td>\n      <td>False</td>\n      <td>0.000000</td>\n      <td>2</td>\n      <td>0.000000</td>\n      <td>67.328799</td>\n      <td>False</td>\n      <td>3</td>\n      <td>2018-08-01</td>\n      <td>2019-03-15</td>\n      <td>95480350</td>\n      <td>NaN</td>\n      <td>NaN</td>\n    </tr>\n    <tr>\n      <th>277495</th>\n      <td>0.522957</td>\n      <td>89748</td>\n      <td>15.323246</td>\n      <td>False</td>\n      <td>14.580468</td>\n      <td>0.010608</td>\n      <td>100</td>\n      <td>35.596212</td>\n      <td>False</td>\n      <td>0.000000</td>\n      <td>2</td>\n      <td>0.000000</td>\n      <td>67.328799</td>\n      <td>False</td>\n      <td>2</td>\n      <td>2017-10-10</td>\n      <td>2018-01-29</td>\n      <td>95480264</td>\n      <td>NaN</td>\n      <td>NaN</td>\n    </tr>\n    <tr>\n      <th>277496</th>\n      <td>0.522957</td>\n      <td>89748</td>\n      <td>15.323246</td>\n      <td>False</td>\n      <td>14.580468</td>\n      <td>0.010608</td>\n      <td>100</td>\n      <td>35.596212</td>\n      <td>False</td>\n      <td>0.000000</td>\n      <td>2</td>\n      <td>0.000000</td>\n      <td>67.328799</td>\n      <td>False</td>\n      <td>2</td>\n      <td>2020-09-30</td>\n      <td>2100-01-01</td>\n      <td>95480264</td>\n      <td>NaN</td>\n      <td>NaN</td>\n    </tr>\n    <tr>\n      <th>277500</th>\n      <td>0.522957</td>\n      <td>89748</td>\n      <td>15.323246</td>\n      <td>False</td>\n      <td>14.580468</td>\n      <td>0.010608</td>\n      <td>100</td>\n      <td>35.596212</td>\n      <td>False</td>\n      <td>0.000000</td>\n      <td>1</td>\n      <td>0.000000</td>\n      <td>67.328799</td>\n      <td>False</td>\n      <td>2</td>\n      <td>2016-07-28</td>\n      <td>2016-08-17</td>\n      <td>95480173</td>\n      <td>NaN</td>\n      <td>NaN</td>\n    </tr>\n    <tr>\n      <th>277503</th>\n      <td>0.522957</td>\n      <td>89748</td>\n      <td>15.323246</td>\n      <td>False</td>\n      <td>14.580468</td>\n      <td>0.010608</td>\n      <td>100</td>\n      <td>35.596212</td>\n      <td>False</td>\n      <td>0.000000</td>\n      <td>1</td>\n      <td>0.000000</td>\n      <td>67.328799</td>\n      <td>False</td>\n      <td>3</td>\n      <td>2016-03-10</td>\n      <td>2016-05-02</td>\n      <td>95480316</td>\n      <td>NaN</td>\n      <td>NaN</td>\n    </tr>\n  </tbody>\n</table>\n<p>127 rows × 20 columns</p>\n</div>"
          },
          "metadata": {}
        }
      ],
      "execution_count": 52
    },
    {
      "cell_type": "code",
      "source": "df = df.dropna()",
      "metadata": {
        "tags": [],
        "cell_id": "00003-47846a5c-62f7-4ecb-a65f-fd7af598cb31",
        "deepnote_to_be_reexecuted": false,
        "source_hash": "4314666a",
        "execution_millis": 56,
        "execution_start": 1619478237030,
        "deepnote_cell_type": "code"
      },
      "outputs": [],
      "execution_count": 53
    },
    {
      "cell_type": "code",
      "source": "df",
      "metadata": {
        "tags": [],
        "cell_id": "00004-fb9f8899-7a82-40d4-a367-8a413d3c3262",
        "deepnote_to_be_reexecuted": false,
        "source_hash": "f804c160",
        "execution_millis": 64,
        "execution_start": 1619478238567,
        "deepnote_cell_type": "code"
      },
      "outputs": [
        {
          "output_type": "execute_result",
          "execution_count": 54,
          "data": {
            "application/vnd.deepnote.dataframe.v2+json": {
              "row_count": 218242,
              "column_count": 20,
              "columns": [
                {
                  "name": "18-59",
                  "dtype": "float64"
                },
                {
                  "name": "mean_household_income",
                  "dtype": "int64"
                },
                {
                  "name": "built 1995 or later",
                  "dtype": "float64"
                },
                {
                  "name": "OTHER",
                  "dtype": "bool"
                },
                {
                  "name": "mobile_home_pct",
                  "dtype": "float64"
                },
                {
                  "name": "annual_births_per_resident",
                  "dtype": "float64"
                },
                {
                  "name": "farm_score",
                  "dtype": "int64"
                },
                {
                  "name": "luxury_communities_score",
                  "dtype": "float64"
                },
                {
                  "name": "CONDO",
                  "dtype": "bool"
                },
                {
                  "name": "property_crime_rate",
                  "dtype": "float64"
                },
                {
                  "name": "bathfull",
                  "dtype": "int64"
                },
                {
                  "name": "small_apt_buildings_pct",
                  "dtype": "float64"
                },
                {
                  "name": "standardized_test_score_percentile",
                  "dtype": "float64"
                },
                {
                  "name": "MULTI_FAMILY",
                  "dtype": "bool"
                },
                {
                  "name": "bedrooms",
                  "dtype": "int64"
                },
                {
                  "name": "list_date",
                  "dtype": "object"
                },
                {
                  "name": "sale_date",
                  "dtype": "object"
                },
                {
                  "name": "rex_property_id",
                  "dtype": "int64"
                },
                {
                  "name": "latitude",
                  "dtype": "float64"
                },
                {
                  "name": "longitude",
                  "dtype": "float64"
                },
                {
                  "name": "_deepnote_index_column",
                  "dtype": "int64"
                }
              ],
              "rows_top": [
                {
                  "18-59": 0.6162874251496999,
                  "mean_household_income": 107073,
                  "built 1995 or later": 80.577849,
                  "OTHER": false,
                  "mobile_home_pct": 0,
                  "annual_births_per_resident": 0.0165269461077839,
                  "farm_score": 100,
                  "luxury_communities_score": 21.852379,
                  "CONDO": false,
                  "property_crime_rate": 11.972931,
                  "bathfull": 3,
                  "small_apt_buildings_pct": 0.8025680000000001,
                  "standardized_test_score_percentile": 81.59698,
                  "MULTI_FAMILY": false,
                  "bedrooms": 4,
                  "list_date": "2016-06-30",
                  "sale_date": "2016-08-12",
                  "rex_property_id": 207973152,
                  "latitude": 39.614540000000005,
                  "longitude": -104.72075,
                  "_deepnote_index_column": 0
                },
                {
                  "18-59": 0.6162874251496999,
                  "mean_household_income": 107073,
                  "built 1995 or later": 80.577849,
                  "OTHER": false,
                  "mobile_home_pct": 0,
                  "annual_births_per_resident": 0.0165269461077839,
                  "farm_score": 100,
                  "luxury_communities_score": 21.852379,
                  "CONDO": false,
                  "property_crime_rate": 11.972931,
                  "bathfull": 3,
                  "small_apt_buildings_pct": 0.8025680000000001,
                  "standardized_test_score_percentile": 81.59698,
                  "MULTI_FAMILY": false,
                  "bedrooms": 4,
                  "list_date": "2019-04-26",
                  "sale_date": "2019-05-29",
                  "rex_property_id": 207973152,
                  "latitude": 39.614540000000005,
                  "longitude": -104.72075,
                  "_deepnote_index_column": 1
                },
                {
                  "18-59": 0.6162874251496999,
                  "mean_household_income": 107073,
                  "built 1995 or later": 80.577849,
                  "OTHER": false,
                  "mobile_home_pct": 0,
                  "annual_births_per_resident": 0.0165269461077839,
                  "farm_score": 100,
                  "luxury_communities_score": 21.852379,
                  "CONDO": false,
                  "property_crime_rate": 11.972931,
                  "bathfull": 2,
                  "small_apt_buildings_pct": 0.8025680000000001,
                  "standardized_test_score_percentile": 81.59698,
                  "MULTI_FAMILY": false,
                  "bedrooms": 5,
                  "list_date": "2020-06-26",
                  "sale_date": "2020-08-10",
                  "rex_property_id": 208397574,
                  "latitude": 39.61368,
                  "longitude": -104.72888,
                  "_deepnote_index_column": 4
                },
                {
                  "18-59": 0.6162874251496999,
                  "mean_household_income": 107073,
                  "built 1995 or later": 80.577849,
                  "OTHER": false,
                  "mobile_home_pct": 0,
                  "annual_births_per_resident": 0.0165269461077839,
                  "farm_score": 100,
                  "luxury_communities_score": 21.852379,
                  "CONDO": false,
                  "property_crime_rate": 11.972931,
                  "bathfull": 3,
                  "small_apt_buildings_pct": 0.8025680000000001,
                  "standardized_test_score_percentile": 81.59698,
                  "MULTI_FAMILY": false,
                  "bedrooms": 3,
                  "list_date": "2017-04-21",
                  "sale_date": "2017-05-15",
                  "rex_property_id": 207998741,
                  "latitude": 39.62276,
                  "longitude": -104.72723,
                  "_deepnote_index_column": 5
                },
                {
                  "18-59": 0.6162874251496999,
                  "mean_household_income": 107073,
                  "built 1995 or later": 80.577849,
                  "OTHER": false,
                  "mobile_home_pct": 0,
                  "annual_births_per_resident": 0.0165269461077839,
                  "farm_score": 100,
                  "luxury_communities_score": 21.852379,
                  "CONDO": false,
                  "property_crime_rate": 11.972931,
                  "bathfull": 4,
                  "small_apt_buildings_pct": 0.8025680000000001,
                  "standardized_test_score_percentile": 81.59698,
                  "MULTI_FAMILY": false,
                  "bedrooms": 4,
                  "list_date": "2017-06-16",
                  "sale_date": "2017-07-14",
                  "rex_property_id": 207964420,
                  "latitude": 39.62257,
                  "longitude": -104.72502,
                  "_deepnote_index_column": 6
                },
                {
                  "18-59": 0.6162874251496999,
                  "mean_household_income": 107073,
                  "built 1995 or later": 80.577849,
                  "OTHER": false,
                  "mobile_home_pct": 0,
                  "annual_births_per_resident": 0.0165269461077839,
                  "farm_score": 100,
                  "luxury_communities_score": 21.852379,
                  "CONDO": false,
                  "property_crime_rate": 11.972931,
                  "bathfull": 3,
                  "small_apt_buildings_pct": 0.8025680000000001,
                  "standardized_test_score_percentile": 81.59698,
                  "MULTI_FAMILY": false,
                  "bedrooms": 4,
                  "list_date": "2017-07-13",
                  "sale_date": "2017-08-14",
                  "rex_property_id": 208391348,
                  "latitude": 39.62104,
                  "longitude": -104.72222,
                  "_deepnote_index_column": 7
                },
                {
                  "18-59": 0.6162874251496999,
                  "mean_household_income": 107073,
                  "built 1995 or later": 80.577849,
                  "OTHER": false,
                  "mobile_home_pct": 0,
                  "annual_births_per_resident": 0.0165269461077839,
                  "farm_score": 100,
                  "luxury_communities_score": 21.852379,
                  "CONDO": false,
                  "property_crime_rate": 11.972931,
                  "bathfull": 3,
                  "small_apt_buildings_pct": 0.8025680000000001,
                  "standardized_test_score_percentile": 81.59698,
                  "MULTI_FAMILY": false,
                  "bedrooms": 3,
                  "list_date": "2016-04-08",
                  "sale_date": "2016-05-10",
                  "rex_property_id": 208967799,
                  "latitude": 39.62375,
                  "longitude": -104.72956,
                  "_deepnote_index_column": 8
                },
                {
                  "18-59": 0.6162874251496999,
                  "mean_household_income": 107073,
                  "built 1995 or later": 80.577849,
                  "OTHER": false,
                  "mobile_home_pct": 0,
                  "annual_births_per_resident": 0.0165269461077839,
                  "farm_score": 100,
                  "luxury_communities_score": 21.852379,
                  "CONDO": false,
                  "property_crime_rate": 11.972931,
                  "bathfull": 4,
                  "small_apt_buildings_pct": 0.8025680000000001,
                  "standardized_test_score_percentile": 81.59698,
                  "MULTI_FAMILY": false,
                  "bedrooms": 6,
                  "list_date": "2016-08-03",
                  "sale_date": "2016-10-18",
                  "rex_property_id": 209129091,
                  "latitude": 39.61956,
                  "longitude": -104.73103,
                  "_deepnote_index_column": 9
                },
                {
                  "18-59": 0.6162874251496999,
                  "mean_household_income": 107073,
                  "built 1995 or later": 80.577849,
                  "OTHER": false,
                  "mobile_home_pct": 0,
                  "annual_births_per_resident": 0.0165269461077839,
                  "farm_score": 100,
                  "luxury_communities_score": 21.852379,
                  "CONDO": true,
                  "property_crime_rate": 11.972931,
                  "bathfull": 2,
                  "small_apt_buildings_pct": 0.8025680000000001,
                  "standardized_test_score_percentile": 81.59698,
                  "MULTI_FAMILY": false,
                  "bedrooms": 3,
                  "list_date": "2017-06-14",
                  "sale_date": "2017-07-14",
                  "rex_property_id": 208988684,
                  "latitude": 39.61801,
                  "longitude": -104.73271,
                  "_deepnote_index_column": 10
                },
                {
                  "18-59": 0.6162874251496999,
                  "mean_household_income": 107073,
                  "built 1995 or later": 80.577849,
                  "OTHER": false,
                  "mobile_home_pct": 0,
                  "annual_births_per_resident": 0.0165269461077839,
                  "farm_score": 100,
                  "luxury_communities_score": 21.852379,
                  "CONDO": false,
                  "property_crime_rate": 11.972931,
                  "bathfull": 2,
                  "small_apt_buildings_pct": 0.8025680000000001,
                  "standardized_test_score_percentile": 81.59698,
                  "MULTI_FAMILY": false,
                  "bedrooms": 3,
                  "list_date": "2020-02-07",
                  "sale_date": "2020-03-31",
                  "rex_property_id": 208952962,
                  "latitude": 39.61193,
                  "longitude": -104.71839,
                  "_deepnote_index_column": 11
                },
                {
                  "18-59": 0.6162874251496999,
                  "mean_household_income": 107073,
                  "built 1995 or later": 80.577849,
                  "OTHER": false,
                  "mobile_home_pct": 0,
                  "annual_births_per_resident": 0.0165269461077839,
                  "farm_score": 100,
                  "luxury_communities_score": 21.852379,
                  "CONDO": false,
                  "property_crime_rate": 11.972931,
                  "bathfull": 3,
                  "small_apt_buildings_pct": 0.8025680000000001,
                  "standardized_test_score_percentile": 81.59698,
                  "MULTI_FAMILY": false,
                  "bedrooms": 3,
                  "list_date": "2016-03-18",
                  "sale_date": "2016-03-18",
                  "rex_property_id": 209186674,
                  "latitude": 39.60667,
                  "longitude": -104.71821,
                  "_deepnote_index_column": 12
                },
                {
                  "18-59": 0.6162874251496999,
                  "mean_household_income": 107073,
                  "built 1995 or later": 80.577849,
                  "OTHER": false,
                  "mobile_home_pct": 0,
                  "annual_births_per_resident": 0.0165269461077839,
                  "farm_score": 100,
                  "luxury_communities_score": 21.852379,
                  "CONDO": true,
                  "property_crime_rate": 11.972931,
                  "bathfull": 2,
                  "small_apt_buildings_pct": 0.8025680000000001,
                  "standardized_test_score_percentile": 81.59698,
                  "MULTI_FAMILY": false,
                  "bedrooms": 3,
                  "list_date": "2019-05-10",
                  "sale_date": "2019-07-02",
                  "rex_property_id": 209208893,
                  "latitude": 39.6156,
                  "longitude": -104.73142,
                  "_deepnote_index_column": 13
                },
                {
                  "18-59": 0.6162874251496999,
                  "mean_household_income": 107073,
                  "built 1995 or later": 80.577849,
                  "OTHER": false,
                  "mobile_home_pct": 0,
                  "annual_births_per_resident": 0.0165269461077839,
                  "farm_score": 100,
                  "luxury_communities_score": 21.852379,
                  "CONDO": false,
                  "property_crime_rate": 11.972931,
                  "bathfull": 3,
                  "small_apt_buildings_pct": 0.8025680000000001,
                  "standardized_test_score_percentile": 81.59698,
                  "MULTI_FAMILY": false,
                  "bedrooms": 4,
                  "list_date": "2016-09-22",
                  "sale_date": "2016-11-28",
                  "rex_property_id": 209125757,
                  "latitude": 39.61796,
                  "longitude": -104.7272,
                  "_deepnote_index_column": 14
                },
                {
                  "18-59": 0.6162874251496999,
                  "mean_household_income": 107073,
                  "built 1995 or later": 80.577849,
                  "OTHER": false,
                  "mobile_home_pct": 0,
                  "annual_births_per_resident": 0.0165269461077839,
                  "farm_score": 100,
                  "luxury_communities_score": 21.852379,
                  "CONDO": false,
                  "property_crime_rate": 11.972931,
                  "bathfull": 2,
                  "small_apt_buildings_pct": 0.8025680000000001,
                  "standardized_test_score_percentile": 81.59698,
                  "MULTI_FAMILY": false,
                  "bedrooms": 3,
                  "list_date": "2017-08-26",
                  "sale_date": "2018-01-31",
                  "rex_property_id": 208237743,
                  "latitude": 39.62508,
                  "longitude": -104.71884,
                  "_deepnote_index_column": 15
                },
                {
                  "18-59": 0.6162874251496999,
                  "mean_household_income": 107073,
                  "built 1995 or later": 80.577849,
                  "OTHER": false,
                  "mobile_home_pct": 0,
                  "annual_births_per_resident": 0.0165269461077839,
                  "farm_score": 100,
                  "luxury_communities_score": 21.852379,
                  "CONDO": false,
                  "property_crime_rate": 11.972931,
                  "bathfull": 3,
                  "small_apt_buildings_pct": 0.8025680000000001,
                  "standardized_test_score_percentile": 81.59698,
                  "MULTI_FAMILY": false,
                  "bedrooms": 6,
                  "list_date": "2020-03-25",
                  "sale_date": "2020-04-22",
                  "rex_property_id": 209207365,
                  "latitude": 39.61973,
                  "longitude": -104.73091,
                  "_deepnote_index_column": 16
                },
                {
                  "18-59": 0.6162874251496999,
                  "mean_household_income": 107073,
                  "built 1995 or later": 80.577849,
                  "OTHER": false,
                  "mobile_home_pct": 0,
                  "annual_births_per_resident": 0.0165269461077839,
                  "farm_score": 100,
                  "luxury_communities_score": 21.852379,
                  "CONDO": false,
                  "property_crime_rate": 11.972931,
                  "bathfull": 2,
                  "small_apt_buildings_pct": 0.8025680000000001,
                  "standardized_test_score_percentile": 81.59698,
                  "MULTI_FAMILY": true,
                  "bedrooms": 3,
                  "list_date": "2019-08-30",
                  "sale_date": "2019-12-02",
                  "rex_property_id": 209217910,
                  "latitude": 39.61608,
                  "longitude": -104.73187,
                  "_deepnote_index_column": 17
                },
                {
                  "18-59": 0.6162874251496999,
                  "mean_household_income": 107073,
                  "built 1995 or later": 80.577849,
                  "OTHER": false,
                  "mobile_home_pct": 0,
                  "annual_births_per_resident": 0.0165269461077839,
                  "farm_score": 100,
                  "luxury_communities_score": 21.852379,
                  "CONDO": false,
                  "property_crime_rate": 11.972931,
                  "bathfull": 4,
                  "small_apt_buildings_pct": 0.8025680000000001,
                  "standardized_test_score_percentile": 81.59698,
                  "MULTI_FAMILY": false,
                  "bedrooms": 5,
                  "list_date": "2016-03-11",
                  "sale_date": "2016-03-11",
                  "rex_property_id": 208998634,
                  "latitude": 39.61418,
                  "longitude": -104.72385,
                  "_deepnote_index_column": 19
                },
                {
                  "18-59": 0.6162874251496999,
                  "mean_household_income": 107073,
                  "built 1995 or later": 80.577849,
                  "OTHER": false,
                  "mobile_home_pct": 0,
                  "annual_births_per_resident": 0.0165269461077839,
                  "farm_score": 100,
                  "luxury_communities_score": 21.852379,
                  "CONDO": false,
                  "property_crime_rate": 11.972931,
                  "bathfull": 3,
                  "small_apt_buildings_pct": 0.8025680000000001,
                  "standardized_test_score_percentile": 81.59698,
                  "MULTI_FAMILY": false,
                  "bedrooms": 3,
                  "list_date": "2019-02-21",
                  "sale_date": "2019-03-26",
                  "rex_property_id": 208950476,
                  "latitude": 39.61576,
                  "longitude": -104.71935,
                  "_deepnote_index_column": 20
                },
                {
                  "18-59": 0.6162874251496999,
                  "mean_household_income": 107073,
                  "built 1995 or later": 80.577849,
                  "OTHER": false,
                  "mobile_home_pct": 0,
                  "annual_births_per_resident": 0.0165269461077839,
                  "farm_score": 100,
                  "luxury_communities_score": 21.852379,
                  "CONDO": false,
                  "property_crime_rate": 11.972931,
                  "bathfull": 2,
                  "small_apt_buildings_pct": 0.8025680000000001,
                  "standardized_test_score_percentile": 81.59698,
                  "MULTI_FAMILY": true,
                  "bedrooms": 3,
                  "list_date": "2016-05-17",
                  "sale_date": "2016-06-29",
                  "rex_property_id": 207985813,
                  "latitude": 39.618120000000005,
                  "longitude": -104.73433,
                  "_deepnote_index_column": 21
                },
                {
                  "18-59": 0.6162874251496999,
                  "mean_household_income": 107073,
                  "built 1995 or later": 80.577849,
                  "OTHER": false,
                  "mobile_home_pct": 0,
                  "annual_births_per_resident": 0.0165269461077839,
                  "farm_score": 100,
                  "luxury_communities_score": 21.852379,
                  "CONDO": false,
                  "property_crime_rate": 11.972931,
                  "bathfull": 3,
                  "small_apt_buildings_pct": 0.8025680000000001,
                  "standardized_test_score_percentile": 81.59698,
                  "MULTI_FAMILY": false,
                  "bedrooms": 3,
                  "list_date": "2017-07-24",
                  "sale_date": "2018-02-09",
                  "rex_property_id": 209215977,
                  "latitude": 39.61976,
                  "longitude": -104.72658,
                  "_deepnote_index_column": 22
                },
                {
                  "18-59": 0.6162874251496999,
                  "mean_household_income": 107073,
                  "built 1995 or later": 80.577849,
                  "OTHER": false,
                  "mobile_home_pct": 0,
                  "annual_births_per_resident": 0.0165269461077839,
                  "farm_score": 100,
                  "luxury_communities_score": 21.852379,
                  "CONDO": false,
                  "property_crime_rate": 11.972931,
                  "bathfull": 4,
                  "small_apt_buildings_pct": 0.8025680000000001,
                  "standardized_test_score_percentile": 81.59698,
                  "MULTI_FAMILY": false,
                  "bedrooms": 4,
                  "list_date": "2019-05-03",
                  "sale_date": "2019-06-17",
                  "rex_property_id": 208385771,
                  "latitude": 39.62176,
                  "longitude": -104.7257,
                  "_deepnote_index_column": 23
                },
                {
                  "18-59": 0.6162874251496999,
                  "mean_household_income": 107073,
                  "built 1995 or later": 80.577849,
                  "OTHER": false,
                  "mobile_home_pct": 0,
                  "annual_births_per_resident": 0.0165269461077839,
                  "farm_score": 100,
                  "luxury_communities_score": 21.852379,
                  "CONDO": false,
                  "property_crime_rate": 11.972931,
                  "bathfull": 3,
                  "small_apt_buildings_pct": 0.8025680000000001,
                  "standardized_test_score_percentile": 81.59698,
                  "MULTI_FAMILY": false,
                  "bedrooms": 3,
                  "list_date": "2017-03-18",
                  "sale_date": "2017-05-12",
                  "rex_property_id": 207945896,
                  "latitude": 39.6221,
                  "longitude": -104.7288,
                  "_deepnote_index_column": 24
                },
                {
                  "18-59": 0.6162874251496999,
                  "mean_household_income": 107073,
                  "built 1995 or later": 80.577849,
                  "OTHER": false,
                  "mobile_home_pct": 0,
                  "annual_births_per_resident": 0.0165269461077839,
                  "farm_score": 100,
                  "luxury_communities_score": 21.852379,
                  "CONDO": false,
                  "property_crime_rate": 11.972931,
                  "bathfull": 2,
                  "small_apt_buildings_pct": 0.8025680000000001,
                  "standardized_test_score_percentile": 81.59698,
                  "MULTI_FAMILY": true,
                  "bedrooms": 3,
                  "list_date": "2020-05-29",
                  "sale_date": "2020-07-07",
                  "rex_property_id": 208959938,
                  "latitude": 39.61751,
                  "longitude": -104.73388,
                  "_deepnote_index_column": 25
                },
                {
                  "18-59": 0.6162874251496999,
                  "mean_household_income": 107073,
                  "built 1995 or later": 80.577849,
                  "OTHER": false,
                  "mobile_home_pct": 0,
                  "annual_births_per_resident": 0.0165269461077839,
                  "farm_score": 100,
                  "luxury_communities_score": 21.852379,
                  "CONDO": false,
                  "property_crime_rate": 11.972931,
                  "bathfull": 3,
                  "small_apt_buildings_pct": 0.8025680000000001,
                  "standardized_test_score_percentile": 81.59698,
                  "MULTI_FAMILY": false,
                  "bedrooms": 5,
                  "list_date": "2018-05-29",
                  "sale_date": "2018-07-26",
                  "rex_property_id": 208562862,
                  "latitude": 39.61103,
                  "longitude": -104.7236,
                  "_deepnote_index_column": 26
                },
                {
                  "18-59": 0.6162874251496999,
                  "mean_household_income": 107073,
                  "built 1995 or later": 80.577849,
                  "OTHER": false,
                  "mobile_home_pct": 0,
                  "annual_births_per_resident": 0.0165269461077839,
                  "farm_score": 100,
                  "luxury_communities_score": 21.852379,
                  "CONDO": false,
                  "property_crime_rate": 11.972931,
                  "bathfull": 3,
                  "small_apt_buildings_pct": 0.8025680000000001,
                  "standardized_test_score_percentile": 81.59698,
                  "MULTI_FAMILY": false,
                  "bedrooms": 4,
                  "list_date": "2017-07-20",
                  "sale_date": "2017-08-21",
                  "rex_property_id": 207980334,
                  "latitude": 39.61658,
                  "longitude": -104.73034,
                  "_deepnote_index_column": 27
                }
              ],
              "rows_bottom": [
                {
                  "18-59": 0.548398328690808,
                  "mean_household_income": 81008,
                  "built 1995 or later": 4.327808,
                  "OTHER": false,
                  "mobile_home_pct": 0.5524859999999999,
                  "annual_births_per_resident": 0.008008356545961,
                  "farm_score": 0,
                  "luxury_communities_score": 64.866049,
                  "CONDO": false,
                  "property_crime_rate": 9.333333,
                  "bathfull": 2,
                  "small_apt_buildings_pct": 5.432780999999999,
                  "standardized_test_score_percentile": 30.320076,
                  "MULTI_FAMILY": false,
                  "bedrooms": 4,
                  "list_date": "2016-08-12",
                  "sale_date": "2016-09-28",
                  "rex_property_id": 304357539,
                  "latitude": 40.07651,
                  "longitude": -104.86238,
                  "_deepnote_index_column": 277524
                },
                {
                  "18-59": 0.5121700377099759,
                  "mean_household_income": 172403,
                  "built 1995 or later": 30.855633,
                  "OTHER": false,
                  "mobile_home_pct": 0,
                  "annual_births_per_resident": 0,
                  "farm_score": 100,
                  "luxury_communities_score": 4.924034,
                  "CONDO": false,
                  "property_crime_rate": 5.435454,
                  "bathfull": 4,
                  "small_apt_buildings_pct": 0,
                  "standardized_test_score_percentile": 89.65673699999999,
                  "MULTI_FAMILY": false,
                  "bedrooms": 5,
                  "list_date": "2018-04-12",
                  "sale_date": "2018-05-15",
                  "rex_property_id": 207954323,
                  "latitude": 39.60841,
                  "longitude": -104.764,
                  "_deepnote_index_column": 277525
                },
                {
                  "18-59": 0.5677157844539821,
                  "mean_household_income": 135024,
                  "built 1995 or later": 40.048617,
                  "OTHER": false,
                  "mobile_home_pct": 1.428137,
                  "annual_births_per_resident": 0.003099666189795,
                  "farm_score": 100,
                  "luxury_communities_score": 9.114746,
                  "CONDO": false,
                  "property_crime_rate": 13.288135999999998,
                  "bathfull": 0,
                  "small_apt_buildings_pct": 5.074445,
                  "standardized_test_score_percentile": 84.19353100000001,
                  "MULTI_FAMILY": false,
                  "bedrooms": 8,
                  "list_date": "2019-01-04",
                  "sale_date": "2100-01-01",
                  "rex_property_id": 335072893,
                  "latitude": 39.75854,
                  "longitude": -105.22074,
                  "_deepnote_index_column": 277526
                },
                {
                  "18-59": 0.5677157844539821,
                  "mean_household_income": 135024,
                  "built 1995 or later": 40.048617,
                  "OTHER": false,
                  "mobile_home_pct": 1.428137,
                  "annual_births_per_resident": 0.003099666189795,
                  "farm_score": 100,
                  "luxury_communities_score": 9.114746,
                  "CONDO": false,
                  "property_crime_rate": 13.288135999999998,
                  "bathfull": 2,
                  "small_apt_buildings_pct": 5.074445,
                  "standardized_test_score_percentile": 84.19353100000001,
                  "MULTI_FAMILY": false,
                  "bedrooms": 6,
                  "list_date": "2020-09-23",
                  "sale_date": "2100-01-01",
                  "rex_property_id": 296881554,
                  "latitude": 39.76064,
                  "longitude": -105.22039,
                  "_deepnote_index_column": 277527
                },
                {
                  "18-59": 0.5677157844539821,
                  "mean_household_income": 135024,
                  "built 1995 or later": 40.048617,
                  "OTHER": false,
                  "mobile_home_pct": 1.428137,
                  "annual_births_per_resident": 0.003099666189795,
                  "farm_score": 100,
                  "luxury_communities_score": 9.114746,
                  "CONDO": false,
                  "property_crime_rate": 13.288135999999998,
                  "bathfull": 1,
                  "small_apt_buildings_pct": 5.074445,
                  "standardized_test_score_percentile": 84.19353100000001,
                  "MULTI_FAMILY": false,
                  "bedrooms": 1,
                  "list_date": "2017-12-08",
                  "sale_date": "2018-02-14",
                  "rex_property_id": 303129643,
                  "latitude": 39.7599,
                  "longitude": -105.22092,
                  "_deepnote_index_column": 277528
                },
                {
                  "18-59": 0.5677157844539821,
                  "mean_household_income": 135024,
                  "built 1995 or later": 40.048617,
                  "OTHER": false,
                  "mobile_home_pct": 1.428137,
                  "annual_births_per_resident": 0.003099666189795,
                  "farm_score": 100,
                  "luxury_communities_score": 9.114746,
                  "CONDO": false,
                  "property_crime_rate": 13.288135999999998,
                  "bathfull": 5,
                  "small_apt_buildings_pct": 5.074445,
                  "standardized_test_score_percentile": 84.19353100000001,
                  "MULTI_FAMILY": true,
                  "bedrooms": 12,
                  "list_date": "2020-09-02",
                  "sale_date": "2020-10-13",
                  "rex_property_id": 246292698,
                  "latitude": 39.759240000000005,
                  "longitude": -105.21957,
                  "_deepnote_index_column": 277529
                },
                {
                  "18-59": 0.5677157844539821,
                  "mean_household_income": 135024,
                  "built 1995 or later": 40.048617,
                  "OTHER": false,
                  "mobile_home_pct": 1.428137,
                  "annual_births_per_resident": 0.003099666189795,
                  "farm_score": 100,
                  "luxury_communities_score": 9.114746,
                  "CONDO": false,
                  "property_crime_rate": 13.288135999999998,
                  "bathfull": 1,
                  "small_apt_buildings_pct": 5.074445,
                  "standardized_test_score_percentile": 84.19353100000001,
                  "MULTI_FAMILY": false,
                  "bedrooms": 2,
                  "list_date": "2017-07-28",
                  "sale_date": "2100-01-01",
                  "rex_property_id": 245573854,
                  "latitude": 39.76141,
                  "longitude": -105.21768,
                  "_deepnote_index_column": 277530
                },
                {
                  "18-59": 0.5677157844539821,
                  "mean_household_income": 135024,
                  "built 1995 or later": 40.048617,
                  "OTHER": false,
                  "mobile_home_pct": 1.428137,
                  "annual_births_per_resident": 0.003099666189795,
                  "farm_score": 100,
                  "luxury_communities_score": 9.114746,
                  "CONDO": true,
                  "property_crime_rate": 13.288135999999998,
                  "bathfull": 2,
                  "small_apt_buildings_pct": 5.074445,
                  "standardized_test_score_percentile": 84.19353100000001,
                  "MULTI_FAMILY": false,
                  "bedrooms": 1,
                  "list_date": "2016-05-26",
                  "sale_date": "2016-07-29",
                  "rex_property_id": 355072337,
                  "latitude": 39.75495,
                  "longitude": -105.22056,
                  "_deepnote_index_column": 277531
                },
                {
                  "18-59": 0.5677157844539821,
                  "mean_household_income": 135024,
                  "built 1995 or later": 40.048617,
                  "OTHER": false,
                  "mobile_home_pct": 1.428137,
                  "annual_births_per_resident": 0.003099666189795,
                  "farm_score": 100,
                  "luxury_communities_score": 9.114746,
                  "CONDO": false,
                  "property_crime_rate": 13.288135999999998,
                  "bathfull": 2,
                  "small_apt_buildings_pct": 5.074445,
                  "standardized_test_score_percentile": 84.19353100000001,
                  "MULTI_FAMILY": false,
                  "bedrooms": 4,
                  "list_date": "2017-08-04",
                  "sale_date": "2017-08-22",
                  "rex_property_id": 306301980,
                  "latitude": 39.79536,
                  "longitude": -105.18795,
                  "_deepnote_index_column": 277533
                },
                {
                  "18-59": 0.502336448598131,
                  "mean_household_income": 49108,
                  "built 1995 or later": 22.932651,
                  "OTHER": false,
                  "mobile_home_pct": 70.247229,
                  "annual_births_per_resident": 0.0116822429906539,
                  "farm_score": 100,
                  "luxury_communities_score": 89.76438399999999,
                  "CONDO": false,
                  "property_crime_rate": 55.711423,
                  "bathfull": 1,
                  "small_apt_buildings_pct": 0,
                  "standardized_test_score_percentile": 21.295493,
                  "MULTI_FAMILY": false,
                  "bedrooms": 2,
                  "list_date": "2019-11-05",
                  "sale_date": "2019-11-18",
                  "rex_property_id": 233341880,
                  "latitude": 39.81152,
                  "longitude": -104.97266,
                  "_deepnote_index_column": 277534
                },
                {
                  "18-59": 0.502336448598131,
                  "mean_household_income": 49108,
                  "built 1995 or later": 22.932651,
                  "OTHER": false,
                  "mobile_home_pct": 70.247229,
                  "annual_births_per_resident": 0.0116822429906539,
                  "farm_score": 100,
                  "luxury_communities_score": 89.76438399999999,
                  "CONDO": false,
                  "property_crime_rate": 55.711423,
                  "bathfull": 1,
                  "small_apt_buildings_pct": 0,
                  "standardized_test_score_percentile": 21.295493,
                  "MULTI_FAMILY": false,
                  "bedrooms": 2,
                  "list_date": "2018-04-12",
                  "sale_date": "2018-07-10",
                  "rex_property_id": 359384573,
                  "latitude": 39.81196,
                  "longitude": -104.97307,
                  "_deepnote_index_column": 277535
                },
                {
                  "18-59": 0.502336448598131,
                  "mean_household_income": 49108,
                  "built 1995 or later": 22.932651,
                  "OTHER": false,
                  "mobile_home_pct": 70.247229,
                  "annual_births_per_resident": 0.0116822429906539,
                  "farm_score": 100,
                  "luxury_communities_score": 89.76438399999999,
                  "CONDO": false,
                  "property_crime_rate": 55.711423,
                  "bathfull": 1,
                  "small_apt_buildings_pct": 0,
                  "standardized_test_score_percentile": 21.295493,
                  "MULTI_FAMILY": false,
                  "bedrooms": 2,
                  "list_date": "2017-06-29",
                  "sale_date": "2017-07-28",
                  "rex_property_id": 314370709,
                  "latitude": 39.79353,
                  "longitude": -104.98597,
                  "_deepnote_index_column": 277536
                },
                {
                  "18-59": 0.502336448598131,
                  "mean_household_income": 49108,
                  "built 1995 or later": 22.932651,
                  "OTHER": false,
                  "mobile_home_pct": 70.247229,
                  "annual_births_per_resident": 0.0116822429906539,
                  "farm_score": 100,
                  "luxury_communities_score": 89.76438399999999,
                  "CONDO": false,
                  "property_crime_rate": 55.711423,
                  "bathfull": 1,
                  "small_apt_buildings_pct": 0,
                  "standardized_test_score_percentile": 21.295493,
                  "MULTI_FAMILY": false,
                  "bedrooms": 2,
                  "list_date": "2016-09-01",
                  "sale_date": "2016-11-02",
                  "rex_property_id": 357159514,
                  "latitude": 39.79741,
                  "longitude": -104.98075,
                  "_deepnote_index_column": 277537
                },
                {
                  "18-59": 0.502336448598131,
                  "mean_household_income": 49108,
                  "built 1995 or later": 22.932651,
                  "OTHER": false,
                  "mobile_home_pct": 70.247229,
                  "annual_births_per_resident": 0.0116822429906539,
                  "farm_score": 100,
                  "luxury_communities_score": 89.76438399999999,
                  "CONDO": false,
                  "property_crime_rate": 55.711423,
                  "bathfull": 1,
                  "small_apt_buildings_pct": 0,
                  "standardized_test_score_percentile": 21.295493,
                  "MULTI_FAMILY": true,
                  "bedrooms": 2,
                  "list_date": "2017-01-31",
                  "sale_date": "2017-08-28",
                  "rex_property_id": 343766293,
                  "latitude": 39.7981,
                  "longitude": -104.97968,
                  "_deepnote_index_column": 277538
                },
                {
                  "18-59": 0.5306812691254629,
                  "mean_household_income": 160223,
                  "built 1995 or later": 16.032064000000002,
                  "OTHER": false,
                  "mobile_home_pct": 0,
                  "annual_births_per_resident": 0.008052826542116,
                  "farm_score": 50,
                  "luxury_communities_score": 3.777015,
                  "CONDO": false,
                  "property_crime_rate": 12.848752,
                  "bathfull": 3,
                  "small_apt_buildings_pct": 2.60521,
                  "standardized_test_score_percentile": 85.551908,
                  "MULTI_FAMILY": false,
                  "bedrooms": 4,
                  "list_date": "2016-12-07",
                  "sale_date": "2017-04-19",
                  "rex_property_id": 120815412,
                  "latitude": 40.11232,
                  "longitude": -105.22475,
                  "_deepnote_index_column": 277539
                },
                {
                  "18-59": 0.598834128245893,
                  "mean_household_income": 127096,
                  "built 1995 or later": 12.979351,
                  "OTHER": false,
                  "mobile_home_pct": 0.589971,
                  "annual_births_per_resident": 0.006094329623741,
                  "farm_score": 100,
                  "luxury_communities_score": 26.076625,
                  "CONDO": false,
                  "property_crime_rate": 10.990621,
                  "bathfull": 14,
                  "small_apt_buildings_pct": 0,
                  "standardized_test_score_percentile": 62.619725,
                  "MULTI_FAMILY": false,
                  "bedrooms": 11,
                  "list_date": "2018-08-03",
                  "sale_date": "2100-01-01",
                  "rex_property_id": 93829409,
                  "latitude": 39.44076,
                  "longitude": -104.61577,
                  "_deepnote_index_column": 277540
                },
                {
                  "18-59": 0.603770321687997,
                  "mean_household_income": 101871,
                  "built 1995 or later": 6.896552000000001,
                  "OTHER": false,
                  "mobile_home_pct": 17.961915,
                  "annual_births_per_resident": 0.015219647180906,
                  "farm_score": 100,
                  "luxury_communities_score": 21.818164000000003,
                  "CONDO": false,
                  "property_crime_rate": 27.675277,
                  "bathfull": 1,
                  "small_apt_buildings_pct": 0,
                  "standardized_test_score_percentile": 85.900806,
                  "MULTI_FAMILY": false,
                  "bedrooms": 3,
                  "list_date": "2020-09-09",
                  "sale_date": "2020-10-21",
                  "rex_property_id": 93370932,
                  "latitude": 39.91932,
                  "longitude": -105.04609,
                  "_deepnote_index_column": 277541
                },
                {
                  "18-59": 0.785573770491803,
                  "mean_household_income": 61814,
                  "built 1995 or later": 86.148238,
                  "OTHER": true,
                  "mobile_home_pct": 6.439854,
                  "annual_births_per_resident": 0.00983606557377,
                  "farm_score": 100,
                  "luxury_communities_score": 28.282155,
                  "CONDO": false,
                  "property_crime_rate": 56.206089,
                  "bathfull": 2,
                  "small_apt_buildings_pct": 0,
                  "standardized_test_score_percentile": 12.581497,
                  "MULTI_FAMILY": false,
                  "bedrooms": 3,
                  "list_date": "2018-04-24",
                  "sale_date": "2100-01-01",
                  "rex_property_id": 361336564,
                  "latitude": 39.74417,
                  "longitude": -104.82657,
                  "_deepnote_index_column": 277542
                },
                {
                  "18-59": 0.576850984067479,
                  "mean_household_income": 55974,
                  "built 1995 or later": 33.745875,
                  "OTHER": false,
                  "mobile_home_pct": 72.689769,
                  "annual_births_per_resident": 0.0084348641049669,
                  "farm_score": 50,
                  "luxury_communities_score": 83.66010899999999,
                  "CONDO": false,
                  "property_crime_rate": 30.618140000000004,
                  "bathfull": 3,
                  "small_apt_buildings_pct": 0,
                  "standardized_test_score_percentile": 16.884992999999998,
                  "MULTI_FAMILY": false,
                  "bedrooms": 3,
                  "list_date": "2017-06-29",
                  "sale_date": "2017-08-30",
                  "rex_property_id": 351207667,
                  "latitude": 39.86006,
                  "longitude": -104.92934,
                  "_deepnote_index_column": 277543
                },
                {
                  "18-59": 0.623831267666884,
                  "mean_household_income": 108207,
                  "built 1995 or later": 3.015682,
                  "OTHER": false,
                  "mobile_home_pct": 0.422195,
                  "annual_births_per_resident": 0.016525331593825,
                  "farm_score": 100,
                  "luxury_communities_score": 16.93072,
                  "CONDO": true,
                  "property_crime_rate": 19.415404,
                  "bathfull": 2,
                  "small_apt_buildings_pct": 0,
                  "standardized_test_score_percentile": 81.854093,
                  "MULTI_FAMILY": false,
                  "bedrooms": 2,
                  "list_date": "2017-04-13",
                  "sale_date": "2017-06-07",
                  "rex_property_id": 352759060,
                  "latitude": 39.90318,
                  "longitude": -105.05226,
                  "_deepnote_index_column": 277544
                },
                {
                  "18-59": 0.623831267666884,
                  "mean_household_income": 108207,
                  "built 1995 or later": 3.015682,
                  "OTHER": false,
                  "mobile_home_pct": 0.422195,
                  "annual_births_per_resident": 0.016525331593825,
                  "farm_score": 100,
                  "luxury_communities_score": 16.93072,
                  "CONDO": true,
                  "property_crime_rate": 19.415404,
                  "bathfull": 2,
                  "small_apt_buildings_pct": 0,
                  "standardized_test_score_percentile": 81.854093,
                  "MULTI_FAMILY": false,
                  "bedrooms": 2,
                  "list_date": "2018-05-18",
                  "sale_date": "2018-06-28",
                  "rex_property_id": 352759060,
                  "latitude": 39.90318,
                  "longitude": -105.05226,
                  "_deepnote_index_column": 277545
                },
                {
                  "18-59": 0.541231544832553,
                  "mean_household_income": 78117,
                  "built 1995 or later": 22.450889,
                  "OTHER": false,
                  "mobile_home_pct": 8.840036999999999,
                  "annual_births_per_resident": 0.0189052934821749,
                  "farm_score": 0,
                  "luxury_communities_score": 50.545896,
                  "CONDO": false,
                  "property_crime_rate": 0,
                  "bathfull": 1,
                  "small_apt_buildings_pct": 5.05145,
                  "standardized_test_score_percentile": 42.274687,
                  "MULTI_FAMILY": false,
                  "bedrooms": 3,
                  "list_date": "2020-09-08",
                  "sale_date": "2100-01-01",
                  "rex_property_id": 121948410,
                  "latitude": 40.586940000000006,
                  "longitude": -104.74366,
                  "_deepnote_index_column": 277548
                },
                {
                  "18-59": 0.519822921790457,
                  "mean_household_income": 118127,
                  "built 1995 or later": 40.666667,
                  "OTHER": false,
                  "mobile_home_pct": 9.638889,
                  "annual_births_per_resident": 0.008755533694048,
                  "farm_score": 0,
                  "luxury_communities_score": 26.12922,
                  "CONDO": false,
                  "property_crime_rate": 8.233058999999999,
                  "bathfull": 4,
                  "small_apt_buildings_pct": 0.527778,
                  "standardized_test_score_percentile": 74.07271,
                  "MULTI_FAMILY": false,
                  "bedrooms": 4,
                  "list_date": "2017-05-31",
                  "sale_date": "2100-01-01",
                  "rex_property_id": 122775824,
                  "latitude": 40.19702,
                  "longitude": -105.02302,
                  "_deepnote_index_column": 277549
                },
                {
                  "18-59": 0.51136699143785,
                  "mean_household_income": 112043,
                  "built 1995 or later": 27.410359000000003,
                  "OTHER": false,
                  "mobile_home_pct": 2.788845,
                  "annual_births_per_resident": 0.009152642456451,
                  "farm_score": 100,
                  "luxury_communities_score": 25.255845,
                  "CONDO": false,
                  "property_crime_rate": 11.689526,
                  "bathfull": 1,
                  "small_apt_buildings_pct": 0.8764940000000001,
                  "standardized_test_score_percentile": 60.597145,
                  "MULTI_FAMILY": false,
                  "bedrooms": 4,
                  "list_date": "2017-06-02",
                  "sale_date": "2100-01-01",
                  "rex_property_id": 93936156,
                  "latitude": 39.332,
                  "longitude": -104.66001,
                  "_deepnote_index_column": 277550
                },
                {
                  "18-59": 0.51136699143785,
                  "mean_household_income": 112043,
                  "built 1995 or later": 27.410359000000003,
                  "OTHER": false,
                  "mobile_home_pct": 2.788845,
                  "annual_births_per_resident": 0.009152642456451,
                  "farm_score": 100,
                  "luxury_communities_score": 25.255845,
                  "CONDO": false,
                  "property_crime_rate": 11.689526,
                  "bathfull": 1,
                  "small_apt_buildings_pct": 0.8764940000000001,
                  "standardized_test_score_percentile": 60.597145,
                  "MULTI_FAMILY": false,
                  "bedrooms": 4,
                  "list_date": "2019-05-30",
                  "sale_date": "2020-08-31",
                  "rex_property_id": 93936156,
                  "latitude": 39.332,
                  "longitude": -104.66001,
                  "_deepnote_index_column": 277551
                }
              ]
            },
            "text/plain": "           18-59  mean_household_income  built 1995 or later  OTHER  \\\n0       0.616287                 107073            80.577849  False   \n1       0.616287                 107073            80.577849  False   \n4       0.616287                 107073            80.577849  False   \n5       0.616287                 107073            80.577849  False   \n6       0.616287                 107073            80.577849  False   \n...          ...                    ...                  ...    ...   \n277545  0.623831                 108207             3.015682  False   \n277548  0.541232                  78117            22.450889  False   \n277549  0.519823                 118127            40.666667  False   \n277550  0.511367                 112043            27.410359  False   \n277551  0.511367                 112043            27.410359  False   \n\n        mobile_home_pct  annual_births_per_resident  farm_score  \\\n0              0.000000                    0.016527         100   \n1              0.000000                    0.016527         100   \n4              0.000000                    0.016527         100   \n5              0.000000                    0.016527         100   \n6              0.000000                    0.016527         100   \n...                 ...                         ...         ...   \n277545         0.422195                    0.016525         100   \n277548         8.840037                    0.018905           0   \n277549         9.638889                    0.008756           0   \n277550         2.788845                    0.009153         100   \n277551         2.788845                    0.009153         100   \n\n        luxury_communities_score  CONDO  property_crime_rate  bathfull  \\\n0                      21.852379  False            11.972931         3   \n1                      21.852379  False            11.972931         3   \n4                      21.852379  False            11.972931         2   \n5                      21.852379  False            11.972931         3   \n6                      21.852379  False            11.972931         4   \n...                          ...    ...                  ...       ...   \n277545                 16.930720   True            19.415404         2   \n277548                 50.545896  False             0.000000         1   \n277549                 26.129220  False             8.233059         4   \n277550                 25.255845  False            11.689526         1   \n277551                 25.255845  False            11.689526         1   \n\n        small_apt_buildings_pct  standardized_test_score_percentile  \\\n0                      0.802568                           81.596980   \n1                      0.802568                           81.596980   \n4                      0.802568                           81.596980   \n5                      0.802568                           81.596980   \n6                      0.802568                           81.596980   \n...                         ...                                 ...   \n277545                 0.000000                           81.854093   \n277548                 5.051450                           42.274687   \n277549                 0.527778                           74.072710   \n277550                 0.876494                           60.597145   \n277551                 0.876494                           60.597145   \n\n        MULTI_FAMILY  bedrooms   list_date   sale_date  rex_property_id  \\\n0              False         4  2016-06-30  2016-08-12        207973152   \n1              False         4  2019-04-26  2019-05-29        207973152   \n4              False         5  2020-06-26  2020-08-10        208397574   \n5              False         3  2017-04-21  2017-05-15        207998741   \n6              False         4  2017-06-16  2017-07-14        207964420   \n...              ...       ...         ...         ...              ...   \n277545         False         2  2018-05-18  2018-06-28        352759060   \n277548         False         3  2020-09-08  2100-01-01        121948410   \n277549         False         4  2017-05-31  2100-01-01        122775824   \n277550         False         4  2017-06-02  2100-01-01         93936156   \n277551         False         4  2019-05-30  2020-08-31         93936156   \n\n        latitude  longitude  \n0       39.61454 -104.72075  \n1       39.61454 -104.72075  \n4       39.61368 -104.72888  \n5       39.62276 -104.72723  \n6       39.62257 -104.72502  \n...          ...        ...  \n277545  39.90318 -105.05226  \n277548  40.58694 -104.74366  \n277549  40.19702 -105.02302  \n277550  39.33200 -104.66001  \n277551  39.33200 -104.66001  \n\n[218242 rows x 20 columns]",
            "text/html": "<div>\n<style scoped>\n    .dataframe tbody tr th:only-of-type {\n        vertical-align: middle;\n    }\n\n    .dataframe tbody tr th {\n        vertical-align: top;\n    }\n\n    .dataframe thead th {\n        text-align: right;\n    }\n</style>\n<table border=\"1\" class=\"dataframe\">\n  <thead>\n    <tr style=\"text-align: right;\">\n      <th></th>\n      <th>18-59</th>\n      <th>mean_household_income</th>\n      <th>built 1995 or later</th>\n      <th>OTHER</th>\n      <th>mobile_home_pct</th>\n      <th>annual_births_per_resident</th>\n      <th>farm_score</th>\n      <th>luxury_communities_score</th>\n      <th>CONDO</th>\n      <th>property_crime_rate</th>\n      <th>bathfull</th>\n      <th>small_apt_buildings_pct</th>\n      <th>standardized_test_score_percentile</th>\n      <th>MULTI_FAMILY</th>\n      <th>bedrooms</th>\n      <th>list_date</th>\n      <th>sale_date</th>\n      <th>rex_property_id</th>\n      <th>latitude</th>\n      <th>longitude</th>\n    </tr>\n  </thead>\n  <tbody>\n    <tr>\n      <th>0</th>\n      <td>0.616287</td>\n      <td>107073</td>\n      <td>80.577849</td>\n      <td>False</td>\n      <td>0.000000</td>\n      <td>0.016527</td>\n      <td>100</td>\n      <td>21.852379</td>\n      <td>False</td>\n      <td>11.972931</td>\n      <td>3</td>\n      <td>0.802568</td>\n      <td>81.596980</td>\n      <td>False</td>\n      <td>4</td>\n      <td>2016-06-30</td>\n      <td>2016-08-12</td>\n      <td>207973152</td>\n      <td>39.61454</td>\n      <td>-104.72075</td>\n    </tr>\n    <tr>\n      <th>1</th>\n      <td>0.616287</td>\n      <td>107073</td>\n      <td>80.577849</td>\n      <td>False</td>\n      <td>0.000000</td>\n      <td>0.016527</td>\n      <td>100</td>\n      <td>21.852379</td>\n      <td>False</td>\n      <td>11.972931</td>\n      <td>3</td>\n      <td>0.802568</td>\n      <td>81.596980</td>\n      <td>False</td>\n      <td>4</td>\n      <td>2019-04-26</td>\n      <td>2019-05-29</td>\n      <td>207973152</td>\n      <td>39.61454</td>\n      <td>-104.72075</td>\n    </tr>\n    <tr>\n      <th>4</th>\n      <td>0.616287</td>\n      <td>107073</td>\n      <td>80.577849</td>\n      <td>False</td>\n      <td>0.000000</td>\n      <td>0.016527</td>\n      <td>100</td>\n      <td>21.852379</td>\n      <td>False</td>\n      <td>11.972931</td>\n      <td>2</td>\n      <td>0.802568</td>\n      <td>81.596980</td>\n      <td>False</td>\n      <td>5</td>\n      <td>2020-06-26</td>\n      <td>2020-08-10</td>\n      <td>208397574</td>\n      <td>39.61368</td>\n      <td>-104.72888</td>\n    </tr>\n    <tr>\n      <th>5</th>\n      <td>0.616287</td>\n      <td>107073</td>\n      <td>80.577849</td>\n      <td>False</td>\n      <td>0.000000</td>\n      <td>0.016527</td>\n      <td>100</td>\n      <td>21.852379</td>\n      <td>False</td>\n      <td>11.972931</td>\n      <td>3</td>\n      <td>0.802568</td>\n      <td>81.596980</td>\n      <td>False</td>\n      <td>3</td>\n      <td>2017-04-21</td>\n      <td>2017-05-15</td>\n      <td>207998741</td>\n      <td>39.62276</td>\n      <td>-104.72723</td>\n    </tr>\n    <tr>\n      <th>6</th>\n      <td>0.616287</td>\n      <td>107073</td>\n      <td>80.577849</td>\n      <td>False</td>\n      <td>0.000000</td>\n      <td>0.016527</td>\n      <td>100</td>\n      <td>21.852379</td>\n      <td>False</td>\n      <td>11.972931</td>\n      <td>4</td>\n      <td>0.802568</td>\n      <td>81.596980</td>\n      <td>False</td>\n      <td>4</td>\n      <td>2017-06-16</td>\n      <td>2017-07-14</td>\n      <td>207964420</td>\n      <td>39.62257</td>\n      <td>-104.72502</td>\n    </tr>\n    <tr>\n      <th>...</th>\n      <td>...</td>\n      <td>...</td>\n      <td>...</td>\n      <td>...</td>\n      <td>...</td>\n      <td>...</td>\n      <td>...</td>\n      <td>...</td>\n      <td>...</td>\n      <td>...</td>\n      <td>...</td>\n      <td>...</td>\n      <td>...</td>\n      <td>...</td>\n      <td>...</td>\n      <td>...</td>\n      <td>...</td>\n      <td>...</td>\n      <td>...</td>\n      <td>...</td>\n    </tr>\n    <tr>\n      <th>277545</th>\n      <td>0.623831</td>\n      <td>108207</td>\n      <td>3.015682</td>\n      <td>False</td>\n      <td>0.422195</td>\n      <td>0.016525</td>\n      <td>100</td>\n      <td>16.930720</td>\n      <td>True</td>\n      <td>19.415404</td>\n      <td>2</td>\n      <td>0.000000</td>\n      <td>81.854093</td>\n      <td>False</td>\n      <td>2</td>\n      <td>2018-05-18</td>\n      <td>2018-06-28</td>\n      <td>352759060</td>\n      <td>39.90318</td>\n      <td>-105.05226</td>\n    </tr>\n    <tr>\n      <th>277548</th>\n      <td>0.541232</td>\n      <td>78117</td>\n      <td>22.450889</td>\n      <td>False</td>\n      <td>8.840037</td>\n      <td>0.018905</td>\n      <td>0</td>\n      <td>50.545896</td>\n      <td>False</td>\n      <td>0.000000</td>\n      <td>1</td>\n      <td>5.051450</td>\n      <td>42.274687</td>\n      <td>False</td>\n      <td>3</td>\n      <td>2020-09-08</td>\n      <td>2100-01-01</td>\n      <td>121948410</td>\n      <td>40.58694</td>\n      <td>-104.74366</td>\n    </tr>\n    <tr>\n      <th>277549</th>\n      <td>0.519823</td>\n      <td>118127</td>\n      <td>40.666667</td>\n      <td>False</td>\n      <td>9.638889</td>\n      <td>0.008756</td>\n      <td>0</td>\n      <td>26.129220</td>\n      <td>False</td>\n      <td>8.233059</td>\n      <td>4</td>\n      <td>0.527778</td>\n      <td>74.072710</td>\n      <td>False</td>\n      <td>4</td>\n      <td>2017-05-31</td>\n      <td>2100-01-01</td>\n      <td>122775824</td>\n      <td>40.19702</td>\n      <td>-105.02302</td>\n    </tr>\n    <tr>\n      <th>277550</th>\n      <td>0.511367</td>\n      <td>112043</td>\n      <td>27.410359</td>\n      <td>False</td>\n      <td>2.788845</td>\n      <td>0.009153</td>\n      <td>100</td>\n      <td>25.255845</td>\n      <td>False</td>\n      <td>11.689526</td>\n      <td>1</td>\n      <td>0.876494</td>\n      <td>60.597145</td>\n      <td>False</td>\n      <td>4</td>\n      <td>2017-06-02</td>\n      <td>2100-01-01</td>\n      <td>93936156</td>\n      <td>39.33200</td>\n      <td>-104.66001</td>\n    </tr>\n    <tr>\n      <th>277551</th>\n      <td>0.511367</td>\n      <td>112043</td>\n      <td>27.410359</td>\n      <td>False</td>\n      <td>2.788845</td>\n      <td>0.009153</td>\n      <td>100</td>\n      <td>25.255845</td>\n      <td>False</td>\n      <td>11.689526</td>\n      <td>1</td>\n      <td>0.876494</td>\n      <td>60.597145</td>\n      <td>False</td>\n      <td>4</td>\n      <td>2019-05-30</td>\n      <td>2020-08-31</td>\n      <td>93936156</td>\n      <td>39.33200</td>\n      <td>-104.66001</td>\n    </tr>\n  </tbody>\n</table>\n<p>218242 rows × 20 columns</p>\n</div>"
          },
          "metadata": {}
        }
      ],
      "execution_count": 54
    },
    {
      "cell_type": "code",
      "metadata": {
        "cell_id": "00002-34bad107-f9cb-4f3a-9b5c-883a9c97f5a6",
        "deepnote_to_be_reexecuted": false,
        "source_hash": "1f9f5dbc",
        "execution_millis": 125,
        "execution_start": 1619478240660,
        "deepnote_cell_type": "code"
      },
      "source": "df = df.astype({\n  'list_date': 'datetime64[ns]',\n  'sale_date': 'datetime64[ns]'\n})\ndf = df.drop(columns=['rex_property_id'])",
      "execution_count": 55,
      "outputs": []
    },
    {
      "cell_type": "code",
      "source": "df",
      "metadata": {
        "tags": [],
        "cell_id": "00005-5ad3641c-355b-48a1-989d-d5e417e2fea1",
        "deepnote_to_be_reexecuted": false,
        "source_hash": "f804c160",
        "execution_millis": 98,
        "execution_start": 1619478247274,
        "deepnote_cell_type": "code"
      },
      "outputs": [
        {
          "output_type": "execute_result",
          "execution_count": 56,
          "data": {
            "application/vnd.deepnote.dataframe.v2+json": {
              "row_count": 218242,
              "column_count": 19,
              "columns": [
                {
                  "name": "18-59",
                  "dtype": "float64"
                },
                {
                  "name": "mean_household_income",
                  "dtype": "int64"
                },
                {
                  "name": "built 1995 or later",
                  "dtype": "float64"
                },
                {
                  "name": "OTHER",
                  "dtype": "bool"
                },
                {
                  "name": "mobile_home_pct",
                  "dtype": "float64"
                },
                {
                  "name": "annual_births_per_resident",
                  "dtype": "float64"
                },
                {
                  "name": "farm_score",
                  "dtype": "int64"
                },
                {
                  "name": "luxury_communities_score",
                  "dtype": "float64"
                },
                {
                  "name": "CONDO",
                  "dtype": "bool"
                },
                {
                  "name": "property_crime_rate",
                  "dtype": "float64"
                },
                {
                  "name": "bathfull",
                  "dtype": "int64"
                },
                {
                  "name": "small_apt_buildings_pct",
                  "dtype": "float64"
                },
                {
                  "name": "standardized_test_score_percentile",
                  "dtype": "float64"
                },
                {
                  "name": "MULTI_FAMILY",
                  "dtype": "bool"
                },
                {
                  "name": "bedrooms",
                  "dtype": "int64"
                },
                {
                  "name": "list_date",
                  "dtype": "datetime64[ns]"
                },
                {
                  "name": "sale_date",
                  "dtype": "datetime64[ns]"
                },
                {
                  "name": "latitude",
                  "dtype": "float64"
                },
                {
                  "name": "longitude",
                  "dtype": "float64"
                },
                {
                  "name": "_deepnote_index_column",
                  "dtype": "int64"
                }
              ],
              "rows_top": [
                {
                  "18-59": 0.6162874251496999,
                  "mean_household_income": 107073,
                  "built 1995 or later": 80.577849,
                  "OTHER": false,
                  "mobile_home_pct": 0,
                  "annual_births_per_resident": 0.0165269461077839,
                  "farm_score": 100,
                  "luxury_communities_score": 21.852379,
                  "CONDO": false,
                  "property_crime_rate": 11.972931,
                  "bathfull": 3,
                  "small_apt_buildings_pct": 0.8025680000000001,
                  "standardized_test_score_percentile": 81.59698,
                  "MULTI_FAMILY": false,
                  "bedrooms": 4,
                  "list_date": "2016-06-30T00:00:00.000000",
                  "sale_date": "2016-08-12T00:00:00.000000",
                  "latitude": 39.614540000000005,
                  "longitude": -104.72075,
                  "_deepnote_index_column": 0
                },
                {
                  "18-59": 0.6162874251496999,
                  "mean_household_income": 107073,
                  "built 1995 or later": 80.577849,
                  "OTHER": false,
                  "mobile_home_pct": 0,
                  "annual_births_per_resident": 0.0165269461077839,
                  "farm_score": 100,
                  "luxury_communities_score": 21.852379,
                  "CONDO": false,
                  "property_crime_rate": 11.972931,
                  "bathfull": 3,
                  "small_apt_buildings_pct": 0.8025680000000001,
                  "standardized_test_score_percentile": 81.59698,
                  "MULTI_FAMILY": false,
                  "bedrooms": 4,
                  "list_date": "2019-04-26T00:00:00.000000",
                  "sale_date": "2019-05-29T00:00:00.000000",
                  "latitude": 39.614540000000005,
                  "longitude": -104.72075,
                  "_deepnote_index_column": 1
                },
                {
                  "18-59": 0.6162874251496999,
                  "mean_household_income": 107073,
                  "built 1995 or later": 80.577849,
                  "OTHER": false,
                  "mobile_home_pct": 0,
                  "annual_births_per_resident": 0.0165269461077839,
                  "farm_score": 100,
                  "luxury_communities_score": 21.852379,
                  "CONDO": false,
                  "property_crime_rate": 11.972931,
                  "bathfull": 2,
                  "small_apt_buildings_pct": 0.8025680000000001,
                  "standardized_test_score_percentile": 81.59698,
                  "MULTI_FAMILY": false,
                  "bedrooms": 5,
                  "list_date": "2020-06-26T00:00:00.000000",
                  "sale_date": "2020-08-10T00:00:00.000000",
                  "latitude": 39.61368,
                  "longitude": -104.72888,
                  "_deepnote_index_column": 4
                },
                {
                  "18-59": 0.6162874251496999,
                  "mean_household_income": 107073,
                  "built 1995 or later": 80.577849,
                  "OTHER": false,
                  "mobile_home_pct": 0,
                  "annual_births_per_resident": 0.0165269461077839,
                  "farm_score": 100,
                  "luxury_communities_score": 21.852379,
                  "CONDO": false,
                  "property_crime_rate": 11.972931,
                  "bathfull": 3,
                  "small_apt_buildings_pct": 0.8025680000000001,
                  "standardized_test_score_percentile": 81.59698,
                  "MULTI_FAMILY": false,
                  "bedrooms": 3,
                  "list_date": "2017-04-21T00:00:00.000000",
                  "sale_date": "2017-05-15T00:00:00.000000",
                  "latitude": 39.62276,
                  "longitude": -104.72723,
                  "_deepnote_index_column": 5
                },
                {
                  "18-59": 0.6162874251496999,
                  "mean_household_income": 107073,
                  "built 1995 or later": 80.577849,
                  "OTHER": false,
                  "mobile_home_pct": 0,
                  "annual_births_per_resident": 0.0165269461077839,
                  "farm_score": 100,
                  "luxury_communities_score": 21.852379,
                  "CONDO": false,
                  "property_crime_rate": 11.972931,
                  "bathfull": 4,
                  "small_apt_buildings_pct": 0.8025680000000001,
                  "standardized_test_score_percentile": 81.59698,
                  "MULTI_FAMILY": false,
                  "bedrooms": 4,
                  "list_date": "2017-06-16T00:00:00.000000",
                  "sale_date": "2017-07-14T00:00:00.000000",
                  "latitude": 39.62257,
                  "longitude": -104.72502,
                  "_deepnote_index_column": 6
                },
                {
                  "18-59": 0.6162874251496999,
                  "mean_household_income": 107073,
                  "built 1995 or later": 80.577849,
                  "OTHER": false,
                  "mobile_home_pct": 0,
                  "annual_births_per_resident": 0.0165269461077839,
                  "farm_score": 100,
                  "luxury_communities_score": 21.852379,
                  "CONDO": false,
                  "property_crime_rate": 11.972931,
                  "bathfull": 3,
                  "small_apt_buildings_pct": 0.8025680000000001,
                  "standardized_test_score_percentile": 81.59698,
                  "MULTI_FAMILY": false,
                  "bedrooms": 4,
                  "list_date": "2017-07-13T00:00:00.000000",
                  "sale_date": "2017-08-14T00:00:00.000000",
                  "latitude": 39.62104,
                  "longitude": -104.72222,
                  "_deepnote_index_column": 7
                },
                {
                  "18-59": 0.6162874251496999,
                  "mean_household_income": 107073,
                  "built 1995 or later": 80.577849,
                  "OTHER": false,
                  "mobile_home_pct": 0,
                  "annual_births_per_resident": 0.0165269461077839,
                  "farm_score": 100,
                  "luxury_communities_score": 21.852379,
                  "CONDO": false,
                  "property_crime_rate": 11.972931,
                  "bathfull": 3,
                  "small_apt_buildings_pct": 0.8025680000000001,
                  "standardized_test_score_percentile": 81.59698,
                  "MULTI_FAMILY": false,
                  "bedrooms": 3,
                  "list_date": "2016-04-08T00:00:00.000000",
                  "sale_date": "2016-05-10T00:00:00.000000",
                  "latitude": 39.62375,
                  "longitude": -104.72956,
                  "_deepnote_index_column": 8
                },
                {
                  "18-59": 0.6162874251496999,
                  "mean_household_income": 107073,
                  "built 1995 or later": 80.577849,
                  "OTHER": false,
                  "mobile_home_pct": 0,
                  "annual_births_per_resident": 0.0165269461077839,
                  "farm_score": 100,
                  "luxury_communities_score": 21.852379,
                  "CONDO": false,
                  "property_crime_rate": 11.972931,
                  "bathfull": 4,
                  "small_apt_buildings_pct": 0.8025680000000001,
                  "standardized_test_score_percentile": 81.59698,
                  "MULTI_FAMILY": false,
                  "bedrooms": 6,
                  "list_date": "2016-08-03T00:00:00.000000",
                  "sale_date": "2016-10-18T00:00:00.000000",
                  "latitude": 39.61956,
                  "longitude": -104.73103,
                  "_deepnote_index_column": 9
                },
                {
                  "18-59": 0.6162874251496999,
                  "mean_household_income": 107073,
                  "built 1995 or later": 80.577849,
                  "OTHER": false,
                  "mobile_home_pct": 0,
                  "annual_births_per_resident": 0.0165269461077839,
                  "farm_score": 100,
                  "luxury_communities_score": 21.852379,
                  "CONDO": true,
                  "property_crime_rate": 11.972931,
                  "bathfull": 2,
                  "small_apt_buildings_pct": 0.8025680000000001,
                  "standardized_test_score_percentile": 81.59698,
                  "MULTI_FAMILY": false,
                  "bedrooms": 3,
                  "list_date": "2017-06-14T00:00:00.000000",
                  "sale_date": "2017-07-14T00:00:00.000000",
                  "latitude": 39.61801,
                  "longitude": -104.73271,
                  "_deepnote_index_column": 10
                },
                {
                  "18-59": 0.6162874251496999,
                  "mean_household_income": 107073,
                  "built 1995 or later": 80.577849,
                  "OTHER": false,
                  "mobile_home_pct": 0,
                  "annual_births_per_resident": 0.0165269461077839,
                  "farm_score": 100,
                  "luxury_communities_score": 21.852379,
                  "CONDO": false,
                  "property_crime_rate": 11.972931,
                  "bathfull": 2,
                  "small_apt_buildings_pct": 0.8025680000000001,
                  "standardized_test_score_percentile": 81.59698,
                  "MULTI_FAMILY": false,
                  "bedrooms": 3,
                  "list_date": "2020-02-07T00:00:00.000000",
                  "sale_date": "2020-03-31T00:00:00.000000",
                  "latitude": 39.61193,
                  "longitude": -104.71839,
                  "_deepnote_index_column": 11
                },
                {
                  "18-59": 0.6162874251496999,
                  "mean_household_income": 107073,
                  "built 1995 or later": 80.577849,
                  "OTHER": false,
                  "mobile_home_pct": 0,
                  "annual_births_per_resident": 0.0165269461077839,
                  "farm_score": 100,
                  "luxury_communities_score": 21.852379,
                  "CONDO": false,
                  "property_crime_rate": 11.972931,
                  "bathfull": 3,
                  "small_apt_buildings_pct": 0.8025680000000001,
                  "standardized_test_score_percentile": 81.59698,
                  "MULTI_FAMILY": false,
                  "bedrooms": 3,
                  "list_date": "2016-03-18T00:00:00.000000",
                  "sale_date": "2016-03-18T00:00:00.000000",
                  "latitude": 39.60667,
                  "longitude": -104.71821,
                  "_deepnote_index_column": 12
                },
                {
                  "18-59": 0.6162874251496999,
                  "mean_household_income": 107073,
                  "built 1995 or later": 80.577849,
                  "OTHER": false,
                  "mobile_home_pct": 0,
                  "annual_births_per_resident": 0.0165269461077839,
                  "farm_score": 100,
                  "luxury_communities_score": 21.852379,
                  "CONDO": true,
                  "property_crime_rate": 11.972931,
                  "bathfull": 2,
                  "small_apt_buildings_pct": 0.8025680000000001,
                  "standardized_test_score_percentile": 81.59698,
                  "MULTI_FAMILY": false,
                  "bedrooms": 3,
                  "list_date": "2019-05-10T00:00:00.000000",
                  "sale_date": "2019-07-02T00:00:00.000000",
                  "latitude": 39.6156,
                  "longitude": -104.73142,
                  "_deepnote_index_column": 13
                },
                {
                  "18-59": 0.6162874251496999,
                  "mean_household_income": 107073,
                  "built 1995 or later": 80.577849,
                  "OTHER": false,
                  "mobile_home_pct": 0,
                  "annual_births_per_resident": 0.0165269461077839,
                  "farm_score": 100,
                  "luxury_communities_score": 21.852379,
                  "CONDO": false,
                  "property_crime_rate": 11.972931,
                  "bathfull": 3,
                  "small_apt_buildings_pct": 0.8025680000000001,
                  "standardized_test_score_percentile": 81.59698,
                  "MULTI_FAMILY": false,
                  "bedrooms": 4,
                  "list_date": "2016-09-22T00:00:00.000000",
                  "sale_date": "2016-11-28T00:00:00.000000",
                  "latitude": 39.61796,
                  "longitude": -104.7272,
                  "_deepnote_index_column": 14
                },
                {
                  "18-59": 0.6162874251496999,
                  "mean_household_income": 107073,
                  "built 1995 or later": 80.577849,
                  "OTHER": false,
                  "mobile_home_pct": 0,
                  "annual_births_per_resident": 0.0165269461077839,
                  "farm_score": 100,
                  "luxury_communities_score": 21.852379,
                  "CONDO": false,
                  "property_crime_rate": 11.972931,
                  "bathfull": 2,
                  "small_apt_buildings_pct": 0.8025680000000001,
                  "standardized_test_score_percentile": 81.59698,
                  "MULTI_FAMILY": false,
                  "bedrooms": 3,
                  "list_date": "2017-08-26T00:00:00.000000",
                  "sale_date": "2018-01-31T00:00:00.000000",
                  "latitude": 39.62508,
                  "longitude": -104.71884,
                  "_deepnote_index_column": 15
                },
                {
                  "18-59": 0.6162874251496999,
                  "mean_household_income": 107073,
                  "built 1995 or later": 80.577849,
                  "OTHER": false,
                  "mobile_home_pct": 0,
                  "annual_births_per_resident": 0.0165269461077839,
                  "farm_score": 100,
                  "luxury_communities_score": 21.852379,
                  "CONDO": false,
                  "property_crime_rate": 11.972931,
                  "bathfull": 3,
                  "small_apt_buildings_pct": 0.8025680000000001,
                  "standardized_test_score_percentile": 81.59698,
                  "MULTI_FAMILY": false,
                  "bedrooms": 6,
                  "list_date": "2020-03-25T00:00:00.000000",
                  "sale_date": "2020-04-22T00:00:00.000000",
                  "latitude": 39.61973,
                  "longitude": -104.73091,
                  "_deepnote_index_column": 16
                },
                {
                  "18-59": 0.6162874251496999,
                  "mean_household_income": 107073,
                  "built 1995 or later": 80.577849,
                  "OTHER": false,
                  "mobile_home_pct": 0,
                  "annual_births_per_resident": 0.0165269461077839,
                  "farm_score": 100,
                  "luxury_communities_score": 21.852379,
                  "CONDO": false,
                  "property_crime_rate": 11.972931,
                  "bathfull": 2,
                  "small_apt_buildings_pct": 0.8025680000000001,
                  "standardized_test_score_percentile": 81.59698,
                  "MULTI_FAMILY": true,
                  "bedrooms": 3,
                  "list_date": "2019-08-30T00:00:00.000000",
                  "sale_date": "2019-12-02T00:00:00.000000",
                  "latitude": 39.61608,
                  "longitude": -104.73187,
                  "_deepnote_index_column": 17
                },
                {
                  "18-59": 0.6162874251496999,
                  "mean_household_income": 107073,
                  "built 1995 or later": 80.577849,
                  "OTHER": false,
                  "mobile_home_pct": 0,
                  "annual_births_per_resident": 0.0165269461077839,
                  "farm_score": 100,
                  "luxury_communities_score": 21.852379,
                  "CONDO": false,
                  "property_crime_rate": 11.972931,
                  "bathfull": 4,
                  "small_apt_buildings_pct": 0.8025680000000001,
                  "standardized_test_score_percentile": 81.59698,
                  "MULTI_FAMILY": false,
                  "bedrooms": 5,
                  "list_date": "2016-03-11T00:00:00.000000",
                  "sale_date": "2016-03-11T00:00:00.000000",
                  "latitude": 39.61418,
                  "longitude": -104.72385,
                  "_deepnote_index_column": 19
                },
                {
                  "18-59": 0.6162874251496999,
                  "mean_household_income": 107073,
                  "built 1995 or later": 80.577849,
                  "OTHER": false,
                  "mobile_home_pct": 0,
                  "annual_births_per_resident": 0.0165269461077839,
                  "farm_score": 100,
                  "luxury_communities_score": 21.852379,
                  "CONDO": false,
                  "property_crime_rate": 11.972931,
                  "bathfull": 3,
                  "small_apt_buildings_pct": 0.8025680000000001,
                  "standardized_test_score_percentile": 81.59698,
                  "MULTI_FAMILY": false,
                  "bedrooms": 3,
                  "list_date": "2019-02-21T00:00:00.000000",
                  "sale_date": "2019-03-26T00:00:00.000000",
                  "latitude": 39.61576,
                  "longitude": -104.71935,
                  "_deepnote_index_column": 20
                },
                {
                  "18-59": 0.6162874251496999,
                  "mean_household_income": 107073,
                  "built 1995 or later": 80.577849,
                  "OTHER": false,
                  "mobile_home_pct": 0,
                  "annual_births_per_resident": 0.0165269461077839,
                  "farm_score": 100,
                  "luxury_communities_score": 21.852379,
                  "CONDO": false,
                  "property_crime_rate": 11.972931,
                  "bathfull": 2,
                  "small_apt_buildings_pct": 0.8025680000000001,
                  "standardized_test_score_percentile": 81.59698,
                  "MULTI_FAMILY": true,
                  "bedrooms": 3,
                  "list_date": "2016-05-17T00:00:00.000000",
                  "sale_date": "2016-06-29T00:00:00.000000",
                  "latitude": 39.618120000000005,
                  "longitude": -104.73433,
                  "_deepnote_index_column": 21
                },
                {
                  "18-59": 0.6162874251496999,
                  "mean_household_income": 107073,
                  "built 1995 or later": 80.577849,
                  "OTHER": false,
                  "mobile_home_pct": 0,
                  "annual_births_per_resident": 0.0165269461077839,
                  "farm_score": 100,
                  "luxury_communities_score": 21.852379,
                  "CONDO": false,
                  "property_crime_rate": 11.972931,
                  "bathfull": 3,
                  "small_apt_buildings_pct": 0.8025680000000001,
                  "standardized_test_score_percentile": 81.59698,
                  "MULTI_FAMILY": false,
                  "bedrooms": 3,
                  "list_date": "2017-07-24T00:00:00.000000",
                  "sale_date": "2018-02-09T00:00:00.000000",
                  "latitude": 39.61976,
                  "longitude": -104.72658,
                  "_deepnote_index_column": 22
                },
                {
                  "18-59": 0.6162874251496999,
                  "mean_household_income": 107073,
                  "built 1995 or later": 80.577849,
                  "OTHER": false,
                  "mobile_home_pct": 0,
                  "annual_births_per_resident": 0.0165269461077839,
                  "farm_score": 100,
                  "luxury_communities_score": 21.852379,
                  "CONDO": false,
                  "property_crime_rate": 11.972931,
                  "bathfull": 4,
                  "small_apt_buildings_pct": 0.8025680000000001,
                  "standardized_test_score_percentile": 81.59698,
                  "MULTI_FAMILY": false,
                  "bedrooms": 4,
                  "list_date": "2019-05-03T00:00:00.000000",
                  "sale_date": "2019-06-17T00:00:00.000000",
                  "latitude": 39.62176,
                  "longitude": -104.7257,
                  "_deepnote_index_column": 23
                },
                {
                  "18-59": 0.6162874251496999,
                  "mean_household_income": 107073,
                  "built 1995 or later": 80.577849,
                  "OTHER": false,
                  "mobile_home_pct": 0,
                  "annual_births_per_resident": 0.0165269461077839,
                  "farm_score": 100,
                  "luxury_communities_score": 21.852379,
                  "CONDO": false,
                  "property_crime_rate": 11.972931,
                  "bathfull": 3,
                  "small_apt_buildings_pct": 0.8025680000000001,
                  "standardized_test_score_percentile": 81.59698,
                  "MULTI_FAMILY": false,
                  "bedrooms": 3,
                  "list_date": "2017-03-18T00:00:00.000000",
                  "sale_date": "2017-05-12T00:00:00.000000",
                  "latitude": 39.6221,
                  "longitude": -104.7288,
                  "_deepnote_index_column": 24
                },
                {
                  "18-59": 0.6162874251496999,
                  "mean_household_income": 107073,
                  "built 1995 or later": 80.577849,
                  "OTHER": false,
                  "mobile_home_pct": 0,
                  "annual_births_per_resident": 0.0165269461077839,
                  "farm_score": 100,
                  "luxury_communities_score": 21.852379,
                  "CONDO": false,
                  "property_crime_rate": 11.972931,
                  "bathfull": 2,
                  "small_apt_buildings_pct": 0.8025680000000001,
                  "standardized_test_score_percentile": 81.59698,
                  "MULTI_FAMILY": true,
                  "bedrooms": 3,
                  "list_date": "2020-05-29T00:00:00.000000",
                  "sale_date": "2020-07-07T00:00:00.000000",
                  "latitude": 39.61751,
                  "longitude": -104.73388,
                  "_deepnote_index_column": 25
                },
                {
                  "18-59": 0.6162874251496999,
                  "mean_household_income": 107073,
                  "built 1995 or later": 80.577849,
                  "OTHER": false,
                  "mobile_home_pct": 0,
                  "annual_births_per_resident": 0.0165269461077839,
                  "farm_score": 100,
                  "luxury_communities_score": 21.852379,
                  "CONDO": false,
                  "property_crime_rate": 11.972931,
                  "bathfull": 3,
                  "small_apt_buildings_pct": 0.8025680000000001,
                  "standardized_test_score_percentile": 81.59698,
                  "MULTI_FAMILY": false,
                  "bedrooms": 5,
                  "list_date": "2018-05-29T00:00:00.000000",
                  "sale_date": "2018-07-26T00:00:00.000000",
                  "latitude": 39.61103,
                  "longitude": -104.7236,
                  "_deepnote_index_column": 26
                },
                {
                  "18-59": 0.6162874251496999,
                  "mean_household_income": 107073,
                  "built 1995 or later": 80.577849,
                  "OTHER": false,
                  "mobile_home_pct": 0,
                  "annual_births_per_resident": 0.0165269461077839,
                  "farm_score": 100,
                  "luxury_communities_score": 21.852379,
                  "CONDO": false,
                  "property_crime_rate": 11.972931,
                  "bathfull": 3,
                  "small_apt_buildings_pct": 0.8025680000000001,
                  "standardized_test_score_percentile": 81.59698,
                  "MULTI_FAMILY": false,
                  "bedrooms": 4,
                  "list_date": "2017-07-20T00:00:00.000000",
                  "sale_date": "2017-08-21T00:00:00.000000",
                  "latitude": 39.61658,
                  "longitude": -104.73034,
                  "_deepnote_index_column": 27
                },
                {
                  "18-59": 0.6162874251496999,
                  "mean_household_income": 107073,
                  "built 1995 or later": 80.577849,
                  "OTHER": false,
                  "mobile_home_pct": 0,
                  "annual_births_per_resident": 0.0165269461077839,
                  "farm_score": 100,
                  "luxury_communities_score": 21.852379,
                  "CONDO": false,
                  "property_crime_rate": 11.972931,
                  "bathfull": 4,
                  "small_apt_buildings_pct": 0.8025680000000001,
                  "standardized_test_score_percentile": 81.59698,
                  "MULTI_FAMILY": false,
                  "bedrooms": 4,
                  "list_date": "2019-03-19T00:00:00.000000",
                  "sale_date": "2019-04-29T00:00:00.000000",
                  "latitude": 39.61181,
                  "longitude": -104.72354,
                  "_deepnote_index_column": 28
                }
              ],
              "rows_bottom": [
                {
                  "18-59": 0.4732510288065839,
                  "mean_household_income": 111627,
                  "built 1995 or later": 8.242613,
                  "OTHER": false,
                  "mobile_home_pct": 0.777605,
                  "annual_births_per_resident": 0,
                  "farm_score": 0,
                  "luxury_communities_score": 22.310877,
                  "CONDO": false,
                  "property_crime_rate": 14.369693,
                  "bathfull": 4,
                  "small_apt_buildings_pct": 0,
                  "standardized_test_score_percentile": 63.850312,
                  "MULTI_FAMILY": false,
                  "bedrooms": 5,
                  "list_date": "2018-07-30T00:00:00.000000",
                  "sale_date": "2100-01-01T00:00:00.000000",
                  "latitude": 40.20468,
                  "longitude": -105.08487,
                  "_deepnote_index_column": 277523
                },
                {
                  "18-59": 0.548398328690808,
                  "mean_household_income": 81008,
                  "built 1995 or later": 4.327808,
                  "OTHER": false,
                  "mobile_home_pct": 0.5524859999999999,
                  "annual_births_per_resident": 0.008008356545961,
                  "farm_score": 0,
                  "luxury_communities_score": 64.866049,
                  "CONDO": false,
                  "property_crime_rate": 9.333333,
                  "bathfull": 2,
                  "small_apt_buildings_pct": 5.432780999999999,
                  "standardized_test_score_percentile": 30.320076,
                  "MULTI_FAMILY": false,
                  "bedrooms": 4,
                  "list_date": "2016-08-12T00:00:00.000000",
                  "sale_date": "2016-09-28T00:00:00.000000",
                  "latitude": 40.07651,
                  "longitude": -104.86238,
                  "_deepnote_index_column": 277524
                },
                {
                  "18-59": 0.5121700377099759,
                  "mean_household_income": 172403,
                  "built 1995 or later": 30.855633,
                  "OTHER": false,
                  "mobile_home_pct": 0,
                  "annual_births_per_resident": 0,
                  "farm_score": 100,
                  "luxury_communities_score": 4.924034,
                  "CONDO": false,
                  "property_crime_rate": 5.435454,
                  "bathfull": 4,
                  "small_apt_buildings_pct": 0,
                  "standardized_test_score_percentile": 89.65673699999999,
                  "MULTI_FAMILY": false,
                  "bedrooms": 5,
                  "list_date": "2018-04-12T00:00:00.000000",
                  "sale_date": "2018-05-15T00:00:00.000000",
                  "latitude": 39.60841,
                  "longitude": -104.764,
                  "_deepnote_index_column": 277525
                },
                {
                  "18-59": 0.5677157844539821,
                  "mean_household_income": 135024,
                  "built 1995 or later": 40.048617,
                  "OTHER": false,
                  "mobile_home_pct": 1.428137,
                  "annual_births_per_resident": 0.003099666189795,
                  "farm_score": 100,
                  "luxury_communities_score": 9.114746,
                  "CONDO": false,
                  "property_crime_rate": 13.288135999999998,
                  "bathfull": 0,
                  "small_apt_buildings_pct": 5.074445,
                  "standardized_test_score_percentile": 84.19353100000001,
                  "MULTI_FAMILY": false,
                  "bedrooms": 8,
                  "list_date": "2019-01-04T00:00:00.000000",
                  "sale_date": "2100-01-01T00:00:00.000000",
                  "latitude": 39.75854,
                  "longitude": -105.22074,
                  "_deepnote_index_column": 277526
                },
                {
                  "18-59": 0.5677157844539821,
                  "mean_household_income": 135024,
                  "built 1995 or later": 40.048617,
                  "OTHER": false,
                  "mobile_home_pct": 1.428137,
                  "annual_births_per_resident": 0.003099666189795,
                  "farm_score": 100,
                  "luxury_communities_score": 9.114746,
                  "CONDO": false,
                  "property_crime_rate": 13.288135999999998,
                  "bathfull": 2,
                  "small_apt_buildings_pct": 5.074445,
                  "standardized_test_score_percentile": 84.19353100000001,
                  "MULTI_FAMILY": false,
                  "bedrooms": 6,
                  "list_date": "2020-09-23T00:00:00.000000",
                  "sale_date": "2100-01-01T00:00:00.000000",
                  "latitude": 39.76064,
                  "longitude": -105.22039,
                  "_deepnote_index_column": 277527
                },
                {
                  "18-59": 0.5677157844539821,
                  "mean_household_income": 135024,
                  "built 1995 or later": 40.048617,
                  "OTHER": false,
                  "mobile_home_pct": 1.428137,
                  "annual_births_per_resident": 0.003099666189795,
                  "farm_score": 100,
                  "luxury_communities_score": 9.114746,
                  "CONDO": false,
                  "property_crime_rate": 13.288135999999998,
                  "bathfull": 1,
                  "small_apt_buildings_pct": 5.074445,
                  "standardized_test_score_percentile": 84.19353100000001,
                  "MULTI_FAMILY": false,
                  "bedrooms": 1,
                  "list_date": "2017-12-08T00:00:00.000000",
                  "sale_date": "2018-02-14T00:00:00.000000",
                  "latitude": 39.7599,
                  "longitude": -105.22092,
                  "_deepnote_index_column": 277528
                },
                {
                  "18-59": 0.5677157844539821,
                  "mean_household_income": 135024,
                  "built 1995 or later": 40.048617,
                  "OTHER": false,
                  "mobile_home_pct": 1.428137,
                  "annual_births_per_resident": 0.003099666189795,
                  "farm_score": 100,
                  "luxury_communities_score": 9.114746,
                  "CONDO": false,
                  "property_crime_rate": 13.288135999999998,
                  "bathfull": 5,
                  "small_apt_buildings_pct": 5.074445,
                  "standardized_test_score_percentile": 84.19353100000001,
                  "MULTI_FAMILY": true,
                  "bedrooms": 12,
                  "list_date": "2020-09-02T00:00:00.000000",
                  "sale_date": "2020-10-13T00:00:00.000000",
                  "latitude": 39.759240000000005,
                  "longitude": -105.21957,
                  "_deepnote_index_column": 277529
                },
                {
                  "18-59": 0.5677157844539821,
                  "mean_household_income": 135024,
                  "built 1995 or later": 40.048617,
                  "OTHER": false,
                  "mobile_home_pct": 1.428137,
                  "annual_births_per_resident": 0.003099666189795,
                  "farm_score": 100,
                  "luxury_communities_score": 9.114746,
                  "CONDO": false,
                  "property_crime_rate": 13.288135999999998,
                  "bathfull": 1,
                  "small_apt_buildings_pct": 5.074445,
                  "standardized_test_score_percentile": 84.19353100000001,
                  "MULTI_FAMILY": false,
                  "bedrooms": 2,
                  "list_date": "2017-07-28T00:00:00.000000",
                  "sale_date": "2100-01-01T00:00:00.000000",
                  "latitude": 39.76141,
                  "longitude": -105.21768,
                  "_deepnote_index_column": 277530
                },
                {
                  "18-59": 0.5677157844539821,
                  "mean_household_income": 135024,
                  "built 1995 or later": 40.048617,
                  "OTHER": false,
                  "mobile_home_pct": 1.428137,
                  "annual_births_per_resident": 0.003099666189795,
                  "farm_score": 100,
                  "luxury_communities_score": 9.114746,
                  "CONDO": true,
                  "property_crime_rate": 13.288135999999998,
                  "bathfull": 2,
                  "small_apt_buildings_pct": 5.074445,
                  "standardized_test_score_percentile": 84.19353100000001,
                  "MULTI_FAMILY": false,
                  "bedrooms": 1,
                  "list_date": "2016-05-26T00:00:00.000000",
                  "sale_date": "2016-07-29T00:00:00.000000",
                  "latitude": 39.75495,
                  "longitude": -105.22056,
                  "_deepnote_index_column": 277531
                },
                {
                  "18-59": 0.5677157844539821,
                  "mean_household_income": 135024,
                  "built 1995 or later": 40.048617,
                  "OTHER": false,
                  "mobile_home_pct": 1.428137,
                  "annual_births_per_resident": 0.003099666189795,
                  "farm_score": 100,
                  "luxury_communities_score": 9.114746,
                  "CONDO": false,
                  "property_crime_rate": 13.288135999999998,
                  "bathfull": 2,
                  "small_apt_buildings_pct": 5.074445,
                  "standardized_test_score_percentile": 84.19353100000001,
                  "MULTI_FAMILY": false,
                  "bedrooms": 4,
                  "list_date": "2017-08-04T00:00:00.000000",
                  "sale_date": "2017-08-22T00:00:00.000000",
                  "latitude": 39.79536,
                  "longitude": -105.18795,
                  "_deepnote_index_column": 277533
                },
                {
                  "18-59": 0.502336448598131,
                  "mean_household_income": 49108,
                  "built 1995 or later": 22.932651,
                  "OTHER": false,
                  "mobile_home_pct": 70.247229,
                  "annual_births_per_resident": 0.0116822429906539,
                  "farm_score": 100,
                  "luxury_communities_score": 89.76438399999999,
                  "CONDO": false,
                  "property_crime_rate": 55.711423,
                  "bathfull": 1,
                  "small_apt_buildings_pct": 0,
                  "standardized_test_score_percentile": 21.295493,
                  "MULTI_FAMILY": false,
                  "bedrooms": 2,
                  "list_date": "2019-11-05T00:00:00.000000",
                  "sale_date": "2019-11-18T00:00:00.000000",
                  "latitude": 39.81152,
                  "longitude": -104.97266,
                  "_deepnote_index_column": 277534
                },
                {
                  "18-59": 0.502336448598131,
                  "mean_household_income": 49108,
                  "built 1995 or later": 22.932651,
                  "OTHER": false,
                  "mobile_home_pct": 70.247229,
                  "annual_births_per_resident": 0.0116822429906539,
                  "farm_score": 100,
                  "luxury_communities_score": 89.76438399999999,
                  "CONDO": false,
                  "property_crime_rate": 55.711423,
                  "bathfull": 1,
                  "small_apt_buildings_pct": 0,
                  "standardized_test_score_percentile": 21.295493,
                  "MULTI_FAMILY": false,
                  "bedrooms": 2,
                  "list_date": "2018-04-12T00:00:00.000000",
                  "sale_date": "2018-07-10T00:00:00.000000",
                  "latitude": 39.81196,
                  "longitude": -104.97307,
                  "_deepnote_index_column": 277535
                },
                {
                  "18-59": 0.502336448598131,
                  "mean_household_income": 49108,
                  "built 1995 or later": 22.932651,
                  "OTHER": false,
                  "mobile_home_pct": 70.247229,
                  "annual_births_per_resident": 0.0116822429906539,
                  "farm_score": 100,
                  "luxury_communities_score": 89.76438399999999,
                  "CONDO": false,
                  "property_crime_rate": 55.711423,
                  "bathfull": 1,
                  "small_apt_buildings_pct": 0,
                  "standardized_test_score_percentile": 21.295493,
                  "MULTI_FAMILY": false,
                  "bedrooms": 2,
                  "list_date": "2017-06-29T00:00:00.000000",
                  "sale_date": "2017-07-28T00:00:00.000000",
                  "latitude": 39.79353,
                  "longitude": -104.98597,
                  "_deepnote_index_column": 277536
                },
                {
                  "18-59": 0.502336448598131,
                  "mean_household_income": 49108,
                  "built 1995 or later": 22.932651,
                  "OTHER": false,
                  "mobile_home_pct": 70.247229,
                  "annual_births_per_resident": 0.0116822429906539,
                  "farm_score": 100,
                  "luxury_communities_score": 89.76438399999999,
                  "CONDO": false,
                  "property_crime_rate": 55.711423,
                  "bathfull": 1,
                  "small_apt_buildings_pct": 0,
                  "standardized_test_score_percentile": 21.295493,
                  "MULTI_FAMILY": false,
                  "bedrooms": 2,
                  "list_date": "2016-09-01T00:00:00.000000",
                  "sale_date": "2016-11-02T00:00:00.000000",
                  "latitude": 39.79741,
                  "longitude": -104.98075,
                  "_deepnote_index_column": 277537
                },
                {
                  "18-59": 0.502336448598131,
                  "mean_household_income": 49108,
                  "built 1995 or later": 22.932651,
                  "OTHER": false,
                  "mobile_home_pct": 70.247229,
                  "annual_births_per_resident": 0.0116822429906539,
                  "farm_score": 100,
                  "luxury_communities_score": 89.76438399999999,
                  "CONDO": false,
                  "property_crime_rate": 55.711423,
                  "bathfull": 1,
                  "small_apt_buildings_pct": 0,
                  "standardized_test_score_percentile": 21.295493,
                  "MULTI_FAMILY": true,
                  "bedrooms": 2,
                  "list_date": "2017-01-31T00:00:00.000000",
                  "sale_date": "2017-08-28T00:00:00.000000",
                  "latitude": 39.7981,
                  "longitude": -104.97968,
                  "_deepnote_index_column": 277538
                },
                {
                  "18-59": 0.5306812691254629,
                  "mean_household_income": 160223,
                  "built 1995 or later": 16.032064000000002,
                  "OTHER": false,
                  "mobile_home_pct": 0,
                  "annual_births_per_resident": 0.008052826542116,
                  "farm_score": 50,
                  "luxury_communities_score": 3.777015,
                  "CONDO": false,
                  "property_crime_rate": 12.848752,
                  "bathfull": 3,
                  "small_apt_buildings_pct": 2.60521,
                  "standardized_test_score_percentile": 85.551908,
                  "MULTI_FAMILY": false,
                  "bedrooms": 4,
                  "list_date": "2016-12-07T00:00:00.000000",
                  "sale_date": "2017-04-19T00:00:00.000000",
                  "latitude": 40.11232,
                  "longitude": -105.22475,
                  "_deepnote_index_column": 277539
                },
                {
                  "18-59": 0.598834128245893,
                  "mean_household_income": 127096,
                  "built 1995 or later": 12.979351,
                  "OTHER": false,
                  "mobile_home_pct": 0.589971,
                  "annual_births_per_resident": 0.006094329623741,
                  "farm_score": 100,
                  "luxury_communities_score": 26.076625,
                  "CONDO": false,
                  "property_crime_rate": 10.990621,
                  "bathfull": 14,
                  "small_apt_buildings_pct": 0,
                  "standardized_test_score_percentile": 62.619725,
                  "MULTI_FAMILY": false,
                  "bedrooms": 11,
                  "list_date": "2018-08-03T00:00:00.000000",
                  "sale_date": "2100-01-01T00:00:00.000000",
                  "latitude": 39.44076,
                  "longitude": -104.61577,
                  "_deepnote_index_column": 277540
                },
                {
                  "18-59": 0.603770321687997,
                  "mean_household_income": 101871,
                  "built 1995 or later": 6.896552000000001,
                  "OTHER": false,
                  "mobile_home_pct": 17.961915,
                  "annual_births_per_resident": 0.015219647180906,
                  "farm_score": 100,
                  "luxury_communities_score": 21.818164000000003,
                  "CONDO": false,
                  "property_crime_rate": 27.675277,
                  "bathfull": 1,
                  "small_apt_buildings_pct": 0,
                  "standardized_test_score_percentile": 85.900806,
                  "MULTI_FAMILY": false,
                  "bedrooms": 3,
                  "list_date": "2020-09-09T00:00:00.000000",
                  "sale_date": "2020-10-21T00:00:00.000000",
                  "latitude": 39.91932,
                  "longitude": -105.04609,
                  "_deepnote_index_column": 277541
                },
                {
                  "18-59": 0.785573770491803,
                  "mean_household_income": 61814,
                  "built 1995 or later": 86.148238,
                  "OTHER": true,
                  "mobile_home_pct": 6.439854,
                  "annual_births_per_resident": 0.00983606557377,
                  "farm_score": 100,
                  "luxury_communities_score": 28.282155,
                  "CONDO": false,
                  "property_crime_rate": 56.206089,
                  "bathfull": 2,
                  "small_apt_buildings_pct": 0,
                  "standardized_test_score_percentile": 12.581497,
                  "MULTI_FAMILY": false,
                  "bedrooms": 3,
                  "list_date": "2018-04-24T00:00:00.000000",
                  "sale_date": "2100-01-01T00:00:00.000000",
                  "latitude": 39.74417,
                  "longitude": -104.82657,
                  "_deepnote_index_column": 277542
                },
                {
                  "18-59": 0.576850984067479,
                  "mean_household_income": 55974,
                  "built 1995 or later": 33.745875,
                  "OTHER": false,
                  "mobile_home_pct": 72.689769,
                  "annual_births_per_resident": 0.0084348641049669,
                  "farm_score": 50,
                  "luxury_communities_score": 83.66010899999999,
                  "CONDO": false,
                  "property_crime_rate": 30.618140000000004,
                  "bathfull": 3,
                  "small_apt_buildings_pct": 0,
                  "standardized_test_score_percentile": 16.884992999999998,
                  "MULTI_FAMILY": false,
                  "bedrooms": 3,
                  "list_date": "2017-06-29T00:00:00.000000",
                  "sale_date": "2017-08-30T00:00:00.000000",
                  "latitude": 39.86006,
                  "longitude": -104.92934,
                  "_deepnote_index_column": 277543
                },
                {
                  "18-59": 0.623831267666884,
                  "mean_household_income": 108207,
                  "built 1995 or later": 3.015682,
                  "OTHER": false,
                  "mobile_home_pct": 0.422195,
                  "annual_births_per_resident": 0.016525331593825,
                  "farm_score": 100,
                  "luxury_communities_score": 16.93072,
                  "CONDO": true,
                  "property_crime_rate": 19.415404,
                  "bathfull": 2,
                  "small_apt_buildings_pct": 0,
                  "standardized_test_score_percentile": 81.854093,
                  "MULTI_FAMILY": false,
                  "bedrooms": 2,
                  "list_date": "2017-04-13T00:00:00.000000",
                  "sale_date": "2017-06-07T00:00:00.000000",
                  "latitude": 39.90318,
                  "longitude": -105.05226,
                  "_deepnote_index_column": 277544
                },
                {
                  "18-59": 0.623831267666884,
                  "mean_household_income": 108207,
                  "built 1995 or later": 3.015682,
                  "OTHER": false,
                  "mobile_home_pct": 0.422195,
                  "annual_births_per_resident": 0.016525331593825,
                  "farm_score": 100,
                  "luxury_communities_score": 16.93072,
                  "CONDO": true,
                  "property_crime_rate": 19.415404,
                  "bathfull": 2,
                  "small_apt_buildings_pct": 0,
                  "standardized_test_score_percentile": 81.854093,
                  "MULTI_FAMILY": false,
                  "bedrooms": 2,
                  "list_date": "2018-05-18T00:00:00.000000",
                  "sale_date": "2018-06-28T00:00:00.000000",
                  "latitude": 39.90318,
                  "longitude": -105.05226,
                  "_deepnote_index_column": 277545
                },
                {
                  "18-59": 0.541231544832553,
                  "mean_household_income": 78117,
                  "built 1995 or later": 22.450889,
                  "OTHER": false,
                  "mobile_home_pct": 8.840036999999999,
                  "annual_births_per_resident": 0.0189052934821749,
                  "farm_score": 0,
                  "luxury_communities_score": 50.545896,
                  "CONDO": false,
                  "property_crime_rate": 0,
                  "bathfull": 1,
                  "small_apt_buildings_pct": 5.05145,
                  "standardized_test_score_percentile": 42.274687,
                  "MULTI_FAMILY": false,
                  "bedrooms": 3,
                  "list_date": "2020-09-08T00:00:00.000000",
                  "sale_date": "2100-01-01T00:00:00.000000",
                  "latitude": 40.586940000000006,
                  "longitude": -104.74366,
                  "_deepnote_index_column": 277548
                },
                {
                  "18-59": 0.519822921790457,
                  "mean_household_income": 118127,
                  "built 1995 or later": 40.666667,
                  "OTHER": false,
                  "mobile_home_pct": 9.638889,
                  "annual_births_per_resident": 0.008755533694048,
                  "farm_score": 0,
                  "luxury_communities_score": 26.12922,
                  "CONDO": false,
                  "property_crime_rate": 8.233058999999999,
                  "bathfull": 4,
                  "small_apt_buildings_pct": 0.527778,
                  "standardized_test_score_percentile": 74.07271,
                  "MULTI_FAMILY": false,
                  "bedrooms": 4,
                  "list_date": "2017-05-31T00:00:00.000000",
                  "sale_date": "2100-01-01T00:00:00.000000",
                  "latitude": 40.19702,
                  "longitude": -105.02302,
                  "_deepnote_index_column": 277549
                },
                {
                  "18-59": 0.51136699143785,
                  "mean_household_income": 112043,
                  "built 1995 or later": 27.410359000000003,
                  "OTHER": false,
                  "mobile_home_pct": 2.788845,
                  "annual_births_per_resident": 0.009152642456451,
                  "farm_score": 100,
                  "luxury_communities_score": 25.255845,
                  "CONDO": false,
                  "property_crime_rate": 11.689526,
                  "bathfull": 1,
                  "small_apt_buildings_pct": 0.8764940000000001,
                  "standardized_test_score_percentile": 60.597145,
                  "MULTI_FAMILY": false,
                  "bedrooms": 4,
                  "list_date": "2017-06-02T00:00:00.000000",
                  "sale_date": "2100-01-01T00:00:00.000000",
                  "latitude": 39.332,
                  "longitude": -104.66001,
                  "_deepnote_index_column": 277550
                },
                {
                  "18-59": 0.51136699143785,
                  "mean_household_income": 112043,
                  "built 1995 or later": 27.410359000000003,
                  "OTHER": false,
                  "mobile_home_pct": 2.788845,
                  "annual_births_per_resident": 0.009152642456451,
                  "farm_score": 100,
                  "luxury_communities_score": 25.255845,
                  "CONDO": false,
                  "property_crime_rate": 11.689526,
                  "bathfull": 1,
                  "small_apt_buildings_pct": 0.8764940000000001,
                  "standardized_test_score_percentile": 60.597145,
                  "MULTI_FAMILY": false,
                  "bedrooms": 4,
                  "list_date": "2019-05-30T00:00:00.000000",
                  "sale_date": "2020-08-31T00:00:00.000000",
                  "latitude": 39.332,
                  "longitude": -104.66001,
                  "_deepnote_index_column": 277551
                }
              ]
            },
            "text/plain": "           18-59  mean_household_income  built 1995 or later  OTHER  \\\n0       0.616287                 107073            80.577849  False   \n1       0.616287                 107073            80.577849  False   \n4       0.616287                 107073            80.577849  False   \n5       0.616287                 107073            80.577849  False   \n6       0.616287                 107073            80.577849  False   \n...          ...                    ...                  ...    ...   \n277545  0.623831                 108207             3.015682  False   \n277548  0.541232                  78117            22.450889  False   \n277549  0.519823                 118127            40.666667  False   \n277550  0.511367                 112043            27.410359  False   \n277551  0.511367                 112043            27.410359  False   \n\n        mobile_home_pct  annual_births_per_resident  farm_score  \\\n0              0.000000                    0.016527         100   \n1              0.000000                    0.016527         100   \n4              0.000000                    0.016527         100   \n5              0.000000                    0.016527         100   \n6              0.000000                    0.016527         100   \n...                 ...                         ...         ...   \n277545         0.422195                    0.016525         100   \n277548         8.840037                    0.018905           0   \n277549         9.638889                    0.008756           0   \n277550         2.788845                    0.009153         100   \n277551         2.788845                    0.009153         100   \n\n        luxury_communities_score  CONDO  property_crime_rate  bathfull  \\\n0                      21.852379  False            11.972931         3   \n1                      21.852379  False            11.972931         3   \n4                      21.852379  False            11.972931         2   \n5                      21.852379  False            11.972931         3   \n6                      21.852379  False            11.972931         4   \n...                          ...    ...                  ...       ...   \n277545                 16.930720   True            19.415404         2   \n277548                 50.545896  False             0.000000         1   \n277549                 26.129220  False             8.233059         4   \n277550                 25.255845  False            11.689526         1   \n277551                 25.255845  False            11.689526         1   \n\n        small_apt_buildings_pct  standardized_test_score_percentile  \\\n0                      0.802568                           81.596980   \n1                      0.802568                           81.596980   \n4                      0.802568                           81.596980   \n5                      0.802568                           81.596980   \n6                      0.802568                           81.596980   \n...                         ...                                 ...   \n277545                 0.000000                           81.854093   \n277548                 5.051450                           42.274687   \n277549                 0.527778                           74.072710   \n277550                 0.876494                           60.597145   \n277551                 0.876494                           60.597145   \n\n        MULTI_FAMILY  bedrooms  list_date  sale_date  latitude  longitude  \n0              False         4 2016-06-30 2016-08-12  39.61454 -104.72075  \n1              False         4 2019-04-26 2019-05-29  39.61454 -104.72075  \n4              False         5 2020-06-26 2020-08-10  39.61368 -104.72888  \n5              False         3 2017-04-21 2017-05-15  39.62276 -104.72723  \n6              False         4 2017-06-16 2017-07-14  39.62257 -104.72502  \n...              ...       ...        ...        ...       ...        ...  \n277545         False         2 2018-05-18 2018-06-28  39.90318 -105.05226  \n277548         False         3 2020-09-08 2100-01-01  40.58694 -104.74366  \n277549         False         4 2017-05-31 2100-01-01  40.19702 -105.02302  \n277550         False         4 2017-06-02 2100-01-01  39.33200 -104.66001  \n277551         False         4 2019-05-30 2020-08-31  39.33200 -104.66001  \n\n[218242 rows x 19 columns]",
            "text/html": "<div>\n<style scoped>\n    .dataframe tbody tr th:only-of-type {\n        vertical-align: middle;\n    }\n\n    .dataframe tbody tr th {\n        vertical-align: top;\n    }\n\n    .dataframe thead th {\n        text-align: right;\n    }\n</style>\n<table border=\"1\" class=\"dataframe\">\n  <thead>\n    <tr style=\"text-align: right;\">\n      <th></th>\n      <th>18-59</th>\n      <th>mean_household_income</th>\n      <th>built 1995 or later</th>\n      <th>OTHER</th>\n      <th>mobile_home_pct</th>\n      <th>annual_births_per_resident</th>\n      <th>farm_score</th>\n      <th>luxury_communities_score</th>\n      <th>CONDO</th>\n      <th>property_crime_rate</th>\n      <th>bathfull</th>\n      <th>small_apt_buildings_pct</th>\n      <th>standardized_test_score_percentile</th>\n      <th>MULTI_FAMILY</th>\n      <th>bedrooms</th>\n      <th>list_date</th>\n      <th>sale_date</th>\n      <th>latitude</th>\n      <th>longitude</th>\n    </tr>\n  </thead>\n  <tbody>\n    <tr>\n      <th>0</th>\n      <td>0.616287</td>\n      <td>107073</td>\n      <td>80.577849</td>\n      <td>False</td>\n      <td>0.000000</td>\n      <td>0.016527</td>\n      <td>100</td>\n      <td>21.852379</td>\n      <td>False</td>\n      <td>11.972931</td>\n      <td>3</td>\n      <td>0.802568</td>\n      <td>81.596980</td>\n      <td>False</td>\n      <td>4</td>\n      <td>2016-06-30</td>\n      <td>2016-08-12</td>\n      <td>39.61454</td>\n      <td>-104.72075</td>\n    </tr>\n    <tr>\n      <th>1</th>\n      <td>0.616287</td>\n      <td>107073</td>\n      <td>80.577849</td>\n      <td>False</td>\n      <td>0.000000</td>\n      <td>0.016527</td>\n      <td>100</td>\n      <td>21.852379</td>\n      <td>False</td>\n      <td>11.972931</td>\n      <td>3</td>\n      <td>0.802568</td>\n      <td>81.596980</td>\n      <td>False</td>\n      <td>4</td>\n      <td>2019-04-26</td>\n      <td>2019-05-29</td>\n      <td>39.61454</td>\n      <td>-104.72075</td>\n    </tr>\n    <tr>\n      <th>4</th>\n      <td>0.616287</td>\n      <td>107073</td>\n      <td>80.577849</td>\n      <td>False</td>\n      <td>0.000000</td>\n      <td>0.016527</td>\n      <td>100</td>\n      <td>21.852379</td>\n      <td>False</td>\n      <td>11.972931</td>\n      <td>2</td>\n      <td>0.802568</td>\n      <td>81.596980</td>\n      <td>False</td>\n      <td>5</td>\n      <td>2020-06-26</td>\n      <td>2020-08-10</td>\n      <td>39.61368</td>\n      <td>-104.72888</td>\n    </tr>\n    <tr>\n      <th>5</th>\n      <td>0.616287</td>\n      <td>107073</td>\n      <td>80.577849</td>\n      <td>False</td>\n      <td>0.000000</td>\n      <td>0.016527</td>\n      <td>100</td>\n      <td>21.852379</td>\n      <td>False</td>\n      <td>11.972931</td>\n      <td>3</td>\n      <td>0.802568</td>\n      <td>81.596980</td>\n      <td>False</td>\n      <td>3</td>\n      <td>2017-04-21</td>\n      <td>2017-05-15</td>\n      <td>39.62276</td>\n      <td>-104.72723</td>\n    </tr>\n    <tr>\n      <th>6</th>\n      <td>0.616287</td>\n      <td>107073</td>\n      <td>80.577849</td>\n      <td>False</td>\n      <td>0.000000</td>\n      <td>0.016527</td>\n      <td>100</td>\n      <td>21.852379</td>\n      <td>False</td>\n      <td>11.972931</td>\n      <td>4</td>\n      <td>0.802568</td>\n      <td>81.596980</td>\n      <td>False</td>\n      <td>4</td>\n      <td>2017-06-16</td>\n      <td>2017-07-14</td>\n      <td>39.62257</td>\n      <td>-104.72502</td>\n    </tr>\n    <tr>\n      <th>...</th>\n      <td>...</td>\n      <td>...</td>\n      <td>...</td>\n      <td>...</td>\n      <td>...</td>\n      <td>...</td>\n      <td>...</td>\n      <td>...</td>\n      <td>...</td>\n      <td>...</td>\n      <td>...</td>\n      <td>...</td>\n      <td>...</td>\n      <td>...</td>\n      <td>...</td>\n      <td>...</td>\n      <td>...</td>\n      <td>...</td>\n      <td>...</td>\n    </tr>\n    <tr>\n      <th>277545</th>\n      <td>0.623831</td>\n      <td>108207</td>\n      <td>3.015682</td>\n      <td>False</td>\n      <td>0.422195</td>\n      <td>0.016525</td>\n      <td>100</td>\n      <td>16.930720</td>\n      <td>True</td>\n      <td>19.415404</td>\n      <td>2</td>\n      <td>0.000000</td>\n      <td>81.854093</td>\n      <td>False</td>\n      <td>2</td>\n      <td>2018-05-18</td>\n      <td>2018-06-28</td>\n      <td>39.90318</td>\n      <td>-105.05226</td>\n    </tr>\n    <tr>\n      <th>277548</th>\n      <td>0.541232</td>\n      <td>78117</td>\n      <td>22.450889</td>\n      <td>False</td>\n      <td>8.840037</td>\n      <td>0.018905</td>\n      <td>0</td>\n      <td>50.545896</td>\n      <td>False</td>\n      <td>0.000000</td>\n      <td>1</td>\n      <td>5.051450</td>\n      <td>42.274687</td>\n      <td>False</td>\n      <td>3</td>\n      <td>2020-09-08</td>\n      <td>2100-01-01</td>\n      <td>40.58694</td>\n      <td>-104.74366</td>\n    </tr>\n    <tr>\n      <th>277549</th>\n      <td>0.519823</td>\n      <td>118127</td>\n      <td>40.666667</td>\n      <td>False</td>\n      <td>9.638889</td>\n      <td>0.008756</td>\n      <td>0</td>\n      <td>26.129220</td>\n      <td>False</td>\n      <td>8.233059</td>\n      <td>4</td>\n      <td>0.527778</td>\n      <td>74.072710</td>\n      <td>False</td>\n      <td>4</td>\n      <td>2017-05-31</td>\n      <td>2100-01-01</td>\n      <td>40.19702</td>\n      <td>-105.02302</td>\n    </tr>\n    <tr>\n      <th>277550</th>\n      <td>0.511367</td>\n      <td>112043</td>\n      <td>27.410359</td>\n      <td>False</td>\n      <td>2.788845</td>\n      <td>0.009153</td>\n      <td>100</td>\n      <td>25.255845</td>\n      <td>False</td>\n      <td>11.689526</td>\n      <td>1</td>\n      <td>0.876494</td>\n      <td>60.597145</td>\n      <td>False</td>\n      <td>4</td>\n      <td>2017-06-02</td>\n      <td>2100-01-01</td>\n      <td>39.33200</td>\n      <td>-104.66001</td>\n    </tr>\n    <tr>\n      <th>277551</th>\n      <td>0.511367</td>\n      <td>112043</td>\n      <td>27.410359</td>\n      <td>False</td>\n      <td>2.788845</td>\n      <td>0.009153</td>\n      <td>100</td>\n      <td>25.255845</td>\n      <td>False</td>\n      <td>11.689526</td>\n      <td>1</td>\n      <td>0.876494</td>\n      <td>60.597145</td>\n      <td>False</td>\n      <td>4</td>\n      <td>2019-05-30</td>\n      <td>2020-08-31</td>\n      <td>39.33200</td>\n      <td>-104.66001</td>\n    </tr>\n  </tbody>\n</table>\n<p>218242 rows × 19 columns</p>\n</div>"
          },
          "metadata": {}
        }
      ],
      "execution_count": 56
    },
    {
      "cell_type": "code",
      "metadata": {
        "cell_id": "00003-40e1252a-897a-44a3-a62a-dbfec7a10b08",
        "deepnote_to_be_reexecuted": false,
        "source_hash": "f69461a5",
        "execution_millis": 24,
        "execution_start": 1619478267891,
        "deepnote_cell_type": "code"
      },
      "source": "res = gen_dataset(df, '2019-04-01', 90)",
      "execution_count": 57,
      "outputs": [
        {
          "name": "stdout",
          "text": "{'bool': ['OTHER', 'CONDO', 'MULTI_FAMILY'], 'int64': ['mean_household_income', 'farm_score', 'bathfull', 'bedrooms'], 'float64': ['18-59', 'built 1995 or later', 'mobile_home_pct', 'annual_births_per_resident', 'luxury_communities_score', 'property_crime_rate', 'small_apt_buildings_pct', 'standardized_test_score_percentile', 'latitude', 'longitude'], 'datetime64[ns]': ['list_date', 'sale_date']}\n",
          "output_type": "stream"
        }
      ]
    },
    {
      "cell_type": "code",
      "metadata": {
        "cell_id": "00004-2c939436-3993-481b-8cd2-0b53fe871e61",
        "deepnote_to_be_reexecuted": false,
        "source_hash": "ad026021",
        "execution_millis": 2,
        "execution_start": 1619478269245,
        "deepnote_cell_type": "code"
      },
      "source": "X = res['X']\ny = res['y'].flatten()",
      "execution_count": 58,
      "outputs": []
    },
    {
      "cell_type": "code",
      "metadata": {
        "tags": [],
        "cell_id": "00005-6be94957-2834-49dc-962f-81c4f2bb3305",
        "deepnote_to_be_reexecuted": false,
        "source_hash": "49709ca1",
        "execution_millis": 3,
        "execution_start": 1619478270778,
        "deepnote_cell_type": "code"
      },
      "source": "X[res['bool']] = X[res['bool']] * 1",
      "execution_count": 59,
      "outputs": []
    },
    {
      "cell_type": "code",
      "source": "X[X.isna().any(axis=1)]",
      "metadata": {
        "tags": [],
        "cell_id": "00011-f149c88c-9682-452b-a39b-2b7328e51bff",
        "deepnote_to_be_reexecuted": false,
        "source_hash": "7562059",
        "execution_millis": 55,
        "execution_start": 1619478272601,
        "deepnote_cell_type": "code"
      },
      "outputs": [
        {
          "output_type": "execute_result",
          "execution_count": 60,
          "data": {
            "application/vnd.deepnote.dataframe.v2+json": {
              "row_count": 0,
              "column_count": 17,
              "columns": [
                {
                  "name": "18-59",
                  "dtype": "float64",
                  "stats": {
                    "unique_count": 0,
                    "nan_count": 0,
                    "min": null,
                    "max": null,
                    "histogram": [
                      {
                        "bin_start": 0,
                        "bin_end": 0.1,
                        "count": 0
                      },
                      {
                        "bin_start": 0.1,
                        "bin_end": 0.2,
                        "count": 0
                      },
                      {
                        "bin_start": 0.2,
                        "bin_end": 0.30000000000000004,
                        "count": 0
                      },
                      {
                        "bin_start": 0.30000000000000004,
                        "bin_end": 0.4,
                        "count": 0
                      },
                      {
                        "bin_start": 0.4,
                        "bin_end": 0.5,
                        "count": 0
                      },
                      {
                        "bin_start": 0.5,
                        "bin_end": 0.6000000000000001,
                        "count": 0
                      },
                      {
                        "bin_start": 0.6000000000000001,
                        "bin_end": 0.7000000000000001,
                        "count": 0
                      },
                      {
                        "bin_start": 0.7000000000000001,
                        "bin_end": 0.8,
                        "count": 0
                      },
                      {
                        "bin_start": 0.8,
                        "bin_end": 0.9,
                        "count": 0
                      },
                      {
                        "bin_start": 0.9,
                        "bin_end": 1,
                        "count": 0
                      }
                    ]
                  }
                },
                {
                  "name": "built 1995 or later",
                  "dtype": "float64",
                  "stats": {
                    "unique_count": 0,
                    "nan_count": 0,
                    "min": null,
                    "max": null,
                    "histogram": [
                      {
                        "bin_start": 0,
                        "bin_end": 0.1,
                        "count": 0
                      },
                      {
                        "bin_start": 0.1,
                        "bin_end": 0.2,
                        "count": 0
                      },
                      {
                        "bin_start": 0.2,
                        "bin_end": 0.30000000000000004,
                        "count": 0
                      },
                      {
                        "bin_start": 0.30000000000000004,
                        "bin_end": 0.4,
                        "count": 0
                      },
                      {
                        "bin_start": 0.4,
                        "bin_end": 0.5,
                        "count": 0
                      },
                      {
                        "bin_start": 0.5,
                        "bin_end": 0.6000000000000001,
                        "count": 0
                      },
                      {
                        "bin_start": 0.6000000000000001,
                        "bin_end": 0.7000000000000001,
                        "count": 0
                      },
                      {
                        "bin_start": 0.7000000000000001,
                        "bin_end": 0.8,
                        "count": 0
                      },
                      {
                        "bin_start": 0.8,
                        "bin_end": 0.9,
                        "count": 0
                      },
                      {
                        "bin_start": 0.9,
                        "bin_end": 1,
                        "count": 0
                      }
                    ]
                  }
                },
                {
                  "name": "mobile_home_pct",
                  "dtype": "float64",
                  "stats": {
                    "unique_count": 0,
                    "nan_count": 0,
                    "min": null,
                    "max": null,
                    "histogram": [
                      {
                        "bin_start": 0,
                        "bin_end": 0.1,
                        "count": 0
                      },
                      {
                        "bin_start": 0.1,
                        "bin_end": 0.2,
                        "count": 0
                      },
                      {
                        "bin_start": 0.2,
                        "bin_end": 0.30000000000000004,
                        "count": 0
                      },
                      {
                        "bin_start": 0.30000000000000004,
                        "bin_end": 0.4,
                        "count": 0
                      },
                      {
                        "bin_start": 0.4,
                        "bin_end": 0.5,
                        "count": 0
                      },
                      {
                        "bin_start": 0.5,
                        "bin_end": 0.6000000000000001,
                        "count": 0
                      },
                      {
                        "bin_start": 0.6000000000000001,
                        "bin_end": 0.7000000000000001,
                        "count": 0
                      },
                      {
                        "bin_start": 0.7000000000000001,
                        "bin_end": 0.8,
                        "count": 0
                      },
                      {
                        "bin_start": 0.8,
                        "bin_end": 0.9,
                        "count": 0
                      },
                      {
                        "bin_start": 0.9,
                        "bin_end": 1,
                        "count": 0
                      }
                    ]
                  }
                },
                {
                  "name": "annual_births_per_resident",
                  "dtype": "float64",
                  "stats": {
                    "unique_count": 0,
                    "nan_count": 0,
                    "min": null,
                    "max": null,
                    "histogram": [
                      {
                        "bin_start": 0,
                        "bin_end": 0.1,
                        "count": 0
                      },
                      {
                        "bin_start": 0.1,
                        "bin_end": 0.2,
                        "count": 0
                      },
                      {
                        "bin_start": 0.2,
                        "bin_end": 0.30000000000000004,
                        "count": 0
                      },
                      {
                        "bin_start": 0.30000000000000004,
                        "bin_end": 0.4,
                        "count": 0
                      },
                      {
                        "bin_start": 0.4,
                        "bin_end": 0.5,
                        "count": 0
                      },
                      {
                        "bin_start": 0.5,
                        "bin_end": 0.6000000000000001,
                        "count": 0
                      },
                      {
                        "bin_start": 0.6000000000000001,
                        "bin_end": 0.7000000000000001,
                        "count": 0
                      },
                      {
                        "bin_start": 0.7000000000000001,
                        "bin_end": 0.8,
                        "count": 0
                      },
                      {
                        "bin_start": 0.8,
                        "bin_end": 0.9,
                        "count": 0
                      },
                      {
                        "bin_start": 0.9,
                        "bin_end": 1,
                        "count": 0
                      }
                    ]
                  }
                },
                {
                  "name": "luxury_communities_score",
                  "dtype": "float64",
                  "stats": {
                    "unique_count": 0,
                    "nan_count": 0,
                    "min": null,
                    "max": null,
                    "histogram": [
                      {
                        "bin_start": 0,
                        "bin_end": 0.1,
                        "count": 0
                      },
                      {
                        "bin_start": 0.1,
                        "bin_end": 0.2,
                        "count": 0
                      },
                      {
                        "bin_start": 0.2,
                        "bin_end": 0.30000000000000004,
                        "count": 0
                      },
                      {
                        "bin_start": 0.30000000000000004,
                        "bin_end": 0.4,
                        "count": 0
                      },
                      {
                        "bin_start": 0.4,
                        "bin_end": 0.5,
                        "count": 0
                      },
                      {
                        "bin_start": 0.5,
                        "bin_end": 0.6000000000000001,
                        "count": 0
                      },
                      {
                        "bin_start": 0.6000000000000001,
                        "bin_end": 0.7000000000000001,
                        "count": 0
                      },
                      {
                        "bin_start": 0.7000000000000001,
                        "bin_end": 0.8,
                        "count": 0
                      },
                      {
                        "bin_start": 0.8,
                        "bin_end": 0.9,
                        "count": 0
                      },
                      {
                        "bin_start": 0.9,
                        "bin_end": 1,
                        "count": 0
                      }
                    ]
                  }
                },
                {
                  "name": "property_crime_rate",
                  "dtype": "float64",
                  "stats": {
                    "unique_count": 0,
                    "nan_count": 0,
                    "min": null,
                    "max": null,
                    "histogram": [
                      {
                        "bin_start": 0,
                        "bin_end": 0.1,
                        "count": 0
                      },
                      {
                        "bin_start": 0.1,
                        "bin_end": 0.2,
                        "count": 0
                      },
                      {
                        "bin_start": 0.2,
                        "bin_end": 0.30000000000000004,
                        "count": 0
                      },
                      {
                        "bin_start": 0.30000000000000004,
                        "bin_end": 0.4,
                        "count": 0
                      },
                      {
                        "bin_start": 0.4,
                        "bin_end": 0.5,
                        "count": 0
                      },
                      {
                        "bin_start": 0.5,
                        "bin_end": 0.6000000000000001,
                        "count": 0
                      },
                      {
                        "bin_start": 0.6000000000000001,
                        "bin_end": 0.7000000000000001,
                        "count": 0
                      },
                      {
                        "bin_start": 0.7000000000000001,
                        "bin_end": 0.8,
                        "count": 0
                      },
                      {
                        "bin_start": 0.8,
                        "bin_end": 0.9,
                        "count": 0
                      },
                      {
                        "bin_start": 0.9,
                        "bin_end": 1,
                        "count": 0
                      }
                    ]
                  }
                },
                {
                  "name": "small_apt_buildings_pct",
                  "dtype": "float64",
                  "stats": {
                    "unique_count": 0,
                    "nan_count": 0,
                    "min": null,
                    "max": null,
                    "histogram": [
                      {
                        "bin_start": 0,
                        "bin_end": 0.1,
                        "count": 0
                      },
                      {
                        "bin_start": 0.1,
                        "bin_end": 0.2,
                        "count": 0
                      },
                      {
                        "bin_start": 0.2,
                        "bin_end": 0.30000000000000004,
                        "count": 0
                      },
                      {
                        "bin_start": 0.30000000000000004,
                        "bin_end": 0.4,
                        "count": 0
                      },
                      {
                        "bin_start": 0.4,
                        "bin_end": 0.5,
                        "count": 0
                      },
                      {
                        "bin_start": 0.5,
                        "bin_end": 0.6000000000000001,
                        "count": 0
                      },
                      {
                        "bin_start": 0.6000000000000001,
                        "bin_end": 0.7000000000000001,
                        "count": 0
                      },
                      {
                        "bin_start": 0.7000000000000001,
                        "bin_end": 0.8,
                        "count": 0
                      },
                      {
                        "bin_start": 0.8,
                        "bin_end": 0.9,
                        "count": 0
                      },
                      {
                        "bin_start": 0.9,
                        "bin_end": 1,
                        "count": 0
                      }
                    ]
                  }
                },
                {
                  "name": "standardized_test_score_percentile",
                  "dtype": "float64",
                  "stats": {
                    "unique_count": 0,
                    "nan_count": 0,
                    "min": null,
                    "max": null,
                    "histogram": [
                      {
                        "bin_start": 0,
                        "bin_end": 0.1,
                        "count": 0
                      },
                      {
                        "bin_start": 0.1,
                        "bin_end": 0.2,
                        "count": 0
                      },
                      {
                        "bin_start": 0.2,
                        "bin_end": 0.30000000000000004,
                        "count": 0
                      },
                      {
                        "bin_start": 0.30000000000000004,
                        "bin_end": 0.4,
                        "count": 0
                      },
                      {
                        "bin_start": 0.4,
                        "bin_end": 0.5,
                        "count": 0
                      },
                      {
                        "bin_start": 0.5,
                        "bin_end": 0.6000000000000001,
                        "count": 0
                      },
                      {
                        "bin_start": 0.6000000000000001,
                        "bin_end": 0.7000000000000001,
                        "count": 0
                      },
                      {
                        "bin_start": 0.7000000000000001,
                        "bin_end": 0.8,
                        "count": 0
                      },
                      {
                        "bin_start": 0.8,
                        "bin_end": 0.9,
                        "count": 0
                      },
                      {
                        "bin_start": 0.9,
                        "bin_end": 1,
                        "count": 0
                      }
                    ]
                  }
                },
                {
                  "name": "latitude",
                  "dtype": "float64",
                  "stats": {
                    "unique_count": 0,
                    "nan_count": 0,
                    "min": null,
                    "max": null,
                    "histogram": [
                      {
                        "bin_start": 0,
                        "bin_end": 0.1,
                        "count": 0
                      },
                      {
                        "bin_start": 0.1,
                        "bin_end": 0.2,
                        "count": 0
                      },
                      {
                        "bin_start": 0.2,
                        "bin_end": 0.30000000000000004,
                        "count": 0
                      },
                      {
                        "bin_start": 0.30000000000000004,
                        "bin_end": 0.4,
                        "count": 0
                      },
                      {
                        "bin_start": 0.4,
                        "bin_end": 0.5,
                        "count": 0
                      },
                      {
                        "bin_start": 0.5,
                        "bin_end": 0.6000000000000001,
                        "count": 0
                      },
                      {
                        "bin_start": 0.6000000000000001,
                        "bin_end": 0.7000000000000001,
                        "count": 0
                      },
                      {
                        "bin_start": 0.7000000000000001,
                        "bin_end": 0.8,
                        "count": 0
                      },
                      {
                        "bin_start": 0.8,
                        "bin_end": 0.9,
                        "count": 0
                      },
                      {
                        "bin_start": 0.9,
                        "bin_end": 1,
                        "count": 0
                      }
                    ]
                  }
                },
                {
                  "name": "longitude",
                  "dtype": "float64",
                  "stats": {
                    "unique_count": 0,
                    "nan_count": 0,
                    "min": null,
                    "max": null,
                    "histogram": [
                      {
                        "bin_start": 0,
                        "bin_end": 0.1,
                        "count": 0
                      },
                      {
                        "bin_start": 0.1,
                        "bin_end": 0.2,
                        "count": 0
                      },
                      {
                        "bin_start": 0.2,
                        "bin_end": 0.30000000000000004,
                        "count": 0
                      },
                      {
                        "bin_start": 0.30000000000000004,
                        "bin_end": 0.4,
                        "count": 0
                      },
                      {
                        "bin_start": 0.4,
                        "bin_end": 0.5,
                        "count": 0
                      },
                      {
                        "bin_start": 0.5,
                        "bin_end": 0.6000000000000001,
                        "count": 0
                      },
                      {
                        "bin_start": 0.6000000000000001,
                        "bin_end": 0.7000000000000001,
                        "count": 0
                      },
                      {
                        "bin_start": 0.7000000000000001,
                        "bin_end": 0.8,
                        "count": 0
                      },
                      {
                        "bin_start": 0.8,
                        "bin_end": 0.9,
                        "count": 0
                      },
                      {
                        "bin_start": 0.9,
                        "bin_end": 1,
                        "count": 0
                      }
                    ]
                  }
                },
                {
                  "name": "OTHER",
                  "dtype": "int64",
                  "stats": {
                    "unique_count": 0,
                    "nan_count": 0,
                    "min": null,
                    "max": null,
                    "histogram": [
                      {
                        "bin_start": 0,
                        "bin_end": 0.1,
                        "count": 0
                      },
                      {
                        "bin_start": 0.1,
                        "bin_end": 0.2,
                        "count": 0
                      },
                      {
                        "bin_start": 0.2,
                        "bin_end": 0.30000000000000004,
                        "count": 0
                      },
                      {
                        "bin_start": 0.30000000000000004,
                        "bin_end": 0.4,
                        "count": 0
                      },
                      {
                        "bin_start": 0.4,
                        "bin_end": 0.5,
                        "count": 0
                      },
                      {
                        "bin_start": 0.5,
                        "bin_end": 0.6000000000000001,
                        "count": 0
                      },
                      {
                        "bin_start": 0.6000000000000001,
                        "bin_end": 0.7000000000000001,
                        "count": 0
                      },
                      {
                        "bin_start": 0.7000000000000001,
                        "bin_end": 0.8,
                        "count": 0
                      },
                      {
                        "bin_start": 0.8,
                        "bin_end": 0.9,
                        "count": 0
                      },
                      {
                        "bin_start": 0.9,
                        "bin_end": 1,
                        "count": 0
                      }
                    ]
                  }
                },
                {
                  "name": "CONDO",
                  "dtype": "int64",
                  "stats": {
                    "unique_count": 0,
                    "nan_count": 0,
                    "min": null,
                    "max": null,
                    "histogram": [
                      {
                        "bin_start": 0,
                        "bin_end": 0.1,
                        "count": 0
                      },
                      {
                        "bin_start": 0.1,
                        "bin_end": 0.2,
                        "count": 0
                      },
                      {
                        "bin_start": 0.2,
                        "bin_end": 0.30000000000000004,
                        "count": 0
                      },
                      {
                        "bin_start": 0.30000000000000004,
                        "bin_end": 0.4,
                        "count": 0
                      },
                      {
                        "bin_start": 0.4,
                        "bin_end": 0.5,
                        "count": 0
                      },
                      {
                        "bin_start": 0.5,
                        "bin_end": 0.6000000000000001,
                        "count": 0
                      },
                      {
                        "bin_start": 0.6000000000000001,
                        "bin_end": 0.7000000000000001,
                        "count": 0
                      },
                      {
                        "bin_start": 0.7000000000000001,
                        "bin_end": 0.8,
                        "count": 0
                      },
                      {
                        "bin_start": 0.8,
                        "bin_end": 0.9,
                        "count": 0
                      },
                      {
                        "bin_start": 0.9,
                        "bin_end": 1,
                        "count": 0
                      }
                    ]
                  }
                },
                {
                  "name": "MULTI_FAMILY",
                  "dtype": "int64",
                  "stats": {
                    "unique_count": 0,
                    "nan_count": 0,
                    "min": null,
                    "max": null,
                    "histogram": [
                      {
                        "bin_start": 0,
                        "bin_end": 0.1,
                        "count": 0
                      },
                      {
                        "bin_start": 0.1,
                        "bin_end": 0.2,
                        "count": 0
                      },
                      {
                        "bin_start": 0.2,
                        "bin_end": 0.30000000000000004,
                        "count": 0
                      },
                      {
                        "bin_start": 0.30000000000000004,
                        "bin_end": 0.4,
                        "count": 0
                      },
                      {
                        "bin_start": 0.4,
                        "bin_end": 0.5,
                        "count": 0
                      },
                      {
                        "bin_start": 0.5,
                        "bin_end": 0.6000000000000001,
                        "count": 0
                      },
                      {
                        "bin_start": 0.6000000000000001,
                        "bin_end": 0.7000000000000001,
                        "count": 0
                      },
                      {
                        "bin_start": 0.7000000000000001,
                        "bin_end": 0.8,
                        "count": 0
                      },
                      {
                        "bin_start": 0.8,
                        "bin_end": 0.9,
                        "count": 0
                      },
                      {
                        "bin_start": 0.9,
                        "bin_end": 1,
                        "count": 0
                      }
                    ]
                  }
                },
                {
                  "name": "mean_household_income",
                  "dtype": "int64",
                  "stats": {
                    "unique_count": 0,
                    "nan_count": 0,
                    "min": null,
                    "max": null,
                    "histogram": [
                      {
                        "bin_start": 0,
                        "bin_end": 0.1,
                        "count": 0
                      },
                      {
                        "bin_start": 0.1,
                        "bin_end": 0.2,
                        "count": 0
                      },
                      {
                        "bin_start": 0.2,
                        "bin_end": 0.30000000000000004,
                        "count": 0
                      },
                      {
                        "bin_start": 0.30000000000000004,
                        "bin_end": 0.4,
                        "count": 0
                      },
                      {
                        "bin_start": 0.4,
                        "bin_end": 0.5,
                        "count": 0
                      },
                      {
                        "bin_start": 0.5,
                        "bin_end": 0.6000000000000001,
                        "count": 0
                      },
                      {
                        "bin_start": 0.6000000000000001,
                        "bin_end": 0.7000000000000001,
                        "count": 0
                      },
                      {
                        "bin_start": 0.7000000000000001,
                        "bin_end": 0.8,
                        "count": 0
                      },
                      {
                        "bin_start": 0.8,
                        "bin_end": 0.9,
                        "count": 0
                      },
                      {
                        "bin_start": 0.9,
                        "bin_end": 1,
                        "count": 0
                      }
                    ]
                  }
                },
                {
                  "name": "farm_score",
                  "dtype": "int64",
                  "stats": {
                    "unique_count": 0,
                    "nan_count": 0,
                    "min": null,
                    "max": null,
                    "histogram": [
                      {
                        "bin_start": 0,
                        "bin_end": 0.1,
                        "count": 0
                      },
                      {
                        "bin_start": 0.1,
                        "bin_end": 0.2,
                        "count": 0
                      },
                      {
                        "bin_start": 0.2,
                        "bin_end": 0.30000000000000004,
                        "count": 0
                      },
                      {
                        "bin_start": 0.30000000000000004,
                        "bin_end": 0.4,
                        "count": 0
                      },
                      {
                        "bin_start": 0.4,
                        "bin_end": 0.5,
                        "count": 0
                      },
                      {
                        "bin_start": 0.5,
                        "bin_end": 0.6000000000000001,
                        "count": 0
                      },
                      {
                        "bin_start": 0.6000000000000001,
                        "bin_end": 0.7000000000000001,
                        "count": 0
                      },
                      {
                        "bin_start": 0.7000000000000001,
                        "bin_end": 0.8,
                        "count": 0
                      },
                      {
                        "bin_start": 0.8,
                        "bin_end": 0.9,
                        "count": 0
                      },
                      {
                        "bin_start": 0.9,
                        "bin_end": 1,
                        "count": 0
                      }
                    ]
                  }
                },
                {
                  "name": "bathfull",
                  "dtype": "int64",
                  "stats": {
                    "unique_count": 0,
                    "nan_count": 0,
                    "min": null,
                    "max": null,
                    "histogram": [
                      {
                        "bin_start": 0,
                        "bin_end": 0.1,
                        "count": 0
                      },
                      {
                        "bin_start": 0.1,
                        "bin_end": 0.2,
                        "count": 0
                      },
                      {
                        "bin_start": 0.2,
                        "bin_end": 0.30000000000000004,
                        "count": 0
                      },
                      {
                        "bin_start": 0.30000000000000004,
                        "bin_end": 0.4,
                        "count": 0
                      },
                      {
                        "bin_start": 0.4,
                        "bin_end": 0.5,
                        "count": 0
                      },
                      {
                        "bin_start": 0.5,
                        "bin_end": 0.6000000000000001,
                        "count": 0
                      },
                      {
                        "bin_start": 0.6000000000000001,
                        "bin_end": 0.7000000000000001,
                        "count": 0
                      },
                      {
                        "bin_start": 0.7000000000000001,
                        "bin_end": 0.8,
                        "count": 0
                      },
                      {
                        "bin_start": 0.8,
                        "bin_end": 0.9,
                        "count": 0
                      },
                      {
                        "bin_start": 0.9,
                        "bin_end": 1,
                        "count": 0
                      }
                    ]
                  }
                },
                {
                  "name": "bedrooms",
                  "dtype": "int64",
                  "stats": {
                    "unique_count": 0,
                    "nan_count": 0,
                    "min": null,
                    "max": null,
                    "histogram": [
                      {
                        "bin_start": 0,
                        "bin_end": 0.1,
                        "count": 0
                      },
                      {
                        "bin_start": 0.1,
                        "bin_end": 0.2,
                        "count": 0
                      },
                      {
                        "bin_start": 0.2,
                        "bin_end": 0.30000000000000004,
                        "count": 0
                      },
                      {
                        "bin_start": 0.30000000000000004,
                        "bin_end": 0.4,
                        "count": 0
                      },
                      {
                        "bin_start": 0.4,
                        "bin_end": 0.5,
                        "count": 0
                      },
                      {
                        "bin_start": 0.5,
                        "bin_end": 0.6000000000000001,
                        "count": 0
                      },
                      {
                        "bin_start": 0.6000000000000001,
                        "bin_end": 0.7000000000000001,
                        "count": 0
                      },
                      {
                        "bin_start": 0.7000000000000001,
                        "bin_end": 0.8,
                        "count": 0
                      },
                      {
                        "bin_start": 0.8,
                        "bin_end": 0.9,
                        "count": 0
                      },
                      {
                        "bin_start": 0.9,
                        "bin_end": 1,
                        "count": 0
                      }
                    ]
                  }
                },
                {
                  "name": "_deepnote_index_column",
                  "dtype": "int64"
                }
              ],
              "rows_top": [],
              "rows_bottom": null
            },
            "text/plain": "Empty DataFrame\nColumns: [18-59, built 1995 or later, mobile_home_pct, annual_births_per_resident, luxury_communities_score, property_crime_rate, small_apt_buildings_pct, standardized_test_score_percentile, latitude, longitude, OTHER, CONDO, MULTI_FAMILY, mean_household_income, farm_score, bathfull, bedrooms]\nIndex: []",
            "text/html": "<div>\n<style scoped>\n    .dataframe tbody tr th:only-of-type {\n        vertical-align: middle;\n    }\n\n    .dataframe tbody tr th {\n        vertical-align: top;\n    }\n\n    .dataframe thead th {\n        text-align: right;\n    }\n</style>\n<table border=\"1\" class=\"dataframe\">\n  <thead>\n    <tr style=\"text-align: right;\">\n      <th></th>\n      <th>18-59</th>\n      <th>built 1995 or later</th>\n      <th>mobile_home_pct</th>\n      <th>annual_births_per_resident</th>\n      <th>luxury_communities_score</th>\n      <th>property_crime_rate</th>\n      <th>small_apt_buildings_pct</th>\n      <th>standardized_test_score_percentile</th>\n      <th>latitude</th>\n      <th>longitude</th>\n      <th>OTHER</th>\n      <th>CONDO</th>\n      <th>MULTI_FAMILY</th>\n      <th>mean_household_income</th>\n      <th>farm_score</th>\n      <th>bathfull</th>\n      <th>bedrooms</th>\n    </tr>\n  </thead>\n  <tbody>\n  </tbody>\n</table>\n</div>"
          },
          "metadata": {}
        }
      ],
      "execution_count": 60
    },
    {
      "cell_type": "code",
      "source": "X.describe()",
      "metadata": {
        "tags": [],
        "cell_id": "00009-8b25004e-659b-471f-af96-3a2138964056",
        "deepnote_to_be_reexecuted": false,
        "source_hash": "e6b984ff",
        "execution_millis": 130,
        "execution_start": 1619478275796,
        "deepnote_cell_type": "code"
      },
      "outputs": [
        {
          "output_type": "execute_result",
          "execution_count": 61,
          "data": {
            "application/vnd.deepnote.dataframe.v2+json": {
              "row_count": 8,
              "column_count": 17,
              "columns": [
                {
                  "name": "18-59",
                  "dtype": "float64",
                  "stats": {
                    "unique_count": 8,
                    "nan_count": 0,
                    "min": "0.0865219608644263",
                    "max": "34107.0",
                    "histogram": [
                      {
                        "bin_start": 0.0865219608644263,
                        "bin_end": 3410.7778697647777,
                        "count": 7
                      },
                      {
                        "bin_start": 3410.7778697647777,
                        "bin_end": 6821.4692175686905,
                        "count": 0
                      },
                      {
                        "bin_start": 6821.4692175686905,
                        "bin_end": 10232.160565372604,
                        "count": 0
                      },
                      {
                        "bin_start": 10232.160565372604,
                        "bin_end": 13642.851913176517,
                        "count": 0
                      },
                      {
                        "bin_start": 13642.851913176517,
                        "bin_end": 17053.54326098043,
                        "count": 0
                      },
                      {
                        "bin_start": 17053.54326098043,
                        "bin_end": 20464.234608784343,
                        "count": 0
                      },
                      {
                        "bin_start": 20464.234608784343,
                        "bin_end": 23874.925956588257,
                        "count": 0
                      },
                      {
                        "bin_start": 23874.925956588257,
                        "bin_end": 27285.61730439217,
                        "count": 0
                      },
                      {
                        "bin_start": 27285.61730439217,
                        "bin_end": 30696.308652196083,
                        "count": 0
                      },
                      {
                        "bin_start": 30696.308652196083,
                        "bin_end": 34107,
                        "count": 1
                      }
                    ]
                  }
                },
                {
                  "name": "built 1995 or later",
                  "dtype": "float64",
                  "stats": {
                    "unique_count": 8,
                    "nan_count": 0,
                    "min": "0.0",
                    "max": "34107.0",
                    "histogram": [
                      {
                        "bin_start": 0,
                        "bin_end": 3410.7,
                        "count": 7
                      },
                      {
                        "bin_start": 3410.7,
                        "bin_end": 6821.4,
                        "count": 0
                      },
                      {
                        "bin_start": 6821.4,
                        "bin_end": 10232.099999999999,
                        "count": 0
                      },
                      {
                        "bin_start": 10232.099999999999,
                        "bin_end": 13642.8,
                        "count": 0
                      },
                      {
                        "bin_start": 13642.8,
                        "bin_end": 17053.5,
                        "count": 0
                      },
                      {
                        "bin_start": 17053.5,
                        "bin_end": 20464.199999999997,
                        "count": 0
                      },
                      {
                        "bin_start": 20464.199999999997,
                        "bin_end": 23874.899999999998,
                        "count": 0
                      },
                      {
                        "bin_start": 23874.899999999998,
                        "bin_end": 27285.6,
                        "count": 0
                      },
                      {
                        "bin_start": 27285.6,
                        "bin_end": 30696.3,
                        "count": 0
                      },
                      {
                        "bin_start": 30696.3,
                        "bin_end": 34107,
                        "count": 1
                      }
                    ]
                  }
                },
                {
                  "name": "mobile_home_pct",
                  "dtype": "float64",
                  "stats": {
                    "unique_count": 6,
                    "nan_count": 0,
                    "min": "0.0",
                    "max": "34107.0",
                    "histogram": [
                      {
                        "bin_start": 0,
                        "bin_end": 3410.7,
                        "count": 7
                      },
                      {
                        "bin_start": 3410.7,
                        "bin_end": 6821.4,
                        "count": 0
                      },
                      {
                        "bin_start": 6821.4,
                        "bin_end": 10232.099999999999,
                        "count": 0
                      },
                      {
                        "bin_start": 10232.099999999999,
                        "bin_end": 13642.8,
                        "count": 0
                      },
                      {
                        "bin_start": 13642.8,
                        "bin_end": 17053.5,
                        "count": 0
                      },
                      {
                        "bin_start": 17053.5,
                        "bin_end": 20464.199999999997,
                        "count": 0
                      },
                      {
                        "bin_start": 20464.199999999997,
                        "bin_end": 23874.899999999998,
                        "count": 0
                      },
                      {
                        "bin_start": 23874.899999999998,
                        "bin_end": 27285.6,
                        "count": 0
                      },
                      {
                        "bin_start": 27285.6,
                        "bin_end": 30696.3,
                        "count": 0
                      },
                      {
                        "bin_start": 30696.3,
                        "bin_end": 34107,
                        "count": 1
                      }
                    ]
                  }
                },
                {
                  "name": "annual_births_per_resident",
                  "dtype": "float64",
                  "stats": {
                    "unique_count": 8,
                    "nan_count": 0,
                    "min": "0.0",
                    "max": "34107.0",
                    "histogram": [
                      {
                        "bin_start": 0,
                        "bin_end": 3410.7,
                        "count": 7
                      },
                      {
                        "bin_start": 3410.7,
                        "bin_end": 6821.4,
                        "count": 0
                      },
                      {
                        "bin_start": 6821.4,
                        "bin_end": 10232.099999999999,
                        "count": 0
                      },
                      {
                        "bin_start": 10232.099999999999,
                        "bin_end": 13642.8,
                        "count": 0
                      },
                      {
                        "bin_start": 13642.8,
                        "bin_end": 17053.5,
                        "count": 0
                      },
                      {
                        "bin_start": 17053.5,
                        "bin_end": 20464.199999999997,
                        "count": 0
                      },
                      {
                        "bin_start": 20464.199999999997,
                        "bin_end": 23874.899999999998,
                        "count": 0
                      },
                      {
                        "bin_start": 23874.899999999998,
                        "bin_end": 27285.6,
                        "count": 0
                      },
                      {
                        "bin_start": 27285.6,
                        "bin_end": 30696.3,
                        "count": 0
                      },
                      {
                        "bin_start": 30696.3,
                        "bin_end": 34107,
                        "count": 1
                      }
                    ]
                  }
                },
                {
                  "name": "luxury_communities_score",
                  "dtype": "float64",
                  "stats": {
                    "unique_count": 8,
                    "nan_count": 0,
                    "min": "0.6054149999999999",
                    "max": "34107.0",
                    "histogram": [
                      {
                        "bin_start": 0.6054149999999999,
                        "bin_end": 3411.2448735000003,
                        "count": 7
                      },
                      {
                        "bin_start": 3411.2448735000003,
                        "bin_end": 6821.8843320000005,
                        "count": 0
                      },
                      {
                        "bin_start": 6821.8843320000005,
                        "bin_end": 10232.523790500001,
                        "count": 0
                      },
                      {
                        "bin_start": 10232.523790500001,
                        "bin_end": 13643.163249000001,
                        "count": 0
                      },
                      {
                        "bin_start": 13643.163249000001,
                        "bin_end": 17053.802707500003,
                        "count": 0
                      },
                      {
                        "bin_start": 17053.802707500003,
                        "bin_end": 20464.442166000004,
                        "count": 0
                      },
                      {
                        "bin_start": 20464.442166000004,
                        "bin_end": 23875.081624500002,
                        "count": 0
                      },
                      {
                        "bin_start": 23875.081624500002,
                        "bin_end": 27285.721083000004,
                        "count": 0
                      },
                      {
                        "bin_start": 27285.721083000004,
                        "bin_end": 30696.360541500006,
                        "count": 0
                      },
                      {
                        "bin_start": 30696.360541500006,
                        "bin_end": 34107,
                        "count": 1
                      }
                    ]
                  }
                },
                {
                  "name": "property_crime_rate",
                  "dtype": "float64",
                  "stats": {
                    "unique_count": 8,
                    "nan_count": 0,
                    "min": "0.0",
                    "max": "34107.0",
                    "histogram": [
                      {
                        "bin_start": 0,
                        "bin_end": 3410.7,
                        "count": 7
                      },
                      {
                        "bin_start": 3410.7,
                        "bin_end": 6821.4,
                        "count": 0
                      },
                      {
                        "bin_start": 6821.4,
                        "bin_end": 10232.099999999999,
                        "count": 0
                      },
                      {
                        "bin_start": 10232.099999999999,
                        "bin_end": 13642.8,
                        "count": 0
                      },
                      {
                        "bin_start": 13642.8,
                        "bin_end": 17053.5,
                        "count": 0
                      },
                      {
                        "bin_start": 17053.5,
                        "bin_end": 20464.199999999997,
                        "count": 0
                      },
                      {
                        "bin_start": 20464.199999999997,
                        "bin_end": 23874.899999999998,
                        "count": 0
                      },
                      {
                        "bin_start": 23874.899999999998,
                        "bin_end": 27285.6,
                        "count": 0
                      },
                      {
                        "bin_start": 27285.6,
                        "bin_end": 30696.3,
                        "count": 0
                      },
                      {
                        "bin_start": 30696.3,
                        "bin_end": 34107,
                        "count": 1
                      }
                    ]
                  }
                },
                {
                  "name": "small_apt_buildings_pct",
                  "dtype": "float64",
                  "stats": {
                    "unique_count": 8,
                    "nan_count": 0,
                    "min": "0.0",
                    "max": "34107.0",
                    "histogram": [
                      {
                        "bin_start": 0,
                        "bin_end": 3410.7,
                        "count": 7
                      },
                      {
                        "bin_start": 3410.7,
                        "bin_end": 6821.4,
                        "count": 0
                      },
                      {
                        "bin_start": 6821.4,
                        "bin_end": 10232.099999999999,
                        "count": 0
                      },
                      {
                        "bin_start": 10232.099999999999,
                        "bin_end": 13642.8,
                        "count": 0
                      },
                      {
                        "bin_start": 13642.8,
                        "bin_end": 17053.5,
                        "count": 0
                      },
                      {
                        "bin_start": 17053.5,
                        "bin_end": 20464.199999999997,
                        "count": 0
                      },
                      {
                        "bin_start": 20464.199999999997,
                        "bin_end": 23874.899999999998,
                        "count": 0
                      },
                      {
                        "bin_start": 23874.899999999998,
                        "bin_end": 27285.6,
                        "count": 0
                      },
                      {
                        "bin_start": 27285.6,
                        "bin_end": 30696.3,
                        "count": 0
                      },
                      {
                        "bin_start": 30696.3,
                        "bin_end": 34107,
                        "count": 1
                      }
                    ]
                  }
                },
                {
                  "name": "standardized_test_score_percentile",
                  "dtype": "float64",
                  "stats": {
                    "unique_count": 8,
                    "nan_count": 0,
                    "min": "8.020097",
                    "max": "34107.0",
                    "histogram": [
                      {
                        "bin_start": 8.020097,
                        "bin_end": 3417.9180873,
                        "count": 7
                      },
                      {
                        "bin_start": 3417.9180873,
                        "bin_end": 6827.8160775999995,
                        "count": 0
                      },
                      {
                        "bin_start": 6827.8160775999995,
                        "bin_end": 10237.7140679,
                        "count": 0
                      },
                      {
                        "bin_start": 10237.7140679,
                        "bin_end": 13647.6120582,
                        "count": 0
                      },
                      {
                        "bin_start": 13647.6120582,
                        "bin_end": 17057.5100485,
                        "count": 0
                      },
                      {
                        "bin_start": 17057.5100485,
                        "bin_end": 20467.4080388,
                        "count": 0
                      },
                      {
                        "bin_start": 20467.4080388,
                        "bin_end": 23877.3060291,
                        "count": 0
                      },
                      {
                        "bin_start": 23877.3060291,
                        "bin_end": 27287.2040194,
                        "count": 0
                      },
                      {
                        "bin_start": 27287.2040194,
                        "bin_end": 30697.1020097,
                        "count": 0
                      },
                      {
                        "bin_start": 30697.1020097,
                        "bin_end": 34107,
                        "count": 1
                      }
                    ]
                  }
                },
                {
                  "name": "latitude",
                  "dtype": "float64",
                  "stats": {
                    "unique_count": 8,
                    "nan_count": 0,
                    "min": "0.14859997717158271",
                    "max": "34107.0",
                    "histogram": [
                      {
                        "bin_start": 0.14859997717158271,
                        "bin_end": 3410.833739979455,
                        "count": 7
                      },
                      {
                        "bin_start": 3410.833739979455,
                        "bin_end": 6821.518879981738,
                        "count": 0
                      },
                      {
                        "bin_start": 6821.518879981738,
                        "bin_end": 10232.204019984023,
                        "count": 0
                      },
                      {
                        "bin_start": 10232.204019984023,
                        "bin_end": 13642.889159986305,
                        "count": 0
                      },
                      {
                        "bin_start": 13642.889159986305,
                        "bin_end": 17053.574299988588,
                        "count": 0
                      },
                      {
                        "bin_start": 17053.574299988588,
                        "bin_end": 20464.259439990874,
                        "count": 0
                      },
                      {
                        "bin_start": 20464.259439990874,
                        "bin_end": 23874.944579993156,
                        "count": 0
                      },
                      {
                        "bin_start": 23874.944579993156,
                        "bin_end": 27285.62971999544,
                        "count": 0
                      },
                      {
                        "bin_start": 27285.62971999544,
                        "bin_end": 30696.31485999772,
                        "count": 0
                      },
                      {
                        "bin_start": 30696.31485999772,
                        "bin_end": 34107,
                        "count": 1
                      }
                    ]
                  }
                },
                {
                  "name": "longitude",
                  "dtype": "float64",
                  "stats": {
                    "unique_count": 8,
                    "nan_count": 0,
                    "min": "-105.52092",
                    "max": "34107.0",
                    "histogram": [
                      {
                        "bin_start": -105.52092,
                        "bin_end": 3315.7311720000002,
                        "count": 7
                      },
                      {
                        "bin_start": 3315.7311720000002,
                        "bin_end": 6736.983264,
                        "count": 0
                      },
                      {
                        "bin_start": 6736.983264,
                        "bin_end": 10158.235356,
                        "count": 0
                      },
                      {
                        "bin_start": 10158.235356,
                        "bin_end": 13579.487448,
                        "count": 0
                      },
                      {
                        "bin_start": 13579.487448,
                        "bin_end": 17000.739540000002,
                        "count": 0
                      },
                      {
                        "bin_start": 17000.739540000002,
                        "bin_end": 20421.991632,
                        "count": 0
                      },
                      {
                        "bin_start": 20421.991632,
                        "bin_end": 23843.243724000004,
                        "count": 0
                      },
                      {
                        "bin_start": 23843.243724000004,
                        "bin_end": 27264.495816000002,
                        "count": 0
                      },
                      {
                        "bin_start": 27264.495816000002,
                        "bin_end": 30685.747908,
                        "count": 0
                      },
                      {
                        "bin_start": 30685.747908,
                        "bin_end": 34107,
                        "count": 1
                      }
                    ]
                  }
                },
                {
                  "name": "OTHER",
                  "dtype": "float64",
                  "stats": {
                    "unique_count": 5,
                    "nan_count": 0,
                    "min": "0.0",
                    "max": "34107.0",
                    "histogram": [
                      {
                        "bin_start": 0,
                        "bin_end": 3410.7,
                        "count": 7
                      },
                      {
                        "bin_start": 3410.7,
                        "bin_end": 6821.4,
                        "count": 0
                      },
                      {
                        "bin_start": 6821.4,
                        "bin_end": 10232.099999999999,
                        "count": 0
                      },
                      {
                        "bin_start": 10232.099999999999,
                        "bin_end": 13642.8,
                        "count": 0
                      },
                      {
                        "bin_start": 13642.8,
                        "bin_end": 17053.5,
                        "count": 0
                      },
                      {
                        "bin_start": 17053.5,
                        "bin_end": 20464.199999999997,
                        "count": 0
                      },
                      {
                        "bin_start": 20464.199999999997,
                        "bin_end": 23874.899999999998,
                        "count": 0
                      },
                      {
                        "bin_start": 23874.899999999998,
                        "bin_end": 27285.6,
                        "count": 0
                      },
                      {
                        "bin_start": 27285.6,
                        "bin_end": 30696.3,
                        "count": 0
                      },
                      {
                        "bin_start": 30696.3,
                        "bin_end": 34107,
                        "count": 1
                      }
                    ]
                  }
                },
                {
                  "name": "CONDO",
                  "dtype": "float64",
                  "stats": {
                    "unique_count": 5,
                    "nan_count": 0,
                    "min": "0.0",
                    "max": "34107.0",
                    "histogram": [
                      {
                        "bin_start": 0,
                        "bin_end": 3410.7,
                        "count": 7
                      },
                      {
                        "bin_start": 3410.7,
                        "bin_end": 6821.4,
                        "count": 0
                      },
                      {
                        "bin_start": 6821.4,
                        "bin_end": 10232.099999999999,
                        "count": 0
                      },
                      {
                        "bin_start": 10232.099999999999,
                        "bin_end": 13642.8,
                        "count": 0
                      },
                      {
                        "bin_start": 13642.8,
                        "bin_end": 17053.5,
                        "count": 0
                      },
                      {
                        "bin_start": 17053.5,
                        "bin_end": 20464.199999999997,
                        "count": 0
                      },
                      {
                        "bin_start": 20464.199999999997,
                        "bin_end": 23874.899999999998,
                        "count": 0
                      },
                      {
                        "bin_start": 23874.899999999998,
                        "bin_end": 27285.6,
                        "count": 0
                      },
                      {
                        "bin_start": 27285.6,
                        "bin_end": 30696.3,
                        "count": 0
                      },
                      {
                        "bin_start": 30696.3,
                        "bin_end": 34107,
                        "count": 1
                      }
                    ]
                  }
                },
                {
                  "name": "MULTI_FAMILY",
                  "dtype": "float64",
                  "stats": {
                    "unique_count": 5,
                    "nan_count": 0,
                    "min": "0.0",
                    "max": "34107.0",
                    "histogram": [
                      {
                        "bin_start": 0,
                        "bin_end": 3410.7,
                        "count": 7
                      },
                      {
                        "bin_start": 3410.7,
                        "bin_end": 6821.4,
                        "count": 0
                      },
                      {
                        "bin_start": 6821.4,
                        "bin_end": 10232.099999999999,
                        "count": 0
                      },
                      {
                        "bin_start": 10232.099999999999,
                        "bin_end": 13642.8,
                        "count": 0
                      },
                      {
                        "bin_start": 13642.8,
                        "bin_end": 17053.5,
                        "count": 0
                      },
                      {
                        "bin_start": 17053.5,
                        "bin_end": 20464.199999999997,
                        "count": 0
                      },
                      {
                        "bin_start": 20464.199999999997,
                        "bin_end": 23874.899999999998,
                        "count": 0
                      },
                      {
                        "bin_start": 23874.899999999998,
                        "bin_end": 27285.6,
                        "count": 0
                      },
                      {
                        "bin_start": 27285.6,
                        "bin_end": 30696.3,
                        "count": 0
                      },
                      {
                        "bin_start": 30696.3,
                        "bin_end": 34107,
                        "count": 1
                      }
                    ]
                  }
                },
                {
                  "name": "mean_household_income",
                  "dtype": "float64",
                  "stats": {
                    "unique_count": 8,
                    "nan_count": 0,
                    "min": "34107.0",
                    "max": "410575.0",
                    "histogram": [
                      {
                        "bin_start": 34107,
                        "bin_end": 71753.8,
                        "count": 3
                      },
                      {
                        "bin_start": 71753.8,
                        "bin_end": 109400.6,
                        "count": 2
                      },
                      {
                        "bin_start": 109400.6,
                        "bin_end": 147047.40000000002,
                        "count": 2
                      },
                      {
                        "bin_start": 147047.40000000002,
                        "bin_end": 184694.2,
                        "count": 0
                      },
                      {
                        "bin_start": 184694.2,
                        "bin_end": 222341,
                        "count": 0
                      },
                      {
                        "bin_start": 222341,
                        "bin_end": 259987.80000000002,
                        "count": 0
                      },
                      {
                        "bin_start": 259987.80000000002,
                        "bin_end": 297634.60000000003,
                        "count": 0
                      },
                      {
                        "bin_start": 297634.60000000003,
                        "bin_end": 335281.4,
                        "count": 0
                      },
                      {
                        "bin_start": 335281.4,
                        "bin_end": 372928.2,
                        "count": 0
                      },
                      {
                        "bin_start": 372928.2,
                        "bin_end": 410575,
                        "count": 1
                      }
                    ]
                  }
                },
                {
                  "name": "farm_score",
                  "dtype": "float64",
                  "stats": {
                    "unique_count": 5,
                    "nan_count": 0,
                    "min": "0.0",
                    "max": "34107.0",
                    "histogram": [
                      {
                        "bin_start": 0,
                        "bin_end": 3410.7,
                        "count": 7
                      },
                      {
                        "bin_start": 3410.7,
                        "bin_end": 6821.4,
                        "count": 0
                      },
                      {
                        "bin_start": 6821.4,
                        "bin_end": 10232.099999999999,
                        "count": 0
                      },
                      {
                        "bin_start": 10232.099999999999,
                        "bin_end": 13642.8,
                        "count": 0
                      },
                      {
                        "bin_start": 13642.8,
                        "bin_end": 17053.5,
                        "count": 0
                      },
                      {
                        "bin_start": 17053.5,
                        "bin_end": 20464.199999999997,
                        "count": 0
                      },
                      {
                        "bin_start": 20464.199999999997,
                        "bin_end": 23874.899999999998,
                        "count": 0
                      },
                      {
                        "bin_start": 23874.899999999998,
                        "bin_end": 27285.6,
                        "count": 0
                      },
                      {
                        "bin_start": 27285.6,
                        "bin_end": 30696.3,
                        "count": 0
                      },
                      {
                        "bin_start": 30696.3,
                        "bin_end": 34107,
                        "count": 1
                      }
                    ]
                  }
                },
                {
                  "name": "bathfull",
                  "dtype": "float64",
                  "stats": {
                    "unique_count": 7,
                    "nan_count": 0,
                    "min": "0.0",
                    "max": "34107.0",
                    "histogram": [
                      {
                        "bin_start": 0,
                        "bin_end": 3410.7,
                        "count": 7
                      },
                      {
                        "bin_start": 3410.7,
                        "bin_end": 6821.4,
                        "count": 0
                      },
                      {
                        "bin_start": 6821.4,
                        "bin_end": 10232.099999999999,
                        "count": 0
                      },
                      {
                        "bin_start": 10232.099999999999,
                        "bin_end": 13642.8,
                        "count": 0
                      },
                      {
                        "bin_start": 13642.8,
                        "bin_end": 17053.5,
                        "count": 0
                      },
                      {
                        "bin_start": 17053.5,
                        "bin_end": 20464.199999999997,
                        "count": 0
                      },
                      {
                        "bin_start": 20464.199999999997,
                        "bin_end": 23874.899999999998,
                        "count": 0
                      },
                      {
                        "bin_start": 23874.899999999998,
                        "bin_end": 27285.6,
                        "count": 0
                      },
                      {
                        "bin_start": 27285.6,
                        "bin_end": 30696.3,
                        "count": 0
                      },
                      {
                        "bin_start": 30696.3,
                        "bin_end": 34107,
                        "count": 1
                      }
                    ]
                  }
                },
                {
                  "name": "bedrooms",
                  "dtype": "float64",
                  "stats": {
                    "unique_count": 7,
                    "nan_count": 0,
                    "min": "0.0",
                    "max": "34107.0",
                    "histogram": [
                      {
                        "bin_start": 0,
                        "bin_end": 3410.7,
                        "count": 7
                      },
                      {
                        "bin_start": 3410.7,
                        "bin_end": 6821.4,
                        "count": 0
                      },
                      {
                        "bin_start": 6821.4,
                        "bin_end": 10232.099999999999,
                        "count": 0
                      },
                      {
                        "bin_start": 10232.099999999999,
                        "bin_end": 13642.8,
                        "count": 0
                      },
                      {
                        "bin_start": 13642.8,
                        "bin_end": 17053.5,
                        "count": 0
                      },
                      {
                        "bin_start": 17053.5,
                        "bin_end": 20464.199999999997,
                        "count": 0
                      },
                      {
                        "bin_start": 20464.199999999997,
                        "bin_end": 23874.899999999998,
                        "count": 0
                      },
                      {
                        "bin_start": 23874.899999999998,
                        "bin_end": 27285.6,
                        "count": 0
                      },
                      {
                        "bin_start": 27285.6,
                        "bin_end": 30696.3,
                        "count": 0
                      },
                      {
                        "bin_start": 30696.3,
                        "bin_end": 34107,
                        "count": 1
                      }
                    ]
                  }
                },
                {
                  "name": "_deepnote_index_column",
                  "dtype": "object"
                }
              ],
              "rows_top": [
                {
                  "18-59": 34107,
                  "built 1995 or later": 34107,
                  "mobile_home_pct": 34107,
                  "annual_births_per_resident": 34107,
                  "luxury_communities_score": 34107,
                  "property_crime_rate": 34107,
                  "small_apt_buildings_pct": 34107,
                  "standardized_test_score_percentile": 34107,
                  "latitude": 34107,
                  "longitude": 34107,
                  "OTHER": 34107,
                  "CONDO": 34107,
                  "MULTI_FAMILY": 34107,
                  "mean_household_income": 34107,
                  "farm_score": 34107,
                  "bathfull": 34107,
                  "bedrooms": 34107,
                  "_deepnote_index_column": "count"
                },
                {
                  "18-59": 0.587655886349712,
                  "built 1995 or later": 30.274287024188585,
                  "mobile_home_pct": 1.0175314694637465,
                  "annual_births_per_resident": 0.012562974646270044,
                  "luxury_communities_score": 26.259434072800307,
                  "property_crime_rate": 30.21492962509162,
                  "small_apt_buildings_pct": 3.552072215029173,
                  "standardized_test_score_percentile": 62.566598725716126,
                  "latitude": 39.691049629079075,
                  "longitude": -104.94245614911895,
                  "OTHER": 0.0061277743571700825,
                  "CONDO": 0.206907672911719,
                  "MULTI_FAMILY": 0.06485472190459436,
                  "mean_household_income": 114439.73929105462,
                  "farm_score": 92.20834432814378,
                  "bathfull": 2.4754449233295217,
                  "bedrooms": 3.4354824522825225,
                  "_deepnote_index_column": "mean"
                },
                {
                  "18-59": 0.0865219608644263,
                  "built 1995 or later": 30.88781132992408,
                  "mobile_home_pct": 3.9603273410366993,
                  "annual_births_per_resident": 0.00825184866335378,
                  "luxury_communities_score": 21.02850907958539,
                  "property_crime_rate": 19.06174026033353,
                  "small_apt_buildings_pct": 4.286052141334659,
                  "standardized_test_score_percentile": 23.943237981606096,
                  "latitude": 0.14859997717158271,
                  "longitude": 0.14754191204081674,
                  "OTHER": 0.07804103603966392,
                  "CONDO": 0.40509467927985415,
                  "MULTI_FAMILY": 0.24627294855367812,
                  "mean_household_income": 47845.85604959621,
                  "farm_score": 23.706103517091595,
                  "bathfull": 1.3290526120870587,
                  "bedrooms": 1.3726643601043644,
                  "_deepnote_index_column": "std"
                },
                {
                  "18-59": 0.089156626506024,
                  "built 1995 or later": 0,
                  "mobile_home_pct": 0,
                  "annual_births_per_resident": 0,
                  "luxury_communities_score": 0.6054149999999999,
                  "property_crime_rate": 0,
                  "small_apt_buildings_pct": 0,
                  "standardized_test_score_percentile": 8.020097,
                  "latitude": 39.10166,
                  "longitude": -105.52092,
                  "OTHER": 0,
                  "CONDO": 0,
                  "MULTI_FAMILY": 0,
                  "mean_household_income": 40314,
                  "farm_score": 0,
                  "bathfull": 0,
                  "bedrooms": 0,
                  "_deepnote_index_column": "min"
                },
                {
                  "18-59": 0.542872747132714,
                  "built 1995 or later": 5.002212999999999,
                  "mobile_home_pct": 0,
                  "annual_births_per_resident": 0.0061033759298109,
                  "luxury_communities_score": 10.036076,
                  "property_crime_rate": 15.061023,
                  "small_apt_buildings_pct": 0.44953,
                  "standardized_test_score_percentile": 42.371714499999996,
                  "latitude": 39.599025,
                  "longitude": -105.035235,
                  "OTHER": 0,
                  "CONDO": 0,
                  "MULTI_FAMILY": 0,
                  "mean_household_income": 80222,
                  "farm_score": 100,
                  "bathfull": 2,
                  "bedrooms": 3,
                  "_deepnote_index_column": "25%"
                },
                {
                  "18-59": 0.5777153558052429,
                  "built 1995 or later": 16.845012,
                  "mobile_home_pct": 0,
                  "annual_births_per_resident": 0.011456628477905,
                  "luxury_communities_score": 19.427253,
                  "property_crime_rate": 25.981524,
                  "small_apt_buildings_pct": 1.992936,
                  "standardized_test_score_percentile": 72.74110999999999,
                  "latitude": 39.69703,
                  "longitude": -104.94847,
                  "OTHER": 0,
                  "CONDO": 0,
                  "MULTI_FAMILY": 0,
                  "mean_household_income": 108219,
                  "farm_score": 100,
                  "bathfull": 2,
                  "bedrooms": 3,
                  "_deepnote_index_column": "50%"
                },
                {
                  "18-59": 0.6162874251496999,
                  "built 1995 or later": 48.743354,
                  "mobile_home_pct": 0.4909979999999999,
                  "annual_births_per_resident": 0.01727601446364,
                  "luxury_communities_score": 37.090134,
                  "property_crime_rate": 42.253521,
                  "small_apt_buildings_pct": 5.362183,
                  "standardized_test_score_percentile": 81.11858000000001,
                  "latitude": 39.76867,
                  "longitude": -104.83696,
                  "OTHER": 0,
                  "CONDO": 0,
                  "MULTI_FAMILY": 0,
                  "mean_household_income": 140699,
                  "farm_score": 100,
                  "bathfull": 3,
                  "bedrooms": 4,
                  "_deepnote_index_column": "75%"
                },
                {
                  "18-59": 0.9003704425813991,
                  "built 1995 or later": 97.550586,
                  "mobile_home_pct": 63.835377,
                  "annual_births_per_resident": 0.044557477110885,
                  "luxury_communities_score": 96.101273,
                  "property_crime_rate": 210.343329,
                  "small_apt_buildings_pct": 30.041841,
                  "standardized_test_score_percentile": 94.234617,
                  "latitude": 40.20468,
                  "longitude": -104,
                  "OTHER": 1,
                  "CONDO": 1,
                  "MULTI_FAMILY": 1,
                  "mean_household_income": 410575,
                  "farm_score": 100,
                  "bathfull": 42,
                  "bedrooms": 35,
                  "_deepnote_index_column": "max"
                }
              ],
              "rows_bottom": null
            },
            "text/plain": "              18-59  built 1995 or later  mobile_home_pct  \\\ncount  34107.000000         34107.000000     34107.000000   \nmean       0.587656            30.274287         1.017531   \nstd        0.086522            30.887811         3.960327   \nmin        0.089157             0.000000         0.000000   \n25%        0.542873             5.002213         0.000000   \n50%        0.577715            16.845012         0.000000   \n75%        0.616287            48.743354         0.490998   \nmax        0.900370            97.550586        63.835377   \n\n       annual_births_per_resident  luxury_communities_score  \\\ncount                34107.000000              34107.000000   \nmean                     0.012563                 26.259434   \nstd                      0.008252                 21.028509   \nmin                      0.000000                  0.605415   \n25%                      0.006103                 10.036076   \n50%                      0.011457                 19.427253   \n75%                      0.017276                 37.090134   \nmax                      0.044557                 96.101273   \n\n       property_crime_rate  small_apt_buildings_pct  \\\ncount         34107.000000             34107.000000   \nmean             30.214930                 3.552072   \nstd              19.061740                 4.286052   \nmin               0.000000                 0.000000   \n25%              15.061023                 0.449530   \n50%              25.981524                 1.992936   \n75%              42.253521                 5.362183   \nmax             210.343329                30.041841   \n\n       standardized_test_score_percentile      latitude     longitude  \\\ncount                        34107.000000  34107.000000  34107.000000   \nmean                            62.566599     39.691050   -104.942456   \nstd                             23.943238      0.148600      0.147542   \nmin                              8.020097     39.101660   -105.520920   \n25%                             42.371714     39.599025   -105.035235   \n50%                             72.741110     39.697030   -104.948470   \n75%                             81.118580     39.768670   -104.836960   \nmax                             94.234617     40.204680   -104.000000   \n\n              OTHER         CONDO  MULTI_FAMILY  mean_household_income  \\\ncount  34107.000000  34107.000000  34107.000000           34107.000000   \nmean       0.006128      0.206908      0.064855          114439.739291   \nstd        0.078041      0.405095      0.246273           47845.856050   \nmin        0.000000      0.000000      0.000000           40314.000000   \n25%        0.000000      0.000000      0.000000           80222.000000   \n50%        0.000000      0.000000      0.000000          108219.000000   \n75%        0.000000      0.000000      0.000000          140699.000000   \nmax        1.000000      1.000000      1.000000          410575.000000   \n\n         farm_score      bathfull      bedrooms  \ncount  34107.000000  34107.000000  34107.000000  \nmean      92.208344      2.475445      3.435482  \nstd       23.706104      1.329053      1.372664  \nmin        0.000000      0.000000      0.000000  \n25%      100.000000      2.000000      3.000000  \n50%      100.000000      2.000000      3.000000  \n75%      100.000000      3.000000      4.000000  \nmax      100.000000     42.000000     35.000000  ",
            "text/html": "<div>\n<style scoped>\n    .dataframe tbody tr th:only-of-type {\n        vertical-align: middle;\n    }\n\n    .dataframe tbody tr th {\n        vertical-align: top;\n    }\n\n    .dataframe thead th {\n        text-align: right;\n    }\n</style>\n<table border=\"1\" class=\"dataframe\">\n  <thead>\n    <tr style=\"text-align: right;\">\n      <th></th>\n      <th>18-59</th>\n      <th>built 1995 or later</th>\n      <th>mobile_home_pct</th>\n      <th>annual_births_per_resident</th>\n      <th>luxury_communities_score</th>\n      <th>property_crime_rate</th>\n      <th>small_apt_buildings_pct</th>\n      <th>standardized_test_score_percentile</th>\n      <th>latitude</th>\n      <th>longitude</th>\n      <th>OTHER</th>\n      <th>CONDO</th>\n      <th>MULTI_FAMILY</th>\n      <th>mean_household_income</th>\n      <th>farm_score</th>\n      <th>bathfull</th>\n      <th>bedrooms</th>\n    </tr>\n  </thead>\n  <tbody>\n    <tr>\n      <th>count</th>\n      <td>34107.000000</td>\n      <td>34107.000000</td>\n      <td>34107.000000</td>\n      <td>34107.000000</td>\n      <td>34107.000000</td>\n      <td>34107.000000</td>\n      <td>34107.000000</td>\n      <td>34107.000000</td>\n      <td>34107.000000</td>\n      <td>34107.000000</td>\n      <td>34107.000000</td>\n      <td>34107.000000</td>\n      <td>34107.000000</td>\n      <td>34107.000000</td>\n      <td>34107.000000</td>\n      <td>34107.000000</td>\n      <td>34107.000000</td>\n    </tr>\n    <tr>\n      <th>mean</th>\n      <td>0.587656</td>\n      <td>30.274287</td>\n      <td>1.017531</td>\n      <td>0.012563</td>\n      <td>26.259434</td>\n      <td>30.214930</td>\n      <td>3.552072</td>\n      <td>62.566599</td>\n      <td>39.691050</td>\n      <td>-104.942456</td>\n      <td>0.006128</td>\n      <td>0.206908</td>\n      <td>0.064855</td>\n      <td>114439.739291</td>\n      <td>92.208344</td>\n      <td>2.475445</td>\n      <td>3.435482</td>\n    </tr>\n    <tr>\n      <th>std</th>\n      <td>0.086522</td>\n      <td>30.887811</td>\n      <td>3.960327</td>\n      <td>0.008252</td>\n      <td>21.028509</td>\n      <td>19.061740</td>\n      <td>4.286052</td>\n      <td>23.943238</td>\n      <td>0.148600</td>\n      <td>0.147542</td>\n      <td>0.078041</td>\n      <td>0.405095</td>\n      <td>0.246273</td>\n      <td>47845.856050</td>\n      <td>23.706104</td>\n      <td>1.329053</td>\n      <td>1.372664</td>\n    </tr>\n    <tr>\n      <th>min</th>\n      <td>0.089157</td>\n      <td>0.000000</td>\n      <td>0.000000</td>\n      <td>0.000000</td>\n      <td>0.605415</td>\n      <td>0.000000</td>\n      <td>0.000000</td>\n      <td>8.020097</td>\n      <td>39.101660</td>\n      <td>-105.520920</td>\n      <td>0.000000</td>\n      <td>0.000000</td>\n      <td>0.000000</td>\n      <td>40314.000000</td>\n      <td>0.000000</td>\n      <td>0.000000</td>\n      <td>0.000000</td>\n    </tr>\n    <tr>\n      <th>25%</th>\n      <td>0.542873</td>\n      <td>5.002213</td>\n      <td>0.000000</td>\n      <td>0.006103</td>\n      <td>10.036076</td>\n      <td>15.061023</td>\n      <td>0.449530</td>\n      <td>42.371714</td>\n      <td>39.599025</td>\n      <td>-105.035235</td>\n      <td>0.000000</td>\n      <td>0.000000</td>\n      <td>0.000000</td>\n      <td>80222.000000</td>\n      <td>100.000000</td>\n      <td>2.000000</td>\n      <td>3.000000</td>\n    </tr>\n    <tr>\n      <th>50%</th>\n      <td>0.577715</td>\n      <td>16.845012</td>\n      <td>0.000000</td>\n      <td>0.011457</td>\n      <td>19.427253</td>\n      <td>25.981524</td>\n      <td>1.992936</td>\n      <td>72.741110</td>\n      <td>39.697030</td>\n      <td>-104.948470</td>\n      <td>0.000000</td>\n      <td>0.000000</td>\n      <td>0.000000</td>\n      <td>108219.000000</td>\n      <td>100.000000</td>\n      <td>2.000000</td>\n      <td>3.000000</td>\n    </tr>\n    <tr>\n      <th>75%</th>\n      <td>0.616287</td>\n      <td>48.743354</td>\n      <td>0.490998</td>\n      <td>0.017276</td>\n      <td>37.090134</td>\n      <td>42.253521</td>\n      <td>5.362183</td>\n      <td>81.118580</td>\n      <td>39.768670</td>\n      <td>-104.836960</td>\n      <td>0.000000</td>\n      <td>0.000000</td>\n      <td>0.000000</td>\n      <td>140699.000000</td>\n      <td>100.000000</td>\n      <td>3.000000</td>\n      <td>4.000000</td>\n    </tr>\n    <tr>\n      <th>max</th>\n      <td>0.900370</td>\n      <td>97.550586</td>\n      <td>63.835377</td>\n      <td>0.044557</td>\n      <td>96.101273</td>\n      <td>210.343329</td>\n      <td>30.041841</td>\n      <td>94.234617</td>\n      <td>40.204680</td>\n      <td>-104.000000</td>\n      <td>1.000000</td>\n      <td>1.000000</td>\n      <td>1.000000</td>\n      <td>410575.000000</td>\n      <td>100.000000</td>\n      <td>42.000000</td>\n      <td>35.000000</td>\n    </tr>\n  </tbody>\n</table>\n</div>"
          },
          "metadata": {}
        }
      ],
      "execution_count": 61
    },
    {
      "cell_type": "code",
      "metadata": {
        "cell_id": "00005-c4593e79-8ae4-44eb-96b5-27fb6f3096d2",
        "deepnote_to_be_reexecuted": false,
        "source_hash": "1721bbc",
        "execution_millis": 1,
        "execution_start": 1619478278570,
        "deepnote_cell_type": "code"
      },
      "source": "X = X.to_numpy()",
      "execution_count": 62,
      "outputs": []
    },
    {
      "cell_type": "code",
      "source": "X.shape",
      "metadata": {
        "tags": [],
        "cell_id": "00007-4abcb12f-84a2-4704-ad50-e353961b6097",
        "deepnote_to_be_reexecuted": false,
        "source_hash": "83f8c40",
        "execution_millis": 7,
        "execution_start": 1619478280130,
        "deepnote_cell_type": "code"
      },
      "outputs": [
        {
          "output_type": "execute_result",
          "execution_count": 63,
          "data": {
            "text/plain": "(34107, 17)"
          },
          "metadata": {}
        }
      ],
      "execution_count": 63
    },
    {
      "cell_type": "code",
      "metadata": {
        "cell_id": "00006-4d4d5f62-1edc-4754-829f-e08510fa7049",
        "deepnote_to_be_reexecuted": false,
        "source_hash": "4b411737",
        "execution_millis": 2,
        "execution_start": 1619478282207,
        "deepnote_cell_type": "code"
      },
      "source": "K = 5 # Number of submarkets\n\nn_loc = 2 # Latitude and Longitude\nn_cont = len(res['float']) - 2 # Number of continuous attributes\nn_bool = len(res['bool']) # Number of boolean attributes\nn_int = len(res['int']) # Number of integer attributes\n\nn_homes, n_features = X.shape\nassert(n_loc + n_cont + n_bool + n_int == n_features)\n\nX_cont = X[:,:n_cont]\nX_loc = X[:,n_cont:(n_cont + n_loc)]\nX_bool = X[:,(n_cont+n_loc):(n_cont+n_loc+n_bool)]\nX_int = X[:,(n_cont+n_loc+n_bool):]\nX_feat = X[:,[i for i in range(n_features) if i not in [n_cont,n_cont+1]]]",
      "execution_count": 64,
      "outputs": []
    },
    {
      "cell_type": "code",
      "metadata": {
        "cell_id": "00007-7bd835c1-8529-46d8-9250-c37c7e2e8243",
        "deepnote_to_be_reexecuted": false,
        "source_hash": "89cddd09",
        "execution_millis": 104934,
        "execution_start": 1619478396415,
        "deepnote_cell_type": "code"
      },
      "source": "underflow_scaling = 1e10\n\n# Initialization\n\ninit_clustering = KMeans(n_clusters=K, random_state=0).fit(X)\nprior_var = 30\nreg = 1 # Regularization strength (inverse)\n\nmu_init = init_clustering.cluster_centers_[:,:n_cont]\nmuloc_init = init_clustering.cluster_centers_[:,n_cont:(n_cont+n_loc)]\nsigma_init = np.array([prior_var*np.eye(n_cont) for _ in range(K)])\nsigmaloc_init = np.array([prior_var*np.eye(n_loc) for _ in range(K)])\np_init = np.maximum(init_clustering.cluster_centers_[:,(n_cont+n_loc):(n_cont+n_loc+n_bool)],0)\nlam_init = init_clustering.cluster_centers_[:,(n_cont+n_loc+n_bool):]\npi_init = np.ones(K)/K\nf_init = [LogisticRegression(C=reg).fit(X_feat,y) for _ in range(K)]\n\n# EM Implementation\n\nmuloc = muloc_init\nsigmaloc = sigmaloc_init\nmu = mu_init\nsigma = sigma_init\np = p_init\nlam = lam_init\npi = pi_init\nf = f_init\n\nmax_iter = 1000\nstore_freq = 2000\n\nparams = {int(i*store_freq): {} for i in range(int(max_iter/store_freq)+1)}\n\nfor i in tqdm(range(max_iter),desc='Fitting...'):\n\n    # E-step\n\n    r_unnormalized = np.array([(underflow_scaling * pi[k] * \n                                sp.stats.multivariate_normal(mean=muloc[k],cov=sigmaloc[k]).pdf(X_loc) *\n                                sp.stats.multivariate_normal(mean=mu[k],cov=sigma[k]).pdf(X_cont) *\n                                sp.stats.bernoulli(p[k]).pmf(X_bool).prod(axis=1) *\n                                sp.stats.poisson(lam[k]).pmf(X_int).prod(axis=1) *\n                                sp.stats.bernoulli(f[k].predict_proba(X_feat)[:,1]).pmf(y))\n                               for k in range(K)]).T\n    r_unnormalized[np.where(~r_unnormalized.any(axis=1))[0]] = 1/K\n    r = r_unnormalized / r_unnormalized.sum(axis=1).reshape((-1,1))\n\n    if i % store_freq == 0:\n        params[i] = {'muloc': muloc,\n                     'sigmaloc': sigmaloc,\n                     'mu': mu,\n                     'sigma': sigma,\n                     'p': p,\n                     'lambda': lam,\n                     'pi': pi,\n                     'f': f}\n\n    # M-step\n\n    f = [LogisticRegression(C=reg).fit(X_feat,y,sample_weight=r[:,k]) for k in range(K)]\n    pi = r.sum(axis=0)/n_homes\n    means = np.array([np.array([r[n,k]*X[n] for n in range(n_homes)]).sum(axis=0) for k in range(K)]) / r.sum(axis=0).reshape((-1,1))\n    mu, muloc, p, lam = means[:,:n_cont], means[:,n_cont:(n_cont+n_loc)], means[:,(n_cont+n_loc):(n_cont+n_loc+n_bool)], means[:,(n_cont+n_loc+n_bool):]\n    sigma = np.array([np.array([r[n,k]*np.matmul((X_cont[n]-mu[k]).reshape((-1,1)),(X_cont[n]-mu[k]).reshape((1,-1))) for n in range(n_homes)]).sum(axis=0) for k in range(K)])  / r.sum(axis=0).reshape((-1,1,1))\n    sigmaloc = np.array([np.array([r[n,k]*np.matmul((X_loc[n]-muloc[k]).reshape((-1,1)),(X_loc[n]-muloc[k]).reshape((1,-1))) for n in range(n_homes)]).sum(axis=0) for k in range(K)])  / r.sum(axis=0).reshape((-1,1,1))\n    \nparams[max_iter] = {'muloc': muloc,\n                    'sigmaloc': sigmaloc,\n                    'mu': mu,\n                    'sigma': sigma,\n                    'p': p,\n                    'lambda': lam,\n                    'pi': pi,\n                    'f': f}\n\nr_unnormalized = np.array([(underflow_scaling * pi[k] * \n                            sp.stats.multivariate_normal(mean=muloc[k],cov=sigmaloc[k]).pdf(X_loc) *\n                            sp.stats.multivariate_normal(mean=mu[k],cov=sigma[k]).pdf(X_cont) *\n                            sp.stats.bernoulli(p[k]).pmf(X_bool).prod(axis=1) *\n                            sp.stats.poisson(lam[k]).pmf(X_int).prod(axis=1) *\n                            sp.stats.bernoulli(f[k].predict_proba(X_feat)[:,1]).pmf(y))\n                            for k in range(K)]).T\nr_unnormalized[np.where(~r_unnormalized.any(axis=1))[0]] = 1/K\nr = r_unnormalized / r_unnormalized.sum(axis=1).reshape((-1,1))\n\nsubmarket = np.argmax(r,axis=1)",
      "execution_count": 65,
      "outputs": [
        {
          "name": "stderr",
          "text": "\rFitting...:   0%|          | 0/1000 [00:00<?, ?it/s]",
          "output_type": "stream"
        }
      ]
    },
    {
      "cell_type": "code",
      "metadata": {
        "cell_id": "00008-0cec525d-84e4-4926-a9e4-bb49579f4fdf",
        "deepnote_to_be_reexecuted": false,
        "source_hash": "6e9d9900",
        "execution_millis": 5,
        "execution_start": 1619478148966,
        "deepnote_cell_type": "code"
      },
      "source": "r_unnormalized",
      "execution_count": 48,
      "outputs": [
        {
          "output_type": "execute_result",
          "execution_count": 48,
          "data": {
            "text/plain": "array([[4.02676604e-032, 0.00000000e+000, 0.00000000e+000,\n        0.00000000e+000, 0.00000000e+000],\n       [2.38854778e-032, 0.00000000e+000, 0.00000000e+000,\n        0.00000000e+000, 0.00000000e+000],\n       [2.47547747e-032, 0.00000000e+000, 0.00000000e+000,\n        0.00000000e+000, 0.00000000e+000],\n       ...,\n       [6.79722292e-228, 0.00000000e+000, 0.00000000e+000,\n        0.00000000e+000, 0.00000000e+000],\n       [2.98165640e-036, 0.00000000e+000, 0.00000000e+000,\n        0.00000000e+000, 0.00000000e+000],\n       [2.98165640e-036, 0.00000000e+000, 0.00000000e+000,\n        0.00000000e+000, 0.00000000e+000]])"
          },
          "metadata": {}
        }
      ]
    },
    {
      "cell_type": "code",
      "source": "k = 3\n\n#underflow_scaling * pi[k] * \n#sp.stats.multivariate_normal(mean=muloc[k],cov=sigmaloc[k]).pdf(X_loc) #*\n#sp.stats.multivariate_normal(mean=mu[k],cov=sigma[k]).pdf(X_cont) #*\nsp.stats.bernoulli(p[k]).pmf(X_bool)#.prod(axis=1) #*\n#sp.stats.poisson(lam[k]).pmf(X_int).prod(axis=1) #*\n#sp.stats.bernoulli(f[k].predict_proba(X_feat)[:,1]).pmf(y)",
      "metadata": {
        "tags": [],
        "cell_id": "00018-b39be13e-5e16-437c-82de-685f80cf307a",
        "deepnote_to_be_reexecuted": false,
        "source_hash": "d4f896",
        "execution_millis": 36,
        "execution_start": 1619476989990,
        "deepnote_cell_type": "code"
      },
      "outputs": [
        {
          "output_type": "execute_result",
          "execution_count": 41,
          "data": {
            "text/plain": "array([[0.97687861, 0.95375723,        nan],\n       [0.97687861, 0.04624277,        nan],\n       [0.97687861, 0.95375723,        nan],\n       ...,\n       [0.97687861, 0.95375723,        nan],\n       [0.97687861, 0.95375723,        nan],\n       [0.97687861, 0.95375723,        nan]])"
          },
          "metadata": {}
        }
      ],
      "execution_count": 41
    },
    {
      "cell_type": "code",
      "source": "sp.stats.bernoulli.pmf(0,p[3][2])",
      "metadata": {
        "tags": [],
        "cell_id": "00019-d60c9a7e-0d30-4de6-9cc6-933f55ed9e6a",
        "deepnote_to_be_reexecuted": false,
        "source_hash": "638ac91",
        "execution_millis": 6,
        "execution_start": 1619477806877,
        "deepnote_cell_type": "code"
      },
      "outputs": [
        {
          "output_type": "execute_result",
          "execution_count": 45,
          "data": {
            "text/plain": "nan"
          },
          "metadata": {}
        }
      ],
      "execution_count": 45
    },
    {
      "cell_type": "code",
      "source": "p",
      "metadata": {
        "tags": [],
        "cell_id": "00020-cddd1f8b-a87f-455e-996c-4dacc86ef95b",
        "deepnote_to_be_reexecuted": false,
        "source_hash": "cbd5d8df",
        "execution_start": 1619477895308,
        "execution_millis": 51,
        "deepnote_cell_type": "code"
      },
      "outputs": [
        {
          "output_type": "execute_result",
          "execution_count": 46,
          "data": {
            "text/plain": "array([[ 4.19901759e-03,  2.05514182e-01,  5.49041356e-02],\n       [ 5.38056272e-03,  1.29581885e-01,  4.66315435e-02],\n       [ 8.35782513e-03,  2.97207935e-01,  9.95591477e-02],\n       [ 2.31213873e-02,  4.62427746e-02, -4.99600361e-16],\n       [ 6.76691729e-03,  4.13533835e-02,  1.42857143e-02]])"
          },
          "metadata": {}
        }
      ],
      "execution_count": 46
    },
    {
      "cell_type": "code",
      "source": "from collections import Counter\nCounter(init_clustering.labels_)",
      "metadata": {
        "tags": [],
        "cell_id": "00011-43d48640-dc83-4245-a4f6-ff8fdd09a31e",
        "deepnote_to_be_reexecuted": false,
        "source_hash": "a711b413",
        "execution_millis": 10,
        "execution_start": 1619476702368,
        "deepnote_cell_type": "code"
      },
      "outputs": [
        {
          "output_type": "execute_result",
          "execution_count": 29,
          "data": {
            "text/plain": "Counter({0: 12622, 1: 8921, 2: 10888, 4: 1330, 3: 346})"
          },
          "metadata": {}
        }
      ],
      "execution_count": 29
    },
    {
      "cell_type": "markdown",
      "source": "<a style='text-decoration:none;line-height:16px;display:flex;color:#5B5B62;padding:10px;justify-content:end;' href='https://deepnote.com?utm_source=created-in-deepnote-cell&projectId=1c850c61-d934-4c85-b16d-3cb283df0c84' target=\"_blank\">\n<img alt='Created in deepnote.com' style='display:inline;max-height:16px;margin:0px;margin-right:7.5px;' src='data:image/svg+xml;base64,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' > </img>\nCreated in <span style='font-weight:600;margin-left:4px;'>Deepnote</span></a>",
      "metadata": {
        "tags": [],
        "created_in_deepnote_cell": true,
        "deepnote_cell_type": "markdown"
      }
    }
  ],
  "nbformat": 4,
  "nbformat_minor": 2,
  "metadata": {
    "kernelspec": {
      "display_name": "Python 3",
      "language": "python",
      "name": "python3"
    },
    "language_info": {
      "codemirror_mode": {
        "name": "ipython",
        "version": 3
      },
      "file_extension": ".py",
      "mimetype": "text/x-python",
      "name": "python",
      "nbconvert_exporter": "python",
      "pygments_lexer": "ipython3",
      "version": "3.7.3"
    },
    "deepnote_notebook_id": "c5eefe98-775b-4586-bb2c-f5e59b39f440",
    "deepnote": {},
    "deepnote_execution_queue": [
      {
        "cellId": "00007-7bd835c1-8529-46d8-9250-c37c7e2e8243",
        "sessionId": "36da7727-556c-4a15-8d63-bca321eb82cf",
        "msgId": "5f2ab65b-1d16-4e4d-bfcb-239b0a849317"
      }
    ]
  }
}