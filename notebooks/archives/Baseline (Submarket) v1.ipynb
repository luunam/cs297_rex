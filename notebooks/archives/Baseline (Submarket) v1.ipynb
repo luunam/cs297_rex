{
  "cells": [
    {
      "cell_type": "markdown",
      "source": "# Submarket baseline\n\nSteps include:\n\n1. kmeans to find submarkets\n2. Fit logistic regressions on the submarkets\n3. Compare accuracy scores against other submarket & non-submarket approaches",
      "metadata": {
        "tags": [],
        "cell_id": "00000-261685d8-b64b-4d20-adde-3c371549b38a",
        "deepnote_cell_type": "markdown"
      }
    },
    {
      "cell_type": "code",
      "metadata": {
        "deepnote_to_be_reexecuted": false,
        "execution_millis": 4197,
        "source_hash": "a2c7198b",
        "tags": [],
        "cell_id": "00001-18d3d39b-09e0-4a82-9462-c393325af354",
        "execution_start": 1617153667236,
        "deepnote_cell_type": "code"
      },
      "source": "#required packages\nimport sys\nsys.path.insert(0, '../scripts/')\n\nimport torch\nimport torch.nn as nn\nimport torch.optim as optim\nimport torch.nn.functional as F\nimport torchvision.transforms as T\n\nimport numpy as np\nimport pandas as pd\nimport matplotlib.pyplot as plt\nimport pymc3 as pm\nimport chardet\nimport datetime\n\nimport seaborn as sns\nfrom sklearn.linear_model import LogisticRegression\nfrom sklearn.preprocessing import StandardScaler\nfrom sklearn.cluster import KMeans\n\nfrom sklearn.model_selection import train_test_split\nfrom sklearn.metrics import roc_auc_score\nfrom sklearn.decomposition import PCA\n\nfrom models import AE, BaselineNet",
      "execution_count": null,
      "outputs": [
        {
          "name": "stderr",
          "text": "WARNING (theano.tensor.blas): Using NumPy C-API based implementation for BLAS functions.\n",
          "output_type": "stream"
        }
      ]
    },
    {
      "cell_type": "code",
      "metadata": {
        "deepnote_to_be_reexecuted": false,
        "execution_millis": 213,
        "source_hash": "a298679d",
        "tags": [],
        "cell_id": "00002-3dab0f01-3174-470f-a27f-71f82067a8e5",
        "execution_start": 1617153671438,
        "deepnote_cell_type": "code"
      },
      "source": "# Load dataset\ndf = pd.read_csv('../data/denver_prop_listing_clean.csv')\n\n#convert to datetime format\ndf[\"list_date\"] = pd.to_datetime(df[\"list_date\"])\ndf[\"sale_date\"] = pd.to_datetime(df[\"sale_date\"])\n\nmapping = {k: v for v, k in enumerate(df.property_type.unique())}\n\ndf['property_type_code'] = df['property_type'].map(mapping)\n",
      "execution_count": null,
      "outputs": []
    },
    {
      "cell_type": "code",
      "metadata": {
        "deepnote_to_be_reexecuted": false,
        "execution_millis": 4,
        "source_hash": "d54621c2",
        "tags": [],
        "cell_id": "00003-63a76f5c-51a0-4cc0-b47b-374be39988ce",
        "execution_start": 1617153671657,
        "deepnote_cell_type": "code"
      },
      "source": "#function to define the y variables\ndef gen_y(t_disc, data, t0=None):\n    ''' \n    t_disc: datetime.timedelta(days = XX)\n    t0: datetime.datetime(YYYY,MM,DD)\n    '''\n\n    if t0 is not None:\n        listed = np.array(((data['list_date'] >= t0) & (data['list_date'] < t0 + t_disc)) | ((data['list_date'] < t0) & (data['sale_date'] >= t0)), dtype=np.int8)\n        sale = np.array((data['sale_date'] >= t0) & (data['sale_date'] < t0 + t_disc), dtype = np.int8)\n        return np.vstack((listed, sale)).T",
      "execution_count": null,
      "outputs": []
    },
    {
      "cell_type": "code",
      "metadata": {
        "deepnote_to_be_reexecuted": false,
        "execution_millis": 13,
        "source_hash": "8d665493",
        "tags": [],
        "cell_id": "00004-5c460154-3f76-4f72-8248-a1c3f372292b",
        "execution_start": 1617153671665,
        "deepnote_cell_type": "code"
      },
      "source": "y_2019Q2 = gen_y(datetime.timedelta(days = 90), df, datetime.datetime(2019,4,1))\n\n# Remove all rows that aren't listed in that period\nlisted_index = np.where(y_2019Q2[:,0] == 1)\ndf_2019Q2 = df.iloc[listed_index]\n",
      "execution_count": null,
      "outputs": []
    },
    {
      "cell_type": "code",
      "metadata": {
        "deepnote_to_be_reexecuted": false,
        "execution_millis": 61,
        "source_hash": "43387116",
        "tags": [],
        "cell_id": "00005-03867b95-e4f8-4a42-a315-bb54e539887c",
        "execution_start": 1617153671685,
        "deepnote_cell_type": "code"
      },
      "source": "# Build X matrix and Y target vector\n\n# X = df.drop(columns=['property_id', 'zipcode', 'list_date', 'sale_date', 'current_status', 'property_type', 'has_jacuzzi', 'has_garage'])\nX = df_2019Q2.drop(columns=['fips','property_id', 'zipcode', 'list_date', 'sale_date', 'property_type', 'has_jacuzzi', 'has_garage', 'sale_price', 'ct_key', 'sale_price_per_sqft', 'property_type_code'])\nX = X.reset_index(drop=True)\ncolumns_to_scale = ['latitude', 'longitude', 'sqft']\nscaler = StandardScaler()\nX[columns_to_scale] =  scaler.fit_transform(X[columns_to_scale])\n\n\nY = y_2019Q2[np.where(y_2019Q2[:,0]==1)]\n\n\n\nX.info()",
      "execution_count": null,
      "outputs": [
        {
          "name": "stdout",
          "text": "<class 'pandas.core.frame.DataFrame'>\nRangeIndex: 7567 entries, 0 to 7566\nData columns (total 8 columns):\n #   Column           Non-Null Count  Dtype  \n---  ------           --------------  -----  \n 0   latitude         7567 non-null   float64\n 1   longitude        7567 non-null   float64\n 2   sqft             7567 non-null   float64\n 3   has_central_air  7567 non-null   bool   \n 4   has_pool         7567 non-null   bool   \n 5   has_solar        7567 non-null   bool   \n 6   bedrooms         7567 non-null   float64\n 7   full_baths       7567 non-null   float64\ndtypes: bool(3), float64(5)\nmemory usage: 317.9 KB\n",
          "output_type": "stream"
        }
      ]
    },
    {
      "cell_type": "code",
      "metadata": {
        "deepnote_to_be_reexecuted": false,
        "execution_millis": 480,
        "source_hash": "17413658",
        "tags": [],
        "cell_id": "00006-25b71e8d-2c47-478b-989f-eb905eb2b289",
        "execution_start": 1617153671728,
        "deepnote_cell_type": "code"
      },
      "source": "#attempt kmeans clustering\n#unsupervised approach\nK = 5\ninit_clustering = KMeans(n_clusters=K, random_state=0).fit(X)",
      "execution_count": null,
      "outputs": []
    },
    {
      "cell_type": "code",
      "metadata": {
        "deepnote_to_be_reexecuted": false,
        "execution_millis": 7,
        "source_hash": "7333adf3",
        "tags": [],
        "cell_id": "00007-1e014cf9-1819-4e1a-b81a-82cb7cf21897",
        "execution_start": 1617153672211,
        "deepnote_cell_type": "code"
      },
      "source": "cluster_labels = init_clustering.labels_",
      "execution_count": null,
      "outputs": []
    },
    {
      "cell_type": "code",
      "metadata": {
        "deepnote_to_be_reexecuted": false,
        "execution_millis": 99,
        "source_hash": "e950da07",
        "tags": [],
        "cell_id": "00008-f27a6e68-272b-4f5e-9fe5-15ecb372d9e7",
        "execution_start": 1617153672251,
        "deepnote_cell_type": "code"
      },
      "source": "for k in range(K):\n    print('Submarket {}: {} units'.format(k, sum(cluster_labels == k)))",
      "execution_count": null,
      "outputs": [
        {
          "name": "stdout",
          "text": "Submarket 0: 2667 units\nSubmarket 1: 520 units\nSubmarket 2: 938 units\nSubmarket 3: 1649 units\nSubmarket 4: 1793 units\n",
          "output_type": "stream"
        }
      ]
    },
    {
      "cell_type": "code",
      "metadata": {
        "deepnote_to_be_reexecuted": false,
        "execution_millis": 0,
        "source_hash": "4bc93347",
        "tags": [],
        "cell_id": "00009-b3c70a20-d50c-4871-b3f6-b69deee29b6d",
        "execution_start": 1617153672392,
        "deepnote_cell_type": "code"
      },
      "source": "#create a new df with has the clustering labels on it\nX_withlabels = X.copy()\nX_withlabels['labels'] = cluster_labels ",
      "execution_count": null,
      "outputs": []
    },
    {
      "cell_type": "markdown",
      "source": "## Fitting logistic regression to identified clusters from Kmeans",
      "metadata": {
        "tags": [],
        "cell_id": "00010-e8493f31-e42d-4360-a82f-200a6aa57245",
        "deepnote_cell_type": "markdown"
      }
    },
    {
      "cell_type": "code",
      "metadata": {
        "deepnote_to_be_reexecuted": false,
        "execution_millis": 1,
        "source_hash": "93ef0775",
        "tags": [],
        "cell_id": "00011-ad3ccdc5-1a70-40f7-a0c2-7df5af483eb2",
        "execution_start": 1617153672393,
        "deepnote_cell_type": "code"
      },
      "source": "def print_results(model):\n  print('Train set accuracy: {}'.format(model.score(X_train, y_train[:,1])))\n  print('Test set accuracy: {}'.format(model.score(X_test, y_test[:,1])))\n\n  return model.score(X_train, y_train[:,1]), model.score(X_test, y_test[:,1])",
      "execution_count": null,
      "outputs": []
    },
    {
      "cell_type": "code",
      "metadata": {
        "deepnote_to_be_reexecuted": false,
        "execution_millis": 0,
        "source_hash": "b0ecfd33",
        "tags": [],
        "cell_id": "00012-154a9242-9e4f-4f2a-8d2f-b136f59329d9",
        "execution_start": 1617153672395,
        "deepnote_cell_type": "code"
      },
      "source": "train_test_dict = {}\n\n#for loop which extracts the X & y df for each cluster\n#these will then be used to run the logistic regression \nfor i in range(5):\n    X2 = X_withlabels.loc[X_withlabels['labels'] == i]\n    X2 = X2.drop(columns = 'labels')\n    y2 = Y[X_withlabels['labels'] == i]\n    X_train, X_test, y_train, y_test = train_test_split(X2, y2, test_size=0.33, random_state =297)\n\n    train_test_dict[f'cluster {i}'] = (X_train, X_test, y_train, y_test)",
      "execution_count": null,
      "outputs": []
    },
    {
      "cell_type": "code",
      "metadata": {
        "deepnote_to_be_reexecuted": false,
        "execution_millis": 187,
        "source_hash": "5da2e1da",
        "tags": [],
        "cell_id": "00013-5c2d6ccb-def2-4d1f-8634-24828805db53",
        "execution_start": 1617153672439,
        "deepnote_cell_type": "code"
      },
      "source": "#now to fit for each cluster and get final results\n\nresults_dict = {}\n\ntrain_acc_agg = 0\ntrain_size = 0\ntest_acc_agg = 0\ntest_size = 0\n\ntest = np.array([])\npred = np.array([])\n\nfor i in range(5):\n    logit_reg = LogisticRegression()\n    X_train = train_test_dict[f'cluster {i}'][0]\n    X_test = train_test_dict[f'cluster {i}'][1]\n    y_train = train_test_dict[f'cluster {i}'][2]\n    y_test = train_test_dict[f'cluster {i}'][3]\n\n    #fit the logistic regression to each cluster\n    logit_reg.fit(X_train, y_train[:,1])\n    \n    #the below code is used in order to create a df containing a breakdown of metrics\n    #on a per cluster basis\n    print(f'For cluster {i}')\n    train_accuracy, test_accuracy = print_results(logit_reg)\n    print('=======')\n\n    pred_k = logit_reg.predict(X_test)\n    AUC_score = roc_auc_score(y_test[:,1], pred_k)\n\n    results_dict[f'cluster {i}'] = [train_accuracy, test_accuracy, AUC_score]\n    \n    #the below code is used to find the weighted average\n    test = np.append(test,y_test[:,1])\n    pred = np.append(pred,pred_k)\n    train_size += len(y_train)\n    train_acc_agg += train_accuracy * len(y_train)\n    test_size += len(y_test)\n    test_acc_agg += test_accuracy * len(y_test)\n\nresults_df = pd.DataFrame.from_dict(results_dict, orient='index')",
      "execution_count": null,
      "outputs": [
        {
          "name": "stdout",
          "text": "For cluster 0\nTrain set accuracy: 0.6657334826427772\nTest set accuracy: 0.677639046538025\n=======\nFor cluster 1\nTrain set accuracy: 0.8362068965517241\nTest set accuracy: 0.8313953488372093\n=======\nFor cluster 2\nTrain set accuracy: 0.7261146496815286\nTest set accuracy: 0.6580645161290323\n=======\nFor cluster 3\nTrain set accuracy: 0.7744565217391305\nTest set accuracy: 0.7761467889908257\n=======\nFor cluster 4\nTrain set accuracy: 0.7343880099916736\nTest set accuracy: 0.7331081081081081\n=======\n",
          "output_type": "stream"
        }
      ]
    },
    {
      "cell_type": "code",
      "metadata": {
        "deepnote_to_be_reexecuted": false,
        "execution_millis": 46,
        "source_hash": "d6e0bf70",
        "tags": [],
        "cell_id": "00014-4866e22b-74aa-42ec-b48f-d1074872de28",
        "execution_start": 1617153672635,
        "deepnote_cell_type": "code"
      },
      "source": "results_df = results_df.rename(columns = {0:'train_accuracy', 1:'test_accuracy', 2:'Test_AUC'})\nresults_df",
      "execution_count": null,
      "outputs": [
        {
          "output_type": "execute_result",
          "execution_count": 13,
          "data": {
            "application/vnd.deepnote.dataframe.v2+json": {
              "row_count": 5,
              "column_count": 3,
              "columns": [
                {
                  "name": "train_accuracy",
                  "dtype": "float64",
                  "stats": {
                    "unique_count": 5,
                    "nan_count": 0,
                    "min": 0.6657334826427772,
                    "max": 0.8362068965517241,
                    "histogram": [
                      {
                        "bin_start": 0.6657334826427772,
                        "bin_end": 0.6827808240336719,
                        "count": 1
                      },
                      {
                        "bin_start": 0.6827808240336719,
                        "bin_end": 0.6998281654245666,
                        "count": 0
                      },
                      {
                        "bin_start": 0.6998281654245666,
                        "bin_end": 0.7168755068154613,
                        "count": 0
                      },
                      {
                        "bin_start": 0.7168755068154613,
                        "bin_end": 0.733922848206356,
                        "count": 1
                      },
                      {
                        "bin_start": 0.733922848206356,
                        "bin_end": 0.7509701895972507,
                        "count": 1
                      },
                      {
                        "bin_start": 0.7509701895972507,
                        "bin_end": 0.7680175309881454,
                        "count": 0
                      },
                      {
                        "bin_start": 0.7680175309881454,
                        "bin_end": 0.78506487237904,
                        "count": 1
                      },
                      {
                        "bin_start": 0.78506487237904,
                        "bin_end": 0.8021122137699347,
                        "count": 0
                      },
                      {
                        "bin_start": 0.8021122137699347,
                        "bin_end": 0.8191595551608294,
                        "count": 0
                      },
                      {
                        "bin_start": 0.8191595551608294,
                        "bin_end": 0.8362068965517241,
                        "count": 1
                      }
                    ]
                  }
                },
                {
                  "name": "test_accuracy",
                  "dtype": "float64",
                  "stats": {
                    "unique_count": 5,
                    "nan_count": 0,
                    "min": 0.6580645161290323,
                    "max": 0.8313953488372093,
                    "histogram": [
                      {
                        "bin_start": 0.6580645161290323,
                        "bin_end": 0.67539759939985,
                        "count": 1
                      },
                      {
                        "bin_start": 0.67539759939985,
                        "bin_end": 0.6927306826706677,
                        "count": 1
                      },
                      {
                        "bin_start": 0.6927306826706677,
                        "bin_end": 0.7100637659414853,
                        "count": 0
                      },
                      {
                        "bin_start": 0.7100637659414853,
                        "bin_end": 0.7273968492123031,
                        "count": 0
                      },
                      {
                        "bin_start": 0.7273968492123031,
                        "bin_end": 0.7447299324831208,
                        "count": 1
                      },
                      {
                        "bin_start": 0.7447299324831208,
                        "bin_end": 0.7620630157539385,
                        "count": 0
                      },
                      {
                        "bin_start": 0.7620630157539385,
                        "bin_end": 0.7793960990247563,
                        "count": 1
                      },
                      {
                        "bin_start": 0.7793960990247563,
                        "bin_end": 0.796729182295574,
                        "count": 0
                      },
                      {
                        "bin_start": 0.796729182295574,
                        "bin_end": 0.8140622655663916,
                        "count": 0
                      },
                      {
                        "bin_start": 0.8140622655663916,
                        "bin_end": 0.8313953488372093,
                        "count": 1
                      }
                    ]
                  }
                },
                {
                  "name": "Test_AUC",
                  "dtype": "float64",
                  "stats": {
                    "unique_count": 5,
                    "nan_count": 0,
                    "min": 0.5046728971962616,
                    "max": 0.5950892857142858,
                    "histogram": [
                      {
                        "bin_start": 0.5046728971962616,
                        "bin_end": 0.513714536048064,
                        "count": 1
                      },
                      {
                        "bin_start": 0.513714536048064,
                        "bin_end": 0.5227561748998665,
                        "count": 0
                      },
                      {
                        "bin_start": 0.5227561748998665,
                        "bin_end": 0.5317978137516689,
                        "count": 1
                      },
                      {
                        "bin_start": 0.5317978137516689,
                        "bin_end": 0.5408394526034713,
                        "count": 0
                      },
                      {
                        "bin_start": 0.5408394526034713,
                        "bin_end": 0.5498810914552736,
                        "count": 0
                      },
                      {
                        "bin_start": 0.5498810914552736,
                        "bin_end": 0.5589227303070761,
                        "count": 0
                      },
                      {
                        "bin_start": 0.5589227303070761,
                        "bin_end": 0.5679643691588785,
                        "count": 0
                      },
                      {
                        "bin_start": 0.5679643691588785,
                        "bin_end": 0.5770060080106809,
                        "count": 0
                      },
                      {
                        "bin_start": 0.5770060080106809,
                        "bin_end": 0.5860476468624833,
                        "count": 2
                      },
                      {
                        "bin_start": 0.5860476468624833,
                        "bin_end": 0.5950892857142858,
                        "count": 1
                      }
                    ]
                  }
                },
                {
                  "name": "_deepnote_index_column",
                  "dtype": "object"
                }
              ],
              "rows_top": [
                {
                  "train_accuracy": 0.6657334826427772,
                  "test_accuracy": 0.677639046538025,
                  "Test_AUC": 0.5230427046263345,
                  "_deepnote_index_column": "cluster 0"
                },
                {
                  "train_accuracy": 0.8362068965517241,
                  "test_accuracy": 0.8313953488372093,
                  "Test_AUC": 0.5950892857142858,
                  "_deepnote_index_column": "cluster 1"
                },
                {
                  "train_accuracy": 0.7261146496815286,
                  "test_accuracy": 0.6580645161290323,
                  "Test_AUC": 0.5046728971962616,
                  "_deepnote_index_column": "cluster 2"
                },
                {
                  "train_accuracy": 0.7744565217391305,
                  "test_accuracy": 0.7761467889908257,
                  "Test_AUC": 0.5824980934742348,
                  "_deepnote_index_column": "cluster 3"
                },
                {
                  "train_accuracy": 0.7343880099916736,
                  "test_accuracy": 0.7331081081081081,
                  "Test_AUC": 0.5772897209154745,
                  "_deepnote_index_column": "cluster 4"
                }
              ],
              "rows_bottom": null
            },
            "text/plain": "           train_accuracy  test_accuracy  Test_AUC\ncluster 0        0.665733       0.677639  0.523043\ncluster 1        0.836207       0.831395  0.595089\ncluster 2        0.726115       0.658065  0.504673\ncluster 3        0.774457       0.776147  0.582498\ncluster 4        0.734388       0.733108  0.577290",
            "text/html": "<div>\n<style scoped>\n    .dataframe tbody tr th:only-of-type {\n        vertical-align: middle;\n    }\n\n    .dataframe tbody tr th {\n        vertical-align: top;\n    }\n\n    .dataframe thead th {\n        text-align: right;\n    }\n</style>\n<table border=\"1\" class=\"dataframe\">\n  <thead>\n    <tr style=\"text-align: right;\">\n      <th></th>\n      <th>train_accuracy</th>\n      <th>test_accuracy</th>\n      <th>Test_AUC</th>\n    </tr>\n  </thead>\n  <tbody>\n    <tr>\n      <th>cluster 0</th>\n      <td>0.665733</td>\n      <td>0.677639</td>\n      <td>0.523043</td>\n    </tr>\n    <tr>\n      <th>cluster 1</th>\n      <td>0.836207</td>\n      <td>0.831395</td>\n      <td>0.595089</td>\n    </tr>\n    <tr>\n      <th>cluster 2</th>\n      <td>0.726115</td>\n      <td>0.658065</td>\n      <td>0.504673</td>\n    </tr>\n    <tr>\n      <th>cluster 3</th>\n      <td>0.774457</td>\n      <td>0.776147</td>\n      <td>0.582498</td>\n    </tr>\n    <tr>\n      <th>cluster 4</th>\n      <td>0.734388</td>\n      <td>0.733108</td>\n      <td>0.577290</td>\n    </tr>\n  </tbody>\n</table>\n</div>"
          },
          "metadata": {}
        }
      ]
    },
    {
      "cell_type": "code",
      "metadata": {
        "deepnote_to_be_reexecuted": false,
        "execution_millis": 31,
        "source_hash": "1343fcd8",
        "tags": [],
        "cell_id": "00015-077c3f0a-5b75-48a9-9858-34624927f4ae",
        "execution_start": 1617153672682,
        "deepnote_cell_type": "code"
      },
      "source": "auc_agg = roc_auc_score(test, pred)\n\nprint('Marketwide Demand Prediction')\nprint(\"Number of Homes: {}\".format(len(Y[:,1])))\nprint(\"Training Accuracy: {:.4f}%\".format(train_acc_agg*100/train_size))\nprint(\"Testing Accuracy: {:.4f}%\".format(test_acc_agg*100/test_size))\nprint(\"AUC: {:.6f}\".format(auc_agg))",
      "execution_count": null,
      "outputs": [
        {
          "name": "stdout",
          "text": "Marketwide Demand Prediction\nNumber of Homes: 7567\nTraining Accuracy: 72.4887%\nTesting Accuracy: 72.0400%\nAUC: 0.547254\n",
          "output_type": "stream"
        }
      ]
    },
    {
      "cell_type": "code",
      "metadata": {
        "tags": [],
        "cell_id": "00016-85a75de3-1131-4d11-99cc-b8b26bfe95ec",
        "deepnote_to_be_reexecuted": false,
        "source_hash": "b623e53d",
        "execution_millis": 1,
        "execution_start": 1617153672699,
        "deepnote_cell_type": "code"
      },
      "source": "",
      "execution_count": null,
      "outputs": []
    },
    {
      "cell_type": "markdown",
      "source": "# Neural network on kmeans",
      "metadata": {
        "tags": [],
        "cell_id": "00017-55cb548b-ae6f-4f61-84b5-d51890531e01",
        "deepnote_cell_type": "markdown"
      }
    },
    {
      "cell_type": "code",
      "metadata": {
        "tags": [],
        "cell_id": "00018-0a339815-be0d-400a-ab7b-9ae173915018",
        "deepnote_to_be_reexecuted": false,
        "source_hash": "57e57084",
        "execution_millis": 146337,
        "execution_start": 1617153672706,
        "deepnote_cell_type": "code"
      },
      "source": "device = torch.device('cuda') if torch.cuda.is_available() else torch.device('cpu') \n\n\nresults_dict_nn = {}\n\ntrain_acc_agg_nn = 0\ntrain_size_nn = 0\ntest_acc_agg_nn = 0\ntest_size_nn = 0\n\ntest_nn = np.array([])\npred_nn = np.array([])\n\nfor i in range(5):\n    print(f'For cluster {i}')\n    X_train = train_test_dict[f'cluster {i}'][0]\n    X_test = train_test_dict[f'cluster {i}'][1]\n    y_train = train_test_dict[f'cluster {i}'][2]\n    y_test = train_test_dict[f'cluster {i}'][3]\n    \n    X_train = torch.tensor(X_train.astype(float).values, dtype=torch.float64).to(device)\n    y_train = torch.tensor(y_train[:,1], dtype=torch.int64).to(device)\n    y_train = torch.nn.functional.one_hot(y_train)\n    #fit the logistic regression to each cluster\n    net = BaselineNet(X_train.shape[1], y_train.shape[1], epochs=5000, debug=False).to(device)\n    net.feed(X_train, y_train)\n    \n    #the below code is used in order to create a df containing a breakdown of metrics\n    #on a per cluster basis\n    with torch.no_grad():\n      net.eval()\n      X_test = torch.tensor(X_test.astype(float).values, dtype=torch.float64).to(device)\n      y_test = torch.tensor(y_test[:,1], dtype=torch.int64).to(device)\n      y_test = torch.nn.functional.one_hot(y_test)\n\n      y_pred = net.forward(X_test.float()) \n      labels = torch.max(y_test, 1)[1]\n      correct = 0\n      total = y_pred.shape[0]\n      _, predicted = torch.max(y_pred.data, 1)\n      correct += (predicted == labels).sum()\n      accuracy = 100 * correct/total\n      print('Accuracy: {}'.format(accuracy))\n    print('=======')\n    \n    y_test = y_test.cpu()\n    AUC_score = roc_auc_score(y_test.cpu(), predicted.cpu().reshape(-1,1))\n\n    results_dict_nn[f'cluster {i}'] = [train_accuracy, test_accuracy, AUC_score]\n    \n    #the below code is used to find the weighted average\n    test_nn = np.append(test_nn,y_test[:,1])\n    pred_nn = np.append(pred_nn, predicted.cpu())\n    train_size_nn += len(y_train)\n    train_acc_agg_nn += train_accuracy * len(y_train)\n    test_size_nn += len(y_test)\n    test_acc_agg_nn += test_accuracy * len(y_test)\n\nresults_df_nn = pd.DataFrame.from_dict(results_dict_nn, orient='index')",
      "execution_count": null,
      "outputs": [
        {
          "name": "stdout",
          "text": "For cluster 0\nAccuracy: 66.51531982421875\n=======\nFor cluster 1\nAccuracy: 81.39534759521484\n=======\nFor cluster 2\nAccuracy: 66.7741928100586\n=======\nFor cluster 3\nAccuracy: 75.59632873535156\n=======\nFor cluster 4\nAccuracy: 73.64865112304688\n=======\n",
          "output_type": "stream"
        }
      ]
    },
    {
      "cell_type": "code",
      "metadata": {
        "tags": [],
        "cell_id": "00019-6d4f4c1e-7d7b-4469-a3dc-a546ee3f9c54",
        "deepnote_to_be_reexecuted": false,
        "source_hash": "87deb2ea",
        "execution_start": 1617153819058,
        "execution_millis": 30,
        "deepnote_cell_type": "code"
      },
      "source": "results_df_nn = results_df.rename(columns = {0:'train_accuracy', 1:'test_accuracy', 2:'Test_AUC'})\nresults_df_nn",
      "execution_count": null,
      "outputs": [
        {
          "output_type": "execute_result",
          "execution_count": 16,
          "data": {
            "application/vnd.deepnote.dataframe.v2+json": {
              "row_count": 5,
              "column_count": 3,
              "columns": [
                {
                  "name": "train_accuracy",
                  "dtype": "float64",
                  "stats": {
                    "unique_count": 5,
                    "nan_count": 0,
                    "min": 0.6657334826427772,
                    "max": 0.8362068965517241,
                    "histogram": [
                      {
                        "bin_start": 0.6657334826427772,
                        "bin_end": 0.6827808240336719,
                        "count": 1
                      },
                      {
                        "bin_start": 0.6827808240336719,
                        "bin_end": 0.6998281654245666,
                        "count": 0
                      },
                      {
                        "bin_start": 0.6998281654245666,
                        "bin_end": 0.7168755068154613,
                        "count": 0
                      },
                      {
                        "bin_start": 0.7168755068154613,
                        "bin_end": 0.733922848206356,
                        "count": 1
                      },
                      {
                        "bin_start": 0.733922848206356,
                        "bin_end": 0.7509701895972507,
                        "count": 1
                      },
                      {
                        "bin_start": 0.7509701895972507,
                        "bin_end": 0.7680175309881454,
                        "count": 0
                      },
                      {
                        "bin_start": 0.7680175309881454,
                        "bin_end": 0.78506487237904,
                        "count": 1
                      },
                      {
                        "bin_start": 0.78506487237904,
                        "bin_end": 0.8021122137699347,
                        "count": 0
                      },
                      {
                        "bin_start": 0.8021122137699347,
                        "bin_end": 0.8191595551608294,
                        "count": 0
                      },
                      {
                        "bin_start": 0.8191595551608294,
                        "bin_end": 0.8362068965517241,
                        "count": 1
                      }
                    ]
                  }
                },
                {
                  "name": "test_accuracy",
                  "dtype": "float64",
                  "stats": {
                    "unique_count": 5,
                    "nan_count": 0,
                    "min": 0.6580645161290323,
                    "max": 0.8313953488372093,
                    "histogram": [
                      {
                        "bin_start": 0.6580645161290323,
                        "bin_end": 0.67539759939985,
                        "count": 1
                      },
                      {
                        "bin_start": 0.67539759939985,
                        "bin_end": 0.6927306826706677,
                        "count": 1
                      },
                      {
                        "bin_start": 0.6927306826706677,
                        "bin_end": 0.7100637659414853,
                        "count": 0
                      },
                      {
                        "bin_start": 0.7100637659414853,
                        "bin_end": 0.7273968492123031,
                        "count": 0
                      },
                      {
                        "bin_start": 0.7273968492123031,
                        "bin_end": 0.7447299324831208,
                        "count": 1
                      },
                      {
                        "bin_start": 0.7447299324831208,
                        "bin_end": 0.7620630157539385,
                        "count": 0
                      },
                      {
                        "bin_start": 0.7620630157539385,
                        "bin_end": 0.7793960990247563,
                        "count": 1
                      },
                      {
                        "bin_start": 0.7793960990247563,
                        "bin_end": 0.796729182295574,
                        "count": 0
                      },
                      {
                        "bin_start": 0.796729182295574,
                        "bin_end": 0.8140622655663916,
                        "count": 0
                      },
                      {
                        "bin_start": 0.8140622655663916,
                        "bin_end": 0.8313953488372093,
                        "count": 1
                      }
                    ]
                  }
                },
                {
                  "name": "Test_AUC",
                  "dtype": "float64",
                  "stats": {
                    "unique_count": 5,
                    "nan_count": 0,
                    "min": 0.5046728971962616,
                    "max": 0.5950892857142858,
                    "histogram": [
                      {
                        "bin_start": 0.5046728971962616,
                        "bin_end": 0.513714536048064,
                        "count": 1
                      },
                      {
                        "bin_start": 0.513714536048064,
                        "bin_end": 0.5227561748998665,
                        "count": 0
                      },
                      {
                        "bin_start": 0.5227561748998665,
                        "bin_end": 0.5317978137516689,
                        "count": 1
                      },
                      {
                        "bin_start": 0.5317978137516689,
                        "bin_end": 0.5408394526034713,
                        "count": 0
                      },
                      {
                        "bin_start": 0.5408394526034713,
                        "bin_end": 0.5498810914552736,
                        "count": 0
                      },
                      {
                        "bin_start": 0.5498810914552736,
                        "bin_end": 0.5589227303070761,
                        "count": 0
                      },
                      {
                        "bin_start": 0.5589227303070761,
                        "bin_end": 0.5679643691588785,
                        "count": 0
                      },
                      {
                        "bin_start": 0.5679643691588785,
                        "bin_end": 0.5770060080106809,
                        "count": 0
                      },
                      {
                        "bin_start": 0.5770060080106809,
                        "bin_end": 0.5860476468624833,
                        "count": 2
                      },
                      {
                        "bin_start": 0.5860476468624833,
                        "bin_end": 0.5950892857142858,
                        "count": 1
                      }
                    ]
                  }
                },
                {
                  "name": "_deepnote_index_column",
                  "dtype": "object"
                }
              ],
              "rows_top": [
                {
                  "train_accuracy": 0.6657334826427772,
                  "test_accuracy": 0.677639046538025,
                  "Test_AUC": 0.5230427046263345,
                  "_deepnote_index_column": "cluster 0"
                },
                {
                  "train_accuracy": 0.8362068965517241,
                  "test_accuracy": 0.8313953488372093,
                  "Test_AUC": 0.5950892857142858,
                  "_deepnote_index_column": "cluster 1"
                },
                {
                  "train_accuracy": 0.7261146496815286,
                  "test_accuracy": 0.6580645161290323,
                  "Test_AUC": 0.5046728971962616,
                  "_deepnote_index_column": "cluster 2"
                },
                {
                  "train_accuracy": 0.7744565217391305,
                  "test_accuracy": 0.7761467889908257,
                  "Test_AUC": 0.5824980934742348,
                  "_deepnote_index_column": "cluster 3"
                },
                {
                  "train_accuracy": 0.7343880099916736,
                  "test_accuracy": 0.7331081081081081,
                  "Test_AUC": 0.5772897209154745,
                  "_deepnote_index_column": "cluster 4"
                }
              ],
              "rows_bottom": null
            },
            "text/plain": "           train_accuracy  test_accuracy  Test_AUC\ncluster 0        0.665733       0.677639  0.523043\ncluster 1        0.836207       0.831395  0.595089\ncluster 2        0.726115       0.658065  0.504673\ncluster 3        0.774457       0.776147  0.582498\ncluster 4        0.734388       0.733108  0.577290",
            "text/html": "<div>\n<style scoped>\n    .dataframe tbody tr th:only-of-type {\n        vertical-align: middle;\n    }\n\n    .dataframe tbody tr th {\n        vertical-align: top;\n    }\n\n    .dataframe thead th {\n        text-align: right;\n    }\n</style>\n<table border=\"1\" class=\"dataframe\">\n  <thead>\n    <tr style=\"text-align: right;\">\n      <th></th>\n      <th>train_accuracy</th>\n      <th>test_accuracy</th>\n      <th>Test_AUC</th>\n    </tr>\n  </thead>\n  <tbody>\n    <tr>\n      <th>cluster 0</th>\n      <td>0.665733</td>\n      <td>0.677639</td>\n      <td>0.523043</td>\n    </tr>\n    <tr>\n      <th>cluster 1</th>\n      <td>0.836207</td>\n      <td>0.831395</td>\n      <td>0.595089</td>\n    </tr>\n    <tr>\n      <th>cluster 2</th>\n      <td>0.726115</td>\n      <td>0.658065</td>\n      <td>0.504673</td>\n    </tr>\n    <tr>\n      <th>cluster 3</th>\n      <td>0.774457</td>\n      <td>0.776147</td>\n      <td>0.582498</td>\n    </tr>\n    <tr>\n      <th>cluster 4</th>\n      <td>0.734388</td>\n      <td>0.733108</td>\n      <td>0.577290</td>\n    </tr>\n  </tbody>\n</table>\n</div>"
          },
          "metadata": {}
        }
      ]
    },
    {
      "cell_type": "code",
      "metadata": {
        "tags": [],
        "cell_id": "00020-7c48a4f6-76d9-4b15-b671-07e686b28600",
        "deepnote_to_be_reexecuted": false,
        "source_hash": "50b9c37e",
        "execution_start": 1617153819069,
        "execution_millis": 19,
        "deepnote_cell_type": "code"
      },
      "source": "auc_agg_nn = roc_auc_score(test_nn, pred_nn)\n\nprint('Marketwide Demand Prediction')\nprint(\"Number of Homes: {}\".format(len(Y[:,1])))\nprint(\"Training Accuracy: {:.4f}%\".format(train_acc_agg_nn*100/train_size_nn))\nprint(\"Testing Accuracy: {:.4f}%\".format(test_acc_agg_nn*100/test_size_nn))\nprint(\"AUC: {:.6f}\".format(auc_agg_nn))",
      "execution_count": null,
      "outputs": [
        {
          "name": "stdout",
          "text": "Marketwide Demand Prediction\nNumber of Homes: 7567\nTraining Accuracy: 73.4388%\nTesting Accuracy: 73.3108%\nAUC: 0.579349\n",
          "output_type": "stream"
        }
      ]
    },
    {
      "cell_type": "markdown",
      "source": "# PCA then Kmeans",
      "metadata": {
        "tags": [],
        "cell_id": "00021-4cf6612a-ff42-4222-83d9-bd7a57a3c0ed",
        "deepnote_cell_type": "markdown"
      }
    },
    {
      "cell_type": "code",
      "metadata": {
        "deepnote_to_be_reexecuted": false,
        "execution_millis": 49,
        "source_hash": "6356570f",
        "tags": [],
        "cell_id": "00022-98107d60-12ba-4dcc-aa16-fbd7ce658e30",
        "execution_start": 1617153819082,
        "deepnote_cell_type": "code"
      },
      "source": "#get top two PCA components\npca = PCA(n_components=3)\nx_pca = pca.fit_transform (X)\nprint(f'The variance contained in the top three components is {np.sum(pca.explained_variance_ratio_):.3f}')",
      "execution_count": null,
      "outputs": [
        {
          "name": "stdout",
          "text": "The variance contained in the top three components is 0.832\n",
          "output_type": "stream"
        }
      ]
    },
    {
      "cell_type": "code",
      "metadata": {
        "deepnote_to_be_reexecuted": false,
        "execution_millis": 715,
        "source_hash": "da9747ee",
        "tags": [],
        "cell_id": "00023-ef8f034d-5ac1-407f-b317-93638f97ef19",
        "execution_start": 1617153819125,
        "deepnote_cell_type": "code"
      },
      "source": "#attempt kmeans clustering\n#unsupervised approach\nK = 5\ninit_clustering_pca = KMeans(n_clusters=K, random_state=0).fit(x_pca)\n\npca_cluster_labels = init_clustering_pca.labels_\n\nfor k in range(K):\n    print('Submarket {}: {} units'.format(k, sum(pca_cluster_labels == k)))",
      "execution_count": null,
      "outputs": [
        {
          "name": "stdout",
          "text": "Submarket 0: 2633 units\nSubmarket 1: 1828 units\nSubmarket 2: 1580 units\nSubmarket 3: 545 units\nSubmarket 4: 981 units\n",
          "output_type": "stream"
        }
      ]
    },
    {
      "cell_type": "code",
      "metadata": {
        "deepnote_to_be_reexecuted": false,
        "execution_millis": 11,
        "source_hash": "6f0abad6",
        "tags": [],
        "cell_id": "00024-1b62145c-adb9-43fd-b1b6-4cf96904630a",
        "execution_start": 1617153819847,
        "deepnote_cell_type": "code"
      },
      "source": "pca_df = pd.DataFrame(x_pca).rename(columns={0:'pca1', 1:'pca2',2:'pca3'})\n\n#add the clustering labels on to df\npca_df['labels'] = pca_cluster_labels ",
      "execution_count": null,
      "outputs": []
    },
    {
      "cell_type": "markdown",
      "source": "## Fitting logistic regression to identified clusters from PCA + Kmeans",
      "metadata": {
        "tags": [],
        "cell_id": "00025-12d9df81-51b3-4e23-b5b6-65a3a1b9553c",
        "deepnote_cell_type": "markdown"
      }
    },
    {
      "cell_type": "code",
      "metadata": {
        "deepnote_to_be_reexecuted": false,
        "execution_millis": 15,
        "source_hash": "2e1e4014",
        "tags": [],
        "cell_id": "00026-d2edd076-4746-4ee0-8c2e-4ec608ca9f5c",
        "execution_start": 1617153819861,
        "deepnote_cell_type": "code"
      },
      "source": "train_test_dict_pca = {}\n\n#for loop which extracts the X & y df for each cluster\n#these will then be used to run the logistic regression \nfor i in range(5):\n    X2 = pca_df.loc[pca_df['labels'] == i]\n    \n    X2 = X2.drop(columns = 'labels')\n    \n    y2 = Y[pca_df['labels'] == i]\n    X_train, X_test, y_train, y_test = train_test_split(X2, y2, test_size=0.33, random_state =297)\n\n    train_test_dict_pca[f'cluster {i}'] = (X_train, X_test, y_train, y_test)",
      "execution_count": null,
      "outputs": []
    },
    {
      "cell_type": "code",
      "metadata": {
        "deepnote_to_be_reexecuted": false,
        "execution_millis": 89,
        "source_hash": "39384266",
        "tags": [],
        "cell_id": "00027-149dd861-f0c9-429c-a619-2b50fbdab8d8",
        "execution_start": 1617153819885,
        "deepnote_cell_type": "code"
      },
      "source": "#now to fit for each cluster and get final results\n\nresults_dict_pca = {}\n\n\n\nfor i in range(5):\n    logit_reg = LogisticRegression()\n    X_train = train_test_dict_pca[f'cluster {i}'][0]\n    X_test = train_test_dict_pca[f'cluster {i}'][1]\n    y_train = train_test_dict_pca[f'cluster {i}'][2]\n    y_test = train_test_dict_pca[f'cluster {i}'][3]\n\n    #fit the logistic regression to each cluster\n    logit_reg.fit(X_train, y_train[:,1])\n    \n    #the below code is used in order to create a df containing a breakdown of metrics\n    #on a per cluster basis\n    print(f'For cluster {i}')\n    train_accuracy, test_accuracy = print_results(logit_reg)\n    print('=======')\n\n    pred_k = logit_reg.predict(X_test)\n    AUC_score = roc_auc_score(y_test[:,1], pred_k)\n\n    results_dict_pca[f'cluster {i}'] = [train_accuracy, test_accuracy, AUC_score]\n    \n\nresults_df_pca = pd.DataFrame.from_dict(results_dict_pca, orient='index')",
      "execution_count": null,
      "outputs": [
        {
          "name": "stdout",
          "text": "For cluster 0\nTrain set accuracy: 0.6655328798185941\nTest set accuracy: 0.6593785960874569\n=======\nFor cluster 1\nTrain set accuracy: 0.7205882352941176\nTest set accuracy: 0.7019867549668874\n=======\nFor cluster 2\nTrain set accuracy: 0.7372400756143668\nTest set accuracy: 0.7720306513409961\n=======\nFor cluster 3\nTrain set accuracy: 0.810958904109589\nTest set accuracy: 0.7944444444444444\n=======\nFor cluster 4\nTrain set accuracy: 0.7077625570776256\nTest set accuracy: 0.6820987654320988\n=======\n",
          "output_type": "stream"
        }
      ]
    },
    {
      "cell_type": "code",
      "metadata": {
        "deepnote_to_be_reexecuted": false,
        "execution_millis": 49,
        "source_hash": "a07d81d1",
        "tags": [],
        "cell_id": "00028-d499c494-0c6d-4bd1-952e-2c8bd71ba4f1",
        "execution_start": 1617153819986,
        "deepnote_cell_type": "code"
      },
      "source": "results_df_pca = results_df.rename(columns = {0:'train_accuracy', 1:'test_accuracy', 2:'Test_AUC'})\nresults_df_pca",
      "execution_count": null,
      "outputs": [
        {
          "output_type": "execute_result",
          "execution_count": 23,
          "data": {
            "application/vnd.deepnote.dataframe.v2+json": {
              "row_count": 5,
              "column_count": 3,
              "columns": [
                {
                  "name": "train_accuracy",
                  "dtype": "float64",
                  "stats": {
                    "unique_count": 5,
                    "nan_count": 0,
                    "min": 0.6657334826427772,
                    "max": 0.8362068965517241,
                    "histogram": [
                      {
                        "bin_start": 0.6657334826427772,
                        "bin_end": 0.6827808240336719,
                        "count": 1
                      },
                      {
                        "bin_start": 0.6827808240336719,
                        "bin_end": 0.6998281654245666,
                        "count": 0
                      },
                      {
                        "bin_start": 0.6998281654245666,
                        "bin_end": 0.7168755068154613,
                        "count": 0
                      },
                      {
                        "bin_start": 0.7168755068154613,
                        "bin_end": 0.733922848206356,
                        "count": 1
                      },
                      {
                        "bin_start": 0.733922848206356,
                        "bin_end": 0.7509701895972507,
                        "count": 1
                      },
                      {
                        "bin_start": 0.7509701895972507,
                        "bin_end": 0.7680175309881454,
                        "count": 0
                      },
                      {
                        "bin_start": 0.7680175309881454,
                        "bin_end": 0.78506487237904,
                        "count": 1
                      },
                      {
                        "bin_start": 0.78506487237904,
                        "bin_end": 0.8021122137699347,
                        "count": 0
                      },
                      {
                        "bin_start": 0.8021122137699347,
                        "bin_end": 0.8191595551608294,
                        "count": 0
                      },
                      {
                        "bin_start": 0.8191595551608294,
                        "bin_end": 0.8362068965517241,
                        "count": 1
                      }
                    ]
                  }
                },
                {
                  "name": "test_accuracy",
                  "dtype": "float64",
                  "stats": {
                    "unique_count": 5,
                    "nan_count": 0,
                    "min": 0.6580645161290323,
                    "max": 0.8313953488372093,
                    "histogram": [
                      {
                        "bin_start": 0.6580645161290323,
                        "bin_end": 0.67539759939985,
                        "count": 1
                      },
                      {
                        "bin_start": 0.67539759939985,
                        "bin_end": 0.6927306826706677,
                        "count": 1
                      },
                      {
                        "bin_start": 0.6927306826706677,
                        "bin_end": 0.7100637659414853,
                        "count": 0
                      },
                      {
                        "bin_start": 0.7100637659414853,
                        "bin_end": 0.7273968492123031,
                        "count": 0
                      },
                      {
                        "bin_start": 0.7273968492123031,
                        "bin_end": 0.7447299324831208,
                        "count": 1
                      },
                      {
                        "bin_start": 0.7447299324831208,
                        "bin_end": 0.7620630157539385,
                        "count": 0
                      },
                      {
                        "bin_start": 0.7620630157539385,
                        "bin_end": 0.7793960990247563,
                        "count": 1
                      },
                      {
                        "bin_start": 0.7793960990247563,
                        "bin_end": 0.796729182295574,
                        "count": 0
                      },
                      {
                        "bin_start": 0.796729182295574,
                        "bin_end": 0.8140622655663916,
                        "count": 0
                      },
                      {
                        "bin_start": 0.8140622655663916,
                        "bin_end": 0.8313953488372093,
                        "count": 1
                      }
                    ]
                  }
                },
                {
                  "name": "Test_AUC",
                  "dtype": "float64",
                  "stats": {
                    "unique_count": 5,
                    "nan_count": 0,
                    "min": 0.5046728971962616,
                    "max": 0.5950892857142858,
                    "histogram": [
                      {
                        "bin_start": 0.5046728971962616,
                        "bin_end": 0.513714536048064,
                        "count": 1
                      },
                      {
                        "bin_start": 0.513714536048064,
                        "bin_end": 0.5227561748998665,
                        "count": 0
                      },
                      {
                        "bin_start": 0.5227561748998665,
                        "bin_end": 0.5317978137516689,
                        "count": 1
                      },
                      {
                        "bin_start": 0.5317978137516689,
                        "bin_end": 0.5408394526034713,
                        "count": 0
                      },
                      {
                        "bin_start": 0.5408394526034713,
                        "bin_end": 0.5498810914552736,
                        "count": 0
                      },
                      {
                        "bin_start": 0.5498810914552736,
                        "bin_end": 0.5589227303070761,
                        "count": 0
                      },
                      {
                        "bin_start": 0.5589227303070761,
                        "bin_end": 0.5679643691588785,
                        "count": 0
                      },
                      {
                        "bin_start": 0.5679643691588785,
                        "bin_end": 0.5770060080106809,
                        "count": 0
                      },
                      {
                        "bin_start": 0.5770060080106809,
                        "bin_end": 0.5860476468624833,
                        "count": 2
                      },
                      {
                        "bin_start": 0.5860476468624833,
                        "bin_end": 0.5950892857142858,
                        "count": 1
                      }
                    ]
                  }
                },
                {
                  "name": "_deepnote_index_column",
                  "dtype": "object"
                }
              ],
              "rows_top": [
                {
                  "train_accuracy": 0.6657334826427772,
                  "test_accuracy": 0.677639046538025,
                  "Test_AUC": 0.5230427046263345,
                  "_deepnote_index_column": "cluster 0"
                },
                {
                  "train_accuracy": 0.8362068965517241,
                  "test_accuracy": 0.8313953488372093,
                  "Test_AUC": 0.5950892857142858,
                  "_deepnote_index_column": "cluster 1"
                },
                {
                  "train_accuracy": 0.7261146496815286,
                  "test_accuracy": 0.6580645161290323,
                  "Test_AUC": 0.5046728971962616,
                  "_deepnote_index_column": "cluster 2"
                },
                {
                  "train_accuracy": 0.7744565217391305,
                  "test_accuracy": 0.7761467889908257,
                  "Test_AUC": 0.5824980934742348,
                  "_deepnote_index_column": "cluster 3"
                },
                {
                  "train_accuracy": 0.7343880099916736,
                  "test_accuracy": 0.7331081081081081,
                  "Test_AUC": 0.5772897209154745,
                  "_deepnote_index_column": "cluster 4"
                }
              ],
              "rows_bottom": null
            },
            "text/plain": "           train_accuracy  test_accuracy  Test_AUC\ncluster 0        0.665733       0.677639  0.523043\ncluster 1        0.836207       0.831395  0.595089\ncluster 2        0.726115       0.658065  0.504673\ncluster 3        0.774457       0.776147  0.582498\ncluster 4        0.734388       0.733108  0.577290",
            "text/html": "<div>\n<style scoped>\n    .dataframe tbody tr th:only-of-type {\n        vertical-align: middle;\n    }\n\n    .dataframe tbody tr th {\n        vertical-align: top;\n    }\n\n    .dataframe thead th {\n        text-align: right;\n    }\n</style>\n<table border=\"1\" class=\"dataframe\">\n  <thead>\n    <tr style=\"text-align: right;\">\n      <th></th>\n      <th>train_accuracy</th>\n      <th>test_accuracy</th>\n      <th>Test_AUC</th>\n    </tr>\n  </thead>\n  <tbody>\n    <tr>\n      <th>cluster 0</th>\n      <td>0.665733</td>\n      <td>0.677639</td>\n      <td>0.523043</td>\n    </tr>\n    <tr>\n      <th>cluster 1</th>\n      <td>0.836207</td>\n      <td>0.831395</td>\n      <td>0.595089</td>\n    </tr>\n    <tr>\n      <th>cluster 2</th>\n      <td>0.726115</td>\n      <td>0.658065</td>\n      <td>0.504673</td>\n    </tr>\n    <tr>\n      <th>cluster 3</th>\n      <td>0.774457</td>\n      <td>0.776147</td>\n      <td>0.582498</td>\n    </tr>\n    <tr>\n      <th>cluster 4</th>\n      <td>0.734388</td>\n      <td>0.733108</td>\n      <td>0.577290</td>\n    </tr>\n  </tbody>\n</table>\n</div>"
          },
          "metadata": {}
        }
      ]
    },
    {
      "cell_type": "code",
      "metadata": {
        "tags": [],
        "cell_id": "00029-cd64e5ee-5a30-4746-8e14-053ff61f5af7",
        "deepnote_to_be_reexecuted": false,
        "source_hash": "b623e53d",
        "execution_start": 1617153820029,
        "execution_millis": 1,
        "deepnote_cell_type": "code"
      },
      "source": "",
      "execution_count": null,
      "outputs": []
    },
    {
      "cell_type": "markdown",
      "source": "<a style='text-decoration:none;line-height:16px;display:flex;color:#5B5B62;padding:10px;justify-content:end;' href='https://deepnote.com?utm_source=created-in-deepnote-cell&projectId=1c850c61-d934-4c85-b16d-3cb283df0c84' target=\"_blank\">\n<img alt='Created in deepnote.com' style='display:inline;max-height:16px;margin:0px;margin-right:7.5px;' src='data:image/svg+xml;base64,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' > </img>\nCreated in <span style='font-weight:600;margin-left:4px;'>Deepnote</span></a>",
      "metadata": {
        "tags": [],
        "created_in_deepnote_cell": true,
        "deepnote_cell_type": "markdown"
      }
    }
  ],
  "nbformat": 4,
  "nbformat_minor": 2,
  "metadata": {
    "deepnote": {},
    "deepnote_execution_queue": [],
    "deepnote_notebook_id": "8f92be4a-e785-4121-b133-c04caa31b8f7",
    "kernelspec": {
      "display_name": "Python 3",
      "language": "python",
      "name": "python3"
    },
    "language_info": {
      "codemirror_mode": {
        "name": "ipython",
        "version": 3
      },
      "file_extension": ".py",
      "mimetype": "text/x-python",
      "name": "python",
      "nbconvert_exporter": "python",
      "pygments_lexer": "ipython3",
      "version": "3.7.3"
    }
  }
}