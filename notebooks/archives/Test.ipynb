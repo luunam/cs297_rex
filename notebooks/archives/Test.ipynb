{
  "cells": [
    {
      "cell_type": "code",
      "metadata": {
        "tags": [],
        "cell_id": "00000-458c7169-9af9-4a1f-8de6-5912082ae782",
        "deepnote_to_be_reexecuted": false,
        "source_hash": "66dad6e9",
        "execution_start": 1618842060422,
        "execution_millis": 3909,
        "deepnote_cell_type": "code"
      },
      "source": "#required packages\nimport numpy as np\nimport pandas as pd\nimport matplotlib.pyplot as plt\nimport pymc3 as pm\nimport chardet\nimport datetime\n\nimport seaborn as sns\n\nfrom sklearn.feature_selection import VarianceThreshold\n\ncolor = sns.color_palette()\n\n%matplotlib inline",
      "execution_count": null,
      "outputs": [
        {
          "name": "stderr",
          "text": "WARNING (theano.tensor.blas): Using NumPy C-API based implementation for BLAS functions.\n",
          "output_type": "stream"
        }
      ]
    },
    {
      "cell_type": "code",
      "metadata": {
        "tags": [],
        "cell_id": "00001-d9ff0916-4901-4fd1-9ed2-bb84e1a2d398",
        "deepnote_to_be_reexecuted": false,
        "source_hash": "53e0914d",
        "execution_start": 1618842078218,
        "execution_millis": 33,
        "deepnote_cell_type": "code"
      },
      "source": "cross = pd.read_csv('../data/denver_property_crosswalk.csv')",
      "execution_count": null,
      "outputs": []
    },
    {
      "cell_type": "code",
      "metadata": {
        "tags": [],
        "cell_id": "00002-bb025719-9eda-4bd6-bd76-781f08e6addb",
        "deepnote_to_be_reexecuted": false,
        "source_hash": "ee961b03",
        "execution_millis": 26,
        "execution_start": 1618842247640,
        "deepnote_cell_type": "code"
      },
      "source": "cross.info()",
      "execution_count": null,
      "outputs": [
        {
          "name": "stdout",
          "text": "<class 'pandas.core.frame.DataFrame'>\nRangeIndex: 261059 entries, 0 to 261058\nData columns (total 2 columns):\n #   Column           Non-Null Count   Dtype  \n---  ------           --------------   -----  \n 0   cc_property_id   261059 non-null  int64  \n 1   rex_property_id  261043 non-null  float64\ndtypes: float64(1), int64(1)\nmemory usage: 4.0 MB\n",
          "output_type": "stream"
        }
      ]
    },
    {
      "cell_type": "code",
      "metadata": {
        "tags": [],
        "cell_id": "00003-d2876f30-4468-4032-af9a-10e0087a17c3",
        "deepnote_to_be_reexecuted": false,
        "source_hash": "6b080500",
        "execution_start": 1618842139685,
        "execution_millis": 955,
        "deepnote_cell_type": "code"
      },
      "source": "df = pd.read_csv('../data/denver_listing_dates_revised_with_ct.csv')",
      "execution_count": null,
      "outputs": []
    },
    {
      "cell_type": "code",
      "metadata": {
        "tags": [],
        "cell_id": "00004-4ddc2938-413d-46f2-ba41-aaa493b221be",
        "deepnote_to_be_reexecuted": false,
        "source_hash": "faebc872",
        "execution_millis": 2,
        "execution_start": 1618842177330,
        "deepnote_cell_type": "code"
      },
      "source": "keys = df[['property_id', 'ct_key']].copy()",
      "execution_count": null,
      "outputs": []
    },
    {
      "cell_type": "code",
      "metadata": {
        "tags": [],
        "cell_id": "00005-67210855-695e-4fcc-b1e2-929f61d18571",
        "deepnote_to_be_reexecuted": false,
        "source_hash": "3764173f",
        "execution_millis": 179,
        "execution_start": 1618842256132,
        "deepnote_cell_type": "code"
      },
      "source": "joined = keys.merge(cross, left_on='property_id', right_on='rex_property_id')",
      "execution_count": null,
      "outputs": []
    },
    {
      "cell_type": "code",
      "metadata": {
        "tags": [],
        "cell_id": "00006-f41884ef-9c36-46c7-9106-cce9ab9dad5e",
        "deepnote_to_be_reexecuted": false,
        "source_hash": "4de0924d",
        "execution_millis": 20,
        "execution_start": 1618842257000,
        "deepnote_cell_type": "code"
      },
      "source": "joined.info()",
      "execution_count": null,
      "outputs": [
        {
          "name": "stdout",
          "text": "<class 'pandas.core.frame.DataFrame'>\nInt64Index: 295557 entries, 0 to 295556\nData columns (total 4 columns):\n #   Column           Non-Null Count   Dtype  \n---  ------           --------------   -----  \n 0   property_id      295557 non-null  int64  \n 1   ct_key           295557 non-null  float64\n 2   cc_property_id   295557 non-null  int64  \n 3   rex_property_id  295557 non-null  float64\ndtypes: float64(2), int64(2)\nmemory usage: 11.3 MB\n",
          "output_type": "stream"
        }
      ]
    },
    {
      "cell_type": "code",
      "metadata": {
        "tags": [],
        "cell_id": "00007-d865afa3-9a1e-4cf6-a263-154249e8c515",
        "deepnote_to_be_reexecuted": false,
        "source_hash": "697b5ac1",
        "execution_millis": 0,
        "execution_start": 1618842295562,
        "deepnote_cell_type": "code"
      },
      "source": "joined = joined.drop(columns=['property_id'])",
      "execution_count": null,
      "outputs": []
    },
    {
      "cell_type": "code",
      "metadata": {
        "tags": [],
        "cell_id": "00008-0d92a9f2-0efc-49ad-b63c-4fe39a02114c",
        "deepnote_to_be_reexecuted": false,
        "source_hash": "655540de",
        "execution_start": 1618842312620,
        "execution_millis": 1016,
        "deepnote_cell_type": "code"
      },
      "source": "joined.to_csv('../data/denver_crosswalk_with_ct.csv')",
      "execution_count": null,
      "outputs": []
    },
    {
      "cell_type": "code",
      "metadata": {
        "tags": [],
        "cell_id": "00009-66c9f22e-dcb8-4ee0-82de-75a78196960e",
        "deepnote_cell_type": "code"
      },
      "source": "",
      "execution_count": null,
      "outputs": []
    },
    {
      "cell_type": "markdown",
      "source": "<a style='text-decoration:none;line-height:16px;display:flex;color:#5B5B62;padding:10px;justify-content:end;' href='https://deepnote.com?utm_source=created-in-deepnote-cell&projectId=1c850c61-d934-4c85-b16d-3cb283df0c84' target=\"_blank\">\n<img alt='Created in deepnote.com' style='display:inline;max-height:16px;margin:0px;margin-right:7.5px;' src='data:image/svg+xml;base64,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' > </img>\nCreated in <span style='font-weight:600;margin-left:4px;'>Deepnote</span></a>",
      "metadata": {
        "tags": [],
        "created_in_deepnote_cell": true,
        "deepnote_cell_type": "markdown"
      }
    }
  ],
  "nbformat": 4,
  "nbformat_minor": 2,
  "metadata": {
    "orig_nbformat": 2,
    "deepnote": {
      "is_reactive": false
    },
    "deepnote_notebook_id": "4ac1a936-ef73-4fe9-8ab9-43f4eac7bdca",
    "deepnote_execution_queue": []
  }
}