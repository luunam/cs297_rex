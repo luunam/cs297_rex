{
  "cells": [
    {
      "cell_type": "markdown",
      "source": "# EDA\n\nThis sheet contains:\n\n1. EDA of MLS+REX+ Census data\n",
      "metadata": {
        "tags": [],
        "cell_id": "00000-46f149ab-20b1-4755-8709-02e785f6392f",
        "deepnote_cell_type": "markdown"
      }
    },
    {
      "cell_type": "code",
      "metadata": {
        "tags": [],
        "cell_id": "00001-7e0af606-379f-48a5-b88b-7d535ef2eb62",
        "deepnote_to_be_reexecuted": false,
        "source_hash": "243c2528",
        "execution_millis": 3627,
        "execution_start": 1619564687157,
        "deepnote_cell_type": "code"
      },
      "source": "#required packages\nimport numpy as np\nimport pandas as pd\nimport matplotlib.pyplot as plt\nimport pymc3 as pm\nimport chardet\nimport datetime\n\nimport seaborn as sns\ncolor = sns.color_palette()\n\n%matplotlib inline",
      "outputs": [
        {
          "name": "stderr",
          "text": "WARNING (theano.tensor.blas): Using NumPy C-API based implementation for BLAS functions.\n",
          "output_type": "stream"
        }
      ],
      "execution_count": null
    },
    {
      "cell_type": "markdown",
      "source": "## 1. EDA \n\nFirstly we need to import the wider property dataset and the listings dataset.\n\nIn order to merge the two datsets we need to use the denver_property_crosswalk.csv\n",
      "metadata": {
        "tags": [],
        "cell_id": "00001-0dca3a37-787e-4583-9c5d-a199317afd5c",
        "deepnote_cell_type": "markdown"
      }
    },
    {
      "cell_type": "code",
      "metadata": {
        "tags": [],
        "cell_id": "00000-72272d6a-2809-4197-9ef0-ae24ec8b47cd",
        "deepnote_to_be_reexecuted": false,
        "source_hash": "f6ff96a3",
        "execution_millis": 261,
        "execution_start": 1619564690787,
        "deepnote_cell_type": "code"
      },
      "source": "#import wider property dataset\ndf = pd.read_csv('../../denver_improved_property_info_with_ct.csv')\n\n#import listings dataset\ndf_listings = pd.read_csv('../data/denver_augmented_clean.csv')\n\n#import the key to match property info with listings data set\ndf_key = pd.read_csv('../data/denver_property_crosswalk.csv')",
      "outputs": [
        {
          "output_type": "error",
          "ename": "FileNotFoundError",
          "evalue": "[Errno 2] No such file or directory: '../../denver_improved_property_info_with_ct.csv'",
          "traceback": [
            "\u001b[0;31m---------------------------------------------------------------------------\u001b[0m",
            "\u001b[0;31mFileNotFoundError\u001b[0m                         Traceback (most recent call last)",
            "\u001b[0;32m<ipython-input-2-7e3e735fb844>\u001b[0m in \u001b[0;36m<module>\u001b[0;34m\u001b[0m\n\u001b[1;32m      1\u001b[0m \u001b[0;31m#import wider property dataset\u001b[0m\u001b[0;34m\u001b[0m\u001b[0;34m\u001b[0m\u001b[0;34m\u001b[0m\u001b[0m\n\u001b[0;32m----> 2\u001b[0;31m \u001b[0mdf\u001b[0m \u001b[0;34m=\u001b[0m \u001b[0mpd\u001b[0m\u001b[0;34m.\u001b[0m\u001b[0mread_csv\u001b[0m\u001b[0;34m(\u001b[0m\u001b[0;34m'../../denver_improved_property_info_with_ct.csv'\u001b[0m\u001b[0;34m)\u001b[0m\u001b[0;34m\u001b[0m\u001b[0;34m\u001b[0m\u001b[0m\n\u001b[0m\u001b[1;32m      3\u001b[0m \u001b[0;34m\u001b[0m\u001b[0m\n\u001b[1;32m      4\u001b[0m \u001b[0;31m#import listings dataset\u001b[0m\u001b[0;34m\u001b[0m\u001b[0;34m\u001b[0m\u001b[0;34m\u001b[0m\u001b[0m\n\u001b[1;32m      5\u001b[0m \u001b[0mdf_listings\u001b[0m \u001b[0;34m=\u001b[0m \u001b[0mpd\u001b[0m\u001b[0;34m.\u001b[0m\u001b[0mread_csv\u001b[0m\u001b[0;34m(\u001b[0m\u001b[0;34m'../data/denver_augmented_clean.csv'\u001b[0m\u001b[0;34m)\u001b[0m\u001b[0;34m\u001b[0m\u001b[0;34m\u001b[0m\u001b[0m\n",
            "\u001b[0;32m/shared-libs/python3.7/py/lib/python3.7/site-packages/pandas/io/parsers.py\u001b[0m in \u001b[0;36mread_csv\u001b[0;34m(filepath_or_buffer, sep, delimiter, header, names, index_col, usecols, squeeze, prefix, mangle_dupe_cols, dtype, engine, converters, true_values, false_values, skipinitialspace, skiprows, skipfooter, nrows, na_values, keep_default_na, na_filter, verbose, skip_blank_lines, parse_dates, infer_datetime_format, keep_date_col, date_parser, dayfirst, cache_dates, iterator, chunksize, compression, thousands, decimal, lineterminator, quotechar, quoting, doublequote, escapechar, comment, encoding, dialect, error_bad_lines, warn_bad_lines, delim_whitespace, low_memory, memory_map, float_precision, storage_options)\u001b[0m\n\u001b[1;32m    608\u001b[0m     \u001b[0mkwds\u001b[0m\u001b[0;34m.\u001b[0m\u001b[0mupdate\u001b[0m\u001b[0;34m(\u001b[0m\u001b[0mkwds_defaults\u001b[0m\u001b[0;34m)\u001b[0m\u001b[0;34m\u001b[0m\u001b[0;34m\u001b[0m\u001b[0m\n\u001b[1;32m    609\u001b[0m \u001b[0;34m\u001b[0m\u001b[0m\n\u001b[0;32m--> 610\u001b[0;31m     \u001b[0;32mreturn\u001b[0m \u001b[0m_read\u001b[0m\u001b[0;34m(\u001b[0m\u001b[0mfilepath_or_buffer\u001b[0m\u001b[0;34m,\u001b[0m \u001b[0mkwds\u001b[0m\u001b[0;34m)\u001b[0m\u001b[0;34m\u001b[0m\u001b[0;34m\u001b[0m\u001b[0m\n\u001b[0m\u001b[1;32m    611\u001b[0m \u001b[0;34m\u001b[0m\u001b[0m\n\u001b[1;32m    612\u001b[0m \u001b[0;34m\u001b[0m\u001b[0m\n",
            "\u001b[0;32m/shared-libs/python3.7/py/lib/python3.7/site-packages/pandas/io/parsers.py\u001b[0m in \u001b[0;36m_read\u001b[0;34m(filepath_or_buffer, kwds)\u001b[0m\n\u001b[1;32m    460\u001b[0m \u001b[0;34m\u001b[0m\u001b[0m\n\u001b[1;32m    461\u001b[0m     \u001b[0;31m# Create the parser.\u001b[0m\u001b[0;34m\u001b[0m\u001b[0;34m\u001b[0m\u001b[0;34m\u001b[0m\u001b[0m\n\u001b[0;32m--> 462\u001b[0;31m     \u001b[0mparser\u001b[0m \u001b[0;34m=\u001b[0m \u001b[0mTextFileReader\u001b[0m\u001b[0;34m(\u001b[0m\u001b[0mfilepath_or_buffer\u001b[0m\u001b[0;34m,\u001b[0m \u001b[0;34m**\u001b[0m\u001b[0mkwds\u001b[0m\u001b[0;34m)\u001b[0m\u001b[0;34m\u001b[0m\u001b[0;34m\u001b[0m\u001b[0m\n\u001b[0m\u001b[1;32m    463\u001b[0m \u001b[0;34m\u001b[0m\u001b[0m\n\u001b[1;32m    464\u001b[0m     \u001b[0;32mif\u001b[0m \u001b[0mchunksize\u001b[0m \u001b[0;32mor\u001b[0m \u001b[0miterator\u001b[0m\u001b[0;34m:\u001b[0m\u001b[0;34m\u001b[0m\u001b[0;34m\u001b[0m\u001b[0m\n",
            "\u001b[0;32m/shared-libs/python3.7/py/lib/python3.7/site-packages/pandas/io/parsers.py\u001b[0m in \u001b[0;36m__init__\u001b[0;34m(self, f, engine, **kwds)\u001b[0m\n\u001b[1;32m    817\u001b[0m             \u001b[0mself\u001b[0m\u001b[0;34m.\u001b[0m\u001b[0moptions\u001b[0m\u001b[0;34m[\u001b[0m\u001b[0;34m\"has_index_names\"\u001b[0m\u001b[0;34m]\u001b[0m \u001b[0;34m=\u001b[0m \u001b[0mkwds\u001b[0m\u001b[0;34m[\u001b[0m\u001b[0;34m\"has_index_names\"\u001b[0m\u001b[0;34m]\u001b[0m\u001b[0;34m\u001b[0m\u001b[0;34m\u001b[0m\u001b[0m\n\u001b[1;32m    818\u001b[0m \u001b[0;34m\u001b[0m\u001b[0m\n\u001b[0;32m--> 819\u001b[0;31m         \u001b[0mself\u001b[0m\u001b[0;34m.\u001b[0m\u001b[0m_engine\u001b[0m \u001b[0;34m=\u001b[0m \u001b[0mself\u001b[0m\u001b[0;34m.\u001b[0m\u001b[0m_make_engine\u001b[0m\u001b[0;34m(\u001b[0m\u001b[0mself\u001b[0m\u001b[0;34m.\u001b[0m\u001b[0mengine\u001b[0m\u001b[0;34m)\u001b[0m\u001b[0;34m\u001b[0m\u001b[0;34m\u001b[0m\u001b[0m\n\u001b[0m\u001b[1;32m    820\u001b[0m \u001b[0;34m\u001b[0m\u001b[0m\n\u001b[1;32m    821\u001b[0m     \u001b[0;32mdef\u001b[0m \u001b[0mclose\u001b[0m\u001b[0;34m(\u001b[0m\u001b[0mself\u001b[0m\u001b[0;34m)\u001b[0m\u001b[0;34m:\u001b[0m\u001b[0;34m\u001b[0m\u001b[0;34m\u001b[0m\u001b[0m\n",
            "\u001b[0;32m/shared-libs/python3.7/py/lib/python3.7/site-packages/pandas/io/parsers.py\u001b[0m in \u001b[0;36m_make_engine\u001b[0;34m(self, engine)\u001b[0m\n\u001b[1;32m   1048\u001b[0m             )\n\u001b[1;32m   1049\u001b[0m         \u001b[0;31m# error: Too many arguments for \"ParserBase\"\u001b[0m\u001b[0;34m\u001b[0m\u001b[0;34m\u001b[0m\u001b[0;34m\u001b[0m\u001b[0m\n\u001b[0;32m-> 1050\u001b[0;31m         \u001b[0;32mreturn\u001b[0m \u001b[0mmapping\u001b[0m\u001b[0;34m[\u001b[0m\u001b[0mengine\u001b[0m\u001b[0;34m]\u001b[0m\u001b[0;34m(\u001b[0m\u001b[0mself\u001b[0m\u001b[0;34m.\u001b[0m\u001b[0mf\u001b[0m\u001b[0;34m,\u001b[0m \u001b[0;34m**\u001b[0m\u001b[0mself\u001b[0m\u001b[0;34m.\u001b[0m\u001b[0moptions\u001b[0m\u001b[0;34m)\u001b[0m  \u001b[0;31m# type: ignore[call-arg]\u001b[0m\u001b[0;34m\u001b[0m\u001b[0;34m\u001b[0m\u001b[0m\n\u001b[0m\u001b[1;32m   1051\u001b[0m \u001b[0;34m\u001b[0m\u001b[0m\n\u001b[1;32m   1052\u001b[0m     \u001b[0;32mdef\u001b[0m \u001b[0m_failover_to_python\u001b[0m\u001b[0;34m(\u001b[0m\u001b[0mself\u001b[0m\u001b[0;34m)\u001b[0m\u001b[0;34m:\u001b[0m\u001b[0;34m\u001b[0m\u001b[0;34m\u001b[0m\u001b[0m\n",
            "\u001b[0;32m/shared-libs/python3.7/py/lib/python3.7/site-packages/pandas/io/parsers.py\u001b[0m in \u001b[0;36m__init__\u001b[0;34m(self, src, **kwds)\u001b[0m\n\u001b[1;32m   1865\u001b[0m \u001b[0;34m\u001b[0m\u001b[0m\n\u001b[1;32m   1866\u001b[0m         \u001b[0;31m# open handles\u001b[0m\u001b[0;34m\u001b[0m\u001b[0;34m\u001b[0m\u001b[0;34m\u001b[0m\u001b[0m\n\u001b[0;32m-> 1867\u001b[0;31m         \u001b[0mself\u001b[0m\u001b[0;34m.\u001b[0m\u001b[0m_open_handles\u001b[0m\u001b[0;34m(\u001b[0m\u001b[0msrc\u001b[0m\u001b[0;34m,\u001b[0m \u001b[0mkwds\u001b[0m\u001b[0;34m)\u001b[0m\u001b[0;34m\u001b[0m\u001b[0;34m\u001b[0m\u001b[0m\n\u001b[0m\u001b[1;32m   1868\u001b[0m         \u001b[0;32massert\u001b[0m \u001b[0mself\u001b[0m\u001b[0;34m.\u001b[0m\u001b[0mhandles\u001b[0m \u001b[0;32mis\u001b[0m \u001b[0;32mnot\u001b[0m \u001b[0;32mNone\u001b[0m\u001b[0;34m\u001b[0m\u001b[0;34m\u001b[0m\u001b[0m\n\u001b[1;32m   1869\u001b[0m         \u001b[0;32mfor\u001b[0m \u001b[0mkey\u001b[0m \u001b[0;32min\u001b[0m \u001b[0;34m(\u001b[0m\u001b[0;34m\"storage_options\"\u001b[0m\u001b[0;34m,\u001b[0m \u001b[0;34m\"encoding\"\u001b[0m\u001b[0;34m,\u001b[0m \u001b[0;34m\"memory_map\"\u001b[0m\u001b[0;34m,\u001b[0m \u001b[0;34m\"compression\"\u001b[0m\u001b[0;34m)\u001b[0m\u001b[0;34m:\u001b[0m\u001b[0;34m\u001b[0m\u001b[0;34m\u001b[0m\u001b[0m\n",
            "\u001b[0;32m/shared-libs/python3.7/py/lib/python3.7/site-packages/pandas/io/parsers.py\u001b[0m in \u001b[0;36m_open_handles\u001b[0;34m(self, src, kwds)\u001b[0m\n\u001b[1;32m   1366\u001b[0m             \u001b[0mcompression\u001b[0m\u001b[0;34m=\u001b[0m\u001b[0mkwds\u001b[0m\u001b[0;34m.\u001b[0m\u001b[0mget\u001b[0m\u001b[0;34m(\u001b[0m\u001b[0;34m\"compression\"\u001b[0m\u001b[0;34m,\u001b[0m \u001b[0;32mNone\u001b[0m\u001b[0;34m)\u001b[0m\u001b[0;34m,\u001b[0m\u001b[0;34m\u001b[0m\u001b[0;34m\u001b[0m\u001b[0m\n\u001b[1;32m   1367\u001b[0m             \u001b[0mmemory_map\u001b[0m\u001b[0;34m=\u001b[0m\u001b[0mkwds\u001b[0m\u001b[0;34m.\u001b[0m\u001b[0mget\u001b[0m\u001b[0;34m(\u001b[0m\u001b[0;34m\"memory_map\"\u001b[0m\u001b[0;34m,\u001b[0m \u001b[0;32mFalse\u001b[0m\u001b[0;34m)\u001b[0m\u001b[0;34m,\u001b[0m\u001b[0;34m\u001b[0m\u001b[0;34m\u001b[0m\u001b[0m\n\u001b[0;32m-> 1368\u001b[0;31m             \u001b[0mstorage_options\u001b[0m\u001b[0;34m=\u001b[0m\u001b[0mkwds\u001b[0m\u001b[0;34m.\u001b[0m\u001b[0mget\u001b[0m\u001b[0;34m(\u001b[0m\u001b[0;34m\"storage_options\"\u001b[0m\u001b[0;34m,\u001b[0m \u001b[0;32mNone\u001b[0m\u001b[0;34m)\u001b[0m\u001b[0;34m,\u001b[0m\u001b[0;34m\u001b[0m\u001b[0;34m\u001b[0m\u001b[0m\n\u001b[0m\u001b[1;32m   1369\u001b[0m         )\n\u001b[1;32m   1370\u001b[0m \u001b[0;34m\u001b[0m\u001b[0m\n",
            "\u001b[0;32m/shared-libs/python3.7/py/lib/python3.7/site-packages/pandas/io/common.py\u001b[0m in \u001b[0;36mget_handle\u001b[0;34m(path_or_buf, mode, encoding, compression, memory_map, is_text, errors, storage_options)\u001b[0m\n\u001b[1;32m    645\u001b[0m                 \u001b[0mencoding\u001b[0m\u001b[0;34m=\u001b[0m\u001b[0mioargs\u001b[0m\u001b[0;34m.\u001b[0m\u001b[0mencoding\u001b[0m\u001b[0;34m,\u001b[0m\u001b[0;34m\u001b[0m\u001b[0;34m\u001b[0m\u001b[0m\n\u001b[1;32m    646\u001b[0m                 \u001b[0merrors\u001b[0m\u001b[0;34m=\u001b[0m\u001b[0merrors\u001b[0m\u001b[0;34m,\u001b[0m\u001b[0;34m\u001b[0m\u001b[0;34m\u001b[0m\u001b[0m\n\u001b[0;32m--> 647\u001b[0;31m                 \u001b[0mnewline\u001b[0m\u001b[0;34m=\u001b[0m\u001b[0;34m\"\"\u001b[0m\u001b[0;34m,\u001b[0m\u001b[0;34m\u001b[0m\u001b[0;34m\u001b[0m\u001b[0m\n\u001b[0m\u001b[1;32m    648\u001b[0m             )\n\u001b[1;32m    649\u001b[0m         \u001b[0;32melse\u001b[0m\u001b[0;34m:\u001b[0m\u001b[0;34m\u001b[0m\u001b[0;34m\u001b[0m\u001b[0m\n",
            "\u001b[0;31mFileNotFoundError\u001b[0m: [Errno 2] No such file or directory: '../../denver_improved_property_info_with_ct.csv'"
          ]
        }
      ],
      "execution_count": null
    },
    {
      "cell_type": "code",
      "metadata": {
        "tags": [],
        "cell_id": "00004-ff5b6210-e4e1-41cb-aced-4b925e50fe4e",
        "deepnote_to_be_reexecuted": true,
        "source_hash": "4b011d29",
        "execution_millis": 328,
        "execution_start": 1615648706255,
        "deepnote_cell_type": "code"
      },
      "source": "df = df.rename(columns={'property_id': 'random_property_id'})",
      "execution_count": null,
      "outputs": []
    },
    {
      "cell_type": "code",
      "metadata": {
        "tags": [],
        "cell_id": "00004-0675851d-502a-4d42-a4bc-aaa709130fce",
        "deepnote_to_be_reexecuted": true,
        "source_hash": "de1e323c",
        "execution_millis": 99,
        "execution_start": 1615648706593,
        "deepnote_cell_type": "code"
      },
      "source": "df.info()",
      "execution_count": null,
      "outputs": [
        {
          "name": "stdout",
          "text": "<class 'pandas.core.frame.DataFrame'>\nRangeIndex: 221643 entries, 0 to 221642\nColumns: 130 entries, rex_property_id to ct_key\ndtypes: bool(3), float64(47), int64(18), object(62)\nmemory usage: 215.4+ MB\n",
          "output_type": "stream"
        }
      ]
    },
    {
      "cell_type": "code",
      "metadata": {
        "tags": [],
        "cell_id": "00005-36fe2dba-90c4-4400-9e47-2bce7c65dc34",
        "deepnote_to_be_reexecuted": true,
        "source_hash": "f88152d9",
        "execution_millis": 1249,
        "execution_start": 1615648706727,
        "deepnote_cell_type": "code"
      },
      "source": "df.describe()",
      "execution_count": null,
      "outputs": [
        {
          "output_type": "execute_result",
          "execution_count": 5,
          "data": {
            "application/vnd.deepnote.dataframe.v2+json": {
              "row_count": 8,
              "column_count": 65,
              "columns": [
                {
                  "name": "rex_property_id",
                  "dtype": "float64",
                  "stats": {
                    "unique_count": 8,
                    "nan_count": 0,
                    "min": 221643,
                    "max": 375849390,
                    "histogram": [
                      {
                        "bin_start": 221643,
                        "bin_end": 37784417.7,
                        "count": 1
                      },
                      {
                        "bin_start": 37784417.7,
                        "bin_end": 75347192.4,
                        "count": 1
                      },
                      {
                        "bin_start": 75347192.4,
                        "bin_end": 112909967.10000001,
                        "count": 2
                      },
                      {
                        "bin_start": 112909967.10000001,
                        "bin_end": 150472741.8,
                        "count": 0
                      },
                      {
                        "bin_start": 150472741.8,
                        "bin_end": 188035516.5,
                        "count": 0
                      },
                      {
                        "bin_start": 188035516.5,
                        "bin_end": 225598291.20000002,
                        "count": 2
                      },
                      {
                        "bin_start": 225598291.20000002,
                        "bin_end": 263161065.90000004,
                        "count": 0
                      },
                      {
                        "bin_start": 263161065.90000004,
                        "bin_end": 300723840.6,
                        "count": 1
                      },
                      {
                        "bin_start": 300723840.6,
                        "bin_end": 338286615.3,
                        "count": 0
                      },
                      {
                        "bin_start": 338286615.3,
                        "bin_end": 375849390,
                        "count": 1
                      }
                    ]
                  }
                },
                {
                  "name": "random_property_id",
                  "dtype": "float64",
                  "stats": {
                    "unique_count": 8,
                    "nan_count": 0,
                    "min": 221643,
                    "max": 164716090,
                    "histogram": [
                      {
                        "bin_start": 221643,
                        "bin_end": 16671087.7,
                        "count": 1
                      },
                      {
                        "bin_start": 16671087.7,
                        "bin_end": 33120532.4,
                        "count": 4
                      },
                      {
                        "bin_start": 33120532.4,
                        "bin_end": 49569977.099999994,
                        "count": 2
                      },
                      {
                        "bin_start": 49569977.099999994,
                        "bin_end": 66019421.8,
                        "count": 0
                      },
                      {
                        "bin_start": 66019421.8,
                        "bin_end": 82468866.5,
                        "count": 0
                      },
                      {
                        "bin_start": 82468866.5,
                        "bin_end": 98918311.19999999,
                        "count": 0
                      },
                      {
                        "bin_start": 98918311.19999999,
                        "bin_end": 115367755.89999999,
                        "count": 0
                      },
                      {
                        "bin_start": 115367755.89999999,
                        "bin_end": 131817200.6,
                        "count": 0
                      },
                      {
                        "bin_start": 131817200.6,
                        "bin_end": 148266645.29999998,
                        "count": 0
                      },
                      {
                        "bin_start": 148266645.29999998,
                        "bin_end": 164716090,
                        "count": 1
                      }
                    ]
                  }
                },
                {
                  "name": "zipcode",
                  "dtype": "float64",
                  "stats": {
                    "unique_count": 8,
                    "nan_count": 0,
                    "min": 149.85265182906633,
                    "max": 221643,
                    "histogram": [
                      {
                        "bin_start": 149.85265182906633,
                        "bin_end": 22299.16738664616,
                        "count": 1
                      },
                      {
                        "bin_start": 22299.16738664616,
                        "bin_end": 44448.482121463254,
                        "count": 0
                      },
                      {
                        "bin_start": 44448.482121463254,
                        "bin_end": 66597.79685628034,
                        "count": 0
                      },
                      {
                        "bin_start": 66597.79685628034,
                        "bin_end": 88747.11159109743,
                        "count": 6
                      },
                      {
                        "bin_start": 88747.11159109743,
                        "bin_end": 110896.42632591452,
                        "count": 0
                      },
                      {
                        "bin_start": 110896.42632591452,
                        "bin_end": 133045.74106073164,
                        "count": 0
                      },
                      {
                        "bin_start": 133045.74106073164,
                        "bin_end": 155195.05579554872,
                        "count": 0
                      },
                      {
                        "bin_start": 155195.05579554872,
                        "bin_end": 177344.37053036582,
                        "count": 0
                      },
                      {
                        "bin_start": 177344.37053036582,
                        "bin_end": 199493.68526518292,
                        "count": 0
                      },
                      {
                        "bin_start": 199493.68526518292,
                        "bin_end": 221643,
                        "count": 1
                      }
                    ]
                  }
                },
                {
                  "name": "fips",
                  "dtype": "float64",
                  "stats": {
                    "unique_count": 8,
                    "nan_count": 0,
                    "min": 23.823051631705084,
                    "max": 221643,
                    "histogram": [
                      {
                        "bin_start": 23.823051631705084,
                        "bin_end": 22185.740746468535,
                        "count": 7
                      },
                      {
                        "bin_start": 22185.740746468535,
                        "bin_end": 44347.658441305364,
                        "count": 0
                      },
                      {
                        "bin_start": 44347.658441305364,
                        "bin_end": 66509.57613614219,
                        "count": 0
                      },
                      {
                        "bin_start": 66509.57613614219,
                        "bin_end": 88671.49383097902,
                        "count": 0
                      },
                      {
                        "bin_start": 88671.49383097902,
                        "bin_end": 110833.41152581584,
                        "count": 0
                      },
                      {
                        "bin_start": 110833.41152581584,
                        "bin_end": 132995.3292206527,
                        "count": 0
                      },
                      {
                        "bin_start": 132995.3292206527,
                        "bin_end": 155157.24691548952,
                        "count": 0
                      },
                      {
                        "bin_start": 155157.24691548952,
                        "bin_end": 177319.16461032635,
                        "count": 0
                      },
                      {
                        "bin_start": 177319.16461032635,
                        "bin_end": 199481.08230516317,
                        "count": 0
                      },
                      {
                        "bin_start": 199481.08230516317,
                        "bin_end": 221643,
                        "count": 1
                      }
                    ]
                  }
                },
                {
                  "name": "situsstdzip5",
                  "dtype": "float64",
                  "stats": {
                    "unique_count": 8,
                    "nan_count": 0,
                    "min": 149.85265182906633,
                    "max": 221643,
                    "histogram": [
                      {
                        "bin_start": 149.85265182906633,
                        "bin_end": 22299.16738664616,
                        "count": 1
                      },
                      {
                        "bin_start": 22299.16738664616,
                        "bin_end": 44448.482121463254,
                        "count": 0
                      },
                      {
                        "bin_start": 44448.482121463254,
                        "bin_end": 66597.79685628034,
                        "count": 0
                      },
                      {
                        "bin_start": 66597.79685628034,
                        "bin_end": 88747.11159109743,
                        "count": 6
                      },
                      {
                        "bin_start": 88747.11159109743,
                        "bin_end": 110896.42632591452,
                        "count": 0
                      },
                      {
                        "bin_start": 110896.42632591452,
                        "bin_end": 133045.74106073164,
                        "count": 0
                      },
                      {
                        "bin_start": 133045.74106073164,
                        "bin_end": 155195.05579554872,
                        "count": 0
                      },
                      {
                        "bin_start": 155195.05579554872,
                        "bin_end": 177344.37053036582,
                        "count": 0
                      },
                      {
                        "bin_start": 177344.37053036582,
                        "bin_end": 199493.68526518292,
                        "count": 0
                      },
                      {
                        "bin_start": 199493.68526518292,
                        "bin_end": 221643,
                        "count": 1
                      }
                    ]
                  }
                },
                {
                  "name": "situsstdzip4",
                  "dtype": "float64",
                  "stats": {
                    "unique_count": 8,
                    "nan_count": 0,
                    "min": 16,
                    "max": 221331,
                    "histogram": [
                      {
                        "bin_start": 16,
                        "bin_end": 22147.5,
                        "count": 7
                      },
                      {
                        "bin_start": 22147.5,
                        "bin_end": 44279,
                        "count": 0
                      },
                      {
                        "bin_start": 44279,
                        "bin_end": 66410.5,
                        "count": 0
                      },
                      {
                        "bin_start": 66410.5,
                        "bin_end": 88542,
                        "count": 0
                      },
                      {
                        "bin_start": 88542,
                        "bin_end": 110673.5,
                        "count": 0
                      },
                      {
                        "bin_start": 110673.5,
                        "bin_end": 132805,
                        "count": 0
                      },
                      {
                        "bin_start": 132805,
                        "bin_end": 154936.5,
                        "count": 0
                      },
                      {
                        "bin_start": 154936.5,
                        "bin_end": 177068,
                        "count": 0
                      },
                      {
                        "bin_start": 177068,
                        "bin_end": 199199.5,
                        "count": 0
                      },
                      {
                        "bin_start": 199199.5,
                        "bin_end": 221331,
                        "count": 1
                      }
                    ]
                  }
                },
                {
                  "name": "situslatitude",
                  "dtype": "float64",
                  "stats": {
                    "unique_count": 8,
                    "nan_count": 0,
                    "min": 0,
                    "max": 221643,
                    "histogram": [
                      {
                        "bin_start": 0,
                        "bin_end": 22164.3,
                        "count": 7
                      },
                      {
                        "bin_start": 22164.3,
                        "bin_end": 44328.6,
                        "count": 0
                      },
                      {
                        "bin_start": 44328.6,
                        "bin_end": 66492.9,
                        "count": 0
                      },
                      {
                        "bin_start": 66492.9,
                        "bin_end": 88657.2,
                        "count": 0
                      },
                      {
                        "bin_start": 88657.2,
                        "bin_end": 110821.5,
                        "count": 0
                      },
                      {
                        "bin_start": 110821.5,
                        "bin_end": 132985.8,
                        "count": 0
                      },
                      {
                        "bin_start": 132985.8,
                        "bin_end": 155150.1,
                        "count": 0
                      },
                      {
                        "bin_start": 155150.1,
                        "bin_end": 177314.4,
                        "count": 0
                      },
                      {
                        "bin_start": 177314.4,
                        "bin_end": 199478.69999999998,
                        "count": 0
                      },
                      {
                        "bin_start": 199478.69999999998,
                        "bin_end": 221643,
                        "count": 1
                      }
                    ]
                  }
                },
                {
                  "name": "situslongitude",
                  "dtype": "float64",
                  "stats": {
                    "unique_count": 8,
                    "nan_count": 0,
                    "min": -105.579031,
                    "max": 221643,
                    "histogram": [
                      {
                        "bin_start": -105.579031,
                        "bin_end": 22069.2788721,
                        "count": 7
                      },
                      {
                        "bin_start": 22069.2788721,
                        "bin_end": 44244.1367752,
                        "count": 0
                      },
                      {
                        "bin_start": 44244.1367752,
                        "bin_end": 66418.9946783,
                        "count": 0
                      },
                      {
                        "bin_start": 66418.9946783,
                        "bin_end": 88593.8525814,
                        "count": 0
                      },
                      {
                        "bin_start": 88593.8525814,
                        "bin_end": 110768.7104845,
                        "count": 0
                      },
                      {
                        "bin_start": 110768.7104845,
                        "bin_end": 132943.5683876,
                        "count": 0
                      },
                      {
                        "bin_start": 132943.5683876,
                        "bin_end": 155118.4262907,
                        "count": 0
                      },
                      {
                        "bin_start": 155118.4262907,
                        "bin_end": 177293.2841938,
                        "count": 0
                      },
                      {
                        "bin_start": 177293.2841938,
                        "bin_end": 199468.1420969,
                        "count": 0
                      },
                      {
                        "bin_start": 199468.1420969,
                        "bin_end": 221643,
                        "count": 1
                      }
                    ]
                  }
                },
                {
                  "name": "stdlandusecode",
                  "dtype": "float64",
                  "stats": {
                    "unique_count": 7,
                    "nan_count": 0,
                    "min": 10,
                    "max": 221643,
                    "histogram": [
                      {
                        "bin_start": 10,
                        "bin_end": 22173.3,
                        "count": 7
                      },
                      {
                        "bin_start": 22173.3,
                        "bin_end": 44336.6,
                        "count": 0
                      },
                      {
                        "bin_start": 44336.6,
                        "bin_end": 66499.9,
                        "count": 0
                      },
                      {
                        "bin_start": 66499.9,
                        "bin_end": 88663.2,
                        "count": 0
                      },
                      {
                        "bin_start": 88663.2,
                        "bin_end": 110826.5,
                        "count": 0
                      },
                      {
                        "bin_start": 110826.5,
                        "bin_end": 132989.8,
                        "count": 0
                      },
                      {
                        "bin_start": 132989.8,
                        "bin_end": 155153.1,
                        "count": 0
                      },
                      {
                        "bin_start": 155153.1,
                        "bin_end": 177316.4,
                        "count": 0
                      },
                      {
                        "bin_start": 177316.4,
                        "bin_end": 199479.69999999998,
                        "count": 0
                      },
                      {
                        "bin_start": 199479.69999999998,
                        "bin_end": 221643,
                        "count": 1
                      }
                    ]
                  }
                },
                {
                  "name": "statelandusecode",
                  "dtype": "float64",
                  "stats": {
                    "unique_count": 6,
                    "nan_count": 0,
                    "min": 100,
                    "max": 44799,
                    "histogram": [
                      {
                        "bin_start": 100,
                        "bin_end": 4569.9,
                        "count": 6
                      },
                      {
                        "bin_start": 4569.9,
                        "bin_end": 9039.8,
                        "count": 0
                      },
                      {
                        "bin_start": 9039.8,
                        "bin_end": 13509.699999999999,
                        "count": 1
                      },
                      {
                        "bin_start": 13509.699999999999,
                        "bin_end": 17979.6,
                        "count": 0
                      },
                      {
                        "bin_start": 17979.6,
                        "bin_end": 22449.5,
                        "count": 0
                      },
                      {
                        "bin_start": 22449.5,
                        "bin_end": 26919.399999999998,
                        "count": 0
                      },
                      {
                        "bin_start": 26919.399999999998,
                        "bin_end": 31389.299999999996,
                        "count": 0
                      },
                      {
                        "bin_start": 31389.299999999996,
                        "bin_end": 35859.2,
                        "count": 0
                      },
                      {
                        "bin_start": 35859.2,
                        "bin_end": 40329.1,
                        "count": 0
                      },
                      {
                        "bin_start": 40329.1,
                        "bin_end": 44799,
                        "count": 1
                      }
                    ]
                  }
                },
                {
                  "name": "situscensustract",
                  "dtype": "float64",
                  "stats": {
                    "unique_count": 8,
                    "nan_count": 0,
                    "min": 102,
                    "max": 988700,
                    "histogram": [
                      {
                        "bin_start": 102,
                        "bin_end": 98961.8,
                        "count": 6
                      },
                      {
                        "bin_start": 98961.8,
                        "bin_end": 197821.6,
                        "count": 0
                      },
                      {
                        "bin_start": 197821.6,
                        "bin_end": 296681.4,
                        "count": 1
                      },
                      {
                        "bin_start": 296681.4,
                        "bin_end": 395541.2,
                        "count": 0
                      },
                      {
                        "bin_start": 395541.2,
                        "bin_end": 494401,
                        "count": 0
                      },
                      {
                        "bin_start": 494401,
                        "bin_end": 593260.8,
                        "count": 0
                      },
                      {
                        "bin_start": 593260.8,
                        "bin_end": 692120.6,
                        "count": 0
                      },
                      {
                        "bin_start": 692120.6,
                        "bin_end": 790980.4,
                        "count": 0
                      },
                      {
                        "bin_start": 790980.4,
                        "bin_end": 889840.2000000001,
                        "count": 0
                      },
                      {
                        "bin_start": 889840.2000000001,
                        "bin_end": 988700,
                        "count": 1
                      }
                    ]
                  }
                },
                {
                  "name": "lotsizefrontagefeet",
                  "dtype": "float64",
                  "stats": {
                    "unique_count": 8,
                    "nan_count": 0,
                    "min": 0,
                    "max": 4748040,
                    "histogram": [
                      {
                        "bin_start": 0,
                        "bin_end": 474804,
                        "count": 7
                      },
                      {
                        "bin_start": 474804,
                        "bin_end": 949608,
                        "count": 0
                      },
                      {
                        "bin_start": 949608,
                        "bin_end": 1424412,
                        "count": 0
                      },
                      {
                        "bin_start": 1424412,
                        "bin_end": 1899216,
                        "count": 0
                      },
                      {
                        "bin_start": 1899216,
                        "bin_end": 2374020,
                        "count": 0
                      },
                      {
                        "bin_start": 2374020,
                        "bin_end": 2848824,
                        "count": 0
                      },
                      {
                        "bin_start": 2848824,
                        "bin_end": 3323628,
                        "count": 0
                      },
                      {
                        "bin_start": 3323628,
                        "bin_end": 3798432,
                        "count": 0
                      },
                      {
                        "bin_start": 3798432,
                        "bin_end": 4273236,
                        "count": 0
                      },
                      {
                        "bin_start": 4273236,
                        "bin_end": 4748040,
                        "count": 1
                      }
                    ]
                  }
                },
                {
                  "name": "lotsizedepthfeet",
                  "dtype": "float64",
                  "stats": {
                    "unique_count": 5,
                    "nan_count": 0,
                    "min": 0,
                    "max": 221643,
                    "histogram": [
                      {
                        "bin_start": 0,
                        "bin_end": 22164.3,
                        "count": 6
                      },
                      {
                        "bin_start": 22164.3,
                        "bin_end": 44328.6,
                        "count": 0
                      },
                      {
                        "bin_start": 44328.6,
                        "bin_end": 66492.9,
                        "count": 0
                      },
                      {
                        "bin_start": 66492.9,
                        "bin_end": 88657.2,
                        "count": 1
                      },
                      {
                        "bin_start": 88657.2,
                        "bin_end": 110821.5,
                        "count": 0
                      },
                      {
                        "bin_start": 110821.5,
                        "bin_end": 132985.8,
                        "count": 0
                      },
                      {
                        "bin_start": 132985.8,
                        "bin_end": 155150.1,
                        "count": 0
                      },
                      {
                        "bin_start": 155150.1,
                        "bin_end": 177314.4,
                        "count": 0
                      },
                      {
                        "bin_start": 177314.4,
                        "bin_end": 199478.69999999998,
                        "count": 0
                      },
                      {
                        "bin_start": 199478.69999999998,
                        "bin_end": 221643,
                        "count": 1
                      }
                    ]
                  }
                },
                {
                  "name": "lotsizeacres",
                  "dtype": "float64",
                  "stats": {
                    "unique_count": 8,
                    "nan_count": 0,
                    "min": 0,
                    "max": 32500000,
                    "histogram": [
                      {
                        "bin_start": 0,
                        "bin_end": 3250000,
                        "count": 7
                      },
                      {
                        "bin_start": 3250000,
                        "bin_end": 6500000,
                        "count": 0
                      },
                      {
                        "bin_start": 6500000,
                        "bin_end": 9750000,
                        "count": 0
                      },
                      {
                        "bin_start": 9750000,
                        "bin_end": 13000000,
                        "count": 0
                      },
                      {
                        "bin_start": 13000000,
                        "bin_end": 16250000,
                        "count": 0
                      },
                      {
                        "bin_start": 16250000,
                        "bin_end": 19500000,
                        "count": 0
                      },
                      {
                        "bin_start": 19500000,
                        "bin_end": 22750000,
                        "count": 0
                      },
                      {
                        "bin_start": 22750000,
                        "bin_end": 26000000,
                        "count": 0
                      },
                      {
                        "bin_start": 26000000,
                        "bin_end": 29250000,
                        "count": 0
                      },
                      {
                        "bin_start": 29250000,
                        "bin_end": 32500000,
                        "count": 1
                      }
                    ]
                  }
                },
                {
                  "name": "lotsizesqft",
                  "dtype": "float64",
                  "stats": {
                    "unique_count": 8,
                    "nan_count": 0,
                    "min": 0,
                    "max": 572726912,
                    "histogram": [
                      {
                        "bin_start": 0,
                        "bin_end": 57272691.2,
                        "count": 7
                      },
                      {
                        "bin_start": 57272691.2,
                        "bin_end": 114545382.4,
                        "count": 0
                      },
                      {
                        "bin_start": 114545382.4,
                        "bin_end": 171818073.60000002,
                        "count": 0
                      },
                      {
                        "bin_start": 171818073.60000002,
                        "bin_end": 229090764.8,
                        "count": 0
                      },
                      {
                        "bin_start": 229090764.8,
                        "bin_end": 286363456,
                        "count": 0
                      },
                      {
                        "bin_start": 286363456,
                        "bin_end": 343636147.20000005,
                        "count": 0
                      },
                      {
                        "bin_start": 343636147.20000005,
                        "bin_end": 400908838.40000004,
                        "count": 0
                      },
                      {
                        "bin_start": 400908838.40000004,
                        "bin_end": 458181529.6,
                        "count": 0
                      },
                      {
                        "bin_start": 458181529.6,
                        "bin_end": 515454220.8,
                        "count": 0
                      },
                      {
                        "bin_start": 515454220.8,
                        "bin_end": 572726912,
                        "count": 1
                      }
                    ]
                  }
                },
                {
                  "name": "mailingstdzip4",
                  "dtype": "float64",
                  "stats": {
                    "unique_count": 8,
                    "nan_count": 0,
                    "min": 1,
                    "max": 221271,
                    "histogram": [
                      {
                        "bin_start": 1,
                        "bin_end": 22128,
                        "count": 7
                      },
                      {
                        "bin_start": 22128,
                        "bin_end": 44255,
                        "count": 0
                      },
                      {
                        "bin_start": 44255,
                        "bin_end": 66382,
                        "count": 0
                      },
                      {
                        "bin_start": 66382,
                        "bin_end": 88509,
                        "count": 0
                      },
                      {
                        "bin_start": 88509,
                        "bin_end": 110636,
                        "count": 0
                      },
                      {
                        "bin_start": 110636,
                        "bin_end": 132763,
                        "count": 0
                      },
                      {
                        "bin_start": 132763,
                        "bin_end": 154890,
                        "count": 0
                      },
                      {
                        "bin_start": 154890,
                        "bin_end": 177017,
                        "count": 0
                      },
                      {
                        "bin_start": 177017,
                        "bin_end": 199144,
                        "count": 0
                      },
                      {
                        "bin_start": 199144,
                        "bin_end": 221271,
                        "count": 1
                      }
                    ]
                  }
                },
                {
                  "name": "assdtotalvalue",
                  "dtype": "float64",
                  "stats": {
                    "unique_count": 8,
                    "nan_count": 0,
                    "min": 0,
                    "max": 1014506,
                    "histogram": [
                      {
                        "bin_start": 0,
                        "bin_end": 101450.6,
                        "count": 6
                      },
                      {
                        "bin_start": 101450.6,
                        "bin_end": 202901.2,
                        "count": 0
                      },
                      {
                        "bin_start": 202901.2,
                        "bin_end": 304351.80000000005,
                        "count": 1
                      },
                      {
                        "bin_start": 304351.80000000005,
                        "bin_end": 405802.4,
                        "count": 0
                      },
                      {
                        "bin_start": 405802.4,
                        "bin_end": 507253,
                        "count": 0
                      },
                      {
                        "bin_start": 507253,
                        "bin_end": 608703.6000000001,
                        "count": 0
                      },
                      {
                        "bin_start": 608703.6000000001,
                        "bin_end": 710154.2000000001,
                        "count": 0
                      },
                      {
                        "bin_start": 710154.2000000001,
                        "bin_end": 811604.8,
                        "count": 0
                      },
                      {
                        "bin_start": 811604.8,
                        "bin_end": 913055.4,
                        "count": 0
                      },
                      {
                        "bin_start": 913055.4,
                        "bin_end": 1014506,
                        "count": 1
                      }
                    ]
                  }
                },
                {
                  "name": "assdlandvalue",
                  "dtype": "float64",
                  "stats": {
                    "unique_count": 8,
                    "nan_count": 0,
                    "min": 0,
                    "max": 801230,
                    "histogram": [
                      {
                        "bin_start": 0,
                        "bin_end": 80123,
                        "count": 6
                      },
                      {
                        "bin_start": 80123,
                        "bin_end": 160246,
                        "count": 0
                      },
                      {
                        "bin_start": 160246,
                        "bin_end": 240369,
                        "count": 1
                      },
                      {
                        "bin_start": 240369,
                        "bin_end": 320492,
                        "count": 0
                      },
                      {
                        "bin_start": 320492,
                        "bin_end": 400615,
                        "count": 0
                      },
                      {
                        "bin_start": 400615,
                        "bin_end": 480738,
                        "count": 0
                      },
                      {
                        "bin_start": 480738,
                        "bin_end": 560861,
                        "count": 0
                      },
                      {
                        "bin_start": 560861,
                        "bin_end": 640984,
                        "count": 0
                      },
                      {
                        "bin_start": 640984,
                        "bin_end": 721107,
                        "count": 0
                      },
                      {
                        "bin_start": 721107,
                        "bin_end": 801230,
                        "count": 1
                      }
                    ]
                  }
                },
                {
                  "name": "assdimprovementvalue",
                  "dtype": "float64",
                  "stats": {
                    "unique_count": 8,
                    "nan_count": 0,
                    "min": 0,
                    "max": 806490,
                    "histogram": [
                      {
                        "bin_start": 0,
                        "bin_end": 80649,
                        "count": 6
                      },
                      {
                        "bin_start": 80649,
                        "bin_end": 161298,
                        "count": 0
                      },
                      {
                        "bin_start": 161298,
                        "bin_end": 241947,
                        "count": 1
                      },
                      {
                        "bin_start": 241947,
                        "bin_end": 322596,
                        "count": 0
                      },
                      {
                        "bin_start": 322596,
                        "bin_end": 403245,
                        "count": 0
                      },
                      {
                        "bin_start": 403245,
                        "bin_end": 483894,
                        "count": 0
                      },
                      {
                        "bin_start": 483894,
                        "bin_end": 564543,
                        "count": 0
                      },
                      {
                        "bin_start": 564543,
                        "bin_end": 645192,
                        "count": 0
                      },
                      {
                        "bin_start": 645192,
                        "bin_end": 725841,
                        "count": 0
                      },
                      {
                        "bin_start": 725841,
                        "bin_end": 806490,
                        "count": 1
                      }
                    ]
                  }
                },
                {
                  "name": "markettotalvalue",
                  "dtype": "float64",
                  "stats": {
                    "unique_count": 8,
                    "nan_count": 0,
                    "min": 0,
                    "max": 14188900,
                    "histogram": [
                      {
                        "bin_start": 0,
                        "bin_end": 1418890,
                        "count": 7
                      },
                      {
                        "bin_start": 1418890,
                        "bin_end": 2837780,
                        "count": 0
                      },
                      {
                        "bin_start": 2837780,
                        "bin_end": 4256670,
                        "count": 0
                      },
                      {
                        "bin_start": 4256670,
                        "bin_end": 5675560,
                        "count": 0
                      },
                      {
                        "bin_start": 5675560,
                        "bin_end": 7094450,
                        "count": 0
                      },
                      {
                        "bin_start": 7094450,
                        "bin_end": 8513340,
                        "count": 0
                      },
                      {
                        "bin_start": 8513340,
                        "bin_end": 9932230,
                        "count": 0
                      },
                      {
                        "bin_start": 9932230,
                        "bin_end": 11351120,
                        "count": 0
                      },
                      {
                        "bin_start": 11351120,
                        "bin_end": 12770010,
                        "count": 0
                      },
                      {
                        "bin_start": 12770010,
                        "bin_end": 14188900,
                        "count": 1
                      }
                    ]
                  }
                },
                {
                  "name": "marketvalueland",
                  "dtype": "float64",
                  "stats": {
                    "unique_count": 8,
                    "nan_count": 0,
                    "min": 0,
                    "max": 8820000,
                    "histogram": [
                      {
                        "bin_start": 0,
                        "bin_end": 882000,
                        "count": 7
                      },
                      {
                        "bin_start": 882000,
                        "bin_end": 1764000,
                        "count": 0
                      },
                      {
                        "bin_start": 1764000,
                        "bin_end": 2646000,
                        "count": 0
                      },
                      {
                        "bin_start": 2646000,
                        "bin_end": 3528000,
                        "count": 0
                      },
                      {
                        "bin_start": 3528000,
                        "bin_end": 4410000,
                        "count": 0
                      },
                      {
                        "bin_start": 4410000,
                        "bin_end": 5292000,
                        "count": 0
                      },
                      {
                        "bin_start": 5292000,
                        "bin_end": 6174000,
                        "count": 0
                      },
                      {
                        "bin_start": 6174000,
                        "bin_end": 7056000,
                        "count": 0
                      },
                      {
                        "bin_start": 7056000,
                        "bin_end": 7938000,
                        "count": 0
                      },
                      {
                        "bin_start": 7938000,
                        "bin_end": 8820000,
                        "count": 1
                      }
                    ]
                  }
                },
                {
                  "name": "marketvalueimprovement",
                  "dtype": "float64",
                  "stats": {
                    "unique_count": 8,
                    "nan_count": 0,
                    "min": 0,
                    "max": 10696900,
                    "histogram": [
                      {
                        "bin_start": 0,
                        "bin_end": 1069690,
                        "count": 7
                      },
                      {
                        "bin_start": 1069690,
                        "bin_end": 2139380,
                        "count": 0
                      },
                      {
                        "bin_start": 2139380,
                        "bin_end": 3209070,
                        "count": 0
                      },
                      {
                        "bin_start": 3209070,
                        "bin_end": 4278760,
                        "count": 0
                      },
                      {
                        "bin_start": 4278760,
                        "bin_end": 5348450,
                        "count": 0
                      },
                      {
                        "bin_start": 5348450,
                        "bin_end": 6418140,
                        "count": 0
                      },
                      {
                        "bin_start": 6418140,
                        "bin_end": 7487830,
                        "count": 0
                      },
                      {
                        "bin_start": 7487830,
                        "bin_end": 8557520,
                        "count": 0
                      },
                      {
                        "bin_start": 8557520,
                        "bin_end": 9627210,
                        "count": 0
                      },
                      {
                        "bin_start": 9627210,
                        "bin_end": 10696900,
                        "count": 1
                      }
                    ]
                  }
                },
                {
                  "name": "taxamount",
                  "dtype": "float64",
                  "stats": {
                    "unique_count": 8,
                    "nan_count": 0,
                    "min": 0,
                    "max": 99999999,
                    "histogram": [
                      {
                        "bin_start": 0,
                        "bin_end": 9999999.9,
                        "count": 7
                      },
                      {
                        "bin_start": 9999999.9,
                        "bin_end": 19999999.8,
                        "count": 0
                      },
                      {
                        "bin_start": 19999999.8,
                        "bin_end": 29999999.700000003,
                        "count": 0
                      },
                      {
                        "bin_start": 29999999.700000003,
                        "bin_end": 39999999.6,
                        "count": 0
                      },
                      {
                        "bin_start": 39999999.6,
                        "bin_end": 49999999.5,
                        "count": 0
                      },
                      {
                        "bin_start": 49999999.5,
                        "bin_end": 59999999.400000006,
                        "count": 0
                      },
                      {
                        "bin_start": 59999999.400000006,
                        "bin_end": 69999999.3,
                        "count": 0
                      },
                      {
                        "bin_start": 69999999.3,
                        "bin_end": 79999999.2,
                        "count": 0
                      },
                      {
                        "bin_start": 79999999.2,
                        "bin_end": 89999999.10000001,
                        "count": 0
                      },
                      {
                        "bin_start": 89999999.10000001,
                        "bin_end": 99999999,
                        "count": 1
                      }
                    ]
                  }
                },
                {
                  "name": "taxyear",
                  "dtype": "float64",
                  "stats": {
                    "unique_count": 6,
                    "nan_count": 0,
                    "min": 0.14365976514920156,
                    "max": 221643,
                    "histogram": [
                      {
                        "bin_start": 0.14365976514920156,
                        "bin_end": 22164.42929378863,
                        "count": 7
                      },
                      {
                        "bin_start": 22164.42929378863,
                        "bin_end": 44328.714927812114,
                        "count": 0
                      },
                      {
                        "bin_start": 44328.714927812114,
                        "bin_end": 66493.0005618356,
                        "count": 0
                      },
                      {
                        "bin_start": 66493.0005618356,
                        "bin_end": 88657.28619585908,
                        "count": 0
                      },
                      {
                        "bin_start": 88657.28619585908,
                        "bin_end": 110821.57182988257,
                        "count": 0
                      },
                      {
                        "bin_start": 110821.57182988257,
                        "bin_end": 132985.85746390605,
                        "count": 0
                      },
                      {
                        "bin_start": 132985.85746390605,
                        "bin_end": 155150.14309792954,
                        "count": 0
                      },
                      {
                        "bin_start": 155150.14309792954,
                        "bin_end": 177314.42873195303,
                        "count": 0
                      },
                      {
                        "bin_start": 177314.42873195303,
                        "bin_end": 199478.7143659765,
                        "count": 0
                      },
                      {
                        "bin_start": 199478.7143659765,
                        "bin_end": 221643,
                        "count": 1
                      }
                    ]
                  }
                },
                {
                  "name": "taxdeliquentyear1",
                  "dtype": "float64",
                  "stats": {
                    "unique_count": 8,
                    "nan_count": 0,
                    "min": 20,
                    "max": 23884,
                    "histogram": [
                      {
                        "bin_start": 20,
                        "bin_end": 2406.4,
                        "count": 7
                      },
                      {
                        "bin_start": 2406.4,
                        "bin_end": 4792.8,
                        "count": 0
                      },
                      {
                        "bin_start": 4792.8,
                        "bin_end": 7179.200000000001,
                        "count": 0
                      },
                      {
                        "bin_start": 7179.200000000001,
                        "bin_end": 9565.6,
                        "count": 0
                      },
                      {
                        "bin_start": 9565.6,
                        "bin_end": 11952,
                        "count": 0
                      },
                      {
                        "bin_start": 11952,
                        "bin_end": 14338.400000000001,
                        "count": 0
                      },
                      {
                        "bin_start": 14338.400000000001,
                        "bin_end": 16724.8,
                        "count": 0
                      },
                      {
                        "bin_start": 16724.8,
                        "bin_end": 19111.2,
                        "count": 0
                      },
                      {
                        "bin_start": 19111.2,
                        "bin_end": 21497.600000000002,
                        "count": 0
                      },
                      {
                        "bin_start": 21497.600000000002,
                        "bin_end": 23884,
                        "count": 1
                      }
                    ]
                  }
                },
                {
                  "name": "assdyear",
                  "dtype": "float64",
                  "stats": {
                    "unique_count": 6,
                    "nan_count": 0,
                    "min": 0.383491202906374,
                    "max": 221643,
                    "histogram": [
                      {
                        "bin_start": 0.383491202906374,
                        "bin_end": 22164.645142082616,
                        "count": 7
                      },
                      {
                        "bin_start": 22164.645142082616,
                        "bin_end": 44328.90679296233,
                        "count": 0
                      },
                      {
                        "bin_start": 44328.90679296233,
                        "bin_end": 66493.16844384205,
                        "count": 0
                      },
                      {
                        "bin_start": 66493.16844384205,
                        "bin_end": 88657.43009472176,
                        "count": 0
                      },
                      {
                        "bin_start": 88657.43009472176,
                        "bin_end": 110821.69174560146,
                        "count": 0
                      },
                      {
                        "bin_start": 110821.69174560146,
                        "bin_end": 132985.95339648117,
                        "count": 0
                      },
                      {
                        "bin_start": 132985.95339648117,
                        "bin_end": 155150.21504736086,
                        "count": 0
                      },
                      {
                        "bin_start": 155150.21504736086,
                        "bin_end": 177314.47669824059,
                        "count": 0
                      },
                      {
                        "bin_start": 177314.47669824059,
                        "bin_end": 199478.7383491203,
                        "count": 0
                      },
                      {
                        "bin_start": 199478.7383491203,
                        "bin_end": 221643,
                        "count": 1
                      }
                    ]
                  }
                },
                {
                  "name": "buildingarea",
                  "dtype": "float64",
                  "stats": {
                    "unique_count": 8,
                    "nan_count": 0,
                    "min": 0,
                    "max": 221643,
                    "histogram": [
                      {
                        "bin_start": 0,
                        "bin_end": 22164.3,
                        "count": 6
                      },
                      {
                        "bin_start": 22164.3,
                        "bin_end": 44328.6,
                        "count": 0
                      },
                      {
                        "bin_start": 44328.6,
                        "bin_end": 66492.9,
                        "count": 1
                      },
                      {
                        "bin_start": 66492.9,
                        "bin_end": 88657.2,
                        "count": 0
                      },
                      {
                        "bin_start": 88657.2,
                        "bin_end": 110821.5,
                        "count": 0
                      },
                      {
                        "bin_start": 110821.5,
                        "bin_end": 132985.8,
                        "count": 0
                      },
                      {
                        "bin_start": 132985.8,
                        "bin_end": 155150.1,
                        "count": 0
                      },
                      {
                        "bin_start": 155150.1,
                        "bin_end": 177314.4,
                        "count": 0
                      },
                      {
                        "bin_start": 177314.4,
                        "bin_end": 199478.69999999998,
                        "count": 0
                      },
                      {
                        "bin_start": 199478.69999999998,
                        "bin_end": 221643,
                        "count": 1
                      }
                    ]
                  }
                },
                {
                  "name": "sumbuildingsqft",
                  "dtype": "float64",
                  "stats": {
                    "unique_count": 8,
                    "nan_count": 0,
                    "min": 0,
                    "max": 221643,
                    "histogram": [
                      {
                        "bin_start": 0,
                        "bin_end": 22164.3,
                        "count": 6
                      },
                      {
                        "bin_start": 22164.3,
                        "bin_end": 44328.6,
                        "count": 0
                      },
                      {
                        "bin_start": 44328.6,
                        "bin_end": 66492.9,
                        "count": 1
                      },
                      {
                        "bin_start": 66492.9,
                        "bin_end": 88657.2,
                        "count": 0
                      },
                      {
                        "bin_start": 88657.2,
                        "bin_end": 110821.5,
                        "count": 0
                      },
                      {
                        "bin_start": 110821.5,
                        "bin_end": 132985.8,
                        "count": 0
                      },
                      {
                        "bin_start": 132985.8,
                        "bin_end": 155150.1,
                        "count": 0
                      },
                      {
                        "bin_start": 155150.1,
                        "bin_end": 177314.4,
                        "count": 0
                      },
                      {
                        "bin_start": 177314.4,
                        "bin_end": 199478.69999999998,
                        "count": 0
                      },
                      {
                        "bin_start": 199478.69999999998,
                        "bin_end": 221643,
                        "count": 1
                      }
                    ]
                  }
                },
                {
                  "name": "sumlivingareasqft",
                  "dtype": "float64",
                  "stats": {
                    "unique_count": 8,
                    "nan_count": 0,
                    "min": 1,
                    "max": 221418,
                    "histogram": [
                      {
                        "bin_start": 1,
                        "bin_end": 22142.7,
                        "count": 6
                      },
                      {
                        "bin_start": 22142.7,
                        "bin_end": 44284.4,
                        "count": 1
                      },
                      {
                        "bin_start": 44284.4,
                        "bin_end": 66426.1,
                        "count": 0
                      },
                      {
                        "bin_start": 66426.1,
                        "bin_end": 88567.8,
                        "count": 0
                      },
                      {
                        "bin_start": 88567.8,
                        "bin_end": 110709.5,
                        "count": 0
                      },
                      {
                        "bin_start": 110709.5,
                        "bin_end": 132851.2,
                        "count": 0
                      },
                      {
                        "bin_start": 132851.2,
                        "bin_end": 154992.9,
                        "count": 0
                      },
                      {
                        "bin_start": 154992.9,
                        "bin_end": 177134.6,
                        "count": 0
                      },
                      {
                        "bin_start": 177134.6,
                        "bin_end": 199276.30000000002,
                        "count": 0
                      },
                      {
                        "bin_start": 199276.30000000002,
                        "bin_end": 221418,
                        "count": 1
                      }
                    ]
                  }
                },
                {
                  "name": "sumgrossareasqft",
                  "dtype": "float64",
                  "stats": {
                    "unique_count": 8,
                    "nan_count": 0,
                    "min": 120,
                    "max": 151923,
                    "histogram": [
                      {
                        "bin_start": 120,
                        "bin_end": 15300.3,
                        "count": 6
                      },
                      {
                        "bin_start": 15300.3,
                        "bin_end": 30480.6,
                        "count": 0
                      },
                      {
                        "bin_start": 30480.6,
                        "bin_end": 45660.899999999994,
                        "count": 0
                      },
                      {
                        "bin_start": 45660.899999999994,
                        "bin_end": 60841.2,
                        "count": 0
                      },
                      {
                        "bin_start": 60841.2,
                        "bin_end": 76021.5,
                        "count": 0
                      },
                      {
                        "bin_start": 76021.5,
                        "bin_end": 91201.79999999999,
                        "count": 0
                      },
                      {
                        "bin_start": 91201.79999999999,
                        "bin_end": 106382.09999999999,
                        "count": 1
                      },
                      {
                        "bin_start": 106382.09999999999,
                        "bin_end": 121562.4,
                        "count": 0
                      },
                      {
                        "bin_start": 121562.4,
                        "bin_end": 136742.69999999998,
                        "count": 0
                      },
                      {
                        "bin_start": 136742.69999999998,
                        "bin_end": 151923,
                        "count": 1
                      }
                    ]
                  }
                },
                {
                  "name": "sumadjareasqft",
                  "dtype": "float64",
                  "stats": {
                    "unique_count": 8,
                    "nan_count": 0,
                    "min": 1,
                    "max": 152255,
                    "histogram": [
                      {
                        "bin_start": 1,
                        "bin_end": 15226.4,
                        "count": 6
                      },
                      {
                        "bin_start": 15226.4,
                        "bin_end": 30451.8,
                        "count": 0
                      },
                      {
                        "bin_start": 30451.8,
                        "bin_end": 45677.2,
                        "count": 0
                      },
                      {
                        "bin_start": 45677.2,
                        "bin_end": 60902.6,
                        "count": 1
                      },
                      {
                        "bin_start": 60902.6,
                        "bin_end": 76128,
                        "count": 0
                      },
                      {
                        "bin_start": 76128,
                        "bin_end": 91353.4,
                        "count": 0
                      },
                      {
                        "bin_start": 91353.4,
                        "bin_end": 106578.8,
                        "count": 0
                      },
                      {
                        "bin_start": 106578.8,
                        "bin_end": 121804.2,
                        "count": 0
                      },
                      {
                        "bin_start": 121804.2,
                        "bin_end": 137029.6,
                        "count": 0
                      },
                      {
                        "bin_start": 137029.6,
                        "bin_end": 152255,
                        "count": 1
                      }
                    ]
                  }
                },
                {
                  "name": "sumbasementsqft",
                  "dtype": "float64",
                  "stats": {
                    "unique_count": 8,
                    "nan_count": 0,
                    "min": 1,
                    "max": 146964,
                    "histogram": [
                      {
                        "bin_start": 1,
                        "bin_end": 14697.3,
                        "count": 6
                      },
                      {
                        "bin_start": 14697.3,
                        "bin_end": 29393.6,
                        "count": 0
                      },
                      {
                        "bin_start": 29393.6,
                        "bin_end": 44089.899999999994,
                        "count": 0
                      },
                      {
                        "bin_start": 44089.899999999994,
                        "bin_end": 58786.2,
                        "count": 1
                      },
                      {
                        "bin_start": 58786.2,
                        "bin_end": 73482.5,
                        "count": 0
                      },
                      {
                        "bin_start": 73482.5,
                        "bin_end": 88178.79999999999,
                        "count": 0
                      },
                      {
                        "bin_start": 88178.79999999999,
                        "bin_end": 102875.09999999999,
                        "count": 0
                      },
                      {
                        "bin_start": 102875.09999999999,
                        "bin_end": 117571.4,
                        "count": 0
                      },
                      {
                        "bin_start": 117571.4,
                        "bin_end": 132267.69999999998,
                        "count": 0
                      },
                      {
                        "bin_start": 132267.69999999998,
                        "bin_end": 146964,
                        "count": 1
                      }
                    ]
                  }
                },
                {
                  "name": "sumgaragesqft",
                  "dtype": "float64",
                  "stats": {
                    "unique_count": 8,
                    "nan_count": 0,
                    "min": 1,
                    "max": 177298,
                    "histogram": [
                      {
                        "bin_start": 1,
                        "bin_end": 17730.7,
                        "count": 7
                      },
                      {
                        "bin_start": 17730.7,
                        "bin_end": 35460.4,
                        "count": 0
                      },
                      {
                        "bin_start": 35460.4,
                        "bin_end": 53190.100000000006,
                        "count": 0
                      },
                      {
                        "bin_start": 53190.100000000006,
                        "bin_end": 70919.8,
                        "count": 0
                      },
                      {
                        "bin_start": 70919.8,
                        "bin_end": 88649.5,
                        "count": 0
                      },
                      {
                        "bin_start": 88649.5,
                        "bin_end": 106379.20000000001,
                        "count": 0
                      },
                      {
                        "bin_start": 106379.20000000001,
                        "bin_end": 124108.90000000001,
                        "count": 0
                      },
                      {
                        "bin_start": 124108.90000000001,
                        "bin_end": 141838.6,
                        "count": 0
                      },
                      {
                        "bin_start": 141838.6,
                        "bin_end": 159568.30000000002,
                        "count": 0
                      },
                      {
                        "bin_start": 159568.30000000002,
                        "bin_end": 177298,
                        "count": 1
                      }
                    ]
                  }
                },
                {
                  "name": "yearbuilt",
                  "dtype": "float64",
                  "stats": {
                    "unique_count": 8,
                    "nan_count": 0,
                    "min": 27.811932903713814,
                    "max": 221522,
                    "histogram": [
                      {
                        "bin_start": 27.811932903713814,
                        "bin_end": 22177.230739613344,
                        "count": 7
                      },
                      {
                        "bin_start": 22177.230739613344,
                        "bin_end": 44326.64954632297,
                        "count": 0
                      },
                      {
                        "bin_start": 44326.64954632297,
                        "bin_end": 66476.0683530326,
                        "count": 0
                      },
                      {
                        "bin_start": 66476.0683530326,
                        "bin_end": 88625.48715974223,
                        "count": 0
                      },
                      {
                        "bin_start": 88625.48715974223,
                        "bin_end": 110774.90596645186,
                        "count": 0
                      },
                      {
                        "bin_start": 110774.90596645186,
                        "bin_end": 132924.3247731615,
                        "count": 0
                      },
                      {
                        "bin_start": 132924.3247731615,
                        "bin_end": 155073.7435798711,
                        "count": 0
                      },
                      {
                        "bin_start": 155073.7435798711,
                        "bin_end": 177223.16238658075,
                        "count": 0
                      },
                      {
                        "bin_start": 177223.16238658075,
                        "bin_end": 199372.5811932904,
                        "count": 0
                      },
                      {
                        "bin_start": 199372.5811932904,
                        "bin_end": 221522,
                        "count": 1
                      }
                    ]
                  }
                },
                {
                  "name": "effectiveyearbuilt",
                  "dtype": "float64",
                  "stats": {
                    "unique_count": 8,
                    "nan_count": 0,
                    "min": 21.8003451463769,
                    "max": 220700,
                    "histogram": [
                      {
                        "bin_start": 21.8003451463769,
                        "bin_end": 22089.620310631737,
                        "count": 7
                      },
                      {
                        "bin_start": 22089.620310631737,
                        "bin_end": 44157.44027611709,
                        "count": 0
                      },
                      {
                        "bin_start": 44157.44027611709,
                        "bin_end": 66225.26024160245,
                        "count": 0
                      },
                      {
                        "bin_start": 66225.26024160245,
                        "bin_end": 88293.08020708781,
                        "count": 0
                      },
                      {
                        "bin_start": 88293.08020708781,
                        "bin_end": 110360.90017257318,
                        "count": 0
                      },
                      {
                        "bin_start": 110360.90017257318,
                        "bin_end": 132428.72013805853,
                        "count": 0
                      },
                      {
                        "bin_start": 132428.72013805853,
                        "bin_end": 154496.5401035439,
                        "count": 0
                      },
                      {
                        "bin_start": 154496.5401035439,
                        "bin_end": 176564.36006902927,
                        "count": 0
                      },
                      {
                        "bin_start": 176564.36006902927,
                        "bin_end": 198632.18003451463,
                        "count": 0
                      },
                      {
                        "bin_start": 198632.18003451463,
                        "bin_end": 220700,
                        "count": 1
                      }
                    ]
                  }
                },
                {
                  "name": "bedrooms",
                  "dtype": "float64",
                  "stats": {
                    "unique_count": 7,
                    "nan_count": 0,
                    "min": 0,
                    "max": 221643,
                    "histogram": [
                      {
                        "bin_start": 0,
                        "bin_end": 22164.3,
                        "count": 7
                      },
                      {
                        "bin_start": 22164.3,
                        "bin_end": 44328.6,
                        "count": 0
                      },
                      {
                        "bin_start": 44328.6,
                        "bin_end": 66492.9,
                        "count": 0
                      },
                      {
                        "bin_start": 66492.9,
                        "bin_end": 88657.2,
                        "count": 0
                      },
                      {
                        "bin_start": 88657.2,
                        "bin_end": 110821.5,
                        "count": 0
                      },
                      {
                        "bin_start": 110821.5,
                        "bin_end": 132985.8,
                        "count": 0
                      },
                      {
                        "bin_start": 132985.8,
                        "bin_end": 155150.1,
                        "count": 0
                      },
                      {
                        "bin_start": 155150.1,
                        "bin_end": 177314.4,
                        "count": 0
                      },
                      {
                        "bin_start": 177314.4,
                        "bin_end": 199478.69999999998,
                        "count": 0
                      },
                      {
                        "bin_start": 199478.69999999998,
                        "bin_end": 221643,
                        "count": 1
                      }
                    ]
                  }
                },
                {
                  "name": "totalrooms",
                  "dtype": "float64",
                  "stats": {
                    "unique_count": 7,
                    "nan_count": 0,
                    "min": 0,
                    "max": 221643,
                    "histogram": [
                      {
                        "bin_start": 0,
                        "bin_end": 22164.3,
                        "count": 7
                      },
                      {
                        "bin_start": 22164.3,
                        "bin_end": 44328.6,
                        "count": 0
                      },
                      {
                        "bin_start": 44328.6,
                        "bin_end": 66492.9,
                        "count": 0
                      },
                      {
                        "bin_start": 66492.9,
                        "bin_end": 88657.2,
                        "count": 0
                      },
                      {
                        "bin_start": 88657.2,
                        "bin_end": 110821.5,
                        "count": 0
                      },
                      {
                        "bin_start": 110821.5,
                        "bin_end": 132985.8,
                        "count": 0
                      },
                      {
                        "bin_start": 132985.8,
                        "bin_end": 155150.1,
                        "count": 0
                      },
                      {
                        "bin_start": 155150.1,
                        "bin_end": 177314.4,
                        "count": 0
                      },
                      {
                        "bin_start": 177314.4,
                        "bin_end": 199478.69999999998,
                        "count": 0
                      },
                      {
                        "bin_start": 199478.69999999998,
                        "bin_end": 221643,
                        "count": 1
                      }
                    ]
                  }
                },
                {
                  "name": "bathtotalcalc",
                  "dtype": "float64",
                  "stats": {
                    "unique_count": 8,
                    "nan_count": 0,
                    "min": 0,
                    "max": 221643,
                    "histogram": [
                      {
                        "bin_start": 0,
                        "bin_end": 22164.3,
                        "count": 7
                      },
                      {
                        "bin_start": 22164.3,
                        "bin_end": 44328.6,
                        "count": 0
                      },
                      {
                        "bin_start": 44328.6,
                        "bin_end": 66492.9,
                        "count": 0
                      },
                      {
                        "bin_start": 66492.9,
                        "bin_end": 88657.2,
                        "count": 0
                      },
                      {
                        "bin_start": 88657.2,
                        "bin_end": 110821.5,
                        "count": 0
                      },
                      {
                        "bin_start": 110821.5,
                        "bin_end": 132985.8,
                        "count": 0
                      },
                      {
                        "bin_start": 132985.8,
                        "bin_end": 155150.1,
                        "count": 0
                      },
                      {
                        "bin_start": 155150.1,
                        "bin_end": 177314.4,
                        "count": 0
                      },
                      {
                        "bin_start": 177314.4,
                        "bin_end": 199478.69999999998,
                        "count": 0
                      },
                      {
                        "bin_start": 199478.69999999998,
                        "bin_end": 221643,
                        "count": 1
                      }
                    ]
                  }
                },
                {
                  "name": "bathfull",
                  "dtype": "float64",
                  "stats": {
                    "unique_count": 7,
                    "nan_count": 0,
                    "min": 0,
                    "max": 221643,
                    "histogram": [
                      {
                        "bin_start": 0,
                        "bin_end": 22164.3,
                        "count": 7
                      },
                      {
                        "bin_start": 22164.3,
                        "bin_end": 44328.6,
                        "count": 0
                      },
                      {
                        "bin_start": 44328.6,
                        "bin_end": 66492.9,
                        "count": 0
                      },
                      {
                        "bin_start": 66492.9,
                        "bin_end": 88657.2,
                        "count": 0
                      },
                      {
                        "bin_start": 88657.2,
                        "bin_end": 110821.5,
                        "count": 0
                      },
                      {
                        "bin_start": 110821.5,
                        "bin_end": 132985.8,
                        "count": 0
                      },
                      {
                        "bin_start": 132985.8,
                        "bin_end": 155150.1,
                        "count": 0
                      },
                      {
                        "bin_start": 155150.1,
                        "bin_end": 177314.4,
                        "count": 0
                      },
                      {
                        "bin_start": 177314.4,
                        "bin_end": 199478.69999999998,
                        "count": 0
                      },
                      {
                        "bin_start": 199478.69999999998,
                        "bin_end": 221643,
                        "count": 1
                      }
                    ]
                  }
                },
                {
                  "name": "bathsparcialnbr",
                  "dtype": "float64",
                  "stats": {
                    "unique_count": 6,
                    "nan_count": 0,
                    "min": 0,
                    "max": 221643,
                    "histogram": [
                      {
                        "bin_start": 0,
                        "bin_end": 22164.3,
                        "count": 7
                      },
                      {
                        "bin_start": 22164.3,
                        "bin_end": 44328.6,
                        "count": 0
                      },
                      {
                        "bin_start": 44328.6,
                        "bin_end": 66492.9,
                        "count": 0
                      },
                      {
                        "bin_start": 66492.9,
                        "bin_end": 88657.2,
                        "count": 0
                      },
                      {
                        "bin_start": 88657.2,
                        "bin_end": 110821.5,
                        "count": 0
                      },
                      {
                        "bin_start": 110821.5,
                        "bin_end": 132985.8,
                        "count": 0
                      },
                      {
                        "bin_start": 132985.8,
                        "bin_end": 155150.1,
                        "count": 0
                      },
                      {
                        "bin_start": 155150.1,
                        "bin_end": 177314.4,
                        "count": 0
                      },
                      {
                        "bin_start": 177314.4,
                        "bin_end": 199478.69999999998,
                        "count": 0
                      },
                      {
                        "bin_start": 199478.69999999998,
                        "bin_end": 221643,
                        "count": 1
                      }
                    ]
                  }
                },
                {
                  "name": "bathfixturesnbr",
                  "dtype": "float64",
                  "stats": {
                    "unique_count": 8,
                    "nan_count": 0,
                    "min": 0,
                    "max": 170820,
                    "histogram": [
                      {
                        "bin_start": 0,
                        "bin_end": 17082,
                        "count": 7
                      },
                      {
                        "bin_start": 17082,
                        "bin_end": 34164,
                        "count": 0
                      },
                      {
                        "bin_start": 34164,
                        "bin_end": 51246,
                        "count": 0
                      },
                      {
                        "bin_start": 51246,
                        "bin_end": 68328,
                        "count": 0
                      },
                      {
                        "bin_start": 68328,
                        "bin_end": 85410,
                        "count": 0
                      },
                      {
                        "bin_start": 85410,
                        "bin_end": 102492,
                        "count": 0
                      },
                      {
                        "bin_start": 102492,
                        "bin_end": 119574,
                        "count": 0
                      },
                      {
                        "bin_start": 119574,
                        "bin_end": 136656,
                        "count": 0
                      },
                      {
                        "bin_start": 136656,
                        "bin_end": 153738,
                        "count": 0
                      },
                      {
                        "bin_start": 153738,
                        "bin_end": 170820,
                        "count": 1
                      }
                    ]
                  }
                },
                {
                  "name": "airconditioningcode",
                  "dtype": "float64",
                  "stats": {
                    "unique_count": 6,
                    "nan_count": 0,
                    "min": 1,
                    "max": 146474,
                    "histogram": [
                      {
                        "bin_start": 1,
                        "bin_end": 14648.3,
                        "count": 7
                      },
                      {
                        "bin_start": 14648.3,
                        "bin_end": 29295.6,
                        "count": 0
                      },
                      {
                        "bin_start": 29295.6,
                        "bin_end": 43942.899999999994,
                        "count": 0
                      },
                      {
                        "bin_start": 43942.899999999994,
                        "bin_end": 58590.2,
                        "count": 0
                      },
                      {
                        "bin_start": 58590.2,
                        "bin_end": 73237.5,
                        "count": 0
                      },
                      {
                        "bin_start": 73237.5,
                        "bin_end": 87884.79999999999,
                        "count": 0
                      },
                      {
                        "bin_start": 87884.79999999999,
                        "bin_end": 102532.09999999999,
                        "count": 0
                      },
                      {
                        "bin_start": 102532.09999999999,
                        "bin_end": 117179.4,
                        "count": 0
                      },
                      {
                        "bin_start": 117179.4,
                        "bin_end": 131826.69999999998,
                        "count": 0
                      },
                      {
                        "bin_start": 131826.69999999998,
                        "bin_end": 146474,
                        "count": 1
                      }
                    ]
                  }
                },
                {
                  "name": "basementcode",
                  "dtype": "float64",
                  "stats": {
                    "unique_count": 8,
                    "nan_count": 0,
                    "min": 2,
                    "max": 170521,
                    "histogram": [
                      {
                        "bin_start": 2,
                        "bin_end": 17053.9,
                        "count": 7
                      },
                      {
                        "bin_start": 17053.9,
                        "bin_end": 34105.8,
                        "count": 0
                      },
                      {
                        "bin_start": 34105.8,
                        "bin_end": 51157.700000000004,
                        "count": 0
                      },
                      {
                        "bin_start": 51157.700000000004,
                        "bin_end": 68209.6,
                        "count": 0
                      },
                      {
                        "bin_start": 68209.6,
                        "bin_end": 85261.5,
                        "count": 0
                      },
                      {
                        "bin_start": 85261.5,
                        "bin_end": 102313.40000000001,
                        "count": 0
                      },
                      {
                        "bin_start": 102313.40000000001,
                        "bin_end": 119365.30000000002,
                        "count": 0
                      },
                      {
                        "bin_start": 119365.30000000002,
                        "bin_end": 136417.2,
                        "count": 0
                      },
                      {
                        "bin_start": 136417.2,
                        "bin_end": 153469.1,
                        "count": 0
                      },
                      {
                        "bin_start": 153469.1,
                        "bin_end": 170521,
                        "count": 1
                      }
                    ]
                  }
                },
                {
                  "name": "buildingconditioncode",
                  "dtype": "float64",
                  "stats": {
                    "unique_count": 6,
                    "nan_count": 0,
                    "min": 1,
                    "max": 211072,
                    "histogram": [
                      {
                        "bin_start": 1,
                        "bin_end": 21108.1,
                        "count": 7
                      },
                      {
                        "bin_start": 21108.1,
                        "bin_end": 42215.2,
                        "count": 0
                      },
                      {
                        "bin_start": 42215.2,
                        "bin_end": 63322.299999999996,
                        "count": 0
                      },
                      {
                        "bin_start": 63322.299999999996,
                        "bin_end": 84429.4,
                        "count": 0
                      },
                      {
                        "bin_start": 84429.4,
                        "bin_end": 105536.5,
                        "count": 0
                      },
                      {
                        "bin_start": 105536.5,
                        "bin_end": 126643.59999999999,
                        "count": 0
                      },
                      {
                        "bin_start": 126643.59999999999,
                        "bin_end": 147750.69999999998,
                        "count": 0
                      },
                      {
                        "bin_start": 147750.69999999998,
                        "bin_end": 168857.8,
                        "count": 0
                      },
                      {
                        "bin_start": 168857.8,
                        "bin_end": 189964.9,
                        "count": 0
                      },
                      {
                        "bin_start": 189964.9,
                        "bin_end": 211072,
                        "count": 1
                      }
                    ]
                  }
                },
                {
                  "name": "constructiontypecode",
                  "dtype": "float64",
                  "stats": {
                    "unique_count": 6,
                    "nan_count": 0,
                    "min": 1.9993637717490322,
                    "max": 151038,
                    "histogram": [
                      {
                        "bin_start": 1.9993637717490322,
                        "bin_end": 15105.599427394573,
                        "count": 7
                      },
                      {
                        "bin_start": 15105.599427394573,
                        "bin_end": 30209.199491017396,
                        "count": 0
                      },
                      {
                        "bin_start": 30209.199491017396,
                        "bin_end": 45312.799554640216,
                        "count": 0
                      },
                      {
                        "bin_start": 45312.799554640216,
                        "bin_end": 60416.39961826304,
                        "count": 0
                      },
                      {
                        "bin_start": 60416.39961826304,
                        "bin_end": 75519.99968188588,
                        "count": 0
                      },
                      {
                        "bin_start": 75519.99968188588,
                        "bin_end": 90623.59974550869,
                        "count": 0
                      },
                      {
                        "bin_start": 90623.59974550869,
                        "bin_end": 105727.19980913152,
                        "count": 0
                      },
                      {
                        "bin_start": 105727.19980913152,
                        "bin_end": 120830.79987275435,
                        "count": 0
                      },
                      {
                        "bin_start": 120830.79987275435,
                        "bin_end": 135934.39993637716,
                        "count": 0
                      },
                      {
                        "bin_start": 135934.39993637716,
                        "bin_end": 151038,
                        "count": 1
                      }
                    ]
                  }
                },
                {
                  "name": "exteriorwallscode",
                  "dtype": "float64",
                  "stats": {
                    "unique_count": 7,
                    "nan_count": 0,
                    "min": 1,
                    "max": 171423,
                    "histogram": [
                      {
                        "bin_start": 1,
                        "bin_end": 17143.2,
                        "count": 7
                      },
                      {
                        "bin_start": 17143.2,
                        "bin_end": 34285.4,
                        "count": 0
                      },
                      {
                        "bin_start": 34285.4,
                        "bin_end": 51427.600000000006,
                        "count": 0
                      },
                      {
                        "bin_start": 51427.600000000006,
                        "bin_end": 68569.8,
                        "count": 0
                      },
                      {
                        "bin_start": 68569.8,
                        "bin_end": 85712,
                        "count": 0
                      },
                      {
                        "bin_start": 85712,
                        "bin_end": 102854.20000000001,
                        "count": 0
                      },
                      {
                        "bin_start": 102854.20000000001,
                        "bin_end": 119996.40000000001,
                        "count": 0
                      },
                      {
                        "bin_start": 119996.40000000001,
                        "bin_end": 137138.6,
                        "count": 0
                      },
                      {
                        "bin_start": 137138.6,
                        "bin_end": 154280.80000000002,
                        "count": 0
                      },
                      {
                        "bin_start": 154280.80000000002,
                        "bin_end": 171423,
                        "count": 1
                      }
                    ]
                  }
                },
                {
                  "name": "interiorwallscode",
                  "dtype": "float64",
                  "stats": {
                    "unique_count": 5,
                    "nan_count": 0,
                    "min": 0.7333915101466849,
                    "max": 111261,
                    "histogram": [
                      {
                        "bin_start": 0.7333915101466849,
                        "bin_end": 11126.760052359132,
                        "count": 7
                      },
                      {
                        "bin_start": 11126.760052359132,
                        "bin_end": 22252.78671320812,
                        "count": 0
                      },
                      {
                        "bin_start": 22252.78671320812,
                        "bin_end": 33378.81337405711,
                        "count": 0
                      },
                      {
                        "bin_start": 33378.81337405711,
                        "bin_end": 44504.84003490609,
                        "count": 0
                      },
                      {
                        "bin_start": 44504.84003490609,
                        "bin_end": 55630.866695755074,
                        "count": 0
                      },
                      {
                        "bin_start": 55630.866695755074,
                        "bin_end": 66756.89335660407,
                        "count": 0
                      },
                      {
                        "bin_start": 66756.89335660407,
                        "bin_end": 77882.92001745304,
                        "count": 0
                      },
                      {
                        "bin_start": 77882.92001745304,
                        "bin_end": 89008.94667830203,
                        "count": 0
                      },
                      {
                        "bin_start": 89008.94667830203,
                        "bin_end": 100134.97333915102,
                        "count": 0
                      },
                      {
                        "bin_start": 100134.97333915102,
                        "bin_end": 111261,
                        "count": 1
                      }
                    ]
                  }
                },
                {
                  "name": "fireplacecode",
                  "dtype": "float64",
                  "stats": {
                    "unique_count": 5,
                    "nan_count": 0,
                    "min": 0.04227301497545777,
                    "max": 134222,
                    "histogram": [
                      {
                        "bin_start": 0.04227301497545777,
                        "bin_end": 13422.238045713477,
                        "count": 7
                      },
                      {
                        "bin_start": 13422.238045713477,
                        "bin_end": 26844.43381841198,
                        "count": 0
                      },
                      {
                        "bin_start": 26844.43381841198,
                        "bin_end": 40266.62959111048,
                        "count": 0
                      },
                      {
                        "bin_start": 40266.62959111048,
                        "bin_end": 53688.82536380898,
                        "count": 0
                      },
                      {
                        "bin_start": 53688.82536380898,
                        "bin_end": 67111.02113650748,
                        "count": 0
                      },
                      {
                        "bin_start": 67111.02113650748,
                        "bin_end": 80533.21690920599,
                        "count": 0
                      },
                      {
                        "bin_start": 80533.21690920599,
                        "bin_end": 93955.41268190449,
                        "count": 0
                      },
                      {
                        "bin_start": 93955.41268190449,
                        "bin_end": 107377.60845460299,
                        "count": 0
                      },
                      {
                        "bin_start": 107377.60845460299,
                        "bin_end": 120799.80422730149,
                        "count": 0
                      },
                      {
                        "bin_start": 120799.80422730149,
                        "bin_end": 134222,
                        "count": 1
                      }
                    ]
                  }
                },
                {
                  "name": "floorcovercode",
                  "dtype": "float64",
                  "stats": {
                    "unique_count": 6,
                    "nan_count": 0,
                    "min": 2,
                    "max": 31233,
                    "histogram": [
                      {
                        "bin_start": 2,
                        "bin_end": 3125.1,
                        "count": 7
                      },
                      {
                        "bin_start": 3125.1,
                        "bin_end": 6248.2,
                        "count": 0
                      },
                      {
                        "bin_start": 6248.2,
                        "bin_end": 9371.3,
                        "count": 0
                      },
                      {
                        "bin_start": 9371.3,
                        "bin_end": 12494.4,
                        "count": 0
                      },
                      {
                        "bin_start": 12494.4,
                        "bin_end": 15617.5,
                        "count": 0
                      },
                      {
                        "bin_start": 15617.5,
                        "bin_end": 18740.6,
                        "count": 0
                      },
                      {
                        "bin_start": 18740.6,
                        "bin_end": 21863.7,
                        "count": 0
                      },
                      {
                        "bin_start": 21863.7,
                        "bin_end": 24986.8,
                        "count": 0
                      },
                      {
                        "bin_start": 24986.8,
                        "bin_end": 28109.899999999998,
                        "count": 0
                      },
                      {
                        "bin_start": 28109.899999999998,
                        "bin_end": 31233,
                        "count": 1
                      }
                    ]
                  }
                },
                {
                  "name": "garage",
                  "dtype": "float64",
                  "stats": {
                    "unique_count": 7,
                    "nan_count": 0,
                    "min": 1,
                    "max": 193325,
                    "histogram": [
                      {
                        "bin_start": 1,
                        "bin_end": 19333.4,
                        "count": 7
                      },
                      {
                        "bin_start": 19333.4,
                        "bin_end": 38665.8,
                        "count": 0
                      },
                      {
                        "bin_start": 38665.8,
                        "bin_end": 57998.200000000004,
                        "count": 0
                      },
                      {
                        "bin_start": 57998.200000000004,
                        "bin_end": 77330.6,
                        "count": 0
                      },
                      {
                        "bin_start": 77330.6,
                        "bin_end": 96663,
                        "count": 0
                      },
                      {
                        "bin_start": 96663,
                        "bin_end": 115995.40000000001,
                        "count": 0
                      },
                      {
                        "bin_start": 115995.40000000001,
                        "bin_end": 135327.80000000002,
                        "count": 0
                      },
                      {
                        "bin_start": 135327.80000000002,
                        "bin_end": 154660.2,
                        "count": 0
                      },
                      {
                        "bin_start": 154660.2,
                        "bin_end": 173992.6,
                        "count": 0
                      },
                      {
                        "bin_start": 173992.6,
                        "bin_end": 193325,
                        "count": 1
                      }
                    ]
                  }
                },
                {
                  "name": "heatcode",
                  "dtype": "float64",
                  "stats": {
                    "unique_count": 6,
                    "nan_count": 0,
                    "min": 1,
                    "max": 208796,
                    "histogram": [
                      {
                        "bin_start": 1,
                        "bin_end": 20880.5,
                        "count": 7
                      },
                      {
                        "bin_start": 20880.5,
                        "bin_end": 41760,
                        "count": 0
                      },
                      {
                        "bin_start": 41760,
                        "bin_end": 62639.5,
                        "count": 0
                      },
                      {
                        "bin_start": 62639.5,
                        "bin_end": 83519,
                        "count": 0
                      },
                      {
                        "bin_start": 83519,
                        "bin_end": 104398.5,
                        "count": 0
                      },
                      {
                        "bin_start": 104398.5,
                        "bin_end": 125278,
                        "count": 0
                      },
                      {
                        "bin_start": 125278,
                        "bin_end": 146157.5,
                        "count": 0
                      },
                      {
                        "bin_start": 146157.5,
                        "bin_end": 167037,
                        "count": 0
                      },
                      {
                        "bin_start": 167037,
                        "bin_end": 187916.5,
                        "count": 0
                      },
                      {
                        "bin_start": 187916.5,
                        "bin_end": 208796,
                        "count": 1
                      }
                    ]
                  }
                },
                {
                  "name": "heatingfueltypecode",
                  "dtype": "float64",
                  "stats": {
                    "unique_count": 6,
                    "nan_count": 0,
                    "min": 0.5212268708533044,
                    "max": 103236,
                    "histogram": [
                      {
                        "bin_start": 0.5212268708533044,
                        "bin_end": 10324.069104183767,
                        "count": 7
                      },
                      {
                        "bin_start": 10324.069104183767,
                        "bin_end": 20647.61698149668,
                        "count": 0
                      },
                      {
                        "bin_start": 20647.61698149668,
                        "bin_end": 30971.164858809596,
                        "count": 0
                      },
                      {
                        "bin_start": 30971.164858809596,
                        "bin_end": 41294.712736122514,
                        "count": 0
                      },
                      {
                        "bin_start": 41294.712736122514,
                        "bin_end": 51618.26061343543,
                        "count": 0
                      },
                      {
                        "bin_start": 51618.26061343543,
                        "bin_end": 61941.80849074834,
                        "count": 0
                      },
                      {
                        "bin_start": 61941.80849074834,
                        "bin_end": 72265.35636806126,
                        "count": 0
                      },
                      {
                        "bin_start": 72265.35636806126,
                        "bin_end": 82588.90424537417,
                        "count": 0
                      },
                      {
                        "bin_start": 82588.90424537417,
                        "bin_end": 92912.45212268709,
                        "count": 0
                      },
                      {
                        "bin_start": 92912.45212268709,
                        "bin_end": 103236,
                        "count": 1
                      }
                    ]
                  }
                },
                {
                  "name": "garageparkingnbr",
                  "dtype": "float64",
                  "stats": {
                    "unique_count": 7,
                    "nan_count": 0,
                    "min": 0,
                    "max": 221643,
                    "histogram": [
                      {
                        "bin_start": 0,
                        "bin_end": 22164.3,
                        "count": 7
                      },
                      {
                        "bin_start": 22164.3,
                        "bin_end": 44328.6,
                        "count": 0
                      },
                      {
                        "bin_start": 44328.6,
                        "bin_end": 66492.9,
                        "count": 0
                      },
                      {
                        "bin_start": 66492.9,
                        "bin_end": 88657.2,
                        "count": 0
                      },
                      {
                        "bin_start": 88657.2,
                        "bin_end": 110821.5,
                        "count": 0
                      },
                      {
                        "bin_start": 110821.5,
                        "bin_end": 132985.8,
                        "count": 0
                      },
                      {
                        "bin_start": 132985.8,
                        "bin_end": 155150.1,
                        "count": 0
                      },
                      {
                        "bin_start": 155150.1,
                        "bin_end": 177314.4,
                        "count": 0
                      },
                      {
                        "bin_start": 177314.4,
                        "bin_end": 199478.69999999998,
                        "count": 0
                      },
                      {
                        "bin_start": 199478.69999999998,
                        "bin_end": 221643,
                        "count": 1
                      }
                    ]
                  }
                },
                {
                  "name": "drivewaycode",
                  "dtype": "float64",
                  "stats": {
                    "unique_count": 3,
                    "nan_count": 0,
                    "min": 0,
                    "max": 30415,
                    "histogram": [
                      {
                        "bin_start": 0,
                        "bin_end": 3041.5,
                        "count": 7
                      },
                      {
                        "bin_start": 3041.5,
                        "bin_end": 6083,
                        "count": 0
                      },
                      {
                        "bin_start": 6083,
                        "bin_end": 9124.5,
                        "count": 0
                      },
                      {
                        "bin_start": 9124.5,
                        "bin_end": 12166,
                        "count": 0
                      },
                      {
                        "bin_start": 12166,
                        "bin_end": 15207.5,
                        "count": 0
                      },
                      {
                        "bin_start": 15207.5,
                        "bin_end": 18249,
                        "count": 0
                      },
                      {
                        "bin_start": 18249,
                        "bin_end": 21290.5,
                        "count": 0
                      },
                      {
                        "bin_start": 21290.5,
                        "bin_end": 24332,
                        "count": 0
                      },
                      {
                        "bin_start": 24332,
                        "bin_end": 27373.5,
                        "count": 0
                      },
                      {
                        "bin_start": 27373.5,
                        "bin_end": 30415,
                        "count": 1
                      }
                    ]
                  }
                },
                {
                  "name": "patiocode",
                  "dtype": "float64",
                  "stats": {
                    "unique_count": 3,
                    "nan_count": 0,
                    "min": 0,
                    "max": 23511,
                    "histogram": [
                      {
                        "bin_start": 0,
                        "bin_end": 2351.1,
                        "count": 7
                      },
                      {
                        "bin_start": 2351.1,
                        "bin_end": 4702.2,
                        "count": 0
                      },
                      {
                        "bin_start": 4702.2,
                        "bin_end": 7053.299999999999,
                        "count": 0
                      },
                      {
                        "bin_start": 7053.299999999999,
                        "bin_end": 9404.4,
                        "count": 0
                      },
                      {
                        "bin_start": 9404.4,
                        "bin_end": 11755.5,
                        "count": 0
                      },
                      {
                        "bin_start": 11755.5,
                        "bin_end": 14106.599999999999,
                        "count": 0
                      },
                      {
                        "bin_start": 14106.599999999999,
                        "bin_end": 16457.7,
                        "count": 0
                      },
                      {
                        "bin_start": 16457.7,
                        "bin_end": 18808.8,
                        "count": 0
                      },
                      {
                        "bin_start": 18808.8,
                        "bin_end": 21159.899999999998,
                        "count": 0
                      },
                      {
                        "bin_start": 21159.899999999998,
                        "bin_end": 23511,
                        "count": 1
                      }
                    ]
                  }
                },
                {
                  "name": "poolcode",
                  "dtype": "float64",
                  "stats": {
                    "unique_count": 6,
                    "nan_count": 0,
                    "min": 0.8460454371277343,
                    "max": 11690,
                    "histogram": [
                      {
                        "bin_start": 0.8460454371277343,
                        "bin_end": 1169.761440893415,
                        "count": 7
                      },
                      {
                        "bin_start": 1169.761440893415,
                        "bin_end": 2338.6768363497026,
                        "count": 0
                      },
                      {
                        "bin_start": 2338.6768363497026,
                        "bin_end": 3507.59223180599,
                        "count": 0
                      },
                      {
                        "bin_start": 3507.59223180599,
                        "bin_end": 4676.507627262277,
                        "count": 0
                      },
                      {
                        "bin_start": 4676.507627262277,
                        "bin_end": 5845.423022718564,
                        "count": 0
                      },
                      {
                        "bin_start": 5845.423022718564,
                        "bin_end": 7014.338418174852,
                        "count": 0
                      },
                      {
                        "bin_start": 7014.338418174852,
                        "bin_end": 8183.25381363114,
                        "count": 0
                      },
                      {
                        "bin_start": 8183.25381363114,
                        "bin_end": 9352.169209087426,
                        "count": 0
                      },
                      {
                        "bin_start": 9352.169209087426,
                        "bin_end": 10521.084604543714,
                        "count": 0
                      },
                      {
                        "bin_start": 10521.084604543714,
                        "bin_end": 11690,
                        "count": 1
                      }
                    ]
                  }
                },
                {
                  "name": "porchcode",
                  "dtype": "float64",
                  "stats": {
                    "unique_count": 6,
                    "nan_count": 0,
                    "min": 0.946077733242491,
                    "max": 95294,
                    "histogram": [
                      {
                        "bin_start": 0.946077733242491,
                        "bin_end": 9530.251469959918,
                        "count": 7
                      },
                      {
                        "bin_start": 9530.251469959918,
                        "bin_end": 19059.556862186593,
                        "count": 0
                      },
                      {
                        "bin_start": 19059.556862186593,
                        "bin_end": 28588.862254413267,
                        "count": 0
                      },
                      {
                        "bin_start": 28588.862254413267,
                        "bin_end": 38118.167646639944,
                        "count": 0
                      },
                      {
                        "bin_start": 38118.167646639944,
                        "bin_end": 47647.47303886662,
                        "count": 0
                      },
                      {
                        "bin_start": 47647.47303886662,
                        "bin_end": 57176.77843109329,
                        "count": 0
                      },
                      {
                        "bin_start": 57176.77843109329,
                        "bin_end": 66706.08382331998,
                        "count": 0
                      },
                      {
                        "bin_start": 66706.08382331998,
                        "bin_end": 76235.38921554665,
                        "count": 0
                      },
                      {
                        "bin_start": 76235.38921554665,
                        "bin_end": 85764.69460777332,
                        "count": 0
                      },
                      {
                        "bin_start": 85764.69460777332,
                        "bin_end": 95294,
                        "count": 1
                      }
                    ]
                  }
                },
                {
                  "name": "buildingqualitycode",
                  "dtype": "float64",
                  "stats": {
                    "unique_count": 7,
                    "nan_count": 0,
                    "min": 1,
                    "max": 160376,
                    "histogram": [
                      {
                        "bin_start": 1,
                        "bin_end": 16038.5,
                        "count": 7
                      },
                      {
                        "bin_start": 16038.5,
                        "bin_end": 32076,
                        "count": 0
                      },
                      {
                        "bin_start": 32076,
                        "bin_end": 48113.5,
                        "count": 0
                      },
                      {
                        "bin_start": 48113.5,
                        "bin_end": 64151,
                        "count": 0
                      },
                      {
                        "bin_start": 64151,
                        "bin_end": 80188.5,
                        "count": 0
                      },
                      {
                        "bin_start": 80188.5,
                        "bin_end": 96226,
                        "count": 0
                      },
                      {
                        "bin_start": 96226,
                        "bin_end": 112263.5,
                        "count": 0
                      },
                      {
                        "bin_start": 112263.5,
                        "bin_end": 128301,
                        "count": 0
                      },
                      {
                        "bin_start": 128301,
                        "bin_end": 144338.5,
                        "count": 0
                      },
                      {
                        "bin_start": 144338.5,
                        "bin_end": 160376,
                        "count": 1
                      }
                    ]
                  }
                },
                {
                  "name": "roofcovercode",
                  "dtype": "float64",
                  "stats": {
                    "unique_count": 6,
                    "nan_count": 0,
                    "min": 2,
                    "max": 124700,
                    "histogram": [
                      {
                        "bin_start": 2,
                        "bin_end": 12471.8,
                        "count": 7
                      },
                      {
                        "bin_start": 12471.8,
                        "bin_end": 24941.6,
                        "count": 0
                      },
                      {
                        "bin_start": 24941.6,
                        "bin_end": 37411.399999999994,
                        "count": 0
                      },
                      {
                        "bin_start": 37411.399999999994,
                        "bin_end": 49881.2,
                        "count": 0
                      },
                      {
                        "bin_start": 49881.2,
                        "bin_end": 62351,
                        "count": 0
                      },
                      {
                        "bin_start": 62351,
                        "bin_end": 74820.79999999999,
                        "count": 0
                      },
                      {
                        "bin_start": 74820.79999999999,
                        "bin_end": 87290.59999999999,
                        "count": 0
                      },
                      {
                        "bin_start": 87290.59999999999,
                        "bin_end": 99760.4,
                        "count": 0
                      },
                      {
                        "bin_start": 99760.4,
                        "bin_end": 112230.2,
                        "count": 0
                      },
                      {
                        "bin_start": 112230.2,
                        "bin_end": 124700,
                        "count": 1
                      }
                    ]
                  }
                },
                {
                  "name": "rooftypecode",
                  "dtype": "float64",
                  "stats": {
                    "unique_count": 7,
                    "nan_count": 0,
                    "min": 1,
                    "max": 108176,
                    "histogram": [
                      {
                        "bin_start": 1,
                        "bin_end": 10818.5,
                        "count": 7
                      },
                      {
                        "bin_start": 10818.5,
                        "bin_end": 21636,
                        "count": 0
                      },
                      {
                        "bin_start": 21636,
                        "bin_end": 32453.5,
                        "count": 0
                      },
                      {
                        "bin_start": 32453.5,
                        "bin_end": 43271,
                        "count": 0
                      },
                      {
                        "bin_start": 43271,
                        "bin_end": 54088.5,
                        "count": 0
                      },
                      {
                        "bin_start": 54088.5,
                        "bin_end": 64906,
                        "count": 0
                      },
                      {
                        "bin_start": 64906,
                        "bin_end": 75723.5,
                        "count": 0
                      },
                      {
                        "bin_start": 75723.5,
                        "bin_end": 86541,
                        "count": 0
                      },
                      {
                        "bin_start": 86541,
                        "bin_end": 97358.5,
                        "count": 0
                      },
                      {
                        "bin_start": 97358.5,
                        "bin_end": 108176,
                        "count": 1
                      }
                    ]
                  }
                },
                {
                  "name": "storiesnbrcode",
                  "dtype": "float64",
                  "stats": {
                    "unique_count": 6,
                    "nan_count": 0,
                    "min": 59.4605067244768,
                    "max": 207148,
                    "histogram": [
                      {
                        "bin_start": 59.4605067244768,
                        "bin_end": 20768.31445605203,
                        "count": 7
                      },
                      {
                        "bin_start": 20768.31445605203,
                        "bin_end": 41477.16840537958,
                        "count": 0
                      },
                      {
                        "bin_start": 41477.16840537958,
                        "bin_end": 62186.02235470714,
                        "count": 0
                      },
                      {
                        "bin_start": 62186.02235470714,
                        "bin_end": 82894.87630403468,
                        "count": 0
                      },
                      {
                        "bin_start": 82894.87630403468,
                        "bin_end": 103603.73025336223,
                        "count": 0
                      },
                      {
                        "bin_start": 103603.73025336223,
                        "bin_end": 124312.58420268979,
                        "count": 0
                      },
                      {
                        "bin_start": 124312.58420268979,
                        "bin_end": 145021.43815201736,
                        "count": 0
                      },
                      {
                        "bin_start": 145021.43815201736,
                        "bin_end": 165730.2921013449,
                        "count": 0
                      },
                      {
                        "bin_start": 165730.2921013449,
                        "bin_end": 186439.14605067245,
                        "count": 0
                      },
                      {
                        "bin_start": 186439.14605067245,
                        "bin_end": 207148,
                        "count": 1
                      }
                    ]
                  }
                },
                {
                  "name": "stylecode",
                  "dtype": "float64",
                  "stats": {
                    "unique_count": 8,
                    "nan_count": 0,
                    "min": 1,
                    "max": 130223,
                    "histogram": [
                      {
                        "bin_start": 1,
                        "bin_end": 13023.2,
                        "count": 7
                      },
                      {
                        "bin_start": 13023.2,
                        "bin_end": 26045.4,
                        "count": 0
                      },
                      {
                        "bin_start": 26045.4,
                        "bin_end": 39067.600000000006,
                        "count": 0
                      },
                      {
                        "bin_start": 39067.600000000006,
                        "bin_end": 52089.8,
                        "count": 0
                      },
                      {
                        "bin_start": 52089.8,
                        "bin_end": 65112,
                        "count": 0
                      },
                      {
                        "bin_start": 65112,
                        "bin_end": 78134.20000000001,
                        "count": 0
                      },
                      {
                        "bin_start": 78134.20000000001,
                        "bin_end": 91156.40000000001,
                        "count": 0
                      },
                      {
                        "bin_start": 91156.40000000001,
                        "bin_end": 104178.6,
                        "count": 0
                      },
                      {
                        "bin_start": 104178.6,
                        "bin_end": 117200.8,
                        "count": 0
                      },
                      {
                        "bin_start": 117200.8,
                        "bin_end": 130223,
                        "count": 1
                      }
                    ]
                  }
                },
                {
                  "name": "sumresidentialunits",
                  "dtype": "float64",
                  "stats": {
                    "unique_count": 6,
                    "nan_count": 0,
                    "min": 0,
                    "max": 221643,
                    "histogram": [
                      {
                        "bin_start": 0,
                        "bin_end": 22164.3,
                        "count": 7
                      },
                      {
                        "bin_start": 22164.3,
                        "bin_end": 44328.6,
                        "count": 0
                      },
                      {
                        "bin_start": 44328.6,
                        "bin_end": 66492.9,
                        "count": 0
                      },
                      {
                        "bin_start": 66492.9,
                        "bin_end": 88657.2,
                        "count": 0
                      },
                      {
                        "bin_start": 88657.2,
                        "bin_end": 110821.5,
                        "count": 0
                      },
                      {
                        "bin_start": 110821.5,
                        "bin_end": 132985.8,
                        "count": 0
                      },
                      {
                        "bin_start": 132985.8,
                        "bin_end": 155150.1,
                        "count": 0
                      },
                      {
                        "bin_start": 155150.1,
                        "bin_end": 177314.4,
                        "count": 0
                      },
                      {
                        "bin_start": 177314.4,
                        "bin_end": 199478.69999999998,
                        "count": 0
                      },
                      {
                        "bin_start": 199478.69999999998,
                        "bin_end": 221643,
                        "count": 1
                      }
                    ]
                  }
                },
                {
                  "name": "sumbuildingsnbr",
                  "dtype": "float64",
                  "stats": {
                    "unique_count": 5,
                    "nan_count": 0,
                    "min": 0,
                    "max": 221643,
                    "histogram": [
                      {
                        "bin_start": 0,
                        "bin_end": 22164.3,
                        "count": 7
                      },
                      {
                        "bin_start": 22164.3,
                        "bin_end": 44328.6,
                        "count": 0
                      },
                      {
                        "bin_start": 44328.6,
                        "bin_end": 66492.9,
                        "count": 0
                      },
                      {
                        "bin_start": 66492.9,
                        "bin_end": 88657.2,
                        "count": 0
                      },
                      {
                        "bin_start": 88657.2,
                        "bin_end": 110821.5,
                        "count": 0
                      },
                      {
                        "bin_start": 110821.5,
                        "bin_end": 132985.8,
                        "count": 0
                      },
                      {
                        "bin_start": 132985.8,
                        "bin_end": 155150.1,
                        "count": 0
                      },
                      {
                        "bin_start": 155150.1,
                        "bin_end": 177314.4,
                        "count": 0
                      },
                      {
                        "bin_start": 177314.4,
                        "bin_end": 199478.69999999998,
                        "count": 0
                      },
                      {
                        "bin_start": 199478.69999999998,
                        "bin_end": 221643,
                        "count": 1
                      }
                    ]
                  }
                },
                {
                  "name": "ct_key",
                  "dtype": "float64",
                  "stats": {
                    "unique_count": 8,
                    "nan_count": 0,
                    "min": 221640,
                    "max": 8123002502,
                    "histogram": [
                      {
                        "bin_start": 221640,
                        "bin_end": 812499726.2,
                        "count": 2
                      },
                      {
                        "bin_start": 812499726.2,
                        "bin_end": 1624777812.4,
                        "count": 0
                      },
                      {
                        "bin_start": 1624777812.4,
                        "bin_end": 2437055898.6000004,
                        "count": 0
                      },
                      {
                        "bin_start": 2437055898.6000004,
                        "bin_end": 3249333984.8,
                        "count": 0
                      },
                      {
                        "bin_start": 3249333984.8,
                        "bin_end": 4061612071,
                        "count": 0
                      },
                      {
                        "bin_start": 4061612071,
                        "bin_end": 4873890157.200001,
                        "count": 0
                      },
                      {
                        "bin_start": 4873890157.200001,
                        "bin_end": 5686168243.400001,
                        "count": 0
                      },
                      {
                        "bin_start": 5686168243.400001,
                        "bin_end": 6498446329.6,
                        "count": 0
                      },
                      {
                        "bin_start": 6498446329.6,
                        "bin_end": 7310724415.8,
                        "count": 0
                      },
                      {
                        "bin_start": 7310724415.8,
                        "bin_end": 8123002502,
                        "count": 6
                      }
                    ]
                  }
                },
                {
                  "name": "_deepnote_index_column",
                  "dtype": "object"
                }
              ],
              "rows_top": [
                {
                  "rex_property_id": 221643,
                  "random_property_id": 221643,
                  "zipcode": 221643,
                  "fips": 221643,
                  "situsstdzip5": 221643,
                  "situsstdzip4": 221331,
                  "situslatitude": 221643,
                  "situslongitude": 221643,
                  "stdlandusecode": 221643,
                  "statelandusecode": 44799,
                  "situscensustract": 216836,
                  "lotsizefrontagefeet": 37965,
                  "lotsizedepthfeet": 221643,
                  "lotsizeacres": 221643,
                  "lotsizesqft": 221643,
                  "mailingstdzip4": 221271,
                  "assdtotalvalue": 221643,
                  "assdlandvalue": 221643,
                  "assdimprovementvalue": 221643,
                  "markettotalvalue": 221643,
                  "marketvalueland": 221643,
                  "marketvalueimprovement": 221643,
                  "taxamount": 221586,
                  "taxyear": 221643,
                  "taxdeliquentyear1": 23884,
                  "assdyear": 221643,
                  "buildingarea": 221643,
                  "sumbuildingsqft": 221643,
                  "sumlivingareasqft": 221418,
                  "sumgrossareasqft": 104748,
                  "sumadjareasqft": 152255,
                  "sumbasementsqft": 146964,
                  "sumgaragesqft": 177298,
                  "yearbuilt": 221522,
                  "effectiveyearbuilt": 220700,
                  "bedrooms": 221643,
                  "totalrooms": 221643,
                  "bathtotalcalc": 221643,
                  "bathfull": 221643,
                  "bathsparcialnbr": 221643,
                  "bathfixturesnbr": 170820,
                  "airconditioningcode": 146474,
                  "basementcode": 170521,
                  "buildingconditioncode": 211072,
                  "constructiontypecode": 151038,
                  "exteriorwallscode": 171423,
                  "interiorwallscode": 111261,
                  "fireplacecode": 134222,
                  "floorcovercode": 31233,
                  "garage": 193325,
                  "heatcode": 208796,
                  "heatingfueltypecode": 103236,
                  "garageparkingnbr": 221643,
                  "drivewaycode": 30415,
                  "patiocode": 23511,
                  "poolcode": 11690,
                  "porchcode": 95294,
                  "buildingqualitycode": 160376,
                  "roofcovercode": 124700,
                  "rooftypecode": 108176,
                  "storiesnbrcode": 207148,
                  "stylecode": 130223,
                  "sumresidentialunits": 221643,
                  "sumbuildingsnbr": 221643,
                  "ct_key": 221640,
                  "_deepnote_index_column": "count"
                },
                {
                  "rex_property_id": 202692636.8869804,
                  "random_property_id": 34648619.18133214,
                  "zipcode": 80174.25008233961,
                  "fips": 8028.864750973412,
                  "situsstdzip5": 80174.25008233961,
                  "situsstdzip4": 4572.689776850058,
                  "situslatitude": 39.70320492248796,
                  "situslongitude": -104.94782075570174,
                  "stdlandusecode": 1002.3784238617958,
                  "statelandusecode": 1134.867564008125,
                  "situscensustract": 21618.2235744987,
                  "lotsizefrontagefeet": 815.0050572896089,
                  "lotsizedepthfeet": 186.4838366201504,
                  "lotsizeacres": 5681.22187932847,
                  "lotsizesqft": 52022.96918467987,
                  "mailingstdzip4": 4559.484537060889,
                  "assdtotalvalue": 32960.87825918256,
                  "assdlandvalue": 7457.278402656524,
                  "assdimprovementvalue": 18886.782063949686,
                  "markettotalvalue": 458723.13643561944,
                  "marketvalueland": 133076.97119241304,
                  "marketvalueimprovement": 325646.16524320643,
                  "taxamount": 14405.469659635537,
                  "taxyear": 2018.9927270430376,
                  "taxdeliquentyear1": 1937.1397169653324,
                  "assdyear": 2019.1414572082133,
                  "buildingarea": 1731.8984854022008,
                  "sumbuildingsqft": 1732.6276128729533,
                  "sumlivingareasqft": 2084.54856877038,
                  "sumgrossareasqft": 2034.8765799824341,
                  "sumadjareasqft": 2478.497310433155,
                  "sumbasementsqft": 1064.3568629052013,
                  "sumgaragesqft": 502.91885413259035,
                  "yearbuilt": 1982.6058269607533,
                  "effectiveyearbuilt": 1995.2617172632533,
                  "bedrooms": 3.32048384113191,
                  "totalrooms": 5.664961221423641,
                  "bathtotalcalc": 2.5780478066079238,
                  "bathfull": 2.371800598259363,
                  "bathsparcialnbr": 0.3674422381938523,
                  "bathfixturesnbr": 7.545925535651563,
                  "airconditioningcode": 2.0243592719527017,
                  "basementcode": 5.298303434767566,
                  "buildingconditioncode": 5.085075234990904,
                  "constructiontypecode": 5.986308081409977,
                  "exteriorwallscode": 15.50494974420002,
                  "interiorwallscode": 3.082122217129093,
                  "fireplacecode": 1.0010430480845167,
                  "floorcovercode": 7.007716197611501,
                  "garage": 4.028527091684986,
                  "heatcode": 4.382751585279411,
                  "heatingfueltypecode": 3.012205044751831,
                  "garageparkingnbr": 1.5671191961848558,
                  "drivewaycode": 1,
                  "patiocode": 20,
                  "poolcode": 8.536526946107784,
                  "porchcode": 7.123470522803115,
                  "buildingqualitycode": 6.6157467451489005,
                  "roofcovercode": 4.977882919005613,
                  "rooftypecode": 4.0991902085490315,
                  "storiesnbrcode": 157.5733292138954,
                  "stylecode": 24.456609047556885,
                  "sumresidentialunits": 15.206629580000271,
                  "sumbuildingsnbr": 0.537670939303294,
                  "ct_key": 8028919643.089442,
                  "_deepnote_index_column": "mean"
                },
                {
                  "rex_property_id": 97561770.2862545,
                  "random_property_id": 37759847.73863596,
                  "zipcode": 149.85265182906633,
                  "fips": 23.823051631705084,
                  "situsstdzip5": 149.85265182906633,
                  "situsstdzip4": 2325.757949815651,
                  "situslatitude": 0.2158098709396371,
                  "situslongitude": 0.41490520039220613,
                  "stdlandusecode": 31.33060904587782,
                  "statelandusecode": 264.6773127748242,
                  "situscensustract": 62704.61561383131,
                  "lotsizefrontagefeet": 24370.403620296016,
                  "lotsizedepthfeet": 530.9677320282672,
                  "lotsizeacres": 405151.5736851895,
                  "lotsizesqft": 2674467.716351364,
                  "mailingstdzip4": 2352.6670279238488,
                  "assdtotalvalue": 22214.95271222796,
                  "assdlandvalue": 9619.788996437408,
                  "assdimprovementvalue": 16957.87669503311,
                  "markettotalvalue": 302171.4417681344,
                  "marketvalueland": 146342.0171734739,
                  "marketvalueimprovement": 213177.72582582058,
                  "taxamount": 266169.12444854196,
                  "taxyear": 0.14365976514920156,
                  "taxdeliquentyear1": 290.9684374824132,
                  "assdyear": 0.383491202906374,
                  "buildingarea": 916.5815530773973,
                  "sumbuildingsqft": 918.0068466680568,
                  "sumlivingareasqft": 1176.5929006674194,
                  "sumgrossareasqft": 1549.2956981248692,
                  "sumadjareasqft": 1385.5103419102836,
                  "sumbasementsqft": 594.132035317224,
                  "sumgaragesqft": 220.30820339254774,
                  "yearbuilt": 27.811932903713814,
                  "effectiveyearbuilt": 21.8003451463769,
                  "bedrooms": 1.2233203650754776,
                  "totalrooms": 5.01320179655779,
                  "bathtotalcalc": 1.1355559706716558,
                  "bathfull": 1.1884573966891459,
                  "bathsparcialnbr": 0.5328902946397953,
                  "bathfixturesnbr": 5.7821221117056885,
                  "airconditioningcode": 1.83441864500878,
                  "basementcode": 2.41597622432193,
                  "buildingconditioncode": 1.4299042746978,
                  "constructiontypecode": 1.9993637717490322,
                  "exteriorwallscode": 6.738485832749258,
                  "interiorwallscode": 0.7333915101466849,
                  "fireplacecode": 0.04227301497545777,
                  "floorcovercode": 5.572222635518209,
                  "garage": 3.4191369028849885,
                  "heatcode": 2.2828578861068594,
                  "heatingfueltypecode": 0.5212268708533044,
                  "garageparkingnbr": 1.0796595209757112,
                  "drivewaycode": 0,
                  "patiocode": 0,
                  "poolcode": 0.8460454371277343,
                  "porchcode": 0.946077733242491,
                  "buildingqualitycode": 2.048109434749421,
                  "roofcovercode": 4.590836796594713,
                  "rooftypecode": 3.069811994436427,
                  "storiesnbrcode": 59.4605067244768,
                  "stylecode": 12.25874103680308,
                  "sumresidentialunits": 175.59099400975333,
                  "sumbuildingsnbr": 12.861027724459932,
                  "ct_key": 23901125.256529726,
                  "_deepnote_index_column": "std"
                },
                {
                  "rex_property_id": 63440236,
                  "random_property_id": 22298326,
                  "zipcode": 80002,
                  "fips": 8001,
                  "situsstdzip5": 80002,
                  "situsstdzip4": 16,
                  "situslatitude": 0,
                  "situslongitude": -105.579031,
                  "stdlandusecode": 10,
                  "statelandusecode": 100,
                  "situscensustract": 102,
                  "lotsizefrontagefeet": 0,
                  "lotsizedepthfeet": 0,
                  "lotsizeacres": 0,
                  "lotsizesqft": 0,
                  "mailingstdzip4": 1,
                  "assdtotalvalue": 0,
                  "assdlandvalue": 0,
                  "assdimprovementvalue": 0,
                  "markettotalvalue": 0,
                  "marketvalueland": 0,
                  "marketvalueimprovement": 0,
                  "taxamount": 0,
                  "taxyear": 2012,
                  "taxdeliquentyear1": 20,
                  "assdyear": 2015,
                  "buildingarea": 0,
                  "sumbuildingsqft": 0,
                  "sumlivingareasqft": 1,
                  "sumgrossareasqft": 120,
                  "sumadjareasqft": 1,
                  "sumbasementsqft": 1,
                  "sumgaragesqft": 1,
                  "yearbuilt": 1860,
                  "effectiveyearbuilt": 1876,
                  "bedrooms": 0,
                  "totalrooms": 0,
                  "bathtotalcalc": 0,
                  "bathfull": 0,
                  "bathsparcialnbr": 0,
                  "bathfixturesnbr": 0,
                  "airconditioningcode": 1,
                  "basementcode": 2,
                  "buildingconditioncode": 1,
                  "constructiontypecode": 2,
                  "exteriorwallscode": 1,
                  "interiorwallscode": 3,
                  "fireplacecode": 1,
                  "floorcovercode": 2,
                  "garage": 1,
                  "heatcode": 1,
                  "heatingfueltypecode": 2,
                  "garageparkingnbr": 0,
                  "drivewaycode": 1,
                  "patiocode": 20,
                  "poolcode": 2,
                  "porchcode": 4,
                  "buildingqualitycode": 1,
                  "roofcovercode": 2,
                  "rooftypecode": 1,
                  "storiesnbrcode": 100,
                  "stylecode": 1,
                  "sumresidentialunits": 0,
                  "sumbuildingsnbr": 0,
                  "ct_key": 8001007801,
                  "_deepnote_index_column": "min"
                },
                {
                  "rex_property_id": 93776473,
                  "random_property_id": 22593443.5,
                  "zipcode": 80031,
                  "fips": 8005,
                  "situsstdzip5": 80031,
                  "situsstdzip4": 2704,
                  "situslatitude": 39.607605,
                  "situslongitude": -105.04533899999998,
                  "stdlandusecode": 1001,
                  "statelandusecode": 1112,
                  "situscensustract": 5634,
                  "lotsizefrontagefeet": 500,
                  "lotsizedepthfeet": 0,
                  "lotsizeacres": 72,
                  "lotsizesqft": 3150,
                  "mailingstdzip4": 2653,
                  "assdtotalvalue": 22680,
                  "assdlandvalue": 1070,
                  "assdimprovementvalue": 9290,
                  "markettotalvalue": 316573,
                  "marketvalueland": 68700,
                  "marketvalueimprovement": 222100,
                  "taxamount": 1510,
                  "taxyear": 2019,
                  "taxdeliquentyear1": 1920,
                  "assdyear": 2019,
                  "buildingarea": 1115,
                  "sumbuildingsqft": 1115,
                  "sumlivingareasqft": 1291,
                  "sumgrossareasqft": 1100,
                  "sumadjareasqft": 1494,
                  "sumbasementsqft": 682,
                  "sumgaragesqft": 400,
                  "yearbuilt": 1968,
                  "effectiveyearbuilt": 1983,
                  "bedrooms": 3,
                  "totalrooms": 0,
                  "bathtotalcalc": 2,
                  "bathfull": 2,
                  "bathsparcialnbr": 0,
                  "bathfixturesnbr": 5,
                  "airconditioningcode": 1,
                  "basementcode": 3,
                  "buildingconditioncode": 3,
                  "constructiontypecode": 6,
                  "exteriorwallscode": 17,
                  "interiorwallscode": 3,
                  "fireplacecode": 1,
                  "floorcovercode": 3,
                  "garage": 1,
                  "heatcode": 4,
                  "heatingfueltypecode": 3,
                  "garageparkingnbr": 1,
                  "drivewaycode": 1,
                  "patiocode": 20,
                  "poolcode": 8,
                  "porchcode": 6,
                  "buildingqualitycode": 5,
                  "roofcovercode": 3,
                  "rooftypecode": 1,
                  "storiesnbrcode": 100,
                  "stylecode": 11,
                  "sumresidentialunits": 0,
                  "sumbuildingsnbr": 0,
                  "ct_key": 8005080600,
                  "_deepnote_index_column": "25%"
                },
                {
                  "rex_property_id": 208977429,
                  "random_property_id": 23146909,
                  "zipcode": 80134,
                  "fips": 8031,
                  "situsstdzip5": 80134,
                  "situsstdzip4": 4154,
                  "situslatitude": 39.699239,
                  "situslongitude": -104.950685,
                  "stdlandusecode": 1001,
                  "statelandusecode": 1112,
                  "situscensustract": 9815,
                  "lotsizefrontagefeet": 700,
                  "lotsizedepthfeet": 0,
                  "lotsizeacres": 147,
                  "lotsizesqft": 6403,
                  "mailingstdzip4": 4150,
                  "assdtotalvalue": 28499,
                  "assdlandvalue": 5930,
                  "assdimprovementvalue": 18409,
                  "markettotalvalue": 398051,
                  "marketvalueland": 99433,
                  "marketvalueimprovement": 282100,
                  "taxamount": 2256,
                  "taxyear": 2019,
                  "taxdeliquentyear1": 2013,
                  "assdyear": 2019,
                  "buildingarea": 1547,
                  "sumbuildingsqft": 1547,
                  "sumlivingareasqft": 1843,
                  "sumgrossareasqft": 1647,
                  "sumadjareasqft": 2197,
                  "sumbasementsqft": 972,
                  "sumgaragesqft": 461,
                  "yearbuilt": 1986,
                  "effectiveyearbuilt": 2001,
                  "bedrooms": 3,
                  "totalrooms": 5,
                  "bathtotalcalc": 2.5,
                  "bathfull": 2,
                  "bathsparcialnbr": 0,
                  "bathfixturesnbr": 8,
                  "airconditioningcode": 1,
                  "basementcode": 5,
                  "buildingconditioncode": 6,
                  "constructiontypecode": 6,
                  "exteriorwallscode": 17,
                  "interiorwallscode": 3,
                  "fireplacecode": 1,
                  "floorcovercode": 3,
                  "garage": 3,
                  "heatcode": 4,
                  "heatingfueltypecode": 3,
                  "garageparkingnbr": 2,
                  "drivewaycode": 1,
                  "patiocode": 20,
                  "poolcode": 9,
                  "porchcode": 8,
                  "buildingqualitycode": 7,
                  "roofcovercode": 3,
                  "rooftypecode": 6,
                  "storiesnbrcode": 200,
                  "stylecode": 29,
                  "sumresidentialunits": 1,
                  "sumbuildingsnbr": 0,
                  "ct_key": 8031004003,
                  "_deepnote_index_column": "50%"
                },
                {
                  "rex_property_id": 299988844.5,
                  "random_property_id": 23852366,
                  "zipcode": 80227,
                  "fips": 8035,
                  "situsstdzip5": 80227,
                  "situsstdzip4": 6315,
                  "situslatitude": 39.780566500000006,
                  "situslongitude": -104.836432,
                  "stdlandusecode": 1002,
                  "statelandusecode": 1112,
                  "situscensustract": 14011,
                  "lotsizefrontagefeet": 800,
                  "lotsizedepthfeet": 0,
                  "lotsizeacres": 206,
                  "lotsizesqft": 8973,
                  "mailingstdzip4": 6333,
                  "assdtotalvalue": 37030,
                  "assdlandvalue": 9250,
                  "assdimprovementvalue": 25713,
                  "markettotalvalue": 517070,
                  "marketvalueland": 149100,
                  "marketvalueimprovement": 379403.5,
                  "taxamount": 3442,
                  "taxyear": 2019,
                  "taxdeliquentyear1": 2015,
                  "assdyear": 2019,
                  "buildingarea": 2146,
                  "sumbuildingsqft": 2147,
                  "sumlivingareasqft": 2556,
                  "sumgrossareasqft": 2536,
                  "sumadjareasqft": 3181,
                  "sumbasementsqft": 1304,
                  "sumgaragesqft": 590,
                  "yearbuilt": 2004,
                  "effectiveyearbuilt": 2013,
                  "bedrooms": 4,
                  "totalrooms": 9,
                  "bathtotalcalc": 3,
                  "bathfull": 3,
                  "bathsparcialnbr": 1,
                  "bathfixturesnbr": 11,
                  "airconditioningcode": 2,
                  "basementcode": 7,
                  "buildingconditioncode": 6,
                  "constructiontypecode": 6,
                  "exteriorwallscode": 19,
                  "interiorwallscode": 3,
                  "fireplacecode": 1,
                  "floorcovercode": 15,
                  "garage": 7,
                  "heatcode": 4,
                  "heatingfueltypecode": 3,
                  "garageparkingnbr": 2,
                  "drivewaycode": 1,
                  "patiocode": 20,
                  "poolcode": 9,
                  "porchcode": 8,
                  "buildingqualitycode": 7,
                  "roofcovercode": 3,
                  "rooftypecode": 7,
                  "storiesnbrcode": 200,
                  "stylecode": 35,
                  "sumresidentialunits": 1,
                  "sumbuildingsnbr": 0,
                  "ct_key": 8035014406,
                  "_deepnote_index_column": "75%"
                },
                {
                  "rex_property_id": 375849390,
                  "random_property_id": 164716090,
                  "zipcode": 80643,
                  "fips": 8123,
                  "situsstdzip5": 80643,
                  "situsstdzip4": 9957,
                  "situslatitude": 40.996765,
                  "situslongitude": 0,
                  "stdlandusecode": 1999,
                  "statelandusecode": 9260,
                  "situscensustract": 988700,
                  "lotsizefrontagefeet": 4748040,
                  "lotsizedepthfeet": 77240,
                  "lotsizeacres": 32500000,
                  "lotsizesqft": 572726912,
                  "mailingstdzip4": 9998,
                  "assdtotalvalue": 1014506,
                  "assdlandvalue": 801230,
                  "assdimprovementvalue": 806490,
                  "markettotalvalue": 14188900,
                  "marketvalueland": 8820000,
                  "marketvalueimprovement": 10696900,
                  "taxamount": 99999999,
                  "taxyear": 2020,
                  "taxdeliquentyear1": 2019,
                  "assdyear": 2020,
                  "buildingarea": 58532,
                  "sumbuildingsqft": 58532,
                  "sumlivingareasqft": 33906,
                  "sumgrossareasqft": 151923,
                  "sumadjareasqft": 56745,
                  "sumbasementsqft": 50855,
                  "sumgaragesqft": 10114,
                  "yearbuilt": 2021,
                  "effectiveyearbuilt": 2020,
                  "bedrooms": 35,
                  "totalrooms": 84,
                  "bathtotalcalc": 42,
                  "bathfull": 48,
                  "bathsparcialnbr": 10,
                  "bathfixturesnbr": 742,
                  "airconditioningcode": 13,
                  "basementcode": 9,
                  "buildingconditioncode": 6,
                  "constructiontypecode": 17,
                  "exteriorwallscode": 24,
                  "interiorwallscode": 20,
                  "fireplacecode": 6,
                  "floorcovercode": 15,
                  "garage": 17,
                  "heatcode": 24,
                  "heatingfueltypecode": 9,
                  "garageparkingnbr": 69,
                  "drivewaycode": 1,
                  "patiocode": 20,
                  "poolcode": 9,
                  "porchcode": 8,
                  "buildingqualitycode": 15,
                  "roofcovercode": 19,
                  "rooftypecode": 14,
                  "storiesnbrcode": 900,
                  "stylecode": 41,
                  "sumresidentialunits": 9917,
                  "sumbuildingsnbr": 469,
                  "ct_key": 8123002502,
                  "_deepnote_index_column": "max"
                }
              ],
              "rows_bottom": null
            },
            "text/plain": "       rex_property_id  random_property_id        zipcode           fips  \\\ncount     2.216430e+05        2.216430e+05  221643.000000  221643.000000   \nmean      2.026926e+08        3.464862e+07   80174.250082    8028.864751   \nstd       9.756177e+07        3.775985e+07     149.852652      23.823052   \nmin       6.344024e+07        2.229833e+07   80002.000000    8001.000000   \n25%       9.377647e+07        2.259344e+07   80031.000000    8005.000000   \n50%       2.089774e+08        2.314691e+07   80134.000000    8031.000000   \n75%       2.999888e+08        2.385237e+07   80227.000000    8035.000000   \nmax       3.758494e+08        1.647161e+08   80643.000000    8123.000000   \n\n        situsstdzip5   situsstdzip4  situslatitude  situslongitude  \\\ncount  221643.000000  221331.000000  221643.000000   221643.000000   \nmean    80174.250082    4572.689777      39.703205     -104.947821   \nstd       149.852652    2325.757950       0.215810        0.414905   \nmin     80002.000000      16.000000       0.000000     -105.579031   \n25%     80031.000000    2704.000000      39.607605     -105.045339   \n50%     80134.000000    4154.000000      39.699239     -104.950685   \n75%     80227.000000    6315.000000      39.780567     -104.836432   \nmax     80643.000000    9957.000000      40.996765        0.000000   \n\n       stdlandusecode  statelandusecode  ...      poolcode     porchcode  \\\ncount   221643.000000      44799.000000  ...  11690.000000  95294.000000   \nmean      1002.378424       1134.867564  ...      8.536527      7.123471   \nstd         31.330609        264.677313  ...      0.846045      0.946078   \nmin         10.000000        100.000000  ...      2.000000      4.000000   \n25%       1001.000000       1112.000000  ...      8.000000      6.000000   \n50%       1001.000000       1112.000000  ...      9.000000      8.000000   \n75%       1002.000000       1112.000000  ...      9.000000      8.000000   \nmax       1999.000000       9260.000000  ...      9.000000      8.000000   \n\n       buildingqualitycode  roofcovercode   rooftypecode  storiesnbrcode  \\\ncount        160376.000000  124700.000000  108176.000000   207148.000000   \nmean              6.615747       4.977883       4.099190      157.573329   \nstd               2.048109       4.590837       3.069812       59.460507   \nmin               1.000000       2.000000       1.000000      100.000000   \n25%               5.000000       3.000000       1.000000      100.000000   \n50%               7.000000       3.000000       6.000000      200.000000   \n75%               7.000000       3.000000       7.000000      200.000000   \nmax              15.000000      19.000000      14.000000      900.000000   \n\n           stylecode  sumresidentialunits  sumbuildingsnbr        ct_key  \ncount  130223.000000        221643.000000    221643.000000  2.216400e+05  \nmean       24.456609            15.206630         0.537671  8.028920e+09  \nstd        12.258741           175.590994        12.861028  2.390113e+07  \nmin         1.000000             0.000000         0.000000  8.001008e+09  \n25%        11.000000             0.000000         0.000000  8.005081e+09  \n50%        29.000000             1.000000         0.000000  8.031004e+09  \n75%        35.000000             1.000000         0.000000  8.035014e+09  \nmax        41.000000          9917.000000       469.000000  8.123003e+09  \n\n[8 rows x 65 columns]",
            "text/html": "<div>\n<style scoped>\n    .dataframe tbody tr th:only-of-type {\n        vertical-align: middle;\n    }\n\n    .dataframe tbody tr th {\n        vertical-align: top;\n    }\n\n    .dataframe thead th {\n        text-align: right;\n    }\n</style>\n<table border=\"1\" class=\"dataframe\">\n  <thead>\n    <tr style=\"text-align: right;\">\n      <th></th>\n      <th>rex_property_id</th>\n      <th>random_property_id</th>\n      <th>zipcode</th>\n      <th>fips</th>\n      <th>situsstdzip5</th>\n      <th>situsstdzip4</th>\n      <th>situslatitude</th>\n      <th>situslongitude</th>\n      <th>stdlandusecode</th>\n      <th>statelandusecode</th>\n      <th>...</th>\n      <th>poolcode</th>\n      <th>porchcode</th>\n      <th>buildingqualitycode</th>\n      <th>roofcovercode</th>\n      <th>rooftypecode</th>\n      <th>storiesnbrcode</th>\n      <th>stylecode</th>\n      <th>sumresidentialunits</th>\n      <th>sumbuildingsnbr</th>\n      <th>ct_key</th>\n    </tr>\n  </thead>\n  <tbody>\n    <tr>\n      <th>count</th>\n      <td>2.216430e+05</td>\n      <td>2.216430e+05</td>\n      <td>221643.000000</td>\n      <td>221643.000000</td>\n      <td>221643.000000</td>\n      <td>221331.000000</td>\n      <td>221643.000000</td>\n      <td>221643.000000</td>\n      <td>221643.000000</td>\n      <td>44799.000000</td>\n      <td>...</td>\n      <td>11690.000000</td>\n      <td>95294.000000</td>\n      <td>160376.000000</td>\n      <td>124700.000000</td>\n      <td>108176.000000</td>\n      <td>207148.000000</td>\n      <td>130223.000000</td>\n      <td>221643.000000</td>\n      <td>221643.000000</td>\n      <td>2.216400e+05</td>\n    </tr>\n    <tr>\n      <th>mean</th>\n      <td>2.026926e+08</td>\n      <td>3.464862e+07</td>\n      <td>80174.250082</td>\n      <td>8028.864751</td>\n      <td>80174.250082</td>\n      <td>4572.689777</td>\n      <td>39.703205</td>\n      <td>-104.947821</td>\n      <td>1002.378424</td>\n      <td>1134.867564</td>\n      <td>...</td>\n      <td>8.536527</td>\n      <td>7.123471</td>\n      <td>6.615747</td>\n      <td>4.977883</td>\n      <td>4.099190</td>\n      <td>157.573329</td>\n      <td>24.456609</td>\n      <td>15.206630</td>\n      <td>0.537671</td>\n      <td>8.028920e+09</td>\n    </tr>\n    <tr>\n      <th>std</th>\n      <td>9.756177e+07</td>\n      <td>3.775985e+07</td>\n      <td>149.852652</td>\n      <td>23.823052</td>\n      <td>149.852652</td>\n      <td>2325.757950</td>\n      <td>0.215810</td>\n      <td>0.414905</td>\n      <td>31.330609</td>\n      <td>264.677313</td>\n      <td>...</td>\n      <td>0.846045</td>\n      <td>0.946078</td>\n      <td>2.048109</td>\n      <td>4.590837</td>\n      <td>3.069812</td>\n      <td>59.460507</td>\n      <td>12.258741</td>\n      <td>175.590994</td>\n      <td>12.861028</td>\n      <td>2.390113e+07</td>\n    </tr>\n    <tr>\n      <th>min</th>\n      <td>6.344024e+07</td>\n      <td>2.229833e+07</td>\n      <td>80002.000000</td>\n      <td>8001.000000</td>\n      <td>80002.000000</td>\n      <td>16.000000</td>\n      <td>0.000000</td>\n      <td>-105.579031</td>\n      <td>10.000000</td>\n      <td>100.000000</td>\n      <td>...</td>\n      <td>2.000000</td>\n      <td>4.000000</td>\n      <td>1.000000</td>\n      <td>2.000000</td>\n      <td>1.000000</td>\n      <td>100.000000</td>\n      <td>1.000000</td>\n      <td>0.000000</td>\n      <td>0.000000</td>\n      <td>8.001008e+09</td>\n    </tr>\n    <tr>\n      <th>25%</th>\n      <td>9.377647e+07</td>\n      <td>2.259344e+07</td>\n      <td>80031.000000</td>\n      <td>8005.000000</td>\n      <td>80031.000000</td>\n      <td>2704.000000</td>\n      <td>39.607605</td>\n      <td>-105.045339</td>\n      <td>1001.000000</td>\n      <td>1112.000000</td>\n      <td>...</td>\n      <td>8.000000</td>\n      <td>6.000000</td>\n      <td>5.000000</td>\n      <td>3.000000</td>\n      <td>1.000000</td>\n      <td>100.000000</td>\n      <td>11.000000</td>\n      <td>0.000000</td>\n      <td>0.000000</td>\n      <td>8.005081e+09</td>\n    </tr>\n    <tr>\n      <th>50%</th>\n      <td>2.089774e+08</td>\n      <td>2.314691e+07</td>\n      <td>80134.000000</td>\n      <td>8031.000000</td>\n      <td>80134.000000</td>\n      <td>4154.000000</td>\n      <td>39.699239</td>\n      <td>-104.950685</td>\n      <td>1001.000000</td>\n      <td>1112.000000</td>\n      <td>...</td>\n      <td>9.000000</td>\n      <td>8.000000</td>\n      <td>7.000000</td>\n      <td>3.000000</td>\n      <td>6.000000</td>\n      <td>200.000000</td>\n      <td>29.000000</td>\n      <td>1.000000</td>\n      <td>0.000000</td>\n      <td>8.031004e+09</td>\n    </tr>\n    <tr>\n      <th>75%</th>\n      <td>2.999888e+08</td>\n      <td>2.385237e+07</td>\n      <td>80227.000000</td>\n      <td>8035.000000</td>\n      <td>80227.000000</td>\n      <td>6315.000000</td>\n      <td>39.780567</td>\n      <td>-104.836432</td>\n      <td>1002.000000</td>\n      <td>1112.000000</td>\n      <td>...</td>\n      <td>9.000000</td>\n      <td>8.000000</td>\n      <td>7.000000</td>\n      <td>3.000000</td>\n      <td>7.000000</td>\n      <td>200.000000</td>\n      <td>35.000000</td>\n      <td>1.000000</td>\n      <td>0.000000</td>\n      <td>8.035014e+09</td>\n    </tr>\n    <tr>\n      <th>max</th>\n      <td>3.758494e+08</td>\n      <td>1.647161e+08</td>\n      <td>80643.000000</td>\n      <td>8123.000000</td>\n      <td>80643.000000</td>\n      <td>9957.000000</td>\n      <td>40.996765</td>\n      <td>0.000000</td>\n      <td>1999.000000</td>\n      <td>9260.000000</td>\n      <td>...</td>\n      <td>9.000000</td>\n      <td>8.000000</td>\n      <td>15.000000</td>\n      <td>19.000000</td>\n      <td>14.000000</td>\n      <td>900.000000</td>\n      <td>41.000000</td>\n      <td>9917.000000</td>\n      <td>469.000000</td>\n      <td>8.123003e+09</td>\n    </tr>\n  </tbody>\n</table>\n<p>8 rows × 65 columns</p>\n</div>"
          },
          "metadata": {}
        }
      ]
    },
    {
      "cell_type": "code",
      "metadata": {
        "tags": [],
        "cell_id": "00004-d162f4b0-f2f8-4b27-9913-02865bfc0533",
        "deepnote_to_be_reexecuted": true,
        "source_hash": "7a53b341",
        "execution_millis": 55,
        "execution_start": 1615648708032,
        "deepnote_cell_type": "code"
      },
      "source": "#inspect the columns of wider data set\nfor i in range(13):\n    print(df.columns[i*10:(i*10)+10])",
      "execution_count": null,
      "outputs": []
    },
    {
      "cell_type": "code",
      "metadata": {
        "tags": [],
        "cell_id": "00006-87817e6b-2b27-4629-8e0a-2a7cddf456ce",
        "deepnote_to_be_reexecuted": true,
        "source_hash": "952aeb9d",
        "execution_millis": 234,
        "execution_start": 1615648708038,
        "deepnote_cell_type": "code"
      },
      "source": "#inspect the columns of the listings dataset\ndf_listings.info()",
      "execution_count": null,
      "outputs": [
        {
          "name": "stdout",
          "text": "Index(['rex_property_id', 'rex_property_guid', 'data_source',\n       'match_full_street_address', 'address_1_pos', 'address_2_pos',\n       'address_3_pos', 'random_property_id', 'zipcode', 'property_type'],\n      dtype='object')\nIndex(['fips', 'formattedapn', 'taxaccountnumber', 'situsstdfullstreetaddress',\n       'situsstdhousenbr', 'situsstddirectionleft', 'situsstdstreet',\n       'situsstdmode', 'situsstdunittype', 'situsstdunitnbr'],\n      dtype='object')\nIndex(['situsstdcity', 'situsstdstate', 'situsstdzip5', 'situsstdzip4',\n       'situsstdcarriercode', 'situslatitude', 'situslongitude',\n       'situsgeostatuscode', 'propertyclassid', 'stdlandusecode'],\n      dtype='object')\nIndex(['statelandusecode', 'countylandusecode', 'zoning', 'situscensustract',\n       'schooldistrictname', 'lotsizefrontagefeet', 'lotsizedepthfeet',\n       'lotsizeacres', 'lotsizesqft', 'ownerstd1corpind'],\n      dtype='object')\nIndex(['ownerstd1lastname', 'ownerstd1firstname', 'ownerstd1middlename',\n       'ownerstd2lastname', 'ownerstd2firstname', 'ownerstd2middlename',\n       'ownerstdname1full', 'ownerstdname2full', 'owneroccupied',\n       'ownerstd1ownershiprights'],\n      dtype='object')\nIndex(['mailingstdfullstreetaddress', 'mailingstdhousenbr',\n       'mailingstddirectionleft', 'mailingstdstreet', 'mailingstdmode',\n       'mailingstdunittype', 'mailingstdunitnbr', 'mailingstdcity',\n       'mailingstdstate', 'mailingstdzip5'],\n      dtype='object')\nIndex(['mailingstdzip4', 'mailingstdcarriercode', 'mailingoptout',\n       'assdtotalvalue', 'assdlandvalue', 'assdimprovementvalue',\n       'markettotalvalue', 'marketvalueland', 'marketvalueimprovement',\n       'taxamount'],\n      dtype='object')\nIndex(['taxyear', 'taxdeliquentyear1', 'assdyear', 'taxratecodearea',\n       'schooltaxdistrict1code', 'schooltaxdistrict2code',\n       'schooltaxdistrict3code', 'buildingarea', 'buildingareaind',\n       'sumbuildingsqft'],\n      dtype='object')\nIndex(['sumlivingareasqft', 'sumgrossareasqft', 'sumadjareasqft',\n       'sumbasementsqft', 'sumgaragesqft', 'yearbuilt', 'effectiveyearbuilt',\n       'bedrooms', 'totalrooms', 'bathtotalcalc'],\n      dtype='object')\nIndex(['bathfull', 'bathsparcialnbr', 'bathfixturesnbr', 'airconditioningcode',\n       'basementcode', 'buildingconditioncode', 'constructiontypecode',\n       'exteriorwallscode', 'interiorwallscode', 'fireplacecode'],\n      dtype='object')\nIndex(['floorcovercode', 'garage', 'heatcode', 'heatingfueltypecode',\n       'siteinfluencecode', 'garageparkingnbr', 'drivewaycode', 'patiocode',\n       'poolcode', 'porchcode'],\n      dtype='object')\nIndex(['buildingqualitycode', 'roofcovercode', 'rooftypecode',\n       'storiesnbrcode', 'stylecode', 'sumresidentialunits', 'sumbuildingsnbr',\n       'lotnumber', 'block', 'municipality'],\n      dtype='object')\nIndex(['subdivisionname', 'meridian', 'legaldescription', 'fatimestamp',\n       'faucidflag', 'county', 'house_market_exists', 'datatree_exists',\n       'property_internal_exists', 'ct_key'],\n      dtype='object')\n<class 'pandas.core.frame.DataFrame'>\nRangeIndex: 308698 entries, 0 to 308697\nData columns (total 24 columns):\n #   Column                           Non-Null Count   Dtype  \n---  ------                           --------------   -----  \n 0   property_id                      308698 non-null  int64  \n 1   zipcode                          308698 non-null  int64  \n 2   fips                             308698 non-null  float64\n 3   sqft                             308698 non-null  float64\n 4   property_type                    308698 non-null  object \n 5   has_central_air                  308698 non-null  bool   \n 6   has_jacuzzi                      308698 non-null  bool   \n 7   has_pool                         308698 non-null  bool   \n 8   has_solar                        308698 non-null  bool   \n 9   has_garage                       308698 non-null  bool   \n 10  list_date                        308698 non-null  object \n 11  sale_date                        308698 non-null  object \n 12  sale_price_per_sqft              308698 non-null  float64\n 13  farm_score                       308698 non-null  float64\n 14  median_rental_price              308698 non-null  float64\n 15  pop_density                      308698 non-null  float64\n 16  first_time_homebuyer_score       308698 non-null  float64\n 17  retirement_friendly_score        308698 non-null  float64\n 18  young_single_professional_score  308698 non-null  float64\n 19  college_student_friendly_score   308698 non-null  float64\n 20  violent_crime_rate               308698 non-null  float64\n 21  walk                             308698 non-null  float64\n 22  public_transportation            308698 non-null  float64\n 23  carpool                          308698 non-null  float64\ndtypes: bool(5), float64(14), int64(2), object(3)\nmemory usage: 46.2+ MB\n",
          "output_type": "stream"
        }
      ]
    },
    {
      "cell_type": "code",
      "metadata": {
        "tags": [],
        "cell_id": "00007-53d787b5-1407-40c8-8423-125441961ad6",
        "deepnote_to_be_reexecuted": true,
        "source_hash": "e94be690",
        "execution_millis": 82,
        "execution_start": 1615648708276,
        "deepnote_cell_type": "code"
      },
      "source": "#inspect the columns of the key dataset\ndf_key.info()",
      "execution_count": null,
      "outputs": [
        {
          "name": "stdout",
          "text": "<class 'pandas.core.frame.DataFrame'>\nRangeIndex: 261059 entries, 0 to 261058\nData columns (total 2 columns):\n #   Column           Non-Null Count   Dtype  \n---  ------           --------------   -----  \n 0   cc_property_id   261059 non-null  int64  \n 1   rex_property_id  261043 non-null  float64\ndtypes: float64(1), int64(1)\nmemory usage: 4.0 MB\n",
          "output_type": "stream"
        }
      ]
    },
    {
      "cell_type": "code",
      "metadata": {
        "tags": [],
        "cell_id": "00007-2da3eb2a-720d-4b49-b402-169aef3200a7",
        "deepnote_to_be_reexecuted": true,
        "source_hash": "5c070a00",
        "execution_millis": 94,
        "execution_start": 1615648708354,
        "deepnote_cell_type": "code"
      },
      "source": "print('The number of houses in the expanded property info dataset:\\\n','{:,}'.format(df['rex_property_id'].nunique()))\n\nprint('The number of houses in the listings dataset:\\\n', '{:,}'.format(df_listings['property_id'].nunique()))\n\n#assume no duplicates in the key dataframe (or it would be a pretty bad key)\nprint('The number of houses in the key dataset:','{:,}'.format(len(df_key)))",
      "execution_count": null,
      "outputs": [
        {
          "name": "stdout",
          "text": "The number of houses in the expanded property info dataset: 221,643\nThe number of houses in the listings dataset: 281,565\nThe number of houses in the key dataset: 261,059\n",
          "output_type": "stream"
        }
      ]
    },
    {
      "cell_type": "code",
      "metadata": {
        "tags": [],
        "cell_id": "00008-7befdcc8-7cee-4509-a0ea-f0f9ca2a3689",
        "deepnote_to_be_reexecuted": true,
        "source_hash": "b22c2d8c",
        "execution_millis": 143,
        "execution_start": 1615648708446,
        "deepnote_cell_type": "code"
      },
      "source": "#now to find the number from the expanded dataset that is also in the key\n#Whether each element in the key DataFrame is contained in expanded property info df.\nprint('The number of houses found in both the key and expanded df:\\\n','{:,}'.format(len(df_key.loc[df_key[\"rex_property_id\"].isin(df[\"rex_property_id\"].unique())])))\n\n#now to find the number from the listings dataset that is also in the key\n#Whether each element in the key DataFrame is contained in listings df.\nprint('The number of houses found in both the key and listings df:\\\n','{:,}'.format(len(df_key.loc[df_key[\"cc_property_id\"].isin(df_listings[\"property_id\"].unique())])))\n\n",
      "execution_count": null,
      "outputs": [
        {
          "name": "stdout",
          "text": "The number of houses found in both the key and expanded df: 217,208\nThe number of houses found in both the key and listings df: 213,509\n",
          "output_type": "stream"
        }
      ]
    },
    {
      "cell_type": "code",
      "metadata": {
        "tags": [],
        "cell_id": "00010-3f1a5d38-a7ac-4092-bb6e-888f32acf55c",
        "deepnote_to_be_reexecuted": true,
        "source_hash": "77346a78",
        "execution_millis": 1558564,
        "execution_start": 1615646474918,
        "deepnote_cell_type": "code"
      },
      "source": "'''\n#now to join the two df using the property key\n\n#step1 add the corresponding rex_id to to the listing dataframe\ndf_listings['rex_property_id'] = 'blah' #add a column fillled with blah which will be replaced in for loop below\n\nfor i in df_listings.property_id:\n    df_listings.loc[df_listings['property_id']==i,['rex_property_id']] \\\n    = df_key['rex_property_id'].loc[df_key['cc_property_id']==i]\n\n#step 2 add the expanded property info to this listing dataframe using the newly \n#added key\n'''",
      "execution_count": null,
      "outputs": [
        {
          "output_type": "error",
          "ename": "KeyboardInterrupt",
          "evalue": "",
          "traceback": [
            "\u001b[0;31m---------------------------------------------------------------------------\u001b[0m",
            "\u001b[0;31mKeyboardInterrupt\u001b[0m                         Traceback (most recent call last)",
            "\u001b[0;32m<ipython-input-12-42abdc957d5c>\u001b[0m in \u001b[0;36m<module>\u001b[0;34m\u001b[0m\n\u001b[1;32m      6\u001b[0m \u001b[0;32mfor\u001b[0m \u001b[0mi\u001b[0m \u001b[0;32min\u001b[0m \u001b[0mdf_listings\u001b[0m\u001b[0;34m.\u001b[0m\u001b[0mproperty_id\u001b[0m\u001b[0;34m:\u001b[0m\u001b[0;34m\u001b[0m\u001b[0;34m\u001b[0m\u001b[0m\n\u001b[1;32m      7\u001b[0m     \u001b[0mdf_listings\u001b[0m\u001b[0;34m.\u001b[0m\u001b[0mloc\u001b[0m\u001b[0;34m[\u001b[0m\u001b[0mdf_listings\u001b[0m\u001b[0;34m[\u001b[0m\u001b[0;34m'property_id'\u001b[0m\u001b[0;34m]\u001b[0m\u001b[0;34m==\u001b[0m\u001b[0mi\u001b[0m\u001b[0;34m,\u001b[0m\u001b[0;34m[\u001b[0m\u001b[0;34m'rex_property_id'\u001b[0m\u001b[0;34m]\u001b[0m\u001b[0;34m]\u001b[0m\u001b[0;31m \u001b[0m\u001b[0;31m\\\u001b[0m\u001b[0;34m\u001b[0m\u001b[0;34m\u001b[0m\u001b[0m\n\u001b[0;32m----> 8\u001b[0;31m     \u001b[0;34m=\u001b[0m \u001b[0mdf_key\u001b[0m\u001b[0;34m[\u001b[0m\u001b[0;34m'rex_property_id'\u001b[0m\u001b[0;34m]\u001b[0m\u001b[0;34m.\u001b[0m\u001b[0mloc\u001b[0m\u001b[0;34m[\u001b[0m\u001b[0mdf_key\u001b[0m\u001b[0;34m[\u001b[0m\u001b[0;34m'cc_property_id'\u001b[0m\u001b[0;34m]\u001b[0m\u001b[0;34m==\u001b[0m\u001b[0mi\u001b[0m\u001b[0;34m]\u001b[0m\u001b[0;34m\u001b[0m\u001b[0;34m\u001b[0m\u001b[0m\n\u001b[0m\u001b[1;32m      9\u001b[0m \u001b[0;34m\u001b[0m\u001b[0m\n\u001b[1;32m     10\u001b[0m \u001b[0;31m#step 2 add the expanded property info to this listing dataframe using the newly\u001b[0m\u001b[0;34m\u001b[0m\u001b[0;34m\u001b[0m\u001b[0;34m\u001b[0m\u001b[0m\n",
            "\u001b[0;32m/shared-libs/python3.7/py/lib/python3.7/site-packages/pandas/core/indexing.py\u001b[0m in \u001b[0;36m__setitem__\u001b[0;34m(self, key, value)\u001b[0m\n\u001b[1;32m    690\u001b[0m \u001b[0;34m\u001b[0m\u001b[0m\n\u001b[1;32m    691\u001b[0m         \u001b[0miloc\u001b[0m \u001b[0;34m=\u001b[0m \u001b[0mself\u001b[0m \u001b[0;32mif\u001b[0m \u001b[0mself\u001b[0m\u001b[0;34m.\u001b[0m\u001b[0mname\u001b[0m \u001b[0;34m==\u001b[0m \u001b[0;34m\"iloc\"\u001b[0m \u001b[0;32melse\u001b[0m \u001b[0mself\u001b[0m\u001b[0;34m.\u001b[0m\u001b[0mobj\u001b[0m\u001b[0;34m.\u001b[0m\u001b[0miloc\u001b[0m\u001b[0;34m\u001b[0m\u001b[0;34m\u001b[0m\u001b[0m\n\u001b[0;32m--> 692\u001b[0;31m         \u001b[0miloc\u001b[0m\u001b[0;34m.\u001b[0m\u001b[0m_setitem_with_indexer\u001b[0m\u001b[0;34m(\u001b[0m\u001b[0mindexer\u001b[0m\u001b[0;34m,\u001b[0m \u001b[0mvalue\u001b[0m\u001b[0;34m,\u001b[0m \u001b[0mself\u001b[0m\u001b[0;34m.\u001b[0m\u001b[0mname\u001b[0m\u001b[0;34m)\u001b[0m\u001b[0;34m\u001b[0m\u001b[0;34m\u001b[0m\u001b[0m\n\u001b[0m\u001b[1;32m    693\u001b[0m \u001b[0;34m\u001b[0m\u001b[0m\n\u001b[1;32m    694\u001b[0m     \u001b[0;32mdef\u001b[0m \u001b[0m_validate_key\u001b[0m\u001b[0;34m(\u001b[0m\u001b[0mself\u001b[0m\u001b[0;34m,\u001b[0m \u001b[0mkey\u001b[0m\u001b[0;34m,\u001b[0m \u001b[0maxis\u001b[0m\u001b[0;34m:\u001b[0m \u001b[0mint\u001b[0m\u001b[0;34m)\u001b[0m\u001b[0;34m:\u001b[0m\u001b[0;34m\u001b[0m\u001b[0;34m\u001b[0m\u001b[0m\n",
            "\u001b[0;32m/shared-libs/python3.7/py/lib/python3.7/site-packages/pandas/core/indexing.py\u001b[0m in \u001b[0;36m_setitem_with_indexer\u001b[0;34m(self, indexer, value, name)\u001b[0m\n\u001b[1;32m   1633\u001b[0m         \u001b[0;32mif\u001b[0m \u001b[0mtake_split_path\u001b[0m\u001b[0;34m:\u001b[0m\u001b[0;34m\u001b[0m\u001b[0;34m\u001b[0m\u001b[0m\n\u001b[1;32m   1634\u001b[0m             \u001b[0;31m# We have to operate column-wise\u001b[0m\u001b[0;34m\u001b[0m\u001b[0;34m\u001b[0m\u001b[0;34m\u001b[0m\u001b[0m\n\u001b[0;32m-> 1635\u001b[0;31m             \u001b[0mself\u001b[0m\u001b[0;34m.\u001b[0m\u001b[0m_setitem_with_indexer_split_path\u001b[0m\u001b[0;34m(\u001b[0m\u001b[0mindexer\u001b[0m\u001b[0;34m,\u001b[0m \u001b[0mvalue\u001b[0m\u001b[0;34m,\u001b[0m \u001b[0mname\u001b[0m\u001b[0;34m)\u001b[0m\u001b[0;34m\u001b[0m\u001b[0;34m\u001b[0m\u001b[0m\n\u001b[0m\u001b[1;32m   1636\u001b[0m         \u001b[0;32melse\u001b[0m\u001b[0;34m:\u001b[0m\u001b[0;34m\u001b[0m\u001b[0;34m\u001b[0m\u001b[0m\n\u001b[1;32m   1637\u001b[0m             \u001b[0mself\u001b[0m\u001b[0;34m.\u001b[0m\u001b[0m_setitem_single_block\u001b[0m\u001b[0;34m(\u001b[0m\u001b[0mindexer\u001b[0m\u001b[0;34m,\u001b[0m \u001b[0mvalue\u001b[0m\u001b[0;34m,\u001b[0m \u001b[0mname\u001b[0m\u001b[0;34m)\u001b[0m\u001b[0;34m\u001b[0m\u001b[0;34m\u001b[0m\u001b[0m\n",
            "\u001b[0;32m/shared-libs/python3.7/py/lib/python3.7/site-packages/pandas/core/indexing.py\u001b[0m in \u001b[0;36m_setitem_with_indexer_split_path\u001b[0;34m(self, indexer, value, name)\u001b[0m\n\u001b[1;32m   1670\u001b[0m \u001b[0;34m\u001b[0m\u001b[0m\n\u001b[1;32m   1671\u001b[0m             \u001b[0;32melif\u001b[0m \u001b[0mnp\u001b[0m\u001b[0;34m.\u001b[0m\u001b[0mndim\u001b[0m\u001b[0;34m(\u001b[0m\u001b[0mvalue\u001b[0m\u001b[0;34m)\u001b[0m \u001b[0;34m==\u001b[0m \u001b[0;36m2\u001b[0m\u001b[0;34m:\u001b[0m\u001b[0;34m\u001b[0m\u001b[0;34m\u001b[0m\u001b[0m\n\u001b[0;32m-> 1672\u001b[0;31m                 \u001b[0mself\u001b[0m\u001b[0;34m.\u001b[0m\u001b[0m_setitem_with_indexer_2d_value\u001b[0m\u001b[0;34m(\u001b[0m\u001b[0mindexer\u001b[0m\u001b[0;34m,\u001b[0m \u001b[0mvalue\u001b[0m\u001b[0;34m)\u001b[0m\u001b[0;34m\u001b[0m\u001b[0;34m\u001b[0m\u001b[0m\n\u001b[0m\u001b[1;32m   1673\u001b[0m \u001b[0;34m\u001b[0m\u001b[0m\n\u001b[1;32m   1674\u001b[0m             \u001b[0;32melif\u001b[0m \u001b[0mlen\u001b[0m\u001b[0;34m(\u001b[0m\u001b[0milocs\u001b[0m\u001b[0;34m)\u001b[0m \u001b[0;34m==\u001b[0m \u001b[0;36m1\u001b[0m \u001b[0;32mand\u001b[0m \u001b[0mlplane_indexer\u001b[0m \u001b[0;34m==\u001b[0m \u001b[0mlen\u001b[0m\u001b[0;34m(\u001b[0m\u001b[0mvalue\u001b[0m\u001b[0;34m)\u001b[0m \u001b[0;32mand\u001b[0m \u001b[0;32mnot\u001b[0m \u001b[0mis_scalar\u001b[0m\u001b[0;34m(\u001b[0m\u001b[0mpi\u001b[0m\u001b[0;34m)\u001b[0m\u001b[0;34m:\u001b[0m\u001b[0;34m\u001b[0m\u001b[0;34m\u001b[0m\u001b[0m\n",
            "\u001b[0;32m/shared-libs/python3.7/py/lib/python3.7/site-packages/pandas/core/indexing.py\u001b[0m in \u001b[0;36m_setitem_with_indexer_2d_value\u001b[0;34m(self, indexer, value)\u001b[0m\n\u001b[1;32m   1736\u001b[0m         \u001b[0;32mfor\u001b[0m \u001b[0mi\u001b[0m\u001b[0;34m,\u001b[0m \u001b[0mloc\u001b[0m \u001b[0;32min\u001b[0m \u001b[0menumerate\u001b[0m\u001b[0;34m(\u001b[0m\u001b[0milocs\u001b[0m\u001b[0;34m)\u001b[0m\u001b[0;34m:\u001b[0m\u001b[0;34m\u001b[0m\u001b[0;34m\u001b[0m\u001b[0m\n\u001b[1;32m   1737\u001b[0m             \u001b[0;31m# setting with a list, re-coerces\u001b[0m\u001b[0;34m\u001b[0m\u001b[0;34m\u001b[0m\u001b[0;34m\u001b[0m\u001b[0m\n\u001b[0;32m-> 1738\u001b[0;31m             \u001b[0mself\u001b[0m\u001b[0;34m.\u001b[0m\u001b[0m_setitem_single_column\u001b[0m\u001b[0;34m(\u001b[0m\u001b[0mloc\u001b[0m\u001b[0;34m,\u001b[0m \u001b[0mvalue\u001b[0m\u001b[0;34m[\u001b[0m\u001b[0;34m:\u001b[0m\u001b[0;34m,\u001b[0m \u001b[0mi\u001b[0m\u001b[0;34m]\u001b[0m\u001b[0;34m.\u001b[0m\u001b[0mtolist\u001b[0m\u001b[0;34m(\u001b[0m\u001b[0;34m)\u001b[0m\u001b[0;34m,\u001b[0m \u001b[0mpi\u001b[0m\u001b[0;34m)\u001b[0m\u001b[0;34m\u001b[0m\u001b[0;34m\u001b[0m\u001b[0m\n\u001b[0m\u001b[1;32m   1739\u001b[0m \u001b[0;34m\u001b[0m\u001b[0m\n\u001b[1;32m   1740\u001b[0m     \u001b[0;32mdef\u001b[0m \u001b[0m_setitem_with_indexer_frame_value\u001b[0m\u001b[0;34m(\u001b[0m\u001b[0mself\u001b[0m\u001b[0;34m,\u001b[0m \u001b[0mindexer\u001b[0m\u001b[0;34m,\u001b[0m \u001b[0mvalue\u001b[0m\u001b[0;34m:\u001b[0m \u001b[0;34m\"DataFrame\"\u001b[0m\u001b[0;34m,\u001b[0m \u001b[0mname\u001b[0m\u001b[0;34m:\u001b[0m \u001b[0mstr\u001b[0m\u001b[0;34m)\u001b[0m\u001b[0;34m:\u001b[0m\u001b[0;34m\u001b[0m\u001b[0;34m\u001b[0m\u001b[0m\n",
            "\u001b[0;32m/shared-libs/python3.7/py/lib/python3.7/site-packages/pandas/core/indexing.py\u001b[0m in \u001b[0;36m_setitem_single_column\u001b[0;34m(self, loc, value, plane_indexer)\u001b[0m\n\u001b[1;32m   1815\u001b[0m \u001b[0;34m\u001b[0m\u001b[0m\n\u001b[1;32m   1816\u001b[0m         \u001b[0;31m# reset the sliced object if unique\u001b[0m\u001b[0;34m\u001b[0m\u001b[0;34m\u001b[0m\u001b[0;34m\u001b[0m\u001b[0m\n\u001b[0;32m-> 1817\u001b[0;31m         \u001b[0mself\u001b[0m\u001b[0;34m.\u001b[0m\u001b[0mobj\u001b[0m\u001b[0;34m.\u001b[0m\u001b[0m_iset_item\u001b[0m\u001b[0;34m(\u001b[0m\u001b[0mloc\u001b[0m\u001b[0;34m,\u001b[0m \u001b[0mser\u001b[0m\u001b[0;34m)\u001b[0m\u001b[0;34m\u001b[0m\u001b[0;34m\u001b[0m\u001b[0m\n\u001b[0m\u001b[1;32m   1818\u001b[0m \u001b[0;34m\u001b[0m\u001b[0m\n\u001b[1;32m   1819\u001b[0m     \u001b[0;32mdef\u001b[0m \u001b[0m_setitem_single_block\u001b[0m\u001b[0;34m(\u001b[0m\u001b[0mself\u001b[0m\u001b[0;34m,\u001b[0m \u001b[0mindexer\u001b[0m\u001b[0;34m,\u001b[0m \u001b[0mvalue\u001b[0m\u001b[0;34m,\u001b[0m \u001b[0mname\u001b[0m\u001b[0;34m:\u001b[0m \u001b[0mstr\u001b[0m\u001b[0;34m)\u001b[0m\u001b[0;34m:\u001b[0m\u001b[0;34m\u001b[0m\u001b[0;34m\u001b[0m\u001b[0m\n",
            "\u001b[0;32m/shared-libs/python3.7/py/lib/python3.7/site-packages/pandas/core/frame.py\u001b[0m in \u001b[0;36m_iset_item\u001b[0;34m(self, loc, value)\u001b[0m\n\u001b[1;32m   3220\u001b[0m         \u001b[0;31m# technically _sanitize_column expects a label, not a position,\u001b[0m\u001b[0;34m\u001b[0m\u001b[0;34m\u001b[0m\u001b[0;34m\u001b[0m\u001b[0m\n\u001b[1;32m   3221\u001b[0m         \u001b[0;31m#  but the behavior is the same as long as we pass broadcast=False\u001b[0m\u001b[0;34m\u001b[0m\u001b[0;34m\u001b[0m\u001b[0;34m\u001b[0m\u001b[0m\n\u001b[0;32m-> 3222\u001b[0;31m         \u001b[0mvalue\u001b[0m \u001b[0;34m=\u001b[0m \u001b[0mself\u001b[0m\u001b[0;34m.\u001b[0m\u001b[0m_sanitize_column\u001b[0m\u001b[0;34m(\u001b[0m\u001b[0mloc\u001b[0m\u001b[0;34m,\u001b[0m \u001b[0mvalue\u001b[0m\u001b[0;34m,\u001b[0m \u001b[0mbroadcast\u001b[0m\u001b[0;34m=\u001b[0m\u001b[0;32mFalse\u001b[0m\u001b[0;34m)\u001b[0m\u001b[0;34m\u001b[0m\u001b[0;34m\u001b[0m\u001b[0m\n\u001b[0m\u001b[1;32m   3223\u001b[0m         \u001b[0mNDFrame\u001b[0m\u001b[0;34m.\u001b[0m\u001b[0m_iset_item\u001b[0m\u001b[0;34m(\u001b[0m\u001b[0mself\u001b[0m\u001b[0;34m,\u001b[0m \u001b[0mloc\u001b[0m\u001b[0;34m,\u001b[0m \u001b[0mvalue\u001b[0m\u001b[0;34m)\u001b[0m\u001b[0;34m\u001b[0m\u001b[0;34m\u001b[0m\u001b[0m\n\u001b[1;32m   3224\u001b[0m \u001b[0;34m\u001b[0m\u001b[0m\n",
            "\u001b[0;32m/shared-libs/python3.7/py/lib/python3.7/site-packages/pandas/core/frame.py\u001b[0m in \u001b[0;36m_sanitize_column\u001b[0;34m(self, key, value, broadcast)\u001b[0m\n\u001b[1;32m   3874\u001b[0m \u001b[0;34m\u001b[0m\u001b[0m\n\u001b[1;32m   3875\u001b[0m         \u001b[0;32mif\u001b[0m \u001b[0misinstance\u001b[0m\u001b[0;34m(\u001b[0m\u001b[0mvalue\u001b[0m\u001b[0;34m,\u001b[0m \u001b[0mSeries\u001b[0m\u001b[0;34m)\u001b[0m\u001b[0;34m:\u001b[0m\u001b[0;34m\u001b[0m\u001b[0;34m\u001b[0m\u001b[0m\n\u001b[0;32m-> 3876\u001b[0;31m             \u001b[0mvalue\u001b[0m \u001b[0;34m=\u001b[0m \u001b[0mreindexer\u001b[0m\u001b[0;34m(\u001b[0m\u001b[0mvalue\u001b[0m\u001b[0;34m)\u001b[0m\u001b[0;34m\u001b[0m\u001b[0;34m\u001b[0m\u001b[0m\n\u001b[0m\u001b[1;32m   3877\u001b[0m \u001b[0;34m\u001b[0m\u001b[0m\n\u001b[1;32m   3878\u001b[0m         \u001b[0;32melif\u001b[0m \u001b[0misinstance\u001b[0m\u001b[0;34m(\u001b[0m\u001b[0mvalue\u001b[0m\u001b[0;34m,\u001b[0m \u001b[0mDataFrame\u001b[0m\u001b[0;34m)\u001b[0m\u001b[0;34m:\u001b[0m\u001b[0;34m\u001b[0m\u001b[0;34m\u001b[0m\u001b[0m\n",
            "\u001b[0;32m/shared-libs/python3.7/py/lib/python3.7/site-packages/pandas/core/frame.py\u001b[0m in \u001b[0;36mreindexer\u001b[0;34m(value)\u001b[0m\n\u001b[1;32m   3855\u001b[0m \u001b[0;34m\u001b[0m\u001b[0m\n\u001b[1;32m   3856\u001b[0m             \u001b[0;32mif\u001b[0m \u001b[0mvalue\u001b[0m\u001b[0;34m.\u001b[0m\u001b[0mindex\u001b[0m\u001b[0;34m.\u001b[0m\u001b[0mequals\u001b[0m\u001b[0;34m(\u001b[0m\u001b[0mself\u001b[0m\u001b[0;34m.\u001b[0m\u001b[0mindex\u001b[0m\u001b[0;34m)\u001b[0m \u001b[0;32mor\u001b[0m \u001b[0;32mnot\u001b[0m \u001b[0mlen\u001b[0m\u001b[0;34m(\u001b[0m\u001b[0mself\u001b[0m\u001b[0;34m.\u001b[0m\u001b[0mindex\u001b[0m\u001b[0;34m)\u001b[0m\u001b[0;34m:\u001b[0m\u001b[0;34m\u001b[0m\u001b[0;34m\u001b[0m\u001b[0m\n\u001b[0;32m-> 3857\u001b[0;31m                 \u001b[0mvalue\u001b[0m \u001b[0;34m=\u001b[0m \u001b[0mvalue\u001b[0m\u001b[0;34m.\u001b[0m\u001b[0m_values\u001b[0m\u001b[0;34m.\u001b[0m\u001b[0mcopy\u001b[0m\u001b[0;34m(\u001b[0m\u001b[0;34m)\u001b[0m\u001b[0;34m\u001b[0m\u001b[0;34m\u001b[0m\u001b[0m\n\u001b[0m\u001b[1;32m   3858\u001b[0m             \u001b[0;32melse\u001b[0m\u001b[0;34m:\u001b[0m\u001b[0;34m\u001b[0m\u001b[0;34m\u001b[0m\u001b[0m\n\u001b[1;32m   3859\u001b[0m \u001b[0;34m\u001b[0m\u001b[0m\n",
            "\u001b[0;31mKeyboardInterrupt\u001b[0m: "
          ]
        }
      ]
    },
    {
      "cell_type": "code",
      "metadata": {
        "tags": [],
        "cell_id": "00015-6311abb3-6858-4775-a313-df5a346b7911",
        "deepnote_to_be_reexecuted": true,
        "source_hash": "8e513ded",
        "execution_millis": 4969,
        "execution_start": 1615648711332,
        "deepnote_cell_type": "code"
      },
      "source": "df_joined_with_key = df.merge(df_key, on='rex_property_id')",
      "execution_count": null,
      "outputs": []
    },
    {
      "cell_type": "code",
      "metadata": {
        "tags": [],
        "cell_id": "00014-3f71d2b5-48d9-49f9-a854-2a9045b451ff",
        "deepnote_to_be_reexecuted": true,
        "source_hash": "34cf738d",
        "execution_millis": 1843,
        "execution_start": 1615648716306,
        "deepnote_cell_type": "code"
      },
      "source": "df_joined_with_key.describe()",
      "execution_count": null,
      "outputs": [
        {
          "output_type": "execute_result",
          "execution_count": 12,
          "data": {
            "application/vnd.deepnote.dataframe.v2+json": {
              "row_count": 8,
              "column_count": 66,
              "columns": [
                {
                  "name": "rex_property_id",
                  "dtype": "float64",
                  "stats": {
                    "unique_count": 8,
                    "nan_count": 0,
                    "min": 217208,
                    "max": 375849390,
                    "histogram": [
                      {
                        "bin_start": 217208,
                        "bin_end": 37780426.2,
                        "count": 1
                      },
                      {
                        "bin_start": 37780426.2,
                        "bin_end": 75343644.4,
                        "count": 1
                      },
                      {
                        "bin_start": 75343644.4,
                        "bin_end": 112906862.60000001,
                        "count": 2
                      },
                      {
                        "bin_start": 112906862.60000001,
                        "bin_end": 150470080.8,
                        "count": 0
                      },
                      {
                        "bin_start": 150470080.8,
                        "bin_end": 188033299,
                        "count": 0
                      },
                      {
                        "bin_start": 188033299,
                        "bin_end": 225596517.20000002,
                        "count": 2
                      },
                      {
                        "bin_start": 225596517.20000002,
                        "bin_end": 263159735.40000004,
                        "count": 0
                      },
                      {
                        "bin_start": 263159735.40000004,
                        "bin_end": 300722953.6,
                        "count": 1
                      },
                      {
                        "bin_start": 300722953.6,
                        "bin_end": 338286171.8,
                        "count": 0
                      },
                      {
                        "bin_start": 338286171.8,
                        "bin_end": 375849390,
                        "count": 1
                      }
                    ]
                  }
                },
                {
                  "name": "random_property_id",
                  "dtype": "float64",
                  "stats": {
                    "unique_count": 8,
                    "nan_count": 0,
                    "min": 217208,
                    "max": 164716090,
                    "histogram": [
                      {
                        "bin_start": 217208,
                        "bin_end": 16667096.2,
                        "count": 1
                      },
                      {
                        "bin_start": 16667096.2,
                        "bin_end": 33116984.4,
                        "count": 4
                      },
                      {
                        "bin_start": 33116984.4,
                        "bin_end": 49566872.599999994,
                        "count": 2
                      },
                      {
                        "bin_start": 49566872.599999994,
                        "bin_end": 66016760.8,
                        "count": 0
                      },
                      {
                        "bin_start": 66016760.8,
                        "bin_end": 82466649,
                        "count": 0
                      },
                      {
                        "bin_start": 82466649,
                        "bin_end": 98916537.19999999,
                        "count": 0
                      },
                      {
                        "bin_start": 98916537.19999999,
                        "bin_end": 115366425.39999999,
                        "count": 0
                      },
                      {
                        "bin_start": 115366425.39999999,
                        "bin_end": 131816313.6,
                        "count": 0
                      },
                      {
                        "bin_start": 131816313.6,
                        "bin_end": 148266201.79999998,
                        "count": 0
                      },
                      {
                        "bin_start": 148266201.79999998,
                        "bin_end": 164716090,
                        "count": 1
                      }
                    ]
                  }
                },
                {
                  "name": "zipcode",
                  "dtype": "float64",
                  "stats": {
                    "unique_count": 8,
                    "nan_count": 0,
                    "min": 147.83598526000918,
                    "max": 217208,
                    "histogram": [
                      {
                        "bin_start": 147.83598526000918,
                        "bin_end": 21853.852386734008,
                        "count": 1
                      },
                      {
                        "bin_start": 21853.852386734008,
                        "bin_end": 43559.86878820801,
                        "count": 0
                      },
                      {
                        "bin_start": 43559.86878820801,
                        "bin_end": 65265.88518968201,
                        "count": 0
                      },
                      {
                        "bin_start": 65265.88518968201,
                        "bin_end": 86971.90159115601,
                        "count": 6
                      },
                      {
                        "bin_start": 86971.90159115601,
                        "bin_end": 108677.91799263001,
                        "count": 0
                      },
                      {
                        "bin_start": 108677.91799263001,
                        "bin_end": 130383.93439410401,
                        "count": 0
                      },
                      {
                        "bin_start": 130383.93439410401,
                        "bin_end": 152089.95079557798,
                        "count": 0
                      },
                      {
                        "bin_start": 152089.95079557798,
                        "bin_end": 173795.967197052,
                        "count": 0
                      },
                      {
                        "bin_start": 173795.967197052,
                        "bin_end": 195501.983598526,
                        "count": 0
                      },
                      {
                        "bin_start": 195501.983598526,
                        "bin_end": 217208,
                        "count": 1
                      }
                    ]
                  }
                },
                {
                  "name": "fips",
                  "dtype": "float64",
                  "stats": {
                    "unique_count": 8,
                    "nan_count": 0,
                    "min": 23.500297992604526,
                    "max": 217208,
                    "histogram": [
                      {
                        "bin_start": 23.500297992604526,
                        "bin_end": 21741.95026819334,
                        "count": 7
                      },
                      {
                        "bin_start": 21741.95026819334,
                        "bin_end": 43460.40023839408,
                        "count": 0
                      },
                      {
                        "bin_start": 43460.40023839408,
                        "bin_end": 65178.85020859482,
                        "count": 0
                      },
                      {
                        "bin_start": 65178.85020859482,
                        "bin_end": 86897.30017879556,
                        "count": 0
                      },
                      {
                        "bin_start": 86897.30017879556,
                        "bin_end": 108615.7501489963,
                        "count": 0
                      },
                      {
                        "bin_start": 108615.7501489963,
                        "bin_end": 130334.20011919703,
                        "count": 0
                      },
                      {
                        "bin_start": 130334.20011919703,
                        "bin_end": 152052.65008939776,
                        "count": 0
                      },
                      {
                        "bin_start": 152052.65008939776,
                        "bin_end": 173771.1000595985,
                        "count": 0
                      },
                      {
                        "bin_start": 173771.1000595985,
                        "bin_end": 195489.55002979925,
                        "count": 0
                      },
                      {
                        "bin_start": 195489.55002979925,
                        "bin_end": 217208,
                        "count": 1
                      }
                    ]
                  }
                },
                {
                  "name": "situsstdzip5",
                  "dtype": "float64",
                  "stats": {
                    "unique_count": 8,
                    "nan_count": 0,
                    "min": 147.83598526000918,
                    "max": 217208,
                    "histogram": [
                      {
                        "bin_start": 147.83598526000918,
                        "bin_end": 21853.852386734008,
                        "count": 1
                      },
                      {
                        "bin_start": 21853.852386734008,
                        "bin_end": 43559.86878820801,
                        "count": 0
                      },
                      {
                        "bin_start": 43559.86878820801,
                        "bin_end": 65265.88518968201,
                        "count": 0
                      },
                      {
                        "bin_start": 65265.88518968201,
                        "bin_end": 86971.90159115601,
                        "count": 6
                      },
                      {
                        "bin_start": 86971.90159115601,
                        "bin_end": 108677.91799263001,
                        "count": 0
                      },
                      {
                        "bin_start": 108677.91799263001,
                        "bin_end": 130383.93439410401,
                        "count": 0
                      },
                      {
                        "bin_start": 130383.93439410401,
                        "bin_end": 152089.95079557798,
                        "count": 0
                      },
                      {
                        "bin_start": 152089.95079557798,
                        "bin_end": 173795.967197052,
                        "count": 0
                      },
                      {
                        "bin_start": 173795.967197052,
                        "bin_end": 195501.983598526,
                        "count": 0
                      },
                      {
                        "bin_start": 195501.983598526,
                        "bin_end": 217208,
                        "count": 1
                      }
                    ]
                  }
                },
                {
                  "name": "situsstdzip4",
                  "dtype": "float64",
                  "stats": {
                    "unique_count": 8,
                    "nan_count": 0,
                    "min": 16,
                    "max": 216901,
                    "histogram": [
                      {
                        "bin_start": 16,
                        "bin_end": 21704.5,
                        "count": 7
                      },
                      {
                        "bin_start": 21704.5,
                        "bin_end": 43393,
                        "count": 0
                      },
                      {
                        "bin_start": 43393,
                        "bin_end": 65081.5,
                        "count": 0
                      },
                      {
                        "bin_start": 65081.5,
                        "bin_end": 86770,
                        "count": 0
                      },
                      {
                        "bin_start": 86770,
                        "bin_end": 108458.5,
                        "count": 0
                      },
                      {
                        "bin_start": 108458.5,
                        "bin_end": 130147,
                        "count": 0
                      },
                      {
                        "bin_start": 130147,
                        "bin_end": 151835.5,
                        "count": 0
                      },
                      {
                        "bin_start": 151835.5,
                        "bin_end": 173524,
                        "count": 0
                      },
                      {
                        "bin_start": 173524,
                        "bin_end": 195212.5,
                        "count": 0
                      },
                      {
                        "bin_start": 195212.5,
                        "bin_end": 216901,
                        "count": 1
                      }
                    ]
                  }
                },
                {
                  "name": "situslatitude",
                  "dtype": "float64",
                  "stats": {
                    "unique_count": 8,
                    "nan_count": 0,
                    "min": 0,
                    "max": 217208,
                    "histogram": [
                      {
                        "bin_start": 0,
                        "bin_end": 21720.8,
                        "count": 7
                      },
                      {
                        "bin_start": 21720.8,
                        "bin_end": 43441.6,
                        "count": 0
                      },
                      {
                        "bin_start": 43441.6,
                        "bin_end": 65162.399999999994,
                        "count": 0
                      },
                      {
                        "bin_start": 65162.399999999994,
                        "bin_end": 86883.2,
                        "count": 0
                      },
                      {
                        "bin_start": 86883.2,
                        "bin_end": 108604,
                        "count": 0
                      },
                      {
                        "bin_start": 108604,
                        "bin_end": 130324.79999999999,
                        "count": 0
                      },
                      {
                        "bin_start": 130324.79999999999,
                        "bin_end": 152045.6,
                        "count": 0
                      },
                      {
                        "bin_start": 152045.6,
                        "bin_end": 173766.4,
                        "count": 0
                      },
                      {
                        "bin_start": 173766.4,
                        "bin_end": 195487.19999999998,
                        "count": 0
                      },
                      {
                        "bin_start": 195487.19999999998,
                        "bin_end": 217208,
                        "count": 1
                      }
                    ]
                  }
                },
                {
                  "name": "situslongitude",
                  "dtype": "float64",
                  "stats": {
                    "unique_count": 8,
                    "nan_count": 0,
                    "min": -105.579031,
                    "max": 217208,
                    "histogram": [
                      {
                        "bin_start": -105.579031,
                        "bin_end": 21625.7788721,
                        "count": 7
                      },
                      {
                        "bin_start": 21625.7788721,
                        "bin_end": 43357.1367752,
                        "count": 0
                      },
                      {
                        "bin_start": 43357.1367752,
                        "bin_end": 65088.494678300005,
                        "count": 0
                      },
                      {
                        "bin_start": 65088.494678300005,
                        "bin_end": 86819.8525814,
                        "count": 0
                      },
                      {
                        "bin_start": 86819.8525814,
                        "bin_end": 108551.2104845,
                        "count": 0
                      },
                      {
                        "bin_start": 108551.2104845,
                        "bin_end": 130282.56838760001,
                        "count": 0
                      },
                      {
                        "bin_start": 130282.56838760001,
                        "bin_end": 152013.9262907,
                        "count": 0
                      },
                      {
                        "bin_start": 152013.9262907,
                        "bin_end": 173745.2841938,
                        "count": 0
                      },
                      {
                        "bin_start": 173745.2841938,
                        "bin_end": 195476.6420969,
                        "count": 0
                      },
                      {
                        "bin_start": 195476.6420969,
                        "bin_end": 217208,
                        "count": 1
                      }
                    ]
                  }
                },
                {
                  "name": "stdlandusecode",
                  "dtype": "float64",
                  "stats": {
                    "unique_count": 7,
                    "nan_count": 0,
                    "min": 10,
                    "max": 217208,
                    "histogram": [
                      {
                        "bin_start": 10,
                        "bin_end": 21729.8,
                        "count": 7
                      },
                      {
                        "bin_start": 21729.8,
                        "bin_end": 43449.6,
                        "count": 0
                      },
                      {
                        "bin_start": 43449.6,
                        "bin_end": 65169.399999999994,
                        "count": 0
                      },
                      {
                        "bin_start": 65169.399999999994,
                        "bin_end": 86889.2,
                        "count": 0
                      },
                      {
                        "bin_start": 86889.2,
                        "bin_end": 108609,
                        "count": 0
                      },
                      {
                        "bin_start": 108609,
                        "bin_end": 130328.79999999999,
                        "count": 0
                      },
                      {
                        "bin_start": 130328.79999999999,
                        "bin_end": 152048.6,
                        "count": 0
                      },
                      {
                        "bin_start": 152048.6,
                        "bin_end": 173768.4,
                        "count": 0
                      },
                      {
                        "bin_start": 173768.4,
                        "bin_end": 195488.19999999998,
                        "count": 0
                      },
                      {
                        "bin_start": 195488.19999999998,
                        "bin_end": 217208,
                        "count": 1
                      }
                    ]
                  }
                },
                {
                  "name": "statelandusecode",
                  "dtype": "float64",
                  "stats": {
                    "unique_count": 6,
                    "nan_count": 0,
                    "min": 100,
                    "max": 41917,
                    "histogram": [
                      {
                        "bin_start": 100,
                        "bin_end": 4281.7,
                        "count": 6
                      },
                      {
                        "bin_start": 4281.7,
                        "bin_end": 8463.4,
                        "count": 0
                      },
                      {
                        "bin_start": 8463.4,
                        "bin_end": 12645.099999999999,
                        "count": 1
                      },
                      {
                        "bin_start": 12645.099999999999,
                        "bin_end": 16826.8,
                        "count": 0
                      },
                      {
                        "bin_start": 16826.8,
                        "bin_end": 21008.5,
                        "count": 0
                      },
                      {
                        "bin_start": 21008.5,
                        "bin_end": 25190.199999999997,
                        "count": 0
                      },
                      {
                        "bin_start": 25190.199999999997,
                        "bin_end": 29371.899999999998,
                        "count": 0
                      },
                      {
                        "bin_start": 29371.899999999998,
                        "bin_end": 33553.6,
                        "count": 0
                      },
                      {
                        "bin_start": 33553.6,
                        "bin_end": 37735.299999999996,
                        "count": 0
                      },
                      {
                        "bin_start": 37735.299999999996,
                        "bin_end": 41917,
                        "count": 1
                      }
                    ]
                  }
                },
                {
                  "name": "situscensustract",
                  "dtype": "float64",
                  "stats": {
                    "unique_count": 8,
                    "nan_count": 0,
                    "min": 102,
                    "max": 988700,
                    "histogram": [
                      {
                        "bin_start": 102,
                        "bin_end": 98961.8,
                        "count": 6
                      },
                      {
                        "bin_start": 98961.8,
                        "bin_end": 197821.6,
                        "count": 0
                      },
                      {
                        "bin_start": 197821.6,
                        "bin_end": 296681.4,
                        "count": 1
                      },
                      {
                        "bin_start": 296681.4,
                        "bin_end": 395541.2,
                        "count": 0
                      },
                      {
                        "bin_start": 395541.2,
                        "bin_end": 494401,
                        "count": 0
                      },
                      {
                        "bin_start": 494401,
                        "bin_end": 593260.8,
                        "count": 0
                      },
                      {
                        "bin_start": 593260.8,
                        "bin_end": 692120.6,
                        "count": 0
                      },
                      {
                        "bin_start": 692120.6,
                        "bin_end": 790980.4,
                        "count": 0
                      },
                      {
                        "bin_start": 790980.4,
                        "bin_end": 889840.2000000001,
                        "count": 0
                      },
                      {
                        "bin_start": 889840.2000000001,
                        "bin_end": 988700,
                        "count": 1
                      }
                    ]
                  }
                },
                {
                  "name": "lotsizefrontagefeet",
                  "dtype": "float64",
                  "stats": {
                    "unique_count": 8,
                    "nan_count": 0,
                    "min": 0,
                    "max": 4748040,
                    "histogram": [
                      {
                        "bin_start": 0,
                        "bin_end": 474804,
                        "count": 7
                      },
                      {
                        "bin_start": 474804,
                        "bin_end": 949608,
                        "count": 0
                      },
                      {
                        "bin_start": 949608,
                        "bin_end": 1424412,
                        "count": 0
                      },
                      {
                        "bin_start": 1424412,
                        "bin_end": 1899216,
                        "count": 0
                      },
                      {
                        "bin_start": 1899216,
                        "bin_end": 2374020,
                        "count": 0
                      },
                      {
                        "bin_start": 2374020,
                        "bin_end": 2848824,
                        "count": 0
                      },
                      {
                        "bin_start": 2848824,
                        "bin_end": 3323628,
                        "count": 0
                      },
                      {
                        "bin_start": 3323628,
                        "bin_end": 3798432,
                        "count": 0
                      },
                      {
                        "bin_start": 3798432,
                        "bin_end": 4273236,
                        "count": 0
                      },
                      {
                        "bin_start": 4273236,
                        "bin_end": 4748040,
                        "count": 1
                      }
                    ]
                  }
                },
                {
                  "name": "lotsizedepthfeet",
                  "dtype": "float64",
                  "stats": {
                    "unique_count": 5,
                    "nan_count": 0,
                    "min": 0,
                    "max": 217208,
                    "histogram": [
                      {
                        "bin_start": 0,
                        "bin_end": 21720.8,
                        "count": 6
                      },
                      {
                        "bin_start": 21720.8,
                        "bin_end": 43441.6,
                        "count": 0
                      },
                      {
                        "bin_start": 43441.6,
                        "bin_end": 65162.399999999994,
                        "count": 0
                      },
                      {
                        "bin_start": 65162.399999999994,
                        "bin_end": 86883.2,
                        "count": 1
                      },
                      {
                        "bin_start": 86883.2,
                        "bin_end": 108604,
                        "count": 0
                      },
                      {
                        "bin_start": 108604,
                        "bin_end": 130324.79999999999,
                        "count": 0
                      },
                      {
                        "bin_start": 130324.79999999999,
                        "bin_end": 152045.6,
                        "count": 0
                      },
                      {
                        "bin_start": 152045.6,
                        "bin_end": 173766.4,
                        "count": 0
                      },
                      {
                        "bin_start": 173766.4,
                        "bin_end": 195487.19999999998,
                        "count": 0
                      },
                      {
                        "bin_start": 195487.19999999998,
                        "bin_end": 217208,
                        "count": 1
                      }
                    ]
                  }
                },
                {
                  "name": "lotsizeacres",
                  "dtype": "float64",
                  "stats": {
                    "unique_count": 8,
                    "nan_count": 0,
                    "min": 0,
                    "max": 32500000,
                    "histogram": [
                      {
                        "bin_start": 0,
                        "bin_end": 3250000,
                        "count": 7
                      },
                      {
                        "bin_start": 3250000,
                        "bin_end": 6500000,
                        "count": 0
                      },
                      {
                        "bin_start": 6500000,
                        "bin_end": 9750000,
                        "count": 0
                      },
                      {
                        "bin_start": 9750000,
                        "bin_end": 13000000,
                        "count": 0
                      },
                      {
                        "bin_start": 13000000,
                        "bin_end": 16250000,
                        "count": 0
                      },
                      {
                        "bin_start": 16250000,
                        "bin_end": 19500000,
                        "count": 0
                      },
                      {
                        "bin_start": 19500000,
                        "bin_end": 22750000,
                        "count": 0
                      },
                      {
                        "bin_start": 22750000,
                        "bin_end": 26000000,
                        "count": 0
                      },
                      {
                        "bin_start": 26000000,
                        "bin_end": 29250000,
                        "count": 0
                      },
                      {
                        "bin_start": 29250000,
                        "bin_end": 32500000,
                        "count": 1
                      }
                    ]
                  }
                },
                {
                  "name": "lotsizesqft",
                  "dtype": "float64",
                  "stats": {
                    "unique_count": 8,
                    "nan_count": 0,
                    "min": 0,
                    "max": 572726912,
                    "histogram": [
                      {
                        "bin_start": 0,
                        "bin_end": 57272691.2,
                        "count": 7
                      },
                      {
                        "bin_start": 57272691.2,
                        "bin_end": 114545382.4,
                        "count": 0
                      },
                      {
                        "bin_start": 114545382.4,
                        "bin_end": 171818073.60000002,
                        "count": 0
                      },
                      {
                        "bin_start": 171818073.60000002,
                        "bin_end": 229090764.8,
                        "count": 0
                      },
                      {
                        "bin_start": 229090764.8,
                        "bin_end": 286363456,
                        "count": 0
                      },
                      {
                        "bin_start": 286363456,
                        "bin_end": 343636147.20000005,
                        "count": 0
                      },
                      {
                        "bin_start": 343636147.20000005,
                        "bin_end": 400908838.40000004,
                        "count": 0
                      },
                      {
                        "bin_start": 400908838.40000004,
                        "bin_end": 458181529.6,
                        "count": 0
                      },
                      {
                        "bin_start": 458181529.6,
                        "bin_end": 515454220.8,
                        "count": 0
                      },
                      {
                        "bin_start": 515454220.8,
                        "bin_end": 572726912,
                        "count": 1
                      }
                    ]
                  }
                },
                {
                  "name": "mailingstdzip4",
                  "dtype": "float64",
                  "stats": {
                    "unique_count": 8,
                    "nan_count": 0,
                    "min": 1,
                    "max": 216808,
                    "histogram": [
                      {
                        "bin_start": 1,
                        "bin_end": 21681.7,
                        "count": 7
                      },
                      {
                        "bin_start": 21681.7,
                        "bin_end": 43362.4,
                        "count": 0
                      },
                      {
                        "bin_start": 43362.4,
                        "bin_end": 65043.100000000006,
                        "count": 0
                      },
                      {
                        "bin_start": 65043.100000000006,
                        "bin_end": 86723.8,
                        "count": 0
                      },
                      {
                        "bin_start": 86723.8,
                        "bin_end": 108404.5,
                        "count": 0
                      },
                      {
                        "bin_start": 108404.5,
                        "bin_end": 130085.20000000001,
                        "count": 0
                      },
                      {
                        "bin_start": 130085.20000000001,
                        "bin_end": 151765.9,
                        "count": 0
                      },
                      {
                        "bin_start": 151765.9,
                        "bin_end": 173446.6,
                        "count": 0
                      },
                      {
                        "bin_start": 173446.6,
                        "bin_end": 195127.30000000002,
                        "count": 0
                      },
                      {
                        "bin_start": 195127.30000000002,
                        "bin_end": 216808,
                        "count": 1
                      }
                    ]
                  }
                },
                {
                  "name": "assdtotalvalue",
                  "dtype": "float64",
                  "stats": {
                    "unique_count": 8,
                    "nan_count": 0,
                    "min": 0,
                    "max": 1014506,
                    "histogram": [
                      {
                        "bin_start": 0,
                        "bin_end": 101450.6,
                        "count": 6
                      },
                      {
                        "bin_start": 101450.6,
                        "bin_end": 202901.2,
                        "count": 0
                      },
                      {
                        "bin_start": 202901.2,
                        "bin_end": 304351.80000000005,
                        "count": 1
                      },
                      {
                        "bin_start": 304351.80000000005,
                        "bin_end": 405802.4,
                        "count": 0
                      },
                      {
                        "bin_start": 405802.4,
                        "bin_end": 507253,
                        "count": 0
                      },
                      {
                        "bin_start": 507253,
                        "bin_end": 608703.6000000001,
                        "count": 0
                      },
                      {
                        "bin_start": 608703.6000000001,
                        "bin_end": 710154.2000000001,
                        "count": 0
                      },
                      {
                        "bin_start": 710154.2000000001,
                        "bin_end": 811604.8,
                        "count": 0
                      },
                      {
                        "bin_start": 811604.8,
                        "bin_end": 913055.4,
                        "count": 0
                      },
                      {
                        "bin_start": 913055.4,
                        "bin_end": 1014506,
                        "count": 1
                      }
                    ]
                  }
                },
                {
                  "name": "assdlandvalue",
                  "dtype": "float64",
                  "stats": {
                    "unique_count": 8,
                    "nan_count": 0,
                    "min": 0,
                    "max": 801230,
                    "histogram": [
                      {
                        "bin_start": 0,
                        "bin_end": 80123,
                        "count": 6
                      },
                      {
                        "bin_start": 80123,
                        "bin_end": 160246,
                        "count": 0
                      },
                      {
                        "bin_start": 160246,
                        "bin_end": 240369,
                        "count": 1
                      },
                      {
                        "bin_start": 240369,
                        "bin_end": 320492,
                        "count": 0
                      },
                      {
                        "bin_start": 320492,
                        "bin_end": 400615,
                        "count": 0
                      },
                      {
                        "bin_start": 400615,
                        "bin_end": 480738,
                        "count": 0
                      },
                      {
                        "bin_start": 480738,
                        "bin_end": 560861,
                        "count": 0
                      },
                      {
                        "bin_start": 560861,
                        "bin_end": 640984,
                        "count": 0
                      },
                      {
                        "bin_start": 640984,
                        "bin_end": 721107,
                        "count": 0
                      },
                      {
                        "bin_start": 721107,
                        "bin_end": 801230,
                        "count": 1
                      }
                    ]
                  }
                },
                {
                  "name": "assdimprovementvalue",
                  "dtype": "float64",
                  "stats": {
                    "unique_count": 8,
                    "nan_count": 0,
                    "min": 0,
                    "max": 806490,
                    "histogram": [
                      {
                        "bin_start": 0,
                        "bin_end": 80649,
                        "count": 6
                      },
                      {
                        "bin_start": 80649,
                        "bin_end": 161298,
                        "count": 0
                      },
                      {
                        "bin_start": 161298,
                        "bin_end": 241947,
                        "count": 1
                      },
                      {
                        "bin_start": 241947,
                        "bin_end": 322596,
                        "count": 0
                      },
                      {
                        "bin_start": 322596,
                        "bin_end": 403245,
                        "count": 0
                      },
                      {
                        "bin_start": 403245,
                        "bin_end": 483894,
                        "count": 0
                      },
                      {
                        "bin_start": 483894,
                        "bin_end": 564543,
                        "count": 0
                      },
                      {
                        "bin_start": 564543,
                        "bin_end": 645192,
                        "count": 0
                      },
                      {
                        "bin_start": 645192,
                        "bin_end": 725841,
                        "count": 0
                      },
                      {
                        "bin_start": 725841,
                        "bin_end": 806490,
                        "count": 1
                      }
                    ]
                  }
                },
                {
                  "name": "markettotalvalue",
                  "dtype": "float64",
                  "stats": {
                    "unique_count": 8,
                    "nan_count": 0,
                    "min": 0,
                    "max": 14188900,
                    "histogram": [
                      {
                        "bin_start": 0,
                        "bin_end": 1418890,
                        "count": 7
                      },
                      {
                        "bin_start": 1418890,
                        "bin_end": 2837780,
                        "count": 0
                      },
                      {
                        "bin_start": 2837780,
                        "bin_end": 4256670,
                        "count": 0
                      },
                      {
                        "bin_start": 4256670,
                        "bin_end": 5675560,
                        "count": 0
                      },
                      {
                        "bin_start": 5675560,
                        "bin_end": 7094450,
                        "count": 0
                      },
                      {
                        "bin_start": 7094450,
                        "bin_end": 8513340,
                        "count": 0
                      },
                      {
                        "bin_start": 8513340,
                        "bin_end": 9932230,
                        "count": 0
                      },
                      {
                        "bin_start": 9932230,
                        "bin_end": 11351120,
                        "count": 0
                      },
                      {
                        "bin_start": 11351120,
                        "bin_end": 12770010,
                        "count": 0
                      },
                      {
                        "bin_start": 12770010,
                        "bin_end": 14188900,
                        "count": 1
                      }
                    ]
                  }
                },
                {
                  "name": "marketvalueland",
                  "dtype": "float64",
                  "stats": {
                    "unique_count": 8,
                    "nan_count": 0,
                    "min": 0,
                    "max": 8820000,
                    "histogram": [
                      {
                        "bin_start": 0,
                        "bin_end": 882000,
                        "count": 7
                      },
                      {
                        "bin_start": 882000,
                        "bin_end": 1764000,
                        "count": 0
                      },
                      {
                        "bin_start": 1764000,
                        "bin_end": 2646000,
                        "count": 0
                      },
                      {
                        "bin_start": 2646000,
                        "bin_end": 3528000,
                        "count": 0
                      },
                      {
                        "bin_start": 3528000,
                        "bin_end": 4410000,
                        "count": 0
                      },
                      {
                        "bin_start": 4410000,
                        "bin_end": 5292000,
                        "count": 0
                      },
                      {
                        "bin_start": 5292000,
                        "bin_end": 6174000,
                        "count": 0
                      },
                      {
                        "bin_start": 6174000,
                        "bin_end": 7056000,
                        "count": 0
                      },
                      {
                        "bin_start": 7056000,
                        "bin_end": 7938000,
                        "count": 0
                      },
                      {
                        "bin_start": 7938000,
                        "bin_end": 8820000,
                        "count": 1
                      }
                    ]
                  }
                },
                {
                  "name": "marketvalueimprovement",
                  "dtype": "float64",
                  "stats": {
                    "unique_count": 8,
                    "nan_count": 0,
                    "min": 0,
                    "max": 10696900,
                    "histogram": [
                      {
                        "bin_start": 0,
                        "bin_end": 1069690,
                        "count": 7
                      },
                      {
                        "bin_start": 1069690,
                        "bin_end": 2139380,
                        "count": 0
                      },
                      {
                        "bin_start": 2139380,
                        "bin_end": 3209070,
                        "count": 0
                      },
                      {
                        "bin_start": 3209070,
                        "bin_end": 4278760,
                        "count": 0
                      },
                      {
                        "bin_start": 4278760,
                        "bin_end": 5348450,
                        "count": 0
                      },
                      {
                        "bin_start": 5348450,
                        "bin_end": 6418140,
                        "count": 0
                      },
                      {
                        "bin_start": 6418140,
                        "bin_end": 7487830,
                        "count": 0
                      },
                      {
                        "bin_start": 7487830,
                        "bin_end": 8557520,
                        "count": 0
                      },
                      {
                        "bin_start": 8557520,
                        "bin_end": 9627210,
                        "count": 0
                      },
                      {
                        "bin_start": 9627210,
                        "bin_end": 10696900,
                        "count": 1
                      }
                    ]
                  }
                },
                {
                  "name": "taxamount",
                  "dtype": "float64",
                  "stats": {
                    "unique_count": 8,
                    "nan_count": 0,
                    "min": 0,
                    "max": 50921128,
                    "histogram": [
                      {
                        "bin_start": 0,
                        "bin_end": 5092112.8,
                        "count": 7
                      },
                      {
                        "bin_start": 5092112.8,
                        "bin_end": 10184225.6,
                        "count": 0
                      },
                      {
                        "bin_start": 10184225.6,
                        "bin_end": 15276338.399999999,
                        "count": 0
                      },
                      {
                        "bin_start": 15276338.399999999,
                        "bin_end": 20368451.2,
                        "count": 0
                      },
                      {
                        "bin_start": 20368451.2,
                        "bin_end": 25460564,
                        "count": 0
                      },
                      {
                        "bin_start": 25460564,
                        "bin_end": 30552676.799999997,
                        "count": 0
                      },
                      {
                        "bin_start": 30552676.799999997,
                        "bin_end": 35644789.6,
                        "count": 0
                      },
                      {
                        "bin_start": 35644789.6,
                        "bin_end": 40736902.4,
                        "count": 0
                      },
                      {
                        "bin_start": 40736902.4,
                        "bin_end": 45829015.199999996,
                        "count": 0
                      },
                      {
                        "bin_start": 45829015.199999996,
                        "bin_end": 50921128,
                        "count": 1
                      }
                    ]
                  }
                },
                {
                  "name": "taxyear",
                  "dtype": "float64",
                  "stats": {
                    "unique_count": 6,
                    "nan_count": 0,
                    "min": 0.1549649464256359,
                    "max": 217208,
                    "histogram": [
                      {
                        "bin_start": 0.1549649464256359,
                        "bin_end": 21720.939468451783,
                        "count": 7
                      },
                      {
                        "bin_start": 21720.939468451783,
                        "bin_end": 43441.723971957144,
                        "count": 0
                      },
                      {
                        "bin_start": 43441.723971957144,
                        "bin_end": 65162.5084754625,
                        "count": 0
                      },
                      {
                        "bin_start": 65162.5084754625,
                        "bin_end": 86883.29297896786,
                        "count": 0
                      },
                      {
                        "bin_start": 86883.29297896786,
                        "bin_end": 108604.07748247322,
                        "count": 0
                      },
                      {
                        "bin_start": 108604.07748247322,
                        "bin_end": 130324.86198597857,
                        "count": 0
                      },
                      {
                        "bin_start": 130324.86198597857,
                        "bin_end": 152045.64648948392,
                        "count": 0
                      },
                      {
                        "bin_start": 152045.64648948392,
                        "bin_end": 173766.43099298928,
                        "count": 0
                      },
                      {
                        "bin_start": 173766.43099298928,
                        "bin_end": 195487.21549649464,
                        "count": 0
                      },
                      {
                        "bin_start": 195487.21549649464,
                        "bin_end": 217208,
                        "count": 1
                      }
                    ]
                  }
                },
                {
                  "name": "taxdeliquentyear1",
                  "dtype": "float64",
                  "stats": {
                    "unique_count": 8,
                    "nan_count": 0,
                    "min": 20,
                    "max": 23721,
                    "histogram": [
                      {
                        "bin_start": 20,
                        "bin_end": 2390.1,
                        "count": 7
                      },
                      {
                        "bin_start": 2390.1,
                        "bin_end": 4760.2,
                        "count": 0
                      },
                      {
                        "bin_start": 4760.2,
                        "bin_end": 7130.299999999999,
                        "count": 0
                      },
                      {
                        "bin_start": 7130.299999999999,
                        "bin_end": 9500.4,
                        "count": 0
                      },
                      {
                        "bin_start": 9500.4,
                        "bin_end": 11870.5,
                        "count": 0
                      },
                      {
                        "bin_start": 11870.5,
                        "bin_end": 14240.599999999999,
                        "count": 0
                      },
                      {
                        "bin_start": 14240.599999999999,
                        "bin_end": 16610.7,
                        "count": 0
                      },
                      {
                        "bin_start": 16610.7,
                        "bin_end": 18980.8,
                        "count": 0
                      },
                      {
                        "bin_start": 18980.8,
                        "bin_end": 21350.899999999998,
                        "count": 0
                      },
                      {
                        "bin_start": 21350.899999999998,
                        "bin_end": 23721,
                        "count": 1
                      }
                    ]
                  }
                },
                {
                  "name": "assdyear",
                  "dtype": "float64",
                  "stats": {
                    "unique_count": 6,
                    "nan_count": 0,
                    "min": 0.38676087175905366,
                    "max": 217208,
                    "histogram": [
                      {
                        "bin_start": 0.38676087175905366,
                        "bin_end": 21721.14808478458,
                        "count": 7
                      },
                      {
                        "bin_start": 21721.14808478458,
                        "bin_end": 43441.9094086974,
                        "count": 0
                      },
                      {
                        "bin_start": 43441.9094086974,
                        "bin_end": 65162.67073261022,
                        "count": 0
                      },
                      {
                        "bin_start": 65162.67073261022,
                        "bin_end": 86883.43205652304,
                        "count": 0
                      },
                      {
                        "bin_start": 86883.43205652304,
                        "bin_end": 108604.19338043587,
                        "count": 0
                      },
                      {
                        "bin_start": 108604.19338043587,
                        "bin_end": 130324.95470434868,
                        "count": 0
                      },
                      {
                        "bin_start": 130324.95470434868,
                        "bin_end": 152045.71602826152,
                        "count": 0
                      },
                      {
                        "bin_start": 152045.71602826152,
                        "bin_end": 173766.47735217435,
                        "count": 0
                      },
                      {
                        "bin_start": 173766.47735217435,
                        "bin_end": 195487.23867608717,
                        "count": 0
                      },
                      {
                        "bin_start": 195487.23867608717,
                        "bin_end": 217208,
                        "count": 1
                      }
                    ]
                  }
                },
                {
                  "name": "buildingarea",
                  "dtype": "float64",
                  "stats": {
                    "unique_count": 8,
                    "nan_count": 0,
                    "min": 0,
                    "max": 217208,
                    "histogram": [
                      {
                        "bin_start": 0,
                        "bin_end": 21720.8,
                        "count": 6
                      },
                      {
                        "bin_start": 21720.8,
                        "bin_end": 43441.6,
                        "count": 0
                      },
                      {
                        "bin_start": 43441.6,
                        "bin_end": 65162.399999999994,
                        "count": 1
                      },
                      {
                        "bin_start": 65162.399999999994,
                        "bin_end": 86883.2,
                        "count": 0
                      },
                      {
                        "bin_start": 86883.2,
                        "bin_end": 108604,
                        "count": 0
                      },
                      {
                        "bin_start": 108604,
                        "bin_end": 130324.79999999999,
                        "count": 0
                      },
                      {
                        "bin_start": 130324.79999999999,
                        "bin_end": 152045.6,
                        "count": 0
                      },
                      {
                        "bin_start": 152045.6,
                        "bin_end": 173766.4,
                        "count": 0
                      },
                      {
                        "bin_start": 173766.4,
                        "bin_end": 195487.19999999998,
                        "count": 0
                      },
                      {
                        "bin_start": 195487.19999999998,
                        "bin_end": 217208,
                        "count": 1
                      }
                    ]
                  }
                },
                {
                  "name": "sumbuildingsqft",
                  "dtype": "float64",
                  "stats": {
                    "unique_count": 8,
                    "nan_count": 0,
                    "min": 0,
                    "max": 217208,
                    "histogram": [
                      {
                        "bin_start": 0,
                        "bin_end": 21720.8,
                        "count": 6
                      },
                      {
                        "bin_start": 21720.8,
                        "bin_end": 43441.6,
                        "count": 0
                      },
                      {
                        "bin_start": 43441.6,
                        "bin_end": 65162.399999999994,
                        "count": 1
                      },
                      {
                        "bin_start": 65162.399999999994,
                        "bin_end": 86883.2,
                        "count": 0
                      },
                      {
                        "bin_start": 86883.2,
                        "bin_end": 108604,
                        "count": 0
                      },
                      {
                        "bin_start": 108604,
                        "bin_end": 130324.79999999999,
                        "count": 0
                      },
                      {
                        "bin_start": 130324.79999999999,
                        "bin_end": 152045.6,
                        "count": 0
                      },
                      {
                        "bin_start": 152045.6,
                        "bin_end": 173766.4,
                        "count": 0
                      },
                      {
                        "bin_start": 173766.4,
                        "bin_end": 195487.19999999998,
                        "count": 0
                      },
                      {
                        "bin_start": 195487.19999999998,
                        "bin_end": 217208,
                        "count": 1
                      }
                    ]
                  }
                },
                {
                  "name": "sumlivingareasqft",
                  "dtype": "float64",
                  "stats": {
                    "unique_count": 8,
                    "nan_count": 0,
                    "min": 1,
                    "max": 216978,
                    "histogram": [
                      {
                        "bin_start": 1,
                        "bin_end": 21698.7,
                        "count": 6
                      },
                      {
                        "bin_start": 21698.7,
                        "bin_end": 43396.4,
                        "count": 1
                      },
                      {
                        "bin_start": 43396.4,
                        "bin_end": 65094.100000000006,
                        "count": 0
                      },
                      {
                        "bin_start": 65094.100000000006,
                        "bin_end": 86791.8,
                        "count": 0
                      },
                      {
                        "bin_start": 86791.8,
                        "bin_end": 108489.5,
                        "count": 0
                      },
                      {
                        "bin_start": 108489.5,
                        "bin_end": 130187.20000000001,
                        "count": 0
                      },
                      {
                        "bin_start": 130187.20000000001,
                        "bin_end": 151884.9,
                        "count": 0
                      },
                      {
                        "bin_start": 151884.9,
                        "bin_end": 173582.6,
                        "count": 0
                      },
                      {
                        "bin_start": 173582.6,
                        "bin_end": 195280.30000000002,
                        "count": 0
                      },
                      {
                        "bin_start": 195280.30000000002,
                        "bin_end": 216978,
                        "count": 1
                      }
                    ]
                  }
                },
                {
                  "name": "sumgrossareasqft",
                  "dtype": "float64",
                  "stats": {
                    "unique_count": 8,
                    "nan_count": 0,
                    "min": 120,
                    "max": 151923,
                    "histogram": [
                      {
                        "bin_start": 120,
                        "bin_end": 15300.3,
                        "count": 6
                      },
                      {
                        "bin_start": 15300.3,
                        "bin_end": 30480.6,
                        "count": 0
                      },
                      {
                        "bin_start": 30480.6,
                        "bin_end": 45660.899999999994,
                        "count": 0
                      },
                      {
                        "bin_start": 45660.899999999994,
                        "bin_end": 60841.2,
                        "count": 0
                      },
                      {
                        "bin_start": 60841.2,
                        "bin_end": 76021.5,
                        "count": 0
                      },
                      {
                        "bin_start": 76021.5,
                        "bin_end": 91201.79999999999,
                        "count": 0
                      },
                      {
                        "bin_start": 91201.79999999999,
                        "bin_end": 106382.09999999999,
                        "count": 1
                      },
                      {
                        "bin_start": 106382.09999999999,
                        "bin_end": 121562.4,
                        "count": 0
                      },
                      {
                        "bin_start": 121562.4,
                        "bin_end": 136742.69999999998,
                        "count": 0
                      },
                      {
                        "bin_start": 136742.69999999998,
                        "bin_end": 151923,
                        "count": 1
                      }
                    ]
                  }
                },
                {
                  "name": "sumadjareasqft",
                  "dtype": "float64",
                  "stats": {
                    "unique_count": 8,
                    "nan_count": 0,
                    "min": 1,
                    "max": 149639,
                    "histogram": [
                      {
                        "bin_start": 1,
                        "bin_end": 14964.8,
                        "count": 6
                      },
                      {
                        "bin_start": 14964.8,
                        "bin_end": 29928.6,
                        "count": 0
                      },
                      {
                        "bin_start": 29928.6,
                        "bin_end": 44892.399999999994,
                        "count": 0
                      },
                      {
                        "bin_start": 44892.399999999994,
                        "bin_end": 59856.2,
                        "count": 1
                      },
                      {
                        "bin_start": 59856.2,
                        "bin_end": 74820,
                        "count": 0
                      },
                      {
                        "bin_start": 74820,
                        "bin_end": 89783.79999999999,
                        "count": 0
                      },
                      {
                        "bin_start": 89783.79999999999,
                        "bin_end": 104747.59999999999,
                        "count": 0
                      },
                      {
                        "bin_start": 104747.59999999999,
                        "bin_end": 119711.4,
                        "count": 0
                      },
                      {
                        "bin_start": 119711.4,
                        "bin_end": 134675.19999999998,
                        "count": 0
                      },
                      {
                        "bin_start": 134675.19999999998,
                        "bin_end": 149639,
                        "count": 1
                      }
                    ]
                  }
                },
                {
                  "name": "sumbasementsqft",
                  "dtype": "float64",
                  "stats": {
                    "unique_count": 8,
                    "nan_count": 0,
                    "min": 1,
                    "max": 143112,
                    "histogram": [
                      {
                        "bin_start": 1,
                        "bin_end": 14312.1,
                        "count": 6
                      },
                      {
                        "bin_start": 14312.1,
                        "bin_end": 28623.2,
                        "count": 0
                      },
                      {
                        "bin_start": 28623.2,
                        "bin_end": 42934.3,
                        "count": 0
                      },
                      {
                        "bin_start": 42934.3,
                        "bin_end": 57245.4,
                        "count": 1
                      },
                      {
                        "bin_start": 57245.4,
                        "bin_end": 71556.5,
                        "count": 0
                      },
                      {
                        "bin_start": 71556.5,
                        "bin_end": 85867.6,
                        "count": 0
                      },
                      {
                        "bin_start": 85867.6,
                        "bin_end": 100178.7,
                        "count": 0
                      },
                      {
                        "bin_start": 100178.7,
                        "bin_end": 114489.8,
                        "count": 0
                      },
                      {
                        "bin_start": 114489.8,
                        "bin_end": 128800.90000000001,
                        "count": 0
                      },
                      {
                        "bin_start": 128800.90000000001,
                        "bin_end": 143112,
                        "count": 1
                      }
                    ]
                  }
                },
                {
                  "name": "sumgaragesqft",
                  "dtype": "float64",
                  "stats": {
                    "unique_count": 8,
                    "nan_count": 0,
                    "min": 1,
                    "max": 172793,
                    "histogram": [
                      {
                        "bin_start": 1,
                        "bin_end": 17280.2,
                        "count": 7
                      },
                      {
                        "bin_start": 17280.2,
                        "bin_end": 34559.4,
                        "count": 0
                      },
                      {
                        "bin_start": 34559.4,
                        "bin_end": 51838.600000000006,
                        "count": 0
                      },
                      {
                        "bin_start": 51838.600000000006,
                        "bin_end": 69117.8,
                        "count": 0
                      },
                      {
                        "bin_start": 69117.8,
                        "bin_end": 86397,
                        "count": 0
                      },
                      {
                        "bin_start": 86397,
                        "bin_end": 103676.20000000001,
                        "count": 0
                      },
                      {
                        "bin_start": 103676.20000000001,
                        "bin_end": 120955.40000000001,
                        "count": 0
                      },
                      {
                        "bin_start": 120955.40000000001,
                        "bin_end": 138234.6,
                        "count": 0
                      },
                      {
                        "bin_start": 138234.6,
                        "bin_end": 155513.80000000002,
                        "count": 0
                      },
                      {
                        "bin_start": 155513.80000000002,
                        "bin_end": 172793,
                        "count": 1
                      }
                    ]
                  }
                },
                {
                  "name": "yearbuilt",
                  "dtype": "float64",
                  "stats": {
                    "unique_count": 8,
                    "nan_count": 0,
                    "min": 28.54918972577728,
                    "max": 217089,
                    "histogram": [
                      {
                        "bin_start": 28.54918972577728,
                        "bin_end": 21734.5942707532,
                        "count": 7
                      },
                      {
                        "bin_start": 21734.5942707532,
                        "bin_end": 43440.63935178062,
                        "count": 0
                      },
                      {
                        "bin_start": 43440.63935178062,
                        "bin_end": 65146.68443280805,
                        "count": 0
                      },
                      {
                        "bin_start": 65146.68443280805,
                        "bin_end": 86852.72951383547,
                        "count": 0
                      },
                      {
                        "bin_start": 86852.72951383547,
                        "bin_end": 108558.77459486289,
                        "count": 0
                      },
                      {
                        "bin_start": 108558.77459486289,
                        "bin_end": 130264.81967589032,
                        "count": 0
                      },
                      {
                        "bin_start": 130264.81967589032,
                        "bin_end": 151970.86475691773,
                        "count": 0
                      },
                      {
                        "bin_start": 151970.86475691773,
                        "bin_end": 173676.90983794516,
                        "count": 0
                      },
                      {
                        "bin_start": 173676.90983794516,
                        "bin_end": 195382.9549189726,
                        "count": 0
                      },
                      {
                        "bin_start": 195382.9549189726,
                        "bin_end": 217089,
                        "count": 1
                      }
                    ]
                  }
                },
                {
                  "name": "effectiveyearbuilt",
                  "dtype": "float64",
                  "stats": {
                    "unique_count": 8,
                    "nan_count": 0,
                    "min": 22.249673394538213,
                    "max": 216122,
                    "histogram": [
                      {
                        "bin_start": 22.249673394538213,
                        "bin_end": 21632.224706055084,
                        "count": 7
                      },
                      {
                        "bin_start": 21632.224706055084,
                        "bin_end": 43242.19973871563,
                        "count": 0
                      },
                      {
                        "bin_start": 43242.19973871563,
                        "bin_end": 64852.17477137618,
                        "count": 0
                      },
                      {
                        "bin_start": 64852.17477137618,
                        "bin_end": 86462.14980403673,
                        "count": 0
                      },
                      {
                        "bin_start": 86462.14980403673,
                        "bin_end": 108072.12483669727,
                        "count": 0
                      },
                      {
                        "bin_start": 108072.12483669727,
                        "bin_end": 129682.09986935783,
                        "count": 0
                      },
                      {
                        "bin_start": 129682.09986935783,
                        "bin_end": 151292.07490201836,
                        "count": 0
                      },
                      {
                        "bin_start": 151292.07490201836,
                        "bin_end": 172902.04993467891,
                        "count": 0
                      },
                      {
                        "bin_start": 172902.04993467891,
                        "bin_end": 194512.02496733947,
                        "count": 0
                      },
                      {
                        "bin_start": 194512.02496733947,
                        "bin_end": 216122,
                        "count": 1
                      }
                    ]
                  }
                },
                {
                  "name": "bedrooms",
                  "dtype": "float64",
                  "stats": {
                    "unique_count": 7,
                    "nan_count": 0,
                    "min": 0,
                    "max": 217208,
                    "histogram": [
                      {
                        "bin_start": 0,
                        "bin_end": 21720.8,
                        "count": 7
                      },
                      {
                        "bin_start": 21720.8,
                        "bin_end": 43441.6,
                        "count": 0
                      },
                      {
                        "bin_start": 43441.6,
                        "bin_end": 65162.399999999994,
                        "count": 0
                      },
                      {
                        "bin_start": 65162.399999999994,
                        "bin_end": 86883.2,
                        "count": 0
                      },
                      {
                        "bin_start": 86883.2,
                        "bin_end": 108604,
                        "count": 0
                      },
                      {
                        "bin_start": 108604,
                        "bin_end": 130324.79999999999,
                        "count": 0
                      },
                      {
                        "bin_start": 130324.79999999999,
                        "bin_end": 152045.6,
                        "count": 0
                      },
                      {
                        "bin_start": 152045.6,
                        "bin_end": 173766.4,
                        "count": 0
                      },
                      {
                        "bin_start": 173766.4,
                        "bin_end": 195487.19999999998,
                        "count": 0
                      },
                      {
                        "bin_start": 195487.19999999998,
                        "bin_end": 217208,
                        "count": 1
                      }
                    ]
                  }
                },
                {
                  "name": "totalrooms",
                  "dtype": "float64",
                  "stats": {
                    "unique_count": 7,
                    "nan_count": 0,
                    "min": 0,
                    "max": 217208,
                    "histogram": [
                      {
                        "bin_start": 0,
                        "bin_end": 21720.8,
                        "count": 7
                      },
                      {
                        "bin_start": 21720.8,
                        "bin_end": 43441.6,
                        "count": 0
                      },
                      {
                        "bin_start": 43441.6,
                        "bin_end": 65162.399999999994,
                        "count": 0
                      },
                      {
                        "bin_start": 65162.399999999994,
                        "bin_end": 86883.2,
                        "count": 0
                      },
                      {
                        "bin_start": 86883.2,
                        "bin_end": 108604,
                        "count": 0
                      },
                      {
                        "bin_start": 108604,
                        "bin_end": 130324.79999999999,
                        "count": 0
                      },
                      {
                        "bin_start": 130324.79999999999,
                        "bin_end": 152045.6,
                        "count": 0
                      },
                      {
                        "bin_start": 152045.6,
                        "bin_end": 173766.4,
                        "count": 0
                      },
                      {
                        "bin_start": 173766.4,
                        "bin_end": 195487.19999999998,
                        "count": 0
                      },
                      {
                        "bin_start": 195487.19999999998,
                        "bin_end": 217208,
                        "count": 1
                      }
                    ]
                  }
                },
                {
                  "name": "bathtotalcalc",
                  "dtype": "float64",
                  "stats": {
                    "unique_count": 8,
                    "nan_count": 0,
                    "min": 0,
                    "max": 217208,
                    "histogram": [
                      {
                        "bin_start": 0,
                        "bin_end": 21720.8,
                        "count": 7
                      },
                      {
                        "bin_start": 21720.8,
                        "bin_end": 43441.6,
                        "count": 0
                      },
                      {
                        "bin_start": 43441.6,
                        "bin_end": 65162.399999999994,
                        "count": 0
                      },
                      {
                        "bin_start": 65162.399999999994,
                        "bin_end": 86883.2,
                        "count": 0
                      },
                      {
                        "bin_start": 86883.2,
                        "bin_end": 108604,
                        "count": 0
                      },
                      {
                        "bin_start": 108604,
                        "bin_end": 130324.79999999999,
                        "count": 0
                      },
                      {
                        "bin_start": 130324.79999999999,
                        "bin_end": 152045.6,
                        "count": 0
                      },
                      {
                        "bin_start": 152045.6,
                        "bin_end": 173766.4,
                        "count": 0
                      },
                      {
                        "bin_start": 173766.4,
                        "bin_end": 195487.19999999998,
                        "count": 0
                      },
                      {
                        "bin_start": 195487.19999999998,
                        "bin_end": 217208,
                        "count": 1
                      }
                    ]
                  }
                },
                {
                  "name": "bathfull",
                  "dtype": "float64",
                  "stats": {
                    "unique_count": 8,
                    "nan_count": 0,
                    "min": 0,
                    "max": 217208,
                    "histogram": [
                      {
                        "bin_start": 0,
                        "bin_end": 21720.8,
                        "count": 7
                      },
                      {
                        "bin_start": 21720.8,
                        "bin_end": 43441.6,
                        "count": 0
                      },
                      {
                        "bin_start": 43441.6,
                        "bin_end": 65162.399999999994,
                        "count": 0
                      },
                      {
                        "bin_start": 65162.399999999994,
                        "bin_end": 86883.2,
                        "count": 0
                      },
                      {
                        "bin_start": 86883.2,
                        "bin_end": 108604,
                        "count": 0
                      },
                      {
                        "bin_start": 108604,
                        "bin_end": 130324.79999999999,
                        "count": 0
                      },
                      {
                        "bin_start": 130324.79999999999,
                        "bin_end": 152045.6,
                        "count": 0
                      },
                      {
                        "bin_start": 152045.6,
                        "bin_end": 173766.4,
                        "count": 0
                      },
                      {
                        "bin_start": 173766.4,
                        "bin_end": 195487.19999999998,
                        "count": 0
                      },
                      {
                        "bin_start": 195487.19999999998,
                        "bin_end": 217208,
                        "count": 1
                      }
                    ]
                  }
                },
                {
                  "name": "bathsparcialnbr",
                  "dtype": "float64",
                  "stats": {
                    "unique_count": 6,
                    "nan_count": 0,
                    "min": 0,
                    "max": 217208,
                    "histogram": [
                      {
                        "bin_start": 0,
                        "bin_end": 21720.8,
                        "count": 7
                      },
                      {
                        "bin_start": 21720.8,
                        "bin_end": 43441.6,
                        "count": 0
                      },
                      {
                        "bin_start": 43441.6,
                        "bin_end": 65162.399999999994,
                        "count": 0
                      },
                      {
                        "bin_start": 65162.399999999994,
                        "bin_end": 86883.2,
                        "count": 0
                      },
                      {
                        "bin_start": 86883.2,
                        "bin_end": 108604,
                        "count": 0
                      },
                      {
                        "bin_start": 108604,
                        "bin_end": 130324.79999999999,
                        "count": 0
                      },
                      {
                        "bin_start": 130324.79999999999,
                        "bin_end": 152045.6,
                        "count": 0
                      },
                      {
                        "bin_start": 152045.6,
                        "bin_end": 173766.4,
                        "count": 0
                      },
                      {
                        "bin_start": 173766.4,
                        "bin_end": 195487.19999999998,
                        "count": 0
                      },
                      {
                        "bin_start": 195487.19999999998,
                        "bin_end": 217208,
                        "count": 1
                      }
                    ]
                  }
                },
                {
                  "name": "bathfixturesnbr",
                  "dtype": "float64",
                  "stats": {
                    "unique_count": 8,
                    "nan_count": 0,
                    "min": 0,
                    "max": 169129,
                    "histogram": [
                      {
                        "bin_start": 0,
                        "bin_end": 16912.9,
                        "count": 7
                      },
                      {
                        "bin_start": 16912.9,
                        "bin_end": 33825.8,
                        "count": 0
                      },
                      {
                        "bin_start": 33825.8,
                        "bin_end": 50738.700000000004,
                        "count": 0
                      },
                      {
                        "bin_start": 50738.700000000004,
                        "bin_end": 67651.6,
                        "count": 0
                      },
                      {
                        "bin_start": 67651.6,
                        "bin_end": 84564.5,
                        "count": 0
                      },
                      {
                        "bin_start": 84564.5,
                        "bin_end": 101477.40000000001,
                        "count": 0
                      },
                      {
                        "bin_start": 101477.40000000001,
                        "bin_end": 118390.30000000002,
                        "count": 0
                      },
                      {
                        "bin_start": 118390.30000000002,
                        "bin_end": 135303.2,
                        "count": 0
                      },
                      {
                        "bin_start": 135303.2,
                        "bin_end": 152216.1,
                        "count": 0
                      },
                      {
                        "bin_start": 152216.1,
                        "bin_end": 169129,
                        "count": 1
                      }
                    ]
                  }
                },
                {
                  "name": "airconditioningcode",
                  "dtype": "float64",
                  "stats": {
                    "unique_count": 6,
                    "nan_count": 0,
                    "min": 1,
                    "max": 140064,
                    "histogram": [
                      {
                        "bin_start": 1,
                        "bin_end": 14007.3,
                        "count": 7
                      },
                      {
                        "bin_start": 14007.3,
                        "bin_end": 28013.6,
                        "count": 0
                      },
                      {
                        "bin_start": 28013.6,
                        "bin_end": 42019.899999999994,
                        "count": 0
                      },
                      {
                        "bin_start": 42019.899999999994,
                        "bin_end": 56026.2,
                        "count": 0
                      },
                      {
                        "bin_start": 56026.2,
                        "bin_end": 70032.5,
                        "count": 0
                      },
                      {
                        "bin_start": 70032.5,
                        "bin_end": 84038.79999999999,
                        "count": 0
                      },
                      {
                        "bin_start": 84038.79999999999,
                        "bin_end": 98045.09999999999,
                        "count": 0
                      },
                      {
                        "bin_start": 98045.09999999999,
                        "bin_end": 112051.4,
                        "count": 0
                      },
                      {
                        "bin_start": 112051.4,
                        "bin_end": 126057.7,
                        "count": 0
                      },
                      {
                        "bin_start": 126057.7,
                        "bin_end": 140064,
                        "count": 1
                      }
                    ]
                  }
                },
                {
                  "name": "basementcode",
                  "dtype": "float64",
                  "stats": {
                    "unique_count": 8,
                    "nan_count": 0,
                    "min": 2,
                    "max": 167696,
                    "histogram": [
                      {
                        "bin_start": 2,
                        "bin_end": 16771.4,
                        "count": 7
                      },
                      {
                        "bin_start": 16771.4,
                        "bin_end": 33540.8,
                        "count": 0
                      },
                      {
                        "bin_start": 33540.8,
                        "bin_end": 50310.200000000004,
                        "count": 0
                      },
                      {
                        "bin_start": 50310.200000000004,
                        "bin_end": 67079.6,
                        "count": 0
                      },
                      {
                        "bin_start": 67079.6,
                        "bin_end": 83849,
                        "count": 0
                      },
                      {
                        "bin_start": 83849,
                        "bin_end": 100618.40000000001,
                        "count": 0
                      },
                      {
                        "bin_start": 100618.40000000001,
                        "bin_end": 117387.80000000002,
                        "count": 0
                      },
                      {
                        "bin_start": 117387.80000000002,
                        "bin_end": 134157.2,
                        "count": 0
                      },
                      {
                        "bin_start": 134157.2,
                        "bin_end": 150926.6,
                        "count": 0
                      },
                      {
                        "bin_start": 150926.6,
                        "bin_end": 167696,
                        "count": 1
                      }
                    ]
                  }
                },
                {
                  "name": "buildingconditioncode",
                  "dtype": "float64",
                  "stats": {
                    "unique_count": 6,
                    "nan_count": 0,
                    "min": 1,
                    "max": 206534,
                    "histogram": [
                      {
                        "bin_start": 1,
                        "bin_end": 20654.3,
                        "count": 7
                      },
                      {
                        "bin_start": 20654.3,
                        "bin_end": 41307.6,
                        "count": 0
                      },
                      {
                        "bin_start": 41307.6,
                        "bin_end": 61960.899999999994,
                        "count": 0
                      },
                      {
                        "bin_start": 61960.899999999994,
                        "bin_end": 82614.2,
                        "count": 0
                      },
                      {
                        "bin_start": 82614.2,
                        "bin_end": 103267.5,
                        "count": 0
                      },
                      {
                        "bin_start": 103267.5,
                        "bin_end": 123920.79999999999,
                        "count": 0
                      },
                      {
                        "bin_start": 123920.79999999999,
                        "bin_end": 144574.1,
                        "count": 0
                      },
                      {
                        "bin_start": 144574.1,
                        "bin_end": 165227.4,
                        "count": 0
                      },
                      {
                        "bin_start": 165227.4,
                        "bin_end": 185880.69999999998,
                        "count": 0
                      },
                      {
                        "bin_start": 185880.69999999998,
                        "bin_end": 206534,
                        "count": 1
                      }
                    ]
                  }
                },
                {
                  "name": "constructiontypecode",
                  "dtype": "float64",
                  "stats": {
                    "unique_count": 6,
                    "nan_count": 0,
                    "min": 2,
                    "max": 143619,
                    "histogram": [
                      {
                        "bin_start": 2,
                        "bin_end": 14363.7,
                        "count": 7
                      },
                      {
                        "bin_start": 14363.7,
                        "bin_end": 28725.4,
                        "count": 0
                      },
                      {
                        "bin_start": 28725.4,
                        "bin_end": 43087.100000000006,
                        "count": 0
                      },
                      {
                        "bin_start": 43087.100000000006,
                        "bin_end": 57448.8,
                        "count": 0
                      },
                      {
                        "bin_start": 57448.8,
                        "bin_end": 71810.5,
                        "count": 0
                      },
                      {
                        "bin_start": 71810.5,
                        "bin_end": 86172.20000000001,
                        "count": 0
                      },
                      {
                        "bin_start": 86172.20000000001,
                        "bin_end": 100533.90000000001,
                        "count": 0
                      },
                      {
                        "bin_start": 100533.90000000001,
                        "bin_end": 114895.6,
                        "count": 0
                      },
                      {
                        "bin_start": 114895.6,
                        "bin_end": 129257.3,
                        "count": 0
                      },
                      {
                        "bin_start": 129257.3,
                        "bin_end": 143619,
                        "count": 1
                      }
                    ]
                  }
                },
                {
                  "name": "exteriorwallscode",
                  "dtype": "float64",
                  "stats": {
                    "unique_count": 8,
                    "nan_count": 0,
                    "min": 1,
                    "max": 169463,
                    "histogram": [
                      {
                        "bin_start": 1,
                        "bin_end": 16947.2,
                        "count": 7
                      },
                      {
                        "bin_start": 16947.2,
                        "bin_end": 33893.4,
                        "count": 0
                      },
                      {
                        "bin_start": 33893.4,
                        "bin_end": 50839.600000000006,
                        "count": 0
                      },
                      {
                        "bin_start": 50839.600000000006,
                        "bin_end": 67785.8,
                        "count": 0
                      },
                      {
                        "bin_start": 67785.8,
                        "bin_end": 84732,
                        "count": 0
                      },
                      {
                        "bin_start": 84732,
                        "bin_end": 101678.20000000001,
                        "count": 0
                      },
                      {
                        "bin_start": 101678.20000000001,
                        "bin_end": 118624.40000000001,
                        "count": 0
                      },
                      {
                        "bin_start": 118624.40000000001,
                        "bin_end": 135570.6,
                        "count": 0
                      },
                      {
                        "bin_start": 135570.6,
                        "bin_end": 152516.80000000002,
                        "count": 0
                      },
                      {
                        "bin_start": 152516.80000000002,
                        "bin_end": 169463,
                        "count": 1
                      }
                    ]
                  }
                },
                {
                  "name": "interiorwallscode",
                  "dtype": "float64",
                  "stats": {
                    "unique_count": 5,
                    "nan_count": 0,
                    "min": 0.7482247817531772,
                    "max": 106587,
                    "histogram": [
                      {
                        "bin_start": 0.7482247817531772,
                        "bin_end": 10659.373402303578,
                        "count": 7
                      },
                      {
                        "bin_start": 10659.373402303578,
                        "bin_end": 21317.998579825402,
                        "count": 0
                      },
                      {
                        "bin_start": 21317.998579825402,
                        "bin_end": 31976.623757347224,
                        "count": 0
                      },
                      {
                        "bin_start": 31976.623757347224,
                        "bin_end": 42635.24893486905,
                        "count": 0
                      },
                      {
                        "bin_start": 42635.24893486905,
                        "bin_end": 53293.87411239088,
                        "count": 0
                      },
                      {
                        "bin_start": 53293.87411239088,
                        "bin_end": 63952.499289912696,
                        "count": 0
                      },
                      {
                        "bin_start": 63952.499289912696,
                        "bin_end": 74611.12446743452,
                        "count": 0
                      },
                      {
                        "bin_start": 74611.12446743452,
                        "bin_end": 85269.74964495635,
                        "count": 0
                      },
                      {
                        "bin_start": 85269.74964495635,
                        "bin_end": 95928.37482247817,
                        "count": 0
                      },
                      {
                        "bin_start": 95928.37482247817,
                        "bin_end": 106587,
                        "count": 1
                      }
                    ]
                  }
                },
                {
                  "name": "fireplacecode",
                  "dtype": "float64",
                  "stats": {
                    "unique_count": 5,
                    "nan_count": 0,
                    "min": 0.04428723640126145,
                    "max": 129412,
                    "histogram": [
                      {
                        "bin_start": 0.04428723640126145,
                        "bin_end": 12941.239858512761,
                        "count": 7
                      },
                      {
                        "bin_start": 12941.239858512761,
                        "bin_end": 25882.43542978912,
                        "count": 0
                      },
                      {
                        "bin_start": 25882.43542978912,
                        "bin_end": 38823.63100106548,
                        "count": 0
                      },
                      {
                        "bin_start": 38823.63100106548,
                        "bin_end": 51764.82657234184,
                        "count": 0
                      },
                      {
                        "bin_start": 51764.82657234184,
                        "bin_end": 64706.0221436182,
                        "count": 0
                      },
                      {
                        "bin_start": 64706.0221436182,
                        "bin_end": 77647.21771489456,
                        "count": 0
                      },
                      {
                        "bin_start": 77647.21771489456,
                        "bin_end": 90588.41328617092,
                        "count": 0
                      },
                      {
                        "bin_start": 90588.41328617092,
                        "bin_end": 103529.60885744728,
                        "count": 0
                      },
                      {
                        "bin_start": 103529.60885744728,
                        "bin_end": 116470.80442872364,
                        "count": 0
                      },
                      {
                        "bin_start": 116470.80442872364,
                        "bin_end": 129412,
                        "count": 1
                      }
                    ]
                  }
                },
                {
                  "name": "floorcovercode",
                  "dtype": "float64",
                  "stats": {
                    "unique_count": 6,
                    "nan_count": 0,
                    "min": 2,
                    "max": 30609,
                    "histogram": [
                      {
                        "bin_start": 2,
                        "bin_end": 3062.7,
                        "count": 7
                      },
                      {
                        "bin_start": 3062.7,
                        "bin_end": 6123.4,
                        "count": 0
                      },
                      {
                        "bin_start": 6123.4,
                        "bin_end": 9184.099999999999,
                        "count": 0
                      },
                      {
                        "bin_start": 9184.099999999999,
                        "bin_end": 12244.8,
                        "count": 0
                      },
                      {
                        "bin_start": 12244.8,
                        "bin_end": 15305.5,
                        "count": 0
                      },
                      {
                        "bin_start": 15305.5,
                        "bin_end": 18366.199999999997,
                        "count": 0
                      },
                      {
                        "bin_start": 18366.199999999997,
                        "bin_end": 21426.899999999998,
                        "count": 0
                      },
                      {
                        "bin_start": 21426.899999999998,
                        "bin_end": 24487.6,
                        "count": 0
                      },
                      {
                        "bin_start": 24487.6,
                        "bin_end": 27548.3,
                        "count": 0
                      },
                      {
                        "bin_start": 27548.3,
                        "bin_end": 30609,
                        "count": 1
                      }
                    ]
                  }
                },
                {
                  "name": "garage",
                  "dtype": "float64",
                  "stats": {
                    "unique_count": 7,
                    "nan_count": 0,
                    "min": 1,
                    "max": 188856,
                    "histogram": [
                      {
                        "bin_start": 1,
                        "bin_end": 18886.5,
                        "count": 7
                      },
                      {
                        "bin_start": 18886.5,
                        "bin_end": 37772,
                        "count": 0
                      },
                      {
                        "bin_start": 37772,
                        "bin_end": 56657.5,
                        "count": 0
                      },
                      {
                        "bin_start": 56657.5,
                        "bin_end": 75543,
                        "count": 0
                      },
                      {
                        "bin_start": 75543,
                        "bin_end": 94428.5,
                        "count": 0
                      },
                      {
                        "bin_start": 94428.5,
                        "bin_end": 113314,
                        "count": 0
                      },
                      {
                        "bin_start": 113314,
                        "bin_end": 132199.5,
                        "count": 0
                      },
                      {
                        "bin_start": 132199.5,
                        "bin_end": 151085,
                        "count": 0
                      },
                      {
                        "bin_start": 151085,
                        "bin_end": 169970.5,
                        "count": 0
                      },
                      {
                        "bin_start": 169970.5,
                        "bin_end": 188856,
                        "count": 1
                      }
                    ]
                  }
                },
                {
                  "name": "heatcode",
                  "dtype": "float64",
                  "stats": {
                    "unique_count": 6,
                    "nan_count": 0,
                    "min": 1,
                    "max": 204558,
                    "histogram": [
                      {
                        "bin_start": 1,
                        "bin_end": 20456.7,
                        "count": 7
                      },
                      {
                        "bin_start": 20456.7,
                        "bin_end": 40912.4,
                        "count": 0
                      },
                      {
                        "bin_start": 40912.4,
                        "bin_end": 61368.100000000006,
                        "count": 0
                      },
                      {
                        "bin_start": 61368.100000000006,
                        "bin_end": 81823.8,
                        "count": 0
                      },
                      {
                        "bin_start": 81823.8,
                        "bin_end": 102279.5,
                        "count": 0
                      },
                      {
                        "bin_start": 102279.5,
                        "bin_end": 122735.20000000001,
                        "count": 0
                      },
                      {
                        "bin_start": 122735.20000000001,
                        "bin_end": 143190.9,
                        "count": 0
                      },
                      {
                        "bin_start": 143190.9,
                        "bin_end": 163646.6,
                        "count": 0
                      },
                      {
                        "bin_start": 163646.6,
                        "bin_end": 184102.30000000002,
                        "count": 0
                      },
                      {
                        "bin_start": 184102.30000000002,
                        "bin_end": 204558,
                        "count": 1
                      }
                    ]
                  }
                },
                {
                  "name": "heatingfueltypecode",
                  "dtype": "float64",
                  "stats": {
                    "unique_count": 6,
                    "nan_count": 0,
                    "min": 0.503795705907868,
                    "max": 104747,
                    "histogram": [
                      {
                        "bin_start": 0.503795705907868,
                        "bin_end": 10475.153416135317,
                        "count": 7
                      },
                      {
                        "bin_start": 10475.153416135317,
                        "bin_end": 20949.803036564725,
                        "count": 0
                      },
                      {
                        "bin_start": 20949.803036564725,
                        "bin_end": 31424.452656994134,
                        "count": 0
                      },
                      {
                        "bin_start": 31424.452656994134,
                        "bin_end": 41899.102277423546,
                        "count": 0
                      },
                      {
                        "bin_start": 41899.102277423546,
                        "bin_end": 52373.751897852955,
                        "count": 0
                      },
                      {
                        "bin_start": 52373.751897852955,
                        "bin_end": 62848.401518282364,
                        "count": 0
                      },
                      {
                        "bin_start": 62848.401518282364,
                        "bin_end": 73323.05113871177,
                        "count": 0
                      },
                      {
                        "bin_start": 73323.05113871177,
                        "bin_end": 83797.70075914118,
                        "count": 0
                      },
                      {
                        "bin_start": 83797.70075914118,
                        "bin_end": 94272.35037957059,
                        "count": 0
                      },
                      {
                        "bin_start": 94272.35037957059,
                        "bin_end": 104747,
                        "count": 1
                      }
                    ]
                  }
                },
                {
                  "name": "garageparkingnbr",
                  "dtype": "float64",
                  "stats": {
                    "unique_count": 7,
                    "nan_count": 0,
                    "min": 0,
                    "max": 217208,
                    "histogram": [
                      {
                        "bin_start": 0,
                        "bin_end": 21720.8,
                        "count": 7
                      },
                      {
                        "bin_start": 21720.8,
                        "bin_end": 43441.6,
                        "count": 0
                      },
                      {
                        "bin_start": 43441.6,
                        "bin_end": 65162.399999999994,
                        "count": 0
                      },
                      {
                        "bin_start": 65162.399999999994,
                        "bin_end": 86883.2,
                        "count": 0
                      },
                      {
                        "bin_start": 86883.2,
                        "bin_end": 108604,
                        "count": 0
                      },
                      {
                        "bin_start": 108604,
                        "bin_end": 130324.79999999999,
                        "count": 0
                      },
                      {
                        "bin_start": 130324.79999999999,
                        "bin_end": 152045.6,
                        "count": 0
                      },
                      {
                        "bin_start": 152045.6,
                        "bin_end": 173766.4,
                        "count": 0
                      },
                      {
                        "bin_start": 173766.4,
                        "bin_end": 195487.19999999998,
                        "count": 0
                      },
                      {
                        "bin_start": 195487.19999999998,
                        "bin_end": 217208,
                        "count": 1
                      }
                    ]
                  }
                },
                {
                  "name": "drivewaycode",
                  "dtype": "float64",
                  "stats": {
                    "unique_count": 3,
                    "nan_count": 0,
                    "min": 0,
                    "max": 29526,
                    "histogram": [
                      {
                        "bin_start": 0,
                        "bin_end": 2952.6,
                        "count": 7
                      },
                      {
                        "bin_start": 2952.6,
                        "bin_end": 5905.2,
                        "count": 0
                      },
                      {
                        "bin_start": 5905.2,
                        "bin_end": 8857.8,
                        "count": 0
                      },
                      {
                        "bin_start": 8857.8,
                        "bin_end": 11810.4,
                        "count": 0
                      },
                      {
                        "bin_start": 11810.4,
                        "bin_end": 14763,
                        "count": 0
                      },
                      {
                        "bin_start": 14763,
                        "bin_end": 17715.6,
                        "count": 0
                      },
                      {
                        "bin_start": 17715.6,
                        "bin_end": 20668.2,
                        "count": 0
                      },
                      {
                        "bin_start": 20668.2,
                        "bin_end": 23620.8,
                        "count": 0
                      },
                      {
                        "bin_start": 23620.8,
                        "bin_end": 26573.399999999998,
                        "count": 0
                      },
                      {
                        "bin_start": 26573.399999999998,
                        "bin_end": 29526,
                        "count": 1
                      }
                    ]
                  }
                },
                {
                  "name": "patiocode",
                  "dtype": "float64",
                  "stats": {
                    "unique_count": 3,
                    "nan_count": 0,
                    "min": 0,
                    "max": 22841,
                    "histogram": [
                      {
                        "bin_start": 0,
                        "bin_end": 2284.1,
                        "count": 7
                      },
                      {
                        "bin_start": 2284.1,
                        "bin_end": 4568.2,
                        "count": 0
                      },
                      {
                        "bin_start": 4568.2,
                        "bin_end": 6852.299999999999,
                        "count": 0
                      },
                      {
                        "bin_start": 6852.299999999999,
                        "bin_end": 9136.4,
                        "count": 0
                      },
                      {
                        "bin_start": 9136.4,
                        "bin_end": 11420.5,
                        "count": 0
                      },
                      {
                        "bin_start": 11420.5,
                        "bin_end": 13704.599999999999,
                        "count": 0
                      },
                      {
                        "bin_start": 13704.599999999999,
                        "bin_end": 15988.699999999999,
                        "count": 0
                      },
                      {
                        "bin_start": 15988.699999999999,
                        "bin_end": 18272.8,
                        "count": 0
                      },
                      {
                        "bin_start": 18272.8,
                        "bin_end": 20556.899999999998,
                        "count": 0
                      },
                      {
                        "bin_start": 20556.899999999998,
                        "bin_end": 22841,
                        "count": 1
                      }
                    ]
                  }
                },
                {
                  "name": "poolcode",
                  "dtype": "float64",
                  "stats": {
                    "unique_count": 6,
                    "nan_count": 0,
                    "min": 0.8412962477862906,
                    "max": 11248,
                    "histogram": [
                      {
                        "bin_start": 0.8412962477862906,
                        "bin_end": 1125.5571666230076,
                        "count": 7
                      },
                      {
                        "bin_start": 1125.5571666230076,
                        "bin_end": 2250.273036998229,
                        "count": 0
                      },
                      {
                        "bin_start": 2250.273036998229,
                        "bin_end": 3374.9889073734507,
                        "count": 0
                      },
                      {
                        "bin_start": 3374.9889073734507,
                        "bin_end": 4499.704777748671,
                        "count": 0
                      },
                      {
                        "bin_start": 4499.704777748671,
                        "bin_end": 5624.4206481238925,
                        "count": 0
                      },
                      {
                        "bin_start": 5624.4206481238925,
                        "bin_end": 6749.136518499115,
                        "count": 0
                      },
                      {
                        "bin_start": 6749.136518499115,
                        "bin_end": 7873.852388874336,
                        "count": 0
                      },
                      {
                        "bin_start": 7873.852388874336,
                        "bin_end": 8998.568259249558,
                        "count": 0
                      },
                      {
                        "bin_start": 8998.568259249558,
                        "bin_end": 10123.284129624779,
                        "count": 0
                      },
                      {
                        "bin_start": 10123.284129624779,
                        "bin_end": 11248,
                        "count": 1
                      }
                    ]
                  }
                },
                {
                  "name": "porchcode",
                  "dtype": "float64",
                  "stats": {
                    "unique_count": 6,
                    "nan_count": 0,
                    "min": 0.9467140475054671,
                    "max": 90661,
                    "histogram": [
                      {
                        "bin_start": 0.9467140475054671,
                        "bin_end": 9066.952042642755,
                        "count": 7
                      },
                      {
                        "bin_start": 9066.952042642755,
                        "bin_end": 18132.957371238004,
                        "count": 0
                      },
                      {
                        "bin_start": 18132.957371238004,
                        "bin_end": 27198.962699833253,
                        "count": 0
                      },
                      {
                        "bin_start": 27198.962699833253,
                        "bin_end": 36264.9680284285,
                        "count": 0
                      },
                      {
                        "bin_start": 36264.9680284285,
                        "bin_end": 45330.973357023744,
                        "count": 0
                      },
                      {
                        "bin_start": 45330.973357023744,
                        "bin_end": 54396.978685619,
                        "count": 0
                      },
                      {
                        "bin_start": 54396.978685619,
                        "bin_end": 63462.98401421425,
                        "count": 0
                      },
                      {
                        "bin_start": 63462.98401421425,
                        "bin_end": 72528.9893428095,
                        "count": 0
                      },
                      {
                        "bin_start": 72528.9893428095,
                        "bin_end": 81594.99467140474,
                        "count": 0
                      },
                      {
                        "bin_start": 81594.99467140474,
                        "bin_end": 90661,
                        "count": 1
                      }
                    ]
                  }
                },
                {
                  "name": "buildingqualitycode",
                  "dtype": "float64",
                  "stats": {
                    "unique_count": 7,
                    "nan_count": 0,
                    "min": 1,
                    "max": 152787,
                    "histogram": [
                      {
                        "bin_start": 1,
                        "bin_end": 15279.6,
                        "count": 7
                      },
                      {
                        "bin_start": 15279.6,
                        "bin_end": 30558.2,
                        "count": 0
                      },
                      {
                        "bin_start": 30558.2,
                        "bin_end": 45836.8,
                        "count": 0
                      },
                      {
                        "bin_start": 45836.8,
                        "bin_end": 61115.4,
                        "count": 0
                      },
                      {
                        "bin_start": 61115.4,
                        "bin_end": 76394,
                        "count": 0
                      },
                      {
                        "bin_start": 76394,
                        "bin_end": 91672.6,
                        "count": 0
                      },
                      {
                        "bin_start": 91672.6,
                        "bin_end": 106951.2,
                        "count": 0
                      },
                      {
                        "bin_start": 106951.2,
                        "bin_end": 122229.8,
                        "count": 0
                      },
                      {
                        "bin_start": 122229.8,
                        "bin_end": 137508.4,
                        "count": 0
                      },
                      {
                        "bin_start": 137508.4,
                        "bin_end": 152787,
                        "count": 1
                      }
                    ]
                  }
                },
                {
                  "name": "roofcovercode",
                  "dtype": "float64",
                  "stats": {
                    "unique_count": 6,
                    "nan_count": 0,
                    "min": 2,
                    "max": 119527,
                    "histogram": [
                      {
                        "bin_start": 2,
                        "bin_end": 11954.5,
                        "count": 7
                      },
                      {
                        "bin_start": 11954.5,
                        "bin_end": 23907,
                        "count": 0
                      },
                      {
                        "bin_start": 23907,
                        "bin_end": 35859.5,
                        "count": 0
                      },
                      {
                        "bin_start": 35859.5,
                        "bin_end": 47812,
                        "count": 0
                      },
                      {
                        "bin_start": 47812,
                        "bin_end": 59764.5,
                        "count": 0
                      },
                      {
                        "bin_start": 59764.5,
                        "bin_end": 71717,
                        "count": 0
                      },
                      {
                        "bin_start": 71717,
                        "bin_end": 83669.5,
                        "count": 0
                      },
                      {
                        "bin_start": 83669.5,
                        "bin_end": 95622,
                        "count": 0
                      },
                      {
                        "bin_start": 95622,
                        "bin_end": 107574.5,
                        "count": 0
                      },
                      {
                        "bin_start": 107574.5,
                        "bin_end": 119527,
                        "count": 1
                      }
                    ]
                  }
                },
                {
                  "name": "rooftypecode",
                  "dtype": "float64",
                  "stats": {
                    "unique_count": 7,
                    "nan_count": 0,
                    "min": 1,
                    "max": 103572,
                    "histogram": [
                      {
                        "bin_start": 1,
                        "bin_end": 10358.1,
                        "count": 7
                      },
                      {
                        "bin_start": 10358.1,
                        "bin_end": 20715.2,
                        "count": 0
                      },
                      {
                        "bin_start": 20715.2,
                        "bin_end": 31072.300000000003,
                        "count": 0
                      },
                      {
                        "bin_start": 31072.300000000003,
                        "bin_end": 41429.4,
                        "count": 0
                      },
                      {
                        "bin_start": 41429.4,
                        "bin_end": 51786.5,
                        "count": 0
                      },
                      {
                        "bin_start": 51786.5,
                        "bin_end": 62143.600000000006,
                        "count": 0
                      },
                      {
                        "bin_start": 62143.600000000006,
                        "bin_end": 72500.7,
                        "count": 0
                      },
                      {
                        "bin_start": 72500.7,
                        "bin_end": 82857.8,
                        "count": 0
                      },
                      {
                        "bin_start": 82857.8,
                        "bin_end": 93214.90000000001,
                        "count": 0
                      },
                      {
                        "bin_start": 93214.90000000001,
                        "bin_end": 103572,
                        "count": 1
                      }
                    ]
                  }
                },
                {
                  "name": "storiesnbrcode",
                  "dtype": "float64",
                  "stats": {
                    "unique_count": 6,
                    "nan_count": 0,
                    "min": 59.94117615658502,
                    "max": 203538,
                    "histogram": [
                      {
                        "bin_start": 59.94117615658502,
                        "bin_end": 20407.74705854093,
                        "count": 7
                      },
                      {
                        "bin_start": 20407.74705854093,
                        "bin_end": 40755.55294092527,
                        "count": 0
                      },
                      {
                        "bin_start": 40755.55294092527,
                        "bin_end": 61103.35882330961,
                        "count": 0
                      },
                      {
                        "bin_start": 61103.35882330961,
                        "bin_end": 81451.16470569395,
                        "count": 0
                      },
                      {
                        "bin_start": 81451.16470569395,
                        "bin_end": 101798.9705880783,
                        "count": 0
                      },
                      {
                        "bin_start": 101798.9705880783,
                        "bin_end": 122146.77647046263,
                        "count": 0
                      },
                      {
                        "bin_start": 122146.77647046263,
                        "bin_end": 142494.58235284698,
                        "count": 0
                      },
                      {
                        "bin_start": 142494.58235284698,
                        "bin_end": 162842.3882352313,
                        "count": 0
                      },
                      {
                        "bin_start": 162842.3882352313,
                        "bin_end": 183190.19411761564,
                        "count": 0
                      },
                      {
                        "bin_start": 183190.19411761564,
                        "bin_end": 203538,
                        "count": 1
                      }
                    ]
                  }
                },
                {
                  "name": "stylecode",
                  "dtype": "float64",
                  "stats": {
                    "unique_count": 8,
                    "nan_count": 0,
                    "min": 1,
                    "max": 126749,
                    "histogram": [
                      {
                        "bin_start": 1,
                        "bin_end": 12675.8,
                        "count": 7
                      },
                      {
                        "bin_start": 12675.8,
                        "bin_end": 25350.6,
                        "count": 0
                      },
                      {
                        "bin_start": 25350.6,
                        "bin_end": 38025.399999999994,
                        "count": 0
                      },
                      {
                        "bin_start": 38025.399999999994,
                        "bin_end": 50700.2,
                        "count": 0
                      },
                      {
                        "bin_start": 50700.2,
                        "bin_end": 63375,
                        "count": 0
                      },
                      {
                        "bin_start": 63375,
                        "bin_end": 76049.79999999999,
                        "count": 0
                      },
                      {
                        "bin_start": 76049.79999999999,
                        "bin_end": 88724.59999999999,
                        "count": 0
                      },
                      {
                        "bin_start": 88724.59999999999,
                        "bin_end": 101399.4,
                        "count": 0
                      },
                      {
                        "bin_start": 101399.4,
                        "bin_end": 114074.2,
                        "count": 0
                      },
                      {
                        "bin_start": 114074.2,
                        "bin_end": 126749,
                        "count": 1
                      }
                    ]
                  }
                },
                {
                  "name": "sumresidentialunits",
                  "dtype": "float64",
                  "stats": {
                    "unique_count": 6,
                    "nan_count": 0,
                    "min": 0,
                    "max": 217208,
                    "histogram": [
                      {
                        "bin_start": 0,
                        "bin_end": 21720.8,
                        "count": 7
                      },
                      {
                        "bin_start": 21720.8,
                        "bin_end": 43441.6,
                        "count": 0
                      },
                      {
                        "bin_start": 43441.6,
                        "bin_end": 65162.399999999994,
                        "count": 0
                      },
                      {
                        "bin_start": 65162.399999999994,
                        "bin_end": 86883.2,
                        "count": 0
                      },
                      {
                        "bin_start": 86883.2,
                        "bin_end": 108604,
                        "count": 0
                      },
                      {
                        "bin_start": 108604,
                        "bin_end": 130324.79999999999,
                        "count": 0
                      },
                      {
                        "bin_start": 130324.79999999999,
                        "bin_end": 152045.6,
                        "count": 0
                      },
                      {
                        "bin_start": 152045.6,
                        "bin_end": 173766.4,
                        "count": 0
                      },
                      {
                        "bin_start": 173766.4,
                        "bin_end": 195487.19999999998,
                        "count": 0
                      },
                      {
                        "bin_start": 195487.19999999998,
                        "bin_end": 217208,
                        "count": 1
                      }
                    ]
                  }
                },
                {
                  "name": "sumbuildingsnbr",
                  "dtype": "float64",
                  "stats": {
                    "unique_count": 5,
                    "nan_count": 0,
                    "min": 0,
                    "max": 217208,
                    "histogram": [
                      {
                        "bin_start": 0,
                        "bin_end": 21720.8,
                        "count": 7
                      },
                      {
                        "bin_start": 21720.8,
                        "bin_end": 43441.6,
                        "count": 0
                      },
                      {
                        "bin_start": 43441.6,
                        "bin_end": 65162.399999999994,
                        "count": 0
                      },
                      {
                        "bin_start": 65162.399999999994,
                        "bin_end": 86883.2,
                        "count": 0
                      },
                      {
                        "bin_start": 86883.2,
                        "bin_end": 108604,
                        "count": 0
                      },
                      {
                        "bin_start": 108604,
                        "bin_end": 130324.79999999999,
                        "count": 0
                      },
                      {
                        "bin_start": 130324.79999999999,
                        "bin_end": 152045.6,
                        "count": 0
                      },
                      {
                        "bin_start": 152045.6,
                        "bin_end": 173766.4,
                        "count": 0
                      },
                      {
                        "bin_start": 173766.4,
                        "bin_end": 195487.19999999998,
                        "count": 0
                      },
                      {
                        "bin_start": 195487.19999999998,
                        "bin_end": 217208,
                        "count": 1
                      }
                    ]
                  }
                },
                {
                  "name": "ct_key",
                  "dtype": "float64",
                  "stats": {
                    "unique_count": 8,
                    "nan_count": 0,
                    "min": 217206,
                    "max": 8123002502,
                    "histogram": [
                      {
                        "bin_start": 217206,
                        "bin_end": 812495735.6,
                        "count": 2
                      },
                      {
                        "bin_start": 812495735.6,
                        "bin_end": 1624774265.2,
                        "count": 0
                      },
                      {
                        "bin_start": 1624774265.2,
                        "bin_end": 2437052794.8,
                        "count": 0
                      },
                      {
                        "bin_start": 2437052794.8,
                        "bin_end": 3249331324.4,
                        "count": 0
                      },
                      {
                        "bin_start": 3249331324.4,
                        "bin_end": 4061609854,
                        "count": 0
                      },
                      {
                        "bin_start": 4061609854,
                        "bin_end": 4873888383.6,
                        "count": 0
                      },
                      {
                        "bin_start": 4873888383.6,
                        "bin_end": 5686166913.2,
                        "count": 0
                      },
                      {
                        "bin_start": 5686166913.2,
                        "bin_end": 6498445442.8,
                        "count": 0
                      },
                      {
                        "bin_start": 6498445442.8,
                        "bin_end": 7310723972.400001,
                        "count": 0
                      },
                      {
                        "bin_start": 7310723972.400001,
                        "bin_end": 8123002502,
                        "count": 6
                      }
                    ]
                  }
                },
                {
                  "name": "cc_property_id",
                  "dtype": "float64",
                  "stats": {
                    "unique_count": 8,
                    "nan_count": 0,
                    "min": 24766,
                    "max": 728492712,
                    "histogram": [
                      {
                        "bin_start": 24766,
                        "bin_end": 72871560.6,
                        "count": 2
                      },
                      {
                        "bin_start": 72871560.6,
                        "bin_end": 145718355.2,
                        "count": 2
                      },
                      {
                        "bin_start": 145718355.2,
                        "bin_end": 218565149.79999998,
                        "count": 1
                      },
                      {
                        "bin_start": 218565149.79999998,
                        "bin_end": 291411944.4,
                        "count": 1
                      },
                      {
                        "bin_start": 291411944.4,
                        "bin_end": 364258739,
                        "count": 0
                      },
                      {
                        "bin_start": 364258739,
                        "bin_end": 437105533.59999996,
                        "count": 1
                      },
                      {
                        "bin_start": 437105533.59999996,
                        "bin_end": 509952328.1999999,
                        "count": 0
                      },
                      {
                        "bin_start": 509952328.1999999,
                        "bin_end": 582799122.8,
                        "count": 0
                      },
                      {
                        "bin_start": 582799122.8,
                        "bin_end": 655645917.4,
                        "count": 0
                      },
                      {
                        "bin_start": 655645917.4,
                        "bin_end": 728492712,
                        "count": 1
                      }
                    ]
                  }
                },
                {
                  "name": "_deepnote_index_column",
                  "dtype": "object"
                }
              ],
              "rows_top": [
                {
                  "rex_property_id": 217208,
                  "random_property_id": 217208,
                  "zipcode": 217208,
                  "fips": 217208,
                  "situsstdzip5": 217208,
                  "situsstdzip4": 216901,
                  "situslatitude": 217208,
                  "situslongitude": 217208,
                  "stdlandusecode": 217208,
                  "statelandusecode": 41917,
                  "situscensustract": 212093,
                  "lotsizefrontagefeet": 36502,
                  "lotsizedepthfeet": 217208,
                  "lotsizeacres": 217208,
                  "lotsizesqft": 217208,
                  "mailingstdzip4": 216808,
                  "assdtotalvalue": 217208,
                  "assdlandvalue": 217208,
                  "assdimprovementvalue": 217208,
                  "markettotalvalue": 217208,
                  "marketvalueland": 217208,
                  "marketvalueimprovement": 217208,
                  "taxamount": 217127,
                  "taxyear": 217208,
                  "taxdeliquentyear1": 23721,
                  "assdyear": 217208,
                  "buildingarea": 217208,
                  "sumbuildingsqft": 217208,
                  "sumlivingareasqft": 216978,
                  "sumgrossareasqft": 106337,
                  "sumadjareasqft": 149639,
                  "sumbasementsqft": 143112,
                  "sumgaragesqft": 172793,
                  "yearbuilt": 217089,
                  "effectiveyearbuilt": 216122,
                  "bedrooms": 217208,
                  "totalrooms": 217208,
                  "bathtotalcalc": 217208,
                  "bathfull": 217208,
                  "bathsparcialnbr": 217208,
                  "bathfixturesnbr": 169129,
                  "airconditioningcode": 140064,
                  "basementcode": 167696,
                  "buildingconditioncode": 206534,
                  "constructiontypecode": 143619,
                  "exteriorwallscode": 169463,
                  "interiorwallscode": 106587,
                  "fireplacecode": 129412,
                  "floorcovercode": 30609,
                  "garage": 188856,
                  "heatcode": 204558,
                  "heatingfueltypecode": 104747,
                  "garageparkingnbr": 217208,
                  "drivewaycode": 29526,
                  "patiocode": 22841,
                  "poolcode": 11248,
                  "porchcode": 90661,
                  "buildingqualitycode": 152787,
                  "roofcovercode": 119527,
                  "rooftypecode": 103572,
                  "storiesnbrcode": 203538,
                  "stylecode": 126749,
                  "sumresidentialunits": 217208,
                  "sumbuildingsnbr": 217208,
                  "ct_key": 217206,
                  "cc_property_id": 217208,
                  "_deepnote_index_column": "count"
                },
                {
                  "rex_property_id": 199230821.00329638,
                  "random_property_id": 35250829.77498527,
                  "zipcode": 80175.44126827741,
                  "fips": 8028.864940517845,
                  "situsstdzip5": 80175.44126827741,
                  "situsstdzip4": 4550.044591772284,
                  "situslatitude": 39.703207520556326,
                  "situslongitude": -104.94858688694248,
                  "stdlandusecode": 1002.2300513793231,
                  "statelandusecode": 1135.756494978171,
                  "situscensustract": 21062.133837514673,
                  "lotsizefrontagefeet": 821.1793874308257,
                  "lotsizedepthfeet": 183.92814260984863,
                  "lotsizeacres": 6073.763622886818,
                  "lotsizesqft": 53399.5891541748,
                  "mailingstdzip4": 4538.8078069074945,
                  "assdtotalvalue": 33214.23228886597,
                  "assdlandvalue": 7649.973988066738,
                  "assdimprovementvalue": 18967.70110216935,
                  "markettotalvalue": 461942.6787779456,
                  "marketvalueland": 135649.6275781739,
                  "marketvalueimprovement": 326293.05119977164,
                  "taxamount": 14005.640717183953,
                  "taxyear": 2018.9914275717285,
                  "taxdeliquentyear1": 1938.3127186880822,
                  "assdyear": 2019.138728776104,
                  "buildingarea": 1727.2806848734854,
                  "sumbuildingsqft": 1728.0773958601892,
                  "sumlivingareasqft": 2081.59612495276,
                  "sumgrossareasqft": 2012.7378428956995,
                  "sumadjareasqft": 2464.027820287492,
                  "sumbasementsqft": 1063.437091229247,
                  "sumgaragesqft": 502.12255126075706,
                  "yearbuilt": 1982.0506658559393,
                  "effectiveyearbuilt": 1995.0992402439363,
                  "bedrooms": 3.3121938418474457,
                  "totalrooms": 5.727855327612243,
                  "bathtotalcalc": 2.5667942709292477,
                  "bathfull": 2.3598808515340135,
                  "bathsparcialnbr": 0.3674588412949799,
                  "bathfixturesnbr": 7.5641610841428735,
                  "airconditioningcode": 2.019441112634224,
                  "basementcode": 5.267054670355882,
                  "buildingconditioncode": 5.088769887766663,
                  "constructiontypecode": 5.990809015520231,
                  "exteriorwallscode": 15.297079598496428,
                  "interiorwallscode": 3.085920421815043,
                  "fireplacecode": 1.0011745433190122,
                  "floorcovercode": 7.034957038779444,
                  "garage": 4.119381962977083,
                  "heatcode": 4.395912161831852,
                  "heatingfueltypecode": 3.0113129731639092,
                  "garageparkingnbr": 1.5530827593827115,
                  "drivewaycode": 1,
                  "patiocode": 20,
                  "poolcode": 8.539562588904694,
                  "porchcode": 7.130475066456359,
                  "buildingqualitycode": 6.60327122071904,
                  "roofcovercode": 4.983225547365867,
                  "rooftypecode": 4.124869655891554,
                  "storiesnbrcode": 157.4354665959182,
                  "stylecode": 24.544769583980937,
                  "sumresidentialunits": 15.760059482155354,
                  "sumbuildingsnbr": 0.21594968877757725,
                  "ct_key": 8028912693.439454,
                  "cc_property_id": 256638514.9101276,
                  "_deepnote_index_column": "mean"
                },
                {
                  "rex_property_id": 97406836.99671142,
                  "random_property_id": 38670716.83346629,
                  "zipcode": 147.83598526000918,
                  "fips": 23.500297992604526,
                  "situsstdzip5": 147.83598526000918,
                  "situsstdzip4": 2319.636993743171,
                  "situslatitude": 0.19840641122010336,
                  "situslongitude": 0.3521483137557108,
                  "stdlandusecode": 34.51515911181144,
                  "statelandusecode": 275.34108620033794,
                  "situscensustract": 60998.138062171114,
                  "lotsizefrontagefeet": 24853.94510494278,
                  "lotsizedepthfeet": 531.6462497319799,
                  "lotsizeacres": 420963.4866367643,
                  "lotsizesqft": 2731757.4291104297,
                  "mailingstdzip4": 2347.0119403079743,
                  "assdtotalvalue": 22844.42120224543,
                  "assdlandvalue": 9988.816624096466,
                  "assdimprovementvalue": 17333.488063704805,
                  "markettotalvalue": 309483.0667152794,
                  "marketvalueland": 151022.34333496413,
                  "marketvalueimprovement": 218743.37083423018,
                  "taxamount": 162982.74873490116,
                  "taxyear": 0.1549649464256359,
                  "taxdeliquentyear1": 287.94538609468935,
                  "assdyear": 0.38676087175905366,
                  "buildingarea": 932.7165363546105,
                  "sumbuildingsqft": 934.2312785543559,
                  "sumlivingareasqft": 1183.5006502751578,
                  "sumgrossareasqft": 1550.397122198827,
                  "sumadjareasqft": 1390.5489145751742,
                  "sumbasementsqft": 596.9266815342139,
                  "sumgaragesqft": 222.63516280820448,
                  "yearbuilt": 28.54918972577728,
                  "effectiveyearbuilt": 22.249673394538213,
                  "bedrooms": 1.2292293591842334,
                  "totalrooms": 5.009097316302737,
                  "bathtotalcalc": 1.1441365679380007,
                  "bathfull": 1.1945153313515038,
                  "bathsparcialnbr": 0.5345531875103569,
                  "bathfixturesnbr": 5.777353075515698,
                  "airconditioningcode": 1.8402226523429452,
                  "basementcode": 2.391750413755459,
                  "buildingconditioncode": 1.4264083983125564,
                  "constructiontypecode": 2.0112965306871677,
                  "exteriorwallscode": 6.8637090275645996,
                  "interiorwallscode": 0.7482247817531772,
                  "fireplacecode": 0.04428723640126145,
                  "floorcovercode": 5.578927440777232,
                  "garage": 3.410802386890096,
                  "heatcode": 2.283441037670944,
                  "heatingfueltypecode": 0.503795705907868,
                  "garageparkingnbr": 1.0867435107338144,
                  "drivewaycode": 0,
                  "patiocode": 0,
                  "poolcode": 0.8412962477862906,
                  "porchcode": 0.9467140475054671,
                  "buildingqualitycode": 2.0569581187620427,
                  "roofcovercode": 4.599573665159677,
                  "rooftypecode": 3.066604240651592,
                  "storiesnbrcode": 59.94117615658502,
                  "stylecode": 12.23375887818669,
                  "sumresidentialunits": 178.56352612269956,
                  "sumbuildingsnbr": 3.980541847783276,
                  "ct_key": 23584920.66926653,
                  "cc_property_id": 171975901.9312122,
                  "_deepnote_index_column": "std"
                },
                {
                  "rex_property_id": 63440236,
                  "random_property_id": 22298326,
                  "zipcode": 80002,
                  "fips": 8001,
                  "situsstdzip5": 80002,
                  "situsstdzip4": 16,
                  "situslatitude": 0,
                  "situslongitude": -105.579031,
                  "stdlandusecode": 10,
                  "statelandusecode": 100,
                  "situscensustract": 102,
                  "lotsizefrontagefeet": 0,
                  "lotsizedepthfeet": 0,
                  "lotsizeacres": 0,
                  "lotsizesqft": 0,
                  "mailingstdzip4": 1,
                  "assdtotalvalue": 0,
                  "assdlandvalue": 0,
                  "assdimprovementvalue": 0,
                  "markettotalvalue": 0,
                  "marketvalueland": 0,
                  "marketvalueimprovement": 0,
                  "taxamount": 0,
                  "taxyear": 2012,
                  "taxdeliquentyear1": 20,
                  "assdyear": 2015,
                  "buildingarea": 0,
                  "sumbuildingsqft": 0,
                  "sumlivingareasqft": 1,
                  "sumgrossareasqft": 120,
                  "sumadjareasqft": 1,
                  "sumbasementsqft": 1,
                  "sumgaragesqft": 1,
                  "yearbuilt": 1860,
                  "effectiveyearbuilt": 1876,
                  "bedrooms": 0,
                  "totalrooms": 0,
                  "bathtotalcalc": 0,
                  "bathfull": 0,
                  "bathsparcialnbr": 0,
                  "bathfixturesnbr": 0,
                  "airconditioningcode": 1,
                  "basementcode": 2,
                  "buildingconditioncode": 1,
                  "constructiontypecode": 2,
                  "exteriorwallscode": 1,
                  "interiorwallscode": 3,
                  "fireplacecode": 1,
                  "floorcovercode": 2,
                  "garage": 1,
                  "heatcode": 1,
                  "heatingfueltypecode": 2,
                  "garageparkingnbr": 0,
                  "drivewaycode": 1,
                  "patiocode": 20,
                  "poolcode": 2,
                  "porchcode": 4,
                  "buildingqualitycode": 1,
                  "roofcovercode": 2,
                  "rooftypecode": 1,
                  "storiesnbrcode": 100,
                  "stylecode": 1,
                  "sumresidentialunits": 0,
                  "sumbuildingsnbr": 0,
                  "ct_key": 8001007801,
                  "cc_property_id": 24766,
                  "_deepnote_index_column": "min"
                },
                {
                  "rex_property_id": 93758911.5,
                  "random_property_id": 22603110.5,
                  "zipcode": 80033,
                  "fips": 8005,
                  "situsstdzip5": 80033,
                  "situsstdzip4": 2683,
                  "situslatitude": 39.610434500000004,
                  "situslongitude": -105.042431,
                  "stdlandusecode": 1001,
                  "statelandusecode": 1112,
                  "situscensustract": 5620,
                  "lotsizefrontagefeet": 500,
                  "lotsizedepthfeet": 0,
                  "lotsizeacres": 72,
                  "lotsizesqft": 3125,
                  "mailingstdzip4": 2644,
                  "assdtotalvalue": 22691,
                  "assdlandvalue": 1110,
                  "assdimprovementvalue": 8970,
                  "markettotalvalue": 316643.75,
                  "marketvalueland": 68415,
                  "marketvalueimprovement": 220900,
                  "taxamount": 1510,
                  "taxyear": 2019,
                  "taxdeliquentyear1": 1920,
                  "assdyear": 2019,
                  "buildingarea": 1106,
                  "sumbuildingsqft": 1106,
                  "sumlivingareasqft": 1285,
                  "sumgrossareasqft": 1090,
                  "sumadjareasqft": 1474,
                  "sumbasementsqft": 681,
                  "sumgaragesqft": 400,
                  "yearbuilt": 1967,
                  "effectiveyearbuilt": 1983,
                  "bedrooms": 3,
                  "totalrooms": 0,
                  "bathtotalcalc": 2,
                  "bathfull": 1,
                  "bathsparcialnbr": 0,
                  "bathfixturesnbr": 5,
                  "airconditioningcode": 1,
                  "basementcode": 3,
                  "buildingconditioncode": 3,
                  "constructiontypecode": 6,
                  "exteriorwallscode": 12,
                  "interiorwallscode": 3,
                  "fireplacecode": 1,
                  "floorcovercode": 3,
                  "garage": 1,
                  "heatcode": 4,
                  "heatingfueltypecode": 3,
                  "garageparkingnbr": 1,
                  "drivewaycode": 1,
                  "patiocode": 20,
                  "poolcode": 8,
                  "porchcode": 6,
                  "buildingqualitycode": 5,
                  "roofcovercode": 3,
                  "rooftypecode": 1,
                  "storiesnbrcode": 100,
                  "stylecode": 11,
                  "sumresidentialunits": 0,
                  "sumbuildingsnbr": 0,
                  "ct_key": 8005081000,
                  "cc_property_id": 139478092.25,
                  "_deepnote_index_column": "25%"
                },
                {
                  "rex_property_id": 208959540.5,
                  "random_property_id": 23143781.5,
                  "zipcode": 80138,
                  "fips": 8031,
                  "situsstdzip5": 80138,
                  "situsstdzip4": 4130,
                  "situslatitude": 39.701201499999996,
                  "situslongitude": -104.952256,
                  "stdlandusecode": 1001,
                  "statelandusecode": 1112,
                  "situscensustract": 9553,
                  "lotsizefrontagefeet": 700,
                  "lotsizedepthfeet": 0,
                  "lotsizeacres": 146,
                  "lotsizesqft": 6359.5,
                  "mailingstdzip4": 4130,
                  "assdtotalvalue": 28600,
                  "assdlandvalue": 5930,
                  "assdimprovementvalue": 18380,
                  "markettotalvalue": 399524,
                  "marketvalueland": 100000,
                  "marketvalueimprovement": 282000,
                  "taxamount": 2256,
                  "taxyear": 2019,
                  "taxdeliquentyear1": 2013,
                  "assdyear": 2019,
                  "buildingarea": 1540,
                  "sumbuildingsqft": 1540,
                  "sumlivingareasqft": 1836,
                  "sumgrossareasqft": 1623,
                  "sumadjareasqft": 2178,
                  "sumbasementsqft": 971,
                  "sumgaragesqft": 460,
                  "yearbuilt": 1985,
                  "effectiveyearbuilt": 2001,
                  "bedrooms": 3,
                  "totalrooms": 5,
                  "bathtotalcalc": 2.5,
                  "bathfull": 2,
                  "bathsparcialnbr": 0,
                  "bathfixturesnbr": 8,
                  "airconditioningcode": 1,
                  "basementcode": 5,
                  "buildingconditioncode": 6,
                  "constructiontypecode": 6,
                  "exteriorwallscode": 17,
                  "interiorwallscode": 3,
                  "fireplacecode": 1,
                  "floorcovercode": 3,
                  "garage": 3,
                  "heatcode": 4,
                  "heatingfueltypecode": 3,
                  "garageparkingnbr": 2,
                  "drivewaycode": 1,
                  "patiocode": 20,
                  "poolcode": 9,
                  "porchcode": 8,
                  "buildingqualitycode": 7,
                  "roofcovercode": 3,
                  "rooftypecode": 6,
                  "storiesnbrcode": 200,
                  "stylecode": 29,
                  "sumresidentialunits": 1,
                  "sumbuildingsnbr": 0,
                  "ct_key": 8031003902,
                  "cc_property_id": 140658818,
                  "_deepnote_index_column": "50%"
                },
                {
                  "rex_property_id": 296882156,
                  "random_property_id": 23850180.75,
                  "zipcode": 80226,
                  "fips": 8035,
                  "situsstdzip5": 80226,
                  "situsstdzip4": 6251,
                  "situslatitude": 39.776732,
                  "situslongitude": -104.840161,
                  "stdlandusecode": 1002,
                  "statelandusecode": 1112,
                  "situscensustract": 14010,
                  "lotsizefrontagefeet": 800,
                  "lotsizedepthfeet": 0,
                  "lotsizeacres": 205,
                  "lotsizesqft": 8920,
                  "mailingstdzip4": 6287,
                  "assdtotalvalue": 37300,
                  "assdlandvalue": 9438,
                  "assdimprovementvalue": 25830,
                  "markettotalvalue": 520999.25,
                  "marketvalueland": 152000,
                  "marketvalueimprovement": 381168.75,
                  "taxamount": 3450,
                  "taxyear": 2019,
                  "taxdeliquentyear1": 2016,
                  "assdyear": 2019,
                  "buildingarea": 2142,
                  "sumbuildingsqft": 2143,
                  "sumlivingareasqft": 2556,
                  "sumgrossareasqft": 2504,
                  "sumadjareasqft": 3165,
                  "sumbasementsqft": 1303,
                  "sumgaragesqft": 589,
                  "yearbuilt": 2004,
                  "effectiveyearbuilt": 2013,
                  "bedrooms": 4,
                  "totalrooms": 9,
                  "bathtotalcalc": 3,
                  "bathfull": 3,
                  "bathsparcialnbr": 1,
                  "bathfixturesnbr": 11,
                  "airconditioningcode": 2,
                  "basementcode": 7,
                  "buildingconditioncode": 6,
                  "constructiontypecode": 6,
                  "exteriorwallscode": 19,
                  "interiorwallscode": 3,
                  "fireplacecode": 1,
                  "floorcovercode": 15,
                  "garage": 7,
                  "heatcode": 4,
                  "heatingfueltypecode": 3,
                  "garageparkingnbr": 2,
                  "drivewaycode": 1,
                  "patiocode": 20,
                  "poolcode": 9,
                  "porchcode": 8,
                  "buildingqualitycode": 7,
                  "roofcovercode": 3,
                  "rooftypecode": 7,
                  "storiesnbrcode": 200,
                  "stylecode": 35,
                  "sumresidentialunits": 1,
                  "sumbuildingsnbr": 0,
                  "ct_key": 8035014403,
                  "cc_property_id": 380299196.25,
                  "_deepnote_index_column": "75%"
                },
                {
                  "rex_property_id": 375849390,
                  "random_property_id": 164716090,
                  "zipcode": 80643,
                  "fips": 8123,
                  "situsstdzip5": 80643,
                  "situsstdzip4": 9957,
                  "situslatitude": 40.996765,
                  "situslongitude": 0,
                  "stdlandusecode": 1999,
                  "statelandusecode": 9260,
                  "situscensustract": 988700,
                  "lotsizefrontagefeet": 4748040,
                  "lotsizedepthfeet": 77240,
                  "lotsizeacres": 32500000,
                  "lotsizesqft": 572726912,
                  "mailingstdzip4": 9998,
                  "assdtotalvalue": 1014506,
                  "assdlandvalue": 801230,
                  "assdimprovementvalue": 806490,
                  "markettotalvalue": 14188900,
                  "marketvalueland": 8820000,
                  "marketvalueimprovement": 10696900,
                  "taxamount": 50921128,
                  "taxyear": 2020,
                  "taxdeliquentyear1": 2019,
                  "assdyear": 2020,
                  "buildingarea": 58532,
                  "sumbuildingsqft": 58532,
                  "sumlivingareasqft": 33906,
                  "sumgrossareasqft": 151923,
                  "sumadjareasqft": 56745,
                  "sumbasementsqft": 50855,
                  "sumgaragesqft": 10114,
                  "yearbuilt": 2021,
                  "effectiveyearbuilt": 2020,
                  "bedrooms": 35,
                  "totalrooms": 84,
                  "bathtotalcalc": 42,
                  "bathfull": 48,
                  "bathsparcialnbr": 10,
                  "bathfixturesnbr": 742,
                  "airconditioningcode": 13,
                  "basementcode": 9,
                  "buildingconditioncode": 6,
                  "constructiontypecode": 17,
                  "exteriorwallscode": 24,
                  "interiorwallscode": 20,
                  "fireplacecode": 6,
                  "floorcovercode": 15,
                  "garage": 17,
                  "heatcode": 24,
                  "heatingfueltypecode": 9,
                  "garageparkingnbr": 69,
                  "drivewaycode": 1,
                  "patiocode": 20,
                  "poolcode": 9,
                  "porchcode": 8,
                  "buildingqualitycode": 15,
                  "roofcovercode": 19,
                  "rooftypecode": 14,
                  "storiesnbrcode": 900,
                  "stylecode": 41,
                  "sumresidentialunits": 9917,
                  "sumbuildingsnbr": 469,
                  "ct_key": 8123002502,
                  "cc_property_id": 728492712,
                  "_deepnote_index_column": "max"
                }
              ],
              "rows_bottom": null
            },
            "text/plain": "       rex_property_id  random_property_id        zipcode           fips  \\\ncount     2.172080e+05        2.172080e+05  217208.000000  217208.000000   \nmean      1.992308e+08        3.525083e+07   80175.441268    8028.864941   \nstd       9.740684e+07        3.867072e+07     147.835985      23.500298   \nmin       6.344024e+07        2.229833e+07   80002.000000    8001.000000   \n25%       9.375891e+07        2.260311e+07   80033.000000    8005.000000   \n50%       2.089595e+08        2.314378e+07   80138.000000    8031.000000   \n75%       2.968822e+08        2.385018e+07   80226.000000    8035.000000   \nmax       3.758494e+08        1.647161e+08   80643.000000    8123.000000   \n\n        situsstdzip5   situsstdzip4  situslatitude  situslongitude  \\\ncount  217208.000000  216901.000000  217208.000000   217208.000000   \nmean    80175.441268    4550.044592      39.703208     -104.948587   \nstd       147.835985    2319.636994       0.198406        0.352148   \nmin     80002.000000      16.000000       0.000000     -105.579031   \n25%     80033.000000    2683.000000      39.610435     -105.042431   \n50%     80138.000000    4130.000000      39.701201     -104.952256   \n75%     80226.000000    6251.000000      39.776732     -104.840161   \nmax     80643.000000    9957.000000      40.996765        0.000000   \n\n       stdlandusecode  statelandusecode  ...     porchcode  \\\ncount   217208.000000      41917.000000  ...  90661.000000   \nmean      1002.230051       1135.756495  ...      7.130475   \nstd         34.515159        275.341086  ...      0.946714   \nmin         10.000000        100.000000  ...      4.000000   \n25%       1001.000000       1112.000000  ...      6.000000   \n50%       1001.000000       1112.000000  ...      8.000000   \n75%       1002.000000       1112.000000  ...      8.000000   \nmax       1999.000000       9260.000000  ...      8.000000   \n\n       buildingqualitycode  roofcovercode   rooftypecode  storiesnbrcode  \\\ncount        152787.000000  119527.000000  103572.000000   203538.000000   \nmean              6.603271       4.983226       4.124870      157.435467   \nstd               2.056958       4.599574       3.066604       59.941176   \nmin               1.000000       2.000000       1.000000      100.000000   \n25%               5.000000       3.000000       1.000000      100.000000   \n50%               7.000000       3.000000       6.000000      200.000000   \n75%               7.000000       3.000000       7.000000      200.000000   \nmax              15.000000      19.000000      14.000000      900.000000   \n\n           stylecode  sumresidentialunits  sumbuildingsnbr        ct_key  \\\ncount  126749.000000        217208.000000    217208.000000  2.172060e+05   \nmean       24.544770            15.760059         0.215950  8.028913e+09   \nstd        12.233759           178.563526         3.980542  2.358492e+07   \nmin         1.000000             0.000000         0.000000  8.001008e+09   \n25%        11.000000             0.000000         0.000000  8.005081e+09   \n50%        29.000000             1.000000         0.000000  8.031004e+09   \n75%        35.000000             1.000000         0.000000  8.035014e+09   \nmax        41.000000          9917.000000       469.000000  8.123003e+09   \n\n       cc_property_id  \ncount    2.172080e+05  \nmean     2.566385e+08  \nstd      1.719759e+08  \nmin      2.476600e+04  \n25%      1.394781e+08  \n50%      1.406588e+08  \n75%      3.802992e+08  \nmax      7.284927e+08  \n\n[8 rows x 66 columns]",
            "text/html": "<div>\n<style scoped>\n    .dataframe tbody tr th:only-of-type {\n        vertical-align: middle;\n    }\n\n    .dataframe tbody tr th {\n        vertical-align: top;\n    }\n\n    .dataframe thead th {\n        text-align: right;\n    }\n</style>\n<table border=\"1\" class=\"dataframe\">\n  <thead>\n    <tr style=\"text-align: right;\">\n      <th></th>\n      <th>rex_property_id</th>\n      <th>random_property_id</th>\n      <th>zipcode</th>\n      <th>fips</th>\n      <th>situsstdzip5</th>\n      <th>situsstdzip4</th>\n      <th>situslatitude</th>\n      <th>situslongitude</th>\n      <th>stdlandusecode</th>\n      <th>statelandusecode</th>\n      <th>...</th>\n      <th>porchcode</th>\n      <th>buildingqualitycode</th>\n      <th>roofcovercode</th>\n      <th>rooftypecode</th>\n      <th>storiesnbrcode</th>\n      <th>stylecode</th>\n      <th>sumresidentialunits</th>\n      <th>sumbuildingsnbr</th>\n      <th>ct_key</th>\n      <th>cc_property_id</th>\n    </tr>\n  </thead>\n  <tbody>\n    <tr>\n      <th>count</th>\n      <td>2.172080e+05</td>\n      <td>2.172080e+05</td>\n      <td>217208.000000</td>\n      <td>217208.000000</td>\n      <td>217208.000000</td>\n      <td>216901.000000</td>\n      <td>217208.000000</td>\n      <td>217208.000000</td>\n      <td>217208.000000</td>\n      <td>41917.000000</td>\n      <td>...</td>\n      <td>90661.000000</td>\n      <td>152787.000000</td>\n      <td>119527.000000</td>\n      <td>103572.000000</td>\n      <td>203538.000000</td>\n      <td>126749.000000</td>\n      <td>217208.000000</td>\n      <td>217208.000000</td>\n      <td>2.172060e+05</td>\n      <td>2.172080e+05</td>\n    </tr>\n    <tr>\n      <th>mean</th>\n      <td>1.992308e+08</td>\n      <td>3.525083e+07</td>\n      <td>80175.441268</td>\n      <td>8028.864941</td>\n      <td>80175.441268</td>\n      <td>4550.044592</td>\n      <td>39.703208</td>\n      <td>-104.948587</td>\n      <td>1002.230051</td>\n      <td>1135.756495</td>\n      <td>...</td>\n      <td>7.130475</td>\n      <td>6.603271</td>\n      <td>4.983226</td>\n      <td>4.124870</td>\n      <td>157.435467</td>\n      <td>24.544770</td>\n      <td>15.760059</td>\n      <td>0.215950</td>\n      <td>8.028913e+09</td>\n      <td>2.566385e+08</td>\n    </tr>\n    <tr>\n      <th>std</th>\n      <td>9.740684e+07</td>\n      <td>3.867072e+07</td>\n      <td>147.835985</td>\n      <td>23.500298</td>\n      <td>147.835985</td>\n      <td>2319.636994</td>\n      <td>0.198406</td>\n      <td>0.352148</td>\n      <td>34.515159</td>\n      <td>275.341086</td>\n      <td>...</td>\n      <td>0.946714</td>\n      <td>2.056958</td>\n      <td>4.599574</td>\n      <td>3.066604</td>\n      <td>59.941176</td>\n      <td>12.233759</td>\n      <td>178.563526</td>\n      <td>3.980542</td>\n      <td>2.358492e+07</td>\n      <td>1.719759e+08</td>\n    </tr>\n    <tr>\n      <th>min</th>\n      <td>6.344024e+07</td>\n      <td>2.229833e+07</td>\n      <td>80002.000000</td>\n      <td>8001.000000</td>\n      <td>80002.000000</td>\n      <td>16.000000</td>\n      <td>0.000000</td>\n      <td>-105.579031</td>\n      <td>10.000000</td>\n      <td>100.000000</td>\n      <td>...</td>\n      <td>4.000000</td>\n      <td>1.000000</td>\n      <td>2.000000</td>\n      <td>1.000000</td>\n      <td>100.000000</td>\n      <td>1.000000</td>\n      <td>0.000000</td>\n      <td>0.000000</td>\n      <td>8.001008e+09</td>\n      <td>2.476600e+04</td>\n    </tr>\n    <tr>\n      <th>25%</th>\n      <td>9.375891e+07</td>\n      <td>2.260311e+07</td>\n      <td>80033.000000</td>\n      <td>8005.000000</td>\n      <td>80033.000000</td>\n      <td>2683.000000</td>\n      <td>39.610435</td>\n      <td>-105.042431</td>\n      <td>1001.000000</td>\n      <td>1112.000000</td>\n      <td>...</td>\n      <td>6.000000</td>\n      <td>5.000000</td>\n      <td>3.000000</td>\n      <td>1.000000</td>\n      <td>100.000000</td>\n      <td>11.000000</td>\n      <td>0.000000</td>\n      <td>0.000000</td>\n      <td>8.005081e+09</td>\n      <td>1.394781e+08</td>\n    </tr>\n    <tr>\n      <th>50%</th>\n      <td>2.089595e+08</td>\n      <td>2.314378e+07</td>\n      <td>80138.000000</td>\n      <td>8031.000000</td>\n      <td>80138.000000</td>\n      <td>4130.000000</td>\n      <td>39.701201</td>\n      <td>-104.952256</td>\n      <td>1001.000000</td>\n      <td>1112.000000</td>\n      <td>...</td>\n      <td>8.000000</td>\n      <td>7.000000</td>\n      <td>3.000000</td>\n      <td>6.000000</td>\n      <td>200.000000</td>\n      <td>29.000000</td>\n      <td>1.000000</td>\n      <td>0.000000</td>\n      <td>8.031004e+09</td>\n      <td>1.406588e+08</td>\n    </tr>\n    <tr>\n      <th>75%</th>\n      <td>2.968822e+08</td>\n      <td>2.385018e+07</td>\n      <td>80226.000000</td>\n      <td>8035.000000</td>\n      <td>80226.000000</td>\n      <td>6251.000000</td>\n      <td>39.776732</td>\n      <td>-104.840161</td>\n      <td>1002.000000</td>\n      <td>1112.000000</td>\n      <td>...</td>\n      <td>8.000000</td>\n      <td>7.000000</td>\n      <td>3.000000</td>\n      <td>7.000000</td>\n      <td>200.000000</td>\n      <td>35.000000</td>\n      <td>1.000000</td>\n      <td>0.000000</td>\n      <td>8.035014e+09</td>\n      <td>3.802992e+08</td>\n    </tr>\n    <tr>\n      <th>max</th>\n      <td>3.758494e+08</td>\n      <td>1.647161e+08</td>\n      <td>80643.000000</td>\n      <td>8123.000000</td>\n      <td>80643.000000</td>\n      <td>9957.000000</td>\n      <td>40.996765</td>\n      <td>0.000000</td>\n      <td>1999.000000</td>\n      <td>9260.000000</td>\n      <td>...</td>\n      <td>8.000000</td>\n      <td>15.000000</td>\n      <td>19.000000</td>\n      <td>14.000000</td>\n      <td>900.000000</td>\n      <td>41.000000</td>\n      <td>9917.000000</td>\n      <td>469.000000</td>\n      <td>8.123003e+09</td>\n      <td>7.284927e+08</td>\n    </tr>\n  </tbody>\n</table>\n<p>8 rows × 66 columns</p>\n</div>"
          },
          "metadata": {}
        }
      ]
    },
    {
      "cell_type": "code",
      "metadata": {
        "tags": [],
        "cell_id": "00014-180add0e-f927-4aca-9656-32c8a08d150d",
        "deepnote_to_be_reexecuted": true,
        "source_hash": "b2af2589",
        "execution_millis": 51,
        "execution_start": 1615648718144,
        "deepnote_cell_type": "code"
      },
      "source": "#join the listing dataset to the expanded dataset using the property_id column\ndf_listings = df_listings.rename(columns={'property_id': 'cc_property_id'})",
      "execution_count": null,
      "outputs": []
    },
    {
      "cell_type": "code",
      "metadata": {
        "tags": [],
        "cell_id": "00016-571ee18e-6bd1-492c-af9b-e48f3a938799",
        "deepnote_to_be_reexecuted": true,
        "source_hash": "fdc4b3c5",
        "execution_millis": 10165,
        "execution_start": 1615648718204,
        "deepnote_cell_type": "code"
      },
      "source": "joined = df_listings.merge(df_joined_with_key, on='cc_property_id')",
      "execution_count": null,
      "outputs": []
    },
    {
      "cell_type": "code",
      "metadata": {
        "tags": [],
        "cell_id": "00020-e3038ba8-573c-4205-8f69-ee4edadb67d5",
        "deepnote_to_be_reexecuted": true,
        "source_hash": "be735ffd",
        "execution_millis": 26263,
        "execution_start": 1615648728370,
        "deepnote_cell_type": "code"
      },
      "source": "joined.to_csv('../data/denver_joined_dataset.csv', index=False)",
      "execution_count": null,
      "outputs": []
    },
    {
      "cell_type": "code",
      "metadata": {
        "tags": [],
        "cell_id": "00019-1ce15d41-6b25-42fd-bfcc-8f100d20d9b9",
        "deepnote_to_be_reexecuted": true,
        "source_hash": "b623e53d",
        "deepnote_cell_type": "code"
      },
      "source": "",
      "execution_count": null,
      "outputs": []
    },
    {
      "cell_type": "markdown",
      "source": "<a style='text-decoration:none;line-height:16px;display:flex;color:#5B5B62;padding:10px;justify-content:end;' href='https://deepnote.com?utm_source=created-in-deepnote-cell&projectId=1c850c61-d934-4c85-b16d-3cb283df0c84' target=\"_blank\">\n<img alt='Created in deepnote.com' style='display:inline;max-height:16px;margin:0px;margin-right:7.5px;' src='data:image/svg+xml;base64,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' > </img>\nCreated in <span style='font-weight:600;margin-left:4px;'>Deepnote</span></a>",
      "metadata": {
        "tags": [],
        "created_in_deepnote_cell": true,
        "deepnote_cell_type": "markdown"
      }
    }
  ],
  "nbformat": 4,
  "nbformat_minor": 2,
  "metadata": {
    "orig_nbformat": 2,
    "deepnote_notebook_id": "b27e6481-2088-4386-b17d-f5886efa8ceb",
    "deepnote": {},
    "deepnote_execution_queue": []
  }
}