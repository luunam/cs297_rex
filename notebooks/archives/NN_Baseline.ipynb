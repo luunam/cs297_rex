{
  "cells": [
    {
      "cell_type": "code",
      "metadata": {
        "cell_id": "00000-e3c4161d-652e-423c-878a-63047acbbd05",
        "deepnote_to_be_reexecuted": false,
        "source_hash": "6360e454",
        "execution_millis": 2149,
        "execution_start": 1619564861323,
        "deepnote_cell_type": "code"
      },
      "source": "import sys\nsys.path.insert(0, '../scripts/')\n\nimport torch\nimport torch.nn as nn\nimport torch.optim as optim\nimport torch.nn.functional as F\nimport torchvision.transforms as T\n\nfrom itertools import count\nimport random\nimport math\n\nimport numpy as np\nimport pandas as pd\nimport matplotlib.pyplot as plt\nimport datetime\n\nfrom sklearn.preprocessing import StandardScaler\nfrom sklearn.model_selection import train_test_split\nfrom sklearn.linear_model import LogisticRegression\n\n# from data_pipeline import clean_dataset\nfrom models import AE, BaselineNet\nfrom utils import gen_y\nimport seaborn as sns\n\nfrom imblearn.over_sampling import SMOTE \nfrom sklearn.metrics import accuracy_score, f1_score, roc_auc_score\n\n\ncolor = sns.color_palette()",
      "execution_count": 1,
      "outputs": [
        {
          "output_type": "error",
          "ename": "ModuleNotFoundError",
          "evalue": "No module named 'imblearn'",
          "traceback": [
            "\u001b[0;31m---------------------------------------------------------------------------\u001b[0m",
            "\u001b[0;31mModuleNotFoundError\u001b[0m                       Traceback (most recent call last)",
            "\u001b[0;32m<ipython-input-1-ad9950acf9c9>\u001b[0m in \u001b[0;36m<module>\u001b[0;34m\u001b[0m\n\u001b[1;32m     26\u001b[0m \u001b[0;32mimport\u001b[0m \u001b[0mseaborn\u001b[0m \u001b[0;32mas\u001b[0m \u001b[0msns\u001b[0m\u001b[0;34m\u001b[0m\u001b[0;34m\u001b[0m\u001b[0m\n\u001b[1;32m     27\u001b[0m \u001b[0;34m\u001b[0m\u001b[0m\n\u001b[0;32m---> 28\u001b[0;31m \u001b[0;32mfrom\u001b[0m \u001b[0mimblearn\u001b[0m\u001b[0;34m.\u001b[0m\u001b[0mover_sampling\u001b[0m \u001b[0;32mimport\u001b[0m \u001b[0mSMOTE\u001b[0m\u001b[0;34m\u001b[0m\u001b[0;34m\u001b[0m\u001b[0m\n\u001b[0m\u001b[1;32m     29\u001b[0m \u001b[0;32mfrom\u001b[0m \u001b[0msklearn\u001b[0m\u001b[0;34m.\u001b[0m\u001b[0mmetrics\u001b[0m \u001b[0;32mimport\u001b[0m \u001b[0maccuracy_score\u001b[0m\u001b[0;34m,\u001b[0m \u001b[0mf1_score\u001b[0m\u001b[0;34m,\u001b[0m \u001b[0mroc_auc_score\u001b[0m\u001b[0;34m\u001b[0m\u001b[0;34m\u001b[0m\u001b[0m\n\u001b[1;32m     30\u001b[0m \u001b[0;34m\u001b[0m\u001b[0m\n",
            "\u001b[0;31mModuleNotFoundError\u001b[0m: No module named 'imblearn'"
          ]
        }
      ]
    },
    {
      "cell_type": "code",
      "metadata": {
        "cell_id": "00001-e46f672b-d573-4512-a53c-00c067f6a950",
        "deepnote_to_be_reexecuted": true,
        "source_hash": "c7e265c0",
        "execution_start": 1617154085914,
        "execution_millis": 5,
        "deepnote_cell_type": "code"
      },
      "source": "device = torch.device('cuda') if torch.cuda.is_available() else torch.device('cpu') \nscaler = StandardScaler()",
      "execution_count": null,
      "outputs": []
    },
    {
      "cell_type": "code",
      "metadata": {
        "cell_id": "00002-31fd9ccc-40f7-4bea-b977-a312e9a2d092",
        "deepnote_to_be_reexecuted": true,
        "source_hash": "b78d5b4c",
        "execution_start": 1617154085923,
        "execution_millis": 256,
        "deepnote_cell_type": "code"
      },
      "source": "# Load dataset\ndf = pd.read_csv('../data/denver_prop_listing_clean.csv')\n\nmapping = {k: v for v, k in enumerate(df.property_type.unique())}\n\n# df['dom'] = (df['sale_date'] - df['list_date']).dt.days.astype('int16')\ndf = df[(df['sqft'] < 6000) & (df['sale_price_per_sqft'] < 500)].copy()\ndf['property_type_code'] = df['property_type'].map(mapping)\n\n#convert to datetime format\ndf[\"list_date\"] = pd.to_datetime(df[\"list_date\"])\ndf[\"sale_date\"] = pd.to_datetime(df[\"sale_date\"])",
      "execution_count": null,
      "outputs": []
    },
    {
      "cell_type": "code",
      "metadata": {
        "cell_id": "00003-4834019a-86e3-493d-ba5b-e97023dcd81e",
        "deepnote_to_be_reexecuted": true,
        "source_hash": "bb0e24b6",
        "execution_start": 1617154086183,
        "execution_millis": 9,
        "deepnote_cell_type": "code"
      },
      "source": "y_2019Q2 = gen_y(datetime.timedelta(days = 90), df, datetime.datetime(2019,4,1))\n#remove all rows that aren't listed in that period\nlisted_index = np.where(y_2019Q2[:,0] == 1)\ndf_2019Q2 = df.iloc[listed_index]",
      "execution_count": null,
      "outputs": []
    },
    {
      "cell_type": "code",
      "metadata": {
        "cell_id": "00004-b8965706-5c3e-4854-8c46-dc0b335041a4",
        "deepnote_to_be_reexecuted": true,
        "source_hash": "67d3844a",
        "execution_start": 1617154086196,
        "execution_millis": 208,
        "deepnote_cell_type": "code"
      },
      "source": "df_2019Q2",
      "execution_count": null,
      "outputs": []
    },
    {
      "cell_type": "code",
      "metadata": {
        "cell_id": "00005-25f97f4e-e8a3-44f7-974f-f3a4b9eb65d4",
        "deepnote_to_be_reexecuted": true,
        "source_hash": "1ef85a5a",
        "execution_start": 1617154086408,
        "execution_millis": 10,
        "deepnote_cell_type": "code"
      },
      "source": "y_2019Q2.shape",
      "execution_count": null,
      "outputs": [
        {
          "output_type": "execute_result",
          "execution_count": 6,
          "data": {
            "text/plain": "(83830, 2)"
          },
          "metadata": {}
        }
      ]
    },
    {
      "cell_type": "code",
      "metadata": {
        "cell_id": "00006-b17dd6fd-1caa-46c6-8b81-10d857869529",
        "deepnote_to_be_reexecuted": true,
        "source_hash": "e76421ce",
        "execution_start": 1617154086455,
        "execution_millis": 7,
        "deepnote_cell_type": "code"
      },
      "source": "df_2019Q2.shape",
      "execution_count": null,
      "outputs": [
        {
          "output_type": "execute_result",
          "execution_count": 7,
          "data": {
            "text/plain": "(7012, 20)"
          },
          "metadata": {}
        }
      ]
    },
    {
      "cell_type": "code",
      "metadata": {
        "cell_id": "00007-8fe0338f-409b-4ab4-a04d-8506d2a108ad",
        "deepnote_to_be_reexecuted": true,
        "source_hash": "2d44768a",
        "execution_start": 1617154086456,
        "execution_millis": 6,
        "deepnote_cell_type": "code"
      },
      "source": "#define the X and Y vectors\ncols_to_drop = ['property_id', 'zipcode', 'list_date', 'sale_date', 'property_type', 'has_jacuzzi', 'has_garage', 'sale_price', 'ct_key', 'sale_price_per_sqft']\nX = df_2019Q2.drop(columns=cols_to_drop)\nY = y_2019Q2[np.where(y_2019Q2[:,0] ==1)]\nX.info()\n\nX = X.reset_index(drop=True)\n\n#scale columns\n\ncolumns_to_scale = ['fips', 'latitude', 'longitude', 'sqft',\n                    'full_baths'\n                   ]\nX[columns_to_scale] =  scaler.fit_transform(X[columns_to_scale])",
      "execution_count": null,
      "outputs": [
        {
          "name": "stdout",
          "text": "<class 'pandas.core.frame.DataFrame'>\nInt64Index: 7012 entries, 10 to 86786\nData columns (total 10 columns):\n #   Column              Non-Null Count  Dtype  \n---  ------              --------------  -----  \n 0   fips                7012 non-null   float64\n 1   latitude            7012 non-null   float64\n 2   longitude           7012 non-null   float64\n 3   sqft                7012 non-null   float64\n 4   has_central_air     7012 non-null   bool   \n 5   has_pool            7012 non-null   bool   \n 6   has_solar           7012 non-null   bool   \n 7   bedrooms            7012 non-null   float64\n 8   full_baths          7012 non-null   float64\n 9   property_type_code  7012 non-null   int64  \ndtypes: bool(3), float64(6), int64(1)\nmemory usage: 458.8 KB\n",
          "output_type": "stream"
        }
      ]
    },
    {
      "cell_type": "code",
      "metadata": {
        "cell_id": "00008-15f31ece-a259-432e-914a-3dbf57c291b5",
        "deepnote_to_be_reexecuted": true,
        "source_hash": "6990fae6",
        "execution_start": 1617154086457,
        "execution_millis": 44,
        "deepnote_cell_type": "code"
      },
      "source": "Y = Y[:,1]",
      "execution_count": null,
      "outputs": []
    },
    {
      "cell_type": "code",
      "metadata": {
        "cell_id": "00009-028ddc7d-58f3-4c37-94b2-20ae0dcb8f4b",
        "deepnote_to_be_reexecuted": true,
        "source_hash": "850f32bc",
        "execution_start": 1617154086501,
        "execution_millis": 1,
        "deepnote_cell_type": "code"
      },
      "source": "#split into train and test\nX_train, X_test, y_train, y_test = train_test_split(X, Y, test_size=0.33)",
      "execution_count": null,
      "outputs": []
    },
    {
      "cell_type": "code",
      "metadata": {
        "cell_id": "00010-f6fa4221-830b-45d6-bf58-662964ad746b",
        "deepnote_to_be_reexecuted": true,
        "source_hash": "69767bfd",
        "execution_start": 1617154086502,
        "execution_millis": 0,
        "deepnote_cell_type": "code"
      },
      "source": "X_train = torch.tensor(X_train.astype(float).values, dtype=torch.float64).to(device)\ny_train = torch.tensor(y_train, dtype=torch.int64).to(device)",
      "execution_count": null,
      "outputs": []
    },
    {
      "cell_type": "code",
      "metadata": {
        "cell_id": "00011-3a4628d7-d4d9-4f15-a475-24fced4c56bb",
        "deepnote_to_be_reexecuted": true,
        "source_hash": "79cdb0fb",
        "execution_start": 1617154086502,
        "execution_millis": 210,
        "deepnote_cell_type": "code"
      },
      "source": "sns.histplot(y_train.cpu().numpy())",
      "execution_count": null,
      "outputs": [
        {
          "output_type": "execute_result",
          "execution_count": 12,
          "data": {
            "text/plain": "<AxesSubplot:ylabel='Count'>"
          },
          "metadata": {}
        },
        {
          "data": {
            "text/plain": "<Figure size 432x288 with 1 Axes>",
            "image/png": "[encoded data removed]"
          },
          "metadata": {
            "needs_background": "light"
          },
          "output_type": "display_data"
        }
      ]
    },
    {
      "cell_type": "code",
      "metadata": {
        "cell_id": "00012-acbca3fa-22a9-4a82-96d5-33a3b8fa3e4d",
        "deepnote_to_be_reexecuted": true,
        "source_hash": "af75ee14",
        "execution_start": 1617154086679,
        "execution_millis": 3,
        "deepnote_cell_type": "code"
      },
      "source": "y_train = torch.nn.functional.one_hot(y_train)",
      "execution_count": null,
      "outputs": []
    },
    {
      "cell_type": "code",
      "metadata": {
        "cell_id": "00013-89280a4b-3ae1-4375-96f1-c1fac36341d1",
        "deepnote_to_be_reexecuted": true,
        "source_hash": "9cd47083",
        "execution_start": 1617154086686,
        "execution_millis": 26,
        "deepnote_cell_type": "code"
      },
      "source": "y_train.shape",
      "execution_count": null,
      "outputs": [
        {
          "output_type": "execute_result",
          "execution_count": 14,
          "data": {
            "text/plain": "torch.Size([4698, 2])"
          },
          "metadata": {}
        }
      ]
    },
    {
      "cell_type": "code",
      "metadata": {
        "cell_id": "00014-b6417cc7-7082-4902-a2a8-2f6106ca5f09",
        "deepnote_to_be_reexecuted": true,
        "source_hash": "982b7194",
        "execution_start": 1617154086693,
        "execution_millis": 2,
        "deepnote_cell_type": "code"
      },
      "source": "net = BaselineNet(X_train.shape[1], y_train.shape[1], epochs=20000).to(device)",
      "execution_count": null,
      "outputs": []
    },
    {
      "cell_type": "code",
      "metadata": {
        "cell_id": "00015-e695ebd5-3d21-47b1-845f-ffbd81754db9",
        "deepnote_to_be_reexecuted": true,
        "source_hash": "96b0426c",
        "execution_start": 1617154086702,
        "execution_millis": 616985,
        "deepnote_cell_type": "code"
      },
      "source": "net.feed(X_train, y_train)",
      "execution_count": null,
      "outputs": [
        {
          "name": "stdout",
          "text": "Iteration: 100. Loss: 0.6271565556526184. Correct: 3376. Accuracy: 71.86036682128906.\nIteration: 200. Loss: 0.5711978673934937. Correct: 3376. Accuracy: 71.86036682128906.\nIteration: 300. Loss: 0.5585663914680481. Correct: 3367. Accuracy: 71.66879272460938.\nIteration: 400. Loss: 0.5562149882316589. Correct: 3377. Accuracy: 71.88165283203125.\nIteration: 500. Loss: 0.5561460852622986. Correct: 3360. Accuracy: 71.5197982788086.\nIteration: 600. Loss: 0.5493397116661072. Correct: 3437. Accuracy: 73.1587905883789.\nIteration: 700. Loss: 0.5391104817390442. Correct: 3464. Accuracy: 73.73350524902344.\nIteration: 800. Loss: 0.535344660282135. Correct: 3502. Accuracy: 74.5423583984375.\nIteration: 900. Loss: 0.5279753804206848. Correct: 3500. Accuracy: 74.49978637695312.\nIteration: 1000. Loss: 0.5305808782577515. Correct: 3492. Accuracy: 74.32949829101562.\nIteration: 1100. Loss: 0.5261304378509521. Correct: 3481. Accuracy: 74.0953598022461.\nIteration: 1200. Loss: 0.5282039046287537. Correct: 3500. Accuracy: 74.49978637695312.\nIteration: 1300. Loss: 0.5242248177528381. Correct: 3509. Accuracy: 74.69136047363281.\nIteration: 1400. Loss: 0.5268589854240417. Correct: 3478. Accuracy: 74.03150177001953.\nIteration: 1500. Loss: 0.5223931074142456. Correct: 3520. Accuracy: 74.92549896240234.\nIteration: 1600. Loss: 0.5230529308319092. Correct: 3508. Accuracy: 74.67007446289062.\nIteration: 1700. Loss: 0.5198658108711243. Correct: 3514. Accuracy: 74.79778289794922.\nIteration: 1800. Loss: 0.520448625087738. Correct: 3513. Accuracy: 74.77649688720703.\nIteration: 1900. Loss: 0.5179088711738586. Correct: 3501. Accuracy: 74.52107238769531.\nIteration: 2000. Loss: 0.5149000883102417. Correct: 3502. Accuracy: 74.5423583984375.\nIteration: 2100. Loss: 0.5140993595123291. Correct: 3497. Accuracy: 74.43592834472656.\nIteration: 2200. Loss: 0.5114238262176514. Correct: 3517. Accuracy: 74.86164093017578.\nIteration: 2300. Loss: 0.5108194351196289. Correct: 3508. Accuracy: 74.67007446289062.\nIteration: 2400. Loss: 0.5086348056793213. Correct: 3504. Accuracy: 74.58493041992188.\nIteration: 2500. Loss: 0.5068680047988892. Correct: 3507. Accuracy: 74.64878845214844.\nIteration: 2600. Loss: 0.5051575899124146. Correct: 3509. Accuracy: 74.69136047363281.\nIteration: 2700. Loss: 0.5038270354270935. Correct: 3500. Accuracy: 74.49978637695312.\nIteration: 2800. Loss: 0.5002105832099915. Correct: 3506. Accuracy: 74.62750244140625.\nIteration: 2900. Loss: 0.49871647357940674. Correct: 3513. Accuracy: 74.77649688720703.\nIteration: 3000. Loss: 0.4958759546279907. Correct: 3514. Accuracy: 74.79778289794922.\nIteration: 3100. Loss: 0.4944846034049988. Correct: 3509. Accuracy: 74.69136047363281.\nIteration: 3200. Loss: 0.49081194400787354. Correct: 3512. Accuracy: 74.75521850585938.\nIteration: 3300. Loss: 0.4896823763847351. Correct: 3507. Accuracy: 74.64878845214844.\nIteration: 3400. Loss: 0.48797839879989624. Correct: 3509. Accuracy: 74.69136047363281.\nIteration: 3500. Loss: 0.48529747128486633. Correct: 3512. Accuracy: 74.75521850585938.\nIteration: 3600. Loss: 0.48240742087364197. Correct: 3520. Accuracy: 74.92549896240234.\nIteration: 3700. Loss: 0.4796213209629059. Correct: 3520. Accuracy: 74.92549896240234.\nIteration: 3800. Loss: 0.4771587550640106. Correct: 3524. Accuracy: 75.0106430053711.\nIteration: 3900. Loss: 0.47583818435668945. Correct: 3521. Accuracy: 74.94678497314453.\nIteration: 4000. Loss: 0.47267189621925354. Correct: 3528. Accuracy: 75.09578704833984.\nIteration: 4100. Loss: 0.4721107482910156. Correct: 3518. Accuracy: 74.88292694091797.\nIteration: 4200. Loss: 0.4700410068035126. Correct: 3521. Accuracy: 74.94678497314453.\nIteration: 4300. Loss: 0.46848204731941223. Correct: 3526. Accuracy: 75.05321502685547.\nIteration: 4400. Loss: 0.4656303822994232. Correct: 3524. Accuracy: 75.0106430053711.\nIteration: 4500. Loss: 0.4629379212856293. Correct: 3527. Accuracy: 75.07450103759766.\nIteration: 4600. Loss: 0.46134424209594727. Correct: 3523. Accuracy: 74.9893569946289.\nIteration: 4700. Loss: 0.4596133232116699. Correct: 3531. Accuracy: 75.1596450805664.\nIteration: 4800. Loss: 0.45828065276145935. Correct: 3530. Accuracy: 75.13835906982422.\nIteration: 4900. Loss: 0.45717310905456543. Correct: 3531. Accuracy: 75.1596450805664.\nIteration: 5000. Loss: 0.4557569622993469. Correct: 3532. Accuracy: 75.1809310913086.\nIteration: 5100. Loss: 0.4541931748390198. Correct: 3538. Accuracy: 75.30863952636719.\nIteration: 5200. Loss: 0.4521924555301666. Correct: 3535. Accuracy: 75.24478149414062.\nIteration: 5300. Loss: 0.4507119655609131. Correct: 3534. Accuracy: 75.22350311279297.\nIteration: 5400. Loss: 0.4495617747306824. Correct: 3533. Accuracy: 75.20221710205078.\nIteration: 5500. Loss: 0.4493337571620941. Correct: 3532. Accuracy: 75.1809310913086.\nIteration: 5600. Loss: 0.4475668668746948. Correct: 3528. Accuracy: 75.09578704833984.\nIteration: 5700. Loss: 0.44640567898750305. Correct: 3525. Accuracy: 75.03192901611328.\nIteration: 5800. Loss: 0.4458106458187103. Correct: 3522. Accuracy: 74.96807098388672.\nIteration: 5900. Loss: 0.44444718956947327. Correct: 3523. Accuracy: 74.9893569946289.\nIteration: 6000. Loss: 0.444240540266037. Correct: 3524. Accuracy: 75.0106430053711.\nIteration: 6100. Loss: 0.4434986412525177. Correct: 3523. Accuracy: 74.9893569946289.\nIteration: 6200. Loss: 0.4425731599330902. Correct: 3519. Accuracy: 74.90421295166016.\nIteration: 6300. Loss: 0.4419133961200714. Correct: 3524. Accuracy: 75.0106430053711.\nIteration: 6400. Loss: 0.4411003291606903. Correct: 3526. Accuracy: 75.05321502685547.\nIteration: 6500. Loss: 0.4409104883670807. Correct: 3532. Accuracy: 75.1809310913086.\nIteration: 6600. Loss: 0.44005516171455383. Correct: 3532. Accuracy: 75.1809310913086.\nIteration: 6700. Loss: 0.4397065043449402. Correct: 3536. Accuracy: 75.26606750488281.\nIteration: 6800. Loss: 0.4394223690032959. Correct: 3526. Accuracy: 75.05321502685547.\nIteration: 6900. Loss: 0.4389618933200836. Correct: 3528. Accuracy: 75.09578704833984.\nIteration: 7000. Loss: 0.43866556882858276. Correct: 3527. Accuracy: 75.07450103759766.\nIteration: 7100. Loss: 0.43797338008880615. Correct: 3524. Accuracy: 75.0106430053711.\nIteration: 7200. Loss: 0.4377351999282837. Correct: 3530. Accuracy: 75.13835906982422.\nIteration: 7300. Loss: 0.43731212615966797. Correct: 3530. Accuracy: 75.13835906982422.\nIteration: 7400. Loss: 0.43714720010757446. Correct: 3527. Accuracy: 75.07450103759766.\nIteration: 7500. Loss: 0.436779260635376. Correct: 3532. Accuracy: 75.1809310913086.\nIteration: 7600. Loss: 0.43635818362236023. Correct: 3532. Accuracy: 75.1809310913086.\nIteration: 7700. Loss: 0.436284601688385. Correct: 3537. Accuracy: 75.287353515625.\nIteration: 7800. Loss: 0.4359529912471771. Correct: 3534. Accuracy: 75.22350311279297.\nIteration: 7900. Loss: 0.4355497360229492. Correct: 3532. Accuracy: 75.1809310913086.\nIteration: 8000. Loss: 0.43520718812942505. Correct: 3538. Accuracy: 75.30863952636719.\nIteration: 8100. Loss: 0.435381680727005. Correct: 3539. Accuracy: 75.32992553710938.\nIteration: 8200. Loss: 0.43480226397514343. Correct: 3539. Accuracy: 75.32992553710938.\nIteration: 8300. Loss: 0.43472784757614136. Correct: 3538. Accuracy: 75.30863952636719.\nIteration: 8400. Loss: 0.4348280131816864. Correct: 3541. Accuracy: 75.37249755859375.\nIteration: 8500. Loss: 0.4346301555633545. Correct: 3541. Accuracy: 75.37249755859375.\nIteration: 8600. Loss: 0.43444401025772095. Correct: 3545. Accuracy: 75.4576416015625.\nIteration: 8700. Loss: 0.4342721104621887. Correct: 3544. Accuracy: 75.43635559082031.\nIteration: 8800. Loss: 0.43425363302230835. Correct: 3542. Accuracy: 75.39378356933594.\nIteration: 8900. Loss: 0.43436819314956665. Correct: 3543. Accuracy: 75.41506958007812.\nIteration: 9000. Loss: 0.43383508920669556. Correct: 3543. Accuracy: 75.41506958007812.\nIteration: 9100. Loss: 0.43366771936416626. Correct: 3542. Accuracy: 75.39378356933594.\nIteration: 9200. Loss: 0.4334440529346466. Correct: 3545. Accuracy: 75.4576416015625.\nIteration: 9300. Loss: 0.43324607610702515. Correct: 3544. Accuracy: 75.43635559082031.\nIteration: 9400. Loss: 0.43339410424232483. Correct: 3545. Accuracy: 75.4576416015625.\nIteration: 9500. Loss: 0.43314895033836365. Correct: 3546. Accuracy: 75.47892761230469.\nIteration: 9600. Loss: 0.4331234395503998. Correct: 3547. Accuracy: 75.50021362304688.\nIteration: 9700. Loss: 0.43289342522621155. Correct: 3547. Accuracy: 75.50021362304688.\nIteration: 9800. Loss: 0.4327276051044464. Correct: 3547. Accuracy: 75.50021362304688.\nIteration: 9900. Loss: 0.432594358921051. Correct: 3546. Accuracy: 75.47892761230469.\nIteration: 10000. Loss: 0.4324427545070648. Correct: 3546. Accuracy: 75.47892761230469.\nIteration: 10100. Loss: 0.4324551522731781. Correct: 3547. Accuracy: 75.50021362304688.\nIteration: 10200. Loss: 0.4324212074279785. Correct: 3545. Accuracy: 75.4576416015625.\nIteration: 10300. Loss: 0.43231400847435. Correct: 3545. Accuracy: 75.4576416015625.\nIteration: 10400. Loss: 0.43226194381713867. Correct: 3547. Accuracy: 75.50021362304688.\nIteration: 10500. Loss: 0.43229642510414124. Correct: 3545. Accuracy: 75.4576416015625.\nIteration: 10600. Loss: 0.43215179443359375. Correct: 3545. Accuracy: 75.4576416015625.\nIteration: 10700. Loss: 0.4322192668914795. Correct: 3545. Accuracy: 75.4576416015625.\nIteration: 10800. Loss: 0.4320484399795532. Correct: 3546. Accuracy: 75.47892761230469.\nIteration: 10900. Loss: 0.43211042881011963. Correct: 3543. Accuracy: 75.41506958007812.\nIteration: 11000. Loss: 0.43210503458976746. Correct: 3544. Accuracy: 75.43635559082031.\nIteration: 11100. Loss: 0.43200990557670593. Correct: 3546. Accuracy: 75.47892761230469.\nIteration: 11200. Loss: 0.43152257800102234. Correct: 3546. Accuracy: 75.47892761230469.\nIteration: 11300. Loss: 0.43164101243019104. Correct: 3546. Accuracy: 75.47892761230469.\nIteration: 11400. Loss: 0.43140101432800293. Correct: 3547. Accuracy: 75.50021362304688.\nIteration: 11500. Loss: 0.4313625395298004. Correct: 3545. Accuracy: 75.4576416015625.\nIteration: 11600. Loss: 0.43136146664619446. Correct: 3547. Accuracy: 75.50021362304688.\nIteration: 11700. Loss: 0.43121838569641113. Correct: 3548. Accuracy: 75.52149963378906.\nIteration: 11800. Loss: 0.4312506914138794. Correct: 3547. Accuracy: 75.50021362304688.\nIteration: 11900. Loss: 0.431163489818573. Correct: 3548. Accuracy: 75.52149963378906.\nIteration: 12000. Loss: 0.431047260761261. Correct: 3546. Accuracy: 75.47892761230469.\nIteration: 12100. Loss: 0.431207537651062. Correct: 3548. Accuracy: 75.52149963378906.\nIteration: 12200. Loss: 0.43103647232055664. Correct: 3549. Accuracy: 75.54278564453125.\nIteration: 12300. Loss: 0.4309724271297455. Correct: 3551. Accuracy: 75.58535766601562.\nIteration: 12400. Loss: 0.43090325593948364. Correct: 3548. Accuracy: 75.52149963378906.\nIteration: 12500. Loss: 0.43072712421417236. Correct: 3551. Accuracy: 75.58535766601562.\nIteration: 12600. Loss: 0.4306611716747284. Correct: 3550. Accuracy: 75.56407165527344.\nIteration: 12700. Loss: 0.43071481585502625. Correct: 3550. Accuracy: 75.56407165527344.\nIteration: 12800. Loss: 0.43053290247917175. Correct: 3550. Accuracy: 75.56407165527344.\nIteration: 12900. Loss: 0.4304889440536499. Correct: 3552. Accuracy: 75.60664367675781.\nIteration: 13000. Loss: 0.4304121434688568. Correct: 3551. Accuracy: 75.58535766601562.\nIteration: 13100. Loss: 0.42984700202941895. Correct: 3550. Accuracy: 75.56407165527344.\nIteration: 13200. Loss: 0.42999106645584106. Correct: 3550. Accuracy: 75.56407165527344.\nIteration: 13300. Loss: 0.4298325181007385. Correct: 3552. Accuracy: 75.60664367675781.\nIteration: 13400. Loss: 0.429643839597702. Correct: 3552. Accuracy: 75.60664367675781.\nIteration: 13500. Loss: 0.4295136034488678. Correct: 3552. Accuracy: 75.60664367675781.\nIteration: 13600. Loss: 0.4291822016239166. Correct: 3551. Accuracy: 75.58535766601562.\nIteration: 13700. Loss: 0.4291764795780182. Correct: 3551. Accuracy: 75.58535766601562.\nIteration: 13800. Loss: 0.4289369285106659. Correct: 3553. Accuracy: 75.6279296875.\nIteration: 13900. Loss: 0.4287150204181671. Correct: 3552. Accuracy: 75.60664367675781.\nIteration: 14000. Loss: 0.42872536182403564. Correct: 3552. Accuracy: 75.60664367675781.\nIteration: 14100. Loss: 0.4288114011287689. Correct: 3550. Accuracy: 75.56407165527344.\nIteration: 14200. Loss: 0.4287933111190796. Correct: 3552. Accuracy: 75.60664367675781.\nIteration: 14300. Loss: 0.4288002550601959. Correct: 3553. Accuracy: 75.6279296875.\nIteration: 14400. Loss: 0.4287894070148468. Correct: 3552. Accuracy: 75.60664367675781.\nIteration: 14500. Loss: 0.4288754165172577. Correct: 3551. Accuracy: 75.58535766601562.\nIteration: 14600. Loss: 0.4286453127861023. Correct: 3553. Accuracy: 75.6279296875.\nIteration: 14700. Loss: 0.42860496044158936. Correct: 3557. Accuracy: 75.71306610107422.\nIteration: 14800. Loss: 0.4280005991458893. Correct: 3559. Accuracy: 75.7556381225586.\nIteration: 14900. Loss: 0.4281032383441925. Correct: 3558. Accuracy: 75.7343521118164.\nIteration: 15000. Loss: 0.4276946187019348. Correct: 3557. Accuracy: 75.71306610107422.\nIteration: 15100. Loss: 0.4277932047843933. Correct: 3556. Accuracy: 75.69178009033203.\nIteration: 15200. Loss: 0.4276112914085388. Correct: 3557. Accuracy: 75.71306610107422.\nIteration: 15300. Loss: 0.42758622765541077. Correct: 3560. Accuracy: 75.77692413330078.\nIteration: 15400. Loss: 0.4274410605430603. Correct: 3558. Accuracy: 75.7343521118164.\nIteration: 15500. Loss: 0.4275737404823303. Correct: 3557. Accuracy: 75.71306610107422.\nIteration: 15600. Loss: 0.42747762799263. Correct: 3557. Accuracy: 75.71306610107422.\nIteration: 15700. Loss: 0.42749717831611633. Correct: 3557. Accuracy: 75.71306610107422.\nIteration: 15800. Loss: 0.4274906516075134. Correct: 3557. Accuracy: 75.71306610107422.\nIteration: 15900. Loss: 0.4275268614292145. Correct: 3559. Accuracy: 75.7556381225586.\nIteration: 16000. Loss: 0.4274897277355194. Correct: 3558. Accuracy: 75.7343521118164.\nIteration: 16100. Loss: 0.42753440141677856. Correct: 3558. Accuracy: 75.7343521118164.\nIteration: 16200. Loss: 0.42751291394233704. Correct: 3556. Accuracy: 75.69178009033203.\nIteration: 16300. Loss: 0.42740699648857117. Correct: 3556. Accuracy: 75.69178009033203.\nIteration: 16400. Loss: 0.42749541997909546. Correct: 3557. Accuracy: 75.71306610107422.\nIteration: 16500. Loss: 0.4275018870830536. Correct: 3557. Accuracy: 75.71306610107422.\nIteration: 16600. Loss: 0.42722174525260925. Correct: 3559. Accuracy: 75.7556381225586.\nIteration: 16700. Loss: 0.4271657168865204. Correct: 3558. Accuracy: 75.7343521118164.\nIteration: 16800. Loss: 0.4271267354488373. Correct: 3558. Accuracy: 75.7343521118164.\nIteration: 16900. Loss: 0.427132785320282. Correct: 3558. Accuracy: 75.7343521118164.\nIteration: 17000. Loss: 0.4271422326564789. Correct: 3558. Accuracy: 75.7343521118164.\nIteration: 17100. Loss: 0.4270152747631073. Correct: 3558. Accuracy: 75.7343521118164.\nIteration: 17200. Loss: 0.426896870136261. Correct: 3558. Accuracy: 75.7343521118164.\nIteration: 17300. Loss: 0.4268779158592224. Correct: 3558. Accuracy: 75.7343521118164.\nIteration: 17400. Loss: 0.42689549922943115. Correct: 3558. Accuracy: 75.7343521118164.\nIteration: 17500. Loss: 0.42678338289260864. Correct: 3558. Accuracy: 75.7343521118164.\nIteration: 17600. Loss: 0.42665815353393555. Correct: 3559. Accuracy: 75.7556381225586.\nIteration: 17700. Loss: 0.4265325367450714. Correct: 3558. Accuracy: 75.7343521118164.\nIteration: 17800. Loss: 0.4262004792690277. Correct: 3556. Accuracy: 75.69178009033203.\nIteration: 17900. Loss: 0.42615312337875366. Correct: 3558. Accuracy: 75.7343521118164.\nIteration: 18000. Loss: 0.4260861575603485. Correct: 3558. Accuracy: 75.7343521118164.\nIteration: 18100. Loss: 0.42617782950401306. Correct: 3558. Accuracy: 75.7343521118164.\nIteration: 18200. Loss: 0.4258534014225006. Correct: 3558. Accuracy: 75.7343521118164.\nIteration: 18300. Loss: 0.4259674847126007. Correct: 3558. Accuracy: 75.7343521118164.\nIteration: 18400. Loss: 0.4258430600166321. Correct: 3559. Accuracy: 75.7556381225586.\nIteration: 18500. Loss: 0.42525094747543335. Correct: 3561. Accuracy: 75.79821014404297.\nIteration: 18600. Loss: 0.425249844789505. Correct: 3561. Accuracy: 75.79821014404297.\nIteration: 18700. Loss: 0.4252752363681793. Correct: 3561. Accuracy: 75.79821014404297.\nIteration: 18800. Loss: 0.42530298233032227. Correct: 3560. Accuracy: 75.77692413330078.\nIteration: 18900. Loss: 0.42540034651756287. Correct: 3561. Accuracy: 75.79821014404297.\nIteration: 19000. Loss: 0.425484836101532. Correct: 3560. Accuracy: 75.77692413330078.\nIteration: 19100. Loss: 0.42548465728759766. Correct: 3561. Accuracy: 75.79821014404297.\nIteration: 19200. Loss: 0.4256070554256439. Correct: 3560. Accuracy: 75.77692413330078.\nIteration: 19300. Loss: 0.42555466294288635. Correct: 3560. Accuracy: 75.77692413330078.\nIteration: 19400. Loss: 0.4252481162548065. Correct: 3561. Accuracy: 75.79821014404297.\nIteration: 19500. Loss: 0.4253476858139038. Correct: 3560. Accuracy: 75.77692413330078.\nIteration: 19600. Loss: 0.42544642090797424. Correct: 3559. Accuracy: 75.7556381225586.\nIteration: 19700. Loss: 0.42537426948547363. Correct: 3560. Accuracy: 75.77692413330078.\nIteration: 19800. Loss: 0.4253627359867096. Correct: 3561. Accuracy: 75.79821014404297.\nIteration: 19900. Loss: 0.42530733346939087. Correct: 3561. Accuracy: 75.79821014404297.\nIteration: 20000. Loss: 0.4252437949180603. Correct: 3561. Accuracy: 75.79821014404297.\n",
          "output_type": "stream"
        }
      ]
    },
    {
      "cell_type": "markdown",
      "source": "## Joined Dataset (New Dataset from Will)",
      "metadata": {
        "cell_id": "00016-92e29ca7-d83a-4732-b336-6b279bd9ac58",
        "deepnote_cell_type": "markdown"
      }
    },
    {
      "cell_type": "code",
      "metadata": {
        "cell_id": "00017-e0382351-dc92-47ef-aa0a-6ef1321db614",
        "deepnote_to_be_reexecuted": true,
        "source_hash": "db1e436b",
        "execution_start": 1617154703686,
        "execution_millis": 6275,
        "deepnote_cell_type": "code"
      },
      "source": "joined = pd.read_csv('../data/denver_joined_dataset.csv')",
      "execution_count": null,
      "outputs": [
        {
          "name": "stderr",
          "text": "/shared-libs/python3.7/py-core/lib/python3.7/site-packages/IPython/core/interactiveshell.py:3166: DtypeWarning: Columns (25,28,36,38,55,56,75,83,97,98,99,100,128,141,142,143,145) have mixed types.Specify dtype option on import or set low_memory=False.\n  interactivity=interactivity, compiler=compiler, result=result)\n",
          "output_type": "stream"
        }
      ]
    },
    {
      "cell_type": "code",
      "metadata": {
        "cell_id": "00018-011d7162-2771-442f-be89-2f7b86e70ab3",
        "deepnote_to_be_reexecuted": true,
        "source_hash": "8677c709",
        "execution_start": 1617154709841,
        "execution_millis": 701,
        "deepnote_cell_type": "code"
      },
      "source": "joined = joined.dropna(axis=1)",
      "execution_count": null,
      "outputs": []
    },
    {
      "cell_type": "code",
      "metadata": {
        "cell_id": "00019-62c8f06a-0c5f-44d8-b516-e8387843ff6d",
        "deepnote_to_be_reexecuted": true,
        "source_hash": "1093ec70",
        "execution_start": 1617154710592,
        "execution_millis": 95,
        "deepnote_cell_type": "code"
      },
      "source": "joined.head()",
      "execution_count": null,
      "outputs": [
        {
          "output_type": "execute_result",
          "execution_count": 19,
          "data": {
            "application/vnd.deepnote.dataframe.v2+json": {
              "row_count": 5,
              "column_count": 70,
              "columns": [
                {
                  "name": "cc_property_id",
                  "dtype": "int64",
                  "stats": {
                    "unique_count": 4,
                    "nan_count": 0,
                    "min": 138555680,
                    "max": 138574571,
                    "histogram": [
                      {
                        "bin_start": 138555680,
                        "bin_end": 138557569.1,
                        "count": 1
                      },
                      {
                        "bin_start": 138557569.1,
                        "bin_end": 138559458.2,
                        "count": 0
                      },
                      {
                        "bin_start": 138559458.2,
                        "bin_end": 138561347.3,
                        "count": 1
                      },
                      {
                        "bin_start": 138561347.3,
                        "bin_end": 138563236.4,
                        "count": 0
                      },
                      {
                        "bin_start": 138563236.4,
                        "bin_end": 138565125.5,
                        "count": 0
                      },
                      {
                        "bin_start": 138565125.5,
                        "bin_end": 138567014.6,
                        "count": 0
                      },
                      {
                        "bin_start": 138567014.6,
                        "bin_end": 138568903.7,
                        "count": 1
                      },
                      {
                        "bin_start": 138568903.7,
                        "bin_end": 138570792.8,
                        "count": 0
                      },
                      {
                        "bin_start": 138570792.8,
                        "bin_end": 138572681.9,
                        "count": 0
                      },
                      {
                        "bin_start": 138572681.9,
                        "bin_end": 138574571,
                        "count": 2
                      }
                    ]
                  }
                },
                {
                  "name": "zipcode_x",
                  "dtype": "int64",
                  "stats": {
                    "unique_count": 1,
                    "nan_count": 0,
                    "min": 80002,
                    "max": 80002,
                    "histogram": [
                      {
                        "bin_start": 80001.5,
                        "bin_end": 80001.6,
                        "count": 0
                      },
                      {
                        "bin_start": 80001.6,
                        "bin_end": 80001.7,
                        "count": 0
                      },
                      {
                        "bin_start": 80001.7,
                        "bin_end": 80001.8,
                        "count": 0
                      },
                      {
                        "bin_start": 80001.8,
                        "bin_end": 80001.9,
                        "count": 0
                      },
                      {
                        "bin_start": 80001.9,
                        "bin_end": 80002,
                        "count": 0
                      },
                      {
                        "bin_start": 80002,
                        "bin_end": 80002.1,
                        "count": 5
                      },
                      {
                        "bin_start": 80002.1,
                        "bin_end": 80002.2,
                        "count": 0
                      },
                      {
                        "bin_start": 80002.2,
                        "bin_end": 80002.3,
                        "count": 0
                      },
                      {
                        "bin_start": 80002.3,
                        "bin_end": 80002.4,
                        "count": 0
                      },
                      {
                        "bin_start": 80002.4,
                        "bin_end": 80002.5,
                        "count": 0
                      }
                    ]
                  }
                },
                {
                  "name": "fips_x",
                  "dtype": "float64",
                  "stats": {
                    "unique_count": 1,
                    "nan_count": 0,
                    "min": 8059,
                    "max": 8059,
                    "histogram": [
                      {
                        "bin_start": 8058.5,
                        "bin_end": 8058.6,
                        "count": 0
                      },
                      {
                        "bin_start": 8058.6,
                        "bin_end": 8058.7,
                        "count": 0
                      },
                      {
                        "bin_start": 8058.7,
                        "bin_end": 8058.8,
                        "count": 0
                      },
                      {
                        "bin_start": 8058.8,
                        "bin_end": 8058.9,
                        "count": 0
                      },
                      {
                        "bin_start": 8058.9,
                        "bin_end": 8059,
                        "count": 0
                      },
                      {
                        "bin_start": 8059,
                        "bin_end": 8059.1,
                        "count": 5
                      },
                      {
                        "bin_start": 8059.1,
                        "bin_end": 8059.2,
                        "count": 0
                      },
                      {
                        "bin_start": 8059.2,
                        "bin_end": 8059.3,
                        "count": 0
                      },
                      {
                        "bin_start": 8059.3,
                        "bin_end": 8059.4,
                        "count": 0
                      },
                      {
                        "bin_start": 8059.4,
                        "bin_end": 8059.5,
                        "count": 0
                      }
                    ]
                  }
                },
                {
                  "name": "sqft",
                  "dtype": "float64",
                  "stats": {
                    "unique_count": 4,
                    "nan_count": 0,
                    "min": 1549,
                    "max": 2220,
                    "histogram": [
                      {
                        "bin_start": 1549,
                        "bin_end": 1616.1,
                        "count": 1
                      },
                      {
                        "bin_start": 1616.1,
                        "bin_end": 1683.2,
                        "count": 0
                      },
                      {
                        "bin_start": 1683.2,
                        "bin_end": 1750.3,
                        "count": 1
                      },
                      {
                        "bin_start": 1750.3,
                        "bin_end": 1817.4,
                        "count": 0
                      },
                      {
                        "bin_start": 1817.4,
                        "bin_end": 1884.5,
                        "count": 0
                      },
                      {
                        "bin_start": 1884.5,
                        "bin_end": 1951.6,
                        "count": 0
                      },
                      {
                        "bin_start": 1951.6,
                        "bin_end": 2018.6999999999998,
                        "count": 0
                      },
                      {
                        "bin_start": 2018.6999999999998,
                        "bin_end": 2085.8,
                        "count": 0
                      },
                      {
                        "bin_start": 2085.8,
                        "bin_end": 2152.9,
                        "count": 2
                      },
                      {
                        "bin_start": 2152.9,
                        "bin_end": 2220,
                        "count": 1
                      }
                    ]
                  }
                },
                {
                  "name": "property_type_x",
                  "dtype": "object",
                  "stats": {
                    "unique_count": 1,
                    "nan_count": 0,
                    "categories": [
                      {
                        "name": "SINGLE",
                        "count": 5
                      }
                    ]
                  }
                },
                {
                  "name": "has_central_air",
                  "dtype": "bool",
                  "stats": {
                    "unique_count": 1,
                    "nan_count": 0,
                    "categories": [
                      {
                        "name": "False",
                        "count": 5
                      }
                    ]
                  }
                },
                {
                  "name": "has_jacuzzi",
                  "dtype": "bool",
                  "stats": {
                    "unique_count": 1,
                    "nan_count": 0,
                    "categories": [
                      {
                        "name": "False",
                        "count": 5
                      }
                    ]
                  }
                },
                {
                  "name": "has_pool",
                  "dtype": "bool",
                  "stats": {
                    "unique_count": 1,
                    "nan_count": 0,
                    "categories": [
                      {
                        "name": "False",
                        "count": 5
                      }
                    ]
                  }
                },
                {
                  "name": "has_solar",
                  "dtype": "bool",
                  "stats": {
                    "unique_count": 1,
                    "nan_count": 0,
                    "categories": [
                      {
                        "name": "False",
                        "count": 5
                      }
                    ]
                  }
                },
                {
                  "name": "has_garage",
                  "dtype": "bool",
                  "stats": {
                    "unique_count": 1,
                    "nan_count": 0,
                    "categories": [
                      {
                        "name": "False",
                        "count": 5
                      }
                    ]
                  }
                },
                {
                  "name": "list_date",
                  "dtype": "object",
                  "stats": {
                    "unique_count": 5,
                    "nan_count": 0,
                    "categories": [
                      {
                        "name": "2018-05-17",
                        "count": 1
                      },
                      {
                        "name": "2019-12-27",
                        "count": 1
                      },
                      {
                        "name": "3 others",
                        "count": 3
                      }
                    ]
                  }
                },
                {
                  "name": "sale_date",
                  "dtype": "object",
                  "stats": {
                    "unique_count": 5,
                    "nan_count": 0,
                    "categories": [
                      {
                        "name": "2018-07-09",
                        "count": 1
                      },
                      {
                        "name": "2020-01-31",
                        "count": 1
                      },
                      {
                        "name": "3 others",
                        "count": 3
                      }
                    ]
                  }
                },
                {
                  "name": "sale_price_per_sqft",
                  "dtype": "float64",
                  "stats": {
                    "unique_count": 5,
                    "nan_count": 0,
                    "min": 191.44144144144144,
                    "max": 301.3557133634603,
                    "histogram": [
                      {
                        "bin_start": 191.44144144144144,
                        "bin_end": 202.43286863364332,
                        "count": 1
                      },
                      {
                        "bin_start": 202.43286863364332,
                        "bin_end": 213.4242958258452,
                        "count": 1
                      },
                      {
                        "bin_start": 213.4242958258452,
                        "bin_end": 224.41572301804712,
                        "count": 1
                      },
                      {
                        "bin_start": 224.41572301804712,
                        "bin_end": 235.407150210249,
                        "count": 0
                      },
                      {
                        "bin_start": 235.407150210249,
                        "bin_end": 246.39857740245088,
                        "count": 0
                      },
                      {
                        "bin_start": 246.39857740245088,
                        "bin_end": 257.39000459465274,
                        "count": 0
                      },
                      {
                        "bin_start": 257.39000459465274,
                        "bin_end": 268.38143178685465,
                        "count": 1
                      },
                      {
                        "bin_start": 268.38143178685465,
                        "bin_end": 279.37285897905656,
                        "count": 0
                      },
                      {
                        "bin_start": 279.37285897905656,
                        "bin_end": 290.3642861712584,
                        "count": 0
                      },
                      {
                        "bin_start": 290.3642861712584,
                        "bin_end": 301.3557133634603,
                        "count": 1
                      }
                    ]
                  }
                },
                {
                  "name": "farm_score",
                  "dtype": "float64",
                  "stats": {
                    "unique_count": 1,
                    "nan_count": 0,
                    "min": 100,
                    "max": 100,
                    "histogram": [
                      {
                        "bin_start": 99.5,
                        "bin_end": 99.6,
                        "count": 0
                      },
                      {
                        "bin_start": 99.6,
                        "bin_end": 99.7,
                        "count": 0
                      },
                      {
                        "bin_start": 99.7,
                        "bin_end": 99.8,
                        "count": 0
                      },
                      {
                        "bin_start": 99.8,
                        "bin_end": 99.9,
                        "count": 0
                      },
                      {
                        "bin_start": 99.9,
                        "bin_end": 100,
                        "count": 0
                      },
                      {
                        "bin_start": 100,
                        "bin_end": 100.1,
                        "count": 5
                      },
                      {
                        "bin_start": 100.1,
                        "bin_end": 100.2,
                        "count": 0
                      },
                      {
                        "bin_start": 100.2,
                        "bin_end": 100.3,
                        "count": 0
                      },
                      {
                        "bin_start": 100.3,
                        "bin_end": 100.4,
                        "count": 0
                      },
                      {
                        "bin_start": 100.4,
                        "bin_end": 100.5,
                        "count": 0
                      }
                    ]
                  }
                },
                {
                  "name": "median_rental_price",
                  "dtype": "float64",
                  "stats": {
                    "unique_count": 1,
                    "nan_count": 0,
                    "min": 2385,
                    "max": 2385,
                    "histogram": [
                      {
                        "bin_start": 2384.5,
                        "bin_end": 2384.6,
                        "count": 0
                      },
                      {
                        "bin_start": 2384.6,
                        "bin_end": 2384.7,
                        "count": 0
                      },
                      {
                        "bin_start": 2384.7,
                        "bin_end": 2384.8,
                        "count": 0
                      },
                      {
                        "bin_start": 2384.8,
                        "bin_end": 2384.9,
                        "count": 0
                      },
                      {
                        "bin_start": 2384.9,
                        "bin_end": 2385,
                        "count": 0
                      },
                      {
                        "bin_start": 2385,
                        "bin_end": 2385.1,
                        "count": 5
                      },
                      {
                        "bin_start": 2385.1,
                        "bin_end": 2385.2,
                        "count": 0
                      },
                      {
                        "bin_start": 2385.2,
                        "bin_end": 2385.3,
                        "count": 0
                      },
                      {
                        "bin_start": 2385.3,
                        "bin_end": 2385.4,
                        "count": 0
                      },
                      {
                        "bin_start": 2385.4,
                        "bin_end": 2385.5,
                        "count": 0
                      }
                    ]
                  }
                },
                {
                  "name": "pop_density",
                  "dtype": "float64",
                  "stats": {
                    "unique_count": 1,
                    "nan_count": 0,
                    "min": 3317.321845,
                    "max": 3317.321845,
                    "histogram": [
                      {
                        "bin_start": 3316.821845,
                        "bin_end": 3316.921845,
                        "count": 0
                      },
                      {
                        "bin_start": 3316.921845,
                        "bin_end": 3317.0218449999998,
                        "count": 0
                      },
                      {
                        "bin_start": 3317.0218449999998,
                        "bin_end": 3317.121845,
                        "count": 0
                      },
                      {
                        "bin_start": 3317.121845,
                        "bin_end": 3317.221845,
                        "count": 0
                      },
                      {
                        "bin_start": 3317.221845,
                        "bin_end": 3317.321845,
                        "count": 0
                      },
                      {
                        "bin_start": 3317.321845,
                        "bin_end": 3317.421845,
                        "count": 5
                      },
                      {
                        "bin_start": 3317.421845,
                        "bin_end": 3317.5218449999998,
                        "count": 0
                      },
                      {
                        "bin_start": 3317.5218449999998,
                        "bin_end": 3317.621845,
                        "count": 0
                      },
                      {
                        "bin_start": 3317.621845,
                        "bin_end": 3317.721845,
                        "count": 0
                      },
                      {
                        "bin_start": 3317.721845,
                        "bin_end": 3317.821845,
                        "count": 0
                      }
                    ]
                  }
                },
                {
                  "name": "first_time_homebuyer_score",
                  "dtype": "float64",
                  "stats": {
                    "unique_count": 1,
                    "nan_count": 0,
                    "min": 100,
                    "max": 100,
                    "histogram": [
                      {
                        "bin_start": 99.5,
                        "bin_end": 99.6,
                        "count": 0
                      },
                      {
                        "bin_start": 99.6,
                        "bin_end": 99.7,
                        "count": 0
                      },
                      {
                        "bin_start": 99.7,
                        "bin_end": 99.8,
                        "count": 0
                      },
                      {
                        "bin_start": 99.8,
                        "bin_end": 99.9,
                        "count": 0
                      },
                      {
                        "bin_start": 99.9,
                        "bin_end": 100,
                        "count": 0
                      },
                      {
                        "bin_start": 100,
                        "bin_end": 100.1,
                        "count": 5
                      },
                      {
                        "bin_start": 100.1,
                        "bin_end": 100.2,
                        "count": 0
                      },
                      {
                        "bin_start": 100.2,
                        "bin_end": 100.3,
                        "count": 0
                      },
                      {
                        "bin_start": 100.3,
                        "bin_end": 100.4,
                        "count": 0
                      },
                      {
                        "bin_start": 100.4,
                        "bin_end": 100.5,
                        "count": 0
                      }
                    ]
                  }
                },
                {
                  "name": "retirement_friendly_score",
                  "dtype": "float64",
                  "stats": {
                    "unique_count": 1,
                    "nan_count": 0,
                    "min": 66.918255,
                    "max": 66.918255,
                    "histogram": [
                      {
                        "bin_start": 66.418255,
                        "bin_end": 66.518255,
                        "count": 0
                      },
                      {
                        "bin_start": 66.518255,
                        "bin_end": 66.618255,
                        "count": 0
                      },
                      {
                        "bin_start": 66.618255,
                        "bin_end": 66.718255,
                        "count": 0
                      },
                      {
                        "bin_start": 66.718255,
                        "bin_end": 66.81825500000001,
                        "count": 0
                      },
                      {
                        "bin_start": 66.81825500000001,
                        "bin_end": 66.918255,
                        "count": 0
                      },
                      {
                        "bin_start": 66.918255,
                        "bin_end": 67.018255,
                        "count": 5
                      },
                      {
                        "bin_start": 67.018255,
                        "bin_end": 67.118255,
                        "count": 0
                      },
                      {
                        "bin_start": 67.118255,
                        "bin_end": 67.218255,
                        "count": 0
                      },
                      {
                        "bin_start": 67.218255,
                        "bin_end": 67.31825500000001,
                        "count": 0
                      },
                      {
                        "bin_start": 67.31825500000001,
                        "bin_end": 67.418255,
                        "count": 0
                      }
                    ]
                  }
                },
                {
                  "name": "young_single_professional_score",
                  "dtype": "float64",
                  "stats": {
                    "unique_count": 1,
                    "nan_count": 0,
                    "min": 43.566921,
                    "max": 43.566921,
                    "histogram": [
                      {
                        "bin_start": 43.066921,
                        "bin_end": 43.166921,
                        "count": 0
                      },
                      {
                        "bin_start": 43.166921,
                        "bin_end": 43.266921,
                        "count": 0
                      },
                      {
                        "bin_start": 43.266921,
                        "bin_end": 43.366921,
                        "count": 0
                      },
                      {
                        "bin_start": 43.366921,
                        "bin_end": 43.466921,
                        "count": 0
                      },
                      {
                        "bin_start": 43.466921,
                        "bin_end": 43.566921,
                        "count": 0
                      },
                      {
                        "bin_start": 43.566921,
                        "bin_end": 43.666921,
                        "count": 5
                      },
                      {
                        "bin_start": 43.666921,
                        "bin_end": 43.766921,
                        "count": 0
                      },
                      {
                        "bin_start": 43.766921,
                        "bin_end": 43.866921,
                        "count": 0
                      },
                      {
                        "bin_start": 43.866921,
                        "bin_end": 43.966921,
                        "count": 0
                      },
                      {
                        "bin_start": 43.966921,
                        "bin_end": 44.066921,
                        "count": 0
                      }
                    ]
                  }
                },
                {
                  "name": "college_student_friendly_score",
                  "dtype": "float64",
                  "stats": {
                    "unique_count": 1,
                    "nan_count": 0,
                    "min": 67.42143,
                    "max": 67.42143,
                    "histogram": [
                      {
                        "bin_start": 66.92143,
                        "bin_end": 67.02143,
                        "count": 0
                      },
                      {
                        "bin_start": 67.02143,
                        "bin_end": 67.12143,
                        "count": 0
                      },
                      {
                        "bin_start": 67.12143,
                        "bin_end": 67.22143,
                        "count": 0
                      },
                      {
                        "bin_start": 67.22143,
                        "bin_end": 67.32143,
                        "count": 0
                      },
                      {
                        "bin_start": 67.32143,
                        "bin_end": 67.42143,
                        "count": 0
                      },
                      {
                        "bin_start": 67.42143,
                        "bin_end": 67.52143,
                        "count": 5
                      },
                      {
                        "bin_start": 67.52143,
                        "bin_end": 67.62143,
                        "count": 0
                      },
                      {
                        "bin_start": 67.62143,
                        "bin_end": 67.72143,
                        "count": 0
                      },
                      {
                        "bin_start": 67.72143,
                        "bin_end": 67.82143,
                        "count": 0
                      },
                      {
                        "bin_start": 67.82143,
                        "bin_end": 67.92143,
                        "count": 0
                      }
                    ]
                  }
                },
                {
                  "name": "violent_crime_rate",
                  "dtype": "float64",
                  "stats": {
                    "unique_count": 1,
                    "nan_count": 0,
                    "min": 2.764467,
                    "max": 2.764467,
                    "histogram": [
                      {
                        "bin_start": 2.264467,
                        "bin_end": 2.364467,
                        "count": 0
                      },
                      {
                        "bin_start": 2.364467,
                        "bin_end": 2.464467,
                        "count": 0
                      },
                      {
                        "bin_start": 2.464467,
                        "bin_end": 2.5644669999999996,
                        "count": 0
                      },
                      {
                        "bin_start": 2.5644669999999996,
                        "bin_end": 2.6644669999999997,
                        "count": 0
                      },
                      {
                        "bin_start": 2.6644669999999997,
                        "bin_end": 2.764467,
                        "count": 0
                      },
                      {
                        "bin_start": 2.764467,
                        "bin_end": 2.864467,
                        "count": 5
                      },
                      {
                        "bin_start": 2.864467,
                        "bin_end": 2.964467,
                        "count": 0
                      },
                      {
                        "bin_start": 2.964467,
                        "bin_end": 3.0644669999999996,
                        "count": 0
                      },
                      {
                        "bin_start": 3.0644669999999996,
                        "bin_end": 3.1644669999999997,
                        "count": 0
                      },
                      {
                        "bin_start": 3.1644669999999997,
                        "bin_end": 3.264467,
                        "count": 0
                      }
                    ]
                  }
                },
                {
                  "name": "walk",
                  "dtype": "float64",
                  "stats": {
                    "unique_count": 1,
                    "nan_count": 0,
                    "min": 0.0152439024390243,
                    "max": 0.0152439024390243,
                    "histogram": [
                      {
                        "bin_start": -0.4847560975609757,
                        "bin_end": -0.38475609756097573,
                        "count": 0
                      },
                      {
                        "bin_start": -0.38475609756097573,
                        "bin_end": -0.2847560975609757,
                        "count": 0
                      },
                      {
                        "bin_start": -0.2847560975609757,
                        "bin_end": -0.18475609756097566,
                        "count": 0
                      },
                      {
                        "bin_start": -0.18475609756097566,
                        "bin_end": -0.08475609756097569,
                        "count": 0
                      },
                      {
                        "bin_start": -0.08475609756097569,
                        "bin_end": 0.015243902439024293,
                        "count": 0
                      },
                      {
                        "bin_start": 0.015243902439024293,
                        "bin_end": 0.11524390243902438,
                        "count": 5
                      },
                      {
                        "bin_start": 0.11524390243902438,
                        "bin_end": 0.21524390243902436,
                        "count": 0
                      },
                      {
                        "bin_start": 0.21524390243902436,
                        "bin_end": 0.31524390243902434,
                        "count": 0
                      },
                      {
                        "bin_start": 0.31524390243902434,
                        "bin_end": 0.4152439024390243,
                        "count": 0
                      },
                      {
                        "bin_start": 0.4152439024390243,
                        "bin_end": 0.5152439024390243,
                        "count": 0
                      }
                    ]
                  }
                },
                {
                  "name": "public_transportation",
                  "dtype": "float64",
                  "stats": {
                    "unique_count": 1,
                    "nan_count": 0,
                    "min": 0.0164634146341463,
                    "max": 0.0164634146341463,
                    "histogram": [
                      {
                        "bin_start": -0.4835365853658537,
                        "bin_end": -0.38353658536585367,
                        "count": 0
                      },
                      {
                        "bin_start": -0.38353658536585367,
                        "bin_end": -0.2835365853658537,
                        "count": 0
                      },
                      {
                        "bin_start": -0.2835365853658537,
                        "bin_end": -0.18353658536585366,
                        "count": 0
                      },
                      {
                        "bin_start": -0.18353658536585366,
                        "bin_end": -0.08353658536585368,
                        "count": 0
                      },
                      {
                        "bin_start": -0.08353658536585368,
                        "bin_end": 0.0164634146341463,
                        "count": 0
                      },
                      {
                        "bin_start": 0.0164634146341463,
                        "bin_end": 0.11646341463414639,
                        "count": 5
                      },
                      {
                        "bin_start": 0.11646341463414639,
                        "bin_end": 0.21646341463414637,
                        "count": 0
                      },
                      {
                        "bin_start": 0.21646341463414637,
                        "bin_end": 0.31646341463414634,
                        "count": 0
                      },
                      {
                        "bin_start": 0.31646341463414634,
                        "bin_end": 0.4164634146341463,
                        "count": 0
                      },
                      {
                        "bin_start": 0.4164634146341463,
                        "bin_end": 0.5164634146341462,
                        "count": 0
                      }
                    ]
                  }
                },
                {
                  "name": "carpool",
                  "dtype": "float64",
                  "stats": {
                    "unique_count": 1,
                    "nan_count": 0,
                    "min": 0.0807926829268292,
                    "max": 0.0807926829268292,
                    "histogram": [
                      {
                        "bin_start": -0.4192073170731708,
                        "bin_end": -0.31920731707317085,
                        "count": 0
                      },
                      {
                        "bin_start": -0.31920731707317085,
                        "bin_end": -0.21920731707317082,
                        "count": 0
                      },
                      {
                        "bin_start": -0.21920731707317082,
                        "bin_end": -0.11920731707317078,
                        "count": 0
                      },
                      {
                        "bin_start": -0.11920731707317078,
                        "bin_end": -0.019207317073170804,
                        "count": 0
                      },
                      {
                        "bin_start": -0.019207317073170804,
                        "bin_end": 0.08079268292682917,
                        "count": 0
                      },
                      {
                        "bin_start": 0.08079268292682917,
                        "bin_end": 0.18079268292682926,
                        "count": 5
                      },
                      {
                        "bin_start": 0.18079268292682926,
                        "bin_end": 0.28079268292682924,
                        "count": 0
                      },
                      {
                        "bin_start": 0.28079268292682924,
                        "bin_end": 0.3807926829268292,
                        "count": 0
                      },
                      {
                        "bin_start": 0.3807926829268292,
                        "bin_end": 0.4807926829268292,
                        "count": 0
                      },
                      {
                        "bin_start": 0.4807926829268292,
                        "bin_end": 0.5807926829268292,
                        "count": 0
                      }
                    ]
                  }
                },
                {
                  "name": "rex_property_id",
                  "dtype": "int64",
                  "stats": {
                    "unique_count": 4,
                    "nan_count": 0,
                    "min": 231600264,
                    "max": 349475428,
                    "histogram": [
                      {
                        "bin_start": 231600264,
                        "bin_end": 243387780.4,
                        "count": 1
                      },
                      {
                        "bin_start": 243387780.4,
                        "bin_end": 255175296.8,
                        "count": 0
                      },
                      {
                        "bin_start": 255175296.8,
                        "bin_end": 266962813.2,
                        "count": 0
                      },
                      {
                        "bin_start": 266962813.2,
                        "bin_end": 278750329.6,
                        "count": 0
                      },
                      {
                        "bin_start": 278750329.6,
                        "bin_end": 290537846,
                        "count": 0
                      },
                      {
                        "bin_start": 290537846,
                        "bin_end": 302325362.4,
                        "count": 1
                      },
                      {
                        "bin_start": 302325362.4,
                        "bin_end": 314112878.8,
                        "count": 2
                      },
                      {
                        "bin_start": 314112878.8,
                        "bin_end": 325900395.2,
                        "count": 0
                      },
                      {
                        "bin_start": 325900395.2,
                        "bin_end": 337687911.6,
                        "count": 0
                      },
                      {
                        "bin_start": 337687911.6,
                        "bin_end": 349475428,
                        "count": 1
                      }
                    ]
                  }
                },
                {
                  "name": "data_source",
                  "dtype": "object",
                  "stats": {
                    "unique_count": 1,
                    "nan_count": 0,
                    "categories": [
                      {
                        "name": "first_american",
                        "count": 5
                      }
                    ]
                  }
                },
                {
                  "name": "match_full_street_address",
                  "dtype": "object",
                  "stats": {
                    "unique_count": 4,
                    "nan_count": 0,
                    "categories": [
                      {
                        "name": "5235 TABOR ST",
                        "count": 2
                      },
                      {
                        "name": "5622 AMMONS ST",
                        "count": 1
                      },
                      {
                        "name": "2 others",
                        "count": 2
                      }
                    ]
                  }
                },
                {
                  "name": "address_1_pos",
                  "dtype": "object",
                  "stats": {
                    "unique_count": 4,
                    "nan_count": 0,
                    "categories": [
                      {
                        "name": "5235",
                        "count": 2
                      },
                      {
                        "name": "5622",
                        "count": 1
                      },
                      {
                        "name": "2 others",
                        "count": 2
                      }
                    ]
                  }
                },
                {
                  "name": "address_2_pos",
                  "dtype": "object",
                  "stats": {
                    "unique_count": 4,
                    "nan_count": 0,
                    "categories": [
                      {
                        "name": "TABOR",
                        "count": 2
                      },
                      {
                        "name": "AMMONS",
                        "count": 1
                      },
                      {
                        "name": "2 others",
                        "count": 2
                      }
                    ]
                  }
                },
                {
                  "name": "random_property_id",
                  "dtype": "int64",
                  "stats": {
                    "unique_count": 4,
                    "nan_count": 0,
                    "min": 23816978,
                    "max": 23874612,
                    "histogram": [
                      {
                        "bin_start": 23816978,
                        "bin_end": 23822741.4,
                        "count": 1
                      },
                      {
                        "bin_start": 23822741.4,
                        "bin_end": 23828504.8,
                        "count": 0
                      },
                      {
                        "bin_start": 23828504.8,
                        "bin_end": 23834268.2,
                        "count": 0
                      },
                      {
                        "bin_start": 23834268.2,
                        "bin_end": 23840031.6,
                        "count": 0
                      },
                      {
                        "bin_start": 23840031.6,
                        "bin_end": 23845795,
                        "count": 0
                      },
                      {
                        "bin_start": 23845795,
                        "bin_end": 23851558.4,
                        "count": 0
                      },
                      {
                        "bin_start": 23851558.4,
                        "bin_end": 23857321.8,
                        "count": 0
                      },
                      {
                        "bin_start": 23857321.8,
                        "bin_end": 23863085.2,
                        "count": 1
                      },
                      {
                        "bin_start": 23863085.2,
                        "bin_end": 23868848.6,
                        "count": 0
                      },
                      {
                        "bin_start": 23868848.6,
                        "bin_end": 23874612,
                        "count": 3
                      }
                    ]
                  }
                },
                {
                  "name": "zipcode_y",
                  "dtype": "int64",
                  "stats": {
                    "unique_count": 1,
                    "nan_count": 0,
                    "min": 80002,
                    "max": 80002,
                    "histogram": [
                      {
                        "bin_start": 80001.5,
                        "bin_end": 80001.6,
                        "count": 0
                      },
                      {
                        "bin_start": 80001.6,
                        "bin_end": 80001.7,
                        "count": 0
                      },
                      {
                        "bin_start": 80001.7,
                        "bin_end": 80001.8,
                        "count": 0
                      },
                      {
                        "bin_start": 80001.8,
                        "bin_end": 80001.9,
                        "count": 0
                      },
                      {
                        "bin_start": 80001.9,
                        "bin_end": 80002,
                        "count": 0
                      },
                      {
                        "bin_start": 80002,
                        "bin_end": 80002.1,
                        "count": 5
                      },
                      {
                        "bin_start": 80002.1,
                        "bin_end": 80002.2,
                        "count": 0
                      },
                      {
                        "bin_start": 80002.2,
                        "bin_end": 80002.3,
                        "count": 0
                      },
                      {
                        "bin_start": 80002.3,
                        "bin_end": 80002.4,
                        "count": 0
                      },
                      {
                        "bin_start": 80002.4,
                        "bin_end": 80002.5,
                        "count": 0
                      }
                    ]
                  }
                },
                {
                  "name": "fips_y",
                  "dtype": "int64",
                  "stats": {
                    "unique_count": 1,
                    "nan_count": 0,
                    "min": 8059,
                    "max": 8059,
                    "histogram": [
                      {
                        "bin_start": 8058.5,
                        "bin_end": 8058.6,
                        "count": 0
                      },
                      {
                        "bin_start": 8058.6,
                        "bin_end": 8058.7,
                        "count": 0
                      },
                      {
                        "bin_start": 8058.7,
                        "bin_end": 8058.8,
                        "count": 0
                      },
                      {
                        "bin_start": 8058.8,
                        "bin_end": 8058.9,
                        "count": 0
                      },
                      {
                        "bin_start": 8058.9,
                        "bin_end": 8059,
                        "count": 0
                      },
                      {
                        "bin_start": 8059,
                        "bin_end": 8059.1,
                        "count": 5
                      },
                      {
                        "bin_start": 8059.1,
                        "bin_end": 8059.2,
                        "count": 0
                      },
                      {
                        "bin_start": 8059.2,
                        "bin_end": 8059.3,
                        "count": 0
                      },
                      {
                        "bin_start": 8059.3,
                        "bin_end": 8059.4,
                        "count": 0
                      },
                      {
                        "bin_start": 8059.4,
                        "bin_end": 8059.5,
                        "count": 0
                      }
                    ]
                  }
                },
                {
                  "name": "formattedapn",
                  "dtype": "object",
                  "stats": {
                    "unique_count": 4,
                    "nan_count": 0,
                    "categories": [
                      {
                        "name": "39-171-05-111",
                        "count": 2
                      },
                      {
                        "name": "39-113-21-011",
                        "count": 1
                      },
                      {
                        "name": "2 others",
                        "count": 2
                      }
                    ]
                  }
                },
                {
                  "name": "situsstdfullstreetaddress",
                  "dtype": "object",
                  "stats": {
                    "unique_count": 4,
                    "nan_count": 0,
                    "categories": [
                      {
                        "name": "5235 TABOR ST",
                        "count": 2
                      },
                      {
                        "name": "5622 AMMONS ST",
                        "count": 1
                      },
                      {
                        "name": "2 others",
                        "count": 2
                      }
                    ]
                  }
                },
                {
                  "name": "situsstdhousenbr",
                  "dtype": "object",
                  "stats": {
                    "unique_count": 4,
                    "nan_count": 0,
                    "categories": [
                      {
                        "name": "5235.0",
                        "count": 2
                      },
                      {
                        "name": "5622.0",
                        "count": 1
                      },
                      {
                        "name": "2 others",
                        "count": 2
                      }
                    ]
                  }
                },
                {
                  "name": "situsstdstreet",
                  "dtype": "object",
                  "stats": {
                    "unique_count": 4,
                    "nan_count": 0,
                    "categories": [
                      {
                        "name": "TABOR",
                        "count": 2
                      },
                      {
                        "name": "AMMONS",
                        "count": 1
                      },
                      {
                        "name": "2 others",
                        "count": 2
                      }
                    ]
                  }
                },
                {
                  "name": "situsstdcity",
                  "dtype": "object",
                  "stats": {
                    "unique_count": 1,
                    "nan_count": 0,
                    "categories": [
                      {
                        "name": "ARVADA",
                        "count": 5
                      }
                    ]
                  }
                },
                {
                  "name": "situsstdstate",
                  "dtype": "object",
                  "stats": {
                    "unique_count": 1,
                    "nan_count": 0,
                    "categories": [
                      {
                        "name": "CO",
                        "count": 5
                      }
                    ]
                  }
                },
                {
                  "name": "situsstdzip5",
                  "dtype": "int64",
                  "stats": {
                    "unique_count": 1,
                    "nan_count": 0,
                    "min": 80002,
                    "max": 80002,
                    "histogram": [
                      {
                        "bin_start": 80001.5,
                        "bin_end": 80001.6,
                        "count": 0
                      },
                      {
                        "bin_start": 80001.6,
                        "bin_end": 80001.7,
                        "count": 0
                      },
                      {
                        "bin_start": 80001.7,
                        "bin_end": 80001.8,
                        "count": 0
                      },
                      {
                        "bin_start": 80001.8,
                        "bin_end": 80001.9,
                        "count": 0
                      },
                      {
                        "bin_start": 80001.9,
                        "bin_end": 80002,
                        "count": 0
                      },
                      {
                        "bin_start": 80002,
                        "bin_end": 80002.1,
                        "count": 5
                      },
                      {
                        "bin_start": 80002.1,
                        "bin_end": 80002.2,
                        "count": 0
                      },
                      {
                        "bin_start": 80002.2,
                        "bin_end": 80002.3,
                        "count": 0
                      },
                      {
                        "bin_start": 80002.3,
                        "bin_end": 80002.4,
                        "count": 0
                      },
                      {
                        "bin_start": 80002.4,
                        "bin_end": 80002.5,
                        "count": 0
                      }
                    ]
                  }
                },
                {
                  "name": "situslatitude",
                  "dtype": "float64",
                  "stats": {
                    "unique_count": 4,
                    "nan_count": 0,
                    "min": 39.791685,
                    "max": 39.799943,
                    "histogram": [
                      {
                        "bin_start": 39.791685,
                        "bin_end": 39.7925108,
                        "count": 2
                      },
                      {
                        "bin_start": 39.7925108,
                        "bin_end": 39.7933366,
                        "count": 0
                      },
                      {
                        "bin_start": 39.7933366,
                        "bin_end": 39.7941624,
                        "count": 0
                      },
                      {
                        "bin_start": 39.7941624,
                        "bin_end": 39.7949882,
                        "count": 0
                      },
                      {
                        "bin_start": 39.7949882,
                        "bin_end": 39.795814,
                        "count": 0
                      },
                      {
                        "bin_start": 39.795814,
                        "bin_end": 39.7966398,
                        "count": 1
                      },
                      {
                        "bin_start": 39.7966398,
                        "bin_end": 39.7974656,
                        "count": 0
                      },
                      {
                        "bin_start": 39.7974656,
                        "bin_end": 39.7982914,
                        "count": 0
                      },
                      {
                        "bin_start": 39.7982914,
                        "bin_end": 39.7991172,
                        "count": 1
                      },
                      {
                        "bin_start": 39.7991172,
                        "bin_end": 39.799943,
                        "count": 1
                      }
                    ]
                  }
                },
                {
                  "name": "situslongitude",
                  "dtype": "float64",
                  "stats": {
                    "unique_count": 4,
                    "nan_count": 0,
                    "min": -105.130879,
                    "max": -105.087008,
                    "histogram": [
                      {
                        "bin_start": -105.130879,
                        "bin_end": -105.12649189999999,
                        "count": 2
                      },
                      {
                        "bin_start": -105.12649189999999,
                        "bin_end": -105.12210479999999,
                        "count": 0
                      },
                      {
                        "bin_start": -105.12210479999999,
                        "bin_end": -105.1177177,
                        "count": 0
                      },
                      {
                        "bin_start": -105.1177177,
                        "bin_end": -105.1133306,
                        "count": 0
                      },
                      {
                        "bin_start": -105.1133306,
                        "bin_end": -105.1089435,
                        "count": 0
                      },
                      {
                        "bin_start": -105.1089435,
                        "bin_end": -105.10455639999999,
                        "count": 1
                      },
                      {
                        "bin_start": -105.10455639999999,
                        "bin_end": -105.10016929999999,
                        "count": 0
                      },
                      {
                        "bin_start": -105.10016929999999,
                        "bin_end": -105.0957822,
                        "count": 0
                      },
                      {
                        "bin_start": -105.0957822,
                        "bin_end": -105.0913951,
                        "count": 1
                      },
                      {
                        "bin_start": -105.0913951,
                        "bin_end": -105.087008,
                        "count": 1
                      }
                    ]
                  }
                },
                {
                  "name": "situsgeostatuscode",
                  "dtype": "object",
                  "stats": {
                    "unique_count": 1,
                    "nan_count": 0,
                    "categories": [
                      {
                        "name": "B",
                        "count": 5
                      }
                    ]
                  }
                },
                {
                  "name": "propertyclassid",
                  "dtype": "object",
                  "stats": {
                    "unique_count": 1,
                    "nan_count": 0,
                    "categories": [
                      {
                        "name": "R",
                        "count": 5
                      }
                    ]
                  }
                },
                {
                  "name": "stdlandusecode",
                  "dtype": "int64",
                  "stats": {
                    "unique_count": 1,
                    "nan_count": 0,
                    "min": 1001,
                    "max": 1001,
                    "histogram": [
                      {
                        "bin_start": 1000.5,
                        "bin_end": 1000.6,
                        "count": 0
                      },
                      {
                        "bin_start": 1000.6,
                        "bin_end": 1000.7,
                        "count": 0
                      },
                      {
                        "bin_start": 1000.7,
                        "bin_end": 1000.8,
                        "count": 0
                      },
                      {
                        "bin_start": 1000.8,
                        "bin_end": 1000.9,
                        "count": 0
                      },
                      {
                        "bin_start": 1000.9,
                        "bin_end": 1001,
                        "count": 0
                      },
                      {
                        "bin_start": 1001,
                        "bin_end": 1001.1,
                        "count": 5
                      },
                      {
                        "bin_start": 1001.1,
                        "bin_end": 1001.2,
                        "count": 0
                      },
                      {
                        "bin_start": 1001.2,
                        "bin_end": 1001.3,
                        "count": 0
                      },
                      {
                        "bin_start": 1001.3,
                        "bin_end": 1001.4,
                        "count": 0
                      },
                      {
                        "bin_start": 1001.4,
                        "bin_end": 1001.5,
                        "count": 0
                      }
                    ]
                  }
                },
                {
                  "name": "lotsizedepthfeet",
                  "dtype": "int64",
                  "stats": {
                    "unique_count": 1,
                    "nan_count": 0,
                    "min": 0,
                    "max": 0,
                    "histogram": [
                      {
                        "bin_start": -0.5,
                        "bin_end": -0.4,
                        "count": 0
                      },
                      {
                        "bin_start": -0.4,
                        "bin_end": -0.3,
                        "count": 0
                      },
                      {
                        "bin_start": -0.3,
                        "bin_end": -0.19999999999999996,
                        "count": 0
                      },
                      {
                        "bin_start": -0.19999999999999996,
                        "bin_end": -0.09999999999999998,
                        "count": 0
                      },
                      {
                        "bin_start": -0.09999999999999998,
                        "bin_end": 0,
                        "count": 0
                      },
                      {
                        "bin_start": 0,
                        "bin_end": 0.10000000000000009,
                        "count": 5
                      },
                      {
                        "bin_start": 0.10000000000000009,
                        "bin_end": 0.20000000000000007,
                        "count": 0
                      },
                      {
                        "bin_start": 0.20000000000000007,
                        "bin_end": 0.30000000000000004,
                        "count": 0
                      },
                      {
                        "bin_start": 0.30000000000000004,
                        "bin_end": 0.4,
                        "count": 0
                      },
                      {
                        "bin_start": 0.4,
                        "bin_end": 0.5,
                        "count": 0
                      }
                    ]
                  }
                },
                {
                  "name": "lotsizeacres",
                  "dtype": "int64",
                  "stats": {
                    "unique_count": 4,
                    "nan_count": 0,
                    "min": 148,
                    "max": 195,
                    "histogram": [
                      {
                        "bin_start": 148,
                        "bin_end": 152.7,
                        "count": 1
                      },
                      {
                        "bin_start": 152.7,
                        "bin_end": 157.4,
                        "count": 0
                      },
                      {
                        "bin_start": 157.4,
                        "bin_end": 162.1,
                        "count": 0
                      },
                      {
                        "bin_start": 162.1,
                        "bin_end": 166.8,
                        "count": 1
                      },
                      {
                        "bin_start": 166.8,
                        "bin_end": 171.5,
                        "count": 1
                      },
                      {
                        "bin_start": 171.5,
                        "bin_end": 176.2,
                        "count": 0
                      },
                      {
                        "bin_start": 176.2,
                        "bin_end": 180.9,
                        "count": 0
                      },
                      {
                        "bin_start": 180.9,
                        "bin_end": 185.6,
                        "count": 0
                      },
                      {
                        "bin_start": 185.6,
                        "bin_end": 190.3,
                        "count": 0
                      },
                      {
                        "bin_start": 190.3,
                        "bin_end": 195,
                        "count": 2
                      }
                    ]
                  }
                },
                {
                  "name": "lotsizesqft",
                  "dtype": "int64",
                  "stats": {
                    "unique_count": 4,
                    "nan_count": 0,
                    "min": 6447,
                    "max": 8494,
                    "histogram": [
                      {
                        "bin_start": 6447,
                        "bin_end": 6651.7,
                        "count": 1
                      },
                      {
                        "bin_start": 6651.7,
                        "bin_end": 6856.4,
                        "count": 0
                      },
                      {
                        "bin_start": 6856.4,
                        "bin_end": 7061.1,
                        "count": 0
                      },
                      {
                        "bin_start": 7061.1,
                        "bin_end": 7265.8,
                        "count": 1
                      },
                      {
                        "bin_start": 7265.8,
                        "bin_end": 7470.5,
                        "count": 1
                      },
                      {
                        "bin_start": 7470.5,
                        "bin_end": 7675.2,
                        "count": 0
                      },
                      {
                        "bin_start": 7675.2,
                        "bin_end": 7879.9,
                        "count": 0
                      },
                      {
                        "bin_start": 7879.9,
                        "bin_end": 8084.6,
                        "count": 0
                      },
                      {
                        "bin_start": 8084.6,
                        "bin_end": 8289.3,
                        "count": 0
                      },
                      {
                        "bin_start": 8289.3,
                        "bin_end": 8494,
                        "count": 2
                      }
                    ]
                  }
                },
                {
                  "name": "ownerstdname1full",
                  "dtype": "object",
                  "stats": {
                    "unique_count": 4,
                    "nan_count": 0,
                    "categories": [
                      {
                        "name": "FLAGSTEAD JEFFREY",
                        "count": 2
                      },
                      {
                        "name": "JOHNSON NICOLENA M",
                        "count": 1
                      },
                      {
                        "name": "2 others",
                        "count": 2
                      }
                    ]
                  }
                },
                {
                  "name": "assdtotalvalue",
                  "dtype": "int64",
                  "stats": {
                    "unique_count": 4,
                    "nan_count": 0,
                    "min": 23941,
                    "max": 46285,
                    "histogram": [
                      {
                        "bin_start": 23941,
                        "bin_end": 26175.4,
                        "count": 1
                      },
                      {
                        "bin_start": 26175.4,
                        "bin_end": 28409.8,
                        "count": 1
                      },
                      {
                        "bin_start": 28409.8,
                        "bin_end": 30644.2,
                        "count": 0
                      },
                      {
                        "bin_start": 30644.2,
                        "bin_end": 32878.6,
                        "count": 0
                      },
                      {
                        "bin_start": 32878.6,
                        "bin_end": 35113,
                        "count": 2
                      },
                      {
                        "bin_start": 35113,
                        "bin_end": 37347.4,
                        "count": 0
                      },
                      {
                        "bin_start": 37347.4,
                        "bin_end": 39581.8,
                        "count": 0
                      },
                      {
                        "bin_start": 39581.8,
                        "bin_end": 41816.2,
                        "count": 0
                      },
                      {
                        "bin_start": 41816.2,
                        "bin_end": 44050.600000000006,
                        "count": 0
                      },
                      {
                        "bin_start": 44050.600000000006,
                        "bin_end": 46285,
                        "count": 1
                      }
                    ]
                  }
                },
                {
                  "name": "assdlandvalue",
                  "dtype": "int64",
                  "stats": {
                    "unique_count": 4,
                    "nan_count": 0,
                    "min": 8942,
                    "max": 13656,
                    "histogram": [
                      {
                        "bin_start": 8942,
                        "bin_end": 9413.4,
                        "count": 1
                      },
                      {
                        "bin_start": 9413.4,
                        "bin_end": 9884.8,
                        "count": 0
                      },
                      {
                        "bin_start": 9884.8,
                        "bin_end": 10356.2,
                        "count": 1
                      },
                      {
                        "bin_start": 10356.2,
                        "bin_end": 10827.6,
                        "count": 0
                      },
                      {
                        "bin_start": 10827.6,
                        "bin_end": 11299,
                        "count": 0
                      },
                      {
                        "bin_start": 11299,
                        "bin_end": 11770.4,
                        "count": 0
                      },
                      {
                        "bin_start": 11770.4,
                        "bin_end": 12241.8,
                        "count": 2
                      },
                      {
                        "bin_start": 12241.8,
                        "bin_end": 12713.2,
                        "count": 0
                      },
                      {
                        "bin_start": 12713.2,
                        "bin_end": 13184.599999999999,
                        "count": 0
                      },
                      {
                        "bin_start": 13184.599999999999,
                        "bin_end": 13656,
                        "count": 1
                      }
                    ]
                  }
                },
                {
                  "name": "assdimprovementvalue",
                  "dtype": "int64",
                  "stats": {
                    "unique_count": 4,
                    "nan_count": 0,
                    "min": 13730,
                    "max": 32629,
                    "histogram": [
                      {
                        "bin_start": 13730,
                        "bin_end": 15619.9,
                        "count": 1
                      },
                      {
                        "bin_start": 15619.9,
                        "bin_end": 17509.8,
                        "count": 0
                      },
                      {
                        "bin_start": 17509.8,
                        "bin_end": 19399.7,
                        "count": 0
                      },
                      {
                        "bin_start": 19399.7,
                        "bin_end": 21289.6,
                        "count": 3
                      },
                      {
                        "bin_start": 21289.6,
                        "bin_end": 23179.5,
                        "count": 0
                      },
                      {
                        "bin_start": 23179.5,
                        "bin_end": 25069.4,
                        "count": 0
                      },
                      {
                        "bin_start": 25069.4,
                        "bin_end": 26959.300000000003,
                        "count": 0
                      },
                      {
                        "bin_start": 26959.300000000003,
                        "bin_end": 28849.2,
                        "count": 0
                      },
                      {
                        "bin_start": 28849.2,
                        "bin_end": 30739.100000000002,
                        "count": 0
                      },
                      {
                        "bin_start": 30739.100000000002,
                        "bin_end": 32629,
                        "count": 1
                      }
                    ]
                  }
                },
                {
                  "name": "markettotalvalue",
                  "dtype": "int64",
                  "stats": {
                    "unique_count": 4,
                    "nan_count": 0,
                    "min": 334831,
                    "max": 647344,
                    "histogram": [
                      {
                        "bin_start": 334831,
                        "bin_end": 366082.3,
                        "count": 1
                      },
                      {
                        "bin_start": 366082.3,
                        "bin_end": 397333.6,
                        "count": 1
                      },
                      {
                        "bin_start": 397333.6,
                        "bin_end": 428584.9,
                        "count": 0
                      },
                      {
                        "bin_start": 428584.9,
                        "bin_end": 459836.2,
                        "count": 0
                      },
                      {
                        "bin_start": 459836.2,
                        "bin_end": 491087.5,
                        "count": 2
                      },
                      {
                        "bin_start": 491087.5,
                        "bin_end": 522338.8,
                        "count": 0
                      },
                      {
                        "bin_start": 522338.8,
                        "bin_end": 553590.1,
                        "count": 0
                      },
                      {
                        "bin_start": 553590.1,
                        "bin_end": 584841.4,
                        "count": 0
                      },
                      {
                        "bin_start": 584841.4,
                        "bin_end": 616092.7,
                        "count": 0
                      },
                      {
                        "bin_start": 616092.7,
                        "bin_end": 647344,
                        "count": 1
                      }
                    ]
                  }
                },
                {
                  "name": "marketvalueland",
                  "dtype": "int64",
                  "stats": {
                    "unique_count": 4,
                    "nan_count": 0,
                    "min": 125060,
                    "max": 190993,
                    "histogram": [
                      {
                        "bin_start": 125060,
                        "bin_end": 131653.3,
                        "count": 1
                      },
                      {
                        "bin_start": 131653.3,
                        "bin_end": 138246.6,
                        "count": 0
                      },
                      {
                        "bin_start": 138246.6,
                        "bin_end": 144839.9,
                        "count": 1
                      },
                      {
                        "bin_start": 144839.9,
                        "bin_end": 151433.2,
                        "count": 0
                      },
                      {
                        "bin_start": 151433.2,
                        "bin_end": 158026.5,
                        "count": 0
                      },
                      {
                        "bin_start": 158026.5,
                        "bin_end": 164619.8,
                        "count": 0
                      },
                      {
                        "bin_start": 164619.8,
                        "bin_end": 171213.1,
                        "count": 2
                      },
                      {
                        "bin_start": 171213.1,
                        "bin_end": 177806.4,
                        "count": 0
                      },
                      {
                        "bin_start": 177806.4,
                        "bin_end": 184399.7,
                        "count": 0
                      },
                      {
                        "bin_start": 184399.7,
                        "bin_end": 190993,
                        "count": 1
                      }
                    ]
                  }
                },
                {
                  "name": "marketvalueimprovement",
                  "dtype": "int64",
                  "stats": {
                    "unique_count": 4,
                    "nan_count": 0,
                    "min": 192026,
                    "max": 456351,
                    "histogram": [
                      {
                        "bin_start": 192026,
                        "bin_end": 218458.5,
                        "count": 1
                      },
                      {
                        "bin_start": 218458.5,
                        "bin_end": 244891,
                        "count": 0
                      },
                      {
                        "bin_start": 244891,
                        "bin_end": 271323.5,
                        "count": 0
                      },
                      {
                        "bin_start": 271323.5,
                        "bin_end": 297756,
                        "count": 3
                      },
                      {
                        "bin_start": 297756,
                        "bin_end": 324188.5,
                        "count": 0
                      },
                      {
                        "bin_start": 324188.5,
                        "bin_end": 350621,
                        "count": 0
                      },
                      {
                        "bin_start": 350621,
                        "bin_end": 377053.5,
                        "count": 0
                      },
                      {
                        "bin_start": 377053.5,
                        "bin_end": 403486,
                        "count": 0
                      },
                      {
                        "bin_start": 403486,
                        "bin_end": 429918.5,
                        "count": 0
                      },
                      {
                        "bin_start": 429918.5,
                        "bin_end": 456351,
                        "count": 1
                      }
                    ]
                  }
                },
                {
                  "name": "taxyear",
                  "dtype": "int64",
                  "stats": {
                    "unique_count": 1,
                    "nan_count": 0,
                    "min": 2019,
                    "max": 2019,
                    "histogram": [
                      {
                        "bin_start": 2018.5,
                        "bin_end": 2018.6,
                        "count": 0
                      },
                      {
                        "bin_start": 2018.6,
                        "bin_end": 2018.7,
                        "count": 0
                      },
                      {
                        "bin_start": 2018.7,
                        "bin_end": 2018.8,
                        "count": 0
                      },
                      {
                        "bin_start": 2018.8,
                        "bin_end": 2018.9,
                        "count": 0
                      },
                      {
                        "bin_start": 2018.9,
                        "bin_end": 2019,
                        "count": 0
                      },
                      {
                        "bin_start": 2019,
                        "bin_end": 2019.1,
                        "count": 5
                      },
                      {
                        "bin_start": 2019.1,
                        "bin_end": 2019.2,
                        "count": 0
                      },
                      {
                        "bin_start": 2019.2,
                        "bin_end": 2019.3,
                        "count": 0
                      },
                      {
                        "bin_start": 2019.3,
                        "bin_end": 2019.4,
                        "count": 0
                      },
                      {
                        "bin_start": 2019.4,
                        "bin_end": 2019.5,
                        "count": 0
                      }
                    ]
                  }
                },
                {
                  "name": "assdyear",
                  "dtype": "int64",
                  "stats": {
                    "unique_count": 1,
                    "nan_count": 0,
                    "min": 2019,
                    "max": 2019,
                    "histogram": [
                      {
                        "bin_start": 2018.5,
                        "bin_end": 2018.6,
                        "count": 0
                      },
                      {
                        "bin_start": 2018.6,
                        "bin_end": 2018.7,
                        "count": 0
                      },
                      {
                        "bin_start": 2018.7,
                        "bin_end": 2018.8,
                        "count": 0
                      },
                      {
                        "bin_start": 2018.8,
                        "bin_end": 2018.9,
                        "count": 0
                      },
                      {
                        "bin_start": 2018.9,
                        "bin_end": 2019,
                        "count": 0
                      },
                      {
                        "bin_start": 2019,
                        "bin_end": 2019.1,
                        "count": 5
                      },
                      {
                        "bin_start": 2019.1,
                        "bin_end": 2019.2,
                        "count": 0
                      },
                      {
                        "bin_start": 2019.2,
                        "bin_end": 2019.3,
                        "count": 0
                      },
                      {
                        "bin_start": 2019.3,
                        "bin_end": 2019.4,
                        "count": 0
                      },
                      {
                        "bin_start": 2019.4,
                        "bin_end": 2019.5,
                        "count": 0
                      }
                    ]
                  }
                },
                {
                  "name": "buildingarea",
                  "dtype": "float64",
                  "stats": {
                    "unique_count": 4,
                    "nan_count": 0,
                    "min": 1120,
                    "max": 1826,
                    "histogram": [
                      {
                        "bin_start": 1120,
                        "bin_end": 1190.6,
                        "count": 1
                      },
                      {
                        "bin_start": 1190.6,
                        "bin_end": 1261.2,
                        "count": 0
                      },
                      {
                        "bin_start": 1261.2,
                        "bin_end": 1331.8,
                        "count": 0
                      },
                      {
                        "bin_start": 1331.8,
                        "bin_end": 1402.4,
                        "count": 2
                      },
                      {
                        "bin_start": 1402.4,
                        "bin_end": 1473,
                        "count": 0
                      },
                      {
                        "bin_start": 1473,
                        "bin_end": 1543.6,
                        "count": 1
                      },
                      {
                        "bin_start": 1543.6,
                        "bin_end": 1614.1999999999998,
                        "count": 0
                      },
                      {
                        "bin_start": 1614.1999999999998,
                        "bin_end": 1684.8,
                        "count": 0
                      },
                      {
                        "bin_start": 1684.8,
                        "bin_end": 1755.4,
                        "count": 0
                      },
                      {
                        "bin_start": 1755.4,
                        "bin_end": 1826,
                        "count": 1
                      }
                    ]
                  }
                },
                {
                  "name": "sumbuildingsqft",
                  "dtype": "float64",
                  "stats": {
                    "unique_count": 4,
                    "nan_count": 0,
                    "min": 1120,
                    "max": 1826,
                    "histogram": [
                      {
                        "bin_start": 1120,
                        "bin_end": 1190.6,
                        "count": 1
                      },
                      {
                        "bin_start": 1190.6,
                        "bin_end": 1261.2,
                        "count": 0
                      },
                      {
                        "bin_start": 1261.2,
                        "bin_end": 1331.8,
                        "count": 0
                      },
                      {
                        "bin_start": 1331.8,
                        "bin_end": 1402.4,
                        "count": 2
                      },
                      {
                        "bin_start": 1402.4,
                        "bin_end": 1473,
                        "count": 0
                      },
                      {
                        "bin_start": 1473,
                        "bin_end": 1543.6,
                        "count": 1
                      },
                      {
                        "bin_start": 1543.6,
                        "bin_end": 1614.1999999999998,
                        "count": 0
                      },
                      {
                        "bin_start": 1614.1999999999998,
                        "bin_end": 1684.8,
                        "count": 0
                      },
                      {
                        "bin_start": 1684.8,
                        "bin_end": 1755.4,
                        "count": 0
                      },
                      {
                        "bin_start": 1755.4,
                        "bin_end": 1826,
                        "count": 1
                      }
                    ]
                  }
                },
                {
                  "name": "bedrooms",
                  "dtype": "float64",
                  "stats": {
                    "unique_count": 3,
                    "nan_count": 0,
                    "min": 3,
                    "max": 5,
                    "histogram": [
                      {
                        "bin_start": 3,
                        "bin_end": 3.2,
                        "count": 3
                      },
                      {
                        "bin_start": 3.2,
                        "bin_end": 3.4,
                        "count": 0
                      },
                      {
                        "bin_start": 3.4,
                        "bin_end": 3.6,
                        "count": 0
                      },
                      {
                        "bin_start": 3.6,
                        "bin_end": 3.8,
                        "count": 0
                      },
                      {
                        "bin_start": 3.8,
                        "bin_end": 4,
                        "count": 0
                      },
                      {
                        "bin_start": 4,
                        "bin_end": 4.2,
                        "count": 1
                      },
                      {
                        "bin_start": 4.2,
                        "bin_end": 4.4,
                        "count": 0
                      },
                      {
                        "bin_start": 4.4,
                        "bin_end": 4.6,
                        "count": 0
                      },
                      {
                        "bin_start": 4.6,
                        "bin_end": 4.8,
                        "count": 0
                      },
                      {
                        "bin_start": 4.8,
                        "bin_end": 5,
                        "count": 1
                      }
                    ]
                  }
                },
                {
                  "name": "totalrooms",
                  "dtype": "float64",
                  "stats": {
                    "unique_count": 4,
                    "nan_count": 0,
                    "min": 0,
                    "max": 13,
                    "histogram": [
                      {
                        "bin_start": 0,
                        "bin_end": 1.3,
                        "count": 1
                      },
                      {
                        "bin_start": 1.3,
                        "bin_end": 2.6,
                        "count": 0
                      },
                      {
                        "bin_start": 2.6,
                        "bin_end": 3.9000000000000004,
                        "count": 0
                      },
                      {
                        "bin_start": 3.9000000000000004,
                        "bin_end": 5.2,
                        "count": 0
                      },
                      {
                        "bin_start": 5.2,
                        "bin_end": 6.5,
                        "count": 0
                      },
                      {
                        "bin_start": 6.5,
                        "bin_end": 7.800000000000001,
                        "count": 1
                      },
                      {
                        "bin_start": 7.800000000000001,
                        "bin_end": 9.1,
                        "count": 0
                      },
                      {
                        "bin_start": 9.1,
                        "bin_end": 10.4,
                        "count": 2
                      },
                      {
                        "bin_start": 10.4,
                        "bin_end": 11.700000000000001,
                        "count": 0
                      },
                      {
                        "bin_start": 11.700000000000001,
                        "bin_end": 13,
                        "count": 1
                      }
                    ]
                  }
                },
                {
                  "name": "bathtotalcalc",
                  "dtype": "float64",
                  "stats": {
                    "unique_count": 2,
                    "nan_count": 0,
                    "min": 2,
                    "max": 3,
                    "histogram": [
                      {
                        "bin_start": 2,
                        "bin_end": 2.1,
                        "count": 2
                      },
                      {
                        "bin_start": 2.1,
                        "bin_end": 2.2,
                        "count": 0
                      },
                      {
                        "bin_start": 2.2,
                        "bin_end": 2.3,
                        "count": 0
                      },
                      {
                        "bin_start": 2.3,
                        "bin_end": 2.4,
                        "count": 0
                      },
                      {
                        "bin_start": 2.4,
                        "bin_end": 2.5,
                        "count": 0
                      },
                      {
                        "bin_start": 2.5,
                        "bin_end": 2.6,
                        "count": 0
                      },
                      {
                        "bin_start": 2.6,
                        "bin_end": 2.7,
                        "count": 0
                      },
                      {
                        "bin_start": 2.7,
                        "bin_end": 2.8,
                        "count": 0
                      },
                      {
                        "bin_start": 2.8,
                        "bin_end": 2.9,
                        "count": 0
                      },
                      {
                        "bin_start": 2.9,
                        "bin_end": 3,
                        "count": 3
                      }
                    ]
                  }
                },
                {
                  "name": "bathfull",
                  "dtype": "float64",
                  "stats": {
                    "unique_count": 3,
                    "nan_count": 0,
                    "min": 1,
                    "max": 3,
                    "histogram": [
                      {
                        "bin_start": 1,
                        "bin_end": 1.2,
                        "count": 3
                      },
                      {
                        "bin_start": 1.2,
                        "bin_end": 1.4,
                        "count": 0
                      },
                      {
                        "bin_start": 1.4,
                        "bin_end": 1.6,
                        "count": 0
                      },
                      {
                        "bin_start": 1.6,
                        "bin_end": 1.8,
                        "count": 0
                      },
                      {
                        "bin_start": 1.8,
                        "bin_end": 2,
                        "count": 0
                      },
                      {
                        "bin_start": 2,
                        "bin_end": 2.2,
                        "count": 1
                      },
                      {
                        "bin_start": 2.2,
                        "bin_end": 2.4000000000000004,
                        "count": 0
                      },
                      {
                        "bin_start": 2.4000000000000004,
                        "bin_end": 2.6,
                        "count": 0
                      },
                      {
                        "bin_start": 2.6,
                        "bin_end": 2.8,
                        "count": 0
                      },
                      {
                        "bin_start": 2.8,
                        "bin_end": 3,
                        "count": 1
                      }
                    ]
                  }
                },
                {
                  "name": "bathsparcialnbr",
                  "dtype": "float64",
                  "stats": {
                    "unique_count": 2,
                    "nan_count": 0,
                    "min": 0,
                    "max": 1,
                    "histogram": [
                      {
                        "bin_start": 0,
                        "bin_end": 0.1,
                        "count": 4
                      },
                      {
                        "bin_start": 0.1,
                        "bin_end": 0.2,
                        "count": 0
                      },
                      {
                        "bin_start": 0.2,
                        "bin_end": 0.30000000000000004,
                        "count": 0
                      },
                      {
                        "bin_start": 0.30000000000000004,
                        "bin_end": 0.4,
                        "count": 0
                      },
                      {
                        "bin_start": 0.4,
                        "bin_end": 0.5,
                        "count": 0
                      },
                      {
                        "bin_start": 0.5,
                        "bin_end": 0.6000000000000001,
                        "count": 0
                      },
                      {
                        "bin_start": 0.6000000000000001,
                        "bin_end": 0.7000000000000001,
                        "count": 0
                      },
                      {
                        "bin_start": 0.7000000000000001,
                        "bin_end": 0.8,
                        "count": 0
                      },
                      {
                        "bin_start": 0.8,
                        "bin_end": 0.9,
                        "count": 0
                      },
                      {
                        "bin_start": 0.9,
                        "bin_end": 1,
                        "count": 1
                      }
                    ]
                  }
                },
                {
                  "name": "garageparkingnbr",
                  "dtype": "int64",
                  "stats": {
                    "unique_count": 3,
                    "nan_count": 0,
                    "min": 0,
                    "max": 2,
                    "histogram": [
                      {
                        "bin_start": 0,
                        "bin_end": 0.2,
                        "count": 1
                      },
                      {
                        "bin_start": 0.2,
                        "bin_end": 0.4,
                        "count": 0
                      },
                      {
                        "bin_start": 0.4,
                        "bin_end": 0.6000000000000001,
                        "count": 0
                      },
                      {
                        "bin_start": 0.6000000000000001,
                        "bin_end": 0.8,
                        "count": 0
                      },
                      {
                        "bin_start": 0.8,
                        "bin_end": 1,
                        "count": 0
                      },
                      {
                        "bin_start": 1,
                        "bin_end": 1.2000000000000002,
                        "count": 2
                      },
                      {
                        "bin_start": 1.2000000000000002,
                        "bin_end": 1.4000000000000001,
                        "count": 0
                      },
                      {
                        "bin_start": 1.4000000000000001,
                        "bin_end": 1.6,
                        "count": 0
                      },
                      {
                        "bin_start": 1.6,
                        "bin_end": 1.8,
                        "count": 0
                      },
                      {
                        "bin_start": 1.8,
                        "bin_end": 2,
                        "count": 2
                      }
                    ]
                  }
                },
                {
                  "name": "sumresidentialunits",
                  "dtype": "float64",
                  "stats": {
                    "unique_count": 1,
                    "nan_count": 0,
                    "min": 1,
                    "max": 1,
                    "histogram": [
                      {
                        "bin_start": 0.5,
                        "bin_end": 0.6,
                        "count": 0
                      },
                      {
                        "bin_start": 0.6,
                        "bin_end": 0.7,
                        "count": 0
                      },
                      {
                        "bin_start": 0.7,
                        "bin_end": 0.8,
                        "count": 0
                      },
                      {
                        "bin_start": 0.8,
                        "bin_end": 0.9,
                        "count": 0
                      },
                      {
                        "bin_start": 0.9,
                        "bin_end": 1,
                        "count": 0
                      },
                      {
                        "bin_start": 1,
                        "bin_end": 1.1,
                        "count": 5
                      },
                      {
                        "bin_start": 1.1,
                        "bin_end": 1.2000000000000002,
                        "count": 0
                      },
                      {
                        "bin_start": 1.2000000000000002,
                        "bin_end": 1.3,
                        "count": 0
                      },
                      {
                        "bin_start": 1.3,
                        "bin_end": 1.4,
                        "count": 0
                      },
                      {
                        "bin_start": 1.4,
                        "bin_end": 1.5,
                        "count": 0
                      }
                    ]
                  }
                },
                {
                  "name": "sumbuildingsnbr",
                  "dtype": "float64",
                  "stats": {
                    "unique_count": 1,
                    "nan_count": 0,
                    "min": 0,
                    "max": 0,
                    "histogram": [
                      {
                        "bin_start": -0.5,
                        "bin_end": -0.4,
                        "count": 0
                      },
                      {
                        "bin_start": -0.4,
                        "bin_end": -0.3,
                        "count": 0
                      },
                      {
                        "bin_start": -0.3,
                        "bin_end": -0.19999999999999996,
                        "count": 0
                      },
                      {
                        "bin_start": -0.19999999999999996,
                        "bin_end": -0.09999999999999998,
                        "count": 0
                      },
                      {
                        "bin_start": -0.09999999999999998,
                        "bin_end": 0,
                        "count": 0
                      },
                      {
                        "bin_start": 0,
                        "bin_end": 0.10000000000000009,
                        "count": 5
                      },
                      {
                        "bin_start": 0.10000000000000009,
                        "bin_end": 0.20000000000000007,
                        "count": 0
                      },
                      {
                        "bin_start": 0.20000000000000007,
                        "bin_end": 0.30000000000000004,
                        "count": 0
                      },
                      {
                        "bin_start": 0.30000000000000004,
                        "bin_end": 0.4,
                        "count": 0
                      },
                      {
                        "bin_start": 0.4,
                        "bin_end": 0.5,
                        "count": 0
                      }
                    ]
                  }
                },
                {
                  "name": "faucidflag",
                  "dtype": "object",
                  "stats": {
                    "unique_count": 1,
                    "nan_count": 0,
                    "categories": [
                      {
                        "name": "C",
                        "count": 5
                      }
                    ]
                  }
                },
                {
                  "name": "house_market_exists",
                  "dtype": "bool",
                  "stats": {
                    "unique_count": 1,
                    "nan_count": 0,
                    "categories": [
                      {
                        "name": "True",
                        "count": 5
                      }
                    ]
                  }
                },
                {
                  "name": "datatree_exists",
                  "dtype": "bool",
                  "stats": {
                    "unique_count": 1,
                    "nan_count": 0,
                    "categories": [
                      {
                        "name": "False",
                        "count": 5
                      }
                    ]
                  }
                },
                {
                  "name": "property_internal_exists",
                  "dtype": "bool",
                  "stats": {
                    "unique_count": 1,
                    "nan_count": 0,
                    "categories": [
                      {
                        "name": "False",
                        "count": 5
                      }
                    ]
                  }
                },
                {
                  "name": "_deepnote_index_column",
                  "dtype": "int64"
                }
              ],
              "rows_top": [
                {
                  "cc_property_id": 138560546,
                  "zipcode_x": 80002,
                  "fips_x": 8059,
                  "sqft": 1687,
                  "property_type_x": "SINGLE",
                  "has_central_air": false,
                  "has_jacuzzi": false,
                  "has_pool": false,
                  "has_solar": false,
                  "has_garage": false,
                  "list_date": "2018-05-17",
                  "sale_date": "2018-07-09",
                  "sale_price_per_sqft": 207.4688796680498,
                  "farm_score": 100,
                  "median_rental_price": 2385,
                  "pop_density": 3317.321845,
                  "first_time_homebuyer_score": 100,
                  "retirement_friendly_score": 66.918255,
                  "young_single_professional_score": 43.566921,
                  "college_student_friendly_score": 67.42143,
                  "violent_crime_rate": 2.764467,
                  "walk": 0.0152439024390243,
                  "public_transportation": 0.0164634146341463,
                  "carpool": 0.0807926829268292,
                  "rex_property_id": 349475428,
                  "data_source": "first_american",
                  "match_full_street_address": "5622 AMMONS ST",
                  "address_1_pos": 5622,
                  "address_2_pos": "AMMONS",
                  "random_property_id": 23869850,
                  "zipcode_y": 80002,
                  "fips_y": 8059,
                  "formattedapn": "39-113-21-011",
                  "situsstdfullstreetaddress": "5622 AMMONS ST",
                  "situsstdhousenbr": 5622,
                  "situsstdstreet": "AMMONS",
                  "situsstdcity": "ARVADA",
                  "situsstdstate": "CO",
                  "situsstdzip5": 80002,
                  "situslatitude": 39.799943,
                  "situslongitude": -105.087008,
                  "situsgeostatuscode": "B",
                  "propertyclassid": "R",
                  "stdlandusecode": 1001,
                  "lotsizedepthfeet": 0,
                  "lotsizeacres": 163,
                  "lotsizesqft": 7100,
                  "ownerstdname1full": "JOHNSON NICOLENA M",
                  "assdtotalvalue": 46285,
                  "assdlandvalue": 13656,
                  "assdimprovementvalue": 32629,
                  "markettotalvalue": 647344,
                  "marketvalueland": 190993,
                  "marketvalueimprovement": 456351,
                  "taxyear": 2019,
                  "assdyear": 2019,
                  "buildingarea": 1826,
                  "sumbuildingsqft": 1826,
                  "bedrooms": 4,
                  "totalrooms": 0,
                  "bathtotalcalc": 3,
                  "bathfull": 3,
                  "bathsparcialnbr": 0,
                  "garageparkingnbr": 1,
                  "sumresidentialunits": 1,
                  "sumbuildingsnbr": 0,
                  "faucidflag": "C",
                  "house_market_exists": true,
                  "datatree_exists": false,
                  "property_internal_exists": false,
                  "_deepnote_index_column": 0
                },
                {
                  "cc_property_id": 138555680,
                  "zipcode_x": 80002,
                  "fips_x": 8059,
                  "sqft": 2220,
                  "property_type_x": "SINGLE",
                  "has_central_air": false,
                  "has_jacuzzi": false,
                  "has_pool": false,
                  "has_solar": false,
                  "has_garage": false,
                  "list_date": "2019-12-27",
                  "sale_date": "2020-01-31",
                  "sale_price_per_sqft": 191.44144144144144,
                  "farm_score": 100,
                  "median_rental_price": 2385,
                  "pop_density": 3317.321845,
                  "first_time_homebuyer_score": 100,
                  "retirement_friendly_score": 66.918255,
                  "young_single_professional_score": 43.566921,
                  "college_student_friendly_score": 67.42143,
                  "violent_crime_rate": 2.764467,
                  "walk": 0.0152439024390243,
                  "public_transportation": 0.0164634146341463,
                  "carpool": 0.0807926829268292,
                  "rex_property_id": 293045161,
                  "data_source": "first_american",
                  "match_full_street_address": "5615 JELLISON ST",
                  "address_1_pos": 5615,
                  "address_2_pos": "JELLISON",
                  "random_property_id": 23862173,
                  "zipcode_y": 80002,
                  "fips_y": 8059,
                  "formattedapn": "39-103-10-017",
                  "situsstdfullstreetaddress": "5615 JELLISON ST",
                  "situsstdhousenbr": 5615,
                  "situsstdstreet": "JELLISON",
                  "situsstdcity": "ARVADA",
                  "situsstdstate": "CO",
                  "situsstdzip5": 80002,
                  "situslatitude": 39.798689,
                  "situslongitude": -105.107662,
                  "situsgeostatuscode": "B",
                  "propertyclassid": "R",
                  "stdlandusecode": 1001,
                  "lotsizedepthfeet": 0,
                  "lotsizeacres": 169,
                  "lotsizesqft": 7362,
                  "ownerstdname1full": "BROSS MARCIA D",
                  "assdtotalvalue": 23941,
                  "assdlandvalue": 10211,
                  "assdimprovementvalue": 13730,
                  "markettotalvalue": 334831,
                  "marketvalueland": 142805,
                  "marketvalueimprovement": 192026,
                  "taxyear": 2019,
                  "assdyear": 2019,
                  "buildingarea": 1120,
                  "sumbuildingsqft": 1120,
                  "bedrooms": 5,
                  "totalrooms": 13,
                  "bathtotalcalc": 2,
                  "bathfull": 1,
                  "bathsparcialnbr": 1,
                  "garageparkingnbr": 0,
                  "sumresidentialunits": 1,
                  "sumbuildingsnbr": 0,
                  "faucidflag": "C",
                  "house_market_exists": true,
                  "datatree_exists": false,
                  "property_internal_exists": false,
                  "_deepnote_index_column": 1
                },
                {
                  "cc_property_id": 138574571,
                  "zipcode_x": 80002,
                  "fips_x": 8059,
                  "sqft": 2127,
                  "property_type_x": "SINGLE",
                  "has_central_air": false,
                  "has_jacuzzi": false,
                  "has_pool": false,
                  "has_solar": false,
                  "has_garage": false,
                  "list_date": "2017-09-28",
                  "sale_date": "2017-10-31",
                  "sale_price_per_sqft": 217.20733427362484,
                  "farm_score": 100,
                  "median_rental_price": 2385,
                  "pop_density": 3317.321845,
                  "first_time_homebuyer_score": 100,
                  "retirement_friendly_score": 66.918255,
                  "young_single_professional_score": 43.566921,
                  "college_student_friendly_score": 67.42143,
                  "violent_crime_rate": 2.764467,
                  "walk": 0.0152439024390243,
                  "public_transportation": 0.0164634146341463,
                  "carpool": 0.0807926829268292,
                  "rex_property_id": 306630429,
                  "data_source": "first_american",
                  "match_full_street_address": "5235 TABOR ST",
                  "address_1_pos": 5235,
                  "address_2_pos": "TABOR",
                  "random_property_id": 23874612,
                  "zipcode_y": 80002,
                  "fips_y": 8059,
                  "formattedapn": "39-171-05-111",
                  "situsstdfullstreetaddress": "5235 TABOR ST",
                  "situsstdhousenbr": 5235,
                  "situsstdstreet": "TABOR",
                  "situsstdcity": "ARVADA",
                  "situsstdstate": "CO",
                  "situsstdzip5": 80002,
                  "situslatitude": 39.791685,
                  "situslongitude": -105.130879,
                  "situsgeostatuscode": "B",
                  "propertyclassid": "R",
                  "stdlandusecode": 1001,
                  "lotsizedepthfeet": 0,
                  "lotsizeacres": 195,
                  "lotsizesqft": 8494,
                  "ownerstdname1full": "FLAGSTEAD JEFFREY",
                  "assdtotalvalue": 33226,
                  "assdlandvalue": 12147,
                  "assdimprovementvalue": 21079,
                  "markettotalvalue": 464695,
                  "marketvalueland": 169885,
                  "marketvalueimprovement": 294810,
                  "taxyear": 2019,
                  "assdyear": 2019,
                  "buildingarea": 1387,
                  "sumbuildingsqft": 1387,
                  "bedrooms": 3,
                  "totalrooms": 10,
                  "bathtotalcalc": 3,
                  "bathfull": 1,
                  "bathsparcialnbr": 0,
                  "garageparkingnbr": 2,
                  "sumresidentialunits": 1,
                  "sumbuildingsnbr": 0,
                  "faucidflag": "C",
                  "house_market_exists": true,
                  "datatree_exists": false,
                  "property_internal_exists": false,
                  "_deepnote_index_column": 2
                },
                {
                  "cc_property_id": 138574571,
                  "zipcode_x": 80002,
                  "fips_x": 8059,
                  "sqft": 2127,
                  "property_type_x": "SINGLE",
                  "has_central_air": false,
                  "has_jacuzzi": false,
                  "has_pool": false,
                  "has_solar": false,
                  "has_garage": false,
                  "list_date": "2019-09-11",
                  "sale_date": "2019-10-23",
                  "sale_price_per_sqft": 258.11001410437234,
                  "farm_score": 100,
                  "median_rental_price": 2385,
                  "pop_density": 3317.321845,
                  "first_time_homebuyer_score": 100,
                  "retirement_friendly_score": 66.918255,
                  "young_single_professional_score": 43.566921,
                  "college_student_friendly_score": 67.42143,
                  "violent_crime_rate": 2.764467,
                  "walk": 0.0152439024390243,
                  "public_transportation": 0.0164634146341463,
                  "carpool": 0.0807926829268292,
                  "rex_property_id": 306630429,
                  "data_source": "first_american",
                  "match_full_street_address": "5235 TABOR ST",
                  "address_1_pos": 5235,
                  "address_2_pos": "TABOR",
                  "random_property_id": 23874612,
                  "zipcode_y": 80002,
                  "fips_y": 8059,
                  "formattedapn": "39-171-05-111",
                  "situsstdfullstreetaddress": "5235 TABOR ST",
                  "situsstdhousenbr": 5235,
                  "situsstdstreet": "TABOR",
                  "situsstdcity": "ARVADA",
                  "situsstdstate": "CO",
                  "situsstdzip5": 80002,
                  "situslatitude": 39.791685,
                  "situslongitude": -105.130879,
                  "situsgeostatuscode": "B",
                  "propertyclassid": "R",
                  "stdlandusecode": 1001,
                  "lotsizedepthfeet": 0,
                  "lotsizeacres": 195,
                  "lotsizesqft": 8494,
                  "ownerstdname1full": "FLAGSTEAD JEFFREY",
                  "assdtotalvalue": 33226,
                  "assdlandvalue": 12147,
                  "assdimprovementvalue": 21079,
                  "markettotalvalue": 464695,
                  "marketvalueland": 169885,
                  "marketvalueimprovement": 294810,
                  "taxyear": 2019,
                  "assdyear": 2019,
                  "buildingarea": 1387,
                  "sumbuildingsqft": 1387,
                  "bedrooms": 3,
                  "totalrooms": 10,
                  "bathtotalcalc": 3,
                  "bathfull": 1,
                  "bathsparcialnbr": 0,
                  "garageparkingnbr": 2,
                  "sumresidentialunits": 1,
                  "sumbuildingsnbr": 0,
                  "faucidflag": "C",
                  "house_market_exists": true,
                  "datatree_exists": false,
                  "property_internal_exists": false,
                  "_deepnote_index_column": 3
                },
                {
                  "cc_property_id": 138567704,
                  "zipcode_x": 80002,
                  "fips_x": 8059,
                  "sqft": 1549,
                  "property_type_x": "SINGLE",
                  "has_central_air": false,
                  "has_jacuzzi": false,
                  "has_pool": false,
                  "has_solar": false,
                  "has_garage": false,
                  "list_date": "2019-03-22",
                  "sale_date": "2020-04-14",
                  "sale_price_per_sqft": 301.3557133634603,
                  "farm_score": 100,
                  "median_rental_price": 2385,
                  "pop_density": 3317.321845,
                  "first_time_homebuyer_score": 100,
                  "retirement_friendly_score": 66.918255,
                  "young_single_professional_score": 43.566921,
                  "college_student_friendly_score": 67.42143,
                  "violent_crime_rate": 2.764467,
                  "walk": 0.0152439024390243,
                  "public_transportation": 0.0164634146341463,
                  "carpool": 0.0807926829268292,
                  "rex_property_id": 231600264,
                  "data_source": "first_american",
                  "match_full_street_address": "5480 DUDLEY CT",
                  "address_1_pos": 5480,
                  "address_2_pos": "DUDLEY",
                  "random_property_id": 23816978,
                  "zipcode_y": 80002,
                  "fips_y": 8059,
                  "formattedapn": "39-151-03-014",
                  "situsstdfullstreetaddress": "5480 DUDLEY CT",
                  "situsstdhousenbr": 5480,
                  "situsstdstreet": "DUDLEY",
                  "situsstdcity": "ARVADA",
                  "situsstdstate": "CO",
                  "situsstdzip5": 80002,
                  "situslatitude": 39.796634000000005,
                  "situslongitude": -105.094751,
                  "situsgeostatuscode": "B",
                  "propertyclassid": "R",
                  "stdlandusecode": 1001,
                  "lotsizedepthfeet": 0,
                  "lotsizeacres": 148,
                  "lotsizesqft": 6447,
                  "ownerstdname1full": "CASE AMY D",
                  "assdtotalvalue": 28393,
                  "assdlandvalue": 8942,
                  "assdimprovementvalue": 19451,
                  "markettotalvalue": 397097,
                  "marketvalueland": 125060,
                  "marketvalueimprovement": 272037,
                  "taxyear": 2019,
                  "assdyear": 2019,
                  "buildingarea": 1497,
                  "sumbuildingsqft": 1497,
                  "bedrooms": 3,
                  "totalrooms": 7,
                  "bathtotalcalc": 2,
                  "bathfull": 2,
                  "bathsparcialnbr": 0,
                  "garageparkingnbr": 1,
                  "sumresidentialunits": 1,
                  "sumbuildingsnbr": 0,
                  "faucidflag": "C",
                  "house_market_exists": true,
                  "datatree_exists": false,
                  "property_internal_exists": false,
                  "_deepnote_index_column": 4
                }
              ],
              "rows_bottom": null
            },
            "text/plain": "   cc_property_id  zipcode_x  fips_x    sqft property_type_x  has_central_air  \\\n0       138560546      80002  8059.0  1687.0          SINGLE            False   \n1       138555680      80002  8059.0  2220.0          SINGLE            False   \n2       138574571      80002  8059.0  2127.0          SINGLE            False   \n3       138574571      80002  8059.0  2127.0          SINGLE            False   \n4       138567704      80002  8059.0  1549.0          SINGLE            False   \n\n   has_jacuzzi  has_pool  has_solar  has_garage  ... bathtotalcalc bathfull  \\\n0        False     False      False       False  ...           3.0      3.0   \n1        False     False      False       False  ...           2.0      1.0   \n2        False     False      False       False  ...           3.0      1.0   \n3        False     False      False       False  ...           3.0      1.0   \n4        False     False      False       False  ...           2.0      2.0   \n\n   bathsparcialnbr  garageparkingnbr  sumresidentialunits  sumbuildingsnbr  \\\n0              0.0                 1                  1.0              0.0   \n1              1.0                 0                  1.0              0.0   \n2              0.0                 2                  1.0              0.0   \n3              0.0                 2                  1.0              0.0   \n4              0.0                 1                  1.0              0.0   \n\n   faucidflag  house_market_exists  datatree_exists  property_internal_exists  \n0           C                 True            False                     False  \n1           C                 True            False                     False  \n2           C                 True            False                     False  \n3           C                 True            False                     False  \n4           C                 True            False                     False  \n\n[5 rows x 70 columns]",
            "text/html": "<div>\n<style scoped>\n    .dataframe tbody tr th:only-of-type {\n        vertical-align: middle;\n    }\n\n    .dataframe tbody tr th {\n        vertical-align: top;\n    }\n\n    .dataframe thead th {\n        text-align: right;\n    }\n</style>\n<table border=\"1\" class=\"dataframe\">\n  <thead>\n    <tr style=\"text-align: right;\">\n      <th></th>\n      <th>cc_property_id</th>\n      <th>zipcode_x</th>\n      <th>fips_x</th>\n      <th>sqft</th>\n      <th>property_type_x</th>\n      <th>has_central_air</th>\n      <th>has_jacuzzi</th>\n      <th>has_pool</th>\n      <th>has_solar</th>\n      <th>has_garage</th>\n      <th>...</th>\n      <th>bathtotalcalc</th>\n      <th>bathfull</th>\n      <th>bathsparcialnbr</th>\n      <th>garageparkingnbr</th>\n      <th>sumresidentialunits</th>\n      <th>sumbuildingsnbr</th>\n      <th>faucidflag</th>\n      <th>house_market_exists</th>\n      <th>datatree_exists</th>\n      <th>property_internal_exists</th>\n    </tr>\n  </thead>\n  <tbody>\n    <tr>\n      <th>0</th>\n      <td>138560546</td>\n      <td>80002</td>\n      <td>8059.0</td>\n      <td>1687.0</td>\n      <td>SINGLE</td>\n      <td>False</td>\n      <td>False</td>\n      <td>False</td>\n      <td>False</td>\n      <td>False</td>\n      <td>...</td>\n      <td>3.0</td>\n      <td>3.0</td>\n      <td>0.0</td>\n      <td>1</td>\n      <td>1.0</td>\n      <td>0.0</td>\n      <td>C</td>\n      <td>True</td>\n      <td>False</td>\n      <td>False</td>\n    </tr>\n    <tr>\n      <th>1</th>\n      <td>138555680</td>\n      <td>80002</td>\n      <td>8059.0</td>\n      <td>2220.0</td>\n      <td>SINGLE</td>\n      <td>False</td>\n      <td>False</td>\n      <td>False</td>\n      <td>False</td>\n      <td>False</td>\n      <td>...</td>\n      <td>2.0</td>\n      <td>1.0</td>\n      <td>1.0</td>\n      <td>0</td>\n      <td>1.0</td>\n      <td>0.0</td>\n      <td>C</td>\n      <td>True</td>\n      <td>False</td>\n      <td>False</td>\n    </tr>\n    <tr>\n      <th>2</th>\n      <td>138574571</td>\n      <td>80002</td>\n      <td>8059.0</td>\n      <td>2127.0</td>\n      <td>SINGLE</td>\n      <td>False</td>\n      <td>False</td>\n      <td>False</td>\n      <td>False</td>\n      <td>False</td>\n      <td>...</td>\n      <td>3.0</td>\n      <td>1.0</td>\n      <td>0.0</td>\n      <td>2</td>\n      <td>1.0</td>\n      <td>0.0</td>\n      <td>C</td>\n      <td>True</td>\n      <td>False</td>\n      <td>False</td>\n    </tr>\n    <tr>\n      <th>3</th>\n      <td>138574571</td>\n      <td>80002</td>\n      <td>8059.0</td>\n      <td>2127.0</td>\n      <td>SINGLE</td>\n      <td>False</td>\n      <td>False</td>\n      <td>False</td>\n      <td>False</td>\n      <td>False</td>\n      <td>...</td>\n      <td>3.0</td>\n      <td>1.0</td>\n      <td>0.0</td>\n      <td>2</td>\n      <td>1.0</td>\n      <td>0.0</td>\n      <td>C</td>\n      <td>True</td>\n      <td>False</td>\n      <td>False</td>\n    </tr>\n    <tr>\n      <th>4</th>\n      <td>138567704</td>\n      <td>80002</td>\n      <td>8059.0</td>\n      <td>1549.0</td>\n      <td>SINGLE</td>\n      <td>False</td>\n      <td>False</td>\n      <td>False</td>\n      <td>False</td>\n      <td>False</td>\n      <td>...</td>\n      <td>2.0</td>\n      <td>2.0</td>\n      <td>0.0</td>\n      <td>1</td>\n      <td>1.0</td>\n      <td>0.0</td>\n      <td>C</td>\n      <td>True</td>\n      <td>False</td>\n      <td>False</td>\n    </tr>\n  </tbody>\n</table>\n<p>5 rows × 70 columns</p>\n</div>"
          },
          "metadata": {}
        }
      ]
    },
    {
      "cell_type": "code",
      "metadata": {
        "cell_id": "00020-1220ad3f-a55f-437f-a369-962247009256",
        "deepnote_to_be_reexecuted": true,
        "source_hash": "77b59896",
        "execution_start": 1617154710712,
        "execution_millis": 96,
        "deepnote_cell_type": "code"
      },
      "source": "#convert to datetime format\njoined[\"list_date\"] = pd.to_datetime(joined[\"list_date\"])\njoined[\"sale_date\"] = pd.to_datetime(joined[\"sale_date\"])",
      "execution_count": null,
      "outputs": []
    },
    {
      "cell_type": "code",
      "metadata": {
        "cell_id": "00021-581aef41-e821-40be-904a-2aac431c6a26",
        "deepnote_to_be_reexecuted": true,
        "source_hash": "16f6814d",
        "execution_start": 1617154710830,
        "execution_millis": 291,
        "deepnote_cell_type": "code"
      },
      "source": "joined",
      "execution_count": null,
      "outputs": [
        {
          "output_type": "execute_result",
          "execution_count": 21,
          "data": {
            "application/vnd.deepnote.dataframe.v2+json": {
              "row_count": 203391,
              "column_count": 70,
              "columns": [
                {
                  "name": "cc_property_id",
                  "dtype": "int64"
                },
                {
                  "name": "zipcode_x",
                  "dtype": "int64"
                },
                {
                  "name": "fips_x",
                  "dtype": "float64"
                },
                {
                  "name": "sqft",
                  "dtype": "float64"
                },
                {
                  "name": "property_type_x",
                  "dtype": "object"
                },
                {
                  "name": "has_central_air",
                  "dtype": "bool"
                },
                {
                  "name": "has_jacuzzi",
                  "dtype": "bool"
                },
                {
                  "name": "has_pool",
                  "dtype": "bool"
                },
                {
                  "name": "has_solar",
                  "dtype": "bool"
                },
                {
                  "name": "has_garage",
                  "dtype": "bool"
                },
                {
                  "name": "list_date",
                  "dtype": "datetime64[ns]"
                },
                {
                  "name": "sale_date",
                  "dtype": "datetime64[ns]"
                },
                {
                  "name": "sale_price_per_sqft",
                  "dtype": "float64"
                },
                {
                  "name": "farm_score",
                  "dtype": "float64"
                },
                {
                  "name": "median_rental_price",
                  "dtype": "float64"
                },
                {
                  "name": "pop_density",
                  "dtype": "float64"
                },
                {
                  "name": "first_time_homebuyer_score",
                  "dtype": "float64"
                },
                {
                  "name": "retirement_friendly_score",
                  "dtype": "float64"
                },
                {
                  "name": "young_single_professional_score",
                  "dtype": "float64"
                },
                {
                  "name": "college_student_friendly_score",
                  "dtype": "float64"
                },
                {
                  "name": "violent_crime_rate",
                  "dtype": "float64"
                },
                {
                  "name": "walk",
                  "dtype": "float64"
                },
                {
                  "name": "public_transportation",
                  "dtype": "float64"
                },
                {
                  "name": "carpool",
                  "dtype": "float64"
                },
                {
                  "name": "rex_property_id",
                  "dtype": "int64"
                },
                {
                  "name": "data_source",
                  "dtype": "object"
                },
                {
                  "name": "match_full_street_address",
                  "dtype": "object"
                },
                {
                  "name": "address_1_pos",
                  "dtype": "object"
                },
                {
                  "name": "address_2_pos",
                  "dtype": "object"
                },
                {
                  "name": "random_property_id",
                  "dtype": "int64"
                },
                {
                  "name": "zipcode_y",
                  "dtype": "int64"
                },
                {
                  "name": "fips_y",
                  "dtype": "int64"
                },
                {
                  "name": "formattedapn",
                  "dtype": "object"
                },
                {
                  "name": "situsstdfullstreetaddress",
                  "dtype": "object"
                },
                {
                  "name": "situsstdhousenbr",
                  "dtype": "object"
                },
                {
                  "name": "situsstdstreet",
                  "dtype": "object"
                },
                {
                  "name": "situsstdcity",
                  "dtype": "object"
                },
                {
                  "name": "situsstdstate",
                  "dtype": "object"
                },
                {
                  "name": "situsstdzip5",
                  "dtype": "int64"
                },
                {
                  "name": "situslatitude",
                  "dtype": "float64"
                },
                {
                  "name": "situslongitude",
                  "dtype": "float64"
                },
                {
                  "name": "situsgeostatuscode",
                  "dtype": "object"
                },
                {
                  "name": "propertyclassid",
                  "dtype": "object"
                },
                {
                  "name": "stdlandusecode",
                  "dtype": "int64"
                },
                {
                  "name": "lotsizedepthfeet",
                  "dtype": "int64"
                },
                {
                  "name": "lotsizeacres",
                  "dtype": "int64"
                },
                {
                  "name": "lotsizesqft",
                  "dtype": "int64"
                },
                {
                  "name": "ownerstdname1full",
                  "dtype": "object"
                },
                {
                  "name": "assdtotalvalue",
                  "dtype": "int64"
                },
                {
                  "name": "assdlandvalue",
                  "dtype": "int64"
                },
                {
                  "name": "assdimprovementvalue",
                  "dtype": "int64"
                },
                {
                  "name": "markettotalvalue",
                  "dtype": "int64"
                },
                {
                  "name": "marketvalueland",
                  "dtype": "int64"
                },
                {
                  "name": "marketvalueimprovement",
                  "dtype": "int64"
                },
                {
                  "name": "taxyear",
                  "dtype": "int64"
                },
                {
                  "name": "assdyear",
                  "dtype": "int64"
                },
                {
                  "name": "buildingarea",
                  "dtype": "float64"
                },
                {
                  "name": "sumbuildingsqft",
                  "dtype": "float64"
                },
                {
                  "name": "bedrooms",
                  "dtype": "float64"
                },
                {
                  "name": "totalrooms",
                  "dtype": "float64"
                },
                {
                  "name": "bathtotalcalc",
                  "dtype": "float64"
                },
                {
                  "name": "bathfull",
                  "dtype": "float64"
                },
                {
                  "name": "bathsparcialnbr",
                  "dtype": "float64"
                },
                {
                  "name": "garageparkingnbr",
                  "dtype": "int64"
                },
                {
                  "name": "sumresidentialunits",
                  "dtype": "float64"
                },
                {
                  "name": "sumbuildingsnbr",
                  "dtype": "float64"
                },
                {
                  "name": "faucidflag",
                  "dtype": "object"
                },
                {
                  "name": "house_market_exists",
                  "dtype": "bool"
                },
                {
                  "name": "datatree_exists",
                  "dtype": "bool"
                },
                {
                  "name": "property_internal_exists",
                  "dtype": "bool"
                },
                {
                  "name": "_deepnote_index_column",
                  "dtype": "int64"
                }
              ],
              "rows_top": [
                {
                  "cc_property_id": 138560546,
                  "zipcode_x": 80002,
                  "fips_x": 8059,
                  "sqft": 1687,
                  "property_type_x": "SINGLE",
                  "has_central_air": false,
                  "has_jacuzzi": false,
                  "has_pool": false,
                  "has_solar": false,
                  "has_garage": false,
                  "list_date": "2018-05-17T00:00:00.000000",
                  "sale_date": "2018-07-09T00:00:00.000000",
                  "sale_price_per_sqft": 207.4688796680498,
                  "farm_score": 100,
                  "median_rental_price": 2385,
                  "pop_density": 3317.321845,
                  "first_time_homebuyer_score": 100,
                  "retirement_friendly_score": 66.918255,
                  "young_single_professional_score": 43.566921,
                  "college_student_friendly_score": 67.42143,
                  "violent_crime_rate": 2.764467,
                  "walk": 0.0152439024390243,
                  "public_transportation": 0.0164634146341463,
                  "carpool": 0.0807926829268292,
                  "rex_property_id": 349475428,
                  "data_source": "first_american",
                  "match_full_street_address": "5622 AMMONS ST",
                  "address_1_pos": 5622,
                  "address_2_pos": "AMMONS",
                  "random_property_id": 23869850,
                  "zipcode_y": 80002,
                  "fips_y": 8059,
                  "formattedapn": "39-113-21-011",
                  "situsstdfullstreetaddress": "5622 AMMONS ST",
                  "situsstdhousenbr": 5622,
                  "situsstdstreet": "AMMONS",
                  "situsstdcity": "ARVADA",
                  "situsstdstate": "CO",
                  "situsstdzip5": 80002,
                  "situslatitude": 39.799943,
                  "situslongitude": -105.087008,
                  "situsgeostatuscode": "B",
                  "propertyclassid": "R",
                  "stdlandusecode": 1001,
                  "lotsizedepthfeet": 0,
                  "lotsizeacres": 163,
                  "lotsizesqft": 7100,
                  "ownerstdname1full": "JOHNSON NICOLENA M",
                  "assdtotalvalue": 46285,
                  "assdlandvalue": 13656,
                  "assdimprovementvalue": 32629,
                  "markettotalvalue": 647344,
                  "marketvalueland": 190993,
                  "marketvalueimprovement": 456351,
                  "taxyear": 2019,
                  "assdyear": 2019,
                  "buildingarea": 1826,
                  "sumbuildingsqft": 1826,
                  "bedrooms": 4,
                  "totalrooms": 0,
                  "bathtotalcalc": 3,
                  "bathfull": 3,
                  "bathsparcialnbr": 0,
                  "garageparkingnbr": 1,
                  "sumresidentialunits": 1,
                  "sumbuildingsnbr": 0,
                  "faucidflag": "C",
                  "house_market_exists": true,
                  "datatree_exists": false,
                  "property_internal_exists": false,
                  "_deepnote_index_column": 0
                },
                {
                  "cc_property_id": 138555680,
                  "zipcode_x": 80002,
                  "fips_x": 8059,
                  "sqft": 2220,
                  "property_type_x": "SINGLE",
                  "has_central_air": false,
                  "has_jacuzzi": false,
                  "has_pool": false,
                  "has_solar": false,
                  "has_garage": false,
                  "list_date": "2019-12-27T00:00:00.000000",
                  "sale_date": "2020-01-31T00:00:00.000000",
                  "sale_price_per_sqft": 191.44144144144144,
                  "farm_score": 100,
                  "median_rental_price": 2385,
                  "pop_density": 3317.321845,
                  "first_time_homebuyer_score": 100,
                  "retirement_friendly_score": 66.918255,
                  "young_single_professional_score": 43.566921,
                  "college_student_friendly_score": 67.42143,
                  "violent_crime_rate": 2.764467,
                  "walk": 0.0152439024390243,
                  "public_transportation": 0.0164634146341463,
                  "carpool": 0.0807926829268292,
                  "rex_property_id": 293045161,
                  "data_source": "first_american",
                  "match_full_street_address": "5615 JELLISON ST",
                  "address_1_pos": 5615,
                  "address_2_pos": "JELLISON",
                  "random_property_id": 23862173,
                  "zipcode_y": 80002,
                  "fips_y": 8059,
                  "formattedapn": "39-103-10-017",
                  "situsstdfullstreetaddress": "5615 JELLISON ST",
                  "situsstdhousenbr": 5615,
                  "situsstdstreet": "JELLISON",
                  "situsstdcity": "ARVADA",
                  "situsstdstate": "CO",
                  "situsstdzip5": 80002,
                  "situslatitude": 39.798689,
                  "situslongitude": -105.107662,
                  "situsgeostatuscode": "B",
                  "propertyclassid": "R",
                  "stdlandusecode": 1001,
                  "lotsizedepthfeet": 0,
                  "lotsizeacres": 169,
                  "lotsizesqft": 7362,
                  "ownerstdname1full": "BROSS MARCIA D",
                  "assdtotalvalue": 23941,
                  "assdlandvalue": 10211,
                  "assdimprovementvalue": 13730,
                  "markettotalvalue": 334831,
                  "marketvalueland": 142805,
                  "marketvalueimprovement": 192026,
                  "taxyear": 2019,
                  "assdyear": 2019,
                  "buildingarea": 1120,
                  "sumbuildingsqft": 1120,
                  "bedrooms": 5,
                  "totalrooms": 13,
                  "bathtotalcalc": 2,
                  "bathfull": 1,
                  "bathsparcialnbr": 1,
                  "garageparkingnbr": 0,
                  "sumresidentialunits": 1,
                  "sumbuildingsnbr": 0,
                  "faucidflag": "C",
                  "house_market_exists": true,
                  "datatree_exists": false,
                  "property_internal_exists": false,
                  "_deepnote_index_column": 1
                },
                {
                  "cc_property_id": 138574571,
                  "zipcode_x": 80002,
                  "fips_x": 8059,
                  "sqft": 2127,
                  "property_type_x": "SINGLE",
                  "has_central_air": false,
                  "has_jacuzzi": false,
                  "has_pool": false,
                  "has_solar": false,
                  "has_garage": false,
                  "list_date": "2017-09-28T00:00:00.000000",
                  "sale_date": "2017-10-31T00:00:00.000000",
                  "sale_price_per_sqft": 217.20733427362484,
                  "farm_score": 100,
                  "median_rental_price": 2385,
                  "pop_density": 3317.321845,
                  "first_time_homebuyer_score": 100,
                  "retirement_friendly_score": 66.918255,
                  "young_single_professional_score": 43.566921,
                  "college_student_friendly_score": 67.42143,
                  "violent_crime_rate": 2.764467,
                  "walk": 0.0152439024390243,
                  "public_transportation": 0.0164634146341463,
                  "carpool": 0.0807926829268292,
                  "rex_property_id": 306630429,
                  "data_source": "first_american",
                  "match_full_street_address": "5235 TABOR ST",
                  "address_1_pos": 5235,
                  "address_2_pos": "TABOR",
                  "random_property_id": 23874612,
                  "zipcode_y": 80002,
                  "fips_y": 8059,
                  "formattedapn": "39-171-05-111",
                  "situsstdfullstreetaddress": "5235 TABOR ST",
                  "situsstdhousenbr": 5235,
                  "situsstdstreet": "TABOR",
                  "situsstdcity": "ARVADA",
                  "situsstdstate": "CO",
                  "situsstdzip5": 80002,
                  "situslatitude": 39.791685,
                  "situslongitude": -105.130879,
                  "situsgeostatuscode": "B",
                  "propertyclassid": "R",
                  "stdlandusecode": 1001,
                  "lotsizedepthfeet": 0,
                  "lotsizeacres": 195,
                  "lotsizesqft": 8494,
                  "ownerstdname1full": "FLAGSTEAD JEFFREY",
                  "assdtotalvalue": 33226,
                  "assdlandvalue": 12147,
                  "assdimprovementvalue": 21079,
                  "markettotalvalue": 464695,
                  "marketvalueland": 169885,
                  "marketvalueimprovement": 294810,
                  "taxyear": 2019,
                  "assdyear": 2019,
                  "buildingarea": 1387,
                  "sumbuildingsqft": 1387,
                  "bedrooms": 3,
                  "totalrooms": 10,
                  "bathtotalcalc": 3,
                  "bathfull": 1,
                  "bathsparcialnbr": 0,
                  "garageparkingnbr": 2,
                  "sumresidentialunits": 1,
                  "sumbuildingsnbr": 0,
                  "faucidflag": "C",
                  "house_market_exists": true,
                  "datatree_exists": false,
                  "property_internal_exists": false,
                  "_deepnote_index_column": 2
                },
                {
                  "cc_property_id": 138574571,
                  "zipcode_x": 80002,
                  "fips_x": 8059,
                  "sqft": 2127,
                  "property_type_x": "SINGLE",
                  "has_central_air": false,
                  "has_jacuzzi": false,
                  "has_pool": false,
                  "has_solar": false,
                  "has_garage": false,
                  "list_date": "2019-09-11T00:00:00.000000",
                  "sale_date": "2019-10-23T00:00:00.000000",
                  "sale_price_per_sqft": 258.11001410437234,
                  "farm_score": 100,
                  "median_rental_price": 2385,
                  "pop_density": 3317.321845,
                  "first_time_homebuyer_score": 100,
                  "retirement_friendly_score": 66.918255,
                  "young_single_professional_score": 43.566921,
                  "college_student_friendly_score": 67.42143,
                  "violent_crime_rate": 2.764467,
                  "walk": 0.0152439024390243,
                  "public_transportation": 0.0164634146341463,
                  "carpool": 0.0807926829268292,
                  "rex_property_id": 306630429,
                  "data_source": "first_american",
                  "match_full_street_address": "5235 TABOR ST",
                  "address_1_pos": 5235,
                  "address_2_pos": "TABOR",
                  "random_property_id": 23874612,
                  "zipcode_y": 80002,
                  "fips_y": 8059,
                  "formattedapn": "39-171-05-111",
                  "situsstdfullstreetaddress": "5235 TABOR ST",
                  "situsstdhousenbr": 5235,
                  "situsstdstreet": "TABOR",
                  "situsstdcity": "ARVADA",
                  "situsstdstate": "CO",
                  "situsstdzip5": 80002,
                  "situslatitude": 39.791685,
                  "situslongitude": -105.130879,
                  "situsgeostatuscode": "B",
                  "propertyclassid": "R",
                  "stdlandusecode": 1001,
                  "lotsizedepthfeet": 0,
                  "lotsizeacres": 195,
                  "lotsizesqft": 8494,
                  "ownerstdname1full": "FLAGSTEAD JEFFREY",
                  "assdtotalvalue": 33226,
                  "assdlandvalue": 12147,
                  "assdimprovementvalue": 21079,
                  "markettotalvalue": 464695,
                  "marketvalueland": 169885,
                  "marketvalueimprovement": 294810,
                  "taxyear": 2019,
                  "assdyear": 2019,
                  "buildingarea": 1387,
                  "sumbuildingsqft": 1387,
                  "bedrooms": 3,
                  "totalrooms": 10,
                  "bathtotalcalc": 3,
                  "bathfull": 1,
                  "bathsparcialnbr": 0,
                  "garageparkingnbr": 2,
                  "sumresidentialunits": 1,
                  "sumbuildingsnbr": 0,
                  "faucidflag": "C",
                  "house_market_exists": true,
                  "datatree_exists": false,
                  "property_internal_exists": false,
                  "_deepnote_index_column": 3
                },
                {
                  "cc_property_id": 138567704,
                  "zipcode_x": 80002,
                  "fips_x": 8059,
                  "sqft": 1549,
                  "property_type_x": "SINGLE",
                  "has_central_air": false,
                  "has_jacuzzi": false,
                  "has_pool": false,
                  "has_solar": false,
                  "has_garage": false,
                  "list_date": "2019-03-22T00:00:00.000000",
                  "sale_date": "2020-04-14T00:00:00.000000",
                  "sale_price_per_sqft": 301.3557133634603,
                  "farm_score": 100,
                  "median_rental_price": 2385,
                  "pop_density": 3317.321845,
                  "first_time_homebuyer_score": 100,
                  "retirement_friendly_score": 66.918255,
                  "young_single_professional_score": 43.566921,
                  "college_student_friendly_score": 67.42143,
                  "violent_crime_rate": 2.764467,
                  "walk": 0.0152439024390243,
                  "public_transportation": 0.0164634146341463,
                  "carpool": 0.0807926829268292,
                  "rex_property_id": 231600264,
                  "data_source": "first_american",
                  "match_full_street_address": "5480 DUDLEY CT",
                  "address_1_pos": 5480,
                  "address_2_pos": "DUDLEY",
                  "random_property_id": 23816978,
                  "zipcode_y": 80002,
                  "fips_y": 8059,
                  "formattedapn": "39-151-03-014",
                  "situsstdfullstreetaddress": "5480 DUDLEY CT",
                  "situsstdhousenbr": 5480,
                  "situsstdstreet": "DUDLEY",
                  "situsstdcity": "ARVADA",
                  "situsstdstate": "CO",
                  "situsstdzip5": 80002,
                  "situslatitude": 39.796634000000005,
                  "situslongitude": -105.094751,
                  "situsgeostatuscode": "B",
                  "propertyclassid": "R",
                  "stdlandusecode": 1001,
                  "lotsizedepthfeet": 0,
                  "lotsizeacres": 148,
                  "lotsizesqft": 6447,
                  "ownerstdname1full": "CASE AMY D",
                  "assdtotalvalue": 28393,
                  "assdlandvalue": 8942,
                  "assdimprovementvalue": 19451,
                  "markettotalvalue": 397097,
                  "marketvalueland": 125060,
                  "marketvalueimprovement": 272037,
                  "taxyear": 2019,
                  "assdyear": 2019,
                  "buildingarea": 1497,
                  "sumbuildingsqft": 1497,
                  "bedrooms": 3,
                  "totalrooms": 7,
                  "bathtotalcalc": 2,
                  "bathfull": 2,
                  "bathsparcialnbr": 0,
                  "garageparkingnbr": 1,
                  "sumresidentialunits": 1,
                  "sumbuildingsnbr": 0,
                  "faucidflag": "C",
                  "house_market_exists": true,
                  "datatree_exists": false,
                  "property_internal_exists": false,
                  "_deepnote_index_column": 4
                },
                {
                  "cc_property_id": 347580945,
                  "zipcode_x": 80002,
                  "fips_x": 8059,
                  "sqft": 794,
                  "property_type_x": "CONDO",
                  "has_central_air": false,
                  "has_jacuzzi": false,
                  "has_pool": false,
                  "has_solar": false,
                  "has_garage": false,
                  "list_date": "2018-07-19T00:00:00.000000",
                  "sale_date": "2018-08-17T00:00:00.000000",
                  "sale_price_per_sqft": 308.5642317380353,
                  "farm_score": 100,
                  "median_rental_price": 2385,
                  "pop_density": 3317.321845,
                  "first_time_homebuyer_score": 100,
                  "retirement_friendly_score": 66.918255,
                  "young_single_professional_score": 43.566921,
                  "college_student_friendly_score": 67.42143,
                  "violent_crime_rate": 2.764467,
                  "walk": 0.0152439024390243,
                  "public_transportation": 0.0164634146341463,
                  "carpool": 0.0807926829268292,
                  "rex_property_id": 310942731,
                  "data_source": "first_american",
                  "match_full_street_address": "10089 W 55TH DR UNIT 104",
                  "address_1_pos": 10089,
                  "address_2_pos": "W",
                  "random_property_id": 23867616,
                  "zipcode_y": 80002,
                  "fips_y": 8059,
                  "formattedapn": "39-161-02-248",
                  "situsstdfullstreetaddress": "10089 W 55TH DR UNIT 104",
                  "situsstdhousenbr": 10089,
                  "situsstdstreet": "55TH",
                  "situsstdcity": "ARVADA",
                  "situsstdstate": "CO",
                  "situsstdzip5": 80002,
                  "situslatitude": 39.797919,
                  "situslongitude": -105.113298,
                  "situsgeostatuscode": "B",
                  "propertyclassid": "R",
                  "stdlandusecode": 1004,
                  "lotsizedepthfeet": 0,
                  "lotsizeacres": 0,
                  "lotsizesqft": 0,
                  "ownerstdname1full": "CHANNELL JAMES",
                  "assdtotalvalue": 17282,
                  "assdlandvalue": 0,
                  "assdimprovementvalue": 17282,
                  "markettotalvalue": 241701,
                  "marketvalueland": 0,
                  "marketvalueimprovement": 241701,
                  "taxyear": 2019,
                  "assdyear": 2019,
                  "buildingarea": 794,
                  "sumbuildingsqft": 794,
                  "bedrooms": 1,
                  "totalrooms": 0,
                  "bathtotalcalc": 1,
                  "bathfull": 1,
                  "bathsparcialnbr": 0,
                  "garageparkingnbr": 1,
                  "sumresidentialunits": 1,
                  "sumbuildingsnbr": 0,
                  "faucidflag": "C",
                  "house_market_exists": true,
                  "datatree_exists": false,
                  "property_internal_exists": false,
                  "_deepnote_index_column": 5
                },
                {
                  "cc_property_id": 138574142,
                  "zipcode_x": 80002,
                  "fips_x": 8059,
                  "sqft": 2715,
                  "property_type_x": "SINGLE",
                  "has_central_air": false,
                  "has_jacuzzi": false,
                  "has_pool": false,
                  "has_solar": false,
                  "has_garage": false,
                  "list_date": "2018-03-28T00:00:00.000000",
                  "sale_date": "2018-05-03T00:00:00.000000",
                  "sale_price_per_sqft": 190.2025782688766,
                  "farm_score": 100,
                  "median_rental_price": 2385,
                  "pop_density": 3317.321845,
                  "first_time_homebuyer_score": 100,
                  "retirement_friendly_score": 66.918255,
                  "young_single_professional_score": 43.566921,
                  "college_student_friendly_score": 67.42143,
                  "violent_crime_rate": 2.764467,
                  "walk": 0.0152439024390243,
                  "public_transportation": 0.0164634146341463,
                  "carpool": 0.0807926829268292,
                  "rex_property_id": 349794645,
                  "data_source": "first_american",
                  "match_full_street_address": "11922 W 56TH CIR",
                  "address_1_pos": 11922,
                  "address_2_pos": "W",
                  "random_property_id": 23884821,
                  "zipcode_y": 80002,
                  "fips_y": 8059,
                  "formattedapn": "39-171-01-103",
                  "situsstdfullstreetaddress": "11922 W 56TH CIR",
                  "situsstdhousenbr": 11922,
                  "situsstdstreet": "56TH",
                  "situsstdcity": "ARVADA",
                  "situsstdstate": "CO",
                  "situsstdzip5": 80002,
                  "situslatitude": 39.796221,
                  "situslongitude": -105.132751,
                  "situsgeostatuscode": "B",
                  "propertyclassid": "R",
                  "stdlandusecode": 1001,
                  "lotsizedepthfeet": 0,
                  "lotsizeacres": 201,
                  "lotsizesqft": 8756,
                  "ownerstdname1full": "MILLS DANIEL THOMAS",
                  "assdtotalvalue": 36954,
                  "assdlandvalue": 12521,
                  "assdimprovementvalue": 24433,
                  "markettotalvalue": 516832,
                  "marketvalueland": 175112,
                  "marketvalueimprovement": 341720,
                  "taxyear": 2019,
                  "assdyear": 2019,
                  "buildingarea": 1860,
                  "sumbuildingsqft": 1860,
                  "bedrooms": 3,
                  "totalrooms": 0,
                  "bathtotalcalc": 5,
                  "bathfull": 4,
                  "bathsparcialnbr": 1,
                  "garageparkingnbr": 2,
                  "sumresidentialunits": 1,
                  "sumbuildingsnbr": 0,
                  "faucidflag": "C",
                  "house_market_exists": true,
                  "datatree_exists": false,
                  "property_internal_exists": false,
                  "_deepnote_index_column": 6
                }
              ],
              "rows_bottom": [
                {
                  "cc_property_id": 356746736,
                  "zipcode_x": 80602,
                  "fips_x": 8001,
                  "sqft": 1472,
                  "property_type_x": "CONDO",
                  "has_central_air": false,
                  "has_jacuzzi": false,
                  "has_pool": false,
                  "has_solar": false,
                  "has_garage": false,
                  "list_date": "2017-05-18T00:00:00.000000",
                  "sale_date": "2017-07-07T00:00:00.000000",
                  "sale_price_per_sqft": 191.23641304347825,
                  "farm_score": 100,
                  "median_rental_price": 1923,
                  "pop_density": 3147.582231,
                  "first_time_homebuyer_score": 7.676922999999999,
                  "retirement_friendly_score": 83.744398,
                  "young_single_professional_score": 44.831191,
                  "college_student_friendly_score": 30.092936,
                  "violent_crime_rate": 2.001334,
                  "walk": 0.0070175438596491,
                  "public_transportation": 0.0105263157894736,
                  "carpool": 0.0666666666666666,
                  "rex_property_id": 361375727,
                  "data_source": "first_american",
                  "match_full_street_address": "12744 LEYDEN ST UNIT B",
                  "address_1_pos": 12744,
                  "address_2_pos": "LEYDEN",
                  "random_property_id": 22318829,
                  "zipcode_y": 80602,
                  "fips_y": 8001,
                  "formattedapn": "R0179670",
                  "situsstdfullstreetaddress": "12744 LEYDEN ST UNIT B",
                  "situsstdhousenbr": 12744,
                  "situsstdstreet": "LEYDEN",
                  "situsstdcity": "THORNTON",
                  "situsstdstate": "CO",
                  "situsstdzip5": 80602,
                  "situslatitude": 39.927531,
                  "situslongitude": -104.913849,
                  "situsgeostatuscode": "A",
                  "propertyclassid": "R",
                  "stdlandusecode": 1004,
                  "lotsizedepthfeet": 0,
                  "lotsizeacres": 26,
                  "lotsizesqft": 1133,
                  "ownerstdname1full": "FEDOROV VLADIMIR R",
                  "assdtotalvalue": 23270,
                  "assdlandvalue": 4500,
                  "assdimprovementvalue": 18770,
                  "markettotalvalue": 325517,
                  "marketvalueland": 63000,
                  "marketvalueimprovement": 262517,
                  "taxyear": 2019,
                  "assdyear": 2019,
                  "buildingarea": 1472,
                  "sumbuildingsqft": 1472,
                  "bedrooms": 2,
                  "totalrooms": 6,
                  "bathtotalcalc": 2.5,
                  "bathfull": 3,
                  "bathsparcialnbr": 1,
                  "garageparkingnbr": 2,
                  "sumresidentialunits": 6,
                  "sumbuildingsnbr": 0,
                  "faucidflag": "C",
                  "house_market_exists": true,
                  "datatree_exists": false,
                  "property_internal_exists": false,
                  "_deepnote_index_column": 203384
                },
                {
                  "cc_property_id": 351494549,
                  "zipcode_x": 80602,
                  "fips_x": 8001,
                  "sqft": 1672,
                  "property_type_x": "CONDO",
                  "has_central_air": false,
                  "has_jacuzzi": false,
                  "has_pool": false,
                  "has_solar": false,
                  "has_garage": false,
                  "list_date": "2016-05-05T00:00:00.000000",
                  "sale_date": "2016-06-30T00:00:00.000000",
                  "sale_price_per_sqft": 155.4366028708134,
                  "farm_score": 100,
                  "median_rental_price": 1923,
                  "pop_density": 3147.582231,
                  "first_time_homebuyer_score": 7.676922999999999,
                  "retirement_friendly_score": 83.744398,
                  "young_single_professional_score": 44.831191,
                  "college_student_friendly_score": 30.092936,
                  "violent_crime_rate": 2.001334,
                  "walk": 0.0070175438596491,
                  "public_transportation": 0.0105263157894736,
                  "carpool": 0.0666666666666666,
                  "rex_property_id": 340286601,
                  "data_source": "first_american",
                  "match_full_street_address": "12793 LEYDEN ST UNIT D",
                  "address_1_pos": 12793,
                  "address_2_pos": "LEYDEN",
                  "random_property_id": 22327716,
                  "zipcode_y": 80602,
                  "fips_y": 8001,
                  "formattedapn": "R0173650",
                  "situsstdfullstreetaddress": "12793 LEYDEN ST UNIT D",
                  "situsstdhousenbr": 12793,
                  "situsstdstreet": "LEYDEN",
                  "situsstdcity": "THORNTON",
                  "situsstdstate": "CO",
                  "situsstdzip5": 80602,
                  "situslatitude": 39.928168,
                  "situslongitude": -104.91515,
                  "situsgeostatuscode": "B",
                  "propertyclassid": "R",
                  "stdlandusecode": 1004,
                  "lotsizedepthfeet": 0,
                  "lotsizeacres": 90,
                  "lotsizesqft": 3920,
                  "ownerstdname1full": "DYSON JO ANNE",
                  "assdtotalvalue": 24540,
                  "assdlandvalue": 4650,
                  "assdimprovementvalue": 19890,
                  "markettotalvalue": 343139,
                  "marketvalueland": 65000,
                  "marketvalueimprovement": 278139,
                  "taxyear": 2019,
                  "assdyear": 2019,
                  "buildingarea": 1672,
                  "sumbuildingsqft": 1672,
                  "bedrooms": 3,
                  "totalrooms": 5,
                  "bathtotalcalc": 2.5,
                  "bathfull": 3,
                  "bathsparcialnbr": 1,
                  "garageparkingnbr": 2,
                  "sumresidentialunits": 6,
                  "sumbuildingsnbr": 0,
                  "faucidflag": "C",
                  "house_market_exists": true,
                  "datatree_exists": false,
                  "property_internal_exists": false,
                  "_deepnote_index_column": 203385
                },
                {
                  "cc_property_id": 351494549,
                  "zipcode_x": 80602,
                  "fips_x": 8001,
                  "sqft": 1672,
                  "property_type_x": "CONDO",
                  "has_central_air": false,
                  "has_jacuzzi": false,
                  "has_pool": false,
                  "has_solar": false,
                  "has_garage": false,
                  "list_date": "2017-09-28T00:00:00.000000",
                  "sale_date": "2017-12-06T00:00:00.000000",
                  "sale_price_per_sqft": 178.82775119617224,
                  "farm_score": 100,
                  "median_rental_price": 1923,
                  "pop_density": 3147.582231,
                  "first_time_homebuyer_score": 7.676922999999999,
                  "retirement_friendly_score": 83.744398,
                  "young_single_professional_score": 44.831191,
                  "college_student_friendly_score": 30.092936,
                  "violent_crime_rate": 2.001334,
                  "walk": 0.0070175438596491,
                  "public_transportation": 0.0105263157894736,
                  "carpool": 0.0666666666666666,
                  "rex_property_id": 340286601,
                  "data_source": "first_american",
                  "match_full_street_address": "12793 LEYDEN ST UNIT D",
                  "address_1_pos": 12793,
                  "address_2_pos": "LEYDEN",
                  "random_property_id": 22327716,
                  "zipcode_y": 80602,
                  "fips_y": 8001,
                  "formattedapn": "R0173650",
                  "situsstdfullstreetaddress": "12793 LEYDEN ST UNIT D",
                  "situsstdhousenbr": 12793,
                  "situsstdstreet": "LEYDEN",
                  "situsstdcity": "THORNTON",
                  "situsstdstate": "CO",
                  "situsstdzip5": 80602,
                  "situslatitude": 39.928168,
                  "situslongitude": -104.91515,
                  "situsgeostatuscode": "B",
                  "propertyclassid": "R",
                  "stdlandusecode": 1004,
                  "lotsizedepthfeet": 0,
                  "lotsizeacres": 90,
                  "lotsizesqft": 3920,
                  "ownerstdname1full": "DYSON JO ANNE",
                  "assdtotalvalue": 24540,
                  "assdlandvalue": 4650,
                  "assdimprovementvalue": 19890,
                  "markettotalvalue": 343139,
                  "marketvalueland": 65000,
                  "marketvalueimprovement": 278139,
                  "taxyear": 2019,
                  "assdyear": 2019,
                  "buildingarea": 1672,
                  "sumbuildingsqft": 1672,
                  "bedrooms": 3,
                  "totalrooms": 5,
                  "bathtotalcalc": 2.5,
                  "bathfull": 3,
                  "bathsparcialnbr": 1,
                  "garageparkingnbr": 2,
                  "sumresidentialunits": 6,
                  "sumbuildingsnbr": 0,
                  "faucidflag": "C",
                  "house_market_exists": true,
                  "datatree_exists": false,
                  "property_internal_exists": false,
                  "_deepnote_index_column": 203386
                },
                {
                  "cc_property_id": 510422199,
                  "zipcode_x": 80602,
                  "fips_x": 8001,
                  "sqft": 1672,
                  "property_type_x": "CONDO",
                  "has_central_air": false,
                  "has_jacuzzi": false,
                  "has_pool": false,
                  "has_solar": false,
                  "has_garage": false,
                  "list_date": "2016-12-04T00:00:00.000000",
                  "sale_date": "2017-02-10T00:00:00.000000",
                  "sale_price_per_sqft": 177.0334928229665,
                  "farm_score": 100,
                  "median_rental_price": 1923,
                  "pop_density": 3147.582231,
                  "first_time_homebuyer_score": 7.676922999999999,
                  "retirement_friendly_score": 83.744398,
                  "young_single_professional_score": 44.831191,
                  "college_student_friendly_score": 30.092936,
                  "violent_crime_rate": 2.001334,
                  "walk": 0.0070175438596491,
                  "public_transportation": 0.0105263157894736,
                  "carpool": 0.0666666666666666,
                  "rex_property_id": 302469851,
                  "data_source": "first_american",
                  "match_full_street_address": "12794 LEYDEN ST UNIT D",
                  "address_1_pos": 12794,
                  "address_2_pos": "LEYDEN",
                  "random_property_id": 22328050,
                  "zipcode_y": 80602,
                  "fips_y": 8001,
                  "formattedapn": "R0179650",
                  "situsstdfullstreetaddress": "12794 LEYDEN ST UNIT D",
                  "situsstdhousenbr": 12794,
                  "situsstdstreet": "LEYDEN",
                  "situsstdcity": "THORNTON",
                  "situsstdstate": "CO",
                  "situsstdzip5": 80602,
                  "situslatitude": 39.927335,
                  "situslongitude": -104.912868,
                  "situsgeostatuscode": "B",
                  "propertyclassid": "R",
                  "stdlandusecode": 1004,
                  "lotsizedepthfeet": 0,
                  "lotsizeacres": 37,
                  "lotsizesqft": 1612,
                  "ownerstdname1full": "KATSIMPAS KYAN",
                  "assdtotalvalue": 23910,
                  "assdlandvalue": 4500,
                  "assdimprovementvalue": 19410,
                  "markettotalvalue": 334531,
                  "marketvalueland": 63000,
                  "marketvalueimprovement": 271531,
                  "taxyear": 2019,
                  "assdyear": 2019,
                  "buildingarea": 1672,
                  "sumbuildingsqft": 1672,
                  "bedrooms": 3,
                  "totalrooms": 6,
                  "bathtotalcalc": 2.5,
                  "bathfull": 3,
                  "bathsparcialnbr": 1,
                  "garageparkingnbr": 2,
                  "sumresidentialunits": 6,
                  "sumbuildingsnbr": 0,
                  "faucidflag": "C",
                  "house_market_exists": true,
                  "datatree_exists": false,
                  "property_internal_exists": false,
                  "_deepnote_index_column": 203387
                },
                {
                  "cc_property_id": 510422199,
                  "zipcode_x": 80602,
                  "fips_x": 8001,
                  "sqft": 1672,
                  "property_type_x": "CONDO",
                  "has_central_air": false,
                  "has_jacuzzi": false,
                  "has_pool": false,
                  "has_solar": false,
                  "has_garage": false,
                  "list_date": "2019-04-04T00:00:00.000000",
                  "sale_date": "2019-05-17T00:00:00.000000",
                  "sale_price_per_sqft": 197.9665071770335,
                  "farm_score": 100,
                  "median_rental_price": 1923,
                  "pop_density": 3147.582231,
                  "first_time_homebuyer_score": 7.676922999999999,
                  "retirement_friendly_score": 83.744398,
                  "young_single_professional_score": 44.831191,
                  "college_student_friendly_score": 30.092936,
                  "violent_crime_rate": 2.001334,
                  "walk": 0.0070175438596491,
                  "public_transportation": 0.0105263157894736,
                  "carpool": 0.0666666666666666,
                  "rex_property_id": 302469851,
                  "data_source": "first_american",
                  "match_full_street_address": "12794 LEYDEN ST UNIT D",
                  "address_1_pos": 12794,
                  "address_2_pos": "LEYDEN",
                  "random_property_id": 22328050,
                  "zipcode_y": 80602,
                  "fips_y": 8001,
                  "formattedapn": "R0179650",
                  "situsstdfullstreetaddress": "12794 LEYDEN ST UNIT D",
                  "situsstdhousenbr": 12794,
                  "situsstdstreet": "LEYDEN",
                  "situsstdcity": "THORNTON",
                  "situsstdstate": "CO",
                  "situsstdzip5": 80602,
                  "situslatitude": 39.927335,
                  "situslongitude": -104.912868,
                  "situsgeostatuscode": "B",
                  "propertyclassid": "R",
                  "stdlandusecode": 1004,
                  "lotsizedepthfeet": 0,
                  "lotsizeacres": 37,
                  "lotsizesqft": 1612,
                  "ownerstdname1full": "KATSIMPAS KYAN",
                  "assdtotalvalue": 23910,
                  "assdlandvalue": 4500,
                  "assdimprovementvalue": 19410,
                  "markettotalvalue": 334531,
                  "marketvalueland": 63000,
                  "marketvalueimprovement": 271531,
                  "taxyear": 2019,
                  "assdyear": 2019,
                  "buildingarea": 1672,
                  "sumbuildingsqft": 1672,
                  "bedrooms": 3,
                  "totalrooms": 6,
                  "bathtotalcalc": 2.5,
                  "bathfull": 3,
                  "bathsparcialnbr": 1,
                  "garageparkingnbr": 2,
                  "sumresidentialunits": 6,
                  "sumbuildingsnbr": 0,
                  "faucidflag": "C",
                  "house_market_exists": true,
                  "datatree_exists": false,
                  "property_internal_exists": false,
                  "_deepnote_index_column": 203388
                },
                {
                  "cc_property_id": 332257664,
                  "zipcode_x": 80602,
                  "fips_x": 8001,
                  "sqft": 1446,
                  "property_type_x": "MULTI_FAMILY",
                  "has_central_air": false,
                  "has_jacuzzi": false,
                  "has_pool": false,
                  "has_solar": false,
                  "has_garage": false,
                  "list_date": "2019-06-27T00:00:00.000000",
                  "sale_date": "2019-07-23T00:00:00.000000",
                  "sale_price_per_sqft": 204.70262793914247,
                  "farm_score": 100,
                  "median_rental_price": 1923,
                  "pop_density": 3147.582231,
                  "first_time_homebuyer_score": 7.676922999999999,
                  "retirement_friendly_score": 83.744398,
                  "young_single_professional_score": 44.831191,
                  "college_student_friendly_score": 30.092936,
                  "violent_crime_rate": 2.001334,
                  "walk": 0.0070175438596491,
                  "public_transportation": 0.0105263157894736,
                  "carpool": 0.0666666666666666,
                  "rex_property_id": 221979131,
                  "data_source": "first_american",
                  "match_full_street_address": "12777 IVANHOE ST",
                  "address_1_pos": 12777,
                  "address_2_pos": "IVANHOE",
                  "random_property_id": 22319359,
                  "zipcode_y": 80602,
                  "fips_y": 8001,
                  "formattedapn": "R0160195",
                  "situsstdfullstreetaddress": "12777 IVANHOE ST",
                  "situsstdhousenbr": 12777,
                  "situsstdstreet": "IVANHOE",
                  "situsstdcity": "THORNTON",
                  "situsstdstate": "CO",
                  "situsstdzip5": 80602,
                  "situslatitude": 39.92756,
                  "situslongitude": -104.92136,
                  "situsgeostatuscode": "B",
                  "propertyclassid": "R",
                  "stdlandusecode": 1002,
                  "lotsizedepthfeet": 0,
                  "lotsizeacres": 51,
                  "lotsizesqft": 2222,
                  "ownerstdname1full": "BOBRICK DANELLE RENAE",
                  "assdtotalvalue": 20840,
                  "assdlandvalue": 4150,
                  "assdimprovementvalue": 16690,
                  "markettotalvalue": 291490,
                  "marketvalueland": 58000,
                  "marketvalueimprovement": 233490,
                  "taxyear": 2019,
                  "assdyear": 2019,
                  "buildingarea": 1446,
                  "sumbuildingsqft": 1446,
                  "bedrooms": 3,
                  "totalrooms": 9,
                  "bathtotalcalc": 1.5,
                  "bathfull": 1,
                  "bathsparcialnbr": 1,
                  "garageparkingnbr": 0,
                  "sumresidentialunits": 6,
                  "sumbuildingsnbr": 0,
                  "faucidflag": "C",
                  "house_market_exists": true,
                  "datatree_exists": false,
                  "property_internal_exists": false,
                  "_deepnote_index_column": 203389
                },
                {
                  "cc_property_id": 138171200,
                  "zipcode_x": 80640,
                  "fips_x": 8001,
                  "sqft": 1754,
                  "property_type_x": "SINGLE",
                  "has_central_air": false,
                  "has_jacuzzi": false,
                  "has_pool": false,
                  "has_solar": false,
                  "has_garage": false,
                  "list_date": "2016-08-12T00:00:00.000000",
                  "sale_date": "2016-09-28T00:00:00.000000",
                  "sale_price_per_sqft": 182.44013683010263,
                  "farm_score": 0,
                  "median_rental_price": 1220,
                  "pop_density": 1307.892557,
                  "first_time_homebuyer_score": 57.32355,
                  "retirement_friendly_score": 69.171547,
                  "young_single_professional_score": 56.43804100000001,
                  "college_student_friendly_score": 12.436416,
                  "violent_crime_rate": 1,
                  "walk": 0.0559440559440559,
                  "public_transportation": 0.016083916083916,
                  "carpool": 0.0531468531468531,
                  "rex_property_id": 304357539,
                  "data_source": "first_american",
                  "match_full_street_address": "11421 IOLA ST",
                  "address_1_pos": 11421,
                  "address_2_pos": "IOLA",
                  "random_property_id": 22382266,
                  "zipcode_y": 80640,
                  "fips_y": 8001,
                  "formattedapn": "R0137933",
                  "situsstdfullstreetaddress": "11421 IOLA ST",
                  "situsstdhousenbr": 11421,
                  "situsstdstreet": "IOLA",
                  "situsstdcity": "COMMERCE CITY",
                  "situsstdstate": "CO",
                  "situsstdzip5": 80640,
                  "situslatitude": 39.903759,
                  "situslongitude": -104.862449,
                  "situsgeostatuscode": "B",
                  "propertyclassid": "R",
                  "stdlandusecode": 1001,
                  "lotsizedepthfeet": 0,
                  "lotsizeacres": 130,
                  "lotsizesqft": 5663,
                  "ownerstdname1full": "JONES JUSTIN TYLER",
                  "assdtotalvalue": 24910,
                  "assdlandvalue": 6510,
                  "assdimprovementvalue": 18400,
                  "markettotalvalue": 348348,
                  "marketvalueland": 91000,
                  "marketvalueimprovement": 257348,
                  "taxyear": 2019,
                  "assdyear": 2019,
                  "buildingarea": 1754,
                  "sumbuildingsqft": 1754,
                  "bedrooms": 4,
                  "totalrooms": 8,
                  "bathtotalcalc": 2.5,
                  "bathfull": 2,
                  "bathsparcialnbr": 1,
                  "garageparkingnbr": 1,
                  "sumresidentialunits": 0,
                  "sumbuildingsnbr": 0,
                  "faucidflag": "C",
                  "house_market_exists": true,
                  "datatree_exists": false,
                  "property_internal_exists": false,
                  "_deepnote_index_column": 203390
                }
              ]
            },
            "text/plain": "        cc_property_id  zipcode_x  fips_x    sqft property_type_x  \\\n0            138560546      80002  8059.0  1687.0          SINGLE   \n1            138555680      80002  8059.0  2220.0          SINGLE   \n2            138574571      80002  8059.0  2127.0          SINGLE   \n3            138574571      80002  8059.0  2127.0          SINGLE   \n4            138567704      80002  8059.0  1549.0          SINGLE   \n...                ...        ...     ...     ...             ...   \n203386       351494549      80602  8001.0  1672.0           CONDO   \n203387       510422199      80602  8001.0  1672.0           CONDO   \n203388       510422199      80602  8001.0  1672.0           CONDO   \n203389       332257664      80602  8001.0  1446.0    MULTI_FAMILY   \n203390       138171200      80640  8001.0  1754.0          SINGLE   \n\n        has_central_air  has_jacuzzi  has_pool  has_solar  has_garage  ...  \\\n0                 False        False     False      False       False  ...   \n1                 False        False     False      False       False  ...   \n2                 False        False     False      False       False  ...   \n3                 False        False     False      False       False  ...   \n4                 False        False     False      False       False  ...   \n...                 ...          ...       ...        ...         ...  ...   \n203386            False        False     False      False       False  ...   \n203387            False        False     False      False       False  ...   \n203388            False        False     False      False       False  ...   \n203389            False        False     False      False       False  ...   \n203390            False        False     False      False       False  ...   \n\n       bathtotalcalc bathfull  bathsparcialnbr  garageparkingnbr  \\\n0                3.0      3.0              0.0                 1   \n1                2.0      1.0              1.0                 0   \n2                3.0      1.0              0.0                 2   \n3                3.0      1.0              0.0                 2   \n4                2.0      2.0              0.0                 1   \n...              ...      ...              ...               ...   \n203386           2.5      3.0              1.0                 2   \n203387           2.5      3.0              1.0                 2   \n203388           2.5      3.0              1.0                 2   \n203389           1.5      1.0              1.0                 0   \n203390           2.5      2.0              1.0                 1   \n\n        sumresidentialunits  sumbuildingsnbr  faucidflag  house_market_exists  \\\n0                       1.0              0.0           C                 True   \n1                       1.0              0.0           C                 True   \n2                       1.0              0.0           C                 True   \n3                       1.0              0.0           C                 True   \n4                       1.0              0.0           C                 True   \n...                     ...              ...         ...                  ...   \n203386                  6.0              0.0           C                 True   \n203387                  6.0              0.0           C                 True   \n203388                  6.0              0.0           C                 True   \n203389                  6.0              0.0           C                 True   \n203390                  0.0              0.0           C                 True   \n\n        datatree_exists  property_internal_exists  \n0                 False                     False  \n1                 False                     False  \n2                 False                     False  \n3                 False                     False  \n4                 False                     False  \n...                 ...                       ...  \n203386            False                     False  \n203387            False                     False  \n203388            False                     False  \n203389            False                     False  \n203390            False                     False  \n\n[203391 rows x 70 columns]",
            "text/html": "<div>\n<style scoped>\n    .dataframe tbody tr th:only-of-type {\n        vertical-align: middle;\n    }\n\n    .dataframe tbody tr th {\n        vertical-align: top;\n    }\n\n    .dataframe thead th {\n        text-align: right;\n    }\n</style>\n<table border=\"1\" class=\"dataframe\">\n  <thead>\n    <tr style=\"text-align: right;\">\n      <th></th>\n      <th>cc_property_id</th>\n      <th>zipcode_x</th>\n      <th>fips_x</th>\n      <th>sqft</th>\n      <th>property_type_x</th>\n      <th>has_central_air</th>\n      <th>has_jacuzzi</th>\n      <th>has_pool</th>\n      <th>has_solar</th>\n      <th>has_garage</th>\n      <th>...</th>\n      <th>bathtotalcalc</th>\n      <th>bathfull</th>\n      <th>bathsparcialnbr</th>\n      <th>garageparkingnbr</th>\n      <th>sumresidentialunits</th>\n      <th>sumbuildingsnbr</th>\n      <th>faucidflag</th>\n      <th>house_market_exists</th>\n      <th>datatree_exists</th>\n      <th>property_internal_exists</th>\n    </tr>\n  </thead>\n  <tbody>\n    <tr>\n      <th>0</th>\n      <td>138560546</td>\n      <td>80002</td>\n      <td>8059.0</td>\n      <td>1687.0</td>\n      <td>SINGLE</td>\n      <td>False</td>\n      <td>False</td>\n      <td>False</td>\n      <td>False</td>\n      <td>False</td>\n      <td>...</td>\n      <td>3.0</td>\n      <td>3.0</td>\n      <td>0.0</td>\n      <td>1</td>\n      <td>1.0</td>\n      <td>0.0</td>\n      <td>C</td>\n      <td>True</td>\n      <td>False</td>\n      <td>False</td>\n    </tr>\n    <tr>\n      <th>1</th>\n      <td>138555680</td>\n      <td>80002</td>\n      <td>8059.0</td>\n      <td>2220.0</td>\n      <td>SINGLE</td>\n      <td>False</td>\n      <td>False</td>\n      <td>False</td>\n      <td>False</td>\n      <td>False</td>\n      <td>...</td>\n      <td>2.0</td>\n      <td>1.0</td>\n      <td>1.0</td>\n      <td>0</td>\n      <td>1.0</td>\n      <td>0.0</td>\n      <td>C</td>\n      <td>True</td>\n      <td>False</td>\n      <td>False</td>\n    </tr>\n    <tr>\n      <th>2</th>\n      <td>138574571</td>\n      <td>80002</td>\n      <td>8059.0</td>\n      <td>2127.0</td>\n      <td>SINGLE</td>\n      <td>False</td>\n      <td>False</td>\n      <td>False</td>\n      <td>False</td>\n      <td>False</td>\n      <td>...</td>\n      <td>3.0</td>\n      <td>1.0</td>\n      <td>0.0</td>\n      <td>2</td>\n      <td>1.0</td>\n      <td>0.0</td>\n      <td>C</td>\n      <td>True</td>\n      <td>False</td>\n      <td>False</td>\n    </tr>\n    <tr>\n      <th>3</th>\n      <td>138574571</td>\n      <td>80002</td>\n      <td>8059.0</td>\n      <td>2127.0</td>\n      <td>SINGLE</td>\n      <td>False</td>\n      <td>False</td>\n      <td>False</td>\n      <td>False</td>\n      <td>False</td>\n      <td>...</td>\n      <td>3.0</td>\n      <td>1.0</td>\n      <td>0.0</td>\n      <td>2</td>\n      <td>1.0</td>\n      <td>0.0</td>\n      <td>C</td>\n      <td>True</td>\n      <td>False</td>\n      <td>False</td>\n    </tr>\n    <tr>\n      <th>4</th>\n      <td>138567704</td>\n      <td>80002</td>\n      <td>8059.0</td>\n      <td>1549.0</td>\n      <td>SINGLE</td>\n      <td>False</td>\n      <td>False</td>\n      <td>False</td>\n      <td>False</td>\n      <td>False</td>\n      <td>...</td>\n      <td>2.0</td>\n      <td>2.0</td>\n      <td>0.0</td>\n      <td>1</td>\n      <td>1.0</td>\n      <td>0.0</td>\n      <td>C</td>\n      <td>True</td>\n      <td>False</td>\n      <td>False</td>\n    </tr>\n    <tr>\n      <th>...</th>\n      <td>...</td>\n      <td>...</td>\n      <td>...</td>\n      <td>...</td>\n      <td>...</td>\n      <td>...</td>\n      <td>...</td>\n      <td>...</td>\n      <td>...</td>\n      <td>...</td>\n      <td>...</td>\n      <td>...</td>\n      <td>...</td>\n      <td>...</td>\n      <td>...</td>\n      <td>...</td>\n      <td>...</td>\n      <td>...</td>\n      <td>...</td>\n      <td>...</td>\n      <td>...</td>\n    </tr>\n    <tr>\n      <th>203386</th>\n      <td>351494549</td>\n      <td>80602</td>\n      <td>8001.0</td>\n      <td>1672.0</td>\n      <td>CONDO</td>\n      <td>False</td>\n      <td>False</td>\n      <td>False</td>\n      <td>False</td>\n      <td>False</td>\n      <td>...</td>\n      <td>2.5</td>\n      <td>3.0</td>\n      <td>1.0</td>\n      <td>2</td>\n      <td>6.0</td>\n      <td>0.0</td>\n      <td>C</td>\n      <td>True</td>\n      <td>False</td>\n      <td>False</td>\n    </tr>\n    <tr>\n      <th>203387</th>\n      <td>510422199</td>\n      <td>80602</td>\n      <td>8001.0</td>\n      <td>1672.0</td>\n      <td>CONDO</td>\n      <td>False</td>\n      <td>False</td>\n      <td>False</td>\n      <td>False</td>\n      <td>False</td>\n      <td>...</td>\n      <td>2.5</td>\n      <td>3.0</td>\n      <td>1.0</td>\n      <td>2</td>\n      <td>6.0</td>\n      <td>0.0</td>\n      <td>C</td>\n      <td>True</td>\n      <td>False</td>\n      <td>False</td>\n    </tr>\n    <tr>\n      <th>203388</th>\n      <td>510422199</td>\n      <td>80602</td>\n      <td>8001.0</td>\n      <td>1672.0</td>\n      <td>CONDO</td>\n      <td>False</td>\n      <td>False</td>\n      <td>False</td>\n      <td>False</td>\n      <td>False</td>\n      <td>...</td>\n      <td>2.5</td>\n      <td>3.0</td>\n      <td>1.0</td>\n      <td>2</td>\n      <td>6.0</td>\n      <td>0.0</td>\n      <td>C</td>\n      <td>True</td>\n      <td>False</td>\n      <td>False</td>\n    </tr>\n    <tr>\n      <th>203389</th>\n      <td>332257664</td>\n      <td>80602</td>\n      <td>8001.0</td>\n      <td>1446.0</td>\n      <td>MULTI_FAMILY</td>\n      <td>False</td>\n      <td>False</td>\n      <td>False</td>\n      <td>False</td>\n      <td>False</td>\n      <td>...</td>\n      <td>1.5</td>\n      <td>1.0</td>\n      <td>1.0</td>\n      <td>0</td>\n      <td>6.0</td>\n      <td>0.0</td>\n      <td>C</td>\n      <td>True</td>\n      <td>False</td>\n      <td>False</td>\n    </tr>\n    <tr>\n      <th>203390</th>\n      <td>138171200</td>\n      <td>80640</td>\n      <td>8001.0</td>\n      <td>1754.0</td>\n      <td>SINGLE</td>\n      <td>False</td>\n      <td>False</td>\n      <td>False</td>\n      <td>False</td>\n      <td>False</td>\n      <td>...</td>\n      <td>2.5</td>\n      <td>2.0</td>\n      <td>1.0</td>\n      <td>1</td>\n      <td>0.0</td>\n      <td>0.0</td>\n      <td>C</td>\n      <td>True</td>\n      <td>False</td>\n      <td>False</td>\n    </tr>\n  </tbody>\n</table>\n<p>203391 rows × 70 columns</p>\n</div>"
          },
          "metadata": {}
        }
      ]
    },
    {
      "cell_type": "code",
      "metadata": {
        "cell_id": "00022-afc4f10b-f9d1-4384-936d-c6565f9b9778",
        "deepnote_to_be_reexecuted": true,
        "source_hash": "34b37ba8",
        "execution_start": 1617154711116,
        "execution_millis": 1139,
        "deepnote_cell_type": "code"
      },
      "source": "joined = clean_dataset(joined)",
      "execution_count": null,
      "outputs": [
        {
          "output_type": "error",
          "ename": "TypeError",
          "evalue": "clean_dataset() missing 1 required positional argument: 'csv_name'",
          "traceback": [
            "\u001b[0;31m---------------------------------------------------------------------------\u001b[0m",
            "\u001b[0;31mTypeError\u001b[0m                                 Traceback (most recent call last)",
            "\u001b[0;32m<ipython-input-22-42b415136510>\u001b[0m in \u001b[0;36m<module>\u001b[0;34m\u001b[0m\n\u001b[0;32m----> 1\u001b[0;31m \u001b[0mjoined\u001b[0m \u001b[0;34m=\u001b[0m \u001b[0mclean_dataset\u001b[0m\u001b[0;34m(\u001b[0m\u001b[0mjoined\u001b[0m\u001b[0;34m)\u001b[0m\u001b[0;34m\u001b[0m\u001b[0;34m\u001b[0m\u001b[0m\n\u001b[0m",
            "\u001b[0;31mTypeError\u001b[0m: clean_dataset() missing 1 required positional argument: 'csv_name'"
          ]
        }
      ]
    },
    {
      "cell_type": "code",
      "metadata": {
        "cell_id": "00023-7f219955-7235-4427-b0fa-60ebb26aadb2",
        "deepnote_to_be_reexecuted": true,
        "source_hash": "d2c755b3",
        "deepnote_cell_type": "code"
      },
      "source": "y_2019Q2 = gen_y(datetime.timedelta(days = 90), joined, datetime.datetime(2019,4,1))",
      "execution_count": null,
      "outputs": []
    },
    {
      "cell_type": "code",
      "metadata": {
        "cell_id": "00024-db5d8b8d-7b38-404f-9891-8d0bf76841b2",
        "deepnote_to_be_reexecuted": true,
        "source_hash": "2b3d3c02",
        "deepnote_cell_type": "code"
      },
      "source": "fig, axes = plt.subplots(1,2)\nfig.set_size_inches(10, 5)\nsns.histplot(y_2019Q2[:,0], ax=axes[0])\nsns.histplot(y_2019Q2[:,1], ax=axes[1])\nplt.show()",
      "execution_count": null,
      "outputs": [
        {
          "data": {
            "image/png": "[encoded data removed]",
            "text/plain": "<Figure size 720x360 with 2 Axes>"
          },
          "metadata": {
            "needs_background": "light"
          },
          "output_type": "display_data"
        }
      ]
    },
    {
      "cell_type": "code",
      "metadata": {
        "cell_id": "00025-f647ebc6-2291-4e40-8f59-f14e8b866c0e",
        "deepnote_to_be_reexecuted": true,
        "source_hash": "ee0409da",
        "deepnote_cell_type": "code"
      },
      "source": "def gen_x(diff, date, t0):\n  start = t0\n  end = t0 + diff\n  return date[(date.sale_date >= start) & (date.list_date < end)]",
      "execution_count": null,
      "outputs": []
    },
    {
      "cell_type": "code",
      "metadata": {
        "cell_id": "00026-5f3fa53b-a756-4a4c-bf33-15996a6f49ed",
        "deepnote_to_be_reexecuted": true,
        "source_hash": "77c21fee",
        "deepnote_cell_type": "code"
      },
      "source": "class BaselineNet(nn.Module):\n  def __init__(self, state_dim, output_dim, epochs=5000):\n    super(BaselineNet, self).__init__()\n\n    hidden_dim =  128\n    self.linear1 = nn.Linear(state_dim, hidden_dim)\n    self.linear2 = nn.Linear(hidden_dim, hidden_dim)\n    self.linear3 = nn.Linear(hidden_dim, output_dim)\n    self.softmax = nn.Softmax(dim=1)\n    \n    self.epochs = epochs\n\n  def forward(self, x):\n    x = F.sigmoid(self.linear1(x))\n    x = F.sigmoid(self.linear2(x))\n    x = self.linear3(x)\n    x = self.softmax(x)\n    \n    return x\n\n  def feed(self, X, y):\n    criterion = torch.nn.CrossEntropyLoss()\n    optimizer = torch.optim.SGD(self.parameters(), lr=0.01)\n    cnt = 0\n\n    for epoch in range(self.epochs):\n      outputs = self.forward(X.float())\n#       print(outputs)\n      labels = torch.max(y, 1)[1]\n      loss = criterion(outputs, labels)\n      optimizer.zero_grad()\n      loss.backward()\n      optimizer.step()\n\n      cnt += 1\n      if cnt % 100 == 0:\n        correct = 0\n        total = y.shape[0]\n        _, predicted = torch.max(outputs.data, 1)\n        correct += (predicted == labels).sum()\n        accuracy = 100 * correct/total\n        print(\"Iteration: {}. Loss: {}. Correct: {}. Accuracy: {}.\".format(cnt, loss.item(), correct, accuracy))",
      "execution_count": null,
      "outputs": []
    },
    {
      "cell_type": "code",
      "metadata": {
        "cell_id": "00027-8155f7a4-b3bb-4c14-afee-b627a3b51787",
        "deepnote_to_be_reexecuted": true,
        "source_hash": "430b8496",
        "deepnote_cell_type": "code"
      },
      "source": "def predict_on_timeframe(t0, days, df, cols_to_drop):\n  device = torch.device('cuda') if torch.cuda.is_available() else torch.device('cpu') \n  tmp = gen_x(datetime.timedelta(days = days), df, t0)\n  Y = gen_y(datetime.timedelta(days = days), tmp, t0)[:,1]\n  \n  X = tmp.drop(columns=cols_to_drop, errors='ignore')\n  X = X.reset_index(drop=True)\n  \n  print('X shape: {}, y shape: {}'.format(X.shape, Y.shape))\n  \n#   sm = SMOTE(random_state=42)\n#   X, Y = sm.fit_resample(X, Y)\n#   print('After SMOTE: X shape{}, y shape {}'.format(X.shape, Y.shape))\n  \n  print('Y: {}'.format(Y))\n  X_train, X_test, y_train, y_test = train_test_split(X, Y, test_size=0.33)\n  \n  clf = LogisticRegression(random_state=0).fit(X_train, y_train)\n  print('roc_auc_score: ' + str(roc_auc_score(y_test, clf.predict(X_test)))) \n  print('Accuracy of logistic regression: {}'.format(clf.score(X_test, y_test)))\n  \n  sns.histplot(y_train)\n  \n  X_train = torch.tensor(X_train.astype(float).values, dtype=torch.float64).to(device)\n  y_train = torch.tensor(y_train, dtype=torch.int64).to(device)\n  y_train = torch.nn.functional.one_hot(y_train)\n  \n  print('y_train: {}'.format(y_train))\n  net = BaselineNet(X_train.shape[1], y_train.shape[1], epochs=50000).to(device)\n  \n  net.train()\n  net.feed(X_train, y_train)\n  \n  X_test = torch.tensor(X_test.astype(float).values, dtype=torch.float64).to(device)\n  y_test = torch.tensor(y_test, dtype=torch.int64).to(device)\n  y_test = torch.nn.functional.one_hot(y_test)\n  \n  with torch.no_grad():\n    net.eval()\n    outputs = net.forward(X_test.float())\n    labels = torch.max(y_test, 1)[1]\n    _, predicted = torch.max(outputs.data, 1)\n    correct = (predicted == labels).sum()\n    accuracy = 100 * correct/y_test.shape[0]\n\n    print('Accuracy of neural network on test set: {}, correct: {}'.format(accuracy, correct))\n    \n  return net",
      "execution_count": null,
      "outputs": []
    },
    {
      "cell_type": "code",
      "metadata": {
        "scrolled": false,
        "cell_id": "00028-94727113-9c1e-4f4e-acbb-1f180d5a5465",
        "deepnote_to_be_reexecuted": true,
        "source_hash": "a4c5ddac",
        "deepnote_cell_type": "code"
      },
      "source": "predict_on_timeframe(datetime.datetime(2019,4,1), 30, joined, cols_to_drop)",
      "execution_count": null,
      "outputs": [
        {
          "name": "stdout",
          "output_type": "stream",
          "text": "X shape: (13318, 55), y shape: (13318,)\nY: [0 1 1 ... 1 0 0]\nroc_auc_score: 0.5\nAccuracy of logistic regression: 0.7112627986348122\ny_train: tensor([[1, 0],\n        [0, 1],\n        [1, 0],\n        ...,\n        [1, 0],\n        [0, 1],\n        [1, 0]], device='cuda:0')\nIteration: 100. Loss: 0.6028019189834595. Correct: 6355. Accuracy: 71.\n"
        },
        {
          "name": "stderr",
          "output_type": "stream",
          "text": "/home/namluu/anaconda3/lib/python3.7/site-packages/torch/nn/functional.py:1386: UserWarning: nn.functional.sigmoid is deprecated. Use torch.sigmoid instead.\n  warnings.warn(\"nn.functional.sigmoid is deprecated. Use torch.sigmoid instead.\")\n"
        },
        {
          "name": "stdout",
          "output_type": "stream",
          "text": "Iteration: 200. Loss: 0.6010628342628479. Correct: 6355. Accuracy: 71.\nIteration: 300. Loss: 0.6006020903587341. Correct: 6355. Accuracy: 71.\nIteration: 400. Loss: 0.6004132032394409. Correct: 6355. Accuracy: 71.\nIteration: 500. Loss: 0.6003187894821167. Correct: 6355. Accuracy: 71.\nIteration: 600. Loss: 0.6002650856971741. Correct: 6355. Accuracy: 71.\nIteration: 700. Loss: 0.6002323627471924. Correct: 6355. Accuracy: 71.\nIteration: 800. Loss: 0.6002113819122314. Correct: 6355. Accuracy: 71.\nIteration: 900. Loss: 0.6001973748207092. Correct: 6355. Accuracy: 71.\nIteration: 1000. Loss: 0.6001880764961243. Correct: 6355. Accuracy: 71.\nIteration: 1100. Loss: 0.6001808643341064. Correct: 6355. Accuracy: 71.\nIteration: 1200. Loss: 0.600176990032196. Correct: 6355. Accuracy: 71.\nIteration: 1300. Loss: 0.6001725792884827. Correct: 6355. Accuracy: 71.\nIteration: 1400. Loss: 0.6001702547073364. Correct: 6355. Accuracy: 71.\nIteration: 1500. Loss: 0.6001679301261902. Correct: 6355. Accuracy: 71.\nIteration: 1600. Loss: 0.6001665592193604. Correct: 6355. Accuracy: 71.\nIteration: 1700. Loss: 0.600165843963623. Correct: 6355. Accuracy: 71.\nIteration: 1800. Loss: 0.6001642942428589. Correct: 6355. Accuracy: 71.\nIteration: 1900. Loss: 0.600163996219635. Correct: 6355. Accuracy: 71.\nIteration: 2000. Loss: 0.6001631617546082. Correct: 6355. Accuracy: 71.\nIteration: 2100. Loss: 0.600163459777832. Correct: 6355. Accuracy: 71.\nIteration: 2200. Loss: 0.6001624464988708. Correct: 6355. Accuracy: 71.\nIteration: 2300. Loss: 0.6001632213592529. Correct: 6355. Accuracy: 71.\nIteration: 2400. Loss: 0.6001630425453186. Correct: 6355. Accuracy: 71.\nIteration: 2500. Loss: 0.6001625657081604. Correct: 6355. Accuracy: 71.\nIteration: 2600. Loss: 0.6001625657081604. Correct: 6355. Accuracy: 71.\nIteration: 2700. Loss: 0.60016268491745. Correct: 6355. Accuracy: 71.\nIteration: 2800. Loss: 0.6001628041267395. Correct: 6355. Accuracy: 71.\nIteration: 2900. Loss: 0.600162923336029. Correct: 6355. Accuracy: 71.\nIteration: 3000. Loss: 0.6001628637313843. Correct: 6355. Accuracy: 71.\nIteration: 3100. Loss: 0.6001614332199097. Correct: 6355. Accuracy: 71.\nIteration: 3200. Loss: 0.6001623868942261. Correct: 6355. Accuracy: 71.\nIteration: 3300. Loss: 0.6001623868942261. Correct: 6355. Accuracy: 71.\nIteration: 3400. Loss: 0.6001615524291992. Correct: 6355. Accuracy: 71.\nIteration: 3500. Loss: 0.6001620292663574. Correct: 6355. Accuracy: 71.\nIteration: 3600. Loss: 0.6001616716384888. Correct: 6355. Accuracy: 71.\nIteration: 3700. Loss: 0.6001623868942261. Correct: 6355. Accuracy: 71.\nIteration: 3800. Loss: 0.6001618504524231. Correct: 6355. Accuracy: 71.\nIteration: 3900. Loss: 0.6001620292663574. Correct: 6355. Accuracy: 71.\nIteration: 4000. Loss: 0.6001620292663574. Correct: 6355. Accuracy: 71.\nIteration: 4100. Loss: 0.6001613736152649. Correct: 6355. Accuracy: 71.\nIteration: 4200. Loss: 0.6001618504524231. Correct: 6355. Accuracy: 71.\nIteration: 4300. Loss: 0.600161075592041. Correct: 6355. Accuracy: 71.\nIteration: 4400. Loss: 0.6001614332199097. Correct: 6355. Accuracy: 71.\nIteration: 4500. Loss: 0.600162148475647. Correct: 6355. Accuracy: 71.\nIteration: 4600. Loss: 0.6001614332199097. Correct: 6355. Accuracy: 71.\nIteration: 4700. Loss: 0.600162148475647. Correct: 6355. Accuracy: 71.\nIteration: 4800. Loss: 0.6001613736152649. Correct: 6355. Accuracy: 71.\nIteration: 4900. Loss: 0.600161612033844. Correct: 6355. Accuracy: 71.\nIteration: 5000. Loss: 0.6001620888710022. Correct: 6355. Accuracy: 71.\nIteration: 5100. Loss: 0.600161612033844. Correct: 6355. Accuracy: 71.\nIteration: 5200. Loss: 0.6001617908477783. Correct: 6355. Accuracy: 71.\nIteration: 5300. Loss: 0.6001609563827515. Correct: 6355. Accuracy: 71.\nIteration: 5400. Loss: 0.6001628041267395. Correct: 6355. Accuracy: 71.\nIteration: 5500. Loss: 0.6001614332199097. Correct: 6355. Accuracy: 71.\nIteration: 5600. Loss: 0.6001618504524231. Correct: 6355. Accuracy: 71.\nIteration: 5700. Loss: 0.6001614332199097. Correct: 6355. Accuracy: 71.\nIteration: 5800. Loss: 0.6001607179641724. Correct: 6355. Accuracy: 71.\nIteration: 5900. Loss: 0.6001608967781067. Correct: 6355. Accuracy: 71.\nIteration: 6000. Loss: 0.6001616716384888. Correct: 6355. Accuracy: 71.\nIteration: 6100. Loss: 0.6001619696617126. Correct: 6355. Accuracy: 71.\nIteration: 6200. Loss: 0.6001616716384888. Correct: 6355. Accuracy: 71.\nIteration: 6300. Loss: 0.6001618504524231. Correct: 6355. Accuracy: 71.\nIteration: 6400. Loss: 0.6001620888710022. Correct: 6355. Accuracy: 71.\nIteration: 6500. Loss: 0.600161075592041. Correct: 6355. Accuracy: 71.\nIteration: 6600. Loss: 0.6001616716384888. Correct: 6355. Accuracy: 71.\nIteration: 6700. Loss: 0.600161612033844. Correct: 6355. Accuracy: 71.\nIteration: 6800. Loss: 0.6001620292663574. Correct: 6355. Accuracy: 71.\nIteration: 6900. Loss: 0.6001614332199097. Correct: 6355. Accuracy: 71.\nIteration: 7000. Loss: 0.6001615524291992. Correct: 6355. Accuracy: 71.\nIteration: 7100. Loss: 0.6001616716384888. Correct: 6355. Accuracy: 71.\nIteration: 7200. Loss: 0.6001615524291992. Correct: 6355. Accuracy: 71.\nIteration: 7300. Loss: 0.6001616716384888. Correct: 6355. Accuracy: 71.\nIteration: 7400. Loss: 0.6001619100570679. Correct: 6355. Accuracy: 71.\nIteration: 7500. Loss: 0.6001619100570679. Correct: 6355. Accuracy: 71.\nIteration: 7600. Loss: 0.6001617908477783. Correct: 6355. Accuracy: 71.\nIteration: 7700. Loss: 0.60016268491745. Correct: 6355. Accuracy: 71.\nIteration: 7800. Loss: 0.6001619100570679. Correct: 6355. Accuracy: 71.\nIteration: 7900. Loss: 0.600162148475647. Correct: 6355. Accuracy: 71.\nIteration: 8000. Loss: 0.6001624464988708. Correct: 6355. Accuracy: 71.\nIteration: 8100. Loss: 0.600162148475647. Correct: 6355. Accuracy: 71.\nIteration: 8200. Loss: 0.6001614332199097. Correct: 6355. Accuracy: 71.\nIteration: 8300. Loss: 0.6001611948013306. Correct: 6355. Accuracy: 71.\nIteration: 8400. Loss: 0.6001613736152649. Correct: 6355. Accuracy: 71.\nIteration: 8500. Loss: 0.6001611948013306. Correct: 6355. Accuracy: 71.\nIteration: 8600. Loss: 0.6001611948013306. Correct: 6355. Accuracy: 71.\nIteration: 8700. Loss: 0.6001609563827515. Correct: 6355. Accuracy: 71.\nIteration: 8800. Loss: 0.6001614332199097. Correct: 6355. Accuracy: 71.\nIteration: 8900. Loss: 0.6001614332199097. Correct: 6355. Accuracy: 71.\nIteration: 9000. Loss: 0.6001613140106201. Correct: 6355. Accuracy: 71.\nIteration: 9100. Loss: 0.6001614332199097. Correct: 6355. Accuracy: 71.\nIteration: 9200. Loss: 0.6001613140106201. Correct: 6355. Accuracy: 71.\nIteration: 9300. Loss: 0.6001607775688171. Correct: 6355. Accuracy: 71.\nIteration: 9400. Loss: 0.6001607775688171. Correct: 6355. Accuracy: 71.\nIteration: 9500. Loss: 0.600160539150238. Correct: 6355. Accuracy: 71.\nIteration: 9600. Loss: 0.6001607775688171. Correct: 6355. Accuracy: 71.\nIteration: 9700. Loss: 0.6001605987548828. Correct: 6355. Accuracy: 71.\nIteration: 9800. Loss: 0.6001613140106201. Correct: 6355. Accuracy: 71.\nIteration: 9900. Loss: 0.6001606583595276. Correct: 6355. Accuracy: 71.\nIteration: 10000. Loss: 0.6001604199409485. Correct: 6355. Accuracy: 71.\nIteration: 10100. Loss: 0.6001609563827515. Correct: 6355. Accuracy: 71.\nIteration: 10200. Loss: 0.6001611351966858. Correct: 6355. Accuracy: 71.\nIteration: 10300. Loss: 0.6001608967781067. Correct: 6355. Accuracy: 71.\nIteration: 10400. Loss: 0.6001606583595276. Correct: 6355. Accuracy: 71.\nIteration: 10500. Loss: 0.6001607775688171. Correct: 6355. Accuracy: 71.\nIteration: 10600. Loss: 0.6001608371734619. Correct: 6355. Accuracy: 71.\nIteration: 10700. Loss: 0.6001601219177246. Correct: 6355. Accuracy: 71.\nIteration: 10800. Loss: 0.6001600623130798. Correct: 6355. Accuracy: 71.\nIteration: 10900. Loss: 0.6001600623130798. Correct: 6355. Accuracy: 71.\nIteration: 11000. Loss: 0.6001599431037903. Correct: 6355. Accuracy: 71.\nIteration: 11100. Loss: 0.6001605987548828. Correct: 6355. Accuracy: 71.\nIteration: 11200. Loss: 0.6001608371734619. Correct: 6355. Accuracy: 71.\nIteration: 11300. Loss: 0.6001607775688171. Correct: 6355. Accuracy: 71.\nIteration: 11400. Loss: 0.6001609563827515. Correct: 6355. Accuracy: 71.\nIteration: 11500. Loss: 0.6001604795455933. Correct: 6355. Accuracy: 71.\n"
        },
        {
          "name": "stdout",
          "output_type": "stream",
          "text": "Iteration: 11600. Loss: 0.6001608371734619. Correct: 6355. Accuracy: 71.\nIteration: 11700. Loss: 0.6001608371734619. Correct: 6355. Accuracy: 71.\nIteration: 11800. Loss: 0.6001607775688171. Correct: 6355. Accuracy: 71.\nIteration: 11900. Loss: 0.6001604795455933. Correct: 6355. Accuracy: 71.\nIteration: 12000. Loss: 0.6001607775688171. Correct: 6355. Accuracy: 71.\nIteration: 12100. Loss: 0.6001611351966858. Correct: 6355. Accuracy: 71.\nIteration: 12200. Loss: 0.6001614332199097. Correct: 6355. Accuracy: 71.\nIteration: 12300. Loss: 0.600161612033844. Correct: 6355. Accuracy: 71.\nIteration: 12400. Loss: 0.6001615524291992. Correct: 6355. Accuracy: 71.\nIteration: 12500. Loss: 0.6001614928245544. Correct: 6355. Accuracy: 71.\nIteration: 12600. Loss: 0.6001616716384888. Correct: 6355. Accuracy: 71.\nIteration: 12700. Loss: 0.6001614332199097. Correct: 6355. Accuracy: 71.\nIteration: 12800. Loss: 0.6001614332199097. Correct: 6355. Accuracy: 71.\nIteration: 12900. Loss: 0.6001611948013306. Correct: 6355. Accuracy: 71.\nIteration: 13000. Loss: 0.6001611948013306. Correct: 6355. Accuracy: 71.\nIteration: 13100. Loss: 0.6001609563827515. Correct: 6355. Accuracy: 71.\nIteration: 13200. Loss: 0.6001608371734619. Correct: 6355. Accuracy: 71.\nIteration: 13300. Loss: 0.6001606583595276. Correct: 6355. Accuracy: 71.\nIteration: 13400. Loss: 0.600160539150238. Correct: 6355. Accuracy: 71.\nIteration: 13500. Loss: 0.600160539150238. Correct: 6355. Accuracy: 71.\nIteration: 13600. Loss: 0.600160539150238. Correct: 6355. Accuracy: 71.\nIteration: 13700. Loss: 0.6001607179641724. Correct: 6355. Accuracy: 71.\nIteration: 13800. Loss: 0.6001612544059753. Correct: 6355. Accuracy: 71.\nIteration: 13900. Loss: 0.6001611948013306. Correct: 6355. Accuracy: 71.\nIteration: 14000. Loss: 0.6001610159873962. Correct: 6355. Accuracy: 71.\nIteration: 14100. Loss: 0.6001612544059753. Correct: 6355. Accuracy: 71.\nIteration: 14200. Loss: 0.6001611351966858. Correct: 6355. Accuracy: 71.\nIteration: 14300. Loss: 0.6001606583595276. Correct: 6355. Accuracy: 71.\nIteration: 14400. Loss: 0.6001600027084351. Correct: 6355. Accuracy: 71.\nIteration: 14500. Loss: 0.6001601219177246. Correct: 6355. Accuracy: 71.\nIteration: 14600. Loss: 0.600160539150238. Correct: 6355. Accuracy: 71.\nIteration: 14700. Loss: 0.6001605987548828. Correct: 6355. Accuracy: 71.\nIteration: 14800. Loss: 0.6001607775688171. Correct: 6355. Accuracy: 71.\nIteration: 14900. Loss: 0.6001610159873962. Correct: 6355. Accuracy: 71.\nIteration: 15000. Loss: 0.6001607179641724. Correct: 6355. Accuracy: 71.\nIteration: 15100. Loss: 0.6001609563827515. Correct: 6355. Accuracy: 71.\nIteration: 15200. Loss: 0.6001604795455933. Correct: 6355. Accuracy: 71.\nIteration: 15300. Loss: 0.6001607775688171. Correct: 6355. Accuracy: 71.\nIteration: 15400. Loss: 0.6001611351966858. Correct: 6355. Accuracy: 71.\nIteration: 15500. Loss: 0.6001607775688171. Correct: 6355. Accuracy: 71.\nIteration: 15600. Loss: 0.6001609563827515. Correct: 6355. Accuracy: 71.\nIteration: 15700. Loss: 0.6001607775688171. Correct: 6355. Accuracy: 71.\nIteration: 15800. Loss: 0.600161075592041. Correct: 6355. Accuracy: 71.\nIteration: 15900. Loss: 0.6001611351966858. Correct: 6355. Accuracy: 71.\nIteration: 16000. Loss: 0.6001607179641724. Correct: 6355. Accuracy: 71.\nIteration: 16100. Loss: 0.6001605987548828. Correct: 6355. Accuracy: 71.\nIteration: 16200. Loss: 0.6001607179641724. Correct: 6355. Accuracy: 71.\nIteration: 16300. Loss: 0.6001607179641724. Correct: 6355. Accuracy: 71.\nIteration: 16400. Loss: 0.6001604199409485. Correct: 6355. Accuracy: 71.\nIteration: 16500. Loss: 0.600160539150238. Correct: 6355. Accuracy: 71.\nIteration: 16600. Loss: 0.6001604795455933. Correct: 6355. Accuracy: 71.\nIteration: 16700. Loss: 0.6001591682434082. Correct: 6355. Accuracy: 71.\nIteration: 16800. Loss: 0.6001594066619873. Correct: 6355. Accuracy: 71.\nIteration: 16900. Loss: 0.6001591086387634. Correct: 6355. Accuracy: 71.\nIteration: 17000. Loss: 0.600159764289856. Correct: 6355. Accuracy: 71.\nIteration: 17100. Loss: 0.6001595854759216. Correct: 6355. Accuracy: 71.\nIteration: 17200. Loss: 0.6001597046852112. Correct: 6355. Accuracy: 71.\nIteration: 17300. Loss: 0.6001594662666321. Correct: 6355. Accuracy: 71.\nIteration: 17400. Loss: 0.6001594662666321. Correct: 6355. Accuracy: 71.\nIteration: 17500. Loss: 0.6001595854759216. Correct: 6355. Accuracy: 71.\nIteration: 17600. Loss: 0.6001595854759216. Correct: 6355. Accuracy: 71.\nIteration: 17700. Loss: 0.6001596450805664. Correct: 6355. Accuracy: 71.\nIteration: 17800. Loss: 0.6001603007316589. Correct: 6355. Accuracy: 71.\nIteration: 17900. Loss: 0.6001598834991455. Correct: 6355. Accuracy: 71.\nIteration: 18000. Loss: 0.6001601219177246. Correct: 6355. Accuracy: 71.\nIteration: 18100. Loss: 0.6001599431037903. Correct: 6355. Accuracy: 71.\nIteration: 18200. Loss: 0.6001596450805664. Correct: 6355. Accuracy: 71.\nIteration: 18300. Loss: 0.6001597046852112. Correct: 6355. Accuracy: 71.\nIteration: 18400. Loss: 0.6001597046852112. Correct: 6355. Accuracy: 71.\nIteration: 18500. Loss: 0.6001598238945007. Correct: 6355. Accuracy: 71.\nIteration: 18600. Loss: 0.6001603007316589. Correct: 6355. Accuracy: 71.\nIteration: 18700. Loss: 0.6001604199409485. Correct: 6355. Accuracy: 71.\nIteration: 18800. Loss: 0.6001597046852112. Correct: 6355. Accuracy: 71.\nIteration: 18900. Loss: 0.6001596450805664. Correct: 6355. Accuracy: 71.\nIteration: 19000. Loss: 0.600159764289856. Correct: 6355. Accuracy: 71.\nIteration: 19100. Loss: 0.6001595258712769. Correct: 6355. Accuracy: 71.\nIteration: 19200. Loss: 0.6001601219177246. Correct: 6355. Accuracy: 71.\nIteration: 19300. Loss: 0.6001598238945007. Correct: 6355. Accuracy: 71.\nIteration: 19400. Loss: 0.6001598834991455. Correct: 6355. Accuracy: 71.\nIteration: 19500. Loss: 0.6001601219177246. Correct: 6355. Accuracy: 71.\nIteration: 19600. Loss: 0.6001596450805664. Correct: 6355. Accuracy: 71.\nIteration: 19700. Loss: 0.6001592874526978. Correct: 6355. Accuracy: 71.\nIteration: 19800. Loss: 0.6001591086387634. Correct: 6355. Accuracy: 71.\nIteration: 19900. Loss: 0.6001591682434082. Correct: 6355. Accuracy: 71.\nIteration: 20000. Loss: 0.600159227848053. Correct: 6355. Accuracy: 71.\nIteration: 20100. Loss: 0.6001588106155396. Correct: 6355. Accuracy: 71.\nIteration: 20200. Loss: 0.6001591682434082. Correct: 6355. Accuracy: 71.\nIteration: 20300. Loss: 0.6001587510108948. Correct: 6355. Accuracy: 71.\nIteration: 20400. Loss: 0.6001587510108948. Correct: 6355. Accuracy: 71.\nIteration: 20500. Loss: 0.6001597046852112. Correct: 6355. Accuracy: 71.\nIteration: 20600. Loss: 0.6001598238945007. Correct: 6355. Accuracy: 71.\nIteration: 20700. Loss: 0.6001595258712769. Correct: 6355. Accuracy: 71.\nIteration: 20800. Loss: 0.6001596450805664. Correct: 6355. Accuracy: 71.\nIteration: 20900. Loss: 0.6001598238945007. Correct: 6355. Accuracy: 71.\nIteration: 21000. Loss: 0.6001595854759216. Correct: 6355. Accuracy: 71.\nIteration: 21100. Loss: 0.6001596450805664. Correct: 6355. Accuracy: 71.\nIteration: 21200. Loss: 0.6001593470573425. Correct: 6355. Accuracy: 71.\nIteration: 21300. Loss: 0.6001607775688171. Correct: 6355. Accuracy: 71.\nIteration: 21400. Loss: 0.6001603007316589. Correct: 6355. Accuracy: 71.\nIteration: 21500. Loss: 0.6001600027084351. Correct: 6355. Accuracy: 71.\nIteration: 21600. Loss: 0.6001600027084351. Correct: 6355. Accuracy: 71.\nIteration: 21700. Loss: 0.6001601219177246. Correct: 6355. Accuracy: 71.\nIteration: 21800. Loss: 0.6001603007316589. Correct: 6355. Accuracy: 71.\nIteration: 21900. Loss: 0.6001601219177246. Correct: 6355. Accuracy: 71.\nIteration: 22000. Loss: 0.6001607775688171. Correct: 6355. Accuracy: 71.\nIteration: 22100. Loss: 0.6001601219177246. Correct: 6355. Accuracy: 71.\nIteration: 22200. Loss: 0.6001610159873962. Correct: 6355. Accuracy: 71.\nIteration: 22300. Loss: 0.600159764289856. Correct: 6355. Accuracy: 71.\nIteration: 22400. Loss: 0.6001597046852112. Correct: 6355. Accuracy: 71.\nIteration: 22500. Loss: 0.6001593470573425. Correct: 6355. Accuracy: 71.\nIteration: 22600. Loss: 0.6001594662666321. Correct: 6355. Accuracy: 71.\nIteration: 22700. Loss: 0.6001597046852112. Correct: 6355. Accuracy: 71.\nIteration: 22800. Loss: 0.6001594662666321. Correct: 6355. Accuracy: 71.\nIteration: 22900. Loss: 0.6001594066619873. Correct: 6355. Accuracy: 71.\n"
        },
        {
          "name": "stdout",
          "output_type": "stream",
          "text": "Iteration: 23000. Loss: 0.6001594066619873. Correct: 6355. Accuracy: 71.\nIteration: 23100. Loss: 0.6001594662666321. Correct: 6355. Accuracy: 71.\nIteration: 23200. Loss: 0.6001593470573425. Correct: 6355. Accuracy: 71.\nIteration: 23300. Loss: 0.6001592874526978. Correct: 6355. Accuracy: 71.\nIteration: 23400. Loss: 0.6001593470573425. Correct: 6355. Accuracy: 71.\nIteration: 23500. Loss: 0.6001595854759216. Correct: 6355. Accuracy: 71.\nIteration: 23600. Loss: 0.6001597046852112. Correct: 6355. Accuracy: 71.\nIteration: 23700. Loss: 0.6001594662666321. Correct: 6355. Accuracy: 71.\nIteration: 23800. Loss: 0.6001594662666321. Correct: 6355. Accuracy: 71.\nIteration: 23900. Loss: 0.6001595258712769. Correct: 6355. Accuracy: 71.\nIteration: 24000. Loss: 0.6001586318016052. Correct: 6355. Accuracy: 71.\nIteration: 24100. Loss: 0.6001589894294739. Correct: 6355. Accuracy: 71.\nIteration: 24200. Loss: 0.6001589298248291. Correct: 6355. Accuracy: 71.\nIteration: 24300. Loss: 0.60015869140625. Correct: 6355. Accuracy: 71.\nIteration: 24400. Loss: 0.6001593470573425. Correct: 6355. Accuracy: 71.\nIteration: 24500. Loss: 0.6001587510108948. Correct: 6355. Accuracy: 71.\nIteration: 24600. Loss: 0.6001590490341187. Correct: 6355. Accuracy: 71.\nIteration: 24700. Loss: 0.60015869140625. Correct: 6355. Accuracy: 71.\nIteration: 24800. Loss: 0.6001591086387634. Correct: 6355. Accuracy: 71.\nIteration: 24900. Loss: 0.6001594066619873. Correct: 6355. Accuracy: 71.\nIteration: 25000. Loss: 0.6001595854759216. Correct: 6355. Accuracy: 71.\nIteration: 25100. Loss: 0.6001592874526978. Correct: 6355. Accuracy: 71.\nIteration: 25200. Loss: 0.6001596450805664. Correct: 6355. Accuracy: 71.\nIteration: 25300. Loss: 0.6001592874526978. Correct: 6355. Accuracy: 71.\nIteration: 25400. Loss: 0.6001594662666321. Correct: 6355. Accuracy: 71.\nIteration: 25500. Loss: 0.6001591682434082. Correct: 6355. Accuracy: 71.\nIteration: 25600. Loss: 0.6001594662666321. Correct: 6355. Accuracy: 71.\nIteration: 25700. Loss: 0.6001582741737366. Correct: 6355. Accuracy: 71.\nIteration: 25800. Loss: 0.6001587510108948. Correct: 6355. Accuracy: 71.\nIteration: 25900. Loss: 0.6001588106155396. Correct: 6355. Accuracy: 71.\nIteration: 26000. Loss: 0.6001587510108948. Correct: 6355. Accuracy: 71.\nIteration: 26100. Loss: 0.6001590490341187. Correct: 6355. Accuracy: 71.\nIteration: 26200. Loss: 0.6001591086387634. Correct: 6355. Accuracy: 71.\nIteration: 26300. Loss: 0.600159227848053. Correct: 6355. Accuracy: 71.\nIteration: 26400. Loss: 0.6001591682434082. Correct: 6355. Accuracy: 71.\nIteration: 26500. Loss: 0.6001589298248291. Correct: 6355. Accuracy: 71.\nIteration: 26600. Loss: 0.6001587510108948. Correct: 6355. Accuracy: 71.\nIteration: 26700. Loss: 0.6001583337783813. Correct: 6355. Accuracy: 71.\nIteration: 26800. Loss: 0.6001585125923157. Correct: 6355. Accuracy: 71.\nIteration: 26900. Loss: 0.6001577973365784. Correct: 6355. Accuracy: 71.\nIteration: 27000. Loss: 0.6001579761505127. Correct: 6355. Accuracy: 71.\nIteration: 27100. Loss: 0.6001575589179993. Correct: 6355. Accuracy: 71.\nIteration: 27200. Loss: 0.600158154964447. Correct: 6355. Accuracy: 71.\nIteration: 27300. Loss: 0.6001582145690918. Correct: 6355. Accuracy: 71.\nIteration: 27400. Loss: 0.6001591086387634. Correct: 6355. Accuracy: 71.\nIteration: 27500. Loss: 0.6001585721969604. Correct: 6355. Accuracy: 71.\nIteration: 27600. Loss: 0.6001588106155396. Correct: 6355. Accuracy: 71.\nIteration: 27700. Loss: 0.6001586318016052. Correct: 6355. Accuracy: 71.\nIteration: 27800. Loss: 0.6001586318016052. Correct: 6355. Accuracy: 71.\nIteration: 27900. Loss: 0.600158154964447. Correct: 6355. Accuracy: 71.\nIteration: 28000. Loss: 0.6001587510108948. Correct: 6355. Accuracy: 71.\nIteration: 28100. Loss: 0.6001583933830261. Correct: 6355. Accuracy: 71.\nIteration: 28200. Loss: 0.6001588702201843. Correct: 6355. Accuracy: 71.\nIteration: 28300. Loss: 0.6001585721969604. Correct: 6355. Accuracy: 71.\nIteration: 28400. Loss: 0.6001582741737366. Correct: 6355. Accuracy: 71.\nIteration: 28500. Loss: 0.6001586318016052. Correct: 6355. Accuracy: 71.\nIteration: 28600. Loss: 0.60015869140625. Correct: 6355. Accuracy: 71.\nIteration: 28700. Loss: 0.6001589894294739. Correct: 6355. Accuracy: 71.\nIteration: 28800. Loss: 0.6001587510108948. Correct: 6355. Accuracy: 71.\nIteration: 28900. Loss: 0.6001585721969604. Correct: 6355. Accuracy: 71.\nIteration: 29000. Loss: 0.6001591682434082. Correct: 6355. Accuracy: 71.\nIteration: 29100. Loss: 0.6001587510108948. Correct: 6355. Accuracy: 71.\nIteration: 29200. Loss: 0.6001589894294739. Correct: 6355. Accuracy: 71.\nIteration: 29300. Loss: 0.6001587510108948. Correct: 6355. Accuracy: 71.\nIteration: 29400. Loss: 0.6001590490341187. Correct: 6355. Accuracy: 71.\nIteration: 29500. Loss: 0.6001587510108948. Correct: 6355. Accuracy: 71.\nIteration: 29600. Loss: 0.6001587510108948. Correct: 6355. Accuracy: 71.\nIteration: 29700. Loss: 0.60015869140625. Correct: 6355. Accuracy: 71.\nIteration: 29800. Loss: 0.6001588702201843. Correct: 6355. Accuracy: 71.\nIteration: 29900. Loss: 0.6001585721969604. Correct: 6355. Accuracy: 71.\nIteration: 30000. Loss: 0.6001589894294739. Correct: 6355. Accuracy: 71.\nIteration: 30100. Loss: 0.6001582145690918. Correct: 6355. Accuracy: 71.\nIteration: 30200. Loss: 0.6001580953598022. Correct: 6355. Accuracy: 71.\nIteration: 30300. Loss: 0.6001583933830261. Correct: 6355. Accuracy: 71.\nIteration: 30400. Loss: 0.6001583337783813. Correct: 6355. Accuracy: 71.\nIteration: 30500. Loss: 0.6001587510108948. Correct: 6355. Accuracy: 71.\nIteration: 30600. Loss: 0.600158154964447. Correct: 6355. Accuracy: 71.\nIteration: 30700. Loss: 0.6001580953598022. Correct: 6355. Accuracy: 71.\nIteration: 30800. Loss: 0.6001583933830261. Correct: 6355. Accuracy: 71.\nIteration: 30900. Loss: 0.6001585125923157. Correct: 6355. Accuracy: 71.\nIteration: 31000. Loss: 0.60015869140625. Correct: 6355. Accuracy: 71.\nIteration: 31100. Loss: 0.6001585125923157. Correct: 6355. Accuracy: 71.\nIteration: 31200. Loss: 0.6001587510108948. Correct: 6355. Accuracy: 71.\nIteration: 31300. Loss: 0.6001582145690918. Correct: 6355. Accuracy: 71.\nIteration: 31400. Loss: 0.600158154964447. Correct: 6355. Accuracy: 71.\nIteration: 31500. Loss: 0.6001580357551575. Correct: 6355. Accuracy: 71.\nIteration: 31600. Loss: 0.6001587510108948. Correct: 6355. Accuracy: 71.\nIteration: 31700. Loss: 0.6001586318016052. Correct: 6355. Accuracy: 71.\nIteration: 31800. Loss: 0.6001587510108948. Correct: 6355. Accuracy: 71.\nIteration: 31900. Loss: 0.60015869140625. Correct: 6355. Accuracy: 71.\nIteration: 32000. Loss: 0.6001587510108948. Correct: 6355. Accuracy: 71.\nIteration: 32100. Loss: 0.6001587510108948. Correct: 6355. Accuracy: 71.\nIteration: 32200. Loss: 0.6001587510108948. Correct: 6355. Accuracy: 71.\nIteration: 32300. Loss: 0.6001588106155396. Correct: 6355. Accuracy: 71.\nIteration: 32400. Loss: 0.6001592874526978. Correct: 6355. Accuracy: 71.\nIteration: 32500. Loss: 0.6001588106155396. Correct: 6355. Accuracy: 71.\nIteration: 32600. Loss: 0.6001588106155396. Correct: 6355. Accuracy: 71.\nIteration: 32700. Loss: 0.6001591086387634. Correct: 6355. Accuracy: 71.\nIteration: 32800. Loss: 0.6001585721969604. Correct: 6355. Accuracy: 71.\nIteration: 32900. Loss: 0.6001574993133545. Correct: 6355. Accuracy: 71.\nIteration: 33000. Loss: 0.6001574397087097. Correct: 6355. Accuracy: 71.\nIteration: 33100. Loss: 0.6001575589179993. Correct: 6355. Accuracy: 71.\nIteration: 33200. Loss: 0.6001571416854858. Correct: 6355. Accuracy: 71.\nIteration: 33300. Loss: 0.6001573204994202. Correct: 6355. Accuracy: 71.\nIteration: 33400. Loss: 0.6001573801040649. Correct: 6355. Accuracy: 71.\nIteration: 33500. Loss: 0.6001572608947754. Correct: 6355. Accuracy: 71.\nIteration: 33600. Loss: 0.6001572012901306. Correct: 6355. Accuracy: 71.\nIteration: 33700. Loss: 0.6001575589179993. Correct: 6355. Accuracy: 71.\nIteration: 33800. Loss: 0.6001580357551575. Correct: 6355. Accuracy: 71.\nIteration: 33900. Loss: 0.6001579165458679. Correct: 6355. Accuracy: 71.\nIteration: 34000. Loss: 0.6001579165458679. Correct: 6355. Accuracy: 71.\nIteration: 34100. Loss: 0.6001586318016052. Correct: 6355. Accuracy: 71.\nIteration: 34200. Loss: 0.6001577377319336. Correct: 6355. Accuracy: 71.\nIteration: 34300. Loss: 0.6001584529876709. Correct: 6355. Accuracy: 71.\n"
        },
        {
          "name": "stdout",
          "output_type": "stream",
          "text": "Iteration: 34400. Loss: 0.6001573801040649. Correct: 6355. Accuracy: 71.\nIteration: 34500. Loss: 0.6001573204994202. Correct: 6355. Accuracy: 71.\nIteration: 34600. Loss: 0.6001572012901306. Correct: 6355. Accuracy: 71.\nIteration: 34700. Loss: 0.6001571416854858. Correct: 6355. Accuracy: 71.\nIteration: 34800. Loss: 0.6001580953598022. Correct: 6355. Accuracy: 71.\nIteration: 34900. Loss: 0.6001580953598022. Correct: 6355. Accuracy: 71.\nIteration: 35000. Loss: 0.6001577973365784. Correct: 6355. Accuracy: 71.\nIteration: 35100. Loss: 0.6001576781272888. Correct: 6355. Accuracy: 71.\nIteration: 35200. Loss: 0.6001580357551575. Correct: 6355. Accuracy: 71.\nIteration: 35300. Loss: 0.6001574993133545. Correct: 6355. Accuracy: 71.\nIteration: 35400. Loss: 0.6001574993133545. Correct: 6355. Accuracy: 71.\nIteration: 35500. Loss: 0.6001574397087097. Correct: 6355. Accuracy: 71.\nIteration: 35600. Loss: 0.6001576781272888. Correct: 6355. Accuracy: 71.\nIteration: 35700. Loss: 0.6001579165458679. Correct: 6355. Accuracy: 71.\nIteration: 35800. Loss: 0.6001582741737366. Correct: 6355. Accuracy: 71.\nIteration: 35900. Loss: 0.6001577377319336. Correct: 6355. Accuracy: 71.\nIteration: 36000. Loss: 0.6001582145690918. Correct: 6355. Accuracy: 71.\nIteration: 36100. Loss: 0.6001580953598022. Correct: 6355. Accuracy: 71.\nIteration: 36200. Loss: 0.6001579165458679. Correct: 6355. Accuracy: 71.\nIteration: 36300. Loss: 0.600157618522644. Correct: 6355. Accuracy: 71.\nIteration: 36400. Loss: 0.6001580357551575. Correct: 6355. Accuracy: 71.\nIteration: 36500. Loss: 0.6001575589179993. Correct: 6355. Accuracy: 71.\nIteration: 36600. Loss: 0.6001575589179993. Correct: 6355. Accuracy: 71.\nIteration: 36700. Loss: 0.6001574993133545. Correct: 6355. Accuracy: 71.\nIteration: 36800. Loss: 0.6001580953598022. Correct: 6355. Accuracy: 71.\nIteration: 36900. Loss: 0.6001576781272888. Correct: 6355. Accuracy: 71.\nIteration: 37000. Loss: 0.6001574993133545. Correct: 6355. Accuracy: 71.\nIteration: 37100. Loss: 0.6001575589179993. Correct: 6355. Accuracy: 71.\nIteration: 37200. Loss: 0.6001579761505127. Correct: 6355. Accuracy: 71.\nIteration: 37300. Loss: 0.6001584529876709. Correct: 6355. Accuracy: 71.\nIteration: 37400. Loss: 0.6001578569412231. Correct: 6355. Accuracy: 71.\nIteration: 37500. Loss: 0.6001580357551575. Correct: 6355. Accuracy: 71.\nIteration: 37600. Loss: 0.6001579761505127. Correct: 6355. Accuracy: 71.\nIteration: 37700. Loss: 0.6001580357551575. Correct: 6355. Accuracy: 71.\nIteration: 37800. Loss: 0.6001580953598022. Correct: 6355. Accuracy: 71.\nIteration: 37900. Loss: 0.6001580953598022. Correct: 6355. Accuracy: 71.\nIteration: 38000. Loss: 0.6001577973365784. Correct: 6355. Accuracy: 71.\nIteration: 38100. Loss: 0.6001587510108948. Correct: 6355. Accuracy: 71.\nIteration: 38200. Loss: 0.6001580357551575. Correct: 6355. Accuracy: 71.\nIteration: 38300. Loss: 0.6001580357551575. Correct: 6355. Accuracy: 71.\nIteration: 38400. Loss: 0.6001577973365784. Correct: 6355. Accuracy: 71.\nIteration: 38500. Loss: 0.6001579165458679. Correct: 6355. Accuracy: 71.\nIteration: 38600. Loss: 0.6001580953598022. Correct: 6355. Accuracy: 71.\nIteration: 38700. Loss: 0.6001577377319336. Correct: 6355. Accuracy: 71.\nIteration: 38800. Loss: 0.6001573801040649. Correct: 6355. Accuracy: 71.\nIteration: 38900. Loss: 0.6001577973365784. Correct: 6355. Accuracy: 71.\nIteration: 39000. Loss: 0.6001579761505127. Correct: 6355. Accuracy: 71.\nIteration: 39100. Loss: 0.6001577973365784. Correct: 6355. Accuracy: 71.\nIteration: 39200. Loss: 0.6001574397087097. Correct: 6355. Accuracy: 71.\nIteration: 39300. Loss: 0.6001575589179993. Correct: 6355. Accuracy: 71.\nIteration: 39400. Loss: 0.6001579165458679. Correct: 6355. Accuracy: 71.\nIteration: 39500. Loss: 0.6001579165458679. Correct: 6355. Accuracy: 71.\nIteration: 39600. Loss: 0.6001580953598022. Correct: 6355. Accuracy: 71.\nIteration: 39700. Loss: 0.6001577973365784. Correct: 6355. Accuracy: 71.\nIteration: 39800. Loss: 0.600158154964447. Correct: 6355. Accuracy: 71.\nIteration: 39900. Loss: 0.6001572608947754. Correct: 6355. Accuracy: 71.\nIteration: 40000. Loss: 0.6001566052436829. Correct: 6355. Accuracy: 71.\nIteration: 40100. Loss: 0.6001570820808411. Correct: 6355. Accuracy: 71.\nIteration: 40200. Loss: 0.6001573801040649. Correct: 6355. Accuracy: 71.\nIteration: 40300. Loss: 0.6001572012901306. Correct: 6355. Accuracy: 71.\nIteration: 40400. Loss: 0.6001570224761963. Correct: 6355. Accuracy: 71.\nIteration: 40500. Loss: 0.6001570224761963. Correct: 6355. Accuracy: 71.\nIteration: 40600. Loss: 0.6001566648483276. Correct: 6355. Accuracy: 71.\nIteration: 40700. Loss: 0.6001573801040649. Correct: 6355. Accuracy: 71.\nIteration: 40800. Loss: 0.6001573204994202. Correct: 6355. Accuracy: 71.\nIteration: 40900. Loss: 0.6001570820808411. Correct: 6355. Accuracy: 71.\nIteration: 41000. Loss: 0.6001574397087097. Correct: 6355. Accuracy: 71.\nIteration: 41100. Loss: 0.6001574397087097. Correct: 6355. Accuracy: 71.\nIteration: 41200. Loss: 0.6001566648483276. Correct: 6355. Accuracy: 71.\nIteration: 41300. Loss: 0.6001567244529724. Correct: 6355. Accuracy: 71.\nIteration: 41400. Loss: 0.6001564264297485. Correct: 6355. Accuracy: 71.\nIteration: 41500. Loss: 0.6001566052436829. Correct: 6355. Accuracy: 71.\nIteration: 41600. Loss: 0.6001567244529724. Correct: 6355. Accuracy: 71.\nIteration: 41700. Loss: 0.6001566052436829. Correct: 6355. Accuracy: 71.\nIteration: 41800. Loss: 0.6001564860343933. Correct: 6355. Accuracy: 71.\nIteration: 41900. Loss: 0.6001567244529724. Correct: 6355. Accuracy: 71.\nIteration: 42000. Loss: 0.600156843662262. Correct: 6355. Accuracy: 71.\nIteration: 42100. Loss: 0.600157618522644. Correct: 6355. Accuracy: 71.\nIteration: 42200. Loss: 0.6001575589179993. Correct: 6355. Accuracy: 71.\nIteration: 42300. Loss: 0.6001577377319336. Correct: 6355. Accuracy: 71.\nIteration: 42400. Loss: 0.6001573204994202. Correct: 6355. Accuracy: 71.\nIteration: 42500. Loss: 0.6001573801040649. Correct: 6355. Accuracy: 71.\nIteration: 42600. Loss: 0.6001572608947754. Correct: 6355. Accuracy: 71.\nIteration: 42700. Loss: 0.6001572012901306. Correct: 6355. Accuracy: 71.\nIteration: 42800. Loss: 0.6001575589179993. Correct: 6355. Accuracy: 71.\nIteration: 42900. Loss: 0.6001575589179993. Correct: 6355. Accuracy: 71.\nIteration: 43000. Loss: 0.6001580953598022. Correct: 6355. Accuracy: 71.\nIteration: 43100. Loss: 0.6001585125923157. Correct: 6355. Accuracy: 71.\nIteration: 43200. Loss: 0.6001579165458679. Correct: 6355. Accuracy: 71.\nIteration: 43300. Loss: 0.6001576781272888. Correct: 6355. Accuracy: 71.\nIteration: 43400. Loss: 0.600157618522644. Correct: 6355. Accuracy: 71.\nIteration: 43500. Loss: 0.600157618522644. Correct: 6355. Accuracy: 71.\nIteration: 43600. Loss: 0.6001579761505127. Correct: 6355. Accuracy: 71.\nIteration: 43700. Loss: 0.6001580953598022. Correct: 6355. Accuracy: 71.\nIteration: 43800. Loss: 0.6001573801040649. Correct: 6355. Accuracy: 71.\nIteration: 43900. Loss: 0.6001573204994202. Correct: 6355. Accuracy: 71.\nIteration: 44000. Loss: 0.6001573204994202. Correct: 6355. Accuracy: 71.\nIteration: 44100. Loss: 0.6001572608947754. Correct: 6355. Accuracy: 71.\nIteration: 44200. Loss: 0.600156843662262. Correct: 6355. Accuracy: 71.\nIteration: 44300. Loss: 0.6001567244529724. Correct: 6355. Accuracy: 71.\nIteration: 44400. Loss: 0.6001567840576172. Correct: 6355. Accuracy: 71.\nIteration: 44500. Loss: 0.6001567244529724. Correct: 6355. Accuracy: 71.\nIteration: 44600. Loss: 0.6001569628715515. Correct: 6355. Accuracy: 71.\nIteration: 44700. Loss: 0.6001571416854858. Correct: 6355. Accuracy: 71.\n"
        }
      ]
    },
    {
      "cell_type": "code",
      "metadata": {
        "cell_id": "00029-9cd7d2fa-413a-4ae5-8490-b32bbfb409f0",
        "deepnote_to_be_reexecuted": true,
        "source_hash": "b623e53d",
        "deepnote_cell_type": "code"
      },
      "source": "",
      "execution_count": null,
      "outputs": []
    },
    {
      "cell_type": "markdown",
      "source": "<a style='text-decoration:none;line-height:16px;display:flex;color:#5B5B62;padding:10px;justify-content:end;' href='https://deepnote.com?utm_source=created-in-deepnote-cell&projectId=1c850c61-d934-4c85-b16d-3cb283df0c84' target=\"_blank\">\n<img alt='Created in deepnote.com' style='display:inline;max-height:16px;margin:0px;margin-right:7.5px;' src='data:image/svg+xml;base64,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' > </img>\nCreated in <span style='font-weight:600;margin-left:4px;'>Deepnote</span></a>",
      "metadata": {
        "tags": [],
        "created_in_deepnote_cell": true,
        "deepnote_cell_type": "markdown"
      }
    }
  ],
  "nbformat": 4,
  "nbformat_minor": 2,
  "metadata": {
    "kernelspec": {
      "display_name": "Python 3",
      "language": "python",
      "name": "python3"
    },
    "language_info": {
      "codemirror_mode": {
        "name": "ipython",
        "version": 3
      },
      "file_extension": ".py",
      "mimetype": "text/x-python",
      "name": "python",
      "nbconvert_exporter": "python",
      "pygments_lexer": "ipython3",
      "version": "3.7.3"
    },
    "deepnote_notebook_id": "89e32333-13a4-49dd-9a0c-65e9cb813974",
    "deepnote": {},
    "deepnote_execution_queue": []
  }
}