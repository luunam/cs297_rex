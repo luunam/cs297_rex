{
 "cells": [
  {
   "cell_type": "code",
   "execution_count": 1,
   "metadata": {},
   "outputs": [],
   "source": [
    "import numpy as np\n",
    "import pandas as pd\n",
    "import matplotlib.pyplot as plt\n",
    "import pymc3 as pm\n",
    "import chardet\n",
    "import datetime\n",
    "from sklearn.model_selection import train_test_split\n",
    "from sklearn.linear_model import LinearRegression\n",
    "from sklearn.linear_model import LogisticRegression\n",
    "from sklearn.ensemble import ExtraTreesClassifier\n",
    "from sklearn.linear_model import Ridge\n",
    "from sklearn import linear_model\n",
    "from sklearn.svm import SVR\n",
    "from sklearn.ensemble import RandomForestRegressor\n",
    "from sklearn.metrics import mean_squared_error"
   ]
  },
  {
   "cell_type": "code",
   "execution_count": 2,
   "metadata": {},
   "outputs": [
    {
     "data": {
      "text/plain": [
       "{'SINGLE': 0,\n",
       " 'CONDO': 1,\n",
       " 'MULTI_FAMILY': 2,\n",
       " 'OTHER': 3,\n",
       " 'TOWNHOUSE': 4,\n",
       " 'LAND': 5}"
      ]
     },
     "execution_count": 2,
     "metadata": {},
     "output_type": "execute_result"
    }
   ],
   "source": [
    "# Attempting to model DOM (Days on markets) of each property\n",
    "df = pd.read_csv('../data/denver_augmented_clean.csv')\n",
    "\n",
    "df[\"list_date\"] = pd.to_datetime(df[\"list_date\"])\n",
    "df[\"sale_date\"] = pd.to_datetime(df[\"sale_date\"])\n",
    "\n",
    "mapping = {k: v for v, k in enumerate(df.property_type.unique())}\n",
    "mapping"
   ]
  },
  {
   "cell_type": "code",
   "execution_count": 3,
   "metadata": {},
   "outputs": [],
   "source": [
    "df['dom'] = (df['sale_date'] - df['list_date']).dt.days.astype('int16')"
   ]
  },
  {
   "cell_type": "code",
   "execution_count": 4,
   "metadata": {},
   "outputs": [],
   "source": [
    "df = df[(df['dom'] > 0) & (df['dom'] < 100)]"
   ]
  },
  {
   "cell_type": "code",
   "execution_count": 5,
   "metadata": {},
   "outputs": [
    {
     "data": {
      "text/plain": [
       "<matplotlib.axes._subplots.AxesSubplot at 0x7fe6b19627f0>"
      ]
     },
     "execution_count": 5,
     "metadata": {},
     "output_type": "execute_result"
    },
    {
     "data": {
      "image/png": "[encoded data removed]",
      "text/plain": [
       "<Figure size 504x360 with 1 Axes>"
      ]
     },
     "metadata": {
      "needs_background": "light"
     },
     "output_type": "display_data"
    }
   ],
   "source": [
    "df['dom'].hist(bins=100, figsize=(7, 5))"
   ]
  },
  {
   "cell_type": "code",
   "execution_count": 6,
   "metadata": {},
   "outputs": [],
   "source": [
    "def calculate_mean_dom(x):\n",
    "  before = x['list_date'] - pd.Timedelta(days=90)\n",
    "  \n",
    "  near_dates = df[(df['list_date'] >= before) & (df['list_date'] < x['list_date'])]\n",
    "  mean_dom = near_dates['dom'].mean()\n",
    "  if mean_dom > 0:\n",
    "    x.at['mean_dom'] = mean_dom\n",
    "  return x"
   ]
  },
  {
   "cell_type": "code",
   "execution_count": 7,
   "metadata": {},
   "outputs": [],
   "source": [
    "df['mean_dom'] = df['dom'].mean()"
   ]
  },
  {
   "cell_type": "code",
   "execution_count": null,
   "metadata": {},
   "outputs": [],
   "source": [
    "df.apply(calculate_mean_dom, axis=1)"
   ]
  },
  {
   "cell_type": "code",
   "execution_count": null,
   "metadata": {},
   "outputs": [],
   "source": [
    "df['mean_dom'].hist()"
   ]
  },
  {
   "cell_type": "code",
   "execution_count": null,
   "metadata": {},
   "outputs": [],
   "source": [
    "y = df['dom'].copy()\n",
    "\n",
    "X = df.drop(columns=['property_id', 'list_date', 'sale_date', 'dom'])\n",
    "X['property_type_code'] = X['property_type'].map(mapping)\n",
    "X = X.drop(columns=['property_type'])\n",
    "X.info()"
   ]
  },
  {
   "cell_type": "code",
   "execution_count": null,
   "metadata": {},
   "outputs": [],
   "source": [
    "X.head()"
   ]
  },
  {
   "cell_type": "code",
   "execution_count": null,
   "metadata": {},
   "outputs": [],
   "source": [
    "X_train, X_test, y_train, y_test = train_test_split(X, y, test_size=0.33)"
   ]
  },
  {
   "cell_type": "code",
   "execution_count": null,
   "metadata": {},
   "outputs": [],
   "source": [
    "models = {\n",
    "  'Linear regression': LinearRegression(),\n",
    "  'Ridge': Ridge(alpha=1.0),\n",
    "  'Lasso': linear_model.Lasso(alpha=0.1),\n",
    "  'Random Forest Regression': RandomForestRegressor(max_depth=2, random_state=0),\n",
    "#   'Support Vector Regression': SVR(C=1.0, epsilon=0.2)\n",
    "}"
   ]
  },
  {
   "cell_type": "code",
   "execution_count": null,
   "metadata": {},
   "outputs": [],
   "source": [
    "for md in models.keys():\n",
    "  res = models[md].fit(X_train, y_train)\n",
    "  print('Result for {}'.format(md))\n",
    "  print('Train set R2: {}'.format(res.score(X_train, y_train)))\n",
    "  print('Test set R2: {}'.format(res.score(X_test, y_test)))\n",
    "  y_pred = res.predict(X_test)\n",
    "  print('Test set MSE: {}'.format(mean_squared_error(y_test, y_pred)))\n",
    "  print('')"
   ]
  },
  {
   "cell_type": "code",
   "execution_count": null,
   "metadata": {},
   "outputs": [],
   "source": []
  },
  {
   "cell_type": "code",
   "execution_count": null,
   "metadata": {},
   "outputs": [],
   "source": []
  }
 ],
 "metadata": {
  "kernelspec": {
   "display_name": "Python 3",
   "language": "python",
   "name": "python3"
  },
  "language_info": {
   "codemirror_mode": {
    "name": "ipython",
    "version": 3
   },
   "file_extension": ".py",
   "mimetype": "text/x-python",
   "name": "python",
   "nbconvert_exporter": "python",
   "pygments_lexer": "ipython3",
   "version": "3.8.3"
  }
 },
 "nbformat": 4,
 "nbformat_minor": 4
}
