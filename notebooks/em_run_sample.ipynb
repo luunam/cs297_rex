{
 "cells": [
  {
   "cell_type": "code",
   "metadata": {
    "tags": [],
    "cell_id": "00000-df0d5924-6d93-4f9a-99b5-146ab6748847",
    "deepnote_to_be_reexecuted": false,
    "source_hash": "2caa65eb",
    "execution_start": 1620961892523,
    "execution_millis": 270,
    "deepnote_cell_type": "code"
   },
   "source": "import sys\nsys.path.insert(0, '../scripts/')\n\nfrom em_hierarchical import *",
   "execution_count": 4,
   "outputs": []
  },
  {
   "cell_type": "code",
   "metadata": {
    "tags": [],
    "cell_id": "00001-c6a9d360-fc09-4117-b083-a2f374465e74",
    "deepnote_to_be_reexecuted": false,
    "source_hash": "d8bb2329",
    "execution_start": 1620961893430,
    "execution_millis": 1165,
    "deepnote_cell_type": "code"
   },
   "source": "df = pd.read_csv('../data/denver_dataset_milestone3.csv', index_col=0)",
   "execution_count": 5,
   "outputs": []
  },
  {
   "cell_type": "code",
   "metadata": {
    "tags": [],
    "cell_id": "00003-fea3ea78-f695-40ea-a74f-86a63c1577e6",
    "deepnote_to_be_reexecuted": false,
    "source_hash": "b5150ddf",
    "execution_start": 1620961894599,
    "execution_millis": 312,
    "deepnote_cell_type": "code"
   },
   "source": "df = df.dropna()\ndf = df.astype({\n  'list_date': 'datetime64[ns]',\n  'sale_date': 'datetime64[ns]'\n})\ndf = df.drop(columns=['rex_property_id'])",
   "execution_count": 6,
   "outputs": []
  },
  {
   "cell_type": "code",
   "metadata": {
    "tags": [],
    "cell_id": "00004-511bcae6-6908-4f21-b2aa-f0e6928d56b2",
    "deepnote_to_be_reexecuted": false,
    "source_hash": "c0e2f8bc",
    "execution_start": 1620961894915,
    "execution_millis": 74,
    "deepnote_cell_type": "code"
   },
   "source": "res = gen_dataset(df, '2019-04-01', 90)\n\nX = res['X']\ny = res['y'].flatten()\n\nX[res['bool']] = X[res['bool']] * 1\nX = X.to_numpy()",
   "execution_count": 7,
   "outputs": [
    {
     "name": "stdout",
     "text": "{'bool': ['OTHER', 'CONDO', 'MULTI_FAMILY'], 'int64': ['mean_household_income', 'farm_score', 'bathfull', 'bedrooms'], 'float64': ['18-59', 'built 1995 or later', 'mobile_home_pct', 'annual_births_per_resident', 'luxury_communities_score', 'property_crime_rate', 'small_apt_buildings_pct', 'standardized_test_score_percentile', 'latitude', 'longitude'], 'datetime64[ns]': ['list_date', 'sale_date']}\n",
     "output_type": "stream"
    }
   ]
  },
  {
   "cell_type": "code",
   "metadata": {
    "tags": [],
    "cell_id": "00005-a7f94d24-a30e-4bef-ae21-e59b4e76136c",
    "deepnote_to_be_reexecuted": false,
    "source_hash": "34bd9f29",
    "execution_start": 1620961895273,
    "execution_millis": 9,
    "deepnote_cell_type": "code"
   },
   "source": "K = 7 # Number of submarkets\n\nn_loc = 2 # Latitude and Longitude\nn_cont = len(res['float']) - 2 # Number of continuous attributes\nn_bool = len(res['bool']) # Number of boolean attributes\nn_int = len(res['int']) # Number of integer attributes",
   "execution_count": 8,
   "outputs": []
  },
  {
   "cell_type": "code",
   "metadata": {
    "tags": [],
    "cell_id": "00006-e83463a4-464b-4913-a10b-8b82d5dda8d2",
    "deepnote_to_be_reexecuted": false,
    "source_hash": "c3852cbc",
    "execution_start": 1620961214103,
    "execution_millis": 0,
    "deepnote_cell_type": "code"
   },
   "source": "submarket = em(K, X, y, n_cont, n_bool, n_int)",
   "outputs": [],
   "execution_count": null
  },
  {
   "cell_type": "code",
   "source": "submarket_em_eval(X, y, submarket, K)",
   "metadata": {
    "tags": [],
    "cell_id": "00010-ac810bf1-7c8b-4588-8747-9b50417c56c6",
    "deepnote_to_be_reexecuted": false,
    "source_hash": "778edfbf",
    "execution_start": 1620961938076,
    "execution_millis": 104790,
    "deepnote_cell_type": "code"
   },
   "outputs": [
    {
     "name": "stderr",
     "text": "/root/venv/lib/python3.7/site-packages/xgboost/sklearn.py:1146: UserWarning: The use of label encoder in XGBClassifier is deprecated and will be removed in a future release. To remove this warning, do the following: 1) Pass option use_label_encoder=False when constructing XGBClassifier object; and 2) Encode your labels (y) as integers starting with 0, i.e. 0, 1, 2, ..., [num_class - 1].\n  warnings.warn(label_encoder_deprecation_msg, UserWarning)\nSub-Market #1 Demand Prediction\nNumber of Homes: 22615\nTraining Accuracy: 78.7555%\nTesting Accuracy: 65.2174%\nAUC: 0.604684\nExpected Number of Sales: 2484.150949\nActual Number of Sales: 2532.0\n\n/root/venv/lib/python3.7/site-packages/xgboost/sklearn.py:1146: UserWarning: The use of label encoder in XGBClassifier is deprecated and will be removed in a future release. To remove this warning, do the following: 1) Pass option use_label_encoder=False when constructing XGBClassifier object; and 2) Encode your labels (y) as integers starting with 0, i.e. 0, 1, 2, ..., [num_class - 1].\n  warnings.warn(label_encoder_deprecation_msg, UserWarning)\nSub-Market #2 Demand Prediction\nNumber of Homes: 132\nTraining Accuracy: 98.9130%\nTesting Accuracy: 80.0000%\nAUC: 0.607843\nExpected Number of Sales: 5.987582\nActual Number of Sales: 6.0\n\n/root/venv/lib/python3.7/site-packages/xgboost/sklearn.py:1146: UserWarning: The use of label encoder in XGBClassifier is deprecated and will be removed in a future release. To remove this warning, do the following: 1) Pass option use_label_encoder=False when constructing XGBClassifier object; and 2) Encode your labels (y) as integers starting with 0, i.e. 0, 1, 2, ..., [num_class - 1].\n  warnings.warn(label_encoder_deprecation_msg, UserWarning)\nSub-Market #3 Demand Prediction\nNumber of Homes: 81\nTraining Accuracy: 100.0000%\nTesting Accuracy: 84.0000%\nAUC: 0.837662\nExpected Number of Sales: 10.923092\nActual Number of Sales: 11.0\n\n/root/venv/lib/python3.7/site-packages/xgboost/sklearn.py:1146: UserWarning: The use of label encoder in XGBClassifier is deprecated and will be removed in a future release. To remove this warning, do the following: 1) Pass option use_label_encoder=False when constructing XGBClassifier object; and 2) Encode your labels (y) as integers starting with 0, i.e. 0, 1, 2, ..., [num_class - 1].\n  warnings.warn(label_encoder_deprecation_msg, UserWarning)\nSub-Market #4 Demand Prediction\nNumber of Homes: 514\nTraining Accuracy: 99.7214%\nTesting Accuracy: 69.0323%\nAUC: 0.672858\nExpected Number of Sales: 62.304514\nActual Number of Sales: 58.0\n\n/root/venv/lib/python3.7/site-packages/xgboost/sklearn.py:1146: UserWarning: The use of label encoder in XGBClassifier is deprecated and will be removed in a future release. To remove this warning, do the following: 1) Pass option use_label_encoder=False when constructing XGBClassifier object; and 2) Encode your labels (y) as integers starting with 0, i.e. 0, 1, 2, ..., [num_class - 1].\n  warnings.warn(label_encoder_deprecation_msg, UserWarning)\nSub-Market #5 Demand Prediction\nNumber of Homes: 5078\nTraining Accuracy: 89.7017%\nTesting Accuracy: 65.4199%\nAUC: 0.626442\nExpected Number of Sales: 592.978085\nActual Number of Sales: 574.0\n\n/root/venv/lib/python3.7/site-packages/xgboost/sklearn.py:1146: UserWarning: The use of label encoder in XGBClassifier is deprecated and will be removed in a future release. To remove this warning, do the following: 1) Pass option use_label_encoder=False when constructing XGBClassifier object; and 2) Encode your labels (y) as integers starting with 0, i.e. 0, 1, 2, ..., [num_class - 1].\n  warnings.warn(label_encoder_deprecation_msg, UserWarning)\nSub-Market #6 Demand Prediction\nNumber of Homes: 4447\nTraining Accuracy: 90.1350%\nTesting Accuracy: 66.9663%\nAUC: 0.629636\nExpected Number of Sales: 482.383522\nActual Number of Sales: 495.0\n\n/root/venv/lib/python3.7/site-packages/xgboost/sklearn.py:1146: UserWarning: The use of label encoder in XGBClassifier is deprecated and will be removed in a future release. To remove this warning, do the following: 1) Pass option use_label_encoder=False when constructing XGBClassifier object; and 2) Encode your labels (y) as integers starting with 0, i.e. 0, 1, 2, ..., [num_class - 1].\n  warnings.warn(label_encoder_deprecation_msg, UserWarning)\nSub-Market #7 Demand Prediction\nNumber of Homes: 1240\nTraining Accuracy: 96.7742%\nTesting Accuracy: 66.1290%\nAUC: 0.584328\nExpected Number of Sales: 110.202000\nActual Number of Sales: 122.0\n\nMarketwide Demand Prediction\nNumber of Homes: 34107\nTraining Accuracy: 82.9668%\nTesting Accuracy: 65.6702%\nAUC: 0.612588\nExpected Number of Sales: 3748.929744\nActual Number of Sales: 3798.0\nR2 Score (Submarket EV): 0.999400\nMSE (Submarket EV): 423.800378\n",
     "output_type": "stream"
    }
   ],
   "execution_count": 13
  },
  {
   "cell_type": "code",
   "source": "",
   "metadata": {
    "tags": [],
    "cell_id": "00011-f5c59837-ccc1-4e1e-ac82-14eb7587aa3f",
    "deepnote_cell_type": "code"
   },
   "outputs": [],
   "execution_count": null
  },
  {
   "cell_type": "markdown",
   "source": "<a style='text-decoration:none;line-height:16px;display:flex;color:#5B5B62;padding:10px;justify-content:end;' href='https://deepnote.com?utm_source=created-in-deepnote-cell&projectId=1c850c61-d934-4c85-b16d-3cb283df0c84' target=\"_blank\">\n<img alt='Created in deepnote.com' style='display:inline;max-height:16px;margin:0px;margin-right:7.5px;' src='data:image/svg+xml;base64,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' > </img>\nCreated in <span style='font-weight:600;margin-left:4px;'>Deepnote</span></a>",
   "metadata": {
    "tags": [],
    "created_in_deepnote_cell": true,
    "deepnote_cell_type": "markdown"
   }
  }
 ],
 "nbformat": 4,
 "nbformat_minor": 2,
 "metadata": {
  "orig_nbformat": 2,
  "deepnote": {
   "is_reactive": false
  },
  "deepnote_notebook_id": "6cd4e179-3b60-427c-8fd9-0ef2966c094a",
  "deepnote_execution_queue": []
 }
}