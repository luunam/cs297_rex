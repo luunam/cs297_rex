{
  "cells": [
    {
      "cell_type": "markdown",
      "source": "# Submarket baseline\n\nSteps include:\n\n1. kmeans to find submarkets\n2. Fit logistic regressions on the submarkets\n3. Compare accuracy scores against other submarket & non-submarket approaches",
      "metadata": {
        "tags": [],
        "cell_id": "00000-944ec318-1792-47a6-bccb-30f4e9e21dce",
        "deepnote_cell_type": "markdown"
      }
    },
    {
      "cell_type": "code",
      "metadata": {
        "deepnote_to_be_reexecuted": false,
        "execution_millis": 11427,
        "source_hash": "a2c7198b",
        "tags": [],
        "cell_id": "00001-090243ac-3be1-44b4-b2ca-1257aecc84a2",
        "execution_start": 1619103806960,
        "deepnote_cell_type": "code"
      },
      "source": "#required packages\nimport sys\nsys.path.insert(0, '../scripts/')\n\nimport torch\nimport torch.nn as nn\nimport torch.optim as optim\nimport torch.nn.functional as F\nimport torchvision.transforms as T\n\nimport numpy as np\nimport pandas as pd\nimport matplotlib.pyplot as plt\nimport pymc3 as pm\nimport chardet\nimport datetime\n\nimport seaborn as sns\nfrom sklearn.linear_model import LogisticRegression\nfrom sklearn.preprocessing import StandardScaler\nfrom sklearn.cluster import KMeans\n\nfrom sklearn.model_selection import train_test_split\nfrom sklearn.metrics import roc_auc_score\nfrom sklearn.decomposition import PCA\n\nfrom models import AE, BaselineNet",
      "execution_count": null,
      "outputs": [
        {
          "name": "stderr",
          "text": "WARNING (theano.tensor.blas): Using NumPy C-API based implementation for BLAS functions.\n",
          "output_type": "stream"
        }
      ]
    },
    {
      "cell_type": "code",
      "metadata": {
        "deepnote_to_be_reexecuted": false,
        "execution_millis": 656,
        "source_hash": "ee4f7392",
        "tags": [],
        "cell_id": "00002-aea52d55-74fb-452b-a6bd-15f22b8bebd1",
        "execution_start": 1619103851709,
        "deepnote_cell_type": "code"
      },
      "source": "# Load dataset\ndf = pd.read_csv('../data/archive2/denver_prop_listing_clean.csv')\n\n#convert to datetime format\ndf[\"list_date\"] = pd.to_datetime(df[\"list_date\"])\ndf[\"sale_date\"] = pd.to_datetime(df[\"sale_date\"])\n\nmapping = {k: v for v, k in enumerate(df.property_type.unique())}\n\ndf['property_type_code'] = df['property_type'].map(mapping)\n",
      "execution_count": null,
      "outputs": []
    },
    {
      "cell_type": "code",
      "metadata": {
        "deepnote_to_be_reexecuted": false,
        "execution_millis": 20,
        "source_hash": "d54621c2",
        "tags": [],
        "cell_id": "00003-fdfcebdb-9da7-4373-83b5-c5a640632005",
        "execution_start": 1619103869723,
        "deepnote_cell_type": "code"
      },
      "source": "#function to define the y variables\ndef gen_y(t_disc, data, t0=None):\n    ''' \n    t_disc: datetime.timedelta(days = XX)\n    t0: datetime.datetime(YYYY,MM,DD)\n    '''\n\n    if t0 is not None:\n        listed = np.array(((data['list_date'] >= t0) & (data['list_date'] < t0 + t_disc)) | ((data['list_date'] < t0) & (data['sale_date'] >= t0)), dtype=np.int8)\n        sale = np.array((data['sale_date'] >= t0) & (data['sale_date'] < t0 + t_disc), dtype = np.int8)\n        return np.vstack((listed, sale)).T",
      "execution_count": null,
      "outputs": []
    },
    {
      "cell_type": "code",
      "metadata": {
        "deepnote_to_be_reexecuted": false,
        "execution_millis": 60,
        "source_hash": "8d665493",
        "tags": [],
        "cell_id": "00004-2e23935f-918b-4c7e-ae13-de5bef04eb65",
        "execution_start": 1619103870751,
        "deepnote_cell_type": "code"
      },
      "source": "y_2019Q2 = gen_y(datetime.timedelta(days = 90), df, datetime.datetime(2019,4,1))\n\n# Remove all rows that aren't listed in that period\nlisted_index = np.where(y_2019Q2[:,0] == 1)\ndf_2019Q2 = df.iloc[listed_index]\n",
      "execution_count": null,
      "outputs": []
    },
    {
      "cell_type": "code",
      "metadata": {
        "deepnote_to_be_reexecuted": false,
        "execution_millis": 97,
        "source_hash": "43387116",
        "tags": [],
        "cell_id": "00005-16ab1ae6-bbd4-4a99-ba2a-9a22448158d0",
        "execution_start": 1619103872393,
        "deepnote_cell_type": "code"
      },
      "source": "# Build X matrix and Y target vector\n\n# X = df.drop(columns=['property_id', 'zipcode', 'list_date', 'sale_date', 'current_status', 'property_type', 'has_jacuzzi', 'has_garage'])\nX = df_2019Q2.drop(columns=['fips','property_id', 'zipcode', 'list_date', 'sale_date', 'property_type', 'has_jacuzzi', 'has_garage', 'sale_price', 'ct_key', 'sale_price_per_sqft', 'property_type_code'])\nX = X.reset_index(drop=True)\ncolumns_to_scale = ['latitude', 'longitude', 'sqft']\nscaler = StandardScaler()\nX[columns_to_scale] =  scaler.fit_transform(X[columns_to_scale])\n\n\nY = y_2019Q2[np.where(y_2019Q2[:,0]==1)]\n\n\n\nX.info()",
      "execution_count": null,
      "outputs": [
        {
          "name": "stdout",
          "text": "<class 'pandas.core.frame.DataFrame'>\nRangeIndex: 7567 entries, 0 to 7566\nData columns (total 8 columns):\n #   Column           Non-Null Count  Dtype  \n---  ------           --------------  -----  \n 0   latitude         7567 non-null   float64\n 1   longitude        7567 non-null   float64\n 2   sqft             7567 non-null   float64\n 3   has_central_air  7567 non-null   bool   \n 4   has_pool         7567 non-null   bool   \n 5   has_solar        7567 non-null   bool   \n 6   bedrooms         7567 non-null   float64\n 7   full_baths       7567 non-null   float64\ndtypes: bool(3), float64(5)\nmemory usage: 317.9 KB\n",
          "output_type": "stream"
        }
      ]
    },
    {
      "cell_type": "code",
      "metadata": {
        "deepnote_to_be_reexecuted": false,
        "execution_millis": 1090,
        "source_hash": "17413658",
        "tags": [],
        "cell_id": "00006-5aead42b-65c5-4a2b-85ff-cea81aec1acf",
        "execution_start": 1619103876000,
        "deepnote_cell_type": "code"
      },
      "source": "#attempt kmeans clustering\n#unsupervised approach\nK = 5\ninit_clustering = KMeans(n_clusters=K, random_state=0).fit(X)",
      "execution_count": null,
      "outputs": []
    },
    {
      "cell_type": "code",
      "metadata": {
        "deepnote_to_be_reexecuted": false,
        "execution_millis": 26,
        "source_hash": "7333adf3",
        "tags": [],
        "cell_id": "00007-64597f2e-0d93-4375-8fee-9be2b02e4402",
        "execution_start": 1619103877734,
        "deepnote_cell_type": "code"
      },
      "source": "cluster_labels = init_clustering.labels_",
      "execution_count": null,
      "outputs": []
    },
    {
      "cell_type": "code",
      "metadata": {
        "deepnote_to_be_reexecuted": false,
        "execution_millis": 362,
        "source_hash": "e950da07",
        "tags": [],
        "cell_id": "00008-36885db1-0c23-46f7-972b-e870e5e2a4e8",
        "execution_start": 1619103878786,
        "deepnote_cell_type": "code"
      },
      "source": "for k in range(K):\n    print('Submarket {}: {} units'.format(k, sum(cluster_labels == k)))",
      "execution_count": null,
      "outputs": []
    },
    {
      "cell_type": "code",
      "metadata": {
        "deepnote_to_be_reexecuted": false,
        "execution_millis": 19,
        "source_hash": "4bc93347",
        "tags": [],
        "cell_id": "00009-178a183a-4f0e-4a8d-86ca-ed2d55c8d1c1",
        "execution_start": 1619103886849,
        "deepnote_cell_type": "code"
      },
      "source": "#create a new df with has the clustering labels on it\nX_withlabels = X.copy()\nX_withlabels['labels'] = cluster_labels ",
      "execution_count": null,
      "outputs": []
    },
    {
      "cell_type": "markdown",
      "source": "## Fitting logistic regression to identified clusters from Kmeans",
      "metadata": {
        "tags": [],
        "cell_id": "00010-a8df5df1-8d16-45e4-8181-8e1dc7cf6688",
        "deepnote_cell_type": "markdown"
      }
    },
    {
      "cell_type": "code",
      "metadata": {
        "deepnote_to_be_reexecuted": false,
        "execution_millis": 10,
        "source_hash": "93ef0775",
        "tags": [],
        "cell_id": "00011-0419d1b4-7596-4497-bfcb-f882e9c09371",
        "execution_start": 1619103892280,
        "deepnote_cell_type": "code"
      },
      "source": "def print_results(model):\n  print('Train set accuracy: {}'.format(model.score(X_train, y_train[:,1])))\n  print('Test set accuracy: {}'.format(model.score(X_test, y_test[:,1])))\n\n  return model.score(X_train, y_train[:,1]), model.score(X_test, y_test[:,1])",
      "execution_count": null,
      "outputs": []
    },
    {
      "cell_type": "code",
      "metadata": {
        "deepnote_to_be_reexecuted": false,
        "execution_millis": 134,
        "source_hash": "b0ecfd33",
        "tags": [],
        "cell_id": "00012-f612e5a4-3732-41aa-82bc-94a1308bdbca",
        "execution_start": 1619103893722,
        "deepnote_cell_type": "code"
      },
      "source": "train_test_dict = {}\n\n#for loop which extracts the X & y df for each cluster\n#these will then be used to run the logistic regression \nfor i in range(5):\n    X2 = X_withlabels.loc[X_withlabels['labels'] == i]\n    X2 = X2.drop(columns = 'labels')\n    y2 = Y[X_withlabels['labels'] == i]\n    X_train, X_test, y_train, y_test = train_test_split(X2, y2, test_size=0.33, random_state =297)\n\n    train_test_dict[f'cluster {i}'] = (X_train, X_test, y_train, y_test)",
      "execution_count": null,
      "outputs": []
    },
    {
      "cell_type": "code",
      "metadata": {
        "deepnote_to_be_reexecuted": false,
        "execution_millis": 433,
        "source_hash": "a0d7b005",
        "tags": [],
        "cell_id": "00013-ec548d5b-8091-4cde-9e02-374ce2e146f9",
        "execution_start": 1619105261560,
        "deepnote_cell_type": "code"
      },
      "source": "#now to fit for each cluster and get final results\n\nresults_dict = {}\n\ntrain_acc_agg = 0\ntrain_size = 0\ntest_acc_agg = 0\ntest_expsales_agg = 0\ntest_sales_agg = 0\ntest_size = 0\n\ntest = np.array([])\npred = np.array([])\n\nfor i in range(5):\n    logit_reg = LogisticRegression()\n    X_train = train_test_dict[f'cluster {i}'][0]\n    X_test = train_test_dict[f'cluster {i}'][1]\n    y_train = train_test_dict[f'cluster {i}'][2]\n    y_test = train_test_dict[f'cluster {i}'][3]\n\n    #fit the logistic regression to each cluster\n    logit_reg.fit(X_train, y_train[:,1])\n    \n    #the below code is used in order to create a df containing a breakdown of metrics\n    #on a per cluster basis\n    print(f'For cluster {i}')\n    train_accuracy, test_accuracy = print_results(logit_reg)\n    exp_sales = sum(logit_reg.predict_proba(X_test)[:,1])\n    actual_sales = sum(y_test[:,1])\n    \n    print(\"Number of Homes: {}\".format(len(y_test)))\n    print(\"Expected #Sales: {}\".format(round(exp_sales)))\n    print(\"Actual #Sales: {}\\n\".format(actual_sales))\n    print('=======')\n\n    pred_k = logit_reg.predict(X_test)\n    AUC_score = roc_auc_score(y_test[:,1], pred_k)\n\n    results_dict[f'cluster {i}'] = [train_accuracy, test_accuracy, AUC_score, round(exp_sales),actual_sales]\n    \n    #the below code is used to find the weighted average\n    test = np.append(test,y_test[:,1])\n    pred = np.append(pred,pred_k)\n    train_size += len(y_train)\n    train_acc_agg += train_accuracy * len(y_train)\n    test_size += len(y_test)\n    test_acc_agg += test_accuracy * len(y_test)\n    test_expsales_agg += round(exp_sales)\n    test_sales_agg += actual_sales\n\nresults_df = pd.DataFrame.from_dict(results_dict, orient='index')",
      "execution_count": null,
      "outputs": [
        {
          "name": "stdout",
          "text": "For cluster 0\nTrain set accuracy: 0.6657334826427772\nTest set accuracy: 0.677639046538025\nNumber of Homes: 881\nExpected #Sales: 292\nActual #Sales: 281\n\n=======\nFor cluster 1\nTrain set accuracy: 0.8362068965517241\nTest set accuracy: 0.8313953488372093\nNumber of Homes: 172\nExpected #Sales: 31\nActual #Sales: 32\n\n=======\nFor cluster 2\nTrain set accuracy: 0.7261146496815286\nTest set accuracy: 0.6580645161290323\nNumber of Homes: 310\nExpected #Sales: 88\nActual #Sales: 107\n\n=======\nFor cluster 3\nTrain set accuracy: 0.7744565217391305\nTest set accuracy: 0.7761467889908257\nNumber of Homes: 545\nExpected #Sales: 140\nActual #Sales: 134\n\n=======\nFor cluster 4\nTrain set accuracy: 0.7343880099916736\nTest set accuracy: 0.7331081081081081\nNumber of Homes: 592\nExpected #Sales: 159\nActual #Sales: 173\n\n=======\n",
          "output_type": "stream"
        }
      ]
    },
    {
      "cell_type": "code",
      "metadata": {
        "deepnote_to_be_reexecuted": false,
        "execution_millis": 69,
        "source_hash": "3c58d889",
        "tags": [],
        "cell_id": "00014-86b6d84f-3766-4648-a26b-8dac054d55eb",
        "execution_start": 1619105109806,
        "deepnote_cell_type": "code"
      },
      "source": "results_df = results_df.rename(columns = {0:'train_accuracy', 1:'test_accuracy', 2:'Test_AUC', 3:'expec sales', 4:'actual sales'})\nresults_df",
      "execution_count": null,
      "outputs": [
        {
          "output_type": "execute_result",
          "execution_count": 17,
          "data": {
            "application/vnd.deepnote.dataframe.v2+json": {
              "row_count": 5,
              "column_count": 5,
              "columns": [
                {
                  "name": "train_accuracy",
                  "dtype": "float64",
                  "stats": {
                    "unique_count": 5,
                    "nan_count": 0,
                    "min": "0.6657334826427772",
                    "max": "0.8362068965517241",
                    "histogram": [
                      {
                        "bin_start": 0.6657334826427772,
                        "bin_end": 0.6827808240336719,
                        "count": 1
                      },
                      {
                        "bin_start": 0.6827808240336719,
                        "bin_end": 0.6998281654245666,
                        "count": 0
                      },
                      {
                        "bin_start": 0.6998281654245666,
                        "bin_end": 0.7168755068154613,
                        "count": 0
                      },
                      {
                        "bin_start": 0.7168755068154613,
                        "bin_end": 0.733922848206356,
                        "count": 1
                      },
                      {
                        "bin_start": 0.733922848206356,
                        "bin_end": 0.7509701895972507,
                        "count": 1
                      },
                      {
                        "bin_start": 0.7509701895972507,
                        "bin_end": 0.7680175309881454,
                        "count": 0
                      },
                      {
                        "bin_start": 0.7680175309881454,
                        "bin_end": 0.78506487237904,
                        "count": 1
                      },
                      {
                        "bin_start": 0.78506487237904,
                        "bin_end": 0.8021122137699347,
                        "count": 0
                      },
                      {
                        "bin_start": 0.8021122137699347,
                        "bin_end": 0.8191595551608294,
                        "count": 0
                      },
                      {
                        "bin_start": 0.8191595551608294,
                        "bin_end": 0.8362068965517241,
                        "count": 1
                      }
                    ]
                  }
                },
                {
                  "name": "test_accuracy",
                  "dtype": "float64",
                  "stats": {
                    "unique_count": 5,
                    "nan_count": 0,
                    "min": "0.6580645161290323",
                    "max": "0.8313953488372093",
                    "histogram": [
                      {
                        "bin_start": 0.6580645161290323,
                        "bin_end": 0.67539759939985,
                        "count": 1
                      },
                      {
                        "bin_start": 0.67539759939985,
                        "bin_end": 0.6927306826706677,
                        "count": 1
                      },
                      {
                        "bin_start": 0.6927306826706677,
                        "bin_end": 0.7100637659414853,
                        "count": 0
                      },
                      {
                        "bin_start": 0.7100637659414853,
                        "bin_end": 0.7273968492123031,
                        "count": 0
                      },
                      {
                        "bin_start": 0.7273968492123031,
                        "bin_end": 0.7447299324831208,
                        "count": 1
                      },
                      {
                        "bin_start": 0.7447299324831208,
                        "bin_end": 0.7620630157539385,
                        "count": 0
                      },
                      {
                        "bin_start": 0.7620630157539385,
                        "bin_end": 0.7793960990247563,
                        "count": 1
                      },
                      {
                        "bin_start": 0.7793960990247563,
                        "bin_end": 0.796729182295574,
                        "count": 0
                      },
                      {
                        "bin_start": 0.796729182295574,
                        "bin_end": 0.8140622655663916,
                        "count": 0
                      },
                      {
                        "bin_start": 0.8140622655663916,
                        "bin_end": 0.8313953488372093,
                        "count": 1
                      }
                    ]
                  }
                },
                {
                  "name": "Test_AUC",
                  "dtype": "float64",
                  "stats": {
                    "unique_count": 5,
                    "nan_count": 0,
                    "min": "0.5046728971962616",
                    "max": "0.5950892857142858",
                    "histogram": [
                      {
                        "bin_start": 0.5046728971962616,
                        "bin_end": 0.513714536048064,
                        "count": 1
                      },
                      {
                        "bin_start": 0.513714536048064,
                        "bin_end": 0.5227561748998665,
                        "count": 0
                      },
                      {
                        "bin_start": 0.5227561748998665,
                        "bin_end": 0.5317978137516689,
                        "count": 1
                      },
                      {
                        "bin_start": 0.5317978137516689,
                        "bin_end": 0.5408394526034713,
                        "count": 0
                      },
                      {
                        "bin_start": 0.5408394526034713,
                        "bin_end": 0.5498810914552736,
                        "count": 0
                      },
                      {
                        "bin_start": 0.5498810914552736,
                        "bin_end": 0.5589227303070761,
                        "count": 0
                      },
                      {
                        "bin_start": 0.5589227303070761,
                        "bin_end": 0.5679643691588785,
                        "count": 0
                      },
                      {
                        "bin_start": 0.5679643691588785,
                        "bin_end": 0.5770060080106809,
                        "count": 0
                      },
                      {
                        "bin_start": 0.5770060080106809,
                        "bin_end": 0.5860476468624833,
                        "count": 2
                      },
                      {
                        "bin_start": 0.5860476468624833,
                        "bin_end": 0.5950892857142858,
                        "count": 1
                      }
                    ]
                  }
                },
                {
                  "name": "expec sales",
                  "dtype": "int64",
                  "stats": {
                    "unique_count": 5,
                    "nan_count": 0,
                    "min": "31",
                    "max": "292",
                    "histogram": [
                      {
                        "bin_start": 31,
                        "bin_end": 57.1,
                        "count": 1
                      },
                      {
                        "bin_start": 57.1,
                        "bin_end": 83.2,
                        "count": 0
                      },
                      {
                        "bin_start": 83.2,
                        "bin_end": 109.30000000000001,
                        "count": 1
                      },
                      {
                        "bin_start": 109.30000000000001,
                        "bin_end": 135.4,
                        "count": 0
                      },
                      {
                        "bin_start": 135.4,
                        "bin_end": 161.5,
                        "count": 2
                      },
                      {
                        "bin_start": 161.5,
                        "bin_end": 187.60000000000002,
                        "count": 0
                      },
                      {
                        "bin_start": 187.60000000000002,
                        "bin_end": 213.70000000000002,
                        "count": 0
                      },
                      {
                        "bin_start": 213.70000000000002,
                        "bin_end": 239.8,
                        "count": 0
                      },
                      {
                        "bin_start": 239.8,
                        "bin_end": 265.9,
                        "count": 0
                      },
                      {
                        "bin_start": 265.9,
                        "bin_end": 292,
                        "count": 1
                      }
                    ]
                  }
                },
                {
                  "name": "actual sales",
                  "dtype": "int64",
                  "stats": {
                    "unique_count": 5,
                    "nan_count": 0,
                    "min": "32",
                    "max": "281",
                    "histogram": [
                      {
                        "bin_start": 32,
                        "bin_end": 56.9,
                        "count": 1
                      },
                      {
                        "bin_start": 56.9,
                        "bin_end": 81.8,
                        "count": 0
                      },
                      {
                        "bin_start": 81.8,
                        "bin_end": 106.69999999999999,
                        "count": 0
                      },
                      {
                        "bin_start": 106.69999999999999,
                        "bin_end": 131.6,
                        "count": 1
                      },
                      {
                        "bin_start": 131.6,
                        "bin_end": 156.5,
                        "count": 1
                      },
                      {
                        "bin_start": 156.5,
                        "bin_end": 181.39999999999998,
                        "count": 1
                      },
                      {
                        "bin_start": 181.39999999999998,
                        "bin_end": 206.29999999999998,
                        "count": 0
                      },
                      {
                        "bin_start": 206.29999999999998,
                        "bin_end": 231.2,
                        "count": 0
                      },
                      {
                        "bin_start": 231.2,
                        "bin_end": 256.1,
                        "count": 0
                      },
                      {
                        "bin_start": 256.1,
                        "bin_end": 281,
                        "count": 1
                      }
                    ]
                  }
                },
                {
                  "name": "_deepnote_index_column",
                  "dtype": "object"
                }
              ],
              "rows_top": [
                {
                  "train_accuracy": 0.6657334826427772,
                  "test_accuracy": 0.677639046538025,
                  "Test_AUC": 0.5230427046263345,
                  "expec sales": 292,
                  "actual sales": 281,
                  "_deepnote_index_column": "cluster 0"
                },
                {
                  "train_accuracy": 0.8362068965517241,
                  "test_accuracy": 0.8313953488372093,
                  "Test_AUC": 0.5950892857142858,
                  "expec sales": 31,
                  "actual sales": 32,
                  "_deepnote_index_column": "cluster 1"
                },
                {
                  "train_accuracy": 0.7261146496815286,
                  "test_accuracy": 0.6580645161290323,
                  "Test_AUC": 0.5046728971962616,
                  "expec sales": 88,
                  "actual sales": 107,
                  "_deepnote_index_column": "cluster 2"
                },
                {
                  "train_accuracy": 0.7744565217391305,
                  "test_accuracy": 0.7761467889908257,
                  "Test_AUC": 0.5824980934742348,
                  "expec sales": 140,
                  "actual sales": 134,
                  "_deepnote_index_column": "cluster 3"
                },
                {
                  "train_accuracy": 0.7343880099916736,
                  "test_accuracy": 0.7331081081081081,
                  "Test_AUC": 0.5772897209154745,
                  "expec sales": 159,
                  "actual sales": 173,
                  "_deepnote_index_column": "cluster 4"
                }
              ],
              "rows_bottom": null
            },
            "text/plain": "           train_accuracy  test_accuracy  Test_AUC  expec sales  actual sales\ncluster 0        0.665733       0.677639  0.523043          292           281\ncluster 1        0.836207       0.831395  0.595089           31            32\ncluster 2        0.726115       0.658065  0.504673           88           107\ncluster 3        0.774457       0.776147  0.582498          140           134\ncluster 4        0.734388       0.733108  0.577290          159           173",
            "text/html": "<div>\n<style scoped>\n    .dataframe tbody tr th:only-of-type {\n        vertical-align: middle;\n    }\n\n    .dataframe tbody tr th {\n        vertical-align: top;\n    }\n\n    .dataframe thead th {\n        text-align: right;\n    }\n</style>\n<table border=\"1\" class=\"dataframe\">\n  <thead>\n    <tr style=\"text-align: right;\">\n      <th></th>\n      <th>train_accuracy</th>\n      <th>test_accuracy</th>\n      <th>Test_AUC</th>\n      <th>expec sales</th>\n      <th>actual sales</th>\n    </tr>\n  </thead>\n  <tbody>\n    <tr>\n      <th>cluster 0</th>\n      <td>0.665733</td>\n      <td>0.677639</td>\n      <td>0.523043</td>\n      <td>292</td>\n      <td>281</td>\n    </tr>\n    <tr>\n      <th>cluster 1</th>\n      <td>0.836207</td>\n      <td>0.831395</td>\n      <td>0.595089</td>\n      <td>31</td>\n      <td>32</td>\n    </tr>\n    <tr>\n      <th>cluster 2</th>\n      <td>0.726115</td>\n      <td>0.658065</td>\n      <td>0.504673</td>\n      <td>88</td>\n      <td>107</td>\n    </tr>\n    <tr>\n      <th>cluster 3</th>\n      <td>0.774457</td>\n      <td>0.776147</td>\n      <td>0.582498</td>\n      <td>140</td>\n      <td>134</td>\n    </tr>\n    <tr>\n      <th>cluster 4</th>\n      <td>0.734388</td>\n      <td>0.733108</td>\n      <td>0.577290</td>\n      <td>159</td>\n      <td>173</td>\n    </tr>\n  </tbody>\n</table>\n</div>"
          },
          "metadata": {}
        }
      ]
    },
    {
      "cell_type": "code",
      "metadata": {
        "deepnote_to_be_reexecuted": false,
        "execution_millis": 14,
        "source_hash": "efc44edf",
        "tags": [],
        "cell_id": "00015-31164a25-7965-405e-86a7-80e32b688b88",
        "execution_start": 1619105484340,
        "deepnote_cell_type": "code"
      },
      "source": "auc_agg = roc_auc_score(test, pred)\n\nprint('Marketwide Demand Prediction')\nprint(\"Number of Homes: {}\".format(len(Y[:,1])))\nprint(\"Training Accuracy: {:.4f}%\".format(train_acc_agg*100/train_size))\nprint(\"Testing Accuracy: {:.4f}%\".format(test_acc_agg*100/test_size))\nprint(\"AUC: {:.6f}\".format(auc_agg))\nprint(f'number of homes predicted sold {test_expsales_agg}')\nprint(f'number of homes actually sold {test_sales_agg}')",
      "execution_count": null,
      "outputs": [
        {
          "name": "stdout",
          "text": "Marketwide Demand Prediction\nNumber of Homes: 7567\nTraining Accuracy: 72.4887%\nTesting Accuracy: 72.0400%\nAUC: 0.547254\nnumber of homes predicted sold 710\nnumber of homes actually sold 727\n",
          "output_type": "stream"
        }
      ]
    },
    {
      "cell_type": "code",
      "metadata": {
        "tags": [],
        "deepnote_to_be_reexecuted": false,
        "source_hash": "b623e53d",
        "execution_millis": 1,
        "execution_start": 1617153672699,
        "cell_id": "00016-c2130727-c015-4266-a199-0baede9944ed",
        "deepnote_cell_type": "code"
      },
      "source": "",
      "execution_count": null,
      "outputs": []
    },
    {
      "cell_type": "markdown",
      "source": "# Neural network on kmeans",
      "metadata": {
        "tags": [],
        "cell_id": "00017-f567a16a-f43e-47da-8350-729cc2dea32c",
        "deepnote_cell_type": "markdown"
      }
    },
    {
      "cell_type": "code",
      "metadata": {
        "tags": [],
        "deepnote_to_be_reexecuted": false,
        "source_hash": "57e57084",
        "execution_millis": 146337,
        "execution_start": 1617153672706,
        "cell_id": "00018-9e8441a3-ce92-4897-946c-41fbb369a2ec",
        "deepnote_cell_type": "code"
      },
      "source": "device = torch.device('cuda') if torch.cuda.is_available() else torch.device('cpu') \n\n\nresults_dict_nn = {}\n\ntrain_acc_agg_nn = 0\ntrain_size_nn = 0\ntest_acc_agg_nn = 0\ntest_size_nn = 0\n\ntest_nn = np.array([])\npred_nn = np.array([])\n\nfor i in range(5):\n    print(f'For cluster {i}')\n    X_train = train_test_dict[f'cluster {i}'][0]\n    X_test = train_test_dict[f'cluster {i}'][1]\n    y_train = train_test_dict[f'cluster {i}'][2]\n    y_test = train_test_dict[f'cluster {i}'][3]\n    \n    X_train = torch.tensor(X_train.astype(float).values, dtype=torch.float64).to(device)\n    y_train = torch.tensor(y_train[:,1], dtype=torch.int64).to(device)\n    y_train = torch.nn.functional.one_hot(y_train)\n    #fit the logistic regression to each cluster\n    net = BaselineNet(X_train.shape[1], y_train.shape[1], epochs=5000, debug=False).to(device)\n    net.feed(X_train, y_train)\n    \n    #the below code is used in order to create a df containing a breakdown of metrics\n    #on a per cluster basis\n    with torch.no_grad():\n      net.eval()\n      X_test = torch.tensor(X_test.astype(float).values, dtype=torch.float64).to(device)\n      y_test = torch.tensor(y_test[:,1], dtype=torch.int64).to(device)\n      y_test = torch.nn.functional.one_hot(y_test)\n\n      y_pred = net.forward(X_test.float()) \n      labels = torch.max(y_test, 1)[1]\n      correct = 0\n      total = y_pred.shape[0]\n      _, predicted = torch.max(y_pred.data, 1)\n      correct += (predicted == labels).sum()\n      accuracy = 100 * correct/total\n      print('Accuracy: {}'.format(accuracy))\n    print('=======')\n    \n    y_test = y_test.cpu()\n    AUC_score = roc_auc_score(y_test.cpu(), predicted.cpu().reshape(-1,1))\n\n    results_dict_nn[f'cluster {i}'] = [train_accuracy, test_accuracy, AUC_score]\n    \n    #the below code is used to find the weighted average\n    test_nn = np.append(test_nn,y_test[:,1])\n    pred_nn = np.append(pred_nn, predicted.cpu())\n    train_size_nn += len(y_train)\n    train_acc_agg_nn += train_accuracy * len(y_train)\n    test_size_nn += len(y_test)\n    test_acc_agg_nn += test_accuracy * len(y_test)\n\nresults_df_nn = pd.DataFrame.from_dict(results_dict_nn, orient='index')",
      "execution_count": null,
      "outputs": [
        {
          "name": "stdout",
          "text": "For cluster 0\nAccuracy: 66.51531982421875\n=======\nFor cluster 1\nAccuracy: 81.39534759521484\n=======\nFor cluster 2\nAccuracy: 66.7741928100586\n=======\nFor cluster 3\nAccuracy: 75.59632873535156\n=======\nFor cluster 4\nAccuracy: 73.64865112304688\n=======\n",
          "output_type": "stream"
        }
      ]
    },
    {
      "cell_type": "code",
      "metadata": {
        "tags": [],
        "deepnote_to_be_reexecuted": false,
        "source_hash": "87deb2ea",
        "execution_start": 1617153819058,
        "execution_millis": 30,
        "cell_id": "00019-d9e81a23-0502-4596-96be-01052f986cc1",
        "deepnote_cell_type": "code"
      },
      "source": "results_df_nn = results_df.rename(columns = {0:'train_accuracy', 1:'test_accuracy', 2:'Test_AUC'})\nresults_df_nn",
      "execution_count": null,
      "outputs": [
        {
          "output_type": "execute_result",
          "execution_count": 16,
          "data": {
            "application/vnd.deepnote.dataframe.v2+json": {
              "row_count": 5,
              "column_count": 3,
              "columns": [
                {
                  "name": "train_accuracy",
                  "dtype": "float64",
                  "stats": {
                    "unique_count": 5,
                    "nan_count": 0,
                    "min": 0.6657334826427772,
                    "max": 0.8362068965517241,
                    "histogram": [
                      {
                        "bin_start": 0.6657334826427772,
                        "bin_end": 0.6827808240336719,
                        "count": 1
                      },
                      {
                        "bin_start": 0.6827808240336719,
                        "bin_end": 0.6998281654245666,
                        "count": 0
                      },
                      {
                        "bin_start": 0.6998281654245666,
                        "bin_end": 0.7168755068154613,
                        "count": 0
                      },
                      {
                        "bin_start": 0.7168755068154613,
                        "bin_end": 0.733922848206356,
                        "count": 1
                      },
                      {
                        "bin_start": 0.733922848206356,
                        "bin_end": 0.7509701895972507,
                        "count": 1
                      },
                      {
                        "bin_start": 0.7509701895972507,
                        "bin_end": 0.7680175309881454,
                        "count": 0
                      },
                      {
                        "bin_start": 0.7680175309881454,
                        "bin_end": 0.78506487237904,
                        "count": 1
                      },
                      {
                        "bin_start": 0.78506487237904,
                        "bin_end": 0.8021122137699347,
                        "count": 0
                      },
                      {
                        "bin_start": 0.8021122137699347,
                        "bin_end": 0.8191595551608294,
                        "count": 0
                      },
                      {
                        "bin_start": 0.8191595551608294,
                        "bin_end": 0.8362068965517241,
                        "count": 1
                      }
                    ]
                  }
                },
                {
                  "name": "test_accuracy",
                  "dtype": "float64",
                  "stats": {
                    "unique_count": 5,
                    "nan_count": 0,
                    "min": 0.6580645161290323,
                    "max": 0.8313953488372093,
                    "histogram": [
                      {
                        "bin_start": 0.6580645161290323,
                        "bin_end": 0.67539759939985,
                        "count": 1
                      },
                      {
                        "bin_start": 0.67539759939985,
                        "bin_end": 0.6927306826706677,
                        "count": 1
                      },
                      {
                        "bin_start": 0.6927306826706677,
                        "bin_end": 0.7100637659414853,
                        "count": 0
                      },
                      {
                        "bin_start": 0.7100637659414853,
                        "bin_end": 0.7273968492123031,
                        "count": 0
                      },
                      {
                        "bin_start": 0.7273968492123031,
                        "bin_end": 0.7447299324831208,
                        "count": 1
                      },
                      {
                        "bin_start": 0.7447299324831208,
                        "bin_end": 0.7620630157539385,
                        "count": 0
                      },
                      {
                        "bin_start": 0.7620630157539385,
                        "bin_end": 0.7793960990247563,
                        "count": 1
                      },
                      {
                        "bin_start": 0.7793960990247563,
                        "bin_end": 0.796729182295574,
                        "count": 0
                      },
                      {
                        "bin_start": 0.796729182295574,
                        "bin_end": 0.8140622655663916,
                        "count": 0
                      },
                      {
                        "bin_start": 0.8140622655663916,
                        "bin_end": 0.8313953488372093,
                        "count": 1
                      }
                    ]
                  }
                },
                {
                  "name": "Test_AUC",
                  "dtype": "float64",
                  "stats": {
                    "unique_count": 5,
                    "nan_count": 0,
                    "min": 0.5046728971962616,
                    "max": 0.5950892857142858,
                    "histogram": [
                      {
                        "bin_start": 0.5046728971962616,
                        "bin_end": 0.513714536048064,
                        "count": 1
                      },
                      {
                        "bin_start": 0.513714536048064,
                        "bin_end": 0.5227561748998665,
                        "count": 0
                      },
                      {
                        "bin_start": 0.5227561748998665,
                        "bin_end": 0.5317978137516689,
                        "count": 1
                      },
                      {
                        "bin_start": 0.5317978137516689,
                        "bin_end": 0.5408394526034713,
                        "count": 0
                      },
                      {
                        "bin_start": 0.5408394526034713,
                        "bin_end": 0.5498810914552736,
                        "count": 0
                      },
                      {
                        "bin_start": 0.5498810914552736,
                        "bin_end": 0.5589227303070761,
                        "count": 0
                      },
                      {
                        "bin_start": 0.5589227303070761,
                        "bin_end": 0.5679643691588785,
                        "count": 0
                      },
                      {
                        "bin_start": 0.5679643691588785,
                        "bin_end": 0.5770060080106809,
                        "count": 0
                      },
                      {
                        "bin_start": 0.5770060080106809,
                        "bin_end": 0.5860476468624833,
                        "count": 2
                      },
                      {
                        "bin_start": 0.5860476468624833,
                        "bin_end": 0.5950892857142858,
                        "count": 1
                      }
                    ]
                  }
                },
                {
                  "name": "_deepnote_index_column",
                  "dtype": "object"
                }
              ],
              "rows_top": [
                {
                  "train_accuracy": 0.6657334826427772,
                  "test_accuracy": 0.677639046538025,
                  "Test_AUC": 0.5230427046263345,
                  "_deepnote_index_column": "cluster 0"
                },
                {
                  "train_accuracy": 0.8362068965517241,
                  "test_accuracy": 0.8313953488372093,
                  "Test_AUC": 0.5950892857142858,
                  "_deepnote_index_column": "cluster 1"
                },
                {
                  "train_accuracy": 0.7261146496815286,
                  "test_accuracy": 0.6580645161290323,
                  "Test_AUC": 0.5046728971962616,
                  "_deepnote_index_column": "cluster 2"
                },
                {
                  "train_accuracy": 0.7744565217391305,
                  "test_accuracy": 0.7761467889908257,
                  "Test_AUC": 0.5824980934742348,
                  "_deepnote_index_column": "cluster 3"
                },
                {
                  "train_accuracy": 0.7343880099916736,
                  "test_accuracy": 0.7331081081081081,
                  "Test_AUC": 0.5772897209154745,
                  "_deepnote_index_column": "cluster 4"
                }
              ],
              "rows_bottom": null
            },
            "text/plain": "           train_accuracy  test_accuracy  Test_AUC\ncluster 0        0.665733       0.677639  0.523043\ncluster 1        0.836207       0.831395  0.595089\ncluster 2        0.726115       0.658065  0.504673\ncluster 3        0.774457       0.776147  0.582498\ncluster 4        0.734388       0.733108  0.577290",
            "text/html": "<div>\n<style scoped>\n    .dataframe tbody tr th:only-of-type {\n        vertical-align: middle;\n    }\n\n    .dataframe tbody tr th {\n        vertical-align: top;\n    }\n\n    .dataframe thead th {\n        text-align: right;\n    }\n</style>\n<table border=\"1\" class=\"dataframe\">\n  <thead>\n    <tr style=\"text-align: right;\">\n      <th></th>\n      <th>train_accuracy</th>\n      <th>test_accuracy</th>\n      <th>Test_AUC</th>\n    </tr>\n  </thead>\n  <tbody>\n    <tr>\n      <th>cluster 0</th>\n      <td>0.665733</td>\n      <td>0.677639</td>\n      <td>0.523043</td>\n    </tr>\n    <tr>\n      <th>cluster 1</th>\n      <td>0.836207</td>\n      <td>0.831395</td>\n      <td>0.595089</td>\n    </tr>\n    <tr>\n      <th>cluster 2</th>\n      <td>0.726115</td>\n      <td>0.658065</td>\n      <td>0.504673</td>\n    </tr>\n    <tr>\n      <th>cluster 3</th>\n      <td>0.774457</td>\n      <td>0.776147</td>\n      <td>0.582498</td>\n    </tr>\n    <tr>\n      <th>cluster 4</th>\n      <td>0.734388</td>\n      <td>0.733108</td>\n      <td>0.577290</td>\n    </tr>\n  </tbody>\n</table>\n</div>"
          },
          "metadata": {}
        }
      ]
    },
    {
      "cell_type": "code",
      "metadata": {
        "tags": [],
        "deepnote_to_be_reexecuted": false,
        "source_hash": "50b9c37e",
        "execution_start": 1617153819069,
        "execution_millis": 19,
        "cell_id": "00020-5e66fe8c-dffb-40a4-8bc6-3761469bf4c8",
        "deepnote_cell_type": "code"
      },
      "source": "auc_agg_nn = roc_auc_score(test_nn, pred_nn)\n\nprint('Marketwide Demand Prediction')\nprint(\"Number of Homes: {}\".format(len(Y[:,1])))\nprint(\"Training Accuracy: {:.4f}%\".format(train_acc_agg_nn*100/train_size_nn))\nprint(\"Testing Accuracy: {:.4f}%\".format(test_acc_agg_nn*100/test_size_nn))\nprint(\"AUC: {:.6f}\".format(auc_agg_nn))",
      "execution_count": null,
      "outputs": [
        {
          "name": "stdout",
          "text": "Marketwide Demand Prediction\nNumber of Homes: 7567\nTraining Accuracy: 73.4388%\nTesting Accuracy: 73.3108%\nAUC: 0.579349\n",
          "output_type": "stream"
        }
      ]
    },
    {
      "cell_type": "markdown",
      "source": "# PCA then Kmeans",
      "metadata": {
        "tags": [],
        "cell_id": "00021-9c09a21e-74db-4297-9336-03f527d280ff",
        "deepnote_cell_type": "markdown"
      }
    },
    {
      "cell_type": "code",
      "metadata": {
        "deepnote_to_be_reexecuted": false,
        "execution_millis": 49,
        "source_hash": "6356570f",
        "tags": [],
        "execution_start": 1617153819082,
        "cell_id": "00022-e0469a7c-944b-49e3-913a-5424948620e1",
        "deepnote_cell_type": "code"
      },
      "source": "#get top two PCA components\npca = PCA(n_components=3)\nx_pca = pca.fit_transform (X)\nprint(f'The variance contained in the top three components is {np.sum(pca.explained_variance_ratio_):.3f}')",
      "execution_count": null,
      "outputs": [
        {
          "name": "stdout",
          "text": "The variance contained in the top three components is 0.832\n",
          "output_type": "stream"
        }
      ]
    },
    {
      "cell_type": "code",
      "metadata": {
        "deepnote_to_be_reexecuted": false,
        "execution_millis": 715,
        "source_hash": "da9747ee",
        "tags": [],
        "execution_start": 1617153819125,
        "cell_id": "00023-edddefc0-0578-47e5-a619-aa6505e3b5e7",
        "deepnote_cell_type": "code"
      },
      "source": "#attempt kmeans clustering\n#unsupervised approach\nK = 5\ninit_clustering_pca = KMeans(n_clusters=K, random_state=0).fit(x_pca)\n\npca_cluster_labels = init_clustering_pca.labels_\n\nfor k in range(K):\n    print('Submarket {}: {} units'.format(k, sum(pca_cluster_labels == k)))",
      "execution_count": null,
      "outputs": [
        {
          "name": "stdout",
          "text": "Submarket 0: 2633 units\nSubmarket 1: 1828 units\nSubmarket 2: 1580 units\nSubmarket 3: 545 units\nSubmarket 4: 981 units\n",
          "output_type": "stream"
        }
      ]
    },
    {
      "cell_type": "code",
      "metadata": {
        "deepnote_to_be_reexecuted": false,
        "execution_millis": 11,
        "source_hash": "6f0abad6",
        "tags": [],
        "execution_start": 1617153819847,
        "cell_id": "00024-0c03d75e-395e-489c-8493-459d1fc090a5",
        "deepnote_cell_type": "code"
      },
      "source": "pca_df = pd.DataFrame(x_pca).rename(columns={0:'pca1', 1:'pca2',2:'pca3'})\n\n#add the clustering labels on to df\npca_df['labels'] = pca_cluster_labels ",
      "execution_count": null,
      "outputs": []
    },
    {
      "cell_type": "markdown",
      "source": "## Fitting logistic regression to identified clusters from PCA + Kmeans",
      "metadata": {
        "tags": [],
        "cell_id": "00025-8ff701b4-160a-4fa7-a9c1-f855b428280e",
        "deepnote_cell_type": "markdown"
      }
    },
    {
      "cell_type": "code",
      "metadata": {
        "deepnote_to_be_reexecuted": false,
        "execution_millis": 15,
        "source_hash": "2e1e4014",
        "tags": [],
        "execution_start": 1617153819861,
        "cell_id": "00026-3629af2d-0a59-4456-8091-6aec6a22cc71",
        "deepnote_cell_type": "code"
      },
      "source": "train_test_dict_pca = {}\n\n#for loop which extracts the X & y df for each cluster\n#these will then be used to run the logistic regression \nfor i in range(5):\n    X2 = pca_df.loc[pca_df['labels'] == i]\n    \n    X2 = X2.drop(columns = 'labels')\n    \n    y2 = Y[pca_df['labels'] == i]\n    X_train, X_test, y_train, y_test = train_test_split(X2, y2, test_size=0.33, random_state =297)\n\n    train_test_dict_pca[f'cluster {i}'] = (X_train, X_test, y_train, y_test)",
      "execution_count": null,
      "outputs": []
    },
    {
      "cell_type": "code",
      "metadata": {
        "deepnote_to_be_reexecuted": false,
        "execution_millis": 89,
        "source_hash": "39384266",
        "tags": [],
        "execution_start": 1617153819885,
        "cell_id": "00027-a8fecf45-6f7a-4c2b-8f98-61ddde53d875",
        "deepnote_cell_type": "code"
      },
      "source": "#now to fit for each cluster and get final results\n\nresults_dict_pca = {}\n\n\n\nfor i in range(5):\n    logit_reg = LogisticRegression()\n    X_train = train_test_dict_pca[f'cluster {i}'][0]\n    X_test = train_test_dict_pca[f'cluster {i}'][1]\n    y_train = train_test_dict_pca[f'cluster {i}'][2]\n    y_test = train_test_dict_pca[f'cluster {i}'][3]\n\n    #fit the logistic regression to each cluster\n    logit_reg.fit(X_train, y_train[:,1])\n    \n    #the below code is used in order to create a df containing a breakdown of metrics\n    #on a per cluster basis\n    print(f'For cluster {i}')\n    train_accuracy, test_accuracy = print_results(logit_reg)\n    print('=======')\n\n    pred_k = logit_reg.predict(X_test)\n    AUC_score = roc_auc_score(y_test[:,1], pred_k)\n\n    results_dict_pca[f'cluster {i}'] = [train_accuracy, test_accuracy, AUC_score]\n    \n\nresults_df_pca = pd.DataFrame.from_dict(results_dict_pca, orient='index')",
      "execution_count": null,
      "outputs": [
        {
          "name": "stdout",
          "text": "For cluster 0\nTrain set accuracy: 0.6655328798185941\nTest set accuracy: 0.6593785960874569\n=======\nFor cluster 1\nTrain set accuracy: 0.7205882352941176\nTest set accuracy: 0.7019867549668874\n=======\nFor cluster 2\nTrain set accuracy: 0.7372400756143668\nTest set accuracy: 0.7720306513409961\n=======\nFor cluster 3\nTrain set accuracy: 0.810958904109589\nTest set accuracy: 0.7944444444444444\n=======\nFor cluster 4\nTrain set accuracy: 0.7077625570776256\nTest set accuracy: 0.6820987654320988\n=======\n",
          "output_type": "stream"
        }
      ]
    },
    {
      "cell_type": "code",
      "metadata": {
        "deepnote_to_be_reexecuted": false,
        "execution_millis": 49,
        "source_hash": "a07d81d1",
        "tags": [],
        "execution_start": 1617153819986,
        "cell_id": "00028-7a8b221f-d1a6-4d78-bf8b-77fa73de04e5",
        "deepnote_cell_type": "code"
      },
      "source": "results_df_pca = results_df.rename(columns = {0:'train_accuracy', 1:'test_accuracy', 2:'Test_AUC'})\nresults_df_pca",
      "execution_count": null,
      "outputs": [
        {
          "output_type": "execute_result",
          "execution_count": 23,
          "data": {
            "application/vnd.deepnote.dataframe.v2+json": {
              "row_count": 5,
              "column_count": 3,
              "columns": [
                {
                  "name": "train_accuracy",
                  "dtype": "float64",
                  "stats": {
                    "unique_count": 5,
                    "nan_count": 0,
                    "min": 0.6657334826427772,
                    "max": 0.8362068965517241,
                    "histogram": [
                      {
                        "bin_start": 0.6657334826427772,
                        "bin_end": 0.6827808240336719,
                        "count": 1
                      },
                      {
                        "bin_start": 0.6827808240336719,
                        "bin_end": 0.6998281654245666,
                        "count": 0
                      },
                      {
                        "bin_start": 0.6998281654245666,
                        "bin_end": 0.7168755068154613,
                        "count": 0
                      },
                      {
                        "bin_start": 0.7168755068154613,
                        "bin_end": 0.733922848206356,
                        "count": 1
                      },
                      {
                        "bin_start": 0.733922848206356,
                        "bin_end": 0.7509701895972507,
                        "count": 1
                      },
                      {
                        "bin_start": 0.7509701895972507,
                        "bin_end": 0.7680175309881454,
                        "count": 0
                      },
                      {
                        "bin_start": 0.7680175309881454,
                        "bin_end": 0.78506487237904,
                        "count": 1
                      },
                      {
                        "bin_start": 0.78506487237904,
                        "bin_end": 0.8021122137699347,
                        "count": 0
                      },
                      {
                        "bin_start": 0.8021122137699347,
                        "bin_end": 0.8191595551608294,
                        "count": 0
                      },
                      {
                        "bin_start": 0.8191595551608294,
                        "bin_end": 0.8362068965517241,
                        "count": 1
                      }
                    ]
                  }
                },
                {
                  "name": "test_accuracy",
                  "dtype": "float64",
                  "stats": {
                    "unique_count": 5,
                    "nan_count": 0,
                    "min": 0.6580645161290323,
                    "max": 0.8313953488372093,
                    "histogram": [
                      {
                        "bin_start": 0.6580645161290323,
                        "bin_end": 0.67539759939985,
                        "count": 1
                      },
                      {
                        "bin_start": 0.67539759939985,
                        "bin_end": 0.6927306826706677,
                        "count": 1
                      },
                      {
                        "bin_start": 0.6927306826706677,
                        "bin_end": 0.7100637659414853,
                        "count": 0
                      },
                      {
                        "bin_start": 0.7100637659414853,
                        "bin_end": 0.7273968492123031,
                        "count": 0
                      },
                      {
                        "bin_start": 0.7273968492123031,
                        "bin_end": 0.7447299324831208,
                        "count": 1
                      },
                      {
                        "bin_start": 0.7447299324831208,
                        "bin_end": 0.7620630157539385,
                        "count": 0
                      },
                      {
                        "bin_start": 0.7620630157539385,
                        "bin_end": 0.7793960990247563,
                        "count": 1
                      },
                      {
                        "bin_start": 0.7793960990247563,
                        "bin_end": 0.796729182295574,
                        "count": 0
                      },
                      {
                        "bin_start": 0.796729182295574,
                        "bin_end": 0.8140622655663916,
                        "count": 0
                      },
                      {
                        "bin_start": 0.8140622655663916,
                        "bin_end": 0.8313953488372093,
                        "count": 1
                      }
                    ]
                  }
                },
                {
                  "name": "Test_AUC",
                  "dtype": "float64",
                  "stats": {
                    "unique_count": 5,
                    "nan_count": 0,
                    "min": 0.5046728971962616,
                    "max": 0.5950892857142858,
                    "histogram": [
                      {
                        "bin_start": 0.5046728971962616,
                        "bin_end": 0.513714536048064,
                        "count": 1
                      },
                      {
                        "bin_start": 0.513714536048064,
                        "bin_end": 0.5227561748998665,
                        "count": 0
                      },
                      {
                        "bin_start": 0.5227561748998665,
                        "bin_end": 0.5317978137516689,
                        "count": 1
                      },
                      {
                        "bin_start": 0.5317978137516689,
                        "bin_end": 0.5408394526034713,
                        "count": 0
                      },
                      {
                        "bin_start": 0.5408394526034713,
                        "bin_end": 0.5498810914552736,
                        "count": 0
                      },
                      {
                        "bin_start": 0.5498810914552736,
                        "bin_end": 0.5589227303070761,
                        "count": 0
                      },
                      {
                        "bin_start": 0.5589227303070761,
                        "bin_end": 0.5679643691588785,
                        "count": 0
                      },
                      {
                        "bin_start": 0.5679643691588785,
                        "bin_end": 0.5770060080106809,
                        "count": 0
                      },
                      {
                        "bin_start": 0.5770060080106809,
                        "bin_end": 0.5860476468624833,
                        "count": 2
                      },
                      {
                        "bin_start": 0.5860476468624833,
                        "bin_end": 0.5950892857142858,
                        "count": 1
                      }
                    ]
                  }
                },
                {
                  "name": "_deepnote_index_column",
                  "dtype": "object"
                }
              ],
              "rows_top": [
                {
                  "train_accuracy": 0.6657334826427772,
                  "test_accuracy": 0.677639046538025,
                  "Test_AUC": 0.5230427046263345,
                  "_deepnote_index_column": "cluster 0"
                },
                {
                  "train_accuracy": 0.8362068965517241,
                  "test_accuracy": 0.8313953488372093,
                  "Test_AUC": 0.5950892857142858,
                  "_deepnote_index_column": "cluster 1"
                },
                {
                  "train_accuracy": 0.7261146496815286,
                  "test_accuracy": 0.6580645161290323,
                  "Test_AUC": 0.5046728971962616,
                  "_deepnote_index_column": "cluster 2"
                },
                {
                  "train_accuracy": 0.7744565217391305,
                  "test_accuracy": 0.7761467889908257,
                  "Test_AUC": 0.5824980934742348,
                  "_deepnote_index_column": "cluster 3"
                },
                {
                  "train_accuracy": 0.7343880099916736,
                  "test_accuracy": 0.7331081081081081,
                  "Test_AUC": 0.5772897209154745,
                  "_deepnote_index_column": "cluster 4"
                }
              ],
              "rows_bottom": null
            },
            "text/plain": "           train_accuracy  test_accuracy  Test_AUC\ncluster 0        0.665733       0.677639  0.523043\ncluster 1        0.836207       0.831395  0.595089\ncluster 2        0.726115       0.658065  0.504673\ncluster 3        0.774457       0.776147  0.582498\ncluster 4        0.734388       0.733108  0.577290",
            "text/html": "<div>\n<style scoped>\n    .dataframe tbody tr th:only-of-type {\n        vertical-align: middle;\n    }\n\n    .dataframe tbody tr th {\n        vertical-align: top;\n    }\n\n    .dataframe thead th {\n        text-align: right;\n    }\n</style>\n<table border=\"1\" class=\"dataframe\">\n  <thead>\n    <tr style=\"text-align: right;\">\n      <th></th>\n      <th>train_accuracy</th>\n      <th>test_accuracy</th>\n      <th>Test_AUC</th>\n    </tr>\n  </thead>\n  <tbody>\n    <tr>\n      <th>cluster 0</th>\n      <td>0.665733</td>\n      <td>0.677639</td>\n      <td>0.523043</td>\n    </tr>\n    <tr>\n      <th>cluster 1</th>\n      <td>0.836207</td>\n      <td>0.831395</td>\n      <td>0.595089</td>\n    </tr>\n    <tr>\n      <th>cluster 2</th>\n      <td>0.726115</td>\n      <td>0.658065</td>\n      <td>0.504673</td>\n    </tr>\n    <tr>\n      <th>cluster 3</th>\n      <td>0.774457</td>\n      <td>0.776147</td>\n      <td>0.582498</td>\n    </tr>\n    <tr>\n      <th>cluster 4</th>\n      <td>0.734388</td>\n      <td>0.733108</td>\n      <td>0.577290</td>\n    </tr>\n  </tbody>\n</table>\n</div>"
          },
          "metadata": {}
        }
      ]
    },
    {
      "cell_type": "code",
      "metadata": {
        "tags": [],
        "deepnote_to_be_reexecuted": false,
        "source_hash": "b623e53d",
        "execution_start": 1617153820029,
        "execution_millis": 1,
        "cell_id": "00029-9d570ec3-85ad-413d-b2be-37495604f6a3",
        "deepnote_cell_type": "code"
      },
      "source": "",
      "execution_count": null,
      "outputs": []
    },
    {
      "cell_type": "markdown",
      "source": "<a style='text-decoration:none;line-height:16px;display:flex;color:#5B5B62;padding:10px;justify-content:end;' href='https://deepnote.com?utm_source=created-in-deepnote-cell&projectId=1c850c61-d934-4c85-b16d-3cb283df0c84' target=\"_blank\">\n<img alt='Created in deepnote.com' style='display:inline;max-height:16px;margin:0px;margin-right:7.5px;' src='data:image/svg+xml;base64,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' > </img>\nCreated in <span style='font-weight:600;margin-left:4px;'>Deepnote</span></a>",
      "metadata": {
        "tags": [],
        "created_in_deepnote_cell": true,
        "deepnote_cell_type": "markdown"
      }
    }
  ],
  "nbformat": 4,
  "nbformat_minor": 2,
  "metadata": {
    "deepnote": {},
    "deepnote_execution_queue": [],
    "deepnote_notebook_id": "d05a0dc6-7cd0-4d20-b151-cc27fed54bfc",
    "kernelspec": {
      "display_name": "Python 3",
      "language": "python",
      "name": "python3"
    },
    "language_info": {
      "codemirror_mode": {
        "name": "ipython",
        "version": 3
      },
      "file_extension": ".py",
      "mimetype": "text/x-python",
      "name": "python",
      "nbconvert_exporter": "python",
      "pygments_lexer": "ipython3",
      "version": "3.7.3"
    }
  }
}