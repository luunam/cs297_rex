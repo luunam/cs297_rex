{
  "cells": [
    {
      "cell_type": "code",
      "metadata": {
        "cell_id": "00000-6ec70792-f3a5-4205-b306-a401261a1190",
        "deepnote_to_be_reexecuted": false,
        "source_hash": "94e8f427",
        "execution_millis": 2139,
        "execution_start": 1617153988479,
        "deepnote_cell_type": "code"
      },
      "source": "import sys\nsys.path.insert(0, '../scripts/')\n\nimport numpy as np\nimport pandas as pd\n\nfrom data_pipeline import clean_dataset\nfrom data_listed_pipeline import join_listing_dates\n%matplotlib inline",
      "execution_count": 1,
      "outputs": [
        {
          "output_type": "error",
          "ename": "ModuleNotFoundError",
          "evalue": "No module named 'category_encoders'",
          "traceback": [
            "\u001b[0;31m---------------------------------------------------------------------------\u001b[0m",
            "\u001b[0;31mModuleNotFoundError\u001b[0m                       Traceback (most recent call last)",
            "\u001b[0;32m<ipython-input-1-6e057dbe08ce>\u001b[0m in \u001b[0;36m<module>\u001b[0;34m\u001b[0m\n\u001b[1;32m      5\u001b[0m \u001b[0;32mimport\u001b[0m \u001b[0mpandas\u001b[0m \u001b[0;32mas\u001b[0m \u001b[0mpd\u001b[0m\u001b[0;34m\u001b[0m\u001b[0;34m\u001b[0m\u001b[0m\n\u001b[1;32m      6\u001b[0m \u001b[0;34m\u001b[0m\u001b[0m\n\u001b[0;32m----> 7\u001b[0;31m \u001b[0;32mfrom\u001b[0m \u001b[0mdata_pipeline\u001b[0m \u001b[0;32mimport\u001b[0m \u001b[0mclean_dataset\u001b[0m\u001b[0;34m\u001b[0m\u001b[0;34m\u001b[0m\u001b[0m\n\u001b[0m\u001b[1;32m      8\u001b[0m \u001b[0;32mfrom\u001b[0m \u001b[0mdata_listed_pipeline\u001b[0m \u001b[0;32mimport\u001b[0m \u001b[0mjoin_listing_dates\u001b[0m\u001b[0;34m\u001b[0m\u001b[0;34m\u001b[0m\u001b[0m\n\u001b[1;32m      9\u001b[0m \u001b[0mget_ipython\u001b[0m\u001b[0;34m(\u001b[0m\u001b[0;34m)\u001b[0m\u001b[0;34m.\u001b[0m\u001b[0mrun_line_magic\u001b[0m\u001b[0;34m(\u001b[0m\u001b[0;34m'matplotlib'\u001b[0m\u001b[0;34m,\u001b[0m \u001b[0;34m'inline'\u001b[0m\u001b[0;34m)\u001b[0m\u001b[0;34m\u001b[0m\u001b[0;34m\u001b[0m\u001b[0m\n",
            "\u001b[0;32m/work/cs297_rex/scripts/data_pipeline.py\u001b[0m in \u001b[0;36m<module>\u001b[0;34m\u001b[0m\n\u001b[1;32m     13\u001b[0m \u001b[0;32mfrom\u001b[0m \u001b[0msklearn\u001b[0m\u001b[0;34m.\u001b[0m\u001b[0mpreprocessing\u001b[0m \u001b[0;32mimport\u001b[0m \u001b[0mStandardScaler\u001b[0m\u001b[0;34m\u001b[0m\u001b[0;34m\u001b[0m\u001b[0m\n\u001b[1;32m     14\u001b[0m \u001b[0;32mfrom\u001b[0m \u001b[0msklearn\u001b[0m\u001b[0;34m.\u001b[0m\u001b[0mcompose\u001b[0m \u001b[0;32mimport\u001b[0m \u001b[0mColumnTransformer\u001b[0m\u001b[0;34m\u001b[0m\u001b[0;34m\u001b[0m\u001b[0m\n\u001b[0;32m---> 15\u001b[0;31m \u001b[0;32mimport\u001b[0m \u001b[0mcategory_encoders\u001b[0m \u001b[0;32mas\u001b[0m \u001b[0mce\u001b[0m\u001b[0;34m\u001b[0m\u001b[0;34m\u001b[0m\u001b[0m\n\u001b[0m\u001b[1;32m     16\u001b[0m \u001b[0;34m\u001b[0m\u001b[0m\n\u001b[1;32m     17\u001b[0m '''\n",
            "\u001b[0;31mModuleNotFoundError\u001b[0m: No module named 'category_encoders'"
          ]
        }
      ]
    },
    {
      "cell_type": "markdown",
      "source": "# Non listed property processing",
      "metadata": {
        "tags": [],
        "cell_id": "00001-2d01e7a8-6664-49a3-921e-ab96a6e11857",
        "deepnote_cell_type": "markdown"
      }
    },
    {
      "cell_type": "code",
      "metadata": {
        "cell_id": "00001-6dbd17bc-365a-43bf-920f-e1e5823928f3",
        "deepnote_to_be_reexecuted": true,
        "source_hash": "902e06a7",
        "execution_millis": 2204,
        "deepnote_cell_type": "code"
      },
      "source": "#only run this cell the first time\n#all other times there is a csv produced called no listings prop with output\n'''\ndf = pd.read_csv('../data/denver_property_residence.csv', index_col=0)\ndf1 = clean_dataset(df, 'no listings prop', variance_threshold=0.1)\n'''",
      "execution_count": null,
      "outputs": [
        {
          "output_type": "error",
          "ename": "NameError",
          "evalue": "name 'pd' is not defined",
          "traceback": [
            "\u001b[0;31m---------------------------------------------------------------------------\u001b[0m",
            "\u001b[0;31mNameError\u001b[0m                                 Traceback (most recent call last)",
            "\u001b[0;32m<ipython-input-1-ff46870715aa>\u001b[0m in \u001b[0;36m<module>\u001b[0;34m\u001b[0m\n\u001b[0;32m----> 1\u001b[0;31m \u001b[0mdf\u001b[0m \u001b[0;34m=\u001b[0m \u001b[0mpd\u001b[0m\u001b[0;34m.\u001b[0m\u001b[0mread_csv\u001b[0m\u001b[0;34m(\u001b[0m\u001b[0;34m'../data/denver_property_residence.csv'\u001b[0m\u001b[0;34m,\u001b[0m \u001b[0mindex_col\u001b[0m\u001b[0;34m=\u001b[0m\u001b[0;36m0\u001b[0m\u001b[0;34m)\u001b[0m\u001b[0;34m\u001b[0m\u001b[0;34m\u001b[0m\u001b[0m\n\u001b[0m",
            "\u001b[0;31mNameError\u001b[0m: name 'pd' is not defined"
          ]
        }
      ]
    },
    {
      "cell_type": "markdown",
      "source": "",
      "metadata": {
        "tags": [],
        "cell_id": "00002-f68fa6d8-7e07-428e-9d84-73dbf8e94b34",
        "deepnote_cell_type": "markdown"
      }
    },
    {
      "cell_type": "markdown",
      "source": "# Listed properties processing",
      "metadata": {
        "tags": [],
        "cell_id": "00004-0b4419b8-bf5e-4003-b90f-ea87d8a5579c",
        "deepnote_cell_type": "markdown"
      }
    },
    {
      "cell_type": "code",
      "metadata": {
        "tags": [],
        "cell_id": "00005-6d09bdd1-eaca-443e-930f-4476feb64c25",
        "deepnote_to_be_reexecuted": true,
        "source_hash": "529d0b08",
        "deepnote_cell_type": "code"
      },
      "source": "#only run this cell the first time\n#all other times there is a csv produced called enver_joined_dataset with output\n'''\n#import wider property dataset\ndf_wide = pd.read_csv('../../denver_improved_property_info_with_ct.csv')\n\n#import listings dataset\ndf_listings = pd.read_csv('../data/denver_augmented_clean.csv')\n\n#import the key to match property info with listings data set\ndf_key = pd.read_csv('../data/denver_property_crosswalk.csv')\n\n\ndf2 = join_listing_dates(df_wide, df_listings, df_key)\n'''",
      "execution_count": null,
      "outputs": []
    },
    {
      "cell_type": "markdown",
      "source": "# Combining nonlisted houses with listed houses\n- df1 are the properties which have never listed\n- df2 are the properties which have listed and are in the REX dataset (this does not actually hold the listing dates)",
      "metadata": {
        "tags": [],
        "cell_id": "00006-fac5b8ea-bfab-467e-8222-248598aa497c",
        "deepnote_cell_type": "markdown"
      }
    },
    {
      "cell_type": "code",
      "metadata": {
        "cell_id": "00003-15c70fb6-24db-4853-a4a0-a3e588009384",
        "deepnote_to_be_reexecuted": true,
        "source_hash": "e456ef05",
        "execution_millis": 84857,
        "deepnote_cell_type": "code"
      },
      "source": "#bring in the output from the pipeline python file\ndf1 = pd.read_csv('../data/no listings prop.csv', index_col=0)\n#bring in the output from the data_listed_pipeline python file\ndf2 = pd.read_csv('../data/denver_joined_dataset.csv')",
      "execution_count": null,
      "outputs": [
        {
          "name": "stderr",
          "text": "/shared-libs/python3.7/py/lib/python3.7/site-packages/numpy/lib/arraysetops.py:580: FutureWarning: elementwise comparison failed; returning scalar instead, but in the future will perform elementwise comparison\n  mask |= (ar1 == a)\n/shared-libs/python3.7/py-core/lib/python3.7/site-packages/IPython/core/interactiveshell.py:3166: DtypeWarning: Columns (25,28,36,38,55,56,75,83,97,98,99,100,128,141,142,143,145) have mixed types.Specify dtype option on import or set low_memory=False.\n  interactivity=interactivity, compiler=compiler, result=result)\n",
          "output_type": "stream"
        }
      ]
    },
    {
      "cell_type": "code",
      "metadata": {
        "tags": [],
        "cell_id": "00008-3a3d9194-11cc-48e0-95f7-0ae65947059b",
        "deepnote_to_be_reexecuted": true,
        "source_hash": "caa55e2e",
        "execution_millis": 1619,
        "deepnote_cell_type": "code"
      },
      "source": "df2",
      "execution_count": null,
      "outputs": [
        {
          "output_type": "execute_result",
          "execution_count": 4,
          "data": {
            "application/vnd.deepnote.dataframe.v2+json": {
              "row_count": 203391,
              "column_count": 154,
              "columns": [
                {
                  "name": "cc_property_id",
                  "dtype": "int64"
                },
                {
                  "name": "zipcode_x",
                  "dtype": "int64"
                },
                {
                  "name": "fips_x",
                  "dtype": "float64"
                },
                {
                  "name": "sqft",
                  "dtype": "float64"
                },
                {
                  "name": "property_type_x",
                  "dtype": "object"
                },
                {
                  "name": "has_central_air",
                  "dtype": "bool"
                },
                {
                  "name": "has_jacuzzi",
                  "dtype": "bool"
                },
                {
                  "name": "has_pool",
                  "dtype": "bool"
                },
                {
                  "name": "has_solar",
                  "dtype": "bool"
                },
                {
                  "name": "has_garage",
                  "dtype": "bool"
                },
                {
                  "name": "list_date",
                  "dtype": "object"
                },
                {
                  "name": "sale_date",
                  "dtype": "object"
                },
                {
                  "name": "sale_price_per_sqft",
                  "dtype": "float64"
                },
                {
                  "name": "farm_score",
                  "dtype": "float64"
                },
                {
                  "name": "median_rental_price",
                  "dtype": "float64"
                },
                {
                  "name": "pop_density",
                  "dtype": "float64"
                },
                {
                  "name": "first_time_homebuyer_score",
                  "dtype": "float64"
                },
                {
                  "name": "retirement_friendly_score",
                  "dtype": "float64"
                },
                {
                  "name": "young_single_professional_score",
                  "dtype": "float64"
                },
                {
                  "name": "college_student_friendly_score",
                  "dtype": "float64"
                },
                {
                  "name": "violent_crime_rate",
                  "dtype": "float64"
                },
                {
                  "name": "walk",
                  "dtype": "float64"
                },
                {
                  "name": "public_transportation",
                  "dtype": "float64"
                },
                {
                  "name": "carpool",
                  "dtype": "float64"
                },
                {
                  "name": "rex_property_id",
                  "dtype": "int64"
                },
                {
                  "name": "rex_property_guid",
                  "dtype": "object"
                },
                {
                  "name": "data_source",
                  "dtype": "object"
                },
                {
                  "name": "match_full_street_address",
                  "dtype": "object"
                },
                {
                  "name": "address_1_pos",
                  "dtype": "object"
                },
                {
                  "name": "address_2_pos",
                  "dtype": "object"
                },
                {
                  "name": "address_3_pos",
                  "dtype": "object"
                },
                {
                  "name": "random_property_id",
                  "dtype": "int64"
                },
                {
                  "name": "zipcode_y",
                  "dtype": "int64"
                },
                {
                  "name": "property_type_y",
                  "dtype": "object"
                },
                {
                  "name": "fips_y",
                  "dtype": "int64"
                },
                {
                  "name": "formattedapn",
                  "dtype": "object"
                },
                {
                  "name": "taxaccountnumber",
                  "dtype": "object"
                },
                {
                  "name": "situsstdfullstreetaddress",
                  "dtype": "object"
                },
                {
                  "name": "situsstdhousenbr",
                  "dtype": "object"
                },
                {
                  "name": "situsstddirectionleft",
                  "dtype": "object"
                },
                {
                  "name": "situsstdstreet",
                  "dtype": "object"
                },
                {
                  "name": "situsstdmode",
                  "dtype": "object"
                },
                {
                  "name": "situsstdunittype",
                  "dtype": "object"
                },
                {
                  "name": "situsstdunitnbr",
                  "dtype": "object"
                },
                {
                  "name": "situsstdcity",
                  "dtype": "object"
                },
                {
                  "name": "situsstdstate",
                  "dtype": "object"
                },
                {
                  "name": "situsstdzip5",
                  "dtype": "int64"
                },
                {
                  "name": "situsstdzip4",
                  "dtype": "float64"
                },
                {
                  "name": "situsstdcarriercode",
                  "dtype": "object"
                },
                {
                  "name": "situslatitude",
                  "dtype": "float64"
                },
                {
                  "name": "situslongitude",
                  "dtype": "float64"
                },
                {
                  "name": "situsgeostatuscode",
                  "dtype": "object"
                },
                {
                  "name": "propertyclassid",
                  "dtype": "object"
                },
                {
                  "name": "stdlandusecode",
                  "dtype": "int64"
                },
                {
                  "name": "statelandusecode",
                  "dtype": "float64"
                },
                {
                  "name": "countylandusecode",
                  "dtype": "object"
                },
                {
                  "name": "zoning",
                  "dtype": "object"
                },
                {
                  "name": "situscensustract",
                  "dtype": "float64"
                },
                {
                  "name": "schooldistrictname",
                  "dtype": "object"
                },
                {
                  "name": "lotsizefrontagefeet",
                  "dtype": "float64"
                },
                {
                  "name": "lotsizedepthfeet",
                  "dtype": "int64"
                },
                {
                  "name": "lotsizeacres",
                  "dtype": "int64"
                },
                {
                  "name": "lotsizesqft",
                  "dtype": "int64"
                },
                {
                  "name": "ownerstd1corpind",
                  "dtype": "object"
                },
                {
                  "name": "ownerstd1lastname",
                  "dtype": "object"
                },
                {
                  "name": "ownerstd1firstname",
                  "dtype": "object"
                },
                {
                  "name": "ownerstd1middlename",
                  "dtype": "object"
                },
                {
                  "name": "ownerstd2lastname",
                  "dtype": "object"
                },
                {
                  "name": "ownerstd2firstname",
                  "dtype": "object"
                },
                {
                  "name": "ownerstd2middlename",
                  "dtype": "object"
                },
                {
                  "name": "ownerstdname1full",
                  "dtype": "object"
                },
                {
                  "name": "ownerstdname2full",
                  "dtype": "object"
                },
                {
                  "name": "owneroccupied",
                  "dtype": "object"
                },
                {
                  "name": "ownerstd1ownershiprights",
                  "dtype": "object"
                },
                {
                  "name": "mailingstdfullstreetaddress",
                  "dtype": "object"
                },
                {
                  "name": "mailingstdhousenbr",
                  "dtype": "object"
                },
                {
                  "name": "mailingstddirectionleft",
                  "dtype": "object"
                },
                {
                  "name": "mailingstdstreet",
                  "dtype": "object"
                },
                {
                  "name": "mailingstdmode",
                  "dtype": "object"
                },
                {
                  "name": "mailingstdunittype",
                  "dtype": "object"
                },
                {
                  "name": "mailingstdunitnbr",
                  "dtype": "object"
                },
                {
                  "name": "mailingstdcity",
                  "dtype": "object"
                },
                {
                  "name": "mailingstdstate",
                  "dtype": "object"
                },
                {
                  "name": "mailingstdzip5",
                  "dtype": "object"
                },
                {
                  "name": "mailingstdzip4",
                  "dtype": "float64"
                },
                {
                  "name": "mailingstdcarriercode",
                  "dtype": "object"
                },
                {
                  "name": "mailingoptout",
                  "dtype": "object"
                },
                {
                  "name": "assdtotalvalue",
                  "dtype": "int64"
                },
                {
                  "name": "assdlandvalue",
                  "dtype": "int64"
                },
                {
                  "name": "assdimprovementvalue",
                  "dtype": "int64"
                },
                {
                  "name": "markettotalvalue",
                  "dtype": "int64"
                },
                {
                  "name": "marketvalueland",
                  "dtype": "int64"
                },
                {
                  "name": "marketvalueimprovement",
                  "dtype": "int64"
                },
                {
                  "name": "taxamount",
                  "dtype": "float64"
                },
                {
                  "name": "taxyear",
                  "dtype": "int64"
                },
                {
                  "name": "taxdeliquentyear1",
                  "dtype": "float64"
                },
                {
                  "name": "assdyear",
                  "dtype": "int64"
                },
                {
                  "name": "taxratecodearea",
                  "dtype": "object"
                },
                {
                  "name": "schooltaxdistrict1code",
                  "dtype": "object"
                },
                {
                  "name": "schooltaxdistrict2code",
                  "dtype": "object"
                },
                {
                  "name": "schooltaxdistrict3code",
                  "dtype": "object"
                },
                {
                  "name": "buildingarea",
                  "dtype": "float64"
                },
                {
                  "name": "buildingareaind",
                  "dtype": "object"
                },
                {
                  "name": "sumbuildingsqft",
                  "dtype": "float64"
                },
                {
                  "name": "sumlivingareasqft",
                  "dtype": "float64"
                },
                {
                  "name": "sumgrossareasqft",
                  "dtype": "float64"
                },
                {
                  "name": "sumadjareasqft",
                  "dtype": "float64"
                },
                {
                  "name": "sumbasementsqft",
                  "dtype": "float64"
                },
                {
                  "name": "sumgaragesqft",
                  "dtype": "float64"
                },
                {
                  "name": "yearbuilt",
                  "dtype": "float64"
                },
                {
                  "name": "effectiveyearbuilt",
                  "dtype": "float64"
                },
                {
                  "name": "bedrooms",
                  "dtype": "float64"
                },
                {
                  "name": "totalrooms",
                  "dtype": "float64"
                },
                {
                  "name": "bathtotalcalc",
                  "dtype": "float64"
                },
                {
                  "name": "bathfull",
                  "dtype": "float64"
                },
                {
                  "name": "bathsparcialnbr",
                  "dtype": "float64"
                },
                {
                  "name": "bathfixturesnbr",
                  "dtype": "float64"
                },
                {
                  "name": "airconditioningcode",
                  "dtype": "float64"
                },
                {
                  "name": "basementcode",
                  "dtype": "float64"
                },
                {
                  "name": "buildingconditioncode",
                  "dtype": "float64"
                },
                {
                  "name": "constructiontypecode",
                  "dtype": "float64"
                },
                {
                  "name": "exteriorwallscode",
                  "dtype": "float64"
                },
                {
                  "name": "interiorwallscode",
                  "dtype": "float64"
                },
                {
                  "name": "fireplacecode",
                  "dtype": "float64"
                },
                {
                  "name": "floorcovercode",
                  "dtype": "float64"
                },
                {
                  "name": "garage",
                  "dtype": "float64"
                },
                {
                  "name": "heatcode",
                  "dtype": "float64"
                },
                {
                  "name": "heatingfueltypecode",
                  "dtype": "float64"
                },
                {
                  "name": "siteinfluencecode",
                  "dtype": "object"
                },
                {
                  "name": "garageparkingnbr",
                  "dtype": "int64"
                },
                {
                  "name": "drivewaycode",
                  "dtype": "float64"
                },
                {
                  "name": "patiocode",
                  "dtype": "float64"
                },
                {
                  "name": "poolcode",
                  "dtype": "float64"
                },
                {
                  "name": "porchcode",
                  "dtype": "float64"
                },
                {
                  "name": "buildingqualitycode",
                  "dtype": "float64"
                },
                {
                  "name": "roofcovercode",
                  "dtype": "float64"
                },
                {
                  "name": "rooftypecode",
                  "dtype": "float64"
                },
                {
                  "name": "storiesnbrcode",
                  "dtype": "float64"
                },
                {
                  "name": "stylecode",
                  "dtype": "float64"
                },
                {
                  "name": "sumresidentialunits",
                  "dtype": "float64"
                },
                {
                  "name": "sumbuildingsnbr",
                  "dtype": "float64"
                },
                {
                  "name": "lotnumber",
                  "dtype": "object"
                },
                {
                  "name": "block",
                  "dtype": "object"
                },
                {
                  "name": "municipality",
                  "dtype": "object"
                },
                {
                  "name": "subdivisionname",
                  "dtype": "object"
                },
                {
                  "name": "meridian",
                  "dtype": "object"
                },
                {
                  "name": "legaldescription",
                  "dtype": "object"
                },
                {
                  "name": "fatimestamp",
                  "dtype": "object"
                },
                {
                  "name": "faucidflag",
                  "dtype": "object"
                },
                {
                  "name": "county",
                  "dtype": "object"
                },
                {
                  "name": "house_market_exists",
                  "dtype": "bool"
                },
                {
                  "name": "datatree_exists",
                  "dtype": "bool"
                },
                {
                  "name": "property_internal_exists",
                  "dtype": "bool"
                },
                {
                  "name": "ct_key",
                  "dtype": "float64"
                },
                {
                  "name": "_deepnote_index_column",
                  "dtype": "int64"
                }
              ],
              "rows_top": [
                {
                  "cc_property_id": 138560546,
                  "zipcode_x": 80002,
                  "fips_x": 8059,
                  "sqft": 1687,
                  "property_type_x": "SINGLE",
                  "has_central_air": false,
                  "has_jacuzzi": false,
                  "has_pool": false,
                  "has_solar": false,
                  "has_garage": false,
                  "list_date": "2018-05-17",
                  "sale_date": "2018-07-09",
                  "sale_price_per_sqft": 207.4688796680498,
                  "farm_score": 100,
                  "median_rental_price": 2385,
                  "pop_density": 3317.321845,
                  "first_time_homebuyer_score": 100,
                  "retirement_friendly_score": 66.918255,
                  "young_single_professional_score": 43.566921,
                  "college_student_friendly_score": 67.42143,
                  "violent_crime_rate": 2.764467,
                  "walk": 0.0152439024390243,
                  "public_transportation": 0.0164634146341463,
                  "carpool": 0.0807926829268292,
                  "rex_property_id": 349475428,
                  "rex_property_guid": "6f9a98e9de9b41c18c6d3d52fe1d6adb",
                  "data_source": "first_american",
                  "match_full_street_address": "5622 AMMONS ST",
                  "address_1_pos": 5622,
                  "address_2_pos": "AMMONS",
                  "address_3_pos": "ST",
                  "random_property_id": 23869850,
                  "zipcode_y": 80002,
                  "property_type_y": "SINGLE",
                  "fips_y": 8059,
                  "formattedapn": "39-113-21-011",
                  "taxaccountnumber": "7416",
                  "situsstdfullstreetaddress": "5622 AMMONS ST",
                  "situsstdhousenbr": 5622,
                  "situsstddirectionleft": "nan",
                  "situsstdstreet": "AMMONS",
                  "situsstdmode": "ST",
                  "situsstdunittype": "nan",
                  "situsstdunitnbr": "nan",
                  "situsstdcity": "ARVADA",
                  "situsstdstate": "CO",
                  "situsstdzip5": 80002,
                  "situsstdzip4": 2422,
                  "situsstdcarriercode": "C013",
                  "situslatitude": 39.799943,
                  "situslongitude": -105.087008,
                  "situsgeostatuscode": "B",
                  "propertyclassid": "R",
                  "stdlandusecode": 1001,
                  "statelandusecode": 1112,
                  "countylandusecode": 201,
                  "zoning": "nan",
                  "situscensustract": 10308,
                  "schooldistrictname": "Jefferson County School District R-1",
                  "lotsizefrontagefeet": "nan",
                  "lotsizedepthfeet": 0,
                  "lotsizeacres": 163,
                  "lotsizesqft": 7100,
                  "ownerstd1corpind": "nan",
                  "ownerstd1lastname": "JOHNSON",
                  "ownerstd1firstname": "NICOLENA",
                  "ownerstd1middlename": "M",
                  "ownerstd2lastname": "MITCHELL",
                  "ownerstd2firstname": "DAVID",
                  "ownerstd2middlename": "nan",
                  "ownerstdname1full": "JOHNSON NICOLENA M",
                  "ownerstdname2full": "MITCHELL DAVID",
                  "owneroccupied": "Y",
                  "ownerstd1ownershiprights": "JS",
                  "mailingstdfullstreetaddress": "5622 AMMONS ST",
                  "mailingstdhousenbr": "5622",
                  "mailingstddirectionleft": "nan",
                  "mailingstdstreet": "AMMONS",
                  "mailingstdmode": "ST",
                  "mailingstdunittype": "nan",
                  "mailingstdunitnbr": "nan",
                  "mailingstdcity": "ARVADA",
                  "mailingstdstate": "CO",
                  "mailingstdzip5": 80002,
                  "mailingstdzip4": 2422,
                  "mailingstdcarriercode": "C013",
                  "mailingoptout": "nan",
                  "assdtotalvalue": 46285,
                  "assdlandvalue": 13656,
                  "assdimprovementvalue": 32629,
                  "markettotalvalue": 647344,
                  "marketvalueland": 190993,
                  "marketvalueimprovement": 456351,
                  "taxamount": 2535,
                  "taxyear": 2019,
                  "taxdeliquentyear1": "nan",
                  "assdyear": 2019,
                  "taxratecodearea": "nan",
                  "schooltaxdistrict1code": "nan",
                  "schooltaxdistrict2code": "nan",
                  "schooltaxdistrict3code": "nan",
                  "buildingarea": 1826,
                  "buildingareaind": "E",
                  "sumbuildingsqft": 1826,
                  "sumlivingareasqft": 2258,
                  "sumgrossareasqft": "nan",
                  "sumadjareasqft": "2256.0",
                  "sumbasementsqft": "430.0",
                  "sumgaragesqft": "698.0",
                  "yearbuilt": 1940,
                  "effectiveyearbuilt": 2019,
                  "bedrooms": 4,
                  "totalrooms": 0,
                  "bathtotalcalc": 3,
                  "bathfull": 3,
                  "bathsparcialnbr": 0,
                  "bathfixturesnbr": "nan",
                  "airconditioningcode": "2.0",
                  "basementcode": "3.0",
                  "buildingconditioncode": 2,
                  "constructiontypecode": 6,
                  "exteriorwallscode": "nan",
                  "interiorwallscode": "nan",
                  "fireplacecode": "nan",
                  "floorcovercode": "nan",
                  "garage": "10.0",
                  "heatcode": 10,
                  "heatingfueltypecode": "nan",
                  "siteinfluencecode": "nan",
                  "garageparkingnbr": 1,
                  "drivewaycode": "nan",
                  "patiocode": "nan",
                  "poolcode": "nan",
                  "porchcode": "nan",
                  "buildingqualitycode": 4,
                  "roofcovercode": "nan",
                  "rooftypecode": "nan",
                  "storiesnbrcode": "200.0",
                  "stylecode": "nan",
                  "sumresidentialunits": 1,
                  "sumbuildingsnbr": 0,
                  "lotnumber": "20,21",
                  "block": "nan",
                  "municipality": "ARVADA",
                  "subdivisionname": "SHACKLEYS",
                  "meridian": "SEC 11 TWN 03S RNG 69W",
                  "legaldescription": "SECTION 11 TOWNSHIP 03 RANGE 69 QTR SW SUBDIVISIONCD 665800 SUBDIVISIONNAME SHACKLEYS BLOCK LOT 0020 SIZE: 3550 TRACT VALUE:",
                  "fatimestamp": "2020-07-22",
                  "faucidflag": "C",
                  "county": "JEFFERSON",
                  "house_market_exists": true,
                  "datatree_exists": false,
                  "property_internal_exists": false,
                  "ct_key": 8059010308,
                  "_deepnote_index_column": 0
                },
                {
                  "cc_property_id": 138555680,
                  "zipcode_x": 80002,
                  "fips_x": 8059,
                  "sqft": 2220,
                  "property_type_x": "SINGLE",
                  "has_central_air": false,
                  "has_jacuzzi": false,
                  "has_pool": false,
                  "has_solar": false,
                  "has_garage": false,
                  "list_date": "2019-12-27",
                  "sale_date": "2020-01-31",
                  "sale_price_per_sqft": 191.44144144144144,
                  "farm_score": 100,
                  "median_rental_price": 2385,
                  "pop_density": 3317.321845,
                  "first_time_homebuyer_score": 100,
                  "retirement_friendly_score": 66.918255,
                  "young_single_professional_score": 43.566921,
                  "college_student_friendly_score": 67.42143,
                  "violent_crime_rate": 2.764467,
                  "walk": 0.0152439024390243,
                  "public_transportation": 0.0164634146341463,
                  "carpool": 0.0807926829268292,
                  "rex_property_id": 293045161,
                  "rex_property_guid": "c53fe5502c174dc480856e5f1b3758c4",
                  "data_source": "first_american",
                  "match_full_street_address": "5615 JELLISON ST",
                  "address_1_pos": 5615,
                  "address_2_pos": "JELLISON",
                  "address_3_pos": "ST",
                  "random_property_id": 23862173,
                  "zipcode_y": 80002,
                  "property_type_y": "SINGLE",
                  "fips_y": 8059,
                  "formattedapn": "39-103-10-017",
                  "taxaccountnumber": "11133",
                  "situsstdfullstreetaddress": "5615 JELLISON ST",
                  "situsstdhousenbr": 5615,
                  "situsstddirectionleft": "nan",
                  "situsstdstreet": "JELLISON",
                  "situsstdmode": "ST",
                  "situsstdunittype": "nan",
                  "situsstdunitnbr": "nan",
                  "situsstdcity": "ARVADA",
                  "situsstdstate": "CO",
                  "situsstdzip5": 80002,
                  "situsstdzip4": 2144,
                  "situsstdcarriercode": "C009",
                  "situslatitude": 39.798689,
                  "situslongitude": -105.107662,
                  "situsgeostatuscode": "B",
                  "propertyclassid": "R",
                  "stdlandusecode": 1001,
                  "statelandusecode": 1112,
                  "countylandusecode": 201,
                  "zoning": "nan",
                  "situscensustract": 10308,
                  "schooldistrictname": "Jefferson County School District R-1",
                  "lotsizefrontagefeet": "nan",
                  "lotsizedepthfeet": 0,
                  "lotsizeacres": 169,
                  "lotsizesqft": 7362,
                  "ownerstd1corpind": "nan",
                  "ownerstd1lastname": "BROSS",
                  "ownerstd1firstname": "MARCIA",
                  "ownerstd1middlename": "D",
                  "ownerstd2lastname": "nan",
                  "ownerstd2firstname": "nan",
                  "ownerstd2middlename": "nan",
                  "ownerstdname1full": "BROSS MARCIA D",
                  "ownerstdname2full": "nan",
                  "owneroccupied": "Y",
                  "ownerstd1ownershiprights": "nan",
                  "mailingstdfullstreetaddress": "5615 JELLISON ST",
                  "mailingstdhousenbr": "5615",
                  "mailingstddirectionleft": "nan",
                  "mailingstdstreet": "JELLISON",
                  "mailingstdmode": "ST",
                  "mailingstdunittype": "nan",
                  "mailingstdunitnbr": "nan",
                  "mailingstdcity": "ARVADA",
                  "mailingstdstate": "CO",
                  "mailingstdzip5": 80002,
                  "mailingstdzip4": 2144,
                  "mailingstdcarriercode": "C009",
                  "mailingoptout": "nan",
                  "assdtotalvalue": 23941,
                  "assdlandvalue": 10211,
                  "assdimprovementvalue": 13730,
                  "markettotalvalue": 334831,
                  "marketvalueland": 142805,
                  "marketvalueimprovement": 192026,
                  "taxamount": 1895,
                  "taxyear": 2019,
                  "taxdeliquentyear1": "nan",
                  "assdyear": 2019,
                  "taxratecodearea": "nan",
                  "schooltaxdistrict1code": "nan",
                  "schooltaxdistrict2code": "nan",
                  "schooltaxdistrict3code": "nan",
                  "buildingarea": 1120,
                  "buildingareaind": "E",
                  "sumbuildingsqft": 1120,
                  "sumlivingareasqft": 2240,
                  "sumgrossareasqft": "nan",
                  "sumadjareasqft": "nan",
                  "sumbasementsqft": "1120.0",
                  "sumgaragesqft": "nan",
                  "yearbuilt": 1958,
                  "effectiveyearbuilt": 1958,
                  "bedrooms": 5,
                  "totalrooms": 13,
                  "bathtotalcalc": 2,
                  "bathfull": 1,
                  "bathsparcialnbr": 1,
                  "bathfixturesnbr": "nan",
                  "airconditioningcode": "nan",
                  "basementcode": "9.0",
                  "buildingconditioncode": 6,
                  "constructiontypecode": 2,
                  "exteriorwallscode": "nan",
                  "interiorwallscode": "nan",
                  "fireplacecode": "1.0",
                  "floorcovercode": "nan",
                  "garage": "nan",
                  "heatcode": 4,
                  "heatingfueltypecode": "nan",
                  "siteinfluencecode": "nan",
                  "garageparkingnbr": 0,
                  "drivewaycode": "nan",
                  "patiocode": "nan",
                  "poolcode": "nan",
                  "porchcode": "6.0",
                  "buildingqualitycode": 7,
                  "roofcovercode": "nan",
                  "rooftypecode": "nan",
                  "storiesnbrcode": "100.0",
                  "stylecode": "11.0",
                  "sumresidentialunits": 1,
                  "sumbuildingsnbr": 0,
                  "lotnumber": "25",
                  "block": "nan",
                  "municipality": "ARVADA",
                  "subdivisionname": "HIGHLAND HOMES",
                  "meridian": "SEC 10 TWN 03S RNG 69W",
                  "legaldescription": "SECTION 10 TOWNSHIP 03 RANGE 69 SUBDIVISIONCD 343400 SUBDIVISIONNAME HIGHLAND HOMES BLOCK LOT 0025 SIZE: 7341 TRACT VALUE: .1",
                  "fatimestamp": "2020-03-13",
                  "faucidflag": "C",
                  "county": "JEFFERSON",
                  "house_market_exists": true,
                  "datatree_exists": false,
                  "property_internal_exists": false,
                  "ct_key": 8059010308,
                  "_deepnote_index_column": 1
                },
                {
                  "cc_property_id": 138574571,
                  "zipcode_x": 80002,
                  "fips_x": 8059,
                  "sqft": 2127,
                  "property_type_x": "SINGLE",
                  "has_central_air": false,
                  "has_jacuzzi": false,
                  "has_pool": false,
                  "has_solar": false,
                  "has_garage": false,
                  "list_date": "2017-09-28",
                  "sale_date": "2017-10-31",
                  "sale_price_per_sqft": 217.20733427362484,
                  "farm_score": 100,
                  "median_rental_price": 2385,
                  "pop_density": 3317.321845,
                  "first_time_homebuyer_score": 100,
                  "retirement_friendly_score": 66.918255,
                  "young_single_professional_score": 43.566921,
                  "college_student_friendly_score": 67.42143,
                  "violent_crime_rate": 2.764467,
                  "walk": 0.0152439024390243,
                  "public_transportation": 0.0164634146341463,
                  "carpool": 0.0807926829268292,
                  "rex_property_id": 306630429,
                  "rex_property_guid": "a3f79845ae2f41d4a9679c1b1421f57d",
                  "data_source": "first_american",
                  "match_full_street_address": "5235 TABOR ST",
                  "address_1_pos": 5235,
                  "address_2_pos": "TABOR",
                  "address_3_pos": "ST",
                  "random_property_id": 23874612,
                  "zipcode_y": 80002,
                  "property_type_y": "SINGLE",
                  "fips_y": 8059,
                  "formattedapn": "39-171-05-111",
                  "taxaccountnumber": "148042",
                  "situsstdfullstreetaddress": "5235 TABOR ST",
                  "situsstdhousenbr": 5235,
                  "situsstddirectionleft": "nan",
                  "situsstdstreet": "TABOR",
                  "situsstdmode": "ST",
                  "situsstdunittype": "nan",
                  "situsstdunitnbr": "nan",
                  "situsstdcity": "ARVADA",
                  "situsstdstate": "CO",
                  "situsstdzip5": 80002,
                  "situsstdzip4": 1909,
                  "situsstdcarriercode": "C017",
                  "situslatitude": 39.791685,
                  "situslongitude": -105.130879,
                  "situsgeostatuscode": "B",
                  "propertyclassid": "R",
                  "stdlandusecode": 1001,
                  "statelandusecode": 1112,
                  "countylandusecode": 201,
                  "zoning": "nan",
                  "situscensustract": 10308,
                  "schooldistrictname": "Jefferson County School District R-1",
                  "lotsizefrontagefeet": "nan",
                  "lotsizedepthfeet": 0,
                  "lotsizeacres": 195,
                  "lotsizesqft": 8494,
                  "ownerstd1corpind": "nan",
                  "ownerstd1lastname": "FLAGSTEAD",
                  "ownerstd1firstname": "JEFFREY",
                  "ownerstd1middlename": "nan",
                  "ownerstd2lastname": "MIESEN",
                  "ownerstd2firstname": "RACHAEL",
                  "ownerstd2middlename": "nan",
                  "ownerstdname1full": "FLAGSTEAD JEFFREY",
                  "ownerstdname2full": "MIESEN RACHAEL",
                  "owneroccupied": "Y",
                  "ownerstd1ownershiprights": "JT",
                  "mailingstdfullstreetaddress": "5235 TABOR ST",
                  "mailingstdhousenbr": "5235",
                  "mailingstddirectionleft": "nan",
                  "mailingstdstreet": "TABOR",
                  "mailingstdmode": "ST",
                  "mailingstdunittype": "nan",
                  "mailingstdunitnbr": "nan",
                  "mailingstdcity": "ARVADA",
                  "mailingstdstate": "CO",
                  "mailingstdzip5": 80002,
                  "mailingstdzip4": 1909,
                  "mailingstdcarriercode": "C017",
                  "mailingoptout": "nan",
                  "assdtotalvalue": 33226,
                  "assdlandvalue": 12147,
                  "assdimprovementvalue": 21079,
                  "markettotalvalue": 464695,
                  "marketvalueland": 169885,
                  "marketvalueimprovement": 294810,
                  "taxamount": 3093,
                  "taxyear": 2019,
                  "taxdeliquentyear1": "nan",
                  "assdyear": 2019,
                  "taxratecodearea": "nan",
                  "schooltaxdistrict1code": "nan",
                  "schooltaxdistrict2code": "nan",
                  "schooltaxdistrict3code": "nan",
                  "buildingarea": 1387,
                  "buildingareaind": "E",
                  "sumbuildingsqft": 1387,
                  "sumlivingareasqft": 2128,
                  "sumgrossareasqft": "nan",
                  "sumadjareasqft": "2128.0",
                  "sumbasementsqft": "nan",
                  "sumgaragesqft": "473.0",
                  "yearbuilt": 1978,
                  "effectiveyearbuilt": 2015,
                  "bedrooms": 3,
                  "totalrooms": 10,
                  "bathtotalcalc": 3,
                  "bathfull": 1,
                  "bathsparcialnbr": 0,
                  "bathfixturesnbr": "nan",
                  "airconditioningcode": "4.0",
                  "basementcode": "nan",
                  "buildingconditioncode": 3,
                  "constructiontypecode": 6,
                  "exteriorwallscode": "nan",
                  "interiorwallscode": "nan",
                  "fireplacecode": "1.0",
                  "floorcovercode": "nan",
                  "garage": "1.0",
                  "heatcode": 4,
                  "heatingfueltypecode": "nan",
                  "siteinfluencecode": "nan",
                  "garageparkingnbr": 2,
                  "drivewaycode": "nan",
                  "patiocode": "nan",
                  "poolcode": "nan",
                  "porchcode": "nan",
                  "buildingqualitycode": 4,
                  "roofcovercode": "13.0",
                  "rooftypecode": "nan",
                  "storiesnbrcode": "nan",
                  "stylecode": "41.0",
                  "sumresidentialunits": 1,
                  "sumbuildingsnbr": 0,
                  "lotnumber": "23",
                  "block": "nan",
                  "municipality": "ARVADA",
                  "subdivisionname": "RAINBOW RIDGE FLG # 2",
                  "meridian": "SEC 17 TWN 03S RNG 69W",
                  "legaldescription": "SECTION 17 TOWNSHIP 03 RANGE 69 QTR NE SUBDIVISIONCD62040 0 SUBDIVISIONNAME RAINBOW RIDGE FLG # 2 BLOCK LOT 0023 SIZE:8490 TRACT VALUE: .195",
                  "fatimestamp": "2020-03-13",
                  "faucidflag": "C",
                  "county": "JEFFERSON",
                  "house_market_exists": true,
                  "datatree_exists": false,
                  "property_internal_exists": false,
                  "ct_key": 8059010308,
                  "_deepnote_index_column": 2
                }
              ],
              "rows_bottom": [
                {
                  "cc_property_id": 510422199,
                  "zipcode_x": 80602,
                  "fips_x": 8001,
                  "sqft": 1672,
                  "property_type_x": "CONDO",
                  "has_central_air": false,
                  "has_jacuzzi": false,
                  "has_pool": false,
                  "has_solar": false,
                  "has_garage": false,
                  "list_date": "2019-04-04",
                  "sale_date": "2019-05-17",
                  "sale_price_per_sqft": 197.9665071770335,
                  "farm_score": 100,
                  "median_rental_price": 1923,
                  "pop_density": 3147.582231,
                  "first_time_homebuyer_score": 7.676922999999999,
                  "retirement_friendly_score": 83.744398,
                  "young_single_professional_score": 44.831191,
                  "college_student_friendly_score": 30.092936,
                  "violent_crime_rate": 2.001334,
                  "walk": 0.0070175438596491,
                  "public_transportation": 0.0105263157894736,
                  "carpool": 0.0666666666666666,
                  "rex_property_id": 302469851,
                  "rex_property_guid": "d1a422e7017c4337ab7a0af7f98e4988",
                  "data_source": "first_american",
                  "match_full_street_address": "12794 LEYDEN ST UNIT D",
                  "address_1_pos": 12794,
                  "address_2_pos": "LEYDEN",
                  "address_3_pos": "ST",
                  "random_property_id": 22328050,
                  "zipcode_y": 80602,
                  "property_type_y": "CONDO",
                  "fips_y": 8001,
                  "formattedapn": "R0179650",
                  "taxaccountnumber": "R0179650",
                  "situsstdfullstreetaddress": "12794 LEYDEN ST UNIT D",
                  "situsstdhousenbr": 12794,
                  "situsstddirectionleft": "nan",
                  "situsstdstreet": "LEYDEN",
                  "situsstdmode": "ST",
                  "situsstdunittype": "UNIT",
                  "situsstdunitnbr": "D",
                  "situsstdcity": "THORNTON",
                  "situsstdstate": "CO",
                  "situsstdzip5": 80602,
                  "situsstdzip4": 5272,
                  "situsstdcarriercode": "R022",
                  "situslatitude": 39.927335,
                  "situslongitude": -104.912868,
                  "situsgeostatuscode": "B",
                  "propertyclassid": "R",
                  "stdlandusecode": 1004,
                  "statelandusecode": "nan",
                  "countylandusecode": 1230,
                  "zoning": "nan",
                  "situscensustract": 8548,
                  "schooldistrictname": "Brighton School District 27J",
                  "lotsizefrontagefeet": "nan",
                  "lotsizedepthfeet": 0,
                  "lotsizeacres": 37,
                  "lotsizesqft": 1612,
                  "ownerstd1corpind": "nan",
                  "ownerstd1lastname": "KATSIMPAS",
                  "ownerstd1firstname": "KYAN",
                  "ownerstd1middlename": "nan",
                  "ownerstd2lastname": "SANDOR",
                  "ownerstd2firstname": "KARI",
                  "ownerstd2middlename": "nan",
                  "ownerstdname1full": "KATSIMPAS KYAN",
                  "ownerstdname2full": "SANDOR KARI",
                  "owneroccupied": "Y",
                  "ownerstd1ownershiprights": "nan",
                  "mailingstdfullstreetaddress": "12794 LEYDEN ST Unit D",
                  "mailingstdhousenbr": 12794,
                  "mailingstddirectionleft": "nan",
                  "mailingstdstreet": "LEYDEN",
                  "mailingstdmode": "ST",
                  "mailingstdunittype": "UNIT",
                  "mailingstdunitnbr": "D",
                  "mailingstdcity": "THORNTON",
                  "mailingstdstate": "CO",
                  "mailingstdzip5": "80602.0",
                  "mailingstdzip4": 5272,
                  "mailingstdcarriercode": "R022",
                  "mailingoptout": "nan",
                  "assdtotalvalue": 23910,
                  "assdlandvalue": 4500,
                  "assdimprovementvalue": 19410,
                  "markettotalvalue": 334531,
                  "marketvalueland": 63000,
                  "marketvalueimprovement": 271531,
                  "taxamount": 3536,
                  "taxyear": 2019,
                  "taxdeliquentyear1": "nan",
                  "assdyear": 2019,
                  "taxratecodearea": 305,
                  "schooltaxdistrict1code": "nan",
                  "schooltaxdistrict2code": "nan",
                  "schooltaxdistrict3code": "nan",
                  "buildingarea": 1672,
                  "buildingareaind": "L",
                  "sumbuildingsqft": 1672,
                  "sumlivingareasqft": 1672,
                  "sumgrossareasqft": "nan",
                  "sumadjareasqft": "nan",
                  "sumbasementsqft": "nan",
                  "sumgaragesqft": "440.0",
                  "yearbuilt": 2014,
                  "effectiveyearbuilt": 2014,
                  "bedrooms": 3,
                  "totalrooms": 6,
                  "bathtotalcalc": 2.5,
                  "bathfull": 3,
                  "bathsparcialnbr": 1,
                  "bathfixturesnbr": 11,
                  "airconditioningcode": 1,
                  "basementcode": "nan",
                  "buildingconditioncode": 6,
                  "constructiontypecode": 6,
                  "exteriorwallscode": 19,
                  "interiorwallscode": 3,
                  "fireplacecode": "1.0",
                  "floorcovercode": "nan",
                  "garage": "1.0",
                  "heatcode": "nan",
                  "heatingfueltypecode": "nan",
                  "siteinfluencecode": "nan",
                  "garageparkingnbr": 2,
                  "drivewaycode": "nan",
                  "patiocode": "nan",
                  "poolcode": "nan",
                  "porchcode": 7,
                  "buildingqualitycode": 7,
                  "roofcovercode": 3,
                  "rooftypecode": 1,
                  "storiesnbrcode": 200,
                  "stylecode": "29.0",
                  "sumresidentialunits": 6,
                  "sumbuildingsnbr": 0,
                  "lotnumber": "3",
                  "block": "nan",
                  "municipality": "nan",
                  "subdivisionname": "ASH MEADOWS AT SAGE CREEK",
                  "meridian": "SEC 32 QTR 2 TWN 01S RNG 67W",
                  "legaldescription": "ASH MEADOWS AT SAGE CREEK FILING NO 1 AMENDMENT NO 2 LOT 3",
                  "fatimestamp": "2020-04-01",
                  "faucidflag": "C",
                  "county": "ADAMS",
                  "house_market_exists": true,
                  "datatree_exists": false,
                  "property_internal_exists": false,
                  "ct_key": 8001008548,
                  "_deepnote_index_column": 203388
                },
                {
                  "cc_property_id": 332257664,
                  "zipcode_x": 80602,
                  "fips_x": 8001,
                  "sqft": 1446,
                  "property_type_x": "MULTI_FAMILY",
                  "has_central_air": false,
                  "has_jacuzzi": false,
                  "has_pool": false,
                  "has_solar": false,
                  "has_garage": false,
                  "list_date": "2019-06-27",
                  "sale_date": "2019-07-23",
                  "sale_price_per_sqft": 204.70262793914247,
                  "farm_score": 100,
                  "median_rental_price": 1923,
                  "pop_density": 3147.582231,
                  "first_time_homebuyer_score": 7.676922999999999,
                  "retirement_friendly_score": 83.744398,
                  "young_single_professional_score": 44.831191,
                  "college_student_friendly_score": 30.092936,
                  "violent_crime_rate": 2.001334,
                  "walk": 0.0070175438596491,
                  "public_transportation": 0.0105263157894736,
                  "carpool": 0.0666666666666666,
                  "rex_property_id": 221979131,
                  "rex_property_guid": "60a0707439fc44ee9a158b52481a8c5b",
                  "data_source": "first_american",
                  "match_full_street_address": "12777 IVANHOE ST",
                  "address_1_pos": 12777,
                  "address_2_pos": "IVANHOE",
                  "address_3_pos": "ST",
                  "random_property_id": 22319359,
                  "zipcode_y": 80602,
                  "property_type_y": "MULTI_FAMILY",
                  "fips_y": 8001,
                  "formattedapn": "R0160195",
                  "taxaccountnumber": "R0160195",
                  "situsstdfullstreetaddress": "12777 IVANHOE ST",
                  "situsstdhousenbr": 12777,
                  "situsstddirectionleft": "nan",
                  "situsstdstreet": "IVANHOE",
                  "situsstdmode": "ST",
                  "situsstdunittype": "nan",
                  "situsstdunitnbr": "nan",
                  "situsstdcity": "THORNTON",
                  "situsstdstate": "CO",
                  "situsstdzip5": 80602,
                  "situsstdzip4": 4685,
                  "situsstdcarriercode": "R022",
                  "situslatitude": 39.92756,
                  "situslongitude": -104.92136,
                  "situsgeostatuscode": "B",
                  "propertyclassid": "R",
                  "stdlandusecode": 1002,
                  "statelandusecode": "nan",
                  "countylandusecode": 68,
                  "zoning": "nan",
                  "situscensustract": 8548,
                  "schooldistrictname": "Brighton School District 27J",
                  "lotsizefrontagefeet": "nan",
                  "lotsizedepthfeet": 0,
                  "lotsizeacres": 51,
                  "lotsizesqft": 2222,
                  "ownerstd1corpind": "nan",
                  "ownerstd1lastname": "BOBRICK",
                  "ownerstd1firstname": "DANELLE",
                  "ownerstd1middlename": "RENAE",
                  "ownerstd2lastname": "nan",
                  "ownerstd2firstname": "nan",
                  "ownerstd2middlename": "nan",
                  "ownerstdname1full": "BOBRICK DANELLE RENAE",
                  "ownerstdname2full": "nan",
                  "owneroccupied": "Y",
                  "ownerstd1ownershiprights": "nan",
                  "mailingstdfullstreetaddress": "12777 IVANHOE ST",
                  "mailingstdhousenbr": 12777,
                  "mailingstddirectionleft": "nan",
                  "mailingstdstreet": "IVANHOE",
                  "mailingstdmode": "ST",
                  "mailingstdunittype": "nan",
                  "mailingstdunitnbr": "nan",
                  "mailingstdcity": "THORNTON",
                  "mailingstdstate": "CO",
                  "mailingstdzip5": "80602.0",
                  "mailingstdzip4": 4685,
                  "mailingstdcarriercode": "R022",
                  "mailingoptout": "nan",
                  "assdtotalvalue": 20840,
                  "assdlandvalue": 4150,
                  "assdimprovementvalue": 16690,
                  "markettotalvalue": 291490,
                  "marketvalueland": 58000,
                  "marketvalueimprovement": 233490,
                  "taxamount": 1508,
                  "taxyear": 2019,
                  "taxdeliquentyear1": "nan",
                  "assdyear": 2019,
                  "taxratecodearea": 272,
                  "schooltaxdistrict1code": "nan",
                  "schooltaxdistrict2code": "nan",
                  "schooltaxdistrict3code": "nan",
                  "buildingarea": 1446,
                  "buildingareaind": "L",
                  "sumbuildingsqft": 1446,
                  "sumlivingareasqft": 1446,
                  "sumgrossareasqft": "nan",
                  "sumadjareasqft": "1446.0",
                  "sumbasementsqft": "nan",
                  "sumgaragesqft": "nan",
                  "yearbuilt": 2006,
                  "effectiveyearbuilt": 2006,
                  "bedrooms": 3,
                  "totalrooms": 9,
                  "bathtotalcalc": 1.5,
                  "bathfull": 1,
                  "bathsparcialnbr": 1,
                  "bathfixturesnbr": 9,
                  "airconditioningcode": 1,
                  "basementcode": "nan",
                  "buildingconditioncode": 6,
                  "constructiontypecode": 6,
                  "exteriorwallscode": 12,
                  "interiorwallscode": 3,
                  "fireplacecode": "1.0",
                  "floorcovercode": "nan",
                  "garage": "nan",
                  "heatcode": "nan",
                  "heatingfueltypecode": "nan",
                  "siteinfluencecode": "nan",
                  "garageparkingnbr": 0,
                  "drivewaycode": "nan",
                  "patiocode": "nan",
                  "poolcode": "nan",
                  "porchcode": 7,
                  "buildingqualitycode": 7,
                  "roofcovercode": 3,
                  "rooftypecode": 1,
                  "storiesnbrcode": 200,
                  "stylecode": "35.0",
                  "sumresidentialunits": 6,
                  "sumbuildingsnbr": 0,
                  "lotnumber": "4",
                  "block": "2",
                  "municipality": "nan",
                  "subdivisionname": "SAGE CREEK FILING NO 2",
                  "meridian": "SEC 32 QTR 2 TWN 01S RNG 67W",
                  "legaldescription": "SUB:SAGE CREEK FILING NO 2 BLK:2 LOT:4",
                  "fatimestamp": "2020-04-01",
                  "faucidflag": "C",
                  "county": "ADAMS",
                  "house_market_exists": true,
                  "datatree_exists": false,
                  "property_internal_exists": false,
                  "ct_key": 8001008548,
                  "_deepnote_index_column": 203389
                },
                {
                  "cc_property_id": 138171200,
                  "zipcode_x": 80640,
                  "fips_x": 8001,
                  "sqft": 1754,
                  "property_type_x": "SINGLE",
                  "has_central_air": false,
                  "has_jacuzzi": false,
                  "has_pool": false,
                  "has_solar": false,
                  "has_garage": false,
                  "list_date": "2016-08-12",
                  "sale_date": "2016-09-28",
                  "sale_price_per_sqft": 182.44013683010263,
                  "farm_score": 0,
                  "median_rental_price": 1220,
                  "pop_density": 1307.892557,
                  "first_time_homebuyer_score": 57.32355,
                  "retirement_friendly_score": 69.171547,
                  "young_single_professional_score": 56.43804100000001,
                  "college_student_friendly_score": 12.436416,
                  "violent_crime_rate": 1,
                  "walk": 0.0559440559440559,
                  "public_transportation": 0.016083916083916,
                  "carpool": 0.0531468531468531,
                  "rex_property_id": 304357539,
                  "rex_property_guid": "14f7315a5cec44f796bc6b4e3fb88127",
                  "data_source": "first_american",
                  "match_full_street_address": "11421 IOLA ST",
                  "address_1_pos": 11421,
                  "address_2_pos": "IOLA",
                  "address_3_pos": "ST",
                  "random_property_id": 22382266,
                  "zipcode_y": 80640,
                  "property_type_y": "SINGLE",
                  "fips_y": 8001,
                  "formattedapn": "R0137933",
                  "taxaccountnumber": "R0137933",
                  "situsstdfullstreetaddress": "11421 IOLA ST",
                  "situsstdhousenbr": 11421,
                  "situsstddirectionleft": "nan",
                  "situsstdstreet": "IOLA",
                  "situsstdmode": "ST",
                  "situsstdunittype": "nan",
                  "situsstdunitnbr": "nan",
                  "situsstdcity": "COMMERCE CITY",
                  "situsstdstate": "CO",
                  "situsstdzip5": 80640,
                  "situsstdzip4": 7680,
                  "situsstdcarriercode": "R004",
                  "situslatitude": 39.903759,
                  "situslongitude": -104.862449,
                  "situsgeostatuscode": "B",
                  "propertyclassid": "R",
                  "stdlandusecode": 1001,
                  "statelandusecode": "nan",
                  "countylandusecode": 8,
                  "zoning": "nan",
                  "situscensustract": 8537,
                  "schooldistrictname": "Brighton School District 27J",
                  "lotsizefrontagefeet": "nan",
                  "lotsizedepthfeet": 0,
                  "lotsizeacres": 130,
                  "lotsizesqft": 5663,
                  "ownerstd1corpind": "nan",
                  "ownerstd1lastname": "JONES",
                  "ownerstd1firstname": "JUSTIN",
                  "ownerstd1middlename": "TYLER",
                  "ownerstd2lastname": "SANCHEZ",
                  "ownerstd2firstname": "JONES",
                  "ownerstd2middlename": "VERONICA",
                  "ownerstdname1full": "JONES JUSTIN TYLER",
                  "ownerstdname2full": "SANCHEZ JONES VERONICA",
                  "owneroccupied": "Y",
                  "ownerstd1ownershiprights": "nan",
                  "mailingstdfullstreetaddress": "11421 IOLA ST",
                  "mailingstdhousenbr": 11421,
                  "mailingstddirectionleft": "nan",
                  "mailingstdstreet": "IOLA",
                  "mailingstdmode": "ST",
                  "mailingstdunittype": "nan",
                  "mailingstdunitnbr": "nan",
                  "mailingstdcity": "COMMERCE CITY",
                  "mailingstdstate": "CO",
                  "mailingstdzip5": "80640",
                  "mailingstdzip4": 7680,
                  "mailingstdcarriercode": "R004",
                  "mailingoptout": "nan",
                  "assdtotalvalue": 24910,
                  "assdlandvalue": 6510,
                  "assdimprovementvalue": 18400,
                  "markettotalvalue": 348348,
                  "marketvalueland": 91000,
                  "marketvalueimprovement": 257348,
                  "taxamount": 2143,
                  "taxyear": 2019,
                  "taxdeliquentyear1": "nan",
                  "assdyear": 2019,
                  "taxratecodearea": 364,
                  "schooltaxdistrict1code": "nan",
                  "schooltaxdistrict2code": "nan",
                  "schooltaxdistrict3code": "nan",
                  "buildingarea": 1754,
                  "buildingareaind": "L",
                  "sumbuildingsqft": 1754,
                  "sumlivingareasqft": 1754,
                  "sumgrossareasqft": "nan",
                  "sumadjareasqft": "2366.0",
                  "sumbasementsqft": "612.0",
                  "sumgaragesqft": "380.0",
                  "yearbuilt": 2003,
                  "effectiveyearbuilt": 2003,
                  "bedrooms": 4,
                  "totalrooms": 8,
                  "bathtotalcalc": 2.5,
                  "bathfull": 2,
                  "bathsparcialnbr": 1,
                  "bathfixturesnbr": 14,
                  "airconditioningcode": 1,
                  "basementcode": "9.0",
                  "buildingconditioncode": 6,
                  "constructiontypecode": 6,
                  "exteriorwallscode": 19,
                  "interiorwallscode": 3,
                  "fireplacecode": "nan",
                  "floorcovercode": "nan",
                  "garage": "1.0",
                  "heatcode": "4.0",
                  "heatingfueltypecode": "nan",
                  "siteinfluencecode": "nan",
                  "garageparkingnbr": 1,
                  "drivewaycode": "nan",
                  "patiocode": "nan",
                  "poolcode": "nan",
                  "porchcode": 8,
                  "buildingqualitycode": 7,
                  "roofcovercode": 3,
                  "rooftypecode": 1,
                  "storiesnbrcode": 200,
                  "stylecode": "nan",
                  "sumresidentialunits": 0,
                  "sumbuildingsnbr": 0,
                  "lotnumber": "21",
                  "block": "5",
                  "municipality": "nan",
                  "subdivisionname": "RIVER RUN FILING NO 4",
                  "meridian": "SEC 02 QTR 3 TWN 02S RNG 67W",
                  "legaldescription": "SUB:RIVER RUN FILING NO 4 BLK:5 LOT:21",
                  "fatimestamp": "2020-04-01",
                  "faucidflag": "C",
                  "county": "ADAMS",
                  "house_market_exists": true,
                  "datatree_exists": false,
                  "property_internal_exists": false,
                  "ct_key": 8001008537,
                  "_deepnote_index_column": 203390
                }
              ]
            },
            "text/plain": "        cc_property_id  zipcode_x  fips_x    sqft property_type_x  \\\n0            138560546      80002  8059.0  1687.0          SINGLE   \n1            138555680      80002  8059.0  2220.0          SINGLE   \n2            138574571      80002  8059.0  2127.0          SINGLE   \n3            138574571      80002  8059.0  2127.0          SINGLE   \n4            138567704      80002  8059.0  1549.0          SINGLE   \n...                ...        ...     ...     ...             ...   \n203386       351494549      80602  8001.0  1672.0           CONDO   \n203387       510422199      80602  8001.0  1672.0           CONDO   \n203388       510422199      80602  8001.0  1672.0           CONDO   \n203389       332257664      80602  8001.0  1446.0    MULTI_FAMILY   \n203390       138171200      80640  8001.0  1754.0          SINGLE   \n\n        has_central_air  has_jacuzzi  has_pool  has_solar  has_garage  ...  \\\n0                 False        False     False      False       False  ...   \n1                 False        False     False      False       False  ...   \n2                 False        False     False      False       False  ...   \n3                 False        False     False      False       False  ...   \n4                 False        False     False      False       False  ...   \n...                 ...          ...       ...        ...         ...  ...   \n203386            False        False     False      False       False  ...   \n203387            False        False     False      False       False  ...   \n203388            False        False     False      False       False  ...   \n203389            False        False     False      False       False  ...   \n203390            False        False     False      False       False  ...   \n\n                  subdivisionname                      meridian  \\\n0                       SHACKLEYS        SEC 11 TWN 03S RNG 69W   \n1                  HIGHLAND HOMES        SEC 10 TWN 03S RNG 69W   \n2           RAINBOW RIDGE FLG # 2        SEC 17 TWN 03S RNG 69W   \n3           RAINBOW RIDGE FLG # 2        SEC 17 TWN 03S RNG 69W   \n4                     CLARA BELLE        SEC 15 TWN 03S RNG 69W   \n...                           ...                           ...   \n203386      ASH MEADOWS TOWNHOMES  SEC 32 QTR 2 TWN 01S RNG 67W   \n203387  ASH MEADOWS AT SAGE CREEK  SEC 32 QTR 2 TWN 01S RNG 67W   \n203388  ASH MEADOWS AT SAGE CREEK  SEC 32 QTR 2 TWN 01S RNG 67W   \n203389     SAGE CREEK FILING NO 2  SEC 32 QTR 2 TWN 01S RNG 67W   \n203390      RIVER RUN FILING NO 4  SEC 02 QTR 3 TWN 02S RNG 67W   \n\n                                         legaldescription  fatimestamp  \\\n0       SECTION 11 TOWNSHIP 03 RANGE 69 QTR SW SUBDIVI...   2020-07-22   \n1       SECTION 10 TOWNSHIP 03 RANGE 69 SUBDIVISIONCD ...   2020-03-13   \n2       SECTION 17 TOWNSHIP 03 RANGE 69 QTR NE SUBDIVI...   2020-03-13   \n3       SECTION 17 TOWNSHIP 03 RANGE 69 QTR NE SUBDIVI...   2020-03-13   \n4       SECTION 15 TOWNSHIP 03 RANGE 69 SUBDIVISIONCD ...   2020-04-27   \n...                                                   ...          ...   \n203386    CONDO: ASH MEADOWS TOWNHOMES UNIT:D DESC:BLDG A   2020-04-01   \n203387  ASH MEADOWS AT SAGE CREEK FILING NO 1 AMENDMEN...   2020-04-01   \n203388  ASH MEADOWS AT SAGE CREEK FILING NO 1 AMENDMEN...   2020-04-01   \n203389             SUB:SAGE CREEK FILING NO 2 BLK:2 LOT:4   2020-04-01   \n203390             SUB:RIVER RUN FILING NO 4 BLK:5 LOT:21   2020-04-01   \n\n        faucidflag     county  house_market_exists  datatree_exists  \\\n0                C  JEFFERSON                 True            False   \n1                C  JEFFERSON                 True            False   \n2                C  JEFFERSON                 True            False   \n3                C  JEFFERSON                 True            False   \n4                C  JEFFERSON                 True            False   \n...            ...        ...                  ...              ...   \n203386           C      ADAMS                 True            False   \n203387           C      ADAMS                 True            False   \n203388           C      ADAMS                 True            False   \n203389           C      ADAMS                 True            False   \n203390           C      ADAMS                 True            False   \n\n        property_internal_exists        ct_key  \n0                          False  8.059010e+09  \n1                          False  8.059010e+09  \n2                          False  8.059010e+09  \n3                          False  8.059010e+09  \n4                          False  8.059010e+09  \n...                          ...           ...  \n203386                     False  8.001009e+09  \n203387                     False  8.001009e+09  \n203388                     False  8.001009e+09  \n203389                     False  8.001009e+09  \n203390                     False  8.001009e+09  \n\n[203391 rows x 154 columns]",
            "text/html": "<div>\n<style scoped>\n    .dataframe tbody tr th:only-of-type {\n        vertical-align: middle;\n    }\n\n    .dataframe tbody tr th {\n        vertical-align: top;\n    }\n\n    .dataframe thead th {\n        text-align: right;\n    }\n</style>\n<table border=\"1\" class=\"dataframe\">\n  <thead>\n    <tr style=\"text-align: right;\">\n      <th></th>\n      <th>cc_property_id</th>\n      <th>zipcode_x</th>\n      <th>fips_x</th>\n      <th>sqft</th>\n      <th>property_type_x</th>\n      <th>has_central_air</th>\n      <th>has_jacuzzi</th>\n      <th>has_pool</th>\n      <th>has_solar</th>\n      <th>has_garage</th>\n      <th>...</th>\n      <th>subdivisionname</th>\n      <th>meridian</th>\n      <th>legaldescription</th>\n      <th>fatimestamp</th>\n      <th>faucidflag</th>\n      <th>county</th>\n      <th>house_market_exists</th>\n      <th>datatree_exists</th>\n      <th>property_internal_exists</th>\n      <th>ct_key</th>\n    </tr>\n  </thead>\n  <tbody>\n    <tr>\n      <th>0</th>\n      <td>138560546</td>\n      <td>80002</td>\n      <td>8059.0</td>\n      <td>1687.0</td>\n      <td>SINGLE</td>\n      <td>False</td>\n      <td>False</td>\n      <td>False</td>\n      <td>False</td>\n      <td>False</td>\n      <td>...</td>\n      <td>SHACKLEYS</td>\n      <td>SEC 11 TWN 03S RNG 69W</td>\n      <td>SECTION 11 TOWNSHIP 03 RANGE 69 QTR SW SUBDIVI...</td>\n      <td>2020-07-22</td>\n      <td>C</td>\n      <td>JEFFERSON</td>\n      <td>True</td>\n      <td>False</td>\n      <td>False</td>\n      <td>8.059010e+09</td>\n    </tr>\n    <tr>\n      <th>1</th>\n      <td>138555680</td>\n      <td>80002</td>\n      <td>8059.0</td>\n      <td>2220.0</td>\n      <td>SINGLE</td>\n      <td>False</td>\n      <td>False</td>\n      <td>False</td>\n      <td>False</td>\n      <td>False</td>\n      <td>...</td>\n      <td>HIGHLAND HOMES</td>\n      <td>SEC 10 TWN 03S RNG 69W</td>\n      <td>SECTION 10 TOWNSHIP 03 RANGE 69 SUBDIVISIONCD ...</td>\n      <td>2020-03-13</td>\n      <td>C</td>\n      <td>JEFFERSON</td>\n      <td>True</td>\n      <td>False</td>\n      <td>False</td>\n      <td>8.059010e+09</td>\n    </tr>\n    <tr>\n      <th>2</th>\n      <td>138574571</td>\n      <td>80002</td>\n      <td>8059.0</td>\n      <td>2127.0</td>\n      <td>SINGLE</td>\n      <td>False</td>\n      <td>False</td>\n      <td>False</td>\n      <td>False</td>\n      <td>False</td>\n      <td>...</td>\n      <td>RAINBOW RIDGE FLG # 2</td>\n      <td>SEC 17 TWN 03S RNG 69W</td>\n      <td>SECTION 17 TOWNSHIP 03 RANGE 69 QTR NE SUBDIVI...</td>\n      <td>2020-03-13</td>\n      <td>C</td>\n      <td>JEFFERSON</td>\n      <td>True</td>\n      <td>False</td>\n      <td>False</td>\n      <td>8.059010e+09</td>\n    </tr>\n    <tr>\n      <th>3</th>\n      <td>138574571</td>\n      <td>80002</td>\n      <td>8059.0</td>\n      <td>2127.0</td>\n      <td>SINGLE</td>\n      <td>False</td>\n      <td>False</td>\n      <td>False</td>\n      <td>False</td>\n      <td>False</td>\n      <td>...</td>\n      <td>RAINBOW RIDGE FLG # 2</td>\n      <td>SEC 17 TWN 03S RNG 69W</td>\n      <td>SECTION 17 TOWNSHIP 03 RANGE 69 QTR NE SUBDIVI...</td>\n      <td>2020-03-13</td>\n      <td>C</td>\n      <td>JEFFERSON</td>\n      <td>True</td>\n      <td>False</td>\n      <td>False</td>\n      <td>8.059010e+09</td>\n    </tr>\n    <tr>\n      <th>4</th>\n      <td>138567704</td>\n      <td>80002</td>\n      <td>8059.0</td>\n      <td>1549.0</td>\n      <td>SINGLE</td>\n      <td>False</td>\n      <td>False</td>\n      <td>False</td>\n      <td>False</td>\n      <td>False</td>\n      <td>...</td>\n      <td>CLARA BELLE</td>\n      <td>SEC 15 TWN 03S RNG 69W</td>\n      <td>SECTION 15 TOWNSHIP 03 RANGE 69 SUBDIVISIONCD ...</td>\n      <td>2020-04-27</td>\n      <td>C</td>\n      <td>JEFFERSON</td>\n      <td>True</td>\n      <td>False</td>\n      <td>False</td>\n      <td>8.059010e+09</td>\n    </tr>\n    <tr>\n      <th>...</th>\n      <td>...</td>\n      <td>...</td>\n      <td>...</td>\n      <td>...</td>\n      <td>...</td>\n      <td>...</td>\n      <td>...</td>\n      <td>...</td>\n      <td>...</td>\n      <td>...</td>\n      <td>...</td>\n      <td>...</td>\n      <td>...</td>\n      <td>...</td>\n      <td>...</td>\n      <td>...</td>\n      <td>...</td>\n      <td>...</td>\n      <td>...</td>\n      <td>...</td>\n      <td>...</td>\n    </tr>\n    <tr>\n      <th>203386</th>\n      <td>351494549</td>\n      <td>80602</td>\n      <td>8001.0</td>\n      <td>1672.0</td>\n      <td>CONDO</td>\n      <td>False</td>\n      <td>False</td>\n      <td>False</td>\n      <td>False</td>\n      <td>False</td>\n      <td>...</td>\n      <td>ASH MEADOWS TOWNHOMES</td>\n      <td>SEC 32 QTR 2 TWN 01S RNG 67W</td>\n      <td>CONDO: ASH MEADOWS TOWNHOMES UNIT:D DESC:BLDG A</td>\n      <td>2020-04-01</td>\n      <td>C</td>\n      <td>ADAMS</td>\n      <td>True</td>\n      <td>False</td>\n      <td>False</td>\n      <td>8.001009e+09</td>\n    </tr>\n    <tr>\n      <th>203387</th>\n      <td>510422199</td>\n      <td>80602</td>\n      <td>8001.0</td>\n      <td>1672.0</td>\n      <td>CONDO</td>\n      <td>False</td>\n      <td>False</td>\n      <td>False</td>\n      <td>False</td>\n      <td>False</td>\n      <td>...</td>\n      <td>ASH MEADOWS AT SAGE CREEK</td>\n      <td>SEC 32 QTR 2 TWN 01S RNG 67W</td>\n      <td>ASH MEADOWS AT SAGE CREEK FILING NO 1 AMENDMEN...</td>\n      <td>2020-04-01</td>\n      <td>C</td>\n      <td>ADAMS</td>\n      <td>True</td>\n      <td>False</td>\n      <td>False</td>\n      <td>8.001009e+09</td>\n    </tr>\n    <tr>\n      <th>203388</th>\n      <td>510422199</td>\n      <td>80602</td>\n      <td>8001.0</td>\n      <td>1672.0</td>\n      <td>CONDO</td>\n      <td>False</td>\n      <td>False</td>\n      <td>False</td>\n      <td>False</td>\n      <td>False</td>\n      <td>...</td>\n      <td>ASH MEADOWS AT SAGE CREEK</td>\n      <td>SEC 32 QTR 2 TWN 01S RNG 67W</td>\n      <td>ASH MEADOWS AT SAGE CREEK FILING NO 1 AMENDMEN...</td>\n      <td>2020-04-01</td>\n      <td>C</td>\n      <td>ADAMS</td>\n      <td>True</td>\n      <td>False</td>\n      <td>False</td>\n      <td>8.001009e+09</td>\n    </tr>\n    <tr>\n      <th>203389</th>\n      <td>332257664</td>\n      <td>80602</td>\n      <td>8001.0</td>\n      <td>1446.0</td>\n      <td>MULTI_FAMILY</td>\n      <td>False</td>\n      <td>False</td>\n      <td>False</td>\n      <td>False</td>\n      <td>False</td>\n      <td>...</td>\n      <td>SAGE CREEK FILING NO 2</td>\n      <td>SEC 32 QTR 2 TWN 01S RNG 67W</td>\n      <td>SUB:SAGE CREEK FILING NO 2 BLK:2 LOT:4</td>\n      <td>2020-04-01</td>\n      <td>C</td>\n      <td>ADAMS</td>\n      <td>True</td>\n      <td>False</td>\n      <td>False</td>\n      <td>8.001009e+09</td>\n    </tr>\n    <tr>\n      <th>203390</th>\n      <td>138171200</td>\n      <td>80640</td>\n      <td>8001.0</td>\n      <td>1754.0</td>\n      <td>SINGLE</td>\n      <td>False</td>\n      <td>False</td>\n      <td>False</td>\n      <td>False</td>\n      <td>False</td>\n      <td>...</td>\n      <td>RIVER RUN FILING NO 4</td>\n      <td>SEC 02 QTR 3 TWN 02S RNG 67W</td>\n      <td>SUB:RIVER RUN FILING NO 4 BLK:5 LOT:21</td>\n      <td>2020-04-01</td>\n      <td>C</td>\n      <td>ADAMS</td>\n      <td>True</td>\n      <td>False</td>\n      <td>False</td>\n      <td>8.001009e+09</td>\n    </tr>\n  </tbody>\n</table>\n<p>203391 rows × 154 columns</p>\n</div>"
          },
          "metadata": {}
        }
      ]
    },
    {
      "cell_type": "code",
      "metadata": {
        "tags": [],
        "cell_id": "00003-cff8a606-e033-4fcc-ae7a-cd9bae953183",
        "deepnote_to_be_reexecuted": true,
        "source_hash": "d497926c",
        "execution_millis": 3,
        "deepnote_cell_type": "code"
      },
      "source": "#find out how many columns they share\ncount = 0\nshared_columns = []\nfor i in df1.columns:\n    if i in df2.columns:\n        shared_columns.append(i)\n        count+=1\n",
      "execution_count": null,
      "outputs": []
    },
    {
      "cell_type": "code",
      "metadata": {
        "tags": [],
        "cell_id": "00005-b2a0e8ef-4a0d-4ad1-8854-813525ee8ae9",
        "deepnote_to_be_reexecuted": true,
        "source_hash": "c9e58adc",
        "execution_millis": 1,
        "deepnote_cell_type": "code"
      },
      "source": "print('========================')\nprint('They share this many columns:', count)",
      "execution_count": null,
      "outputs": [
        {
          "name": "stdout",
          "text": "========================\nThey share this many columns: 70\n",
          "output_type": "stream"
        }
      ]
    },
    {
      "cell_type": "code",
      "metadata": {
        "tags": [],
        "cell_id": "00005-2f2d16d4-c1f0-43a5-96bb-ac639d2cea0e",
        "deepnote_to_be_reexecuted": true,
        "source_hash": "7f2bbc0b",
        "execution_millis": 99,
        "deepnote_cell_type": "code"
      },
      "source": "#we now need to join the two dataframe\ndf3 = pd.concat([df1,df2], axis=0)\n",
      "execution_count": null,
      "outputs": [
        {
          "output_type": "error",
          "ename": "NameError",
          "evalue": "name 'pd' is not defined",
          "traceback": [
            "\u001b[0;31m---------------------------------------------------------------------------\u001b[0m",
            "\u001b[0;31mNameError\u001b[0m                                 Traceback (most recent call last)",
            "\u001b[0;32m<ipython-input-1-8df49b9387b7>\u001b[0m in \u001b[0;36m<module>\u001b[0;34m\u001b[0m\n\u001b[1;32m      1\u001b[0m \u001b[0;31m#we now need to join the two dataframe\u001b[0m\u001b[0;34m\u001b[0m\u001b[0;34m\u001b[0m\u001b[0;34m\u001b[0m\u001b[0m\n\u001b[0;32m----> 2\u001b[0;31m \u001b[0mdf3\u001b[0m \u001b[0;34m=\u001b[0m \u001b[0mpd\u001b[0m\u001b[0;34m.\u001b[0m\u001b[0mconcat\u001b[0m\u001b[0;34m(\u001b[0m\u001b[0;34m[\u001b[0m\u001b[0mdf1\u001b[0m\u001b[0;34m,\u001b[0m\u001b[0mdf2\u001b[0m\u001b[0;34m]\u001b[0m\u001b[0;34m,\u001b[0m \u001b[0maxis\u001b[0m\u001b[0;34m=\u001b[0m\u001b[0;36m0\u001b[0m\u001b[0;34m)\u001b[0m\u001b[0;34m\u001b[0m\u001b[0;34m\u001b[0m\u001b[0m\n\u001b[0m",
            "\u001b[0;31mNameError\u001b[0m: name 'pd' is not defined"
          ]
        }
      ]
    },
    {
      "cell_type": "code",
      "metadata": {
        "tags": [],
        "cell_id": "00011-07b46c86-5c2e-4741-b9cd-d4940890e345",
        "deepnote_to_be_reexecuted": true,
        "source_hash": "aa76e70b",
        "deepnote_cell_type": "code"
      },
      "source": " ",
      "execution_count": null,
      "outputs": []
    },
    {
      "cell_type": "markdown",
      "source": "<a style='text-decoration:none;line-height:16px;display:flex;color:#5B5B62;padding:10px;justify-content:end;' href='https://deepnote.com?utm_source=created-in-deepnote-cell&projectId=1c850c61-d934-4c85-b16d-3cb283df0c84' target=\"_blank\">\n<img style='display:inline;max-height:16px;margin:0px;margin-right:7.5px;' src='data:image/svg+xml;base64,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' > </img>\nCreated in <span style='font-weight:600;margin-left:4px;'>Deepnote</span></a>",
      "metadata": {
        "tags": [],
        "created_in_deepnote_cell": true,
        "deepnote_cell_type": "markdown"
      }
    }
  ],
  "nbformat": 4,
  "nbformat_minor": 4,
  "metadata": {
    "kernelspec": {
      "display_name": "Python 3",
      "language": "python",
      "name": "python3"
    },
    "language_info": {
      "codemirror_mode": {
        "name": "ipython",
        "version": 3
      },
      "file_extension": ".py",
      "mimetype": "text/x-python",
      "name": "python",
      "nbconvert_exporter": "python",
      "pygments_lexer": "ipython3",
      "version": "3.8.3"
    },
    "deepnote_notebook_id": "c5e14c34-0f97-4432-8eab-61254ac9ccf1",
    "deepnote": {},
    "deepnote_execution_queue": []
  }
}