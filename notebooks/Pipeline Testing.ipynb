{
 "cells": [
  {
   "cell_type": "code",
   "execution_count": 1,
   "metadata": {},
   "outputs": [],
   "source": [
    "import sys\n",
    "sys.path.insert(0, '../scripts/')\n",
    "\n",
    "import numpy as np\n",
    "import pandas as pd\n",
    "\n",
    "from data_pipeline import clean_dataset\n",
    "%matplotlib inline"
   ]
  },
  {
   "cell_type": "code",
   "execution_count": 2,
   "metadata": {},
   "outputs": [
    {
     "name": "stderr",
     "output_type": "stream",
     "text": [
      "/Users/namluu/opt/anaconda3/lib/python3.8/site-packages/IPython/core/interactiveshell.py:3071: DtypeWarning: Columns (5,13,63,72,91,96,99,100,153,158) have mixed types.Specify dtype option on import or set low_memory=False.\n",
      "  has_raised = await self.run_ast_nodes(code_ast.body, cell_name,\n",
      "/Users/namluu/opt/anaconda3/lib/python3.8/site-packages/numpy/lib/arraysetops.py:569: FutureWarning: elementwise comparison failed; returning scalar instead, but in the future will perform elementwise comparison\n",
      "  mask |= (ar1 == a)\n"
     ]
    }
   ],
   "source": [
    "df = pd.read_csv('../data/denver_property_residence.csv', index_col=0)"
   ]
  },
  {
   "cell_type": "code",
   "execution_count": 3,
   "metadata": {},
   "outputs": [
    {
     "name": "stdout",
     "output_type": "stream",
     "text": [
      "<class 'pandas.core.frame.DataFrame'>\n",
      "Int64Index: 1385998 entries, 0 to 1385997\n",
      "Columns: 179 entries, rex_property_id to property_internal_exists\n",
      "dtypes: bool(3), float64(79), int64(14), object(83)\n",
      "memory usage: 1.8+ GB\n"
     ]
    }
   ],
   "source": [
    "df.info()"
   ]
  },
  {
   "cell_type": "code",
   "execution_count": 4,
   "metadata": {},
   "outputs": [
    {
     "name": "stdout",
     "output_type": "stream",
     "text": [
      "========= Finish step 1 ===========\n",
      "========= Finish step 2 ===========\n",
      "========= Finish step 3 ===========\n",
      "<class 'pandas.core.frame.DataFrame'>\n",
      "RangeIndex: 1385998 entries, 0 to 1385997\n",
      "Data columns (total 73 columns):\n",
      " #   Column                       Non-Null Count    Dtype  \n",
      "---  ------                       --------------    -----  \n",
      " 0   rex_property_id              1385998 non-null  float64\n",
      " 1   property_id                  1385998 non-null  float64\n",
      " 2   zipcode                      1385998 non-null  float64\n",
      " 3   fips                         1385998 non-null  float64\n",
      " 4   situsstdzip5                 1385998 non-null  float64\n",
      " 5   situsstdzip4                 1385998 non-null  float64\n",
      " 6   situslatitude                1385998 non-null  float64\n",
      " 7   situslongitude               1385998 non-null  float64\n",
      " 8   stdlandusecode               1385998 non-null  float64\n",
      " 9   situscensustract             1385998 non-null  float64\n",
      " 10  lotsizedepthfeet             1385998 non-null  float64\n",
      " 11  lotsizeacres                 1385998 non-null  float64\n",
      " 12  lotsizesqft                  1385998 non-null  float64\n",
      " 13  mailingstdzip4               1385998 non-null  float64\n",
      " 14  assdtotalvalue               1385998 non-null  float64\n",
      " 15  assdlandvalue                1385998 non-null  float64\n",
      " 16  assdimprovementvalue         1385998 non-null  float64\n",
      " 17  markettotalvalue             1385998 non-null  float64\n",
      " 18  marketvalueland              1385998 non-null  float64\n",
      " 19  marketvalueimprovement       1385998 non-null  float64\n",
      " 20  taxamount                    1385998 non-null  float64\n",
      " 21  assdyear                     1385998 non-null  float64\n",
      " 22  buildingarea                 1385998 non-null  float64\n",
      " 23  sumbuildingsqft              1385998 non-null  float64\n",
      " 24  sumlivingareasqft            1385998 non-null  float64\n",
      " 25  yearbuilt                    1385998 non-null  float64\n",
      " 26  effectiveyearbuilt           1385998 non-null  float64\n",
      " 27  bedrooms                     1385998 non-null  float64\n",
      " 28  totalrooms                   1385998 non-null  float64\n",
      " 29  bathtotalcalc                1385998 non-null  float64\n",
      " 30  bathfull                     1385998 non-null  float64\n",
      " 31  bathsparcialnbr              1385998 non-null  float64\n",
      " 32  heatcode                     1385998 non-null  float64\n",
      " 33  garageparkingnbr             1385998 non-null  float64\n",
      " 34  storiesnbrcode               1385998 non-null  float64\n",
      " 35  sumresidentialunits          1385998 non-null  float64\n",
      " 36  sumbuildingsnbr              1385998 non-null  float64\n",
      " 37  data_source                  1385998 non-null  float64\n",
      " 38  match_full_street_address    1385998 non-null  float64\n",
      " 39  address_1_pos                1385998 non-null  float64\n",
      " 40  address_2_pos                1385998 non-null  float64\n",
      " 41  address_3_pos                1385998 non-null  float64\n",
      " 42  formattedapn                 1385998 non-null  float64\n",
      " 43  situsstdfullstreetaddress    1385998 non-null  float64\n",
      " 44  situsstdhousenbr             1385998 non-null  float64\n",
      " 45  situsstdstreet               1385998 non-null  float64\n",
      " 46  situsstdmode                 1385998 non-null  float64\n",
      " 47  situsstdcity                 1385998 non-null  float64\n",
      " 48  situsstdstate                1385998 non-null  float64\n",
      " 49  situsstdcarriercode          1385998 non-null  float64\n",
      " 50  situsgeostatuscode           1385998 non-null  float64\n",
      " 51  propertyclassid              1385998 non-null  float64\n",
      " 52  countylandusecode            1385998 non-null  float64\n",
      " 53  schooldistrictname           1385998 non-null  float64\n",
      " 54  ownerstd1lastname            1385998 non-null  float64\n",
      " 55  ownerstd1firstname           1385998 non-null  float64\n",
      " 56  ownerstdname1full            1385998 non-null  float64\n",
      " 57  mailingstdfullstreetaddress  1385998 non-null  float64\n",
      " 58  mailingstdhousenbr           1385998 non-null  float64\n",
      " 59  mailingstdstreet             1385998 non-null  float64\n",
      " 60  mailingstdmode               1385998 non-null  float64\n",
      " 61  mailingstdcity               1385998 non-null  float64\n",
      " 62  mailingstdstate              1385998 non-null  float64\n",
      " 63  mailingstdzip5               1385998 non-null  float64\n",
      " 64  mailingstdcarriercode        1385998 non-null  float64\n",
      " 65  buildingareaind              1385998 non-null  float64\n",
      " 66  subdivisionname              1385998 non-null  float64\n",
      " 67  legaldescription             1385998 non-null  float64\n",
      " 68  fatimestamp                  1385998 non-null  float64\n",
      " 69  faucidflag                   1385998 non-null  float64\n",
      " 70  house_market_exists          1385998 non-null  float64\n",
      " 71  datatree_exists              1385998 non-null  float64\n",
      " 72  property_internal_exists     1385998 non-null  float64\n",
      "dtypes: float64(73)\n",
      "memory usage: 771.9 MB\n",
      "None\n"
     ]
    }
   ],
   "source": [
    "df = clean_dataset(df)"
   ]
  }
 ],
 "metadata": {
  "kernelspec": {
   "display_name": "Python 3",
   "language": "python",
   "name": "python3"
  },
  "language_info": {
   "codemirror_mode": {
    "name": "ipython",
    "version": 3
   },
   "file_extension": ".py",
   "mimetype": "text/x-python",
   "name": "python",
   "nbconvert_exporter": "python",
   "pygments_lexer": "ipython3",
   "version": "3.8.3"
  }
 },
 "nbformat": 4,
 "nbformat_minor": 4
}
