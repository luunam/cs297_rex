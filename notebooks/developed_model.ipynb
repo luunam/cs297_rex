{
  "cells": [
    {
      "cell_type": "code",
      "metadata": {
        "cell_id": "00000-e13b2b55-2f0e-4735-9939-62bfee01234f",
        "deepnote_to_be_reexecuted": false,
        "execution_millis": 4,
        "source_hash": "1fac4e4b",
        "tags": [],
        "execution_start": 1615232132670,
        "deepnote_cell_type": "code"
      },
      "source": "#required packages\nimport numpy as np\nimport pandas as pd\nimport sklearn as sk\nimport matplotlib.pyplot as plt\nfrom pymc3 import Model\nimport pymc3 as pm\nimport theano.tensor as tt\nimport datetime\nfrom IPython.display import display, Markdown",
      "execution_count": null,
      "outputs": []
    },
    {
      "cell_type": "code",
      "metadata": {
        "cell_id": "00001-216b7791-d385-4a93-8d38-ef58ec0c446f",
        "deepnote_to_be_reexecuted": false,
        "execution_millis": 211,
        "source_hash": "dc4b6949",
        "tags": [],
        "execution_start": 1615232147016,
        "deepnote_cell_type": "code"
      },
      "source": "# Load dataset\ndf = pd.read_csv('../data/archives/denver_prop_listing_clean.csv')\n\n#convert to datetime format\ndf[\"list_date\"] = pd.to_datetime(df[\"list_date\"])\ndf[\"sale_date\"] = pd.to_datetime(df[\"sale_date\"])",
      "execution_count": null,
      "outputs": []
    },
    {
      "cell_type": "code",
      "metadata": {
        "cell_id": "00002-eb4923cb-5de1-41f1-903a-8ddaf37e33ad",
        "deepnote_to_be_reexecuted": false,
        "execution_millis": 13,
        "source_hash": "1492d9d",
        "tags": [],
        "execution_start": 1615232148628,
        "deepnote_cell_type": "code"
      },
      "source": "mapping = {k: v for v, k in enumerate(df.property_type.unique())}\nmapping",
      "execution_count": null,
      "outputs": [
        {
          "output_type": "execute_result",
          "execution_count": 5,
          "data": {
            "text/plain": "{'SINGLE': 0,\n 'CONDO': 1,\n 'OTHER': 2,\n 'MULTI_FAMILY': 3,\n 'TOWNHOUSE': 4,\n 'LAND': 5}"
          },
          "metadata": {}
        }
      ]
    },
    {
      "cell_type": "code",
      "metadata": {
        "cell_id": "00003-77105aa4-55c4-45ae-9ef7-2f6bc7f18320",
        "deepnote_to_be_reexecuted": false,
        "execution_millis": 4,
        "source_hash": "1994339",
        "tags": [],
        "execution_start": 1615232150979,
        "deepnote_cell_type": "code"
      },
      "source": "df['property_type_code'] = df['property_type'].map(mapping)",
      "execution_count": null,
      "outputs": []
    },
    {
      "cell_type": "code",
      "metadata": {
        "cell_id": "00004-fec1a249-3448-4509-80e8-a3ba2664d0ce",
        "deepnote_to_be_reexecuted": false,
        "execution_millis": 43,
        "source_hash": "c085b6ba",
        "tags": [],
        "execution_start": 1615232151242,
        "deepnote_cell_type": "code"
      },
      "source": "df.head()",
      "execution_count": null,
      "outputs": [
        {
          "name": "stderr",
          "text": "/shared-libs/python3.7/py/lib/python3.7/site-packages/numpy/lib/histograms.py:822: RuntimeWarning: divide by zero encountered in double_scalars\n  norm = n_equal_bins / _unsigned_subtract(last_edge, first_edge)\n/shared-libs/python3.7/py/lib/python3.7/site-packages/numpy/lib/histograms.py:850: RuntimeWarning: invalid value encountered in multiply\n  f_indices = _unsigned_subtract(tmp_a, first_edge) * norm\n",
          "output_type": "stream"
        },
        {
          "output_type": "execute_result",
          "execution_count": 7,
          "data": {
            "application/vnd.deepnote.dataframe.v2+json": {
              "row_count": 5,
              "column_count": 20,
              "columns": [
                {
                  "name": "property_id",
                  "dtype": "int64",
                  "stats": {
                    "unique_count": 5,
                    "nan_count": 0,
                    "min": 138564524,
                    "max": 138574001,
                    "histogram": [
                      {
                        "bin_start": 138564524,
                        "bin_end": 138565471.7,
                        "count": 1
                      },
                      {
                        "bin_start": 138565471.7,
                        "bin_end": 138566419.4,
                        "count": 0
                      },
                      {
                        "bin_start": 138566419.4,
                        "bin_end": 138567367.1,
                        "count": 0
                      },
                      {
                        "bin_start": 138567367.1,
                        "bin_end": 138568314.8,
                        "count": 1
                      },
                      {
                        "bin_start": 138568314.8,
                        "bin_end": 138569262.5,
                        "count": 0
                      },
                      {
                        "bin_start": 138569262.5,
                        "bin_end": 138570210.2,
                        "count": 0
                      },
                      {
                        "bin_start": 138570210.2,
                        "bin_end": 138571157.9,
                        "count": 0
                      },
                      {
                        "bin_start": 138571157.9,
                        "bin_end": 138572105.6,
                        "count": 0
                      },
                      {
                        "bin_start": 138572105.6,
                        "bin_end": 138573053.3,
                        "count": 1
                      },
                      {
                        "bin_start": 138573053.3,
                        "bin_end": 138574001,
                        "count": 2
                      }
                    ]
                  }
                },
                {
                  "name": "zipcode",
                  "dtype": "int64",
                  "stats": {
                    "unique_count": 1,
                    "nan_count": 0,
                    "min": 80002,
                    "max": 80002,
                    "histogram": [
                      {
                        "bin_start": 80001.5,
                        "bin_end": 80001.6,
                        "count": 0
                      },
                      {
                        "bin_start": 80001.6,
                        "bin_end": 80001.7,
                        "count": 0
                      },
                      {
                        "bin_start": 80001.7,
                        "bin_end": 80001.8,
                        "count": 0
                      },
                      {
                        "bin_start": 80001.8,
                        "bin_end": 80001.9,
                        "count": 0
                      },
                      {
                        "bin_start": 80001.9,
                        "bin_end": 80002,
                        "count": 0
                      },
                      {
                        "bin_start": 80002,
                        "bin_end": 80002.1,
                        "count": 5
                      },
                      {
                        "bin_start": 80002.1,
                        "bin_end": 80002.2,
                        "count": 0
                      },
                      {
                        "bin_start": 80002.2,
                        "bin_end": 80002.3,
                        "count": 0
                      },
                      {
                        "bin_start": 80002.3,
                        "bin_end": 80002.4,
                        "count": 0
                      },
                      {
                        "bin_start": 80002.4,
                        "bin_end": 80002.5,
                        "count": 0
                      }
                    ]
                  }
                },
                {
                  "name": "fips",
                  "dtype": "float64",
                  "stats": {
                    "unique_count": 1,
                    "nan_count": 0,
                    "min": 8059,
                    "max": 8059,
                    "histogram": [
                      {
                        "bin_start": 8058.5,
                        "bin_end": 8058.6,
                        "count": 0
                      },
                      {
                        "bin_start": 8058.6,
                        "bin_end": 8058.7,
                        "count": 0
                      },
                      {
                        "bin_start": 8058.7,
                        "bin_end": 8058.8,
                        "count": 0
                      },
                      {
                        "bin_start": 8058.8,
                        "bin_end": 8058.9,
                        "count": 0
                      },
                      {
                        "bin_start": 8058.9,
                        "bin_end": 8059,
                        "count": 0
                      },
                      {
                        "bin_start": 8059,
                        "bin_end": 8059.1,
                        "count": 5
                      },
                      {
                        "bin_start": 8059.1,
                        "bin_end": 8059.2,
                        "count": 0
                      },
                      {
                        "bin_start": 8059.2,
                        "bin_end": 8059.3,
                        "count": 0
                      },
                      {
                        "bin_start": 8059.3,
                        "bin_end": 8059.4,
                        "count": 0
                      },
                      {
                        "bin_start": 8059.4,
                        "bin_end": 8059.5,
                        "count": 0
                      }
                    ]
                  }
                },
                {
                  "name": "latitude",
                  "dtype": "float64",
                  "stats": {
                    "unique_count": 5,
                    "nan_count": 0,
                    "min": 39.7927,
                    "max": 39.79655,
                    "histogram": [
                      {
                        "bin_start": 39.7927,
                        "bin_end": 39.793085000000005,
                        "count": 1
                      },
                      {
                        "bin_start": 39.793085000000005,
                        "bin_end": 39.793470000000006,
                        "count": 0
                      },
                      {
                        "bin_start": 39.793470000000006,
                        "bin_end": 39.793855,
                        "count": 0
                      },
                      {
                        "bin_start": 39.793855,
                        "bin_end": 39.79424,
                        "count": 1
                      },
                      {
                        "bin_start": 39.79424,
                        "bin_end": 39.794625,
                        "count": 1
                      },
                      {
                        "bin_start": 39.794625,
                        "bin_end": 39.795010000000005,
                        "count": 0
                      },
                      {
                        "bin_start": 39.795010000000005,
                        "bin_end": 39.795395000000006,
                        "count": 0
                      },
                      {
                        "bin_start": 39.795395000000006,
                        "bin_end": 39.79578,
                        "count": 1
                      },
                      {
                        "bin_start": 39.79578,
                        "bin_end": 39.796165,
                        "count": 0
                      },
                      {
                        "bin_start": 39.796165,
                        "bin_end": 39.79655,
                        "count": 1
                      }
                    ]
                  }
                },
                {
                  "name": "longitude",
                  "dtype": "float64",
                  "stats": {
                    "unique_count": 5,
                    "nan_count": 0,
                    "min": -105.13026,
                    "max": -105.06972,
                    "histogram": [
                      {
                        "bin_start": -105.13026,
                        "bin_end": -105.124206,
                        "count": 1
                      },
                      {
                        "bin_start": -105.124206,
                        "bin_end": -105.11815200000001,
                        "count": 1
                      },
                      {
                        "bin_start": -105.11815200000001,
                        "bin_end": -105.112098,
                        "count": 1
                      },
                      {
                        "bin_start": -105.112098,
                        "bin_end": -105.10604400000001,
                        "count": 0
                      },
                      {
                        "bin_start": -105.10604400000001,
                        "bin_end": -105.09999,
                        "count": 0
                      },
                      {
                        "bin_start": -105.09999,
                        "bin_end": -105.093936,
                        "count": 1
                      },
                      {
                        "bin_start": -105.093936,
                        "bin_end": -105.08788200000001,
                        "count": 0
                      },
                      {
                        "bin_start": -105.08788200000001,
                        "bin_end": -105.081828,
                        "count": 0
                      },
                      {
                        "bin_start": -105.081828,
                        "bin_end": -105.07577400000001,
                        "count": 0
                      },
                      {
                        "bin_start": -105.07577400000001,
                        "bin_end": -105.06972,
                        "count": 1
                      }
                    ]
                  }
                },
                {
                  "name": "sqft",
                  "dtype": "float64",
                  "stats": {
                    "unique_count": 5,
                    "nan_count": 0,
                    "min": 1431,
                    "max": 4382,
                    "histogram": [
                      {
                        "bin_start": 1431,
                        "bin_end": 1726.1,
                        "count": 1
                      },
                      {
                        "bin_start": 1726.1,
                        "bin_end": 2021.2,
                        "count": 0
                      },
                      {
                        "bin_start": 2021.2,
                        "bin_end": 2316.3,
                        "count": 1
                      },
                      {
                        "bin_start": 2316.3,
                        "bin_end": 2611.4,
                        "count": 0
                      },
                      {
                        "bin_start": 2611.4,
                        "bin_end": 2906.5,
                        "count": 1
                      },
                      {
                        "bin_start": 2906.5,
                        "bin_end": 3201.6000000000004,
                        "count": 1
                      },
                      {
                        "bin_start": 3201.6000000000004,
                        "bin_end": 3496.7000000000003,
                        "count": 0
                      },
                      {
                        "bin_start": 3496.7000000000003,
                        "bin_end": 3791.8,
                        "count": 0
                      },
                      {
                        "bin_start": 3791.8,
                        "bin_end": 4086.9,
                        "count": 0
                      },
                      {
                        "bin_start": 4086.9,
                        "bin_end": 4382,
                        "count": 1
                      }
                    ]
                  }
                },
                {
                  "name": "property_type",
                  "dtype": "object",
                  "stats": {
                    "unique_count": 1,
                    "nan_count": 0,
                    "categories": [
                      {
                        "name": "SINGLE",
                        "count": 5
                      }
                    ]
                  }
                },
                {
                  "name": "has_central_air",
                  "dtype": "bool",
                  "stats": {
                    "unique_count": 2,
                    "nan_count": 0,
                    "categories": [
                      {
                        "name": "False",
                        "count": 3
                      },
                      {
                        "name": "True",
                        "count": 2
                      }
                    ]
                  }
                },
                {
                  "name": "has_jacuzzi",
                  "dtype": "bool",
                  "stats": {
                    "unique_count": 1,
                    "nan_count": 0,
                    "categories": [
                      {
                        "name": "False",
                        "count": 5
                      }
                    ]
                  }
                },
                {
                  "name": "has_pool",
                  "dtype": "bool",
                  "stats": {
                    "unique_count": 2,
                    "nan_count": 0,
                    "categories": [
                      {
                        "name": "False",
                        "count": 4
                      },
                      {
                        "name": "True",
                        "count": 1
                      }
                    ]
                  }
                },
                {
                  "name": "has_solar",
                  "dtype": "bool",
                  "stats": {
                    "unique_count": 1,
                    "nan_count": 0,
                    "categories": [
                      {
                        "name": "False",
                        "count": 5
                      }
                    ]
                  }
                },
                {
                  "name": "has_garage",
                  "dtype": "bool",
                  "stats": {
                    "unique_count": 2,
                    "nan_count": 0,
                    "categories": [
                      {
                        "name": "True",
                        "count": 3
                      },
                      {
                        "name": "False",
                        "count": 2
                      }
                    ]
                  }
                },
                {
                  "name": "list_date",
                  "dtype": "datetime64[ns]",
                  "stats": {
                    "unique_count": 1,
                    "nan_count": 0,
                    "min": "2020-09-24T00:00:00.000000",
                    "max": "2020-09-24T00:00:00.000000",
                    "histogram": null
                  }
                },
                {
                  "name": "sale_date",
                  "dtype": "datetime64[ns]",
                  "stats": {
                    "unique_count": 5,
                    "nan_count": 0,
                    "min": "2020-10-16T00:00:00.000000",
                    "max": "2020-11-02T00:00:00.000000",
                    "histogram": [
                      {
                        "bin_start": 1602806400000000000,
                        "bin_end": 1602953280000000000,
                        "count": 1
                      },
                      {
                        "bin_start": 1602953280000000000,
                        "bin_end": 1603100160000000000,
                        "count": 1
                      },
                      {
                        "bin_start": 1603100160000000000,
                        "bin_end": 1603247040000000000,
                        "count": 0
                      },
                      {
                        "bin_start": 1603247040000000000,
                        "bin_end": 1603393920000000000,
                        "count": 0
                      },
                      {
                        "bin_start": 1603393920000000000,
                        "bin_end": 1603540800000000000,
                        "count": 0
                      },
                      {
                        "bin_start": 1603540800000000000,
                        "bin_end": 1603687680000000000,
                        "count": 0
                      },
                      {
                        "bin_start": 1603687680000000000,
                        "bin_end": 1603834560000000000,
                        "count": 0
                      },
                      {
                        "bin_start": 1603834560000000000,
                        "bin_end": 1603981440000000000,
                        "count": 2
                      },
                      {
                        "bin_start": 1603981440000000000,
                        "bin_end": 1604128320000000000,
                        "count": 0
                      },
                      {
                        "bin_start": 1604128320000000000,
                        "bin_end": 1604275200000000000,
                        "count": 1
                      }
                    ]
                  }
                },
                {
                  "name": "sale_price",
                  "dtype": "float64",
                  "stats": {
                    "unique_count": 5,
                    "nan_count": 0,
                    "min": 425000,
                    "max": 805000,
                    "histogram": [
                      {
                        "bin_start": 425000,
                        "bin_end": 463000,
                        "count": 1
                      },
                      {
                        "bin_start": 463000,
                        "bin_end": 501000,
                        "count": 0
                      },
                      {
                        "bin_start": 501000,
                        "bin_end": 539000,
                        "count": 0
                      },
                      {
                        "bin_start": 539000,
                        "bin_end": 577000,
                        "count": 0
                      },
                      {
                        "bin_start": 577000,
                        "bin_end": 615000,
                        "count": 1
                      },
                      {
                        "bin_start": 615000,
                        "bin_end": 653000,
                        "count": 1
                      },
                      {
                        "bin_start": 653000,
                        "bin_end": 691000,
                        "count": 1
                      },
                      {
                        "bin_start": 691000,
                        "bin_end": 729000,
                        "count": 0
                      },
                      {
                        "bin_start": 729000,
                        "bin_end": 767000,
                        "count": 0
                      },
                      {
                        "bin_start": 767000,
                        "bin_end": 805000,
                        "count": 1
                      }
                    ]
                  }
                },
                {
                  "name": "bedrooms",
                  "dtype": "float64",
                  "stats": {
                    "unique_count": 2,
                    "nan_count": 0,
                    "min": 4,
                    "max": 5,
                    "histogram": [
                      {
                        "bin_start": 4,
                        "bin_end": 4.1,
                        "count": 4
                      },
                      {
                        "bin_start": 4.1,
                        "bin_end": 4.2,
                        "count": 0
                      },
                      {
                        "bin_start": 4.2,
                        "bin_end": 4.3,
                        "count": 0
                      },
                      {
                        "bin_start": 4.3,
                        "bin_end": 4.4,
                        "count": 0
                      },
                      {
                        "bin_start": 4.4,
                        "bin_end": 4.5,
                        "count": 0
                      },
                      {
                        "bin_start": 4.5,
                        "bin_end": 4.6,
                        "count": 0
                      },
                      {
                        "bin_start": 4.6,
                        "bin_end": 4.7,
                        "count": 0
                      },
                      {
                        "bin_start": 4.7,
                        "bin_end": 4.8,
                        "count": 0
                      },
                      {
                        "bin_start": 4.8,
                        "bin_end": 4.9,
                        "count": 0
                      },
                      {
                        "bin_start": 4.9,
                        "bin_end": 5,
                        "count": 1
                      }
                    ]
                  }
                },
                {
                  "name": "full_baths",
                  "dtype": "float64",
                  "stats": {
                    "unique_count": 3,
                    "nan_count": 0,
                    "min": 1,
                    "max": 3,
                    "histogram": [
                      {
                        "bin_start": 1,
                        "bin_end": 1.2,
                        "count": 1
                      },
                      {
                        "bin_start": 1.2,
                        "bin_end": 1.4,
                        "count": 0
                      },
                      {
                        "bin_start": 1.4,
                        "bin_end": 1.6,
                        "count": 0
                      },
                      {
                        "bin_start": 1.6,
                        "bin_end": 1.8,
                        "count": 0
                      },
                      {
                        "bin_start": 1.8,
                        "bin_end": 2,
                        "count": 0
                      },
                      {
                        "bin_start": 2,
                        "bin_end": 2.2,
                        "count": 3
                      },
                      {
                        "bin_start": 2.2,
                        "bin_end": 2.4000000000000004,
                        "count": 0
                      },
                      {
                        "bin_start": 2.4000000000000004,
                        "bin_end": 2.6,
                        "count": 0
                      },
                      {
                        "bin_start": 2.6,
                        "bin_end": 2.8,
                        "count": 0
                      },
                      {
                        "bin_start": 2.8,
                        "bin_end": 3,
                        "count": 1
                      }
                    ]
                  }
                },
                {
                  "name": "ct_key",
                  "dtype": "float64",
                  "stats": {
                    "unique_count": 2,
                    "nan_count": 0,
                    "min": 8059010308,
                    "max": 8059010406,
                    "histogram": [
                      {
                        "bin_start": 8059010308,
                        "bin_end": 8059010317.8,
                        "count": 4
                      },
                      {
                        "bin_start": 8059010317.8,
                        "bin_end": 8059010327.6,
                        "count": 0
                      },
                      {
                        "bin_start": 8059010327.6,
                        "bin_end": 8059010337.4,
                        "count": 0
                      },
                      {
                        "bin_start": 8059010337.4,
                        "bin_end": 8059010347.2,
                        "count": 0
                      },
                      {
                        "bin_start": 8059010347.2,
                        "bin_end": 8059010357,
                        "count": 0
                      },
                      {
                        "bin_start": 8059010357,
                        "bin_end": 8059010366.8,
                        "count": 0
                      },
                      {
                        "bin_start": 8059010366.8,
                        "bin_end": 8059010376.6,
                        "count": 0
                      },
                      {
                        "bin_start": 8059010376.6,
                        "bin_end": 8059010386.4,
                        "count": 0
                      },
                      {
                        "bin_start": 8059010386.4,
                        "bin_end": 8059010396.2,
                        "count": 0
                      },
                      {
                        "bin_start": 8059010396.2,
                        "bin_end": 8059010406,
                        "count": 1
                      }
                    ]
                  }
                },
                {
                  "name": "sale_price_per_sqft",
                  "dtype": "float64",
                  "stats": {
                    "unique_count": 5,
                    "nan_count": 0,
                    "min": 183.70607028753997,
                    "max": 296.99510831586304,
                    "histogram": [
                      {
                        "bin_start": 183.70607028753997,
                        "bin_end": 195.0349740903723,
                        "count": 1
                      },
                      {
                        "bin_start": 195.0349740903723,
                        "bin_end": 206.36387789320457,
                        "count": 0
                      },
                      {
                        "bin_start": 206.36387789320457,
                        "bin_end": 217.6927816960369,
                        "count": 1
                      },
                      {
                        "bin_start": 217.6927816960369,
                        "bin_end": 229.0216854988692,
                        "count": 0
                      },
                      {
                        "bin_start": 229.0216854988692,
                        "bin_end": 240.35058930170152,
                        "count": 0
                      },
                      {
                        "bin_start": 240.35058930170152,
                        "bin_end": 251.6794931045338,
                        "count": 1
                      },
                      {
                        "bin_start": 251.6794931045338,
                        "bin_end": 263.0083969073661,
                        "count": 0
                      },
                      {
                        "bin_start": 263.0083969073661,
                        "bin_end": 274.3373007101984,
                        "count": 1
                      },
                      {
                        "bin_start": 274.3373007101984,
                        "bin_end": 285.6662045130307,
                        "count": 0
                      },
                      {
                        "bin_start": 285.6662045130307,
                        "bin_end": 296.99510831586304,
                        "count": 1
                      }
                    ]
                  }
                },
                {
                  "name": "property_type_code",
                  "dtype": "int64",
                  "stats": {
                    "unique_count": 1,
                    "nan_count": 0,
                    "min": 0,
                    "max": 0,
                    "histogram": [
                      {
                        "bin_start": -0.5,
                        "bin_end": -0.4,
                        "count": 0
                      },
                      {
                        "bin_start": -0.4,
                        "bin_end": -0.3,
                        "count": 0
                      },
                      {
                        "bin_start": -0.3,
                        "bin_end": -0.19999999999999996,
                        "count": 0
                      },
                      {
                        "bin_start": -0.19999999999999996,
                        "bin_end": -0.09999999999999998,
                        "count": 0
                      },
                      {
                        "bin_start": -0.09999999999999998,
                        "bin_end": 0,
                        "count": 0
                      },
                      {
                        "bin_start": 0,
                        "bin_end": 0.10000000000000009,
                        "count": 5
                      },
                      {
                        "bin_start": 0.10000000000000009,
                        "bin_end": 0.20000000000000007,
                        "count": 0
                      },
                      {
                        "bin_start": 0.20000000000000007,
                        "bin_end": 0.30000000000000004,
                        "count": 0
                      },
                      {
                        "bin_start": 0.30000000000000004,
                        "bin_end": 0.4,
                        "count": 0
                      },
                      {
                        "bin_start": 0.4,
                        "bin_end": 0.5,
                        "count": 0
                      }
                    ]
                  }
                },
                {
                  "name": "_deepnote_index_column",
                  "dtype": "int64"
                }
              ],
              "rows_top": [
                {
                  "property_id": 138574001,
                  "zipcode": 80002,
                  "fips": 8059,
                  "latitude": 39.7927,
                  "longitude": -105.13026,
                  "sqft": 3047,
                  "property_type": "SINGLE",
                  "has_central_air": true,
                  "has_jacuzzi": false,
                  "has_pool": true,
                  "has_solar": false,
                  "has_garage": true,
                  "list_date": "2020-09-24T00:00:00.000000",
                  "sale_date": "2020-11-02T00:00:00.000000",
                  "sale_price": 630000,
                  "bedrooms": 5,
                  "full_baths": 3,
                  "ct_key": 8059010308,
                  "sale_price_per_sqft": 206.76074827699372,
                  "property_type_code": 0,
                  "_deepnote_index_column": 0
                },
                {
                  "property_id": 138573806,
                  "zipcode": 80002,
                  "fips": 8059,
                  "latitude": 39.79424,
                  "longitude": -105.12171,
                  "sqft": 4382,
                  "property_type": "SINGLE",
                  "has_central_air": true,
                  "has_jacuzzi": false,
                  "has_pool": false,
                  "has_solar": false,
                  "has_garage": true,
                  "list_date": "2020-09-24T00:00:00.000000",
                  "sale_date": "2020-10-29T00:00:00.000000",
                  "sale_price": 805000,
                  "bedrooms": 4,
                  "full_baths": 2,
                  "ct_key": 8059010308,
                  "sale_price_per_sqft": 183.70607028753997,
                  "property_type_code": 0,
                  "_deepnote_index_column": 1
                },
                {
                  "property_id": 138572945,
                  "zipcode": 80002,
                  "fips": 8059,
                  "latitude": 39.79565,
                  "longitude": -105.11674,
                  "sqft": 2654,
                  "property_type": "SINGLE",
                  "has_central_air": false,
                  "has_jacuzzi": false,
                  "has_pool": false,
                  "has_solar": false,
                  "has_garage": true,
                  "list_date": "2020-09-24T00:00:00.000000",
                  "sale_date": "2020-10-19T00:00:00.000000",
                  "sale_price": 665000,
                  "bedrooms": 4,
                  "full_baths": 2,
                  "ct_key": 8059010308,
                  "sale_price_per_sqft": 250.56518462697812,
                  "property_type_code": 0,
                  "_deepnote_index_column": 2
                },
                {
                  "property_id": 138568013,
                  "zipcode": 80002,
                  "fips": 8059,
                  "latitude": 39.79655,
                  "longitude": -105.09923,
                  "sqft": 2265,
                  "property_type": "SINGLE",
                  "has_central_air": false,
                  "has_jacuzzi": false,
                  "has_pool": false,
                  "has_solar": false,
                  "has_garage": false,
                  "list_date": "2020-09-24T00:00:00.000000",
                  "sale_date": "2020-10-28T00:00:00.000000",
                  "sale_price": 607000,
                  "bedrooms": 4,
                  "full_baths": 2,
                  "ct_key": 8059010308,
                  "sale_price_per_sqft": 267.9911699779249,
                  "property_type_code": 0,
                  "_deepnote_index_column": 3
                },
                {
                  "property_id": 138564524,
                  "zipcode": 80002,
                  "fips": 8059,
                  "latitude": 39.79399,
                  "longitude": -105.06972,
                  "sqft": 1431,
                  "property_type": "SINGLE",
                  "has_central_air": false,
                  "has_jacuzzi": false,
                  "has_pool": false,
                  "has_solar": false,
                  "has_garage": false,
                  "list_date": "2020-09-24T00:00:00.000000",
                  "sale_date": "2020-10-16T00:00:00.000000",
                  "sale_price": 425000,
                  "bedrooms": 4,
                  "full_baths": 1,
                  "ct_key": 8059010406,
                  "sale_price_per_sqft": 296.99510831586304,
                  "property_type_code": 0,
                  "_deepnote_index_column": 4
                }
              ],
              "rows_bottom": null
            },
            "text/plain": "   property_id  zipcode    fips  latitude  longitude    sqft property_type  \\\n0    138574001    80002  8059.0  39.79270 -105.13026  3047.0        SINGLE   \n1    138573806    80002  8059.0  39.79424 -105.12171  4382.0        SINGLE   \n2    138572945    80002  8059.0  39.79565 -105.11674  2654.0        SINGLE   \n3    138568013    80002  8059.0  39.79655 -105.09923  2265.0        SINGLE   \n4    138564524    80002  8059.0  39.79399 -105.06972  1431.0        SINGLE   \n\n   has_central_air  has_jacuzzi  has_pool  has_solar  has_garage  list_date  \\\n0             True        False      True      False        True 2020-09-24   \n1             True        False     False      False        True 2020-09-24   \n2            False        False     False      False        True 2020-09-24   \n3            False        False     False      False       False 2020-09-24   \n4            False        False     False      False       False 2020-09-24   \n\n   sale_date  sale_price  bedrooms  full_baths        ct_key  \\\n0 2020-11-02    630000.0       5.0         3.0  8.059010e+09   \n1 2020-10-29    805000.0       4.0         2.0  8.059010e+09   \n2 2020-10-19    665000.0       4.0         2.0  8.059010e+09   \n3 2020-10-28    607000.0       4.0         2.0  8.059010e+09   \n4 2020-10-16    425000.0       4.0         1.0  8.059010e+09   \n\n   sale_price_per_sqft  property_type_code  \n0           206.760748                   0  \n1           183.706070                   0  \n2           250.565185                   0  \n3           267.991170                   0  \n4           296.995108                   0  ",
            "text/html": "<div>\n<style scoped>\n    .dataframe tbody tr th:only-of-type {\n        vertical-align: middle;\n    }\n\n    .dataframe tbody tr th {\n        vertical-align: top;\n    }\n\n    .dataframe thead th {\n        text-align: right;\n    }\n</style>\n<table border=\"1\" class=\"dataframe\">\n  <thead>\n    <tr style=\"text-align: right;\">\n      <th></th>\n      <th>property_id</th>\n      <th>zipcode</th>\n      <th>fips</th>\n      <th>latitude</th>\n      <th>longitude</th>\n      <th>sqft</th>\n      <th>property_type</th>\n      <th>has_central_air</th>\n      <th>has_jacuzzi</th>\n      <th>has_pool</th>\n      <th>has_solar</th>\n      <th>has_garage</th>\n      <th>list_date</th>\n      <th>sale_date</th>\n      <th>sale_price</th>\n      <th>bedrooms</th>\n      <th>full_baths</th>\n      <th>ct_key</th>\n      <th>sale_price_per_sqft</th>\n      <th>property_type_code</th>\n    </tr>\n  </thead>\n  <tbody>\n    <tr>\n      <th>0</th>\n      <td>138574001</td>\n      <td>80002</td>\n      <td>8059.0</td>\n      <td>39.79270</td>\n      <td>-105.13026</td>\n      <td>3047.0</td>\n      <td>SINGLE</td>\n      <td>True</td>\n      <td>False</td>\n      <td>True</td>\n      <td>False</td>\n      <td>True</td>\n      <td>2020-09-24</td>\n      <td>2020-11-02</td>\n      <td>630000.0</td>\n      <td>5.0</td>\n      <td>3.0</td>\n      <td>8.059010e+09</td>\n      <td>206.760748</td>\n      <td>0</td>\n    </tr>\n    <tr>\n      <th>1</th>\n      <td>138573806</td>\n      <td>80002</td>\n      <td>8059.0</td>\n      <td>39.79424</td>\n      <td>-105.12171</td>\n      <td>4382.0</td>\n      <td>SINGLE</td>\n      <td>True</td>\n      <td>False</td>\n      <td>False</td>\n      <td>False</td>\n      <td>True</td>\n      <td>2020-09-24</td>\n      <td>2020-10-29</td>\n      <td>805000.0</td>\n      <td>4.0</td>\n      <td>2.0</td>\n      <td>8.059010e+09</td>\n      <td>183.706070</td>\n      <td>0</td>\n    </tr>\n    <tr>\n      <th>2</th>\n      <td>138572945</td>\n      <td>80002</td>\n      <td>8059.0</td>\n      <td>39.79565</td>\n      <td>-105.11674</td>\n      <td>2654.0</td>\n      <td>SINGLE</td>\n      <td>False</td>\n      <td>False</td>\n      <td>False</td>\n      <td>False</td>\n      <td>True</td>\n      <td>2020-09-24</td>\n      <td>2020-10-19</td>\n      <td>665000.0</td>\n      <td>4.0</td>\n      <td>2.0</td>\n      <td>8.059010e+09</td>\n      <td>250.565185</td>\n      <td>0</td>\n    </tr>\n    <tr>\n      <th>3</th>\n      <td>138568013</td>\n      <td>80002</td>\n      <td>8059.0</td>\n      <td>39.79655</td>\n      <td>-105.09923</td>\n      <td>2265.0</td>\n      <td>SINGLE</td>\n      <td>False</td>\n      <td>False</td>\n      <td>False</td>\n      <td>False</td>\n      <td>False</td>\n      <td>2020-09-24</td>\n      <td>2020-10-28</td>\n      <td>607000.0</td>\n      <td>4.0</td>\n      <td>2.0</td>\n      <td>8.059010e+09</td>\n      <td>267.991170</td>\n      <td>0</td>\n    </tr>\n    <tr>\n      <th>4</th>\n      <td>138564524</td>\n      <td>80002</td>\n      <td>8059.0</td>\n      <td>39.79399</td>\n      <td>-105.06972</td>\n      <td>1431.0</td>\n      <td>SINGLE</td>\n      <td>False</td>\n      <td>False</td>\n      <td>False</td>\n      <td>False</td>\n      <td>False</td>\n      <td>2020-09-24</td>\n      <td>2020-10-16</td>\n      <td>425000.0</td>\n      <td>4.0</td>\n      <td>1.0</td>\n      <td>8.059010e+09</td>\n      <td>296.995108</td>\n      <td>0</td>\n    </tr>\n  </tbody>\n</table>\n</div>"
          },
          "metadata": {}
        }
      ]
    },
    {
      "cell_type": "code",
      "metadata": {
        "cell_id": "00005-734203ca-b211-4437-93ae-1075f5004811",
        "deepnote_to_be_reexecuted": false,
        "execution_millis": 3,
        "source_hash": "192b12e4",
        "tags": [],
        "execution_start": 1615232152162,
        "deepnote_cell_type": "code"
      },
      "source": "# Sale           331537\n# Withdrawn       48375\n# Active          33218\n# Expired         22163\n# Pending         15960\n# Other             711\n# Foreclosure       316\n# For Rent          123\n# Pending,           95\n# Cancelled          86\n# LOT                70\n# Coming Soon         6",
      "execution_count": null,
      "outputs": []
    },
    {
      "cell_type": "markdown",
      "source": "Current approach is trained on a particular discretized timeframe (say a quarter / 3 months). One potential exploration is to train the heirarchical models on separate discretized quarters and generate a time series on the changing sub-market classifications across the quarters. However, one concern is when a house is sold before a particular quarter and the model would assume that its corresponding sub-market has low supply?",
      "metadata": {
        "cell_id": "00006-6944ef25-1f8c-4bc4-96ef-50c2b5d1bc16",
        "tags": [],
        "deepnote_cell_type": "markdown"
      }
    },
    {
      "cell_type": "code",
      "metadata": {
        "cell_id": "00005-e5012556-dfc1-4858-911d-65828ce0a751",
        "deepnote_to_be_reexecuted": false,
        "execution_millis": 1,
        "source_hash": "b76880cf",
        "tags": [],
        "execution_start": 1615232153059,
        "deepnote_cell_type": "code"
      },
      "source": "def gen_y(t_disc, data, t0=None):\n    ''' \n    t_disc: datetime.timedelta(days = XX)\n    t0: datetime.datetime(YYYY,MM,DD)\n    '''\n\n    if t0 is not None:\n        listed = np.array(((data['list_date'] >= t0) & (data['list_date'] < t0 + t_disc)) | ((data['list_date'] < t0) & (data['sale_date'] >= t0)), dtype=np.int8)\n        sale = np.array((data['sale_date'] >= t0) & (data['sale_date'] < t0 + t_disc), dtype = np.int8)\n        return np.vstack((listed, sale)).T\n    #else:\n        #TODO\n",
      "execution_count": null,
      "outputs": []
    },
    {
      "cell_type": "code",
      "metadata": {
        "cell_id": "00008-120e596f-6170-43ad-b10c-28751ae9c8a8",
        "deepnote_to_be_reexecuted": false,
        "execution_millis": 5,
        "source_hash": "45ebe89",
        "tags": [],
        "execution_start": 1615232154113,
        "deepnote_cell_type": "code"
      },
      "source": "y_2019Q2 = gen_y(datetime.timedelta(days = 90), df, datetime.datetime(2019,4,1))",
      "execution_count": null,
      "outputs": []
    },
    {
      "cell_type": "code",
      "metadata": {
        "cell_id": "00011-20130292-fa60-4527-b7a2-9d518ae4f285",
        "deepnote_to_be_reexecuted": false,
        "execution_millis": 206,
        "source_hash": "4a92d586",
        "tags": [],
        "execution_start": 1615232154559,
        "deepnote_cell_type": "code"
      },
      "source": "sum([y_2019Q2[i,0] > y_2019Q2[i,1] for i in range(y_2019Q2.shape[0])])",
      "execution_count": null,
      "outputs": [
        {
          "output_type": "execute_result",
          "execution_count": 11,
          "data": {
            "text/plain": "5373"
          },
          "metadata": {}
        }
      ]
    },
    {
      "cell_type": "code",
      "metadata": {
        "cell_id": "00010-1aaf4dc3-d97e-49a3-83b3-ad8a19c19ce5",
        "deepnote_to_be_reexecuted": false,
        "execution_millis": 32,
        "source_hash": "4066eb4f",
        "tags": [],
        "execution_start": 1615232155394,
        "deepnote_cell_type": "code"
      },
      "source": "# X = df.drop(columns=['property_id', 'zipcode', 'list_date', 'sale_date', 'current_status', 'property_type', 'has_jacuzzi', 'has_garage'])\nX = df.drop(columns=['property_id', 'zipcode', 'list_date', 'sale_date', 'property_type', 'has_jacuzzi', 'has_garage', 'sale_price', 'ct_key', 'sale_price_per_sqft'])\n\nX.info()",
      "execution_count": null,
      "outputs": [
        {
          "name": "stdout",
          "text": "<class 'pandas.core.frame.DataFrame'>\nRangeIndex: 86787 entries, 0 to 86786\nData columns (total 10 columns):\n #   Column              Non-Null Count  Dtype  \n---  ------              --------------  -----  \n 0   fips                86787 non-null  float64\n 1   latitude            86787 non-null  float64\n 2   longitude           86787 non-null  float64\n 3   sqft                86787 non-null  float64\n 4   has_central_air     86787 non-null  bool   \n 5   has_pool            86787 non-null  bool   \n 6   has_solar           86787 non-null  bool   \n 7   bedrooms            86787 non-null  float64\n 8   full_baths          86787 non-null  float64\n 9   property_type_code  86787 non-null  int64  \ndtypes: bool(3), float64(6), int64(1)\nmemory usage: 4.9 MB\n",
          "output_type": "stream"
        }
      ]
    },
    {
      "cell_type": "code",
      "metadata": {
        "cell_id": "00013-77b4e716-eb5d-4aaa-9449-42ec3555de6d",
        "deepnote_to_be_reexecuted": false,
        "execution_millis": 5,
        "source_hash": "f2895488",
        "tags": [],
        "execution_start": 1615232156652,
        "deepnote_cell_type": "code"
      },
      "source": "X_array = X.to_numpy(dtype=np.float64)",
      "execution_count": null,
      "outputs": []
    },
    {
      "cell_type": "code",
      "metadata": {
        "cell_id": "00015-6b67e2d7-8465-4fef-a7ff-d6b17c764725",
        "deepnote_to_be_reexecuted": false,
        "execution_millis": 0,
        "source_hash": "a66c943",
        "tags": [],
        "execution_start": 1615232157133,
        "deepnote_cell_type": "code"
      },
      "source": "sigmoid = lambda x : 1/(1+np.exp(-x))",
      "execution_count": null,
      "outputs": []
    },
    {
      "cell_type": "code",
      "metadata": {
        "cell_id": "00015-f6009322-53e4-4dd3-9703-e3ad3552695e",
        "deepnote_to_be_reexecuted": false,
        "execution_millis": 8,
        "source_hash": "289259d5",
        "tags": [],
        "execution_start": 1615232157808,
        "deepnote_cell_type": "code"
      },
      "source": "X_array.shape",
      "execution_count": null,
      "outputs": [
        {
          "output_type": "execute_result",
          "execution_count": 15,
          "data": {
            "text/plain": "(86787, 10)"
          },
          "metadata": {}
        }
      ]
    },
    {
      "cell_type": "code",
      "metadata": {
        "cell_id": "00015-456dda79-193d-43c9-ae5e-40ffbc7e1bb8",
        "deepnote_to_be_reexecuted": false,
        "execution_millis": 0,
        "source_hash": "717d8475",
        "tags": [],
        "execution_start": 1615232237589,
        "deepnote_cell_type": "code"
      },
      "source": "# K = 5 # Number of submarkets\n# n_homes, n_features = X_array.shape\n# h_prior_var = 10 # Prior variance of home features\n# b_prior_var = 1  # Prior variance of \"hedonic\" supply / demand regression parameters\n# y_prior_var = 1  # Prior variance of y\n\n# with Model() as baseline_mod:\n\n#     submarket = pm.Categorical('submarket', p=np.ones(K), shape=n_homes)\n\n#     mu_k = pm.Deterministic('mu_k', tt.as_tensor_variable(np.array([np.zeros(n_features) for _ in range(K)])))\n\n#     sigma_k = pm.Deterministic('sigma_k', tt.as_tensor_variable(np.array([h_prior_var * np.eye(n_features) for _ in range(K)])))\n\n#     homes = pm.MvNormal('homes', mu_k[submarket], sigma_k[submarket].reshape((n_features,n_features)), observed=X_array)\n\n#     # Generate betas for \"hedonic\" regression\n#     mu_b = pm.Deterministic('mu_b', tt.as_tensor_variable(np.array([np.zeros(n_features * 2) for _ in range(K)])))\n\n#     sigma_b = pm.Deterministic('sigma_b', tt.as_tensor_variable(np.array([b_prior_var * np.eye(n_features * 2) for _ in range(K)])))\n\n#     beta = pm.MvNormal('betas', mu_b[submarket], sigma_b[submarket].reshape((n_features,n_features)), shape=n_features)\n    \n#     sigma_y = pm.Deterministic('sigma_y', tt.as_tensor_variable(y_prior_var * np.eye(2)))\n\n#     # Final layer\n#     y = pm.MvNormal('y', mu = np.dot(homes,beta.reshape((n_features,2))), sigma=sigma_y.reshape((2,2)))\n\n#     pred = pm.Deterministic('pred', 1/(1+np.exp(-y)), observed = y_2019Q2)",
      "execution_count": null,
      "outputs": []
    },
    {
      "cell_type": "code",
      "metadata": {
        "cell_id": "00017-0bab2ed9-dca0-4379-87ee-308297deb13e",
        "deepnote_to_be_reexecuted": false,
        "execution_millis": 2,
        "source_hash": "f6f0078",
        "tags": [],
        "execution_start": 1615232238618,
        "deepnote_cell_type": "code"
      },
      "source": "# K = 5 # Number of submarkets\n# n_homes, n_features = X_array.shape\n# h_prior_var = 1 # Prior variance of home features\n# b_prior_var = 1  # Prior variance of \"hedonic\" supply / demand regression parameters\n# y_prior_var = 1  # Prior variance of y\n# mu_k_prior_var = 10\n\n# with Model() as baseline_mod:\n\n#     p = pm.Dirichlet('p', a=np.ones(K), shape=K)\n#     submarket = pm.Categorical('submarket', p=p, shape=n_homes)\n\n#     mu_k = [pm.Normal('mu_k_%d' % i, mu=np.zeros(n_features), sigma=10, shape=n_features) for i in range(K)]\n#     sigma_k = [pm.Normal('sigma_%d' % i, mu=h_prior_var*np.ones(n_features**2), sigma=10, shape=n_features**2) for i in range(K)]\n\n#     homes = pm.MvNormal('homes', mu_k[submarket], sigma_k[submarket].reshape((n_features,n_features)), observed=X_array)\n\n#     # Generate betas for \"hedonic\" regression\n#     mu_k = pm.Normal('mu_k', mu=np.zeros(K*n_features), sigma=10, shape=K*n_features)\n#     sigma_k = pm.Normal('sigma_k', mu=np.zeros(K*n_features**2), sigma=10, shape=K*n_features**2)\n#     mu_b = pm.Deterministic('mu_b', tt.as_tensor_variable(np.array([np.zeros(n_features * 2) for _ in range(K)])))\n\n#     sigma_b = pm.Deterministic('sigma_b', tt.as_tensor_variable(np.array([b_prior_var * np.eye(n_features * 2) for _ in range(K)])))\n\n#     beta = pm.MvNormal('betas', mu_b[submarket], sigma_b[submarket].reshape((n_features,n_features)), shape=n_features)\n    \n#     sigma_y = pm.Deterministic('sigma_y', tt.as_tensor_variable(y_prior_var * np.eye(2)))\n\n#     # Final layer\n#     y = pm.MvNormal('y', mu = np.dot(homes,beta.reshape((n_features,2))), sigma=sigma_y.reshape((2,2)))\n\n#     pred = pm.Deterministic('pred', 1/(1+np.exp(-y)), observed = y_2019Q2)",
      "execution_count": null,
      "outputs": []
    },
    {
      "cell_type": "code",
      "metadata": {
        "cell_id": "00018-d73d36a0-a987-4484-aca1-c2d20c1294cd",
        "deepnote_to_be_reexecuted": false,
        "execution_millis": 2691,
        "source_hash": "3fbadc2f",
        "tags": [],
        "execution_start": 1615232464194,
        "deepnote_cell_type": "code"
      },
      "source": "K = 5 # Number of submarkets\nn_homes, n_features = X_array.shape\nmu_k_prior_var = 10\nsigma_k_prior_var = 10\nmu_b1_prior_var = 10\nsigma_b1_prior_var = 10\nmu_b2_prior_var = 10\nsigma_b2_prior_var = 10\nsigma_y_prior_var = 10\n\nwith Model() as baseline_mod:\n\n    submarket = pm.Categorical('submarket', p=np.ones(K), shape=n_homes)\n\n    mu_k = pm.Normal('mu_k', mu=0, sigma=mu_k_prior_var, shape=(K,n_features))\n\n    sigma_k = pm.Normal('sigma_k', mu=0, sigma=sigma_k_prior_var, shape=(n_features,n_features))\n    # sigma_k = pm.Normal('sigma_k', mu=0, sigma=sigma_k_prior_var, shape=(K,n_features**2))\n\n    homes = pm.MvNormal('homes', mu_k[submarket], sigma_k, observed=X_array)\n\n    # Generate betas for \"hedonic\" regression\n    mu_b1 = pm.Normal('mu_b1', mu=0, sigma=mu_b1_prior_var, shape=(K,n_features))\n\n    sigma_b1 = pm.Normal('sigma_b1', mu=0, sigma=sigma_b1_prior_var, shape=(n_features,n_features))\n\n    beta1 = pm.MvNormal('beta1', mu_b1[submarket], sigma_b1, shape=(n_homes,n_features))\n\n    mu_b2 = pm.Normal('mu_b2', mu=0, sigma=mu_b2_prior_var, shape=(K,n_features))\n\n    sigma_b2 = pm.Normal('sigma_b2', mu=0, sigma=sigma_b2_prior_var, shape=(n_features,n_features))\n\n    beta2 = pm.MvNormal('beta2', mu_b2[submarket], sigma_b2, shape=(n_homes,n_features))\n    \n    # sigma_y1 = pm.Uniform(\"sigma_y1\", lower=0, upper=20)\n    \n    # sigma_y2 = pm.Uniform(\"sigma_y2\", lower=0, upper=20)\n\n    # Final layer\n    # y1 = pm.Normal('y1', mu=tt.dot(tt.matrix(homes),tt.transpose(tt.matrix(beta1)))[0,:], sigma=sigma_y1, shape=n_homes)\n    # y1 = pm.Normal('y1', mu=1/(1+tt.exp(tt.tensordot(homes,tt.transpose(beta1)))), sigma=sigma_y1, observed = y_2019Q2[:,0])\n    # y2 = pm.Normal('y2', mu=1/(1+tt.exp(tt.tensordot(homes,tt.transpose(beta2)))), sigma=sigma_y2, observed = y_2019Q2[:,1])\n    y1 = pm.Bernoulli('y1', p=1/(1+tt.exp(-tt.tensordot(homes,tt.transpose(beta1)))), observed = y_2019Q2[:,0])\n    y2 = pm.Bernoulli('y2', p=1/(1+tt.exp(-tt.tensordot(homes,tt.transpose(beta1)))), observed = y_2019Q2[:,1])\n    \n    # Deterministic cannot have observed argument\n    # pred1 = pm.Deterministic('pred1', 1/(1+np.exp(-y1)), observed = y_2019Q2[:,0])\n    # pred2 = pm.Deterministic('pred1', 1/(1+np.exp(-y2)), observed = y_2019Q2[:,1])",
      "execution_count": null,
      "outputs": []
    },
    {
      "cell_type": "code",
      "metadata": {
        "cell_id": "00017-02a88345-a2dd-413c-8ac6-2945924beb01",
        "deepnote_to_be_reexecuted": false,
        "execution_millis": 19859,
        "source_hash": "63520fad",
        "tags": [],
        "execution_start": 1615232963253,
        "deepnote_cell_type": "code"
      },
      "source": "with baseline_mod:\n\n    # step = pm.Metropolis(vars=[y1,y2])\n    # tr = pm.sample(1000, step = step)\n    tr = pm.sample(2000, chains=3, tune=6000, discard_tuned_samples=True)",
      "execution_count": null,
      "outputs": [
        {
          "output_type": "error",
          "ename": "SamplingError",
          "evalue": "Initial evaluation of model at starting point failed!\nStarting values:\n{'submarket': array([0, 0, 0, ..., 0, 0, 0]), 'mu_k': array([[0., 0., 0., 0., 0., 0., 0., 0., 0., 0.],\n       [0., 0., 0., 0., 0., 0., 0., 0., 0., 0.],\n       [0., 0., 0., 0., 0., 0., 0., 0., 0., 0.],\n       [0., 0., 0., 0., 0., 0., 0., 0., 0., 0.],\n       [0., 0., 0., 0., 0., 0., 0., 0., 0., 0.]]), 'sigma_k': array([[0., 0., 0., 0., 0., 0., 0., 0., 0., 0.],\n       [0., 0., 0., 0., 0., 0., 0., 0., 0., 0.],\n       [0., 0., 0., 0., 0., 0., 0., 0., 0., 0.],\n       [0., 0., 0., 0., 0., 0., 0., 0., 0., 0.],\n       [0., 0., 0., 0., 0., 0., 0., 0., 0., 0.],\n       [0., 0., 0., 0., 0., 0., 0., 0., 0., 0.],\n       [0., 0., 0., 0., 0., 0., 0., 0., 0., 0.],\n       [0., 0., 0., 0., 0., 0., 0., 0., 0., 0.],\n       [0., 0., 0., 0., 0., 0., 0., 0., 0., 0.],\n       [0., 0., 0., 0., 0., 0., 0., 0., 0., 0.]]), 'mu_b1': array([[0., 0., 0., 0., 0., 0., 0., 0., 0., 0.],\n       [0., 0., 0., 0., 0., 0., 0., 0., 0., 0.],\n       [0., 0., 0., 0., 0., 0., 0., 0., 0., 0.],\n       [0., 0., 0., 0., 0., 0., 0., 0., 0., 0.],\n       [0., 0., 0., 0., 0., 0., 0., 0., 0., 0.]]), 'sigma_b1': array([[0., 0., 0., 0., 0., 0., 0., 0., 0., 0.],\n       [0., 0., 0., 0., 0., 0., 0., 0., 0., 0.],\n       [0., 0., 0., 0., 0., 0., 0., 0., 0., 0.],\n       [0., 0., 0., 0., 0., 0., 0., 0., 0., 0.],\n       [0., 0., 0., 0., 0., 0., 0., 0., 0., 0.],\n       [0., 0., 0., 0., 0., 0., 0., 0., 0., 0.],\n       [0., 0., 0., 0., 0., 0., 0., 0., 0., 0.],\n       [0., 0., 0., 0., 0., 0., 0., 0., 0., 0.],\n       [0., 0., 0., 0., 0., 0., 0., 0., 0., 0.],\n       [0., 0., 0., 0., 0., 0., 0., 0., 0., 0.]]), 'beta1': array([[0., 0., 0., ..., 0., 0., 0.],\n       [0., 0., 0., ..., 0., 0., 0.],\n       [0., 0., 0., ..., 0., 0., 0.],\n       ...,\n       [0., 0., 0., ..., 0., 0., 0.],\n       [0., 0., 0., ..., 0., 0., 0.],\n       [0., 0., 0., ..., 0., 0., 0.]]), 'mu_b2': array([[0., 0., 0., 0., 0., 0., 0., 0., 0., 0.],\n       [0., 0., 0., 0., 0., 0., 0., 0., 0., 0.],\n       [0., 0., 0., 0., 0., 0., 0., 0., 0., 0.],\n       [0., 0., 0., 0., 0., 0., 0., 0., 0., 0.],\n       [0., 0., 0., 0., 0., 0., 0., 0., 0., 0.]]), 'sigma_b2': array([[0., 0., 0., 0., 0., 0., 0., 0., 0., 0.],\n       [0., 0., 0., 0., 0., 0., 0., 0., 0., 0.],\n       [0., 0., 0., 0., 0., 0., 0., 0., 0., 0.],\n       [0., 0., 0., 0., 0., 0., 0., 0., 0., 0.],\n       [0., 0., 0., 0., 0., 0., 0., 0., 0., 0.],\n       [0., 0., 0., 0., 0., 0., 0., 0., 0., 0.],\n       [0., 0., 0., 0., 0., 0., 0., 0., 0., 0.],\n       [0., 0., 0., 0., 0., 0., 0., 0., 0., 0.],\n       [0., 0., 0., 0., 0., 0., 0., 0., 0., 0.],\n       [0., 0., 0., 0., 0., 0., 0., 0., 0., 0.]]), 'beta2': array([[0., 0., 0., ..., 0., 0., 0.],\n       [0., 0., 0., ..., 0., 0., 0.],\n       [0., 0., 0., ..., 0., 0., 0.],\n       ...,\n       [0., 0., 0., ..., 0., 0., 0.],\n       [0., 0., 0., ..., 0., 0., 0.],\n       [0., 0., 0., ..., 0., 0., 0.]])}\n\nInitial evaluation results:\nsubmarket   -139678.29\nmu_k           -161.08\nsigma_k        -322.15\nmu_b1          -161.08\nsigma_b1       -322.15\nbeta1             -inf\nmu_b2          -161.08\nsigma_b2       -322.15\nbeta2             -inf\nhomes             -inf\ny1           -60156.16\ny2           -60156.16\nName: Log-probability of test_point, dtype: float64",
          "traceback": [
            "\u001b[0;31m---------------------------------------------------------------------------\u001b[0m",
            "\u001b[0;31mSamplingError\u001b[0m                             Traceback (most recent call last)",
            "\u001b[0;32m<ipython-input-25-74f6890f4250>\u001b[0m in \u001b[0;36m<module>\u001b[0;34m\u001b[0m\n\u001b[1;32m      3\u001b[0m     \u001b[0;31m# step = pm.Metropolis(vars=[y1,y2])\u001b[0m\u001b[0;34m\u001b[0m\u001b[0;34m\u001b[0m\u001b[0;34m\u001b[0m\u001b[0m\n\u001b[1;32m      4\u001b[0m     \u001b[0;31m# tr = pm.sample(1000, step = step)\u001b[0m\u001b[0;34m\u001b[0m\u001b[0;34m\u001b[0m\u001b[0;34m\u001b[0m\u001b[0m\n\u001b[0;32m----> 5\u001b[0;31m     \u001b[0mtr\u001b[0m \u001b[0;34m=\u001b[0m \u001b[0mpm\u001b[0m\u001b[0;34m.\u001b[0m\u001b[0msample\u001b[0m\u001b[0;34m(\u001b[0m\u001b[0;36m2000\u001b[0m\u001b[0;34m,\u001b[0m \u001b[0mchains\u001b[0m\u001b[0;34m=\u001b[0m\u001b[0;36m3\u001b[0m\u001b[0;34m,\u001b[0m \u001b[0mtune\u001b[0m\u001b[0;34m=\u001b[0m\u001b[0;36m6000\u001b[0m\u001b[0;34m,\u001b[0m \u001b[0mdiscard_tuned_samples\u001b[0m\u001b[0;34m=\u001b[0m\u001b[0;32mTrue\u001b[0m\u001b[0;34m)\u001b[0m\u001b[0;34m\u001b[0m\u001b[0;34m\u001b[0m\u001b[0m\n\u001b[0m",
            "\u001b[0;32m~/venv/lib/python3.7/site-packages/pymc3/sampling.py\u001b[0m in \u001b[0;36msample\u001b[0;34m(draws, step, init, n_init, start, trace, chain_idx, chains, cores, tune, progressbar, model, random_seed, discard_tuned_samples, compute_convergence_checks, callback, jitter_max_retries, return_inferencedata, idata_kwargs, mp_ctx, pickle_backend, **kwargs)\u001b[0m\n\u001b[1;32m    426\u001b[0m     \u001b[0mstart\u001b[0m \u001b[0;34m=\u001b[0m \u001b[0mdeepcopy\u001b[0m\u001b[0;34m(\u001b[0m\u001b[0mstart\u001b[0m\u001b[0;34m)\u001b[0m\u001b[0;34m\u001b[0m\u001b[0;34m\u001b[0m\u001b[0m\n\u001b[1;32m    427\u001b[0m     \u001b[0;32mif\u001b[0m \u001b[0mstart\u001b[0m \u001b[0;32mis\u001b[0m \u001b[0;32mNone\u001b[0m\u001b[0;34m:\u001b[0m\u001b[0;34m\u001b[0m\u001b[0;34m\u001b[0m\u001b[0m\n\u001b[0;32m--> 428\u001b[0;31m         \u001b[0mcheck_start_vals\u001b[0m\u001b[0;34m(\u001b[0m\u001b[0mmodel\u001b[0m\u001b[0;34m.\u001b[0m\u001b[0mtest_point\u001b[0m\u001b[0;34m,\u001b[0m \u001b[0mmodel\u001b[0m\u001b[0;34m)\u001b[0m\u001b[0;34m\u001b[0m\u001b[0;34m\u001b[0m\u001b[0m\n\u001b[0m\u001b[1;32m    429\u001b[0m     \u001b[0;32melse\u001b[0m\u001b[0;34m:\u001b[0m\u001b[0;34m\u001b[0m\u001b[0;34m\u001b[0m\u001b[0m\n\u001b[1;32m    430\u001b[0m         \u001b[0;32mif\u001b[0m \u001b[0misinstance\u001b[0m\u001b[0;34m(\u001b[0m\u001b[0mstart\u001b[0m\u001b[0;34m,\u001b[0m \u001b[0mdict\u001b[0m\u001b[0;34m)\u001b[0m\u001b[0;34m:\u001b[0m\u001b[0;34m\u001b[0m\u001b[0;34m\u001b[0m\u001b[0m\n",
            "\u001b[0;32m~/venv/lib/python3.7/site-packages/pymc3/util.py\u001b[0m in \u001b[0;36mcheck_start_vals\u001b[0;34m(start, model)\u001b[0m\n\u001b[1;32m    236\u001b[0m                 \u001b[0;34m\"Initial evaluation of model at starting point failed!\\n\"\u001b[0m\u001b[0;34m\u001b[0m\u001b[0;34m\u001b[0m\u001b[0m\n\u001b[1;32m    237\u001b[0m                 \u001b[0;34m\"Starting values:\\n{}\\n\\n\"\u001b[0m\u001b[0;34m\u001b[0m\u001b[0;34m\u001b[0m\u001b[0m\n\u001b[0;32m--> 238\u001b[0;31m                 \u001b[0;34m\"Initial evaluation results:\\n{}\"\u001b[0m\u001b[0;34m.\u001b[0m\u001b[0mformat\u001b[0m\u001b[0;34m(\u001b[0m\u001b[0melem\u001b[0m\u001b[0;34m,\u001b[0m \u001b[0mstr\u001b[0m\u001b[0;34m(\u001b[0m\u001b[0minitial_eval\u001b[0m\u001b[0;34m)\u001b[0m\u001b[0;34m)\u001b[0m\u001b[0;34m\u001b[0m\u001b[0;34m\u001b[0m\u001b[0m\n\u001b[0m\u001b[1;32m    239\u001b[0m             )\n\u001b[1;32m    240\u001b[0m \u001b[0;34m\u001b[0m\u001b[0m\n",
            "\u001b[0;31mSamplingError\u001b[0m: Initial evaluation of model at starting point failed!\nStarting values:\n{'submarket': array([0, 0, 0, ..., 0, 0, 0]), 'mu_k': array([[0., 0., 0., 0., 0., 0., 0., 0., 0., 0.],\n       [0., 0., 0., 0., 0., 0., 0., 0., 0., 0.],\n       [0., 0., 0., 0., 0., 0., 0., 0., 0., 0.],\n       [0., 0., 0., 0., 0., 0., 0., 0., 0., 0.],\n       [0., 0., 0., 0., 0., 0., 0., 0., 0., 0.]]), 'sigma_k': array([[0., 0., 0., 0., 0., 0., 0., 0., 0., 0.],\n       [0., 0., 0., 0., 0., 0., 0., 0., 0., 0.],\n       [0., 0., 0., 0., 0., 0., 0., 0., 0., 0.],\n       [0., 0., 0., 0., 0., 0., 0., 0., 0., 0.],\n       [0., 0., 0., 0., 0., 0., 0., 0., 0., 0.],\n       [0., 0., 0., 0., 0., 0., 0., 0., 0., 0.],\n       [0., 0., 0., 0., 0., 0., 0., 0., 0., 0.],\n       [0., 0., 0., 0., 0., 0., 0., 0., 0., 0.],\n       [0., 0., 0., 0., 0., 0., 0., 0., 0., 0.],\n       [0., 0., 0., 0., 0., 0., 0., 0., 0., 0.]]), 'mu_b1': array([[0., 0., 0., 0., 0., 0., 0., 0., 0., 0.],\n       [0., 0., 0., 0., 0., 0., 0., 0., 0., 0.],\n       [0., 0., 0., 0., 0., 0., 0., 0., 0., 0.],\n       [0., 0., 0., 0., 0., 0., 0., 0., 0., 0.],\n       [0., 0., 0., 0., 0., 0., 0., 0., 0., 0.]]), 'sigma_b1': array([[0., 0., 0., 0., 0., 0., 0., 0., 0., 0.],\n       [0., 0., 0., 0., 0., 0., 0., 0., 0., 0.],\n       [0., 0., 0., 0., 0., 0., 0., 0., 0., 0.],\n       [0., 0., 0., 0., 0., 0., 0., 0., 0., 0.],\n       [0., 0., 0., 0., 0., 0., 0., 0., 0., 0.],\n       [0., 0., 0., 0., 0., 0., 0., 0., 0., 0.],\n       [0., 0., 0., 0., 0., 0., 0., 0., 0., 0.],\n       [0., 0., 0., 0., 0., 0., 0., 0., 0., 0.],\n       [0., 0., 0., 0., 0., 0., 0., 0., 0., 0.],\n       [0., 0., 0., 0., 0., 0., 0., 0., 0., 0.]]), 'beta1': array([[0., 0., 0., ..., 0., 0., 0.],\n       [0., 0., 0., ..., 0., 0., 0.],\n       [0., 0., 0., ..., 0., 0., 0.],\n       ...,\n       [0., 0., 0., ..., 0., 0., 0.],\n       [0., 0., 0., ..., 0., 0., 0.],\n       [0., 0., 0., ..., 0., 0., 0.]]), 'mu_b2': array([[0., 0., 0., 0., 0., 0., 0., 0., 0., 0.],\n       [0., 0., 0., 0., 0., 0., 0., 0., 0., 0.],\n       [0., 0., 0., 0., 0., 0., 0., 0., 0., 0.],\n       [0., 0., 0., 0., 0., 0., 0., 0., 0., 0.],\n       [0., 0., 0., 0., 0., 0., 0., 0., 0., 0.]]), 'sigma_b2': array([[0., 0., 0., 0., 0., 0., 0., 0., 0., 0.],\n       [0., 0., 0., 0., 0., 0., 0., 0., 0., 0.],\n       [0., 0., 0., 0., 0., 0., 0., 0., 0., 0.],\n       [0., 0., 0., 0., 0., 0., 0., 0., 0., 0.],\n       [0., 0., 0., 0., 0., 0., 0., 0., 0., 0.],\n       [0., 0., 0., 0., 0., 0., 0., 0., 0., 0.],\n       [0., 0., 0., 0., 0., 0., 0., 0., 0., 0.],\n       [0., 0., 0., 0., 0., 0., 0., 0., 0., 0.],\n       [0., 0., 0., 0., 0., 0., 0., 0., 0., 0.],\n       [0., 0., 0., 0., 0., 0., 0., 0., 0., 0.]]), 'beta2': array([[0., 0., 0., ..., 0., 0., 0.],\n       [0., 0., 0., ..., 0., 0., 0.],\n       [0., 0., 0., ..., 0., 0., 0.],\n       ...,\n       [0., 0., 0., ..., 0., 0., 0.],\n       [0., 0., 0., ..., 0., 0., 0.],\n       [0., 0., 0., ..., 0., 0., 0.]])}\n\nInitial evaluation results:\nsubmarket   -139678.29\nmu_k           -161.08\nsigma_k        -322.15\nmu_b1          -161.08\nsigma_b1       -322.15\nbeta1             -inf\nmu_b2          -161.08\nsigma_b2       -322.15\nbeta2             -inf\nhomes             -inf\ny1           -60156.16\ny2           -60156.16\nName: Log-probability of test_point, dtype: float64"
          ]
        }
      ]
    },
    {
      "cell_type": "code",
      "metadata": {
        "cell_id": "00020-dc2e77f2-0940-4c1a-a1e1-9fe1414d82da",
        "tags": [],
        "deepnote_cell_type": "code"
      },
      "source": "",
      "execution_count": null,
      "outputs": []
    },
    {
      "cell_type": "markdown",
      "source": "<a style='text-decoration:none;line-height:16px;display:flex;color:#5B5B62;padding:10px;justify-content:end;' href='https://deepnote.com?utm_source=created-in-deepnote-cell&projectId=1c850c61-d934-4c85-b16d-3cb283df0c84' target=\"_blank\">\n<img style='display:inline;max-height:16px;margin:0px;margin-right:7.5px;' src='data:image/svg+xml;base64,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' > </img>\nCreated in <span style='font-weight:600;margin-left:4px;'>Deepnote</span></a>",
      "metadata": {
        "tags": [],
        "created_in_deepnote_cell": true,
        "deepnote_cell_type": "markdown"
      }
    }
  ],
  "nbformat": 4,
  "nbformat_minor": 2,
  "metadata": {
    "deepnote": {},
    "deepnote_execution_queue": [],
    "deepnote_notebook_id": "2f9725a2-9837-4fd8-8c87-c5de4185a9d6",
    "kernelspec": {
      "display_name": "Python 3",
      "language": "python",
      "name": "python3"
    },
    "language_info": {
      "codemirror_mode": {
        "name": "ipython",
        "version": 3
      },
      "file_extension": ".py",
      "mimetype": "text/x-python",
      "name": "python",
      "nbconvert_exporter": "python",
      "pygments_lexer": "ipython3",
      "version": "3.8.3"
    }
  }
}