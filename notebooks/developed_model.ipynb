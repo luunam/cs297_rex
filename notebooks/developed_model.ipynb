{
 "cells": [
  {
   "cell_type": "code",
   "execution_count": 1,
   "metadata": {
    "cell_id": "00000-e13b2b55-2f0e-4735-9939-62bfee01234f",
    "deepnote_cell_type": "code",
    "deepnote_to_be_reexecuted": false,
    "execution_millis": 1498,
    "execution_start": 1614608844699,
    "source_hash": "1fac4e4b",
    "tags": []
   },
   "outputs": [],
   "source": [
    "#required packages\n",
    "import numpy as np\n",
    "import pandas as pd\n",
    "import sklearn as sk\n",
    "import matplotlib.pyplot as plt\n",
    "from pymc3 import Model\n",
    "import pymc3 as pm\n",
    "import theano.tensor as tt\n",
    "import datetime\n",
    "from IPython.display import display, Markdown"
   ]
  },
  {
   "cell_type": "code",
   "execution_count": 2,
   "metadata": {
    "cell_id": "00001-216b7791-d385-4a93-8d38-ef58ec0c446f",
    "deepnote_cell_type": "code",
    "deepnote_to_be_reexecuted": false,
    "execution_millis": 296,
    "execution_start": 1614608913615,
    "source_hash": "bec1f344",
    "tags": []
   },
   "outputs": [],
   "source": [
    "# Load dataset\n",
    "df = pd.read_csv('../data/denver_prop_listing_clean.csv')\n",
    "\n",
    "#convert to datetime format\n",
    "df[\"list_date\"] = pd.to_datetime(df[\"list_date\"])\n",
    "df[\"sale_date\"] = pd.to_datetime(df[\"sale_date\"])"
   ]
  },
  {
   "cell_type": "code",
   "execution_count": 3,
   "metadata": {
    "cell_id": "00002-eb4923cb-5de1-41f1-903a-8ddaf37e33ad",
    "deepnote_cell_type": "code",
    "deepnote_to_be_reexecuted": false,
    "execution_millis": 7,
    "execution_start": 1614608916749,
    "source_hash": "1492d9d",
    "tags": []
   },
   "outputs": [
    {
     "data": {
      "text/plain": [
       "{'SINGLE': 0,\n",
       " 'CONDO': 1,\n",
       " 'OTHER': 2,\n",
       " 'MULTI_FAMILY': 3,\n",
       " 'TOWNHOUSE': 4,\n",
       " 'LAND': 5}"
      ]
     },
     "execution_count": 3,
     "metadata": {},
     "output_type": "execute_result"
    }
   ],
   "source": [
    "mapping = {k: v for v, k in enumerate(df.property_type.unique())}\n",
    "mapping"
   ]
  },
  {
   "cell_type": "code",
   "execution_count": 4,
   "metadata": {
    "cell_id": "00003-77105aa4-55c4-45ae-9ef7-2f6bc7f18320",
    "deepnote_cell_type": "code",
    "deepnote_to_be_reexecuted": false,
    "execution_millis": 11,
    "execution_start": 1614608917202,
    "source_hash": "1994339",
    "tags": []
   },
   "outputs": [],
   "source": [
    "df['property_type_code'] = df['property_type'].map(mapping)"
   ]
  },
  {
   "cell_type": "code",
   "execution_count": 5,
   "metadata": {
    "cell_id": "00004-fec1a249-3448-4509-80e8-a3ba2664d0ce",
    "deepnote_cell_type": "code",
    "deepnote_to_be_reexecuted": false,
    "execution_millis": 58,
    "execution_start": 1614608917540,
    "source_hash": "c085b6ba",
    "tags": []
   },
   "outputs": [
    {
     "data": {
      "text/html": [
       "<div>\n",
       "<style scoped>\n",
       "    .dataframe tbody tr th:only-of-type {\n",
       "        vertical-align: middle;\n",
       "    }\n",
       "\n",
       "    .dataframe tbody tr th {\n",
       "        vertical-align: top;\n",
       "    }\n",
       "\n",
       "    .dataframe thead th {\n",
       "        text-align: right;\n",
       "    }\n",
       "</style>\n",
       "<table border=\"1\" class=\"dataframe\">\n",
       "  <thead>\n",
       "    <tr style=\"text-align: right;\">\n",
       "      <th></th>\n",
       "      <th>property_id</th>\n",
       "      <th>zipcode</th>\n",
       "      <th>fips</th>\n",
       "      <th>latitude</th>\n",
       "      <th>longitude</th>\n",
       "      <th>sqft</th>\n",
       "      <th>property_type</th>\n",
       "      <th>has_central_air</th>\n",
       "      <th>has_jacuzzi</th>\n",
       "      <th>has_pool</th>\n",
       "      <th>has_solar</th>\n",
       "      <th>has_garage</th>\n",
       "      <th>list_date</th>\n",
       "      <th>sale_date</th>\n",
       "      <th>sale_price</th>\n",
       "      <th>bedrooms</th>\n",
       "      <th>full_baths</th>\n",
       "      <th>ct_key</th>\n",
       "      <th>sale_price_per_sqft</th>\n",
       "      <th>property_type_code</th>\n",
       "    </tr>\n",
       "  </thead>\n",
       "  <tbody>\n",
       "    <tr>\n",
       "      <th>0</th>\n",
       "      <td>138574001</td>\n",
       "      <td>80002</td>\n",
       "      <td>8059.0</td>\n",
       "      <td>39.79270</td>\n",
       "      <td>-105.13026</td>\n",
       "      <td>3047.0</td>\n",
       "      <td>SINGLE</td>\n",
       "      <td>True</td>\n",
       "      <td>False</td>\n",
       "      <td>True</td>\n",
       "      <td>False</td>\n",
       "      <td>True</td>\n",
       "      <td>2020-09-24</td>\n",
       "      <td>2020-11-02</td>\n",
       "      <td>630000.0</td>\n",
       "      <td>5.0</td>\n",
       "      <td>3.0</td>\n",
       "      <td>8.059010e+09</td>\n",
       "      <td>206.760748</td>\n",
       "      <td>0</td>\n",
       "    </tr>\n",
       "    <tr>\n",
       "      <th>1</th>\n",
       "      <td>138573806</td>\n",
       "      <td>80002</td>\n",
       "      <td>8059.0</td>\n",
       "      <td>39.79424</td>\n",
       "      <td>-105.12171</td>\n",
       "      <td>4382.0</td>\n",
       "      <td>SINGLE</td>\n",
       "      <td>True</td>\n",
       "      <td>False</td>\n",
       "      <td>False</td>\n",
       "      <td>False</td>\n",
       "      <td>True</td>\n",
       "      <td>2020-09-24</td>\n",
       "      <td>2020-10-29</td>\n",
       "      <td>805000.0</td>\n",
       "      <td>4.0</td>\n",
       "      <td>2.0</td>\n",
       "      <td>8.059010e+09</td>\n",
       "      <td>183.706070</td>\n",
       "      <td>0</td>\n",
       "    </tr>\n",
       "    <tr>\n",
       "      <th>2</th>\n",
       "      <td>138572945</td>\n",
       "      <td>80002</td>\n",
       "      <td>8059.0</td>\n",
       "      <td>39.79565</td>\n",
       "      <td>-105.11674</td>\n",
       "      <td>2654.0</td>\n",
       "      <td>SINGLE</td>\n",
       "      <td>False</td>\n",
       "      <td>False</td>\n",
       "      <td>False</td>\n",
       "      <td>False</td>\n",
       "      <td>True</td>\n",
       "      <td>2020-09-24</td>\n",
       "      <td>2020-10-19</td>\n",
       "      <td>665000.0</td>\n",
       "      <td>4.0</td>\n",
       "      <td>2.0</td>\n",
       "      <td>8.059010e+09</td>\n",
       "      <td>250.565185</td>\n",
       "      <td>0</td>\n",
       "    </tr>\n",
       "    <tr>\n",
       "      <th>3</th>\n",
       "      <td>138568013</td>\n",
       "      <td>80002</td>\n",
       "      <td>8059.0</td>\n",
       "      <td>39.79655</td>\n",
       "      <td>-105.09923</td>\n",
       "      <td>2265.0</td>\n",
       "      <td>SINGLE</td>\n",
       "      <td>False</td>\n",
       "      <td>False</td>\n",
       "      <td>False</td>\n",
       "      <td>False</td>\n",
       "      <td>False</td>\n",
       "      <td>2020-09-24</td>\n",
       "      <td>2020-10-28</td>\n",
       "      <td>607000.0</td>\n",
       "      <td>4.0</td>\n",
       "      <td>2.0</td>\n",
       "      <td>8.059010e+09</td>\n",
       "      <td>267.991170</td>\n",
       "      <td>0</td>\n",
       "    </tr>\n",
       "    <tr>\n",
       "      <th>4</th>\n",
       "      <td>138564524</td>\n",
       "      <td>80002</td>\n",
       "      <td>8059.0</td>\n",
       "      <td>39.79399</td>\n",
       "      <td>-105.06972</td>\n",
       "      <td>1431.0</td>\n",
       "      <td>SINGLE</td>\n",
       "      <td>False</td>\n",
       "      <td>False</td>\n",
       "      <td>False</td>\n",
       "      <td>False</td>\n",
       "      <td>False</td>\n",
       "      <td>2020-09-24</td>\n",
       "      <td>2020-10-16</td>\n",
       "      <td>425000.0</td>\n",
       "      <td>4.0</td>\n",
       "      <td>1.0</td>\n",
       "      <td>8.059010e+09</td>\n",
       "      <td>296.995108</td>\n",
       "      <td>0</td>\n",
       "    </tr>\n",
       "  </tbody>\n",
       "</table>\n",
       "</div>"
      ],
      "text/plain": [
       "   property_id  zipcode    fips  latitude  longitude    sqft property_type  \\\n",
       "0    138574001    80002  8059.0  39.79270 -105.13026  3047.0        SINGLE   \n",
       "1    138573806    80002  8059.0  39.79424 -105.12171  4382.0        SINGLE   \n",
       "2    138572945    80002  8059.0  39.79565 -105.11674  2654.0        SINGLE   \n",
       "3    138568013    80002  8059.0  39.79655 -105.09923  2265.0        SINGLE   \n",
       "4    138564524    80002  8059.0  39.79399 -105.06972  1431.0        SINGLE   \n",
       "\n",
       "   has_central_air  has_jacuzzi  has_pool  has_solar  has_garage  list_date  \\\n",
       "0             True        False      True      False        True 2020-09-24   \n",
       "1             True        False     False      False        True 2020-09-24   \n",
       "2            False        False     False      False        True 2020-09-24   \n",
       "3            False        False     False      False       False 2020-09-24   \n",
       "4            False        False     False      False       False 2020-09-24   \n",
       "\n",
       "   sale_date  sale_price  bedrooms  full_baths        ct_key  \\\n",
       "0 2020-11-02    630000.0       5.0         3.0  8.059010e+09   \n",
       "1 2020-10-29    805000.0       4.0         2.0  8.059010e+09   \n",
       "2 2020-10-19    665000.0       4.0         2.0  8.059010e+09   \n",
       "3 2020-10-28    607000.0       4.0         2.0  8.059010e+09   \n",
       "4 2020-10-16    425000.0       4.0         1.0  8.059010e+09   \n",
       "\n",
       "   sale_price_per_sqft  property_type_code  \n",
       "0           206.760748                   0  \n",
       "1           183.706070                   0  \n",
       "2           250.565185                   0  \n",
       "3           267.991170                   0  \n",
       "4           296.995108                   0  "
      ]
     },
     "execution_count": 5,
     "metadata": {},
     "output_type": "execute_result"
    }
   ],
   "source": [
    "df.head()"
   ]
  },
  {
   "cell_type": "code",
   "execution_count": 6,
   "metadata": {
    "cell_id": "00005-734203ca-b211-4437-93ae-1075f5004811",
    "deepnote_cell_type": "code",
    "deepnote_to_be_reexecuted": false,
    "execution_millis": 1,
    "execution_start": 1614223104005,
    "source_hash": "192b12e4",
    "tags": []
   },
   "outputs": [],
   "source": [
    "# Sale           331537\n",
    "# Withdrawn       48375\n",
    "# Active          33218\n",
    "# Expired         22163\n",
    "# Pending         15960\n",
    "# Other             711\n",
    "# Foreclosure       316\n",
    "# For Rent          123\n",
    "# Pending,           95\n",
    "# Cancelled          86\n",
    "# LOT                70\n",
    "# Coming Soon         6"
   ]
  },
  {
   "cell_type": "markdown",
   "metadata": {
    "cell_id": "00006-6944ef25-1f8c-4bc4-96ef-50c2b5d1bc16",
    "deepnote_cell_type": "markdown",
    "tags": []
   },
   "source": [
    "Current approach is trained on a particular discretized timeframe (say a quarter / 3 months). One potential exploration is to train the heirarchical models on separate discretized quarters and generate a time series on the changing sub-market classifications across the quarters. However, one concern is when a house is sold before a particular quarter and the model would assume that its corresponding sub-market has low supply?"
   ]
  },
  {
   "cell_type": "code",
   "execution_count": 7,
   "metadata": {
    "cell_id": "00005-e5012556-dfc1-4858-911d-65828ce0a751",
    "deepnote_cell_type": "code",
    "deepnote_to_be_reexecuted": false,
    "execution_millis": 1,
    "execution_start": 1614608934947,
    "source_hash": "b76880cf",
    "tags": []
   },
   "outputs": [],
   "source": [
    "def gen_y(t_disc, data, t0=None):\n",
    "    ''' \n",
    "    t_disc: datetime.timedelta(days = XX)\n",
    "    t0: datetime.datetime(YYYY,MM,DD)\n",
    "    '''\n",
    "\n",
    "    if t0 is not None:\n",
    "        listed = np.array(((data['list_date'] >= t0) & (data['list_date'] < t0 + t_disc)) | ((data['list_date'] < t0) & (data['sale_date'] >= t0)), dtype=np.int8)\n",
    "        sale = np.array((data['sale_date'] >= t0) & (data['sale_date'] < t0 + t_disc), dtype = np.int8)\n",
    "        return np.vstack((listed, sale)).T\n",
    "    #else:\n",
    "        #TODO\n"
   ]
  },
  {
   "cell_type": "code",
   "execution_count": 8,
   "metadata": {
    "cell_id": "00008-120e596f-6170-43ad-b10c-28751ae9c8a8",
    "deepnote_cell_type": "code",
    "deepnote_to_be_reexecuted": false,
    "execution_millis": 6,
    "execution_start": 1614608936415,
    "source_hash": "45ebe89",
    "tags": []
   },
   "outputs": [],
   "source": [
    "y_2019Q2 = gen_y(datetime.timedelta(days = 90), df, datetime.datetime(2019,4,1))"
   ]
  },
  {
   "cell_type": "code",
   "execution_count": 9,
   "metadata": {
    "cell_id": "00011-20130292-fa60-4527-b7a2-9d518ae4f285",
    "deepnote_cell_type": "code",
    "deepnote_to_be_reexecuted": false,
    "execution_millis": 228,
    "execution_start": 1614608937737,
    "source_hash": "4a92d586",
    "tags": []
   },
   "outputs": [
    {
     "data": {
      "text/plain": [
       "5373"
      ]
     },
     "execution_count": 9,
     "metadata": {},
     "output_type": "execute_result"
    }
   ],
   "source": [
    "sum([y_2019Q2[i,0] > y_2019Q2[i,1] for i in range(y_2019Q2.shape[0])])"
   ]
  },
  {
   "cell_type": "code",
   "execution_count": 10,
   "metadata": {
    "cell_id": "00010-1aaf4dc3-d97e-49a3-83b3-ad8a19c19ce5",
    "deepnote_cell_type": "code",
    "deepnote_to_be_reexecuted": false,
    "execution_millis": 5,
    "execution_start": 1614609037483,
    "source_hash": "4066eb4f",
    "tags": []
   },
   "outputs": [
    {
     "name": "stdout",
     "output_type": "stream",
     "text": [
      "<class 'pandas.core.frame.DataFrame'>\n",
      "RangeIndex: 86787 entries, 0 to 86786\n",
      "Data columns (total 10 columns):\n",
      " #   Column              Non-Null Count  Dtype  \n",
      "---  ------              --------------  -----  \n",
      " 0   fips                86787 non-null  float64\n",
      " 1   latitude            86787 non-null  float64\n",
      " 2   longitude           86787 non-null  float64\n",
      " 3   sqft                86787 non-null  float64\n",
      " 4   has_central_air     86787 non-null  bool   \n",
      " 5   has_pool            86787 non-null  bool   \n",
      " 6   has_solar           86787 non-null  bool   \n",
      " 7   bedrooms            86787 non-null  float64\n",
      " 8   full_baths          86787 non-null  float64\n",
      " 9   property_type_code  86787 non-null  int64  \n",
      "dtypes: bool(3), float64(6), int64(1)\n",
      "memory usage: 4.9 MB\n"
     ]
    }
   ],
   "source": [
    "# X = df.drop(columns=['property_id', 'zipcode', 'list_date', 'sale_date', 'current_status', 'property_type', 'has_jacuzzi', 'has_garage'])\n",
    "X = df.drop(columns=['property_id', 'zipcode', 'list_date', 'sale_date', 'property_type', 'has_jacuzzi', 'has_garage', 'sale_price', 'ct_key', 'sale_price_per_sqft'])\n",
    "\n",
    "X.info()"
   ]
  },
  {
   "cell_type": "code",
   "execution_count": 11,
   "metadata": {
    "cell_id": "00013-77b4e716-eb5d-4aaa-9449-42ec3555de6d",
    "deepnote_cell_type": "code",
    "deepnote_to_be_reexecuted": false,
    "execution_millis": 6,
    "execution_start": 1614609041883,
    "source_hash": "f2895488",
    "tags": []
   },
   "outputs": [],
   "source": [
    "X_array = X.to_numpy(dtype=np.float64)"
   ]
  },
  {
   "cell_type": "code",
   "execution_count": 12,
   "metadata": {
    "cell_id": "00015-6b67e2d7-8465-4fef-a7ff-d6b17c764725",
    "deepnote_cell_type": "code",
    "deepnote_to_be_reexecuted": false,
    "execution_millis": 0,
    "execution_start": 1614609043413,
    "source_hash": "a66c943",
    "tags": []
   },
   "outputs": [],
   "source": [
    "sigmoid = lambda x : 1/(1+np.exp(-x))"
   ]
  },
  {
   "cell_type": "code",
   "execution_count": 13,
   "metadata": {
    "cell_id": "00015-f6009322-53e4-4dd3-9703-e3ad3552695e",
    "deepnote_cell_type": "code",
    "deepnote_to_be_reexecuted": false,
    "execution_millis": 9,
    "execution_start": 1614609043834,
    "source_hash": "289259d5",
    "tags": []
   },
   "outputs": [
    {
     "data": {
      "text/plain": [
       "(86787, 10)"
      ]
     },
     "execution_count": 13,
     "metadata": {},
     "output_type": "execute_result"
    }
   ],
   "source": [
    "X_array.shape"
   ]
  },
  {
   "cell_type": "code",
   "execution_count": 14,
   "metadata": {
    "cell_id": "00015-456dda79-193d-43c9-ae5e-40ffbc7e1bb8",
    "deepnote_cell_type": "code",
    "deepnote_to_be_reexecuted": false,
    "execution_millis": 4490,
    "execution_start": 1614458202535,
    "source_hash": "becee391",
    "tags": []
   },
   "outputs": [
    {
     "ename": "ValueError",
     "evalue": "cannot reshape array of size 8678700 into shape (10,10)",
     "output_type": "error",
     "traceback": [
      "\u001b[0;31m---------------------------------------------------------------------------\u001b[0m",
      "\u001b[0;31mValueError\u001b[0m                                Traceback (most recent call last)",
      "\u001b[0;32m<ipython-input-14-890f49c73e62>\u001b[0m in \u001b[0;36m<module>\u001b[0;34m\u001b[0m\n\u001b[1;32m     13\u001b[0m     \u001b[0msigma_k\u001b[0m \u001b[0;34m=\u001b[0m \u001b[0mpm\u001b[0m\u001b[0;34m.\u001b[0m\u001b[0mDeterministic\u001b[0m\u001b[0;34m(\u001b[0m\u001b[0;34m'sigma_k'\u001b[0m\u001b[0;34m,\u001b[0m \u001b[0mtt\u001b[0m\u001b[0;34m.\u001b[0m\u001b[0mas_tensor_variable\u001b[0m\u001b[0;34m(\u001b[0m\u001b[0mnp\u001b[0m\u001b[0;34m.\u001b[0m\u001b[0marray\u001b[0m\u001b[0;34m(\u001b[0m\u001b[0;34m[\u001b[0m\u001b[0mh_prior_var\u001b[0m \u001b[0;34m*\u001b[0m \u001b[0mnp\u001b[0m\u001b[0;34m.\u001b[0m\u001b[0meye\u001b[0m\u001b[0;34m(\u001b[0m\u001b[0mn_features\u001b[0m\u001b[0;34m)\u001b[0m \u001b[0;32mfor\u001b[0m \u001b[0m_\u001b[0m \u001b[0;32min\u001b[0m \u001b[0mrange\u001b[0m\u001b[0;34m(\u001b[0m\u001b[0mK\u001b[0m\u001b[0;34m)\u001b[0m\u001b[0;34m]\u001b[0m\u001b[0;34m)\u001b[0m\u001b[0;34m)\u001b[0m\u001b[0;34m)\u001b[0m\u001b[0;34m\u001b[0m\u001b[0;34m\u001b[0m\u001b[0m\n\u001b[1;32m     14\u001b[0m \u001b[0;34m\u001b[0m\u001b[0m\n\u001b[0;32m---> 15\u001b[0;31m     \u001b[0mhomes\u001b[0m \u001b[0;34m=\u001b[0m \u001b[0mpm\u001b[0m\u001b[0;34m.\u001b[0m\u001b[0mMvNormal\u001b[0m\u001b[0;34m(\u001b[0m\u001b[0;34m'homes'\u001b[0m\u001b[0;34m,\u001b[0m \u001b[0mmu_k\u001b[0m\u001b[0;34m[\u001b[0m\u001b[0msubmarket\u001b[0m\u001b[0;34m]\u001b[0m\u001b[0;34m,\u001b[0m \u001b[0msigma_k\u001b[0m\u001b[0;34m[\u001b[0m\u001b[0msubmarket\u001b[0m\u001b[0;34m]\u001b[0m\u001b[0;34m.\u001b[0m\u001b[0mreshape\u001b[0m\u001b[0;34m(\u001b[0m\u001b[0;34m(\u001b[0m\u001b[0mn_features\u001b[0m\u001b[0;34m,\u001b[0m\u001b[0mn_features\u001b[0m\u001b[0;34m)\u001b[0m\u001b[0;34m)\u001b[0m\u001b[0;34m,\u001b[0m \u001b[0mobserved\u001b[0m\u001b[0;34m=\u001b[0m\u001b[0mX_array\u001b[0m\u001b[0;34m)\u001b[0m\u001b[0;34m\u001b[0m\u001b[0;34m\u001b[0m\u001b[0m\n\u001b[0m\u001b[1;32m     16\u001b[0m \u001b[0;34m\u001b[0m\u001b[0m\n\u001b[1;32m     17\u001b[0m     \u001b[0;31m# Generate betas for \"hedonic\" regression\u001b[0m\u001b[0;34m\u001b[0m\u001b[0;34m\u001b[0m\u001b[0;34m\u001b[0m\u001b[0m\n",
      "\u001b[0;32m~/opt/anaconda3/lib/python3.8/site-packages/theano/tensor/var.py\u001b[0m in \u001b[0;36mreshape\u001b[0;34m(self, shape, ndim)\u001b[0m\n\u001b[1;32m    301\u001b[0m                 )\n\u001b[1;32m    302\u001b[0m \u001b[0;34m\u001b[0m\u001b[0m\n\u001b[0;32m--> 303\u001b[0;31m         \u001b[0;32mreturn\u001b[0m \u001b[0mtheano\u001b[0m\u001b[0;34m.\u001b[0m\u001b[0mtensor\u001b[0m\u001b[0;34m.\u001b[0m\u001b[0mbasic\u001b[0m\u001b[0;34m.\u001b[0m\u001b[0mreshape\u001b[0m\u001b[0;34m(\u001b[0m\u001b[0mself\u001b[0m\u001b[0;34m,\u001b[0m \u001b[0mshape\u001b[0m\u001b[0;34m,\u001b[0m \u001b[0mndim\u001b[0m\u001b[0;34m=\u001b[0m\u001b[0mndim\u001b[0m\u001b[0;34m)\u001b[0m\u001b[0;34m\u001b[0m\u001b[0;34m\u001b[0m\u001b[0m\n\u001b[0m\u001b[1;32m    304\u001b[0m \u001b[0;34m\u001b[0m\u001b[0m\n\u001b[1;32m    305\u001b[0m     \u001b[0;32mdef\u001b[0m \u001b[0mdimshuffle\u001b[0m\u001b[0;34m(\u001b[0m\u001b[0mself\u001b[0m\u001b[0;34m,\u001b[0m \u001b[0;34m*\u001b[0m\u001b[0mpattern\u001b[0m\u001b[0;34m)\u001b[0m\u001b[0;34m:\u001b[0m\u001b[0;34m\u001b[0m\u001b[0;34m\u001b[0m\u001b[0m\n",
      "\u001b[0;32m~/opt/anaconda3/lib/python3.8/site-packages/theano/tensor/basic.py\u001b[0m in \u001b[0;36mreshape\u001b[0;34m(x, newshape, ndim)\u001b[0m\n\u001b[1;32m   5145\u001b[0m             )\n\u001b[1;32m   5146\u001b[0m     \u001b[0mop\u001b[0m \u001b[0;34m=\u001b[0m \u001b[0mReshape\u001b[0m\u001b[0;34m(\u001b[0m\u001b[0mndim\u001b[0m\u001b[0;34m)\u001b[0m\u001b[0;34m\u001b[0m\u001b[0;34m\u001b[0m\u001b[0m\n\u001b[0;32m-> 5147\u001b[0;31m     \u001b[0mrval\u001b[0m \u001b[0;34m=\u001b[0m \u001b[0mop\u001b[0m\u001b[0;34m(\u001b[0m\u001b[0mx\u001b[0m\u001b[0;34m,\u001b[0m \u001b[0mnewshape\u001b[0m\u001b[0;34m)\u001b[0m\u001b[0;34m\u001b[0m\u001b[0;34m\u001b[0m\u001b[0m\n\u001b[0m\u001b[1;32m   5148\u001b[0m     \u001b[0;32mreturn\u001b[0m \u001b[0mrval\u001b[0m\u001b[0;34m\u001b[0m\u001b[0;34m\u001b[0m\u001b[0m\n\u001b[1;32m   5149\u001b[0m \u001b[0;34m\u001b[0m\u001b[0m\n",
      "\u001b[0;32m~/opt/anaconda3/lib/python3.8/site-packages/theano/graph/op.py\u001b[0m in \u001b[0;36m__call__\u001b[0;34m(self, *inputs, **kwargs)\u001b[0m\n\u001b[1;32m    251\u001b[0m \u001b[0;34m\u001b[0m\u001b[0m\n\u001b[1;32m    252\u001b[0m         \u001b[0;32mif\u001b[0m \u001b[0mconfig\u001b[0m\u001b[0;34m.\u001b[0m\u001b[0mcompute_test_value\u001b[0m \u001b[0;34m!=\u001b[0m \u001b[0;34m\"off\"\u001b[0m\u001b[0;34m:\u001b[0m\u001b[0;34m\u001b[0m\u001b[0;34m\u001b[0m\u001b[0m\n\u001b[0;32m--> 253\u001b[0;31m             \u001b[0mcompute_test_value\u001b[0m\u001b[0;34m(\u001b[0m\u001b[0mnode\u001b[0m\u001b[0;34m)\u001b[0m\u001b[0;34m\u001b[0m\u001b[0;34m\u001b[0m\u001b[0m\n\u001b[0m\u001b[1;32m    254\u001b[0m \u001b[0;34m\u001b[0m\u001b[0m\n\u001b[1;32m    255\u001b[0m         \u001b[0;32mif\u001b[0m \u001b[0mself\u001b[0m\u001b[0;34m.\u001b[0m\u001b[0mdefault_output\u001b[0m \u001b[0;32mis\u001b[0m \u001b[0;32mnot\u001b[0m \u001b[0;32mNone\u001b[0m\u001b[0;34m:\u001b[0m\u001b[0;34m\u001b[0m\u001b[0;34m\u001b[0m\u001b[0m\n",
      "\u001b[0;32m~/opt/anaconda3/lib/python3.8/site-packages/theano/graph/op.py\u001b[0m in \u001b[0;36mcompute_test_value\u001b[0;34m(node)\u001b[0m\n\u001b[1;32m    128\u001b[0m     \u001b[0mthunk\u001b[0m\u001b[0;34m.\u001b[0m\u001b[0moutputs\u001b[0m \u001b[0;34m=\u001b[0m \u001b[0;34m[\u001b[0m\u001b[0mstorage_map\u001b[0m\u001b[0;34m[\u001b[0m\u001b[0mv\u001b[0m\u001b[0;34m]\u001b[0m \u001b[0;32mfor\u001b[0m \u001b[0mv\u001b[0m \u001b[0;32min\u001b[0m \u001b[0mnode\u001b[0m\u001b[0;34m.\u001b[0m\u001b[0moutputs\u001b[0m\u001b[0;34m]\u001b[0m\u001b[0;34m\u001b[0m\u001b[0;34m\u001b[0m\u001b[0m\n\u001b[1;32m    129\u001b[0m \u001b[0;34m\u001b[0m\u001b[0m\n\u001b[0;32m--> 130\u001b[0;31m     \u001b[0mrequired\u001b[0m \u001b[0;34m=\u001b[0m \u001b[0mthunk\u001b[0m\u001b[0;34m(\u001b[0m\u001b[0;34m)\u001b[0m\u001b[0;34m\u001b[0m\u001b[0;34m\u001b[0m\u001b[0m\n\u001b[0m\u001b[1;32m    131\u001b[0m     \u001b[0;32massert\u001b[0m \u001b[0;32mnot\u001b[0m \u001b[0mrequired\u001b[0m  \u001b[0;31m# We provided all inputs\u001b[0m\u001b[0;34m\u001b[0m\u001b[0;34m\u001b[0m\u001b[0m\n\u001b[1;32m    132\u001b[0m \u001b[0;34m\u001b[0m\u001b[0m\n",
      "\u001b[0;32m~/opt/anaconda3/lib/python3.8/site-packages/theano/graph/op.py\u001b[0m in \u001b[0;36mrval\u001b[0;34m()\u001b[0m\n\u001b[1;32m    604\u001b[0m \u001b[0;34m\u001b[0m\u001b[0m\n\u001b[1;32m    605\u001b[0m         \u001b[0;32mdef\u001b[0m \u001b[0mrval\u001b[0m\u001b[0;34m(\u001b[0m\u001b[0;34m)\u001b[0m\u001b[0;34m:\u001b[0m\u001b[0;34m\u001b[0m\u001b[0;34m\u001b[0m\u001b[0m\n\u001b[0;32m--> 606\u001b[0;31m             \u001b[0mthunk\u001b[0m\u001b[0;34m(\u001b[0m\u001b[0;34m)\u001b[0m\u001b[0;34m\u001b[0m\u001b[0;34m\u001b[0m\u001b[0m\n\u001b[0m\u001b[1;32m    607\u001b[0m             \u001b[0;32mfor\u001b[0m \u001b[0mo\u001b[0m \u001b[0;32min\u001b[0m \u001b[0mnode\u001b[0m\u001b[0;34m.\u001b[0m\u001b[0moutputs\u001b[0m\u001b[0;34m:\u001b[0m\u001b[0;34m\u001b[0m\u001b[0;34m\u001b[0m\u001b[0m\n\u001b[1;32m    608\u001b[0m                 \u001b[0mcompute_map\u001b[0m\u001b[0;34m[\u001b[0m\u001b[0mo\u001b[0m\u001b[0;34m]\u001b[0m\u001b[0;34m[\u001b[0m\u001b[0;36m0\u001b[0m\u001b[0;34m]\u001b[0m \u001b[0;34m=\u001b[0m \u001b[0;32mTrue\u001b[0m\u001b[0;34m\u001b[0m\u001b[0;34m\u001b[0m\u001b[0m\n",
      "\u001b[0;32m~/opt/anaconda3/lib/python3.8/site-packages/theano/link/c/basic.py\u001b[0m in \u001b[0;36m__call__\u001b[0;34m(self)\u001b[0m\n\u001b[1;32m   1769\u001b[0m                 \u001b[0mprint\u001b[0m\u001b[0;34m(\u001b[0m\u001b[0mself\u001b[0m\u001b[0;34m.\u001b[0m\u001b[0merror_storage\u001b[0m\u001b[0;34m,\u001b[0m \u001b[0mfile\u001b[0m\u001b[0;34m=\u001b[0m\u001b[0msys\u001b[0m\u001b[0;34m.\u001b[0m\u001b[0mstderr\u001b[0m\u001b[0;34m)\u001b[0m\u001b[0;34m\u001b[0m\u001b[0;34m\u001b[0m\u001b[0m\n\u001b[1;32m   1770\u001b[0m                 \u001b[0;32mraise\u001b[0m\u001b[0;34m\u001b[0m\u001b[0;34m\u001b[0m\u001b[0m\n\u001b[0;32m-> 1771\u001b[0;31m             \u001b[0;32mraise\u001b[0m \u001b[0mexc_value\u001b[0m\u001b[0;34m.\u001b[0m\u001b[0mwith_traceback\u001b[0m\u001b[0;34m(\u001b[0m\u001b[0mexc_trace\u001b[0m\u001b[0;34m)\u001b[0m\u001b[0;34m\u001b[0m\u001b[0;34m\u001b[0m\u001b[0m\n\u001b[0m\u001b[1;32m   1772\u001b[0m \u001b[0;34m\u001b[0m\u001b[0m\n\u001b[1;32m   1773\u001b[0m \u001b[0;34m\u001b[0m\u001b[0m\n",
      "\u001b[0;31mValueError\u001b[0m: cannot reshape array of size 8678700 into shape (10,10)"
     ]
    }
   ],
   "source": [
    "K = 5 # Number of submarkets\n",
    "n_homes, n_features = X_array.shape\n",
    "h_prior_var = 10 # Prior variance of home features\n",
    "b_prior_var = 1  # Prior variance of \"hedonic\" supply / demand regression parameters\n",
    "y_prior_var = 1  # Prior variance of y\n",
    "\n",
    "with Model() as baseline_mod:\n",
    "\n",
    "    submarket = pm.Categorical('submarket', p=np.ones(K), shape=n_homes)\n",
    "\n",
    "    mu_k = pm.Deterministic('mu_k', tt.as_tensor_variable(np.array([np.zeros(n_features) for _ in range(K)])))\n",
    "\n",
    "    sigma_k = pm.Deterministic('sigma_k', tt.as_tensor_variable(np.array([h_prior_var * np.eye(n_features) for _ in range(K)])))\n",
    "\n",
    "    homes = pm.MvNormal('homes', mu_k[submarket], sigma_k[submarket].reshape((n_features,n_features)), observed=X_array)\n",
    "\n",
    "    # Generate betas for \"hedonic\" regression\n",
    "    mu_b = pm.Deterministic('mu_b', tt.as_tensor_variable(np.array([np.zeros(n_features * 2) for _ in range(K)])))\n",
    "\n",
    "    sigma_b = pm.Deterministic('sigma_b', tt.as_tensor_variable(np.array([b_prior_var * np.eye(n_features * 2) for _ in range(K)])))\n",
    "\n",
    "    beta = pm.MvNormal('betas', mu_b[submarket], sigma_b[submarket].reshape((n_features,n_features)), shape=n_features)\n",
    "    \n",
    "    sigma_y = pm.Deterministic('sigma_y', tt.as_tensor_variable(y_prior_var * np.eye(2)))\n",
    "\n",
    "    # Final layer\n",
    "    y = pm.MvNormal('y', mu = np.dot(homes,beta.reshape((n_features,2))), sigma=sigma_y.reshape((2,2)))\n",
    "\n",
    "    pred = pm.Deterministic('pred', 1/(1+np.exp(-y)), observed = y_2019Q2)"
   ]
  },
  {
   "cell_type": "code",
   "execution_count": null,
   "metadata": {
    "cell_id": "00017-0bab2ed9-dca0-4379-87ee-308297deb13e",
    "deepnote_cell_type": "code",
    "deepnote_to_be_reexecuted": false,
    "execution_millis": 40996,
    "execution_start": 1614455388587,
    "source_hash": "9fdb14f3",
    "tags": []
   },
   "outputs": [],
   "source": [
    "K = 5 # Number of submarkets\n",
    "n_homes, n_features = X_array.shape\n",
    "h_prior_var = 1 # Prior variance of home features\n",
    "b_prior_var = 1  # Prior variance of \"hedonic\" supply / demand regression parameters\n",
    "y_prior_var = 1  # Prior variance of y\n",
    "mu_k_prior_var = 10\n",
    "\n",
    "with Model() as baseline_mod:\n",
    "\n",
    "    p = pm.Dirichlet('p', a=np.ones(K), shape=K)\n",
    "    submarket = pm.Categorical('submarket', p=p, shape=n_homes)\n",
    "\n",
    "    mu_k = [pm.Normal('mu_k_%d' % i, mu=np.zeros(n_features), sigma=10, shape=n_features) for i in range(K)]\n",
    "    sigma_k = [pm.Normal('sigma_%d' % i, mu=h_prior_var*np.ones(n_features**2), sigma=10, shape=n_features**2) for i in range(K)]\n",
    "\n",
    "    homes = pm.MvNormal('homes', mu_k[submarket], sigma_k[submarket].reshape((n_features,n_features)), observed=X_array)\n",
    "\n",
    "    # Generate betas for \"hedonic\" regression\n",
    "    mu_k = pm.Normal('mu_k', mu=np.zeros(K*n_features), sigma=10, shape=K*n_features)\n",
    "    sigma_k = pm.Normal('sigma_k', mu=np.zeros(K*n_features**2), sigma=10, shape=K*n_features**2)\n",
    "    mu_b = pm.Deterministic('mu_b', tt.as_tensor_variable(np.array([np.zeros(n_features * 2) for _ in range(K)])))\n",
    "\n",
    "    sigma_b = pm.Deterministic('sigma_b', tt.as_tensor_variable(np.array([b_prior_var * np.eye(n_features * 2) for _ in range(K)])))\n",
    "\n",
    "    beta = pm.MvNormal('betas', mu_b[submarket], sigma_b[submarket].reshape((n_features,n_features)), shape=n_features)\n",
    "    \n",
    "    sigma_y = pm.Deterministic('sigma_y', tt.as_tensor_variable(y_prior_var * np.eye(2)))\n",
    "\n",
    "    # Final layer\n",
    "    y = pm.MvNormal('y', mu = np.dot(homes,beta.reshape((n_features,2))), sigma=sigma_y.reshape((2,2)))\n",
    "\n",
    "    pred = pm.Deterministic('pred', 1/(1+np.exp(-y)), observed = y_2019Q2)"
   ]
  },
  {
   "cell_type": "code",
   "execution_count": null,
   "metadata": {
    "cell_id": "00018-d73d36a0-a987-4484-aca1-c2d20c1294cd",
    "deepnote_cell_type": "code",
    "deepnote_to_be_reexecuted": false,
    "execution_millis": 8084,
    "execution_start": 1614611249296,
    "source_hash": "f97ac77",
    "tags": []
   },
   "outputs": [],
   "source": [
    "K = 5 # Number of submarkets\n",
    "n_homes, n_features = X_array.shape\n",
    "mu_k_prior_var = 10\n",
    "sigma_k_prior_var = 10\n",
    "mu_b1_prior_var = 10\n",
    "sigma_b1_prior_var = 10\n",
    "mu_b2_prior_var = 10\n",
    "sigma_b2_prior_var = 10\n",
    "sigma_y_prior_var = 10\n",
    "\n",
    "with Model() as baseline_mod:\n",
    "\n",
    "    submarket = pm.Categorical('submarket', p=np.ones(K), shape=n_homes)\n",
    "\n",
    "    mu_k = pm.Normal('mu_k', mu=0, sigma=mu_k_prior_var, shape=(K,n_features))\n",
    "\n",
    "    sigma_k = pm.Normal('sigma_k', mu=0, sigma=sigma_k_prior_var, shape=(n_features,n_features))\n",
    "    # sigma_k = pm.Normal('sigma_k', mu=0, sigma=sigma_k_prior_var, shape=(K,n_features**2))\n",
    "\n",
    "    homes = pm.MvNormal('homes', mu_k[submarket], sigma_k, observed=X_array)\n",
    "\n",
    "    # Generate betas for \"hedonic\" regression\n",
    "    mu_b1 = pm.Normal('mu_b1', mu=0, sigma=mu_b1_prior_var, shape=(K,n_features))\n",
    "\n",
    "    sigma_b1 = pm.Normal('sigma_b1', mu=0, sigma=sigma_b1_prior_var, shape=(n_features,n_features))\n",
    "\n",
    "    beta1 = pm.MvNormal('beta1', mu_b1[submarket], sigma_b1, shape=(n_homes,n_features))\n",
    "\n",
    "    mu_b2 = pm.Normal('mu_b2', mu=0, sigma=mu_b2_prior_var, shape=(K,n_features))\n",
    "\n",
    "    sigma_b2 = pm.Normal('sigma_b2', mu=0, sigma=sigma_b2_prior_var, shape=(n_features,n_features))\n",
    "\n",
    "    beta2 = pm.MvNormal('beta2', mu_b2[submarket], sigma_b2, shape=(n_homes,n_features))\n",
    "    \n",
    "    sigma_y1 = pm.Uniform(\"sigma_y1\", lower=0, upper=20)\n",
    "    \n",
    "    sigma_y2 = pm.Uniform(\"sigma_y2\", lower=0, upper=20)\n",
    "\n",
    "    # Final layer\n",
    "    # y1 = pm.Normal('y1', mu=tt.dot(tt.matrix(homes),tt.transpose(tt.matrix(beta1)))[0,:], sigma=sigma_y1, shape=n_homes)\n",
    "    y1 = pm.Normal('y1', mu=1/(1+tt.exp(tt.tensordot(homes,tt.transpose(beta1)))), sigma=sigma_y1, observed = y_2019Q2[:,0])\n",
    "    y2 = pm.Normal('y2', mu=1/(1+tt.exp(tt.tensordot(homes,tt.transpose(beta2)))), sigma=sigma_y2, observed = y_2019Q2[:,1])\n",
    "    \n",
    "    # Deterministic cannot have observed argument\n",
    "    # pred1 = pm.Deterministic('pred1', 1/(1+np.exp(-y1)), observed = y_2019Q2[:,0])\n",
    "    # pred2 = pm.Deterministic('pred1', 1/(1+np.exp(-y2)), observed = y_2019Q2[:,1])"
   ]
  },
  {
   "cell_type": "code",
   "execution_count": null,
   "metadata": {
    "cell_id": "00017-02a88345-a2dd-413c-8ac6-2945924beb01",
    "deepnote_cell_type": "code",
    "deepnote_to_be_reexecuted": false,
    "execution_millis": 22,
    "execution_start": 1614611358917,
    "source_hash": "6c379c44",
    "tags": []
   },
   "outputs": [],
   "source": [
    "with baseline_mod:\n",
    "\n",
    "    step = pm.Metropolis(vars=[y1])\n",
    "    tr = pm.sample(1000, step = step)"
   ]
  },
  {
   "cell_type": "code",
   "execution_count": null,
   "metadata": {
    "cell_id": "00020-dc2e77f2-0940-4c1a-a1e1-9fe1414d82da",
    "deepnote_cell_type": "code",
    "tags": []
   },
   "outputs": [],
   "source": []
  },
  {
   "cell_type": "markdown",
   "metadata": {
    "created_in_deepnote_cell": true,
    "deepnote_cell_type": "markdown",
    "tags": []
   },
   "source": [
    "<a style='text-decoration:none;line-height:16px;display:flex;color:#5B5B62;padding:10px;justify-content:end;' href='https://deepnote.com?utm_source=created-in-deepnote-cell&projectId=1c850c61-d934-4c85-b16d-3cb283df0c84' target=\"_blank\">\n",
    "<img style='display:inline;max-height:16px;margin:0px;margin-right:7.5px;' src='data:image/svg+xml;base64,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' > </img>\n",
    "Created in <span style='font-weight:600;margin-left:4px;'>Deepnote</span></a>"
   ]
  }
 ],
 "metadata": {
  "deepnote": {},
  "deepnote_execution_queue": [],
  "deepnote_notebook_id": "2f9725a2-9837-4fd8-8c87-c5de4185a9d6",
  "kernelspec": {
   "display_name": "Python 3",
   "language": "python",
   "name": "python3"
  },
  "language_info": {
   "codemirror_mode": {
    "name": "ipython",
    "version": 3
   },
   "file_extension": ".py",
   "mimetype": "text/x-python",
   "name": "python",
   "nbconvert_exporter": "python",
   "pygments_lexer": "ipython3",
   "version": "3.8.3"
  }
 },
 "nbformat": 4,
 "nbformat_minor": 2
}
