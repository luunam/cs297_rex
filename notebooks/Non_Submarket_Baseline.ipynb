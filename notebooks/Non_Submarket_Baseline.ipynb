{
  "cells": [
    {
      "cell_type": "markdown",
      "source": "Baseline model\n\nThis sheet contains:\n\n2. DOM baseline model\n3. Time interval baseline model",
      "metadata": {
        "cell_id": "00001-6729fca4-e7d3-4145-a557-09e7d8383027",
        "tags": [],
        "deepnote_cell_type": "markdown"
      }
    },
    {
      "cell_type": "markdown",
      "source": "## 1. EDA\n\n## Add comments on EDA and the approach",
      "metadata": {
        "cell_id": "00001-8f45dbf2-efb1-450e-af11-cf6554501938",
        "tags": [],
        "deepnote_cell_type": "markdown"
      }
    },
    {
      "cell_type": "code",
      "metadata": {
        "cell_id": "00000-e0145bda-2f8f-406c-a6c1-5dcbf6080d6c",
        "deepnote_to_be_reexecuted": false,
        "execution_millis": 3263,
        "source_hash": "3250dd94",
        "execution_start": 1619564887765,
        "deepnote_cell_type": "code"
      },
      "source": "#required packages\nimport numpy as np\nimport pandas as pd\nimport matplotlib.pyplot as plt\nimport pymc3 as pm\nimport chardet\nimport datetime\n\nfrom sklearn.model_selection import train_test_split\nfrom sklearn.linear_model import LinearRegression\nfrom sklearn.linear_model import LogisticRegression\nfrom sklearn.linear_model import Ridge\nfrom sklearn import linear_model\n\nfrom sklearn.svm import SVR\nfrom sklearn.svm import LinearSVC\n\nfrom sklearn.ensemble import RandomForestRegressor\nfrom sklearn.ensemble import RandomForestClassifier\nfrom sklearn.ensemble import ExtraTreesClassifier\n\nfrom sklearn.metrics import mean_squared_error\nfrom sklearn.metrics import accuracy_score, f1_score, roc_auc_score\nfrom sklearn.metrics import accuracy_score\nfrom sklearn.metrics import mean_squared_error\n\nfrom sklearn.preprocessing import StandardScaler\n\nimport seaborn as sns\ncolor = sns.color_palette()\n\n%matplotlib inline",
      "execution_count": 1,
      "outputs": [
        {
          "name": "stderr",
          "text": "WARNING (theano.tensor.blas): Using NumPy C-API based implementation for BLAS functions.\n",
          "output_type": "stream"
        }
      ]
    },
    {
      "cell_type": "code",
      "metadata": {
        "cell_id": "00001-f14a2a0d-96d2-4d6b-a156-ce1a37d68ac4",
        "deepnote_to_be_reexecuted": false,
        "execution_millis": 1407,
        "source_hash": "763dfb73",
        "execution_start": 1619564891032,
        "deepnote_cell_type": "code"
      },
      "source": "# Attempting to model DOM (Days on markets) of each property\ndf = pd.read_csv('../data/archives/denver_mean_dom_discretize.csv')\n\ndf[\"list_date\"] = pd.to_datetime(df[\"list_date\"])\ndf[\"sale_date\"] = pd.to_datetime(df[\"sale_date\"])\n\nmapping = {k: v for v, k in enumerate(df.property_type.unique())}\nmapping",
      "execution_count": 2,
      "outputs": [
        {
          "output_type": "execute_result",
          "execution_count": 2,
          "data": {
            "text/plain": "{'SINGLE': 0,\n 'CONDO': 1,\n 'MULTI_FAMILY': 2,\n 'LAND': 3,\n 'OTHER': 4,\n 'TOWNHOUSE': 5}"
          },
          "metadata": {}
        }
      ]
    },
    {
      "cell_type": "code",
      "metadata": {
        "cell_id": "00002-e3a82b7a-f193-4e70-a62c-e008d63d19a0",
        "deepnote_to_be_reexecuted": false,
        "execution_millis": 3,
        "source_hash": "a2b610a6",
        "execution_start": 1619564892435,
        "deepnote_cell_type": "code"
      },
      "source": "scaler = StandardScaler()",
      "execution_count": 3,
      "outputs": []
    },
    {
      "cell_type": "code",
      "metadata": {
        "cell_id": "00003-d21df061-3aaf-4051-9448-18b73217521e",
        "deepnote_to_be_reexecuted": false,
        "execution_millis": 83,
        "source_hash": "903b7683",
        "execution_start": 1619564892442,
        "deepnote_cell_type": "code"
      },
      "source": "# df['dom'] = (df['sale_date'] - df['list_date']).dt.days.astype('int16')\ndf = df[(df['sqft'] < 6000) & (df['sale_price_per_sqft'] < 500)].copy()\ndf['property_type_code'] = df['property_type'].map(mapping)",
      "execution_count": 4,
      "outputs": []
    },
    {
      "cell_type": "code",
      "metadata": {
        "cell_id": "00004-6a14c864-0408-4c35-b5f1-45c73fc0d026",
        "deepnote_to_be_reexecuted": false,
        "execution_millis": 990,
        "source_hash": "a40f3081",
        "execution_start": 1619564892551,
        "deepnote_cell_type": "code"
      },
      "source": "# df['dom'].hist(bins=30)\nf, ax = plt.subplots(1,2)\nf.set_size_inches(12, 6, forward=True)\nsns.histplot(df['dom'],ax=ax[0])\nsns.histplot(df['dom_bucket'], ax=ax[1])",
      "execution_count": 5,
      "outputs": [
        {
          "output_type": "execute_result",
          "execution_count": 5,
          "data": {
            "text/plain": "<AxesSubplot:xlabel='dom_bucket', ylabel='Count'>"
          },
          "metadata": {}
        },
        {
          "data": {
            "text/plain": "<Figure size 864x432 with 2 Axes>",
            "image/png": "[encoded data removed]"
          },
          "metadata": {
            "needs_background": "light"
          },
          "output_type": "display_data"
        }
      ]
    },
    {
      "cell_type": "code",
      "metadata": {
        "cell_id": "00005-86769bca-e72e-4349-90ab-b1c52adce23a",
        "deepnote_to_be_reexecuted": false,
        "execution_millis": 307,
        "source_hash": "f88152d9",
        "execution_start": 1619564893548,
        "deepnote_cell_type": "code"
      },
      "source": "df.describe()",
      "execution_count": 6,
      "outputs": [
        {
          "output_type": "execute_result",
          "execution_count": 6,
          "data": {
            "application/vnd.deepnote.dataframe.v2+json": {
              "row_count": 8,
              "column_count": 20,
              "columns": [
                {
                  "name": "property_id",
                  "dtype": "float64",
                  "stats": {
                    "unique_count": 8,
                    "nan_count": 0,
                    "min": "10218.0",
                    "max": "2146688711.0",
                    "histogram": [
                      {
                        "bin_start": 10218,
                        "bin_end": 214678067.3,
                        "count": 5
                      },
                      {
                        "bin_start": 214678067.3,
                        "bin_end": 429345916.6,
                        "count": 2
                      },
                      {
                        "bin_start": 429345916.6,
                        "bin_end": 644013765.9000001,
                        "count": 0
                      },
                      {
                        "bin_start": 644013765.9000001,
                        "bin_end": 858681615.2,
                        "count": 0
                      },
                      {
                        "bin_start": 858681615.2,
                        "bin_end": 1073349464.5,
                        "count": 0
                      },
                      {
                        "bin_start": 1073349464.5,
                        "bin_end": 1288017313.8000002,
                        "count": 0
                      },
                      {
                        "bin_start": 1288017313.8000002,
                        "bin_end": 1502685163.1000001,
                        "count": 0
                      },
                      {
                        "bin_start": 1502685163.1000001,
                        "bin_end": 1717353012.4,
                        "count": 0
                      },
                      {
                        "bin_start": 1717353012.4,
                        "bin_end": 1932020861.7,
                        "count": 0
                      },
                      {
                        "bin_start": 1932020861.7,
                        "bin_end": 2146688711,
                        "count": 1
                      }
                    ]
                  }
                },
                {
                  "name": "zipcode",
                  "dtype": "float64",
                  "stats": {
                    "unique_count": 8,
                    "nan_count": 0,
                    "min": "178.40920975532052",
                    "max": "232498.0",
                    "histogram": [
                      {
                        "bin_start": 178.40920975532052,
                        "bin_end": 23410.36828877979,
                        "count": 1
                      },
                      {
                        "bin_start": 23410.36828877979,
                        "bin_end": 46642.32736780426,
                        "count": 0
                      },
                      {
                        "bin_start": 46642.32736780426,
                        "bin_end": 69874.28644682873,
                        "count": 0
                      },
                      {
                        "bin_start": 69874.28644682873,
                        "bin_end": 93106.2455258532,
                        "count": 6
                      },
                      {
                        "bin_start": 93106.2455258532,
                        "bin_end": 116338.20460487767,
                        "count": 0
                      },
                      {
                        "bin_start": 116338.20460487767,
                        "bin_end": 139570.16368390212,
                        "count": 0
                      },
                      {
                        "bin_start": 139570.16368390212,
                        "bin_end": 162802.1227629266,
                        "count": 0
                      },
                      {
                        "bin_start": 162802.1227629266,
                        "bin_end": 186034.08184195106,
                        "count": 0
                      },
                      {
                        "bin_start": 186034.08184195106,
                        "bin_end": 209266.04092097553,
                        "count": 0
                      },
                      {
                        "bin_start": 209266.04092097553,
                        "bin_end": 232498,
                        "count": 1
                      }
                    ]
                  }
                },
                {
                  "name": "fips",
                  "dtype": "float64",
                  "stats": {
                    "unique_count": 8,
                    "nan_count": 0,
                    "min": "2030.7413507697665",
                    "max": "232498.0",
                    "histogram": [
                      {
                        "bin_start": 2030.7413507697665,
                        "bin_end": 25077.46721569279,
                        "count": 6
                      },
                      {
                        "bin_start": 25077.46721569279,
                        "bin_end": 48124.19308061581,
                        "count": 0
                      },
                      {
                        "bin_start": 48124.19308061581,
                        "bin_end": 71170.91894553884,
                        "count": 1
                      },
                      {
                        "bin_start": 71170.91894553884,
                        "bin_end": 94217.64481046186,
                        "count": 0
                      },
                      {
                        "bin_start": 94217.64481046186,
                        "bin_end": 117264.37067538488,
                        "count": 0
                      },
                      {
                        "bin_start": 117264.37067538488,
                        "bin_end": 140311.09654030792,
                        "count": 0
                      },
                      {
                        "bin_start": 140311.09654030792,
                        "bin_end": 163357.82240523092,
                        "count": 0
                      },
                      {
                        "bin_start": 163357.82240523092,
                        "bin_end": 186404.54827015396,
                        "count": 0
                      },
                      {
                        "bin_start": 186404.54827015396,
                        "bin_end": 209451.274135077,
                        "count": 0
                      },
                      {
                        "bin_start": 209451.274135077,
                        "bin_end": 232498,
                        "count": 1
                      }
                    ]
                  }
                },
                {
                  "name": "sqft",
                  "dtype": "float64",
                  "stats": {
                    "unique_count": 8,
                    "nan_count": 0,
                    "min": "120.0",
                    "max": "232498.0",
                    "histogram": [
                      {
                        "bin_start": 120,
                        "bin_end": 23357.8,
                        "count": 7
                      },
                      {
                        "bin_start": 23357.8,
                        "bin_end": 46595.6,
                        "count": 0
                      },
                      {
                        "bin_start": 46595.6,
                        "bin_end": 69833.4,
                        "count": 0
                      },
                      {
                        "bin_start": 69833.4,
                        "bin_end": 93071.2,
                        "count": 0
                      },
                      {
                        "bin_start": 93071.2,
                        "bin_end": 116309,
                        "count": 0
                      },
                      {
                        "bin_start": 116309,
                        "bin_end": 139546.8,
                        "count": 0
                      },
                      {
                        "bin_start": 139546.8,
                        "bin_end": 162784.6,
                        "count": 0
                      },
                      {
                        "bin_start": 162784.6,
                        "bin_end": 186022.4,
                        "count": 0
                      },
                      {
                        "bin_start": 186022.4,
                        "bin_end": 209260.19999999998,
                        "count": 0
                      },
                      {
                        "bin_start": 209260.19999999998,
                        "bin_end": 232498,
                        "count": 1
                      }
                    ]
                  }
                },
                {
                  "name": "sale_price_per_sqft",
                  "dtype": "float64",
                  "stats": {
                    "unique_count": 8,
                    "nan_count": 0,
                    "min": "0.6243756243756243",
                    "max": "232498.0",
                    "histogram": [
                      {
                        "bin_start": 0.6243756243756243,
                        "bin_end": 23250.36193806194,
                        "count": 7
                      },
                      {
                        "bin_start": 23250.36193806194,
                        "bin_end": 46500.099500499506,
                        "count": 0
                      },
                      {
                        "bin_start": 46500.099500499506,
                        "bin_end": 69749.83706293706,
                        "count": 0
                      },
                      {
                        "bin_start": 69749.83706293706,
                        "bin_end": 92999.57462537463,
                        "count": 0
                      },
                      {
                        "bin_start": 92999.57462537463,
                        "bin_end": 116249.3121878122,
                        "count": 0
                      },
                      {
                        "bin_start": 116249.3121878122,
                        "bin_end": 139499.04975024975,
                        "count": 0
                      },
                      {
                        "bin_start": 139499.04975024975,
                        "bin_end": 162748.78731268732,
                        "count": 0
                      },
                      {
                        "bin_start": 162748.78731268732,
                        "bin_end": 185998.5248751249,
                        "count": 0
                      },
                      {
                        "bin_start": 185998.5248751249,
                        "bin_end": 209248.26243756246,
                        "count": 0
                      },
                      {
                        "bin_start": 209248.26243756246,
                        "bin_end": 232498,
                        "count": 1
                      }
                    ]
                  }
                },
                {
                  "name": "farm_score",
                  "dtype": "float64",
                  "stats": {
                    "unique_count": 5,
                    "nan_count": 0,
                    "min": "0.0",
                    "max": "232498.0",
                    "histogram": [
                      {
                        "bin_start": 0,
                        "bin_end": 23249.8,
                        "count": 7
                      },
                      {
                        "bin_start": 23249.8,
                        "bin_end": 46499.6,
                        "count": 0
                      },
                      {
                        "bin_start": 46499.6,
                        "bin_end": 69749.4,
                        "count": 0
                      },
                      {
                        "bin_start": 69749.4,
                        "bin_end": 92999.2,
                        "count": 0
                      },
                      {
                        "bin_start": 92999.2,
                        "bin_end": 116249,
                        "count": 0
                      },
                      {
                        "bin_start": 116249,
                        "bin_end": 139498.8,
                        "count": 0
                      },
                      {
                        "bin_start": 139498.8,
                        "bin_end": 162748.6,
                        "count": 0
                      },
                      {
                        "bin_start": 162748.6,
                        "bin_end": 185998.4,
                        "count": 0
                      },
                      {
                        "bin_start": 185998.4,
                        "bin_end": 209248.19999999998,
                        "count": 0
                      },
                      {
                        "bin_start": 209248.19999999998,
                        "bin_end": 232498,
                        "count": 1
                      }
                    ]
                  }
                },
                {
                  "name": "median_rental_price",
                  "dtype": "float64",
                  "stats": {
                    "unique_count": 8,
                    "nan_count": 0,
                    "min": "581.2993416108312",
                    "max": "232498.0",
                    "histogram": [
                      {
                        "bin_start": 581.2993416108312,
                        "bin_end": 23772.96940744975,
                        "count": 7
                      },
                      {
                        "bin_start": 23772.96940744975,
                        "bin_end": 46964.63947328866,
                        "count": 0
                      },
                      {
                        "bin_start": 46964.63947328866,
                        "bin_end": 70156.30953912759,
                        "count": 0
                      },
                      {
                        "bin_start": 70156.30953912759,
                        "bin_end": 93347.9796049665,
                        "count": 0
                      },
                      {
                        "bin_start": 93347.9796049665,
                        "bin_end": 116539.64967080542,
                        "count": 0
                      },
                      {
                        "bin_start": 116539.64967080542,
                        "bin_end": 139731.31973664433,
                        "count": 0
                      },
                      {
                        "bin_start": 139731.31973664433,
                        "bin_end": 162922.98980248327,
                        "count": 0
                      },
                      {
                        "bin_start": 162922.98980248327,
                        "bin_end": 186114.65986832217,
                        "count": 0
                      },
                      {
                        "bin_start": 186114.65986832217,
                        "bin_end": 209306.32993416107,
                        "count": 0
                      },
                      {
                        "bin_start": 209306.32993416107,
                        "bin_end": 232498,
                        "count": 1
                      }
                    ]
                  }
                },
                {
                  "name": "pop_density",
                  "dtype": "float64",
                  "stats": {
                    "unique_count": 8,
                    "nan_count": 0,
                    "min": "1.190135",
                    "max": "232498.0",
                    "histogram": [
                      {
                        "bin_start": 1.190135,
                        "bin_end": 23250.8711215,
                        "count": 6
                      },
                      {
                        "bin_start": 23250.8711215,
                        "bin_end": 46500.552107999996,
                        "count": 1
                      },
                      {
                        "bin_start": 46500.552107999996,
                        "bin_end": 69750.2330945,
                        "count": 0
                      },
                      {
                        "bin_start": 69750.2330945,
                        "bin_end": 92999.914081,
                        "count": 0
                      },
                      {
                        "bin_start": 92999.914081,
                        "bin_end": 116249.59506749999,
                        "count": 0
                      },
                      {
                        "bin_start": 116249.59506749999,
                        "bin_end": 139499.27605400002,
                        "count": 0
                      },
                      {
                        "bin_start": 139499.27605400002,
                        "bin_end": 162748.9570405,
                        "count": 0
                      },
                      {
                        "bin_start": 162748.9570405,
                        "bin_end": 185998.638027,
                        "count": 0
                      },
                      {
                        "bin_start": 185998.638027,
                        "bin_end": 209248.3190135,
                        "count": 0
                      },
                      {
                        "bin_start": 209248.3190135,
                        "bin_end": 232498,
                        "count": 1
                      }
                    ]
                  }
                },
                {
                  "name": "first_time_homebuyer_score",
                  "dtype": "float64",
                  "stats": {
                    "unique_count": 6,
                    "nan_count": 0,
                    "min": "0.383779",
                    "max": "232498.0",
                    "histogram": [
                      {
                        "bin_start": 0.383779,
                        "bin_end": 23250.1454011,
                        "count": 7
                      },
                      {
                        "bin_start": 23250.1454011,
                        "bin_end": 46499.9070232,
                        "count": 0
                      },
                      {
                        "bin_start": 46499.9070232,
                        "bin_end": 69749.6686453,
                        "count": 0
                      },
                      {
                        "bin_start": 69749.6686453,
                        "bin_end": 92999.43026739999,
                        "count": 0
                      },
                      {
                        "bin_start": 92999.43026739999,
                        "bin_end": 116249.19188949998,
                        "count": 0
                      },
                      {
                        "bin_start": 116249.19188949998,
                        "bin_end": 139498.9535116,
                        "count": 0
                      },
                      {
                        "bin_start": 139498.9535116,
                        "bin_end": 162748.7151337,
                        "count": 0
                      },
                      {
                        "bin_start": 162748.7151337,
                        "bin_end": 185998.4767558,
                        "count": 0
                      },
                      {
                        "bin_start": 185998.4767558,
                        "bin_end": 209248.23837789998,
                        "count": 0
                      },
                      {
                        "bin_start": 209248.23837789998,
                        "bin_end": 232498,
                        "count": 1
                      }
                    ]
                  }
                },
                {
                  "name": "retirement_friendly_score",
                  "dtype": "float64",
                  "stats": {
                    "unique_count": 8,
                    "nan_count": 0,
                    "min": "0.71077",
                    "max": "232498.0",
                    "histogram": [
                      {
                        "bin_start": 0.71077,
                        "bin_end": 23250.439693,
                        "count": 7
                      },
                      {
                        "bin_start": 23250.439693,
                        "bin_end": 46500.168615999995,
                        "count": 0
                      },
                      {
                        "bin_start": 46500.168615999995,
                        "bin_end": 69749.897539,
                        "count": 0
                      },
                      {
                        "bin_start": 69749.897539,
                        "bin_end": 92999.626462,
                        "count": 0
                      },
                      {
                        "bin_start": 92999.626462,
                        "bin_end": 116249.355385,
                        "count": 0
                      },
                      {
                        "bin_start": 116249.355385,
                        "bin_end": 139499.084308,
                        "count": 0
                      },
                      {
                        "bin_start": 139499.084308,
                        "bin_end": 162748.813231,
                        "count": 0
                      },
                      {
                        "bin_start": 162748.813231,
                        "bin_end": 185998.542154,
                        "count": 0
                      },
                      {
                        "bin_start": 185998.542154,
                        "bin_end": 209248.27107699998,
                        "count": 0
                      },
                      {
                        "bin_start": 209248.27107699998,
                        "bin_end": 232498,
                        "count": 1
                      }
                    ]
                  }
                },
                {
                  "name": "young_single_professional_score",
                  "dtype": "float64",
                  "stats": {
                    "unique_count": 8,
                    "nan_count": 0,
                    "min": "3.042529",
                    "max": "232498.0",
                    "histogram": [
                      {
                        "bin_start": 3.042529,
                        "bin_end": 23252.5382761,
                        "count": 7
                      },
                      {
                        "bin_start": 23252.5382761,
                        "bin_end": 46502.0340232,
                        "count": 0
                      },
                      {
                        "bin_start": 46502.0340232,
                        "bin_end": 69751.5297703,
                        "count": 0
                      },
                      {
                        "bin_start": 69751.5297703,
                        "bin_end": 93001.0255174,
                        "count": 0
                      },
                      {
                        "bin_start": 93001.0255174,
                        "bin_end": 116250.52126450001,
                        "count": 0
                      },
                      {
                        "bin_start": 116250.52126450001,
                        "bin_end": 139500.0170116,
                        "count": 0
                      },
                      {
                        "bin_start": 139500.0170116,
                        "bin_end": 162749.5127587,
                        "count": 0
                      },
                      {
                        "bin_start": 162749.5127587,
                        "bin_end": 185999.0085058,
                        "count": 0
                      },
                      {
                        "bin_start": 185999.0085058,
                        "bin_end": 209248.50425290002,
                        "count": 0
                      },
                      {
                        "bin_start": 209248.50425290002,
                        "bin_end": 232498,
                        "count": 1
                      }
                    ]
                  }
                },
                {
                  "name": "college_student_friendly_score",
                  "dtype": "float64",
                  "stats": {
                    "unique_count": 8,
                    "nan_count": 0,
                    "min": "3.956666",
                    "max": "232498.0",
                    "histogram": [
                      {
                        "bin_start": 3.956666,
                        "bin_end": 23253.360999399996,
                        "count": 7
                      },
                      {
                        "bin_start": 23253.360999399996,
                        "bin_end": 46502.765332799994,
                        "count": 0
                      },
                      {
                        "bin_start": 46502.765332799994,
                        "bin_end": 69752.16966619999,
                        "count": 0
                      },
                      {
                        "bin_start": 69752.16966619999,
                        "bin_end": 93001.57399959999,
                        "count": 0
                      },
                      {
                        "bin_start": 93001.57399959999,
                        "bin_end": 116250.97833299999,
                        "count": 0
                      },
                      {
                        "bin_start": 116250.97833299999,
                        "bin_end": 139500.3826664,
                        "count": 0
                      },
                      {
                        "bin_start": 139500.3826664,
                        "bin_end": 162749.7869998,
                        "count": 0
                      },
                      {
                        "bin_start": 162749.7869998,
                        "bin_end": 185999.1913332,
                        "count": 0
                      },
                      {
                        "bin_start": 185999.1913332,
                        "bin_end": 209248.59566659998,
                        "count": 0
                      },
                      {
                        "bin_start": 209248.59566659998,
                        "bin_end": 232498,
                        "count": 1
                      }
                    ]
                  }
                },
                {
                  "name": "violent_crime_rate",
                  "dtype": "float64",
                  "stats": {
                    "unique_count": 8,
                    "nan_count": 0,
                    "min": "0.0",
                    "max": "232498.0",
                    "histogram": [
                      {
                        "bin_start": 0,
                        "bin_end": 23249.8,
                        "count": 7
                      },
                      {
                        "bin_start": 23249.8,
                        "bin_end": 46499.6,
                        "count": 0
                      },
                      {
                        "bin_start": 46499.6,
                        "bin_end": 69749.4,
                        "count": 0
                      },
                      {
                        "bin_start": 69749.4,
                        "bin_end": 92999.2,
                        "count": 0
                      },
                      {
                        "bin_start": 92999.2,
                        "bin_end": 116249,
                        "count": 0
                      },
                      {
                        "bin_start": 116249,
                        "bin_end": 139498.8,
                        "count": 0
                      },
                      {
                        "bin_start": 139498.8,
                        "bin_end": 162748.6,
                        "count": 0
                      },
                      {
                        "bin_start": 162748.6,
                        "bin_end": 185998.4,
                        "count": 0
                      },
                      {
                        "bin_start": 185998.4,
                        "bin_end": 209248.19999999998,
                        "count": 0
                      },
                      {
                        "bin_start": 209248.19999999998,
                        "bin_end": 232498,
                        "count": 1
                      }
                    ]
                  }
                },
                {
                  "name": "walk",
                  "dtype": "float64",
                  "stats": {
                    "unique_count": 8,
                    "nan_count": 0,
                    "min": "0.0",
                    "max": "232498.0",
                    "histogram": [
                      {
                        "bin_start": 0,
                        "bin_end": 23249.8,
                        "count": 7
                      },
                      {
                        "bin_start": 23249.8,
                        "bin_end": 46499.6,
                        "count": 0
                      },
                      {
                        "bin_start": 46499.6,
                        "bin_end": 69749.4,
                        "count": 0
                      },
                      {
                        "bin_start": 69749.4,
                        "bin_end": 92999.2,
                        "count": 0
                      },
                      {
                        "bin_start": 92999.2,
                        "bin_end": 116249,
                        "count": 0
                      },
                      {
                        "bin_start": 116249,
                        "bin_end": 139498.8,
                        "count": 0
                      },
                      {
                        "bin_start": 139498.8,
                        "bin_end": 162748.6,
                        "count": 0
                      },
                      {
                        "bin_start": 162748.6,
                        "bin_end": 185998.4,
                        "count": 0
                      },
                      {
                        "bin_start": 185998.4,
                        "bin_end": 209248.19999999998,
                        "count": 0
                      },
                      {
                        "bin_start": 209248.19999999998,
                        "bin_end": 232498,
                        "count": 1
                      }
                    ]
                  }
                },
                {
                  "name": "public_transportation",
                  "dtype": "float64",
                  "stats": {
                    "unique_count": 8,
                    "nan_count": 0,
                    "min": "0.0",
                    "max": "232498.0",
                    "histogram": [
                      {
                        "bin_start": 0,
                        "bin_end": 23249.8,
                        "count": 7
                      },
                      {
                        "bin_start": 23249.8,
                        "bin_end": 46499.6,
                        "count": 0
                      },
                      {
                        "bin_start": 46499.6,
                        "bin_end": 69749.4,
                        "count": 0
                      },
                      {
                        "bin_start": 69749.4,
                        "bin_end": 92999.2,
                        "count": 0
                      },
                      {
                        "bin_start": 92999.2,
                        "bin_end": 116249,
                        "count": 0
                      },
                      {
                        "bin_start": 116249,
                        "bin_end": 139498.8,
                        "count": 0
                      },
                      {
                        "bin_start": 139498.8,
                        "bin_end": 162748.6,
                        "count": 0
                      },
                      {
                        "bin_start": 162748.6,
                        "bin_end": 185998.4,
                        "count": 0
                      },
                      {
                        "bin_start": 185998.4,
                        "bin_end": 209248.19999999998,
                        "count": 0
                      },
                      {
                        "bin_start": 209248.19999999998,
                        "bin_end": 232498,
                        "count": 1
                      }
                    ]
                  }
                },
                {
                  "name": "carpool",
                  "dtype": "float64",
                  "stats": {
                    "unique_count": 8,
                    "nan_count": 0,
                    "min": "0.0",
                    "max": "232498.0",
                    "histogram": [
                      {
                        "bin_start": 0,
                        "bin_end": 23249.8,
                        "count": 7
                      },
                      {
                        "bin_start": 23249.8,
                        "bin_end": 46499.6,
                        "count": 0
                      },
                      {
                        "bin_start": 46499.6,
                        "bin_end": 69749.4,
                        "count": 0
                      },
                      {
                        "bin_start": 69749.4,
                        "bin_end": 92999.2,
                        "count": 0
                      },
                      {
                        "bin_start": 92999.2,
                        "bin_end": 116249,
                        "count": 0
                      },
                      {
                        "bin_start": 116249,
                        "bin_end": 139498.8,
                        "count": 0
                      },
                      {
                        "bin_start": 139498.8,
                        "bin_end": 162748.6,
                        "count": 0
                      },
                      {
                        "bin_start": 162748.6,
                        "bin_end": 185998.4,
                        "count": 0
                      },
                      {
                        "bin_start": 185998.4,
                        "bin_end": 209248.19999999998,
                        "count": 0
                      },
                      {
                        "bin_start": 209248.19999999998,
                        "bin_end": 232498,
                        "count": 1
                      }
                    ]
                  }
                },
                {
                  "name": "dom",
                  "dtype": "float64",
                  "stats": {
                    "unique_count": 8,
                    "nan_count": 0,
                    "min": "1.0",
                    "max": "232498.0",
                    "histogram": [
                      {
                        "bin_start": 1,
                        "bin_end": 23250.7,
                        "count": 7
                      },
                      {
                        "bin_start": 23250.7,
                        "bin_end": 46500.4,
                        "count": 0
                      },
                      {
                        "bin_start": 46500.4,
                        "bin_end": 69750.1,
                        "count": 0
                      },
                      {
                        "bin_start": 69750.1,
                        "bin_end": 92999.8,
                        "count": 0
                      },
                      {
                        "bin_start": 92999.8,
                        "bin_end": 116249.5,
                        "count": 0
                      },
                      {
                        "bin_start": 116249.5,
                        "bin_end": 139499.2,
                        "count": 0
                      },
                      {
                        "bin_start": 139499.2,
                        "bin_end": 162748.9,
                        "count": 0
                      },
                      {
                        "bin_start": 162748.9,
                        "bin_end": 185998.6,
                        "count": 0
                      },
                      {
                        "bin_start": 185998.6,
                        "bin_end": 209248.30000000002,
                        "count": 0
                      },
                      {
                        "bin_start": 209248.30000000002,
                        "bin_end": 232498,
                        "count": 1
                      }
                    ]
                  }
                },
                {
                  "name": "mean_dom",
                  "dtype": "float64",
                  "stats": {
                    "unique_count": 8,
                    "nan_count": 0,
                    "min": "2.293873267878621",
                    "max": "232498.0",
                    "histogram": [
                      {
                        "bin_start": 2.293873267878621,
                        "bin_end": 23251.86448594109,
                        "count": 7
                      },
                      {
                        "bin_start": 23251.86448594109,
                        "bin_end": 46501.4350986143,
                        "count": 0
                      },
                      {
                        "bin_start": 46501.4350986143,
                        "bin_end": 69751.00571128751,
                        "count": 0
                      },
                      {
                        "bin_start": 69751.00571128751,
                        "bin_end": 93000.57632396072,
                        "count": 0
                      },
                      {
                        "bin_start": 93000.57632396072,
                        "bin_end": 116250.14693663393,
                        "count": 0
                      },
                      {
                        "bin_start": 116250.14693663393,
                        "bin_end": 139499.71754930716,
                        "count": 0
                      },
                      {
                        "bin_start": 139499.71754930716,
                        "bin_end": 162749.28816198037,
                        "count": 0
                      },
                      {
                        "bin_start": 162749.28816198037,
                        "bin_end": 185998.85877465358,
                        "count": 0
                      },
                      {
                        "bin_start": 185998.85877465358,
                        "bin_end": 209248.4293873268,
                        "count": 0
                      },
                      {
                        "bin_start": 209248.4293873268,
                        "bin_end": 232498,
                        "count": 1
                      }
                    ]
                  }
                },
                {
                  "name": "dom_bucket",
                  "dtype": "float64",
                  "stats": {
                    "unique_count": 6,
                    "nan_count": 0,
                    "min": "0.0",
                    "max": "232498.0",
                    "histogram": [
                      {
                        "bin_start": 0,
                        "bin_end": 23249.8,
                        "count": 7
                      },
                      {
                        "bin_start": 23249.8,
                        "bin_end": 46499.6,
                        "count": 0
                      },
                      {
                        "bin_start": 46499.6,
                        "bin_end": 69749.4,
                        "count": 0
                      },
                      {
                        "bin_start": 69749.4,
                        "bin_end": 92999.2,
                        "count": 0
                      },
                      {
                        "bin_start": 92999.2,
                        "bin_end": 116249,
                        "count": 0
                      },
                      {
                        "bin_start": 116249,
                        "bin_end": 139498.8,
                        "count": 0
                      },
                      {
                        "bin_start": 139498.8,
                        "bin_end": 162748.6,
                        "count": 0
                      },
                      {
                        "bin_start": 162748.6,
                        "bin_end": 185998.4,
                        "count": 0
                      },
                      {
                        "bin_start": 185998.4,
                        "bin_end": 209248.19999999998,
                        "count": 0
                      },
                      {
                        "bin_start": 209248.19999999998,
                        "bin_end": 232498,
                        "count": 1
                      }
                    ]
                  }
                },
                {
                  "name": "property_type_code",
                  "dtype": "float64",
                  "stats": {
                    "unique_count": 6,
                    "nan_count": 0,
                    "min": "0.0",
                    "max": "232498.0",
                    "histogram": [
                      {
                        "bin_start": 0,
                        "bin_end": 23249.8,
                        "count": 7
                      },
                      {
                        "bin_start": 23249.8,
                        "bin_end": 46499.6,
                        "count": 0
                      },
                      {
                        "bin_start": 46499.6,
                        "bin_end": 69749.4,
                        "count": 0
                      },
                      {
                        "bin_start": 69749.4,
                        "bin_end": 92999.2,
                        "count": 0
                      },
                      {
                        "bin_start": 92999.2,
                        "bin_end": 116249,
                        "count": 0
                      },
                      {
                        "bin_start": 116249,
                        "bin_end": 139498.8,
                        "count": 0
                      },
                      {
                        "bin_start": 139498.8,
                        "bin_end": 162748.6,
                        "count": 0
                      },
                      {
                        "bin_start": 162748.6,
                        "bin_end": 185998.4,
                        "count": 0
                      },
                      {
                        "bin_start": 185998.4,
                        "bin_end": 209248.19999999998,
                        "count": 0
                      },
                      {
                        "bin_start": 209248.19999999998,
                        "bin_end": 232498,
                        "count": 1
                      }
                    ]
                  }
                },
                {
                  "name": "_deepnote_index_column",
                  "dtype": "object"
                }
              ],
              "rows_top": [
                {
                  "property_id": 232498,
                  "zipcode": 232498,
                  "fips": 232498,
                  "sqft": 232498,
                  "sale_price_per_sqft": 232498,
                  "farm_score": 232498,
                  "median_rental_price": 232498,
                  "pop_density": 232498,
                  "first_time_homebuyer_score": 232498,
                  "retirement_friendly_score": 232498,
                  "young_single_professional_score": 232498,
                  "college_student_friendly_score": 232498,
                  "violent_crime_rate": 232498,
                  "walk": 232498,
                  "public_transportation": 232498,
                  "carpool": 232498,
                  "dom": 232498,
                  "mean_dom": 232498,
                  "dom_bucket": 232498,
                  "property_type_code": 232498,
                  "_deepnote_index_column": "count"
                },
                {
                  "property_id": 234554373.98517406,
                  "zipcode": 80204.90220991148,
                  "fips": 8142.678771430292,
                  "sqft": 1927.6045471358893,
                  "sale_price_per_sqft": 235.27870404224956,
                  "farm_score": 86.7850476133128,
                  "median_rental_price": 2155.1673811475125,
                  "pop_density": 4454.681361079679,
                  "first_time_homebuyer_score": 64.24106939473027,
                  "retirement_friendly_score": 62.06290445437811,
                  "young_single_professional_score": 41.97579818811775,
                  "college_student_friendly_score": 59.04868427007544,
                  "violent_crime_rate": 4.318042238174092,
                  "walk": 0.017280910602177138,
                  "public_transportation": 0.03528348038042354,
                  "carpool": 0.07993498177012613,
                  "dom": 47.43485105248217,
                  "mean_dom": 47.403507483539755,
                  "dom_bucket": 1.1337129781761563,
                  "property_type_code": 0.31436829564125285,
                  "_deepnote_index_column": "mean"
                },
                {
                  "property_id": 178788569.3711821,
                  "zipcode": 178.40920975532052,
                  "fips": 2030.7413507697665,
                  "sqft": 907.5247721253195,
                  "sale_price_per_sqft": 77.19799948013497,
                  "farm_score": 29.297348006028415,
                  "median_rental_price": 581.2993416108312,
                  "pop_density": 3202.533466704796,
                  "first_time_homebuyer_score": 38.30555567259475,
                  "retirement_friendly_score": 23.83590139172368,
                  "young_single_professional_score": 13.238119198736122,
                  "college_student_friendly_score": 22.919681536362102,
                  "violent_crime_rate": 3.7445635112539644,
                  "walk": 0.03137534909841746,
                  "public_transportation": 0.031315914910664544,
                  "carpool": 0.03958713868223773,
                  "dom": 19.413427160541563,
                  "mean_dom": 2.293873267878621,
                  "dom_bucket": 0.6970802045672694,
                  "property_type_code": 0.5525920829044241,
                  "_deepnote_index_column": "std"
                },
                {
                  "property_id": 10218,
                  "zipcode": 80002,
                  "fips": 5069,
                  "sqft": 120,
                  "sale_price_per_sqft": 0.6243756243756243,
                  "farm_score": 0,
                  "median_rental_price": 935,
                  "pop_density": 1.190135,
                  "first_time_homebuyer_score": 0.383779,
                  "retirement_friendly_score": 0.71077,
                  "young_single_professional_score": 3.042529,
                  "college_student_friendly_score": 3.956666,
                  "violent_crime_rate": 0,
                  "walk": 0,
                  "public_transportation": 0,
                  "carpool": 0,
                  "dom": 1,
                  "mean_dom": 40.695264367816094,
                  "dom_bucket": 0,
                  "property_type_code": 0,
                  "_deepnote_index_column": "min"
                },
                {
                  "property_id": 138652924.25,
                  "zipcode": 80030,
                  "fips": 8005,
                  "sqft": 1260,
                  "sale_price_per_sqft": 181.02372034956304,
                  "farm_score": 100,
                  "median_rental_price": 1724,
                  "pop_density": 2136.487544,
                  "first_time_homebuyer_score": 24.969933,
                  "retirement_friendly_score": 45.952597,
                  "young_single_professional_score": 34.510855,
                  "college_student_friendly_score": 41.245291,
                  "violent_crime_rate": 1.62037,
                  "walk": 0.0031635558367605,
                  "public_transportation": 0.012417539774932,
                  "carpool": 0.0536912751677852,
                  "dom": 34,
                  "mean_dom": 45.82674401948145,
                  "dom_bucket": 1,
                  "property_type_code": 0,
                  "_deepnote_index_column": "25%"
                },
                {
                  "property_id": 140135741,
                  "zipcode": 80204,
                  "fips": 8031,
                  "sqft": 1750,
                  "sale_price_per_sqft": 219.0265486725664,
                  "farm_score": 100,
                  "median_rental_price": 2077,
                  "pop_density": 4137.942853000001,
                  "first_time_homebuyer_score": 100,
                  "retirement_friendly_score": 66.516814,
                  "young_single_professional_score": 45.040448,
                  "college_student_friendly_score": 61.079491,
                  "violent_crime_rate": 3.022453,
                  "walk": 0.0085771947527749,
                  "public_transportation": 0.0271693344566133,
                  "carpool": 0.0729515686871763,
                  "dom": 43,
                  "mean_dom": 47.35244372590474,
                  "dom_bucket": 1,
                  "property_type_code": 0,
                  "_deepnote_index_column": "50%"
                },
                {
                  "property_id": 321976137.5,
                  "zipcode": 80241,
                  "fips": 8059,
                  "sqft": 2384,
                  "sale_price_per_sqft": 272.20366709323184,
                  "farm_score": 100,
                  "median_rental_price": 2485,
                  "pop_density": 6082.974111,
                  "first_time_homebuyer_score": 100,
                  "retirement_friendly_score": 81.92554100000002,
                  "young_single_professional_score": 50.88682,
                  "college_student_friendly_score": 77.841018,
                  "violent_crime_rate": 5.9563200000000025,
                  "walk": 0.0196882690730106,
                  "public_transportation": 0.0487701441899915,
                  "carpool": 0.0985074626865671,
                  "dom": 58,
                  "mean_dom": 49.05648554292364,
                  "dom_bucket": 1,
                  "property_type_code": 1,
                  "_deepnote_index_column": "75%"
                },
                {
                  "property_id": 2146688711,
                  "zipcode": 80643,
                  "fips": 51153,
                  "sqft": 5995,
                  "sale_price_per_sqft": 499.8863636363636,
                  "farm_score": 100,
                  "median_rental_price": 5009,
                  "pop_density": 31336.205118,
                  "first_time_homebuyer_score": 100,
                  "retirement_friendly_score": 99.975254,
                  "young_single_professional_score": 78.137148,
                  "college_student_friendly_score": 99.363469,
                  "violent_crime_rate": 39.370079,
                  "walk": 0.4576659038901602,
                  "public_transportation": 0.2045714285714285,
                  "carpool": 0.3163163163163163,
                  "dom": 99,
                  "mean_dom": 52.942219632004,
                  "dom_bucket": 3,
                  "property_type_code": 5,
                  "_deepnote_index_column": "max"
                }
              ],
              "rows_bottom": null
            },
            "text/plain": "        property_id       zipcode           fips           sqft  \\\ncount  2.324980e+05  232498.00000  232498.000000  232498.000000   \nmean   2.345544e+08   80204.90221    8142.678771    1927.604547   \nstd    1.787886e+08     178.40921    2030.741351     907.524772   \nmin    1.021800e+04   80002.00000    5069.000000     120.000000   \n25%    1.386529e+08   80030.00000    8005.000000    1260.000000   \n50%    1.401357e+08   80204.00000    8031.000000    1750.000000   \n75%    3.219761e+08   80241.00000    8059.000000    2384.000000   \nmax    2.146689e+09   80643.00000   51153.000000    5995.000000   \n\n       sale_price_per_sqft     farm_score  median_rental_price    pop_density  \\\ncount        232498.000000  232498.000000        232498.000000  232498.000000   \nmean            235.278704      86.785048          2155.167381    4454.681361   \nstd              77.197999      29.297348           581.299342    3202.533467   \nmin               0.624376       0.000000           935.000000       1.190135   \n25%             181.023720     100.000000          1724.000000    2136.487544   \n50%             219.026549     100.000000          2077.000000    4137.942853   \n75%             272.203667     100.000000          2485.000000    6082.974111   \nmax             499.886364     100.000000          5009.000000   31336.205118   \n\n       first_time_homebuyer_score  retirement_friendly_score  \\\ncount               232498.000000              232498.000000   \nmean                    64.241069                  62.062904   \nstd                     38.305556                  23.835901   \nmin                      0.383779                   0.710770   \n25%                     24.969933                  45.952597   \n50%                    100.000000                  66.516814   \n75%                    100.000000                  81.925541   \nmax                    100.000000                  99.975254   \n\n       young_single_professional_score  college_student_friendly_score  \\\ncount                    232498.000000                   232498.000000   \nmean                         41.975798                       59.048684   \nstd                          13.238119                       22.919682   \nmin                           3.042529                        3.956666   \n25%                          34.510855                       41.245291   \n50%                          45.040448                       61.079491   \n75%                          50.886820                       77.841018   \nmax                          78.137148                       99.363469   \n\n       violent_crime_rate           walk  public_transportation  \\\ncount       232498.000000  232498.000000          232498.000000   \nmean             4.318042       0.017281               0.035283   \nstd              3.744564       0.031375               0.031316   \nmin              0.000000       0.000000               0.000000   \n25%              1.620370       0.003164               0.012418   \n50%              3.022453       0.008577               0.027169   \n75%              5.956320       0.019688               0.048770   \nmax             39.370079       0.457666               0.204571   \n\n             carpool            dom       mean_dom     dom_bucket  \\\ncount  232498.000000  232498.000000  232498.000000  232498.000000   \nmean        0.079935      47.434851      47.403507       1.133713   \nstd         0.039587      19.413427       2.293873       0.697080   \nmin         0.000000       1.000000      40.695264       0.000000   \n25%         0.053691      34.000000      45.826744       1.000000   \n50%         0.072952      43.000000      47.352444       1.000000   \n75%         0.098507      58.000000      49.056486       1.000000   \nmax         0.316316      99.000000      52.942220       3.000000   \n\n       property_type_code  \ncount       232498.000000  \nmean             0.314368  \nstd              0.552592  \nmin              0.000000  \n25%              0.000000  \n50%              0.000000  \n75%              1.000000  \nmax              5.000000  ",
            "text/html": "<div>\n<style scoped>\n    .dataframe tbody tr th:only-of-type {\n        vertical-align: middle;\n    }\n\n    .dataframe tbody tr th {\n        vertical-align: top;\n    }\n\n    .dataframe thead th {\n        text-align: right;\n    }\n</style>\n<table border=\"1\" class=\"dataframe\">\n  <thead>\n    <tr style=\"text-align: right;\">\n      <th></th>\n      <th>property_id</th>\n      <th>zipcode</th>\n      <th>fips</th>\n      <th>sqft</th>\n      <th>sale_price_per_sqft</th>\n      <th>farm_score</th>\n      <th>median_rental_price</th>\n      <th>pop_density</th>\n      <th>first_time_homebuyer_score</th>\n      <th>retirement_friendly_score</th>\n      <th>young_single_professional_score</th>\n      <th>college_student_friendly_score</th>\n      <th>violent_crime_rate</th>\n      <th>walk</th>\n      <th>public_transportation</th>\n      <th>carpool</th>\n      <th>dom</th>\n      <th>mean_dom</th>\n      <th>dom_bucket</th>\n      <th>property_type_code</th>\n    </tr>\n  </thead>\n  <tbody>\n    <tr>\n      <th>count</th>\n      <td>2.324980e+05</td>\n      <td>232498.00000</td>\n      <td>232498.000000</td>\n      <td>232498.000000</td>\n      <td>232498.000000</td>\n      <td>232498.000000</td>\n      <td>232498.000000</td>\n      <td>232498.000000</td>\n      <td>232498.000000</td>\n      <td>232498.000000</td>\n      <td>232498.000000</td>\n      <td>232498.000000</td>\n      <td>232498.000000</td>\n      <td>232498.000000</td>\n      <td>232498.000000</td>\n      <td>232498.000000</td>\n      <td>232498.000000</td>\n      <td>232498.000000</td>\n      <td>232498.000000</td>\n      <td>232498.000000</td>\n    </tr>\n    <tr>\n      <th>mean</th>\n      <td>2.345544e+08</td>\n      <td>80204.90221</td>\n      <td>8142.678771</td>\n      <td>1927.604547</td>\n      <td>235.278704</td>\n      <td>86.785048</td>\n      <td>2155.167381</td>\n      <td>4454.681361</td>\n      <td>64.241069</td>\n      <td>62.062904</td>\n      <td>41.975798</td>\n      <td>59.048684</td>\n      <td>4.318042</td>\n      <td>0.017281</td>\n      <td>0.035283</td>\n      <td>0.079935</td>\n      <td>47.434851</td>\n      <td>47.403507</td>\n      <td>1.133713</td>\n      <td>0.314368</td>\n    </tr>\n    <tr>\n      <th>std</th>\n      <td>1.787886e+08</td>\n      <td>178.40921</td>\n      <td>2030.741351</td>\n      <td>907.524772</td>\n      <td>77.197999</td>\n      <td>29.297348</td>\n      <td>581.299342</td>\n      <td>3202.533467</td>\n      <td>38.305556</td>\n      <td>23.835901</td>\n      <td>13.238119</td>\n      <td>22.919682</td>\n      <td>3.744564</td>\n      <td>0.031375</td>\n      <td>0.031316</td>\n      <td>0.039587</td>\n      <td>19.413427</td>\n      <td>2.293873</td>\n      <td>0.697080</td>\n      <td>0.552592</td>\n    </tr>\n    <tr>\n      <th>min</th>\n      <td>1.021800e+04</td>\n      <td>80002.00000</td>\n      <td>5069.000000</td>\n      <td>120.000000</td>\n      <td>0.624376</td>\n      <td>0.000000</td>\n      <td>935.000000</td>\n      <td>1.190135</td>\n      <td>0.383779</td>\n      <td>0.710770</td>\n      <td>3.042529</td>\n      <td>3.956666</td>\n      <td>0.000000</td>\n      <td>0.000000</td>\n      <td>0.000000</td>\n      <td>0.000000</td>\n      <td>1.000000</td>\n      <td>40.695264</td>\n      <td>0.000000</td>\n      <td>0.000000</td>\n    </tr>\n    <tr>\n      <th>25%</th>\n      <td>1.386529e+08</td>\n      <td>80030.00000</td>\n      <td>8005.000000</td>\n      <td>1260.000000</td>\n      <td>181.023720</td>\n      <td>100.000000</td>\n      <td>1724.000000</td>\n      <td>2136.487544</td>\n      <td>24.969933</td>\n      <td>45.952597</td>\n      <td>34.510855</td>\n      <td>41.245291</td>\n      <td>1.620370</td>\n      <td>0.003164</td>\n      <td>0.012418</td>\n      <td>0.053691</td>\n      <td>34.000000</td>\n      <td>45.826744</td>\n      <td>1.000000</td>\n      <td>0.000000</td>\n    </tr>\n    <tr>\n      <th>50%</th>\n      <td>1.401357e+08</td>\n      <td>80204.00000</td>\n      <td>8031.000000</td>\n      <td>1750.000000</td>\n      <td>219.026549</td>\n      <td>100.000000</td>\n      <td>2077.000000</td>\n      <td>4137.942853</td>\n      <td>100.000000</td>\n      <td>66.516814</td>\n      <td>45.040448</td>\n      <td>61.079491</td>\n      <td>3.022453</td>\n      <td>0.008577</td>\n      <td>0.027169</td>\n      <td>0.072952</td>\n      <td>43.000000</td>\n      <td>47.352444</td>\n      <td>1.000000</td>\n      <td>0.000000</td>\n    </tr>\n    <tr>\n      <th>75%</th>\n      <td>3.219761e+08</td>\n      <td>80241.00000</td>\n      <td>8059.000000</td>\n      <td>2384.000000</td>\n      <td>272.203667</td>\n      <td>100.000000</td>\n      <td>2485.000000</td>\n      <td>6082.974111</td>\n      <td>100.000000</td>\n      <td>81.925541</td>\n      <td>50.886820</td>\n      <td>77.841018</td>\n      <td>5.956320</td>\n      <td>0.019688</td>\n      <td>0.048770</td>\n      <td>0.098507</td>\n      <td>58.000000</td>\n      <td>49.056486</td>\n      <td>1.000000</td>\n      <td>1.000000</td>\n    </tr>\n    <tr>\n      <th>max</th>\n      <td>2.146689e+09</td>\n      <td>80643.00000</td>\n      <td>51153.000000</td>\n      <td>5995.000000</td>\n      <td>499.886364</td>\n      <td>100.000000</td>\n      <td>5009.000000</td>\n      <td>31336.205118</td>\n      <td>100.000000</td>\n      <td>99.975254</td>\n      <td>78.137148</td>\n      <td>99.363469</td>\n      <td>39.370079</td>\n      <td>0.457666</td>\n      <td>0.204571</td>\n      <td>0.316316</td>\n      <td>99.000000</td>\n      <td>52.942220</td>\n      <td>3.000000</td>\n      <td>5.000000</td>\n    </tr>\n  </tbody>\n</table>\n</div>"
          },
          "metadata": {}
        }
      ]
    },
    {
      "cell_type": "code",
      "metadata": {
        "cell_id": "00006-36c1ec36-9d86-4e8d-81c8-089e042e1a4a",
        "deepnote_to_be_reexecuted": false,
        "execution_millis": 1484,
        "source_hash": "140bd43c",
        "execution_start": 1619564893858,
        "deepnote_cell_type": "code"
      },
      "source": "sns.jointplot(x = df.sqft, y = df.dom, height=6, kind='hist')",
      "execution_count": 7,
      "outputs": [
        {
          "output_type": "execute_result",
          "execution_count": 7,
          "data": {
            "text/plain": "<seaborn.axisgrid.JointGrid at 0x7f5aa9abd990>"
          },
          "metadata": {}
        },
        {
          "data": {
            "text/plain": "<Figure size 432x432 with 3 Axes>",
            "image/png": "[encoded data removed]"
          },
          "metadata": {
            "needs_background": "light"
          },
          "output_type": "display_data"
        }
      ]
    },
    {
      "cell_type": "code",
      "metadata": {
        "cell_id": "00007-a565da3a-753b-4adb-bebb-f69d2ebf4c1b",
        "deepnote_to_be_reexecuted": false,
        "execution_millis": 0,
        "source_hash": "7efac939",
        "execution_start": 1619564895348,
        "deepnote_cell_type": "code"
      },
      "source": "feature_columns = ['sqft', 'sale_price_per_sqft', 'median_rental_price', 'pop_density', \n                  'violent_crime_rate', 'public_transportation', 'carpool', 'fips', 'zipcode']\n\nnrows = 3\nncols = 3",
      "execution_count": 8,
      "outputs": []
    },
    {
      "cell_type": "code",
      "metadata": {
        "cell_id": "00008-5ab3e0e1-534e-4b2e-9b64-084388243d17",
        "deepnote_to_be_reexecuted": false,
        "execution_millis": 66012,
        "source_hash": "9cb621df",
        "execution_start": 1619564895356,
        "deepnote_cell_type": "code"
      },
      "source": "# Plotting the distribution of each column\nfig, ax = plt.subplots(nrows, ncols)\nfig.set_size_inches(20, 20, forward=True)\n\nfor i, col in enumerate(feature_columns):\n  row_idx = i // ncols\n  col_idx = i % ncols\n  \n  sns.histplot(df[col], ax=ax[row_idx, col_idx])\nplt.show()",
      "execution_count": 9,
      "outputs": [
        {
          "data": {
            "text/plain": "<Figure size 1440x1440 with 9 Axes>",
            "image/png": "[encoded data removed]"
          },
          "metadata": {
            "needs_background": "light"
          },
          "output_type": "display_data"
        }
      ]
    },
    {
      "cell_type": "code",
      "metadata": {
        "cell_id": "00009-7c74669a-87e3-4144-8363-d2bfad48d4c8",
        "deepnote_to_be_reexecuted": false,
        "execution_millis": 5261,
        "source_hash": "b527defc",
        "execution_start": 1619564961364,
        "deepnote_cell_type": "code"
      },
      "source": "# Plotting each column against y (days-on-market)\nfig, ax = plt.subplots(nrows, ncols)\nfig.set_size_inches(20, 20, forward=True)\n\nfor i, col in enumerate(feature_columns):\n  row_idx = i // ncols\n  col_idx = i % ncols\n  \n  sns.histplot(df, ax=ax[row_idx, col_idx], x=col, y='dom')\nplt.show()",
      "execution_count": 10,
      "outputs": [
        {
          "data": {
            "text/plain": "<Figure size 1440x1440 with 9 Axes>",
            "image/png": "[encoded data removed]"
          },
          "metadata": {
            "needs_background": "light"
          },
          "output_type": "display_data"
        }
      ]
    },
    {
      "cell_type": "code",
      "metadata": {
        "cell_id": "00010-ffccc76b-3fcb-45e5-a48e-9ef2040e9cbb",
        "deepnote_to_be_reexecuted": false,
        "execution_millis": 3061,
        "source_hash": "af07b18f",
        "execution_start": 1619564966608,
        "deepnote_cell_type": "code"
      },
      "source": "# Plotting each column against y (days-on-market bucket, the discretized version of dom)\n\nfig, ax = plt.subplots(nrows, ncols)\nfig.set_size_inches(20, 20, forward=True)\n\nfor i, col in enumerate(feature_columns):\n  row_idx = i // ncols\n  col_idx = i % ncols\n  \n  sns.histplot(df, ax=ax[row_idx, col_idx], x=col, y='dom_bucket')\nplt.show()",
      "execution_count": 11,
      "outputs": [
        {
          "data": {
            "text/plain": "<Figure size 1440x1440 with 9 Axes>",
            "image/png": "[encoded data removed]"
          },
          "metadata": {
            "needs_background": "light"
          },
          "output_type": "display_data"
        }
      ]
    },
    {
      "cell_type": "code",
      "metadata": {
        "cell_id": "00011-ade9940e-f9cf-4112-8eae-d1514fc8fc9c",
        "deepnote_to_be_reexecuted": false,
        "execution_millis": 341,
        "source_hash": "f88152d9",
        "execution_start": 1619564969678,
        "deepnote_cell_type": "code"
      },
      "source": "df.describe()",
      "execution_count": 12,
      "outputs": [
        {
          "output_type": "execute_result",
          "execution_count": 12,
          "data": {
            "application/vnd.deepnote.dataframe.v2+json": {
              "row_count": 8,
              "column_count": 20,
              "columns": [
                {
                  "name": "property_id",
                  "dtype": "float64",
                  "stats": {
                    "unique_count": 8,
                    "nan_count": 0,
                    "min": "10218.0",
                    "max": "2146688711.0",
                    "histogram": [
                      {
                        "bin_start": 10218,
                        "bin_end": 214678067.3,
                        "count": 5
                      },
                      {
                        "bin_start": 214678067.3,
                        "bin_end": 429345916.6,
                        "count": 2
                      },
                      {
                        "bin_start": 429345916.6,
                        "bin_end": 644013765.9000001,
                        "count": 0
                      },
                      {
                        "bin_start": 644013765.9000001,
                        "bin_end": 858681615.2,
                        "count": 0
                      },
                      {
                        "bin_start": 858681615.2,
                        "bin_end": 1073349464.5,
                        "count": 0
                      },
                      {
                        "bin_start": 1073349464.5,
                        "bin_end": 1288017313.8000002,
                        "count": 0
                      },
                      {
                        "bin_start": 1288017313.8000002,
                        "bin_end": 1502685163.1000001,
                        "count": 0
                      },
                      {
                        "bin_start": 1502685163.1000001,
                        "bin_end": 1717353012.4,
                        "count": 0
                      },
                      {
                        "bin_start": 1717353012.4,
                        "bin_end": 1932020861.7,
                        "count": 0
                      },
                      {
                        "bin_start": 1932020861.7,
                        "bin_end": 2146688711,
                        "count": 1
                      }
                    ]
                  }
                },
                {
                  "name": "zipcode",
                  "dtype": "float64",
                  "stats": {
                    "unique_count": 8,
                    "nan_count": 0,
                    "min": "178.40920975532052",
                    "max": "232498.0",
                    "histogram": [
                      {
                        "bin_start": 178.40920975532052,
                        "bin_end": 23410.36828877979,
                        "count": 1
                      },
                      {
                        "bin_start": 23410.36828877979,
                        "bin_end": 46642.32736780426,
                        "count": 0
                      },
                      {
                        "bin_start": 46642.32736780426,
                        "bin_end": 69874.28644682873,
                        "count": 0
                      },
                      {
                        "bin_start": 69874.28644682873,
                        "bin_end": 93106.2455258532,
                        "count": 6
                      },
                      {
                        "bin_start": 93106.2455258532,
                        "bin_end": 116338.20460487767,
                        "count": 0
                      },
                      {
                        "bin_start": 116338.20460487767,
                        "bin_end": 139570.16368390212,
                        "count": 0
                      },
                      {
                        "bin_start": 139570.16368390212,
                        "bin_end": 162802.1227629266,
                        "count": 0
                      },
                      {
                        "bin_start": 162802.1227629266,
                        "bin_end": 186034.08184195106,
                        "count": 0
                      },
                      {
                        "bin_start": 186034.08184195106,
                        "bin_end": 209266.04092097553,
                        "count": 0
                      },
                      {
                        "bin_start": 209266.04092097553,
                        "bin_end": 232498,
                        "count": 1
                      }
                    ]
                  }
                },
                {
                  "name": "fips",
                  "dtype": "float64",
                  "stats": {
                    "unique_count": 8,
                    "nan_count": 0,
                    "min": "2030.7413507697665",
                    "max": "232498.0",
                    "histogram": [
                      {
                        "bin_start": 2030.7413507697665,
                        "bin_end": 25077.46721569279,
                        "count": 6
                      },
                      {
                        "bin_start": 25077.46721569279,
                        "bin_end": 48124.19308061581,
                        "count": 0
                      },
                      {
                        "bin_start": 48124.19308061581,
                        "bin_end": 71170.91894553884,
                        "count": 1
                      },
                      {
                        "bin_start": 71170.91894553884,
                        "bin_end": 94217.64481046186,
                        "count": 0
                      },
                      {
                        "bin_start": 94217.64481046186,
                        "bin_end": 117264.37067538488,
                        "count": 0
                      },
                      {
                        "bin_start": 117264.37067538488,
                        "bin_end": 140311.09654030792,
                        "count": 0
                      },
                      {
                        "bin_start": 140311.09654030792,
                        "bin_end": 163357.82240523092,
                        "count": 0
                      },
                      {
                        "bin_start": 163357.82240523092,
                        "bin_end": 186404.54827015396,
                        "count": 0
                      },
                      {
                        "bin_start": 186404.54827015396,
                        "bin_end": 209451.274135077,
                        "count": 0
                      },
                      {
                        "bin_start": 209451.274135077,
                        "bin_end": 232498,
                        "count": 1
                      }
                    ]
                  }
                },
                {
                  "name": "sqft",
                  "dtype": "float64",
                  "stats": {
                    "unique_count": 8,
                    "nan_count": 0,
                    "min": "120.0",
                    "max": "232498.0",
                    "histogram": [
                      {
                        "bin_start": 120,
                        "bin_end": 23357.8,
                        "count": 7
                      },
                      {
                        "bin_start": 23357.8,
                        "bin_end": 46595.6,
                        "count": 0
                      },
                      {
                        "bin_start": 46595.6,
                        "bin_end": 69833.4,
                        "count": 0
                      },
                      {
                        "bin_start": 69833.4,
                        "bin_end": 93071.2,
                        "count": 0
                      },
                      {
                        "bin_start": 93071.2,
                        "bin_end": 116309,
                        "count": 0
                      },
                      {
                        "bin_start": 116309,
                        "bin_end": 139546.8,
                        "count": 0
                      },
                      {
                        "bin_start": 139546.8,
                        "bin_end": 162784.6,
                        "count": 0
                      },
                      {
                        "bin_start": 162784.6,
                        "bin_end": 186022.4,
                        "count": 0
                      },
                      {
                        "bin_start": 186022.4,
                        "bin_end": 209260.19999999998,
                        "count": 0
                      },
                      {
                        "bin_start": 209260.19999999998,
                        "bin_end": 232498,
                        "count": 1
                      }
                    ]
                  }
                },
                {
                  "name": "sale_price_per_sqft",
                  "dtype": "float64",
                  "stats": {
                    "unique_count": 8,
                    "nan_count": 0,
                    "min": "0.6243756243756243",
                    "max": "232498.0",
                    "histogram": [
                      {
                        "bin_start": 0.6243756243756243,
                        "bin_end": 23250.36193806194,
                        "count": 7
                      },
                      {
                        "bin_start": 23250.36193806194,
                        "bin_end": 46500.099500499506,
                        "count": 0
                      },
                      {
                        "bin_start": 46500.099500499506,
                        "bin_end": 69749.83706293706,
                        "count": 0
                      },
                      {
                        "bin_start": 69749.83706293706,
                        "bin_end": 92999.57462537463,
                        "count": 0
                      },
                      {
                        "bin_start": 92999.57462537463,
                        "bin_end": 116249.3121878122,
                        "count": 0
                      },
                      {
                        "bin_start": 116249.3121878122,
                        "bin_end": 139499.04975024975,
                        "count": 0
                      },
                      {
                        "bin_start": 139499.04975024975,
                        "bin_end": 162748.78731268732,
                        "count": 0
                      },
                      {
                        "bin_start": 162748.78731268732,
                        "bin_end": 185998.5248751249,
                        "count": 0
                      },
                      {
                        "bin_start": 185998.5248751249,
                        "bin_end": 209248.26243756246,
                        "count": 0
                      },
                      {
                        "bin_start": 209248.26243756246,
                        "bin_end": 232498,
                        "count": 1
                      }
                    ]
                  }
                },
                {
                  "name": "farm_score",
                  "dtype": "float64",
                  "stats": {
                    "unique_count": 5,
                    "nan_count": 0,
                    "min": "0.0",
                    "max": "232498.0",
                    "histogram": [
                      {
                        "bin_start": 0,
                        "bin_end": 23249.8,
                        "count": 7
                      },
                      {
                        "bin_start": 23249.8,
                        "bin_end": 46499.6,
                        "count": 0
                      },
                      {
                        "bin_start": 46499.6,
                        "bin_end": 69749.4,
                        "count": 0
                      },
                      {
                        "bin_start": 69749.4,
                        "bin_end": 92999.2,
                        "count": 0
                      },
                      {
                        "bin_start": 92999.2,
                        "bin_end": 116249,
                        "count": 0
                      },
                      {
                        "bin_start": 116249,
                        "bin_end": 139498.8,
                        "count": 0
                      },
                      {
                        "bin_start": 139498.8,
                        "bin_end": 162748.6,
                        "count": 0
                      },
                      {
                        "bin_start": 162748.6,
                        "bin_end": 185998.4,
                        "count": 0
                      },
                      {
                        "bin_start": 185998.4,
                        "bin_end": 209248.19999999998,
                        "count": 0
                      },
                      {
                        "bin_start": 209248.19999999998,
                        "bin_end": 232498,
                        "count": 1
                      }
                    ]
                  }
                },
                {
                  "name": "median_rental_price",
                  "dtype": "float64",
                  "stats": {
                    "unique_count": 8,
                    "nan_count": 0,
                    "min": "581.2993416108312",
                    "max": "232498.0",
                    "histogram": [
                      {
                        "bin_start": 581.2993416108312,
                        "bin_end": 23772.96940744975,
                        "count": 7
                      },
                      {
                        "bin_start": 23772.96940744975,
                        "bin_end": 46964.63947328866,
                        "count": 0
                      },
                      {
                        "bin_start": 46964.63947328866,
                        "bin_end": 70156.30953912759,
                        "count": 0
                      },
                      {
                        "bin_start": 70156.30953912759,
                        "bin_end": 93347.9796049665,
                        "count": 0
                      },
                      {
                        "bin_start": 93347.9796049665,
                        "bin_end": 116539.64967080542,
                        "count": 0
                      },
                      {
                        "bin_start": 116539.64967080542,
                        "bin_end": 139731.31973664433,
                        "count": 0
                      },
                      {
                        "bin_start": 139731.31973664433,
                        "bin_end": 162922.98980248327,
                        "count": 0
                      },
                      {
                        "bin_start": 162922.98980248327,
                        "bin_end": 186114.65986832217,
                        "count": 0
                      },
                      {
                        "bin_start": 186114.65986832217,
                        "bin_end": 209306.32993416107,
                        "count": 0
                      },
                      {
                        "bin_start": 209306.32993416107,
                        "bin_end": 232498,
                        "count": 1
                      }
                    ]
                  }
                },
                {
                  "name": "pop_density",
                  "dtype": "float64",
                  "stats": {
                    "unique_count": 8,
                    "nan_count": 0,
                    "min": "1.190135",
                    "max": "232498.0",
                    "histogram": [
                      {
                        "bin_start": 1.190135,
                        "bin_end": 23250.8711215,
                        "count": 6
                      },
                      {
                        "bin_start": 23250.8711215,
                        "bin_end": 46500.552107999996,
                        "count": 1
                      },
                      {
                        "bin_start": 46500.552107999996,
                        "bin_end": 69750.2330945,
                        "count": 0
                      },
                      {
                        "bin_start": 69750.2330945,
                        "bin_end": 92999.914081,
                        "count": 0
                      },
                      {
                        "bin_start": 92999.914081,
                        "bin_end": 116249.59506749999,
                        "count": 0
                      },
                      {
                        "bin_start": 116249.59506749999,
                        "bin_end": 139499.27605400002,
                        "count": 0
                      },
                      {
                        "bin_start": 139499.27605400002,
                        "bin_end": 162748.9570405,
                        "count": 0
                      },
                      {
                        "bin_start": 162748.9570405,
                        "bin_end": 185998.638027,
                        "count": 0
                      },
                      {
                        "bin_start": 185998.638027,
                        "bin_end": 209248.3190135,
                        "count": 0
                      },
                      {
                        "bin_start": 209248.3190135,
                        "bin_end": 232498,
                        "count": 1
                      }
                    ]
                  }
                },
                {
                  "name": "first_time_homebuyer_score",
                  "dtype": "float64",
                  "stats": {
                    "unique_count": 6,
                    "nan_count": 0,
                    "min": "0.383779",
                    "max": "232498.0",
                    "histogram": [
                      {
                        "bin_start": 0.383779,
                        "bin_end": 23250.1454011,
                        "count": 7
                      },
                      {
                        "bin_start": 23250.1454011,
                        "bin_end": 46499.9070232,
                        "count": 0
                      },
                      {
                        "bin_start": 46499.9070232,
                        "bin_end": 69749.6686453,
                        "count": 0
                      },
                      {
                        "bin_start": 69749.6686453,
                        "bin_end": 92999.43026739999,
                        "count": 0
                      },
                      {
                        "bin_start": 92999.43026739999,
                        "bin_end": 116249.19188949998,
                        "count": 0
                      },
                      {
                        "bin_start": 116249.19188949998,
                        "bin_end": 139498.9535116,
                        "count": 0
                      },
                      {
                        "bin_start": 139498.9535116,
                        "bin_end": 162748.7151337,
                        "count": 0
                      },
                      {
                        "bin_start": 162748.7151337,
                        "bin_end": 185998.4767558,
                        "count": 0
                      },
                      {
                        "bin_start": 185998.4767558,
                        "bin_end": 209248.23837789998,
                        "count": 0
                      },
                      {
                        "bin_start": 209248.23837789998,
                        "bin_end": 232498,
                        "count": 1
                      }
                    ]
                  }
                },
                {
                  "name": "retirement_friendly_score",
                  "dtype": "float64",
                  "stats": {
                    "unique_count": 8,
                    "nan_count": 0,
                    "min": "0.71077",
                    "max": "232498.0",
                    "histogram": [
                      {
                        "bin_start": 0.71077,
                        "bin_end": 23250.439693,
                        "count": 7
                      },
                      {
                        "bin_start": 23250.439693,
                        "bin_end": 46500.168615999995,
                        "count": 0
                      },
                      {
                        "bin_start": 46500.168615999995,
                        "bin_end": 69749.897539,
                        "count": 0
                      },
                      {
                        "bin_start": 69749.897539,
                        "bin_end": 92999.626462,
                        "count": 0
                      },
                      {
                        "bin_start": 92999.626462,
                        "bin_end": 116249.355385,
                        "count": 0
                      },
                      {
                        "bin_start": 116249.355385,
                        "bin_end": 139499.084308,
                        "count": 0
                      },
                      {
                        "bin_start": 139499.084308,
                        "bin_end": 162748.813231,
                        "count": 0
                      },
                      {
                        "bin_start": 162748.813231,
                        "bin_end": 185998.542154,
                        "count": 0
                      },
                      {
                        "bin_start": 185998.542154,
                        "bin_end": 209248.27107699998,
                        "count": 0
                      },
                      {
                        "bin_start": 209248.27107699998,
                        "bin_end": 232498,
                        "count": 1
                      }
                    ]
                  }
                },
                {
                  "name": "young_single_professional_score",
                  "dtype": "float64",
                  "stats": {
                    "unique_count": 8,
                    "nan_count": 0,
                    "min": "3.042529",
                    "max": "232498.0",
                    "histogram": [
                      {
                        "bin_start": 3.042529,
                        "bin_end": 23252.5382761,
                        "count": 7
                      },
                      {
                        "bin_start": 23252.5382761,
                        "bin_end": 46502.0340232,
                        "count": 0
                      },
                      {
                        "bin_start": 46502.0340232,
                        "bin_end": 69751.5297703,
                        "count": 0
                      },
                      {
                        "bin_start": 69751.5297703,
                        "bin_end": 93001.0255174,
                        "count": 0
                      },
                      {
                        "bin_start": 93001.0255174,
                        "bin_end": 116250.52126450001,
                        "count": 0
                      },
                      {
                        "bin_start": 116250.52126450001,
                        "bin_end": 139500.0170116,
                        "count": 0
                      },
                      {
                        "bin_start": 139500.0170116,
                        "bin_end": 162749.5127587,
                        "count": 0
                      },
                      {
                        "bin_start": 162749.5127587,
                        "bin_end": 185999.0085058,
                        "count": 0
                      },
                      {
                        "bin_start": 185999.0085058,
                        "bin_end": 209248.50425290002,
                        "count": 0
                      },
                      {
                        "bin_start": 209248.50425290002,
                        "bin_end": 232498,
                        "count": 1
                      }
                    ]
                  }
                },
                {
                  "name": "college_student_friendly_score",
                  "dtype": "float64",
                  "stats": {
                    "unique_count": 8,
                    "nan_count": 0,
                    "min": "3.956666",
                    "max": "232498.0",
                    "histogram": [
                      {
                        "bin_start": 3.956666,
                        "bin_end": 23253.360999399996,
                        "count": 7
                      },
                      {
                        "bin_start": 23253.360999399996,
                        "bin_end": 46502.765332799994,
                        "count": 0
                      },
                      {
                        "bin_start": 46502.765332799994,
                        "bin_end": 69752.16966619999,
                        "count": 0
                      },
                      {
                        "bin_start": 69752.16966619999,
                        "bin_end": 93001.57399959999,
                        "count": 0
                      },
                      {
                        "bin_start": 93001.57399959999,
                        "bin_end": 116250.97833299999,
                        "count": 0
                      },
                      {
                        "bin_start": 116250.97833299999,
                        "bin_end": 139500.3826664,
                        "count": 0
                      },
                      {
                        "bin_start": 139500.3826664,
                        "bin_end": 162749.7869998,
                        "count": 0
                      },
                      {
                        "bin_start": 162749.7869998,
                        "bin_end": 185999.1913332,
                        "count": 0
                      },
                      {
                        "bin_start": 185999.1913332,
                        "bin_end": 209248.59566659998,
                        "count": 0
                      },
                      {
                        "bin_start": 209248.59566659998,
                        "bin_end": 232498,
                        "count": 1
                      }
                    ]
                  }
                },
                {
                  "name": "violent_crime_rate",
                  "dtype": "float64",
                  "stats": {
                    "unique_count": 8,
                    "nan_count": 0,
                    "min": "0.0",
                    "max": "232498.0",
                    "histogram": [
                      {
                        "bin_start": 0,
                        "bin_end": 23249.8,
                        "count": 7
                      },
                      {
                        "bin_start": 23249.8,
                        "bin_end": 46499.6,
                        "count": 0
                      },
                      {
                        "bin_start": 46499.6,
                        "bin_end": 69749.4,
                        "count": 0
                      },
                      {
                        "bin_start": 69749.4,
                        "bin_end": 92999.2,
                        "count": 0
                      },
                      {
                        "bin_start": 92999.2,
                        "bin_end": 116249,
                        "count": 0
                      },
                      {
                        "bin_start": 116249,
                        "bin_end": 139498.8,
                        "count": 0
                      },
                      {
                        "bin_start": 139498.8,
                        "bin_end": 162748.6,
                        "count": 0
                      },
                      {
                        "bin_start": 162748.6,
                        "bin_end": 185998.4,
                        "count": 0
                      },
                      {
                        "bin_start": 185998.4,
                        "bin_end": 209248.19999999998,
                        "count": 0
                      },
                      {
                        "bin_start": 209248.19999999998,
                        "bin_end": 232498,
                        "count": 1
                      }
                    ]
                  }
                },
                {
                  "name": "walk",
                  "dtype": "float64",
                  "stats": {
                    "unique_count": 8,
                    "nan_count": 0,
                    "min": "0.0",
                    "max": "232498.0",
                    "histogram": [
                      {
                        "bin_start": 0,
                        "bin_end": 23249.8,
                        "count": 7
                      },
                      {
                        "bin_start": 23249.8,
                        "bin_end": 46499.6,
                        "count": 0
                      },
                      {
                        "bin_start": 46499.6,
                        "bin_end": 69749.4,
                        "count": 0
                      },
                      {
                        "bin_start": 69749.4,
                        "bin_end": 92999.2,
                        "count": 0
                      },
                      {
                        "bin_start": 92999.2,
                        "bin_end": 116249,
                        "count": 0
                      },
                      {
                        "bin_start": 116249,
                        "bin_end": 139498.8,
                        "count": 0
                      },
                      {
                        "bin_start": 139498.8,
                        "bin_end": 162748.6,
                        "count": 0
                      },
                      {
                        "bin_start": 162748.6,
                        "bin_end": 185998.4,
                        "count": 0
                      },
                      {
                        "bin_start": 185998.4,
                        "bin_end": 209248.19999999998,
                        "count": 0
                      },
                      {
                        "bin_start": 209248.19999999998,
                        "bin_end": 232498,
                        "count": 1
                      }
                    ]
                  }
                },
                {
                  "name": "public_transportation",
                  "dtype": "float64",
                  "stats": {
                    "unique_count": 8,
                    "nan_count": 0,
                    "min": "0.0",
                    "max": "232498.0",
                    "histogram": [
                      {
                        "bin_start": 0,
                        "bin_end": 23249.8,
                        "count": 7
                      },
                      {
                        "bin_start": 23249.8,
                        "bin_end": 46499.6,
                        "count": 0
                      },
                      {
                        "bin_start": 46499.6,
                        "bin_end": 69749.4,
                        "count": 0
                      },
                      {
                        "bin_start": 69749.4,
                        "bin_end": 92999.2,
                        "count": 0
                      },
                      {
                        "bin_start": 92999.2,
                        "bin_end": 116249,
                        "count": 0
                      },
                      {
                        "bin_start": 116249,
                        "bin_end": 139498.8,
                        "count": 0
                      },
                      {
                        "bin_start": 139498.8,
                        "bin_end": 162748.6,
                        "count": 0
                      },
                      {
                        "bin_start": 162748.6,
                        "bin_end": 185998.4,
                        "count": 0
                      },
                      {
                        "bin_start": 185998.4,
                        "bin_end": 209248.19999999998,
                        "count": 0
                      },
                      {
                        "bin_start": 209248.19999999998,
                        "bin_end": 232498,
                        "count": 1
                      }
                    ]
                  }
                },
                {
                  "name": "carpool",
                  "dtype": "float64",
                  "stats": {
                    "unique_count": 8,
                    "nan_count": 0,
                    "min": "0.0",
                    "max": "232498.0",
                    "histogram": [
                      {
                        "bin_start": 0,
                        "bin_end": 23249.8,
                        "count": 7
                      },
                      {
                        "bin_start": 23249.8,
                        "bin_end": 46499.6,
                        "count": 0
                      },
                      {
                        "bin_start": 46499.6,
                        "bin_end": 69749.4,
                        "count": 0
                      },
                      {
                        "bin_start": 69749.4,
                        "bin_end": 92999.2,
                        "count": 0
                      },
                      {
                        "bin_start": 92999.2,
                        "bin_end": 116249,
                        "count": 0
                      },
                      {
                        "bin_start": 116249,
                        "bin_end": 139498.8,
                        "count": 0
                      },
                      {
                        "bin_start": 139498.8,
                        "bin_end": 162748.6,
                        "count": 0
                      },
                      {
                        "bin_start": 162748.6,
                        "bin_end": 185998.4,
                        "count": 0
                      },
                      {
                        "bin_start": 185998.4,
                        "bin_end": 209248.19999999998,
                        "count": 0
                      },
                      {
                        "bin_start": 209248.19999999998,
                        "bin_end": 232498,
                        "count": 1
                      }
                    ]
                  }
                },
                {
                  "name": "dom",
                  "dtype": "float64",
                  "stats": {
                    "unique_count": 8,
                    "nan_count": 0,
                    "min": "1.0",
                    "max": "232498.0",
                    "histogram": [
                      {
                        "bin_start": 1,
                        "bin_end": 23250.7,
                        "count": 7
                      },
                      {
                        "bin_start": 23250.7,
                        "bin_end": 46500.4,
                        "count": 0
                      },
                      {
                        "bin_start": 46500.4,
                        "bin_end": 69750.1,
                        "count": 0
                      },
                      {
                        "bin_start": 69750.1,
                        "bin_end": 92999.8,
                        "count": 0
                      },
                      {
                        "bin_start": 92999.8,
                        "bin_end": 116249.5,
                        "count": 0
                      },
                      {
                        "bin_start": 116249.5,
                        "bin_end": 139499.2,
                        "count": 0
                      },
                      {
                        "bin_start": 139499.2,
                        "bin_end": 162748.9,
                        "count": 0
                      },
                      {
                        "bin_start": 162748.9,
                        "bin_end": 185998.6,
                        "count": 0
                      },
                      {
                        "bin_start": 185998.6,
                        "bin_end": 209248.30000000002,
                        "count": 0
                      },
                      {
                        "bin_start": 209248.30000000002,
                        "bin_end": 232498,
                        "count": 1
                      }
                    ]
                  }
                },
                {
                  "name": "mean_dom",
                  "dtype": "float64",
                  "stats": {
                    "unique_count": 8,
                    "nan_count": 0,
                    "min": "2.293873267878621",
                    "max": "232498.0",
                    "histogram": [
                      {
                        "bin_start": 2.293873267878621,
                        "bin_end": 23251.86448594109,
                        "count": 7
                      },
                      {
                        "bin_start": 23251.86448594109,
                        "bin_end": 46501.4350986143,
                        "count": 0
                      },
                      {
                        "bin_start": 46501.4350986143,
                        "bin_end": 69751.00571128751,
                        "count": 0
                      },
                      {
                        "bin_start": 69751.00571128751,
                        "bin_end": 93000.57632396072,
                        "count": 0
                      },
                      {
                        "bin_start": 93000.57632396072,
                        "bin_end": 116250.14693663393,
                        "count": 0
                      },
                      {
                        "bin_start": 116250.14693663393,
                        "bin_end": 139499.71754930716,
                        "count": 0
                      },
                      {
                        "bin_start": 139499.71754930716,
                        "bin_end": 162749.28816198037,
                        "count": 0
                      },
                      {
                        "bin_start": 162749.28816198037,
                        "bin_end": 185998.85877465358,
                        "count": 0
                      },
                      {
                        "bin_start": 185998.85877465358,
                        "bin_end": 209248.4293873268,
                        "count": 0
                      },
                      {
                        "bin_start": 209248.4293873268,
                        "bin_end": 232498,
                        "count": 1
                      }
                    ]
                  }
                },
                {
                  "name": "dom_bucket",
                  "dtype": "float64",
                  "stats": {
                    "unique_count": 6,
                    "nan_count": 0,
                    "min": "0.0",
                    "max": "232498.0",
                    "histogram": [
                      {
                        "bin_start": 0,
                        "bin_end": 23249.8,
                        "count": 7
                      },
                      {
                        "bin_start": 23249.8,
                        "bin_end": 46499.6,
                        "count": 0
                      },
                      {
                        "bin_start": 46499.6,
                        "bin_end": 69749.4,
                        "count": 0
                      },
                      {
                        "bin_start": 69749.4,
                        "bin_end": 92999.2,
                        "count": 0
                      },
                      {
                        "bin_start": 92999.2,
                        "bin_end": 116249,
                        "count": 0
                      },
                      {
                        "bin_start": 116249,
                        "bin_end": 139498.8,
                        "count": 0
                      },
                      {
                        "bin_start": 139498.8,
                        "bin_end": 162748.6,
                        "count": 0
                      },
                      {
                        "bin_start": 162748.6,
                        "bin_end": 185998.4,
                        "count": 0
                      },
                      {
                        "bin_start": 185998.4,
                        "bin_end": 209248.19999999998,
                        "count": 0
                      },
                      {
                        "bin_start": 209248.19999999998,
                        "bin_end": 232498,
                        "count": 1
                      }
                    ]
                  }
                },
                {
                  "name": "property_type_code",
                  "dtype": "float64",
                  "stats": {
                    "unique_count": 6,
                    "nan_count": 0,
                    "min": "0.0",
                    "max": "232498.0",
                    "histogram": [
                      {
                        "bin_start": 0,
                        "bin_end": 23249.8,
                        "count": 7
                      },
                      {
                        "bin_start": 23249.8,
                        "bin_end": 46499.6,
                        "count": 0
                      },
                      {
                        "bin_start": 46499.6,
                        "bin_end": 69749.4,
                        "count": 0
                      },
                      {
                        "bin_start": 69749.4,
                        "bin_end": 92999.2,
                        "count": 0
                      },
                      {
                        "bin_start": 92999.2,
                        "bin_end": 116249,
                        "count": 0
                      },
                      {
                        "bin_start": 116249,
                        "bin_end": 139498.8,
                        "count": 0
                      },
                      {
                        "bin_start": 139498.8,
                        "bin_end": 162748.6,
                        "count": 0
                      },
                      {
                        "bin_start": 162748.6,
                        "bin_end": 185998.4,
                        "count": 0
                      },
                      {
                        "bin_start": 185998.4,
                        "bin_end": 209248.19999999998,
                        "count": 0
                      },
                      {
                        "bin_start": 209248.19999999998,
                        "bin_end": 232498,
                        "count": 1
                      }
                    ]
                  }
                },
                {
                  "name": "_deepnote_index_column",
                  "dtype": "object"
                }
              ],
              "rows_top": [
                {
                  "property_id": 232498,
                  "zipcode": 232498,
                  "fips": 232498,
                  "sqft": 232498,
                  "sale_price_per_sqft": 232498,
                  "farm_score": 232498,
                  "median_rental_price": 232498,
                  "pop_density": 232498,
                  "first_time_homebuyer_score": 232498,
                  "retirement_friendly_score": 232498,
                  "young_single_professional_score": 232498,
                  "college_student_friendly_score": 232498,
                  "violent_crime_rate": 232498,
                  "walk": 232498,
                  "public_transportation": 232498,
                  "carpool": 232498,
                  "dom": 232498,
                  "mean_dom": 232498,
                  "dom_bucket": 232498,
                  "property_type_code": 232498,
                  "_deepnote_index_column": "count"
                },
                {
                  "property_id": 234554373.98517406,
                  "zipcode": 80204.90220991148,
                  "fips": 8142.678771430292,
                  "sqft": 1927.6045471358893,
                  "sale_price_per_sqft": 235.27870404224956,
                  "farm_score": 86.7850476133128,
                  "median_rental_price": 2155.1673811475125,
                  "pop_density": 4454.681361079679,
                  "first_time_homebuyer_score": 64.24106939473027,
                  "retirement_friendly_score": 62.06290445437811,
                  "young_single_professional_score": 41.97579818811775,
                  "college_student_friendly_score": 59.04868427007544,
                  "violent_crime_rate": 4.318042238174092,
                  "walk": 0.017280910602177138,
                  "public_transportation": 0.03528348038042354,
                  "carpool": 0.07993498177012613,
                  "dom": 47.43485105248217,
                  "mean_dom": 47.403507483539755,
                  "dom_bucket": 1.1337129781761563,
                  "property_type_code": 0.31436829564125285,
                  "_deepnote_index_column": "mean"
                },
                {
                  "property_id": 178788569.3711821,
                  "zipcode": 178.40920975532052,
                  "fips": 2030.7413507697665,
                  "sqft": 907.5247721253195,
                  "sale_price_per_sqft": 77.19799948013497,
                  "farm_score": 29.297348006028415,
                  "median_rental_price": 581.2993416108312,
                  "pop_density": 3202.533466704796,
                  "first_time_homebuyer_score": 38.30555567259475,
                  "retirement_friendly_score": 23.83590139172368,
                  "young_single_professional_score": 13.238119198736122,
                  "college_student_friendly_score": 22.919681536362102,
                  "violent_crime_rate": 3.7445635112539644,
                  "walk": 0.03137534909841746,
                  "public_transportation": 0.031315914910664544,
                  "carpool": 0.03958713868223773,
                  "dom": 19.413427160541563,
                  "mean_dom": 2.293873267878621,
                  "dom_bucket": 0.6970802045672694,
                  "property_type_code": 0.5525920829044241,
                  "_deepnote_index_column": "std"
                },
                {
                  "property_id": 10218,
                  "zipcode": 80002,
                  "fips": 5069,
                  "sqft": 120,
                  "sale_price_per_sqft": 0.6243756243756243,
                  "farm_score": 0,
                  "median_rental_price": 935,
                  "pop_density": 1.190135,
                  "first_time_homebuyer_score": 0.383779,
                  "retirement_friendly_score": 0.71077,
                  "young_single_professional_score": 3.042529,
                  "college_student_friendly_score": 3.956666,
                  "violent_crime_rate": 0,
                  "walk": 0,
                  "public_transportation": 0,
                  "carpool": 0,
                  "dom": 1,
                  "mean_dom": 40.695264367816094,
                  "dom_bucket": 0,
                  "property_type_code": 0,
                  "_deepnote_index_column": "min"
                },
                {
                  "property_id": 138652924.25,
                  "zipcode": 80030,
                  "fips": 8005,
                  "sqft": 1260,
                  "sale_price_per_sqft": 181.02372034956304,
                  "farm_score": 100,
                  "median_rental_price": 1724,
                  "pop_density": 2136.487544,
                  "first_time_homebuyer_score": 24.969933,
                  "retirement_friendly_score": 45.952597,
                  "young_single_professional_score": 34.510855,
                  "college_student_friendly_score": 41.245291,
                  "violent_crime_rate": 1.62037,
                  "walk": 0.0031635558367605,
                  "public_transportation": 0.012417539774932,
                  "carpool": 0.0536912751677852,
                  "dom": 34,
                  "mean_dom": 45.82674401948145,
                  "dom_bucket": 1,
                  "property_type_code": 0,
                  "_deepnote_index_column": "25%"
                },
                {
                  "property_id": 140135741,
                  "zipcode": 80204,
                  "fips": 8031,
                  "sqft": 1750,
                  "sale_price_per_sqft": 219.0265486725664,
                  "farm_score": 100,
                  "median_rental_price": 2077,
                  "pop_density": 4137.942853000001,
                  "first_time_homebuyer_score": 100,
                  "retirement_friendly_score": 66.516814,
                  "young_single_professional_score": 45.040448,
                  "college_student_friendly_score": 61.079491,
                  "violent_crime_rate": 3.022453,
                  "walk": 0.0085771947527749,
                  "public_transportation": 0.0271693344566133,
                  "carpool": 0.0729515686871763,
                  "dom": 43,
                  "mean_dom": 47.35244372590474,
                  "dom_bucket": 1,
                  "property_type_code": 0,
                  "_deepnote_index_column": "50%"
                },
                {
                  "property_id": 321976137.5,
                  "zipcode": 80241,
                  "fips": 8059,
                  "sqft": 2384,
                  "sale_price_per_sqft": 272.20366709323184,
                  "farm_score": 100,
                  "median_rental_price": 2485,
                  "pop_density": 6082.974111,
                  "first_time_homebuyer_score": 100,
                  "retirement_friendly_score": 81.92554100000002,
                  "young_single_professional_score": 50.88682,
                  "college_student_friendly_score": 77.841018,
                  "violent_crime_rate": 5.9563200000000025,
                  "walk": 0.0196882690730106,
                  "public_transportation": 0.0487701441899915,
                  "carpool": 0.0985074626865671,
                  "dom": 58,
                  "mean_dom": 49.05648554292364,
                  "dom_bucket": 1,
                  "property_type_code": 1,
                  "_deepnote_index_column": "75%"
                },
                {
                  "property_id": 2146688711,
                  "zipcode": 80643,
                  "fips": 51153,
                  "sqft": 5995,
                  "sale_price_per_sqft": 499.8863636363636,
                  "farm_score": 100,
                  "median_rental_price": 5009,
                  "pop_density": 31336.205118,
                  "first_time_homebuyer_score": 100,
                  "retirement_friendly_score": 99.975254,
                  "young_single_professional_score": 78.137148,
                  "college_student_friendly_score": 99.363469,
                  "violent_crime_rate": 39.370079,
                  "walk": 0.4576659038901602,
                  "public_transportation": 0.2045714285714285,
                  "carpool": 0.3163163163163163,
                  "dom": 99,
                  "mean_dom": 52.942219632004,
                  "dom_bucket": 3,
                  "property_type_code": 5,
                  "_deepnote_index_column": "max"
                }
              ],
              "rows_bottom": null
            },
            "text/plain": "        property_id       zipcode           fips           sqft  \\\ncount  2.324980e+05  232498.00000  232498.000000  232498.000000   \nmean   2.345544e+08   80204.90221    8142.678771    1927.604547   \nstd    1.787886e+08     178.40921    2030.741351     907.524772   \nmin    1.021800e+04   80002.00000    5069.000000     120.000000   \n25%    1.386529e+08   80030.00000    8005.000000    1260.000000   \n50%    1.401357e+08   80204.00000    8031.000000    1750.000000   \n75%    3.219761e+08   80241.00000    8059.000000    2384.000000   \nmax    2.146689e+09   80643.00000   51153.000000    5995.000000   \n\n       sale_price_per_sqft     farm_score  median_rental_price    pop_density  \\\ncount        232498.000000  232498.000000        232498.000000  232498.000000   \nmean            235.278704      86.785048          2155.167381    4454.681361   \nstd              77.197999      29.297348           581.299342    3202.533467   \nmin               0.624376       0.000000           935.000000       1.190135   \n25%             181.023720     100.000000          1724.000000    2136.487544   \n50%             219.026549     100.000000          2077.000000    4137.942853   \n75%             272.203667     100.000000          2485.000000    6082.974111   \nmax             499.886364     100.000000          5009.000000   31336.205118   \n\n       first_time_homebuyer_score  retirement_friendly_score  \\\ncount               232498.000000              232498.000000   \nmean                    64.241069                  62.062904   \nstd                     38.305556                  23.835901   \nmin                      0.383779                   0.710770   \n25%                     24.969933                  45.952597   \n50%                    100.000000                  66.516814   \n75%                    100.000000                  81.925541   \nmax                    100.000000                  99.975254   \n\n       young_single_professional_score  college_student_friendly_score  \\\ncount                    232498.000000                   232498.000000   \nmean                         41.975798                       59.048684   \nstd                          13.238119                       22.919682   \nmin                           3.042529                        3.956666   \n25%                          34.510855                       41.245291   \n50%                          45.040448                       61.079491   \n75%                          50.886820                       77.841018   \nmax                          78.137148                       99.363469   \n\n       violent_crime_rate           walk  public_transportation  \\\ncount       232498.000000  232498.000000          232498.000000   \nmean             4.318042       0.017281               0.035283   \nstd              3.744564       0.031375               0.031316   \nmin              0.000000       0.000000               0.000000   \n25%              1.620370       0.003164               0.012418   \n50%              3.022453       0.008577               0.027169   \n75%              5.956320       0.019688               0.048770   \nmax             39.370079       0.457666               0.204571   \n\n             carpool            dom       mean_dom     dom_bucket  \\\ncount  232498.000000  232498.000000  232498.000000  232498.000000   \nmean        0.079935      47.434851      47.403507       1.133713   \nstd         0.039587      19.413427       2.293873       0.697080   \nmin         0.000000       1.000000      40.695264       0.000000   \n25%         0.053691      34.000000      45.826744       1.000000   \n50%         0.072952      43.000000      47.352444       1.000000   \n75%         0.098507      58.000000      49.056486       1.000000   \nmax         0.316316      99.000000      52.942220       3.000000   \n\n       property_type_code  \ncount       232498.000000  \nmean             0.314368  \nstd              0.552592  \nmin              0.000000  \n25%              0.000000  \n50%              0.000000  \n75%              1.000000  \nmax              5.000000  ",
            "text/html": "<div>\n<style scoped>\n    .dataframe tbody tr th:only-of-type {\n        vertical-align: middle;\n    }\n\n    .dataframe tbody tr th {\n        vertical-align: top;\n    }\n\n    .dataframe thead th {\n        text-align: right;\n    }\n</style>\n<table border=\"1\" class=\"dataframe\">\n  <thead>\n    <tr style=\"text-align: right;\">\n      <th></th>\n      <th>property_id</th>\n      <th>zipcode</th>\n      <th>fips</th>\n      <th>sqft</th>\n      <th>sale_price_per_sqft</th>\n      <th>farm_score</th>\n      <th>median_rental_price</th>\n      <th>pop_density</th>\n      <th>first_time_homebuyer_score</th>\n      <th>retirement_friendly_score</th>\n      <th>young_single_professional_score</th>\n      <th>college_student_friendly_score</th>\n      <th>violent_crime_rate</th>\n      <th>walk</th>\n      <th>public_transportation</th>\n      <th>carpool</th>\n      <th>dom</th>\n      <th>mean_dom</th>\n      <th>dom_bucket</th>\n      <th>property_type_code</th>\n    </tr>\n  </thead>\n  <tbody>\n    <tr>\n      <th>count</th>\n      <td>2.324980e+05</td>\n      <td>232498.00000</td>\n      <td>232498.000000</td>\n      <td>232498.000000</td>\n      <td>232498.000000</td>\n      <td>232498.000000</td>\n      <td>232498.000000</td>\n      <td>232498.000000</td>\n      <td>232498.000000</td>\n      <td>232498.000000</td>\n      <td>232498.000000</td>\n      <td>232498.000000</td>\n      <td>232498.000000</td>\n      <td>232498.000000</td>\n      <td>232498.000000</td>\n      <td>232498.000000</td>\n      <td>232498.000000</td>\n      <td>232498.000000</td>\n      <td>232498.000000</td>\n      <td>232498.000000</td>\n    </tr>\n    <tr>\n      <th>mean</th>\n      <td>2.345544e+08</td>\n      <td>80204.90221</td>\n      <td>8142.678771</td>\n      <td>1927.604547</td>\n      <td>235.278704</td>\n      <td>86.785048</td>\n      <td>2155.167381</td>\n      <td>4454.681361</td>\n      <td>64.241069</td>\n      <td>62.062904</td>\n      <td>41.975798</td>\n      <td>59.048684</td>\n      <td>4.318042</td>\n      <td>0.017281</td>\n      <td>0.035283</td>\n      <td>0.079935</td>\n      <td>47.434851</td>\n      <td>47.403507</td>\n      <td>1.133713</td>\n      <td>0.314368</td>\n    </tr>\n    <tr>\n      <th>std</th>\n      <td>1.787886e+08</td>\n      <td>178.40921</td>\n      <td>2030.741351</td>\n      <td>907.524772</td>\n      <td>77.197999</td>\n      <td>29.297348</td>\n      <td>581.299342</td>\n      <td>3202.533467</td>\n      <td>38.305556</td>\n      <td>23.835901</td>\n      <td>13.238119</td>\n      <td>22.919682</td>\n      <td>3.744564</td>\n      <td>0.031375</td>\n      <td>0.031316</td>\n      <td>0.039587</td>\n      <td>19.413427</td>\n      <td>2.293873</td>\n      <td>0.697080</td>\n      <td>0.552592</td>\n    </tr>\n    <tr>\n      <th>min</th>\n      <td>1.021800e+04</td>\n      <td>80002.00000</td>\n      <td>5069.000000</td>\n      <td>120.000000</td>\n      <td>0.624376</td>\n      <td>0.000000</td>\n      <td>935.000000</td>\n      <td>1.190135</td>\n      <td>0.383779</td>\n      <td>0.710770</td>\n      <td>3.042529</td>\n      <td>3.956666</td>\n      <td>0.000000</td>\n      <td>0.000000</td>\n      <td>0.000000</td>\n      <td>0.000000</td>\n      <td>1.000000</td>\n      <td>40.695264</td>\n      <td>0.000000</td>\n      <td>0.000000</td>\n    </tr>\n    <tr>\n      <th>25%</th>\n      <td>1.386529e+08</td>\n      <td>80030.00000</td>\n      <td>8005.000000</td>\n      <td>1260.000000</td>\n      <td>181.023720</td>\n      <td>100.000000</td>\n      <td>1724.000000</td>\n      <td>2136.487544</td>\n      <td>24.969933</td>\n      <td>45.952597</td>\n      <td>34.510855</td>\n      <td>41.245291</td>\n      <td>1.620370</td>\n      <td>0.003164</td>\n      <td>0.012418</td>\n      <td>0.053691</td>\n      <td>34.000000</td>\n      <td>45.826744</td>\n      <td>1.000000</td>\n      <td>0.000000</td>\n    </tr>\n    <tr>\n      <th>50%</th>\n      <td>1.401357e+08</td>\n      <td>80204.00000</td>\n      <td>8031.000000</td>\n      <td>1750.000000</td>\n      <td>219.026549</td>\n      <td>100.000000</td>\n      <td>2077.000000</td>\n      <td>4137.942853</td>\n      <td>100.000000</td>\n      <td>66.516814</td>\n      <td>45.040448</td>\n      <td>61.079491</td>\n      <td>3.022453</td>\n      <td>0.008577</td>\n      <td>0.027169</td>\n      <td>0.072952</td>\n      <td>43.000000</td>\n      <td>47.352444</td>\n      <td>1.000000</td>\n      <td>0.000000</td>\n    </tr>\n    <tr>\n      <th>75%</th>\n      <td>3.219761e+08</td>\n      <td>80241.00000</td>\n      <td>8059.000000</td>\n      <td>2384.000000</td>\n      <td>272.203667</td>\n      <td>100.000000</td>\n      <td>2485.000000</td>\n      <td>6082.974111</td>\n      <td>100.000000</td>\n      <td>81.925541</td>\n      <td>50.886820</td>\n      <td>77.841018</td>\n      <td>5.956320</td>\n      <td>0.019688</td>\n      <td>0.048770</td>\n      <td>0.098507</td>\n      <td>58.000000</td>\n      <td>49.056486</td>\n      <td>1.000000</td>\n      <td>1.000000</td>\n    </tr>\n    <tr>\n      <th>max</th>\n      <td>2.146689e+09</td>\n      <td>80643.00000</td>\n      <td>51153.000000</td>\n      <td>5995.000000</td>\n      <td>499.886364</td>\n      <td>100.000000</td>\n      <td>5009.000000</td>\n      <td>31336.205118</td>\n      <td>100.000000</td>\n      <td>99.975254</td>\n      <td>78.137148</td>\n      <td>99.363469</td>\n      <td>39.370079</td>\n      <td>0.457666</td>\n      <td>0.204571</td>\n      <td>0.316316</td>\n      <td>99.000000</td>\n      <td>52.942220</td>\n      <td>3.000000</td>\n      <td>5.000000</td>\n    </tr>\n  </tbody>\n</table>\n</div>"
          },
          "metadata": {}
        }
      ]
    },
    {
      "cell_type": "code",
      "metadata": {
        "cell_id": "00012-6a0c4d1c-0c12-4f57-a3bd-7d6e6f81051a",
        "deepnote_to_be_reexecuted": false,
        "source_hash": "ee803065",
        "execution_start": 1619564969957,
        "execution_millis": 62,
        "deepnote_cell_type": "code"
      },
      "source": "'''\ndef calculate_mean_dom(x):\n  before = x['list_date'] - pd.Timedelta(days=90)\n  \n  near_dates = df[(df['list_date'] >= before) & (df['list_date'] < x['list_date'])]\n  mean_dom = near_dates['dom'].mean()\n  if mean_dom > 0:\n    x.at['mean_dom'] = mean_dom\n  return x\n'''",
      "execution_count": 13,
      "outputs": [
        {
          "output_type": "execute_result",
          "execution_count": 13,
          "data": {
            "text/plain": "\"\\ndef calculate_mean_dom(x):\\n  before = x['list_date'] - pd.Timedelta(days=90)\\n  \\n  near_dates = df[(df['list_date'] >= before) & (df['list_date'] < x['list_date'])]\\n  mean_dom = near_dates['dom'].mean()\\n  if mean_dom > 0:\\n    x.at['mean_dom'] = mean_dom\\n  return x\\n\""
          },
          "metadata": {}
        }
      ]
    },
    {
      "cell_type": "code",
      "metadata": {
        "cell_id": "00013-04109f9c-3ae2-4320-bf97-a36e38c4d909",
        "deepnote_to_be_reexecuted": false,
        "source_hash": "f893e5f8",
        "execution_start": 1619564969964,
        "execution_millis": 2,
        "deepnote_cell_type": "code"
      },
      "source": "# df['mean_dom'] = df['dom'].mean()",
      "execution_count": 14,
      "outputs": []
    },
    {
      "cell_type": "code",
      "metadata": {
        "cell_id": "00014-5b102667-5c61-4cb8-835f-c84a9df3b020",
        "deepnote_to_be_reexecuted": false,
        "source_hash": "f6832eeb",
        "execution_start": 1619564969970,
        "execution_millis": 5,
        "deepnote_cell_type": "code"
      },
      "source": "# df = df.apply(calculate_mean_dom, axis=1)",
      "execution_count": 15,
      "outputs": []
    },
    {
      "cell_type": "code",
      "metadata": {
        "cell_id": "00015-6a4f0076-e930-40e2-a783-05f9c7f5b72b",
        "deepnote_to_be_reexecuted": false,
        "source_hash": "3466ac56",
        "execution_start": 1619564969976,
        "execution_millis": 13,
        "deepnote_cell_type": "code"
      },
      "source": "# df['mean_dom'].hist(bins=20)",
      "execution_count": 16,
      "outputs": []
    },
    {
      "cell_type": "code",
      "metadata": {
        "cell_id": "00016-70f98a98-f4a8-416d-8894-55f2bd2ab0a2",
        "deepnote_to_be_reexecuted": false,
        "source_hash": "b3708ad4",
        "execution_start": 1619564969991,
        "execution_millis": 28,
        "deepnote_cell_type": "code"
      },
      "source": "'''\ndef discretize_dom(x):\n  if x['dom'] < 90:\n    x.at['dom_bucket'] = x['dom'] // 30\n  else:\n    x.at['dom_bucket'] = 3\n  return x\n'''",
      "execution_count": 17,
      "outputs": [
        {
          "output_type": "execute_result",
          "execution_count": 17,
          "data": {
            "text/plain": "\"\\ndef discretize_dom(x):\\n  if x['dom'] < 90:\\n    x.at['dom_bucket'] = x['dom'] // 30\\n  else:\\n    x.at['dom_bucket'] = 3\\n  return x\\n\""
          },
          "metadata": {}
        }
      ]
    },
    {
      "cell_type": "code",
      "metadata": {
        "cell_id": "00017-a3fb3cb3-72b6-4999-9691-3f99be105b28",
        "deepnote_to_be_reexecuted": false,
        "source_hash": "fa77f305",
        "execution_start": 1619564969992,
        "execution_millis": 0,
        "deepnote_cell_type": "code"
      },
      "source": "# df['dom_bucket'] = 0\n# df = df.apply(discretize_dom, axis=1)",
      "execution_count": 18,
      "outputs": []
    },
    {
      "cell_type": "code",
      "metadata": {
        "cell_id": "00018-8f7c144c-7453-4662-a6fa-41f9777588e2",
        "deepnote_to_be_reexecuted": false,
        "source_hash": "41d6fc3a",
        "execution_start": 1619564970003,
        "execution_millis": 2411005824,
        "deepnote_cell_type": "code"
      },
      "source": "# df.to_csv('../data/denver_mean_dom_discretize.csv', index=False)",
      "execution_count": 19,
      "outputs": []
    },
    {
      "cell_type": "code",
      "metadata": {
        "cell_id": "00019-ed774863-2edb-4c6c-a273-ccf99d42fb8c",
        "deepnote_to_be_reexecuted": false,
        "source_hash": "4117ae3c",
        "execution_start": 1619564970009,
        "execution_millis": 0,
        "deepnote_cell_type": "code"
      },
      "source": "# df['dom_bucket'].hist(bins=4)",
      "execution_count": 20,
      "outputs": []
    },
    {
      "cell_type": "markdown",
      "source": "## DOM Baseline Model\nThe baseline approach aims to:\n\n1. Make predictions on number of days on the market for a listed house using a continuous approach\n2. Make predictions on the number of days on the market where the days are segmented into 4 categories, whether the properties are sold within 1,2,3 or 4 or greater months",
      "metadata": {
        "cell_id": "00021-acd54683-2e77-4257-b35c-0fd1267e17f4",
        "tags": [],
        "deepnote_cell_type": "markdown"
      }
    },
    {
      "cell_type": "markdown",
      "source": "### Classification models",
      "metadata": {
        "cell_id": "00020-aac151fd-7b06-440e-8fa0-0f929a961eaa",
        "deepnote_cell_type": "markdown"
      }
    },
    {
      "cell_type": "code",
      "metadata": {
        "cell_id": "00021-c80bd967-5b74-417c-875d-5ee60b16c9ed",
        "deepnote_to_be_reexecuted": false,
        "execution_millis": 41,
        "source_hash": "ea55ba89",
        "execution_start": 1619564970012,
        "deepnote_cell_type": "code"
      },
      "source": "small_df = df[df.zipcode == 80134]\n\ny2 = small_df['dom_bucket'].copy()\n\nX2 = small_df.drop(columns=['property_id', 'list_date', 'sale_date', 'dom', \n                     'farm_score', 'fips', \n                     'first_time_homebuyer_score', 'dom_bucket', 'property_type'])\n\ncolumns_to_scale = ['zipcode', 'sqft', 'sale_price_per_sqft', 'median_rental_price', \n                    'pop_density', 'retirement_friendly_score',\n                    'college_student_friendly_score', 'violent_crime_rate', 'young_single_professional_score',\n                    'property_type_code'\n                   ]\nX2[columns_to_scale] =  scaler.fit_transform(X2[columns_to_scale])\n\nX2.info()",
      "execution_count": 21,
      "outputs": [
        {
          "name": "stdout",
          "text": "<class 'pandas.core.frame.DataFrame'>\nInt64Index: 6984 entries, 50436 to 129465\nData columns (total 19 columns):\n #   Column                           Non-Null Count  Dtype  \n---  ------                           --------------  -----  \n 0   zipcode                          6984 non-null   float64\n 1   sqft                             6984 non-null   float64\n 2   has_central_air                  6984 non-null   bool   \n 3   has_jacuzzi                      6984 non-null   bool   \n 4   has_pool                         6984 non-null   bool   \n 5   has_solar                        6984 non-null   bool   \n 6   has_garage                       6984 non-null   bool   \n 7   sale_price_per_sqft              6984 non-null   float64\n 8   median_rental_price              6984 non-null   float64\n 9   pop_density                      6984 non-null   float64\n 10  retirement_friendly_score        6984 non-null   float64\n 11  young_single_professional_score  6984 non-null   float64\n 12  college_student_friendly_score   6984 non-null   float64\n 13  violent_crime_rate               6984 non-null   float64\n 14  walk                             6984 non-null   float64\n 15  public_transportation            6984 non-null   float64\n 16  carpool                          6984 non-null   float64\n 17  mean_dom                         6984 non-null   float64\n 18  property_type_code               6984 non-null   float64\ndtypes: bool(5), float64(14)\nmemory usage: 852.5 KB\n",
          "output_type": "stream"
        }
      ]
    },
    {
      "cell_type": "code",
      "metadata": {
        "cell_id": "00022-ced3bdad-4ac0-4cf4-a1e9-0a76971895ce",
        "deepnote_to_be_reexecuted": false,
        "source_hash": "3dfc650b",
        "execution_start": 1619564970050,
        "execution_millis": 128,
        "deepnote_cell_type": "code"
      },
      "source": "X2.describe()",
      "execution_count": 22,
      "outputs": [
        {
          "output_type": "execute_result",
          "execution_count": 22,
          "data": {
            "application/vnd.deepnote.dataframe.v2+json": {
              "row_count": 8,
              "column_count": 14,
              "columns": [
                {
                  "name": "zipcode",
                  "dtype": "float64",
                  "stats": {
                    "unique_count": 2,
                    "nan_count": 0,
                    "min": "0.0",
                    "max": "6984.0",
                    "histogram": [
                      {
                        "bin_start": 0,
                        "bin_end": 698.4,
                        "count": 7
                      },
                      {
                        "bin_start": 698.4,
                        "bin_end": 1396.8,
                        "count": 0
                      },
                      {
                        "bin_start": 1396.8,
                        "bin_end": 2095.2,
                        "count": 0
                      },
                      {
                        "bin_start": 2095.2,
                        "bin_end": 2793.6,
                        "count": 0
                      },
                      {
                        "bin_start": 2793.6,
                        "bin_end": 3492,
                        "count": 0
                      },
                      {
                        "bin_start": 3492,
                        "bin_end": 4190.4,
                        "count": 0
                      },
                      {
                        "bin_start": 4190.4,
                        "bin_end": 4888.8,
                        "count": 0
                      },
                      {
                        "bin_start": 4888.8,
                        "bin_end": 5587.2,
                        "count": 0
                      },
                      {
                        "bin_start": 5587.2,
                        "bin_end": 6285.599999999999,
                        "count": 0
                      },
                      {
                        "bin_start": 6285.599999999999,
                        "bin_end": 6984,
                        "count": 1
                      }
                    ]
                  }
                },
                {
                  "name": "sqft",
                  "dtype": "float64",
                  "stats": {
                    "unique_count": 8,
                    "nan_count": 0,
                    "min": "-1.6905998055782192",
                    "max": "6984.0",
                    "histogram": [
                      {
                        "bin_start": -1.6905998055782192,
                        "bin_end": 696.8784601749795,
                        "count": 7
                      },
                      {
                        "bin_start": 696.8784601749795,
                        "bin_end": 1395.4475201555374,
                        "count": 0
                      },
                      {
                        "bin_start": 1395.4475201555374,
                        "bin_end": 2094.0165801360954,
                        "count": 0
                      },
                      {
                        "bin_start": 2094.0165801360954,
                        "bin_end": 2792.585640116653,
                        "count": 0
                      },
                      {
                        "bin_start": 2792.585640116653,
                        "bin_end": 3491.1547000972105,
                        "count": 0
                      },
                      {
                        "bin_start": 3491.1547000972105,
                        "bin_end": 4189.723760077769,
                        "count": 0
                      },
                      {
                        "bin_start": 4189.723760077769,
                        "bin_end": 4888.2928200583265,
                        "count": 0
                      },
                      {
                        "bin_start": 4888.2928200583265,
                        "bin_end": 5586.861880038884,
                        "count": 0
                      },
                      {
                        "bin_start": 5586.861880038884,
                        "bin_end": 6285.430940019442,
                        "count": 0
                      },
                      {
                        "bin_start": 6285.430940019442,
                        "bin_end": 6984,
                        "count": 1
                      }
                    ]
                  }
                },
                {
                  "name": "sale_price_per_sqft",
                  "dtype": "float64",
                  "stats": {
                    "unique_count": 8,
                    "nan_count": 0,
                    "min": "-4.024447221880827",
                    "max": "6984.0",
                    "histogram": [
                      {
                        "bin_start": -4.024447221880827,
                        "bin_end": 694.7779975003073,
                        "count": 7
                      },
                      {
                        "bin_start": 694.7779975003073,
                        "bin_end": 1393.5804422224953,
                        "count": 0
                      },
                      {
                        "bin_start": 1393.5804422224953,
                        "bin_end": 2092.3828869446834,
                        "count": 0
                      },
                      {
                        "bin_start": 2092.3828869446834,
                        "bin_end": 2791.185331666871,
                        "count": 0
                      },
                      {
                        "bin_start": 2791.185331666871,
                        "bin_end": 3489.987776389059,
                        "count": 0
                      },
                      {
                        "bin_start": 3489.987776389059,
                        "bin_end": 4188.790221111248,
                        "count": 0
                      },
                      {
                        "bin_start": 4188.790221111248,
                        "bin_end": 4887.592665833436,
                        "count": 0
                      },
                      {
                        "bin_start": 4887.592665833436,
                        "bin_end": 5586.395110555623,
                        "count": 0
                      },
                      {
                        "bin_start": 5586.395110555623,
                        "bin_end": 6285.197555277811,
                        "count": 0
                      },
                      {
                        "bin_start": 6285.197555277811,
                        "bin_end": 6984,
                        "count": 1
                      }
                    ]
                  }
                },
                {
                  "name": "median_rental_price",
                  "dtype": "float64",
                  "stats": {
                    "unique_count": 8,
                    "nan_count": 0,
                    "min": "-2.15927555530226",
                    "max": "6984.0",
                    "histogram": [
                      {
                        "bin_start": -2.15927555530226,
                        "bin_end": 696.4566520002279,
                        "count": 7
                      },
                      {
                        "bin_start": 696.4566520002279,
                        "bin_end": 1395.0725795557582,
                        "count": 0
                      },
                      {
                        "bin_start": 1395.0725795557582,
                        "bin_end": 2093.6885071112883,
                        "count": 0
                      },
                      {
                        "bin_start": 2093.6885071112883,
                        "bin_end": 2792.3044346668185,
                        "count": 0
                      },
                      {
                        "bin_start": 2792.3044346668185,
                        "bin_end": 3490.9203622223486,
                        "count": 0
                      },
                      {
                        "bin_start": 3490.9203622223486,
                        "bin_end": 4189.53628977788,
                        "count": 0
                      },
                      {
                        "bin_start": 4189.53628977788,
                        "bin_end": 4888.15221733341,
                        "count": 0
                      },
                      {
                        "bin_start": 4888.15221733341,
                        "bin_end": 5586.76814488894,
                        "count": 0
                      },
                      {
                        "bin_start": 5586.76814488894,
                        "bin_end": 6285.38407244447,
                        "count": 0
                      },
                      {
                        "bin_start": 6285.38407244447,
                        "bin_end": 6984,
                        "count": 1
                      }
                    ]
                  }
                },
                {
                  "name": "pop_density",
                  "dtype": "float64",
                  "stats": {
                    "unique_count": 8,
                    "nan_count": 0,
                    "min": "-1.6425635038746862",
                    "max": "6984.0",
                    "histogram": [
                      {
                        "bin_start": -1.6425635038746862,
                        "bin_end": 696.9216928465128,
                        "count": 7
                      },
                      {
                        "bin_start": 696.9216928465128,
                        "bin_end": 1395.4859491969003,
                        "count": 0
                      },
                      {
                        "bin_start": 1395.4859491969003,
                        "bin_end": 2094.050205547288,
                        "count": 0
                      },
                      {
                        "bin_start": 2094.050205547288,
                        "bin_end": 2792.6144618976755,
                        "count": 0
                      },
                      {
                        "bin_start": 2792.6144618976755,
                        "bin_end": 3491.178718248063,
                        "count": 0
                      },
                      {
                        "bin_start": 3491.178718248063,
                        "bin_end": 4189.74297459845,
                        "count": 0
                      },
                      {
                        "bin_start": 4189.74297459845,
                        "bin_end": 4888.307230948837,
                        "count": 0
                      },
                      {
                        "bin_start": 4888.307230948837,
                        "bin_end": 5586.871487299225,
                        "count": 0
                      },
                      {
                        "bin_start": 5586.871487299225,
                        "bin_end": 6285.435743649613,
                        "count": 0
                      },
                      {
                        "bin_start": 6285.435743649613,
                        "bin_end": 6984,
                        "count": 1
                      }
                    ]
                  }
                },
                {
                  "name": "retirement_friendly_score",
                  "dtype": "float64",
                  "stats": {
                    "unique_count": 8,
                    "nan_count": 0,
                    "min": "-2.040978040190518",
                    "max": "6984.0",
                    "histogram": [
                      {
                        "bin_start": -2.040978040190518,
                        "bin_end": 696.5631197638285,
                        "count": 7
                      },
                      {
                        "bin_start": 696.5631197638285,
                        "bin_end": 1395.1672175678475,
                        "count": 0
                      },
                      {
                        "bin_start": 1395.1672175678475,
                        "bin_end": 2093.7713153718664,
                        "count": 0
                      },
                      {
                        "bin_start": 2093.7713153718664,
                        "bin_end": 2792.3754131758856,
                        "count": 0
                      },
                      {
                        "bin_start": 2792.3754131758856,
                        "bin_end": 3490.9795109799047,
                        "count": 0
                      },
                      {
                        "bin_start": 3490.9795109799047,
                        "bin_end": 4189.583608783923,
                        "count": 0
                      },
                      {
                        "bin_start": 4189.583608783923,
                        "bin_end": 4888.187706587943,
                        "count": 0
                      },
                      {
                        "bin_start": 4888.187706587943,
                        "bin_end": 5586.791804391962,
                        "count": 0
                      },
                      {
                        "bin_start": 5586.791804391962,
                        "bin_end": 6285.395902195981,
                        "count": 0
                      },
                      {
                        "bin_start": 6285.395902195981,
                        "bin_end": 6984,
                        "count": 1
                      }
                    ]
                  }
                },
                {
                  "name": "young_single_professional_score",
                  "dtype": "float64",
                  "stats": {
                    "unique_count": 8,
                    "nan_count": 0,
                    "min": "-3.9610793644795805",
                    "max": "6984.0",
                    "histogram": [
                      {
                        "bin_start": -3.9610793644795805,
                        "bin_end": 694.8350285719683,
                        "count": 7
                      },
                      {
                        "bin_start": 694.8350285719683,
                        "bin_end": 1393.6311365084164,
                        "count": 0
                      },
                      {
                        "bin_start": 1393.6311365084164,
                        "bin_end": 2092.4272444448643,
                        "count": 0
                      },
                      {
                        "bin_start": 2092.4272444448643,
                        "bin_end": 2791.223352381312,
                        "count": 0
                      },
                      {
                        "bin_start": 2791.223352381312,
                        "bin_end": 3490.0194603177597,
                        "count": 0
                      },
                      {
                        "bin_start": 3490.0194603177597,
                        "bin_end": 4188.815568254208,
                        "count": 0
                      },
                      {
                        "bin_start": 4188.815568254208,
                        "bin_end": 4887.611676190656,
                        "count": 0
                      },
                      {
                        "bin_start": 4887.611676190656,
                        "bin_end": 5586.407784127104,
                        "count": 0
                      },
                      {
                        "bin_start": 5586.407784127104,
                        "bin_end": 6285.203892063551,
                        "count": 0
                      },
                      {
                        "bin_start": 6285.203892063551,
                        "bin_end": 6984,
                        "count": 1
                      }
                    ]
                  }
                },
                {
                  "name": "college_student_friendly_score",
                  "dtype": "float64",
                  "stats": {
                    "unique_count": 8,
                    "nan_count": 0,
                    "min": "-1.522160646751981",
                    "max": "6984.0",
                    "histogram": [
                      {
                        "bin_start": -1.522160646751981,
                        "bin_end": 697.0300554179232,
                        "count": 7
                      },
                      {
                        "bin_start": 697.0300554179232,
                        "bin_end": 1395.5822714825986,
                        "count": 0
                      },
                      {
                        "bin_start": 1395.5822714825986,
                        "bin_end": 2094.1344875472737,
                        "count": 0
                      },
                      {
                        "bin_start": 2094.1344875472737,
                        "bin_end": 2792.686703611949,
                        "count": 0
                      },
                      {
                        "bin_start": 2792.686703611949,
                        "bin_end": 3491.238919676624,
                        "count": 0
                      },
                      {
                        "bin_start": 3491.238919676624,
                        "bin_end": 4189.7911357412995,
                        "count": 0
                      },
                      {
                        "bin_start": 4189.7911357412995,
                        "bin_end": 4888.343351805975,
                        "count": 0
                      },
                      {
                        "bin_start": 4888.343351805975,
                        "bin_end": 5586.89556787065,
                        "count": 0
                      },
                      {
                        "bin_start": 5586.89556787065,
                        "bin_end": 6285.447783935325,
                        "count": 0
                      },
                      {
                        "bin_start": 6285.447783935325,
                        "bin_end": 6984,
                        "count": 1
                      }
                    ]
                  }
                },
                {
                  "name": "violent_crime_rate",
                  "dtype": "float64",
                  "stats": {
                    "unique_count": 8,
                    "nan_count": 0,
                    "min": "-1.7258499106522414",
                    "max": "6984.0",
                    "histogram": [
                      {
                        "bin_start": -1.7258499106522414,
                        "bin_end": 696.846735080413,
                        "count": 7
                      },
                      {
                        "bin_start": 696.846735080413,
                        "bin_end": 1395.4193200714783,
                        "count": 0
                      },
                      {
                        "bin_start": 1395.4193200714783,
                        "bin_end": 2093.9919050625435,
                        "count": 0
                      },
                      {
                        "bin_start": 2093.9919050625435,
                        "bin_end": 2792.5644900536086,
                        "count": 0
                      },
                      {
                        "bin_start": 2792.5644900536086,
                        "bin_end": 3491.1370750446736,
                        "count": 0
                      },
                      {
                        "bin_start": 3491.1370750446736,
                        "bin_end": 4189.70966003574,
                        "count": 0
                      },
                      {
                        "bin_start": 4189.70966003574,
                        "bin_end": 4888.282245026805,
                        "count": 0
                      },
                      {
                        "bin_start": 4888.282245026805,
                        "bin_end": 5586.85483001787,
                        "count": 0
                      },
                      {
                        "bin_start": 5586.85483001787,
                        "bin_end": 6285.427415008935,
                        "count": 0
                      },
                      {
                        "bin_start": 6285.427415008935,
                        "bin_end": 6984,
                        "count": 1
                      }
                    ]
                  }
                },
                {
                  "name": "walk",
                  "dtype": "float64",
                  "stats": {
                    "unique_count": 7,
                    "nan_count": 0,
                    "min": "0.0",
                    "max": "6984.0",
                    "histogram": [
                      {
                        "bin_start": 0,
                        "bin_end": 698.4,
                        "count": 7
                      },
                      {
                        "bin_start": 698.4,
                        "bin_end": 1396.8,
                        "count": 0
                      },
                      {
                        "bin_start": 1396.8,
                        "bin_end": 2095.2,
                        "count": 0
                      },
                      {
                        "bin_start": 2095.2,
                        "bin_end": 2793.6,
                        "count": 0
                      },
                      {
                        "bin_start": 2793.6,
                        "bin_end": 3492,
                        "count": 0
                      },
                      {
                        "bin_start": 3492,
                        "bin_end": 4190.4,
                        "count": 0
                      },
                      {
                        "bin_start": 4190.4,
                        "bin_end": 4888.8,
                        "count": 0
                      },
                      {
                        "bin_start": 4888.8,
                        "bin_end": 5587.2,
                        "count": 0
                      },
                      {
                        "bin_start": 5587.2,
                        "bin_end": 6285.599999999999,
                        "count": 0
                      },
                      {
                        "bin_start": 6285.599999999999,
                        "bin_end": 6984,
                        "count": 1
                      }
                    ]
                  }
                },
                {
                  "name": "public_transportation",
                  "dtype": "float64",
                  "stats": {
                    "unique_count": 8,
                    "nan_count": 0,
                    "min": "0.0",
                    "max": "6984.0",
                    "histogram": [
                      {
                        "bin_start": 0,
                        "bin_end": 698.4,
                        "count": 7
                      },
                      {
                        "bin_start": 698.4,
                        "bin_end": 1396.8,
                        "count": 0
                      },
                      {
                        "bin_start": 1396.8,
                        "bin_end": 2095.2,
                        "count": 0
                      },
                      {
                        "bin_start": 2095.2,
                        "bin_end": 2793.6,
                        "count": 0
                      },
                      {
                        "bin_start": 2793.6,
                        "bin_end": 3492,
                        "count": 0
                      },
                      {
                        "bin_start": 3492,
                        "bin_end": 4190.4,
                        "count": 0
                      },
                      {
                        "bin_start": 4190.4,
                        "bin_end": 4888.8,
                        "count": 0
                      },
                      {
                        "bin_start": 4888.8,
                        "bin_end": 5587.2,
                        "count": 0
                      },
                      {
                        "bin_start": 5587.2,
                        "bin_end": 6285.599999999999,
                        "count": 0
                      },
                      {
                        "bin_start": 6285.599999999999,
                        "bin_end": 6984,
                        "count": 1
                      }
                    ]
                  }
                },
                {
                  "name": "carpool",
                  "dtype": "float64",
                  "stats": {
                    "unique_count": 8,
                    "nan_count": 0,
                    "min": "0.0247759620453347",
                    "max": "6984.0",
                    "histogram": [
                      {
                        "bin_start": 0.0247759620453347,
                        "bin_end": 698.4222983658408,
                        "count": 7
                      },
                      {
                        "bin_start": 698.4222983658408,
                        "bin_end": 1396.8198207696364,
                        "count": 0
                      },
                      {
                        "bin_start": 1396.8198207696364,
                        "bin_end": 2095.217343173432,
                        "count": 0
                      },
                      {
                        "bin_start": 2095.217343173432,
                        "bin_end": 2793.614865577227,
                        "count": 0
                      },
                      {
                        "bin_start": 2793.614865577227,
                        "bin_end": 3492.0123879810226,
                        "count": 0
                      },
                      {
                        "bin_start": 3492.0123879810226,
                        "bin_end": 4190.409910384818,
                        "count": 0
                      },
                      {
                        "bin_start": 4190.409910384818,
                        "bin_end": 4888.807432788613,
                        "count": 0
                      },
                      {
                        "bin_start": 4888.807432788613,
                        "bin_end": 5587.204955192409,
                        "count": 0
                      },
                      {
                        "bin_start": 5587.204955192409,
                        "bin_end": 6285.602477596205,
                        "count": 0
                      },
                      {
                        "bin_start": 6285.602477596205,
                        "bin_end": 6984,
                        "count": 1
                      }
                    ]
                  }
                },
                {
                  "name": "mean_dom",
                  "dtype": "float64",
                  "stats": {
                    "unique_count": 8,
                    "nan_count": 0,
                    "min": "2.268244848492563",
                    "max": "6984.0",
                    "histogram": [
                      {
                        "bin_start": 2.268244848492563,
                        "bin_end": 700.4414203636433,
                        "count": 7
                      },
                      {
                        "bin_start": 700.4414203636433,
                        "bin_end": 1398.6145958787938,
                        "count": 0
                      },
                      {
                        "bin_start": 1398.6145958787938,
                        "bin_end": 2096.7877713939447,
                        "count": 0
                      },
                      {
                        "bin_start": 2096.7877713939447,
                        "bin_end": 2794.960946909095,
                        "count": 0
                      },
                      {
                        "bin_start": 2794.960946909095,
                        "bin_end": 3493.1341224242456,
                        "count": 0
                      },
                      {
                        "bin_start": 3493.1341224242456,
                        "bin_end": 4191.307297939397,
                        "count": 0
                      },
                      {
                        "bin_start": 4191.307297939397,
                        "bin_end": 4889.480473454548,
                        "count": 0
                      },
                      {
                        "bin_start": 4889.480473454548,
                        "bin_end": 5587.653648969698,
                        "count": 0
                      },
                      {
                        "bin_start": 5587.653648969698,
                        "bin_end": 6285.826824484849,
                        "count": 0
                      },
                      {
                        "bin_start": 6285.826824484849,
                        "bin_end": 6984,
                        "count": 1
                      }
                    ]
                  }
                },
                {
                  "name": "property_type_code",
                  "dtype": "float64",
                  "stats": {
                    "unique_count": 5,
                    "nan_count": 0,
                    "min": "-0.45363226016686964",
                    "max": "6984.0",
                    "histogram": [
                      {
                        "bin_start": -0.45363226016686964,
                        "bin_end": 697.9917309658499,
                        "count": 7
                      },
                      {
                        "bin_start": 697.9917309658499,
                        "bin_end": 1396.4370941918667,
                        "count": 0
                      },
                      {
                        "bin_start": 1396.4370941918667,
                        "bin_end": 2094.8824574178834,
                        "count": 0
                      },
                      {
                        "bin_start": 2094.8824574178834,
                        "bin_end": 2793.3278206439,
                        "count": 0
                      },
                      {
                        "bin_start": 2793.3278206439,
                        "bin_end": 3491.7731838699165,
                        "count": 0
                      },
                      {
                        "bin_start": 3491.7731838699165,
                        "bin_end": 4190.218547095934,
                        "count": 0
                      },
                      {
                        "bin_start": 4190.218547095934,
                        "bin_end": 4888.66391032195,
                        "count": 0
                      },
                      {
                        "bin_start": 4888.66391032195,
                        "bin_end": 5587.109273547967,
                        "count": 0
                      },
                      {
                        "bin_start": 5587.109273547967,
                        "bin_end": 6285.5546367739835,
                        "count": 0
                      },
                      {
                        "bin_start": 6285.5546367739835,
                        "bin_end": 6984,
                        "count": 1
                      }
                    ]
                  }
                },
                {
                  "name": "_deepnote_index_column",
                  "dtype": "object"
                }
              ],
              "rows_top": [
                {
                  "zipcode": 6984,
                  "sqft": 6984,
                  "sale_price_per_sqft": 6984,
                  "median_rental_price": 6984,
                  "pop_density": 6984,
                  "retirement_friendly_score": 6984,
                  "young_single_professional_score": 6984,
                  "college_student_friendly_score": 6984,
                  "violent_crime_rate": 6984,
                  "walk": 6984,
                  "public_transportation": 6984,
                  "carpool": 6984,
                  "mean_dom": 6984,
                  "property_type_code": 6984,
                  "_deepnote_index_column": "count"
                },
                {
                  "zipcode": 0,
                  "sqft": 2.1975548528662893e-16,
                  "sale_price_per_sqft": 5.331105291212664e-16,
                  "median_rental_price": -4.23232786477952e-16,
                  "pop_density": -6.511273638122339e-17,
                  "retirement_friendly_score": -6.836837320028456e-16,
                  "young_single_professional_score": -5.860146274310105e-16,
                  "college_student_friendly_score": 1.9533820914367015e-16,
                  "violent_crime_rate": -4.883455228591754e-16,
                  "walk": 0.00725121443043078,
                  "public_transportation": 0.019127358458092283,
                  "carpool": 0.06840878096781193,
                  "mean_dom": 47.32504651865272,
                  "property_type_code": -7.325182842887631e-17,
                  "_deepnote_index_column": "mean"
                },
                {
                  "zipcode": 0,
                  "sqft": 1.000071599899852,
                  "sale_price_per_sqft": 1.000071599899852,
                  "median_rental_price": 1.000071599899852,
                  "pop_density": 1.000071599899852,
                  "retirement_friendly_score": 1.0000715998998515,
                  "young_single_professional_score": 1.000071599899852,
                  "college_student_friendly_score": 1.0000715998998517,
                  "violent_crime_rate": 1.000071599899852,
                  "walk": 0.00668240984607412,
                  "public_transportation": 0.014389880081018122,
                  "carpool": 0.029136495317896104,
                  "mean_dom": 2.268244848492563,
                  "property_type_code": 1.000071599899852,
                  "_deepnote_index_column": "std"
                },
                {
                  "zipcode": 0,
                  "sqft": -1.6905998055782192,
                  "sale_price_per_sqft": -4.024447221880827,
                  "median_rental_price": -2.15927555530226,
                  "pop_density": -1.6425635038746862,
                  "retirement_friendly_score": -2.040978040190518,
                  "young_single_professional_score": -3.9610793644795805,
                  "college_student_friendly_score": -1.522160646751981,
                  "violent_crime_rate": -1.7258499106522414,
                  "walk": 0,
                  "public_transportation": 0,
                  "carpool": 0.0247759620453347,
                  "mean_dom": 41.23241225980626,
                  "property_type_code": -0.45363226016686964,
                  "_deepnote_index_column": "min"
                },
                {
                  "zipcode": 0,
                  "sqft": -0.7478036021960669,
                  "sale_price_per_sqft": -0.7001722656629809,
                  "median_rental_price": -0.9490542237455448,
                  "pop_density": -0.700035618069007,
                  "retirement_friendly_score": -0.5013785514032953,
                  "young_single_professional_score": -1.3997254635359633,
                  "college_student_friendly_score": -1.203378612877824,
                  "violent_crime_rate": -0.48456705102413744,
                  "walk": 0,
                  "public_transportation": 0.0085365853658536,
                  "carpool": 0.0484756097560975,
                  "mean_dom": 45.81930282191132,
                  "property_type_code": -0.45363226016686964,
                  "_deepnote_index_column": "25%"
                },
                {
                  "zipcode": 0,
                  "sqft": -0.17159299815746765,
                  "sale_price_per_sqft": -0.031230795108640616,
                  "median_rental_price": -0.3089371558147204,
                  "pop_density": 0.3312324897876275,
                  "retirement_friendly_score": 0.3288405873433112,
                  "young_single_professional_score": 0.3306036021019145,
                  "college_student_friendly_score": 0.7117652770045825,
                  "violent_crime_rate": -0.1487854945905963,
                  "walk": 0.0075068243858052,
                  "public_transportation": 0.0133595284872298,
                  "carpool": 0.0632453151618398,
                  "mean_dom": 47.25074203993524,
                  "property_type_code": -0.45363226016686964,
                  "_deepnote_index_column": "50%"
                },
                {
                  "zipcode": 0,
                  "sqft": 0.6010765080645428,
                  "sale_price_per_sqft": 0.6010313438246182,
                  "median_rental_price": 1.231344538893826,
                  "pop_density": 0.7256751070021837,
                  "retirement_friendly_score": 0.7123037097937486,
                  "young_single_professional_score": 0.9190169785244354,
                  "college_student_friendly_score": 0.736491702745369,
                  "violent_crime_rate": 1.0954895400276026,
                  "walk": 0.0087412587412587,
                  "public_transportation": 0.0238305383936451,
                  "carpool": 0.085977157360406,
                  "mean_dom": 48.97971204188482,
                  "property_type_code": -0.45363226016686964,
                  "_deepnote_index_column": "75%"
                },
                {
                  "zipcode": 0,
                  "sqft": 3.7741072133684956,
                  "sale_price_per_sqft": 6.19257779855105,
                  "median_rental_price": 2.764124861712558,
                  "pop_density": 2.551021012372019,
                  "retirement_friendly_score": 1.5869111607246875,
                  "young_single_professional_score": 1.6072313104817153,
                  "college_student_friendly_score": 1.8298489713403336,
                  "violent_crime_rate": 14.011541863543325,
                  "walk": 0.050210970464135,
                  "public_transportation": 0.0450409463148316,
                  "carpool": 0.1357811729916214,
                  "mean_dom": 52.942219632004,
                  "property_type_code": 4.168056587397562,
                  "_deepnote_index_column": "max"
                }
              ],
              "rows_bottom": null
            },
            "text/plain": "       zipcode          sqft  sale_price_per_sqft  median_rental_price  \\\ncount   6984.0  6.984000e+03         6.984000e+03         6.984000e+03   \nmean       0.0  2.197555e-16         5.331105e-16        -4.232328e-16   \nstd        0.0  1.000072e+00         1.000072e+00         1.000072e+00   \nmin        0.0 -1.690600e+00        -4.024447e+00        -2.159276e+00   \n25%        0.0 -7.478036e-01        -7.001723e-01        -9.490542e-01   \n50%        0.0 -1.715930e-01        -3.123080e-02        -3.089372e-01   \n75%        0.0  6.010765e-01         6.010313e-01         1.231345e+00   \nmax        0.0  3.774107e+00         6.192578e+00         2.764125e+00   \n\n        pop_density  retirement_friendly_score  \\\ncount  6.984000e+03               6.984000e+03   \nmean  -6.511274e-17              -6.836837e-16   \nstd    1.000072e+00               1.000072e+00   \nmin   -1.642564e+00              -2.040978e+00   \n25%   -7.000356e-01              -5.013786e-01   \n50%    3.312325e-01               3.288406e-01   \n75%    7.256751e-01               7.123037e-01   \nmax    2.551021e+00               1.586911e+00   \n\n       young_single_professional_score  college_student_friendly_score  \\\ncount                     6.984000e+03                    6.984000e+03   \nmean                     -5.860146e-16                    1.953382e-16   \nstd                       1.000072e+00                    1.000072e+00   \nmin                      -3.961079e+00                   -1.522161e+00   \n25%                      -1.399725e+00                   -1.203379e+00   \n50%                       3.306036e-01                    7.117653e-01   \n75%                       9.190170e-01                    7.364917e-01   \nmax                       1.607231e+00                    1.829849e+00   \n\n       violent_crime_rate         walk  public_transportation      carpool  \\\ncount        6.984000e+03  6984.000000            6984.000000  6984.000000   \nmean        -4.883455e-16     0.007251               0.019127     0.068409   \nstd          1.000072e+00     0.006682               0.014390     0.029136   \nmin         -1.725850e+00     0.000000               0.000000     0.024776   \n25%         -4.845671e-01     0.000000               0.008537     0.048476   \n50%         -1.487855e-01     0.007507               0.013360     0.063245   \n75%          1.095490e+00     0.008741               0.023831     0.085977   \nmax          1.401154e+01     0.050211               0.045041     0.135781   \n\n          mean_dom  property_type_code  \ncount  6984.000000        6.984000e+03  \nmean     47.325047       -7.325183e-17  \nstd       2.268245        1.000072e+00  \nmin      41.232412       -4.536323e-01  \n25%      45.819303       -4.536323e-01  \n50%      47.250742       -4.536323e-01  \n75%      48.979712       -4.536323e-01  \nmax      52.942220        4.168057e+00  ",
            "text/html": "<div>\n<style scoped>\n    .dataframe tbody tr th:only-of-type {\n        vertical-align: middle;\n    }\n\n    .dataframe tbody tr th {\n        vertical-align: top;\n    }\n\n    .dataframe thead th {\n        text-align: right;\n    }\n</style>\n<table border=\"1\" class=\"dataframe\">\n  <thead>\n    <tr style=\"text-align: right;\">\n      <th></th>\n      <th>zipcode</th>\n      <th>sqft</th>\n      <th>sale_price_per_sqft</th>\n      <th>median_rental_price</th>\n      <th>pop_density</th>\n      <th>retirement_friendly_score</th>\n      <th>young_single_professional_score</th>\n      <th>college_student_friendly_score</th>\n      <th>violent_crime_rate</th>\n      <th>walk</th>\n      <th>public_transportation</th>\n      <th>carpool</th>\n      <th>mean_dom</th>\n      <th>property_type_code</th>\n    </tr>\n  </thead>\n  <tbody>\n    <tr>\n      <th>count</th>\n      <td>6984.0</td>\n      <td>6.984000e+03</td>\n      <td>6.984000e+03</td>\n      <td>6.984000e+03</td>\n      <td>6.984000e+03</td>\n      <td>6.984000e+03</td>\n      <td>6.984000e+03</td>\n      <td>6.984000e+03</td>\n      <td>6.984000e+03</td>\n      <td>6984.000000</td>\n      <td>6984.000000</td>\n      <td>6984.000000</td>\n      <td>6984.000000</td>\n      <td>6.984000e+03</td>\n    </tr>\n    <tr>\n      <th>mean</th>\n      <td>0.0</td>\n      <td>2.197555e-16</td>\n      <td>5.331105e-16</td>\n      <td>-4.232328e-16</td>\n      <td>-6.511274e-17</td>\n      <td>-6.836837e-16</td>\n      <td>-5.860146e-16</td>\n      <td>1.953382e-16</td>\n      <td>-4.883455e-16</td>\n      <td>0.007251</td>\n      <td>0.019127</td>\n      <td>0.068409</td>\n      <td>47.325047</td>\n      <td>-7.325183e-17</td>\n    </tr>\n    <tr>\n      <th>std</th>\n      <td>0.0</td>\n      <td>1.000072e+00</td>\n      <td>1.000072e+00</td>\n      <td>1.000072e+00</td>\n      <td>1.000072e+00</td>\n      <td>1.000072e+00</td>\n      <td>1.000072e+00</td>\n      <td>1.000072e+00</td>\n      <td>1.000072e+00</td>\n      <td>0.006682</td>\n      <td>0.014390</td>\n      <td>0.029136</td>\n      <td>2.268245</td>\n      <td>1.000072e+00</td>\n    </tr>\n    <tr>\n      <th>min</th>\n      <td>0.0</td>\n      <td>-1.690600e+00</td>\n      <td>-4.024447e+00</td>\n      <td>-2.159276e+00</td>\n      <td>-1.642564e+00</td>\n      <td>-2.040978e+00</td>\n      <td>-3.961079e+00</td>\n      <td>-1.522161e+00</td>\n      <td>-1.725850e+00</td>\n      <td>0.000000</td>\n      <td>0.000000</td>\n      <td>0.024776</td>\n      <td>41.232412</td>\n      <td>-4.536323e-01</td>\n    </tr>\n    <tr>\n      <th>25%</th>\n      <td>0.0</td>\n      <td>-7.478036e-01</td>\n      <td>-7.001723e-01</td>\n      <td>-9.490542e-01</td>\n      <td>-7.000356e-01</td>\n      <td>-5.013786e-01</td>\n      <td>-1.399725e+00</td>\n      <td>-1.203379e+00</td>\n      <td>-4.845671e-01</td>\n      <td>0.000000</td>\n      <td>0.008537</td>\n      <td>0.048476</td>\n      <td>45.819303</td>\n      <td>-4.536323e-01</td>\n    </tr>\n    <tr>\n      <th>50%</th>\n      <td>0.0</td>\n      <td>-1.715930e-01</td>\n      <td>-3.123080e-02</td>\n      <td>-3.089372e-01</td>\n      <td>3.312325e-01</td>\n      <td>3.288406e-01</td>\n      <td>3.306036e-01</td>\n      <td>7.117653e-01</td>\n      <td>-1.487855e-01</td>\n      <td>0.007507</td>\n      <td>0.013360</td>\n      <td>0.063245</td>\n      <td>47.250742</td>\n      <td>-4.536323e-01</td>\n    </tr>\n    <tr>\n      <th>75%</th>\n      <td>0.0</td>\n      <td>6.010765e-01</td>\n      <td>6.010313e-01</td>\n      <td>1.231345e+00</td>\n      <td>7.256751e-01</td>\n      <td>7.123037e-01</td>\n      <td>9.190170e-01</td>\n      <td>7.364917e-01</td>\n      <td>1.095490e+00</td>\n      <td>0.008741</td>\n      <td>0.023831</td>\n      <td>0.085977</td>\n      <td>48.979712</td>\n      <td>-4.536323e-01</td>\n    </tr>\n    <tr>\n      <th>max</th>\n      <td>0.0</td>\n      <td>3.774107e+00</td>\n      <td>6.192578e+00</td>\n      <td>2.764125e+00</td>\n      <td>2.551021e+00</td>\n      <td>1.586911e+00</td>\n      <td>1.607231e+00</td>\n      <td>1.829849e+00</td>\n      <td>1.401154e+01</td>\n      <td>0.050211</td>\n      <td>0.045041</td>\n      <td>0.135781</td>\n      <td>52.942220</td>\n      <td>4.168057e+00</td>\n    </tr>\n  </tbody>\n</table>\n</div>"
          },
          "metadata": {}
        }
      ]
    },
    {
      "cell_type": "code",
      "metadata": {
        "cell_id": "00023-f0b38e62-6d32-48fd-a473-827e2c09f6f9",
        "deepnote_to_be_reexecuted": false,
        "execution_millis": 1,
        "source_hash": "81c2db3a",
        "execution_start": 1619564970170,
        "deepnote_cell_type": "code"
      },
      "source": "X_train, X_test, y_train, y_test = train_test_split(X2, y2, test_size=0.33, random_state =297)",
      "execution_count": 23,
      "outputs": []
    },
    {
      "cell_type": "code",
      "metadata": {
        "cell_id": "00024-1bae52ce-d307-45d6-970e-9a58f2466b9d",
        "deepnote_to_be_reexecuted": false,
        "execution_millis": 2,
        "source_hash": "c5938206",
        "execution_start": 1619564970174,
        "deepnote_cell_type": "code"
      },
      "source": "def print_results(model):\n  print('Train set accuracy: {}'.format(model.score(X_train, y_train)))\n  print('Test set accuracy: {}'.format(model.score(X_test, y_test)))",
      "execution_count": 24,
      "outputs": []
    },
    {
      "cell_type": "markdown",
      "source": "#### Logistic Regression",
      "metadata": {
        "cell_id": "00025-0889085f-1f39-4304-98c4-47580ba74f23",
        "deepnote_cell_type": "markdown"
      }
    },
    {
      "cell_type": "code",
      "metadata": {
        "cell_id": "00026-65a395f7-de6a-43aa-8b9f-c33c77045adf",
        "deepnote_to_be_reexecuted": false,
        "execution_millis": 1561,
        "source_hash": "30c01494",
        "execution_start": 1619564970229,
        "deepnote_cell_type": "code"
      },
      "source": "logit_reg = LogisticRegression()\nlogit_reg.fit(X_train, y_train)\n\nprint_results(logit_reg)",
      "execution_count": 25,
      "outputs": [
        {
          "name": "stdout",
          "text": "Train set accuracy: 0.6279119469972216\nTest set accuracy: 0.6238611713665944\n/shared-libs/python3.7/py/lib/python3.7/site-packages/sklearn/linear_model/_logistic.py:765: ConvergenceWarning: lbfgs failed to converge (status=1):\nSTOP: TOTAL NO. of ITERATIONS REACHED LIMIT.\n\nIncrease the number of iterations (max_iter) or scale the data as shown in:\n    https://scikit-learn.org/stable/modules/preprocessing.html\nPlease also refer to the documentation for alternative solver options:\n    https://scikit-learn.org/stable/modules/linear_model.html#logistic-regression\n  extra_warning_msg=_LOGISTIC_SOLVER_CONVERGENCE_MSG)\n",
          "output_type": "stream"
        }
      ]
    },
    {
      "cell_type": "code",
      "metadata": {
        "cell_id": "00030-54d9b9ff-a03f-4328-922f-0bf69c99b9a9",
        "deepnote_to_be_reexecuted": false,
        "execution_millis": 19,
        "source_hash": "5d9a9f96",
        "tags": [],
        "execution_start": 1619564971787,
        "deepnote_cell_type": "code"
      },
      "source": "#these are the values in the train set\ny_train.value_counts()",
      "execution_count": 26,
      "outputs": [
        {
          "output_type": "execute_result",
          "execution_count": 26,
          "data": {
            "text/plain": "1    2948\n2    1023\n0     507\n3     201\nName: dom_bucket, dtype: int64"
          },
          "metadata": {}
        }
      ]
    },
    {
      "cell_type": "code",
      "metadata": {
        "cell_id": "00031-a5774ba6-904a-4ebb-9a97-bd3af0776038",
        "deepnote_to_be_reexecuted": false,
        "execution_millis": 66,
        "source_hash": "9f353983",
        "tags": [],
        "execution_start": 1619564971803,
        "deepnote_cell_type": "code"
      },
      "source": "y_test.value_counts()",
      "execution_count": 27,
      "outputs": [
        {
          "output_type": "execute_result",
          "execution_count": 27,
          "data": {
            "text/plain": "1    1439\n2     500\n0     259\n3     107\nName: dom_bucket, dtype: int64"
          },
          "metadata": {}
        }
      ]
    },
    {
      "cell_type": "code",
      "metadata": {
        "cell_id": "00030-6f411dd6-ddb8-49c5-ab10-55605674b714",
        "deepnote_to_be_reexecuted": false,
        "execution_millis": 27,
        "source_hash": "fdcb830d",
        "tags": [],
        "execution_start": 1619564971870,
        "deepnote_cell_type": "code"
      },
      "source": "#these are the values predicted by the baseline model\nnp.unique(logit_reg.predict(X_train))",
      "execution_count": 28,
      "outputs": [
        {
          "output_type": "execute_result",
          "execution_count": 28,
          "data": {
            "text/plain": "array([1, 2])"
          },
          "metadata": {}
        }
      ]
    },
    {
      "cell_type": "code",
      "metadata": {
        "cell_id": "00030-0c0efeb6-7065-496c-8962-a692a0752299",
        "deepnote_to_be_reexecuted": false,
        "execution_millis": 33,
        "source_hash": "2e68dda2",
        "tags": [],
        "execution_start": 1619564971938,
        "deepnote_cell_type": "code"
      },
      "source": "#average one v rest AUC score\nroc_auc_score(y_test, logit_reg.predict_proba(X_test), multi_class='ovr', average='weighted')",
      "execution_count": 29,
      "outputs": [
        {
          "output_type": "execute_result",
          "execution_count": 29,
          "data": {
            "text/plain": "0.5656495211302348"
          },
          "metadata": {}
        }
      ]
    },
    {
      "cell_type": "markdown",
      "source": "#### Extra Trees Classifier",
      "metadata": {
        "cell_id": "00027-027c5ffd-01d2-4b9b-8de0-89c2332ba63e",
        "deepnote_cell_type": "markdown"
      }
    },
    {
      "cell_type": "code",
      "metadata": {
        "cell_id": "00028-f432e0f9-542b-4c21-b4b4-2700d89a13b6",
        "deepnote_to_be_reexecuted": false,
        "execution_millis": 186,
        "source_hash": "a97c686d",
        "execution_start": 1619564972017,
        "deepnote_cell_type": "code"
      },
      "source": "etc = ExtraTreesClassifier(n_estimators=20)\netc.fit(X_train, y_train)\n\nprint_results(etc)",
      "execution_count": 30,
      "outputs": [
        {
          "name": "stdout",
          "text": "Train set accuracy: 1.0\nTest set accuracy: 0.5713665943600867\n",
          "output_type": "stream"
        }
      ]
    },
    {
      "cell_type": "code",
      "metadata": {
        "cell_id": "00035-560d845d-9bfc-47d3-aacc-a605cb8efca0",
        "deepnote_to_be_reexecuted": false,
        "execution_millis": 13,
        "source_hash": "2e677f19",
        "tags": [],
        "execution_start": 1619564972238,
        "deepnote_cell_type": "code"
      },
      "source": "#average one v rest score\nroc_auc_score(y_test, etc.predict_proba(X_test), multi_class='ovr', average='weighted')",
      "execution_count": 31,
      "outputs": [
        {
          "output_type": "execute_result",
          "execution_count": 31,
          "data": {
            "text/plain": "0.5575573332286016"
          },
          "metadata": {}
        }
      ]
    },
    {
      "cell_type": "code",
      "metadata": {
        "cell_id": "00029-d2420c30-b48d-4511-a01e-b9932c22a5b9",
        "deepnote_to_be_reexecuted": false,
        "execution_millis": 4,
        "source_hash": "82186591",
        "execution_start": 1619564972239,
        "deepnote_cell_type": "code"
      },
      "source": "feature_importance_normalized = np.std([tree.feature_importances_ for tree in \n                                        etc.estimators_], \n                                        axis = 0) ",
      "execution_count": 32,
      "outputs": []
    },
    {
      "cell_type": "code",
      "metadata": {
        "cell_id": "00030-0f57d353-e40e-4735-ac44-d7715b4ad47e",
        "deepnote_to_be_reexecuted": false,
        "source_hash": "24e5cd5d",
        "execution_start": 1619564972297,
        "execution_millis": 393,
        "deepnote_cell_type": "code"
      },
      "source": "plt.figure(figsize=(7,7))\nsns.barplot(y=X2.columns, x=feature_importance_normalized, orient='h', color=color[1]) \nplt.xlabel('Feature Labels') \nplt.ylabel('Feature Importances') \nplt.title('Extra Trees Classifier Feature Importances') \nplt.show() ",
      "execution_count": 33,
      "outputs": [
        {
          "data": {
            "text/plain": "<Figure size 504x504 with 1 Axes>",
            "image/png": "[encoded data removed]"
          },
          "metadata": {
            "needs_background": "light"
          },
          "output_type": "display_data"
        }
      ]
    },
    {
      "cell_type": "markdown",
      "source": "#### Random Forest Classifier",
      "metadata": {
        "cell_id": "00031-008848fc-20c7-4ab1-b47f-30535656ee81",
        "deepnote_cell_type": "markdown"
      }
    },
    {
      "cell_type": "code",
      "metadata": {
        "cell_id": "00032-6c7a3949-bff1-4d80-b907-a9ead283eb56",
        "deepnote_to_be_reexecuted": false,
        "execution_millis": 427,
        "source_hash": "671831a9",
        "execution_start": 1619564972691,
        "deepnote_cell_type": "code"
      },
      "source": "rfc = RandomForestClassifier(max_depth=5, random_state=0)\nrfc.fit(X_train, y_train)",
      "execution_count": 34,
      "outputs": [
        {
          "output_type": "execute_result",
          "execution_count": 34,
          "data": {
            "text/plain": "RandomForestClassifier(max_depth=5, random_state=0)"
          },
          "metadata": {}
        }
      ]
    },
    {
      "cell_type": "code",
      "metadata": {
        "cell_id": "00040-7416f46b-dbbc-4d4d-b3dc-a601f83fed58",
        "deepnote_to_be_reexecuted": false,
        "execution_millis": 48,
        "source_hash": "5e94f8d9",
        "tags": [],
        "execution_start": 1619564973116,
        "deepnote_cell_type": "code"
      },
      "source": "#average one v rest score\nroc_auc_score(y_test, rfc.predict_proba(X_test), multi_class='ovr', average='weighted')",
      "execution_count": 35,
      "outputs": [
        {
          "output_type": "execute_result",
          "execution_count": 35,
          "data": {
            "text/plain": "0.5949890264843193"
          },
          "metadata": {}
        }
      ]
    },
    {
      "cell_type": "code",
      "metadata": {
        "cell_id": "00033-18b2eede-4010-4b47-a3b5-b0e57b320bde",
        "deepnote_to_be_reexecuted": false,
        "execution_millis": 109,
        "source_hash": "c63f514a",
        "execution_start": 1619564973168,
        "deepnote_cell_type": "code"
      },
      "source": "print_results(rfc)",
      "execution_count": 36,
      "outputs": [
        {
          "name": "stdout",
          "text": "Train set accuracy: 0.6356058986963026\nTest set accuracy: 0.6264642082429501\n",
          "output_type": "stream"
        }
      ]
    },
    {
      "cell_type": "code",
      "metadata": {
        "cell_id": "00034-075e1004-a154-4f36-a473-58d62c9bc138",
        "deepnote_to_be_reexecuted": false,
        "source_hash": "10b5cec5",
        "execution_start": 1619564973287,
        "execution_millis": 0,
        "deepnote_cell_type": "code"
      },
      "source": "feature_importance_normalized = np.std([tree.feature_importances_ for tree in \n                                        rfc.estimators_], \n                                        axis = 0) ",
      "execution_count": 37,
      "outputs": []
    },
    {
      "cell_type": "code",
      "metadata": {
        "cell_id": "00035-37f94c78-27b5-417c-a788-8fc1684049a4",
        "deepnote_to_be_reexecuted": false,
        "source_hash": "a882420",
        "execution_start": 1619564973354,
        "execution_millis": 367,
        "deepnote_cell_type": "code"
      },
      "source": "plt.figure(figsize=(7,7))\nsns.barplot(y=X2.columns, x=feature_importance_normalized, orient='h', color=color[1]) \nplt.xlabel('Feature Labels') \nplt.ylabel('Feature Importances') \nplt.title('Random Forest Classifier Feature Importances') \nplt.show() ",
      "execution_count": 38,
      "outputs": [
        {
          "data": {
            "text/plain": "<Figure size 504x504 with 1 Axes>",
            "image/png": "[encoded data removed]"
          },
          "metadata": {
            "needs_background": "light"
          },
          "output_type": "display_data"
        }
      ]
    },
    {
      "cell_type": "markdown",
      "source": "### Regression Model",
      "metadata": {
        "cell_id": "00036-1ef36b69-931f-4795-98e0-33ef2f485a80",
        "deepnote_cell_type": "markdown"
      }
    },
    {
      "cell_type": "code",
      "metadata": {
        "cell_id": "00037-6fbf504c-e736-41a2-9a10-8f4e8babf097",
        "deepnote_to_be_reexecuted": false,
        "source_hash": "69509963",
        "execution_start": 1619564973716,
        "execution_millis": 41,
        "deepnote_cell_type": "code"
      },
      "source": "small_df = df[df.zipcode == 80134]\ny = small_df['dom'].copy()\n\nX = small_df.drop(columns=['property_id', 'list_date', 'sale_date', 'dom', \n                     'farm_score', 'fips', \n                     'first_time_homebuyer_score', 'dom_bucket', 'property_type'])\n\ncolumns_to_scale = ['zipcode', 'sqft', 'sale_price_per_sqft', 'median_rental_price', \n                    'pop_density', 'retirement_friendly_score',\n                    'college_student_friendly_score', 'violent_crime_rate', 'young_single_professional_score',\n                    'property_type_code'\n                   ]\nX[columns_to_scale] =  scaler.fit_transform(X[columns_to_scale])\n\nX.info()",
      "execution_count": 39,
      "outputs": [
        {
          "name": "stdout",
          "text": "<class 'pandas.core.frame.DataFrame'>\nInt64Index: 6984 entries, 50436 to 129465\nData columns (total 19 columns):\n #   Column                           Non-Null Count  Dtype  \n---  ------                           --------------  -----  \n 0   zipcode                          6984 non-null   float64\n 1   sqft                             6984 non-null   float64\n 2   has_central_air                  6984 non-null   bool   \n 3   has_jacuzzi                      6984 non-null   bool   \n 4   has_pool                         6984 non-null   bool   \n 5   has_solar                        6984 non-null   bool   \n 6   has_garage                       6984 non-null   bool   \n 7   sale_price_per_sqft              6984 non-null   float64\n 8   median_rental_price              6984 non-null   float64\n 9   pop_density                      6984 non-null   float64\n 10  retirement_friendly_score        6984 non-null   float64\n 11  young_single_professional_score  6984 non-null   float64\n 12  college_student_friendly_score   6984 non-null   float64\n 13  violent_crime_rate               6984 non-null   float64\n 14  walk                             6984 non-null   float64\n 15  public_transportation            6984 non-null   float64\n 16  carpool                          6984 non-null   float64\n 17  mean_dom                         6984 non-null   float64\n 18  property_type_code               6984 non-null   float64\ndtypes: bool(5), float64(14)\nmemory usage: 852.5 KB\n",
          "output_type": "stream"
        }
      ]
    },
    {
      "cell_type": "code",
      "metadata": {
        "cell_id": "00038-ae884b94-ee3e-4043-9998-9eb9bce13c19",
        "deepnote_to_be_reexecuted": false,
        "source_hash": "e6b984ff",
        "execution_start": 1619564973764,
        "execution_millis": 105,
        "deepnote_cell_type": "code"
      },
      "source": "X.describe()",
      "execution_count": 40,
      "outputs": [
        {
          "output_type": "execute_result",
          "execution_count": 40,
          "data": {
            "application/vnd.deepnote.dataframe.v2+json": {
              "row_count": 8,
              "column_count": 14,
              "columns": [
                {
                  "name": "zipcode",
                  "dtype": "float64",
                  "stats": {
                    "unique_count": 2,
                    "nan_count": 0,
                    "min": "0.0",
                    "max": "6984.0",
                    "histogram": [
                      {
                        "bin_start": 0,
                        "bin_end": 698.4,
                        "count": 7
                      },
                      {
                        "bin_start": 698.4,
                        "bin_end": 1396.8,
                        "count": 0
                      },
                      {
                        "bin_start": 1396.8,
                        "bin_end": 2095.2,
                        "count": 0
                      },
                      {
                        "bin_start": 2095.2,
                        "bin_end": 2793.6,
                        "count": 0
                      },
                      {
                        "bin_start": 2793.6,
                        "bin_end": 3492,
                        "count": 0
                      },
                      {
                        "bin_start": 3492,
                        "bin_end": 4190.4,
                        "count": 0
                      },
                      {
                        "bin_start": 4190.4,
                        "bin_end": 4888.8,
                        "count": 0
                      },
                      {
                        "bin_start": 4888.8,
                        "bin_end": 5587.2,
                        "count": 0
                      },
                      {
                        "bin_start": 5587.2,
                        "bin_end": 6285.599999999999,
                        "count": 0
                      },
                      {
                        "bin_start": 6285.599999999999,
                        "bin_end": 6984,
                        "count": 1
                      }
                    ]
                  }
                },
                {
                  "name": "sqft",
                  "dtype": "float64",
                  "stats": {
                    "unique_count": 8,
                    "nan_count": 0,
                    "min": "-1.6905998055782192",
                    "max": "6984.0",
                    "histogram": [
                      {
                        "bin_start": -1.6905998055782192,
                        "bin_end": 696.8784601749795,
                        "count": 7
                      },
                      {
                        "bin_start": 696.8784601749795,
                        "bin_end": 1395.4475201555374,
                        "count": 0
                      },
                      {
                        "bin_start": 1395.4475201555374,
                        "bin_end": 2094.0165801360954,
                        "count": 0
                      },
                      {
                        "bin_start": 2094.0165801360954,
                        "bin_end": 2792.585640116653,
                        "count": 0
                      },
                      {
                        "bin_start": 2792.585640116653,
                        "bin_end": 3491.1547000972105,
                        "count": 0
                      },
                      {
                        "bin_start": 3491.1547000972105,
                        "bin_end": 4189.723760077769,
                        "count": 0
                      },
                      {
                        "bin_start": 4189.723760077769,
                        "bin_end": 4888.2928200583265,
                        "count": 0
                      },
                      {
                        "bin_start": 4888.2928200583265,
                        "bin_end": 5586.861880038884,
                        "count": 0
                      },
                      {
                        "bin_start": 5586.861880038884,
                        "bin_end": 6285.430940019442,
                        "count": 0
                      },
                      {
                        "bin_start": 6285.430940019442,
                        "bin_end": 6984,
                        "count": 1
                      }
                    ]
                  }
                },
                {
                  "name": "sale_price_per_sqft",
                  "dtype": "float64",
                  "stats": {
                    "unique_count": 8,
                    "nan_count": 0,
                    "min": "-4.024447221880827",
                    "max": "6984.0",
                    "histogram": [
                      {
                        "bin_start": -4.024447221880827,
                        "bin_end": 694.7779975003073,
                        "count": 7
                      },
                      {
                        "bin_start": 694.7779975003073,
                        "bin_end": 1393.5804422224953,
                        "count": 0
                      },
                      {
                        "bin_start": 1393.5804422224953,
                        "bin_end": 2092.3828869446834,
                        "count": 0
                      },
                      {
                        "bin_start": 2092.3828869446834,
                        "bin_end": 2791.185331666871,
                        "count": 0
                      },
                      {
                        "bin_start": 2791.185331666871,
                        "bin_end": 3489.987776389059,
                        "count": 0
                      },
                      {
                        "bin_start": 3489.987776389059,
                        "bin_end": 4188.790221111248,
                        "count": 0
                      },
                      {
                        "bin_start": 4188.790221111248,
                        "bin_end": 4887.592665833436,
                        "count": 0
                      },
                      {
                        "bin_start": 4887.592665833436,
                        "bin_end": 5586.395110555623,
                        "count": 0
                      },
                      {
                        "bin_start": 5586.395110555623,
                        "bin_end": 6285.197555277811,
                        "count": 0
                      },
                      {
                        "bin_start": 6285.197555277811,
                        "bin_end": 6984,
                        "count": 1
                      }
                    ]
                  }
                },
                {
                  "name": "median_rental_price",
                  "dtype": "float64",
                  "stats": {
                    "unique_count": 8,
                    "nan_count": 0,
                    "min": "-2.15927555530226",
                    "max": "6984.0",
                    "histogram": [
                      {
                        "bin_start": -2.15927555530226,
                        "bin_end": 696.4566520002279,
                        "count": 7
                      },
                      {
                        "bin_start": 696.4566520002279,
                        "bin_end": 1395.0725795557582,
                        "count": 0
                      },
                      {
                        "bin_start": 1395.0725795557582,
                        "bin_end": 2093.6885071112883,
                        "count": 0
                      },
                      {
                        "bin_start": 2093.6885071112883,
                        "bin_end": 2792.3044346668185,
                        "count": 0
                      },
                      {
                        "bin_start": 2792.3044346668185,
                        "bin_end": 3490.9203622223486,
                        "count": 0
                      },
                      {
                        "bin_start": 3490.9203622223486,
                        "bin_end": 4189.53628977788,
                        "count": 0
                      },
                      {
                        "bin_start": 4189.53628977788,
                        "bin_end": 4888.15221733341,
                        "count": 0
                      },
                      {
                        "bin_start": 4888.15221733341,
                        "bin_end": 5586.76814488894,
                        "count": 0
                      },
                      {
                        "bin_start": 5586.76814488894,
                        "bin_end": 6285.38407244447,
                        "count": 0
                      },
                      {
                        "bin_start": 6285.38407244447,
                        "bin_end": 6984,
                        "count": 1
                      }
                    ]
                  }
                },
                {
                  "name": "pop_density",
                  "dtype": "float64",
                  "stats": {
                    "unique_count": 8,
                    "nan_count": 0,
                    "min": "-1.6425635038746862",
                    "max": "6984.0",
                    "histogram": [
                      {
                        "bin_start": -1.6425635038746862,
                        "bin_end": 696.9216928465128,
                        "count": 7
                      },
                      {
                        "bin_start": 696.9216928465128,
                        "bin_end": 1395.4859491969003,
                        "count": 0
                      },
                      {
                        "bin_start": 1395.4859491969003,
                        "bin_end": 2094.050205547288,
                        "count": 0
                      },
                      {
                        "bin_start": 2094.050205547288,
                        "bin_end": 2792.6144618976755,
                        "count": 0
                      },
                      {
                        "bin_start": 2792.6144618976755,
                        "bin_end": 3491.178718248063,
                        "count": 0
                      },
                      {
                        "bin_start": 3491.178718248063,
                        "bin_end": 4189.74297459845,
                        "count": 0
                      },
                      {
                        "bin_start": 4189.74297459845,
                        "bin_end": 4888.307230948837,
                        "count": 0
                      },
                      {
                        "bin_start": 4888.307230948837,
                        "bin_end": 5586.871487299225,
                        "count": 0
                      },
                      {
                        "bin_start": 5586.871487299225,
                        "bin_end": 6285.435743649613,
                        "count": 0
                      },
                      {
                        "bin_start": 6285.435743649613,
                        "bin_end": 6984,
                        "count": 1
                      }
                    ]
                  }
                },
                {
                  "name": "retirement_friendly_score",
                  "dtype": "float64",
                  "stats": {
                    "unique_count": 8,
                    "nan_count": 0,
                    "min": "-2.040978040190518",
                    "max": "6984.0",
                    "histogram": [
                      {
                        "bin_start": -2.040978040190518,
                        "bin_end": 696.5631197638285,
                        "count": 7
                      },
                      {
                        "bin_start": 696.5631197638285,
                        "bin_end": 1395.1672175678475,
                        "count": 0
                      },
                      {
                        "bin_start": 1395.1672175678475,
                        "bin_end": 2093.7713153718664,
                        "count": 0
                      },
                      {
                        "bin_start": 2093.7713153718664,
                        "bin_end": 2792.3754131758856,
                        "count": 0
                      },
                      {
                        "bin_start": 2792.3754131758856,
                        "bin_end": 3490.9795109799047,
                        "count": 0
                      },
                      {
                        "bin_start": 3490.9795109799047,
                        "bin_end": 4189.583608783923,
                        "count": 0
                      },
                      {
                        "bin_start": 4189.583608783923,
                        "bin_end": 4888.187706587943,
                        "count": 0
                      },
                      {
                        "bin_start": 4888.187706587943,
                        "bin_end": 5586.791804391962,
                        "count": 0
                      },
                      {
                        "bin_start": 5586.791804391962,
                        "bin_end": 6285.395902195981,
                        "count": 0
                      },
                      {
                        "bin_start": 6285.395902195981,
                        "bin_end": 6984,
                        "count": 1
                      }
                    ]
                  }
                },
                {
                  "name": "young_single_professional_score",
                  "dtype": "float64",
                  "stats": {
                    "unique_count": 8,
                    "nan_count": 0,
                    "min": "-3.9610793644795805",
                    "max": "6984.0",
                    "histogram": [
                      {
                        "bin_start": -3.9610793644795805,
                        "bin_end": 694.8350285719683,
                        "count": 7
                      },
                      {
                        "bin_start": 694.8350285719683,
                        "bin_end": 1393.6311365084164,
                        "count": 0
                      },
                      {
                        "bin_start": 1393.6311365084164,
                        "bin_end": 2092.4272444448643,
                        "count": 0
                      },
                      {
                        "bin_start": 2092.4272444448643,
                        "bin_end": 2791.223352381312,
                        "count": 0
                      },
                      {
                        "bin_start": 2791.223352381312,
                        "bin_end": 3490.0194603177597,
                        "count": 0
                      },
                      {
                        "bin_start": 3490.0194603177597,
                        "bin_end": 4188.815568254208,
                        "count": 0
                      },
                      {
                        "bin_start": 4188.815568254208,
                        "bin_end": 4887.611676190656,
                        "count": 0
                      },
                      {
                        "bin_start": 4887.611676190656,
                        "bin_end": 5586.407784127104,
                        "count": 0
                      },
                      {
                        "bin_start": 5586.407784127104,
                        "bin_end": 6285.203892063551,
                        "count": 0
                      },
                      {
                        "bin_start": 6285.203892063551,
                        "bin_end": 6984,
                        "count": 1
                      }
                    ]
                  }
                },
                {
                  "name": "college_student_friendly_score",
                  "dtype": "float64",
                  "stats": {
                    "unique_count": 8,
                    "nan_count": 0,
                    "min": "-1.522160646751981",
                    "max": "6984.0",
                    "histogram": [
                      {
                        "bin_start": -1.522160646751981,
                        "bin_end": 697.0300554179232,
                        "count": 7
                      },
                      {
                        "bin_start": 697.0300554179232,
                        "bin_end": 1395.5822714825986,
                        "count": 0
                      },
                      {
                        "bin_start": 1395.5822714825986,
                        "bin_end": 2094.1344875472737,
                        "count": 0
                      },
                      {
                        "bin_start": 2094.1344875472737,
                        "bin_end": 2792.686703611949,
                        "count": 0
                      },
                      {
                        "bin_start": 2792.686703611949,
                        "bin_end": 3491.238919676624,
                        "count": 0
                      },
                      {
                        "bin_start": 3491.238919676624,
                        "bin_end": 4189.7911357412995,
                        "count": 0
                      },
                      {
                        "bin_start": 4189.7911357412995,
                        "bin_end": 4888.343351805975,
                        "count": 0
                      },
                      {
                        "bin_start": 4888.343351805975,
                        "bin_end": 5586.89556787065,
                        "count": 0
                      },
                      {
                        "bin_start": 5586.89556787065,
                        "bin_end": 6285.447783935325,
                        "count": 0
                      },
                      {
                        "bin_start": 6285.447783935325,
                        "bin_end": 6984,
                        "count": 1
                      }
                    ]
                  }
                },
                {
                  "name": "violent_crime_rate",
                  "dtype": "float64",
                  "stats": {
                    "unique_count": 8,
                    "nan_count": 0,
                    "min": "-1.7258499106522414",
                    "max": "6984.0",
                    "histogram": [
                      {
                        "bin_start": -1.7258499106522414,
                        "bin_end": 696.846735080413,
                        "count": 7
                      },
                      {
                        "bin_start": 696.846735080413,
                        "bin_end": 1395.4193200714783,
                        "count": 0
                      },
                      {
                        "bin_start": 1395.4193200714783,
                        "bin_end": 2093.9919050625435,
                        "count": 0
                      },
                      {
                        "bin_start": 2093.9919050625435,
                        "bin_end": 2792.5644900536086,
                        "count": 0
                      },
                      {
                        "bin_start": 2792.5644900536086,
                        "bin_end": 3491.1370750446736,
                        "count": 0
                      },
                      {
                        "bin_start": 3491.1370750446736,
                        "bin_end": 4189.70966003574,
                        "count": 0
                      },
                      {
                        "bin_start": 4189.70966003574,
                        "bin_end": 4888.282245026805,
                        "count": 0
                      },
                      {
                        "bin_start": 4888.282245026805,
                        "bin_end": 5586.85483001787,
                        "count": 0
                      },
                      {
                        "bin_start": 5586.85483001787,
                        "bin_end": 6285.427415008935,
                        "count": 0
                      },
                      {
                        "bin_start": 6285.427415008935,
                        "bin_end": 6984,
                        "count": 1
                      }
                    ]
                  }
                },
                {
                  "name": "walk",
                  "dtype": "float64",
                  "stats": {
                    "unique_count": 7,
                    "nan_count": 0,
                    "min": "0.0",
                    "max": "6984.0",
                    "histogram": [
                      {
                        "bin_start": 0,
                        "bin_end": 698.4,
                        "count": 7
                      },
                      {
                        "bin_start": 698.4,
                        "bin_end": 1396.8,
                        "count": 0
                      },
                      {
                        "bin_start": 1396.8,
                        "bin_end": 2095.2,
                        "count": 0
                      },
                      {
                        "bin_start": 2095.2,
                        "bin_end": 2793.6,
                        "count": 0
                      },
                      {
                        "bin_start": 2793.6,
                        "bin_end": 3492,
                        "count": 0
                      },
                      {
                        "bin_start": 3492,
                        "bin_end": 4190.4,
                        "count": 0
                      },
                      {
                        "bin_start": 4190.4,
                        "bin_end": 4888.8,
                        "count": 0
                      },
                      {
                        "bin_start": 4888.8,
                        "bin_end": 5587.2,
                        "count": 0
                      },
                      {
                        "bin_start": 5587.2,
                        "bin_end": 6285.599999999999,
                        "count": 0
                      },
                      {
                        "bin_start": 6285.599999999999,
                        "bin_end": 6984,
                        "count": 1
                      }
                    ]
                  }
                },
                {
                  "name": "public_transportation",
                  "dtype": "float64",
                  "stats": {
                    "unique_count": 8,
                    "nan_count": 0,
                    "min": "0.0",
                    "max": "6984.0",
                    "histogram": [
                      {
                        "bin_start": 0,
                        "bin_end": 698.4,
                        "count": 7
                      },
                      {
                        "bin_start": 698.4,
                        "bin_end": 1396.8,
                        "count": 0
                      },
                      {
                        "bin_start": 1396.8,
                        "bin_end": 2095.2,
                        "count": 0
                      },
                      {
                        "bin_start": 2095.2,
                        "bin_end": 2793.6,
                        "count": 0
                      },
                      {
                        "bin_start": 2793.6,
                        "bin_end": 3492,
                        "count": 0
                      },
                      {
                        "bin_start": 3492,
                        "bin_end": 4190.4,
                        "count": 0
                      },
                      {
                        "bin_start": 4190.4,
                        "bin_end": 4888.8,
                        "count": 0
                      },
                      {
                        "bin_start": 4888.8,
                        "bin_end": 5587.2,
                        "count": 0
                      },
                      {
                        "bin_start": 5587.2,
                        "bin_end": 6285.599999999999,
                        "count": 0
                      },
                      {
                        "bin_start": 6285.599999999999,
                        "bin_end": 6984,
                        "count": 1
                      }
                    ]
                  }
                },
                {
                  "name": "carpool",
                  "dtype": "float64",
                  "stats": {
                    "unique_count": 8,
                    "nan_count": 0,
                    "min": "0.0247759620453347",
                    "max": "6984.0",
                    "histogram": [
                      {
                        "bin_start": 0.0247759620453347,
                        "bin_end": 698.4222983658408,
                        "count": 7
                      },
                      {
                        "bin_start": 698.4222983658408,
                        "bin_end": 1396.8198207696364,
                        "count": 0
                      },
                      {
                        "bin_start": 1396.8198207696364,
                        "bin_end": 2095.217343173432,
                        "count": 0
                      },
                      {
                        "bin_start": 2095.217343173432,
                        "bin_end": 2793.614865577227,
                        "count": 0
                      },
                      {
                        "bin_start": 2793.614865577227,
                        "bin_end": 3492.0123879810226,
                        "count": 0
                      },
                      {
                        "bin_start": 3492.0123879810226,
                        "bin_end": 4190.409910384818,
                        "count": 0
                      },
                      {
                        "bin_start": 4190.409910384818,
                        "bin_end": 4888.807432788613,
                        "count": 0
                      },
                      {
                        "bin_start": 4888.807432788613,
                        "bin_end": 5587.204955192409,
                        "count": 0
                      },
                      {
                        "bin_start": 5587.204955192409,
                        "bin_end": 6285.602477596205,
                        "count": 0
                      },
                      {
                        "bin_start": 6285.602477596205,
                        "bin_end": 6984,
                        "count": 1
                      }
                    ]
                  }
                },
                {
                  "name": "mean_dom",
                  "dtype": "float64",
                  "stats": {
                    "unique_count": 8,
                    "nan_count": 0,
                    "min": "2.268244848492563",
                    "max": "6984.0",
                    "histogram": [
                      {
                        "bin_start": 2.268244848492563,
                        "bin_end": 700.4414203636433,
                        "count": 7
                      },
                      {
                        "bin_start": 700.4414203636433,
                        "bin_end": 1398.6145958787938,
                        "count": 0
                      },
                      {
                        "bin_start": 1398.6145958787938,
                        "bin_end": 2096.7877713939447,
                        "count": 0
                      },
                      {
                        "bin_start": 2096.7877713939447,
                        "bin_end": 2794.960946909095,
                        "count": 0
                      },
                      {
                        "bin_start": 2794.960946909095,
                        "bin_end": 3493.1341224242456,
                        "count": 0
                      },
                      {
                        "bin_start": 3493.1341224242456,
                        "bin_end": 4191.307297939397,
                        "count": 0
                      },
                      {
                        "bin_start": 4191.307297939397,
                        "bin_end": 4889.480473454548,
                        "count": 0
                      },
                      {
                        "bin_start": 4889.480473454548,
                        "bin_end": 5587.653648969698,
                        "count": 0
                      },
                      {
                        "bin_start": 5587.653648969698,
                        "bin_end": 6285.826824484849,
                        "count": 0
                      },
                      {
                        "bin_start": 6285.826824484849,
                        "bin_end": 6984,
                        "count": 1
                      }
                    ]
                  }
                },
                {
                  "name": "property_type_code",
                  "dtype": "float64",
                  "stats": {
                    "unique_count": 5,
                    "nan_count": 0,
                    "min": "-0.45363226016686964",
                    "max": "6984.0",
                    "histogram": [
                      {
                        "bin_start": -0.45363226016686964,
                        "bin_end": 697.9917309658499,
                        "count": 7
                      },
                      {
                        "bin_start": 697.9917309658499,
                        "bin_end": 1396.4370941918667,
                        "count": 0
                      },
                      {
                        "bin_start": 1396.4370941918667,
                        "bin_end": 2094.8824574178834,
                        "count": 0
                      },
                      {
                        "bin_start": 2094.8824574178834,
                        "bin_end": 2793.3278206439,
                        "count": 0
                      },
                      {
                        "bin_start": 2793.3278206439,
                        "bin_end": 3491.7731838699165,
                        "count": 0
                      },
                      {
                        "bin_start": 3491.7731838699165,
                        "bin_end": 4190.218547095934,
                        "count": 0
                      },
                      {
                        "bin_start": 4190.218547095934,
                        "bin_end": 4888.66391032195,
                        "count": 0
                      },
                      {
                        "bin_start": 4888.66391032195,
                        "bin_end": 5587.109273547967,
                        "count": 0
                      },
                      {
                        "bin_start": 5587.109273547967,
                        "bin_end": 6285.5546367739835,
                        "count": 0
                      },
                      {
                        "bin_start": 6285.5546367739835,
                        "bin_end": 6984,
                        "count": 1
                      }
                    ]
                  }
                },
                {
                  "name": "_deepnote_index_column",
                  "dtype": "object"
                }
              ],
              "rows_top": [
                {
                  "zipcode": 6984,
                  "sqft": 6984,
                  "sale_price_per_sqft": 6984,
                  "median_rental_price": 6984,
                  "pop_density": 6984,
                  "retirement_friendly_score": 6984,
                  "young_single_professional_score": 6984,
                  "college_student_friendly_score": 6984,
                  "violent_crime_rate": 6984,
                  "walk": 6984,
                  "public_transportation": 6984,
                  "carpool": 6984,
                  "mean_dom": 6984,
                  "property_type_code": 6984,
                  "_deepnote_index_column": "count"
                },
                {
                  "zipcode": 0,
                  "sqft": 2.1975548528662893e-16,
                  "sale_price_per_sqft": 5.331105291212664e-16,
                  "median_rental_price": -4.23232786477952e-16,
                  "pop_density": -6.511273638122339e-17,
                  "retirement_friendly_score": -6.836837320028456e-16,
                  "young_single_professional_score": -5.860146274310105e-16,
                  "college_student_friendly_score": 1.9533820914367015e-16,
                  "violent_crime_rate": -4.883455228591754e-16,
                  "walk": 0.00725121443043078,
                  "public_transportation": 0.019127358458092283,
                  "carpool": 0.06840878096781193,
                  "mean_dom": 47.32504651865272,
                  "property_type_code": -7.325182842887631e-17,
                  "_deepnote_index_column": "mean"
                },
                {
                  "zipcode": 0,
                  "sqft": 1.000071599899852,
                  "sale_price_per_sqft": 1.000071599899852,
                  "median_rental_price": 1.000071599899852,
                  "pop_density": 1.000071599899852,
                  "retirement_friendly_score": 1.0000715998998515,
                  "young_single_professional_score": 1.000071599899852,
                  "college_student_friendly_score": 1.0000715998998517,
                  "violent_crime_rate": 1.000071599899852,
                  "walk": 0.00668240984607412,
                  "public_transportation": 0.014389880081018122,
                  "carpool": 0.029136495317896104,
                  "mean_dom": 2.268244848492563,
                  "property_type_code": 1.000071599899852,
                  "_deepnote_index_column": "std"
                },
                {
                  "zipcode": 0,
                  "sqft": -1.6905998055782192,
                  "sale_price_per_sqft": -4.024447221880827,
                  "median_rental_price": -2.15927555530226,
                  "pop_density": -1.6425635038746862,
                  "retirement_friendly_score": -2.040978040190518,
                  "young_single_professional_score": -3.9610793644795805,
                  "college_student_friendly_score": -1.522160646751981,
                  "violent_crime_rate": -1.7258499106522414,
                  "walk": 0,
                  "public_transportation": 0,
                  "carpool": 0.0247759620453347,
                  "mean_dom": 41.23241225980626,
                  "property_type_code": -0.45363226016686964,
                  "_deepnote_index_column": "min"
                },
                {
                  "zipcode": 0,
                  "sqft": -0.7478036021960669,
                  "sale_price_per_sqft": -0.7001722656629809,
                  "median_rental_price": -0.9490542237455448,
                  "pop_density": -0.700035618069007,
                  "retirement_friendly_score": -0.5013785514032953,
                  "young_single_professional_score": -1.3997254635359633,
                  "college_student_friendly_score": -1.203378612877824,
                  "violent_crime_rate": -0.48456705102413744,
                  "walk": 0,
                  "public_transportation": 0.0085365853658536,
                  "carpool": 0.0484756097560975,
                  "mean_dom": 45.81930282191132,
                  "property_type_code": -0.45363226016686964,
                  "_deepnote_index_column": "25%"
                },
                {
                  "zipcode": 0,
                  "sqft": -0.17159299815746765,
                  "sale_price_per_sqft": -0.031230795108640616,
                  "median_rental_price": -0.3089371558147204,
                  "pop_density": 0.3312324897876275,
                  "retirement_friendly_score": 0.3288405873433112,
                  "young_single_professional_score": 0.3306036021019145,
                  "college_student_friendly_score": 0.7117652770045825,
                  "violent_crime_rate": -0.1487854945905963,
                  "walk": 0.0075068243858052,
                  "public_transportation": 0.0133595284872298,
                  "carpool": 0.0632453151618398,
                  "mean_dom": 47.25074203993524,
                  "property_type_code": -0.45363226016686964,
                  "_deepnote_index_column": "50%"
                },
                {
                  "zipcode": 0,
                  "sqft": 0.6010765080645428,
                  "sale_price_per_sqft": 0.6010313438246182,
                  "median_rental_price": 1.231344538893826,
                  "pop_density": 0.7256751070021837,
                  "retirement_friendly_score": 0.7123037097937486,
                  "young_single_professional_score": 0.9190169785244354,
                  "college_student_friendly_score": 0.736491702745369,
                  "violent_crime_rate": 1.0954895400276026,
                  "walk": 0.0087412587412587,
                  "public_transportation": 0.0238305383936451,
                  "carpool": 0.085977157360406,
                  "mean_dom": 48.97971204188482,
                  "property_type_code": -0.45363226016686964,
                  "_deepnote_index_column": "75%"
                },
                {
                  "zipcode": 0,
                  "sqft": 3.7741072133684956,
                  "sale_price_per_sqft": 6.19257779855105,
                  "median_rental_price": 2.764124861712558,
                  "pop_density": 2.551021012372019,
                  "retirement_friendly_score": 1.5869111607246875,
                  "young_single_professional_score": 1.6072313104817153,
                  "college_student_friendly_score": 1.8298489713403336,
                  "violent_crime_rate": 14.011541863543325,
                  "walk": 0.050210970464135,
                  "public_transportation": 0.0450409463148316,
                  "carpool": 0.1357811729916214,
                  "mean_dom": 52.942219632004,
                  "property_type_code": 4.168056587397562,
                  "_deepnote_index_column": "max"
                }
              ],
              "rows_bottom": null
            },
            "text/plain": "       zipcode          sqft  sale_price_per_sqft  median_rental_price  \\\ncount   6984.0  6.984000e+03         6.984000e+03         6.984000e+03   \nmean       0.0  2.197555e-16         5.331105e-16        -4.232328e-16   \nstd        0.0  1.000072e+00         1.000072e+00         1.000072e+00   \nmin        0.0 -1.690600e+00        -4.024447e+00        -2.159276e+00   \n25%        0.0 -7.478036e-01        -7.001723e-01        -9.490542e-01   \n50%        0.0 -1.715930e-01        -3.123080e-02        -3.089372e-01   \n75%        0.0  6.010765e-01         6.010313e-01         1.231345e+00   \nmax        0.0  3.774107e+00         6.192578e+00         2.764125e+00   \n\n        pop_density  retirement_friendly_score  \\\ncount  6.984000e+03               6.984000e+03   \nmean  -6.511274e-17              -6.836837e-16   \nstd    1.000072e+00               1.000072e+00   \nmin   -1.642564e+00              -2.040978e+00   \n25%   -7.000356e-01              -5.013786e-01   \n50%    3.312325e-01               3.288406e-01   \n75%    7.256751e-01               7.123037e-01   \nmax    2.551021e+00               1.586911e+00   \n\n       young_single_professional_score  college_student_friendly_score  \\\ncount                     6.984000e+03                    6.984000e+03   \nmean                     -5.860146e-16                    1.953382e-16   \nstd                       1.000072e+00                    1.000072e+00   \nmin                      -3.961079e+00                   -1.522161e+00   \n25%                      -1.399725e+00                   -1.203379e+00   \n50%                       3.306036e-01                    7.117653e-01   \n75%                       9.190170e-01                    7.364917e-01   \nmax                       1.607231e+00                    1.829849e+00   \n\n       violent_crime_rate         walk  public_transportation      carpool  \\\ncount        6.984000e+03  6984.000000            6984.000000  6984.000000   \nmean        -4.883455e-16     0.007251               0.019127     0.068409   \nstd          1.000072e+00     0.006682               0.014390     0.029136   \nmin         -1.725850e+00     0.000000               0.000000     0.024776   \n25%         -4.845671e-01     0.000000               0.008537     0.048476   \n50%         -1.487855e-01     0.007507               0.013360     0.063245   \n75%          1.095490e+00     0.008741               0.023831     0.085977   \nmax          1.401154e+01     0.050211               0.045041     0.135781   \n\n          mean_dom  property_type_code  \ncount  6984.000000        6.984000e+03  \nmean     47.325047       -7.325183e-17  \nstd       2.268245        1.000072e+00  \nmin      41.232412       -4.536323e-01  \n25%      45.819303       -4.536323e-01  \n50%      47.250742       -4.536323e-01  \n75%      48.979712       -4.536323e-01  \nmax      52.942220        4.168057e+00  ",
            "text/html": "<div>\n<style scoped>\n    .dataframe tbody tr th:only-of-type {\n        vertical-align: middle;\n    }\n\n    .dataframe tbody tr th {\n        vertical-align: top;\n    }\n\n    .dataframe thead th {\n        text-align: right;\n    }\n</style>\n<table border=\"1\" class=\"dataframe\">\n  <thead>\n    <tr style=\"text-align: right;\">\n      <th></th>\n      <th>zipcode</th>\n      <th>sqft</th>\n      <th>sale_price_per_sqft</th>\n      <th>median_rental_price</th>\n      <th>pop_density</th>\n      <th>retirement_friendly_score</th>\n      <th>young_single_professional_score</th>\n      <th>college_student_friendly_score</th>\n      <th>violent_crime_rate</th>\n      <th>walk</th>\n      <th>public_transportation</th>\n      <th>carpool</th>\n      <th>mean_dom</th>\n      <th>property_type_code</th>\n    </tr>\n  </thead>\n  <tbody>\n    <tr>\n      <th>count</th>\n      <td>6984.0</td>\n      <td>6.984000e+03</td>\n      <td>6.984000e+03</td>\n      <td>6.984000e+03</td>\n      <td>6.984000e+03</td>\n      <td>6.984000e+03</td>\n      <td>6.984000e+03</td>\n      <td>6.984000e+03</td>\n      <td>6.984000e+03</td>\n      <td>6984.000000</td>\n      <td>6984.000000</td>\n      <td>6984.000000</td>\n      <td>6984.000000</td>\n      <td>6.984000e+03</td>\n    </tr>\n    <tr>\n      <th>mean</th>\n      <td>0.0</td>\n      <td>2.197555e-16</td>\n      <td>5.331105e-16</td>\n      <td>-4.232328e-16</td>\n      <td>-6.511274e-17</td>\n      <td>-6.836837e-16</td>\n      <td>-5.860146e-16</td>\n      <td>1.953382e-16</td>\n      <td>-4.883455e-16</td>\n      <td>0.007251</td>\n      <td>0.019127</td>\n      <td>0.068409</td>\n      <td>47.325047</td>\n      <td>-7.325183e-17</td>\n    </tr>\n    <tr>\n      <th>std</th>\n      <td>0.0</td>\n      <td>1.000072e+00</td>\n      <td>1.000072e+00</td>\n      <td>1.000072e+00</td>\n      <td>1.000072e+00</td>\n      <td>1.000072e+00</td>\n      <td>1.000072e+00</td>\n      <td>1.000072e+00</td>\n      <td>1.000072e+00</td>\n      <td>0.006682</td>\n      <td>0.014390</td>\n      <td>0.029136</td>\n      <td>2.268245</td>\n      <td>1.000072e+00</td>\n    </tr>\n    <tr>\n      <th>min</th>\n      <td>0.0</td>\n      <td>-1.690600e+00</td>\n      <td>-4.024447e+00</td>\n      <td>-2.159276e+00</td>\n      <td>-1.642564e+00</td>\n      <td>-2.040978e+00</td>\n      <td>-3.961079e+00</td>\n      <td>-1.522161e+00</td>\n      <td>-1.725850e+00</td>\n      <td>0.000000</td>\n      <td>0.000000</td>\n      <td>0.024776</td>\n      <td>41.232412</td>\n      <td>-4.536323e-01</td>\n    </tr>\n    <tr>\n      <th>25%</th>\n      <td>0.0</td>\n      <td>-7.478036e-01</td>\n      <td>-7.001723e-01</td>\n      <td>-9.490542e-01</td>\n      <td>-7.000356e-01</td>\n      <td>-5.013786e-01</td>\n      <td>-1.399725e+00</td>\n      <td>-1.203379e+00</td>\n      <td>-4.845671e-01</td>\n      <td>0.000000</td>\n      <td>0.008537</td>\n      <td>0.048476</td>\n      <td>45.819303</td>\n      <td>-4.536323e-01</td>\n    </tr>\n    <tr>\n      <th>50%</th>\n      <td>0.0</td>\n      <td>-1.715930e-01</td>\n      <td>-3.123080e-02</td>\n      <td>-3.089372e-01</td>\n      <td>3.312325e-01</td>\n      <td>3.288406e-01</td>\n      <td>3.306036e-01</td>\n      <td>7.117653e-01</td>\n      <td>-1.487855e-01</td>\n      <td>0.007507</td>\n      <td>0.013360</td>\n      <td>0.063245</td>\n      <td>47.250742</td>\n      <td>-4.536323e-01</td>\n    </tr>\n    <tr>\n      <th>75%</th>\n      <td>0.0</td>\n      <td>6.010765e-01</td>\n      <td>6.010313e-01</td>\n      <td>1.231345e+00</td>\n      <td>7.256751e-01</td>\n      <td>7.123037e-01</td>\n      <td>9.190170e-01</td>\n      <td>7.364917e-01</td>\n      <td>1.095490e+00</td>\n      <td>0.008741</td>\n      <td>0.023831</td>\n      <td>0.085977</td>\n      <td>48.979712</td>\n      <td>-4.536323e-01</td>\n    </tr>\n    <tr>\n      <th>max</th>\n      <td>0.0</td>\n      <td>3.774107e+00</td>\n      <td>6.192578e+00</td>\n      <td>2.764125e+00</td>\n      <td>2.551021e+00</td>\n      <td>1.586911e+00</td>\n      <td>1.607231e+00</td>\n      <td>1.829849e+00</td>\n      <td>1.401154e+01</td>\n      <td>0.050211</td>\n      <td>0.045041</td>\n      <td>0.135781</td>\n      <td>52.942220</td>\n      <td>4.168057e+00</td>\n    </tr>\n  </tbody>\n</table>\n</div>"
          },
          "metadata": {}
        }
      ]
    },
    {
      "cell_type": "code",
      "metadata": {
        "cell_id": "00039-c3c8390d-3a31-412a-9cbb-a682fa477fea",
        "deepnote_to_be_reexecuted": false,
        "source_hash": "91c01c58",
        "execution_start": 1619564973867,
        "execution_millis": 121,
        "deepnote_cell_type": "code"
      },
      "source": "X.head()",
      "execution_count": 41,
      "outputs": [
        {
          "output_type": "execute_result",
          "execution_count": 41,
          "data": {
            "application/vnd.deepnote.dataframe.v2+json": {
              "row_count": 5,
              "column_count": 19,
              "columns": [
                {
                  "name": "zipcode",
                  "dtype": "float64",
                  "stats": {
                    "unique_count": 1,
                    "nan_count": 0,
                    "min": "0.0",
                    "max": "0.0",
                    "histogram": [
                      {
                        "bin_start": -0.5,
                        "bin_end": -0.4,
                        "count": 0
                      },
                      {
                        "bin_start": -0.4,
                        "bin_end": -0.3,
                        "count": 0
                      },
                      {
                        "bin_start": -0.3,
                        "bin_end": -0.19999999999999996,
                        "count": 0
                      },
                      {
                        "bin_start": -0.19999999999999996,
                        "bin_end": -0.09999999999999998,
                        "count": 0
                      },
                      {
                        "bin_start": -0.09999999999999998,
                        "bin_end": 0,
                        "count": 0
                      },
                      {
                        "bin_start": 0,
                        "bin_end": 0.10000000000000009,
                        "count": 5
                      },
                      {
                        "bin_start": 0.10000000000000009,
                        "bin_end": 0.20000000000000007,
                        "count": 0
                      },
                      {
                        "bin_start": 0.20000000000000007,
                        "bin_end": 0.30000000000000004,
                        "count": 0
                      },
                      {
                        "bin_start": 0.30000000000000004,
                        "bin_end": 0.4,
                        "count": 0
                      },
                      {
                        "bin_start": 0.4,
                        "bin_end": 0.5,
                        "count": 0
                      }
                    ]
                  }
                },
                {
                  "name": "sqft",
                  "dtype": "float64",
                  "stats": {
                    "unique_count": 4,
                    "nan_count": 0,
                    "min": "-0.7880763863493023",
                    "max": "1.168767869301496",
                    "histogram": [
                      {
                        "bin_start": -0.7880763863493023,
                        "bin_end": -0.5923919607842225,
                        "count": 2
                      },
                      {
                        "bin_start": -0.5923919607842225,
                        "bin_end": -0.39670753521914265,
                        "count": 0
                      },
                      {
                        "bin_start": -0.39670753521914265,
                        "bin_end": -0.20102310965406278,
                        "count": 0
                      },
                      {
                        "bin_start": -0.20102310965406278,
                        "bin_end": -0.00533868408898297,
                        "count": 0
                      },
                      {
                        "bin_start": -0.00533868408898297,
                        "bin_end": 0.19034574147609684,
                        "count": 0
                      },
                      {
                        "bin_start": 0.19034574147609684,
                        "bin_end": 0.38603016704117676,
                        "count": 0
                      },
                      {
                        "bin_start": 0.38603016704117676,
                        "bin_end": 0.5817145926062566,
                        "count": 2
                      },
                      {
                        "bin_start": 0.5817145926062566,
                        "bin_end": 0.7773990181713364,
                        "count": 0
                      },
                      {
                        "bin_start": 0.7773990181713364,
                        "bin_end": 0.9730834437364162,
                        "count": 0
                      },
                      {
                        "bin_start": 0.9730834437364162,
                        "bin_end": 1.168767869301496,
                        "count": 1
                      }
                    ]
                  }
                },
                {
                  "name": "has_central_air",
                  "dtype": "bool",
                  "stats": {
                    "unique_count": 1,
                    "nan_count": 0,
                    "categories": [
                      {
                        "name": "False",
                        "count": 5
                      }
                    ]
                  }
                },
                {
                  "name": "has_jacuzzi",
                  "dtype": "bool",
                  "stats": {
                    "unique_count": 1,
                    "nan_count": 0,
                    "categories": [
                      {
                        "name": "False",
                        "count": 5
                      }
                    ]
                  }
                },
                {
                  "name": "has_pool",
                  "dtype": "bool",
                  "stats": {
                    "unique_count": 1,
                    "nan_count": 0,
                    "categories": [
                      {
                        "name": "False",
                        "count": 5
                      }
                    ]
                  }
                },
                {
                  "name": "has_solar",
                  "dtype": "bool",
                  "stats": {
                    "unique_count": 1,
                    "nan_count": 0,
                    "categories": [
                      {
                        "name": "False",
                        "count": 5
                      }
                    ]
                  }
                },
                {
                  "name": "has_garage",
                  "dtype": "bool",
                  "stats": {
                    "unique_count": 1,
                    "nan_count": 0,
                    "categories": [
                      {
                        "name": "False",
                        "count": 5
                      }
                    ]
                  }
                },
                {
                  "name": "sale_price_per_sqft",
                  "dtype": "float64",
                  "stats": {
                    "unique_count": 5,
                    "nan_count": 0,
                    "min": "-1.3231866137796473",
                    "max": "2.3217306537091433",
                    "histogram": [
                      {
                        "bin_start": -1.3231866137796473,
                        "bin_end": -0.9586948870307682,
                        "count": 2
                      },
                      {
                        "bin_start": -0.9586948870307682,
                        "bin_end": -0.5942031602818891,
                        "count": 0
                      },
                      {
                        "bin_start": -0.5942031602818891,
                        "bin_end": -0.22971143353300993,
                        "count": 0
                      },
                      {
                        "bin_start": -0.22971143353300993,
                        "bin_end": 0.13478029321586904,
                        "count": 0
                      },
                      {
                        "bin_start": 0.13478029321586904,
                        "bin_end": 0.499272019964748,
                        "count": 0
                      },
                      {
                        "bin_start": 0.499272019964748,
                        "bin_end": 0.8637637467136274,
                        "count": 2
                      },
                      {
                        "bin_start": 0.8637637467136274,
                        "bin_end": 1.2282554734625064,
                        "count": 0
                      },
                      {
                        "bin_start": 1.2282554734625064,
                        "bin_end": 1.5927472002113854,
                        "count": 0
                      },
                      {
                        "bin_start": 1.5927472002113854,
                        "bin_end": 1.9572389269602644,
                        "count": 0
                      },
                      {
                        "bin_start": 1.9572389269602644,
                        "bin_end": 2.3217306537091433,
                        "count": 1
                      }
                    ]
                  }
                },
                {
                  "name": "median_rental_price",
                  "dtype": "float64",
                  "stats": {
                    "unique_count": 3,
                    "nan_count": 0,
                    "min": "-1.0715766312791792",
                    "max": "2.764124861712558",
                    "histogram": [
                      {
                        "bin_start": -1.0715766312791792,
                        "bin_end": -0.6880064819800055,
                        "count": 2
                      },
                      {
                        "bin_start": -0.6880064819800055,
                        "bin_end": -0.3044363326808317,
                        "count": 0
                      },
                      {
                        "bin_start": -0.3044363326808317,
                        "bin_end": 0.07913381661834218,
                        "count": 0
                      },
                      {
                        "bin_start": 0.07913381661834218,
                        "bin_end": 0.46270396591751584,
                        "count": 0
                      },
                      {
                        "bin_start": 0.46270396591751584,
                        "bin_end": 0.8462741152166895,
                        "count": 0
                      },
                      {
                        "bin_start": 0.8462741152166895,
                        "bin_end": 1.2298442645158636,
                        "count": 0
                      },
                      {
                        "bin_start": 1.2298442645158636,
                        "bin_end": 1.6134144138150373,
                        "count": 0
                      },
                      {
                        "bin_start": 1.6134144138150373,
                        "bin_end": 1.996984563114211,
                        "count": 0
                      },
                      {
                        "bin_start": 1.996984563114211,
                        "bin_end": 2.3805547124133843,
                        "count": 1
                      },
                      {
                        "bin_start": 2.3805547124133843,
                        "bin_end": 2.764124861712558,
                        "count": 2
                      }
                    ]
                  }
                },
                {
                  "name": "pop_density",
                  "dtype": "float64",
                  "stats": {
                    "unique_count": 3,
                    "nan_count": 0,
                    "min": "-1.6425635038746862",
                    "max": "-1.5018546648117155",
                    "histogram": [
                      {
                        "bin_start": -1.6425635038746862,
                        "bin_end": -1.6284926199683891,
                        "count": 1
                      },
                      {
                        "bin_start": -1.6284926199683891,
                        "bin_end": -1.614421736062092,
                        "count": 0
                      },
                      {
                        "bin_start": -1.614421736062092,
                        "bin_end": -1.600350852155795,
                        "count": 0
                      },
                      {
                        "bin_start": -1.600350852155795,
                        "bin_end": -1.586279968249498,
                        "count": 0
                      },
                      {
                        "bin_start": -1.586279968249498,
                        "bin_end": -1.5722090843432008,
                        "count": 0
                      },
                      {
                        "bin_start": -1.5722090843432008,
                        "bin_end": -1.5581382004369038,
                        "count": 0
                      },
                      {
                        "bin_start": -1.5581382004369038,
                        "bin_end": -1.5440673165306067,
                        "count": 0
                      },
                      {
                        "bin_start": -1.5440673165306067,
                        "bin_end": -1.5299964326243096,
                        "count": 0
                      },
                      {
                        "bin_start": -1.5299964326243096,
                        "bin_end": -1.5159255487180125,
                        "count": 0
                      },
                      {
                        "bin_start": -1.5159255487180125,
                        "bin_end": -1.5018546648117155,
                        "count": 4
                      }
                    ]
                  }
                },
                {
                  "name": "retirement_friendly_score",
                  "dtype": "float64",
                  "stats": {
                    "unique_count": 3,
                    "nan_count": 0,
                    "min": "-1.9933381335800042",
                    "max": "-0.4222812453366391",
                    "histogram": [
                      {
                        "bin_start": -1.9933381335800042,
                        "bin_end": -1.8362324447556677,
                        "count": 2
                      },
                      {
                        "bin_start": -1.8362324447556677,
                        "bin_end": -1.6791267559313312,
                        "count": 0
                      },
                      {
                        "bin_start": -1.6791267559313312,
                        "bin_end": -1.5220210671069947,
                        "count": 0
                      },
                      {
                        "bin_start": -1.5220210671069947,
                        "bin_end": -1.3649153782826582,
                        "count": 0
                      },
                      {
                        "bin_start": -1.3649153782826582,
                        "bin_end": -1.2078096894583217,
                        "count": 0
                      },
                      {
                        "bin_start": -1.2078096894583217,
                        "bin_end": -1.0507040006339852,
                        "count": 0
                      },
                      {
                        "bin_start": -1.0507040006339852,
                        "bin_end": -0.8935983118096487,
                        "count": 0
                      },
                      {
                        "bin_start": -0.8935983118096487,
                        "bin_end": -0.7364926229853122,
                        "count": 2
                      },
                      {
                        "bin_start": -0.7364926229853122,
                        "bin_end": -0.5793869341609756,
                        "count": 0
                      },
                      {
                        "bin_start": -0.5793869341609756,
                        "bin_end": -0.4222812453366391,
                        "count": 1
                      }
                    ]
                  }
                },
                {
                  "name": "young_single_professional_score",
                  "dtype": "float64",
                  "stats": {
                    "unique_count": 3,
                    "nan_count": 0,
                    "min": "0.263623162704206",
                    "max": "1.6072313104817153",
                    "histogram": [
                      {
                        "bin_start": 0.263623162704206,
                        "bin_end": 0.3979839774819569,
                        "count": 2
                      },
                      {
                        "bin_start": 0.3979839774819569,
                        "bin_end": 0.5323447922597078,
                        "count": 0
                      },
                      {
                        "bin_start": 0.5323447922597078,
                        "bin_end": 0.6667056070374587,
                        "count": 0
                      },
                      {
                        "bin_start": 0.6667056070374587,
                        "bin_end": 0.8010664218152097,
                        "count": 0
                      },
                      {
                        "bin_start": 0.8010664218152097,
                        "bin_end": 0.9354272365929606,
                        "count": 0
                      },
                      {
                        "bin_start": 0.9354272365929606,
                        "bin_end": 1.0697880513707114,
                        "count": 2
                      },
                      {
                        "bin_start": 1.0697880513707114,
                        "bin_end": 1.2041488661484625,
                        "count": 0
                      },
                      {
                        "bin_start": 1.2041488661484625,
                        "bin_end": 1.3385096809262134,
                        "count": 0
                      },
                      {
                        "bin_start": 1.3385096809262134,
                        "bin_end": 1.4728704957039642,
                        "count": 0
                      },
                      {
                        "bin_start": 1.4728704957039642,
                        "bin_end": 1.6072313104817153,
                        "count": 1
                      }
                    ]
                  }
                },
                {
                  "name": "college_student_friendly_score",
                  "dtype": "float64",
                  "stats": {
                    "unique_count": 3,
                    "nan_count": 0,
                    "min": "0.5650176751586982",
                    "max": "1.7927243042671477",
                    "histogram": [
                      {
                        "bin_start": 0.5650176751586982,
                        "bin_end": 0.6877883380695431,
                        "count": 1
                      },
                      {
                        "bin_start": 0.6877883380695431,
                        "bin_end": 0.810559000980388,
                        "count": 2
                      },
                      {
                        "bin_start": 0.810559000980388,
                        "bin_end": 0.9333296638912331,
                        "count": 0
                      },
                      {
                        "bin_start": 0.9333296638912331,
                        "bin_end": 1.056100326802078,
                        "count": 0
                      },
                      {
                        "bin_start": 1.056100326802078,
                        "bin_end": 1.178870989712923,
                        "count": 0
                      },
                      {
                        "bin_start": 1.178870989712923,
                        "bin_end": 1.301641652623768,
                        "count": 0
                      },
                      {
                        "bin_start": 1.301641652623768,
                        "bin_end": 1.424412315534613,
                        "count": 0
                      },
                      {
                        "bin_start": 1.424412315534613,
                        "bin_end": 1.5471829784454578,
                        "count": 0
                      },
                      {
                        "bin_start": 1.5471829784454578,
                        "bin_end": 1.6699536413563028,
                        "count": 0
                      },
                      {
                        "bin_start": 1.6699536413563028,
                        "bin_end": 1.7927243042671477,
                        "count": 2
                      }
                    ]
                  }
                },
                {
                  "name": "violent_crime_rate",
                  "dtype": "float64",
                  "stats": {
                    "unique_count": 3,
                    "nan_count": 0,
                    "min": "-1.3971031020501177",
                    "max": "0.923972700895239",
                    "histogram": [
                      {
                        "bin_start": -1.3971031020501177,
                        "bin_end": -1.164995521755582,
                        "count": 2
                      },
                      {
                        "bin_start": -1.164995521755582,
                        "bin_end": -0.9328879414610463,
                        "count": 0
                      },
                      {
                        "bin_start": -0.9328879414610463,
                        "bin_end": -0.7007803611665107,
                        "count": 0
                      },
                      {
                        "bin_start": -0.7007803611665107,
                        "bin_end": -0.46867278087197495,
                        "count": 0
                      },
                      {
                        "bin_start": -0.46867278087197495,
                        "bin_end": -0.23656520057743924,
                        "count": 0
                      },
                      {
                        "bin_start": -0.23656520057743924,
                        "bin_end": -0.00445762028290364,
                        "count": 2
                      },
                      {
                        "bin_start": -0.00445762028290364,
                        "bin_end": 0.22764996001163218,
                        "count": 0
                      },
                      {
                        "bin_start": 0.22764996001163218,
                        "bin_end": 0.4597575403061678,
                        "count": 0
                      },
                      {
                        "bin_start": 0.4597575403061678,
                        "bin_end": 0.6918651206007036,
                        "count": 0
                      },
                      {
                        "bin_start": 0.6918651206007036,
                        "bin_end": 0.923972700895239,
                        "count": 1
                      }
                    ]
                  }
                },
                {
                  "name": "walk",
                  "dtype": "float64",
                  "stats": {
                    "unique_count": 2,
                    "nan_count": 0,
                    "min": "0.0",
                    "max": "0.0074322704387437",
                    "histogram": [
                      {
                        "bin_start": 0,
                        "bin_end": 0.00074322704387437,
                        "count": 3
                      },
                      {
                        "bin_start": 0.00074322704387437,
                        "bin_end": 0.00148645408774874,
                        "count": 0
                      },
                      {
                        "bin_start": 0.00148645408774874,
                        "bin_end": 0.00222968113162311,
                        "count": 0
                      },
                      {
                        "bin_start": 0.00222968113162311,
                        "bin_end": 0.00297290817549748,
                        "count": 0
                      },
                      {
                        "bin_start": 0.00297290817549748,
                        "bin_end": 0.0037161352193718503,
                        "count": 0
                      },
                      {
                        "bin_start": 0.0037161352193718503,
                        "bin_end": 0.00445936226324622,
                        "count": 0
                      },
                      {
                        "bin_start": 0.00445936226324622,
                        "bin_end": 0.00520258930712059,
                        "count": 0
                      },
                      {
                        "bin_start": 0.00520258930712059,
                        "bin_end": 0.00594581635099496,
                        "count": 0
                      },
                      {
                        "bin_start": 0.00594581635099496,
                        "bin_end": 0.00668904339486933,
                        "count": 0
                      },
                      {
                        "bin_start": 0.00668904339486933,
                        "bin_end": 0.0074322704387437,
                        "count": 2
                      }
                    ]
                  }
                },
                {
                  "name": "public_transportation",
                  "dtype": "float64",
                  "stats": {
                    "unique_count": 3,
                    "nan_count": 0,
                    "min": "0.0",
                    "max": "0.0238305383936451",
                    "histogram": [
                      {
                        "bin_start": 0,
                        "bin_end": 0.00238305383936451,
                        "count": 1
                      },
                      {
                        "bin_start": 0.00238305383936451,
                        "bin_end": 0.00476610767872902,
                        "count": 0
                      },
                      {
                        "bin_start": 0.00476610767872902,
                        "bin_end": 0.007149161518093531,
                        "count": 0
                      },
                      {
                        "bin_start": 0.007149161518093531,
                        "bin_end": 0.00953221535745804,
                        "count": 0
                      },
                      {
                        "bin_start": 0.00953221535745804,
                        "bin_end": 0.01191526919682255,
                        "count": 0
                      },
                      {
                        "bin_start": 0.01191526919682255,
                        "bin_end": 0.014298323036187062,
                        "count": 0
                      },
                      {
                        "bin_start": 0.014298323036187062,
                        "bin_end": 0.01668137687555157,
                        "count": 2
                      },
                      {
                        "bin_start": 0.01668137687555157,
                        "bin_end": 0.01906443071491608,
                        "count": 0
                      },
                      {
                        "bin_start": 0.01906443071491608,
                        "bin_end": 0.021447484554280593,
                        "count": 0
                      },
                      {
                        "bin_start": 0.021447484554280593,
                        "bin_end": 0.0238305383936451,
                        "count": 2
                      }
                    ]
                  }
                },
                {
                  "name": "carpool",
                  "dtype": "float64",
                  "stats": {
                    "unique_count": 3,
                    "nan_count": 0,
                    "min": "0.0575401582354351",
                    "max": "0.070334928229665",
                    "histogram": [
                      {
                        "bin_start": 0.0575401582354351,
                        "bin_end": 0.05881963523485809,
                        "count": 2
                      },
                      {
                        "bin_start": 0.05881963523485809,
                        "bin_end": 0.060099112234281084,
                        "count": 0
                      },
                      {
                        "bin_start": 0.060099112234281084,
                        "bin_end": 0.061378589233704074,
                        "count": 0
                      },
                      {
                        "bin_start": 0.061378589233704074,
                        "bin_end": 0.06265806623312706,
                        "count": 0
                      },
                      {
                        "bin_start": 0.06265806623312706,
                        "bin_end": 0.06393754323255005,
                        "count": 2
                      },
                      {
                        "bin_start": 0.06393754323255005,
                        "bin_end": 0.06521702023197304,
                        "count": 0
                      },
                      {
                        "bin_start": 0.06521702023197304,
                        "bin_end": 0.06649649723139603,
                        "count": 0
                      },
                      {
                        "bin_start": 0.06649649723139603,
                        "bin_end": 0.06777597423081902,
                        "count": 0
                      },
                      {
                        "bin_start": 0.06777597423081902,
                        "bin_end": 0.06905545123024201,
                        "count": 0
                      },
                      {
                        "bin_start": 0.06905545123024201,
                        "bin_end": 0.070334928229665,
                        "count": 1
                      }
                    ]
                  }
                },
                {
                  "name": "mean_dom",
                  "dtype": "float64",
                  "stats": {
                    "unique_count": 5,
                    "nan_count": 0,
                    "min": "44.39077313392976",
                    "max": "49.69705684390871",
                    "histogram": [
                      {
                        "bin_start": 44.39077313392976,
                        "bin_end": 44.92140150492766,
                        "count": 1
                      },
                      {
                        "bin_start": 44.92140150492766,
                        "bin_end": 45.452029875925554,
                        "count": 0
                      },
                      {
                        "bin_start": 45.452029875925554,
                        "bin_end": 45.98265824692345,
                        "count": 0
                      },
                      {
                        "bin_start": 45.98265824692345,
                        "bin_end": 46.513286617921345,
                        "count": 1
                      },
                      {
                        "bin_start": 46.513286617921345,
                        "bin_end": 47.04391498891924,
                        "count": 0
                      },
                      {
                        "bin_start": 47.04391498891924,
                        "bin_end": 47.57454335991713,
                        "count": 0
                      },
                      {
                        "bin_start": 47.57454335991713,
                        "bin_end": 48.105171730915025,
                        "count": 1
                      },
                      {
                        "bin_start": 48.105171730915025,
                        "bin_end": 48.63580010191292,
                        "count": 1
                      },
                      {
                        "bin_start": 48.63580010191292,
                        "bin_end": 49.166428472910816,
                        "count": 0
                      },
                      {
                        "bin_start": 49.166428472910816,
                        "bin_end": 49.69705684390871,
                        "count": 1
                      }
                    ]
                  }
                },
                {
                  "name": "property_type_code",
                  "dtype": "float64",
                  "stats": {
                    "unique_count": 2,
                    "nan_count": 0,
                    "min": "-0.45363226016686964",
                    "max": "1.857212163615346",
                    "histogram": [
                      {
                        "bin_start": -0.45363226016686964,
                        "bin_end": -0.22254781778864804,
                        "count": 4
                      },
                      {
                        "bin_start": -0.22254781778864804,
                        "bin_end": 0.00853662458957355,
                        "count": 0
                      },
                      {
                        "bin_start": 0.00853662458957355,
                        "bin_end": 0.23962106696779517,
                        "count": 0
                      },
                      {
                        "bin_start": 0.23962106696779517,
                        "bin_end": 0.47070550934601674,
                        "count": 0
                      },
                      {
                        "bin_start": 0.47070550934601674,
                        "bin_end": 0.7017899517242383,
                        "count": 0
                      },
                      {
                        "bin_start": 0.7017899517242383,
                        "bin_end": 0.93287439410246,
                        "count": 0
                      },
                      {
                        "bin_start": 0.93287439410246,
                        "bin_end": 1.1639588364806814,
                        "count": 0
                      },
                      {
                        "bin_start": 1.1639588364806814,
                        "bin_end": 1.3950432788589031,
                        "count": 0
                      },
                      {
                        "bin_start": 1.3950432788589031,
                        "bin_end": 1.6261277212371246,
                        "count": 0
                      },
                      {
                        "bin_start": 1.6261277212371246,
                        "bin_end": 1.857212163615346,
                        "count": 1
                      }
                    ]
                  }
                },
                {
                  "name": "_deepnote_index_column",
                  "dtype": "int64"
                }
              ],
              "rows_top": [
                {
                  "zipcode": 0,
                  "sqft": 0.4263029511944122,
                  "has_central_air": false,
                  "has_jacuzzi": false,
                  "has_pool": false,
                  "has_solar": false,
                  "has_garage": false,
                  "sale_price_per_sqft": -1.3231866137796473,
                  "median_rental_price": -1.0715766312791792,
                  "pop_density": -1.5018546648117155,
                  "retirement_friendly_score": -1.9933381335800042,
                  "young_single_professional_score": 0.263623162704206,
                  "college_student_friendly_score": 1.7927243042671477,
                  "violent_crime_rate": -0.11292316128659322,
                  "walk": 0.0074322704387437,
                  "public_transportation": 0.0165427954926876,
                  "carpool": 0.0575401582354351,
                  "mean_dom": 46.34295955633708,
                  "property_type_code": -0.45363226016686964,
                  "_deepnote_index_column": 50436
                },
                {
                  "zipcode": 0,
                  "sqft": 0.4263029511944122,
                  "has_central_air": false,
                  "has_jacuzzi": false,
                  "has_pool": false,
                  "has_solar": false,
                  "has_garage": false,
                  "sale_price_per_sqft": -1.0939539583970044,
                  "median_rental_price": -1.0715766312791792,
                  "pop_density": -1.5018546648117155,
                  "retirement_friendly_score": -1.9933381335800042,
                  "young_single_professional_score": 0.263623162704206,
                  "college_student_friendly_score": 1.7927243042671477,
                  "violent_crime_rate": -0.11292316128659322,
                  "walk": 0.0074322704387437,
                  "public_transportation": 0.0165427954926876,
                  "carpool": 0.0575401582354351,
                  "mean_dom": 48.04564785937057,
                  "property_type_code": -0.45363226016686964,
                  "_deepnote_index_column": 50437
                },
                {
                  "zipcode": 0,
                  "sqft": -0.7880763863493023,
                  "has_central_air": false,
                  "has_jacuzzi": false,
                  "has_pool": false,
                  "has_solar": false,
                  "has_garage": false,
                  "sale_price_per_sqft": 0.8120677266545604,
                  "median_rental_price": 2.2165247137561104,
                  "pop_density": -1.6425635038746862,
                  "retirement_friendly_score": -0.4222812453366391,
                  "young_single_professional_score": 1.6072313104817153,
                  "college_student_friendly_score": 0.5650176751586982,
                  "violent_crime_rate": 0.923972700895239,
                  "walk": 0,
                  "public_transportation": 0,
                  "carpool": 0.070334928229665,
                  "mean_dom": 49.69705684390871,
                  "property_type_code": -0.45363226016686964,
                  "_deepnote_index_column": 78963
                },
                {
                  "zipcode": 0,
                  "sqft": 1.168767869301496,
                  "has_central_air": false,
                  "has_jacuzzi": false,
                  "has_pool": false,
                  "has_solar": false,
                  "has_garage": false,
                  "sale_price_per_sqft": 0.6375880163983108,
                  "median_rental_price": 2.764124861712558,
                  "pop_density": -1.5097988475766049,
                  "retirement_friendly_score": -0.8642733424764711,
                  "young_single_professional_score": 0.9852262297447825,
                  "college_student_friendly_score": 0.7717251385731845,
                  "violent_crime_rate": -1.3971031020501177,
                  "walk": 0,
                  "public_transportation": 0.0238305383936451,
                  "carpool": 0.0635481023830538,
                  "mean_dom": 44.39077313392976,
                  "property_type_code": -0.45363226016686964,
                  "_deepnote_index_column": 83485
                },
                {
                  "zipcode": 0,
                  "sqft": -0.7126939954983744,
                  "has_central_air": false,
                  "has_jacuzzi": false,
                  "has_pool": false,
                  "has_solar": false,
                  "has_garage": false,
                  "sale_price_per_sqft": 2.3217306537091433,
                  "median_rental_price": 2.764124861712558,
                  "pop_density": -1.5097988475766049,
                  "retirement_friendly_score": -0.8642733424764711,
                  "young_single_professional_score": 0.9852262297447825,
                  "college_student_friendly_score": 0.7717251385731845,
                  "violent_crime_rate": -1.3971031020501177,
                  "walk": 0,
                  "public_transportation": 0.0238305383936451,
                  "carpool": 0.0635481023830538,
                  "mean_dom": 48.58937393698874,
                  "property_type_code": 1.857212163615346,
                  "_deepnote_index_column": 83486
                }
              ],
              "rows_bottom": null
            },
            "text/plain": "       zipcode      sqft  has_central_air  has_jacuzzi  has_pool  has_solar  \\\n50436      0.0  0.426303            False        False     False      False   \n50437      0.0  0.426303            False        False     False      False   \n78963      0.0 -0.788076            False        False     False      False   \n83485      0.0  1.168768            False        False     False      False   \n83486      0.0 -0.712694            False        False     False      False   \n\n       has_garage  sale_price_per_sqft  median_rental_price  pop_density  \\\n50436       False            -1.323187            -1.071577    -1.501855   \n50437       False            -1.093954            -1.071577    -1.501855   \n78963       False             0.812068             2.216525    -1.642564   \n83485       False             0.637588             2.764125    -1.509799   \n83486       False             2.321731             2.764125    -1.509799   \n\n       retirement_friendly_score  young_single_professional_score  \\\n50436                  -1.993338                         0.263623   \n50437                  -1.993338                         0.263623   \n78963                  -0.422281                         1.607231   \n83485                  -0.864273                         0.985226   \n83486                  -0.864273                         0.985226   \n\n       college_student_friendly_score  violent_crime_rate      walk  \\\n50436                        1.792724           -0.112923  0.007432   \n50437                        1.792724           -0.112923  0.007432   \n78963                        0.565018            0.923973  0.000000   \n83485                        0.771725           -1.397103  0.000000   \n83486                        0.771725           -1.397103  0.000000   \n\n       public_transportation   carpool   mean_dom  property_type_code  \n50436               0.016543  0.057540  46.342960           -0.453632  \n50437               0.016543  0.057540  48.045648           -0.453632  \n78963               0.000000  0.070335  49.697057           -0.453632  \n83485               0.023831  0.063548  44.390773           -0.453632  \n83486               0.023831  0.063548  48.589374            1.857212  ",
            "text/html": "<div>\n<style scoped>\n    .dataframe tbody tr th:only-of-type {\n        vertical-align: middle;\n    }\n\n    .dataframe tbody tr th {\n        vertical-align: top;\n    }\n\n    .dataframe thead th {\n        text-align: right;\n    }\n</style>\n<table border=\"1\" class=\"dataframe\">\n  <thead>\n    <tr style=\"text-align: right;\">\n      <th></th>\n      <th>zipcode</th>\n      <th>sqft</th>\n      <th>has_central_air</th>\n      <th>has_jacuzzi</th>\n      <th>has_pool</th>\n      <th>has_solar</th>\n      <th>has_garage</th>\n      <th>sale_price_per_sqft</th>\n      <th>median_rental_price</th>\n      <th>pop_density</th>\n      <th>retirement_friendly_score</th>\n      <th>young_single_professional_score</th>\n      <th>college_student_friendly_score</th>\n      <th>violent_crime_rate</th>\n      <th>walk</th>\n      <th>public_transportation</th>\n      <th>carpool</th>\n      <th>mean_dom</th>\n      <th>property_type_code</th>\n    </tr>\n  </thead>\n  <tbody>\n    <tr>\n      <th>50436</th>\n      <td>0.0</td>\n      <td>0.426303</td>\n      <td>False</td>\n      <td>False</td>\n      <td>False</td>\n      <td>False</td>\n      <td>False</td>\n      <td>-1.323187</td>\n      <td>-1.071577</td>\n      <td>-1.501855</td>\n      <td>-1.993338</td>\n      <td>0.263623</td>\n      <td>1.792724</td>\n      <td>-0.112923</td>\n      <td>0.007432</td>\n      <td>0.016543</td>\n      <td>0.057540</td>\n      <td>46.342960</td>\n      <td>-0.453632</td>\n    </tr>\n    <tr>\n      <th>50437</th>\n      <td>0.0</td>\n      <td>0.426303</td>\n      <td>False</td>\n      <td>False</td>\n      <td>False</td>\n      <td>False</td>\n      <td>False</td>\n      <td>-1.093954</td>\n      <td>-1.071577</td>\n      <td>-1.501855</td>\n      <td>-1.993338</td>\n      <td>0.263623</td>\n      <td>1.792724</td>\n      <td>-0.112923</td>\n      <td>0.007432</td>\n      <td>0.016543</td>\n      <td>0.057540</td>\n      <td>48.045648</td>\n      <td>-0.453632</td>\n    </tr>\n    <tr>\n      <th>78963</th>\n      <td>0.0</td>\n      <td>-0.788076</td>\n      <td>False</td>\n      <td>False</td>\n      <td>False</td>\n      <td>False</td>\n      <td>False</td>\n      <td>0.812068</td>\n      <td>2.216525</td>\n      <td>-1.642564</td>\n      <td>-0.422281</td>\n      <td>1.607231</td>\n      <td>0.565018</td>\n      <td>0.923973</td>\n      <td>0.000000</td>\n      <td>0.000000</td>\n      <td>0.070335</td>\n      <td>49.697057</td>\n      <td>-0.453632</td>\n    </tr>\n    <tr>\n      <th>83485</th>\n      <td>0.0</td>\n      <td>1.168768</td>\n      <td>False</td>\n      <td>False</td>\n      <td>False</td>\n      <td>False</td>\n      <td>False</td>\n      <td>0.637588</td>\n      <td>2.764125</td>\n      <td>-1.509799</td>\n      <td>-0.864273</td>\n      <td>0.985226</td>\n      <td>0.771725</td>\n      <td>-1.397103</td>\n      <td>0.000000</td>\n      <td>0.023831</td>\n      <td>0.063548</td>\n      <td>44.390773</td>\n      <td>-0.453632</td>\n    </tr>\n    <tr>\n      <th>83486</th>\n      <td>0.0</td>\n      <td>-0.712694</td>\n      <td>False</td>\n      <td>False</td>\n      <td>False</td>\n      <td>False</td>\n      <td>False</td>\n      <td>2.321731</td>\n      <td>2.764125</td>\n      <td>-1.509799</td>\n      <td>-0.864273</td>\n      <td>0.985226</td>\n      <td>0.771725</td>\n      <td>-1.397103</td>\n      <td>0.000000</td>\n      <td>0.023831</td>\n      <td>0.063548</td>\n      <td>48.589374</td>\n      <td>1.857212</td>\n    </tr>\n  </tbody>\n</table>\n</div>"
          },
          "metadata": {}
        }
      ]
    },
    {
      "cell_type": "code",
      "metadata": {
        "cell_id": "00040-bdd91a38-eea6-481b-99ea-aaed36950281",
        "deepnote_to_be_reexecuted": false,
        "source_hash": "f08faaed",
        "execution_start": 1619564973950,
        "execution_millis": 5,
        "deepnote_cell_type": "code"
      },
      "source": "X_train, X_test, y_train, y_test = train_test_split(X, y, test_size=0.33)",
      "execution_count": 42,
      "outputs": []
    },
    {
      "cell_type": "code",
      "metadata": {
        "cell_id": "00041-bae46099-ad3a-4e63-857b-db0fd3a0cfd7",
        "deepnote_to_be_reexecuted": false,
        "source_hash": "20108b69",
        "execution_start": 1619564973956,
        "execution_millis": 0,
        "deepnote_cell_type": "code"
      },
      "source": "regression_models = {\n  'Linear regression': LinearRegression(),\n  'Ridge': Ridge(alpha=1.0),\n  'Lasso': linear_model.Lasso(alpha=0.1),\n  'Random Forest Regression': RandomForestRegressor(max_depth=2, random_state=0),\n#   'Support Vector Regression': SVR(C=1.0, epsilon=0.2)\n}",
      "execution_count": 43,
      "outputs": []
    },
    {
      "cell_type": "code",
      "metadata": {
        "cell_id": "00042-15b12047-b40d-44fe-8db9-a675034d9c90",
        "deepnote_to_be_reexecuted": false,
        "source_hash": "7b27c93a",
        "execution_start": 1619564974001,
        "execution_millis": 924,
        "deepnote_cell_type": "code"
      },
      "source": "for md in regression_models.keys():\n  res = regression_models[md].fit(X_train, y_train)\n  print('Result for {}'.format(md))\n  print('Train set R2: {}'.format(res.score(X_train, y_train)))\n  print('Test set R2: {}'.format(res.score(X_test, y_test)))\n  y_pred = res.predict(X_test)\n  print('Test set MSE: {}'.format(mean_squared_error(y_test, y_pred)))\n  print('')",
      "execution_count": 44,
      "outputs": [
        {
          "name": "stdout",
          "text": "Result for Linear regression\nTrain set R2: 0.08211244856269795\nTest set R2: 0.053787416653415576\nTest set MSE: 335.08789464344477\n\nResult for Ridge\nTrain set R2: 0.08041013157289756\nTest set R2: 0.05958527041737127\nTest set MSE: 333.03466617723353\n\nResult for Lasso\nTrain set R2: 0.07644144324232982\nTest set R2: 0.06007119171653885\nTest set MSE: 332.8625839750242\n\nResult for Random Forest Regression\nTrain set R2: 0.06844063580427218\nTest set R2: 0.04370798010666055\nTest set MSE: 338.65738550743094\n\n",
          "output_type": "stream"
        }
      ]
    },
    {
      "cell_type": "markdown",
      "source": "## Time Interval Baseline Model",
      "metadata": {
        "cell_id": "00043-1949c49b-143a-4435-ae13-bbfbcf0f0c77",
        "deepnote_cell_type": "markdown"
      }
    },
    {
      "cell_type": "code",
      "metadata": {
        "cell_id": "00045-30407796-ba23-45ba-9c01-778ad674f79c",
        "deepnote_to_be_reexecuted": false,
        "execution_millis": 703,
        "source_hash": "ac8e1ed8",
        "execution_start": 1619564974930,
        "deepnote_cell_type": "code"
      },
      "source": "# Load dataset\ndf = pd.read_csv('../data/namluu_dataset.csv')\n\n#convert to datetime format\ndf[\"list_date\"] = pd.to_datetime(df[\"list_date\"])\ndf[\"sale_date\"] = pd.to_datetime(df[\"sale_date\"])",
      "execution_count": 45,
      "outputs": []
    },
    {
      "cell_type": "code",
      "metadata": {
        "cell_id": "00057-25b93c5b-5832-44cd-a47b-2d69c5093b12",
        "deepnote_to_be_reexecuted": false,
        "execution_millis": 4,
        "source_hash": "d54621c2",
        "tags": [],
        "execution_start": 1619564975639,
        "deepnote_cell_type": "code"
      },
      "source": "#function to define the y variables\ndef gen_y(t_disc, data, t0=None):\n    ''' \n    t_disc: datetime.timedelta(days = XX)\n    t0: datetime.datetime(YYYY,MM,DD)\n    '''\n\n    if t0 is not None:\n        listed = np.array(((data['list_date'] >= t0) & (data['list_date'] < t0 + t_disc)) | ((data['list_date'] < t0) & (data['sale_date'] >= t0)), dtype=np.int8)\n        sale = np.array((data['sale_date'] >= t0) & (data['sale_date'] < t0 + t_disc), dtype = np.int8)\n        return np.vstack((listed, sale)).T",
      "execution_count": 46,
      "outputs": []
    },
    {
      "cell_type": "code",
      "metadata": {
        "cell_id": "00059-ec1415bc-ba77-4b05-a2f4-4b59d8f1deb1",
        "deepnote_to_be_reexecuted": false,
        "execution_millis": 2,
        "source_hash": "dd24b448",
        "tags": [],
        "execution_start": 1619564975648,
        "deepnote_cell_type": "code"
      },
      "source": "#function to generate whether a particular home is listed and sold within a certain time period\ndef gen_y(t_disc, data, t0=None):\n    ''' \n    t_disc: datetime.timedelta(days = XX)\n    t0: datetime.datetime(YYYY,MM,DD)\n    '''\n\n    if t0 is not None:\n        listed = np.array(((data['list_date'] >= t0) & (data['list_date'] < t0 + t_disc)) | ((data['list_date'] < t0) & (data['sale_date'] >= t0)), dtype=np.int8)\n        sale = np.array((data['sale_date'] >= t0) & (data['sale_date'] < t0 + t_disc), dtype = np.int8)\n        return np.vstack((listed, sale)).T\n    #else:\n        #TODO",
      "execution_count": 47,
      "outputs": []
    },
    {
      "cell_type": "code",
      "metadata": {
        "tags": [],
        "cell_id": "00056-efd25090-443c-4107-8524-5c629cc7e900",
        "deepnote_to_be_reexecuted": false,
        "source_hash": "8d665493",
        "execution_millis": 19,
        "execution_start": 1619564975655,
        "deepnote_cell_type": "code"
      },
      "source": "y_2019Q2 = gen_y(datetime.timedelta(days = 90), df, datetime.datetime(2019,4,1))\n\n# Remove all rows that aren't listed in that period\nlisted_index = np.where(y_2019Q2[:,0] == 1)\ndf_2019Q2 = df.iloc[listed_index]\n",
      "execution_count": 48,
      "outputs": []
    },
    {
      "cell_type": "code",
      "metadata": {
        "cell_id": "00060-798e7025-1110-4c76-aa51-e26ac04b6907",
        "deepnote_to_be_reexecuted": false,
        "execution_millis": 26,
        "source_hash": "40d727d5",
        "tags": [],
        "execution_start": 1619564975682,
        "deepnote_cell_type": "code"
      },
      "source": "# Build X matrix and Y target vector\n\nX = df_2019Q2.drop(columns=['list_date','sale_date','rex_property_id','latitude', 'longitude'])\nX = X.reset_index(drop=True)\n\nY = y_2019Q2[np.where(y_2019Q2[:,0]==1)]\n\nX.info()",
      "execution_count": 49,
      "outputs": [
        {
          "name": "stdout",
          "text": "<class 'pandas.core.frame.DataFrame'>\nRangeIndex: 34130 entries, 0 to 34129\nData columns (total 16 columns):\n #   Column                              Non-Null Count  Dtype  \n---  ------                              --------------  -----  \n 0   Unnamed: 0                          34130 non-null  int64  \n 1   18-59                               34130 non-null  float64\n 2   mean_household_income               34130 non-null  int64  \n 3   built 1995 or later                 34130 non-null  float64\n 4   OTHER                               34130 non-null  bool   \n 5   mobile_home_pct                     34130 non-null  float64\n 6   annual_births_per_resident          34130 non-null  float64\n 7   farm_score                          34130 non-null  int64  \n 8   luxury_communities_score            34130 non-null  float64\n 9   CONDO                               34130 non-null  bool   \n 10  property_crime_rate                 34130 non-null  float64\n 11  bathfull                            34130 non-null  int64  \n 12  small_apt_buildings_pct             34130 non-null  float64\n 13  standardized_test_score_percentile  34130 non-null  float64\n 14  MULTI_FAMILY                        34130 non-null  bool   \n 15  bedrooms                            34130 non-null  int64  \ndtypes: bool(3), float64(8), int64(5)\nmemory usage: 3.5 MB\n",
          "output_type": "stream"
        }
      ]
    },
    {
      "cell_type": "markdown",
      "source": "now to make predictions: given a house is listed in that period, \nwhat's the probability that it will sell\n",
      "metadata": {
        "cell_id": "00061-693b71e7-17d2-4e9c-b416-d8118c7c0d0a",
        "tags": [],
        "deepnote_cell_type": "markdown"
      }
    },
    {
      "cell_type": "code",
      "metadata": {
        "cell_id": "00065-69a93a6a-9bf4-4132-a15f-f63683cf5301",
        "deepnote_to_be_reexecuted": false,
        "execution_millis": 0,
        "source_hash": "b3d06386",
        "tags": [],
        "execution_start": 1619564975753,
        "deepnote_cell_type": "code"
      },
      "source": "#split into train and test\nX_train, X_test, y_train, y_test = train_test_split(X, Y, test_size=0.33, random_state =297)",
      "execution_count": 50,
      "outputs": []
    },
    {
      "cell_type": "code",
      "metadata": {
        "tags": [],
        "cell_id": "00061-36417ccc-354c-4140-bd77-ca6190264b12",
        "deepnote_to_be_reexecuted": false,
        "source_hash": "21c5ae8a",
        "execution_start": 1619564975753,
        "execution_millis": 1,
        "deepnote_cell_type": "code"
      },
      "source": "def print_results(model,thresh=0.5):\n  print('Train set accuracy: {}'.format(accuracy_score(y_train[:,1], np.where(pred_k_train[:,1]>thresh,1,0))))\n  print('Test set accuracy: {}'.format(accuracy_score(y_test[:,1], np.where(pred_k[:,1]>thresh,1,0))))\n\n  return accuracy_score(y_train[:,1], np.where(pred_k_train[:,1]>thresh,1,0)), accuracy_score(y_test[:,1], np.where(pred_k[:,1]>thresh,1,0))",
      "execution_count": 51,
      "outputs": []
    },
    {
      "cell_type": "code",
      "metadata": {
        "cell_id": "00068-7eb2fecf-24b3-474e-b66a-7f17c7890534",
        "deepnote_to_be_reexecuted": false,
        "execution_millis": 227,
        "source_hash": "a84f9640",
        "tags": [],
        "execution_start": 1619564975754,
        "deepnote_cell_type": "code"
      },
      "source": "logit2 = LogisticRegression().fit(X_train, y_train[:,1])\n\npred_k_train = logit2.predict_proba(X_train)\npred_k = logit2.predict_proba(X_test)\n\ntrain_accuracy, test_accuracy = print_results(logit2)\n#use predict_proba to get the probabilities",
      "execution_count": 52,
      "outputs": [
        {
          "name": "stdout",
          "text": "Train set accuracy: 0.6284164953863647\nTest set accuracy: 0.6307378140815059\n",
          "output_type": "stream"
        }
      ]
    },
    {
      "cell_type": "code",
      "metadata": {
        "cell_id": "00069-40c6b92f-5cdd-4cf5-9afa-71427747a6ad",
        "deepnote_to_be_reexecuted": false,
        "execution_millis": 19,
        "source_hash": "87767b51",
        "tags": [],
        "execution_start": 1619564975978,
        "deepnote_cell_type": "code"
      },
      "source": "#evaluate the AUC\nroc_auc_score(y_test[:,1],pred_k[:,1]) ",
      "execution_count": 53,
      "outputs": [
        {
          "output_type": "execute_result",
          "execution_count": 53,
          "data": {
            "text/plain": "0.5379462061544593"
          },
          "metadata": {}
        }
      ]
    },
    {
      "cell_type": "code",
      "metadata": {
        "cell_id": "00070-0d686f16-2de1-483f-a127-4f6169025053",
        "deepnote_to_be_reexecuted": false,
        "execution_millis": 85,
        "source_hash": "8601c86c",
        "tags": [],
        "execution_start": 1619564975999,
        "deepnote_cell_type": "code"
      },
      "source": "print('Number of houses actually sold in that period (from test set)')\nprint(len(np.where(y_test[:,1] ==1)[0]))\nprint('-----')\nprint('The number of houses predicted to be sold in that period (test set)')\nprint(sum(pred_k_train[:,1]))\nprint('-----')\nprint('MSE')\nprint(mean_squared_error([len(np.where(y_test[:,1] ==1)[0])],[sum(pred_k_train[:,1])]))",
      "execution_count": 54,
      "outputs": [
        {
          "name": "stdout",
          "text": "Number of houses actually sold in that period (from test set)\n4159\n-----\nThe number of houses predicted to be sold in that period (test set)\n8588.544480211158\n-----\nMSE\n19620864.302169137\n",
          "output_type": "stream"
        }
      ]
    },
    {
      "cell_type": "code",
      "metadata": {
        "cell_id": "00072-f9b3ae99-967b-4a07-86f1-3b4c2cdc5994",
        "deepnote_to_be_reexecuted": false,
        "source_hash": "b623e53d",
        "execution_start": 1619564976076,
        "execution_millis": 3,
        "deepnote_cell_type": "code"
      },
      "source": "",
      "execution_count": 54,
      "outputs": []
    },
    {
      "cell_type": "markdown",
      "source": "<a style='text-decoration:none;line-height:16px;display:flex;color:#5B5B62;padding:10px;justify-content:end;' href='https://deepnote.com?utm_source=created-in-deepnote-cell&projectId=1c850c61-d934-4c85-b16d-3cb283df0c84' target=\"_blank\">\n<img alt='Created in deepnote.com' style='display:inline;max-height:16px;margin:0px;margin-right:7.5px;' src='data:image/svg+xml;base64,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' > </img>\nCreated in <span style='font-weight:600;margin-left:4px;'>Deepnote</span></a>",
      "metadata": {
        "tags": [],
        "created_in_deepnote_cell": true,
        "deepnote_cell_type": "markdown"
      }
    }
  ],
  "nbformat": 4,
  "nbformat_minor": 4,
  "metadata": {
    "deepnote": {},
    "deepnote_execution_queue": [],
    "deepnote_notebook_id": "e49a76ba-d019-426e-8c0e-b68ac2cf79c4",
    "kernelspec": {
      "display_name": "Python 3",
      "language": "python",
      "name": "python3"
    },
    "language_info": {
      "codemirror_mode": {
        "name": "ipython",
        "version": 3
      },
      "file_extension": ".py",
      "mimetype": "text/x-python",
      "name": "python",
      "nbconvert_exporter": "python",
      "pygments_lexer": "ipython3",
      "version": "3.8.3"
    }
  }
}