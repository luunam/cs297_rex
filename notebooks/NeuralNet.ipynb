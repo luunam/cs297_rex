{
 "cells": [
  {
   "cell_type": "code",
   "execution_count": 1,
   "metadata": {},
   "outputs": [],
   "source": [
    "import torch\n",
    "import torch.nn as nn\n",
    "import torch.optim as optim\n",
    "import torch.nn.functional as F\n",
    "import torchvision.transforms as T\n",
    "\n",
    "from itertools import count\n",
    "import random\n",
    "import math\n",
    "\n",
    "import numpy as np\n",
    "import pandas as pd\n",
    "import matplotlib.pyplot as plt\n",
    "import datetime\n",
    "\n",
    "from sklearn.preprocessing import StandardScaler\n",
    "from sklearn.model_selection import train_test_split\n",
    "from sklearn.linear_model import LogisticRegression"
   ]
  },
  {
   "cell_type": "code",
   "execution_count": 2,
   "metadata": {},
   "outputs": [],
   "source": [
    "epochs = 50\n",
    "\n",
    "class Net(nn.Module):\n",
    "  def __init__(self, state_dim, output_dim):\n",
    "    super(Net, self).__init__()\n",
    "\n",
    "    hidden_dim = 256\n",
    "    self.linear1 = nn.Linear(state_dim, hidden_dim)\n",
    "    self.linear2 = nn.Linear(hidden_dim, hidden_dim)\n",
    "    self.linear3 = nn.Linear(hidden_dim, output_dim)\n",
    "\n",
    "  def forward(self, x):\n",
    "    x = F.relu(self.linear1(x))\n",
    "    x = F.relu(self.linear2(x))\n",
    "    x = torch.tanh(self.linear3(x))\n",
    "\n",
    "    return x\n",
    "\n",
    "  def train(self, X, y):\n",
    "    criterion = torch.nn.CrossEntropyLoss()\n",
    "    optimizer = torch.optim.SGD(self.parameters(), lr=0.001)\n",
    "    cnt = 0\n",
    "\n",
    "    for epoch in range(int(epochs)):\n",
    "      outputs = self.forward(X.float())\n",
    "      labels = torch.max(y, 1)[1]\n",
    "      loss = criterion(outputs, labels)\n",
    "      loss.backward()\n",
    "      optimizer.step()\n",
    "\n",
    "      cnt+=1\n",
    "      if cnt%10==0:\n",
    "        correct = 0\n",
    "        total = y.shape[0]\n",
    "        _, predicted = torch.max(outputs.data, 1)\n",
    "        correct += (predicted == labels).sum()\n",
    "        accuracy = 100 * correct/total\n",
    "        print(\"Iteration: {}. Loss: {}. Correct: {}. Accuracy: {}.\".format(cnt, loss.item(), correct, accuracy))"
   ]
  },
  {
   "cell_type": "code",
   "execution_count": 3,
   "metadata": {},
   "outputs": [],
   "source": [
    "df = pd.read_csv('../data/denver_mean_dom_discretize.csv')\n",
    "\n",
    "df[\"list_date\"] = pd.to_datetime(df[\"list_date\"])\n",
    "df[\"sale_date\"] = pd.to_datetime(df[\"sale_date\"])"
   ]
  },
  {
   "cell_type": "code",
   "execution_count": 4,
   "metadata": {},
   "outputs": [
    {
     "data": {
      "text/plain": [
       "{'SINGLE': 0,\n",
       " 'CONDO': 1,\n",
       " 'MULTI_FAMILY': 2,\n",
       " 'LAND': 3,\n",
       " 'OTHER': 4,\n",
       " 'TOWNHOUSE': 5}"
      ]
     },
     "execution_count": 4,
     "metadata": {},
     "output_type": "execute_result"
    }
   ],
   "source": [
    "mapping = {k: v for v, k in enumerate(df.property_type.unique())}\n",
    "mapping"
   ]
  },
  {
   "cell_type": "code",
   "execution_count": 5,
   "metadata": {},
   "outputs": [],
   "source": [
    "df['property_type_code'] = df['property_type'].map(mapping)"
   ]
  },
  {
   "cell_type": "code",
   "execution_count": 6,
   "metadata": {},
   "outputs": [],
   "source": [
    "scaler = StandardScaler()"
   ]
  },
  {
   "cell_type": "code",
   "execution_count": 7,
   "metadata": {},
   "outputs": [
    {
     "name": "stdout",
     "output_type": "stream",
     "text": [
      "<class 'pandas.core.frame.DataFrame'>\n",
      "RangeIndex: 232498 entries, 0 to 232497\n",
      "Data columns (total 15 columns):\n",
      " #   Column                           Non-Null Count   Dtype  \n",
      "---  ------                           --------------   -----  \n",
      " 0   zipcode                          232498 non-null  float64\n",
      " 1   sqft                             232498 non-null  float64\n",
      " 2   has_central_air                  232498 non-null  int64  \n",
      " 3   sale_price_per_sqft              232498 non-null  float64\n",
      " 4   median_rental_price              232498 non-null  float64\n",
      " 5   pop_density                      232498 non-null  float64\n",
      " 6   retirement_friendly_score        232498 non-null  float64\n",
      " 7   young_single_professional_score  232498 non-null  float64\n",
      " 8   college_student_friendly_score   232498 non-null  float64\n",
      " 9   violent_crime_rate               232498 non-null  float64\n",
      " 10  walk                             232498 non-null  float64\n",
      " 11  public_transportation            232498 non-null  float64\n",
      " 12  carpool                          232498 non-null  float64\n",
      " 13  mean_dom                         232498 non-null  float64\n",
      " 14  property_type_code               232498 non-null  float64\n",
      "dtypes: float64(14), int64(1)\n",
      "memory usage: 26.6 MB\n"
     ]
    }
   ],
   "source": [
    "y2 = df['dom_bucket'].copy()\n",
    "\n",
    "X2 = df.drop(columns=['property_id', 'list_date', 'sale_date', 'dom', \n",
    "                     'farm_score', 'fips', \n",
    "                     'first_time_homebuyer_score', 'dom_bucket', 'property_type',\n",
    "                     'has_jacuzzi', 'has_pool', 'has_solar', 'has_garage'\n",
    "                     ])\n",
    "\n",
    "columns_to_scale = ['zipcode', 'sqft', 'sale_price_per_sqft', 'median_rental_price', \n",
    "                    'pop_density', 'retirement_friendly_score',\n",
    "                    'college_student_friendly_score', 'violent_crime_rate', 'young_single_professional_score',\n",
    "                    'property_type_code'\n",
    "                   ]\n",
    "X2[columns_to_scale] =  scaler.fit_transform(X2[columns_to_scale])\n",
    "\n",
    "X2['has_central_air'] = X2['has_central_air'].astype(int)\n",
    "\n",
    "X2.info()"
   ]
  },
  {
   "cell_type": "code",
   "execution_count": 8,
   "metadata": {},
   "outputs": [],
   "source": [
    "y_tensor = torch.from_numpy(y2.values)\n",
    "y_one_hot = torch.nn.functional.one_hot(y_tensor)"
   ]
  },
  {
   "cell_type": "code",
   "execution_count": 9,
   "metadata": {},
   "outputs": [],
   "source": [
    "X_tensor = torch.from_numpy(X2.values)"
   ]
  },
  {
   "cell_type": "code",
   "execution_count": 10,
   "metadata": {},
   "outputs": [],
   "source": [
    "def print_results(model):\n",
    "  print('Train set accuracy: {}'.format(model.score(X_train, y_train)))\n",
    "  print('Test set accuracy: {}'.format(model.score(X_test, y_test)))"
   ]
  },
  {
   "cell_type": "code",
   "execution_count": 11,
   "metadata": {},
   "outputs": [],
   "source": [
    "X_train, X_test, y_train, y_test = train_test_split(X_tensor, y_one_hot, test_size=0.33, random_state =297)"
   ]
  },
  {
   "cell_type": "code",
   "execution_count": 14,
   "metadata": {},
   "outputs": [],
   "source": [
    "net = Net(X_train.shape[1], y_train.shape[1])"
   ]
  },
  {
   "cell_type": "code",
   "execution_count": 15,
   "metadata": {},
   "outputs": [
    {
     "name": "stdout",
     "output_type": "stream",
     "text": [
      "Iteration: 10. Loss: 1.0451730489730835. Correct: 95839. Accuracy: 61.524784088134766.\n",
      "Iteration: 20. Loss: 1.0425257682800293. Correct: 95839. Accuracy: 61.524784088134766.\n",
      "Iteration: 30. Loss: 1.0430985689163208. Correct: 95839. Accuracy: 61.524784088134766.\n",
      "Iteration: 40. Loss: 1.0397984981536865. Correct: 95839. Accuracy: 61.524784088134766.\n",
      "Iteration: 50. Loss: 1.0537997484207153. Correct: 95839. Accuracy: 61.524784088134766.\n"
     ]
    }
   ],
   "source": [
    "net.train(X_train, y_train)"
   ]
  },
  {
   "cell_type": "code",
   "execution_count": null,
   "metadata": {},
   "outputs": [],
   "source": []
  }
 ],
 "metadata": {
  "kernelspec": {
   "display_name": "Python 3",
   "language": "python",
   "name": "python3"
  },
  "language_info": {
   "codemirror_mode": {
    "name": "ipython",
    "version": 3
   },
   "file_extension": ".py",
   "mimetype": "text/x-python",
   "name": "python",
   "nbconvert_exporter": "python",
   "pygments_lexer": "ipython3",
   "version": "3.8.3"
  }
 },
 "nbformat": 4,
 "nbformat_minor": 4
}
