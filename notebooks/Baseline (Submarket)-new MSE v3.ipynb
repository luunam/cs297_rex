{
  "cells": [
    {
      "cell_type": "markdown",
      "source": "# Submarket baseline\n\nSteps include:\n\n1. kmeans to find submarkets\n2. Fit logistic regressions on the submarkets\n3. Compare accuracy scores against other submarket & non-submarket approaches",
      "metadata": {
        "tags": [],
        "cell_id": "00000-944ec318-1792-47a6-bccb-30f4e9e21dce",
        "deepnote_cell_type": "markdown"
      }
    },
    {
      "cell_type": "code",
      "metadata": {
        "deepnote_to_be_reexecuted": false,
        "execution_millis": 0,
        "source_hash": "e1484970",
        "tags": [],
        "cell_id": "00001-090243ac-3be1-44b4-b2ca-1257aecc84a2",
        "execution_start": 1619455067288,
        "deepnote_cell_type": "code"
      },
      "source": "#required packages\nimport sys\nsys.path.insert(0, '../scripts/')\n\nimport torch\nimport torch.nn as nn\nimport torch.optim as optim\nimport torch.nn.functional as F\nimport torchvision.transforms as T\n\nimport numpy as np\nimport pandas as pd\nimport matplotlib.pyplot as plt\nimport pymc3 as pm\nimport chardet\nimport datetime\n\nimport seaborn as sns\nfrom sklearn.linear_model import LogisticRegression\nfrom sklearn.preprocessing import StandardScaler\nfrom sklearn.cluster import KMeans\n\nfrom sklearn.model_selection import train_test_split\nfrom sklearn.metrics import roc_auc_score\nfrom sklearn.decomposition import PCA\nfrom sklearn.metrics import accuracy_score\n\nfrom models import AE, BaselineNet",
      "execution_count": 34,
      "outputs": []
    },
    {
      "cell_type": "code",
      "metadata": {
        "deepnote_to_be_reexecuted": false,
        "execution_millis": 498,
        "source_hash": "e6c370e1",
        "tags": [],
        "cell_id": "00002-aea52d55-74fb-452b-a6bd-15f22b8bebd1",
        "execution_start": 1619453061709,
        "deepnote_cell_type": "code"
      },
      "source": "# Load dataset\ndf = pd.read_csv('../data/denver_prop_with_ct_clean_small.csv')\n\n#convert to datetime format\ndf[\"list_date\"] = pd.to_datetime(df[\"list_date\"])\ndf[\"sale_date\"] = pd.to_datetime(df[\"sale_date\"])\n\n",
      "execution_count": 4,
      "outputs": []
    },
    {
      "cell_type": "code",
      "metadata": {
        "deepnote_to_be_reexecuted": false,
        "execution_millis": 0,
        "source_hash": "d54621c2",
        "tags": [],
        "cell_id": "00003-fdfcebdb-9da7-4373-83b5-c5a640632005",
        "execution_start": 1619453064560,
        "deepnote_cell_type": "code"
      },
      "source": "#function to define the y variables\ndef gen_y(t_disc, data, t0=None):\n    ''' \n    t_disc: datetime.timedelta(days = XX)\n    t0: datetime.datetime(YYYY,MM,DD)\n    '''\n\n    if t0 is not None:\n        listed = np.array(((data['list_date'] >= t0) & (data['list_date'] < t0 + t_disc)) | ((data['list_date'] < t0) & (data['sale_date'] >= t0)), dtype=np.int8)\n        sale = np.array((data['sale_date'] >= t0) & (data['sale_date'] < t0 + t_disc), dtype = np.int8)\n        return np.vstack((listed, sale)).T",
      "execution_count": 5,
      "outputs": []
    },
    {
      "cell_type": "code",
      "metadata": {
        "deepnote_to_be_reexecuted": false,
        "execution_millis": 0,
        "source_hash": "8d665493",
        "tags": [],
        "cell_id": "00004-2e23935f-918b-4c7e-ae13-de5bef04eb65",
        "execution_start": 1619453083879,
        "deepnote_cell_type": "code"
      },
      "source": "y_2019Q2 = gen_y(datetime.timedelta(days = 90), df, datetime.datetime(2019,4,1))\n\n# Remove all rows that aren't listed in that period\nlisted_index = np.where(y_2019Q2[:,0] == 1)\ndf_2019Q2 = df.iloc[listed_index]\n",
      "execution_count": 6,
      "outputs": []
    },
    {
      "cell_type": "code",
      "source": "# Build X matrix and Y target vector\n\nX = df_2019Q2.drop(columns=['list_date','sale_date','rex_property_id'])\nX = X.reset_index(drop=True)\n\nY = y_2019Q2[np.where(y_2019Q2[:,0]==1)]\n\nX.info()",
      "metadata": {
        "tags": [],
        "cell_id": "00006-95fe6ff3-cfb1-4a89-a43c-f99fff711197",
        "deepnote_to_be_reexecuted": false,
        "source_hash": "3b01397f",
        "execution_start": 1619453413217,
        "execution_millis": 26,
        "deepnote_cell_type": "code"
      },
      "outputs": [
        {
          "name": "stdout",
          "text": "<class 'pandas.core.frame.DataFrame'>\nRangeIndex: 42336 entries, 0 to 42335\nData columns (total 15 columns):\n #   Column                              Non-Null Count  Dtype  \n---  ------                              --------------  -----  \n 0   18-59                               42336 non-null  float64\n 1   mean_household_income               42336 non-null  int64  \n 2   built 1995 or later                 42336 non-null  float64\n 3   OTHER                               42336 non-null  bool   \n 4   mobile_home_pct                     42336 non-null  float64\n 5   annual_births_per_resident          42336 non-null  float64\n 6   farm_score                          42336 non-null  int64  \n 7   luxury_communities_score            42336 non-null  float64\n 8   CONDO                               42336 non-null  bool   \n 9   property_crime_rate                 42336 non-null  float64\n 10  bathfull                            42336 non-null  int64  \n 11  small_apt_buildings_pct             42336 non-null  float64\n 12  standardized_test_score_percentile  42336 non-null  float64\n 13  MULTI_FAMILY                        42336 non-null  bool   \n 14  bedrooms                            42336 non-null  int64  \ndtypes: bool(3), float64(8), int64(4)\nmemory usage: 4.0 MB\n",
          "output_type": "stream"
        }
      ],
      "execution_count": 8
    },
    {
      "cell_type": "code",
      "metadata": {
        "deepnote_to_be_reexecuted": false,
        "execution_millis": 1546,
        "source_hash": "17413658",
        "tags": [],
        "cell_id": "00006-5aead42b-65c5-4a2b-85ff-cea81aec1acf",
        "execution_start": 1619453429235,
        "deepnote_cell_type": "code"
      },
      "source": "#attempt kmeans clustering\n#unsupervised approach\nK = 5\ninit_clustering = KMeans(n_clusters=K, random_state=0).fit(X)",
      "execution_count": 9,
      "outputs": []
    },
    {
      "cell_type": "code",
      "metadata": {
        "deepnote_to_be_reexecuted": false,
        "execution_millis": 2,
        "source_hash": "7333adf3",
        "tags": [],
        "cell_id": "00007-64597f2e-0d93-4375-8fee-9be2b02e4402",
        "execution_start": 1619453432284,
        "deepnote_cell_type": "code"
      },
      "source": "cluster_labels = init_clustering.labels_",
      "execution_count": 10,
      "outputs": []
    },
    {
      "cell_type": "code",
      "metadata": {
        "deepnote_to_be_reexecuted": false,
        "execution_millis": 289,
        "source_hash": "e950da07",
        "tags": [],
        "cell_id": "00008-36885db1-0c23-46f7-972b-e870e5e2a4e8",
        "execution_start": 1619453434160,
        "deepnote_cell_type": "code"
      },
      "source": "for k in range(K):\n    print('Submarket {}: {} units'.format(k, sum(cluster_labels == k)))",
      "execution_count": 11,
      "outputs": [
        {
          "name": "stdout",
          "text": "Submarket 0: 13563 units\nSubmarket 1: 11009 units\nSubmarket 2: 488 units\nSubmarket 3: 15300 units\nSubmarket 4: 1976 units\n",
          "output_type": "stream"
        }
      ]
    },
    {
      "cell_type": "code",
      "metadata": {
        "deepnote_to_be_reexecuted": false,
        "execution_millis": 1,
        "source_hash": "4bc93347",
        "tags": [],
        "cell_id": "00009-178a183a-4f0e-4a8d-86ca-ed2d55c8d1c1",
        "execution_start": 1619453473818,
        "deepnote_cell_type": "code"
      },
      "source": "#create a new df with has the clustering labels on it\nX_withlabels = X.copy()\nX_withlabels['labels'] = cluster_labels ",
      "execution_count": 12,
      "outputs": []
    },
    {
      "cell_type": "markdown",
      "source": "## Fitting logistic regression to identified clusters from Kmeans",
      "metadata": {
        "tags": [],
        "cell_id": "00010-a8df5df1-8d16-45e4-8181-8e1dc7cf6688",
        "deepnote_cell_type": "markdown"
      }
    },
    {
      "cell_type": "code",
      "metadata": {
        "deepnote_to_be_reexecuted": false,
        "execution_millis": 0,
        "source_hash": "21c5ae8a",
        "tags": [],
        "cell_id": "00011-0419d1b4-7596-4497-bfcb-f882e9c09371",
        "execution_start": 1619456297519,
        "deepnote_cell_type": "code"
      },
      "source": "def print_results(model,thresh=0.5):\n  print('Train set accuracy: {}'.format(accuracy_score(y_train[:,1], np.where(pred_k_train[:,1]>thresh,1,0))))\n  print('Test set accuracy: {}'.format(accuracy_score(y_test[:,1], np.where(pred_k[:,1]>thresh,1,0))))\n\n  return accuracy_score(y_train[:,1], np.where(pred_k_train[:,1]>thresh,1,0)), accuracy_score(y_test[:,1], np.where(pred_k[:,1]>thresh,1,0))",
      "execution_count": 60,
      "outputs": []
    },
    {
      "cell_type": "code",
      "metadata": {
        "deepnote_to_be_reexecuted": false,
        "execution_millis": 1,
        "source_hash": "b0ecfd33",
        "tags": [],
        "cell_id": "00012-f612e5a4-3732-41aa-82bc-94a1308bdbca",
        "execution_start": 1619453610633,
        "deepnote_cell_type": "code"
      },
      "source": "train_test_dict = {}\n\n#for loop which extracts the X & y df for each cluster\n#these will then be used to run the logistic regression \nfor i in range(5):\n    X2 = X_withlabels.loc[X_withlabels['labels'] == i]\n    X2 = X2.drop(columns = 'labels')\n    y2 = Y[X_withlabels['labels'] == i]\n    X_train, X_test, y_train, y_test = train_test_split(X2, y2, test_size=0.33, random_state =297)\n\n    train_test_dict[f'cluster {i}'] = (X_train, X_test, y_train, y_test)",
      "execution_count": 14,
      "outputs": []
    },
    {
      "cell_type": "code",
      "metadata": {
        "deepnote_to_be_reexecuted": false,
        "execution_millis": 3524,
        "source_hash": "c670c741",
        "tags": [],
        "cell_id": "00013-ec548d5b-8091-4cde-9e02-374ce2e146f9",
        "execution_start": 1619456298998,
        "deepnote_cell_type": "code"
      },
      "source": "#now to fit for each cluster and get final results\n\nresults_dict = {}\n\ntrain_acc_agg = 0\ntrain_size = 0\ntest_acc_agg = 0\ntest_expsales_agg = 0\ntest_sales_agg = 0\ntest_size = 0\n\ntest = np.array([])\npred = np.array([])\n\nfor i in range(5):\n    logit_reg = LogisticRegression()\n    X_train = train_test_dict[f'cluster {i}'][0]\n    X_test = train_test_dict[f'cluster {i}'][1]\n    y_train = train_test_dict[f'cluster {i}'][2]\n    y_test = train_test_dict[f'cluster {i}'][3]\n\n    #fit the logistic regression to each cluster\n    logit_reg.fit(X_train, y_train[:,1])\n    \n    #the below code is used in order to create a df containing a breakdown of metrics\n    #on a per cluster basis\n    print(f'For cluster {i}')\n    pred_k_train = logit_reg.predict_proba(X_train)\n    pred_k = logit_reg.predict_proba(X_test)\n\n\n    train_accuracy, test_accuracy = print_results(logit_reg)\n    exp_sales = sum(logit_reg.predict_proba(X_test)[:,1])\n    actual_sales = sum(y_test[:,1])\n    \n    print(\"Number of Homes: {}\".format(len(y_test)))\n    print(\"Expected #Sales: {}\".format(round(exp_sales)))\n    print(\"Actual #Sales: {}\\n\".format(actual_sales))\n    print('=======')\n\n \n    AUC_score = roc_auc_score(y_test[:,1], pred_k[:,1])\n\n    results_dict[f'cluster {i}'] = [train_accuracy, test_accuracy, AUC_score, round(exp_sales),actual_sales]\n    \n    #the below code is used to find the weighted average\n    test = np.append(test,y_test[:,1])\n    pred = np.append(pred,pred_k[:,1])\n    train_size += len(y_train)\n    train_acc_agg += train_accuracy * len(y_train)\n    test_size += len(y_test)\n    test_acc_agg += test_accuracy * len(y_test)\n    test_expsales_agg += round(exp_sales)\n    test_sales_agg += actual_sales\n\nresults_df = pd.DataFrame.from_dict(results_dict, orient='index')",
      "execution_count": 61,
      "outputs": [
        {
          "name": "stdout",
          "text": "For cluster 0\nTrain set accuracy: 0.60195884230219\nTest set accuracy: 0.6016532618409294\nNumber of Homes: 4476\nExpected #Sales: 1778\nActual #Sales: 1783\n\n=======\nFor cluster 1\nTrain set accuracy: 0.6591648590021691\nTest set accuracy: 0.6732727773190201\nNumber of Homes: 3633\nExpected #Sales: 1241\nActual #Sales: 1187\n\n=======\nFor cluster 2\nTrain set accuracy: 0.7055214723926381\nTest set accuracy: 0.7962962962962963\nNumber of Homes: 162\nExpected #Sales: 47\nActual #Sales: 33\n\n=======\nFor cluster 3\nTrain set accuracy: 0.6166227685103892\nTest set accuracy: 0.6219053277876807\nNumber of Homes: 5049\nExpected #Sales: 1932\nActual #Sales: 1911\n\n=======\nFor cluster 4\nTrain set accuracy: 0.7135298563869993\nTest set accuracy: 0.7029096477794793\nNumber of Homes: 653\nExpected #Sales: 187\nActual #Sales: 194\n\n=======\n",
          "output_type": "stream"
        }
      ]
    },
    {
      "cell_type": "code",
      "metadata": {
        "deepnote_to_be_reexecuted": false,
        "execution_millis": 97,
        "source_hash": "3c58d889",
        "tags": [],
        "cell_id": "00014-86b6d84f-3766-4648-a26b-8dac054d55eb",
        "execution_start": 1619456274590,
        "deepnote_cell_type": "code"
      },
      "source": "results_df = results_df.rename(columns = {0:'train_accuracy', 1:'test_accuracy', 2:'Test_AUC', 3:'expec sales', 4:'actual sales'})\nresults_df",
      "execution_count": 59,
      "outputs": [
        {
          "output_type": "execute_result",
          "execution_count": 59,
          "data": {
            "application/vnd.deepnote.dataframe.v2+json": {
              "row_count": 5,
              "column_count": 5,
              "columns": [
                {
                  "name": "train_accuracy",
                  "dtype": "float64",
                  "stats": {
                    "unique_count": 5,
                    "nan_count": 0,
                    "min": "0.5447342357213601",
                    "max": "0.7135298563869993",
                    "histogram": [
                      {
                        "bin_start": 0.5447342357213601,
                        "bin_end": 0.5616137977879241,
                        "count": 1
                      },
                      {
                        "bin_start": 0.5616137977879241,
                        "bin_end": 0.578493359854488,
                        "count": 1
                      },
                      {
                        "bin_start": 0.578493359854488,
                        "bin_end": 0.5953729219210518,
                        "count": 0
                      },
                      {
                        "bin_start": 0.5953729219210518,
                        "bin_end": 0.6122524839876158,
                        "count": 0
                      },
                      {
                        "bin_start": 0.6122524839876158,
                        "bin_end": 0.6291320460541797,
                        "count": 0
                      },
                      {
                        "bin_start": 0.6291320460541797,
                        "bin_end": 0.6460116081207437,
                        "count": 0
                      },
                      {
                        "bin_start": 0.6460116081207437,
                        "bin_end": 0.6628911701873076,
                        "count": 1
                      },
                      {
                        "bin_start": 0.6628911701873076,
                        "bin_end": 0.6797707322538715,
                        "count": 0
                      },
                      {
                        "bin_start": 0.6797707322538715,
                        "bin_end": 0.6966502943204353,
                        "count": 0
                      },
                      {
                        "bin_start": 0.6966502943204353,
                        "bin_end": 0.7135298563869993,
                        "count": 2
                      }
                    ]
                  }
                },
                {
                  "name": "test_accuracy",
                  "dtype": "float64",
                  "stats": {
                    "unique_count": 5,
                    "nan_count": 0,
                    "min": "0.5361930294906166",
                    "max": "0.7962962962962963",
                    "histogram": [
                      {
                        "bin_start": 0.5361930294906166,
                        "bin_end": 0.5622033561711846,
                        "count": 2
                      },
                      {
                        "bin_start": 0.5622033561711846,
                        "bin_end": 0.5882136828517526,
                        "count": 0
                      },
                      {
                        "bin_start": 0.5882136828517526,
                        "bin_end": 0.6142240095323206,
                        "count": 0
                      },
                      {
                        "bin_start": 0.6142240095323206,
                        "bin_end": 0.6402343362128885,
                        "count": 0
                      },
                      {
                        "bin_start": 0.6402343362128885,
                        "bin_end": 0.6662446628934564,
                        "count": 0
                      },
                      {
                        "bin_start": 0.6662446628934564,
                        "bin_end": 0.6922549895740244,
                        "count": 1
                      },
                      {
                        "bin_start": 0.6922549895740244,
                        "bin_end": 0.7182653162545924,
                        "count": 1
                      },
                      {
                        "bin_start": 0.7182653162545924,
                        "bin_end": 0.7442756429351604,
                        "count": 0
                      },
                      {
                        "bin_start": 0.7442756429351604,
                        "bin_end": 0.7702859696157283,
                        "count": 0
                      },
                      {
                        "bin_start": 0.7702859696157283,
                        "bin_end": 0.7962962962962963,
                        "count": 1
                      }
                    ]
                  }
                },
                {
                  "name": "Test_AUC",
                  "dtype": "float64",
                  "stats": {
                    "unique_count": 5,
                    "nan_count": 0,
                    "min": "0.5263053480021024",
                    "max": "0.6206248531829925",
                    "histogram": [
                      {
                        "bin_start": 0.5263053480021024,
                        "bin_end": 0.5357372985201914,
                        "count": 2
                      },
                      {
                        "bin_start": 0.5357372985201914,
                        "bin_end": 0.5451692490382805,
                        "count": 0
                      },
                      {
                        "bin_start": 0.5451692490382805,
                        "bin_end": 0.5546011995563694,
                        "count": 2
                      },
                      {
                        "bin_start": 0.5546011995563694,
                        "bin_end": 0.5640331500744584,
                        "count": 0
                      },
                      {
                        "bin_start": 0.5640331500744584,
                        "bin_end": 0.5734651005925475,
                        "count": 0
                      },
                      {
                        "bin_start": 0.5734651005925475,
                        "bin_end": 0.5828970511106365,
                        "count": 0
                      },
                      {
                        "bin_start": 0.5828970511106365,
                        "bin_end": 0.5923290016287255,
                        "count": 0
                      },
                      {
                        "bin_start": 0.5923290016287255,
                        "bin_end": 0.6017609521468145,
                        "count": 0
                      },
                      {
                        "bin_start": 0.6017609521468145,
                        "bin_end": 0.6111929026649036,
                        "count": 0
                      },
                      {
                        "bin_start": 0.6111929026649036,
                        "bin_end": 0.6206248531829925,
                        "count": 1
                      }
                    ]
                  }
                },
                {
                  "name": "expec sales",
                  "dtype": "int64",
                  "stats": {
                    "unique_count": 5,
                    "nan_count": 0,
                    "min": "47",
                    "max": "1932",
                    "histogram": [
                      {
                        "bin_start": 47,
                        "bin_end": 235.5,
                        "count": 2
                      },
                      {
                        "bin_start": 235.5,
                        "bin_end": 424,
                        "count": 0
                      },
                      {
                        "bin_start": 424,
                        "bin_end": 612.5,
                        "count": 0
                      },
                      {
                        "bin_start": 612.5,
                        "bin_end": 801,
                        "count": 0
                      },
                      {
                        "bin_start": 801,
                        "bin_end": 989.5,
                        "count": 0
                      },
                      {
                        "bin_start": 989.5,
                        "bin_end": 1178,
                        "count": 0
                      },
                      {
                        "bin_start": 1178,
                        "bin_end": 1366.5,
                        "count": 1
                      },
                      {
                        "bin_start": 1366.5,
                        "bin_end": 1555,
                        "count": 0
                      },
                      {
                        "bin_start": 1555,
                        "bin_end": 1743.5,
                        "count": 0
                      },
                      {
                        "bin_start": 1743.5,
                        "bin_end": 1932,
                        "count": 2
                      }
                    ]
                  }
                },
                {
                  "name": "actual sales",
                  "dtype": "int64",
                  "stats": {
                    "unique_count": 5,
                    "nan_count": 0,
                    "min": "33",
                    "max": "1911",
                    "histogram": [
                      {
                        "bin_start": 33,
                        "bin_end": 220.8,
                        "count": 2
                      },
                      {
                        "bin_start": 220.8,
                        "bin_end": 408.6,
                        "count": 0
                      },
                      {
                        "bin_start": 408.6,
                        "bin_end": 596.4000000000001,
                        "count": 0
                      },
                      {
                        "bin_start": 596.4000000000001,
                        "bin_end": 784.2,
                        "count": 0
                      },
                      {
                        "bin_start": 784.2,
                        "bin_end": 972,
                        "count": 0
                      },
                      {
                        "bin_start": 972,
                        "bin_end": 1159.8000000000002,
                        "count": 0
                      },
                      {
                        "bin_start": 1159.8000000000002,
                        "bin_end": 1347.6000000000001,
                        "count": 1
                      },
                      {
                        "bin_start": 1347.6000000000001,
                        "bin_end": 1535.4,
                        "count": 0
                      },
                      {
                        "bin_start": 1535.4,
                        "bin_end": 1723.2,
                        "count": 0
                      },
                      {
                        "bin_start": 1723.2,
                        "bin_end": 1911,
                        "count": 2
                      }
                    ]
                  }
                },
                {
                  "name": "_deepnote_index_column",
                  "dtype": "object"
                }
              ],
              "rows_top": [
                {
                  "train_accuracy": 0.5447342357213601,
                  "test_accuracy": 0.5361930294906166,
                  "Test_AUC": 0.5458638013553345,
                  "expec sales": 1778,
                  "actual sales": 1783,
                  "_deepnote_index_column": "cluster 0"
                },
                {
                  "train_accuracy": 0.6591648590021691,
                  "test_accuracy": 0.6732727773190201,
                  "Test_AUC": 0.5263053480021024,
                  "expec sales": 1241,
                  "actual sales": 1187,
                  "_deepnote_index_column": "cluster 1"
                },
                {
                  "train_accuracy": 0.7055214723926381,
                  "test_accuracy": 0.7962962962962963,
                  "Test_AUC": 0.6206248531829925,
                  "expec sales": 47,
                  "actual sales": 33,
                  "_deepnote_index_column": "cluster 2"
                },
                {
                  "train_accuracy": 0.5641400838942542,
                  "test_accuracy": 0.5603089720736779,
                  "Test_AUC": 0.5472719410851069,
                  "expec sales": 1932,
                  "actual sales": 1911,
                  "_deepnote_index_column": "cluster 3"
                },
                {
                  "train_accuracy": 0.7135298563869993,
                  "test_accuracy": 0.7029096477794793,
                  "Test_AUC": 0.5283449003885633,
                  "expec sales": 187,
                  "actual sales": 194,
                  "_deepnote_index_column": "cluster 4"
                }
              ],
              "rows_bottom": null
            },
            "text/plain": "           train_accuracy  test_accuracy  Test_AUC  expec sales  actual sales\ncluster 0        0.544734       0.536193  0.545864         1778          1783\ncluster 1        0.659165       0.673273  0.526305         1241          1187\ncluster 2        0.705521       0.796296  0.620625           47            33\ncluster 3        0.564140       0.560309  0.547272         1932          1911\ncluster 4        0.713530       0.702910  0.528345          187           194",
            "text/html": "<div>\n<style scoped>\n    .dataframe tbody tr th:only-of-type {\n        vertical-align: middle;\n    }\n\n    .dataframe tbody tr th {\n        vertical-align: top;\n    }\n\n    .dataframe thead th {\n        text-align: right;\n    }\n</style>\n<table border=\"1\" class=\"dataframe\">\n  <thead>\n    <tr style=\"text-align: right;\">\n      <th></th>\n      <th>train_accuracy</th>\n      <th>test_accuracy</th>\n      <th>Test_AUC</th>\n      <th>expec sales</th>\n      <th>actual sales</th>\n    </tr>\n  </thead>\n  <tbody>\n    <tr>\n      <th>cluster 0</th>\n      <td>0.544734</td>\n      <td>0.536193</td>\n      <td>0.545864</td>\n      <td>1778</td>\n      <td>1783</td>\n    </tr>\n    <tr>\n      <th>cluster 1</th>\n      <td>0.659165</td>\n      <td>0.673273</td>\n      <td>0.526305</td>\n      <td>1241</td>\n      <td>1187</td>\n    </tr>\n    <tr>\n      <th>cluster 2</th>\n      <td>0.705521</td>\n      <td>0.796296</td>\n      <td>0.620625</td>\n      <td>47</td>\n      <td>33</td>\n    </tr>\n    <tr>\n      <th>cluster 3</th>\n      <td>0.564140</td>\n      <td>0.560309</td>\n      <td>0.547272</td>\n      <td>1932</td>\n      <td>1911</td>\n    </tr>\n    <tr>\n      <th>cluster 4</th>\n      <td>0.713530</td>\n      <td>0.702910</td>\n      <td>0.528345</td>\n      <td>187</td>\n      <td>194</td>\n    </tr>\n  </tbody>\n</table>\n</div>"
          },
          "metadata": {}
        }
      ]
    },
    {
      "cell_type": "code",
      "metadata": {
        "deepnote_to_be_reexecuted": false,
        "execution_millis": 22,
        "source_hash": "efc44edf",
        "tags": [],
        "cell_id": "00015-31164a25-7965-405e-86a7-80e32b688b88",
        "execution_start": 1619454471292,
        "deepnote_cell_type": "code"
      },
      "source": "auc_agg = roc_auc_score(test, pred)\n\nprint('Marketwide Demand Prediction')\nprint(\"Number of Homes: {}\".format(len(Y[:,1])))\nprint(\"Training Accuracy: {:.4f}%\".format(train_acc_agg*100/train_size))\nprint(\"Testing Accuracy: {:.4f}%\".format(test_acc_agg*100/test_size))\nprint(\"AUC: {:.6f}\".format(auc_agg))\nprint(f'number of homes predicted sold {test_expsales_agg}')\nprint(f'number of homes actually sold {test_sales_agg}')",
      "execution_count": 30,
      "outputs": [
        {
          "name": "stdout",
          "text": "Marketwide Demand Prediction\nNumber of Homes: 42336\nTraining Accuracy: 62.8530%\nTesting Accuracy: 63.4581%\nAUC: 0.559084\nnumber of homes predicted sold 5185\nnumber of homes actually sold 5108\n",
          "output_type": "stream"
        }
      ]
    },
    {
      "cell_type": "markdown",
      "source": "# Neural network on kmeans",
      "metadata": {
        "tags": [],
        "cell_id": "00017-f567a16a-f43e-47da-8350-729cc2dea32c",
        "deepnote_cell_type": "markdown"
      }
    },
    {
      "cell_type": "code",
      "metadata": {
        "tags": [],
        "deepnote_to_be_reexecuted": false,
        "source_hash": "57e57084",
        "execution_millis": 146337,
        "execution_start": 1617153672706,
        "cell_id": "00018-9e8441a3-ce92-4897-946c-41fbb369a2ec",
        "deepnote_cell_type": "code"
      },
      "source": "device = torch.device('cuda') if torch.cuda.is_available() else torch.device('cpu') \n\n\nresults_dict_nn = {}\n\ntrain_acc_agg_nn = 0\ntrain_size_nn = 0\ntest_acc_agg_nn = 0\ntest_size_nn = 0\n\ntest_nn = np.array([])\npred_nn = np.array([])\n\nfor i in range(5):\n    print(f'For cluster {i}')\n    X_train = train_test_dict[f'cluster {i}'][0]\n    X_test = train_test_dict[f'cluster {i}'][1]\n    y_train = train_test_dict[f'cluster {i}'][2]\n    y_test = train_test_dict[f'cluster {i}'][3]\n    \n    X_train = torch.tensor(X_train.astype(float).values, dtype=torch.float64).to(device)\n    y_train = torch.tensor(y_train[:,1], dtype=torch.int64).to(device)\n    y_train = torch.nn.functional.one_hot(y_train)\n    #fit the logistic regression to each cluster\n    net = BaselineNet(X_train.shape[1], y_train.shape[1], epochs=5000, debug=False).to(device)\n    net.feed(X_train, y_train)\n    \n    #the below code is used in order to create a df containing a breakdown of metrics\n    #on a per cluster basis\n    with torch.no_grad():\n      net.eval()\n      X_test = torch.tensor(X_test.astype(float).values, dtype=torch.float64).to(device)\n      y_test = torch.tensor(y_test[:,1], dtype=torch.int64).to(device)\n      y_test = torch.nn.functional.one_hot(y_test)\n\n      y_pred = net.forward(X_test.float()) \n      labels = torch.max(y_test, 1)[1]\n      correct = 0\n      total = y_pred.shape[0]\n      _, predicted = torch.max(y_pred.data, 1)\n      correct += (predicted == labels).sum()\n      accuracy = 100 * correct/total\n      print('Accuracy: {}'.format(accuracy))\n    print('=======')\n    \n    y_test = y_test.cpu()\n    AUC_score = roc_auc_score(y_test.cpu(), predicted.cpu().reshape(-1,1))\n\n    results_dict_nn[f'cluster {i}'] = [train_accuracy, test_accuracy, AUC_score]\n    \n    #the below code is used to find the weighted average\n    test_nn = np.append(test_nn,y_test[:,1])\n    pred_nn = np.append(pred_nn, predicted.cpu())\n    train_size_nn += len(y_train)\n    train_acc_agg_nn += train_accuracy * len(y_train)\n    test_size_nn += len(y_test)\n    test_acc_agg_nn += test_accuracy * len(y_test)\n\nresults_df_nn = pd.DataFrame.from_dict(results_dict_nn, orient='index')",
      "execution_count": null,
      "outputs": [
        {
          "name": "stdout",
          "text": "For cluster 0\nAccuracy: 66.51531982421875\n=======\nFor cluster 1\nAccuracy: 81.39534759521484\n=======\nFor cluster 2\nAccuracy: 66.7741928100586\n=======\nFor cluster 3\nAccuracy: 75.59632873535156\n=======\nFor cluster 4\nAccuracy: 73.64865112304688\n=======\n",
          "output_type": "stream"
        }
      ]
    },
    {
      "cell_type": "code",
      "metadata": {
        "tags": [],
        "deepnote_to_be_reexecuted": false,
        "source_hash": "87deb2ea",
        "execution_start": 1617153819058,
        "execution_millis": 30,
        "cell_id": "00019-d9e81a23-0502-4596-96be-01052f986cc1",
        "deepnote_cell_type": "code"
      },
      "source": "results_df_nn = results_df.rename(columns = {0:'train_accuracy', 1:'test_accuracy', 2:'Test_AUC'})\nresults_df_nn",
      "execution_count": null,
      "outputs": [
        {
          "output_type": "execute_result",
          "execution_count": 16,
          "data": {
            "application/vnd.deepnote.dataframe.v2+json": {
              "row_count": 5,
              "column_count": 3,
              "columns": [
                {
                  "name": "train_accuracy",
                  "dtype": "float64",
                  "stats": {
                    "unique_count": 5,
                    "nan_count": 0,
                    "min": 0.6657334826427772,
                    "max": 0.8362068965517241,
                    "histogram": [
                      {
                        "bin_start": 0.6657334826427772,
                        "bin_end": 0.6827808240336719,
                        "count": 1
                      },
                      {
                        "bin_start": 0.6827808240336719,
                        "bin_end": 0.6998281654245666,
                        "count": 0
                      },
                      {
                        "bin_start": 0.6998281654245666,
                        "bin_end": 0.7168755068154613,
                        "count": 0
                      },
                      {
                        "bin_start": 0.7168755068154613,
                        "bin_end": 0.733922848206356,
                        "count": 1
                      },
                      {
                        "bin_start": 0.733922848206356,
                        "bin_end": 0.7509701895972507,
                        "count": 1
                      },
                      {
                        "bin_start": 0.7509701895972507,
                        "bin_end": 0.7680175309881454,
                        "count": 0
                      },
                      {
                        "bin_start": 0.7680175309881454,
                        "bin_end": 0.78506487237904,
                        "count": 1
                      },
                      {
                        "bin_start": 0.78506487237904,
                        "bin_end": 0.8021122137699347,
                        "count": 0
                      },
                      {
                        "bin_start": 0.8021122137699347,
                        "bin_end": 0.8191595551608294,
                        "count": 0
                      },
                      {
                        "bin_start": 0.8191595551608294,
                        "bin_end": 0.8362068965517241,
                        "count": 1
                      }
                    ]
                  }
                },
                {
                  "name": "test_accuracy",
                  "dtype": "float64",
                  "stats": {
                    "unique_count": 5,
                    "nan_count": 0,
                    "min": 0.6580645161290323,
                    "max": 0.8313953488372093,
                    "histogram": [
                      {
                        "bin_start": 0.6580645161290323,
                        "bin_end": 0.67539759939985,
                        "count": 1
                      },
                      {
                        "bin_start": 0.67539759939985,
                        "bin_end": 0.6927306826706677,
                        "count": 1
                      },
                      {
                        "bin_start": 0.6927306826706677,
                        "bin_end": 0.7100637659414853,
                        "count": 0
                      },
                      {
                        "bin_start": 0.7100637659414853,
                        "bin_end": 0.7273968492123031,
                        "count": 0
                      },
                      {
                        "bin_start": 0.7273968492123031,
                        "bin_end": 0.7447299324831208,
                        "count": 1
                      },
                      {
                        "bin_start": 0.7447299324831208,
                        "bin_end": 0.7620630157539385,
                        "count": 0
                      },
                      {
                        "bin_start": 0.7620630157539385,
                        "bin_end": 0.7793960990247563,
                        "count": 1
                      },
                      {
                        "bin_start": 0.7793960990247563,
                        "bin_end": 0.796729182295574,
                        "count": 0
                      },
                      {
                        "bin_start": 0.796729182295574,
                        "bin_end": 0.8140622655663916,
                        "count": 0
                      },
                      {
                        "bin_start": 0.8140622655663916,
                        "bin_end": 0.8313953488372093,
                        "count": 1
                      }
                    ]
                  }
                },
                {
                  "name": "Test_AUC",
                  "dtype": "float64",
                  "stats": {
                    "unique_count": 5,
                    "nan_count": 0,
                    "min": 0.5046728971962616,
                    "max": 0.5950892857142858,
                    "histogram": [
                      {
                        "bin_start": 0.5046728971962616,
                        "bin_end": 0.513714536048064,
                        "count": 1
                      },
                      {
                        "bin_start": 0.513714536048064,
                        "bin_end": 0.5227561748998665,
                        "count": 0
                      },
                      {
                        "bin_start": 0.5227561748998665,
                        "bin_end": 0.5317978137516689,
                        "count": 1
                      },
                      {
                        "bin_start": 0.5317978137516689,
                        "bin_end": 0.5408394526034713,
                        "count": 0
                      },
                      {
                        "bin_start": 0.5408394526034713,
                        "bin_end": 0.5498810914552736,
                        "count": 0
                      },
                      {
                        "bin_start": 0.5498810914552736,
                        "bin_end": 0.5589227303070761,
                        "count": 0
                      },
                      {
                        "bin_start": 0.5589227303070761,
                        "bin_end": 0.5679643691588785,
                        "count": 0
                      },
                      {
                        "bin_start": 0.5679643691588785,
                        "bin_end": 0.5770060080106809,
                        "count": 0
                      },
                      {
                        "bin_start": 0.5770060080106809,
                        "bin_end": 0.5860476468624833,
                        "count": 2
                      },
                      {
                        "bin_start": 0.5860476468624833,
                        "bin_end": 0.5950892857142858,
                        "count": 1
                      }
                    ]
                  }
                },
                {
                  "name": "_deepnote_index_column",
                  "dtype": "object"
                }
              ],
              "rows_top": [
                {
                  "train_accuracy": 0.6657334826427772,
                  "test_accuracy": 0.677639046538025,
                  "Test_AUC": 0.5230427046263345,
                  "_deepnote_index_column": "cluster 0"
                },
                {
                  "train_accuracy": 0.8362068965517241,
                  "test_accuracy": 0.8313953488372093,
                  "Test_AUC": 0.5950892857142858,
                  "_deepnote_index_column": "cluster 1"
                },
                {
                  "train_accuracy": 0.7261146496815286,
                  "test_accuracy": 0.6580645161290323,
                  "Test_AUC": 0.5046728971962616,
                  "_deepnote_index_column": "cluster 2"
                },
                {
                  "train_accuracy": 0.7744565217391305,
                  "test_accuracy": 0.7761467889908257,
                  "Test_AUC": 0.5824980934742348,
                  "_deepnote_index_column": "cluster 3"
                },
                {
                  "train_accuracy": 0.7343880099916736,
                  "test_accuracy": 0.7331081081081081,
                  "Test_AUC": 0.5772897209154745,
                  "_deepnote_index_column": "cluster 4"
                }
              ],
              "rows_bottom": null
            },
            "text/plain": "           train_accuracy  test_accuracy  Test_AUC\ncluster 0        0.665733       0.677639  0.523043\ncluster 1        0.836207       0.831395  0.595089\ncluster 2        0.726115       0.658065  0.504673\ncluster 3        0.774457       0.776147  0.582498\ncluster 4        0.734388       0.733108  0.577290",
            "text/html": "<div>\n<style scoped>\n    .dataframe tbody tr th:only-of-type {\n        vertical-align: middle;\n    }\n\n    .dataframe tbody tr th {\n        vertical-align: top;\n    }\n\n    .dataframe thead th {\n        text-align: right;\n    }\n</style>\n<table border=\"1\" class=\"dataframe\">\n  <thead>\n    <tr style=\"text-align: right;\">\n      <th></th>\n      <th>train_accuracy</th>\n      <th>test_accuracy</th>\n      <th>Test_AUC</th>\n    </tr>\n  </thead>\n  <tbody>\n    <tr>\n      <th>cluster 0</th>\n      <td>0.665733</td>\n      <td>0.677639</td>\n      <td>0.523043</td>\n    </tr>\n    <tr>\n      <th>cluster 1</th>\n      <td>0.836207</td>\n      <td>0.831395</td>\n      <td>0.595089</td>\n    </tr>\n    <tr>\n      <th>cluster 2</th>\n      <td>0.726115</td>\n      <td>0.658065</td>\n      <td>0.504673</td>\n    </tr>\n    <tr>\n      <th>cluster 3</th>\n      <td>0.774457</td>\n      <td>0.776147</td>\n      <td>0.582498</td>\n    </tr>\n    <tr>\n      <th>cluster 4</th>\n      <td>0.734388</td>\n      <td>0.733108</td>\n      <td>0.577290</td>\n    </tr>\n  </tbody>\n</table>\n</div>"
          },
          "metadata": {}
        }
      ]
    },
    {
      "cell_type": "code",
      "metadata": {
        "tags": [],
        "deepnote_to_be_reexecuted": false,
        "source_hash": "50b9c37e",
        "execution_start": 1617153819069,
        "execution_millis": 19,
        "cell_id": "00020-5e66fe8c-dffb-40a4-8bc6-3761469bf4c8",
        "deepnote_cell_type": "code"
      },
      "source": "auc_agg_nn = roc_auc_score(test_nn, pred_nn)\n\nprint('Marketwide Demand Prediction')\nprint(\"Number of Homes: {}\".format(len(Y[:,1])))\nprint(\"Training Accuracy: {:.4f}%\".format(train_acc_agg_nn*100/train_size_nn))\nprint(\"Testing Accuracy: {:.4f}%\".format(test_acc_agg_nn*100/test_size_nn))\nprint(\"AUC: {:.6f}\".format(auc_agg_nn))",
      "execution_count": null,
      "outputs": [
        {
          "name": "stdout",
          "text": "Marketwide Demand Prediction\nNumber of Homes: 7567\nTraining Accuracy: 73.4388%\nTesting Accuracy: 73.3108%\nAUC: 0.579349\n",
          "output_type": "stream"
        }
      ]
    },
    {
      "cell_type": "markdown",
      "source": "<a style='text-decoration:none;line-height:16px;display:flex;color:#5B5B62;padding:10px;justify-content:end;' href='https://deepnote.com?utm_source=created-in-deepnote-cell&projectId=1c850c61-d934-4c85-b16d-3cb283df0c84' target=\"_blank\">\n<img alt='Created in deepnote.com' style='display:inline;max-height:16px;margin:0px;margin-right:7.5px;' src='data:image/svg+xml;base64,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' > </img>\nCreated in <span style='font-weight:600;margin-left:4px;'>Deepnote</span></a>",
      "metadata": {
        "tags": [],
        "created_in_deepnote_cell": true,
        "deepnote_cell_type": "markdown"
      }
    }
  ],
  "nbformat": 4,
  "nbformat_minor": 2,
  "metadata": {
    "deepnote": {},
    "deepnote_execution_queue": [],
    "deepnote_notebook_id": "d05a0dc6-7cd0-4d20-b151-cc27fed54bfc",
    "kernelspec": {
      "display_name": "Python 3",
      "language": "python",
      "name": "python3"
    },
    "language_info": {
      "codemirror_mode": {
        "name": "ipython",
        "version": 3
      },
      "file_extension": ".py",
      "mimetype": "text/x-python",
      "name": "python",
      "nbconvert_exporter": "python",
      "pygments_lexer": "ipython3",
      "version": "3.7.3"
    }
  }
}